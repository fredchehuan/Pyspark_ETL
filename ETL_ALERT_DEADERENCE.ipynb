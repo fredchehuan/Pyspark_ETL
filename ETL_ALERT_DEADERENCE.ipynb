{
 "cells": [
  {
   "cell_type": "code",
   "execution_count": 21,
   "metadata": {},
   "outputs": [
    {
     "data": {
      "application/vnd.jupyter.widget-view+json": {
       "model_id": "3812fd4708454110a64a2aa01388519b",
       "version_major": 2,
       "version_minor": 0
      },
      "text/plain": [
       "VBox()"
      ]
     },
     "metadata": {},
     "output_type": "display_data"
    },
    {
     "data": {
      "application/vnd.jupyter.widget-view+json": {
       "model_id": "",
       "version_major": 2,
       "version_minor": 0
      },
      "text/plain": [
       "FloatProgress(value=0.0, bar_style='info', description='Progress:', layout=Layout(height='25px', width='50%'),…"
      ]
     },
     "metadata": {},
     "output_type": "display_data"
    }
   ],
   "source": [
    "import findspark                                              #Import library to Search for Spark Installation  \n",
    "\n",
    "findspark.init()                                              #Search Spark Installation\n",
    "\n",
    "import pyspark                                                #Only run after findspark.init()\n",
    "\n",
    "from pyspark.sql import SparkSession                          # Import of Spark Session\n",
    "from pyspark import SparkContext as spark                     # Import the Regular Spark Contex \n",
    "from pyspark.sql import SQLContext                            # Import the SQL Spark Contex \n",
    "from pyspark.sql.window import Window\n",
    "from pyspark.sql.functions import *\n",
    "from pyspark.sql.types import *\n",
    "import pyspark.sql.functions as F\n",
    "spark = SparkSession.builder.getOrCreate()\n",
    "import os\n",
    "\n",
    "import pyarrow.parquet as pq                                  #Create Parquet File\n",
    "\n",
    "sc = spark.sparkContext                                       #Initialize Spark \n",
    "\n",
    "spark.conf.set(\"spark.sql.broadcastTimeout\",  36000)\n",
    "#conf = pyspark.SparkConf().setMaster(\"yarn-client\").setAppName(\"sparK-mer\")\n",
    "#conf.set(\"spark.executor.heartbeatInterval\",\"3600s\")"
   ]
  },
  {
   "cell_type": "markdown",
   "metadata": {},
   "source": [
    "-------------"
   ]
  },
  {
   "cell_type": "markdown",
   "metadata": {},
   "source": [
    "# Creating Variables"
   ]
  },
  {
   "cell_type": "markdown",
   "metadata": {},
   "source": [
    "## Buckets"
   ]
  },
  {
   "cell_type": "code",
   "execution_count": null,
   "metadata": {},
   "outputs": [],
   "source": [
    "SPG_INTEGRATION_INPUT_BUCKET = os.environ['INTEGRATION_INPUT_BUCKET']"
   ]
  },
  {
   "cell_type": "code",
   "execution_count": null,
   "metadata": {},
   "outputs": [],
   "source": [
    "SPG_OUTPUT_BUCKET = os.environ['OUTPUT_BUCKET']"
   ]
  },
  {
   "cell_type": "markdown",
   "metadata": {},
   "source": [
    "## Input Paths"
   ]
  },
  {
   "cell_type": "code",
   "execution_count": null,
   "metadata": {},
   "outputs": [],
   "source": [
    "# SPG Regions\n",
    "SPG_INTEGRATION_INPUT_BUCKET_REGION = \"SPG_DIMENSIONS/SPG_REGIOES/SPG_RG_REGIOES/SPG_RG_REGIOES.parquet\""
   ]
  },
  {
   "cell_type": "code",
   "execution_count": null,
   "metadata": {},
   "outputs": [],
   "source": [
    "# SPG Hana\n",
    "SPG_INTEGRATION_INPUT_BUCKET_HANA = \"SPG_FACTS/SPG_HANA/SPG_HANA.parquet\""
   ]
  },
  {
   "cell_type": "markdown",
   "metadata": {},
   "source": [
    "## Output Paths"
   ]
  },
  {
   "cell_type": "code",
   "execution_count": null,
   "metadata": {},
   "outputs": [],
   "source": [
    "SPG_OUTPUT_BUCKET_ALERT = \"SPG_ALERT_DESAD/tb_SPG_AD_DESADERENCIA.parquet\""
   ]
  },
  {
   "cell_type": "markdown",
   "metadata": {},
   "source": [
    "------------"
   ]
  },
  {
   "cell_type": "markdown",
   "metadata": {},
   "source": [
    "# Importing Tables"
   ]
  },
  {
   "cell_type": "code",
   "execution_count": 22,
   "metadata": {},
   "outputs": [
    {
     "data": {
      "application/vnd.jupyter.widget-view+json": {
       "model_id": "feaef6e90d724908a93b0bc3fc3f743a",
       "version_major": 2,
       "version_minor": 0
      },
      "text/plain": [
       "VBox()"
      ]
     },
     "metadata": {},
     "output_type": "display_data"
    },
    {
     "data": {
      "application/vnd.jupyter.widget-view+json": {
       "model_id": "",
       "version_major": 2,
       "version_minor": 0
      },
      "text/plain": [
       "FloatProgress(value=0.0, bar_style='info', description='Progress:', layout=Layout(height='25px', width='50%'),…"
      ]
     },
     "metadata": {},
     "output_type": "display_data"
    }
   ],
   "source": [
    "# Reading parquet file from the SandBox Data Lake\n",
    "df_hana = spark.read.parquet(\"s3a://\"+SPG_INTEGRATION_INPUT_BUCKET+\"/\"+SPG_INTEGRATION_INPUT_BUCKET_HANA)   #Billing Hana "
   ]
  },
  {
   "cell_type": "code",
   "execution_count": 23,
   "metadata": {},
   "outputs": [
    {
     "data": {
      "application/vnd.jupyter.widget-view+json": {
       "model_id": "818f907db28f4c00aee4f072546fd7fe",
       "version_major": 2,
       "version_minor": 0
      },
      "text/plain": [
       "VBox()"
      ]
     },
     "metadata": {},
     "output_type": "display_data"
    },
    {
     "data": {
      "application/vnd.jupyter.widget-view+json": {
       "model_id": "",
       "version_major": 2,
       "version_minor": 0
      },
      "text/plain": [
       "FloatProgress(value=0.0, bar_style='info', description='Progress:', layout=Layout(height='25px', width='50%'),…"
      ]
     },
     "metadata": {},
     "output_type": "display_data"
    }
   ],
   "source": [
    "# SPG Regions\n",
    "df_region = spark.read.parquet(\"s3a://\"+SPG_INTEGRATION_INPUT_BUCKET+\"/\"+SPG_INTEGRATION_INPUT_BUCKET_REGION)"
   ]
  },
  {
   "cell_type": "markdown",
   "metadata": {},
   "source": [
    "----------"
   ]
  },
  {
   "cell_type": "markdown",
   "metadata": {},
   "source": [
    "# Preparing Table"
   ]
  },
  {
   "cell_type": "code",
   "execution_count": 24,
   "metadata": {},
   "outputs": [
    {
     "data": {
      "application/vnd.jupyter.widget-view+json": {
       "model_id": "ef2bd7d653eb4a5a8041e35d255b0a4e",
       "version_major": 2,
       "version_minor": 0
      },
      "text/plain": [
       "VBox()"
      ]
     },
     "metadata": {},
     "output_type": "display_data"
    },
    {
     "data": {
      "application/vnd.jupyter.widget-view+json": {
       "model_id": "",
       "version_major": 2,
       "version_minor": 0
      },
      "text/plain": [
       "FloatProgress(value=0.0, bar_style='info', description='Progress:', layout=Layout(height='25px', width='50%'),…"
      ]
     },
     "metadata": {},
     "output_type": "display_data"
    }
   ],
   "source": [
    "# Filter the Sales Organizations within Smart Pricing scope\n",
    "df_hana=df_hana.filter(df_hana.SalesOrg.like('%BRIN%') |\n",
    "                       df_hana.SalesOrg.like('%BRIO%') |\n",
    "                       df_hana.SalesOrg.like('%BRDI%') |\n",
    "                       df_hana.SalesOrg.like('%BRDO%') |\n",
    "                       df_hana.SalesOrg.like('%BRCC%') |\n",
    "                       df_hana.SalesOrg.like('%BRCO%') |\n",
    "                       df_hana.SalesOrg.like('%BRCG%') |\n",
    "                       df_hana.SalesOrg.like('%BRGO%'))\\\n",
    "                .filter(df_hana.BillingType.like('%ZF2B%'))"
   ]
  },
  {
   "cell_type": "code",
   "execution_count": 25,
   "metadata": {},
   "outputs": [
    {
     "data": {
      "application/vnd.jupyter.widget-view+json": {
       "model_id": "04eb90efcd6048419c5a2ef496dcf018",
       "version_major": 2,
       "version_minor": 0
      },
      "text/plain": [
       "VBox()"
      ]
     },
     "metadata": {},
     "output_type": "display_data"
    },
    {
     "data": {
      "application/vnd.jupyter.widget-view+json": {
       "model_id": "",
       "version_major": 2,
       "version_minor": 0
      },
      "text/plain": [
       "FloatProgress(value=0.0, bar_style='info', description='Progress:', layout=Layout(height='25px', width='50%'),…"
      ]
     },
     "metadata": {},
     "output_type": "display_data"
    }
   ],
   "source": [
    "df_hana = df_hana.withColumn(col_name, col(col_name).cast('float'))"
   ]
  },
  {
   "cell_type": "code",
   "execution_count": 26,
   "metadata": {},
   "outputs": [
    {
     "data": {
      "application/vnd.jupyter.widget-view+json": {
       "model_id": "8956f64aac8b451e9d6d957e12b7b034",
       "version_major": 2,
       "version_minor": 0
      },
      "text/plain": [
       "VBox()"
      ]
     },
     "metadata": {},
     "output_type": "display_data"
    },
    {
     "data": {
      "application/vnd.jupyter.widget-view+json": {
       "model_id": "",
       "version_major": 2,
       "version_minor": 0
      },
      "text/plain": [
       "FloatProgress(value=0.0, bar_style='info', description='Progress:', layout=Layout(height='25px', width='50%'),…"
      ]
     },
     "metadata": {},
     "output_type": "display_data"
    }
   ],
   "source": [
    "df_hana=df_hana.filter(df_hana.MA_BillingQuantity_P > 0)"
   ]
  },
  {
   "cell_type": "code",
   "execution_count": 27,
   "metadata": {},
   "outputs": [
    {
     "data": {
      "application/vnd.jupyter.widget-view+json": {
       "model_id": "ed8d922f5c7840bdb1490075542c01cc",
       "version_major": 2,
       "version_minor": 0
      },
      "text/plain": [
       "VBox()"
      ]
     },
     "metadata": {},
     "output_type": "display_data"
    },
    {
     "data": {
      "application/vnd.jupyter.widget-view+json": {
       "model_id": "",
       "version_major": 2,
       "version_minor": 0
      },
      "text/plain": [
       "FloatProgress(value=0.0, bar_style='info', description='Progress:', layout=Layout(height='25px', width='50%'),…"
      ]
     },
     "metadata": {},
     "output_type": "display_data"
    }
   ],
   "source": [
    "#Rename columns imported from hana\n",
    "df_hana=df_hana.withColumnRenamed(\"SalesOrg\", \"SALES_ORG_COD\")\\\n",
    "               .withColumnRenamed(\"MA_CM_PRECOLISTA_D\", \"LIST_PRICE\")\\\n",
    "               .withColumnRenamed(\"DP_CM_PRECOPRATICADO_D\", \"PRACTICED_PRICE\")\\\n",
    "               .withColumnRenamed(\"IM_CM_CD_ICMS_D\", \"ICMS\")\\\n",
    "               .withColumnRenamed(\"DA_CM_CD_ZD01_D\", \"ZD01\")\\\n",
    "               .withColumnRenamed(\"DA_CM_CD_ZD02_D\", \"ZD02\")\\\n",
    "               .withColumnRenamed(\"DA_CM_CD_ZD03_D\", \"ZD03\")\\\n",
    "               .withColumnRenamed(\"DA_CM_CD_ZD04_D\", \"ZD04\")\\\n",
    "               .withColumnRenamed(\"DA_CM_CD_ZD05_D\", \"ZD05\")\\\n",
    "               .withColumnRenamed(\"DA_CM_CD_ZD06_D\", \"ZD06\")\\\n",
    "               .withColumnRenamed(\"AA_CM_CD_ZEB1_D\", \"ZEB1\")\\\n",
    "               .withColumnRenamed(\"AA_CM_CD_ZEB2_D\", \"ZEB2\")\\\n",
    "               .withColumnRenamed(\"AA_CM_CD_ZEAF_D\", \"ZEAF\")\\\n",
    "               .withColumnRenamed(\"DM_CM_CD_ZD13_D\", \"ZD13\")\\\n",
    "               .withColumnRenamed(\"DM_CM_CD_ZD14_D\", \"ZD14\")\\\n",
    "               .withColumnRenamed(\"DM_CM_CD_ZP30_D\", \"ZP30\")\\\n",
    "               .withColumnRenamed(\"AM_CM_CD_ZSU2_D\", \"ZSU2\")\\\n",
    "               .withColumnRenamed(\"MA_CM_CD_ZP20_D\", \"ZP20\")\\\n",
    "               .withColumnRenamed(\"MA_CM_CD_BX41_D\", \"BX41\")"
   ]
  },
  {
   "cell_type": "code",
   "execution_count": 28,
   "metadata": {},
   "outputs": [
    {
     "data": {
      "application/vnd.jupyter.widget-view+json": {
       "model_id": "7875b5c3387241c394af11efc714ec14",
       "version_major": 2,
       "version_minor": 0
      },
      "text/plain": [
       "VBox()"
      ]
     },
     "metadata": {},
     "output_type": "display_data"
    },
    {
     "data": {
      "application/vnd.jupyter.widget-view+json": {
       "model_id": "",
       "version_major": 2,
       "version_minor": 0
      },
      "text/plain": [
       "FloatProgress(value=0.0, bar_style='info', description='Progress:', layout=Layout(height='25px', width='50%'),…"
      ]
     },
     "metadata": {},
     "output_type": "display_data"
    }
   ],
   "source": [
    "# Correcting \"Ouro Branco\" Sales Org \n",
    "    # BRIO -> BRIN\n",
    "    # BRCO -> BRCC\n",
    "    # BRDO -> BRDI\n",
    "    # BRGO -> BRCG\n",
    "df_hana=df_hana.withColumn(\"SALES_ORG_COD\", when(df_hana.SALES_ORG_COD.like(\"BRCO\"), \"BRCC\")\\\n",
    "                                              .otherwise(when(df_hana.SALES_ORG_COD.like(\"BRGO\"), \"BRCG\")\\\n",
    "                                                        .otherwise(when(df_hana.SALES_ORG_COD.like(\"BRIO\"), \"BRIN\")\\\n",
    "                                                                  .otherwise(when(df_hana.SALES_ORG_COD.like(\"BRDO\"), \"BRDI\")\n",
    "                                                                            .otherwise(df_hana.SALES_ORG_COD)))))\\"
   ]
  },
  {
   "cell_type": "code",
   "execution_count": 29,
   "metadata": {},
   "outputs": [
    {
     "data": {
      "application/vnd.jupyter.widget-view+json": {
       "model_id": "cf1ce4e908954116ac81c57cd9be6585",
       "version_major": 2,
       "version_minor": 0
      },
      "text/plain": [
       "VBox()"
      ]
     },
     "metadata": {},
     "output_type": "display_data"
    },
    {
     "data": {
      "application/vnd.jupyter.widget-view+json": {
       "model_id": "",
       "version_major": 2,
       "version_minor": 0
      },
      "text/plain": [
       "FloatProgress(value=0.0, bar_style='info', description='Progress:', layout=Layout(height='25px', width='50%'),…"
      ]
     },
     "metadata": {},
     "output_type": "display_data"
    }
   ],
   "source": [
    "# Filter the GPD within Smart Pricing scope\n",
    "df_hana = df_hana.filter(df_hana.GPDName.like('%BR-PERFIS ESTRUTURAIS%') |\n",
    "df_hana.GPDName.like('%BR-CA50%') |\n",
    "df_hana.GPDName.like('%BR-CA60%') |\n",
    "df_hana.GPDName.like('%BR-RECOZIDO%') |\n",
    "df_hana.GPDName.like('%BR-TEL TUBO%') |\n",
    "df_hana.GPDName.like('%BR-TELA P/ CONCRETO%') |\n",
    "df_hana.GPDName.like('%BR-CORTE E DOBR%') |\n",
    "df_hana.GPDName.like('%BR-CONSTRUCAO CIVIL%') |\n",
    "df_hana.GPDName.like('%BR-CA25%') |\n",
    "df_hana.GPDName.like('%BR-PERFIS COMERCIAIS%') |\n",
    "df_hana.GPDName.like('%BR-BTG%') |\n",
    "df_hana.GPDName.like('%BR-MALHA POP%') |\n",
    "df_hana.GPDName.like('%BR-TELA COLUNA%') |\n",
    "df_hana.GPDName.like('%BR-TRELIÇA%') |\n",
    "df_hana.GPDName.like('%BR-B.TREFILADA%') |\n",
    "df_hana.GPDName.like('%BR-OVALADO%') |\n",
    "df_hana.GPDName.like('%BR-GALVANIZADO%') |\n",
    "df_hana.GPDName.like('%BR-BARRAS COMERCIAIS%') |\n",
    "df_hana.GPDName.like('%BR-CAIXOTARIA%') |\n",
    "df_hana.GPDName.like('%BR-ARTEFATOS%') |\n",
    "df_hana.GPDName.like('%BR-FARPADO%') |\n",
    "df_hana.GPDName.like('%BR-ELETRODO%') |\n",
    "df_hana.GPDName.like('%BR-SOLDA - MIG%') |\n",
    "df_hana.GPDName.like('%BR-CANTON A572%') |\n",
    "df_hana.GPDName.like('%BR-GGS%') |\n",
    "df_hana.GPDName.like('%BR-ARMADO%') |\n",
    "df_hana.GPDName.like('%BR-CORDOALHA%') |\n",
    "df_hana.GPDName.like('%BR-ESTACA PRANCHA%') |\n",
    "df_hana.GPDName.like('%BR-ARAME PREGO%') |\n",
    "df_hana.GPDName.like('%BR-CABEÇA DUPLA%') |\n",
    "df_hana.GPDName.like('%BR-CORDOALHA AGRO%') |\n",
    "df_hana.GPDName.like('%BR-GRAMPO%') |\n",
    "df_hana.GPDName.like('%BR-COBREADOS%') |\n",
    "df_hana.GPDName.like('%BR-CHAPA LQ%') |\n",
    "df_hana.GPDName.like('%BR-UDC%') |\n",
    "df_hana.GPDName.like('%BR-CHAPA ZN%') |\n",
    "df_hana.GPDName.like('%BR-TELHA AZ%') |\n",
    "df_hana.GPDName.like('%BR-TUBO ZN%') |\n",
    "df_hana.GPDName.like('%BR-MARCENARIA%') |\n",
    "df_hana.GPDName.like('%BR-PREGOES%') |\n",
    "df_hana.GPDName.like('%BR-TELHEIRO%') |\n",
    "df_hana.GPDName.like('%BR-COLUNA%') |\n",
    "df_hana.GPDName.like('%BR-ESTRIBO%') |\n",
    "df_hana.GPDName.like('%BR-ACESSORIOS%') |\n",
    "df_hana.GPDName.like('%BR-CHAPA LCG%') |\n",
    "df_hana.GPDName.like('%BR-CHAPA LF%') |\n",
    "df_hana.GPDName.like('%BR-TUBO LF%') |\n",
    "df_hana.GPDName.like('%BR-CHAPA LQ PISO%') |\n",
    "df_hana.GPDName.like('%BR-BOBININHA%') |\n",
    "df_hana.GPDName.like('%BR-ESPECIAIS%') |\n",
    "df_hana.GPDName.like('%BR-BOBINA LQ%') |\n",
    "df_hana.GPDName.like('%BR-FITA LQ%') |\n",
    "df_hana.GPDName.like('%BR-BOBINA AZ%') |\n",
    "df_hana.GPDName.like('%BR-AÇOS ESPECIAIS%') |\n",
    "df_hana.GPDName.like('%BR-PARAFUSOS%') |\n",
    "df_hana.GPDName.like('%BR-CIMENTO%') |\n",
    "df_hana.GPDName.like('%BR-TUBO LQ%') |\n",
    "df_hana.GPDName.like('%BR-TELHA ZN%') |\n",
    "df_hana.GPDName.like('%BR-BTC GLV CP%') |\n",
    "df_hana.GPDName.like('%BR-BOBINA ZN%') |\n",
    "df_hana.GPDName.like('%BR-S-BARRA LAMINADA MÉDIA%') |\n",
    "df_hana.GPDName.like('%BR-S-BARRA LAMINADA PESADA%') |\n",
    "df_hana.GPDName.like('%BR-FITA LF%') |\n",
    "df_hana.GPDName.like('%BR-FITA AZ%') |\n",
    "df_hana.GPDName.like('%BR-S-BARRA LAMINADA LEVE%') |\n",
    "df_hana.GPDName.like('%BR-ALAMBRADO%') |\n",
    "df_hana.GPDName.like('%BR-SAPATA%') |\n",
    "df_hana.GPDName.like('%BR-MOURÃO%') |\n",
    "df_hana.GPDName.like('%BR-ATC CLARO IND%') |\n",
    "df_hana.GPDName.like('%BR-POLIDO%') |\n",
    "df_hana.GPDName.like('%BR-PERFIL BENEFICIADO%') |\n",
    "df_hana.GPDName.like('%BR-BOBINA LF%') |\n",
    "df_hana.GPDName.like('%BR-S-BARRA CTT%') |\n",
    "df_hana.GPDName.like('%BR-CHAPA AZ%') |\n",
    "df_hana.GPDName.like('%BR-FITA ZN%') |\n",
    "df_hana.GPDName.like('%BR-LDA%') |\n",
    "df_hana.GPDName.like('%BR-PIATINA CLARA%') |\n",
    "df_hana.GPDName.like('%BR-S-BARRA DESCASCADA%') |\n",
    "df_hana.GPDName.like('%BR-MESH%') |\n",
    "df_hana.GPDName.like('%BR-S-BARRA FORJADA FINA%') |\n",
    "df_hana.GPDName.like('%BR-S-BARRA RETIFICADA%') |\n",
    "df_hana.GPDName.like('%BR-S-BARRA TREFILADA%') |\n",
    "df_hana.GPDName.like('%BR-PLACA%') |\n",
    "df_hana.GPDName.like('%BR-COIL%') |\n",
    "df_hana.GPDName.like('%BR-S-FERRAMENTA%') |\n",
    "df_hana.GPDName.like('%BR-S-FIO MÁQUINA STT%') |\n",
    "df_hana.GPDName.like('%BR-ATC CLARO MOL COL%') |\n",
    "df_hana.GPDName.like('%BR-ATC GLV CP%') |\n",
    "df_hana.GPDName.like('%BR-B.CHATA LONGARINA%') |\n",
    "df_hana.GPDName.like('%BR-BT FORJARIA BLOCOS%') |\n",
    "df_hana.GPDName.like('%BR-TARUGO%') |\n",
    "df_hana.GPDName.like('%BR-DRAWING%') |\n",
    "df_hana.GPDName.like('%BR-ATC CLARO ENF ALG%') |\n",
    "df_hana.GPDName.like('%BR-PIATINA GLV%') |\n",
    "df_hana.GPDName.like('%BR-PERFIL DORMENTE%') |\n",
    "df_hana.GPDName.like('%BR-ATC%') |\n",
    "df_hana.GPDName.like('%BR-CHQ%') |\n",
    "df_hana.GPDName.like('%BR-ALMA DE ELETRODO%') |\n",
    "df_hana.GPDName.like('%BR-FIO MAQUINA%') |\n",
    "df_hana.GPDName.like('%BR-CHQ BORO%') |\n",
    "df_hana.GPDName.like('%BR-PERFIL GUIA ELEV%'))"
   ]
  },
  {
   "cell_type": "code",
   "execution_count": 30,
   "metadata": {},
   "outputs": [
    {
     "data": {
      "application/vnd.jupyter.widget-view+json": {
       "model_id": "2e15c8e22ae7498290166957819560d2",
       "version_major": 2,
       "version_minor": 0
      },
      "text/plain": [
       "VBox()"
      ]
     },
     "metadata": {},
     "output_type": "display_data"
    },
    {
     "data": {
      "application/vnd.jupyter.widget-view+json": {
       "model_id": "",
       "version_major": 2,
       "version_minor": 0
      },
      "text/plain": [
       "FloatProgress(value=0.0, bar_style='info', description='Progress:', layout=Layout(height='25px', width='50%'),…"
      ]
     },
     "metadata": {},
     "output_type": "display_data"
    }
   ],
   "source": [
    "# Filter the GPM within Smart Pricing scope\n",
    "df_hana = df_hana.filter(df_hana.GPM.like('%PERFIS_ESTRUTURAIS%') |\n",
    "df_hana.GPM.like('%VERGALHAO%') |\n",
    "df_hana.GPM.like('%AMPLIADOS%') |\n",
    "df_hana.GPM.like('%CORTE_DOBRA%') |\n",
    "df_hana.GPM.like('%PREGOS%') |\n",
    "df_hana.GPM.like('%B&P%') |\n",
    "df_hana.GPM.like('%ARAMES_AGRO%') |\n",
    "df_hana.GPM.like('%ARAMES_IND%') |\n",
    "df_hana.GPM.like('%PLANOS_LQ%') |\n",
    "df_hana.GPM.like('%PLANOS_REVESTIDOS%') |\n",
    "df_hana.GPM.like('%PLANOS_LF%') |\n",
    "df_hana.GPM.like('%PLANOS_LCG%') |\n",
    "df_hana.GPM.like('%FIO_MAQUINA%') |\n",
    "df_hana.GPM.like('%BT_FORJARIA%') |\n",
    "df_hana.GPM.like('%PLACAS%') |\n",
    "df_hana.GPM.like('%TARUGO%'))"
   ]
  },
  {
   "cell_type": "code",
   "execution_count": 31,
   "metadata": {},
   "outputs": [
    {
     "data": {
      "application/vnd.jupyter.widget-view+json": {
       "model_id": "00bc4620f1e64146895c5b17e3428328",
       "version_major": 2,
       "version_minor": 0
      },
      "text/plain": [
       "VBox()"
      ]
     },
     "metadata": {},
     "output_type": "display_data"
    },
    {
     "data": {
      "application/vnd.jupyter.widget-view+json": {
       "model_id": "",
       "version_major": 2,
       "version_minor": 0
      },
      "text/plain": [
       "FloatProgress(value=0.0, bar_style='info', description='Progress:', layout=Layout(height='25px', width='50%'),…"
      ]
     },
     "metadata": {},
     "output_type": "display_data"
    }
   ],
   "source": [
    "# Creating columns Strategic Price and Practiced Price\n",
    "df_hana=df_hana.withColumn(\"STRATEGIC_PRICE\", when((df_hana.SALES_ORG_COD.like(\"BRCG\")), col(\"LIST_PRICE\")+col(\"ZD02\")+col(\"ZD03\")+col(\"ZEB2\")+col(\"BX41\"))\\\n",
    "                                        .otherwise(col(\"LIST_PRICE\")+col(\"ZD02\")+col(\"ZD03\")+col(\"ZEB2\")))\\\n",
    "               .withColumn(\"PRACTICED_PRICE\", when((df_hana.SALES_ORG_COD.like(\"BRCG\")), \n",
    "                                                   col(\"PRACTICED_PRICE\")+abs(col(\"ZD05\"))-col(\"ZEAF\")+col(\"BX41\"))\\\n",
    "                                              .otherwise(col(\"PRACTICED_PRICE\")+abs(col(\"ZD05\"))-col(\"ZEAF\")))\\"
   ]
  },
  {
   "cell_type": "code",
   "execution_count": 32,
   "metadata": {},
   "outputs": [
    {
     "data": {
      "application/vnd.jupyter.widget-view+json": {
       "model_id": "c1d4902b2f9f4e1682199dab606fa070",
       "version_major": 2,
       "version_minor": 0
      },
      "text/plain": [
       "VBox()"
      ]
     },
     "metadata": {},
     "output_type": "display_data"
    },
    {
     "data": {
      "application/vnd.jupyter.widget-view+json": {
       "model_id": "",
       "version_major": 2,
       "version_minor": 0
      },
      "text/plain": [
       "FloatProgress(value=0.0, bar_style='info', description='Progress:', layout=Layout(height='25px', width='50%'),…"
      ]
     },
     "metadata": {},
     "output_type": "display_data"
    }
   ],
   "source": [
    "# Selecting necessary columns from Hana Table\n",
    "df_hana=df_hana.select(df_hana.SALES_ORG_COD\n",
    "                       ,df_hana.SoldToCity.alias(\"ISSUING_CITY\")\n",
    "                       ,df_hana.SoldToState.alias(\"ISSUING_STATE\")\n",
    "                       ,df_hana.SalesOrderDate.alias(\"SALES_ORDER_DATE\")\n",
    "                       ,df_hana.ShipToCustomerName.alias(\"CUSTOMER\")\n",
    "                       ,df_hana.Material.alias(\"MATERIAL_COD\")\n",
    "                       ,df_hana.MaterialName.alias(\"MATERIAL_DESC\")\n",
    "                       ,df_hana.MA_BillingQuantity_P.alias(\"QUANTITY_TON\")\n",
    "                       ,df_hana.BILDOCDATE.alias(\"BILLING_DATE\")\n",
    "                       ,df_hana.BilDocNumber.alias(\"BilDocNumber\")\n",
    "                       ,df_hana.BilDocItem.alias(\"BilDocItem\")\n",
    "                       ,df_hana.MA_CM_RBV_D.alias(\"RBV\")\n",
    "                       ,df_hana.STRATEGIC_PRICE\n",
    "                       ,df_hana.PRACTICED_PRICE\n",
    "                       ,df_hana.LIST_PRICE\n",
    "                       ,df_hana.GPM\n",
    "                       ,df_hana.GPDName.alias(\"GPD_DESC\")\n",
    "                       ,df_hana.SalesDocNumber.alias(\"SALES_DOC_NUMBER\")\n",
    "                       ,df_hana.MA_CM_PRECOBASE_ALCADA_P.alias(\"VERGE\")\n",
    "                       ,df_hana.MA_CM_DESVIOPOLITICAALCADA_D.alias(\"VERGE_POLICY_DEVIATION\")\n",
    "                       ,df_hana.ICMS\n",
    "                       ,df_hana.ZD01\n",
    "                       ,df_hana.ZD02\n",
    "                       ,df_hana.ZD03\n",
    "                       ,df_hana.ZD04\n",
    "                       ,df_hana.ZD05\n",
    "                       ,df_hana.ZD06\n",
    "                       ,df_hana.ZEB1\n",
    "                       ,df_hana.ZEB2\n",
    "                       ,df_hana.ZEAF\n",
    "                       ,df_hana.ZD13\n",
    "                       ,df_hana.ZD14\n",
    "                       ,df_hana.ZP30\n",
    "                       ,df_hana.ZSU2\n",
    "                       ,df_hana.ZP20\n",
    "                       ,df_hana.BX41)"
   ]
  },
  {
   "cell_type": "code",
   "execution_count": 33,
   "metadata": {},
   "outputs": [
    {
     "data": {
      "application/vnd.jupyter.widget-view+json": {
       "model_id": "a45dcc4682764b1e998b4c192f2cfb86",
       "version_major": 2,
       "version_minor": 0
      },
      "text/plain": [
       "VBox()"
      ]
     },
     "metadata": {},
     "output_type": "display_data"
    },
    {
     "data": {
      "application/vnd.jupyter.widget-view+json": {
       "model_id": "",
       "version_major": 2,
       "version_minor": 0
      },
      "text/plain": [
       "FloatProgress(value=0.0, bar_style='info', description='Progress:', layout=Layout(height='25px', width='50%'),…"
      ]
     },
     "metadata": {},
     "output_type": "display_data"
    }
   ],
   "source": [
    "df_region=df_region.select(df_region[\"IBGE_UF_ACRONYMS\"].alias(\"STATE_drop\")\n",
    "                           ,df_region[\"BRANCH\"].alias(\"BRANCH\")\n",
    "                           ,df_region[\"IBGE_SAP_CITY_NAME\"].alias(\"CITY_DROP\")).distinct()"
   ]
  },
  {
   "cell_type": "code",
   "execution_count": 34,
   "metadata": {},
   "outputs": [
    {
     "data": {
      "application/vnd.jupyter.widget-view+json": {
       "model_id": "4949899b44af4311805a07f88e3d0103",
       "version_major": 2,
       "version_minor": 0
      },
      "text/plain": [
       "VBox()"
      ]
     },
     "metadata": {},
     "output_type": "display_data"
    },
    {
     "data": {
      "application/vnd.jupyter.widget-view+json": {
       "model_id": "",
       "version_major": 2,
       "version_minor": 0
      },
      "text/plain": [
       "FloatProgress(value=0.0, bar_style='info', description='Progress:', layout=Layout(height='25px', width='50%'),…"
      ]
     },
     "metadata": {},
     "output_type": "display_data"
    }
   ],
   "source": [
    "df_region=df_region.withColumn(\"REGION\", expr(\"substring(BRANCH, 7, length(BRANCH))\"))"
   ]
  },
  {
   "cell_type": "code",
   "execution_count": 35,
   "metadata": {},
   "outputs": [
    {
     "data": {
      "application/vnd.jupyter.widget-view+json": {
       "model_id": "743d3e5b1909473097e8ada71cf62ff8",
       "version_major": 2,
       "version_minor": 0
      },
      "text/plain": [
       "VBox()"
      ]
     },
     "metadata": {},
     "output_type": "display_data"
    },
    {
     "data": {
      "application/vnd.jupyter.widget-view+json": {
       "model_id": "",
       "version_major": 2,
       "version_minor": 0
      },
      "text/plain": [
       "FloatProgress(value=0.0, bar_style='info', description='Progress:', layout=Layout(height='25px', width='50%'),…"
      ]
     },
     "metadata": {},
     "output_type": "display_data"
    }
   ],
   "source": [
    "df_hana = df_hana.join(df_region, (df_hana[\"ISSUING_CITY\"] == df_region[\"CITY_DROP\"]) &\n",
    "                                  (df_hana[\"ISSUING_STATE\"] == df_region[\"STATE_drop\"]), how='inner')\\\n",
    "                 .drop(\"STATE_drop\")\\\n",
    "                 .drop(\"CITY_DROP\")\\\n",
    "                 .drop(\"ISSUING_CITY\")\\\n",
    "                 .drop(\"ISSUING_STATE\")\\"
   ]
  },
  {
   "cell_type": "code",
   "execution_count": 36,
   "metadata": {
    "scrolled": true
   },
   "outputs": [
    {
     "data": {
      "application/vnd.jupyter.widget-view+json": {
       "model_id": "fd4029a99ee04c0f91d14844c4cf6867",
       "version_major": 2,
       "version_minor": 0
      },
      "text/plain": [
       "VBox()"
      ]
     },
     "metadata": {},
     "output_type": "display_data"
    },
    {
     "data": {
      "application/vnd.jupyter.widget-view+json": {
       "model_id": "",
       "version_major": 2,
       "version_minor": 0
      },
      "text/plain": [
       "FloatProgress(value=0.0, bar_style='info', description='Progress:', layout=Layout(height='25px', width='50%'),…"
      ]
     },
     "metadata": {},
     "output_type": "display_data"
    }
   ],
   "source": [
    "df_hana=df_hana.distinct()"
   ]
  },
  {
   "cell_type": "code",
   "execution_count": 37,
   "metadata": {},
   "outputs": [
    {
     "data": {
      "application/vnd.jupyter.widget-view+json": {
       "model_id": "819d15b14d50447ca7988420b824a0b1",
       "version_major": 2,
       "version_minor": 0
      },
      "text/plain": [
       "VBox()"
      ]
     },
     "metadata": {},
     "output_type": "display_data"
    },
    {
     "data": {
      "application/vnd.jupyter.widget-view+json": {
       "model_id": "",
       "version_major": 2,
       "version_minor": 0
      },
      "text/plain": [
       "FloatProgress(value=0.0, bar_style='info', description='Progress:', layout=Layout(height='25px', width='50%'),…"
      ]
     },
     "metadata": {},
     "output_type": "display_data"
    }
   ],
   "source": [
    "df_hana.write.mode('overwrite').parquet(\"s3a://\"+SPG_OUTPUT_BUCKET+\"/\"+SPG_OUTPUT_BUCKET_ALERT)"
   ]
  }
 ],
 "metadata": {
  "kernelspec": {
   "display_name": "Python 3",
   "language": "python",
   "name": "python3"
  },
  "language_info": {
   "codemirror_mode": {
    "name": "ipython",
    "version": 3
   },
   "file_extension": ".py",
   "mimetype": "text/x-python",
   "name": "python",
   "nbconvert_exporter": "python",
   "pygments_lexer": "ipython3",
   "version": "3.7.5"
  }
 },
 "nbformat": 4,
 "nbformat_minor": 2
}
