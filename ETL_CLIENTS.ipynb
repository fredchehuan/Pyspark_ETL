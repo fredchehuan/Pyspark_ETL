{
 "cells": [
  {
   "cell_type": "markdown",
   "metadata": {},
   "source": [
    "# Importing libraries"
   ]
  },
  {
   "cell_type": "code",
   "execution_count": 2,
   "metadata": {},
   "outputs": [
    {
     "data": {
      "application/vnd.jupyter.widget-view+json": {
       "model_id": "4a19c84a64ea4c76b06a4a666f3b3133",
       "version_major": 2,
       "version_minor": 0
      },
      "text/plain": [
       "VBox()"
      ]
     },
     "metadata": {},
     "output_type": "display_data"
    },
    {
     "name": "stdout",
     "output_type": "stream",
     "text": [
      "Starting Spark application\n"
     ]
    },
    {
     "data": {
      "text/html": [
       "<table>\n",
       "<tr><th>ID</th><th>YARN Application ID</th><th>Kind</th><th>State</th><th>Spark UI</th><th>Driver log</th><th>Current session?</th></tr><tr><td>2</td><td>application_1575630339505_0003</td><td>pyspark</td><td>idle</td><td><a target=\"_blank\" href=\"http://ip-172-31-33-217.us-east-2.compute.internal:20888/proxy/application_1575630339505_0003/\">Link</a></td><td><a target=\"_blank\" href=\"http://ip-172-31-35-184.us-east-2.compute.internal:8042/node/containerlogs/container_1575630339505_0003_01_000001/livy\">Link</a></td><td>✔</td></tr></table>"
      ],
      "text/plain": [
       "<IPython.core.display.HTML object>"
      ]
     },
     "metadata": {},
     "output_type": "display_data"
    },
    {
     "data": {
      "application/vnd.jupyter.widget-view+json": {
       "model_id": "",
       "version_major": 2,
       "version_minor": 0
      },
      "text/plain": [
       "FloatProgress(value=0.0, bar_style='info', description='Progress:', layout=Layout(height='25px', width='50%'),…"
      ]
     },
     "metadata": {},
     "output_type": "display_data"
    },
    {
     "name": "stdout",
     "output_type": "stream",
     "text": [
      "SparkSession available as 'spark'.\n"
     ]
    },
    {
     "data": {
      "application/vnd.jupyter.widget-view+json": {
       "model_id": "",
       "version_major": 2,
       "version_minor": 0
      },
      "text/plain": [
       "FloatProgress(value=0.0, bar_style='info', description='Progress:', layout=Layout(height='25px', width='50%'),…"
      ]
     },
     "metadata": {},
     "output_type": "display_data"
    }
   ],
   "source": [
    "import findspark                                              #Import library to Search for Spark Installation  \n",
    "\n",
    "findspark.init()                                              #Search Spark Installation\n",
    "\n",
    "import pyspark                                                #Only run after findspark.init()\n",
    "\n",
    "from pyspark.sql import SparkSession                          #Import of Spark Session\n",
    "from pyspark import SparkContext as spark                     #Import the Regular Spark Contex \n",
    "from pyspark.sql import SQLContext                            #Import the SQL Spark Contex \n",
    "from pyspark.sql.window import Window\n",
    "from pyspark.sql.functions import *\n",
    "from pyspark.sql import functions as F\n",
    "from pyspark.sql.types import *\n",
    "spark = SparkSession.builder.getOrCreate()\n",
    "\n",
    "import os\n",
    "\n",
    "sc = spark.sparkContext                                       #Initialize Spark "
   ]
  },
  {
   "cell_type": "markdown",
   "metadata": {},
   "source": [
    "-------------"
   ]
  },
  {
   "cell_type": "markdown",
   "metadata": {},
   "source": [
    "# Creating Variables"
   ]
  },
  {
   "cell_type": "markdown",
   "metadata": {},
   "source": [
    "## Buckets"
   ]
  },
  {
   "cell_type": "code",
   "execution_count": null,
   "metadata": {},
   "outputs": [],
   "source": [
    "SPG_MANUAL_INPUT_BUCKET = os.environ['MANUAL_INPUT_BUCKET']"
   ]
  },
  {
   "cell_type": "code",
   "execution_count": null,
   "metadata": {},
   "outputs": [],
   "source": [
    "SPG_OUTPUT_BUCKET = os.environ['OUTPUT_BUCKET']"
   ]
  },
  {
   "cell_type": "code",
   "execution_count": null,
   "metadata": {},
   "outputs": [],
   "source": [
    "GERDAU_BUCKET = os.environ['GERDAU_BUCKET']"
   ]
  },
  {
   "cell_type": "markdown",
   "metadata": {},
   "source": [
    "## Input Paths"
   ]
  },
  {
   "cell_type": "code",
   "execution_count": null,
   "metadata": {},
   "outputs": [],
   "source": [
    "GERDAU_BUCKET_KNA1_INPUT_PATH = \"global/masterdata/kna1\""
   ]
  },
  {
   "cell_type": "code",
   "execution_count": null,
   "metadata": {},
   "outputs": [],
   "source": [
    "GERDAU_BUCKET_T151T_INPUT_PATH = \"global/masterdata/t151t\""
   ]
  },
  {
   "cell_type": "code",
   "execution_count": null,
   "metadata": {},
   "outputs": [],
   "source": [
    "GERDAU_BUCKET_KNVV_INPUT_PATH = \"global/masterdata/knvv\""
   ]
  },
  {
   "cell_type": "code",
   "execution_count": null,
   "metadata": {},
   "outputs": [],
   "source": [
    "GERDAU_BUCKET_KNVP_INPUT_PATH = \"global/masterdata/knvp\""
   ]
  },
  {
   "cell_type": "code",
   "execution_count": null,
   "metadata": {},
   "outputs": [],
   "source": [
    "GERDAU_BUCKET_TVKOT_INPUT_PATH = \"global/masterdata/tvkot\""
   ]
  },
  {
   "cell_type": "code",
   "execution_count": null,
   "metadata": {},
   "outputs": [],
   "source": [
    "GERDAU_BUCKET_TSPAT_INPUT_PATH = \"global/masterdata/tspat\""
   ]
  },
  {
   "cell_type": "code",
   "execution_count": null,
   "metadata": {},
   "outputs": [],
   "source": [
    "GERDAU_BUCKET_TVKBT_INPUT_PATH = \"global/masterdata/tvkbt\""
   ]
  },
  {
   "cell_type": "code",
   "execution_count": null,
   "metadata": {},
   "outputs": [],
   "source": [
    "GERDAU_BUCKET_TVGRT_INPUT_PATH = \"global/masterdata/tvgrt\""
   ]
  },
  {
   "cell_type": "code",
   "execution_count": null,
   "metadata": {},
   "outputs": [],
   "source": [
    "GERDAU_BUCKET_TVV3T_INPUT_PATH = \"global/masterdata/tvv3t\""
   ]
  },
  {
   "cell_type": "code",
   "execution_count": null,
   "metadata": {},
   "outputs": [],
   "source": [
    "SPG_MANUAL_INPUT_BUCKET_CANAL_INPUT_PATH = \"INPUT/tb_SPG_SUPPORT_DISTR_CHANNEL.csv\""
   ]
  },
  {
   "cell_type": "markdown",
   "metadata": {},
   "source": [
    "## Output Paths"
   ]
  },
  {
   "cell_type": "code",
   "execution_count": null,
   "metadata": {},
   "outputs": [],
   "source": [
    "SPG_OUTPUT_BUCKET_CLIENTS_OUTPUT_PATH = \"SPG_DIMENSIONS/SPG_CLIENTES/SPG_CL_CLIENTES/SPG_CL_CLIENTES.parquet\""
   ]
  },
  {
   "cell_type": "markdown",
   "metadata": {},
   "source": [
    "# Importing tables"
   ]
  },
  {
   "cell_type": "code",
   "execution_count": 6,
   "metadata": {},
   "outputs": [
    {
     "data": {
      "application/vnd.jupyter.widget-view+json": {
       "model_id": "270af99f25d941b8993bc177a9568285",
       "version_major": 2,
       "version_minor": 0
      },
      "text/plain": [
       "VBox()"
      ]
     },
     "metadata": {},
     "output_type": "display_data"
    },
    {
     "data": {
      "application/vnd.jupyter.widget-view+json": {
       "model_id": "",
       "version_major": 2,
       "version_minor": 0
      },
      "text/plain": [
       "FloatProgress(value=0.0, bar_style='info', description='Progress:', layout=Layout(height='25px', width='50%'),…"
      ]
     },
     "metadata": {},
     "output_type": "display_data"
    }
   ],
   "source": [
    "kna1Field = spark.read.parquet(\"s3a://\"+GERDAU_BUCKET+\"/\"+GERDAU_BUCKET_KNA1_INPUT_PATH)   #Dados Gerais"
   ]
  },
  {
   "cell_type": "code",
   "execution_count": 7,
   "metadata": {},
   "outputs": [
    {
     "data": {
      "application/vnd.jupyter.widget-view+json": {
       "model_id": "b18d3263fe4c422797676b74178b8105",
       "version_major": 2,
       "version_minor": 0
      },
      "text/plain": [
       "VBox()"
      ]
     },
     "metadata": {},
     "output_type": "display_data"
    },
    {
     "data": {
      "application/vnd.jupyter.widget-view+json": {
       "model_id": "",
       "version_major": 2,
       "version_minor": 0
      },
      "text/plain": [
       "FloatProgress(value=0.0, bar_style='info', description='Progress:', layout=Layout(height='25px', width='50%'),…"
      ]
     },
     "metadata": {},
     "output_type": "display_data"
    },
    {
     "name": "stdout",
     "output_type": "stream",
     "text": [
      "DataFrame[MANDT: int, KUNNR: string, LAND1: string, NAME1: string, NAME2: string, ORT01: string, PSTLZ: string, REGIO: string, SORTL: string, STRAS: string, TELF1: string, TELFX: string, XCPDK: string, ADRNR: string, MCOD1: string, MCOD2: string, MCOD3: string, ANRED: string, AUFSD: string, BAHNE: string, BAHNS: string, BBBNR: int, BBSNR: int, BEGRU: string, BRSCH: string, BUBKZ: int, DATLT: string, ERDAT: string, ERNAM: string, EXABL: string, FAKSD: string, FISKN: string, KNAZK: string, KNRZA: string, KONZS: string, KTOKD: string, KUKLA: string, LIFNR: string, LIFSD: string, LOCCO: string, LOEVM: string, NAME3: string, NAME4: string, NIELS: string, ORT02: string, PFACH: string, PSTL2: string, COUNC: string, CITYC: string, RPMKR: string, SPERR: string, SPRAS: string, STCD1: string, STCD2: string, STKZA: string, STKZU: string, TELBX: string, TELF2: string, TELTX: string, TELX1: string, LZONE: string, XZEMP: string, VBUND: string, STCEG: string, DEAR1: string, DEAR2: string, DEAR3: string, DEAR4: string, DEAR5: string, GFORM: string, BRAN1: string, BRAN2: string, BRAN3: string, BRAN4: string, BRAN5: string, EKONT: string, UMSAT: double, UMJAH: int, UWAER: string, JMZAH: int, JMJAH: int, KATR1: string, KATR2: string, KATR3: string, KATR4: string, KATR5: string, KATR6: string, KATR7: string, KATR8: string, KATR9: string, KATR10: string, STKZN: string, UMSA1: double, TXJCD: string, PERIV: string, ABRVW: string, INSPBYDEBI: string, INSPATDEBI: string, KTOCD: string, PFORT: string, WERKS: string, DTAMS: string, DTAWS: string, DUEFL: string, HZUOR: int, SPERZ: string, ETIKG: string, CIVVE: string, MILVE: string, KDKG1: string, KDKG2: string, KDKG3: string, KDKG4: string, KDKG5: string, XKNZA: string, FITYP: string, STCDT: string, STCD3: string, STCD4: string, STCD5: string, XICMS: string, XXIPI: string, XSUBT: string, CFOPC: string, TXLW1: string, TXLW2: string, CCC01: string, CCC02: string, CCC03: string, CCC04: string, CASSD: string, KNURL: string, J_1KFREPRE: string, J_1KFTBUS: string, J_1KFTIND: string, CONFS: string, UPDAT: string, UPTIM: string, NODEL: string, DEAR6: string, CVP_XBLCK: string, SUFRAMA: string, RG: string, EXP: string, UF: string, RGDATE: string, RIC: int, RNE: string, RNEDATE: string, CNAE: string, LEGALNAT: int, CRTN: string, ICMSTAXPAY: string, INDTYP: string, TDT: string, COMSIZE: string, DECREGPC: string, /VSO/R_PALHGT: double, /VSO/R_PAL_UL: string, /VSO/R_PK_MAT: string, /VSO/R_MATPAL: string, /VSO/R_I_NO_LYR: int, /VSO/R_ONE_MAT: string, /VSO/R_ONE_SORT: string, /VSO/R_ULD_SIDE: int, /VSO/R_LOAD_PREF: int, /VSO/R_DPOINT: string, ALC: string, PMT_OFFICE: string, FEE_SCHEDULE: string, DUNS: string, DUNS4: string, PSOFG: string, PSOIS: string, PSON1: string, PSON2: string, PSON3: string, PSOVN: string, PSOTL: string, PSOHS: string, PSOST: string, PSOO1: string, PSOO2: string, PSOO3: string, PSOO4: string, PSOO5: string, J_3GETYP: string, J_3GREFTYP: string, PSPNR: int, COAUFNR: string, J_3GAGEXT: string, J_3GAGINT: string, J_3GAGDUMI: string, J_3GAGSTDI: string, LGORT: string, KOKRS: string, KOSTL: string, J_3GABGLG: string, J_3GABGVG: string, J_3GABRART: string, J_3GSTDMON: double, J_3GSTDTAG: double, J_3GTAGMON: double, J_3GZUGTAG: string, J_3GMASCHB: string, J_3GMEINSA: string, J_3GKEINSA: string, J_3GBLSPER: string, J_3GKLEIVO: string, J_3GCALID: string, J_3GVMONAT: int, J_3GABRKEN: string, J_3GLABRECH: string, J_3GAABRECH: string, J_3GZUTVHLG: string, J_3GNEGMEN: string, J_3GFRISTLO: string, J_3GEMINBE: int, J_3GFMGUE: int, J_3GZUSCHUE: int, J_3GSCHPRS: string, J_3GINVSTA: string, /SAPCEM/DBER: string, /SAPCEM/KVMEQ: string, OIDRC: string, OID_POREQD: string, OIPBL: string, DATA_LOAD_TIMESTAMP_PARQUET: string, DATA_LOAD_TIMESTAMP_RAW: string]"
     ]
    }
   ],
   "source": [
    "kna1Field.write.partitionBy(144);\n",
    "kna1Field = kna1Field.repartition(144);\n",
    "kna1Field.persist(pyspark.StorageLevel.MEMORY_ONLY)"
   ]
  },
  {
   "cell_type": "code",
   "execution_count": 8,
   "metadata": {},
   "outputs": [
    {
     "data": {
      "application/vnd.jupyter.widget-view+json": {
       "model_id": "8f72d9db32be4a7ba908e438dc2acc8c",
       "version_major": 2,
       "version_minor": 0
      },
      "text/plain": [
       "VBox()"
      ]
     },
     "metadata": {},
     "output_type": "display_data"
    },
    {
     "data": {
      "application/vnd.jupyter.widget-view+json": {
       "model_id": "",
       "version_major": 2,
       "version_minor": 0
      },
      "text/plain": [
       "FloatProgress(value=0.0, bar_style='info', description='Progress:', layout=Layout(height='25px', width='50%'),…"
      ]
     },
     "metadata": {},
     "output_type": "display_data"
    }
   ],
   "source": [
    "t151tField = spark.read.parquet(\"s3a://\"+GERDAU_BUCKET+\"/\"+GERDAU_BUCKET_T151T_INPUT_PATH) #Grupo de Clientes"
   ]
  },
  {
   "cell_type": "code",
   "execution_count": 9,
   "metadata": {},
   "outputs": [
    {
     "data": {
      "application/vnd.jupyter.widget-view+json": {
       "model_id": "293e09b194954527b4e1ae41157d9891",
       "version_major": 2,
       "version_minor": 0
      },
      "text/plain": [
       "VBox()"
      ]
     },
     "metadata": {},
     "output_type": "display_data"
    },
    {
     "data": {
      "application/vnd.jupyter.widget-view+json": {
       "model_id": "",
       "version_major": 2,
       "version_minor": 0
      },
      "text/plain": [
       "FloatProgress(value=0.0, bar_style='info', description='Progress:', layout=Layout(height='25px', width='50%'),…"
      ]
     },
     "metadata": {},
     "output_type": "display_data"
    },
    {
     "name": "stdout",
     "output_type": "stream",
     "text": [
      "DataFrame[MANDT: int, SPRAS: string, KDGRP: string, KTEXT: string, DATA_LOAD_TIMESTAMP_PARQUET: string, DATA_LOAD_TIMESTAMP_RAW: string]"
     ]
    }
   ],
   "source": [
    "t151tField.write.partitionBy(144);\n",
    "t151tField = t151tField.repartition(144);\n",
    "t151tField.persist(pyspark.StorageLevel.MEMORY_ONLY)"
   ]
  },
  {
   "cell_type": "code",
   "execution_count": 10,
   "metadata": {},
   "outputs": [
    {
     "data": {
      "application/vnd.jupyter.widget-view+json": {
       "model_id": "9b1220c39e97474cbe18791513b9ef2e",
       "version_major": 2,
       "version_minor": 0
      },
      "text/plain": [
       "VBox()"
      ]
     },
     "metadata": {},
     "output_type": "display_data"
    },
    {
     "data": {
      "application/vnd.jupyter.widget-view+json": {
       "model_id": "",
       "version_major": 2,
       "version_minor": 0
      },
      "text/plain": [
       "FloatProgress(value=0.0, bar_style='info', description='Progress:', layout=Layout(height='25px', width='50%'),…"
      ]
     },
     "metadata": {},
     "output_type": "display_data"
    }
   ],
   "source": [
    "knvvField = spark.read.parquet(\"s3a://\"+GERDAU_BUCKET+\"/\"+GERDAU_BUCKET_KNVV_INPUT_PATH)   #Dados Vendas"
   ]
  },
  {
   "cell_type": "code",
   "execution_count": 11,
   "metadata": {},
   "outputs": [
    {
     "data": {
      "application/vnd.jupyter.widget-view+json": {
       "model_id": "4aeb1248605b4e1cb5ad3cd8396520e2",
       "version_major": 2,
       "version_minor": 0
      },
      "text/plain": [
       "VBox()"
      ]
     },
     "metadata": {},
     "output_type": "display_data"
    },
    {
     "data": {
      "application/vnd.jupyter.widget-view+json": {
       "model_id": "",
       "version_major": 2,
       "version_minor": 0
      },
      "text/plain": [
       "FloatProgress(value=0.0, bar_style='info', description='Progress:', layout=Layout(height='25px', width='50%'),…"
      ]
     },
     "metadata": {},
     "output_type": "display_data"
    },
    {
     "name": "stdout",
     "output_type": "stream",
     "text": [
      "DataFrame[MANDT: int, KUNNR: string, VKORG: string, VTWEG: string, SPART: string, ERNAM: string, ERDAT: string, BEGRU: string, LOEVM: string, VERSG: string, AUFSD: string, KALKS: string, KDGRP: string, BZIRK: string, KONDA: string, PLTYP: string, AWAHR: int, INCO1: string, INCO2: string, LIFSD: string, AUTLF: string, ANTLF: double, KZTLF: string, KZAZU: string, CHSPL: string, LPRIO: int, EIKTO: string, VSBED: string, FAKSD: string, MRNKZ: string, PERFK: string, PERRL: string, KVAKZ: string, KVAWT: double, WAERS: string, KLABC: string, KTGRD: string, ZTERM: string, VWERK: string, VKGRP: string, VKBUR: string, VSORT: string, KVGR1: string, KVGR2: string, KVGR3: string, KVGR4: string, KVGR5: string, BOKRE: string, BOIDT: string, KURST: string, PRFRE: string, PRAT1: string, PRAT2: string, PRAT3: string, PRAT4: string, PRAT5: string, PRAT6: string, PRAT7: string, PRAT8: string, PRAT9: string, PRATA: string, KABSS: string, KKBER: string, CASSD: string, RDOFF: string, AGREL: string, MEGRU: string, UEBTO: double, UNTTO: double, UEBTK: string, PVKSM: string, PODKZ: string, PODTG: double, BLIND: string, CARRIER_NOTIF: string, CVP_XBLCK_V: string, /BEV1/EMLGPFAND: string, /BEV1/EMLGFORTS: string, J_1NBOESL: string, PROFILE: string, FPART: string, DATA_LOAD_TIMESTAMP_PARQUET: string, DATA_LOAD_TIMESTAMP_RAW: string]"
     ]
    }
   ],
   "source": [
    "knvvField.write.partitionBy(144);\n",
    "knvvField = knvvField.repartition(144);\n",
    "knvvField.persist(pyspark.StorageLevel.MEMORY_ONLY)"
   ]
  },
  {
   "cell_type": "code",
   "execution_count": 12,
   "metadata": {},
   "outputs": [
    {
     "data": {
      "application/vnd.jupyter.widget-view+json": {
       "model_id": "86df3d00b18b473f9c64591a98d042b3",
       "version_major": 2,
       "version_minor": 0
      },
      "text/plain": [
       "VBox()"
      ]
     },
     "metadata": {},
     "output_type": "display_data"
    },
    {
     "data": {
      "application/vnd.jupyter.widget-view+json": {
       "model_id": "",
       "version_major": 2,
       "version_minor": 0
      },
      "text/plain": [
       "FloatProgress(value=0.0, bar_style='info', description='Progress:', layout=Layout(height='25px', width='50%'),…"
      ]
     },
     "metadata": {},
     "output_type": "display_data"
    }
   ],
   "source": [
    "knvpField = spark.read.parquet(\"s3a://\"+GERDAU_BUCKET+\"/\"+GERDAU_BUCKET_KNVP_INPUT_PATH)   #Customer Master Partner Functions "
   ]
  },
  {
   "cell_type": "code",
   "execution_count": 13,
   "metadata": {},
   "outputs": [
    {
     "data": {
      "application/vnd.jupyter.widget-view+json": {
       "model_id": "8fdea04c0d3543eea142b584cfbfa330",
       "version_major": 2,
       "version_minor": 0
      },
      "text/plain": [
       "VBox()"
      ]
     },
     "metadata": {},
     "output_type": "display_data"
    },
    {
     "data": {
      "application/vnd.jupyter.widget-view+json": {
       "model_id": "",
       "version_major": 2,
       "version_minor": 0
      },
      "text/plain": [
       "FloatProgress(value=0.0, bar_style='info', description='Progress:', layout=Layout(height='25px', width='50%'),…"
      ]
     },
     "metadata": {},
     "output_type": "display_data"
    },
    {
     "name": "stdout",
     "output_type": "stream",
     "text": [
      "DataFrame[MANDT: int, KUNNR: string, VKORG: string, VTWEG: string, SPART: string, PARVW: string, PARZA: int, KUNN2: string, LIFNR: string, PERNR: int, PARNR: int, KNREF: string, DEFPA: string, DATA_LOAD_TIMESTAMP_PARQUET: string, DATA_LOAD_TIMESTAMP_RAW: string]"
     ]
    }
   ],
   "source": [
    "knvpField.write.partitionBy(144);\n",
    "knvpField = knvpField.repartition(144);\n",
    "knvpField.persist(pyspark.StorageLevel.MEMORY_ONLY)"
   ]
  },
  {
   "cell_type": "code",
   "execution_count": 14,
   "metadata": {},
   "outputs": [
    {
     "data": {
      "application/vnd.jupyter.widget-view+json": {
       "model_id": "c36cc59e38d7401bad030326ed4c60f4",
       "version_major": 2,
       "version_minor": 0
      },
      "text/plain": [
       "VBox()"
      ]
     },
     "metadata": {},
     "output_type": "display_data"
    },
    {
     "data": {
      "application/vnd.jupyter.widget-view+json": {
       "model_id": "",
       "version_major": 2,
       "version_minor": 0
      },
      "text/plain": [
       "FloatProgress(value=0.0, bar_style='info', description='Progress:', layout=Layout(height='25px', width='50%'),…"
      ]
     },
     "metadata": {},
     "output_type": "display_data"
    }
   ],
   "source": [
    "#Importing description tables\n",
    "tvkotDesc = spark.read.parquet(\"s3a://\"+GERDAU_BUCKET+\"/\"+GERDAU_BUCKET_TVKOT_INPUT_PATH) #Sellling Organization"
   ]
  },
  {
   "cell_type": "code",
   "execution_count": 15,
   "metadata": {},
   "outputs": [
    {
     "data": {
      "application/vnd.jupyter.widget-view+json": {
       "model_id": "366805d0e4d54f40ae4b295f7db16d77",
       "version_major": 2,
       "version_minor": 0
      },
      "text/plain": [
       "VBox()"
      ]
     },
     "metadata": {},
     "output_type": "display_data"
    },
    {
     "data": {
      "application/vnd.jupyter.widget-view+json": {
       "model_id": "",
       "version_major": 2,
       "version_minor": 0
      },
      "text/plain": [
       "FloatProgress(value=0.0, bar_style='info', description='Progress:', layout=Layout(height='25px', width='50%'),…"
      ]
     },
     "metadata": {},
     "output_type": "display_data"
    },
    {
     "name": "stdout",
     "output_type": "stream",
     "text": [
      "DataFrame[MANDT: int, SPRAS: string, VKORG: string, VTEXT: string, DATA_LOAD_TIMESTAMP_PARQUET: string, DATA_LOAD_TIMESTAMP_RAW: string]"
     ]
    }
   ],
   "source": [
    "tvkotDesc.write.partitionBy(144);\n",
    "tvkotDesc = tvkotDesc.repartition(144);\n",
    "tvkotDesc.persist(pyspark.StorageLevel.MEMORY_ONLY)"
   ]
  },
  {
   "cell_type": "code",
   "execution_count": 16,
   "metadata": {},
   "outputs": [
    {
     "data": {
      "application/vnd.jupyter.widget-view+json": {
       "model_id": "c9bb1d178adc4d959f75186c0d8b7b65",
       "version_major": 2,
       "version_minor": 0
      },
      "text/plain": [
       "VBox()"
      ]
     },
     "metadata": {},
     "output_type": "display_data"
    },
    {
     "data": {
      "application/vnd.jupyter.widget-view+json": {
       "model_id": "",
       "version_major": 2,
       "version_minor": 0
      },
      "text/plain": [
       "FloatProgress(value=0.0, bar_style='info', description='Progress:', layout=Layout(height='25px', width='50%'),…"
      ]
     },
     "metadata": {},
     "output_type": "display_data"
    }
   ],
   "source": [
    "tspatDesc = spark.read.parquet(\"s3a://\"+GERDAU_BUCKET+\"/\"+GERDAU_BUCKET_TSPAT_INPUT_PATH) #Activity sector"
   ]
  },
  {
   "cell_type": "code",
   "execution_count": 17,
   "metadata": {},
   "outputs": [
    {
     "data": {
      "application/vnd.jupyter.widget-view+json": {
       "model_id": "c0742d8cf6db4d7bb8e28a9324cf9948",
       "version_major": 2,
       "version_minor": 0
      },
      "text/plain": [
       "VBox()"
      ]
     },
     "metadata": {},
     "output_type": "display_data"
    },
    {
     "data": {
      "application/vnd.jupyter.widget-view+json": {
       "model_id": "",
       "version_major": 2,
       "version_minor": 0
      },
      "text/plain": [
       "FloatProgress(value=0.0, bar_style='info', description='Progress:', layout=Layout(height='25px', width='50%'),…"
      ]
     },
     "metadata": {},
     "output_type": "display_data"
    },
    {
     "name": "stdout",
     "output_type": "stream",
     "text": [
      "DataFrame[MANDT: int, SPRAS: string, SPART: string, VTEXT: string, DATA_LOAD_TIMESTAMP_PARQUET: string, DATA_LOAD_TIMESTAMP_RAW: string]"
     ]
    }
   ],
   "source": [
    "tspatDesc.write.partitionBy(144);\n",
    "tspatDesc = tspatDesc.repartition(144);\n",
    "tspatDesc.persist(pyspark.StorageLevel.MEMORY_ONLY)"
   ]
  },
  {
   "cell_type": "code",
   "execution_count": 18,
   "metadata": {},
   "outputs": [
    {
     "data": {
      "application/vnd.jupyter.widget-view+json": {
       "model_id": "17c8aefbb96947d4a09e7eeffe2af12f",
       "version_major": 2,
       "version_minor": 0
      },
      "text/plain": [
       "VBox()"
      ]
     },
     "metadata": {},
     "output_type": "display_data"
    },
    {
     "data": {
      "application/vnd.jupyter.widget-view+json": {
       "model_id": "",
       "version_major": 2,
       "version_minor": 0
      },
      "text/plain": [
       "FloatProgress(value=0.0, bar_style='info', description='Progress:', layout=Layout(height='25px', width='50%'),…"
      ]
     },
     "metadata": {},
     "output_type": "display_data"
    }
   ],
   "source": [
    "tvkbtDesc = spark.read.parquet(\"s3a://\"+GERDAU_BUCKET+\"/\"+GERDAU_BUCKET_TVKBT_INPUT_PATH) #Sales Office"
   ]
  },
  {
   "cell_type": "code",
   "execution_count": 19,
   "metadata": {},
   "outputs": [
    {
     "data": {
      "application/vnd.jupyter.widget-view+json": {
       "model_id": "5370fea2df0a420d831346271ae30cb0",
       "version_major": 2,
       "version_minor": 0
      },
      "text/plain": [
       "VBox()"
      ]
     },
     "metadata": {},
     "output_type": "display_data"
    },
    {
     "data": {
      "application/vnd.jupyter.widget-view+json": {
       "model_id": "",
       "version_major": 2,
       "version_minor": 0
      },
      "text/plain": [
       "FloatProgress(value=0.0, bar_style='info', description='Progress:', layout=Layout(height='25px', width='50%'),…"
      ]
     },
     "metadata": {},
     "output_type": "display_data"
    },
    {
     "name": "stdout",
     "output_type": "stream",
     "text": [
      "DataFrame[MANDT: int, SPRAS: string, VKGRP: string, BEZEI: string, DATA_LOAD_TIMESTAMP_PARQUET: string, DATA_LOAD_TIMESTAMP_RAW: string]"
     ]
    }
   ],
   "source": [
    "tvkbtDesc.write.partitionBy(144);\n",
    "tvkbtDesc = tvkbtDesc.repartition(144);\n",
    "tvkbtDesc.persist(pyspark.StorageLevel.MEMORY_ONLY)"
   ]
  },
  {
   "cell_type": "code",
   "execution_count": 20,
   "metadata": {},
   "outputs": [
    {
     "data": {
      "application/vnd.jupyter.widget-view+json": {
       "model_id": "7da713963f1746c49160e4cf7dfc7104",
       "version_major": 2,
       "version_minor": 0
      },
      "text/plain": [
       "VBox()"
      ]
     },
     "metadata": {},
     "output_type": "display_data"
    },
    {
     "data": {
      "application/vnd.jupyter.widget-view+json": {
       "model_id": "",
       "version_major": 2,
       "version_minor": 0
      },
      "text/plain": [
       "FloatProgress(value=0.0, bar_style='info', description='Progress:', layout=Layout(height='25px', width='50%'),…"
      ]
     },
     "metadata": {},
     "output_type": "display_data"
    }
   ],
   "source": [
    "tvgrtDesc = spark.read.parquet(\"s3a://\"+GERDAU_BUCKET+\"/\"+GERDAU_BUCKET_TVGRT_INPUT_PATH) # Group of sellers"
   ]
  },
  {
   "cell_type": "code",
   "execution_count": 21,
   "metadata": {},
   "outputs": [
    {
     "data": {
      "application/vnd.jupyter.widget-view+json": {
       "model_id": "528d8ab8e10d4ad88667b5f633cae91f",
       "version_major": 2,
       "version_minor": 0
      },
      "text/plain": [
       "VBox()"
      ]
     },
     "metadata": {},
     "output_type": "display_data"
    },
    {
     "data": {
      "application/vnd.jupyter.widget-view+json": {
       "model_id": "",
       "version_major": 2,
       "version_minor": 0
      },
      "text/plain": [
       "FloatProgress(value=0.0, bar_style='info', description='Progress:', layout=Layout(height='25px', width='50%'),…"
      ]
     },
     "metadata": {},
     "output_type": "display_data"
    },
    {
     "name": "stdout",
     "output_type": "stream",
     "text": [
      "DataFrame[MANDT: int, SPRAS: string, VKBUR: string, BEZEI: string, DATA_LOAD_TIMESTAMP_PARQUET: string, DATA_LOAD_TIMESTAMP_RAW: string]"
     ]
    }
   ],
   "source": [
    "tvgrtDesc.write.partitionBy(144);\n",
    "tvgrtDesc = tvgrtDesc.repartition(144);\n",
    "tvgrtDesc.persist(pyspark.StorageLevel.MEMORY_ONLY)"
   ]
  },
  {
   "cell_type": "code",
   "execution_count": 22,
   "metadata": {},
   "outputs": [
    {
     "data": {
      "application/vnd.jupyter.widget-view+json": {
       "model_id": "a16ff38f7f474348baf93c9ed1c1b49c",
       "version_major": 2,
       "version_minor": 0
      },
      "text/plain": [
       "VBox()"
      ]
     },
     "metadata": {},
     "output_type": "display_data"
    },
    {
     "data": {
      "application/vnd.jupyter.widget-view+json": {
       "model_id": "",
       "version_major": 2,
       "version_minor": 0
      },
      "text/plain": [
       "FloatProgress(value=0.0, bar_style='info', description='Progress:', layout=Layout(height='25px', width='50%'),…"
      ]
     },
     "metadata": {},
     "output_type": "display_data"
    }
   ],
   "source": [
    "tvv3t= spark.read.parquet(\"s3a://\"+GERDAU_BUCKET+\"/\"+GERDAU_BUCKET_TVV3T_INPUT_PATH) #Group of client 3"
   ]
  },
  {
   "cell_type": "code",
   "execution_count": 23,
   "metadata": {},
   "outputs": [
    {
     "data": {
      "application/vnd.jupyter.widget-view+json": {
       "model_id": "25446eb17c92489088987e0130016943",
       "version_major": 2,
       "version_minor": 0
      },
      "text/plain": [
       "VBox()"
      ]
     },
     "metadata": {},
     "output_type": "display_data"
    },
    {
     "data": {
      "application/vnd.jupyter.widget-view+json": {
       "model_id": "",
       "version_major": 2,
       "version_minor": 0
      },
      "text/plain": [
       "FloatProgress(value=0.0, bar_style='info', description='Progress:', layout=Layout(height='25px', width='50%'),…"
      ]
     },
     "metadata": {},
     "output_type": "display_data"
    },
    {
     "name": "stdout",
     "output_type": "stream",
     "text": [
      "DataFrame[MANDT: string, SPRAS: string, KVGR3: string, BEZEI: string, DATA_LOAD_TIMESTAMP_PARQUET: string, DATA_LOAD_TIMESTAMP_RAW: string]"
     ]
    }
   ],
   "source": [
    "tvv3t.write.partitionBy(144);\n",
    "tvv3t = tvv3t.repartition(144);\n",
    "tvv3t.persist(pyspark.StorageLevel.MEMORY_ONLY)"
   ]
  },
  {
   "cell_type": "code",
   "execution_count": 24,
   "metadata": {},
   "outputs": [
    {
     "data": {
      "application/vnd.jupyter.widget-view+json": {
       "model_id": "be072b5fe4cc4d369997d45c6ff91ac0",
       "version_major": 2,
       "version_minor": 0
      },
      "text/plain": [
       "VBox()"
      ]
     },
     "metadata": {},
     "output_type": "display_data"
    },
    {
     "data": {
      "application/vnd.jupyter.widget-view+json": {
       "model_id": "",
       "version_major": 2,
       "version_minor": 0
      },
      "text/plain": [
       "FloatProgress(value=0.0, bar_style='info', description='Progress:', layout=Layout(height='25px', width='50%'),…"
      ]
     },
     "metadata": {},
     "output_type": "display_data"
    }
   ],
   "source": [
    "# Reading csv\n",
    "canalDistrib=spark.read.format(\"csv\").option(\"header\",\"true\").option(\"sep\",\";\").load(\"s3a://\"+SPG_MANUAL_INPUT_BUCKET+\"/\"+SPG_MANUAL_INPUT_BUCKET_CANAL_INPUT_PATH)"
   ]
  },
  {
   "cell_type": "code",
   "execution_count": 25,
   "metadata": {},
   "outputs": [
    {
     "data": {
      "application/vnd.jupyter.widget-view+json": {
       "model_id": "b31d1baf82264acc9c2f0cfbe7755974",
       "version_major": 2,
       "version_minor": 0
      },
      "text/plain": [
       "VBox()"
      ]
     },
     "metadata": {},
     "output_type": "display_data"
    },
    {
     "data": {
      "application/vnd.jupyter.widget-view+json": {
       "model_id": "",
       "version_major": 2,
       "version_minor": 0
      },
      "text/plain": [
       "FloatProgress(value=0.0, bar_style='info', description='Progress:', layout=Layout(height='25px', width='50%'),…"
      ]
     },
     "metadata": {},
     "output_type": "display_data"
    },
    {
     "name": "stdout",
     "output_type": "stream",
     "text": [
      "DataFrame[LANG_COD: string, DISTR_CHANNEL_COD: string, DISTR_CHANNEL_DESC: string]"
     ]
    }
   ],
   "source": [
    "canalDistrib.write.partitionBy(144);\n",
    "canalDistrib = canalDistrib.repartition(144);\n",
    "canalDistrib.persist(pyspark.StorageLevel.MEMORY_ONLY)"
   ]
  },
  {
   "cell_type": "markdown",
   "metadata": {},
   "source": [
    "# KNA1"
   ]
  },
  {
   "cell_type": "code",
   "execution_count": 26,
   "metadata": {
    "scrolled": true
   },
   "outputs": [
    {
     "data": {
      "application/vnd.jupyter.widget-view+json": {
       "model_id": "924ef5697dbc4e1ba1063e93920ec6d4",
       "version_major": 2,
       "version_minor": 0
      },
      "text/plain": [
       "VBox()"
      ]
     },
     "metadata": {},
     "output_type": "display_data"
    },
    {
     "data": {
      "application/vnd.jupyter.widget-view+json": {
       "model_id": "",
       "version_major": 2,
       "version_minor": 0
      },
      "text/plain": [
       "FloatProgress(value=0.0, bar_style='info', description='Progress:', layout=Layout(height='25px', width='50%'),…"
      ]
     },
     "metadata": {},
     "output_type": "display_data"
    }
   ],
   "source": [
    "#Selecting fields of KNA1\n",
    "kna1Field = kna1Field.selectExpr('KUNNR as KUNNR_KNA1', 'LAND1', 'NAME1', 'NAME2', 'ORT01', 'REGIO', 'UF', 'CNAE', 'INDTYP', 'LOEVM', 'ERDAT')"
   ]
  },
  {
   "cell_type": "code",
   "execution_count": 27,
   "metadata": {
    "scrolled": true
   },
   "outputs": [
    {
     "data": {
      "application/vnd.jupyter.widget-view+json": {
       "model_id": "eabbf94be0ac4a4291f029604d9e313d",
       "version_major": 2,
       "version_minor": 0
      },
      "text/plain": [
       "VBox()"
      ]
     },
     "metadata": {},
     "output_type": "display_data"
    },
    {
     "data": {
      "application/vnd.jupyter.widget-view+json": {
       "model_id": "",
       "version_major": 2,
       "version_minor": 0
      },
      "text/plain": [
       "FloatProgress(value=0.0, bar_style='info', description='Progress:', layout=Layout(height='25px', width='50%'),…"
      ]
     },
     "metadata": {},
     "output_type": "display_data"
    }
   ],
   "source": [
    "#Filtering country like Brazil\n",
    "kna1Field = kna1Field.where(kna1Field.LAND1 == 'BR')"
   ]
  },
  {
   "cell_type": "code",
   "execution_count": 30,
   "metadata": {},
   "outputs": [
    {
     "data": {
      "application/vnd.jupyter.widget-view+json": {
       "model_id": "111220f22e06401a90e93794006f3459",
       "version_major": 2,
       "version_minor": 0
      },
      "text/plain": [
       "VBox()"
      ]
     },
     "metadata": {},
     "output_type": "display_data"
    },
    {
     "data": {
      "application/vnd.jupyter.widget-view+json": {
       "model_id": "",
       "version_major": 2,
       "version_minor": 0
      },
      "text/plain": [
       "FloatProgress(value=0.0, bar_style='info', description='Progress:', layout=Layout(height='25px', width='50%'),…"
      ]
     },
     "metadata": {},
     "output_type": "display_data"
    }
   ],
   "source": [
    "#Creating a new column to receive the cliente code without the string rows\n",
    "kna1Field = kna1Field.withColumn('NEW_KUNNR_KNA1', regexp_extract(col('KUNNR_KNA1'), '[a-zA-Z]+(\\W)', 0))"
   ]
  },
  {
   "cell_type": "code",
   "execution_count": 31,
   "metadata": {},
   "outputs": [
    {
     "data": {
      "application/vnd.jupyter.widget-view+json": {
       "model_id": "174e8e6fde174eea8024156959f0d003",
       "version_major": 2,
       "version_minor": 0
      },
      "text/plain": [
       "VBox()"
      ]
     },
     "metadata": {},
     "output_type": "display_data"
    },
    {
     "data": {
      "application/vnd.jupyter.widget-view+json": {
       "model_id": "",
       "version_major": 2,
       "version_minor": 0
      },
      "text/plain": [
       "FloatProgress(value=0.0, bar_style='info', description='Progress:', layout=Layout(height='25px', width='50%'),…"
      ]
     },
     "metadata": {},
     "output_type": "display_data"
    }
   ],
   "source": [
    "#Receiving only the cliente codes not like strings\n",
    "kna1Field=kna1Field.where(~kna1Field.NEW_KUNNR_KNA1.rlike('[a-zA-Z]+(\\W)'))"
   ]
  },
  {
   "cell_type": "code",
   "execution_count": 32,
   "metadata": {},
   "outputs": [
    {
     "data": {
      "application/vnd.jupyter.widget-view+json": {
       "model_id": "77cd04d0473847c5b2ba0ce85e9400cc",
       "version_major": 2,
       "version_minor": 0
      },
      "text/plain": [
       "VBox()"
      ]
     },
     "metadata": {},
     "output_type": "display_data"
    },
    {
     "data": {
      "application/vnd.jupyter.widget-view+json": {
       "model_id": "",
       "version_major": 2,
       "version_minor": 0
      },
      "text/plain": [
       "FloatProgress(value=0.0, bar_style='info', description='Progress:', layout=Layout(height='25px', width='50%'),…"
      ]
     },
     "metadata": {},
     "output_type": "display_data"
    }
   ],
   "source": [
    "#Converting the client code to integer.\n",
    "kna1Field = kna1Field.withColumn(\"NEW_KUNNR_KNA1\", kna1Field[\"KUNNR_KNA1\"].cast(IntegerType()))"
   ]
  },
  {
   "cell_type": "code",
   "execution_count": 33,
   "metadata": {},
   "outputs": [
    {
     "data": {
      "application/vnd.jupyter.widget-view+json": {
       "model_id": "e676bfb02838445da3aaf58ed23110c5",
       "version_major": 2,
       "version_minor": 0
      },
      "text/plain": [
       "VBox()"
      ]
     },
     "metadata": {},
     "output_type": "display_data"
    },
    {
     "data": {
      "application/vnd.jupyter.widget-view+json": {
       "model_id": "",
       "version_major": 2,
       "version_minor": 0
      },
      "text/plain": [
       "FloatProgress(value=0.0, bar_style='info', description='Progress:', layout=Layout(height='25px', width='50%'),…"
      ]
     },
     "metadata": {},
     "output_type": "display_data"
    }
   ],
   "source": [
    "#Create a column with the size of the client code\n",
    "kna1Field=kna1Field.withColumn(\"SIZE_OF\", length(col(\"NEW_KUNNR_KNA1\")))"
   ]
  },
  {
   "cell_type": "code",
   "execution_count": 34,
   "metadata": {},
   "outputs": [
    {
     "data": {
      "application/vnd.jupyter.widget-view+json": {
       "model_id": "768691326a554de5bff0c72a3990311a",
       "version_major": 2,
       "version_minor": 0
      },
      "text/plain": [
       "VBox()"
      ]
     },
     "metadata": {},
     "output_type": "display_data"
    },
    {
     "data": {
      "application/vnd.jupyter.widget-view+json": {
       "model_id": "",
       "version_major": 2,
       "version_minor": 0
      },
      "text/plain": [
       "FloatProgress(value=0.0, bar_style='info', description='Progress:', layout=Layout(height='25px', width='50%'),…"
      ]
     },
     "metadata": {},
     "output_type": "display_data"
    }
   ],
   "source": [
    "#Removing the rows that the client cod is different then 9 digits\n",
    "kna1Field=kna1Field.where(col(\"SIZE_OF\") == '9')"
   ]
  },
  {
   "cell_type": "markdown",
   "metadata": {},
   "source": [
    "# END - KNA1"
   ]
  },
  {
   "cell_type": "markdown",
   "metadata": {},
   "source": [
    "# KNVP"
   ]
  },
  {
   "cell_type": "code",
   "execution_count": 35,
   "metadata": {},
   "outputs": [
    {
     "data": {
      "application/vnd.jupyter.widget-view+json": {
       "model_id": "903b359ccbdf419b9cf26a63ae1efffa",
       "version_major": 2,
       "version_minor": 0
      },
      "text/plain": [
       "VBox()"
      ]
     },
     "metadata": {},
     "output_type": "display_data"
    },
    {
     "data": {
      "application/vnd.jupyter.widget-view+json": {
       "model_id": "",
       "version_major": 2,
       "version_minor": 0
      },
      "text/plain": [
       "FloatProgress(value=0.0, bar_style='info', description='Progress:', layout=Layout(height='25px', width='50%'),…"
      ]
     },
     "metadata": {},
     "output_type": "display_data"
    }
   ],
   "source": [
    "#Selecting fields from KNVP\n",
    "knvpField = knvpField.selectExpr('KUNNR as KUNNR_KNVP'\n",
    "                                 , 'VKORG as VKORG_KNVP'\n",
    "                                 , 'VTWEG as VTWEG_KNVP'\n",
    "                                 , 'SPART as SPART_KNVP'\n",
    "                                 , 'PARVW as PARVW_KNVP'\n",
    "                                 , 'KUNN2 AS KUNN2_KNVP'\n",
    "                                 , 'LIFNR AS LIFNR_KNVP'\n",
    "                                 , 'PERNR AS PERN_KNVP')"
   ]
  },
  {
   "cell_type": "code",
   "execution_count": 36,
   "metadata": {},
   "outputs": [
    {
     "data": {
      "application/vnd.jupyter.widget-view+json": {
       "model_id": "0983e8f6bc9a4316a3688bf121dcb6ba",
       "version_major": 2,
       "version_minor": 0
      },
      "text/plain": [
       "VBox()"
      ]
     },
     "metadata": {},
     "output_type": "display_data"
    },
    {
     "data": {
      "application/vnd.jupyter.widget-view+json": {
       "model_id": "",
       "version_major": 2,
       "version_minor": 0
      },
      "text/plain": [
       "FloatProgress(value=0.0, bar_style='info', description='Progress:', layout=Layout(height='25px', width='50%'),…"
      ]
     },
     "metadata": {},
     "output_type": "display_data"
    }
   ],
   "source": [
    "#Applying filter - Organization Sales = Brazil\n",
    "knvpField = knvpField.where((knvpField.VKORG_KNVP == 'BRIN')| \n",
    "                            (knvpField.VKORG_KNVP == 'BRIO')| \n",
    "                            (knvpField.VKORG_KNVP == 'BRDI')| \n",
    "                            (knvpField.VKORG_KNVP == 'BRDO')| \n",
    "                            (knvpField.VKORG_KNVP == 'BRCC')|\n",
    "                            (knvpField.VKORG_KNVP == 'BRCO')|\n",
    "                            (knvpField.VKORG_KNVP == 'BRCG')|\n",
    "                            (knvpField.VKORG_KNVP == 'BRGO')|\n",
    "                            (knvpField.VKORG_KNVP == 'BRTR')|\n",
    "                            (knvpField.VKORG_KNVP == 'BRTO'))"
   ]
  },
  {
   "cell_type": "code",
   "execution_count": 37,
   "metadata": {},
   "outputs": [
    {
     "data": {
      "application/vnd.jupyter.widget-view+json": {
       "model_id": "3f7bff0602f846b78ed8b6b457eceb27",
       "version_major": 2,
       "version_minor": 0
      },
      "text/plain": [
       "VBox()"
      ]
     },
     "metadata": {},
     "output_type": "display_data"
    },
    {
     "data": {
      "application/vnd.jupyter.widget-view+json": {
       "model_id": "",
       "version_major": 2,
       "version_minor": 0
      },
      "text/plain": [
       "FloatProgress(value=0.0, bar_style='info', description='Progress:', layout=Layout(height='25px', width='50%'),…"
      ]
     },
     "metadata": {},
     "output_type": "display_data"
    }
   ],
   "source": [
    "#Creating a new column to receive the kunn2\n",
    "knvpField = knvpField.withColumn('NEW_KUNN2_KNVP'\n",
    "                                 , regexp_extract(col('KUNN2_KNVP')\n",
    "                                                  , '[a-zA-Z]+(\\W)'\n",
    "                                                  , 0))"
   ]
  },
  {
   "cell_type": "code",
   "execution_count": 38,
   "metadata": {},
   "outputs": [
    {
     "data": {
      "application/vnd.jupyter.widget-view+json": {
       "model_id": "9327fd48b98a41bfb3d6bb906a22f863",
       "version_major": 2,
       "version_minor": 0
      },
      "text/plain": [
       "VBox()"
      ]
     },
     "metadata": {},
     "output_type": "display_data"
    },
    {
     "data": {
      "application/vnd.jupyter.widget-view+json": {
       "model_id": "",
       "version_major": 2,
       "version_minor": 0
      },
      "text/plain": [
       "FloatProgress(value=0.0, bar_style='info', description='Progress:', layout=Layout(height='25px', width='50%'),…"
      ]
     },
     "metadata": {},
     "output_type": "display_data"
    }
   ],
   "source": [
    "#Receveing the KUUN2 different than strings\n",
    "knvpField=knvpField.where(~knvpField.NEW_KUNN2_KNVP.rlike('[a-zA-Z]+(\\W)'))"
   ]
  },
  {
   "cell_type": "code",
   "execution_count": 39,
   "metadata": {},
   "outputs": [
    {
     "data": {
      "application/vnd.jupyter.widget-view+json": {
       "model_id": "d254fa957f12469886140d70506ffea4",
       "version_major": 2,
       "version_minor": 0
      },
      "text/plain": [
       "VBox()"
      ]
     },
     "metadata": {},
     "output_type": "display_data"
    },
    {
     "data": {
      "application/vnd.jupyter.widget-view+json": {
       "model_id": "",
       "version_major": 2,
       "version_minor": 0
      },
      "text/plain": [
       "FloatProgress(value=0.0, bar_style='info', description='Progress:', layout=Layout(height='25px', width='50%'),…"
      ]
     },
     "metadata": {},
     "output_type": "display_data"
    }
   ],
   "source": [
    "#Converting the KUUN2 to integer\n",
    "knvpField = knvpField.withColumn(\"NEW_KUNN2_KNVP\"\n",
    "                                 , knvpField[\"KUNN2_KNVP\"].cast(IntegerType()))"
   ]
  },
  {
   "cell_type": "code",
   "execution_count": 40,
   "metadata": {},
   "outputs": [
    {
     "data": {
      "application/vnd.jupyter.widget-view+json": {
       "model_id": "180a757bd9cc45ab85348cb7a525f16b",
       "version_major": 2,
       "version_minor": 0
      },
      "text/plain": [
       "VBox()"
      ]
     },
     "metadata": {},
     "output_type": "display_data"
    },
    {
     "data": {
      "application/vnd.jupyter.widget-view+json": {
       "model_id": "",
       "version_major": 2,
       "version_minor": 0
      },
      "text/plain": [
       "FloatProgress(value=0.0, bar_style='info', description='Progress:', layout=Layout(height='25px', width='50%'),…"
      ]
     },
     "metadata": {},
     "output_type": "display_data"
    }
   ],
   "source": [
    "#Converting the LIFNR to integer\n",
    "knvpField = knvpField.withColumn(\"NEW_LIFNR_KNVP\"\n",
    "                                 , knvpField[\"LIFNR_KNVP\"].cast(IntegerType()))"
   ]
  },
  {
   "cell_type": "code",
   "execution_count": 41,
   "metadata": {},
   "outputs": [
    {
     "data": {
      "application/vnd.jupyter.widget-view+json": {
       "model_id": "4fa09f704c1e4f8ab6b147341b8e35e2",
       "version_major": 2,
       "version_minor": 0
      },
      "text/plain": [
       "VBox()"
      ]
     },
     "metadata": {},
     "output_type": "display_data"
    },
    {
     "data": {
      "application/vnd.jupyter.widget-view+json": {
       "model_id": "",
       "version_major": 2,
       "version_minor": 0
      },
      "text/plain": [
       "FloatProgress(value=0.0, bar_style='info', description='Progress:', layout=Layout(height='25px', width='50%'),…"
      ]
     },
     "metadata": {},
     "output_type": "display_data"
    }
   ],
   "source": [
    "##Removing unnecessary columns from KnvpField Datraframe\n",
    "knvpField = knvpField.drop('KUNN2_KNVP'\n",
    "                           ,'LIFNR_KNVP')"
   ]
  },
  {
   "cell_type": "code",
   "execution_count": 42,
   "metadata": {},
   "outputs": [
    {
     "data": {
      "application/vnd.jupyter.widget-view+json": {
       "model_id": "df83f81b32704ae7af9bef9e478e5f76",
       "version_major": 2,
       "version_minor": 0
      },
      "text/plain": [
       "VBox()"
      ]
     },
     "metadata": {},
     "output_type": "display_data"
    },
    {
     "data": {
      "application/vnd.jupyter.widget-view+json": {
       "model_id": "",
       "version_major": 2,
       "version_minor": 0
      },
      "text/plain": [
       "FloatProgress(value=0.0, bar_style='info', description='Progress:', layout=Layout(height='25px', width='50%'),…"
      ]
     },
     "metadata": {},
     "output_type": "display_data"
    }
   ],
   "source": [
    "##Fill NEW_KUNN2_KNVP with zero\n",
    "knvpField = knvpField.fillna({'NEW_KUNN2_KNVP':0})"
   ]
  },
  {
   "cell_type": "code",
   "execution_count": 43,
   "metadata": {},
   "outputs": [
    {
     "data": {
      "application/vnd.jupyter.widget-view+json": {
       "model_id": "ee42e21732104b22991c0dd11eca9ed5",
       "version_major": 2,
       "version_minor": 0
      },
      "text/plain": [
       "VBox()"
      ]
     },
     "metadata": {},
     "output_type": "display_data"
    },
    {
     "data": {
      "application/vnd.jupyter.widget-view+json": {
       "model_id": "",
       "version_major": 2,
       "version_minor": 0
      },
      "text/plain": [
       "FloatProgress(value=0.0, bar_style='info', description='Progress:', layout=Layout(height='25px', width='50%'),…"
      ]
     },
     "metadata": {},
     "output_type": "display_data"
    }
   ],
   "source": [
    "##Fill NEW_LIFNR_KNVP with zero\n",
    "knvpField = knvpField.fillna({'NEW_LIFNR_KNVP':0})"
   ]
  },
  {
   "cell_type": "code",
   "execution_count": 44,
   "metadata": {},
   "outputs": [
    {
     "data": {
      "application/vnd.jupyter.widget-view+json": {
       "model_id": "429702ca536941048dc210529c16c95d",
       "version_major": 2,
       "version_minor": 0
      },
      "text/plain": [
       "VBox()"
      ]
     },
     "metadata": {},
     "output_type": "display_data"
    },
    {
     "data": {
      "application/vnd.jupyter.widget-view+json": {
       "model_id": "",
       "version_major": 2,
       "version_minor": 0
      },
      "text/plain": [
       "FloatProgress(value=0.0, bar_style='info', description='Progress:', layout=Layout(height='25px', width='50%'),…"
      ]
     },
     "metadata": {},
     "output_type": "display_data"
    }
   ],
   "source": [
    "##Creating a new column to save the key of a group that the clients belongs\n",
    "knvpField = knvpField.withColumn('GROUP_KEY'\n",
    "                                 , expr(\"PERN_KNVP + NEW_KUNN2_KNVP + NEW_LIFNR_KNVP\"))"
   ]
  },
  {
   "cell_type": "code",
   "execution_count": 47,
   "metadata": {},
   "outputs": [
    {
     "data": {
      "application/vnd.jupyter.widget-view+json": {
       "model_id": "516058178928402884c1d6142f7442e8",
       "version_major": 2,
       "version_minor": 0
      },
      "text/plain": [
       "VBox()"
      ]
     },
     "metadata": {},
     "output_type": "display_data"
    },
    {
     "data": {
      "application/vnd.jupyter.widget-view+json": {
       "model_id": "",
       "version_major": 2,
       "version_minor": 0
      },
      "text/plain": [
       "FloatProgress(value=0.0, bar_style='info', description='Progress:', layout=Layout(height='25px', width='50%'),…"
      ]
     },
     "metadata": {},
     "output_type": "display_data"
    }
   ],
   "source": [
    "#Creating a new column to receive the cliente cod and remove the string rows\n",
    "knvpField = knvpField.withColumn('NEW_KUNNR_KNVP'\n",
    "                                 , regexp_extract(col('KUNNR_KNVP')\n",
    "                                                  , '[a-zA-Z]+(\\W)', 0))"
   ]
  },
  {
   "cell_type": "code",
   "execution_count": 48,
   "metadata": {},
   "outputs": [
    {
     "data": {
      "application/vnd.jupyter.widget-view+json": {
       "model_id": "83ace76eed594736901fb332c94f446d",
       "version_major": 2,
       "version_minor": 0
      },
      "text/plain": [
       "VBox()"
      ]
     },
     "metadata": {},
     "output_type": "display_data"
    },
    {
     "data": {
      "application/vnd.jupyter.widget-view+json": {
       "model_id": "",
       "version_major": 2,
       "version_minor": 0
      },
      "text/plain": [
       "FloatProgress(value=0.0, bar_style='info', description='Progress:', layout=Layout(height='25px', width='50%'),…"
      ]
     },
     "metadata": {},
     "output_type": "display_data"
    }
   ],
   "source": [
    "#Receiving the clients codes differente than strings\n",
    "knvpField=knvpField.where(~knvpField.NEW_KUNNR_KNVP.rlike('[a-zA-Z]+(\\W)'))"
   ]
  },
  {
   "cell_type": "code",
   "execution_count": 49,
   "metadata": {},
   "outputs": [
    {
     "data": {
      "application/vnd.jupyter.widget-view+json": {
       "model_id": "758a1741887c48c68e79f0ea42b2ba5c",
       "version_major": 2,
       "version_minor": 0
      },
      "text/plain": [
       "VBox()"
      ]
     },
     "metadata": {},
     "output_type": "display_data"
    },
    {
     "data": {
      "application/vnd.jupyter.widget-view+json": {
       "model_id": "",
       "version_major": 2,
       "version_minor": 0
      },
      "text/plain": [
       "FloatProgress(value=0.0, bar_style='info', description='Progress:', layout=Layout(height='25px', width='50%'),…"
      ]
     },
     "metadata": {},
     "output_type": "display_data"
    }
   ],
   "source": [
    "#Converting the client code to integer\n",
    "knvpField = knvpField.withColumn(\"NEW_KUNNR_KNVP\"\n",
    "                                 , knvpField[\"KUNNR_KNVP\"].cast(IntegerType()))"
   ]
  },
  {
   "cell_type": "code",
   "execution_count": 50,
   "metadata": {},
   "outputs": [
    {
     "data": {
      "application/vnd.jupyter.widget-view+json": {
       "model_id": "c46002eb01724dc8a9766a4109161b55",
       "version_major": 2,
       "version_minor": 0
      },
      "text/plain": [
       "VBox()"
      ]
     },
     "metadata": {},
     "output_type": "display_data"
    },
    {
     "data": {
      "application/vnd.jupyter.widget-view+json": {
       "model_id": "",
       "version_major": 2,
       "version_minor": 0
      },
      "text/plain": [
       "FloatProgress(value=0.0, bar_style='info', description='Progress:', layout=Layout(height='25px', width='50%'),…"
      ]
     },
     "metadata": {},
     "output_type": "display_data"
    }
   ],
   "source": [
    "#Creating a new column with the lenght of the client key\n",
    "knvpField=knvpField.withColumn(\"SIZE_OF\"\n",
    "                               , length(col(\"NEW_KUNNR_KNVP\")))"
   ]
  },
  {
   "cell_type": "code",
   "execution_count": 51,
   "metadata": {},
   "outputs": [
    {
     "data": {
      "application/vnd.jupyter.widget-view+json": {
       "model_id": "2fbaa7cc472841758eb4efff579c68fa",
       "version_major": 2,
       "version_minor": 0
      },
      "text/plain": [
       "VBox()"
      ]
     },
     "metadata": {},
     "output_type": "display_data"
    },
    {
     "data": {
      "application/vnd.jupyter.widget-view+json": {
       "model_id": "",
       "version_major": 2,
       "version_minor": 0
      },
      "text/plain": [
       "FloatProgress(value=0.0, bar_style='info', description='Progress:', layout=Layout(height='25px', width='50%'),…"
      ]
     },
     "metadata": {},
     "output_type": "display_data"
    }
   ],
   "source": [
    "#Removing the rows which the client key is different the 9 digits\n",
    "knvpField=knvpField.where(col(\"SIZE_OF\") == '9')"
   ]
  },
  {
   "cell_type": "code",
   "execution_count": 52,
   "metadata": {
    "scrolled": true
   },
   "outputs": [
    {
     "data": {
      "application/vnd.jupyter.widget-view+json": {
       "model_id": "2027974d77874fcfadfea787ce34f51b",
       "version_major": 2,
       "version_minor": 0
      },
      "text/plain": [
       "VBox()"
      ]
     },
     "metadata": {},
     "output_type": "display_data"
    },
    {
     "data": {
      "application/vnd.jupyter.widget-view+json": {
       "model_id": "",
       "version_major": 2,
       "version_minor": 0
      },
      "text/plain": [
       "FloatProgress(value=0.0, bar_style='info', description='Progress:', layout=Layout(height='25px', width='50%'),…"
      ]
     },
     "metadata": {},
     "output_type": "display_data"
    }
   ],
   "source": [
    "#Creating a CLIENT_KEY, as the unique key from client\n",
    "knvpField = knvpField.withColumn('CLIENT_KEY_KNVP', concat(col('NEW_KUNNR_KNVP')\n",
    "                                                           ,col('VKORG_KNVP')\n",
    "                                                           ,col('VTWEG_KNVP')\n",
    "                                                           ,col('SPART_KNVP')))"
   ]
  },
  {
   "cell_type": "code",
   "execution_count": 53,
   "metadata": {},
   "outputs": [
    {
     "data": {
      "application/vnd.jupyter.widget-view+json": {
       "model_id": "6ce8f91e32d548fa8021a47d6b9ab826",
       "version_major": 2,
       "version_minor": 0
      },
      "text/plain": [
       "VBox()"
      ]
     },
     "metadata": {},
     "output_type": "display_data"
    },
    {
     "data": {
      "application/vnd.jupyter.widget-view+json": {
       "model_id": "",
       "version_major": 2,
       "version_minor": 0
      },
      "text/plain": [
       "FloatProgress(value=0.0, bar_style='info', description='Progress:', layout=Layout(height='25px', width='50%'),…"
      ]
     },
     "metadata": {},
     "output_type": "display_data"
    }
   ],
   "source": [
    "#Transposing the \"PARVW_KNVP\" column, to keep the (KUNNR, VKORG, VTWEG, SPART) unique, and aggregatin the GROUP_KEY\n",
    "knvpField=knvpField.groupBy('CLIENT_KEY_KNVP','NEW_KUNNR_KNVP', 'VKORG_KNVP', 'VTWEG_KNVP', 'SPART_KNVP')\\\n",
    "                   .pivot(\"PARVW_KNVP\")\\\n",
    "                   .agg(avg('GROUP_KEY'))"
   ]
  },
  {
   "cell_type": "code",
   "execution_count": 54,
   "metadata": {},
   "outputs": [
    {
     "data": {
      "application/vnd.jupyter.widget-view+json": {
       "model_id": "51c5fe48c6c74f4f95e72087963867b0",
       "version_major": 2,
       "version_minor": 0
      },
      "text/plain": [
       "VBox()"
      ]
     },
     "metadata": {},
     "output_type": "display_data"
    },
    {
     "data": {
      "application/vnd.jupyter.widget-view+json": {
       "model_id": "",
       "version_major": 2,
       "version_minor": 0
      },
      "text/plain": [
       "FloatProgress(value=0.0, bar_style='info', description='Progress:', layout=Layout(height='25px', width='50%'),…"
      ]
     },
     "metadata": {},
     "output_type": "display_data"
    }
   ],
   "source": [
    "#Fill the empty field with \"0\"\n",
    "knvpField = knvpField.na.fill(0)"
   ]
  },
  {
   "cell_type": "markdown",
   "metadata": {},
   "source": [
    "# End - KNVP"
   ]
  },
  {
   "cell_type": "markdown",
   "metadata": {},
   "source": [
    "# KNVV"
   ]
  },
  {
   "cell_type": "code",
   "execution_count": 55,
   "metadata": {},
   "outputs": [
    {
     "data": {
      "application/vnd.jupyter.widget-view+json": {
       "model_id": "55b2b52a64d64bae9d43a381a808993f",
       "version_major": 2,
       "version_minor": 0
      },
      "text/plain": [
       "VBox()"
      ]
     },
     "metadata": {},
     "output_type": "display_data"
    },
    {
     "data": {
      "application/vnd.jupyter.widget-view+json": {
       "model_id": "",
       "version_major": 2,
       "version_minor": 0
      },
      "text/plain": [
       "FloatProgress(value=0.0, bar_style='info', description='Progress:', layout=Layout(height='25px', width='50%'),…"
      ]
     },
     "metadata": {},
     "output_type": "display_data"
    }
   ],
   "source": [
    "#Selecting fields of KNVV\n",
    "knvvField = knvvField.selectExpr('KUNNR as KUNNR_KNVV', 'VKORG as VKORG_KNVV', \n",
    "                                 'VTWEG as VTWEG_KNVV', 'SPART as SPART_KNVV', \n",
    "                                 'KVGR3 as KVGR3_KNVV', 'KONDA as KONDA_KNVV',\n",
    "                                 'KVGR1 as KVGR1_KNVV', 'LPRIO as LPRIO_KNVV', \n",
    "                                 'LOEVM as LOEVM_KNVV', 'KDGRP as KDGRP_KNVV', \n",
    "                                 'VKBUR as VKBUR_KNVV', 'VKGRP AS VKGRP_KNVV')"
   ]
  },
  {
   "cell_type": "code",
   "execution_count": 58,
   "metadata": {},
   "outputs": [
    {
     "data": {
      "application/vnd.jupyter.widget-view+json": {
       "model_id": "0ea69d70086944c7a4f244f048fe3c2c",
       "version_major": 2,
       "version_minor": 0
      },
      "text/plain": [
       "VBox()"
      ]
     },
     "metadata": {},
     "output_type": "display_data"
    },
    {
     "data": {
      "application/vnd.jupyter.widget-view+json": {
       "model_id": "",
       "version_major": 2,
       "version_minor": 0
      },
      "text/plain": [
       "FloatProgress(value=0.0, bar_style='info', description='Progress:', layout=Layout(height='25px', width='50%'),…"
      ]
     },
     "metadata": {},
     "output_type": "display_data"
    }
   ],
   "source": [
    "#Creating a new column to receive the cliente code, remove the strings\n",
    "knvvField = knvvField.withColumn('NEW_KUNNR_KNVV'\n",
    "                                 , regexp_extract(col('KUNNR_KNVV')\n",
    "                                                  , '[a-zA-Z]+(\\W)', 0))"
   ]
  },
  {
   "cell_type": "code",
   "execution_count": 59,
   "metadata": {},
   "outputs": [
    {
     "data": {
      "application/vnd.jupyter.widget-view+json": {
       "model_id": "4f6e8c73abd6489dada998ebcd86d408",
       "version_major": 2,
       "version_minor": 0
      },
      "text/plain": [
       "VBox()"
      ]
     },
     "metadata": {},
     "output_type": "display_data"
    },
    {
     "data": {
      "application/vnd.jupyter.widget-view+json": {
       "model_id": "",
       "version_major": 2,
       "version_minor": 0
      },
      "text/plain": [
       "FloatProgress(value=0.0, bar_style='info', description='Progress:', layout=Layout(height='25px', width='50%'),…"
      ]
     },
     "metadata": {},
     "output_type": "display_data"
    }
   ],
   "source": [
    "#Receiving the clients codes not like strings\n",
    "knvvField=knvvField.where(~knvvField.NEW_KUNNR_KNVV.rlike('[a-zA-Z]+(\\W)'))"
   ]
  },
  {
   "cell_type": "code",
   "execution_count": 60,
   "metadata": {},
   "outputs": [
    {
     "data": {
      "application/vnd.jupyter.widget-view+json": {
       "model_id": "9bdb4bce66014913bf89a1c471b3b3e9",
       "version_major": 2,
       "version_minor": 0
      },
      "text/plain": [
       "VBox()"
      ]
     },
     "metadata": {},
     "output_type": "display_data"
    },
    {
     "data": {
      "application/vnd.jupyter.widget-view+json": {
       "model_id": "",
       "version_major": 2,
       "version_minor": 0
      },
      "text/plain": [
       "FloatProgress(value=0.0, bar_style='info', description='Progress:', layout=Layout(height='25px', width='50%'),…"
      ]
     },
     "metadata": {},
     "output_type": "display_data"
    }
   ],
   "source": [
    "#Converting the client code to integer\n",
    "knvvField = knvvField.withColumn(\"NEW_KUNNR_KNVV\"\n",
    "                                 , knvvField[\"KUNNR_KNVV\"].cast(IntegerType()))"
   ]
  },
  {
   "cell_type": "code",
   "execution_count": 61,
   "metadata": {},
   "outputs": [
    {
     "data": {
      "application/vnd.jupyter.widget-view+json": {
       "model_id": "9612282105a8486c8641399fa4301515",
       "version_major": 2,
       "version_minor": 0
      },
      "text/plain": [
       "VBox()"
      ]
     },
     "metadata": {},
     "output_type": "display_data"
    },
    {
     "data": {
      "application/vnd.jupyter.widget-view+json": {
       "model_id": "",
       "version_major": 2,
       "version_minor": 0
      },
      "text/plain": [
       "FloatProgress(value=0.0, bar_style='info', description='Progress:', layout=Layout(height='25px', width='50%'),…"
      ]
     },
     "metadata": {},
     "output_type": "display_data"
    }
   ],
   "source": [
    "#Creating a new column with the lenght of the cliente key\n",
    "knvvField=knvvField.withColumn(\"SIZE_OF\"\n",
    "                               , length(col(\"NEW_KUNNR_KNVV\")))"
   ]
  },
  {
   "cell_type": "code",
   "execution_count": 62,
   "metadata": {},
   "outputs": [
    {
     "data": {
      "application/vnd.jupyter.widget-view+json": {
       "model_id": "e27edbbc0c8640af9825eefd65e20c18",
       "version_major": 2,
       "version_minor": 0
      },
      "text/plain": [
       "VBox()"
      ]
     },
     "metadata": {},
     "output_type": "display_data"
    },
    {
     "data": {
      "application/vnd.jupyter.widget-view+json": {
       "model_id": "",
       "version_major": 2,
       "version_minor": 0
      },
      "text/plain": [
       "FloatProgress(value=0.0, bar_style='info', description='Progress:', layout=Layout(height='25px', width='50%'),…"
      ]
     },
     "metadata": {},
     "output_type": "display_data"
    }
   ],
   "source": [
    "#Removing the rows which the cliente key is not liek 9 digits\n",
    "knvvField=knvvField.where(col(\"SIZE_OF\") == '9')"
   ]
  },
  {
   "cell_type": "code",
   "execution_count": 63,
   "metadata": {},
   "outputs": [
    {
     "data": {
      "application/vnd.jupyter.widget-view+json": {
       "model_id": "8aa31ab1bdea4680bd560397c942b73e",
       "version_major": 2,
       "version_minor": 0
      },
      "text/plain": [
       "VBox()"
      ]
     },
     "metadata": {},
     "output_type": "display_data"
    },
    {
     "data": {
      "application/vnd.jupyter.widget-view+json": {
       "model_id": "",
       "version_major": 2,
       "version_minor": 0
      },
      "text/plain": [
       "FloatProgress(value=0.0, bar_style='info', description='Progress:', layout=Layout(height='25px', width='50%'),…"
      ]
     },
     "metadata": {},
     "output_type": "display_data"
    }
   ],
   "source": [
    "#Applying filter, selecting the Organization Sales from Brasil. \n",
    "knvvField = knvvField.where((knvvField.VKORG_KNVV == 'BRIN')| \n",
    "                            (knvvField.VKORG_KNVV == 'BRIO')| \n",
    "                            (knvvField.VKORG_KNVV == 'BRDI')| \n",
    "                            (knvvField.VKORG_KNVV == 'BRDO')| \n",
    "                            (knvvField.VKORG_KNVV == 'BRCC')|\n",
    "                            (knvvField.VKORG_KNVV == 'BRCO')|\n",
    "                            (knvvField.VKORG_KNVV == 'BRCG')|\n",
    "                            (knvvField.VKORG_KNVV == 'BRGO')|\n",
    "                            (knvvField.VKORG_KNVV == 'BRTR')|\n",
    "                            (knvvField.VKORG_KNVV == 'BRTO'))"
   ]
  },
  {
   "cell_type": "code",
   "execution_count": 64,
   "metadata": {},
   "outputs": [
    {
     "data": {
      "application/vnd.jupyter.widget-view+json": {
       "model_id": "d4aab9bd74ab41a1b22682664afd8056",
       "version_major": 2,
       "version_minor": 0
      },
      "text/plain": [
       "VBox()"
      ]
     },
     "metadata": {},
     "output_type": "display_data"
    },
    {
     "data": {
      "application/vnd.jupyter.widget-view+json": {
       "model_id": "",
       "version_major": 2,
       "version_minor": 0
      },
      "text/plain": [
       "FloatProgress(value=0.0, bar_style='info', description='Progress:', layout=Layout(height='25px', width='50%'),…"
      ]
     },
     "metadata": {},
     "output_type": "display_data"
    }
   ],
   "source": [
    "#Creating the CLIENT_KEY\n",
    "knvvField = knvvField.withColumn('CLIENT_KEY_KNVV', \n",
    "                                 concat(col('NEW_KUNNR_KNVV')\n",
    "                                        , col('VKORG_KNVV')\n",
    "                                        , col('VTWEG_KNVV')\n",
    "                                        , col('SPART_KNVV')))"
   ]
  },
  {
   "cell_type": "markdown",
   "metadata": {},
   "source": [
    "# Final tabela KNVV"
   ]
  },
  {
   "cell_type": "markdown",
   "metadata": {},
   "source": [
    "# T151T"
   ]
  },
  {
   "cell_type": "code",
   "execution_count": 65,
   "metadata": {},
   "outputs": [
    {
     "data": {
      "application/vnd.jupyter.widget-view+json": {
       "model_id": "d70f20ae130b43359265503161ee5877",
       "version_major": 2,
       "version_minor": 0
      },
      "text/plain": [
       "VBox()"
      ]
     },
     "metadata": {},
     "output_type": "display_data"
    },
    {
     "data": {
      "application/vnd.jupyter.widget-view+json": {
       "model_id": "",
       "version_major": 2,
       "version_minor": 0
      },
      "text/plain": [
       "FloatProgress(value=0.0, bar_style='info', description='Progress:', layout=Layout(height='25px', width='50%'),…"
      ]
     },
     "metadata": {},
     "output_type": "display_data"
    }
   ],
   "source": [
    "#Selecting fields from T151T\n",
    "t151tField = t151tField.selectExpr('KDGRP as KDGRP_T151T'\n",
    "                                   , 'SPRAS as SPRAS_T151T'\n",
    "                                   , 'KTEXT')"
   ]
  },
  {
   "cell_type": "code",
   "execution_count": 66,
   "metadata": {},
   "outputs": [
    {
     "data": {
      "application/vnd.jupyter.widget-view+json": {
       "model_id": "4f3c259f704e414cbe35d44e94971255",
       "version_major": 2,
       "version_minor": 0
      },
      "text/plain": [
       "VBox()"
      ]
     },
     "metadata": {},
     "output_type": "display_data"
    },
    {
     "data": {
      "application/vnd.jupyter.widget-view+json": {
       "model_id": "",
       "version_major": 2,
       "version_minor": 0
      },
      "text/plain": [
       "FloatProgress(value=0.0, bar_style='info', description='Progress:', layout=Layout(height='25px', width='50%'),…"
      ]
     },
     "metadata": {},
     "output_type": "display_data"
    }
   ],
   "source": [
    "#Slection the language \"Language Key = P\" - Portuguese rows\n",
    "t151tField = t151tField.where(t151tField.SPRAS_T151T == 'P')"
   ]
  },
  {
   "cell_type": "markdown",
   "metadata": {},
   "source": [
    "# tvkotDesc = orgSales"
   ]
  },
  {
   "cell_type": "code",
   "execution_count": 69,
   "metadata": {},
   "outputs": [
    {
     "data": {
      "application/vnd.jupyter.widget-view+json": {
       "model_id": "f53ac18c0dac4c9194b56b4d71170526",
       "version_major": 2,
       "version_minor": 0
      },
      "text/plain": [
       "VBox()"
      ]
     },
     "metadata": {},
     "output_type": "display_data"
    },
    {
     "data": {
      "application/vnd.jupyter.widget-view+json": {
       "model_id": "",
       "version_major": 2,
       "version_minor": 0
      },
      "text/plain": [
       "FloatProgress(value=0.0, bar_style='info', description='Progress:', layout=Layout(height='25px', width='50%'),…"
      ]
     },
     "metadata": {},
     "output_type": "display_data"
    }
   ],
   "source": [
    "#Organization Table Description\n",
    "orgSales = tvkotDesc.selectExpr('spras AS SPRAS_ORGSALES'\n",
    "                                , 'vkorg AS VKORG_ORGSALES'\n",
    "                                , 'vtext AS VTEXT_ORGSALES')"
   ]
  },
  {
   "cell_type": "code",
   "execution_count": 70,
   "metadata": {},
   "outputs": [
    {
     "data": {
      "application/vnd.jupyter.widget-view+json": {
       "model_id": "69cd2eebc4fb4130bf11fa5d8f0ad908",
       "version_major": 2,
       "version_minor": 0
      },
      "text/plain": [
       "VBox()"
      ]
     },
     "metadata": {},
     "output_type": "display_data"
    },
    {
     "data": {
      "application/vnd.jupyter.widget-view+json": {
       "model_id": "",
       "version_major": 2,
       "version_minor": 0
      },
      "text/plain": [
       "FloatProgress(value=0.0, bar_style='info', description='Progress:', layout=Layout(height='25px', width='50%'),…"
      ]
     },
     "metadata": {},
     "output_type": "display_data"
    }
   ],
   "source": [
    "#Selection the language \"Language Key = P\" - Portuguese rows\n",
    "orgSales = orgSales.where(orgSales.SPRAS_ORGSALES == 'P')"
   ]
  },
  {
   "cell_type": "markdown",
   "metadata": {},
   "source": [
    "# END - tvkotDesc = orgSales"
   ]
  },
  {
   "cell_type": "markdown",
   "metadata": {},
   "source": [
    "# tvtwtDesc = distrChannel"
   ]
  },
  {
   "cell_type": "code",
   "execution_count": 73,
   "metadata": {},
   "outputs": [
    {
     "data": {
      "application/vnd.jupyter.widget-view+json": {
       "model_id": "c6a7aaa68ef54f75b477c475f804256c",
       "version_major": 2,
       "version_minor": 0
      },
      "text/plain": [
       "VBox()"
      ]
     },
     "metadata": {},
     "output_type": "display_data"
    },
    {
     "data": {
      "application/vnd.jupyter.widget-view+json": {
       "model_id": "",
       "version_major": 2,
       "version_minor": 0
      },
      "text/plain": [
       "FloatProgress(value=0.0, bar_style='info', description='Progress:', layout=Layout(height='25px', width='50%'),…"
      ]
     },
     "metadata": {},
     "output_type": "display_data"
    }
   ],
   "source": [
    "#Distribution channel Table Description\n",
    "distrChannel = canalDistrib.selectExpr('LANG_COD AS SPRAS_DISTRCHANNEL', 'DISTR_CHANNEL_COD AS COD_DISTRCHANNEL', 'DISTR_CHANNEL_DESC AS VTEXT_DISTRCHANNEL')"
   ]
  },
  {
   "cell_type": "code",
   "execution_count": 74,
   "metadata": {},
   "outputs": [
    {
     "data": {
      "application/vnd.jupyter.widget-view+json": {
       "model_id": "404f16ff209843c1bb85b1f1809ba400",
       "version_major": 2,
       "version_minor": 0
      },
      "text/plain": [
       "VBox()"
      ]
     },
     "metadata": {},
     "output_type": "display_data"
    },
    {
     "data": {
      "application/vnd.jupyter.widget-view+json": {
       "model_id": "",
       "version_major": 2,
       "version_minor": 0
      },
      "text/plain": [
       "FloatProgress(value=0.0, bar_style='info', description='Progress:', layout=Layout(height='25px', width='50%'),…"
      ]
     },
     "metadata": {},
     "output_type": "display_data"
    }
   ],
   "source": [
    "#Selection the language \"Language Key = P\" - Portuguese rows\n",
    "distrChannel = distrChannel.filter(distrChannel.SPRAS_DISTRCHANNEL.like('%PT%'))"
   ]
  },
  {
   "cell_type": "markdown",
   "metadata": {},
   "source": [
    "# END tvtwtDesc = distrChannel"
   ]
  },
  {
   "cell_type": "markdown",
   "metadata": {},
   "source": [
    "# tspatDesc = actSector"
   ]
  },
  {
   "cell_type": "code",
   "execution_count": 77,
   "metadata": {},
   "outputs": [
    {
     "data": {
      "application/vnd.jupyter.widget-view+json": {
       "model_id": "afa4d6a3df1841e0b819bb91a8bd6ec7",
       "version_major": 2,
       "version_minor": 0
      },
      "text/plain": [
       "VBox()"
      ]
     },
     "metadata": {},
     "output_type": "display_data"
    },
    {
     "data": {
      "application/vnd.jupyter.widget-view+json": {
       "model_id": "",
       "version_major": 2,
       "version_minor": 0
      },
      "text/plain": [
       "FloatProgress(value=0.0, bar_style='info', description='Progress:', layout=Layout(height='25px', width='50%'),…"
      ]
     },
     "metadata": {},
     "output_type": "display_data"
    }
   ],
   "source": [
    "#Acticity Sector Description\n",
    "actSector = tspatDesc.selectExpr('spras AS SPRAS_ACTSECTOR'\n",
    "                                 , 'spart AS SPART_ACTSECTOR'\n",
    "                                 , 'vtext AS VTEXT_ACTSECTOR')"
   ]
  },
  {
   "cell_type": "code",
   "execution_count": 78,
   "metadata": {},
   "outputs": [
    {
     "data": {
      "application/vnd.jupyter.widget-view+json": {
       "model_id": "233746dacf614c868ee5770e541af8d4",
       "version_major": 2,
       "version_minor": 0
      },
      "text/plain": [
       "VBox()"
      ]
     },
     "metadata": {},
     "output_type": "display_data"
    },
    {
     "data": {
      "application/vnd.jupyter.widget-view+json": {
       "model_id": "",
       "version_major": 2,
       "version_minor": 0
      },
      "text/plain": [
       "FloatProgress(value=0.0, bar_style='info', description='Progress:', layout=Layout(height='25px', width='50%'),…"
      ]
     },
     "metadata": {},
     "output_type": "display_data"
    }
   ],
   "source": [
    "#Selection the language \"Language Key = P\" - Portuguese rows\n",
    "actSector = actSector.where(actSector.SPRAS_ACTSECTOR == 'P')"
   ]
  },
  {
   "cell_type": "markdown",
   "metadata": {},
   "source": [
    "# END tspatDesc = actSector"
   ]
  },
  {
   "cell_type": "markdown",
   "metadata": {},
   "source": [
    "# tvkbtDesc = salesOffice"
   ]
  },
  {
   "cell_type": "code",
   "execution_count": 81,
   "metadata": {},
   "outputs": [
    {
     "data": {
      "application/vnd.jupyter.widget-view+json": {
       "model_id": "b60fb51a8d18489cb92225eb58d254b9",
       "version_major": 2,
       "version_minor": 0
      },
      "text/plain": [
       "VBox()"
      ]
     },
     "metadata": {},
     "output_type": "display_data"
    },
    {
     "data": {
      "application/vnd.jupyter.widget-view+json": {
       "model_id": "",
       "version_major": 2,
       "version_minor": 0
      },
      "text/plain": [
       "FloatProgress(value=0.0, bar_style='info', description='Progress:', layout=Layout(height='25px', width='50%'),…"
      ]
     },
     "metadata": {},
     "output_type": "display_data"
    }
   ],
   "source": [
    "#Sales office Table Description\n",
    "salesOffice = tvkbtDesc.selectExpr('spras AS SPRAS_SALESOFFICE'\n",
    "                                   , 'vkgrp AS VKGRP_SALESOFFICE'\n",
    "                                   , 'BEZEI AS BEZEI_SALESOFFICE')"
   ]
  },
  {
   "cell_type": "code",
   "execution_count": 82,
   "metadata": {},
   "outputs": [
    {
     "data": {
      "application/vnd.jupyter.widget-view+json": {
       "model_id": "527f34ca6353449d94da7bcbd2b34d44",
       "version_major": 2,
       "version_minor": 0
      },
      "text/plain": [
       "VBox()"
      ]
     },
     "metadata": {},
     "output_type": "display_data"
    },
    {
     "data": {
      "application/vnd.jupyter.widget-view+json": {
       "model_id": "",
       "version_major": 2,
       "version_minor": 0
      },
      "text/plain": [
       "FloatProgress(value=0.0, bar_style='info', description='Progress:', layout=Layout(height='25px', width='50%'),…"
      ]
     },
     "metadata": {},
     "output_type": "display_data"
    }
   ],
   "source": [
    "#Selection the language \"Language Key = P\" - Portuguese rows\n",
    "salesOffice = salesOffice.where(salesOffice.SPRAS_SALESOFFICE == 'P')"
   ]
  },
  {
   "cell_type": "markdown",
   "metadata": {},
   "source": [
    "# tvgrtDesc = groupSellers"
   ]
  },
  {
   "cell_type": "code",
   "execution_count": 85,
   "metadata": {},
   "outputs": [
    {
     "data": {
      "application/vnd.jupyter.widget-view+json": {
       "model_id": "11f30c0f39ec4f5295b23fa6b099ad75",
       "version_major": 2,
       "version_minor": 0
      },
      "text/plain": [
       "VBox()"
      ]
     },
     "metadata": {},
     "output_type": "display_data"
    },
    {
     "data": {
      "application/vnd.jupyter.widget-view+json": {
       "model_id": "",
       "version_major": 2,
       "version_minor": 0
      },
      "text/plain": [
       "FloatProgress(value=0.0, bar_style='info', description='Progress:', layout=Layout(height='25px', width='50%'),…"
      ]
     },
     "metadata": {},
     "output_type": "display_data"
    }
   ],
   "source": [
    "#Sales office Table Description\n",
    "groupSellers = tvgrtDesc.selectExpr('spras AS SPRAS_GROUPSELLERS'\n",
    "                                    , 'vkbur AS VKBUR_GROUPSELLERS'\n",
    "                                    , 'BEZEI AS BEZEI_GROUPSELLERS')"
   ]
  },
  {
   "cell_type": "code",
   "execution_count": 86,
   "metadata": {},
   "outputs": [
    {
     "data": {
      "application/vnd.jupyter.widget-view+json": {
       "model_id": "8f7079160ed64e15af6802c328e71822",
       "version_major": 2,
       "version_minor": 0
      },
      "text/plain": [
       "VBox()"
      ]
     },
     "metadata": {},
     "output_type": "display_data"
    },
    {
     "data": {
      "application/vnd.jupyter.widget-view+json": {
       "model_id": "",
       "version_major": 2,
       "version_minor": 0
      },
      "text/plain": [
       "FloatProgress(value=0.0, bar_style='info', description='Progress:', layout=Layout(height='25px', width='50%'),…"
      ]
     },
     "metadata": {},
     "output_type": "display_data"
    }
   ],
   "source": [
    "#Selection the language \"Language Key = P\" - Portuguese rows\n",
    "groupSellers = groupSellers.where(groupSellers.SPRAS_GROUPSELLERS == 'P')"
   ]
  },
  {
   "cell_type": "markdown",
   "metadata": {},
   "source": [
    "# Begin the \"JOIN\""
   ]
  },
  {
   "cell_type": "markdown",
   "metadata": {},
   "source": [
    "## KNVV AND ORGSALES (TVKOT)"
   ]
  },
  {
   "cell_type": "code",
   "execution_count": 89,
   "metadata": {},
   "outputs": [
    {
     "data": {
      "application/vnd.jupyter.widget-view+json": {
       "model_id": "f1a23832810d4abc97e31acd60a46be7",
       "version_major": 2,
       "version_minor": 0
      },
      "text/plain": [
       "VBox()"
      ]
     },
     "metadata": {},
     "output_type": "display_data"
    },
    {
     "data": {
      "application/vnd.jupyter.widget-view+json": {
       "model_id": "",
       "version_major": 2,
       "version_minor": 0
      },
      "text/plain": [
       "FloatProgress(value=0.0, bar_style='info', description='Progress:', layout=Layout(height='25px', width='50%'),…"
      ]
     },
     "metadata": {},
     "output_type": "display_data"
    }
   ],
   "source": [
    "#Left join using knvv(left) e orgSales(right)\n",
    "knvv_org = knvvField.join(orgSales,knvvField.VKORG_KNVV==orgSales.VKORG_ORGSALES, how='left')"
   ]
  },
  {
   "cell_type": "markdown",
   "metadata": {},
   "source": [
    "## KNVV_ORG AND DISTRCHANNEL (TVTWT)"
   ]
  },
  {
   "cell_type": "code",
   "execution_count": 93,
   "metadata": {},
   "outputs": [
    {
     "data": {
      "application/vnd.jupyter.widget-view+json": {
       "model_id": "986d1cdcf0904d1884414a83e62b0948",
       "version_major": 2,
       "version_minor": 0
      },
      "text/plain": [
       "VBox()"
      ]
     },
     "metadata": {},
     "output_type": "display_data"
    },
    {
     "data": {
      "application/vnd.jupyter.widget-view+json": {
       "model_id": "",
       "version_major": 2,
       "version_minor": 0
      },
      "text/plain": [
       "FloatProgress(value=0.0, bar_style='info', description='Progress:', layout=Layout(height='25px', width='50%'),…"
      ]
     },
     "metadata": {},
     "output_type": "display_data"
    }
   ],
   "source": [
    "#knvp_org_distr\n",
    "knvv_org_distr = knvv_org.join(distrChannel,knvv_org.VTWEG_KNVV==distrChannel.COD_DISTRCHANNEL, how='left')"
   ]
  },
  {
   "cell_type": "markdown",
   "metadata": {},
   "source": [
    "## KNVV_ORG_DISTR AND ACTSECTOR"
   ]
  },
  {
   "cell_type": "code",
   "execution_count": 96,
   "metadata": {},
   "outputs": [
    {
     "data": {
      "application/vnd.jupyter.widget-view+json": {
       "model_id": "5fa3d72b645345bbbbecd79b394ed3cb",
       "version_major": 2,
       "version_minor": 0
      },
      "text/plain": [
       "VBox()"
      ]
     },
     "metadata": {},
     "output_type": "display_data"
    },
    {
     "data": {
      "application/vnd.jupyter.widget-view+json": {
       "model_id": "",
       "version_major": 2,
       "version_minor": 0
      },
      "text/plain": [
       "FloatProgress(value=0.0, bar_style='info', description='Progress:', layout=Layout(height='25px', width='50%'),…"
      ]
     },
     "metadata": {},
     "output_type": "display_data"
    }
   ],
   "source": [
    "knvv_org_distr_act = knvv_org_distr.join(actSector\n",
    "                                         ,knvv_org_distr.SPART_KNVV==actSector.SPART_ACTSECTOR\n",
    "                                         , how='left')"
   ]
  },
  {
   "cell_type": "markdown",
   "metadata": {},
   "source": [
    "## KNVV_ORG_DISTR_ACT AND GROUPSALLES"
   ]
  },
  {
   "cell_type": "code",
   "execution_count": 99,
   "metadata": {},
   "outputs": [
    {
     "data": {
      "application/vnd.jupyter.widget-view+json": {
       "model_id": "01539063328d4783b51326a3a6de421d",
       "version_major": 2,
       "version_minor": 0
      },
      "text/plain": [
       "VBox()"
      ]
     },
     "metadata": {},
     "output_type": "display_data"
    },
    {
     "data": {
      "application/vnd.jupyter.widget-view+json": {
       "model_id": "",
       "version_major": 2,
       "version_minor": 0
      },
      "text/plain": [
       "FloatProgress(value=0.0, bar_style='info', description='Progress:', layout=Layout(height='25px', width='50%'),…"
      ]
     },
     "metadata": {},
     "output_type": "display_data"
    }
   ],
   "source": [
    "#NOT IN DATA LAKE\n",
    "knvv_org_distr_act_groupsalles = knvv_org_distr_act"
   ]
  },
  {
   "cell_type": "markdown",
   "metadata": {},
   "source": [
    "## KNVV_ORG_DISTR_ACT_GROUPSALLES AND SALESOFFICE (TVKBT)"
   ]
  },
  {
   "cell_type": "code",
   "execution_count": 100,
   "metadata": {},
   "outputs": [
    {
     "data": {
      "application/vnd.jupyter.widget-view+json": {
       "model_id": "74f8124299934194810b8f216dea41f8",
       "version_major": 2,
       "version_minor": 0
      },
      "text/plain": [
       "VBox()"
      ]
     },
     "metadata": {},
     "output_type": "display_data"
    },
    {
     "data": {
      "application/vnd.jupyter.widget-view+json": {
       "model_id": "",
       "version_major": 2,
       "version_minor": 0
      },
      "text/plain": [
       "FloatProgress(value=0.0, bar_style='info', description='Progress:', layout=Layout(height='25px', width='50%'),…"
      ]
     },
     "metadata": {},
     "output_type": "display_data"
    }
   ],
   "source": [
    "knvv_org_distr_act_groupsalles_salesoffice = knvv_org_distr_act_groupsalles.join(salesOffice,knvv_org_distr_act_groupsalles.VKBUR_KNVV==salesOffice.VKGRP_SALESOFFICE, how='left')"
   ]
  },
  {
   "cell_type": "markdown",
   "metadata": {},
   "source": [
    "## KNVV_ORG_DISTR_ACT_GROUPSALLES_SALESOFFICE AND GROUPSELLERS (TVGRT)"
   ]
  },
  {
   "cell_type": "code",
   "execution_count": 104,
   "metadata": {},
   "outputs": [
    {
     "data": {
      "application/vnd.jupyter.widget-view+json": {
       "model_id": "2f243c9dbf8140879325d624f8154a9f",
       "version_major": 2,
       "version_minor": 0
      },
      "text/plain": [
       "VBox()"
      ]
     },
     "metadata": {},
     "output_type": "display_data"
    },
    {
     "data": {
      "application/vnd.jupyter.widget-view+json": {
       "model_id": "",
       "version_major": 2,
       "version_minor": 0
      },
      "text/plain": [
       "FloatProgress(value=0.0, bar_style='info', description='Progress:', layout=Layout(height='25px', width='50%'),…"
      ]
     },
     "metadata": {},
     "output_type": "display_data"
    }
   ],
   "source": [
    "knvv_org_distr_act_groupsalles_salesoffice_groupsellers = knvv_org_distr_act_groupsalles_salesoffice.join(groupSellers\n",
    "                                                                                                          ,knvv_org_distr_act_groupsalles_salesoffice.VKGRP_KNVV==groupSellers.VKBUR_GROUPSELLERS\n",
    "                                                                                                          , how='left')"
   ]
  },
  {
   "cell_type": "markdown",
   "metadata": {},
   "source": [
    "# KNVV e KNA1"
   ]
  },
  {
   "cell_type": "code",
   "execution_count": 108,
   "metadata": {},
   "outputs": [
    {
     "data": {
      "application/vnd.jupyter.widget-view+json": {
       "model_id": "2999cd1ed4b84c87b4e77a955da3731c",
       "version_major": 2,
       "version_minor": 0
      },
      "text/plain": [
       "VBox()"
      ]
     },
     "metadata": {},
     "output_type": "display_data"
    },
    {
     "data": {
      "application/vnd.jupyter.widget-view+json": {
       "model_id": "",
       "version_major": 2,
       "version_minor": 0
      },
      "text/plain": [
       "FloatProgress(value=0.0, bar_style='info', description='Progress:', layout=Layout(height='25px', width='50%'),…"
      ]
     },
     "metadata": {},
     "output_type": "display_data"
    }
   ],
   "source": [
    "#Join using knvv(left) e kna1(right) \n",
    "knvv_kna1 = knvv_org_distr_act_groupsalles_salesoffice_groupsellers.join(kna1Field\n",
    "                                                                         ,knvv_org_distr_act_groupsalles_salesoffice_groupsellers.NEW_KUNNR_KNVV==kna1Field.NEW_KUNNR_KNA1\n",
    "                                                                         , how='left')"
   ]
  },
  {
   "cell_type": "markdown",
   "metadata": {},
   "source": [
    "# KNVV_KNA1_T151T"
   ]
  },
  {
   "cell_type": "code",
   "execution_count": 112,
   "metadata": {},
   "outputs": [
    {
     "data": {
      "application/vnd.jupyter.widget-view+json": {
       "model_id": "556568fd36314d3b8685c5172a974e84",
       "version_major": 2,
       "version_minor": 0
      },
      "text/plain": [
       "VBox()"
      ]
     },
     "metadata": {},
     "output_type": "display_data"
    },
    {
     "data": {
      "application/vnd.jupyter.widget-view+json": {
       "model_id": "",
       "version_major": 2,
       "version_minor": 0
      },
      "text/plain": [
       "FloatProgress(value=0.0, bar_style='info', description='Progress:', layout=Layout(height='25px', width='50%'),…"
      ]
     },
     "metadata": {},
     "output_type": "display_data"
    }
   ],
   "source": [
    "#Join using knvv_kna1(left) e t151tField(right)\n",
    "knvv_kna1_t151t = knvv_kna1.join(t151tField\n",
    "                                 ,knvv_kna1.KDGRP_KNVV==t151tField.KDGRP_T151T\n",
    "                                 , how='left')"
   ]
  },
  {
   "cell_type": "markdown",
   "metadata": {},
   "source": [
    "# KNVP e KNVV_KNA1_T151T"
   ]
  },
  {
   "cell_type": "code",
   "execution_count": 116,
   "metadata": {},
   "outputs": [
    {
     "data": {
      "application/vnd.jupyter.widget-view+json": {
       "model_id": "419cb7ced1aa4d148daf8d650b10104b",
       "version_major": 2,
       "version_minor": 0
      },
      "text/plain": [
       "VBox()"
      ]
     },
     "metadata": {},
     "output_type": "display_data"
    },
    {
     "data": {
      "application/vnd.jupyter.widget-view+json": {
       "model_id": "",
       "version_major": 2,
       "version_minor": 0
      },
      "text/plain": [
       "FloatProgress(value=0.0, bar_style='info', description='Progress:', layout=Layout(height='25px', width='50%'),…"
      ]
     },
     "metadata": {},
     "output_type": "display_data"
    }
   ],
   "source": [
    "#Join usning knvpField(left) and knvv_kna1_t151t(right)\n",
    "knvp_knvv_kna1_t151t= knvpField.join(knvv_kna1_t151t,\n",
    "                                      knvv_kna1_t151t.CLIENT_KEY_KNVV==knvpField.CLIENT_KEY_KNVP, \n",
    "                                      how='left')"
   ]
  },
  {
   "cell_type": "code",
   "execution_count": 117,
   "metadata": {},
   "outputs": [
    {
     "data": {
      "application/vnd.jupyter.widget-view+json": {
       "model_id": "0e91162e939f4bf5b5d1cc0c935462db",
       "version_major": 2,
       "version_minor": 0
      },
      "text/plain": [
       "VBox()"
      ]
     },
     "metadata": {},
     "output_type": "display_data"
    },
    {
     "data": {
      "application/vnd.jupyter.widget-view+json": {
       "model_id": "",
       "version_major": 2,
       "version_minor": 0
      },
      "text/plain": [
       "FloatProgress(value=0.0, bar_style='info', description='Progress:', layout=Layout(height='25px', width='50%'),…"
      ]
     },
     "metadata": {},
     "output_type": "display_data"
    }
   ],
   "source": [
    "#Removing the column SIZE_OF\n",
    "knvp_knvv_kna1_t151t = knvp_knvv_kna1_t151t.drop('SIZE_OF')"
   ]
  },
  {
   "cell_type": "code",
   "execution_count": 121,
   "metadata": {},
   "outputs": [
    {
     "data": {
      "application/vnd.jupyter.widget-view+json": {
       "model_id": "f0c0dd1971334d64a9c84a538c996a35",
       "version_major": 2,
       "version_minor": 0
      },
      "text/plain": [
       "VBox()"
      ]
     },
     "metadata": {},
     "output_type": "display_data"
    },
    {
     "data": {
      "application/vnd.jupyter.widget-view+json": {
       "model_id": "",
       "version_major": 2,
       "version_minor": 0
      },
      "text/plain": [
       "FloatProgress(value=0.0, bar_style='info', description='Progress:', layout=Layout(height='25px', width='50%'),…"
      ]
     },
     "metadata": {},
     "output_type": "display_data"
    }
   ],
   "source": [
    "#Renaming the final columns\n",
    "knvp_knvv_kna1_t151t=knvp_knvv_kna1_t151t.withColumnRenamed(\"NEW_KUNNR_KNVP\", \"COD_CLIENT\")\\\n",
    "                                            .withColumnRenamed(\"LAND1\", \"COUNTRY\")\\\n",
    "                                            .withColumnRenamed(\"NAME1\", \"NAME\")\\\n",
    "                                            .withColumnRenamed(\"NAME2\", \"NAME_ADDITION\")\\\n",
    "                                            .withColumnRenamed(\"ORT01\", \"CITY\")\\\n",
    "                                            .withColumnRenamed(\"REGIO\",\"STATE\")\\\n",
    "                                            .withColumnRenamed(\"INDTYP\", \"TYPE_INDUSTRY\")\\\n",
    "                                            .withColumnRenamed(\"ERDAT\", \"REGISTRATION_DATE\")\\\n",
    "                                            .withColumnRenamed(\"VKORG_KNVP\", \"ORGANIZATION_SALES_COD\")\\\n",
    "                                            .withColumnRenamed(\"VTWEG_KNVP\", \"DISTRIBUTION_CHANNEL_COD\")\\\n",
    "                                            .withColumnRenamed(\"KONDA_KNVV\", \"PRICE_GROUP\")\\\n",
    "                                            .withColumnRenamed(\"KVGR1_KNVV\", \"ATTENDANCE_GROUP\")\\\n",
    "                                            .withColumnRenamed(\"LPRIO_KNVV\", \"PRIORITY\")\\\n",
    "                                            .withColumnRenamed(\"SPART_KNVP\", \"ACTIVITY_SECTOR_COD\")\\\n",
    "                                            .withColumnRenamed(\"KDGRP_T151T\", \"SEGMENTATION_GROUP_COD\")\\\n",
    "                                            .withColumnRenamed(\"KTEXT\", \"SEGMENTATION_GROUP_DESC\")\\\n",
    "                                            .withColumnRenamed(\"LOEVM_KNVV\", \"DELETED\")\\\n",
    "                                            .withColumnRenamed(\"VKBUR_KNVV\", \"SALES_OFFICE_COD\")\\\n",
    "                                            .withColumnRenamed(\"VKGRP_KNVV\", \"SELLER_GROUP_COD\")\\\n",
    "                                            .withColumnRenamed(\"VTEXT_ORGSALES\", \"ORGANIZATION_SALES_DESC\")\\\n",
    "                                            .withColumnRenamed(\"VTEXT_DISTRCHANNEL\", \"DISTRIBUTION_CHANNEL_DESC\")\\\n",
    "                                            .withColumnRenamed(\"VTEXT_ACTSECTOR\", \"ACTIVITY_SECTOR_DESC\")\\\n",
    "                                            .withColumnRenamed(\"BEZEI_SALESOFFICE\", \"SALES_OFFICE_DESC\")\\\n",
    "                                            .withColumnRenamed(\"BEZEI_GROUPSELLERS\", \"SELLER_GROUP_DESC\")\\\n",
    "                                            .withColumnRenamed(\"KVGR3_KNVV\", \"SEGMENTATION_SECTOR\")\\\n",
    "                                            .withColumnRenamed(\"1A\", \"CUSTOMER_HIERARCHY_1\")\\\n",
    "                                            .withColumnRenamed(\"AG\", \"ORDER_ISSUER\")\\\n",
    "                                            .withColumnRenamed(\"RE\", \"INVOICE_RECEIVER\")\\\n",
    "                                            .withColumnRenamed(\"RG\", \"PAYER\")\\\n",
    "                                            .withColumnRenamed(\"WE\", \"MERCHANT_RECEIVER\")\\\n",
    "                                            .withColumnRenamed(\"YR\", \"BR_REGIONAL\")\\\n",
    "                                            .withColumnRenamed(\"Z1\", \"SALES_MANAGER\")\\\n",
    "                                            .withColumnRenamed(\"Z2\", \"SALES_REPRESENTATIVE_COMMISSION\")\\\n",
    "                                            .withColumnRenamed(\"Z3\", \"TECHNICAL_ASSISTENT\")\\\n",
    "                                            .withColumnRenamed(\"Z4\", \"COMMISSION_AGENT\")\\\n",
    "                                            .withColumnRenamed(\"Z6\", \"PROFITABILITY_GROUP\")\\\n",
    "                                            .withColumnRenamed(\"Z7\", \"PORT_BORDER\")\\\n",
    "                                            .withColumnRenamed(\"ZG\", \"SALES_DIRECTOR\")\\\n",
    "                                            .withColumnRenamed(\"ZI\", \"INTERNAL_SALESMAN\")\\\n",
    "                                            .withColumnRenamed(\"ZO\", \"EXTERNAL_SALESMAN\")\\\n",
    "                                            .withColumnRenamed(\"ZP\", \"SALESMAN\")"
   ]
  },
  {
   "cell_type": "code",
   "execution_count": 122,
   "metadata": {},
   "outputs": [
    {
     "data": {
      "application/vnd.jupyter.widget-view+json": {
       "model_id": "d471b6d8e1694a5880dc22d26d05a5d3",
       "version_major": 2,
       "version_minor": 0
      },
      "text/plain": [
       "VBox()"
      ]
     },
     "metadata": {},
     "output_type": "display_data"
    },
    {
     "data": {
      "application/vnd.jupyter.widget-view+json": {
       "model_id": "",
       "version_major": 2,
       "version_minor": 0
      },
      "text/plain": [
       "FloatProgress(value=0.0, bar_style='info', description='Progress:', layout=Layout(height='25px', width='50%'),…"
      ]
     },
     "metadata": {},
     "output_type": "display_data"
    }
   ],
   "source": [
    "#Putting columns in order\n",
    "knvp_knvv_kna1_t151t = knvp_knvv_kna1_t151t.select(\"COD_CLIENT\"\n",
    "                                                   ,\"COUNTRY\"\n",
    "                                                   ,\"NAME\"\n",
    "                                                   ,\"NAME_ADDITION\"\n",
    "                                                   ,\"CITY\"\n",
    "                                                   ,\"STATE\"\n",
    "                                                   ,\"TYPE_INDUSTRY\"\n",
    "                                                   ,\"REGISTRATION_DATE\"\n",
    "                                                   ,\"ORGANIZATION_SALES_COD\"\n",
    "                                                   ,\"DISTRIBUTION_CHANNEL_COD\"\n",
    "                                                   ,\"PRICE_GROUP\"\n",
    "                                                   ,\"ATTENDANCE_GROUP\"\n",
    "                                                   ,\"PRIORITY\"\n",
    "                                                   ,\"ACTIVITY_SECTOR_COD\"\n",
    "                                                   ,\"SEGMENTATION_GROUP_COD\"\n",
    "                                                   ,\"SEGMENTATION_GROUP_DESC\"\n",
    "                                                   ,\"DELETED\"\n",
    "                                                   ,\"SALES_OFFICE_COD\"\n",
    "                                                   ,\"ORGANIZATION_SALES_DESC\"\n",
    "                                                   ,\"DISTRIBUTION_CHANNEL_DESC\"\n",
    "                                                   ,\"ACTIVITY_SECTOR_DESC\"\n",
    "                                                   ,\"SALES_OFFICE_DESC\"\n",
    "                                                   ,\"SELLER_GROUP_COD\"\n",
    "                                                   ,\"SELLER_GROUP_DESC\"\n",
    "                                                   ,\"SEGMENTATION_SECTOR\"\n",
    "                                                   ,\"ORDER_ISSUER\"\n",
    "                                                   ,\"INVOICE_RECEIVER\"\n",
    "                                                   ,\"PAYER\"\n",
    "                                                   ,\"MERCHANT_RECEIVER\"\n",
    "                                                   ,\"BR_REGIONAL\"\n",
    "                                                   ,\"SALES_MANAGER\"\n",
    "                                                   ,\"SALES_REPRESENTATIVE_COMMISSION\"\n",
    "                                                   ,\"TECHNICAL_ASSISTENT\"\n",
    "                                                   ,\"PROFITABILITY_GROUP\"\n",
    "                                                   ,\"SALES_DIRECTOR\"\n",
    "                                                   ,\"EXTERNAL_SALESMAN\")"
   ]
  },
  {
   "cell_type": "code",
   "execution_count": 123,
   "metadata": {},
   "outputs": [
    {
     "data": {
      "application/vnd.jupyter.widget-view+json": {
       "model_id": "d5a9596484664d919b7c4a9712ed754d",
       "version_major": 2,
       "version_minor": 0
      },
      "text/plain": [
       "VBox()"
      ]
     },
     "metadata": {},
     "output_type": "display_data"
    },
    {
     "data": {
      "application/vnd.jupyter.widget-view+json": {
       "model_id": "",
       "version_major": 2,
       "version_minor": 0
      },
      "text/plain": [
       "FloatProgress(value=0.0, bar_style='info', description='Progress:', layout=Layout(height='25px', width='50%'),…"
      ]
     },
     "metadata": {},
     "output_type": "display_data"
    }
   ],
   "source": [
    "knvp_knvv_kna1_t151t = knvp_knvv_kna1_t151t.withColumn(\"ORDER_ISSUER\", knvp_knvv_kna1_t151t.ORDER_ISSUER.cast(\"long\")).withColumn(\"INVOICE_RECEIVER\", knvp_knvv_kna1_t151t.INVOICE_RECEIVER.cast(\"long\")).withColumn(\"PAYER\", knvp_knvv_kna1_t151t.PAYER.cast(\"long\")).withColumn(\"MERCHANT_RECEIVER\", knvp_knvv_kna1_t151t.MERCHANT_RECEIVER.cast(\"long\")).withColumn(\"BR_REGIONAL\", knvp_knvv_kna1_t151t.BR_REGIONAL.cast(\"long\")).withColumn(\"SALES_MANAGER\", knvp_knvv_kna1_t151t.SALES_MANAGER.cast(\"long\")).withColumn(\"SALES_REPRESENTATIVE_COMMISSION\", knvp_knvv_kna1_t151t.SALES_REPRESENTATIVE_COMMISSION.cast(\"long\")).withColumn(\"EXTERNAL_SALESMAN\", knvp_knvv_kna1_t151t.EXTERNAL_SALESMAN.cast(\"long\")).withColumn(\"TECHNICAL_ASSISTENT\", knvp_knvv_kna1_t151t.TECHNICAL_ASSISTENT.cast(\"long\")).withColumn(\"PROFITABILITY_GROUP\", knvp_knvv_kna1_t151t.PROFITABILITY_GROUP.cast(\"long\")).withColumn(\"SALES_DIRECTOR\",knvp_knvv_kna1_t151t.SALES_DIRECTOR.cast(\"long\"))                           "
   ]
  },
  {
   "cell_type": "code",
   "execution_count": 133,
   "metadata": {},
   "outputs": [
    {
     "data": {
      "application/vnd.jupyter.widget-view+json": {
       "model_id": "e4521db5601949e68347a151b49e0c83",
       "version_major": 2,
       "version_minor": 0
      },
      "text/plain": [
       "VBox()"
      ]
     },
     "metadata": {},
     "output_type": "display_data"
    },
    {
     "data": {
      "application/vnd.jupyter.widget-view+json": {
       "model_id": "",
       "version_major": 2,
       "version_minor": 0
      },
      "text/plain": [
       "FloatProgress(value=0.0, bar_style='info', description='Progress:', layout=Layout(height='25px', width='50%'),…"
      ]
     },
     "metadata": {},
     "output_type": "display_data"
    }
   ],
   "source": [
    "#Excluindo as variáveis não necessárias para a tabela final\n",
    "knvp_knvv_kna1_t151t=knvp_knvv_kna1_t151t.drop(\"CLIENT_KEY_KNVP\", \"KUNNR_KNVV\",\n",
    "                                               \"VKORG_KNVV\",\"VTWEG_KNVV\",\n",
    "                                               \"SPART_KNVV\",\"NEW_KUNNR_KNVV\",\n",
    "                                               \"CLIENT_KEY_KNVV\",\"KUNNR_KNA1\",\n",
    "                                               \"NEW_KUNNR_KNA1\",\n",
    "                                               \"SPRAS_T151T\", \"KUNNR_KNVP\",\n",
    "                                              \"KDGRP_KNVV\",  \n",
    "                                              \"NEW_KUNNR_KNVV\", \"PRAS_ORGSALES\",\n",
    "                                               \"VKORG_ORGSALES\", \"SPRAS_DISTRCHANNEL\",\n",
    "                                               \"COD_DISTRCHANNEL\", \"SPRAS_ACTSECTOR\", \n",
    "                                               \"SPART_ACTSECTOR\", \"SPRAS_SALESOFFICE\", \n",
    "                                               \"VKGRP_SALESOFFICE\", \"SPRAS_GROUPSELLERS\", \n",
    "                                               \"VKGRP_GROUPSELLERS\", \"VKGRP_GROUPSELLERS\", \n",
    "                                               \"KUNNR_KNA1\", \"SPRAS_T151T\"  \n",
    "                                              )"
   ]
  },
  {
   "cell_type": "markdown",
   "metadata": {},
   "source": [
    "# Saving datas on data lake"
   ]
  },
  {
   "cell_type": "markdown",
   "metadata": {},
   "source": [
    "## Saving final table on data lake"
   ]
  },
  {
   "cell_type": "code",
   "execution_count": null,
   "metadata": {},
   "outputs": [],
   "source": [
    "#Gravando a tabela de clientes no datalake em formato parquet\n",
    "knvp_knvv_kna1_t151t.write.parquet(\"s3a://\"+SPG_OUTPUT_BUCKET+\"/\"+SPG_OUTPUT_BUCKET_CLIENTS_OUTPUT_PATH, mode = \"overwrite\")"
   ]
  }
 ],
 "metadata": {
  "kernelspec": {
   "display_name": "Python 3",
   "language": "python",
   "name": "python3"
  },
  "language_info": {
   "codemirror_mode": {
    "name": "ipython",
    "version": 3
   },
   "file_extension": ".py",
   "mimetype": "text/x-python",
   "name": "python",
   "nbconvert_exporter": "python",
   "pygments_lexer": "ipython3",
   "version": "3.7.5"
  }
 },
 "nbformat": 4,
 "nbformat_minor": 2
}
