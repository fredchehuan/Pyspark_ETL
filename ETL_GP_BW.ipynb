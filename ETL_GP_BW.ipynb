{
 "cells": [
  {
   "cell_type": "markdown",
   "metadata": {},
   "source": [
    "# Base Lucro Bruto\n",
    "\n",
    "Esta base prepara uma tabela .parquet (s3a://smartpricinggerdaubucket/SPG_LB/LB_FULL) \n",
    "\n",
    "O resultado final contém as colunas que copõe o Lucro Bruto e colunas auxiliares:\n",
    "\n",
    "GROSS_PROFIT = NET_SALES + COGS_TOTAL + FREIGHT + SHIP_DEL_LOAD_C_C + PORT_EXPENSES + COGS_ADJUSTMENTS\n",
    "\n",
    "A tabela esta sumarizada no nível: [DATA DA FATURA  + DOCUMENTO DE VENDAS + ITEM DO DOCUMENTO DE VENDAS]\n",
    "\n",
    "Todo código utiliza PySpark"
   ]
  },
  {
   "cell_type": "markdown",
   "metadata": {},
   "source": [
    "## Imports & Configs"
   ]
  },
  {
   "cell_type": "code",
   "execution_count": 2,
   "metadata": {
    "scrolled": true
   },
   "outputs": [
    {
     "data": {
      "application/vnd.jupyter.widget-view+json": {
       "model_id": "d41ae712350a4d07a0a36807325bef55",
       "version_major": 2,
       "version_minor": 0
      },
      "text/plain": [
       "VBox()"
      ]
     },
     "metadata": {},
     "output_type": "display_data"
    },
    {
     "name": "stdout",
     "output_type": "stream",
     "text": [
      "Starting Spark application\n"
     ]
    },
    {
     "data": {
      "text/html": [
       "<table>\n",
       "<tr><th>ID</th><th>YARN Application ID</th><th>Kind</th><th>State</th><th>Spark UI</th><th>Driver log</th><th>Current session?</th></tr><tr><td>0</td><td>application_1576246565380_0001</td><td>pyspark</td><td>idle</td><td><a target=\"_blank\" href=\"http://ip-172-31-18-17.us-east-2.compute.internal:20888/proxy/application_1576246565380_0001/\">Link</a></td><td><a target=\"_blank\" href=\"http://ip-172-31-26-196.us-east-2.compute.internal:8042/node/containerlogs/container_1576246565380_0001_01_000001/livy\">Link</a></td><td>✔</td></tr></table>"
      ],
      "text/plain": [
       "<IPython.core.display.HTML object>"
      ]
     },
     "metadata": {},
     "output_type": "display_data"
    },
    {
     "data": {
      "application/vnd.jupyter.widget-view+json": {
       "model_id": "",
       "version_major": 2,
       "version_minor": 0
      },
      "text/plain": [
       "FloatProgress(value=0.0, bar_style='info', description='Progress:', layout=Layout(height='25px', width='50%'),…"
      ]
     },
     "metadata": {},
     "output_type": "display_data"
    },
    {
     "name": "stdout",
     "output_type": "stream",
     "text": [
      "SparkSession available as 'spark'.\n"
     ]
    },
    {
     "data": {
      "application/vnd.jupyter.widget-view+json": {
       "model_id": "",
       "version_major": 2,
       "version_minor": 0
      },
      "text/plain": [
       "FloatProgress(value=0.0, bar_style='info', description='Progress:', layout=Layout(height='25px', width='50%'),…"
      ]
     },
     "metadata": {},
     "output_type": "display_data"
    }
   ],
   "source": [
    "#imports Libs\n",
    "\n",
    "import os\n",
    "import pandas as pd\n",
    "import boto3\n",
    "import time\n",
    "from botocore.client import ClientError\n",
    "\n",
    "import pyarrow.parquet as pq\n",
    "import s3fs\n",
    "\n",
    "import findspark                                              #Import library to Search for Spark Installation  \n",
    "\n",
    "findspark.init()                                              #Search Spark Installation\n",
    "\n",
    "import pyspark                                                #Only run after findspark.init()\n",
    "\n",
    "from pyspark.sql import SparkSession                          #Import of Spark Session\n",
    "from pyspark import SparkContext as spark                     #Import the Regular Spark Contex \n",
    "from pyspark.sql import SQLContext                            #Import the SQL Spark Contex \n",
    "from pyspark.sql.window import Window\n",
    "from pyspark.sql.functions import *\n",
    "from pyspark.sql import functions as F\n",
    "from pyspark.sql.types import *\n",
    "from pyspark.sql.functions import year, month, dayofmonth\n",
    "spark = SparkSession.builder.getOrCreate()\n",
    "\n",
    "sc = spark.sparkContext                                       #Initialize Spark"
   ]
  },
  {
   "cell_type": "markdown",
   "metadata": {},
   "source": [
    "-------------"
   ]
  },
  {
   "cell_type": "markdown",
   "metadata": {},
   "source": [
    "# Creating Variables"
   ]
  },
  {
   "cell_type": "markdown",
   "metadata": {},
   "source": [
    "## Database"
   ]
  },
  {
   "cell_type": "code",
   "execution_count": null,
   "metadata": {},
   "outputs": [],
   "source": [
    "ATHENA_SPG = os.environ['SPG_DATABASE']"
   ]
  },
  {
   "cell_type": "code",
   "execution_count": null,
   "metadata": {},
   "outputs": [],
   "source": [
    "ATHENA_HANA = os.environ['GERDAU_HANA_DATABASE']"
   ]
  },
  {
   "cell_type": "code",
   "execution_count": null,
   "metadata": {},
   "outputs": [],
   "source": [
    "ATHENA_SALES = os.environ['GERDAU_SALES_DATABASE']"
   ]
  },
  {
   "cell_type": "markdown",
   "metadata": {},
   "source": [
    "## Buckets"
   ]
  },
  {
   "cell_type": "code",
   "execution_count": null,
   "metadata": {},
   "outputs": [],
   "source": [
    "SPG_MANUAL_INPUT_BUCKET = os.environ['MANUAL_INPUT_BUCKET']"
   ]
  },
  {
   "cell_type": "code",
   "execution_count": null,
   "metadata": {},
   "outputs": [],
   "source": [
    "SPG_INTEGRATION_INPUT_BUCKET = os.environ['INTEGRATION_INPUT_BUCKET']"
   ]
  },
  {
   "cell_type": "code",
   "execution_count": null,
   "metadata": {},
   "outputs": [],
   "source": [
    "SPG_QUERY_BUCKET = os.environ['QUERY_BUCKET']"
   ]
  },
  {
   "cell_type": "code",
   "execution_count": null,
   "metadata": {},
   "outputs": [],
   "source": [
    "GERDAU_BUCKET = os.environ['GERDAU_BUCKET']"
   ]
  },
  {
   "cell_type": "code",
   "execution_count": null,
   "metadata": {},
   "outputs": [],
   "source": [
    "SPG_OUTPUT_BUCKET = os.environ['OUTPUT_BUCKET']"
   ]
  },
  {
   "cell_type": "code",
   "execution_count": null,
   "metadata": {},
   "outputs": [],
   "source": [
    "SPG_INPUT_BUCKET = os.environ['INPUT_BUCKET_FROM_OUTPUT']"
   ]
  },
  {
   "cell_type": "markdown",
   "metadata": {},
   "source": [
    "## Input Paths"
   ]
  },
  {
   "cell_type": "code",
   "execution_count": null,
   "metadata": {},
   "outputs": [],
   "source": [
    "QUERY_CLIENT = \"SELECT DISTINCT cast(O.cod_client as bigint) as cod_client,O.organization_sales_cod,O.registration_date,O.state FROM db_smart_pricing.tb_spg_cl_cliente AS O INNER JOIN (SELECT DISTINCT cod_client,organization_sales_cod,max(registration_date) AS max_date FROM db_smart_pricing.tb_spg_cl_cliente GROUP BY  cod_client, organization_sales_cod) AS S ON S.cod_client=O.cod_client AND S.organization_sales_cod=O.organization_sales_cod AND S.max_date=O.registration_date;\""
   ]
  },
  {
   "cell_type": "code",
   "execution_count": null,
   "metadata": {},
   "outputs": [],
   "source": [
    "SPG_INTEGRATION_INPUT_BUCKET_BW = \"SPG_FACTS/SPG_BW/SPG_COPA.parquet\""
   ]
  },
  {
   "cell_type": "markdown",
   "metadata": {},
   "source": [
    "## Output Paths"
   ]
  },
  {
   "cell_type": "code",
   "execution_count": null,
   "metadata": {},
   "outputs": [],
   "source": [
    "SPG_OUTPUT_BUCKET_GP = \"SPG_LB/LB_FULL\""
   ]
  },
  {
   "cell_type": "markdown",
   "metadata": {},
   "source": [
    "## Boto3 Variables"
   ]
  },
  {
   "cell_type": "code",
   "execution_count": null,
   "metadata": {},
   "outputs": [],
   "source": [
    "#S3 Configuration\n",
    "S3_ATHENA_INPUT =  's3://'+SPG_QUERY_BUCKET+'/'+SPG_QUERY_BUCKET_ATHENA"
   ]
  },
  {
   "cell_type": "code",
   "execution_count": null,
   "metadata": {},
   "outputs": [],
   "source": [
    "S3_ATHENA_OUTPUT = 's3://'+SPG_QUERY_BUCKET+'/'+SPG_QUERY_BUCKET_ATHENA"
   ]
  },
  {
   "cell_type": "code",
   "execution_count": null,
   "metadata": {},
   "outputs": [],
   "source": [
    "region_name = os.environ['AWS_REGION']"
   ]
  },
  {
   "cell_type": "code",
   "execution_count": null,
   "metadata": {},
   "outputs": [],
   "source": [
    "aws_access_key_id = os.environ['AWS_ACCESS_KEY']"
   ]
  },
  {
   "cell_type": "code",
   "execution_count": null,
   "metadata": {},
   "outputs": [],
   "source": [
    "aws_secret_access_key = os.environ['AWS_SECRET_KEY']"
   ]
  },
  {
   "cell_type": "markdown",
   "metadata": {},
   "source": [
    "-------------"
   ]
  },
  {
   "cell_type": "markdown",
   "metadata": {},
   "source": [
    "# Creating Defined Functions"
   ]
  },
  {
   "cell_type": "code",
   "execution_count": 4,
   "metadata": {},
   "outputs": [
    {
     "data": {
      "application/vnd.jupyter.widget-view+json": {
       "model_id": "6db931472e3a49d4a08297f12be1ebe9",
       "version_major": 2,
       "version_minor": 0
      },
      "text/plain": [
       "VBox()"
      ]
     },
     "metadata": {},
     "output_type": "display_data"
    },
    {
     "data": {
      "application/vnd.jupyter.widget-view+json": {
       "model_id": "",
       "version_major": 2,
       "version_minor": 0
      },
      "text/plain": [
       "FloatProgress(value=0.0, bar_style='info', description='Progress:', layout=Layout(height='25px', width='50%'),…"
      ]
     },
     "metadata": {},
     "output_type": "display_data"
    }
   ],
   "source": [
    "# Run Query\n",
    "\n",
    "def run_query(query, database, s3_output):\n",
    "    response = client.start_query_execution(\n",
    "        QueryString=query,\n",
    "        QueryExecutionContext={\n",
    "            'Database': database\n",
    "            },\n",
    "        ResultConfiguration={\n",
    "            'OutputLocation': s3_output,\n",
    "            }\n",
    "        )\n",
    "    return response"
   ]
  },
  {
   "cell_type": "code",
   "execution_count": null,
   "metadata": {},
   "outputs": [],
   "source": [
    "def get_aws_path(query,database,s3_output):\n",
    "    response = run_query(query, database, s3_output)\n",
    "    file_query = response['QueryExecutionId']\n",
    "    file_metadata = response['QueryExecutionId'] + '.metadata'\n",
    "    return file_query"
   ]
  },
  {
   "cell_type": "code",
   "execution_count": null,
   "metadata": {},
   "outputs": [],
   "source": [
    "# Wating for 300 seconds until the end of the upload\n",
    "\n",
    "def wait_athena_load(Bucket, Key):\n",
    "    time_to_wait = 300\n",
    "    time_counter = 0\n",
    "\n",
    "    while True:\n",
    "        try:\n",
    "            s3.meta.client.head_object(Bucket=Bucket,Key=Key)\n",
    "        except ClientError:\n",
    "            time.sleep(1)\n",
    "            time_counter += 1\n",
    "            if time_counter > time_to_wait:\n",
    "                break\n",
    "        else:\n",
    "            break"
   ]
  },
  {
   "cell_type": "markdown",
   "metadata": {},
   "source": [
    "-------"
   ]
  },
  {
   "cell_type": "markdown",
   "metadata": {},
   "source": [
    "# Configuring Boto3"
   ]
  },
  {
   "cell_type": "code",
   "execution_count": null,
   "metadata": {},
   "outputs": [],
   "source": [
    "#Athena Client Configuration\n",
    "\n",
    "client = boto3.client('athena', \n",
    "    aws_access_key_id = aws_access_key_id, \n",
    "    aws_secret_access_key = aws_secret_access_key, \n",
    "    region_name = region_name )"
   ]
  },
  {
   "cell_type": "code",
   "execution_count": null,
   "metadata": {},
   "outputs": [],
   "source": [
    "#S3 Resource Configuration\n",
    "\n",
    "s3 = boto3.resource('s3',\n",
    "    aws_access_key_id = aws_access_key_id,\n",
    "    aws_secret_access_key = aws_secret_access_key,\n",
    "    region_name = region_name)"
   ]
  },
  {
   "cell_type": "markdown",
   "metadata": {},
   "source": [
    "----------"
   ]
  },
  {
   "cell_type": "markdown",
   "metadata": {},
   "source": [
    "# Importing Tables"
   ]
  },
  {
   "cell_type": "code",
   "execution_count": 8,
   "metadata": {},
   "outputs": [
    {
     "data": {
      "application/vnd.jupyter.widget-view+json": {
       "model_id": "c1cc92575c914c36bd9e72cd91a9b64c",
       "version_major": 2,
       "version_minor": 0
      },
      "text/plain": [
       "VBox()"
      ]
     },
     "metadata": {},
     "output_type": "display_data"
    },
    {
     "data": {
      "application/vnd.jupyter.widget-view+json": {
       "model_id": "",
       "version_major": 2,
       "version_minor": 0
      },
      "text/plain": [
       "FloatProgress(value=0.0, bar_style='info', description='Progress:', layout=Layout(height='25px', width='50%'),…"
      ]
     },
     "metadata": {},
     "output_type": "display_data"
    }
   ],
   "source": [
    "#BASE FULL BW COPA\n",
    "\n",
    "df_bw = spark.read.parquet(\"s3a://\"+SPG_INTEGRATION_INPUT_BUCKET+\"/\"+SPG_INTEGRATION_INPUT_BUCKET_BW)"
   ]
  },
  {
   "cell_type": "code",
   "execution_count": 9,
   "metadata": {},
   "outputs": [
    {
     "data": {
      "application/vnd.jupyter.widget-view+json": {
       "model_id": "47a663c9591e4a96851bc0a69c86e460",
       "version_major": 2,
       "version_minor": 0
      },
      "text/plain": [
       "VBox()"
      ]
     },
     "metadata": {},
     "output_type": "display_data"
    },
    {
     "data": {
      "application/vnd.jupyter.widget-view+json": {
       "model_id": "",
       "version_major": 2,
       "version_minor": 0
      },
      "text/plain": [
       "FloatProgress(value=0.0, bar_style='info', description='Progress:', layout=Layout(height='25px', width='50%'),…"
      ]
     },
     "metadata": {},
     "output_type": "display_data"
    },
    {
     "name": "stdout",
     "output_type": "stream",
     "text": [
      "<pyspark.sql.readwriter.DataFrameWriter object at 0x7f36e28a2790>"
     ]
    }
   ],
   "source": [
    "df_bw.write.partitionBy(\"GTC100362\")\n",
    "df_bw = df_bw.repartition(\"GTC100362\")\n",
    "df_bw.persist(pyspark.StorageLevel.MEMORY_ONLY)"
   ]
  },
  {
   "cell_type": "code",
   "execution_count": 5,
   "metadata": {},
   "outputs": [
    {
     "data": {
      "application/vnd.jupyter.widget-view+json": {
       "model_id": "5deafd46e7ff4a48bad6d652bcd76f1c",
       "version_major": 2,
       "version_minor": 0
      },
      "text/plain": [
       "VBox()"
      ]
     },
     "metadata": {},
     "output_type": "display_data"
    },
    {
     "data": {
      "application/vnd.jupyter.widget-view+json": {
       "model_id": "",
       "version_major": 2,
       "version_minor": 0
      },
      "text/plain": [
       "FloatProgress(value=0.0, bar_style='info', description='Progress:', layout=Layout(height='25px', width='50%'),…"
      ]
     },
     "metadata": {},
     "output_type": "display_data"
    }
   ],
   "source": [
    "# Import CSV from View\n",
    "\n",
    "athena_response = get_aws_path(QUERY_CLIENT,ATHENA_SPG,S3_ATHENA_OUTPUT)\n",
    "\n",
    "wait_athena_load(SPG_QUERY_BUCKET, SPG_QUERY_BUCKET_ATHENA+\"/\"+athena_response+\".csv\")"
   ]
  },
  {
   "cell_type": "code",
   "execution_count": 7,
   "metadata": {},
   "outputs": [
    {
     "data": {
      "application/vnd.jupyter.widget-view+json": {
       "model_id": "5e15f6d20d834d03a4523b469cba0e71",
       "version_major": 2,
       "version_minor": 0
      },
      "text/plain": [
       "VBox()"
      ]
     },
     "metadata": {},
     "output_type": "display_data"
    },
    {
     "data": {
      "application/vnd.jupyter.widget-view+json": {
       "model_id": "",
       "version_major": 2,
       "version_minor": 0
      },
      "text/plain": [
       "FloatProgress(value=0.0, bar_style='info', description='Progress:', layout=Layout(height='25px', width='50%'),…"
      ]
     },
     "metadata": {},
     "output_type": "display_data"
    }
   ],
   "source": [
    "# Import CSV from View\n",
    "\n",
    "df_client = spark.read.csv(\"s3a://\"+SPG_QUERY_BUCKET+\"/\"+SPG_QUERY_BUCKET_ATHENA+\"/\"+athena_response+\".csv\", header = 'true')"
   ]
  },
  {
   "cell_type": "markdown",
   "metadata": {},
   "source": [
    "--------"
   ]
  },
  {
   "cell_type": "markdown",
   "metadata": {},
   "source": [
    "## Prepara Tabela"
   ]
  },
  {
   "cell_type": "code",
   "execution_count": 12,
   "metadata": {},
   "outputs": [
    {
     "data": {
      "application/vnd.jupyter.widget-view+json": {
       "model_id": "e68f903f27f04377949b5590c410da8f",
       "version_major": 2,
       "version_minor": 0
      },
      "text/plain": [
       "VBox()"
      ]
     },
     "metadata": {},
     "output_type": "display_data"
    },
    {
     "data": {
      "application/vnd.jupyter.widget-view+json": {
       "model_id": "",
       "version_major": 2,
       "version_minor": 0
      },
      "text/plain": [
       "FloatProgress(value=0.0, bar_style='info', description='Progress:', layout=Layout(height='25px', width='50%'),…"
      ]
     },
     "metadata": {},
     "output_type": "display_data"
    }
   ],
   "source": [
    "#Transforma colunas em int64\n",
    "\n",
    "for col_name in ['GTK101129',\n",
    "                'GTK101085',\n",
    "                'GTK101087',\n",
    "                'GTK101096',\n",
    "                'GTK101231',\n",
    "                'GTK101126',\n",
    "                'GTK101238',\n",
    "                'GTK101124',\n",
    "                'GTK101099',\n",
    "                'GTK101236',\n",
    "                'GTK103147',\n",
    "                'GTK103148',\n",
    "                'GTK103149',\n",
    "                'GTK101118',\n",
    "                'GTK101115',\n",
    "                'GTK101112',\n",
    "                'GTK101119',\n",
    "                'GTK101120',\n",
    "                'GTK101121',\n",
    "                'GTK101125',\n",
    "                'GTK101086',\n",
    "                'GTK101111',\n",
    "                'GTK101113',\n",
    "                'GTK102652',\n",
    "                'GTK101093',\n",
    "                'GTK101123',\n",
    "                'GTK101094',\n",
    "                'GTK101095',\n",
    "                'GTK101127',\n",
    "                'GTK101233',\n",
    "                'GTK102651',\n",
    "                'GTK101088',\n",
    "                'GTK103150',\n",
    "                'GTK101091',\n",
    "                'GTK101226',\n",
    "                'GTK101103',\n",
    "                'GTK101098',\n",
    "                'GTK101221',\n",
    "                'GTK101222',\n",
    "                'GTK101229',\n",
    "                'GTK101097',\n",
    "                'GTK101100',\n",
    "                'GTK101092',\n",
    "                'GTK101116',\n",
    "                'GTK101117',\n",
    "                'GTK101114',\n",
    "                'GTK101223',\n",
    "                'GTK101090',\n",
    "                'GTK101101',\n",
    "                'GTK101122',\n",
    "                'GTK101224',\n",
    "                'GTK101102',\n",
    "                'GTK101225',\n",
    "                'GTK101105',\n",
    "                'GTK101227',\n",
    "                'GTK101104',\n",
    "                'GTK101106',\n",
    "                'GTK101228',\n",
    "                'GTK101107',\n",
    "                'GTK101108',\n",
    "                'GTK101109',\n",
    "                'GTK101110']:\n",
    "    df_bw = df_bw.withColumn(col_name, col(col_name).cast('float'))"
   ]
  },
  {
   "cell_type": "markdown",
   "metadata": {},
   "source": [
    "## Calculo dos Campos"
   ]
  },
  {
   "cell_type": "code",
   "execution_count": 13,
   "metadata": {},
   "outputs": [
    {
     "data": {
      "application/vnd.jupyter.widget-view+json": {
       "model_id": "27dba916a76d47e4bb5f648cb1d87dc6",
       "version_major": 2,
       "version_minor": 0
      },
      "text/plain": [
       "VBox()"
      ]
     },
     "metadata": {},
     "output_type": "display_data"
    },
    {
     "data": {
      "application/vnd.jupyter.widget-view+json": {
       "model_id": "",
       "version_major": 2,
       "version_minor": 0
      },
      "text/plain": [
       "FloatProgress(value=0.0, bar_style='info', description='Progress:', layout=Layout(height='25px', width='50%'),…"
      ]
     },
     "metadata": {},
     "output_type": "display_data"
    }
   ],
   "source": [
    "df_bw=df_bw.withColumn(\"CUSTOOPERACIONAL\", col('gtk101088') +\n",
    "                                                    col('gtk101092') +\n",
    "                                                    col('gtk101093') +\n",
    "                                                    col('gtk101094') +\n",
    "                                                    col('gtk101095') +\n",
    "                                                    col('gtk101096') +\n",
    "                                                    col('gtk101229') +\n",
    "                                                    col('gtk101226') +\n",
    "                                                    col('gtk101222') +\n",
    "                                                    col('gtk101228') +\n",
    "                                                    col('gtk101221') +\n",
    "                                                    col('gtk101225') +\n",
    "                                                    col('gtk101224') +\n",
    "                                                    col('gtk101223') +\n",
    "                                                    col('gtk101227') +\n",
    "                                                    col('gtk101231') +\n",
    "                                                    col('gtk103150') +\n",
    "                                                    col('gtk101091'))"
   ]
  },
  {
   "cell_type": "code",
   "execution_count": 14,
   "metadata": {},
   "outputs": [
    {
     "data": {
      "application/vnd.jupyter.widget-view+json": {
       "model_id": "e3399ba5c5c7411c847e91326146d3fa",
       "version_major": 2,
       "version_minor": 0
      },
      "text/plain": [
       "VBox()"
      ]
     },
     "metadata": {},
     "output_type": "display_data"
    },
    {
     "data": {
      "application/vnd.jupyter.widget-view+json": {
       "model_id": "",
       "version_major": 2,
       "version_minor": 0
      },
      "text/plain": [
       "FloatProgress(value=0.0, bar_style='info', description='Progress:', layout=Layout(height='25px', width='50%'),…"
      ]
     },
     "metadata": {},
     "output_type": "display_data"
    }
   ],
   "source": [
    "df_bw=df_bw.withColumn(\"Y009_COGS_ADJUSTMENTS\", - col('gtk101107') - \n",
    "                                                             col('gtk101110') - \n",
    "                                                             col('gtk101115') - \n",
    "                                                             col('gtk101108') -\n",
    "                                                             col('gtk101109'))"
   ]
  },
  {
   "cell_type": "code",
   "execution_count": 15,
   "metadata": {},
   "outputs": [
    {
     "data": {
      "application/vnd.jupyter.widget-view+json": {
       "model_id": "d1f9b423630e48ad878ae5adc9776dc0",
       "version_major": 2,
       "version_minor": 0
      },
      "text/plain": [
       "VBox()"
      ]
     },
     "metadata": {},
     "output_type": "display_data"
    },
    {
     "data": {
      "application/vnd.jupyter.widget-view+json": {
       "model_id": "",
       "version_major": 2,
       "version_minor": 0
      },
      "text/plain": [
       "FloatProgress(value=0.0, bar_style='info', description='Progress:', layout=Layout(height='25px', width='50%'),…"
      ]
     },
     "metadata": {},
     "output_type": "display_data"
    }
   ],
   "source": [
    "df_bw=df_bw.withColumn(\"Y007_PORT_EXPENSES\", col('gtk101087'))"
   ]
  },
  {
   "cell_type": "code",
   "execution_count": 16,
   "metadata": {},
   "outputs": [
    {
     "data": {
      "application/vnd.jupyter.widget-view+json": {
       "model_id": "11809185489449699f7f0fcb3a84e072",
       "version_major": 2,
       "version_minor": 0
      },
      "text/plain": [
       "VBox()"
      ]
     },
     "metadata": {},
     "output_type": "display_data"
    },
    {
     "data": {
      "application/vnd.jupyter.widget-view+json": {
       "model_id": "",
       "version_major": 2,
       "version_minor": 0
      },
      "text/plain": [
       "FloatProgress(value=0.0, bar_style='info', description='Progress:', layout=Layout(height='25px', width='50%'),…"
      ]
     },
     "metadata": {},
     "output_type": "display_data"
    }
   ],
   "source": [
    "df_bw=df_bw.withColumn(\"Y008_SHIP_DEL_LOAD_C_C\", - col('gtk101112') - \n",
    "                                                          col('gtk101114'))"
   ]
  },
  {
   "cell_type": "code",
   "execution_count": 17,
   "metadata": {},
   "outputs": [
    {
     "data": {
      "application/vnd.jupyter.widget-view+json": {
       "model_id": "e440e00cf8df422fb709c1cfe0571444",
       "version_major": 2,
       "version_minor": 0
      },
      "text/plain": [
       "VBox()"
      ]
     },
     "metadata": {},
     "output_type": "display_data"
    },
    {
     "data": {
      "application/vnd.jupyter.widget-view+json": {
       "model_id": "",
       "version_major": 2,
       "version_minor": 0
      },
      "text/plain": [
       "FloatProgress(value=0.0, bar_style='info', description='Progress:', layout=Layout(height='25px', width='50%'),…"
      ]
     },
     "metadata": {},
     "output_type": "display_data"
    }
   ],
   "source": [
    "df_bw=df_bw.withColumn(\"Y006_FREIGHT\", - col('gtk101090') + \n",
    "                                                   col('gtk101086') - \n",
    "                                                   col('gtk101127') +\n",
    "                                                   col('gtk101233') +\n",
    "                                                   col('gtk102651') - \n",
    "                                                   col('gtk102652'))"
   ]
  },
  {
   "cell_type": "code",
   "execution_count": 18,
   "metadata": {},
   "outputs": [
    {
     "data": {
      "application/vnd.jupyter.widget-view+json": {
       "model_id": "24cd45ce009643d4938ac1ce267af384",
       "version_major": 2,
       "version_minor": 0
      },
      "text/plain": [
       "VBox()"
      ]
     },
     "metadata": {},
     "output_type": "display_data"
    },
    {
     "data": {
      "application/vnd.jupyter.widget-view+json": {
       "model_id": "",
       "version_major": 2,
       "version_minor": 0
      },
      "text/plain": [
       "FloatProgress(value=0.0, bar_style='info', description='Progress:', layout=Layout(height='25px', width='50%'),…"
      ]
     },
     "metadata": {},
     "output_type": "display_data"
    }
   ],
   "source": [
    "df_bw=df_bw.withColumn(\"GTPM056\", - col('gtk103150'))"
   ]
  },
  {
   "cell_type": "code",
   "execution_count": 19,
   "metadata": {},
   "outputs": [
    {
     "data": {
      "application/vnd.jupyter.widget-view+json": {
       "model_id": "5e2f6b569c514c8bb02bd86d2385123a",
       "version_major": 2,
       "version_minor": 0
      },
      "text/plain": [
       "VBox()"
      ]
     },
     "metadata": {},
     "output_type": "display_data"
    },
    {
     "data": {
      "application/vnd.jupyter.widget-view+json": {
       "model_id": "",
       "version_major": 2,
       "version_minor": 0
      },
      "text/plain": [
       "FloatProgress(value=0.0, bar_style='info', description='Progress:', layout=Layout(height='25px', width='50%'),…"
      ]
     },
     "metadata": {},
     "output_type": "display_data"
    }
   ],
   "source": [
    "df_bw=df_bw.withColumn(\"YXXX_COGS_TOTAL\", (col('gtk101088') + col('gtk101091') + col('gtk101092') + col('gtk101093') + \n",
    "                                                    col('gtk101094') + col('gtk101095') + col('gtk101096') + col('gtk101103') + \n",
    "                                                    col('gtk101226') + col('gtk101097') + col('gtk101229') + col('gtk101098') +\n",
    "                                                    col('gtk101221') + col('gtk101099') + col('gtk101222') + col('gtk101100') + \n",
    "                                                    col('gtk101223') + col('gtk101101') + col('gtk101224') + col('gtk101102') + \n",
    "                                                    col('gtk101225') + col('gtk101104') + col('gtk101105') + col('gtk101227') +\n",
    "                                                    col('gtk101106') + col('gtk101228') + col('gtk101231')) * (-1))"
   ]
  },
  {
   "cell_type": "code",
   "execution_count": 20,
   "metadata": {},
   "outputs": [
    {
     "data": {
      "application/vnd.jupyter.widget-view+json": {
       "model_id": "d98a304bea5749a7bd304fd891f9a643",
       "version_major": 2,
       "version_minor": 0
      },
      "text/plain": [
       "VBox()"
      ]
     },
     "metadata": {},
     "output_type": "display_data"
    },
    {
     "data": {
      "application/vnd.jupyter.widget-view+json": {
       "model_id": "",
       "version_major": 2,
       "version_minor": 0
      },
      "text/plain": [
       "FloatProgress(value=0.0, bar_style='info', description='Progress:', layout=Layout(height='25px', width='50%'),…"
      ]
     },
     "metadata": {},
     "output_type": "display_data"
    }
   ],
   "source": [
    "df_bw=df_bw.withColumn(\"Y002_GROSS_SALES\", col('gtk101085') + \n",
    "                                                     col('gtk101126') + \n",
    "                                                     col('gtk101238') + \n",
    "                                                     col('gtk101236') + \n",
    "                                                     col('gtk103147') + \n",
    "                                                     col('gtk103148') + \n",
    "                                                     col('gtk103149'))"
   ]
  },
  {
   "cell_type": "code",
   "execution_count": 21,
   "metadata": {},
   "outputs": [
    {
     "data": {
      "application/vnd.jupyter.widget-view+json": {
       "model_id": "2dbc11d1c62e4406825dcd9eebf49398",
       "version_major": 2,
       "version_minor": 0
      },
      "text/plain": [
       "VBox()"
      ]
     },
     "metadata": {},
     "output_type": "display_data"
    },
    {
     "data": {
      "application/vnd.jupyter.widget-view+json": {
       "model_id": "",
       "version_major": 2,
       "version_minor": 0
      },
      "text/plain": [
       "FloatProgress(value=0.0, bar_style='info', description='Progress:', layout=Layout(height='25px', width='50%'),…"
      ]
     },
     "metadata": {},
     "output_type": "display_data"
    }
   ],
   "source": [
    "df_bw=df_bw.withColumn(\"Y003_SALES_TAX_DISCOUNT\",      - col('gtk101113') - \n",
    "                                                                 col('gtk101116') + \n",
    "                                                                 col('gtk101117') + \n",
    "                                                                 col('gtk101118') + \n",
    "                                                                 col('gtk101119') + \n",
    "                                                                 col('gtk101120') + \n",
    "                                                                 col('gtk101121') + \n",
    "                                                                 col('gtk101122') + \n",
    "                                                                 col('gtk101123') - \n",
    "                                                                 col('gtk101124'))"
   ]
  },
  {
   "cell_type": "code",
   "execution_count": 22,
   "metadata": {},
   "outputs": [
    {
     "data": {
      "application/vnd.jupyter.widget-view+json": {
       "model_id": "7314cd03eced4c0f8f60a48963d518d3",
       "version_major": 2,
       "version_minor": 0
      },
      "text/plain": [
       "VBox()"
      ]
     },
     "metadata": {},
     "output_type": "display_data"
    },
    {
     "data": {
      "application/vnd.jupyter.widget-view+json": {
       "model_id": "",
       "version_major": 2,
       "version_minor": 0
      },
      "text/plain": [
       "FloatProgress(value=0.0, bar_style='info', description='Progress:', layout=Layout(height='25px', width='50%'),…"
      ]
     },
     "metadata": {},
     "output_type": "display_data"
    }
   ],
   "source": [
    "df_bw=df_bw.withColumn(\"Y004_NET_SALES\", col('Y003_SALES_TAX_DISCOUNT') +\n",
    "                                                   col('Y002_GROSS_SALES'))"
   ]
  },
  {
   "cell_type": "code",
   "execution_count": 23,
   "metadata": {},
   "outputs": [
    {
     "data": {
      "application/vnd.jupyter.widget-view+json": {
       "model_id": "78af111d0a98438cac0635200c9d6d62",
       "version_major": 2,
       "version_minor": 0
      },
      "text/plain": [
       "VBox()"
      ]
     },
     "metadata": {},
     "output_type": "display_data"
    },
    {
     "data": {
      "application/vnd.jupyter.widget-view+json": {
       "model_id": "",
       "version_major": 2,
       "version_minor": 0
      },
      "text/plain": [
       "FloatProgress(value=0.0, bar_style='info', description='Progress:', layout=Layout(height='25px', width='50%'),…"
      ]
     },
     "metadata": {},
     "output_type": "display_data"
    }
   ],
   "source": [
    "df_bw=df_bw.withColumn(\"COMISSION_TO_AGENTS\",col('gtk101125').cast(\"float\"))"
   ]
  },
  {
   "cell_type": "markdown",
   "metadata": {},
   "source": [
    "## Calculo do Lucro Bruto"
   ]
  },
  {
   "cell_type": "code",
   "execution_count": 24,
   "metadata": {},
   "outputs": [
    {
     "data": {
      "application/vnd.jupyter.widget-view+json": {
       "model_id": "a34c23b6fd1740609e27c8f7a19e8681",
       "version_major": 2,
       "version_minor": 0
      },
      "text/plain": [
       "VBox()"
      ]
     },
     "metadata": {},
     "output_type": "display_data"
    },
    {
     "data": {
      "application/vnd.jupyter.widget-view+json": {
       "model_id": "",
       "version_major": 2,
       "version_minor": 0
      },
      "text/plain": [
       "FloatProgress(value=0.0, bar_style='info', description='Progress:', layout=Layout(height='25px', width='50%'),…"
      ]
     },
     "metadata": {},
     "output_type": "display_data"
    }
   ],
   "source": [
    "df_bw=df_bw.withColumn(\"GROSS_PROFIT_BW\", col('Y004_NET_SALES') +\n",
    "                                                   col('YXXX_COGS_TOTAL') +\n",
    "                                                   col('Y006_FREIGHT') +\n",
    "                                                   col('Y008_SHIP_DEL_LOAD_C_C') +\n",
    "                                                   col('Y007_PORT_EXPENSES') +\n",
    "                                                   col('Y009_COGS_ADJUSTMENTS')+\n",
    "                                                   col('COMISSION_TO_AGENTS'))"
   ]
  },
  {
   "cell_type": "markdown",
   "metadata": {},
   "source": [
    "## Data Prep "
   ]
  },
  {
   "cell_type": "code",
   "execution_count": 25,
   "metadata": {},
   "outputs": [
    {
     "data": {
      "application/vnd.jupyter.widget-view+json": {
       "model_id": "294d696bc5f046208819de00eaed4dce",
       "version_major": 2,
       "version_minor": 0
      },
      "text/plain": [
       "VBox()"
      ]
     },
     "metadata": {},
     "output_type": "display_data"
    },
    {
     "data": {
      "application/vnd.jupyter.widget-view+json": {
       "model_id": "",
       "version_major": 2,
       "version_minor": 0
      },
      "text/plain": [
       "FloatProgress(value=0.0, bar_style='info', description='Progress:', layout=Layout(height='25px', width='50%'),…"
      ]
     },
     "metadata": {},
     "output_type": "display_data"
    }
   ],
   "source": [
    "#Seleciona colunas\n",
    "df_lb = df_bw.select(\"GTC100511\",\"GTC100020\", \"GTC101018\",\"GTC100025\", \"GTC100362\", \"GTK101129\",\"GTC100209\"\n",
    "                     ,\"GTC100255\",\"GTC100504\",\"CUSTOOPERACIONAL\", \"Y009_COGS_ADJUSTMENTS\"\n",
    "                     ,\"Y007_PORT_EXPENSES\",\"Y008_SHIP_DEL_LOAD_C_C\",\"Y006_FREIGHT\",\"GTPM056\"\n",
    "                     ,\"YXXX_COGS_TOTAL\",\"Y002_GROSS_SALES\",\"Y003_SALES_TAX_DISCOUNT\",\"Y004_NET_SALES\"\n",
    "                     ,\"COMISSION_TO_AGENTS\",\"GROSS_PROFIT_BW\")\n",
    "\n",
    "\n",
    "df_lb = df_lb.withColumnRenamed(\"GTC100025\", 'Data')\\\n",
    "             .withColumnRenamed(\"GTC100362\", 'GPD_cod')\\\n",
    "             .withColumnRenamed(\"GTK101129\", 'Quantity_ton')\\\n",
    "             .withColumnRenamed(\"GTC100255\", 'Sales_Number')\\\n",
    "             .withColumnRenamed(\"GTC100209\", 'cod_client')\\\n",
    "             .withColumnRenamed(\"GTC100504\", 'Sales_Number_Item')"
   ]
  },
  {
   "cell_type": "code",
   "execution_count": 26,
   "metadata": {},
   "outputs": [
    {
     "data": {
      "application/vnd.jupyter.widget-view+json": {
       "model_id": "6612573d5e334001b5a786115188a990",
       "version_major": 2,
       "version_minor": 0
      },
      "text/plain": [
       "VBox()"
      ]
     },
     "metadata": {},
     "output_type": "display_data"
    },
    {
     "data": {
      "application/vnd.jupyter.widget-view+json": {
       "model_id": "",
       "version_major": 2,
       "version_minor": 0
      },
      "text/plain": [
       "FloatProgress(value=0.0, bar_style='info', description='Progress:', layout=Layout(height='25px', width='50%'),…"
      ]
     },
     "metadata": {},
     "output_type": "display_data"
    }
   ],
   "source": [
    "df_lb = df_lb.withColumn(\"Quantity_ton\", col('Quantity_ton')/1000)\\\n",
    "             .withColumn(\"cod_client\", col('cod_client').cast(\"int\"))\\"
   ]
  },
  {
   "cell_type": "code",
   "execution_count": 27,
   "metadata": {},
   "outputs": [
    {
     "data": {
      "application/vnd.jupyter.widget-view+json": {
       "model_id": "73279ecdcb5d4b3aacb00670fa972200",
       "version_major": 2,
       "version_minor": 0
      },
      "text/plain": [
       "VBox()"
      ]
     },
     "metadata": {},
     "output_type": "display_data"
    },
    {
     "data": {
      "application/vnd.jupyter.widget-view+json": {
       "model_id": "",
       "version_major": 2,
       "version_minor": 0
      },
      "text/plain": [
       "FloatProgress(value=0.0, bar_style='info', description='Progress:', layout=Layout(height='25px', width='50%'),…"
      ]
     },
     "metadata": {},
     "output_type": "display_data"
    }
   ],
   "source": [
    "df_lb=df_lb.join(df_client.select(df_client.cod_client\n",
    "                                  ,df_client.organization_sales_cod.alias(\"GTC100511\")\n",
    "                                  ,df_client.state), on=[\"GTC100511\",\"cod_client\"], how=\"left\")"
   ]
  },
  {
   "cell_type": "code",
   "execution_count": 28,
   "metadata": {},
   "outputs": [
    {
     "data": {
      "application/vnd.jupyter.widget-view+json": {
       "model_id": "13ae74b9eef7481788347d26be4ccee4",
       "version_major": 2,
       "version_minor": 0
      },
      "text/plain": [
       "VBox()"
      ]
     },
     "metadata": {},
     "output_type": "display_data"
    },
    {
     "data": {
      "application/vnd.jupyter.widget-view+json": {
       "model_id": "",
       "version_major": 2,
       "version_minor": 0
      },
      "text/plain": [
       "FloatProgress(value=0.0, bar_style='info', description='Progress:', layout=Layout(height='25px', width='50%'),…"
      ]
     },
     "metadata": {},
     "output_type": "display_data"
    }
   ],
   "source": [
    "df_lb=df_lb.withColumn(\"GTC101018\", when(trim(df_lb[\"GTC101018\"]).isNull()|df_lb[\"GTC101018\"].like(' '), df_lb.state)\\\n",
    "                                        .otherwise(df_lb[\"GTC101018\"]))"
   ]
  },
  {
   "cell_type": "code",
   "execution_count": 29,
   "metadata": {},
   "outputs": [
    {
     "data": {
      "application/vnd.jupyter.widget-view+json": {
       "model_id": "d6fa50b8ecd54f44afd472936f8d7f23",
       "version_major": 2,
       "version_minor": 0
      },
      "text/plain": [
       "VBox()"
      ]
     },
     "metadata": {},
     "output_type": "display_data"
    },
    {
     "data": {
      "application/vnd.jupyter.widget-view+json": {
       "model_id": "",
       "version_major": 2,
       "version_minor": 0
      },
      "text/plain": [
       "FloatProgress(value=0.0, bar_style='info', description='Progress:', layout=Layout(height='25px', width='50%'),…"
      ]
     },
     "metadata": {},
     "output_type": "display_data"
    }
   ],
   "source": [
    "df_lb=df_lb.drop(\"cod_client\",\"state\")"
   ]
  },
  {
   "cell_type": "code",
   "execution_count": 30,
   "metadata": {},
   "outputs": [
    {
     "data": {
      "application/vnd.jupyter.widget-view+json": {
       "model_id": "f343fd3d152341a2bf5d8b99b93391ed",
       "version_major": 2,
       "version_minor": 0
      },
      "text/plain": [
       "VBox()"
      ]
     },
     "metadata": {},
     "output_type": "display_data"
    },
    {
     "data": {
      "application/vnd.jupyter.widget-view+json": {
       "model_id": "",
       "version_major": 2,
       "version_minor": 0
      },
      "text/plain": [
       "FloatProgress(value=0.0, bar_style='info', description='Progress:', layout=Layout(height='25px', width='50%'),…"
      ]
     },
     "metadata": {},
     "output_type": "display_data"
    },
    {
     "name": "stdout",
     "output_type": "stream",
     "text": [
      "<pyspark.sql.readwriter.DataFrameWriter object at 0x7f3723a6f8d0>"
     ]
    }
   ],
   "source": [
    "df_bw.write.partitionBy(\"GTC101018\")"
   ]
  },
  {
   "cell_type": "code",
   "execution_count": 31,
   "metadata": {},
   "outputs": [
    {
     "data": {
      "application/vnd.jupyter.widget-view+json": {
       "model_id": "eabfc15db1bf48e88f5127b683be79e1",
       "version_major": 2,
       "version_minor": 0
      },
      "text/plain": [
       "VBox()"
      ]
     },
     "metadata": {},
     "output_type": "display_data"
    },
    {
     "data": {
      "application/vnd.jupyter.widget-view+json": {
       "model_id": "",
       "version_major": 2,
       "version_minor": 0
      },
      "text/plain": [
       "FloatProgress(value=0.0, bar_style='info', description='Progress:', layout=Layout(height='25px', width='50%'),…"
      ]
     },
     "metadata": {},
     "output_type": "display_data"
    }
   ],
   "source": [
    "df_bw = df_bw.repartition(\"GTC101018\")"
   ]
  },
  {
   "cell_type": "code",
   "execution_count": 32,
   "metadata": {},
   "outputs": [
    {
     "data": {
      "application/vnd.jupyter.widget-view+json": {
       "model_id": "96dcaa1fae77422eb9417e14f2d73b3f",
       "version_major": 2,
       "version_minor": 0
      },
      "text/plain": [
       "VBox()"
      ]
     },
     "metadata": {},
     "output_type": "display_data"
    },
    {
     "data": {
      "application/vnd.jupyter.widget-view+json": {
       "model_id": "",
       "version_major": 2,
       "version_minor": 0
      },
      "text/plain": [
       "FloatProgress(value=0.0, bar_style='info', description='Progress:', layout=Layout(height='25px', width='50%'),…"
      ]
     },
     "metadata": {},
     "output_type": "display_data"
    },
    {
     "name": "stdout",
     "output_type": "stream",
     "text": [
      "DataFrame[0OHREQUID: string, 0DATAPAKID: string, 0RECORD: string, 0FISCVARNT: string, 0FISCPER: string, 0VERSION: string, GTC100202: string, 0VTYPE: string, GTC101700: string, GTC101667: string, GTC101669: string, 0RECORDMODE: string, GTK101128: double, 0G_UABSMG: string, GTC100257: string, GTC100025: string, GTC100505: string, 0CALWEEK: string, GTC100142: string, GTC101698: string, GTC101699: string, GTC100255: string, GTC100504: string, GTC100163: string, GTC100361: string, GTC100878: string, GTC100362: string, GTC100364: string, GTC101655: string, GTC101656: string, GTC101657: string, GTC100450: string, 0CURRENCY: string, GTC101018: string, GTC100190: string, GTC101672: string, GTC100245: string, GTC100194: string, GTC100595: string, GTC100507: string, GTC100506: string, GTC100511: string, GTC100243: string, GTK101129: float, 0G_UVV001: string, GTK101130: double, 0G_UVV002: string, GTK101131: double, 0G_UVV003: string, GTK101132: double, 0G_UVV004: string, GTK101085: float, GTK101086: float, GTK101087: float, GTK101088: float, GTK101089: double, GTK101090: float, GTK101091: float, GTK101092: float, GTK101093: float, GTK101094: float, GTK101095: float, GTK101096: float, GTK101097: float, GTK101098: float, GTK101099: float, GTK101100: float, GTK101101: float, GTK101102: float, GTK101103: float, GTK101104: float, GTK101105: float, GTK101106: float, GTK101107: float, GTK101108: float, GTK101109: float, GTK101110: float, GTK101111: float, GTK101112: float, GTK101113: float, GTK101114: float, GTK101115: float, GTK101116: float, GTK101117: float, GTK101118: float, GTK101119: float, GTK101120: float, GTK101121: float, GTK101122: float, GTK101123: float, GTK101124: float, GTK101125: float, GTK101126: float, GTK101127: float, GTC100023: string, GTC100203: string, GTC100830: string, GTC100445: string, GTK101221: float, GTK101222: float, GTK101223: float, GTK101224: float, GTK101225: float, GTK101226: float, GTK101227: float, GTK101228: float, GTK101229: float, GTK101230: double, GTK101231: float, GTK101232: double, GTK101233: float, 0FISCYEAR: string, GTK101236: float, GTK101237: double, GTK101238: float, GTC101671: string, GTC100137: string, GTC100603: string, GTK102651: float, GTK102652: float, GTC100172: string, GTC100020: string, GTC100209: string, GTC100168: string, GTK103147: float, GTK103148: float, GTK103149: float, GTK103150: float, GTK103151: double, GTK103152: double, GTK103153: double, GTK103154: double, GTK103155: double, GTK103156: double, GTK103157: double, GTK103158: double, GTK103159: double, GTK103160: double, GTK103161: double, GTK103162: double, GTK103163: double, GTK103164: double, GTK103165: double, GTK103166: double, GTK103167: double, GTK103168: double, GTK103169: double, GTK103170: double, GTK103171: double, GTK103172: double, GTK103173: double, GTK103174: double, GTK103175: double, GTK103176: double, GTK103177: double, GTK103178: double, GTK103179: double, GTK103180: double, 0G_UVV117: string, 0G_UVV118: string, 0G_UVV120: string, DI_EXTRACT_TIME: string, DATA_LOAD_TIMESTAMP_PARQUET: string, DATA_LOAD_TIMESTAMP_RAW: string, BW_KEY: string, CUSTOOPERACIONAL: float, Y009_COGS_ADJUSTMENTS: float, Y007_PORT_EXPENSES: float, Y008_SHIP_DEL_LOAD_C_C: float, Y006_FREIGHT: float, GTPM056: float, YXXX_COGS_TOTAL: float, Y002_GROSS_SALES: float, Y003_SALES_TAX_DISCOUNT: float, Y004_NET_SALES: float, COMISSION_TO_AGENTS: float, GROSS_PROFIT_BW: float]"
     ]
    }
   ],
   "source": [
    "df_bw.persist(pyspark.StorageLevel.MEMORY_ONLY)"
   ]
  },
  {
   "cell_type": "code",
   "execution_count": 33,
   "metadata": {},
   "outputs": [
    {
     "data": {
      "application/vnd.jupyter.widget-view+json": {
       "model_id": "761d34a56386499db3fa5bd168e1c2c8",
       "version_major": 2,
       "version_minor": 0
      },
      "text/plain": [
       "VBox()"
      ]
     },
     "metadata": {},
     "output_type": "display_data"
    },
    {
     "data": {
      "application/vnd.jupyter.widget-view+json": {
       "model_id": "",
       "version_major": 2,
       "version_minor": 0
      },
      "text/plain": [
       "FloatProgress(value=0.0, bar_style='info', description='Progress:', layout=Layout(height='25px', width='50%'),…"
      ]
     },
     "metadata": {},
     "output_type": "display_data"
    }
   ],
   "source": [
    "# Prepara Coluna Data para criação de chave e Groupby\n",
    "#df_lb = df_lb.withColumn(\"DataKey\",expr(\"substring(Data, 1, length(Data)-12)\"))\n",
    "\n",
    "# Cria Coluna Mês e Ano\n",
    "\n",
    "df_lb = df_lb \\\n",
    "            .withColumn('year', year(col('Data'))) \\\n",
    "            .withColumn('month', month(col('Data')))\n",
    "\n",
    "# Limpa Sales Number\n",
    "df_lb = df_lb.withColumn(\"Sales_Number\",col(\"Sales_Number\").cast(\"int\").cast(\"string\"))\n",
    "df_lb = df_lb.withColumn(\"Sales_Number_Item\",col(\"Sales_Number_Item\").cast(\"int\").cast(\"string\"))\n",
    "\n",
    "# Cria Chaves\n",
    "df_lb = df_lb.withColumn(\"KEY_LB\", (concat(col(\"Sales_Number\"), lit(\"_\"), col(\"Sales_Number_Item\"))))\n",
    "df_lb = df_lb.withColumn(\"KEY_LB_DATA\", (concat(col(\"year\"), lit(\"-\"), col(\"month\") ,lit(\"_\"), col(\"Sales_Number\"), lit(\"_\"), col(\"Sales_Number_Item\"))))"
   ]
  },
  {
   "cell_type": "code",
   "execution_count": 34,
   "metadata": {},
   "outputs": [
    {
     "data": {
      "application/vnd.jupyter.widget-view+json": {
       "model_id": "f0a4c9713b9745c1899467a64f3d3018",
       "version_major": 2,
       "version_minor": 0
      },
      "text/plain": [
       "VBox()"
      ]
     },
     "metadata": {},
     "output_type": "display_data"
    },
    {
     "data": {
      "application/vnd.jupyter.widget-view+json": {
       "model_id": "",
       "version_major": 2,
       "version_minor": 0
      },
      "text/plain": [
       "FloatProgress(value=0.0, bar_style='info', description='Progress:', layout=Layout(height='25px', width='50%'),…"
      ]
     },
     "metadata": {},
     "output_type": "display_data"
    }
   ],
   "source": [
    "# Agrupamento por Data + Documento de Vendas + Item do documento de vendas\n",
    "\n",
    "df_lucro_bruto = df_lb\n",
    "\n",
    "df_lucro_bruto = df_lucro_bruto.groupby(['KEY_LB_DATA']).agg({'Quantity_ton':'sum','COMISSION_TO_AGENTS': 'sum', 'CUSTOOPERACIONAL': 'sum', 'Y009_COGS_ADJUSTMENTS': 'sum', 'Y007_PORT_EXPENSES': 'sum', 'Y008_SHIP_DEL_LOAD_C_C': 'sum', 'Y006_FREIGHT': 'sum', 'GTPM056': 'sum', 'YXXX_COGS_TOTAL': 'sum', 'Y002_GROSS_SALES': 'sum', 'Y003_SALES_TAX_DISCOUNT': 'sum', 'Y004_NET_SALES': 'sum', 'GROSS_PROFIT_BW': 'sum', 'Data': 'first', 'GPD_cod': 'first','Sales_Number': 'first','Sales_Number_Item': 'first','KEY_LB': 'first', 'GTC101018': 'first', 'GTC100511': 'first', 'GTC100020': 'first'})\n",
    "\n",
    "# Renomeia devido a infelicidade do PySpark\n",
    "\n",
    "df_lucro_bruto = df_lucro_bruto.withColumnRenamed(\"sum(Y003_SALES_TAX_DISCOUNT)\", 'SALES_TAX_DISCOUNT')\n",
    "df_lucro_bruto = df_lucro_bruto.withColumnRenamed(\"sum(Quantity_ton)\", 'QUANTITY_TON')\n",
    "df_lucro_bruto = df_lucro_bruto.withColumnRenamed(\"sum(CUSTOOPERACIONAL)\", 'CUSTO_OPERACIONAL')\n",
    "df_lucro_bruto = df_lucro_bruto.withColumnRenamed(\"sum(YXXX_COGS_TOTAL)\", 'COGS_TOTAL')\n",
    "df_lucro_bruto = df_lucro_bruto.withColumnRenamed(\"sum(Y008_SHIP_DEL_LOAD_C_C)\", 'SHIP_DEL_LOAD_C_C')\n",
    "df_lucro_bruto = df_lucro_bruto.withColumnRenamed(\"sum(COMISSION_TO_AGENTS)\", 'COMISSION_TO_AGENTS')\n",
    "\n",
    "df_lucro_bruto = df_lucro_bruto.withColumnRenamed(\"first(GPD_cod)\", 'GPD_COD')\n",
    "df_lucro_bruto = df_lucro_bruto.withColumnRenamed(\"first(Sales_Number)\", 'SALES_NUMBER')\n",
    "df_lucro_bruto = df_lucro_bruto.withColumnRenamed(\"first(GTC101018)\", 'GTC101018')\n",
    "df_lucro_bruto = df_lucro_bruto.withColumnRenamed(\"first(GTC100511)\", 'GTC100511')\n",
    "df_lucro_bruto = df_lucro_bruto.withColumnRenamed(\"first(GTC100020)\", 'GTC100020')\n",
    "df_lucro_bruto = df_lucro_bruto.withColumnRenamed(\"sum(GROSS_PROFIT_BW)\", 'GROSS_PROFIT_BW')\n",
    "df_lucro_bruto = df_lucro_bruto.withColumnRenamed(\"first(KEY_LB)\", 'KEY_LB')\n",
    "\n",
    "df_lucro_bruto = df_lucro_bruto.withColumnRenamed(\"sum(Y002_GROSS_SALES)\", 'GROSS_SALES')\n",
    "df_lucro_bruto = df_lucro_bruto.withColumnRenamed(\"sum(Y004_NET_SALES)\", 'NET_SALES')\n",
    "df_lucro_bruto = df_lucro_bruto.withColumnRenamed(\"sum(GTPM056)\", 'GTPM056')\n",
    "\n",
    "df_lucro_bruto = df_lucro_bruto.withColumnRenamed(\"first(Sales_Number_Item)\", 'SALES_NUMBER_ITEM')\n",
    "df_lucro_bruto = df_lucro_bruto.withColumnRenamed(\"sum(Y009_COGS_ADJUSTMENTS)\", 'COGS_ADJUSTMENTS')\n",
    "df_lucro_bruto = df_lucro_bruto.withColumnRenamed(\"sum(Y007_PORT_EXPENSES)\", 'PORT_EXPENSES')\n",
    "df_lucro_bruto = df_lucro_bruto.withColumnRenamed(\"first(Data)\", 'DATA')\n",
    "df_lucro_bruto = df_lucro_bruto.withColumnRenamed(\"sum(Y006_FREIGHT)\", 'FREIGHT')"
   ]
  },
  {
   "cell_type": "markdown",
   "metadata": {},
   "source": [
    "## Export "
   ]
  },
  {
   "cell_type": "code",
   "execution_count": 35,
   "metadata": {
    "scrolled": true
   },
   "outputs": [
    {
     "data": {
      "application/vnd.jupyter.widget-view+json": {
       "model_id": "ae5b196cb74947b7a774448a6a87e962",
       "version_major": 2,
       "version_minor": 0
      },
      "text/plain": [
       "VBox()"
      ]
     },
     "metadata": {},
     "output_type": "display_data"
    },
    {
     "data": {
      "application/vnd.jupyter.widget-view+json": {
       "model_id": "",
       "version_major": 2,
       "version_minor": 0
      },
      "text/plain": [
       "FloatProgress(value=0.0, bar_style='info', description='Progress:', layout=Layout(height='25px', width='50%'),…"
      ]
     },
     "metadata": {},
     "output_type": "display_data"
    }
   ],
   "source": [
    "df_lucro_bruto.write.parquet(\"s3a://\"+SPG_OUTPUT_BUCKET+\"/\"+SPG_OUTPUT_BUCKET_GP, mode = \"overwrite\")"
   ]
  },
  {
   "cell_type": "code",
   "execution_count": null,
   "metadata": {},
   "outputs": [],
   "source": []
  }
 ],
 "metadata": {
  "kernelspec": {
   "display_name": "Python 3",
   "language": "python",
   "name": "python3"
  },
  "language_info": {
   "codemirror_mode": {
    "name": "ipython",
    "version": 3
   },
   "file_extension": ".py",
   "mimetype": "text/x-python",
   "name": "python",
   "nbconvert_exporter": "python",
   "pygments_lexer": "ipython3",
   "version": "3.7.5"
  }
 },
 "nbformat": 4,
 "nbformat_minor": 4
}
