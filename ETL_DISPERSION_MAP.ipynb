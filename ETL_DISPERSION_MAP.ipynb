{
 "cells": [
  {
   "cell_type": "markdown",
   "metadata": {},
   "source": [
    "# Importing Libraries"
   ]
  },
  {
   "cell_type": "code",
   "execution_count": 1,
   "metadata": {},
   "outputs": [
    {
     "data": {
      "text/html": [
       "Current session configs: <tt>{'conf': {'spark.pyspark.python': 'python27', 'spark.pyspark.virtualenv.enabled': 'true', 'spark.pyspark.virtualenv.type': 'native', 'spark.pyspark.virtualenv.bin.path': '/usr/bin/virtualenv'}, 'kind': 'pyspark'}</tt><br>"
      ],
      "text/plain": [
       "<IPython.core.display.HTML object>"
      ]
     },
     "metadata": {},
     "output_type": "display_data"
    },
    {
     "data": {
      "text/html": [
       "No active sessions."
      ],
      "text/plain": [
       "<IPython.core.display.HTML object>"
      ]
     },
     "metadata": {},
     "output_type": "display_data"
    }
   ],
   "source": [
    "%%configure -f\n",
    "{\"conf\":{\n",
    "\"spark.pyspark.python\": \"python27\",\n",
    "\"spark.pyspark.virtualenv.enabled\": \"true\",\n",
    "\"spark.pyspark.virtualenv.type\":\"native\",\n",
    "\"spark.pyspark.virtualenv.bin.path\":\"/usr/bin/virtualenv\"\n",
    "}}"
   ]
  },
  {
   "cell_type": "code",
   "execution_count": 2,
   "metadata": {},
   "outputs": [
    {
     "data": {
      "application/vnd.jupyter.widget-view+json": {
       "model_id": "a9ddc856b88d4bc0af4ad57fcd49948f",
       "version_major": 2,
       "version_minor": 0
      },
      "text/plain": [
       "VBox()"
      ]
     },
     "metadata": {},
     "output_type": "display_data"
    },
    {
     "name": "stdout",
     "output_type": "stream",
     "text": [
      "Starting Spark application\n"
     ]
    },
    {
     "data": {
      "text/html": [
       "<table>\n",
       "<tr><th>ID</th><th>YARN Application ID</th><th>Kind</th><th>State</th><th>Spark UI</th><th>Driver log</th><th>Current session?</th></tr><tr><td>0</td><td>application_1573728220057_0001</td><td>pyspark</td><td>idle</td><td><a target=\"_blank\" href=\"http://ip-172-31-38-92.us-east-2.compute.internal:20888/proxy/application_1573728220057_0001/\">Link</a></td><td><a target=\"_blank\" href=\"http://ip-172-31-37-17.us-east-2.compute.internal:8042/node/containerlogs/container_1573728220057_0001_01_000001/livy\">Link</a></td><td>✔</td></tr></table>"
      ],
      "text/plain": [
       "<IPython.core.display.HTML object>"
      ]
     },
     "metadata": {},
     "output_type": "display_data"
    },
    {
     "data": {
      "application/vnd.jupyter.widget-view+json": {
       "model_id": "",
       "version_major": 2,
       "version_minor": 0
      },
      "text/plain": [
       "FloatProgress(value=0.0, bar_style='info', description='Progress:', layout=Layout(height='25px', width='50%'),…"
      ]
     },
     "metadata": {},
     "output_type": "display_data"
    },
    {
     "name": "stdout",
     "output_type": "stream",
     "text": [
      "SparkSession available as 'spark'.\n"
     ]
    },
    {
     "data": {
      "application/vnd.jupyter.widget-view+json": {
       "model_id": "",
       "version_major": 2,
       "version_minor": 0
      },
      "text/plain": [
       "FloatProgress(value=0.0, bar_style='info', description='Progress:', layout=Layout(height='25px', width='50%'),…"
      ]
     },
     "metadata": {},
     "output_type": "display_data"
    }
   ],
   "source": [
    "import findspark                                              #Import library to Search for Spark Installation\n",
    "\n",
    "findspark.init()                                              #Search Spark Installation\n",
    "\n",
    "import pyspark                                                #Only run after findspark.init()\n",
    "\n",
    "from pyspark.sql import SparkSession                          #Import of Spark Session\n",
    "from pyspark import SparkContext as spark                     #Import the Regular Spark Contex\n",
    "from pyspark.sql import SQLContext                            #Import the SQL Spark Contex\n",
    "from pyspark.sql.functions import *                           #Import the SQL Spark Functions\n",
    "from pyspark.sql.types import *                               #Import the SQL Spark Variables Types\n",
    "spark = SparkSession.builder.getOrCreate()                    #Creating Spark Session\n",
    "import os\n",
    "\n",
    "from datetime import date                                     # Import date methoed\n",
    "month_ref = date.today().month                                # Creating Current Month Variable\n",
    "year_ref = date.today().year                                  # Creating Current Year Variable\n",
    "\n",
    "sc = spark.sparkContext                                       #Initialize Spark Session"
   ]
  },
  {
   "cell_type": "markdown",
   "metadata": {},
   "source": [
    "-----------------------------"
   ]
  },
  {
   "cell_type": "markdown",
   "metadata": {},
   "source": [
    "# Creating Variables"
   ]
  },
  {
   "cell_type": "markdown",
   "metadata": {},
   "source": [
    "## Buckets"
   ]
  },
  {
   "cell_type": "code",
   "execution_count": null,
   "metadata": {},
   "outputs": [],
   "source": [
    "SPG_MANUAL_INPUT_BUCKET = os.environ['MANUAL_INPUT_BUCKET']"
   ]
  },
  {
   "cell_type": "code",
   "execution_count": null,
   "metadata": {},
   "outputs": [],
   "source": [
    "SPG_INTEGRATION_INPUT_BUCKET = os.environ['INTEGRATION_INPUT_BUCKET']"
   ]
  },
  {
   "cell_type": "code",
   "execution_count": null,
   "metadata": {},
   "outputs": [],
   "source": [
    "SPG_QUERY_BUCKET = os.environ['QUERY_BUCKET']"
   ]
  },
  {
   "cell_type": "code",
   "execution_count": null,
   "metadata": {},
   "outputs": [],
   "source": [
    "GERDAU_BUCKET = os.environ['GERDAU_BUCKET']"
   ]
  },
  {
   "cell_type": "code",
   "execution_count": null,
   "metadata": {},
   "outputs": [],
   "source": [
    "SPG_OUTPUT_BUCKET = os.environ['OUTPUT_BUCKET']"
   ]
  },
  {
   "cell_type": "code",
   "execution_count": null,
   "metadata": {},
   "outputs": [],
   "source": [
    "SPG_INPUT_BUCKET = os.environ['INPUT_BUCKET_FROM_OUTPUT']"
   ]
  },
  {
   "cell_type": "markdown",
   "metadata": {},
   "source": [
    "## Input Paths"
   ]
  },
  {
   "cell_type": "code",
   "execution_count": null,
   "metadata": {},
   "outputs": [],
   "source": [
    "# SPG SAP Hana\n",
    "SPG_INTEGRATION_INPUT_BUCKET_HANA = \"SPG_FACTS/SPG_HANA/SPG_HANA.parquet\""
   ]
  },
  {
   "cell_type": "code",
   "execution_count": null,
   "metadata": {},
   "outputs": [],
   "source": [
    "# SPG Regions\n",
    "SPG_INTEGRATION_INPUT_BUCKET_REGION = \"SPG_DIMENSIONS/SPG_REGIOES/SPG_RG_REGIOES/SPG_RG_REGIOES.parquet\""
   ]
  },
  {
   "cell_type": "code",
   "execution_count": null,
   "metadata": {},
   "outputs": [],
   "source": [
    "# SPG Products\n",
    "SPG_INTEGRATION_INPUT_BUCKET_PRODUCTS = \"SPG_DIMENSIONS/SPG_PRODUTOS/SPG_PD_PRODUTOS.parquet\""
   ]
  },
  {
   "cell_type": "code",
   "execution_count": null,
   "metadata": {},
   "outputs": [],
   "source": [
    "# SPG Gross Profit\n",
    "SPG_INPUT_BUCKET_GROSS_PROFIT = \"SPG_LB/LB_OrdemItem\""
   ]
  },
  {
   "cell_type": "markdown",
   "metadata": {},
   "source": [
    "## Output Paths"
   ]
  },
  {
   "cell_type": "code",
   "execution_count": null,
   "metadata": {},
   "outputs": [],
   "source": [
    "SPG_OUTPUT_BUCKET_4_PRICES = \"SPG_4_PRICES/SPG_4P_4_PRICES/tb_SPG_4P_4_PRICES.parquet\""
   ]
  },
  {
   "cell_type": "markdown",
   "metadata": {},
   "source": [
    "--------------"
   ]
  },
  {
   "cell_type": "markdown",
   "metadata": {},
   "source": [
    "# Creating Defined"
   ]
  },
  {
   "cell_type": "code",
   "execution_count": 3,
   "metadata": {},
   "outputs": [
    {
     "data": {
      "application/vnd.jupyter.widget-view+json": {
       "model_id": "7c5d0b83b93044cdbd1df933941f4992",
       "version_major": 2,
       "version_minor": 0
      },
      "text/plain": [
       "VBox()"
      ]
     },
     "metadata": {},
     "output_type": "display_data"
    },
    {
     "data": {
      "application/vnd.jupyter.widget-view+json": {
       "model_id": "",
       "version_major": 2,
       "version_minor": 0
      },
      "text/plain": [
       "FloatProgress(value=0.0, bar_style='info', description='Progress:', layout=Layout(height='25px', width='50%'),…"
      ]
     },
     "metadata": {},
     "output_type": "display_data"
    }
   ],
   "source": [
    "def normalizing_orthography(col_name):\n",
    "    removed_array = [('Á', 'A'), ('Ã', 'A'),('À', 'A'),('Â', 'A'),('Ä', 'A'),\n",
    "                    ('É', 'E'),('È', 'E'),('Ê', 'E'),('Ë', 'E'),\n",
    "                    ('Í', 'I'),('Ì', 'I'),('Î', 'I'),('Ï', 'I'),\n",
    "                    ('Ó', 'O'),('Õ', 'O'), ('Ò', 'O'),('Ô', 'O'),('Ö', 'O'),\n",
    "                    ('Ú', 'U'),('Ù', 'U'),('Û', 'U'),('Ü', 'U'),\n",
    "                    ('Ç', 'C'),('`', ''),(\"'\", ''),('-', ''),('/', ''),(' ', '')]\n",
    "    r = col_name\n",
    "    for a, b in removed_array:\n",
    "        r = regexp_replace(r, a, b)\n",
    "    return r"
   ]
  },
  {
   "cell_type": "markdown",
   "metadata": {},
   "source": [
    "----------------------------------------------"
   ]
  },
  {
   "cell_type": "markdown",
   "metadata": {},
   "source": [
    "# Importing Tables"
   ]
  },
  {
   "cell_type": "code",
   "execution_count": 4,
   "metadata": {},
   "outputs": [
    {
     "data": {
      "application/vnd.jupyter.widget-view+json": {
       "model_id": "8d7917faff264526b67ab08c4a73212c",
       "version_major": 2,
       "version_minor": 0
      },
      "text/plain": [
       "VBox()"
      ]
     },
     "metadata": {},
     "output_type": "display_data"
    },
    {
     "data": {
      "application/vnd.jupyter.widget-view+json": {
       "model_id": "",
       "version_major": 2,
       "version_minor": 0
      },
      "text/plain": [
       "FloatProgress(value=0.0, bar_style='info', description='Progress:', layout=Layout(height='25px', width='50%'),…"
      ]
     },
     "metadata": {},
     "output_type": "display_data"
    }
   ],
   "source": [
    "# SPG SAP Hana\n",
    "df_hana = spark.read.parquet(\"s3a://\"+SPG_INTEGRATION_INPUT_BUCKET+\"/\"+SPG_INTEGRATION_INPUT_BUCKET_HANA)"
   ]
  },
  {
   "cell_type": "code",
   "execution_count": 5,
   "metadata": {},
   "outputs": [
    {
     "data": {
      "application/vnd.jupyter.widget-view+json": {
       "model_id": "6037f30594ac4759b608418b78cb9591",
       "version_major": 2,
       "version_minor": 0
      },
      "text/plain": [
       "VBox()"
      ]
     },
     "metadata": {},
     "output_type": "display_data"
    },
    {
     "data": {
      "application/vnd.jupyter.widget-view+json": {
       "model_id": "",
       "version_major": 2,
       "version_minor": 0
      },
      "text/plain": [
       "FloatProgress(value=0.0, bar_style='info', description='Progress:', layout=Layout(height='25px', width='50%'),…"
      ]
     },
     "metadata": {},
     "output_type": "display_data"
    }
   ],
   "source": [
    "# SPG Regions\n",
    "df_regions = spark.read.parquet(\"s3a://\"+SPG_INTEGRATION_INPUT_BUCKET+\"/\"+SPG_INTEGRATION_INPUT_BUCKET_REGION)"
   ]
  },
  {
   "cell_type": "code",
   "execution_count": 6,
   "metadata": {},
   "outputs": [
    {
     "data": {
      "application/vnd.jupyter.widget-view+json": {
       "model_id": "9197c08c2ba04c719173ae4be796585f",
       "version_major": 2,
       "version_minor": 0
      },
      "text/plain": [
       "VBox()"
      ]
     },
     "metadata": {},
     "output_type": "display_data"
    },
    {
     "data": {
      "application/vnd.jupyter.widget-view+json": {
       "model_id": "",
       "version_major": 2,
       "version_minor": 0
      },
      "text/plain": [
       "FloatProgress(value=0.0, bar_style='info', description='Progress:', layout=Layout(height='25px', width='50%'),…"
      ]
     },
     "metadata": {},
     "output_type": "display_data"
    }
   ],
   "source": [
    "# SPG Products\n",
    "df_products = spark.read.parquet(\"s3a://\"+SPG_INTEGRATION_INPUT_BUCKET+\"/\"+SPG_INTEGRATION_INPUT_BUCKET_PRODUCTS)"
   ]
  },
  {
   "cell_type": "code",
   "execution_count": 7,
   "metadata": {
    "scrolled": true
   },
   "outputs": [
    {
     "data": {
      "application/vnd.jupyter.widget-view+json": {
       "model_id": "922c394afcaf4af3a8f0ec07381cb625",
       "version_major": 2,
       "version_minor": 0
      },
      "text/plain": [
       "VBox()"
      ]
     },
     "metadata": {},
     "output_type": "display_data"
    },
    {
     "data": {
      "application/vnd.jupyter.widget-view+json": {
       "model_id": "",
       "version_major": 2,
       "version_minor": 0
      },
      "text/plain": [
       "FloatProgress(value=0.0, bar_style='info', description='Progress:', layout=Layout(height='25px', width='50%'),…"
      ]
     },
     "metadata": {},
     "output_type": "display_data"
    }
   ],
   "source": [
    "# SPG Gross Profit\n",
    "df_gross_profit = spark.read.parquet(\"s3a://\"+SPG_INPUT_BUCKET+\"/\"+SPG_INPUT_BUCKET_GROSS_PROFIT)"
   ]
  },
  {
   "cell_type": "markdown",
   "metadata": {},
   "source": [
    "----------------------------------------"
   ]
  },
  {
   "cell_type": "markdown",
   "metadata": {},
   "source": [
    "# Preparing the Tables"
   ]
  },
  {
   "cell_type": "markdown",
   "metadata": {},
   "source": [
    "## Preparing Gross Profit"
   ]
  },
  {
   "cell_type": "code",
   "execution_count": 8,
   "metadata": {},
   "outputs": [
    {
     "data": {
      "application/vnd.jupyter.widget-view+json": {
       "model_id": "d700fb9270fd4ca6a3f48432f70921ab",
       "version_major": 2,
       "version_minor": 0
      },
      "text/plain": [
       "VBox()"
      ]
     },
     "metadata": {},
     "output_type": "display_data"
    },
    {
     "data": {
      "application/vnd.jupyter.widget-view+json": {
       "model_id": "",
       "version_major": 2,
       "version_minor": 0
      },
      "text/plain": [
       "FloatProgress(value=0.0, bar_style='info', description='Progress:', layout=Layout(height='25px', width='50%'),…"
      ]
     },
     "metadata": {},
     "output_type": "display_data"
    }
   ],
   "source": [
    "df_gross_profit = df_gross_profit.withColumn(\"MONTH_YEAR_LB\", concat(when(col(\"month\") >= \"10\", col(\"month\"))\n",
    "                                                                        .otherwise(concat(lit(\"0\"), col(\"month\")))\n",
    "                                                                    ,lit(\"-\")\n",
    "                                                                    ,col(\"year\")))\\"
   ]
  },
  {
   "cell_type": "code",
   "execution_count": 9,
   "metadata": {},
   "outputs": [
    {
     "data": {
      "application/vnd.jupyter.widget-view+json": {
       "model_id": "2842e4d7e3be4ac4b6ff1227ad35988b",
       "version_major": 2,
       "version_minor": 0
      },
      "text/plain": [
       "VBox()"
      ]
     },
     "metadata": {},
     "output_type": "display_data"
    },
    {
     "data": {
      "application/vnd.jupyter.widget-view+json": {
       "model_id": "",
       "version_major": 2,
       "version_minor": 0
      },
      "text/plain": [
       "FloatProgress(value=0.0, bar_style='info', description='Progress:', layout=Layout(height='25px', width='50%'),…"
      ]
     },
     "metadata": {},
     "output_type": "display_data"
    }
   ],
   "source": [
    "df_gross_profit = df_gross_profit.withColumn(\"key_Lb_drop\", concat(col(\"MONTH_YEAR_LB\")\n",
    "                                                                   ,lit(\"_\")\n",
    "                                                                   ,col(\"sales_number\").cast(\"int\")\n",
    "                                                                   ,lit(\"_\")\n",
    "                                                                   ,col(\"sales_item\").cast(\"int\")))"
   ]
  },
  {
   "cell_type": "code",
   "execution_count": 10,
   "metadata": {},
   "outputs": [
    {
     "data": {
      "application/vnd.jupyter.widget-view+json": {
       "model_id": "b1f8619d8701455f80f57ef2cf18e85b",
       "version_major": 2,
       "version_minor": 0
      },
      "text/plain": [
       "VBox()"
      ]
     },
     "metadata": {},
     "output_type": "display_data"
    },
    {
     "data": {
      "application/vnd.jupyter.widget-view+json": {
       "model_id": "",
       "version_major": 2,
       "version_minor": 0
      },
      "text/plain": [
       "FloatProgress(value=0.0, bar_style='info', description='Progress:', layout=Layout(height='25px', width='50%'),…"
      ]
     },
     "metadata": {},
     "output_type": "display_data"
    }
   ],
   "source": [
    "df_gross_profit=df_gross_profit.select(df_gross_profit.key_Lb_drop.alias(\"key_Lb_drop\")\n",
    "                                       ,df_gross_profit.COGS_TOTAL.alias(\"OP_COST\").cast('float')\n",
    "                                       ,df_gross_profit.FREIGHT_Full.alias(\"FREIGHT\").cast('float')\n",
    "                                       ,df_gross_profit.GROSS_PROFIT_BW.alias(\"GROSS_PROFIT_LB\").cast('float'))\\"
   ]
  },
  {
   "cell_type": "code",
   "execution_count": 11,
   "metadata": {},
   "outputs": [
    {
     "data": {
      "application/vnd.jupyter.widget-view+json": {
       "model_id": "edeebc76fb56475b940c49e8a999da08",
       "version_major": 2,
       "version_minor": 0
      },
      "text/plain": [
       "VBox()"
      ]
     },
     "metadata": {},
     "output_type": "display_data"
    },
    {
     "data": {
      "application/vnd.jupyter.widget-view+json": {
       "model_id": "",
       "version_major": 2,
       "version_minor": 0
      },
      "text/plain": [
       "FloatProgress(value=0.0, bar_style='info', description='Progress:', layout=Layout(height='25px', width='50%'),…"
      ]
     },
     "metadata": {},
     "output_type": "display_data"
    },
    {
     "name": "stdout",
     "output_type": "stream",
     "text": [
      "DataFrame[key_Lb_drop: string, OP_COST: float, FREIGHT: float, GROSS_PROFIT_LB: float]"
     ]
    }
   ],
   "source": [
    "df_gross_profit.persist(pyspark.StorageLevel.MEMORY_ONLY)"
   ]
  },
  {
   "cell_type": "markdown",
   "metadata": {},
   "source": [
    "## Preparing Region"
   ]
  },
  {
   "cell_type": "code",
   "execution_count": 12,
   "metadata": {
    "scrolled": true
   },
   "outputs": [
    {
     "data": {
      "application/vnd.jupyter.widget-view+json": {
       "model_id": "73e270ae3eb84afc81753e64cd62c21f",
       "version_major": 2,
       "version_minor": 0
      },
      "text/plain": [
       "VBox()"
      ]
     },
     "metadata": {},
     "output_type": "display_data"
    },
    {
     "data": {
      "application/vnd.jupyter.widget-view+json": {
       "model_id": "",
       "version_major": 2,
       "version_minor": 0
      },
      "text/plain": [
       "FloatProgress(value=0.0, bar_style='info', description='Progress:', layout=Layout(height='25px', width='50%'),…"
      ]
     },
     "metadata": {},
     "output_type": "display_data"
    }
   ],
   "source": [
    "df_regions=df_regions.withColumn(\"UPPER_NAME\", normalizing_orthography(upper(df_regions[\"IBGE_SAP_CITY_NAME\"])))"
   ]
  },
  {
   "cell_type": "code",
   "execution_count": 13,
   "metadata": {},
   "outputs": [
    {
     "data": {
      "application/vnd.jupyter.widget-view+json": {
       "model_id": "76d4aa6a7bf34ef082d29f42e85df38a",
       "version_major": 2,
       "version_minor": 0
      },
      "text/plain": [
       "VBox()"
      ]
     },
     "metadata": {},
     "output_type": "display_data"
    },
    {
     "data": {
      "application/vnd.jupyter.widget-view+json": {
       "model_id": "",
       "version_major": 2,
       "version_minor": 0
      },
      "text/plain": [
       "FloatProgress(value=0.0, bar_style='info', description='Progress:', layout=Layout(height='25px', width='50%'),…"
      ]
     },
     "metadata": {},
     "output_type": "display_data"
    }
   ],
   "source": [
    "df_regions=df_regions.select(df_regions.UPPER_NAME\n",
    "                             ,df_regions.BRANCH\n",
    "                             ,df_regions.IBGE_UF_ACRONYMS)\\\n",
    "                    .dropDuplicates()"
   ]
  },
  {
   "cell_type": "code",
   "execution_count": 14,
   "metadata": {},
   "outputs": [
    {
     "data": {
      "application/vnd.jupyter.widget-view+json": {
       "model_id": "787dc5107a074831aeb58528e2d31ab7",
       "version_major": 2,
       "version_minor": 0
      },
      "text/plain": [
       "VBox()"
      ]
     },
     "metadata": {},
     "output_type": "display_data"
    },
    {
     "data": {
      "application/vnd.jupyter.widget-view+json": {
       "model_id": "",
       "version_major": 2,
       "version_minor": 0
      },
      "text/plain": [
       "FloatProgress(value=0.0, bar_style='info', description='Progress:', layout=Layout(height='25px', width='50%'),…"
      ]
     },
     "metadata": {},
     "output_type": "display_data"
    },
    {
     "name": "stdout",
     "output_type": "stream",
     "text": [
      "<pyspark.sql.readwriter.DataFrameWriter object at 0x7f9ef3bf6f50>"
     ]
    }
   ],
   "source": [
    "df_regions.write.partitionBy(\"IBGE_UF_ACRONYMS\")"
   ]
  },
  {
   "cell_type": "code",
   "execution_count": 15,
   "metadata": {},
   "outputs": [
    {
     "data": {
      "application/vnd.jupyter.widget-view+json": {
       "model_id": "3f6ea6496aca457485d567b25783e7e4",
       "version_major": 2,
       "version_minor": 0
      },
      "text/plain": [
       "VBox()"
      ]
     },
     "metadata": {},
     "output_type": "display_data"
    },
    {
     "data": {
      "application/vnd.jupyter.widget-view+json": {
       "model_id": "",
       "version_major": 2,
       "version_minor": 0
      },
      "text/plain": [
       "FloatProgress(value=0.0, bar_style='info', description='Progress:', layout=Layout(height='25px', width='50%'),…"
      ]
     },
     "metadata": {},
     "output_type": "display_data"
    }
   ],
   "source": [
    "df_regions = df_regions.repartition(\"IBGE_UF_ACRONYMS\")"
   ]
  },
  {
   "cell_type": "code",
   "execution_count": 16,
   "metadata": {},
   "outputs": [
    {
     "data": {
      "application/vnd.jupyter.widget-view+json": {
       "model_id": "bb89f132acd24ee891249b86783dde43",
       "version_major": 2,
       "version_minor": 0
      },
      "text/plain": [
       "VBox()"
      ]
     },
     "metadata": {},
     "output_type": "display_data"
    },
    {
     "data": {
      "application/vnd.jupyter.widget-view+json": {
       "model_id": "",
       "version_major": 2,
       "version_minor": 0
      },
      "text/plain": [
       "FloatProgress(value=0.0, bar_style='info', description='Progress:', layout=Layout(height='25px', width='50%'),…"
      ]
     },
     "metadata": {},
     "output_type": "display_data"
    },
    {
     "name": "stdout",
     "output_type": "stream",
     "text": [
      "DataFrame[UPPER_NAME: string, BRANCH: string, IBGE_UF_ACRONYMS: string]"
     ]
    }
   ],
   "source": [
    "df_regions.persist(pyspark.StorageLevel.MEMORY_ONLY)"
   ]
  },
  {
   "cell_type": "markdown",
   "metadata": {},
   "source": [
    "--------------"
   ]
  },
  {
   "cell_type": "markdown",
   "metadata": {},
   "source": [
    "## Preparing Products"
   ]
  },
  {
   "cell_type": "code",
   "execution_count": 17,
   "metadata": {},
   "outputs": [
    {
     "data": {
      "application/vnd.jupyter.widget-view+json": {
       "model_id": "9a61f022113449389aea45d9c76729c4",
       "version_major": 2,
       "version_minor": 0
      },
      "text/plain": [
       "VBox()"
      ]
     },
     "metadata": {},
     "output_type": "display_data"
    },
    {
     "data": {
      "application/vnd.jupyter.widget-view+json": {
       "model_id": "",
       "version_major": 2,
       "version_minor": 0
      },
      "text/plain": [
       "FloatProgress(value=0.0, bar_style='info', description='Progress:', layout=Layout(height='25px', width='50%'),…"
      ]
     },
     "metadata": {},
     "output_type": "display_data"
    }
   ],
   "source": [
    "df_products=df_products.select(trim(df_products.DESC_GPD).alias(\"DESC_GPD\")\n",
    "                               ,df_products.COD_GPD\n",
    "                               ,trim(df_products.DESC_GPM).alias(\"GPM_DESC_prod_drop\")\n",
    "                               ,df_products.COD_MATERIAL.alias(\"COD_MATERIAL_drop\")\n",
    "                               ,trim(df_products.SALES_ORG_COD).alias(\"SALES_ORG_COD_drop\"))\\\n",
    "                        .dropDuplicates()"
   ]
  },
  {
   "cell_type": "code",
   "execution_count": 18,
   "metadata": {},
   "outputs": [
    {
     "data": {
      "application/vnd.jupyter.widget-view+json": {
       "model_id": "4d788fe5550d4c1ba5312612fdcdf822",
       "version_major": 2,
       "version_minor": 0
      },
      "text/plain": [
       "VBox()"
      ]
     },
     "metadata": {},
     "output_type": "display_data"
    },
    {
     "data": {
      "application/vnd.jupyter.widget-view+json": {
       "model_id": "",
       "version_major": 2,
       "version_minor": 0
      },
      "text/plain": [
       "FloatProgress(value=0.0, bar_style='info', description='Progress:', layout=Layout(height='25px', width='50%'),…"
      ]
     },
     "metadata": {},
     "output_type": "display_data"
    },
    {
     "name": "stdout",
     "output_type": "stream",
     "text": [
      "<pyspark.sql.readwriter.DataFrameWriter object at 0x7f9ef3c1f350>"
     ]
    }
   ],
   "source": [
    "df_products.write.partitionBy(\"GPM_DESC_prod_drop\")"
   ]
  },
  {
   "cell_type": "code",
   "execution_count": 19,
   "metadata": {},
   "outputs": [
    {
     "data": {
      "application/vnd.jupyter.widget-view+json": {
       "model_id": "90c2c35538fc40df9f81427d557045d3",
       "version_major": 2,
       "version_minor": 0
      },
      "text/plain": [
       "VBox()"
      ]
     },
     "metadata": {},
     "output_type": "display_data"
    },
    {
     "data": {
      "application/vnd.jupyter.widget-view+json": {
       "model_id": "",
       "version_major": 2,
       "version_minor": 0
      },
      "text/plain": [
       "FloatProgress(value=0.0, bar_style='info', description='Progress:', layout=Layout(height='25px', width='50%'),…"
      ]
     },
     "metadata": {},
     "output_type": "display_data"
    },
    {
     "name": "stderr",
     "output_type": "stream",
     "text": [
      "u\"cannot resolve '`DESC_GPM`' given input columns: [COD_GPD, SALES_ORG_COD_drop, COD_MATERIAL_drop, DESC_GPD, GPM_DESC_prod_drop];;\\n'RepartitionByExpression ['DESC_GPM], 200\\n+- Deduplicate [COD_GPD#597, COD_MATERIAL_drop#896, SALES_ORG_COD_drop#897, DESC_GPD#894, GPM_DESC_prod_drop#895]\\n   +- Project [trim(DESC_GPD#599, None) AS DESC_GPD#894, COD_GPD#597, trim(DESC_GPM#650, None) AS GPM_DESC_prod_drop#895, COD_MATERIAL#592 AS COD_MATERIAL_drop#896, trim(SALES_ORG_COD#598, None) AS SALES_ORG_COD_drop#897]\\n      +- Relation[COD_MATERIAL#592,COD_ACTIVITY_SECTOR#593,MARKED_DELETION#594,DESC_MATERIAL#595,DESC_ACTIVITY_SECTOR#596,COD_GPD#597,SALES_ORG_COD#598,DESC_GPD#599,BAG#600,BAR#601,CS#602,DR#603,EA#604,FT#605,FT2#606,GLL#607,KAR#608,KG#609,KI#610,KWH#611,LB#612,LBF#613,M#614,M2#615,... 37 more fields] parquet\\n\"\n",
      "Traceback (most recent call last):\n",
      "  File \"/usr/lib/spark/python/lib/pyspark.zip/pyspark/sql/dataframe.py\", line 737, in repartition\n",
      "    return DataFrame(self._jdf.repartition(self._jcols(*cols)), self.sql_ctx)\n",
      "  File \"/usr/lib/spark/python/lib/py4j-0.10.7-src.zip/py4j/java_gateway.py\", line 1257, in __call__\n",
      "    answer, self.gateway_client, self.target_id, self.name)\n",
      "  File \"/usr/lib/spark/python/lib/pyspark.zip/pyspark/sql/utils.py\", line 69, in deco\n",
      "    raise AnalysisException(s.split(': ', 1)[1], stackTrace)\n",
      "AnalysisException: u\"cannot resolve '`DESC_GPM`' given input columns: [COD_GPD, SALES_ORG_COD_drop, COD_MATERIAL_drop, DESC_GPD, GPM_DESC_prod_drop];;\\n'RepartitionByExpression ['DESC_GPM], 200\\n+- Deduplicate [COD_GPD#597, COD_MATERIAL_drop#896, SALES_ORG_COD_drop#897, DESC_GPD#894, GPM_DESC_prod_drop#895]\\n   +- Project [trim(DESC_GPD#599, None) AS DESC_GPD#894, COD_GPD#597, trim(DESC_GPM#650, None) AS GPM_DESC_prod_drop#895, COD_MATERIAL#592 AS COD_MATERIAL_drop#896, trim(SALES_ORG_COD#598, None) AS SALES_ORG_COD_drop#897]\\n      +- Relation[COD_MATERIAL#592,COD_ACTIVITY_SECTOR#593,MARKED_DELETION#594,DESC_MATERIAL#595,DESC_ACTIVITY_SECTOR#596,COD_GPD#597,SALES_ORG_COD#598,DESC_GPD#599,BAG#600,BAR#601,CS#602,DR#603,EA#604,FT#605,FT2#606,GLL#607,KAR#608,KG#609,KI#610,KWH#611,LB#612,LBF#613,M#614,M2#615,... 37 more fields] parquet\\n\"\n",
      "\n"
     ]
    }
   ],
   "source": [
    "df_products = df_products.repartition(\"GPM_DESC_prod_drop\")"
   ]
  },
  {
   "cell_type": "code",
   "execution_count": 20,
   "metadata": {},
   "outputs": [
    {
     "data": {
      "application/vnd.jupyter.widget-view+json": {
       "model_id": "e7bd0094da8b4b16b8655e399c5d6c0c",
       "version_major": 2,
       "version_minor": 0
      },
      "text/plain": [
       "VBox()"
      ]
     },
     "metadata": {},
     "output_type": "display_data"
    },
    {
     "data": {
      "application/vnd.jupyter.widget-view+json": {
       "model_id": "",
       "version_major": 2,
       "version_minor": 0
      },
      "text/plain": [
       "FloatProgress(value=0.0, bar_style='info', description='Progress:', layout=Layout(height='25px', width='50%'),…"
      ]
     },
     "metadata": {},
     "output_type": "display_data"
    },
    {
     "name": "stdout",
     "output_type": "stream",
     "text": [
      "DataFrame[DESC_GPD: string, COD_GPD: string, GPM_DESC_prod_drop: string, COD_MATERIAL_drop: string, SALES_ORG_COD_drop: string]"
     ]
    }
   ],
   "source": [
    "df_products.persist(pyspark.StorageLevel.MEMORY_ONLY)"
   ]
  },
  {
   "cell_type": "markdown",
   "metadata": {},
   "source": [
    "---------------"
   ]
  },
  {
   "cell_type": "markdown",
   "metadata": {},
   "source": [
    "## Preparing Hana"
   ]
  },
  {
   "cell_type": "code",
   "execution_count": 21,
   "metadata": {},
   "outputs": [
    {
     "data": {
      "application/vnd.jupyter.widget-view+json": {
       "model_id": "65e1ac94582f4af58ebcaa5ad0b58284",
       "version_major": 2,
       "version_minor": 0
      },
      "text/plain": [
       "VBox()"
      ]
     },
     "metadata": {},
     "output_type": "display_data"
    },
    {
     "data": {
      "application/vnd.jupyter.widget-view+json": {
       "model_id": "",
       "version_major": 2,
       "version_minor": 0
      },
      "text/plain": [
       "FloatProgress(value=0.0, bar_style='info', description='Progress:', layout=Layout(height='25px', width='50%'),…"
      ]
     },
     "metadata": {},
     "output_type": "display_data"
    }
   ],
   "source": [
    "# Filtering Sales Org and Billing Type\n",
    "df_hana=df_hana.filter(df_hana.SalesOrg.like('%BRIN%') |\n",
    "                       df_hana.SalesOrg.like('%BRIO%') |\n",
    "                       df_hana.SalesOrg.like('%BRDI%') |\n",
    "                       df_hana.SalesOrg.like('%BRDO%') |\n",
    "                       df_hana.SalesOrg.like('%BRCC%') |\n",
    "                       df_hana.SalesOrg.like('%BRCO%') |\n",
    "                       df_hana.SalesOrg.like('%BRCG%') |\n",
    "                       df_hana.SalesOrg.like('%BRGO%'))\\\n",
    "               .filter(df_hana.BillingType.like('%ZF2B%'))"
   ]
  },
  {
   "cell_type": "code",
   "execution_count": 22,
   "metadata": {},
   "outputs": [
    {
     "data": {
      "application/vnd.jupyter.widget-view+json": {
       "model_id": "12677fe40c39413792a392d0ced31e67",
       "version_major": 2,
       "version_minor": 0
      },
      "text/plain": [
       "VBox()"
      ]
     },
     "metadata": {},
     "output_type": "display_data"
    },
    {
     "data": {
      "application/vnd.jupyter.widget-view+json": {
       "model_id": "",
       "version_major": 2,
       "version_minor": 0
      },
      "text/plain": [
       "FloatProgress(value=0.0, bar_style='info', description='Progress:', layout=Layout(height='25px', width='50%'),…"
      ]
     },
     "metadata": {},
     "output_type": "display_data"
    }
   ],
   "source": [
    "# Correcting \"Ouro Branco\" Sales Org \n",
    "    # BRIO -> BRIN\n",
    "    # BRCO -> BRCC\n",
    "    # BRDO -> BRDI\n",
    "    # BRGO -> BRCG\n",
    "df_hana = df_hana.withColumn(\"SalesOrg\", when(df_hana.SalesOrg.like(\"BRCO\"), \"BRCC\")\\\n",
    "                                              .otherwise(when(df_hana.SalesOrg.like(\"BRGO\"), \"BRCG\")\\\n",
    "                                                        .otherwise(when(df_hana.SalesOrg.like(\"BRIO\"), \"BRIN\")\\\n",
    "                                                                  .otherwise(when(df_hana.SalesOrg.like(\"BRDO\"), \"BRDI\")\n",
    "                                                                            .otherwise(df_hana.SalesOrg)))))"
   ]
  },
  {
   "cell_type": "code",
   "execution_count": 23,
   "metadata": {},
   "outputs": [
    {
     "data": {
      "application/vnd.jupyter.widget-view+json": {
       "model_id": "0327439cd71a426b8e4f176bf6333bbf",
       "version_major": 2,
       "version_minor": 0
      },
      "text/plain": [
       "VBox()"
      ]
     },
     "metadata": {},
     "output_type": "display_data"
    },
    {
     "data": {
      "application/vnd.jupyter.widget-view+json": {
       "model_id": "",
       "version_major": 2,
       "version_minor": 0
      },
      "text/plain": [
       "FloatProgress(value=0.0, bar_style='info', description='Progress:', layout=Layout(height='25px', width='50%'),…"
      ]
     },
     "metadata": {},
     "output_type": "display_data"
    }
   ],
   "source": [
    "# Getting GPM_DESC Field\n",
    "df_hana=df_hana.join(df_products, (trim(df_products.SALES_ORG_COD_drop)==trim(df_hana.SalesOrg))&\n",
    "                                  (df_products.COD_MATERIAL_drop.cast(\"int\")==df_hana.Material.cast(\"int\")), how=\"left\")\\\n",
    "               .drop(\"COD_MATERIAL_drop\")\\\n",
    "               .drop(\"SALES_ORG_COD_drop\")\\\n",
    "               .dropDuplicates()"
   ]
  },
  {
   "cell_type": "code",
   "execution_count": 24,
   "metadata": {},
   "outputs": [
    {
     "data": {
      "application/vnd.jupyter.widget-view+json": {
       "model_id": "ea29ac0841374dcdbf865a15e3948b55",
       "version_major": 2,
       "version_minor": 0
      },
      "text/plain": [
       "VBox()"
      ]
     },
     "metadata": {},
     "output_type": "display_data"
    },
    {
     "data": {
      "application/vnd.jupyter.widget-view+json": {
       "model_id": "",
       "version_major": 2,
       "version_minor": 0
      },
      "text/plain": [
       "FloatProgress(value=0.0, bar_style='info', description='Progress:', layout=Layout(height='25px', width='50%'),…"
      ]
     },
     "metadata": {},
     "output_type": "display_data"
    }
   ],
   "source": [
    "# Correcting GPM_DESC Column\n",
    "df_hana=df_hana.withColumn(\"GPM\", when(df_hana.GPM_DESC_prod_drop.isNull(), df_hana.GPM)\\\n",
    "                                           .otherwise(df_hana.GPM_DESC_prod_drop))\\\n",
    "               .withColumn(\"GPD\", when(df_hana.COD_GPD.isNull(), df_hana.GPD)\\\n",
    "                                           .otherwise(df_hana.COD_GPD))\\\n",
    "               .withColumn(\"GPDName\", when(df_hana.DESC_GPD.isNull(), df_hana.GPDName)\\\n",
    "                                           .otherwise(df_hana.DESC_GPD))\\\n",
    "               .drop(\"GPM_DESC_prod_drop\")\\\n",
    "               .drop(\"DESC_GPD\")\\\n",
    "               .drop(\"COD_GPD\")\\"
   ]
  },
  {
   "cell_type": "code",
   "execution_count": 25,
   "metadata": {},
   "outputs": [
    {
     "data": {
      "application/vnd.jupyter.widget-view+json": {
       "model_id": "972c7a3cc2cc4114a82b2dbb0901b55f",
       "version_major": 2,
       "version_minor": 0
      },
      "text/plain": [
       "VBox()"
      ]
     },
     "metadata": {},
     "output_type": "display_data"
    },
    {
     "data": {
      "application/vnd.jupyter.widget-view+json": {
       "model_id": "",
       "version_major": 2,
       "version_minor": 0
      },
      "text/plain": [
       "FloatProgress(value=0.0, bar_style='info', description='Progress:', layout=Layout(height='25px', width='50%'),…"
      ]
     },
     "metadata": {},
     "output_type": "display_data"
    }
   ],
   "source": [
    "df_hana=df_hana.withColumn(\"GPM\", when(df_hana.GPM.isNull(), \"Não Informado\")\\\n",
    "                                           .otherwise(df_hana.GPM))\\"
   ]
  },
  {
   "cell_type": "code",
   "execution_count": 26,
   "metadata": {},
   "outputs": [
    {
     "data": {
      "application/vnd.jupyter.widget-view+json": {
       "model_id": "645393328d9446339bc07e1d460ce692",
       "version_major": 2,
       "version_minor": 0
      },
      "text/plain": [
       "VBox()"
      ]
     },
     "metadata": {},
     "output_type": "display_data"
    },
    {
     "data": {
      "application/vnd.jupyter.widget-view+json": {
       "model_id": "",
       "version_major": 2,
       "version_minor": 0
      },
      "text/plain": [
       "FloatProgress(value=0.0, bar_style='info', description='Progress:', layout=Layout(height='25px', width='50%'),…"
      ]
     },
     "metadata": {},
     "output_type": "display_data"
    }
   ],
   "source": [
    "#selecting specifics GPD's (business call)\n",
    "df_hana = df_hana.filter(df_hana.GPDName.like('%BR-PERFIS ESTRUTURAIS%') |\n",
    "                        df_hana.GPDName.like('%BR-CA50%') |\n",
    "                        df_hana.GPDName.like('%BR-CA60%') |\n",
    "                        df_hana.GPDName.like('%BR-RECOZIDO%') |\n",
    "                        df_hana.GPDName.like('%BR-TEL TUBO%') |\n",
    "                        df_hana.GPDName.like('%BR-TELA P/ CONCRETO%') |\n",
    "                        df_hana.GPDName.like('%BR-CORTE E DOBR%') |\n",
    "                        df_hana.GPDName.like('%BR-CONSTRUCAO CIVIL%') |\n",
    "                        df_hana.GPDName.like('%BR-CA25%') |\n",
    "                        df_hana.GPDName.like('%BR-PERFIS COMERCIAIS%') |\n",
    "                        df_hana.GPDName.like('%BR-BTG%') |\n",
    "                        df_hana.GPDName.like('%BR-MALHA POP%') |\n",
    "                        df_hana.GPDName.like('%BR-TELA COLUNA%') |\n",
    "                        df_hana.GPDName.like('%BR-TRELIÇA%') |\n",
    "                        df_hana.GPDName.like('%BR-B.TREFILADA%') |\n",
    "                        df_hana.GPDName.like('%BR-OVALADO%') |\n",
    "                        df_hana.GPDName.like('%BR-GALVANIZADO%') |\n",
    "                        df_hana.GPDName.like('%BR-BARRAS COMERCIAIS%') |\n",
    "                        df_hana.GPDName.like('%BR-CAIXOTARIA%') |\n",
    "                        df_hana.GPDName.like('%BR-ARTEFATOS%') |\n",
    "                        df_hana.GPDName.like('%BR-FARPADO%') |\n",
    "                        df_hana.GPDName.like('%BR-ELETRODO%') |\n",
    "                        df_hana.GPDName.like('%BR-SOLDA - MIG%') |\n",
    "                        df_hana.GPDName.like('%BR-CANTON A572%') |\n",
    "                        df_hana.GPDName.like('%BR-GGS%') |\n",
    "                        df_hana.GPDName.like('%BR-ARMADO%') |\n",
    "                        df_hana.GPDName.like('%BR-CORDOALHA%') |\n",
    "                        df_hana.GPDName.like('%BR-ESTACA PRANCHA%') |\n",
    "                        df_hana.GPDName.like('%BR-ARAME PREGO%') |\n",
    "                        df_hana.GPDName.like('%BR-CABEÇA DUPLA%') |\n",
    "                        df_hana.GPDName.like('%BR-CORDOALHA AGRO%') |\n",
    "                        df_hana.GPDName.like('%BR-GRAMPO%') |\n",
    "                        df_hana.GPDName.like('%BR-COBREADOS%') |\n",
    "                        df_hana.GPDName.like('%BR-CHAPA LQ%') |\n",
    "                        df_hana.GPDName.like('%BR-UDC%') |\n",
    "                        df_hana.GPDName.like('%BR-CHAPA ZN%') |\n",
    "                        df_hana.GPDName.like('%BR-TELHA AZ%') |\n",
    "                        df_hana.GPDName.like('%BR-TUBO ZN%') |\n",
    "                        df_hana.GPDName.like('%BR-MARCENARIA%') |\n",
    "                        df_hana.GPDName.like('%BR-PREGOES%') |\n",
    "                        df_hana.GPDName.like('%BR-TELHEIRO%') |\n",
    "                        df_hana.GPDName.like('%BR-COLUNA%') |\n",
    "                        df_hana.GPDName.like('%BR-ESTRIBO%') |\n",
    "                        df_hana.GPDName.like('%BR-ACESSORIOS%') |\n",
    "                        df_hana.GPDName.like('%BR-CHAPA LCG%') |\n",
    "                        df_hana.GPDName.like('%BR-CHAPA LF%') |\n",
    "                        df_hana.GPDName.like('%BR-TUBO LF%') |\n",
    "                        df_hana.GPDName.like('%BR-CHAPA LQ PISO%') |\n",
    "                        df_hana.GPDName.like('%BR-BOBININHA%') |\n",
    "                        df_hana.GPDName.like('%BR-ESPECIAIS%') |\n",
    "                        df_hana.GPDName.like('%BR-BOBINA LQ%') |\n",
    "                        df_hana.GPDName.like('%BR-FITA LQ%') |\n",
    "                        df_hana.GPDName.like('%BR-BOBINA AZ%') |\n",
    "                        df_hana.GPDName.like('%BR-AÇOS ESPECIAIS%') |\n",
    "                        df_hana.GPDName.like('%BR-PARAFUSOS%') |\n",
    "                        df_hana.GPDName.like('%BR-CIMENTO%') |\n",
    "                        df_hana.GPDName.like('%BR-TUBO LQ%') |\n",
    "                        df_hana.GPDName.like('%BR-TELHA ZN%') |\n",
    "                        df_hana.GPDName.like('%BR-BTC GLV CP%') |\n",
    "                        df_hana.GPDName.like('%BR-BOBINA ZN%') |\n",
    "                        df_hana.GPDName.like('%BR-S-BARRA LAMINADA MÉDIA%') |\n",
    "                        df_hana.GPDName.like('%BR-S-BARRA LAMINADA PESADA%') |\n",
    "                        df_hana.GPDName.like('%BR-FITA LF%') |\n",
    "                        df_hana.GPDName.like('%BR-FITA AZ%') |\n",
    "                        df_hana.GPDName.like('%BR-S-BARRA LAMINADA LEVE%') |\n",
    "                        df_hana.GPDName.like('%BR-ALAMBRADO%') |\n",
    "                        df_hana.GPDName.like('%BR-SAPATA%') |\n",
    "                        df_hana.GPDName.like('%BR-MOURÃO%') |\n",
    "                        df_hana.GPDName.like('%BR-ATC CLARO IND%') |\n",
    "                        df_hana.GPDName.like('%BR-POLIDO%') |\n",
    "                        df_hana.GPDName.like('%BR-PERFIL BENEFICIADO%') |\n",
    "                        df_hana.GPDName.like('%BR-BOBINA LF%') |\n",
    "                        df_hana.GPDName.like('%BR-S-BARRA CTT%') |\n",
    "                        df_hana.GPDName.like('%BR-CHAPA AZ%') |\n",
    "                        df_hana.GPDName.like('%BR-FITA ZN%') |\n",
    "                        df_hana.GPDName.like('%BR-LDA%') |\n",
    "                        df_hana.GPDName.like('%BR-PIATINA CLARA%') |\n",
    "                        df_hana.GPDName.like('%BR-S-BARRA DESCASCADA%') |\n",
    "                        df_hana.GPDName.like('%BR-MESH%') |\n",
    "                        df_hana.GPDName.like('%BR-S-BARRA FORJADA FINA%') |\n",
    "                        df_hana.GPDName.like('%BR-S-BARRA RETIFICADA%') |\n",
    "                        df_hana.GPDName.like('%BR-S-BARRA TREFILADA%') |\n",
    "                        df_hana.GPDName.like('%BR-PLACA%') |\n",
    "                        df_hana.GPDName.like('%BR-COIL%') |\n",
    "                        df_hana.GPDName.like('%BR-S-FERRAMENTA%') |\n",
    "                        df_hana.GPDName.like('%BR-S-FIO MÁQUINA STT%') |\n",
    "                        df_hana.GPDName.like('%BR-ATC CLARO MOL COL%') |\n",
    "                        df_hana.GPDName.like('%BR-ATC GLV CP%') |\n",
    "                        df_hana.GPDName.like('%BR-B.CHATA LONGARINA%') |\n",
    "                        df_hana.GPDName.like('%BR-BT FORJARIA BLOCOS%') |\n",
    "                        df_hana.GPDName.like('%BR-TARUGO%') |\n",
    "                        df_hana.GPDName.like('%BR-DRAWING%') |\n",
    "                        df_hana.GPDName.like('%BR-ATC CLARO ENF ALG%') |\n",
    "                        df_hana.GPDName.like('%BR-PIATINA GLV%') |\n",
    "                        df_hana.GPDName.like('%BR-PERFIL DORMENTE%') |\n",
    "                        df_hana.GPDName.like('%BR-ATC%') |\n",
    "                        df_hana.GPDName.like('%BR-CHQ%') |\n",
    "                        df_hana.GPDName.like('%BR-ALMA DE ELETRODO%') |\n",
    "                        df_hana.GPDName.like('%BR-FIO MAQUINA%') |\n",
    "                        df_hana.GPDName.like('%BR-CHQ BORO%') |\n",
    "                        df_hana.GPDName.like('%BR-PERFIL GUIA ELEV%'))"
   ]
  },
  {
   "cell_type": "code",
   "execution_count": 27,
   "metadata": {},
   "outputs": [
    {
     "data": {
      "application/vnd.jupyter.widget-view+json": {
       "model_id": "74329a27a04b4ea69756fc81e4e24032",
       "version_major": 2,
       "version_minor": 0
      },
      "text/plain": [
       "VBox()"
      ]
     },
     "metadata": {},
     "output_type": "display_data"
    },
    {
     "data": {
      "application/vnd.jupyter.widget-view+json": {
       "model_id": "",
       "version_major": 2,
       "version_minor": 0
      },
      "text/plain": [
       "FloatProgress(value=0.0, bar_style='info', description='Progress:', layout=Layout(height='25px', width='50%'),…"
      ]
     },
     "metadata": {},
     "output_type": "display_data"
    }
   ],
   "source": [
    "#selecting specific GPM\n",
    "df_hana = df_hana.filter(df_hana.GPM.like('%PERFIS_ESTRUTURAIS%') |\n",
    "                        df_hana.GPM.like('%VERGALHAO%') |\n",
    "                        df_hana.GPM.like('%AMPLIADOS%') |\n",
    "                        df_hana.GPM.like('%CORTE_DOBRA%') |\n",
    "                        df_hana.GPM.like('%PREGOS%') |\n",
    "                        df_hana.GPM.like('%B&P%') |\n",
    "                        df_hana.GPM.like('%ARAMES_AGRO%') |\n",
    "                        df_hana.GPM.like('%ARAMES_IND%') |\n",
    "                        df_hana.GPM.like('%PLANOS_LQ%') |\n",
    "                        df_hana.GPM.like('%PLANOS_REVESTIDOS%') |\n",
    "                        df_hana.GPM.like('%PLANOS_LF%') |\n",
    "                        df_hana.GPM.like('%PLANOS_LCG%') |\n",
    "                        df_hana.GPM.like('%FIO_MAQUINA%') |\n",
    "                        df_hana.GPM.like('%BT_FORJARIA%') |\n",
    "                        df_hana.GPM.like('%PLACAS%') |\n",
    "                        df_hana.GPM.like('%TARUGO%'))"
   ]
  },
  {
   "cell_type": "code",
   "execution_count": 28,
   "metadata": {},
   "outputs": [
    {
     "data": {
      "application/vnd.jupyter.widget-view+json": {
       "model_id": "a672c55216cc4a53bf39337a15785a36",
       "version_major": 2,
       "version_minor": 0
      },
      "text/plain": [
       "VBox()"
      ]
     },
     "metadata": {},
     "output_type": "display_data"
    },
    {
     "data": {
      "application/vnd.jupyter.widget-view+json": {
       "model_id": "",
       "version_major": 2,
       "version_minor": 0
      },
      "text/plain": [
       "FloatProgress(value=0.0, bar_style='info', description='Progress:', layout=Layout(height='25px', width='50%'),…"
      ]
     },
     "metadata": {},
     "output_type": "display_data"
    }
   ],
   "source": [
    "# Selecting Necessary Columns\n",
    "df_hana=df_hana.select(df_hana.ShipToCustomer.alias(\"CLIENT_COD\")\n",
    "                       ,df_hana.ShipToCustomerName.alias(\"CLIENT_DESC\")\n",
    "                       ,df_hana.CorporateGroupName.alias(\"CLIENT_GROUP_DESC\")\n",
    "                       ,df_hana.BILDOCDATE.alias(\"BILLING_DATE\")\n",
    "                       ,df_hana.SalesOrg.alias(\"SALES_ORG_COD\")\n",
    "                       ,df_hana.SalesDocNumber.alias(\"SALES_DOC_NUMBER\")\n",
    "                       ,df_hana.SalesDocItem.alias(\"SALES_DOC_ITEM\")\n",
    "                       ,df_hana.SoldToCity.alias(\"ISSUING_CITY\")\n",
    "                       ,df_hana.SoldToState.alias(\"ISSUING_STATE\")\n",
    "                       ,df_hana.GPD.alias(\"GPD_COD\")\n",
    "                       ,df_hana.GPM.alias(\"GPM_DESC\")\n",
    "                       ,df_hana.GPDName.alias(\"GPD_DESC\")\n",
    "                       ,df_hana.Material.alias(\"MATERIAL_COD\").cast(\"int\").cast(\"string\")\n",
    "                       ,df_hana.MaterialName.alias(\"MATERIAL_DESC\")\n",
    "                       ,df_hana.MA_BillingQuantity_P.alias(\"QUANTITY_TON\")\n",
    "                       ,df_hana.DP_CM_PRECOPRATICADO_D.alias(\"PRACTICED_PRICE\")\n",
    "                       ,df_hana.DA_CM_CD_ZD05_D.alias(\"ZD05\")\n",
    "                       ,df_hana.AA_CM_CD_ZEAF_D.alias(\"ZEAF\")\n",
    "                       ,df_hana.MA_CM_CD_BX41_D.alias(\"BX41\")\n",
    "                       ,df_hana.MA_CM_RBV_D.alias(\"RBV\")\n",
    "                       ,df_hana.MA_CM_RLV_D.alias(\"RLV\")\n",
    "                       ,df_hana.IM_CM_CD_ICMS_D.alias(\"ICMS\")\n",
    "                       ,df_hana.IM_CM_CD_PIS_D.alias(\"PIS\")\n",
    "                       ,df_hana.IM_CM_CD_COFINS_D.alias(\"COFINS\")\n",
    "                       ,df_hana.IM_OUTROS_D.alias(\"OTHER_TAXES\")\n",
    "                       ,df_hana.IM_CM_CD_BX95_D.alias(\"BX95\"))\\"
   ]
  },
  {
   "cell_type": "code",
   "execution_count": 29,
   "metadata": {},
   "outputs": [
    {
     "data": {
      "application/vnd.jupyter.widget-view+json": {
       "model_id": "840b09f839b84e639cc72ea130c27bc8",
       "version_major": 2,
       "version_minor": 0
      },
      "text/plain": [
       "VBox()"
      ]
     },
     "metadata": {},
     "output_type": "display_data"
    },
    {
     "data": {
      "application/vnd.jupyter.widget-view+json": {
       "model_id": "",
       "version_major": 2,
       "version_minor": 0
      },
      "text/plain": [
       "FloatProgress(value=0.0, bar_style='info', description='Progress:', layout=Layout(height='25px', width='50%'),…"
      ]
     },
     "metadata": {},
     "output_type": "display_data"
    },
    {
     "name": "stdout",
     "output_type": "stream",
     "text": [
      "<pyspark.sql.readwriter.DataFrameWriter object at 0x7f9ef3c06d90>"
     ]
    }
   ],
   "source": [
    "df_hana.write.partitionBy(\"GPM_DESC\")"
   ]
  },
  {
   "cell_type": "code",
   "execution_count": 30,
   "metadata": {},
   "outputs": [
    {
     "data": {
      "application/vnd.jupyter.widget-view+json": {
       "model_id": "cf68b8a2a1e14d32a866a6cf01585deb",
       "version_major": 2,
       "version_minor": 0
      },
      "text/plain": [
       "VBox()"
      ]
     },
     "metadata": {},
     "output_type": "display_data"
    },
    {
     "data": {
      "application/vnd.jupyter.widget-view+json": {
       "model_id": "",
       "version_major": 2,
       "version_minor": 0
      },
      "text/plain": [
       "FloatProgress(value=0.0, bar_style='info', description='Progress:', layout=Layout(height='25px', width='50%'),…"
      ]
     },
     "metadata": {},
     "output_type": "display_data"
    }
   ],
   "source": [
    "df_hana = df_hana.repartition(\"GPM_DESC\")"
   ]
  },
  {
   "cell_type": "code",
   "execution_count": 31,
   "metadata": {},
   "outputs": [
    {
     "data": {
      "application/vnd.jupyter.widget-view+json": {
       "model_id": "ebb2ec22cc7647b4b7604f6848f65d90",
       "version_major": 2,
       "version_minor": 0
      },
      "text/plain": [
       "VBox()"
      ]
     },
     "metadata": {},
     "output_type": "display_data"
    },
    {
     "data": {
      "application/vnd.jupyter.widget-view+json": {
       "model_id": "",
       "version_major": 2,
       "version_minor": 0
      },
      "text/plain": [
       "FloatProgress(value=0.0, bar_style='info', description='Progress:', layout=Layout(height='25px', width='50%'),…"
      ]
     },
     "metadata": {},
     "output_type": "display_data"
    },
    {
     "name": "stdout",
     "output_type": "stream",
     "text": [
      "DataFrame[CLIENTE_COD: string, CLIENTE_DESC: string, CLIENT_GROUP_DESC: string, BILLING_DATE: string, SALES_ORG_COD: string, SALES_DOC_NUMBER: string, SALES_DOC_ITEM: string, ISSUING_CITY: string, ISSUING_STATE: string, GPD_COD: string, GPM_DESC: string, GPD_DESC: string, MATERIAL_COD: string, MATERIAL_DESC: string, QUANTITY_TON: double, PRACTICED_PRICE: double, ZD05: double, ZEAF: double, BX41: double, RBV: double, RLV: double, ICMS: double, PIS: double, COFINS: double, OTHER_TAXES: double, BX95: double]"
     ]
    }
   ],
   "source": [
    "df_hana.persist(pyspark.StorageLevel.MEMORY_ONLY)"
   ]
  },
  {
   "cell_type": "code",
   "execution_count": 32,
   "metadata": {},
   "outputs": [
    {
     "data": {
      "application/vnd.jupyter.widget-view+json": {
       "model_id": "cb0fc7e02f5645f9becc590b7824668c",
       "version_major": 2,
       "version_minor": 0
      },
      "text/plain": [
       "VBox()"
      ]
     },
     "metadata": {},
     "output_type": "display_data"
    },
    {
     "data": {
      "application/vnd.jupyter.widget-view+json": {
       "model_id": "",
       "version_major": 2,
       "version_minor": 0
      },
      "text/plain": [
       "FloatProgress(value=0.0, bar_style='info', description='Progress:', layout=Layout(height='25px', width='50%'),…"
      ]
     },
     "metadata": {},
     "output_type": "display_data"
    }
   ],
   "source": [
    "df_hana=df_hana.filter(df_hana['BILLING_DATE']>=add_months(trunc(current_date(),\"month\"), -6))\\\n",
    "                       .filter(df_hana['BILLING_DATE']<add_months(trunc(current_date(),\"month\"), 0))\\"
   ]
  },
  {
   "cell_type": "code",
   "execution_count": 33,
   "metadata": {},
   "outputs": [
    {
     "data": {
      "application/vnd.jupyter.widget-view+json": {
       "model_id": "a87c7d34f72a4b5f98dbe27da5bc0dac",
       "version_major": 2,
       "version_minor": 0
      },
      "text/plain": [
       "VBox()"
      ]
     },
     "metadata": {},
     "output_type": "display_data"
    },
    {
     "data": {
      "application/vnd.jupyter.widget-view+json": {
       "model_id": "",
       "version_major": 2,
       "version_minor": 0
      },
      "text/plain": [
       "FloatProgress(value=0.0, bar_style='info', description='Progress:', layout=Layout(height='25px', width='50%'),…"
      ]
     },
     "metadata": {},
     "output_type": "display_data"
    }
   ],
   "source": [
    "df_hana = df_hana.withColumn(\"MONTH_YEAR\", concat(when(month(df_hana.BILLING_DATE) >= \"10\", month(df_hana.BILLING_DATE))\n",
    "                                                            .otherwise(concat(lit(\"0\"), month(df_hana.BILLING_DATE)))\n",
    "                                                ,lit(\"-\")\n",
    "                                                ,year(df_hana.BILLING_DATE) ))\\"
   ]
  },
  {
   "cell_type": "code",
   "execution_count": 34,
   "metadata": {},
   "outputs": [
    {
     "data": {
      "application/vnd.jupyter.widget-view+json": {
       "model_id": "c438efd99e064f008599c45608c52f9f",
       "version_major": 2,
       "version_minor": 0
      },
      "text/plain": [
       "VBox()"
      ]
     },
     "metadata": {},
     "output_type": "display_data"
    },
    {
     "data": {
      "application/vnd.jupyter.widget-view+json": {
       "model_id": "",
       "version_major": 2,
       "version_minor": 0
      },
      "text/plain": [
       "FloatProgress(value=0.0, bar_style='info', description='Progress:', layout=Layout(height='25px', width='50%'),…"
      ]
     },
     "metadata": {},
     "output_type": "display_data"
    }
   ],
   "source": [
    "df_hana=df_hana.withColumn(\"CLIENT_GROUP_DESC\", when(df_hana.CLIENT_GROUP_DESC.isNull()|\n",
    "                                                     df_hana.CLIENT_GROUP_DESC.like(\"GRUPO DE RENTABILIDADE GENÉRICO\"),col(\"CLIENT_DESC\"))\\\n",
    "                                                   .otherwise(col(\"CLIENT_GROUP_DESC\")))\\"
   ]
  },
  {
   "cell_type": "code",
   "execution_count": 35,
   "metadata": {},
   "outputs": [
    {
     "data": {
      "application/vnd.jupyter.widget-view+json": {
       "model_id": "8b10bc982c2c4c37a8bdec10e28d2c2c",
       "version_major": 2,
       "version_minor": 0
      },
      "text/plain": [
       "VBox()"
      ]
     },
     "metadata": {},
     "output_type": "display_data"
    },
    {
     "data": {
      "application/vnd.jupyter.widget-view+json": {
       "model_id": "",
       "version_major": 2,
       "version_minor": 0
      },
      "text/plain": [
       "FloatProgress(value=0.0, bar_style='info', description='Progress:', layout=Layout(height='25px', width='50%'),…"
      ]
     },
     "metadata": {},
     "output_type": "display_data"
    }
   ],
   "source": [
    "for col_name in [\"ZD05\"\n",
    "                 ,\"ZEAF\"\n",
    "                 ,\"ICMS\"\n",
    "                 ,\"PIS\"\n",
    "                 ,\"COFINS\"\n",
    "                 ,\"OTHER_TAXES\"\n",
    "                 ,\"BX95\"\n",
    "                 ,\"BX41\"\n",
    "                 ,\"RBV\"\n",
    "                 ,\"RLV\"\n",
    "                 ,\"QUANTITY_TON\"\n",
    "                 ,\"PRACTICED_PRICE\"]:\n",
    "    df_hana = df_hana.withColumn(col_name, col(col_name).cast('float'))"
   ]
  },
  {
   "cell_type": "code",
   "execution_count": 36,
   "metadata": {},
   "outputs": [
    {
     "data": {
      "application/vnd.jupyter.widget-view+json": {
       "model_id": "60c36c6aff9d4192a091dc24956a22d3",
       "version_major": 2,
       "version_minor": 0
      },
      "text/plain": [
       "VBox()"
      ]
     },
     "metadata": {},
     "output_type": "display_data"
    },
    {
     "data": {
      "application/vnd.jupyter.widget-view+json": {
       "model_id": "",
       "version_major": 2,
       "version_minor": 0
      },
      "text/plain": [
       "FloatProgress(value=0.0, bar_style='info', description='Progress:', layout=Layout(height='25px', width='50%'),…"
      ]
     },
     "metadata": {},
     "output_type": "display_data"
    }
   ],
   "source": [
    "df_hana=df_hana.filter(df_hana.QUANTITY_TON > 0)\\\n",
    "                     .withColumn(\"SALES_ORG_COD\", trim(df_hana.SALES_ORG_COD))\\"
   ]
  },
  {
   "cell_type": "code",
   "execution_count": 37,
   "metadata": {},
   "outputs": [
    {
     "data": {
      "application/vnd.jupyter.widget-view+json": {
       "model_id": "83736fa1ebd04d20b9546ff91434d76d",
       "version_major": 2,
       "version_minor": 0
      },
      "text/plain": [
       "VBox()"
      ]
     },
     "metadata": {},
     "output_type": "display_data"
    },
    {
     "data": {
      "application/vnd.jupyter.widget-view+json": {
       "model_id": "",
       "version_major": 2,
       "version_minor": 0
      },
      "text/plain": [
       "FloatProgress(value=0.0, bar_style='info', description='Progress:', layout=Layout(height='25px', width='50%'),…"
      ]
     },
     "metadata": {},
     "output_type": "display_data"
    }
   ],
   "source": [
    "df_hana = df_hana.join(df_regions, (normalizing_orthography(upper(df_hana[\"ISSUING_CITY\"])) == df_regions[\"UPPER_NAME\"])&\n",
    "                                   (trim(df_hana[\"ISSUING_STATE\"]) == trim(df_regions[\"IBGE_UF_ACRONYMS\"])), how='left')\\\n",
    "                     .drop(\"UPPER_NAME\")\\\n",
    "                     .drop(\"IBGE_UF_ACRONYMS\")"
   ]
  },
  {
   "cell_type": "code",
   "execution_count": 38,
   "metadata": {},
   "outputs": [
    {
     "data": {
      "application/vnd.jupyter.widget-view+json": {
       "model_id": "3b914eb893dc49bf9723d3686f9d9ea3",
       "version_major": 2,
       "version_minor": 0
      },
      "text/plain": [
       "VBox()"
      ]
     },
     "metadata": {},
     "output_type": "display_data"
    },
    {
     "data": {
      "application/vnd.jupyter.widget-view+json": {
       "model_id": "",
       "version_major": 2,
       "version_minor": 0
      },
      "text/plain": [
       "FloatProgress(value=0.0, bar_style='info', description='Progress:', layout=Layout(height='25px', width='50%'),…"
      ]
     },
     "metadata": {},
     "output_type": "display_data"
    },
    {
     "name": "stdout",
     "output_type": "stream",
     "text": [
      "DataFrame[CLIENTE_COD: string, CLIENTE_DESC: string, CLIENT_GROUP_DESC: string, BILLING_DATE: string, SALES_ORG_COD: string, SALES_DOC_NUMBER: string, SALES_DOC_ITEM: string, ISSUING_CITY: string, ISSUING_STATE: string, GPD_COD: string, GPM_DESC: string, GPD_DESC: string, MATERIAL_COD: string, MATERIAL_DESC: string, QUANTITY_TON: float, PRACTICED_PRICE: float, ZD05: float, ZEAF: float, BX41: float, RBV: float, RLV: float, ICMS: float, PIS: float, COFINS: float, OTHER_TAXES: float, BX95: float, MONTH_YEAR: string, BRANCH: string]"
     ]
    }
   ],
   "source": [
    "df_hana.persist(pyspark.StorageLevel.MEMORY_ONLY)"
   ]
  },
  {
   "cell_type": "code",
   "execution_count": 39,
   "metadata": {},
   "outputs": [
    {
     "data": {
      "application/vnd.jupyter.widget-view+json": {
       "model_id": "1c0342a1cb284e859f246040385ea9fd",
       "version_major": 2,
       "version_minor": 0
      },
      "text/plain": [
       "VBox()"
      ]
     },
     "metadata": {},
     "output_type": "display_data"
    },
    {
     "data": {
      "application/vnd.jupyter.widget-view+json": {
       "model_id": "",
       "version_major": 2,
       "version_minor": 0
      },
      "text/plain": [
       "FloatProgress(value=0.0, bar_style='info', description='Progress:', layout=Layout(height='25px', width='50%'),…"
      ]
     },
     "metadata": {},
     "output_type": "display_data"
    }
   ],
   "source": [
    "df_hana = df_hana.withColumn(\"BRANCH\", when(df_hana.BRANCH.isNull(), lit(\"Filial Não Encontrada\"))\\\n",
    "                                                   .otherwise(df_hana.BRANCH))"
   ]
  },
  {
   "cell_type": "code",
   "execution_count": 40,
   "metadata": {},
   "outputs": [
    {
     "data": {
      "application/vnd.jupyter.widget-view+json": {
       "model_id": "41f1f2c62b1b42fa864e32bf9997de2b",
       "version_major": 2,
       "version_minor": 0
      },
      "text/plain": [
       "VBox()"
      ]
     },
     "metadata": {},
     "output_type": "display_data"
    },
    {
     "data": {
      "application/vnd.jupyter.widget-view+json": {
       "model_id": "",
       "version_major": 2,
       "version_minor": 0
      },
      "text/plain": [
       "FloatProgress(value=0.0, bar_style='info', description='Progress:', layout=Layout(height='25px', width='50%'),…"
      ]
     },
     "metadata": {},
     "output_type": "display_data"
    }
   ],
   "source": [
    "df_hana = df_hana.withColumn(\"PRACTICED_PRICE_PER_KG\", when((df_hana.SALES_ORG_COD.like(\"BRCG\")), \n",
    "                                                            col(\"PRACTICED_PRICE\")+abs(col(\"ZD05\"))-col(\"ZEAF\")+col(\"BX41\"))\\\n",
    "                                                          .otherwise(col(\"PRACTICED_PRICE\")+abs(col(\"ZD05\"))-col(\"ZEAF\")))\\"
   ]
  },
  {
   "cell_type": "code",
   "execution_count": 41,
   "metadata": {},
   "outputs": [
    {
     "data": {
      "application/vnd.jupyter.widget-view+json": {
       "model_id": "43eebb9fc602441dabfbea2be3f5591d",
       "version_major": 2,
       "version_minor": 0
      },
      "text/plain": [
       "VBox()"
      ]
     },
     "metadata": {},
     "output_type": "display_data"
    },
    {
     "data": {
      "application/vnd.jupyter.widget-view+json": {
       "model_id": "",
       "version_major": 2,
       "version_minor": 0
      },
      "text/plain": [
       "FloatProgress(value=0.0, bar_style='info', description='Progress:', layout=Layout(height='25px', width='50%'),…"
      ]
     },
     "metadata": {},
     "output_type": "display_data"
    }
   ],
   "source": [
    "df_hana=df_hana.drop(\"SALES_ORG_DESC\"\n",
    "                     ,\"PRACTICED_PRICE\"\n",
    "                     ,\"PRECO_BASE_ALCADA\"\n",
    "                     ,\"SALES_DISCOUNT_TAXES\"\n",
    "                     ,\"GDD_DESC\"\n",
    "                     ,\"GPP_DESC\"\n",
    "                     ,\"ZP30\"\n",
    "                     ,\"ZP20\"\n",
    "                     ,\"CUSTOMER_GROUP_DESC\"\n",
    "                     ,\"ISSUING_CITY\")"
   ]
  },
  {
   "cell_type": "code",
   "execution_count": 42,
   "metadata": {},
   "outputs": [
    {
     "data": {
      "application/vnd.jupyter.widget-view+json": {
       "model_id": "4876cf154a4f4f799a96735b281c7b5e",
       "version_major": 2,
       "version_minor": 0
      },
      "text/plain": [
       "VBox()"
      ]
     },
     "metadata": {},
     "output_type": "display_data"
    },
    {
     "data": {
      "application/vnd.jupyter.widget-view+json": {
       "model_id": "",
       "version_major": 2,
       "version_minor": 0
      },
      "text/plain": [
       "FloatProgress(value=0.0, bar_style='info', description='Progress:', layout=Layout(height='25px', width='50%'),…"
      ]
     },
     "metadata": {},
     "output_type": "display_data"
    }
   ],
   "source": [
    "df_hana = df_hana.withColumn(\"key_Lb_drop\", concat(col(\"MONTH_YEAR\")\n",
    "                                                ,lit(\"_\")\n",
    "                                                ,col(\"SALES_DOC_NUMBER\").cast(\"int\")\n",
    "                                                ,lit(\"_\")\n",
    "                                                ,col(\"SALES_DOC_ITEM\").cast(\"int\")))"
   ]
  },
  {
   "cell_type": "code",
   "execution_count": 43,
   "metadata": {
    "scrolled": true
   },
   "outputs": [
    {
     "data": {
      "application/vnd.jupyter.widget-view+json": {
       "model_id": "2a39cfda9cdc46a4809d0f604119d8f3",
       "version_major": 2,
       "version_minor": 0
      },
      "text/plain": [
       "VBox()"
      ]
     },
     "metadata": {},
     "output_type": "display_data"
    },
    {
     "data": {
      "application/vnd.jupyter.widget-view+json": {
       "model_id": "",
       "version_major": 2,
       "version_minor": 0
      },
      "text/plain": [
       "FloatProgress(value=0.0, bar_style='info', description='Progress:', layout=Layout(height='25px', width='50%'),…"
      ]
     },
     "metadata": {},
     "output_type": "display_data"
    }
   ],
   "source": [
    "df_client = df_hana.select(df_hana.CLIENT_COD\n",
    "                           ,df_hana.CLIENT_DESC\n",
    "                           ,df_hana.CLIENT_GROUP_DESC\n",
    "                           ,df_hana.key_Lb_drop)"
   ]
  },
  {
   "cell_type": "code",
   "execution_count": 44,
   "metadata": {},
   "outputs": [
    {
     "data": {
      "application/vnd.jupyter.widget-view+json": {
       "model_id": "d65a8ef2deab4522ac09201efc57eb08",
       "version_major": 2,
       "version_minor": 0
      },
      "text/plain": [
       "VBox()"
      ]
     },
     "metadata": {},
     "output_type": "display_data"
    },
    {
     "data": {
      "application/vnd.jupyter.widget-view+json": {
       "model_id": "",
       "version_major": 2,
       "version_minor": 0
      },
      "text/plain": [
       "FloatProgress(value=0.0, bar_style='info', description='Progress:', layout=Layout(height='25px', width='50%'),…"
      ]
     },
     "metadata": {},
     "output_type": "display_data"
    }
   ],
   "source": [
    "df_client = df_client.dropDuplicates([\"key_Lb_drop\"])"
   ]
  },
  {
   "cell_type": "code",
   "execution_count": 45,
   "metadata": {},
   "outputs": [
    {
     "data": {
      "application/vnd.jupyter.widget-view+json": {
       "model_id": "30d931ce932448db90d1af87e8d25eed",
       "version_major": 2,
       "version_minor": 0
      },
      "text/plain": [
       "VBox()"
      ]
     },
     "metadata": {},
     "output_type": "display_data"
    },
    {
     "data": {
      "application/vnd.jupyter.widget-view+json": {
       "model_id": "",
       "version_major": 2,
       "version_minor": 0
      },
      "text/plain": [
       "FloatProgress(value=0.0, bar_style='info', description='Progress:', layout=Layout(height='25px', width='50%'),…"
      ]
     },
     "metadata": {},
     "output_type": "display_data"
    }
   ],
   "source": [
    "df_hana=df_hana.withColumn(\"PPKG\", col(\"PRACTICED_PRICE_PER_KG\")*col(\"QUANTITY_TON\"))\\\n",
    "               .groupBy(df_hana.SALES_ORG_COD\n",
    "                        ,df_hana.ISSUING_STATE\n",
    "                        ,df_hana.SALES_DOC_NUMBER\n",
    "                        ,df_hana.SALES_DOC_ITEM\n",
    "                        ,df_hana.GPD_COD\n",
    "                        ,df_hana.GPD_DESC\n",
    "                        ,df_hana.MATERIAL_COD\n",
    "                        ,df_hana.MATERIAL_DESC\n",
    "                        ,df_hana.GPM_DESC\n",
    "                        ,df_hana.BRANCH\n",
    "                        ,df_hana.MONTH_YEAR\n",
    "                        ,df_hana.key_Lb_drop)\\\n",
    "                    .agg(sum(col(\"PPKG\")).alias(\"PPKG\")\n",
    "                         ,sum(col(\"ZD05\")).alias(\"ZD05\")\n",
    "                         ,sum(col(\"ZEAF\")).alias(\"ZEAF\")\n",
    "                         ,sum(col(\"BX41\")).alias(\"BX41\")\n",
    "                         ,sum(col(\"RLV\")).alias(\"RLV\")\n",
    "                         ,sum(col(\"RBV\")).alias(\"RBV\")\n",
    "                         ,sum(col(\"ICMS\")).alias(\"ICMS\")\n",
    "                         ,sum(col(\"PIS\")).alias(\"PIS\")\n",
    "                         ,sum(col(\"COFINS\")).alias(\"COFINS\")\n",
    "                         ,sum(col(\"OTHER_TAXES\")).alias(\"OTHER_TAXES\")\n",
    "                         ,sum(col(\"BX95\")).alias(\"BX95\")\n",
    "                         ,sum(col(\"QUANTITY_TON\")).alias(\"QUANTITY_TON\"))\\\n",
    "                .withColumn(\"PRACTICED_PRICE_PER_KG\", col(\"PPKG\")/col(\"QUANTITY_TON\"))\\"
   ]
  },
  {
   "cell_type": "code",
   "execution_count": 46,
   "metadata": {},
   "outputs": [
    {
     "data": {
      "application/vnd.jupyter.widget-view+json": {
       "model_id": "54f0fd86a5354a649619c5b669ce8014",
       "version_major": 2,
       "version_minor": 0
      },
      "text/plain": [
       "VBox()"
      ]
     },
     "metadata": {},
     "output_type": "display_data"
    },
    {
     "data": {
      "application/vnd.jupyter.widget-view+json": {
       "model_id": "",
       "version_major": 2,
       "version_minor": 0
      },
      "text/plain": [
       "FloatProgress(value=0.0, bar_style='info', description='Progress:', layout=Layout(height='25px', width='50%'),…"
      ]
     },
     "metadata": {},
     "output_type": "display_data"
    },
    {
     "name": "stdout",
     "output_type": "stream",
     "text": [
      "DataFrame[SALES_ORG_COD: string, ISSUING_STATE: string, SALES_DOC_NUMBER: string, SALES_DOC_ITEM: string, GPD_COD: string, GPD_DESC: string, MATERIAL_COD: string, MATERIAL_DESC: string, GPM_DESC: string, BRANCH: string, MONTH_YEAR: string, key_Lb_drop: string, PPKG: double, ZD05: double, ZEAF: double, BX41: double, RLV: double, RBV: double, ICMS: double, PIS: double, COFINS: double, OTHER_TAXES: double, BX95: double, QUANTITY_TON: double, PRACTICED_PRICE_PER_KG: double]"
     ]
    }
   ],
   "source": [
    "df_hana.persist(pyspark.StorageLevel.MEMORY_ONLY)"
   ]
  },
  {
   "cell_type": "code",
   "execution_count": 47,
   "metadata": {},
   "outputs": [
    {
     "data": {
      "application/vnd.jupyter.widget-view+json": {
       "model_id": "cda42ac54f934e95b79149b714a0860c",
       "version_major": 2,
       "version_minor": 0
      },
      "text/plain": [
       "VBox()"
      ]
     },
     "metadata": {},
     "output_type": "display_data"
    },
    {
     "data": {
      "application/vnd.jupyter.widget-view+json": {
       "model_id": "",
       "version_major": 2,
       "version_minor": 0
      },
      "text/plain": [
       "FloatProgress(value=0.0, bar_style='info', description='Progress:', layout=Layout(height='25px', width='50%'),…"
      ]
     },
     "metadata": {},
     "output_type": "display_data"
    }
   ],
   "source": [
    "df_hana = df_hana.join(df_gross_profit.select(df_gross_profit.key_Lb_drop\n",
    "                                              ,df_gross_profit.GROSS_PROFIT_LB\n",
    "                                              ,df_gross_profit.FREIGHT\n",
    "                                              ,df_gross_profit.OP_COST)\n",
    "                             ,on = [\"key_Lb_drop\"], how='left')\\"
   ]
  },
  {
   "cell_type": "code",
   "execution_count": 48,
   "metadata": {},
   "outputs": [
    {
     "data": {
      "application/vnd.jupyter.widget-view+json": {
       "model_id": "bcaa4fb564774133972cb61acca59eaf",
       "version_major": 2,
       "version_minor": 0
      },
      "text/plain": [
       "VBox()"
      ]
     },
     "metadata": {},
     "output_type": "display_data"
    },
    {
     "data": {
      "application/vnd.jupyter.widget-view+json": {
       "model_id": "",
       "version_major": 2,
       "version_minor": 0
      },
      "text/plain": [
       "FloatProgress(value=0.0, bar_style='info', description='Progress:', layout=Layout(height='25px', width='50%'),…"
      ]
     },
     "metadata": {},
     "output_type": "display_data"
    },
    {
     "name": "stdout",
     "output_type": "stream",
     "text": [
      "DataFrame[key_Lb_drop: string, SALES_ORG_COD: string, ISSUING_STATE: string, SALES_DOC_NUMBER: string, SALES_DOC_ITEM: string, GPD_COD: string, GPD_DESC: string, MATERIAL_COD: string, MATERIAL_DESC: string, GPM_DESC: string, BRANCH: string, MONTH_YEAR: string, PPKG: double, ZD05: double, ZEAF: double, BX41: double, RLV: double, RBV: double, ICMS: double, PIS: double, COFINS: double, OTHER_TAXES: double, BX95: double, QUANTITY_TON: double, PRACTICED_PRICE_PER_KG: double, GROSS_PROFIT_LB: float, FREIGHT: float, OP_COST: float]"
     ]
    }
   ],
   "source": [
    "df_hana.persist(pyspark.StorageLevel.MEMORY_ONLY)"
   ]
  },
  {
   "cell_type": "code",
   "execution_count": 49,
   "metadata": {},
   "outputs": [
    {
     "data": {
      "application/vnd.jupyter.widget-view+json": {
       "model_id": "afad4dfa08c147ca98885a0be8673011",
       "version_major": 2,
       "version_minor": 0
      },
      "text/plain": [
       "VBox()"
      ]
     },
     "metadata": {},
     "output_type": "display_data"
    },
    {
     "data": {
      "application/vnd.jupyter.widget-view+json": {
       "model_id": "",
       "version_major": 2,
       "version_minor": 0
      },
      "text/plain": [
       "FloatProgress(value=0.0, bar_style='info', description='Progress:', layout=Layout(height='25px', width='50%'),…"
      ]
     },
     "metadata": {},
     "output_type": "display_data"
    }
   ],
   "source": [
    "df_hana = df_hana.join(df_client,on = [\"key_Lb_drop\"], how='left')\\\n",
    "                 .drop(\"key_Lb_drop\")"
   ]
  },
  {
   "cell_type": "code",
   "execution_count": 50,
   "metadata": {},
   "outputs": [
    {
     "data": {
      "application/vnd.jupyter.widget-view+json": {
       "model_id": "42d0a04b0863431e9ffc321f4d6d4c31",
       "version_major": 2,
       "version_minor": 0
      },
      "text/plain": [
       "VBox()"
      ]
     },
     "metadata": {},
     "output_type": "display_data"
    },
    {
     "data": {
      "application/vnd.jupyter.widget-view+json": {
       "model_id": "",
       "version_major": 2,
       "version_minor": 0
      },
      "text/plain": [
       "FloatProgress(value=0.0, bar_style='info', description='Progress:', layout=Layout(height='25px', width='50%'),…"
      ]
     },
     "metadata": {},
     "output_type": "display_data"
    },
    {
     "name": "stdout",
     "output_type": "stream",
     "text": [
      "DataFrame[SALES_ORG_COD: string, ISSUING_STATE: string, SALES_DOC_NUMBER: string, SALES_DOC_ITEM: string, GPD_COD: string, GPD_DESC: string, MATERIAL_COD: string, MATERIAL_DESC: string, GPM_DESC: string, BRANCH: string, MONTH_YEAR: string, PPKG: double, ZD05: double, ZEAF: double, BX41: double, RLV: double, RBV: double, ICMS: double, PIS: double, COFINS: double, OTHER_TAXES: double, BX95: double, QUANTITY_TON: double, PRACTICED_PRICE_PER_KG: double, GROSS_PROFIT_LB: float, FREIGHT: float, OP_COST: float, CLIENTE_COD: string, CLIENTE_DESC: string, CLIENT_GROUP_DESC: string]"
     ]
    }
   ],
   "source": [
    "df_hana.persist(pyspark.StorageLevel.MEMORY_ONLY)"
   ]
  },
  {
   "cell_type": "code",
   "execution_count": 51,
   "metadata": {},
   "outputs": [
    {
     "data": {
      "application/vnd.jupyter.widget-view+json": {
       "model_id": "7551099f5b2e4c46963543da31bfa2e0",
       "version_major": 2,
       "version_minor": 0
      },
      "text/plain": [
       "VBox()"
      ]
     },
     "metadata": {},
     "output_type": "display_data"
    },
    {
     "data": {
      "application/vnd.jupyter.widget-view+json": {
       "model_id": "",
       "version_major": 2,
       "version_minor": 0
      },
      "text/plain": [
       "FloatProgress(value=0.0, bar_style='info', description='Progress:', layout=Layout(height='25px', width='50%'),…"
      ]
     },
     "metadata": {},
     "output_type": "display_data"
    }
   ],
   "source": [
    "df_hana = df_hana.fillna({'GROSS_PROFIT_LB':'0'\n",
    "                         ,'FREIGHT':'0'\n",
    "                         ,'OP_COST':'0'})\\\n",
    "                 .dropDuplicates()"
   ]
  },
  {
   "cell_type": "code",
   "execution_count": 52,
   "metadata": {},
   "outputs": [
    {
     "data": {
      "application/vnd.jupyter.widget-view+json": {
       "model_id": "eb250438dc814032ab7bff4b68901de6",
       "version_major": 2,
       "version_minor": 0
      },
      "text/plain": [
       "VBox()"
      ]
     },
     "metadata": {},
     "output_type": "display_data"
    },
    {
     "data": {
      "application/vnd.jupyter.widget-view+json": {
       "model_id": "",
       "version_major": 2,
       "version_minor": 0
      },
      "text/plain": [
       "FloatProgress(value=0.0, bar_style='info', description='Progress:', layout=Layout(height='25px', width='50%'),…"
      ]
     },
     "metadata": {},
     "output_type": "display_data"
    }
   ],
   "source": [
    "#Creating TAXES\n",
    "df_hana=df_hana.withColumn(\"CALCULATED_TAXES\",(col('ICMS')\n",
    "                                              + col('COFINS')\n",
    "                                              + col(\"PIS\")\n",
    "                                              + col(\"OTHER_TAXES\")\n",
    "                                              + col(\"BX95\")).cast('float'))"
   ]
  },
  {
   "cell_type": "code",
   "execution_count": 53,
   "metadata": {},
   "outputs": [
    {
     "data": {
      "application/vnd.jupyter.widget-view+json": {
       "model_id": "f51e5cfae16f4cdc82e0962faad5c10e",
       "version_major": 2,
       "version_minor": 0
      },
      "text/plain": [
       "VBox()"
      ]
     },
     "metadata": {},
     "output_type": "display_data"
    },
    {
     "data": {
      "application/vnd.jupyter.widget-view+json": {
       "model_id": "",
       "version_major": 2,
       "version_minor": 0
      },
      "text/plain": [
       "FloatProgress(value=0.0, bar_style='info', description='Progress:', layout=Layout(height='25px', width='50%'),…"
      ]
     },
     "metadata": {},
     "output_type": "display_data"
    }
   ],
   "source": [
    "df_hana = df_hana.withColumn(\"GROSS_PROFIT_LB\", df_hana[\"GROSS_PROFIT_LB\"].cast(\"float\"))\\\n",
    "                 .withColumn(\"FREIGHT\", df_hana[\"FREIGHT\"].cast(\"float\"))\\\n",
    "                 .withColumn(\"OP_COST\", df_hana[\"OP_COST\"].cast(\"float\"))"
   ]
  },
  {
   "cell_type": "code",
   "execution_count": 54,
   "metadata": {},
   "outputs": [
    {
     "data": {
      "application/vnd.jupyter.widget-view+json": {
       "model_id": "6ed91eed6f6c4c7aabb98d33e8ae0123",
       "version_major": 2,
       "version_minor": 0
      },
      "text/plain": [
       "VBox()"
      ]
     },
     "metadata": {},
     "output_type": "display_data"
    },
    {
     "data": {
      "application/vnd.jupyter.widget-view+json": {
       "model_id": "",
       "version_major": 2,
       "version_minor": 0
      },
      "text/plain": [
       "FloatProgress(value=0.0, bar_style='info', description='Progress:', layout=Layout(height='25px', width='50%'),…"
      ]
     },
     "metadata": {},
     "output_type": "display_data"
    }
   ],
   "source": [
    "df_hana = df_hana.withColumn(\"GROSS_PROFIT_ORIGINAL\", col('GROSS_PROFIT_LB'))\\\n",
    "                 .withColumn(\"FREIGHT_ORIGINAL\", col('FREIGHT'))\\\n",
    "                 .withColumn(\"OPERATIONAL_COST_ORIGINAL\", col('OP_COST'))\\\n",
    "                 .withColumn(\"PRACTICED_PRICE_PER_KG_ORIGINAL\", col('PRACTICED_PRICE_PER_KG'))\\\n",
    "                 .withColumn(\"RLV_ORIGINAL\", col('RLV'))"
   ]
  },
  {
   "cell_type": "code",
   "execution_count": 55,
   "metadata": {},
   "outputs": [
    {
     "data": {
      "application/vnd.jupyter.widget-view+json": {
       "model_id": "fc9249e9551f4bc4be752020291a49ee",
       "version_major": 2,
       "version_minor": 0
      },
      "text/plain": [
       "VBox()"
      ]
     },
     "metadata": {},
     "output_type": "display_data"
    },
    {
     "data": {
      "application/vnd.jupyter.widget-view+json": {
       "model_id": "",
       "version_major": 2,
       "version_minor": 0
      },
      "text/plain": [
       "FloatProgress(value=0.0, bar_style='info', description='Progress:', layout=Layout(height='25px', width='50%'),…"
      ]
     },
     "metadata": {},
     "output_type": "display_data"
    }
   ],
   "source": [
    "df_hana = df_hana.drop(\"PPKG\")"
   ]
  },
  {
   "cell_type": "code",
   "execution_count": 56,
   "metadata": {},
   "outputs": [
    {
     "data": {
      "application/vnd.jupyter.widget-view+json": {
       "model_id": "9c965e128fe24bfb8f31b9b64ddd6f25",
       "version_major": 2,
       "version_minor": 0
      },
      "text/plain": [
       "VBox()"
      ]
     },
     "metadata": {},
     "output_type": "display_data"
    },
    {
     "data": {
      "application/vnd.jupyter.widget-view+json": {
       "model_id": "",
       "version_major": 2,
       "version_minor": 0
      },
      "text/plain": [
       "FloatProgress(value=0.0, bar_style='info', description='Progress:', layout=Layout(height='25px', width='50%'),…"
      ]
     },
     "metadata": {},
     "output_type": "display_data"
    }
   ],
   "source": [
    "# Dividing by quantity and by ton\n",
    "for col_name in [\"GROSS_PROFIT_LB\"\n",
    "                 ,\"PRACTICED_PRICE_PER_KG\"\n",
    "                 ,\"CALCULATED_TAXES\"\n",
    "                 ,\"ZD05\"\n",
    "                 ,\"ZEAF\"\n",
    "                 ,\"ICMS\"\n",
    "                 ,\"PIS\"\n",
    "                 ,\"COFINS\"\n",
    "                 ,\"OTHER_TAXES\"\n",
    "                 ,\"BX95\"\n",
    "                 ,\"BX41\"\n",
    "                 ,\"RBV\"\n",
    "                 ,\"RLV\"\n",
    "                 ,\"FREIGHT\"\n",
    "                 ,\"OP_COST\"]:\n",
    "    df_hana = df_hana.withColumn(col_name, (col(col_name)/col(\"QUANTITY_TON\")).cast('float'))\\\n",
    "                     .withColumn(col_name, (col(col_name)/1000).cast('float'))"
   ]
  },
  {
   "cell_type": "markdown",
   "metadata": {},
   "source": [
    "----------------"
   ]
  },
  {
   "cell_type": "markdown",
   "metadata": {},
   "source": [
    "# Creating Support Columns"
   ]
  },
  {
   "cell_type": "code",
   "execution_count": 57,
   "metadata": {
    "scrolled": true
   },
   "outputs": [
    {
     "data": {
      "application/vnd.jupyter.widget-view+json": {
       "model_id": "efb8841d45834409b40373c3c6fc443b",
       "version_major": 2,
       "version_minor": 0
      },
      "text/plain": [
       "VBox()"
      ]
     },
     "metadata": {},
     "output_type": "display_data"
    },
    {
     "data": {
      "application/vnd.jupyter.widget-view+json": {
       "model_id": "",
       "version_major": 2,
       "version_minor": 0
      },
      "text/plain": [
       "FloatProgress(value=0.0, bar_style='info', description='Progress:', layout=Layout(height='25px', width='50%'),…"
      ]
     },
     "metadata": {},
     "output_type": "display_data"
    }
   ],
   "source": [
    "df_hana = df_hana.withColumn(\"COUNTRY\", lit(\"Brazil\"))\\\n",
    "                 .dropDuplicates()"
   ]
  },
  {
   "cell_type": "code",
   "execution_count": 58,
   "metadata": {},
   "outputs": [
    {
     "data": {
      "application/vnd.jupyter.widget-view+json": {
       "model_id": "5f76c200b19d4f82ac15eeb138844a7f",
       "version_major": 2,
       "version_minor": 0
      },
      "text/plain": [
       "VBox()"
      ]
     },
     "metadata": {},
     "output_type": "display_data"
    },
    {
     "data": {
      "application/vnd.jupyter.widget-view+json": {
       "model_id": "",
       "version_major": 2,
       "version_minor": 0
      },
      "text/plain": [
       "FloatProgress(value=0.0, bar_style='info', description='Progress:', layout=Layout(height='25px', width='50%'),…"
      ]
     },
     "metadata": {},
     "output_type": "display_data"
    },
    {
     "name": "stdout",
     "output_type": "stream",
     "text": [
      "DataFrame[SALES_ORG_COD: string, ISSUING_STATE: string, SALES_DOC_NUMBER: string, SALES_DOC_ITEM: string, GPD_COD: string, GPD_DESC: string, MATERIAL_COD: string, MATERIAL_DESC: string, GPM_DESC: string, BRANCH: string, MONTH_YEAR: string, ZD05: float, ZEAF: float, BX41: float, RLV: float, RBV: float, ICMS: float, PIS: float, COFINS: float, OTHER_TAXES: float, BX95: float, QUANTITY_TON: double, PRACTICED_PRICE_PER_KG: float, GROSS_PROFIT_LB: float, FREIGHT: float, OP_COST: float, CLIENTE_COD: string, CLIENTE_DESC: string, CLIENT_GROUP_DESC: string, CALCULATED_TAXES: float, GROSS_PROFIT_ORIGINAL: float, FREIGHT_ORIGINAL: float, OPERATIONAL_COST_ORIGINAL: float, PRACTICED_PRICE_PER_KG_ORIGINAL: double, RLV_ORIGINAL: double, COUNTRY: string]"
     ]
    }
   ],
   "source": [
    "df_hana.persist(pyspark.StorageLevel.MEMORY_ONLY)"
   ]
  },
  {
   "cell_type": "markdown",
   "metadata": {},
   "source": [
    "------------------"
   ]
  },
  {
   "cell_type": "markdown",
   "metadata": {},
   "source": [
    "# Uploading Table"
   ]
  },
  {
   "cell_type": "code",
   "execution_count": 60,
   "metadata": {},
   "outputs": [
    {
     "data": {
      "application/vnd.jupyter.widget-view+json": {
       "model_id": "3e5e3d41b8034977a5ceca2964300dd1",
       "version_major": 2,
       "version_minor": 0
      },
      "text/plain": [
       "VBox()"
      ]
     },
     "metadata": {},
     "output_type": "display_data"
    },
    {
     "data": {
      "application/vnd.jupyter.widget-view+json": {
       "model_id": "",
       "version_major": 2,
       "version_minor": 0
      },
      "text/plain": [
       "FloatProgress(value=0.0, bar_style='info', description='Progress:', layout=Layout(height='25px', width='50%'),…"
      ]
     },
     "metadata": {},
     "output_type": "display_data"
    }
   ],
   "source": [
    "df_hana.write.parquet(\"s3a://\"+SPG_OUTPUT_BUCKET+\"/\"+SPG_OUTPUT_BUCKET_4_PRICES, mode = \"overwrite\")"
   ]
  }
 ],
 "metadata": {
  "kernelspec": {
   "display_name": "Python 3",
   "language": "python",
   "name": "python3"
  },
  "language_info": {
   "codemirror_mode": {
    "name": "ipython",
    "version": 3
   },
   "file_extension": ".py",
   "mimetype": "text/x-python",
   "name": "python",
   "nbconvert_exporter": "python",
   "pygments_lexer": "ipython3",
   "version": "3.7.5"
  }
 },
 "nbformat": 4,
 "nbformat_minor": 4
}
