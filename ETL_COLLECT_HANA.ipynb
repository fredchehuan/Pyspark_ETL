{
 "cells": [
  {
   "cell_type": "markdown",
   "metadata": {},
   "source": [
    "# Overall Informations"
   ]
  },
  {
   "cell_type": "code",
   "execution_count": 65,
   "metadata": {},
   "outputs": [
    {
     "data": {
      "application/vnd.jupyter.widget-view+json": {
       "model_id": "3889e877c8e645a883dac6467caa32a8",
       "version_major": 2,
       "version_minor": 0
      },
      "text/plain": [
       "VBox()"
      ]
     },
     "metadata": {},
     "output_type": "display_data"
    },
    {
     "data": {
      "application/vnd.jupyter.widget-view+json": {
       "model_id": "",
       "version_major": 2,
       "version_minor": 0
      },
      "text/plain": [
       "FloatProgress(value=0.0, bar_style='info', description='Progress:', layout=Layout(height='25px', width='50%'),…"
      ]
     },
     "metadata": {},
     "output_type": "display_data"
    }
   ],
   "source": [
    "# Title: Automatização da lógica Corredor de Descontos\n",
    "# Description: Captura dos dados da tabela de Gestão de Preços e Condições - HANA e estruturação das Conditions \n",
    "#            para cálculo do Corredor de Desconto (ZD01 e ZD Tático[ZD01 + ZD13 + ZD06])\n",
    "#            e dispersão (ZD02, ZD03, ZD04, ZD05, ZD06 e ZD13), com armazenamento dos resultados no AWS.\n",
    "# Frequency: Monthly\n",
    "# Time Period: (Mês Atual - 1)\n",
    "# Structure: Modelo estruturado em sequencia de comandos.\n",
    "# Version: V1\n",
    "# Created on: 12-Jun-2019\n",
    "# Last Update: 12-Jun-2019\n",
    "# @author: Leandro Antunes"
   ]
  },
  {
   "cell_type": "markdown",
   "metadata": {
    "scrolled": true
   },
   "source": [
    "# Importing Libraries"
   ]
  },
  {
   "cell_type": "code",
   "execution_count": 34,
   "metadata": {},
   "outputs": [
    {
     "data": {
      "application/vnd.jupyter.widget-view+json": {
       "model_id": "5d939118af834f188e38f4bb1c84d8f0",
       "version_major": 2,
       "version_minor": 0
      },
      "text/plain": [
       "VBox()"
      ]
     },
     "metadata": {},
     "output_type": "display_data"
    },
    {
     "data": {
      "application/vnd.jupyter.widget-view+json": {
       "model_id": "",
       "version_major": 2,
       "version_minor": 0
      },
      "text/plain": [
       "FloatProgress(value=0.0, bar_style='info', description='Progress:', layout=Layout(height='25px', width='50%'),…"
      ]
     },
     "metadata": {},
     "output_type": "display_data"
    }
   ],
   "source": [
    "import findspark                                              #Import library to Search for Spark Installation  \n",
    "\n",
    "findspark.init()                                              #Search Spark Installation\n",
    "\n",
    "import pyspark                                                #Only run after findspark.init()\n",
    "\n",
    "from pyspark.sql import SparkSession                          #Import of Spark Session\n",
    "from pyspark import SparkContext as spark                     #Import the Regular Spark Contex \n",
    "from pyspark.sql import SQLContext                            #Import the SQL Spark Contex \n",
    "from pyspark.sql.functions import *                           #Import the SQL Spark Functions\n",
    "from pyspark.sql.types import *                               #Import the SQL Spark Variables Types\n",
    "spark = SparkSession.builder.getOrCreate()                    #Creating Spark Session\n",
    "import os\n",
    "\n",
    "sc = spark.sparkContext                                       #Initialize Spark Session"
   ]
  },
  {
   "cell_type": "markdown",
   "metadata": {},
   "source": [
    "-------------------"
   ]
  },
  {
   "cell_type": "markdown",
   "metadata": {},
   "source": [
    "# Creating Variables"
   ]
  },
  {
   "cell_type": "markdown",
   "metadata": {},
   "source": [
    "## Buckets"
   ]
  },
  {
   "cell_type": "code",
   "execution_count": null,
   "metadata": {},
   "outputs": [],
   "source": [
    "SPG_MANUAL_INPUT_BUCKET = os.environ['MANUAL_INPUT_BUCKET']"
   ]
  },
  {
   "cell_type": "code",
   "execution_count": null,
   "metadata": {},
   "outputs": [],
   "source": [
    "SPG_INTEGRATION_INPUT_BUCKET = os.environ['INTEGRATION_INPUT_BUCKET']"
   ]
  },
  {
   "cell_type": "code",
   "execution_count": null,
   "metadata": {},
   "outputs": [],
   "source": [
    "SPG_QUERY_BUCKET = os.environ['QUERY_BUCKET']"
   ]
  },
  {
   "cell_type": "code",
   "execution_count": null,
   "metadata": {},
   "outputs": [],
   "source": [
    "GERDAU_BUCKET = os.environ['GERDAU_BUCKET']"
   ]
  },
  {
   "cell_type": "code",
   "execution_count": null,
   "metadata": {},
   "outputs": [],
   "source": [
    "SPG_OUTPUT_BUCKET = os.environ['OUTPUT_BUCKET']"
   ]
  },
  {
   "cell_type": "code",
   "execution_count": null,
   "metadata": {},
   "outputs": [],
   "source": [
    "SPG_INPUT_BUCKET = os.environ['INPUT_BUCKET_FROM_OUTPUT']"
   ]
  },
  {
   "cell_type": "markdown",
   "metadata": {},
   "source": [
    "## Input Paths"
   ]
  },
  {
   "cell_type": "code",
   "execution_count": null,
   "metadata": {},
   "outputs": [],
   "source": [
    "# Reading parquet file from the SandBox Data Lake\n",
    "SPG_INTEGRATION_INPUT_BUCKET_HANA = \"SPG_FACTS/SPG_HANA/SPG_HANA.parquet\""
   ]
  },
  {
   "cell_type": "code",
   "execution_count": null,
   "metadata": {},
   "outputs": [],
   "source": [
    "# SPG Regions\n",
    "SPG_INTEGRATION_INPUT_BUCKET_REGIONS = \"SPG_DIMENSIONS/SPG_REGIOES/SPG_RG_REGIOES/SPG_RG_REGIOES.parquet\""
   ]
  },
  {
   "cell_type": "code",
   "execution_count": null,
   "metadata": {},
   "outputs": [],
   "source": [
    "# Reading parquet file from the SandBox Data Lake\n",
    "SPG_INPUT_BUCKET_COLLECT = \"SGP_PRICE_COLLECT/SPG_PC_COLETA.parquet\""
   ]
  },
  {
   "cell_type": "markdown",
   "metadata": {},
   "source": [
    "## Output Paths"
   ]
  },
  {
   "cell_type": "code",
   "execution_count": null,
   "metadata": {},
   "outputs": [],
   "source": [
    "SPG_OUTPUT_BUCKET_HANA = \"SGP_PRICE_COLLECT/SPG_PC_HANA/tb_SPG_PC_HANA.parquet\""
   ]
  },
  {
   "cell_type": "markdown",
   "metadata": {},
   "source": [
    "----------------"
   ]
  },
  {
   "cell_type": "markdown",
   "metadata": {},
   "source": [
    "# Creating Defined Functions"
   ]
  },
  {
   "cell_type": "code",
   "execution_count": 35,
   "metadata": {},
   "outputs": [
    {
     "data": {
      "application/vnd.jupyter.widget-view+json": {
       "model_id": "5b9f54701a4444699c943da317add7dc",
       "version_major": 2,
       "version_minor": 0
      },
      "text/plain": [
       "VBox()"
      ]
     },
     "metadata": {},
     "output_type": "display_data"
    },
    {
     "data": {
      "application/vnd.jupyter.widget-view+json": {
       "model_id": "",
       "version_major": 2,
       "version_minor": 0
      },
      "text/plain": [
       "FloatProgress(value=0.0, bar_style='info', description='Progress:', layout=Layout(height='25px', width='50%'),…"
      ]
     },
     "metadata": {},
     "output_type": "display_data"
    }
   ],
   "source": [
    "def remove_some_accents(col_name):\n",
    "    removed_array = [('Á', 'A'), ('Ã', 'A'),('À', 'A'),('Â', 'A'),('Ä', 'A'),\n",
    "                    ('É', 'E'),('È', 'E'),('Ê', 'E'),('Ë', 'E'),\n",
    "                    ('Í', 'I'),('Ì', 'I'),('Î', 'I'),('Ï', 'I'),\n",
    "                    ('Ó', 'O'),('Õ', 'O'), ('Ò', 'O'),('Ô', 'O'),('Ö', 'O'),\n",
    "                    ('Ú', 'U'),('Ù', 'U'),('Û', 'U'),('Ü', 'U'),\n",
    "                    ('Ç', 'C')]\n",
    "    r = col_name\n",
    "    for a, b in removed_array:\n",
    "        r = regexp_replace(r, a, b)\n",
    "    return r"
   ]
  },
  {
   "cell_type": "code",
   "execution_count": 36,
   "metadata": {},
   "outputs": [
    {
     "data": {
      "application/vnd.jupyter.widget-view+json": {
       "model_id": "1542d1607dcb47b18c665a01c8064893",
       "version_major": 2,
       "version_minor": 0
      },
      "text/plain": [
       "VBox()"
      ]
     },
     "metadata": {},
     "output_type": "display_data"
    },
    {
     "data": {
      "application/vnd.jupyter.widget-view+json": {
       "model_id": "",
       "version_major": 2,
       "version_minor": 0
      },
      "text/plain": [
       "FloatProgress(value=0.0, bar_style='info', description='Progress:', layout=Layout(height='25px', width='50%'),…"
      ]
     },
     "metadata": {},
     "output_type": "display_data"
    }
   ],
   "source": [
    "# Replacing hifens by /\n",
    "def remove_some_hifen(col_name):\n",
    "    removed_chars = (\"-\")\n",
    "    regexp = \"|\".join('\\{0}'.format(i) for i in removed_chars)\n",
    "    return regexp_replace(col_name, regexp, \"/\")"
   ]
  },
  {
   "cell_type": "code",
   "execution_count": 37,
   "metadata": {},
   "outputs": [
    {
     "data": {
      "application/vnd.jupyter.widget-view+json": {
       "model_id": "f04fa88522f8419d9cade8050b7364f8",
       "version_major": 2,
       "version_minor": 0
      },
      "text/plain": [
       "VBox()"
      ]
     },
     "metadata": {},
     "output_type": "display_data"
    },
    {
     "data": {
      "application/vnd.jupyter.widget-view+json": {
       "model_id": "",
       "version_major": 2,
       "version_minor": 0
      },
      "text/plain": [
       "FloatProgress(value=0.0, bar_style='info', description='Progress:', layout=Layout(height='25px', width='50%'),…"
      ]
     },
     "metadata": {},
     "output_type": "display_data"
    }
   ],
   "source": [
    "# Replacing dots by /\n",
    "def remove_some_dots(col_name):\n",
    "    removed_chars = (\".\")\n",
    "    regexp = \"|\".join('\\{0}'.format(i) for i in removed_chars)\n",
    "    return regexp_replace(col_name, regexp, \"/\")"
   ]
  },
  {
   "cell_type": "code",
   "execution_count": 38,
   "metadata": {},
   "outputs": [
    {
     "data": {
      "application/vnd.jupyter.widget-view+json": {
       "model_id": "9eddf72153434ec388f22577a0e62ce0",
       "version_major": 2,
       "version_minor": 0
      },
      "text/plain": [
       "VBox()"
      ]
     },
     "metadata": {},
     "output_type": "display_data"
    },
    {
     "data": {
      "application/vnd.jupyter.widget-view+json": {
       "model_id": "",
       "version_major": 2,
       "version_minor": 0
      },
      "text/plain": [
       "FloatProgress(value=0.0, bar_style='info', description='Progress:', layout=Layout(height='25px', width='50%'),…"
      ]
     },
     "metadata": {},
     "output_type": "display_data"
    }
   ],
   "source": [
    "# Removing hifens\n",
    "def replace_some_hifen(col_name):\n",
    "    removed_chars = (\"-\")\n",
    "    regexp = \"|\".join('\\{0}'.format(i) for i in removed_chars)\n",
    "    return regexp_replace(col_name, regexp, \"\")"
   ]
  },
  {
   "cell_type": "code",
   "execution_count": 39,
   "metadata": {},
   "outputs": [
    {
     "data": {
      "application/vnd.jupyter.widget-view+json": {
       "model_id": "3d798c5ee1ac43848684975b7e8c8bdf",
       "version_major": 2,
       "version_minor": 0
      },
      "text/plain": [
       "VBox()"
      ]
     },
     "metadata": {},
     "output_type": "display_data"
    },
    {
     "data": {
      "application/vnd.jupyter.widget-view+json": {
       "model_id": "",
       "version_major": 2,
       "version_minor": 0
      },
      "text/plain": [
       "FloatProgress(value=0.0, bar_style='info', description='Progress:', layout=Layout(height='25px', width='50%'),…"
      ]
     },
     "metadata": {},
     "output_type": "display_data"
    }
   ],
   "source": [
    "# Removing spaces\n",
    "def replace_some_space(col_name):\n",
    "    removed_chars = (\" \")\n",
    "    regexp = \"|\".join('\\{0}'.format(i) for i in removed_chars)\n",
    "    return regexp_replace(col_name, regexp, \"\")"
   ]
  },
  {
   "cell_type": "code",
   "execution_count": 40,
   "metadata": {},
   "outputs": [
    {
     "data": {
      "application/vnd.jupyter.widget-view+json": {
       "model_id": "5d38a3fc0d194796b3f23077866b1b52",
       "version_major": 2,
       "version_minor": 0
      },
      "text/plain": [
       "VBox()"
      ]
     },
     "metadata": {},
     "output_type": "display_data"
    },
    {
     "data": {
      "application/vnd.jupyter.widget-view+json": {
       "model_id": "",
       "version_major": 2,
       "version_minor": 0
      },
      "text/plain": [
       "FloatProgress(value=0.0, bar_style='info', description='Progress:', layout=Layout(height='25px', width='50%'),…"
      ]
     },
     "metadata": {},
     "output_type": "display_data"
    }
   ],
   "source": [
    "# Removing apostrophes\n",
    "def replace_some_apostrophe(col_name):\n",
    "    removed_chars = (\"'\")\n",
    "    regexp = \"|\".join('\\{0}'.format(i) for i in removed_chars)\n",
    "    return regexp_replace(col_name, regexp, \"\")"
   ]
  },
  {
   "cell_type": "markdown",
   "metadata": {},
   "source": [
    "----------------"
   ]
  },
  {
   "cell_type": "markdown",
   "metadata": {},
   "source": [
    "# Importing Tables"
   ]
  },
  {
   "cell_type": "code",
   "execution_count": 41,
   "metadata": {},
   "outputs": [
    {
     "data": {
      "application/vnd.jupyter.widget-view+json": {
       "model_id": "c649fe0214a64c27a4b3d65ee9b60d46",
       "version_major": 2,
       "version_minor": 0
      },
      "text/plain": [
       "VBox()"
      ]
     },
     "metadata": {},
     "output_type": "display_data"
    },
    {
     "data": {
      "application/vnd.jupyter.widget-view+json": {
       "model_id": "",
       "version_major": 2,
       "version_minor": 0
      },
      "text/plain": [
       "FloatProgress(value=0.0, bar_style='info', description='Progress:', layout=Layout(height='25px', width='50%'),…"
      ]
     },
     "metadata": {},
     "output_type": "display_data"
    }
   ],
   "source": [
    "# Reading parquet file from the SandBox Data Lake\n",
    "df_hana = spark.read.parquet(\"s3a://\"+SPG_INTEGRATION_INPUT_BUCKET+\"/\"+SPG_INTEGRATION_INPUT_BUCKET_HANA)   #Billing Hana "
   ]
  },
  {
   "cell_type": "code",
   "execution_count": 42,
   "metadata": {
    "scrolled": true
   },
   "outputs": [
    {
     "data": {
      "application/vnd.jupyter.widget-view+json": {
       "model_id": "59b22b4dad384ef08ae74f118189d01e",
       "version_major": 2,
       "version_minor": 0
      },
      "text/plain": [
       "VBox()"
      ]
     },
     "metadata": {},
     "output_type": "display_data"
    },
    {
     "data": {
      "application/vnd.jupyter.widget-view+json": {
       "model_id": "",
       "version_major": 2,
       "version_minor": 0
      },
      "text/plain": [
       "FloatProgress(value=0.0, bar_style='info', description='Progress:', layout=Layout(height='25px', width='50%'),…"
      ]
     },
     "metadata": {},
     "output_type": "display_data"
    },
    {
     "name": "stdout",
     "output_type": "stream",
     "text": [
      "DataFrame[ABCCustomerClassification: string, BilDocNumber: string, BilDocItem: string, BILDOCDATE: string, BillingType: string, BillingTypeText: string, BusinessDivision: string, BusinessDivisionText: string, ShipToCity: string, SoldToCity: string, CompanyCode: string, CompanyCodeText: string, Conv33: string, SalesDoc_CorpGroup: string, CorporateGroupName: string, ShipToCountry: string, SoldToCountry: string, CustomerGroup: string, CustomerGroupName: string, CustomerGroup3: string, CustomerGroup3BRName: string, DateMonth: string, DateQuarter: string, DateWeek: string, DateYearMonth: string, DateYear: string, DistributionChannel: string, DistributionChannelName: string, MaterialDivision: string, MaterialDivisionName: string, Division: string, DivisionName: string, DocumentCurrency: string, EndMarket: string, GDD: string, GPD: string, GPDName: string, GPM: string, GPP: string, SoldToGrupoNISEBR: string, SalesDoc_InsideRep: string, SalesOrderInsideRepName: string, ShipToInsideRep: string, ShipToInsideRepName: string, Material: string, MaterialName: string, MaterialGroup: string, MaterialGroup3: string, MaterialGroup3Name: string, MaterialPriceGroup: string, MaterialPriceGroupName: string, MaterialGroup5: string, MaterialGroup5Name: string, NotaFiscal: string, NCM_BR: string, SalesOrderDate: string, SalesDoc_OutsideRep: string, SalesOrderOutsideRepName: string, ShipToOutsideRep: string, ShipToOutsideRepName: string, PaymentTermsAditDays: string, PaymentTermsFixedDate: string, PaymentTerms: string, PaymentTermsDescription: string, Plant: string, PlantText: string, PlantType: string, PriceGroup: string, PricingDate: string, ProductHierarchyLvl1: string, ProductHierachyLvl1Text: string, ProductHierarchyLvl2: string, ProductHierachyLvl2Text: string, ProductHierarchyLvl3: string, ProductHierachyLvl3Text: string, ProductHierarchyLvl4: string, ProductHierachyLvl4Text: string, ProductHierarchyLvl5: string, ProductHierachyLvl5Text: string, ProductHierarchyLvl6: string, ProductHierachyLvl6Text: string, ProductHierarchyLvl7: string, ProductHierachyLvl7Text: string, ProductHierarchy: string, ProductHierarchyNodeName: string, RegionalBR: string, RegionalBRName: string, SalesDoc_SalesDirector: string, ShipToSalesDirector: string, SalesDocCategory: string, SalesDocType: string, SalesDocTypeText: string, SalesDocNumber: string, SalesDocItem: string, ShipToSalesGroup: string, ShipToSalesGroupName: string, SalesGroup: string, SalesGroupName: string, ShipToSalesManager: string, SalesDoc_SalesManager: string, ShipToSalesOffice: string, ShipToSalesOfficeName: string, SalesOffice: string, SalesOfficeName: string, SalesOrg: string, SalesOrgName: string, ShippingCondition: string, ShippingConditionName: string, ShippingDate: string, ShipToCustomer: string, ShipToCustomerName: string, SizeForQualityCertificate: string, SoldToCustomerShortName: string, SoldToCustomer: string, SoldToCustomerName: string, ShipFromRegion: string, ShipToState: string, SoldToState: string, BillDocNetWeight_UOM: string, PricingProcedure: string, ShipToCustomerShortName: string, ShipToGrupoNISEBR: string, MatDimension: string, MatQuality: string, ProductPlanning: string, ProductPlanningName: string, ROUTE: string, RouteName: string, PlateLength1mm: string, PlateThickness1mm: string, PlateWidth_mm: string, PLANNING_MAT: string, INTERNAL_STANDARD_PRICING: string, SalesOrdMaterialTxt: string, EDGE: string, COIL_WEIGHT_MAX: string, COIL_WEIGHT_MIN: string, VFSI_ERDAT: string, KDKG2: string, Created_by: string, PO_Number: string, MA_BillingAmount_P: double, MA_BillingQuantity_P: double, MA_CM_PRECOLISTA_UNIT_P: double, MA_CM_PRECOLISTA_D: double, ZS_CM_CD_ZS23_UNIT_P: double, ZS_CM_CD_ZS23_D: double, MA_OUTROS_UNIT_P: double, MA_OUTROS_D: double, MA_CC_BLANK18_P: string, MA_CM_CD_TTDCAU_LP_UNIT_P: double, MA_CM_CD_TTDCAU_LP_D: double, DA_CM_CD_ZD01_UNIT_P: double, DA_CM_CD_ZD01_D: double, DA_CM_CD_ZD02_UNIT_P: double, DA_CM_CD_ZD02_D: double, DA_CM_CD_ZD03_UNIT_P: double, DA_CM_CD_ZD03_D: double, DA_CM_CD_ZD04_UNIT_P: double, DA_CM_CD_ZD04_D: double, DA_CM_CD_ZD05_UNIT_P: double, DA_CM_CD_ZD05_D: double, DA_CM_CD_ZD06_UNIT_P: double, DA_CM_CD_ZD06_D: double, MA_CC_BLANK19_P: string, MA_CM_CD_TTACAU_LP_UNIT_P: double, MA_CM_CD_TTACAU_LP_D: double, AA_CM_CD_ZEB1_UNIT_P: double, AA_CM_CD_ZEB1_D: double, AA_CM_CD_ZEB2_UNIT_P: double, AA_CM_CD_ZEB2_D: double, AA_CM_CD_ZEAF_UNIT_P: double, AA_CM_CD_ZEAF_D: double, AA_OUTROS_UNIT_P: double, AA_OUTROS_D: double, MA_CC_BLANK20_P: string, MA_CM_CD_TTDCMN_LP_UNIT_P: double, MA_CM_CD_TTDCMN_LP_D: double, DM_CM_CD_ZD13_UNIT_P: double, DM_CM_CD_ZD13_D: double, DM_CM_CD_ZD14_UNIT_P: double, DM_CM_CD_ZD14_D: double, DM_CM_CD_ZP30_UNIT_P: double, DM_CM_CD_ZP30_D: double, DM_OUTROS_DESC_UNIT_P: double, DM_OUTROS_DESC_D: double, MA_CC_BLANK2_P: string, MA_CM_CD_TTACMN_LP_UNIT_P: double, MA_CM_CD_TTACMN_LP_D: double, AM_CM_CD_ZSU2_UNIT_P: double, AM_CM_CD_ZSU2_D: double, AM_OUTROS_ACRES_UNIT_P: double, AM_OUTROS_ACRES_D: double, MA_CC_BLANK1_P: string, MA_CM_CD_ZP20_UNIT_P: double, MA_CM_CD_ZP20_D: double, MA_CC_BLANK_P: string, IC_CM_ICMSFRETEZFT4_P: double, IC_CM_ICMSSEMFRETE_P: double, IC_CM_ICMSSEMFRETES_E_ACRFIN_P: double, IC_CM_ICMSSEMFRETE_E_SEMACRFINAUT_P: double, IC_CC_BLANK3_P: string, MA_CM_PRECOBASECLIENTE_BQ_LP_UNIT_P: double, MA_CM_PRECOBASECLIENTEBQ_D: double, MA_CM_PRECOPRATICADOCLIENTE_UNIT_P: double, MA_CM_PRECOPRATICADOCLIENTE_D: double, MA_CC_BLANK4_P: string, MA_CM_RBV_UNIT_P: double, MA_CM_RBV_D: double, MA_CM_CD_IPI_UNIT_P: double, MA_CM_CD_IPI_D: double, MA_CM_RBVIPI_UNIT_P: double, MA_CM_RBVIPI_D: double, MA_CC_BLANK11_P: string, MA_CM_TOTAL_IMP_UNIT_P: double, MA_CM_TOTAL_IMP_D: double, IM_CM_CD_ICMS_UNIT_P: double, IM_CM_CD_ICMS_D: double, IM_CM_CD_ICMS_ZF_UNIT_P: double, IM_CM_CD_ICMS_ZF_D: double, IM_CD_CM_BX94_UNIT_P: double, IM_CM_CD_BX94_D: double, IM_CM_CD_BX95_UNIT_P: double, IM_CM_CD_BX95_D: double, IM_CD_CM_BX96_UNIT_P: double, IM_CM_CD_BX96_D: double, IM_CM_CD_IPI_IMP_UNIT_P: double, IM_CM_CD_IPI_IMP_D: double, IM_CM_CD_BX51_UNIT_P: double, IM_CM_CD_BX51_D: double, IM_CM_CD_COFINS_UNIT_P: double, IM_CM_CD_COFINS_D: double, IM_CM_CD_PIS_UNIT_P: double, IM_CM_CD_PIS_D: double, IM_OUTROS_UNIT_P: double, IM_OUTROS_D: double, MA_CC_BLANK12_P: string, MA_CM_RLV_UNIT_P: double, MA_CM_RLV_D: double, MA_CC_BLANK13_P: string, MA_CM_PRECOBASE_ALCADA_P: double, MA_CM_PRECOPOLITICA_ALCADA_UNIT_P: double, MA_CM_PRECOPOLITICA_ALCADA_D: double, MA_CM_DESVIOPOLITICAALCADA_UNIT_P: double, MA_CM_DESVIOPOLITICAALCADA_D: double, MA_CC_BLANK14_P: string, DP_CM_PRECOPOLITICA_UNIT_P: double, DP_CM_PRECOPOLITICA_D: double, DP_CM_PRECOPRATICADO_UNIT_P: double, DP_CM_PRECOPRATICADO_D: double, DP_CM_DESVIOPOLITICA_UNIT_P: double, DP_CM_DESVIOPOLITICA_D: double, DP_CC_BLANK15_P: string, MA_CM_SHIPMENTCOST_UNIT_P: double, MA_ShipmentCost_D: double, MA_CC_BLANK16_P: string, MA_CM_CD_ZFT1_UNIT_P: double, MA_CM_CD_ZFT1_D: double, MA_CM_CD_ZEFB_UNIT_P: double, MA_CM_CD_ZEFB_D: double, MA_CM_CD_ZDFB_UNIT_P: double, MA_CM_CD_ZDFB_D: double, MA_CM_CD_ZFT4_UNIT_P: double, MA_CM_CD_ZFT4_D: double, MA_CM_OUTROS_FRETES_UNIT_P: double, MA_CM_OUTROS_FRETES_D: double, MA_CC_BLANK17_P: string, MA_CM_CD_BX41_UNIT_P: double, MA_CM_CD_BX41_D: double, CM_CD_ZP28: double, DATA_LOAD_TIMESTAMP_PARQUET: string, DATA_LOAD_TIMESTAMP_RAW: string, HANA_KEY: string, ADRNR: string, BRANCH_REGION: string]"
     ]
    }
   ],
   "source": [
    "df_hana.write.partitionBy(144);\n",
    "df_hana = df_hana.repartition(144);\n",
    "df_hana.persist(pyspark.StorageLevel.MEMORY_ONLY)"
   ]
  },
  {
   "cell_type": "code",
   "execution_count": 43,
   "metadata": {},
   "outputs": [
    {
     "data": {
      "application/vnd.jupyter.widget-view+json": {
       "model_id": "1ef83dc2c71c4e6c9fd81f0311fb73c2",
       "version_major": 2,
       "version_minor": 0
      },
      "text/plain": [
       "VBox()"
      ]
     },
     "metadata": {},
     "output_type": "display_data"
    },
    {
     "data": {
      "application/vnd.jupyter.widget-view+json": {
       "model_id": "",
       "version_major": 2,
       "version_minor": 0
      },
      "text/plain": [
       "FloatProgress(value=0.0, bar_style='info', description='Progress:', layout=Layout(height='25px', width='50%'),…"
      ]
     },
     "metadata": {},
     "output_type": "display_data"
    }
   ],
   "source": [
    "# SPG Regions\n",
    "df_region = spark.read.parquet(\"s3a://\"+SPG_INTEGRATION_INPUT_BUCKET+\"/\"+SPG_INTEGRATION_INPUT_BUCKET_REGIONS)"
   ]
  },
  {
   "cell_type": "code",
   "execution_count": 44,
   "metadata": {},
   "outputs": [
    {
     "data": {
      "application/vnd.jupyter.widget-view+json": {
       "model_id": "13fcd627451e4c5eb297c9785615e5cb",
       "version_major": 2,
       "version_minor": 0
      },
      "text/plain": [
       "VBox()"
      ]
     },
     "metadata": {},
     "output_type": "display_data"
    },
    {
     "data": {
      "application/vnd.jupyter.widget-view+json": {
       "model_id": "",
       "version_major": 2,
       "version_minor": 0
      },
      "text/plain": [
       "FloatProgress(value=0.0, bar_style='info', description='Progress:', layout=Layout(height='25px', width='50%'),…"
      ]
     },
     "metadata": {},
     "output_type": "display_data"
    },
    {
     "name": "stdout",
     "output_type": "stream",
     "text": [
      "DataFrame[TIMESTAMP: string, Cod_Vendedor: string, Nome_vendedor: string, COD_CLIENTE: string, NOME_CLIENTE: string, COD_PRODUCT: string, DESC_PRODUCT: string, GPM: string, FABRICANTE: string, preco_com_impostos: double, PRAZO_DE_PAGAMENTO: string, Tipo_de_Preco: string, UNIDADE_DE_MEDIDA: string, CIDADE: string, ESTADO: string, OVAjustada: string, MATERIAL: string, Preco21diasKG: double, MesAno: string, DiasCorridos: double, DiasFaltantes: double, ChaveVendedorMetas: string, Aprovado: string, Filial: string, Regiao: string, Median_Avg_PrecoPraticadoKG: double, Count_Qtd_Fatura: string, precoSemana: double, DESC_GPD: string, StatusAtual: string, Tipo_de_Preco_Ajustes: string, Unidade_de_analise: string, StdDev_PrecoConcorrente: double]"
     ]
    }
   ],
   "source": [
    "df_region.write.partitionBy(144);\n",
    "df_region = df_region.repartition(144);\n",
    "df_region.persist(pyspark.StorageLevel.MEMORY_ONLY)"
   ]
  },
  {
   "cell_type": "code",
   "execution_count": 45,
   "metadata": {},
   "outputs": [
    {
     "data": {
      "application/vnd.jupyter.widget-view+json": {
       "model_id": "5a7b0a62fbf14264a59f191bf24755b7",
       "version_major": 2,
       "version_minor": 0
      },
      "text/plain": [
       "VBox()"
      ]
     },
     "metadata": {},
     "output_type": "display_data"
    },
    {
     "data": {
      "application/vnd.jupyter.widget-view+json": {
       "model_id": "",
       "version_major": 2,
       "version_minor": 0
      },
      "text/plain": [
       "FloatProgress(value=0.0, bar_style='info', description='Progress:', layout=Layout(height='25px', width='50%'),…"
      ]
     },
     "metadata": {},
     "output_type": "display_data"
    }
   ],
   "source": [
    "# Reading parquet file from the SandBox Data Lake\n",
    "df_competitors = spark.read.parquet(\"s3a://\"+SPG_INPUT_BUCKET+\"/\"+SPG_INPUT_BUCKET_COLLECT)   #Billing Hana "
   ]
  },
  {
   "cell_type": "code",
   "execution_count": 46,
   "metadata": {
    "scrolled": true
   },
   "outputs": [
    {
     "data": {
      "application/vnd.jupyter.widget-view+json": {
       "model_id": "f66c18bc286b495da4b60521d8428ded",
       "version_major": 2,
       "version_minor": 0
      },
      "text/plain": [
       "VBox()"
      ]
     },
     "metadata": {},
     "output_type": "display_data"
    },
    {
     "data": {
      "application/vnd.jupyter.widget-view+json": {
       "model_id": "",
       "version_major": 2,
       "version_minor": 0
      },
      "text/plain": [
       "FloatProgress(value=0.0, bar_style='info', description='Progress:', layout=Layout(height='25px', width='50%'),…"
      ]
     },
     "metadata": {},
     "output_type": "display_data"
    },
    {
     "name": "stdout",
     "output_type": "stream",
     "text": [
      "DataFrame[IBGE_CITY_ID: bigint, IBGE_MICRO_ID: bigint, IBGE_UF_ID: bigint, IBGE_UF_NAME: string, IBGE_REGION_ID: bigint, IBGE_REGION_NAME: string, IBGE_REGION_ACRONYMS: string, IBGE_UF_ACRONYMS: string, IBGE_MESO_ID: bigint, IBGE_MESO_NAME: string, IBGE_MICRO_NAME: string, IBGE_CITY_NAME: string, SAP_COD: string, SAP_NAME: string, COUNTRY: string, CITY_ZF: int, RG_COD_IBGE: string, RG_REG_SAP: string, IBGE_SAP_CITY_ID: string, IBGE_SAP_CITY_NAME: string, BRANCH: string]"
     ]
    }
   ],
   "source": [
    "df_competitors.write.partitionBy(144);\n",
    "df_competitors = df_competitors.repartition(144);\n",
    "df_competitors.persist(pyspark.StorageLevel.MEMORY_ONLY)"
   ]
  },
  {
   "cell_type": "markdown",
   "metadata": {},
   "source": [
    "----------------"
   ]
  },
  {
   "cell_type": "markdown",
   "metadata": {},
   "source": [
    "# Preparing Tables"
   ]
  },
  {
   "cell_type": "markdown",
   "metadata": {},
   "source": [
    "## Region"
   ]
  },
  {
   "cell_type": "code",
   "execution_count": 47,
   "metadata": {},
   "outputs": [
    {
     "data": {
      "application/vnd.jupyter.widget-view+json": {
       "model_id": "7fe40cccc4244a08abfb6ff971802dd7",
       "version_major": 2,
       "version_minor": 0
      },
      "text/plain": [
       "VBox()"
      ]
     },
     "metadata": {},
     "output_type": "display_data"
    },
    {
     "data": {
      "application/vnd.jupyter.widget-view+json": {
       "model_id": "",
       "version_major": 2,
       "version_minor": 0
      },
      "text/plain": [
       "FloatProgress(value=0.0, bar_style='info', description='Progress:', layout=Layout(height='25px', width='50%'),…"
      ]
     },
     "metadata": {},
     "output_type": "display_data"
    }
   ],
   "source": [
    "# Normalizing the column IBGE_SAP_CITY_NAME\n",
    "df_region=df_region.withColumn(\"ISSUING_CITY\", remove_some_accents(upper(replace_some_apostrophe(replace_some_space(replace_some_hifen(df_region[\"IBGE_SAP_CITY_NAME\"]))))))"
   ]
  },
  {
   "cell_type": "code",
   "execution_count": 48,
   "metadata": {},
   "outputs": [
    {
     "data": {
      "application/vnd.jupyter.widget-view+json": {
       "model_id": "9f655f43548447f291e09ccebb391310",
       "version_major": 2,
       "version_minor": 0
      },
      "text/plain": [
       "VBox()"
      ]
     },
     "metadata": {},
     "output_type": "display_data"
    },
    {
     "data": {
      "application/vnd.jupyter.widget-view+json": {
       "model_id": "",
       "version_major": 2,
       "version_minor": 0
      },
      "text/plain": [
       "FloatProgress(value=0.0, bar_style='info', description='Progress:', layout=Layout(height='25px', width='50%'),…"
      ]
     },
     "metadata": {},
     "output_type": "display_data"
    }
   ],
   "source": [
    "df_region=df_region.select(df_region.ISSUING_CITY\n",
    "                           ,df_region.IBGE_UF_ACRONYMS.alias(\"ISSUING_STATE\")\n",
    "                           ,df_region.BRANCH)"
   ]
  },
  {
   "cell_type": "code",
   "execution_count": 49,
   "metadata": {},
   "outputs": [
    {
     "data": {
      "application/vnd.jupyter.widget-view+json": {
       "model_id": "8c6b4ec1c8a5419d87eb4625a66fc4c2",
       "version_major": 2,
       "version_minor": 0
      },
      "text/plain": [
       "VBox()"
      ]
     },
     "metadata": {},
     "output_type": "display_data"
    },
    {
     "data": {
      "application/vnd.jupyter.widget-view+json": {
       "model_id": "",
       "version_major": 2,
       "version_minor": 0
      },
      "text/plain": [
       "FloatProgress(value=0.0, bar_style='info', description='Progress:', layout=Layout(height='25px', width='50%'),…"
      ]
     },
     "metadata": {},
     "output_type": "display_data"
    },
    {
     "name": "stdout",
     "output_type": "stream",
     "text": [
      "DataFrame[ISSUING_CITY: string, ISSUING_STATE: string, BRANCH: string]"
     ]
    }
   ],
   "source": [
    "df_region.write.partitionBy(144);\n",
    "df_region = df_region.repartition(144);\n",
    "df_region.persist(pyspark.StorageLevel.MEMORY_ONLY)"
   ]
  },
  {
   "cell_type": "markdown",
   "metadata": {},
   "source": [
    "-------------"
   ]
  },
  {
   "cell_type": "markdown",
   "metadata": {},
   "source": [
    "## Hana"
   ]
  },
  {
   "cell_type": "code",
   "execution_count": 50,
   "metadata": {},
   "outputs": [
    {
     "data": {
      "application/vnd.jupyter.widget-view+json": {
       "model_id": "3988fbe1c38e41cea997f9a591dd5bfd",
       "version_major": 2,
       "version_minor": 0
      },
      "text/plain": [
       "VBox()"
      ]
     },
     "metadata": {},
     "output_type": "display_data"
    },
    {
     "data": {
      "application/vnd.jupyter.widget-view+json": {
       "model_id": "",
       "version_major": 2,
       "version_minor": 0
      },
      "text/plain": [
       "FloatProgress(value=0.0, bar_style='info', description='Progress:', layout=Layout(height='25px', width='50%'),…"
      ]
     },
     "metadata": {},
     "output_type": "display_data"
    }
   ],
   "source": [
    "df_hana=df_hana.filter(df_hana.SalesOrg.like('%BRIN%') |\n",
    "                       df_hana.SalesOrg.like('%BRIO%') |\n",
    "                       df_hana.SalesOrg.like('%BRDI%') |\n",
    "                       df_hana.SalesOrg.like('%BRDO%') |\n",
    "                       df_hana.SalesOrg.like('%BRCC%') |\n",
    "                       df_hana.SalesOrg.like('%BRCO%') |\n",
    "                       df_hana.SalesOrg.like('%BRCG%') |\n",
    "                       df_hana.SalesOrg.like('%BRGO%'))\\\n",
    "                .filter(df_hana.BillingType.like('%ZF2B%'))"
   ]
  },
  {
   "cell_type": "code",
   "execution_count": 51,
   "metadata": {},
   "outputs": [
    {
     "data": {
      "application/vnd.jupyter.widget-view+json": {
       "model_id": "02bda58849bb4a9083dc43074a2aad6c",
       "version_major": 2,
       "version_minor": 0
      },
      "text/plain": [
       "VBox()"
      ]
     },
     "metadata": {},
     "output_type": "display_data"
    },
    {
     "data": {
      "application/vnd.jupyter.widget-view+json": {
       "model_id": "",
       "version_major": 2,
       "version_minor": 0
      },
      "text/plain": [
       "FloatProgress(value=0.0, bar_style='info', description='Progress:', layout=Layout(height='25px', width='50%'),…"
      ]
     },
     "metadata": {},
     "output_type": "display_data"
    }
   ],
   "source": [
    "#choosing specifics GPD's (business call)\n",
    "df_hana = df_hana.filter(df_hana.GPDName.like('%BR-PERFIS ESTRUTURAIS%') |\n",
    "                        df_hana.GPDName.like('%BR-CA50%') |\n",
    "                        df_hana.GPDName.like('%BR-CA60%') |\n",
    "                        df_hana.GPDName.like('%BR-RECOZIDO%') |\n",
    "                        df_hana.GPDName.like('%BR-TEL TUBO%') |\n",
    "                        df_hana.GPDName.like('%BR-TELA P/ CONCRETO%') |\n",
    "                        df_hana.GPDName.like('%BR-CORTE E DOBR%') |\n",
    "                        df_hana.GPDName.like('%BR-CONSTRUCAO CIVIL%') |\n",
    "                        df_hana.GPDName.like('%BR-CA25%') |\n",
    "                        df_hana.GPDName.like('%BR-PERFIS COMERCIAIS%') |\n",
    "                        df_hana.GPDName.like('%BR-BTG%') |\n",
    "                        df_hana.GPDName.like('%BR-MALHA POP%') |\n",
    "                        df_hana.GPDName.like('%BR-TELA COLUNA%') |\n",
    "                        df_hana.GPDName.like('%BR-TRELIÇA%') |\n",
    "                        df_hana.GPDName.like('%BR-B.TREFILADA%') |\n",
    "                        df_hana.GPDName.like('%BR-OVALADO%') |\n",
    "                        df_hana.GPDName.like('%BR-GALVANIZADO%') |\n",
    "                        df_hana.GPDName.like('%BR-BARRAS COMERCIAIS%') |\n",
    "                        df_hana.GPDName.like('%BR-CAIXOTARIA%') |\n",
    "                        df_hana.GPDName.like('%BR-ARTEFATOS%') |\n",
    "                        df_hana.GPDName.like('%BR-FARPADO%') |\n",
    "                        df_hana.GPDName.like('%BR-ELETRODO%') |\n",
    "                        df_hana.GPDName.like('%BR-SOLDA - MIG%') |\n",
    "                        df_hana.GPDName.like('%BR-CANTON A572%') |\n",
    "                        df_hana.GPDName.like('%BR-GGS%') |\n",
    "                        df_hana.GPDName.like('%BR-ARMADO%') |\n",
    "                        df_hana.GPDName.like('%BR-CORDOALHA%') |\n",
    "                        df_hana.GPDName.like('%BR-ESTACA PRANCHA%') |\n",
    "                        df_hana.GPDName.like('%BR-ARAME PREGO%') |\n",
    "                        df_hana.GPDName.like('%BR-CABEÇA DUPLA%') |\n",
    "                        df_hana.GPDName.like('%BR-CORDOALHA AGRO%') |\n",
    "                        df_hana.GPDName.like('%BR-GRAMPO%') |\n",
    "                        df_hana.GPDName.like('%BR-COBREADOS%') |\n",
    "                        df_hana.GPDName.like('%BR-CHAPA LQ%') |\n",
    "                        df_hana.GPDName.like('%BR-UDC%') |\n",
    "                        df_hana.GPDName.like('%BR-CHAPA ZN%') |\n",
    "                        df_hana.GPDName.like('%BR-TELHA AZ%') |\n",
    "                        df_hana.GPDName.like('%BR-TUBO ZN%') |\n",
    "                        df_hana.GPDName.like('%BR-MARCENARIA%') |\n",
    "                        df_hana.GPDName.like('%BR-PREGOES%') |\n",
    "                        df_hana.GPDName.like('%BR-TELHEIRO%') |\n",
    "                        df_hana.GPDName.like('%BR-COLUNA%') |\n",
    "                        df_hana.GPDName.like('%BR-ESTRIBO%') |\n",
    "                        df_hana.GPDName.like('%BR-ACESSORIOS%') |\n",
    "                        df_hana.GPDName.like('%BR-CHAPA LCG%') |\n",
    "                        df_hana.GPDName.like('%BR-CHAPA LF%') |\n",
    "                        df_hana.GPDName.like('%BR-TUBO LF%') |\n",
    "                        df_hana.GPDName.like('%BR-CHAPA LQ PISO%') |\n",
    "                        df_hana.GPDName.like('%BR-BOBININHA%') |\n",
    "                        df_hana.GPDName.like('%BR-ESPECIAIS%') |\n",
    "                        df_hana.GPDName.like('%BR-BOBINA LQ%') |\n",
    "                        df_hana.GPDName.like('%BR-FITA LQ%') |\n",
    "                        df_hana.GPDName.like('%BR-BOBINA AZ%') |\n",
    "                        df_hana.GPDName.like('%BR-AÇOS ESPECIAIS%') |\n",
    "                        df_hana.GPDName.like('%BR-PARAFUSOS%') |\n",
    "                        df_hana.GPDName.like('%BR-CIMENTO%') |\n",
    "                        df_hana.GPDName.like('%BR-TUBO LQ%') |\n",
    "                        df_hana.GPDName.like('%BR-TELHA ZN%') |\n",
    "                        df_hana.GPDName.like('%BR-BTC GLV CP%') |\n",
    "                        df_hana.GPDName.like('%BR-BOBINA ZN%') |\n",
    "                        df_hana.GPDName.like('%BR-S-BARRA LAMINADA MÉDIA%') |\n",
    "                        df_hana.GPDName.like('%BR-S-BARRA LAMINADA PESADA%') |\n",
    "                        df_hana.GPDName.like('%BR-FITA LF%') |\n",
    "                        df_hana.GPDName.like('%BR-FITA AZ%') |\n",
    "                        df_hana.GPDName.like('%BR-S-BARRA LAMINADA LEVE%') |\n",
    "                        df_hana.GPDName.like('%BR-ALAMBRADO%') |\n",
    "                        df_hana.GPDName.like('%BR-SAPATA%') |\n",
    "                        df_hana.GPDName.like('%BR-MOURÃO%') |\n",
    "                        df_hana.GPDName.like('%BR-ATC CLARO IND%') |\n",
    "                        df_hana.GPDName.like('%BR-POLIDO%') |\n",
    "                        df_hana.GPDName.like('%BR-PERFIL BENEFICIADO%') |\n",
    "                        df_hana.GPDName.like('%BR-BOBINA LF%') |\n",
    "                        df_hana.GPDName.like('%BR-S-BARRA CTT%') |\n",
    "                        df_hana.GPDName.like('%BR-CHAPA AZ%') |\n",
    "                        df_hana.GPDName.like('%BR-FITA ZN%') |\n",
    "                        df_hana.GPDName.like('%BR-LDA%') |\n",
    "                        df_hana.GPDName.like('%BR-PIATINA CLARA%') |\n",
    "                        df_hana.GPDName.like('%BR-S-BARRA DESCASCADA%') |\n",
    "                        df_hana.GPDName.like('%BR-MESH%') |\n",
    "                        df_hana.GPDName.like('%BR-S-BARRA FORJADA FINA%') |\n",
    "                        df_hana.GPDName.like('%BR-S-BARRA RETIFICADA%') |\n",
    "                        df_hana.GPDName.like('%BR-S-BARRA TREFILADA%') |\n",
    "                        df_hana.GPDName.like('%BR-PLACA%') |\n",
    "                        df_hana.GPDName.like('%BR-COIL%') |\n",
    "                        df_hana.GPDName.like('%BR-S-FERRAMENTA%') |\n",
    "                        df_hana.GPDName.like('%BR-S-FIO MÁQUINA STT%') |\n",
    "                        df_hana.GPDName.like('%BR-ATC CLARO MOL COL%') |\n",
    "                        df_hana.GPDName.like('%BR-ATC GLV CP%') |\n",
    "                        df_hana.GPDName.like('%BR-B.CHATA LONGARINA%') |\n",
    "                        df_hana.GPDName.like('%BR-BT FORJARIA BLOCOS%') |\n",
    "                        df_hana.GPDName.like('%BR-TARUGO%') |\n",
    "                        df_hana.GPDName.like('%BR-DRAWING%') |\n",
    "                        df_hana.GPDName.like('%BR-ATC CLARO ENF ALG%') |\n",
    "                        df_hana.GPDName.like('%BR-PIATINA GLV%') |\n",
    "                        df_hana.GPDName.like('%BR-PERFIL DORMENTE%') |\n",
    "                        df_hana.GPDName.like('%BR-ATC%') |\n",
    "                        df_hana.GPDName.like('%BR-CHQ%') |\n",
    "                        df_hana.GPDName.like('%BR-ALMA DE ELETRODO%') |\n",
    "                        df_hana.GPDName.like('%BR-FIO MAQUINA%') |\n",
    "                        df_hana.GPDName.like('%BR-CHQ BORO%') |\n",
    "                        df_hana.GPDName.like('%BR-PERFIL GUIA ELEV%'))"
   ]
  },
  {
   "cell_type": "code",
   "execution_count": 52,
   "metadata": {},
   "outputs": [
    {
     "data": {
      "application/vnd.jupyter.widget-view+json": {
       "model_id": "901b2ed699f4453993d85cd61ffa5383",
       "version_major": 2,
       "version_minor": 0
      },
      "text/plain": [
       "VBox()"
      ]
     },
     "metadata": {},
     "output_type": "display_data"
    },
    {
     "data": {
      "application/vnd.jupyter.widget-view+json": {
       "model_id": "",
       "version_major": 2,
       "version_minor": 0
      },
      "text/plain": [
       "FloatProgress(value=0.0, bar_style='info', description='Progress:', layout=Layout(height='25px', width='50%'),…"
      ]
     },
     "metadata": {},
     "output_type": "display_data"
    }
   ],
   "source": [
    "df_hana = df_hana.filter(df_hana.GPM.like('%PERFIS_ESTRUTURAIS%') |\n",
    "                        df_hana.GPM.like('%VERGALHAO%') |\n",
    "                        df_hana.GPM.like('%AMPLIADOS%') |\n",
    "                        df_hana.GPM.like('%CORTE_DOBRA%') |\n",
    "                        df_hana.GPM.like('%PREGOS%') |\n",
    "                        df_hana.GPM.like('%B&P%') |\n",
    "                        df_hana.GPM.like('%ARAMES_AGRO%') |\n",
    "                        df_hana.GPM.like('%ARAMES_IND%') |\n",
    "                        df_hana.GPM.like('%PLANOS_LQ%') |\n",
    "                        df_hana.GPM.like('%PLANOS_REVESTIDOS%') |\n",
    "                        df_hana.GPM.like('%PLANOS_LF%') |\n",
    "                        df_hana.GPM.like('%PLANOS_LCG%') |\n",
    "                        df_hana.GPM.like('%FIO_MAQUINA%') |\n",
    "                        df_hana.GPM.like('%BT_FORJARIA%') |\n",
    "                        df_hana.GPM.like('%PLACAS%') |\n",
    "                        df_hana.GPM.like('%TARUGO%') | \n",
    "                        df_hana.GPM.isNull())"
   ]
  },
  {
   "cell_type": "code",
   "execution_count": 53,
   "metadata": {},
   "outputs": [
    {
     "data": {
      "application/vnd.jupyter.widget-view+json": {
       "model_id": "342e5f3b24c84f069d8553a63cd3fe7b",
       "version_major": 2,
       "version_minor": 0
      },
      "text/plain": [
       "VBox()"
      ]
     },
     "metadata": {},
     "output_type": "display_data"
    },
    {
     "data": {
      "application/vnd.jupyter.widget-view+json": {
       "model_id": "",
       "version_major": 2,
       "version_minor": 0
      },
      "text/plain": [
       "FloatProgress(value=0.0, bar_style='info', description='Progress:', layout=Layout(height='25px', width='50%'),…"
      ]
     },
     "metadata": {},
     "output_type": "display_data"
    }
   ],
   "source": [
    "# Selecting necessary columns from Hana Table\n",
    "df_hana=df_hana.select(df_hana.SalesOrg.alias(\"SALES_ORG_COD\")\n",
    "                       ,df_hana.SalesGroupName.alias(\"SALES_GROUP_DESC\")\n",
    "                       ,df_hana.SoldToCity.alias(\"ISSUING_CITY\")\n",
    "                       ,df_hana.SoldToState.alias(\"ISSUING_STATE\")\n",
    "                       ,df_hana.BILDOCDATE.alias(\"BILLING_DATE\")\n",
    "                       ,df_hana.SalesOrderDate.alias(\"ORDER_DATE\")\n",
    "                       ,df_hana.Material.alias(\"MATERIAL_COD\")\n",
    "                       ,df_hana.MA_BillingQuantity_P.alias(\"QUANTITY_TON\")\n",
    "                       ,df_hana.DP_CM_PRECOPRATICADO_D.alias(\"PRACTICED_PRICE\")\n",
    "                       ,df_hana.DA_CM_CD_ZD05_D.alias(\"ZD05\")\n",
    "                       ,df_hana.AA_CM_CD_ZEAF_D.alias(\"ZEAF\")\n",
    "                       ,df_hana.MA_CM_CD_BX41_D.alias(\"BX41\")).dropDuplicates()"
   ]
  },
  {
   "cell_type": "code",
   "execution_count": 54,
   "metadata": {},
   "outputs": [
    {
     "data": {
      "application/vnd.jupyter.widget-view+json": {
       "model_id": "5f1cd692510649a0ae434ffb7f11937e",
       "version_major": 2,
       "version_minor": 0
      },
      "text/plain": [
       "VBox()"
      ]
     },
     "metadata": {},
     "output_type": "display_data"
    },
    {
     "data": {
      "application/vnd.jupyter.widget-view+json": {
       "model_id": "",
       "version_major": 2,
       "version_minor": 0
      },
      "text/plain": [
       "FloatProgress(value=0.0, bar_style='info', description='Progress:', layout=Layout(height='25px', width='50%'),…"
      ]
     },
     "metadata": {},
     "output_type": "display_data"
    }
   ],
   "source": [
    "df_hana=df_hana.withColumn(\"SALES_ORG_COD\", when(df_hana.SALES_ORG_COD.like(\"%BRCO%\"), \"BRCC\")\\\n",
    "                                              .otherwise(when(df_hana.SALES_ORG_COD.like(\"%BRGO%\"), \"BRCG\")\\\n",
    "                                                        .otherwise(when(df_hana.SALES_ORG_COD.like(\"%BRIO%\"), \"BRIN\")\\\n",
    "                                                                  .otherwise(when(df_hana.SALES_ORG_COD.like(\"%BRDO%\"), \"BRDI\")\n",
    "                                                                            .otherwise(df_hana.SALES_ORG_COD)))))\\"
   ]
  },
  {
   "cell_type": "code",
   "execution_count": 55,
   "metadata": {},
   "outputs": [
    {
     "data": {
      "application/vnd.jupyter.widget-view+json": {
       "model_id": "721a72044fae49d2bc8c38aa846919dc",
       "version_major": 2,
       "version_minor": 0
      },
      "text/plain": [
       "VBox()"
      ]
     },
     "metadata": {},
     "output_type": "display_data"
    },
    {
     "data": {
      "application/vnd.jupyter.widget-view+json": {
       "model_id": "",
       "version_major": 2,
       "version_minor": 0
      },
      "text/plain": [
       "FloatProgress(value=0.0, bar_style='info', description='Progress:', layout=Layout(height='25px', width='50%'),…"
      ]
     },
     "metadata": {},
     "output_type": "display_data"
    }
   ],
   "source": [
    "# Converting numeric values from \"text\" (String) to Float from Hana Table \n",
    "for col_name in [\"QUANTITY_TON\"\n",
    "                 ,\"PRACTICED_PRICE\"\n",
    "                 ,\"ZD05\"\n",
    "                 ,\"ZEAF\"\n",
    "                 ,\"BX41\"]:\n",
    "    df_hana = df_hana.withColumn(col_name, col(col_name).cast('float'))"
   ]
  },
  {
   "cell_type": "code",
   "execution_count": 56,
   "metadata": {},
   "outputs": [
    {
     "data": {
      "application/vnd.jupyter.widget-view+json": {
       "model_id": "c3c6900889124699b7d2b6526fbc7477",
       "version_major": 2,
       "version_minor": 0
      },
      "text/plain": [
       "VBox()"
      ]
     },
     "metadata": {},
     "output_type": "display_data"
    },
    {
     "data": {
      "application/vnd.jupyter.widget-view+json": {
       "model_id": "",
       "version_major": 2,
       "version_minor": 0
      },
      "text/plain": [
       "FloatProgress(value=0.0, bar_style='info', description='Progress:', layout=Layout(height='25px', width='50%'),…"
      ]
     },
     "metadata": {},
     "output_type": "display_data"
    }
   ],
   "source": [
    "# Filtering From Hana Table Rows with Positive Quantity \n",
    "df_hana = df_hana.filter(df_hana.QUANTITY_TON >= 0)"
   ]
  },
  {
   "cell_type": "code",
   "execution_count": 57,
   "metadata": {},
   "outputs": [
    {
     "data": {
      "application/vnd.jupyter.widget-view+json": {
       "model_id": "2595076cef104faca23690dbdaa30a4c",
       "version_major": 2,
       "version_minor": 0
      },
      "text/plain": [
       "VBox()"
      ]
     },
     "metadata": {},
     "output_type": "display_data"
    },
    {
     "data": {
      "application/vnd.jupyter.widget-view+json": {
       "model_id": "",
       "version_major": 2,
       "version_minor": 0
      },
      "text/plain": [
       "FloatProgress(value=0.0, bar_style='info', description='Progress:', layout=Layout(height='25px', width='50%'),…"
      ]
     },
     "metadata": {},
     "output_type": "display_data"
    }
   ],
   "source": [
    "# Reconstructing the Column practiced price from Hana Table\n",
    "df_hana=df_hana.withColumn(\"PRACTICED_PRICE\", when((df_hana.SALES_ORG_COD.like(\"%BRCG%\")), \n",
    "                                                   col(\"PRACTICED_PRICE\")+abs(col(\"ZD05\"))-col(\"ZEAF\")+col(\"BX41\"))\\\n",
    "                                              .otherwise(col(\"PRACTICED_PRICE\")+abs(col(\"ZD05\"))-col(\"ZEAF\")+col(\"BX41\")))\\\n",
    "               .withColumn(\"PRACTICED_PRICE\", col(\"PRACTICED_PRICE\")/col(\"QUANTITY_TON\"))\\\n",
    "               .withColumn(\"PRACTICED_PRICE\", (col(\"PRACTICED_PRICE\")/1000))\\"
   ]
  },
  {
   "cell_type": "code",
   "execution_count": 58,
   "metadata": {},
   "outputs": [
    {
     "data": {
      "application/vnd.jupyter.widget-view+json": {
       "model_id": "d34c7420f77b43d894fc20c5178045b5",
       "version_major": 2,
       "version_minor": 0
      },
      "text/plain": [
       "VBox()"
      ]
     },
     "metadata": {},
     "output_type": "display_data"
    },
    {
     "data": {
      "application/vnd.jupyter.widget-view+json": {
       "model_id": "",
       "version_major": 2,
       "version_minor": 0
      },
      "text/plain": [
       "FloatProgress(value=0.0, bar_style='info', description='Progress:', layout=Layout(height='25px', width='50%'),…"
      ]
     },
     "metadata": {},
     "output_type": "display_data"
    }
   ],
   "source": [
    "df_hana = df_hana.withColumn(\"TYPE_PRICE\", when(df_hana[\"SALES_ORG_COD\"].like(\"%CC%\"),\"Usina-Mercado\")\\\n",
    "                                            .otherwise(when(df_hana[\"SALES_ORG_COD\"].like(\"%CG%\"),\"Distribuição-Mercado\")\\\n",
    "                                                      .otherwise(\"Usina-Distribuição\")))\\"
   ]
  },
  {
   "cell_type": "code",
   "execution_count": 59,
   "metadata": {},
   "outputs": [
    {
     "data": {
      "application/vnd.jupyter.widget-view+json": {
       "model_id": "9fca65b962444123962b17106b228dfe",
       "version_major": 2,
       "version_minor": 0
      },
      "text/plain": [
       "VBox()"
      ]
     },
     "metadata": {},
     "output_type": "display_data"
    },
    {
     "data": {
      "application/vnd.jupyter.widget-view+json": {
       "model_id": "",
       "version_major": 2,
       "version_minor": 0
      },
      "text/plain": [
       "FloatProgress(value=0.0, bar_style='info', description='Progress:', layout=Layout(height='25px', width='50%'),…"
      ]
     },
     "metadata": {},
     "output_type": "display_data"
    }
   ],
   "source": [
    "df_hana=df_hana.withColumn('ORDER_DATE'\n",
    "                   ,concat(substring('ORDER_DATE',1,4)\n",
    "                           ,lit(\"-\")\n",
    "                           ,substring('ORDER_DATE',5,2)\n",
    "                           ,lit(\"-\")\n",
    "                           ,substring('ORDER_DATE',7,3)))"
   ]
  },
  {
   "cell_type": "code",
   "execution_count": 60,
   "metadata": {},
   "outputs": [
    {
     "data": {
      "application/vnd.jupyter.widget-view+json": {
       "model_id": "a91bd87e2f0f4286bf6a7462114a1152",
       "version_major": 2,
       "version_minor": 0
      },
      "text/plain": [
       "VBox()"
      ]
     },
     "metadata": {},
     "output_type": "display_data"
    },
    {
     "data": {
      "application/vnd.jupyter.widget-view+json": {
       "model_id": "",
       "version_major": 2,
       "version_minor": 0
      },
      "text/plain": [
       "FloatProgress(value=0.0, bar_style='info', description='Progress:', layout=Layout(height='25px', width='50%'),…"
      ]
     },
     "metadata": {},
     "output_type": "display_data"
    }
   ],
   "source": [
    "# Normalizing the column ISSUING_CITY\n",
    "df_hana=df_hana.withColumn(\"ISSUING_CITY\", remove_some_accents(upper(replace_some_apostrophe(replace_some_space(replace_some_hifen(df_hana[\"ISSUING_CITY\"]))))))"
   ]
  },
  {
   "cell_type": "code",
   "execution_count": 61,
   "metadata": {},
   "outputs": [
    {
     "data": {
      "application/vnd.jupyter.widget-view+json": {
       "model_id": "ee9b0a9e8e914fcab6dd98b5dfb65478",
       "version_major": 2,
       "version_minor": 0
      },
      "text/plain": [
       "VBox()"
      ]
     },
     "metadata": {},
     "output_type": "display_data"
    },
    {
     "data": {
      "application/vnd.jupyter.widget-view+json": {
       "model_id": "",
       "version_major": 2,
       "version_minor": 0
      },
      "text/plain": [
       "FloatProgress(value=0.0, bar_style='info', description='Progress:', layout=Layout(height='25px', width='50%'),…"
      ]
     },
     "metadata": {},
     "output_type": "display_data"
    }
   ],
   "source": [
    "# Uniting Hana With Branch Data Frame\n",
    "df_hana = df_hana.join(df_region, on=[\"ISSUING_CITY\", \"ISSUING_STATE\"], how='inner')"
   ]
  },
  {
   "cell_type": "code",
   "execution_count": 62,
   "metadata": {},
   "outputs": [
    {
     "data": {
      "application/vnd.jupyter.widget-view+json": {
       "model_id": "8bc93b1670574b269ffb730082cb4295",
       "version_major": 2,
       "version_minor": 0
      },
      "text/plain": [
       "VBox()"
      ]
     },
     "metadata": {},
     "output_type": "display_data"
    },
    {
     "data": {
      "application/vnd.jupyter.widget-view+json": {
       "model_id": "",
       "version_major": 2,
       "version_minor": 0
      },
      "text/plain": [
       "FloatProgress(value=0.0, bar_style='info', description='Progress:', layout=Layout(height='25px', width='50%'),…"
      ]
     },
     "metadata": {},
     "output_type": "display_data"
    },
    {
     "name": "stdout",
     "output_type": "stream",
     "text": [
      "DataFrame[ISSUING_CITY: string, ISSUING_STATE: string, SALES_ORG_COD: string, SALES_GROUP_DESC: string, BILLING_DATE: string, ORDER_DATE: string, MATERIAL_COD: string, QUANTITY_TON: float, PRACTICED_PRICE: double, ZD05: float, ZEAF: float, BX41: float, TYPE_PRICE: string, BRANCH: string]"
     ]
    }
   ],
   "source": [
    "df_hana.write.partitionBy(144);\n",
    "df_hana = df_hana.repartition(144);\n",
    "df_hana.persist(pyspark.StorageLevel.MEMORY_ONLY)"
   ]
  },
  {
   "cell_type": "markdown",
   "metadata": {},
   "source": [
    "-----------------"
   ]
  },
  {
   "cell_type": "markdown",
   "metadata": {},
   "source": [
    "## Competitors"
   ]
  },
  {
   "cell_type": "code",
   "execution_count": 64,
   "metadata": {},
   "outputs": [
    {
     "data": {
      "application/vnd.jupyter.widget-view+json": {
       "model_id": "616b5a51d19b4b9a9e0615434f35ca87",
       "version_major": 2,
       "version_minor": 0
      },
      "text/plain": [
       "VBox()"
      ]
     },
     "metadata": {},
     "output_type": "display_data"
    },
    {
     "data": {
      "application/vnd.jupyter.widget-view+json": {
       "model_id": "",
       "version_major": 2,
       "version_minor": 0
      },
      "text/plain": [
       "FloatProgress(value=0.0, bar_style='info', description='Progress:', layout=Layout(height='25px', width='50%'),…"
      ]
     },
     "metadata": {},
     "output_type": "display_data"
    }
   ],
   "source": [
    "df_competitors = df_competitors.withColumn(\"KEY_DATE\", concat(col(\"ADJ_SALES_ORG\")\n",
    "                                                              ,col(\"COD_PRODUCT\")\n",
    "                                                              ,col(\"BRANCH\")\n",
    "                                                              ,replace_some_space(\"PRICE_TYPE\")\n",
    "                                                              ,col(\"TIMESTAMP\")))"
   ]
  },
  {
   "cell_type": "code",
   "execution_count": null,
   "metadata": {},
   "outputs": [],
   "source": [
    "df_competitors=df_competitors.withColumnRenamed(\"CITY\",\"CIDADE\")\\\n",
    "                             .withColumnRenamed(\"COD_SALES_AGENT\",\"Cod_Vendedor\")\\\n",
    "                             .withColumnRenamed(\"SALES_AGENT\",\"Nome_vendedor\")\\\n",
    "                             .withColumnRenamed(\"STATE\", \"ESTADO\")\\\n",
    "                             .withColumnRenamed(\"COD_CLIENT\",\"COD_CLIENTE\")\\\n",
    "                             .withColumnRenamed(\"CLIENT_NAME\",\"NOME_CLIENTE\")\\\n",
    "                             .withColumnRenamed(\"UNIT_MEASURE\",\"UNIDADE_DE_MEDIDA\")\\\n",
    "                             .withColumnRenamed(\"PAYMENT_TERM\",\"PRAZO_DE_PAGAMENTO\")\\\n",
    "                             .withColumnRenamed(\"PRICE_WITH_TAXES\",\"PRECO_COM_IMPOSTOS\")\\\n",
    "                             .withColumnRenamed(\"COMPETITOR\",\"FABRICANTE\")\\\n",
    "                             .withColumnRenamed(\"CITY_STATE\",\"CIDADEESTADO\")\\\n",
    "                             .withColumnRenamed(\"DESC_PRODUCT\",\"DESC_MATERIAL\")\\\n",
    "                             .withColumnRenamed(\"ADJ_SALES_ORG\",\"OVajustada\")\\\n",
    "                             .withColumnRenamed(\"KEY_SELLERS_MARKS\",\"ChaveVendedorMetas\")\\\n",
    "                             .withColumnRenamed(\"KEY_SELLERS\",\"ChaveVendedor\")\\\n",
    "                             .withColumnRenamed(\"REGION\",\"Regiao\")\\\n",
    "                             .withColumnRenamed(\"PRACTICED_PRICE_KG_MEDIAN_AVG\",\"Median_Avg_PrecoPraticadoKG\")\\\n",
    "                             .withColumnRenamed(\"BRANCH\",\"Filial\")\\\n",
    "                             .withColumnRenamed(\"BRANCH_CAPACITY\",\"CapacidadeFilial\")\\\n",
    "                             .withColumnRenamed(\"PRE_APPROVED\",\"Pre_Aprovado\")\\\n",
    "                             .withColumnRenamed(\"COMPETITOR_PRICE_STD_DEVIATION\",\"StdDev_PrecoConcorrente\")\\\n",
    "                             .withColumnRenamed(\"WEEK_PRICE\",\"precoSemana\")\\\n",
    "                             .withColumnRenamed(\"CURRENT_STATUS\",\"StatusAtual\")\\\n",
    "                             .withColumnRenamed(\"APPROVED\",\"Aprovado\")\\\n",
    "                             .withColumnRenamed(\"ADJ_PRICE_TYPE\",\"Tipo_de_Preco_Ajustes\")\\\n",
    "                             .withColumnRenamed(\"ANALYSIS_UNIT\",\"Unidade_de_analise\")\\\n",
    "                             .withColumnRenamed(\"BILLING_KEY\",\"ChaveFatura\")\\\n",
    "                             .withColumnRenamed(\"PRICE_21_DAYS_KG\",\"Preco21diasKG\")\\\n",
    "                             .withColumnRenamed(\"COUTN_BILLING_QTT\",\"Count_Qtd_Fatura\")\\\n",
    "                             .withColumnRenamed(\"MONTH_YEAR\",\"MesAno\")\\\n",
    "                             .withColumnRenamed(\"PASS_DAYS\",\"DiasCorridos\")\\\n",
    "                             .withColumnRenamed(\"REMAINING_DAYS\",\"DiasFaltantes\")\\\n",
    "                             .withColumnRenamed(\"PRICE_TYPE\",\"TIPO_DE_PRECO\")"
   ]
  },
  {
   "cell_type": "markdown",
   "metadata": {},
   "source": [
    "-------------"
   ]
  },
  {
   "cell_type": "markdown",
   "metadata": {},
   "source": [
    "# Processing Tables"
   ]
  },
  {
   "cell_type": "code",
   "execution_count": 324,
   "metadata": {},
   "outputs": [
    {
     "data": {
      "application/vnd.jupyter.widget-view+json": {
       "model_id": "d94a4f522a8a43709f700f9d8e186217",
       "version_major": 2,
       "version_minor": 0
      },
      "text/plain": [
       "VBox()"
      ]
     },
     "metadata": {},
     "output_type": "display_data"
    },
    {
     "data": {
      "application/vnd.jupyter.widget-view+json": {
       "model_id": "",
       "version_major": 2,
       "version_minor": 0
      },
      "text/plain": [
       "FloatProgress(value=0.0, bar_style='info', description='Progress:', layout=Layout(height='25px', width='50%'),…"
      ]
     },
     "metadata": {},
     "output_type": "display_data"
    }
   ],
   "source": [
    "# Creating key columns and support column from Hana Table\n",
    "df_hana = df_hana.withColumn(\"BILLING_DATE\", substring(\"BILLING_DATE\", 1, 10))\\\n",
    "                 .withColumn(\"KEY_DATE_BILL\", concat(substring(\"SALES_ORG_COD\", 3, 2)\n",
    "                                                ,col(\"MATERIAL_COD\").cast('int')\n",
    "                                                ,col(\"BRANCH\")\n",
    "                                                ,col(\"TYPE_PRICE\")\n",
    "                                                ,col(\"BILLING_DATE\")))\\\n",
    "                .withColumn(\"KEY_DATE_ORDER\", concat(substring(\"SALES_ORG_COD\", 3, 2)\n",
    "                                                ,col(\"MATERIAL_COD\").cast('int')\n",
    "                                                ,col(\"BRANCH\")\n",
    "                                                ,col(\"TYPE_PRICE\")\n",
    "                                                ,col(\"ORDER_DATE\")))\\\n",
    "                 .withColumn(\"WEEK_NUMBER_BILL\", weekofyear(\"BILLING_DATE\"))\\\n",
    "                 .withColumn(\"YEAR_NUMBER_BILL\", year(\"BILLING_DATE\"))\\\n",
    "                 .withColumn(\"KEY_WEEK_BILL\", concat(substring(\"SALES_ORG_COD\", 3, 2)\n",
    "                                                ,col(\"MATERIAL_COD\").cast('int')\n",
    "                                                ,col(\"BRANCH\")\n",
    "                                                ,col(\"TYPE_PRICE\")\n",
    "                                                ,col(\"YEAR_NUMBER_BILL\")\n",
    "                                                ,col(\"WEEK_NUMBER_BILL\")))\\\n",
    "                .withColumn(\"WEEK_NUMBER_ORDER\", weekofyear(\"ORDER_DATE\"))\\\n",
    "                 .withColumn(\"YEAR_NUMBER_ORDER\", year(\"ORDER_DATE\"))\\\n",
    "                 .withColumn(\"KEY_WEEK_ORDER\", concat(substring(\"SALES_ORG_COD\", 3, 2)\n",
    "                                                ,col(\"MATERIAL_COD\").cast('int')\n",
    "                                                ,col(\"BRANCH\")\n",
    "                                                ,col(\"TYPE_PRICE\")\n",
    "                                                ,col(\"YEAR_NUMBER_ORDER\")\n",
    "                                                ,col(\"WEEK_NUMBER_ORDER\")))\\\n",
    "                 .withColumn(\"PRACTICED_PRICE_DATE_COUNT\", col(\"PRACTICED_PRICE\"))\\\n",
    "                 .withColumn(\"PRACTICED_PRICE_DATE_AVG\", col(\"PRACTICED_PRICE\"))"
   ]
  },
  {
   "cell_type": "markdown",
   "metadata": {},
   "source": [
    "---------------"
   ]
  },
  {
   "cell_type": "markdown",
   "metadata": {},
   "source": [
    "## Creating a Grouped Data And Uniting With the Main Data Frame"
   ]
  },
  {
   "cell_type": "code",
   "execution_count": 325,
   "metadata": {},
   "outputs": [
    {
     "data": {
      "application/vnd.jupyter.widget-view+json": {
       "model_id": "a55ae13f67ea48c49fa21592547d9edb",
       "version_major": 2,
       "version_minor": 0
      },
      "text/plain": [
       "VBox()"
      ]
     },
     "metadata": {},
     "output_type": "display_data"
    },
    {
     "data": {
      "application/vnd.jupyter.widget-view+json": {
       "model_id": "",
       "version_major": 2,
       "version_minor": 0
      },
      "text/plain": [
       "FloatProgress(value=0.0, bar_style='info', description='Progress:', layout=Layout(height='25px', width='50%'),…"
      ]
     },
     "metadata": {},
     "output_type": "display_data"
    }
   ],
   "source": [
    "#If DI then we use Order Date, otherwise Billing date\n",
    "df_hana=df_hana.withColumn('KEY_DATE',\n",
    "                   when(col('SALES_ORG_COD')==\"BRDI\"\n",
    "                       ,col('KEY_DATE_ORDER')).otherwise(col('KEY_DATE_BILL')))\n",
    "\n",
    "df_hana=df_hana.withColumn('KEY_WEEK',\n",
    "                   when(col('SALES_ORG_COD')==\"BRDI\"\n",
    "                       ,col('KEY_WEEK_ORDER')).otherwise(col('KEY_WEEK_BILL')))"
   ]
  },
  {
   "cell_type": "code",
   "execution_count": 326,
   "metadata": {},
   "outputs": [
    {
     "data": {
      "application/vnd.jupyter.widget-view+json": {
       "model_id": "524d16436a0a4b1ebf89624a8a17bd0c",
       "version_major": 2,
       "version_minor": 0
      },
      "text/plain": [
       "VBox()"
      ]
     },
     "metadata": {},
     "output_type": "display_data"
    },
    {
     "data": {
      "application/vnd.jupyter.widget-view+json": {
       "model_id": "",
       "version_major": 2,
       "version_minor": 0
      },
      "text/plain": [
       "FloatProgress(value=0.0, bar_style='info', description='Progress:', layout=Layout(height='25px', width='50%'),…"
      ]
     },
     "metadata": {},
     "output_type": "display_data"
    }
   ],
   "source": [
    "# Creating a grouped data frame with \"date\" as key\n",
    "df_hana_grouped_day = df_hana.groupby(['KEY_DATE'])\\\n",
    "                         .agg({'PRACTICED_PRICE_DATE_AVG':'mean'\n",
    "                               ,'PRACTICED_PRICE_DATE_COUNT':'count'})\\\n",
    "                         .withColumnRenamed(\"KEY_DATE\",\"KEY_DATE_drop\")"
   ]
  },
  {
   "cell_type": "code",
   "execution_count": 327,
   "metadata": {},
   "outputs": [
    {
     "data": {
      "application/vnd.jupyter.widget-view+json": {
       "model_id": "e4e2272661c843d0a50ad7877bbde94c",
       "version_major": 2,
       "version_minor": 0
      },
      "text/plain": [
       "VBox()"
      ]
     },
     "metadata": {},
     "output_type": "display_data"
    },
    {
     "data": {
      "application/vnd.jupyter.widget-view+json": {
       "model_id": "",
       "version_major": 2,
       "version_minor": 0
      },
      "text/plain": [
       "FloatProgress(value=0.0, bar_style='info', description='Progress:', layout=Layout(height='25px', width='50%'),…"
      ]
     },
     "metadata": {},
     "output_type": "display_data"
    }
   ],
   "source": [
    "# Uniting data frame \"df_hana_grouped_day\" with Hana Table\n",
    "df_hana = df_hana.join(df_hana_grouped_day, df_hana.KEY_DATE==df_hana_grouped_day.KEY_DATE_drop, how='inner')\\\n",
    "                 .drop(\"PRACTICED_PRICE_DATE_COUNT\")\\\n",
    "                 .drop(\"PRACTICED_PRICE_DATE_AVG\")\\\n",
    "                 .drop(\"KEY_DATE_drop\")\\\n",
    "                 .drop(\"TYPE_PRICE\")   "
   ]
  },
  {
   "cell_type": "code",
   "execution_count": 328,
   "metadata": {},
   "outputs": [
    {
     "data": {
      "application/vnd.jupyter.widget-view+json": {
       "model_id": "e4187bf2ff2a4c81a2b6cc81640daf7b",
       "version_major": 2,
       "version_minor": 0
      },
      "text/plain": [
       "VBox()"
      ]
     },
     "metadata": {},
     "output_type": "display_data"
    },
    {
     "data": {
      "application/vnd.jupyter.widget-view+json": {
       "model_id": "",
       "version_major": 2,
       "version_minor": 0
      },
      "text/plain": [
       "FloatProgress(value=0.0, bar_style='info', description='Progress:', layout=Layout(height='25px', width='50%'),…"
      ]
     },
     "metadata": {},
     "output_type": "display_data"
    }
   ],
   "source": [
    "# Renaming some column from Hana table \n",
    "df_hana = df_hana.withColumnRenamed(\"avg(PRACTICED_PRICE_DATE_AVG)\",\"PRACTICED_PRICE_DATE_AVG\")\\\n",
    "                 .withColumnRenamed(\"count(PRACTICED_PRICE_DATE_COUNT)\",\"PRACTICED_PRICE_DATE_COUNT\")"
   ]
  },
  {
   "cell_type": "code",
   "execution_count": 329,
   "metadata": {},
   "outputs": [
    {
     "data": {
      "application/vnd.jupyter.widget-view+json": {
       "model_id": "90cd6f3df4754546b70798d4988f0369",
       "version_major": 2,
       "version_minor": 0
      },
      "text/plain": [
       "VBox()"
      ]
     },
     "metadata": {},
     "output_type": "display_data"
    },
    {
     "data": {
      "application/vnd.jupyter.widget-view+json": {
       "model_id": "",
       "version_major": 2,
       "version_minor": 0
      },
      "text/plain": [
       "FloatProgress(value=0.0, bar_style='info', description='Progress:', layout=Layout(height='25px', width='50%'),…"
      ]
     },
     "metadata": {},
     "output_type": "display_data"
    }
   ],
   "source": [
    "# Creating a grouped data frame with \"week\" as key\n",
    "df_hana_grouped_week = df_hana.groupby(['KEY_WEEK'])\\\n",
    "                              .agg({'PRACTICED_PRICE_DATE_AVG':'mean'})\\\n",
    "                              .withColumnRenamed(\"avg(PRACTICED_PRICE_DATE_AVG)\", 'PRACTICED_PRICE_WEEK_AVG')\\\n",
    "                              .withColumnRenamed(\"KEY_WEEK\",\"KEY_WEEK_drop\")"
   ]
  },
  {
   "cell_type": "code",
   "execution_count": 330,
   "metadata": {},
   "outputs": [
    {
     "data": {
      "application/vnd.jupyter.widget-view+json": {
       "model_id": "081dfac102524878843426cdef1fc6df",
       "version_major": 2,
       "version_minor": 0
      },
      "text/plain": [
       "VBox()"
      ]
     },
     "metadata": {},
     "output_type": "display_data"
    },
    {
     "data": {
      "application/vnd.jupyter.widget-view+json": {
       "model_id": "",
       "version_major": 2,
       "version_minor": 0
      },
      "text/plain": [
       "FloatProgress(value=0.0, bar_style='info', description='Progress:', layout=Layout(height='25px', width='50%'),…"
      ]
     },
     "metadata": {},
     "output_type": "display_data"
    }
   ],
   "source": [
    "# Uniting data frame \"df_hana_grouped_week\" with Hana Table\n",
    "df_hana = df_hana.join(df_hana_grouped_week, df_hana.KEY_WEEK == df_hana_grouped_week.KEY_WEEK_drop, how='inner')\\\n",
    "                 .drop(\"KEY_WEEK_drop\")"
   ]
  },
  {
   "cell_type": "code",
   "execution_count": 331,
   "metadata": {},
   "outputs": [
    {
     "data": {
      "application/vnd.jupyter.widget-view+json": {
       "model_id": "844ad441b6354af4b09015483795b261",
       "version_major": 2,
       "version_minor": 0
      },
      "text/plain": [
       "VBox()"
      ]
     },
     "metadata": {},
     "output_type": "display_data"
    },
    {
     "data": {
      "application/vnd.jupyter.widget-view+json": {
       "model_id": "",
       "version_major": 2,
       "version_minor": 0
      },
      "text/plain": [
       "FloatProgress(value=0.0, bar_style='info', description='Progress:', layout=Layout(height='25px', width='50%'),…"
      ]
     },
     "metadata": {},
     "output_type": "display_data"
    }
   ],
   "source": [
    "# Dropping unecessary columns\n",
    "df_hana = df_hana.drop(\"SALES_ORG_COD\")\\\n",
    "                 .drop(\"SALES_GROUP_DESC\")\\\n",
    "                 .drop(\"ISSUING_CITY\")\\\n",
    "                 .drop(\"MATERIAL_COD\")\\\n",
    "                 .drop(\"QUANTITY_TON\")\\\n",
    "                 .drop(\"PRACTICED_PRICE\")\\\n",
    "                 .drop(\"ZD05\")\\\n",
    "                 .drop(\"ZEAF\")\\\n",
    "                 .drop(\"BX41\")\\\n",
    "                 .drop(\"BRANCH\")\\\n",
    "                 .drop(\"YEAR_NUMBER\")"
   ]
  },
  {
   "cell_type": "code",
   "execution_count": 332,
   "metadata": {},
   "outputs": [
    {
     "data": {
      "application/vnd.jupyter.widget-view+json": {
       "model_id": "52976a17e96a4ae69e8f40ac8e50f1be",
       "version_major": 2,
       "version_minor": 0
      },
      "text/plain": [
       "VBox()"
      ]
     },
     "metadata": {},
     "output_type": "display_data"
    },
    {
     "data": {
      "application/vnd.jupyter.widget-view+json": {
       "model_id": "",
       "version_major": 2,
       "version_minor": 0
      },
      "text/plain": [
       "FloatProgress(value=0.0, bar_style='info', description='Progress:', layout=Layout(height='25px', width='50%'),…"
      ]
     },
     "metadata": {},
     "output_type": "display_data"
    }
   ],
   "source": [
    "# Dropping duplicates\n",
    "df_hana = df_hana.dropDuplicates()"
   ]
  },
  {
   "cell_type": "code",
   "execution_count": 333,
   "metadata": {},
   "outputs": [
    {
     "data": {
      "application/vnd.jupyter.widget-view+json": {
       "model_id": "bbdbccc3582948eb91813ba31f89ecbc",
       "version_major": 2,
       "version_minor": 0
      },
      "text/plain": [
       "VBox()"
      ]
     },
     "metadata": {},
     "output_type": "display_data"
    },
    {
     "data": {
      "application/vnd.jupyter.widget-view+json": {
       "model_id": "",
       "version_major": 2,
       "version_minor": 0
      },
      "text/plain": [
       "FloatProgress(value=0.0, bar_style='info', description='Progress:', layout=Layout(height='25px', width='50%'),…"
      ]
     },
     "metadata": {},
     "output_type": "display_data"
    },
    {
     "name": "stdout",
     "output_type": "stream",
     "text": [
      "DataFrame[ISSUING_STATE: string, BILLING_DATE: string, ORDER_DATE: string, KEY_DATE_BILL: string, KEY_DATE_ORDER: string, WEEK_NUMBER_BILL: int, YEAR_NUMBER_BILL: int, KEY_WEEK_BILL: string, WEEK_NUMBER_ORDER: int, YEAR_NUMBER_ORDER: int, KEY_WEEK_ORDER: string, KEY_DATE: string, KEY_WEEK: string, PRACTICED_PRICE_DATE_AVG: double, PRACTICED_PRICE_DATE_COUNT: bigint, PRACTICED_PRICE_WEEK_AVG: double]"
     ]
    }
   ],
   "source": [
    "df_hana.write.partitionBy(144);\n",
    "df_hana = df_hana.repartition(144);\n",
    "df_hana.persist(pyspark.StorageLevel.MEMORY_ONLY)"
   ]
  },
  {
   "cell_type": "markdown",
   "metadata": {},
   "source": [
    "----------------"
   ]
  },
  {
   "cell_type": "markdown",
   "metadata": {},
   "source": [
    "# Inserting New Lines"
   ]
  },
  {
   "cell_type": "code",
   "execution_count": 334,
   "metadata": {},
   "outputs": [
    {
     "data": {
      "application/vnd.jupyter.widget-view+json": {
       "model_id": "400c4cb36fd64ac9b22531028d4a584b",
       "version_major": 2,
       "version_minor": 0
      },
      "text/plain": [
       "VBox()"
      ]
     },
     "metadata": {},
     "output_type": "display_data"
    },
    {
     "data": {
      "application/vnd.jupyter.widget-view+json": {
       "model_id": "",
       "version_major": 2,
       "version_minor": 0
      },
      "text/plain": [
       "FloatProgress(value=0.0, bar_style='info', description='Progress:', layout=Layout(height='25px', width='50%'),…"
      ]
     },
     "metadata": {},
     "output_type": "display_data"
    }
   ],
   "source": [
    "# Creating data frame \"df_competitors\" with Hana Table\n",
    "df_out = df_competitors.join(df_hana, on=[\"KEY_DATE\"], how='left_anti')\\"
   ]
  },
  {
   "cell_type": "code",
   "execution_count": 335,
   "metadata": {},
   "outputs": [
    {
     "data": {
      "application/vnd.jupyter.widget-view+json": {
       "model_id": "e47ec16b364749ffa61d6e32ca63e394",
       "version_major": 2,
       "version_minor": 0
      },
      "text/plain": [
       "VBox()"
      ]
     },
     "metadata": {},
     "output_type": "display_data"
    },
    {
     "data": {
      "application/vnd.jupyter.widget-view+json": {
       "model_id": "",
       "version_major": 2,
       "version_minor": 0
      },
      "text/plain": [
       "FloatProgress(value=0.0, bar_style='info', description='Progress:', layout=Layout(height='25px', width='50%'),…"
      ]
     },
     "metadata": {},
     "output_type": "display_data"
    }
   ],
   "source": [
    "# Creating new columns with the same name from df_hana.\n",
    "df_out = df_out.withColumn(\"BILLING_DATE\", col(\"TIMESTAMP\"))\\\n",
    "                 .withColumn(\"KEY_DATE\", concat(col(\"OVAjustada\")\n",
    "                                                ,col(\"COD_PRODUCT\")\n",
    "                                                ,col(\"Filial\")\n",
    "                                                ,replace_some_space(\"TIPO_DE_PRECO\")\n",
    "                                                ,col(\"TIMESTAMP\")))\\\n",
    "                 .withColumn(\"WEEK_NUMBER\", weekofyear(\"BILLING_DATE\"))\\\n",
    "                 .withColumn(\"YEAR_NUMBER\", year(\"BILLING_DATE\"))\\\n",
    "                 .withColumn(\"KEY_WEEK\", concat(col(\"OVAjustada\")\n",
    "                                                ,col(\"COD_PRODUCT\")\n",
    "                                                ,col(\"Filial\")\n",
    "                                                ,col(\"YEAR_NUMBER\")\n",
    "                                                ,col(\"WEEK_NUMBER\")))\\"
   ]
  },
  {
   "cell_type": "code",
   "execution_count": 336,
   "metadata": {},
   "outputs": [
    {
     "data": {
      "application/vnd.jupyter.widget-view+json": {
       "model_id": "d304b11c4747497bbd453792699b77ca",
       "version_major": 2,
       "version_minor": 0
      },
      "text/plain": [
       "VBox()"
      ]
     },
     "metadata": {},
     "output_type": "display_data"
    },
    {
     "data": {
      "application/vnd.jupyter.widget-view+json": {
       "model_id": "",
       "version_major": 2,
       "version_minor": 0
      },
      "text/plain": [
       "FloatProgress(value=0.0, bar_style='info', description='Progress:', layout=Layout(height='25px', width='50%'),…"
      ]
     },
     "metadata": {},
     "output_type": "display_data"
    }
   ],
   "source": [
    "# Selecting just the necessary columns\n",
    "df_out=df_out.select(\"BILLING_DATE\", \"KEY_DATE\",\"KEY_WEEK\")"
   ]
  },
  {
   "cell_type": "code",
   "execution_count": 337,
   "metadata": {},
   "outputs": [
    {
     "data": {
      "application/vnd.jupyter.widget-view+json": {
       "model_id": "87489533a8d4452ca4ff32e90a8937ee",
       "version_major": 2,
       "version_minor": 0
      },
      "text/plain": [
       "VBox()"
      ]
     },
     "metadata": {},
     "output_type": "display_data"
    },
    {
     "data": {
      "application/vnd.jupyter.widget-view+json": {
       "model_id": "",
       "version_major": 2,
       "version_minor": 0
      },
      "text/plain": [
       "FloatProgress(value=0.0, bar_style='info', description='Progress:', layout=Layout(height='25px', width='50%'),…"
      ]
     },
     "metadata": {},
     "output_type": "display_data"
    }
   ],
   "source": [
    "# Creating unused columns\n",
    "df_out=df_out.withColumn(\"PRACTICED_PRICE_DATE_AVG\",lit(\"0\"))\\\n",
    "             .withColumn(\"PRACTICED_PRICE_DATE_COUNT\",lit(\"0\"))\\\n",
    "             .withColumn(\"PRACTICED_PRICE_WEEK_AVG\",lit(\"0\"))"
   ]
  },
  {
   "cell_type": "code",
   "execution_count": 338,
   "metadata": {},
   "outputs": [
    {
     "data": {
      "application/vnd.jupyter.widget-view+json": {
       "model_id": "ca9e3fa9c9014f7fba474a287c140265",
       "version_major": 2,
       "version_minor": 0
      },
      "text/plain": [
       "VBox()"
      ]
     },
     "metadata": {},
     "output_type": "display_data"
    },
    {
     "data": {
      "application/vnd.jupyter.widget-view+json": {
       "model_id": "",
       "version_major": 2,
       "version_minor": 0
      },
      "text/plain": [
       "FloatProgress(value=0.0, bar_style='info', description='Progress:', layout=Layout(height='25px', width='50%'),…"
      ]
     },
     "metadata": {},
     "output_type": "display_data"
    }
   ],
   "source": [
    "df_hana=df_hana.drop('KEY_DATE_BILL'\n",
    "                    ,'KEY_DATE_ORDER'\n",
    "                    ,'KEY_WEEK_ORDER'\n",
    "                    ,'KEY_WEEK_BILL'\n",
    "                    ,'ORDER_DATE'\n",
    "                    ,'WEEK_NUMBER_BILL'\n",
    "                    ,'YEAR_NUMBER_BILL'\n",
    "                    ,'WEEK_NUMBER_ORDER'\n",
    "                    ,'YEAR_NUMBER_ORDER'\n",
    "                    ,'ISSUING_STATE')"
   ]
  },
  {
   "cell_type": "code",
   "execution_count": 339,
   "metadata": {},
   "outputs": [
    {
     "data": {
      "application/vnd.jupyter.widget-view+json": {
       "model_id": "d449767385ac4c1b93b98a2ebf789f73",
       "version_major": 2,
       "version_minor": 0
      },
      "text/plain": [
       "VBox()"
      ]
     },
     "metadata": {},
     "output_type": "display_data"
    },
    {
     "data": {
      "application/vnd.jupyter.widget-view+json": {
       "model_id": "",
       "version_major": 2,
       "version_minor": 0
      },
      "text/plain": [
       "FloatProgress(value=0.0, bar_style='info', description='Progress:', layout=Layout(height='25px', width='50%'),…"
      ]
     },
     "metadata": {},
     "output_type": "display_data"
    }
   ],
   "source": [
    "# Unitting df_out with df_hana while using the columns name \n",
    "df_hana=df_hana.unionByName(df_out)"
   ]
  },
  {
   "cell_type": "code",
   "execution_count": 340,
   "metadata": {},
   "outputs": [
    {
     "data": {
      "application/vnd.jupyter.widget-view+json": {
       "model_id": "18008a4c66c54f81943965749f994e2f",
       "version_major": 2,
       "version_minor": 0
      },
      "text/plain": [
       "VBox()"
      ]
     },
     "metadata": {},
     "output_type": "display_data"
    },
    {
     "data": {
      "application/vnd.jupyter.widget-view+json": {
       "model_id": "",
       "version_major": 2,
       "version_minor": 0
      },
      "text/plain": [
       "FloatProgress(value=0.0, bar_style='info', description='Progress:', layout=Layout(height='25px', width='50%'),…"
      ]
     },
     "metadata": {},
     "output_type": "display_data"
    }
   ],
   "source": [
    "df_hana=df_hana.withColumn(\"PRACTICED_PRICE_DATE_AVG\",when(df_hana.PRACTICED_PRICE_DATE_AVG.isNull(),lit(\"0\"))\\\n",
    "                                                      .otherwise(df_hana.PRACTICED_PRICE_DATE_AVG))\\\n",
    "               .withColumn(\"PRACTICED_PRICE_DATE_COUNT\",when(df_hana.PRACTICED_PRICE_DATE_COUNT.isNull(),lit(\"0\"))\\\n",
    "                                                      .otherwise(df_hana.PRACTICED_PRICE_DATE_COUNT))\\\n",
    "               .withColumn(\"PRACTICED_PRICE_WEEK_AVG\",when(df_hana.PRACTICED_PRICE_WEEK_AVG.isNull(),lit(\"0\"))\\\n",
    "                                                      .otherwise(df_hana.PRACTICED_PRICE_WEEK_AVG))\\"
   ]
  },
  {
   "cell_type": "markdown",
   "metadata": {},
   "source": [
    "# Uploading Table\n"
   ]
  },
  {
   "cell_type": "code",
   "execution_count": 342,
   "metadata": {},
   "outputs": [
    {
     "data": {
      "application/vnd.jupyter.widget-view+json": {
       "model_id": "c5b60f9aad834a3fb5cbaebc0534bed2",
       "version_major": 2,
       "version_minor": 0
      },
      "text/plain": [
       "VBox()"
      ]
     },
     "metadata": {},
     "output_type": "display_data"
    },
    {
     "data": {
      "application/vnd.jupyter.widget-view+json": {
       "model_id": "",
       "version_major": 2,
       "version_minor": 0
      },
      "text/plain": [
       "FloatProgress(value=0.0, bar_style='info', description='Progress:', layout=Layout(height='25px', width='50%'),…"
      ]
     },
     "metadata": {},
     "output_type": "display_data"
    }
   ],
   "source": [
    "df_hana.write.parquet(\"s3a://\"+SPG_OUTPUT_BUCKET+\"/\"+SPG_OUTPUT_BUCKET_HANA, mode = \"overwrite\")"
   ]
  },
  {
   "cell_type": "code",
   "execution_count": null,
   "metadata": {},
   "outputs": [],
   "source": []
  }
 ],
 "metadata": {
  "kernelspec": {
   "display_name": "Python 3",
   "language": "python",
   "name": "python3"
  },
  "language_info": {
   "codemirror_mode": {
    "name": "ipython",
    "version": 3
   },
   "file_extension": ".py",
   "mimetype": "text/x-python",
   "name": "python",
   "nbconvert_exporter": "python",
   "pygments_lexer": "ipython3",
   "version": "3.7.5"
  }
 },
 "nbformat": 4,
 "nbformat_minor": 2
}
