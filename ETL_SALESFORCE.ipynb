{
 "cells": [
  {
   "cell_type": "markdown",
   "metadata": {},
   "source": [
    "# Importing Libraries"
   ]
  },
  {
   "cell_type": "code",
   "execution_count": 1,
   "metadata": {},
   "outputs": [
    {
     "data": {
      "text/html": [
       "Current session configs: <tt>{'conf': {'spark.pyspark.python': 'python27', 'spark.pyspark.virtualenv.enabled': 'true', 'spark.pyspark.virtualenv.type': 'native', 'spark.pyspark.virtualenv.bin.path': '/usr/bin/virtualenv'}, 'kind': 'pyspark'}</tt><br>"
      ],
      "text/plain": [
       "<IPython.core.display.HTML object>"
      ]
     },
     "metadata": {},
     "output_type": "display_data"
    },
    {
     "data": {
      "text/html": [
       "<table>\n",
       "<tr><th>ID</th><th>YARN Application ID</th><th>Kind</th><th>State</th><th>Spark UI</th><th>Driver log</th><th>Current session?</th></tr><tr><td>1</td><td>application_1579518465739_0002</td><td>pyspark</td><td>idle</td><td><a target=\"_blank\" href=\"http://ip-172-31-26-149.us-east-2.compute.internal:20888/proxy/application_1579518465739_0002/\">Link</a></td><td><a target=\"_blank\" href=\"http://ip-172-31-26-44.us-east-2.compute.internal:8042/node/containerlogs/container_1579518465739_0002_01_000001/livy\">Link</a></td><td></td></tr><tr><td>2</td><td>application_1579518465739_0003</td><td>pyspark</td><td>idle</td><td><a target=\"_blank\" href=\"http://ip-172-31-26-149.us-east-2.compute.internal:20888/proxy/application_1579518465739_0003/\">Link</a></td><td><a target=\"_blank\" href=\"http://ip-172-31-22-245.us-east-2.compute.internal:8042/node/containerlogs/container_1579518465739_0003_01_000001/livy\">Link</a></td><td></td></tr></table>"
      ],
      "text/plain": [
       "<IPython.core.display.HTML object>"
      ]
     },
     "metadata": {},
     "output_type": "display_data"
    }
   ],
   "source": [
    "%%configure -f\n",
    "{ \"conf\":{\n",
    "\"spark.pyspark.python\": \"python27\",\n",
    "\"spark.pyspark.virtualenv.enabled\": \"true\",\n",
    "\"spark.pyspark.virtualenv.type\":\"native\",\n",
    "\"spark.pyspark.virtualenv.bin.path\":\"/usr/bin/virtualenv\"\n",
    "}}"
   ]
  },
  {
   "cell_type": "code",
   "execution_count": 2,
   "metadata": {
    "scrolled": false
   },
   "outputs": [
    {
     "data": {
      "application/vnd.jupyter.widget-view+json": {
       "model_id": "7fa54987fb4d432c969edc2d4cb70461",
       "version_major": 2,
       "version_minor": 0
      },
      "text/plain": [
       "VBox()"
      ]
     },
     "metadata": {},
     "output_type": "display_data"
    },
    {
     "name": "stdout",
     "output_type": "stream",
     "text": [
      "Starting Spark application\n"
     ]
    },
    {
     "data": {
      "text/html": [
       "<table>\n",
       "<tr><th>ID</th><th>YARN Application ID</th><th>Kind</th><th>State</th><th>Spark UI</th><th>Driver log</th><th>Current session?</th></tr><tr><td>3</td><td>application_1579518465739_0004</td><td>pyspark</td><td>idle</td><td><a target=\"_blank\" href=\"http://ip-172-31-26-149.us-east-2.compute.internal:20888/proxy/application_1579518465739_0004/\">Link</a></td><td><a target=\"_blank\" href=\"http://ip-172-31-22-245.us-east-2.compute.internal:8042/node/containerlogs/container_1579518465739_0004_01_000001/livy\">Link</a></td><td>✔</td></tr></table>"
      ],
      "text/plain": [
       "<IPython.core.display.HTML object>"
      ]
     },
     "metadata": {},
     "output_type": "display_data"
    },
    {
     "data": {
      "application/vnd.jupyter.widget-view+json": {
       "model_id": "",
       "version_major": 2,
       "version_minor": 0
      },
      "text/plain": [
       "FloatProgress(value=0.0, bar_style='info', description='Progress:', layout=Layout(height='25px', width='50%'),…"
      ]
     },
     "metadata": {},
     "output_type": "display_data"
    },
    {
     "name": "stdout",
     "output_type": "stream",
     "text": [
      "SparkSession available as 'spark'.\n"
     ]
    },
    {
     "data": {
      "application/vnd.jupyter.widget-view+json": {
       "model_id": "",
       "version_major": 2,
       "version_minor": 0
      },
      "text/plain": [
       "FloatProgress(value=0.0, bar_style='info', description='Progress:', layout=Layout(height='25px', width='50%'),…"
      ]
     },
     "metadata": {},
     "output_type": "display_data"
    }
   ],
   "source": [
    "import findspark                                      #Import library to Search for Spark Installation  \n",
    "\n",
    "findspark.init()                                      #Search Spark Installation\n",
    "\n",
    "from pyspark.sql import SparkSession                  #Import of Spark Session\n",
    "from pyspark.sql import Row\n",
    "from pyspark import SparkContext as spark             #Import the Regular Spark Contex\n",
    "from pyspark.sql.functions import *\n",
    "from pyspark.sql.types import DateType\n",
    "spark = SparkSession.builder.getOrCreate()\n",
    "from pyspark.sql.types import IntegerType\n",
    "import os\n",
    "\n",
    "sc = spark.sparkContext                               #Initialize Spark"
   ]
  },
  {
   "cell_type": "markdown",
   "metadata": {},
   "source": [
    "-----------------------"
   ]
  },
  {
   "cell_type": "markdown",
   "metadata": {},
   "source": [
    "# Creating Variables"
   ]
  },
  {
   "cell_type": "markdown",
   "metadata": {},
   "source": [
    "## Buckets"
   ]
  },
  {
   "cell_type": "code",
   "execution_count": null,
   "metadata": {},
   "outputs": [],
   "source": [
    "SPG_MANUAL_INPUT_BUCKET = os.environ['MANUAL_INPUT_BUCKET']"
   ]
  },
  {
   "cell_type": "code",
   "execution_count": null,
   "metadata": {},
   "outputs": [],
   "source": [
    "SPG_INTEGRATION_INPUT_BUCKET = os.environ['INTEGRATION_INPUT_BUCKET']"
   ]
  },
  {
   "cell_type": "code",
   "execution_count": null,
   "metadata": {},
   "outputs": [],
   "source": [
    "SPG_QUERY_BUCKET = os.environ['QUERY_BUCKET']"
   ]
  },
  {
   "cell_type": "code",
   "execution_count": null,
   "metadata": {},
   "outputs": [],
   "source": [
    "GERDAU_BUCKET = os.environ['GERDAU_BUCKET']"
   ]
  },
  {
   "cell_type": "code",
   "execution_count": null,
   "metadata": {},
   "outputs": [],
   "source": [
    "SPG_OUTPUT_BUCKET = os.environ['OUTPUT_BUCKET']"
   ]
  },
  {
   "cell_type": "code",
   "execution_count": null,
   "metadata": {},
   "outputs": [],
   "source": [
    "SPG_INPUT_BUCKET = os.environ['INPUT_BUCKET_FROM_OUTPUT']"
   ]
  },
  {
   "cell_type": "markdown",
   "metadata": {},
   "source": [
    "## Input Paths"
   ]
  },
  {
   "cell_type": "code",
   "execution_count": null,
   "metadata": {},
   "outputs": [],
   "source": [
    "GERDAU_BUCKET_SF_COMPETITOR = \"salesforce/br/informacoes_concorrente_c/\""
   ]
  },
  {
   "cell_type": "code",
   "execution_count": null,
   "metadata": {},
   "outputs": [],
   "source": [
    "GERDAU_BUCKET_SF_SHARE = \"salesforce/br/market_Share_c/\""
   ]
  },
  {
   "cell_type": "code",
   "execution_count": null,
   "metadata": {},
   "outputs": [],
   "source": [
    "GERDAU_BUCKET_SF_PRODUCTS = \"salesforce/br/product2/\""
   ]
  },
  {
   "cell_type": "code",
   "execution_count": null,
   "metadata": {},
   "outputs": [],
   "source": [
    "GERDAU_BUCKET_SF_USER = \"salesforce/br/user/\""
   ]
  },
  {
   "cell_type": "code",
   "execution_count": null,
   "metadata": {},
   "outputs": [],
   "source": [
    "GERDAU_BUCKET_SF_ACCOUNT = \"salesforce/br/Account/\""
   ]
  },
  {
   "cell_type": "code",
   "execution_count": null,
   "metadata": {},
   "outputs": [],
   "source": [
    "SPG_INTEGRATION_INPUT_BUCKET_REGION = \"SPG_DIMENSIONS/SPG_REGIOES/SPG_RG_REGIOES/SPG_RG_REGIOES.parquet\""
   ]
  },
  {
   "cell_type": "code",
   "execution_count": null,
   "metadata": {},
   "outputs": [],
   "source": [
    "SPG_INTEGRATION_INPUT_BUCKET_PRODUCTS = \"SPG_DIMENSIONS/SPG_PRODUTOS/SPG_PD_PRODUTOS.parquet\""
   ]
  },
  {
   "cell_type": "code",
   "execution_count": null,
   "metadata": {},
   "outputs": [],
   "source": [
    "SPG_INTEGRATION_INPUT_BUCKET_CLIENTS = \"SPG_DIMENSIONS/SPG_CLIENTES/SPG_CL_CLIENTES/SPG_CL_CLIENTES.parquet\""
   ]
  },
  {
   "cell_type": "code",
   "execution_count": null,
   "metadata": {},
   "outputs": [],
   "source": [
    "SPG_INPUT_BUCKET_AGENTS = \"SGP_PRICE_COLLECT/SPG_PC_AGENTS/tb_SPG_PC_AGENTS_GPD.parquet\""
   ]
  },
  {
   "cell_type": "code",
   "execution_count": null,
   "metadata": {},
   "outputs": [],
   "source": [
    "SPG_MANUAL_INPUT_BUCKET_CONDITIONS = \"SPG_GLOBAL/INPUT/tb_SPG_CONDICAO.csv\""
   ]
  },
  {
   "cell_type": "markdown",
   "metadata": {},
   "source": [
    "## Output Paths"
   ]
  },
  {
   "cell_type": "code",
   "execution_count": null,
   "metadata": {},
   "outputs": [],
   "source": [
    "SPG_OUTPUT_BUCKET_SALESFORCE = \"SGP_PRICE_COLLECT/SPG_PC_SALESFORCE.parquet\""
   ]
  },
  {
   "cell_type": "markdown",
   "metadata": {},
   "source": [
    "-------------"
   ]
  },
  {
   "cell_type": "markdown",
   "metadata": {},
   "source": [
    "# Creating Defined Functions"
   ]
  },
  {
   "cell_type": "code",
   "execution_count": 13,
   "metadata": {},
   "outputs": [
    {
     "data": {
      "application/vnd.jupyter.widget-view+json": {
       "model_id": "2ec8e96328a44bb9ae45a4cbda7766fc",
       "version_major": 2,
       "version_minor": 0
      },
      "text/plain": [
       "VBox()"
      ]
     },
     "metadata": {},
     "output_type": "display_data"
    },
    {
     "data": {
      "application/vnd.jupyter.widget-view+json": {
       "model_id": "",
       "version_major": 2,
       "version_minor": 0
      },
      "text/plain": [
       "FloatProgress(value=0.0, bar_style='info', description='Progress:', layout=Layout(height='25px', width='50%'),…"
      ]
     },
     "metadata": {},
     "output_type": "display_data"
    }
   ],
   "source": [
    "# Replacing Special Characters\n",
    "def remove_some_accents(col_name):\n",
    "    removed_array = [('Á', 'A'), ('Ã', 'A'),('À', 'A'),('Â', 'A'),('Ä', 'A'),\n",
    "                    ('É', 'E'),('È', 'E'),('Ê', 'E'),('Ë', 'E'),\n",
    "                    ('Í', 'I'),('Ì', 'I'),('Î', 'I'),('Ï', 'I'),\n",
    "                    ('Ó', 'O'),('Õ', 'O'), ('Ò', 'O'),('Ô', 'O'),('Ö', 'O'),\n",
    "                    ('Ú', 'U'),('Ù', 'U'),('Û', 'U'),('Ü', 'U'),\n",
    "                    ('Ç', 'C')]\n",
    "    r = col_name\n",
    "    for a, b in removed_array:\n",
    "        r = regexp_replace(r, a, b)\n",
    "    return r"
   ]
  },
  {
   "cell_type": "code",
   "execution_count": 14,
   "metadata": {},
   "outputs": [
    {
     "data": {
      "application/vnd.jupyter.widget-view+json": {
       "model_id": "9cb75d293d004c73befd693e06d59824",
       "version_major": 2,
       "version_minor": 0
      },
      "text/plain": [
       "VBox()"
      ]
     },
     "metadata": {},
     "output_type": "display_data"
    },
    {
     "data": {
      "application/vnd.jupyter.widget-view+json": {
       "model_id": "",
       "version_major": 2,
       "version_minor": 0
      },
      "text/plain": [
       "FloatProgress(value=0.0, bar_style='info', description='Progress:', layout=Layout(height='25px', width='50%'),…"
      ]
     },
     "metadata": {},
     "output_type": "display_data"
    }
   ],
   "source": [
    "# Replacing hifens by /\n",
    "def remove_some_hifen(col_name):\n",
    "    removed_chars = (\"-\")\n",
    "    regexp = \"|\".join('\\{0}'.format(i) for i in removed_chars)\n",
    "    return regexp_replace(col_name, regexp, \"/\")"
   ]
  },
  {
   "cell_type": "code",
   "execution_count": 15,
   "metadata": {},
   "outputs": [
    {
     "data": {
      "application/vnd.jupyter.widget-view+json": {
       "model_id": "b88e33a24ce54e4c8568b96094006b93",
       "version_major": 2,
       "version_minor": 0
      },
      "text/plain": [
       "VBox()"
      ]
     },
     "metadata": {},
     "output_type": "display_data"
    },
    {
     "data": {
      "application/vnd.jupyter.widget-view+json": {
       "model_id": "",
       "version_major": 2,
       "version_minor": 0
      },
      "text/plain": [
       "FloatProgress(value=0.0, bar_style='info', description='Progress:', layout=Layout(height='25px', width='50%'),…"
      ]
     },
     "metadata": {},
     "output_type": "display_data"
    }
   ],
   "source": [
    "# Replacing dots by /\n",
    "def remove_some_dots(col_name):\n",
    "    removed_chars = (\".\")\n",
    "    regexp = \"|\".join('\\{0}'.format(i) for i in removed_chars)\n",
    "    return regexp_replace(col_name, regexp, \"/\")"
   ]
  },
  {
   "cell_type": "code",
   "execution_count": 16,
   "metadata": {},
   "outputs": [
    {
     "data": {
      "application/vnd.jupyter.widget-view+json": {
       "model_id": "805c22102fae484eb570bcaf2abb2027",
       "version_major": 2,
       "version_minor": 0
      },
      "text/plain": [
       "VBox()"
      ]
     },
     "metadata": {},
     "output_type": "display_data"
    },
    {
     "data": {
      "application/vnd.jupyter.widget-view+json": {
       "model_id": "",
       "version_major": 2,
       "version_minor": 0
      },
      "text/plain": [
       "FloatProgress(value=0.0, bar_style='info', description='Progress:', layout=Layout(height='25px', width='50%'),…"
      ]
     },
     "metadata": {},
     "output_type": "display_data"
    }
   ],
   "source": [
    "# Removing hifens\n",
    "def replace_some_hifen(col_name):\n",
    "    removed_chars = (\"-\")\n",
    "    regexp = \"|\".join('\\{0}'.format(i) for i in removed_chars)\n",
    "    return regexp_replace(col_name, regexp, \"\")"
   ]
  },
  {
   "cell_type": "code",
   "execution_count": 17,
   "metadata": {},
   "outputs": [
    {
     "data": {
      "application/vnd.jupyter.widget-view+json": {
       "model_id": "02336b1a479e4b458b6bd78c5d81a844",
       "version_major": 2,
       "version_minor": 0
      },
      "text/plain": [
       "VBox()"
      ]
     },
     "metadata": {},
     "output_type": "display_data"
    },
    {
     "data": {
      "application/vnd.jupyter.widget-view+json": {
       "model_id": "",
       "version_major": 2,
       "version_minor": 0
      },
      "text/plain": [
       "FloatProgress(value=0.0, bar_style='info', description='Progress:', layout=Layout(height='25px', width='50%'),…"
      ]
     },
     "metadata": {},
     "output_type": "display_data"
    }
   ],
   "source": [
    "# Removing spaces\n",
    "def replace_some_space(col_name):\n",
    "    removed_chars = (\" \")\n",
    "    regexp = \"|\".join('\\{0}'.format(i) for i in removed_chars)\n",
    "    return regexp_replace(col_name, regexp, \"\")"
   ]
  },
  {
   "cell_type": "code",
   "execution_count": 18,
   "metadata": {},
   "outputs": [
    {
     "data": {
      "application/vnd.jupyter.widget-view+json": {
       "model_id": "dd93c1dccf184e3eb4000a7c46ff6b18",
       "version_major": 2,
       "version_minor": 0
      },
      "text/plain": [
       "VBox()"
      ]
     },
     "metadata": {},
     "output_type": "display_data"
    },
    {
     "data": {
      "application/vnd.jupyter.widget-view+json": {
       "model_id": "",
       "version_major": 2,
       "version_minor": 0
      },
      "text/plain": [
       "FloatProgress(value=0.0, bar_style='info', description='Progress:', layout=Layout(height='25px', width='50%'),…"
      ]
     },
     "metadata": {},
     "output_type": "display_data"
    }
   ],
   "source": [
    "# Removing apostrophes\n",
    "def replace_some_apostrophe(col_name):\n",
    "    removed_chars = (\"'\")\n",
    "    regexp = \"|\".join('\\{0}'.format(i) for i in removed_chars)\n",
    "    return regexp_replace(col_name, regexp, \"\")"
   ]
  },
  {
   "cell_type": "code",
   "execution_count": null,
   "metadata": {},
   "outputs": [],
   "source": [
    "def remove_some_comas(col_name):\n",
    "    removed_chars = (\",\")\n",
    "    regexp = \"|\".join('\\{0}'.format(i) for i in removed_chars)\n",
    "    return regexp_replace(col_name, regexp, \".\")"
   ]
  },
  {
   "cell_type": "markdown",
   "metadata": {},
   "source": [
    "-------------"
   ]
  },
  {
   "cell_type": "markdown",
   "metadata": {},
   "source": [
    "# Importing Tables"
   ]
  },
  {
   "cell_type": "code",
   "execution_count": 3,
   "metadata": {},
   "outputs": [
    {
     "data": {
      "application/vnd.jupyter.widget-view+json": {
       "model_id": "442c8ea3c70d42cf942fb6be75317c5f",
       "version_major": 2,
       "version_minor": 0
      },
      "text/plain": [
       "VBox()"
      ]
     },
     "metadata": {},
     "output_type": "display_data"
    },
    {
     "data": {
      "application/vnd.jupyter.widget-view+json": {
       "model_id": "",
       "version_major": 2,
       "version_minor": 0
      },
      "text/plain": [
       "FloatProgress(value=0.0, bar_style='info', description='Progress:', layout=Layout(height='25px', width='50%'),…"
      ]
     },
     "metadata": {},
     "output_type": "display_data"
    }
   ],
   "source": [
    "# Salesforce Competitors Information\n",
    "DF_INF_COMPETITOR = spark.read.parquet(\"s3a://\"+GERDAU_BUCKET+\"/\"+GERDAU_BUCKET_SF_COMPETITOR)"
   ]
  },
  {
   "cell_type": "code",
   "execution_count": 4,
   "metadata": {},
   "outputs": [
    {
     "data": {
      "application/vnd.jupyter.widget-view+json": {
       "model_id": "ba41aadc118b4074bd24176a49a021e1",
       "version_major": 2,
       "version_minor": 0
      },
      "text/plain": [
       "VBox()"
      ]
     },
     "metadata": {},
     "output_type": "display_data"
    },
    {
     "data": {
      "application/vnd.jupyter.widget-view+json": {
       "model_id": "",
       "version_major": 2,
       "version_minor": 0
      },
      "text/plain": [
       "FloatProgress(value=0.0, bar_style='info', description='Progress:', layout=Layout(height='25px', width='50%'),…"
      ]
     },
     "metadata": {},
     "output_type": "display_data"
    }
   ],
   "source": [
    "# Salesforce Market Share\n",
    "DF_MARKET_SHARE = spark.read.parquet(\"s3a://\"+GERDAU_BUCKET+\"/\"+GERDAU_BUCKET_SF_SHARE)"
   ]
  },
  {
   "cell_type": "code",
   "execution_count": 5,
   "metadata": {},
   "outputs": [
    {
     "data": {
      "application/vnd.jupyter.widget-view+json": {
       "model_id": "d363ad3cf6be4a75abf859123172dd25",
       "version_major": 2,
       "version_minor": 0
      },
      "text/plain": [
       "VBox()"
      ]
     },
     "metadata": {},
     "output_type": "display_data"
    },
    {
     "data": {
      "application/vnd.jupyter.widget-view+json": {
       "model_id": "",
       "version_major": 2,
       "version_minor": 0
      },
      "text/plain": [
       "FloatProgress(value=0.0, bar_style='info', description='Progress:', layout=Layout(height='25px', width='50%'),…"
      ]
     },
     "metadata": {},
     "output_type": "display_data"
    }
   ],
   "source": [
    "# Salesforce Products Information\n",
    "DF_PRODUCT = spark.read.parquet(\"s3a://\"+GERDAU_BUCKET+\"/\"+GERDAU_BUCKET_SF_PRODUCTS)"
   ]
  },
  {
   "cell_type": "code",
   "execution_count": 6,
   "metadata": {},
   "outputs": [
    {
     "data": {
      "application/vnd.jupyter.widget-view+json": {
       "model_id": "630cd76484ae494899ab1184169cd466",
       "version_major": 2,
       "version_minor": 0
      },
      "text/plain": [
       "VBox()"
      ]
     },
     "metadata": {},
     "output_type": "display_data"
    },
    {
     "data": {
      "application/vnd.jupyter.widget-view+json": {
       "model_id": "",
       "version_major": 2,
       "version_minor": 0
      },
      "text/plain": [
       "FloatProgress(value=0.0, bar_style='info', description='Progress:', layout=Layout(height='25px', width='50%'),…"
      ]
     },
     "metadata": {},
     "output_type": "display_data"
    }
   ],
   "source": [
    "# Salesforce Users Information\n",
    "DF_USER = spark.read.parquet(\"s3a://\"+GERDAU_BUCKET+\"/\"+GERDAU_BUCKET_SF_USER)"
   ]
  },
  {
   "cell_type": "code",
   "execution_count": 7,
   "metadata": {},
   "outputs": [
    {
     "data": {
      "application/vnd.jupyter.widget-view+json": {
       "model_id": "3f3dc0103eef40169401d7e358cc1c46",
       "version_major": 2,
       "version_minor": 0
      },
      "text/plain": [
       "VBox()"
      ]
     },
     "metadata": {},
     "output_type": "display_data"
    },
    {
     "data": {
      "application/vnd.jupyter.widget-view+json": {
       "model_id": "",
       "version_major": 2,
       "version_minor": 0
      },
      "text/plain": [
       "FloatProgress(value=0.0, bar_style='info', description='Progress:', layout=Layout(height='25px', width='50%'),…"
      ]
     },
     "metadata": {},
     "output_type": "display_data"
    }
   ],
   "source": [
    "# Salesforce Account Information\n",
    "DF_ACCOUNT = spark.read.parquet(\"s3a://\"+GERDAU_BUCKET+\"/\"+GERDAU_BUCKET_SF_ACCOUNT)"
   ]
  },
  {
   "cell_type": "code",
   "execution_count": 8,
   "metadata": {},
   "outputs": [
    {
     "data": {
      "application/vnd.jupyter.widget-view+json": {
       "model_id": "7192fb79209b4e56ad64ee1a0deec871",
       "version_major": 2,
       "version_minor": 0
      },
      "text/plain": [
       "VBox()"
      ]
     },
     "metadata": {},
     "output_type": "display_data"
    },
    {
     "data": {
      "application/vnd.jupyter.widget-view+json": {
       "model_id": "",
       "version_major": 2,
       "version_minor": 0
      },
      "text/plain": [
       "FloatProgress(value=0.0, bar_style='info', description='Progress:', layout=Layout(height='25px', width='50%'),…"
      ]
     },
     "metadata": {},
     "output_type": "display_data"
    }
   ],
   "source": [
    "# SPG Regions\n",
    "DF_FILIAL = spark.read.parquet(\"s3a://\"+SPG_INTEGRATION_INPUT_BUCKET+\"/\"+SPG_INTEGRATION_INPUT_BUCKET_REGION)"
   ]
  },
  {
   "cell_type": "code",
   "execution_count": 9,
   "metadata": {},
   "outputs": [
    {
     "data": {
      "application/vnd.jupyter.widget-view+json": {
       "model_id": "1f204e1553e8446b9eaea6a4fdccd23c",
       "version_major": 2,
       "version_minor": 0
      },
      "text/plain": [
       "VBox()"
      ]
     },
     "metadata": {},
     "output_type": "display_data"
    },
    {
     "data": {
      "application/vnd.jupyter.widget-view+json": {
       "model_id": "",
       "version_major": 2,
       "version_minor": 0
      },
      "text/plain": [
       "FloatProgress(value=0.0, bar_style='info', description='Progress:', layout=Layout(height='25px', width='50%'),…"
      ]
     },
     "metadata": {},
     "output_type": "display_data"
    }
   ],
   "source": [
    "# SPG Clients\n",
    "DF_CLIENT = spark.read.parquet(\"s3a://\"+SPG_INTEGRATION_INPUT_BUCKET+\"/\"+SPG_INTEGRATION_INPUT_BUCKET_CLIENTS)"
   ]
  },
  {
   "cell_type": "code",
   "execution_count": 10,
   "metadata": {},
   "outputs": [
    {
     "data": {
      "application/vnd.jupyter.widget-view+json": {
       "model_id": "be1f77c3ec9748e8ad409c19c45d7c04",
       "version_major": 2,
       "version_minor": 0
      },
      "text/plain": [
       "VBox()"
      ]
     },
     "metadata": {},
     "output_type": "display_data"
    },
    {
     "data": {
      "application/vnd.jupyter.widget-view+json": {
       "model_id": "",
       "version_major": 2,
       "version_minor": 0
      },
      "text/plain": [
       "FloatProgress(value=0.0, bar_style='info', description='Progress:', layout=Layout(height='25px', width='50%'),…"
      ]
     },
     "metadata": {},
     "output_type": "display_data"
    }
   ],
   "source": [
    "# SPG Products\n",
    "DF_UNMEASURE = spark.read.parquet(\"s3a://\"+SPG_INTEGRATION_INPUT_BUCKET+\"/\"+SPG_INTEGRATION_INPUT_BUCKET_PRODUCTS)"
   ]
  },
  {
   "cell_type": "code",
   "execution_count": 11,
   "metadata": {},
   "outputs": [
    {
     "data": {
      "application/vnd.jupyter.widget-view+json": {
       "model_id": "63eaa00fab324f65ae22369b056fd93f",
       "version_major": 2,
       "version_minor": 0
      },
      "text/plain": [
       "VBox()"
      ]
     },
     "metadata": {},
     "output_type": "display_data"
    },
    {
     "data": {
      "application/vnd.jupyter.widget-view+json": {
       "model_id": "",
       "version_major": 2,
       "version_minor": 0
      },
      "text/plain": [
       "FloatProgress(value=0.0, bar_style='info', description='Progress:', layout=Layout(height='25px', width='50%'),…"
      ]
     },
     "metadata": {},
     "output_type": "display_data"
    }
   ],
   "source": [
    "# SPG Agents\n",
    "DF_AGENTS=spark.read.parquet(\"s3a://\"+SPG_INTEGRATION_INPUT_BUCKET+\"/\"+SPG_INPUT_BUCKET_AGENTS)"
   ]
  },
  {
   "cell_type": "code",
   "execution_count": 12,
   "metadata": {},
   "outputs": [
    {
     "data": {
      "application/vnd.jupyter.widget-view+json": {
       "model_id": "38093ddfff5d419daac3f3b58e60fc47",
       "version_major": 2,
       "version_minor": 0
      },
      "text/plain": [
       "VBox()"
      ]
     },
     "metadata": {},
     "output_type": "display_data"
    },
    {
     "data": {
      "application/vnd.jupyter.widget-view+json": {
       "model_id": "",
       "version_major": 2,
       "version_minor": 0
      },
      "text/plain": [
       "FloatProgress(value=0.0, bar_style='info', description='Progress:', layout=Layout(height='25px', width='50%'),…"
      ]
     },
     "metadata": {},
     "output_type": "display_data"
    }
   ],
   "source": [
    "# CSV Payment Conditions\n",
    "DF_CONDITION = spark.read.format(\"csv\").option(\"header\",\"true\")\\\n",
    "                    .option(\"sep\",\";\").option(\"encoding\", \"ISO-8859-1\")\\\n",
    "                    .load(\"s3a://\"+SPG_INTEGRATION_INPUT_BUCKET+\"/\"+SPG_MANUAL_INPUT_BUCKET_CONDITIONS)"
   ]
  },
  {
   "cell_type": "markdown",
   "metadata": {},
   "source": [
    "-------------"
   ]
  },
  {
   "cell_type": "markdown",
   "metadata": {},
   "source": [
    "# Preparing Salesforce Tables"
   ]
  },
  {
   "cell_type": "code",
   "execution_count": 19,
   "metadata": {},
   "outputs": [
    {
     "data": {
      "application/vnd.jupyter.widget-view+json": {
       "model_id": "029235cf6b8d40db99112075786b2152",
       "version_major": 2,
       "version_minor": 0
      },
      "text/plain": [
       "VBox()"
      ]
     },
     "metadata": {},
     "output_type": "display_data"
    },
    {
     "data": {
      "application/vnd.jupyter.widget-view+json": {
       "model_id": "",
       "version_major": 2,
       "version_minor": 0
      },
      "text/plain": [
       "FloatProgress(value=0.0, bar_style='info', description='Progress:', layout=Layout(height='25px', width='50%'),…"
      ]
     },
     "metadata": {},
     "output_type": "display_data"
    }
   ],
   "source": [
    "#Select fields\n",
    "DF_PRODUCT=DF_PRODUCT.selectExpr('ID as IDProduct'\n",
    "                                ,'Product_Code_SAP__c as COD_Product'\n",
    "                                ,'Name as DESC_Product','GPD__c as GPD'\n",
    "                                ,'GPM__c as GPM').dropDuplicates()\n",
    "\n",
    "\n",
    "\n",
    "DF_USER=DF_USER.selectExpr('ID as IDUser'\n",
    "                            ,'user_Code_Sap__c as Cod_Usuario'\n",
    "                            ,'Name as Usuario'\n",
    "                            ,'Escritorio_de_vendas__c as OFFICE').dropDuplicates()\n",
    "\n",
    "\n",
    "\n",
    "DF_ACCOUNT=DF_ACCOUNT.selectExpr('ID as IDAccount'\n",
    "                                ,'Codigo_Emissor__c as COD_Emissor'\n",
    "                                ,'Name as Desc_Emissor').dropDuplicates()\n",
    "\n",
    "\n",
    "\n",
    "DF_MARKET_SHARE=DF_MARKET_SHARE.selectExpr('ID as IDMS'\n",
    "                                            ,'Produto__c'\n",
    "                                            ,'Cliente__c'\n",
    "                                            ,'Responsavel__c'\n",
    "                                            ,'Organizacao_Vendas__c').dropDuplicates()\n",
    "\n"
   ]
  },
  {
   "cell_type": "code",
   "execution_count": 20,
   "metadata": {},
   "outputs": [
    {
     "data": {
      "application/vnd.jupyter.widget-view+json": {
       "model_id": "c56b5e7dbf58448886273af875ae8116",
       "version_major": 2,
       "version_minor": 0
      },
      "text/plain": [
       "VBox()"
      ]
     },
     "metadata": {},
     "output_type": "display_data"
    },
    {
     "data": {
      "application/vnd.jupyter.widget-view+json": {
       "model_id": "",
       "version_major": 2,
       "version_minor": 0
      },
      "text/plain": [
       "FloatProgress(value=0.0, bar_style='info', description='Progress:', layout=Layout(height='25px', width='50%'),…"
      ]
     },
     "metadata": {},
     "output_type": "display_data"
    }
   ],
   "source": [
    "DF_SF=DF_MARKET_SHARE.join(DF_ACCOUNT,\n",
    "                            DF_MARKET_SHARE['Cliente__c']==DF_ACCOUNT['IDAccount'],\n",
    "                            how='left')\n",
    "DF_SF=DF_SF.join(DF_USER,\n",
    "                 DF_SF['Responsavel__c']==DF_USER['IDUser'],\n",
    "                 how='left')\n",
    "\n",
    "DF_SF=DF_SF.join(DF_PRODUCT,\n",
    "                 DF_SF['Produto__c']==DF_PRODUCT['IDProduct'],\n",
    "                 how='left')\n",
    "\n",
    "DF_SF=DF_INF_COMPETITOR.join(DF_SF,\n",
    "                             DF_INF_COMPETITOR['Market_Share__c']==DF_SF['IDMS'],\n",
    "                             how='left')"
   ]
  },
  {
   "cell_type": "code",
   "execution_count": 21,
   "metadata": {},
   "outputs": [
    {
     "data": {
      "application/vnd.jupyter.widget-view+json": {
       "model_id": "d2b10028e31c470f84bf923192d00a65",
       "version_major": 2,
       "version_minor": 0
      },
      "text/plain": [
       "VBox()"
      ]
     },
     "metadata": {},
     "output_type": "display_data"
    },
    {
     "data": {
      "application/vnd.jupyter.widget-view+json": {
       "model_id": "",
       "version_major": 2,
       "version_minor": 0
      },
      "text/plain": [
       "FloatProgress(value=0.0, bar_style='info', description='Progress:', layout=Layout(height='25px', width='50%'),…"
      ]
     },
     "metadata": {},
     "output_type": "display_data"
    }
   ],
   "source": [
    "#Removing time from Date\n",
    "DF_SF=DF_SF.withColumn('Date',substring(col('CreatedDate'),0,10))"
   ]
  },
  {
   "cell_type": "code",
   "execution_count": 22,
   "metadata": {},
   "outputs": [
    {
     "data": {
      "application/vnd.jupyter.widget-view+json": {
       "model_id": "448a1e8f7cb54449b385024feeeb47fe",
       "version_major": 2,
       "version_minor": 0
      },
      "text/plain": [
       "VBox()"
      ]
     },
     "metadata": {},
     "output_type": "display_data"
    },
    {
     "data": {
      "application/vnd.jupyter.widget-view+json": {
       "model_id": "",
       "version_major": 2,
       "version_minor": 0
      },
      "text/plain": [
       "FloatProgress(value=0.0, bar_style='info', description='Progress:', layout=Layout(height='25px', width='50%'),…"
      ]
     },
     "metadata": {},
     "output_type": "display_data"
    }
   ],
   "source": [
    "#Changing time format\n",
    "DF_SF=DF_SF.withColumn('Date',to_date('Date',\"yyyy.MM.dd\"))"
   ]
  },
  {
   "cell_type": "code",
   "execution_count": 23,
   "metadata": {},
   "outputs": [
    {
     "data": {
      "application/vnd.jupyter.widget-view+json": {
       "model_id": "56f569f1b3724112a409deedd08ff5d3",
       "version_major": 2,
       "version_minor": 0
      },
      "text/plain": [
       "VBox()"
      ]
     },
     "metadata": {},
     "output_type": "display_data"
    },
    {
     "data": {
      "application/vnd.jupyter.widget-view+json": {
       "model_id": "",
       "version_major": 2,
       "version_minor": 0
      },
      "text/plain": [
       "FloatProgress(value=0.0, bar_style='info', description='Progress:', layout=Layout(height='25px', width='50%'),…"
      ]
     },
     "metadata": {},
     "output_type": "display_data"
    }
   ],
   "source": [
    "#Rename Fields\n",
    "DF_SF=DF_SF.selectExpr('Date as TIMESTAMP'\n",
    "                        ,'Cod_Usuario as COD_SALES_AGENT'\n",
    "                        ,'Usuario as SALES_AGENT'\n",
    "                        ,'OFFICE'\n",
    "                        ,'COD_Emissor as COD_CLIENT'\n",
    "                        ,'Desc_Emissor as CLIENT'\n",
    "                        ,'COD_Product as COD_PRODUCT'\n",
    "                        ,'DESC_Product as DESC_PRODUCT'\n",
    "                        ,'GPM'\n",
    "                        ,'GPD'\n",
    "                        ,'Concorrente__c as COMPETITOR'\n",
    "                        ,'Preco_Concorrente__c as COMPETITOR_PRICE'\n",
    "                        ,'Condicao_de_Pagamento__c as PRICE_CONDITION'\n",
    "                        ,'ICMS__c AS ICMS'\n",
    "                        ,'ST__c as ST'\n",
    "                        ,'Tipo_do_Preco__c as PRICE_TYPE'\n",
    "                        ,'Unidade_de_Medida__c as UNIT_MEASURE'\n",
    "                        ,'Organizacao_Vendas__c as ORG_VENDAS')"
   ]
  },
  {
   "cell_type": "code",
   "execution_count": 24,
   "metadata": {},
   "outputs": [
    {
     "data": {
      "application/vnd.jupyter.widget-view+json": {
       "model_id": "eb755bb5c2c149dd9f865645d60ab4e2",
       "version_major": 2,
       "version_minor": 0
      },
      "text/plain": [
       "VBox()"
      ]
     },
     "metadata": {},
     "output_type": "display_data"
    },
    {
     "data": {
      "application/vnd.jupyter.widget-view+json": {
       "model_id": "",
       "version_major": 2,
       "version_minor": 0
      },
      "text/plain": [
       "FloatProgress(value=0.0, bar_style='info', description='Progress:', layout=Layout(height='25px', width='50%'),…"
      ]
     },
     "metadata": {},
     "output_type": "display_data"
    }
   ],
   "source": [
    "#filter to get only \"Informação de Concorrentes\" report\n",
    "DF_SF=DF_SF.where((col('PRICE_TYPE').isNotNull()) & (col('TIMESTAMP')>='2019-05-13') & (col('GPD').isNotNull()) & (col('COD_PRODUCT').isNotNull()))"
   ]
  },
  {
   "cell_type": "code",
   "execution_count": 25,
   "metadata": {},
   "outputs": [
    {
     "data": {
      "application/vnd.jupyter.widget-view+json": {
       "model_id": "7b703ce2cb4e4806b05e34926f811b54",
       "version_major": 2,
       "version_minor": 0
      },
      "text/plain": [
       "VBox()"
      ]
     },
     "metadata": {},
     "output_type": "display_data"
    },
    {
     "data": {
      "application/vnd.jupyter.widget-view+json": {
       "model_id": "",
       "version_major": 2,
       "version_minor": 0
      },
      "text/plain": [
       "FloatProgress(value=0.0, bar_style='info', description='Progress:', layout=Layout(height='25px', width='50%'),…"
      ]
     },
     "metadata": {},
     "output_type": "display_data"
    }
   ],
   "source": [
    "#adapt client cod from SF to SAP\n",
    "DF_SF=DF_SF.withColumn('COD_CLIENT_Ajuste'\n",
    "                        ,concat(lit('0'),col('COD_CLIENT')))\n",
    "\n",
    "DF_SF=DF_SF.withColumn('COD_CLIENT'\n",
    "                        ,substring(col('COD_CLIENT_Ajuste'),-10,10))\n",
    "\n",
    "DF_SF=DF_SF.drop('COD_CLIENT_Ajuste')\n",
    "\n",
    "#Remove null from Cod Agents.\n",
    "DF_SF=DF_SF.filter(col('COD_SALES_AGENT').isNotNull())"
   ]
  },
  {
   "cell_type": "markdown",
   "metadata": {},
   "source": [
    "## Filtros"
   ]
  },
  {
   "cell_type": "code",
   "execution_count": 26,
   "metadata": {},
   "outputs": [
    {
     "data": {
      "application/vnd.jupyter.widget-view+json": {
       "model_id": "8732102415464249906f61fe37160617",
       "version_major": 2,
       "version_minor": 0
      },
      "text/plain": [
       "VBox()"
      ]
     },
     "metadata": {},
     "output_type": "display_data"
    },
    {
     "data": {
      "application/vnd.jupyter.widget-view+json": {
       "model_id": "",
       "version_major": 2,
       "version_minor": 0
      },
      "text/plain": [
       "FloatProgress(value=0.0, bar_style='info', description='Progress:', layout=Layout(height='25px', width='50%'),…"
      ]
     },
     "metadata": {},
     "output_type": "display_data"
    }
   ],
   "source": [
    "DF_CLIENT=DF_CLIENT.dropDuplicates(['COD_CLIENT'])\n",
    "\n",
    "DF_CLIENT=DF_CLIENT.selectExpr('COD_CLIENT as COD_CLIENT_'\n",
    "                               ,'NAME as CLIENT_NAME'\n",
    "                               ,'CITY as CIDADE'\n",
    "                               ,'STATE as ESTADO'\n",
    "                               ,'SEGMENTATION_SECTOR as Group_Client_3')"
   ]
  },
  {
   "cell_type": "code",
   "execution_count": 27,
   "metadata": {},
   "outputs": [
    {
     "data": {
      "application/vnd.jupyter.widget-view+json": {
       "model_id": "3f3d776e917d48248b6f00d7452e9478",
       "version_major": 2,
       "version_minor": 0
      },
      "text/plain": [
       "VBox()"
      ]
     },
     "metadata": {},
     "output_type": "display_data"
    },
    {
     "data": {
      "application/vnd.jupyter.widget-view+json": {
       "model_id": "",
       "version_major": 2,
       "version_minor": 0
      },
      "text/plain": [
       "FloatProgress(value=0.0, bar_style='info', description='Progress:', layout=Layout(height='25px', width='50%'),…"
      ]
     },
     "metadata": {},
     "output_type": "display_data"
    }
   ],
   "source": [
    "#Create key to City and State\n",
    "DF_CLIENT=DF_CLIENT.withColumn('CIDADEESTADO', concat(trim(col('CIDADE')),trim(col('ESTADO'))))"
   ]
  },
  {
   "cell_type": "code",
   "execution_count": 28,
   "metadata": {},
   "outputs": [
    {
     "data": {
      "application/vnd.jupyter.widget-view+json": {
       "model_id": "5040feffd97a45319618ce9adeb964b2",
       "version_major": 2,
       "version_minor": 0
      },
      "text/plain": [
       "VBox()"
      ]
     },
     "metadata": {},
     "output_type": "display_data"
    },
    {
     "data": {
      "application/vnd.jupyter.widget-view+json": {
       "model_id": "",
       "version_major": 2,
       "version_minor": 0
      },
      "text/plain": [
       "FloatProgress(value=0.0, bar_style='info', description='Progress:', layout=Layout(height='25px', width='50%'),…"
      ]
     },
     "metadata": {},
     "output_type": "display_data"
    }
   ],
   "source": [
    "#adapt client cod removing zeros\n",
    "DF_CLIENT=DF_CLIENT.withColumn('COD_CLIENT__',substring('COD_CLIENT_',2,15))"
   ]
  },
  {
   "cell_type": "code",
   "execution_count": 29,
   "metadata": {},
   "outputs": [
    {
     "data": {
      "application/vnd.jupyter.widget-view+json": {
       "model_id": "51a115d81f2a43fe8edb2b8ef6a871d8",
       "version_major": 2,
       "version_minor": 0
      },
      "text/plain": [
       "VBox()"
      ]
     },
     "metadata": {},
     "output_type": "display_data"
    },
    {
     "data": {
      "application/vnd.jupyter.widget-view+json": {
       "model_id": "",
       "version_major": 2,
       "version_minor": 0
      },
      "text/plain": [
       "FloatProgress(value=0.0, bar_style='info', description='Progress:', layout=Layout(height='25px', width='50%'),…"
      ]
     },
     "metadata": {},
     "output_type": "display_data"
    }
   ],
   "source": [
    "DF_CLIENT=DF_CLIENT.dropDuplicates()"
   ]
  },
  {
   "cell_type": "code",
   "execution_count": 30,
   "metadata": {},
   "outputs": [
    {
     "data": {
      "application/vnd.jupyter.widget-view+json": {
       "model_id": "8957491e964c47dfad55f3eaa4054256",
       "version_major": 2,
       "version_minor": 0
      },
      "text/plain": [
       "VBox()"
      ]
     },
     "metadata": {},
     "output_type": "display_data"
    },
    {
     "data": {
      "application/vnd.jupyter.widget-view+json": {
       "model_id": "",
       "version_major": 2,
       "version_minor": 0
      },
      "text/plain": [
       "FloatProgress(value=0.0, bar_style='info', description='Progress:', layout=Layout(height='25px', width='50%'),…"
      ]
     },
     "metadata": {},
     "output_type": "display_data"
    }
   ],
   "source": [
    "#Select columns from unit measure\n",
    "DF_UNMEASURE=DF_UNMEASURE.selectExpr('COD_MATERIAL as Material_COD'\n",
    "                                       ,'DESC_MATERIAL as Desc_Mat'\n",
    "                                       ,'KG as kilograma'\n",
    "                                       ,'KI as Caixa'\n",
    "                                       ,'M as Metro'\n",
    "                                       ,'M2 as MetroQuadrado'\n",
    "                                       ,'ROL as Rolo'\n",
    "                                       ,'ST as Peca'\n",
    "                                       ,'TO as Tonelada'\n",
    "                                       ,'ZBA as Barra'\n",
    "                                       ,'ZCT as Cento',\n",
    "                                       'ZFX as Feixe'\n",
    "                                       ,'ZUN as Unidade')"
   ]
  },
  {
   "cell_type": "code",
   "execution_count": 31,
   "metadata": {},
   "outputs": [
    {
     "data": {
      "application/vnd.jupyter.widget-view+json": {
       "model_id": "ad8b93f9894f48fcac96f80dc9bc35c4",
       "version_major": 2,
       "version_minor": 0
      },
      "text/plain": [
       "VBox()"
      ]
     },
     "metadata": {},
     "output_type": "display_data"
    },
    {
     "data": {
      "application/vnd.jupyter.widget-view+json": {
       "model_id": "",
       "version_major": 2,
       "version_minor": 0
      },
      "text/plain": [
       "FloatProgress(value=0.0, bar_style='info', description='Progress:', layout=Layout(height='25px', width='50%'),…"
      ]
     },
     "metadata": {},
     "output_type": "display_data"
    }
   ],
   "source": [
    "#adapt cod product, remove zeros\n",
    "DF_SF=DF_SF.withColumn('COD_PRODUCT_',substring('COD_PRODUCT',10,15))"
   ]
  },
  {
   "cell_type": "code",
   "execution_count": 32,
   "metadata": {},
   "outputs": [
    {
     "data": {
      "application/vnd.jupyter.widget-view+json": {
       "model_id": "a304f1c0c59e46548db1e6a6bfdb4b40",
       "version_major": 2,
       "version_minor": 0
      },
      "text/plain": [
       "VBox()"
      ]
     },
     "metadata": {},
     "output_type": "display_data"
    },
    {
     "data": {
      "application/vnd.jupyter.widget-view+json": {
       "model_id": "",
       "version_major": 2,
       "version_minor": 0
      },
      "text/plain": [
       "FloatProgress(value=0.0, bar_style='info', description='Progress:', layout=Layout(height='25px', width='50%'),…"
      ]
     },
     "metadata": {},
     "output_type": "display_data"
    }
   ],
   "source": [
    "#Select columns from Agents\n",
    "DF_AGENTS=DF_AGENTS.select('Mes-Ano'\n",
    "                           ,'ChaveVendedor'\n",
    "                           ,'Regiao_filial'\n",
    "                           ,'Meta'\n",
    "                           ,'Filial'\n",
    "                           ,'Cod_Vendedor'\n",
    "                           ,'Nome_Vendedor')"
   ]
  },
  {
   "cell_type": "code",
   "execution_count": 33,
   "metadata": {},
   "outputs": [
    {
     "data": {
      "application/vnd.jupyter.widget-view+json": {
       "model_id": "b978dca924054779a1110305a3052ee6",
       "version_major": 2,
       "version_minor": 0
      },
      "text/plain": [
       "VBox()"
      ]
     },
     "metadata": {},
     "output_type": "display_data"
    },
    {
     "data": {
      "application/vnd.jupyter.widget-view+json": {
       "model_id": "",
       "version_major": 2,
       "version_minor": 0
      },
      "text/plain": [
       "FloatProgress(value=0.0, bar_style='info', description='Progress:', layout=Layout(height='25px', width='50%'),…"
      ]
     },
     "metadata": {},
     "output_type": "display_data"
    }
   ],
   "source": [
    "DF_AGENTS=DF_AGENTS.withColumnRenamed('Filial','FilialAgente')"
   ]
  },
  {
   "cell_type": "code",
   "execution_count": 34,
   "metadata": {},
   "outputs": [
    {
     "data": {
      "application/vnd.jupyter.widget-view+json": {
       "model_id": "fb2b733c0aab4d5fa6764b4b80820c05",
       "version_major": 2,
       "version_minor": 0
      },
      "text/plain": [
       "VBox()"
      ]
     },
     "metadata": {},
     "output_type": "display_data"
    },
    {
     "data": {
      "application/vnd.jupyter.widget-view+json": {
       "model_id": "",
       "version_major": 2,
       "version_minor": 0
      },
      "text/plain": [
       "FloatProgress(value=0.0, bar_style='info', description='Progress:', layout=Layout(height='25px', width='50%'),…"
      ]
     },
     "metadata": {},
     "output_type": "display_data"
    }
   ],
   "source": [
    "DF_AGENTS=DF_AGENTS.dropDuplicates()"
   ]
  },
  {
   "cell_type": "code",
   "execution_count": 35,
   "metadata": {},
   "outputs": [
    {
     "data": {
      "application/vnd.jupyter.widget-view+json": {
       "model_id": "7d166a7870834117b70f8355f8efca1a",
       "version_major": 2,
       "version_minor": 0
      },
      "text/plain": [
       "VBox()"
      ]
     },
     "metadata": {},
     "output_type": "display_data"
    },
    {
     "data": {
      "application/vnd.jupyter.widget-view+json": {
       "model_id": "",
       "version_major": 2,
       "version_minor": 0
      },
      "text/plain": [
       "FloatProgress(value=0.0, bar_style='info', description='Progress:', layout=Layout(height='25px', width='50%'),…"
      ]
     },
     "metadata": {},
     "output_type": "display_data"
    }
   ],
   "source": [
    "#Calc capacity from filial\n",
    "AGG_AGENTS_MARKS=DF_AGENTS.selectExpr('`Mes-Ano` as MYAGG'\n",
    "                                       ,'Regiao_filial as RGAGG'\n",
    "                                       ,'Meta').groupBy('MYAGG'\n",
    "                                                        ,'RGAGG').agg(sum('Meta').alias(\"CapacidadeFilial\"))"
   ]
  },
  {
   "cell_type": "code",
   "execution_count": 36,
   "metadata": {},
   "outputs": [
    {
     "data": {
      "application/vnd.jupyter.widget-view+json": {
       "model_id": "2144d7c80de7418b8f8c6b3f53fc8057",
       "version_major": 2,
       "version_minor": 0
      },
      "text/plain": [
       "VBox()"
      ]
     },
     "metadata": {},
     "output_type": "display_data"
    },
    {
     "data": {
      "application/vnd.jupyter.widget-view+json": {
       "model_id": "",
       "version_major": 2,
       "version_minor": 0
      },
      "text/plain": [
       "FloatProgress(value=0.0, bar_style='info', description='Progress:', layout=Layout(height='25px', width='50%'),…"
      ]
     },
     "metadata": {},
     "output_type": "display_data"
    }
   ],
   "source": [
    "#Join with Capacity\n",
    "DF_AGENTS=DF_AGENTS.join(AGG_AGENTS_MARKS\n",
    "                        ,(DF_AGENTS['Mes-Ano']==AGG_AGENTS_MARKS['MYAGG'])&(DF_AGENTS['Regiao_filial']==AGG_AGENTS_MARKS['RGAGG'])\n",
    "                        ,how='left')"
   ]
  },
  {
   "cell_type": "code",
   "execution_count": 37,
   "metadata": {},
   "outputs": [
    {
     "data": {
      "application/vnd.jupyter.widget-view+json": {
       "model_id": "a1923a895dea4cb080547154f4e3feca",
       "version_major": 2,
       "version_minor": 0
      },
      "text/plain": [
       "VBox()"
      ]
     },
     "metadata": {},
     "output_type": "display_data"
    },
    {
     "data": {
      "application/vnd.jupyter.widget-view+json": {
       "model_id": "",
       "version_major": 2,
       "version_minor": 0
      },
      "text/plain": [
       "FloatProgress(value=0.0, bar_style='info', description='Progress:', layout=Layout(height='25px', width='50%'),…"
      ]
     },
     "metadata": {},
     "output_type": "display_data"
    }
   ],
   "source": [
    "#Select filial from agent, if agent has more than one them get the greatest\n",
    "DF_AGENT_FILIAL=DF_AGENTS.selectExpr('Cod_Vendedor as Cod_Vendedor_'\n",
    "                                    ,'Nome_Vendedor as Nome_Vendedor_'\n",
    "                                    ,'CapacidadeFilial'\n",
    "                                    ,'FilialAgente'\n",
    "                                    ,'`Mes-Ano`').filter(col('`Mes-Ano`')==\"06-2019\").groupBy('Cod_Vendedor_'\n",
    "                                                                                             ,'Nome_Vendedor_').agg(max('CapacidadeFilial').alias('CP'))\n",
    "\n",
    "DF_AGENT_FILIAL=DF_AGENT_FILIAL.join(DF_AGENTS,\n",
    "                                    (DF_AGENT_FILIAL.Cod_Vendedor_==DF_AGENTS.Cod_Vendedor)&(DF_AGENT_FILIAL.CP==DF_AGENTS.CapacidadeFilial)\n",
    "                                    ,how=\"inner\")"
   ]
  },
  {
   "cell_type": "code",
   "execution_count": 38,
   "metadata": {},
   "outputs": [
    {
     "data": {
      "application/vnd.jupyter.widget-view+json": {
       "model_id": "6f478a9a14c54c4ba6b7ef55d84fb304",
       "version_major": 2,
       "version_minor": 0
      },
      "text/plain": [
       "VBox()"
      ]
     },
     "metadata": {},
     "output_type": "display_data"
    },
    {
     "data": {
      "application/vnd.jupyter.widget-view+json": {
       "model_id": "",
       "version_major": 2,
       "version_minor": 0
      },
      "text/plain": [
       "FloatProgress(value=0.0, bar_style='info', description='Progress:', layout=Layout(height='25px', width='50%'),…"
      ]
     },
     "metadata": {},
     "output_type": "display_data"
    }
   ],
   "source": [
    "DF_AGENT_FILIAL=DF_AGENT_FILIAL.drop('CP'\n",
    "                                     ,'Mes-Ano'\n",
    "                                     ,'ChaveVendedor'\n",
    "                                     ,'Regiao_filial'\n",
    "                                     ,'Meta'\n",
    "                                     ,'Cod_Vendedor'\n",
    "                                     ,'Nome_Vendedor'\n",
    "                                     ,'MYAGG'\n",
    "                                     ,'RGAGG'\n",
    "                                     ,'CapacidadeFilial')"
   ]
  },
  {
   "cell_type": "markdown",
   "metadata": {},
   "source": [
    "## Join"
   ]
  },
  {
   "cell_type": "code",
   "execution_count": 39,
   "metadata": {},
   "outputs": [
    {
     "data": {
      "application/vnd.jupyter.widget-view+json": {
       "model_id": "42750392ed3a4e60b73ae0b0d3f21ad5",
       "version_major": 2,
       "version_minor": 0
      },
      "text/plain": [
       "VBox()"
      ]
     },
     "metadata": {},
     "output_type": "display_data"
    },
    {
     "data": {
      "application/vnd.jupyter.widget-view+json": {
       "model_id": "",
       "version_major": 2,
       "version_minor": 0
      },
      "text/plain": [
       "FloatProgress(value=0.0, bar_style='info', description='Progress:', layout=Layout(height='25px', width='50%'),…"
      ]
     },
     "metadata": {},
     "output_type": "display_data"
    }
   ],
   "source": [
    "DF_FILIAL=DF_FILIAL.withColumn(\"MUF Corrigido_UPPER\", concat(upper(remove_some_accents(replace_some_apostrophe(replace_some_space(replace_some_hifen(DF_FILIAL[\"IBGE_SAP_CITY_NAME\"]))))),col(\"IBGE_UF_ACRONYMS\")))"
   ]
  },
  {
   "cell_type": "code",
   "execution_count": 40,
   "metadata": {},
   "outputs": [
    {
     "data": {
      "application/vnd.jupyter.widget-view+json": {
       "model_id": "3e7c9b5e35824e37bc5bee6724aa2975",
       "version_major": 2,
       "version_minor": 0
      },
      "text/plain": [
       "VBox()"
      ]
     },
     "metadata": {},
     "output_type": "display_data"
    },
    {
     "data": {
      "application/vnd.jupyter.widget-view+json": {
       "model_id": "",
       "version_major": 2,
       "version_minor": 0
      },
      "text/plain": [
       "FloatProgress(value=0.0, bar_style='info', description='Progress:', layout=Layout(height='25px', width='50%'),…"
      ]
     },
     "metadata": {},
     "output_type": "display_data"
    }
   ],
   "source": [
    "DF_FILIAL=DF_FILIAL.select(DF_FILIAL[\"MUF Corrigido_UPPER\"],DF_FILIAL[\"BRANCH\"]).distinct()"
   ]
  },
  {
   "cell_type": "code",
   "execution_count": 41,
   "metadata": {},
   "outputs": [
    {
     "data": {
      "application/vnd.jupyter.widget-view+json": {
       "model_id": "be884245e6af498d99cbf69bcdba968b",
       "version_major": 2,
       "version_minor": 0
      },
      "text/plain": [
       "VBox()"
      ]
     },
     "metadata": {},
     "output_type": "display_data"
    },
    {
     "data": {
      "application/vnd.jupyter.widget-view+json": {
       "model_id": "",
       "version_major": 2,
       "version_minor": 0
      },
      "text/plain": [
       "FloatProgress(value=0.0, bar_style='info', description='Progress:', layout=Layout(height='25px', width='50%'),…"
      ]
     },
     "metadata": {},
     "output_type": "display_data"
    }
   ],
   "source": [
    "DF_FILIAL=DF_FILIAL.withColumn(\"Região\", when(substring(\"BRANCH\", 7, 30).like(\"SAO\"),\"São Paulo\")\\\n",
    "                               .otherwise(when(substring(\"BRANCH\", 7, 30).like(\"São J. Campos\"),\"São José dos Campos\")\\\n",
    "                                          .otherwise(substring(\"BRANCH\", 7, 30))))"
   ]
  },
  {
   "cell_type": "code",
   "execution_count": 42,
   "metadata": {},
   "outputs": [
    {
     "data": {
      "application/vnd.jupyter.widget-view+json": {
       "model_id": "634f33b085bc42c2a0a26fc963249d08",
       "version_major": 2,
       "version_minor": 0
      },
      "text/plain": [
       "VBox()"
      ]
     },
     "metadata": {},
     "output_type": "display_data"
    },
    {
     "data": {
      "application/vnd.jupyter.widget-view+json": {
       "model_id": "",
       "version_major": 2,
       "version_minor": 0
      },
      "text/plain": [
       "FloatProgress(value=0.0, bar_style='info', description='Progress:', layout=Layout(height='25px', width='50%'),…"
      ]
     },
     "metadata": {},
     "output_type": "display_data"
    }
   ],
   "source": [
    "SF_COLETA=DF_SF.join(DF_CLIENT\n",
    "                    ,DF_SF.COD_CLIENT.cast(\"int\")==DF_CLIENT.COD_CLIENT_.cast(\"int\")\n",
    "                    ,how='left')\\\n",
    "                 .distinct()\n",
    "\n",
    "SF_COLETA=SF_COLETA.join(DF_CONDITION\n",
    "                        ,trim(SF_COLETA.PRICE_CONDITION)==trim(DF_CONDITION.CondicaoSF)\n",
    "                        ,how='left')\\\n",
    "                 .distinct()"
   ]
  },
  {
   "cell_type": "code",
   "execution_count": 43,
   "metadata": {},
   "outputs": [
    {
     "data": {
      "application/vnd.jupyter.widget-view+json": {
       "model_id": "de5182837e684a16bfaf35dd83c5ed74",
       "version_major": 2,
       "version_minor": 0
      },
      "text/plain": [
       "VBox()"
      ]
     },
     "metadata": {},
     "output_type": "display_data"
    },
    {
     "data": {
      "application/vnd.jupyter.widget-view+json": {
       "model_id": "",
       "version_major": 2,
       "version_minor": 0
      },
      "text/plain": [
       "FloatProgress(value=0.0, bar_style='info', description='Progress:', layout=Layout(height='25px', width='50%'),…"
      ]
     },
     "metadata": {},
     "output_type": "display_data"
    }
   ],
   "source": [
    "SF_COLETA=SF_COLETA.withColumn(\"CIDADEESTADO_UPPER\", upper(remove_some_accents(replace_some_apostrophe(replace_some_space(replace_some_hifen(col(\"CIDADEESTADO\")))))))"
   ]
  },
  {
   "cell_type": "code",
   "execution_count": 44,
   "metadata": {},
   "outputs": [
    {
     "data": {
      "application/vnd.jupyter.widget-view+json": {
       "model_id": "714e30a78d734b84b86dfe1b508248ea",
       "version_major": 2,
       "version_minor": 0
      },
      "text/plain": [
       "VBox()"
      ]
     },
     "metadata": {},
     "output_type": "display_data"
    },
    {
     "data": {
      "application/vnd.jupyter.widget-view+json": {
       "model_id": "",
       "version_major": 2,
       "version_minor": 0
      },
      "text/plain": [
       "FloatProgress(value=0.0, bar_style='info', description='Progress:', layout=Layout(height='25px', width='50%'),…"
      ]
     },
     "metadata": {},
     "output_type": "display_data"
    }
   ],
   "source": [
    "SF_COLETA=SF_COLETA.join(DF_FILIAL\n",
    "                        ,SF_COLETA.CIDADEESTADO_UPPER==DF_FILIAL['MUF Corrigido_UPPER']\n",
    "                        ,how='left')\\\n",
    "                 .drop(\"MUF Corrigido_UPPER\")\\\n",
    "                 .drop(\"CIDADEESTADO_UPPER\")\\\n",
    "                 .distinct()\n",
    "\n",
    "SF_COLETA=SF_COLETA.join(DF_UNMEASURE\n",
    "                        ,SF_COLETA.COD_PRODUCT_.cast(\"int\")==DF_UNMEASURE['Material_COD'].cast(\"int\")\n",
    "                        ,how='inner')\\\n",
    "                 .distinct()\n",
    "\n",
    "SF_COLETA=SF_COLETA.join(DF_AGENT_FILIAL\n",
    "                        ,SF_COLETA.COD_SALES_AGENT==DF_AGENT_FILIAL['Cod_Vendedor_']\n",
    "                        ,how='left')\\\n",
    "                 .distinct()\n",
    "\n",
    "SF_COLETA=SF_COLETA.withColumn('Filial SUGESTÃO'\n",
    "                                ,when(col('BRANCH').isNull()\n",
    "                                      ,col('FilialAgente')).otherwise(col('BRANCH')))\\\n",
    "                    .drop(\"BRANCH\")"
   ]
  },
  {
   "cell_type": "markdown",
   "metadata": {},
   "source": [
    "## Transformações"
   ]
  },
  {
   "cell_type": "code",
   "execution_count": 45,
   "metadata": {},
   "outputs": [
    {
     "data": {
      "application/vnd.jupyter.widget-view+json": {
       "model_id": "c5f5f3bd162b44f5bfaa07b0906d00cb",
       "version_major": 2,
       "version_minor": 0
      },
      "text/plain": [
       "VBox()"
      ]
     },
     "metadata": {},
     "output_type": "display_data"
    },
    {
     "data": {
      "application/vnd.jupyter.widget-view+json": {
       "model_id": "",
       "version_major": 2,
       "version_minor": 0
      },
      "text/plain": [
       "FloatProgress(value=0.0, bar_style='info', description='Progress:', layout=Layout(height='25px', width='50%'),…"
      ]
     },
     "metadata": {},
     "output_type": "display_data"
    }
   ],
   "source": [
    "#OV (OV Ajustada)\n",
    "SF_COLETA=SF_COLETA.withColumn('ORG_VENDAS',substring('ORG_VENDAS',0,4))\n",
    "\n",
    "SF_COLETA=SF_COLETA.withColumn(\"OVAjustada\",\n",
    "                                         when(col('ORG_VENDAS').isNull()\n",
    "                                              ,when(col('OFFICE').contains(\"DI\")\n",
    "                                                    ,\"DI\").otherwise(\"CC\")).otherwise(when((col('ORG_VENDAS').contains(\"CC\"))|(col('ORG_VENDAS').contains(\"CO\"))\n",
    "                                                                                           ,\"CC\").otherwise(when((col('ORG_VENDAS').contains(\"DI\"))|(col('ORG_VENDAS').contains(\"DO\"))\n",
    "                                                                                                                 ,\"DI\").otherwise(\"IN\"))))\n",
    "\n",
    "SF_COLETA=SF_COLETA.withColumn('OVAjustada',when(col('COD_SALES_AGENT')=='A61',\"DI\").otherwise(col(\"OVAjustada\")))"
   ]
  },
  {
   "cell_type": "code",
   "execution_count": 46,
   "metadata": {},
   "outputs": [
    {
     "data": {
      "application/vnd.jupyter.widget-view+json": {
       "model_id": "8358948d8e294d64a829183ee8ac23cf",
       "version_major": 2,
       "version_minor": 0
      },
      "text/plain": [
       "VBox()"
      ]
     },
     "metadata": {},
     "output_type": "display_data"
    },
    {
     "data": {
      "application/vnd.jupyter.widget-view+json": {
       "model_id": "",
       "version_major": 2,
       "version_minor": 0
      },
      "text/plain": [
       "FloatProgress(value=0.0, bar_style='info', description='Progress:', layout=Layout(height='25px', width='50%'),…"
      ]
     },
     "metadata": {},
     "output_type": "display_data"
    }
   ],
   "source": [
    "#SAMPLE KEY (Chave Amostra)\n",
    "#[OV Ajustada]+[Filial]+[Material COD]\n",
    "SF_COLETA=SF_COLETA.withColumn(\"COD_PRODUCT\"\n",
    "                                         ,substring('COD_PRODUCT',10,15))\n",
    "\n",
    "SF_COLETA=SF_COLETA.withColumn(\"ChaveAmostra\"\n",
    "                                         ,concat(col('OVAjustada')\n",
    "                                                 ,col('Filial SUGESTÃO')\n",
    "                                                 ,col('COD_PRODUCT')))"
   ]
  },
  {
   "cell_type": "code",
   "execution_count": 47,
   "metadata": {},
   "outputs": [
    {
     "data": {
      "application/vnd.jupyter.widget-view+json": {
       "model_id": "a463e819b9d94c6f9d98a5f5e0cad0ef",
       "version_major": 2,
       "version_minor": 0
      },
      "text/plain": [
       "VBox()"
      ]
     },
     "metadata": {},
     "output_type": "display_data"
    },
    {
     "data": {
      "application/vnd.jupyter.widget-view+json": {
       "model_id": "",
       "version_major": 2,
       "version_minor": 0
      },
      "text/plain": [
       "FloatProgress(value=0.0, bar_style='info', description='Progress:', layout=Layout(height='25px', width='50%'),…"
      ]
     },
     "metadata": {},
     "output_type": "display_data"
    }
   ],
   "source": [
    "#Material COD - DESC\n",
    "#[Material COD]+\"-\"+[Material DESC]\n",
    "SF_COLETA=SF_COLETA.withColumn(\"MATERIAL\"\n",
    "                          ,concat(col(\"COD_PRODUCT\")\n",
    "                                  , lit(\" - \")\n",
    "                                  ,col(\"DESC_PRODUCT\")))"
   ]
  },
  {
   "cell_type": "code",
   "execution_count": 48,
   "metadata": {},
   "outputs": [
    {
     "data": {
      "application/vnd.jupyter.widget-view+json": {
       "model_id": "db8db300c13e42c7a88e9b13ead4daa4",
       "version_major": 2,
       "version_minor": 0
      },
      "text/plain": [
       "VBox()"
      ]
     },
     "metadata": {},
     "output_type": "display_data"
    },
    {
     "data": {
      "application/vnd.jupyter.widget-view+json": {
       "model_id": "",
       "version_major": 2,
       "version_minor": 0
      },
      "text/plain": [
       "FloatProgress(value=0.0, bar_style='info', description='Progress:', layout=Layout(height='25px', width='50%'),…"
      ]
     },
     "metadata": {},
     "output_type": "display_data"
    }
   ],
   "source": [
    "#Invoice Key (Chave Fatura)\n",
    "#[OV Ajustada]+[Material COD]+[Filial]+[Tipo_de_Preço]+[Timestamp]\n",
    "SF_COLETA=SF_COLETA.withColumn(\"ChaveFatura\"\n",
    "                          ,concat(col('OVAjustada')\n",
    "                                  ,col(\"COD_PRODUCT\")\n",
    "                                  ,col('Filial SUGESTÃO')\n",
    "                                  ,col('PRICE_TYPE')\n",
    "                                  ,col('TIMESTAMP')))"
   ]
  },
  {
   "cell_type": "code",
   "execution_count": 49,
   "metadata": {},
   "outputs": [
    {
     "data": {
      "application/vnd.jupyter.widget-view+json": {
       "model_id": "951fb175b52e41e188702dee2588677d",
       "version_major": 2,
       "version_minor": 0
      },
      "text/plain": [
       "VBox()"
      ]
     },
     "metadata": {},
     "output_type": "display_data"
    },
    {
     "data": {
      "application/vnd.jupyter.widget-view+json": {
       "model_id": "",
       "version_major": 2,
       "version_minor": 0
      },
      "text/plain": [
       "FloatProgress(value=0.0, bar_style='info', description='Progress:', layout=Layout(height='25px', width='50%'),…"
      ]
     },
     "metadata": {},
     "output_type": "display_data"
    }
   ],
   "source": [
    "#Create column removing ST\n",
    "#SF_COLETA=SF_COLETA.withColumn(\"PrecoDIcomST\"\n",
    "#                                         ,round((col('COMPETITOR_PRICE')*1.09),3))"
   ]
  },
  {
   "cell_type": "code",
   "execution_count": 50,
   "metadata": {},
   "outputs": [
    {
     "data": {
      "application/vnd.jupyter.widget-view+json": {
       "model_id": "e36cc2c7e1604b9bb00344d13400d9f7",
       "version_major": 2,
       "version_minor": 0
      },
      "text/plain": [
       "VBox()"
      ]
     },
     "metadata": {},
     "output_type": "display_data"
    },
    {
     "data": {
      "application/vnd.jupyter.widget-view+json": {
       "model_id": "",
       "version_major": 2,
       "version_minor": 0
      },
      "text/plain": [
       "FloatProgress(value=0.0, bar_style='info', description='Progress:', layout=Layout(height='25px', width='50%'),…"
      ]
     },
     "metadata": {},
     "output_type": "display_data"
    }
   ],
   "source": [
    "#Create column without ST\n",
    "#SF_COLETA=SF_COLETA.withColumn(\"PrecoCCDISemST\"\n",
    "#                                         ,col('COMPETITOR_PRICE'))"
   ]
  },
  {
   "cell_type": "code",
   "execution_count": 51,
   "metadata": {},
   "outputs": [
    {
     "data": {
      "application/vnd.jupyter.widget-view+json": {
       "model_id": "a6bcf8d2b4e14085b2fe0facef025c12",
       "version_major": 2,
       "version_minor": 0
      },
      "text/plain": [
       "VBox()"
      ]
     },
     "metadata": {},
     "output_type": "display_data"
    },
    {
     "data": {
      "application/vnd.jupyter.widget-view+json": {
       "model_id": "",
       "version_major": 2,
       "version_minor": 0
      },
      "text/plain": [
       "FloatProgress(value=0.0, bar_style='info', description='Progress:', layout=Layout(height='25px', width='50%'),…"
      ]
     },
     "metadata": {},
     "output_type": "display_data"
    }
   ],
   "source": [
    "#If ST and is DI then choose price\n",
    "SF_COLETA=SF_COLETA.withColumn(\"PrecoST\"\n",
    "                                         ,when(((col('ST')=='Sim') & (col('OVAjustada')=='DI'))\n",
    "                                               ,col('COMPETITOR_PRICE')).otherwise(col('COMPETITOR_PRICE')))"
   ]
  },
  {
   "cell_type": "code",
   "execution_count": 53,
   "metadata": {},
   "outputs": [
    {
     "data": {
      "application/vnd.jupyter.widget-view+json": {
       "model_id": "a6c20b213adc4adcba387680641d4156",
       "version_major": 2,
       "version_minor": 0
      },
      "text/plain": [
       "VBox()"
      ]
     },
     "metadata": {},
     "output_type": "display_data"
    },
    {
     "data": {
      "application/vnd.jupyter.widget-view+json": {
       "model_id": "",
       "version_major": 2,
       "version_minor": 0
      },
      "text/plain": [
       "FloatProgress(value=0.0, bar_style='info', description='Progress:', layout=Layout(height='25px', width='50%'),…"
      ]
     },
     "metadata": {},
     "output_type": "display_data"
    }
   ],
   "source": [
    "#Changing price to 21 days condition\n",
    "SF_COLETA=SF_COLETA.withColumn('%CondicaooSF', remove_some_comas(col('%CondicaooSF')).cast(\"float\"))\n",
    "\n",
    "SF_COLETA=SF_COLETA.withColumn(\"Preco21dias\",round((col('PrecoST')/(1+col('%CondicaooSF'))),3))"
   ]
  },
  {
   "cell_type": "code",
   "execution_count": 54,
   "metadata": {},
   "outputs": [
    {
     "data": {
      "application/vnd.jupyter.widget-view+json": {
       "model_id": "b7f1ef854efa4222905df7140657b574",
       "version_major": 2,
       "version_minor": 0
      },
      "text/plain": [
       "VBox()"
      ]
     },
     "metadata": {},
     "output_type": "display_data"
    },
    {
     "data": {
      "application/vnd.jupyter.widget-view+json": {
       "model_id": "",
       "version_major": 2,
       "version_minor": 0
      },
      "text/plain": [
       "FloatProgress(value=0.0, bar_style='info', description='Progress:', layout=Layout(height='25px', width='50%'),…"
      ]
     },
     "metadata": {},
     "output_type": "display_data"
    }
   ],
   "source": [
    "SF_COLETA=SF_COLETA.drop('Nova Condição'\n",
    "                         ,'CondicaoMC1'\n",
    "                         ,'CondicaoSF'\n",
    "                         ,'%CondicaooSF'\n",
    "                         ,'%CondicaoMC1'\n",
    "                         ,'Material_COD'\n",
    "                         ,'Desc_Mat'\n",
    "                         ,'PrecoDIcomST'\n",
    "                         ,'PrecoCCDISemST'\n",
    "                         ,'PrecoST')"
   ]
  },
  {
   "cell_type": "code",
   "execution_count": 55,
   "metadata": {},
   "outputs": [
    {
     "data": {
      "application/vnd.jupyter.widget-view+json": {
       "model_id": "562a3b1006b845e69b0713c0f0cbbe29",
       "version_major": 2,
       "version_minor": 0
      },
      "text/plain": [
       "VBox()"
      ]
     },
     "metadata": {},
     "output_type": "display_data"
    },
    {
     "data": {
      "application/vnd.jupyter.widget-view+json": {
       "model_id": "",
       "version_major": 2,
       "version_minor": 0
      },
      "text/plain": [
       "FloatProgress(value=0.0, bar_style='info', description='Progress:', layout=Layout(height='25px', width='50%'),…"
      ]
     },
     "metadata": {},
     "output_type": "display_data"
    }
   ],
   "source": [
    "# Get price with 21 days and change to price for KG\n",
    "SF_COLETA=SF_COLETA.withColumn(\"Preco21diasKG\",\n",
    "                          when(col('UNIT_MEASURE').like('%BR'),\n",
    "                               col(\"Preco21dias\")/col('Barra')).otherwise(when(col('UNIT_MEASURE').like('%RL%'),\n",
    "                                   col(\"Preco21dias\")/col('Rolo')).otherwise(when(col('UNIT_MEASURE').like('%PC%'),\n",
    "                                        col(\"Preco21dias\")/col('Peca')).otherwise(when(col('UNIT_MEASURE').like('%CENTO%'),\n",
    "                                            col(\"Preco21dias\")/col('Cento')).otherwise(when(col('UNIT_MEASURE').like('%ROLO%'),\n",
    "                                                col(\"Preco21dias\")/col('Rolo')).otherwise(when(col('UNIT_MEASURE').like('%CAIXA%')|\n",
    "                                                                                                col('UNIT_MEASURE').like('%CX%'),\n",
    "                                                    col(\"Preco21dias\")/col('Caixa')).otherwise(when(col('UNIT_MEASURE').like('%FEIXE%'),\n",
    "                                                        col(\"Preco21dias\")/col('Feixe')).otherwise(when(col('UNIT_MEASURE').like('%METRO%'),\n",
    "                                                            col(\"Preco21dias\")/col('Metro')).otherwise(when(col('UNIT_MEASURE').like('%METRO2%'),\n",
    "                                                                col(\"Preco21dias\")/col('MetroQuadrado')).otherwise(when(col('UNIT_MEASURE').like('%T%'),\n",
    "                                                                    col(\"Preco21dias\")/col('Tonelada')).otherwise(when(col('UNIT_MEASURE').like('%UNIDADE%'),\n",
    "                                                                        col(\"Preco21dias\")/col('Unidade')).otherwise(when(col('UNIT_MEASURE').like('%PN%'),\n",
    "                                                                            col(\"Preco21dias\")/col('Peca')).otherwise(col(\"Preco21dias\"))))))))))))))"
   ]
  },
  {
   "cell_type": "code",
   "execution_count": 56,
   "metadata": {},
   "outputs": [
    {
     "data": {
      "application/vnd.jupyter.widget-view+json": {
       "model_id": "aba9283c44c14f69b4e6336d9c790bb4",
       "version_major": 2,
       "version_minor": 0
      },
      "text/plain": [
       "VBox()"
      ]
     },
     "metadata": {},
     "output_type": "display_data"
    },
    {
     "data": {
      "application/vnd.jupyter.widget-view+json": {
       "model_id": "",
       "version_major": 2,
       "version_minor": 0
      },
      "text/plain": [
       "FloatProgress(value=0.0, bar_style='info', description='Progress:', layout=Layout(height='25px', width='50%'),…"
      ]
     },
     "metadata": {},
     "output_type": "display_data"
    }
   ],
   "source": [
    "SF_COLETA=SF_COLETA.drop('kilograma',\n",
    "                                    'Caixa',\n",
    "                                    'Metro', \n",
    "                                    'MetroQuadrado', \n",
    "                                    'Rolo', \n",
    "                                    'Peca',\n",
    "                                    'Tonelada', \n",
    "                                    'Barra',\n",
    "                                    'Cento', \n",
    "                                    'Feixe', \n",
    "                                    'Unidade')"
   ]
  },
  {
   "cell_type": "code",
   "execution_count": 57,
   "metadata": {},
   "outputs": [
    {
     "data": {
      "application/vnd.jupyter.widget-view+json": {
       "model_id": "fb830aff589a4338bd6ad510d6dc1483",
       "version_major": 2,
       "version_minor": 0
      },
      "text/plain": [
       "VBox()"
      ]
     },
     "metadata": {},
     "output_type": "display_data"
    },
    {
     "data": {
      "application/vnd.jupyter.widget-view+json": {
       "model_id": "",
       "version_major": 2,
       "version_minor": 0
      },
      "text/plain": [
       "FloatProgress(value=0.0, bar_style='info', description='Progress:', layout=Layout(height='25px', width='50%'),…"
      ]
     },
     "metadata": {},
     "output_type": "display_data"
    }
   ],
   "source": [
    "# Month and Year (MesAno)\n",
    "SF_COLETA=SF_COLETA.withColumn(\"MesAno\"\n",
    "                                         ,concat(substring(\"TIMESTAMP\",6,2),\n",
    "                                                 lit(\"-\")\n",
    "                                                 ,substring(\"TIMESTAMP\",0,4)))\n"
   ]
  },
  {
   "cell_type": "code",
   "execution_count": 58,
   "metadata": {},
   "outputs": [
    {
     "data": {
      "application/vnd.jupyter.widget-view+json": {
       "model_id": "ba42a4177003400d80d388027f55d1a6",
       "version_major": 2,
       "version_minor": 0
      },
      "text/plain": [
       "VBox()"
      ]
     },
     "metadata": {},
     "output_type": "display_data"
    },
    {
     "data": {
      "application/vnd.jupyter.widget-view+json": {
       "model_id": "",
       "version_major": 2,
       "version_minor": 0
      },
      "text/plain": [
       "FloatProgress(value=0.0, bar_style='info', description='Progress:', layout=Layout(height='25px', width='50%'),…"
      ]
     },
     "metadata": {},
     "output_type": "display_data"
    }
   ],
   "source": [
    "#Last Days count (Dias Corridos)\n",
    "SF_COLETA=SF_COLETA.withColumn(\"FIRST_DATE\"\n",
    "                                         ,date_format(\"TIMESTAMP\"\n",
    "                                                      , 'yyyy-MM'))\n",
    "\n",
    "SF_COLETA=SF_COLETA.withColumn(\"FIRST_DATE\"\n",
    "                                         ,date_format(\"FIRST_DATE\"\n",
    "                                                      , 'yyyy-MM-dd'))\n",
    "\n",
    "SF_COLETA=SF_COLETA.withColumn(\"DiasCorridos\"\n",
    "                          ,when(date_format(current_date(),'YYYY-MM')==date_format('TIMESTAMP'\n",
    "                                                                                   ,'YYYY-MM'),datediff(current_date()\n",
    "                                                                                                        ,'FIRST_DATE')).otherwise(date_format(last_day(\"TIMESTAMP\")\n",
    "                                                                                                                                              ,'dd')))\n",
    "\n",
    "SF_COLETA=SF_COLETA.withColumn(\"DiasCorridos\",col(\"DiasCorridos\").cast(IntegerType()))"
   ]
  },
  {
   "cell_type": "code",
   "execution_count": 59,
   "metadata": {},
   "outputs": [
    {
     "data": {
      "application/vnd.jupyter.widget-view+json": {
       "model_id": "eb15de9a7eeb43e7b1e240be23df5ea8",
       "version_major": 2,
       "version_minor": 0
      },
      "text/plain": [
       "VBox()"
      ]
     },
     "metadata": {},
     "output_type": "display_data"
    },
    {
     "data": {
      "application/vnd.jupyter.widget-view+json": {
       "model_id": "",
       "version_major": 2,
       "version_minor": 0
      },
      "text/plain": [
       "FloatProgress(value=0.0, bar_style='info', description='Progress:', layout=Layout(height='25px', width='50%'),…"
      ]
     },
     "metadata": {},
     "output_type": "display_data"
    }
   ],
   "source": [
    "#Days to go (Dias que Faltam)\n",
    "SF_COLETA=SF_COLETA.withColumn(\"DiasFaltantes\"\n",
    "                          ,when(date_format(current_date(),'YYYY-MM')==date_format('TIMESTAMP'\n",
    "                                                                                   ,'YYYY-MM'),datediff(last_day(\"TIMESTAMP\")\n",
    "                                                                                                        ,date_add(current_date(),-1))).otherwise(0))\n",
    "\n",
    "SF_COLETA=SF_COLETA.withColumn(\"DiasFaltantes\",col(\"DiasFaltantes\").cast(IntegerType()))"
   ]
  },
  {
   "cell_type": "code",
   "execution_count": 60,
   "metadata": {},
   "outputs": [
    {
     "data": {
      "application/vnd.jupyter.widget-view+json": {
       "model_id": "6eea77a24a20447996c6a73908959c34",
       "version_major": 2,
       "version_minor": 0
      },
      "text/plain": [
       "VBox()"
      ]
     },
     "metadata": {},
     "output_type": "display_data"
    },
    {
     "data": {
      "application/vnd.jupyter.widget-view+json": {
       "model_id": "",
       "version_major": 2,
       "version_minor": 0
      },
      "text/plain": [
       "FloatProgress(value=0.0, bar_style='info', description='Progress:', layout=Layout(height='25px', width='50%'),…"
      ]
     },
     "metadata": {},
     "output_type": "display_data"
    }
   ],
   "source": [
    "#Seller Key (ChaveVendedorMetas)\n",
    "SF_COLETA = SF_COLETA.withColumn(\"ChaveVendedorMetas\"\n",
    "                                         ,concat(col('OVAjustada')\n",
    "                                                 ,col('Filial SUGESTÃO')\n",
    "                                                 ,col('COD_PRODUCT')\n",
    "                                                 ,col(\"COD_SALES_AGENT\")\n",
    "                                                 ,col(\"MesAno\")))"
   ]
  },
  {
   "cell_type": "code",
   "execution_count": 61,
   "metadata": {},
   "outputs": [
    {
     "data": {
      "application/vnd.jupyter.widget-view+json": {
       "model_id": "4169ef6c5d1a4e63b5bb51ef88b7d9c0",
       "version_major": 2,
       "version_minor": 0
      },
      "text/plain": [
       "VBox()"
      ]
     },
     "metadata": {},
     "output_type": "display_data"
    },
    {
     "data": {
      "application/vnd.jupyter.widget-view+json": {
       "model_id": "",
       "version_major": 2,
       "version_minor": 0
      },
      "text/plain": [
       "FloatProgress(value=0.0, bar_style='info', description='Progress:', layout=Layout(height='25px', width='50%'),…"
      ]
     },
     "metadata": {},
     "output_type": "display_data"
    }
   ],
   "source": [
    "SF_COLETA=SF_COLETA.drop('FilialAgente'\n",
    "                                   ,'Cod_Vendedor_'\n",
    "                                   ,'Nome_Vendedor_')"
   ]
  },
  {
   "cell_type": "code",
   "execution_count": 62,
   "metadata": {},
   "outputs": [
    {
     "data": {
      "application/vnd.jupyter.widget-view+json": {
       "model_id": "22f514cad5b140efbc167b88af58096a",
       "version_major": 2,
       "version_minor": 0
      },
      "text/plain": [
       "VBox()"
      ]
     },
     "metadata": {},
     "output_type": "display_data"
    },
    {
     "data": {
      "application/vnd.jupyter.widget-view+json": {
       "model_id": "",
       "version_major": 2,
       "version_minor": 0
      },
      "text/plain": [
       "FloatProgress(value=0.0, bar_style='info', description='Progress:', layout=Layout(height='25px', width='50%'),…"
      ]
     },
     "metadata": {},
     "output_type": "display_data"
    }
   ],
   "source": [
    "# Join with agents df\n",
    "SF_COLETA=SF_COLETA.join(DF_AGENTS\n",
    "                                   ,SF_COLETA.ChaveVendedorMetas==DF_AGENTS['ChaveVendedor']\n",
    "                                   ,how='left')\\\n",
    "                 .distinct()"
   ]
  },
  {
   "cell_type": "code",
   "execution_count": 63,
   "metadata": {},
   "outputs": [
    {
     "data": {
      "application/vnd.jupyter.widget-view+json": {
       "model_id": "9eaebcc90c574b5f964918dad9fc3817",
       "version_major": 2,
       "version_minor": 0
      },
      "text/plain": [
       "VBox()"
      ]
     },
     "metadata": {},
     "output_type": "display_data"
    },
    {
     "data": {
      "application/vnd.jupyter.widget-view+json": {
       "model_id": "",
       "version_major": 2,
       "version_minor": 0
      },
      "text/plain": [
       "FloatProgress(value=0.0, bar_style='info', description='Progress:', layout=Layout(height='25px', width='50%'),…"
      ]
     },
     "metadata": {},
     "output_type": "display_data"
    }
   ],
   "source": [
    "#Audit Key (ChaveAuditoria)\n",
    "SF_COLETA=SF_COLETA.withColumn(\"ChaveAuditoria\"\n",
    "                                         ,concat(col('TIMESTAMP')\n",
    "                                                 ,col('COD_CLIENT')\n",
    "                                                 ,col('COMPETITOR')\n",
    "                                                 ,col(\"COD_SALES_AGENT\")\n",
    "                                                 ,col(\"UNIT_MEASURE\")\n",
    "                                                 ,col(\"PRICE_TYPE\")\n",
    "                                                 ,col('Filial SUGESTÃO')\n",
    "                                                 ,col('COD_PRODUCT')\n",
    "                                                 ,col('CIDADE')\n",
    "                                                 ,col('OVAjustada')\n",
    "                                                 ,col('COMPETITOR_PRICE')))"
   ]
  },
  {
   "cell_type": "code",
   "execution_count": 64,
   "metadata": {},
   "outputs": [
    {
     "data": {
      "application/vnd.jupyter.widget-view+json": {
       "model_id": "a3504b17b7b24c05ac1ccfee1aa0b9a5",
       "version_major": 2,
       "version_minor": 0
      },
      "text/plain": [
       "VBox()"
      ]
     },
     "metadata": {},
     "output_type": "display_data"
    },
    {
     "data": {
      "application/vnd.jupyter.widget-view+json": {
       "model_id": "",
       "version_major": 2,
       "version_minor": 0
      },
      "text/plain": [
       "FloatProgress(value=0.0, bar_style='info', description='Progress:', layout=Layout(height='25px', width='50%'),…"
      ]
     },
     "metadata": {},
     "output_type": "display_data"
    }
   ],
   "source": [
    "#Pre Approved (Pré Aprovado)\n",
    "SF_COLETA=SF_COLETA.withColumn(\"Pre_Aprovado\",\n",
    "                                         when((col('Preco21diasKG')>10) | (col('Preco21diasKG')<2),\"Nao\").otherwise(\"Sim\"))"
   ]
  },
  {
   "cell_type": "code",
   "execution_count": 65,
   "metadata": {},
   "outputs": [
    {
     "data": {
      "application/vnd.jupyter.widget-view+json": {
       "model_id": "69ad537ee45f44b187be6fd8e62f1674",
       "version_major": 2,
       "version_minor": 0
      },
      "text/plain": [
       "VBox()"
      ]
     },
     "metadata": {},
     "output_type": "display_data"
    },
    {
     "data": {
      "application/vnd.jupyter.widget-view+json": {
       "model_id": "",
       "version_major": 2,
       "version_minor": 0
      },
      "text/plain": [
       "FloatProgress(value=0.0, bar_style='info', description='Progress:', layout=Layout(height='25px', width='50%'),…"
      ]
     },
     "metadata": {},
     "output_type": "display_data"
    }
   ],
   "source": [
    "#Use Sample Key to get average from prices.\n",
    "AggPrecoChaveAmostra=SF_COLETA.selectExpr('ChaveAmostra as ChaveAmostraAGG'\n",
    "                                           ,'Preco21diasKG').filter(col('Pre_Aprovado')==\"Sim\").groupBy(\"ChaveAmostraAGG\").agg(round(avg(col(\"Preco21diasKG\")),3).alias('AVG_Preço_UA'))"
   ]
  },
  {
   "cell_type": "code",
   "execution_count": 66,
   "metadata": {},
   "outputs": [
    {
     "data": {
      "application/vnd.jupyter.widget-view+json": {
       "model_id": "a745c83b09df44b7a72a8b3feb456b66",
       "version_major": 2,
       "version_minor": 0
      },
      "text/plain": [
       "VBox()"
      ]
     },
     "metadata": {},
     "output_type": "display_data"
    },
    {
     "data": {
      "application/vnd.jupyter.widget-view+json": {
       "model_id": "",
       "version_major": 2,
       "version_minor": 0
      },
      "text/plain": [
       "FloatProgress(value=0.0, bar_style='info', description='Progress:', layout=Layout(height='25px', width='50%'),…"
      ]
     },
     "metadata": {},
     "output_type": "display_data"
    }
   ],
   "source": [
    "SF_COLETA=SF_COLETA.join(AggPrecoChaveAmostra\n",
    "                                    ,SF_COLETA.ChaveAmostra==AggPrecoChaveAmostra.ChaveAmostraAGG\n",
    "                                    ,how='left')\\\n",
    "                 .distinct()"
   ]
  },
  {
   "cell_type": "code",
   "execution_count": 67,
   "metadata": {},
   "outputs": [
    {
     "data": {
      "application/vnd.jupyter.widget-view+json": {
       "model_id": "177e992ee9064011aa46a1b54e4ff031",
       "version_major": 2,
       "version_minor": 0
      },
      "text/plain": [
       "VBox()"
      ]
     },
     "metadata": {},
     "output_type": "display_data"
    },
    {
     "data": {
      "application/vnd.jupyter.widget-view+json": {
       "model_id": "",
       "version_major": 2,
       "version_minor": 0
      },
      "text/plain": [
       "FloatProgress(value=0.0, bar_style='info', description='Progress:', layout=Layout(height='25px', width='50%'),…"
      ]
     },
     "metadata": {},
     "output_type": "display_data"
    }
   ],
   "source": [
    "# Upper limit and lower limit from AVG \n",
    "SF_COLETA=SF_COLETA.withColumn(\"Limite\",lit(0.1))\n",
    "SF_COLETA=SF_COLETA.withColumn(\"LimiteAVG\",round(col(\"AVG_Preço_UA\")*col(\"Limite\"),3))\n",
    "\n",
    "SF_COLETA=SF_COLETA.withColumn(\"LS_AVG_Preco_UA\",\n",
    "                         ((col('AVG_Preço_UA')+round((col('LimiteAVG')),3))))\n",
    "\n",
    "SF_COLETA=SF_COLETA.withColumn(\"LI_AVG_Preco_UA\",\n",
    "                         ((col('AVG_Preço_UA')-round((col('LimiteAVG')),3))))"
   ]
  },
  {
   "cell_type": "code",
   "execution_count": 68,
   "metadata": {},
   "outputs": [
    {
     "data": {
      "application/vnd.jupyter.widget-view+json": {
       "model_id": "5885386bf3844877be28600281658e00",
       "version_major": 2,
       "version_minor": 0
      },
      "text/plain": [
       "VBox()"
      ]
     },
     "metadata": {},
     "output_type": "display_data"
    },
    {
     "data": {
      "application/vnd.jupyter.widget-view+json": {
       "model_id": "",
       "version_major": 2,
       "version_minor": 0
      },
      "text/plain": [
       "FloatProgress(value=0.0, bar_style='info', description='Progress:', layout=Layout(height='25px', width='50%'),…"
      ]
     },
     "metadata": {},
     "output_type": "display_data"
    }
   ],
   "source": [
    "#approved\n",
    "SF_COLETA=SF_COLETA.withColumn(\"Aprovado\",\n",
    "                          when((col('Pre_aprovado')==\"Nao\") |\n",
    "                               (col('Preco21diasKG')>=col('LS_AVG_Preco_UA')) |\n",
    "                               (col('Preco21diasKG')<=col('LI_AVG_Preco_UA')),\"Nao\").otherwise(\"Sim\"))"
   ]
  },
  {
   "cell_type": "code",
   "execution_count": 69,
   "metadata": {},
   "outputs": [
    {
     "data": {
      "application/vnd.jupyter.widget-view+json": {
       "model_id": "b5b9986002954c7e934dcb989570565e",
       "version_major": 2,
       "version_minor": 0
      },
      "text/plain": [
       "VBox()"
      ]
     },
     "metadata": {},
     "output_type": "display_data"
    },
    {
     "data": {
      "application/vnd.jupyter.widget-view+json": {
       "model_id": "",
       "version_major": 2,
       "version_minor": 0
      },
      "text/plain": [
       "FloatProgress(value=0.0, bar_style='info', description='Progress:', layout=Layout(height='25px', width='50%'),…"
      ]
     },
     "metadata": {},
     "output_type": "display_data"
    }
   ],
   "source": [
    "SF_COLETA=SF_COLETA.withColumn('Filial',col('Filial SUGESTÃO'))\n",
    "SF_COLETA=SF_COLETA.withColumn('Regiao',col('Região'))"
   ]
  },
  {
   "cell_type": "code",
   "execution_count": 70,
   "metadata": {},
   "outputs": [
    {
     "data": {
      "application/vnd.jupyter.widget-view+json": {
       "model_id": "333885bed9fd4800bd7e074799ea60b0",
       "version_major": 2,
       "version_minor": 0
      },
      "text/plain": [
       "VBox()"
      ]
     },
     "metadata": {},
     "output_type": "display_data"
    },
    {
     "data": {
      "application/vnd.jupyter.widget-view+json": {
       "model_id": "",
       "version_major": 2,
       "version_minor": 0
      },
      "text/plain": [
       "FloatProgress(value=0.0, bar_style='info', description='Progress:', layout=Layout(height='25px', width='50%'),…"
      ]
     },
     "metadata": {},
     "output_type": "display_data"
    }
   ],
   "source": [
    "SF_COLETA=SF_COLETA.drop('Município corrigido'\n",
    "                        ,'Filial SUGESTÃO'\n",
    "                        ,'Região'\n",
    "                        ,'FIRST_DATE'\n",
    "                        ,'MONTH_YEAR'\n",
    "                        ,'SELLER_KEY'\n",
    "                        ,'REGION'\n",
    "                        ,'MARKS_PER_SELLERS'\n",
    "                        ,'MYAGG'\n",
    "                        ,'RGAGG'\n",
    "                        ,'ChaveAmostraAGG'\n",
    "                        ,'Limite'\n",
    "                        ,'LimiteAVG'\n",
    "                        ,'OFFICE'\n",
    "                        ,'COD_CLIENT__'\n",
    "                        ,'ICMS'\n",
    "                        ,'ST'\n",
    "                        ,'Cod_Vendedor'\n",
    "                        ,'Nome_Vendedor'\n",
    "                        ,'Mes-Ano'\n",
    "                        ,'Filial'\n",
    "                        ,'Regiao'\n",
    "                        ,'COD_PRODUCT_'\n",
    "                        ,'COD_CLIENT_'\n",
    "                        ,'CLIENT')"
   ]
  },
  {
   "cell_type": "code",
   "execution_count": 71,
   "metadata": {},
   "outputs": [
    {
     "data": {
      "application/vnd.jupyter.widget-view+json": {
       "model_id": "7853d499324e49ad92bb87c778b8e7fa",
       "version_major": 2,
       "version_minor": 0
      },
      "text/plain": [
       "VBox()"
      ]
     },
     "metadata": {},
     "output_type": "display_data"
    },
    {
     "data": {
      "application/vnd.jupyter.widget-view+json": {
       "model_id": "",
       "version_major": 2,
       "version_minor": 0
      },
      "text/plain": [
       "FloatProgress(value=0.0, bar_style='info', description='Progress:', layout=Layout(height='25px', width='50%'),…"
      ]
     },
     "metadata": {},
     "output_type": "display_data"
    }
   ],
   "source": [
    "SF_COLETA=SF_COLETA.withColumn('Group_Client_3'\n",
    "                                ,lit('Não'))\\\n",
    "                 .distinct()"
   ]
  },
  {
   "cell_type": "code",
   "execution_count": 72,
   "metadata": {},
   "outputs": [
    {
     "data": {
      "application/vnd.jupyter.widget-view+json": {
       "model_id": "d261e413e0d047a1b7663d0fd2068453",
       "version_major": 2,
       "version_minor": 0
      },
      "text/plain": [
       "VBox()"
      ]
     },
     "metadata": {},
     "output_type": "display_data"
    },
    {
     "data": {
      "application/vnd.jupyter.widget-view+json": {
       "model_id": "",
       "version_major": 2,
       "version_minor": 0
      },
      "text/plain": [
       "FloatProgress(value=0.0, bar_style='info', description='Progress:', layout=Layout(height='25px', width='50%'),…"
      ]
     },
     "metadata": {},
     "output_type": "display_data"
    }
   ],
   "source": [
    "SF_COLETA=SF_COLETA.withColumnRenamed(\"CIDADE\",\"CITY\")\\\n",
    "                    .withColumnRenamed(\"ESTADO\",\"STATE\")\\\n",
    "                    .withColumnRenamed(\"Group_Client_3\",\"GROUP_CLIENT_3\")\\\n",
    "                    .withColumnRenamed(\"CIDADEESTADO\",\"CITY_STATE\")\\\n",
    "                    .withColumnRenamed(\"OVAjustada\",\"ADJ_SALES_ORG\")\\\n",
    "                    .withColumnRenamed(\"ChaveAmostra\",\"SAMPLE_KEY\")\\\n",
    "                    .withColumnRenamed(\"ChaveFatura\",\"BILLING_KEY\")\\\n",
    "                    .withColumnRenamed(\"Preco21dias\",\"PRICE_21_DAYS\")\\\n",
    "                    .withColumnRenamed(\"Preco21diasKG\",\"PRICE_21_DAYS_KG\")\\\n",
    "                    .withColumnRenamed(\"MesAno\",\"MONTH_YEAR\")\\\n",
    "                    .withColumnRenamed(\"DiasCorridos\",\"PASS_DAYS\")\\\n",
    "                    .withColumnRenamed(\"DiasFaltantes\",\"REMAINING_DAYS\")\\\n",
    "                    .withColumnRenamed(\"ChaveVendedorMetas\",\"KEY_SELLERS_MARKS\")\\\n",
    "                    .withColumnRenamed(\"ChaveVendedor\",\"KEY_SELLERS\")\\\n",
    "                    .withColumnRenamed(\"Regiao_filial\",\"REGION\")\\\n",
    "                    .withColumnRenamed(\"Meta\",\"MARKS\")\\\n",
    "                    .withColumnRenamed(\"FilialAgente\",\"BRANCH\")\\\n",
    "                    .withColumnRenamed(\"CapacidadeFilial\",\"BRANCH_CAPACITY\")\\\n",
    "                    .withColumnRenamed(\"Pre_Aprovado\",\"PRE_APPROVED\")\\\n",
    "                    .withColumnRenamed(\"AVG_Preço_UA\",\"ANALYSIS_UNIT_AVG_PRICE\")\\\n",
    "                    .withColumnRenamed(\"LS_AVG_Preco_UA\",\"UPPER_LIMIT_ANALYSIS_UNIT_AVG_PRICE\")\\\n",
    "                    .withColumnRenamed(\"LI_AVG_Preco_UA\",\"LOWER_LIMIT_ANALYSIS_UNIT_AVG_PRICE\")\\\n",
    "                    .withColumnRenamed(\"Aprovado\",\"APPROVED\")\\\n",
    "                    .withColumnRenamed(\"ChaveAuditoria\",\"KEY_AUDIT\")\\\n",
    "                    .withColumnRenamed(\"ORG_VENDAS\",\"SALES_ORG\")\\"
   ]
  },
  {
   "cell_type": "markdown",
   "metadata": {},
   "source": [
    "# Creating parquet file"
   ]
  },
  {
   "cell_type": "code",
   "execution_count": 74,
   "metadata": {
    "scrolled": false
   },
   "outputs": [
    {
     "data": {
      "application/vnd.jupyter.widget-view+json": {
       "model_id": "05c327f0078a4021a7a42792f363ac0d",
       "version_major": 2,
       "version_minor": 0
      },
      "text/plain": [
       "VBox()"
      ]
     },
     "metadata": {},
     "output_type": "display_data"
    },
    {
     "data": {
      "application/vnd.jupyter.widget-view+json": {
       "model_id": "",
       "version_major": 2,
       "version_minor": 0
      },
      "text/plain": [
       "FloatProgress(value=0.0, bar_style='info', description='Progress:', layout=Layout(height='25px', width='50%'),…"
      ]
     },
     "metadata": {},
     "output_type": "display_data"
    }
   ],
   "source": [
    "SF_COLETA.write.mode('overwrite').parquet(\"s3a://\"+SPG_OUTPUT_BUCKET+\"/\"+SPG_OUTPUT_BUCKET_SALESFORCE)"
   ]
  }
 ],
 "metadata": {
  "kernelspec": {
   "display_name": "Python 3",
   "language": "python",
   "name": "python3"
  },
  "language_info": {
   "codemirror_mode": {
    "name": "ipython",
    "version": 3
   },
   "file_extension": ".py",
   "mimetype": "text/x-python",
   "name": "python",
   "nbconvert_exporter": "python",
   "pygments_lexer": "ipython3",
   "version": "3.7.5"
  }
 },
 "nbformat": 4,
 "nbformat_minor": 2
}
