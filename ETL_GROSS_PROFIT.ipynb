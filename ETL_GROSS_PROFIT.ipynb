{
 "cells": [
  {
   "cell_type": "markdown",
   "metadata": {},
   "source": [
    "# Base Lucro Bruto + View\n",
    "\n",
    "Esta base faz merge dos dados do Lucro Bruto com os dados da View v18\n",
    "\n",
    "\n",
    "Esta base extrai 3 diferentes niveis de granulariedade e as colunas presentes dependem deste nivel\n",
    "\n",
    "Nivel: Data Fatura + Oridem + Item [Chave: Ordem + Item]\n",
    "Nivel: Data Fatura + SKU [Chave: SKU]\n",
    "Nivel: Data Fatura + GPD [Chave: GPD]\n",
    "\n",
    "O código desenvolvido em PySpark\n",
    "\n",
    "Utilizando boto3 para fazer query direto via Athena para dados da View\n",
    "E carregando .parquet do LucroBruto\n"
   ]
  },
  {
   "cell_type": "markdown",
   "metadata": {},
   "source": [
    "## Imports & Configs"
   ]
  },
  {
   "cell_type": "code",
   "execution_count": 36,
   "metadata": {},
   "outputs": [
    {
     "data": {
      "application/vnd.jupyter.widget-view+json": {
       "model_id": "09f71fdef3ce475fa9b31f10c165a346",
       "version_major": 2,
       "version_minor": 0
      },
      "text/plain": [
       "VBox()"
      ]
     },
     "metadata": {},
     "output_type": "display_data"
    },
    {
     "data": {
      "application/vnd.jupyter.widget-view+json": {
       "model_id": "",
       "version_major": 2,
       "version_minor": 0
      },
      "text/plain": [
       "FloatProgress(value=0.0, bar_style='info', description='Progress:', layout=Layout(height='25px', width='50%'),…"
      ]
     },
     "metadata": {},
     "output_type": "display_data"
    },
    {
     "name": "stderr",
     "output_type": "stream",
     "text": [
      "No module named 'pandas'\n",
      "Traceback (most recent call last):\n",
      "ModuleNotFoundError: No module named 'pandas'\n",
      "\n"
     ]
    }
   ],
   "source": [
    "#imports Libs\n",
    "\n",
    "import os\n",
    "import pandas as pd\n",
    "import boto3\n",
    "import time\n",
    "from botocore.client import ClientError\n",
    "\n",
    "import pyarrow.parquet as pq\n",
    "import s3fs\n",
    "\n",
    "import findspark                                              #Import library to Search for Spark Installation  \n",
    "\n",
    "findspark.init()                                              #Search Spark Installation\n",
    "\n",
    "import pyspark                                                #Only run after findspark.init()\n",
    "\n",
    "from pyspark.sql import SparkSession                          #Import of Spark Session\n",
    "from pyspark import SparkContext as spark                     #Import the Regular Spark Contex \n",
    "from pyspark.sql import SQLContext                            #Import the SQL Spark Contex \n",
    "from pyspark.sql.window import Window\n",
    "from pyspark.sql.functions import *\n",
    "from pyspark.sql import functions as F\n",
    "from pyspark.sql.types import *\n",
    "from pyspark.sql.functions import year, month, dayofmonth\n",
    "spark = SparkSession.builder.getOrCreate()\n",
    "\n",
    "\n",
    "\n",
    "sc = spark.sparkContext                                       #Initialize Spark"
   ]
  },
  {
   "cell_type": "markdown",
   "metadata": {},
   "source": [
    "-------------"
   ]
  },
  {
   "cell_type": "markdown",
   "metadata": {},
   "source": [
    "# Creating Variables"
   ]
  },
  {
   "cell_type": "markdown",
   "metadata": {},
   "source": [
    "## Database"
   ]
  },
  {
   "cell_type": "code",
   "execution_count": null,
   "metadata": {},
   "outputs": [],
   "source": [
    "ATHENA_SPG = os.environ['SPG_DATABASE']"
   ]
  },
  {
   "cell_type": "code",
   "execution_count": null,
   "metadata": {},
   "outputs": [],
   "source": [
    "ATHENA_HANA = os.environ['GERDAU_HANA_DATABASE']"
   ]
  },
  {
   "cell_type": "code",
   "execution_count": null,
   "metadata": {},
   "outputs": [],
   "source": [
    "ATHENA_SALES = os.environ['GERDAU_SALES_DATABASE']"
   ]
  },
  {
   "cell_type": "markdown",
   "metadata": {},
   "source": [
    "## Buckets"
   ]
  },
  {
   "cell_type": "code",
   "execution_count": null,
   "metadata": {},
   "outputs": [],
   "source": [
    "SPG_MANUAL_INPUT_BUCKET = os.environ['MANUAL_INPUT_BUCKET']"
   ]
  },
  {
   "cell_type": "code",
   "execution_count": null,
   "metadata": {},
   "outputs": [],
   "source": [
    "SPG_INTEGRATION_INPUT_BUCKET = os.environ['INTEGRATION_INPUT_BUCKET']"
   ]
  },
  {
   "cell_type": "code",
   "execution_count": null,
   "metadata": {},
   "outputs": [],
   "source": [
    "SPG_QUERY_BUCKET = os.environ['QUERY_BUCKET']"
   ]
  },
  {
   "cell_type": "code",
   "execution_count": null,
   "metadata": {},
   "outputs": [],
   "source": [
    "GERDAU_BUCKET = os.environ['GERDAU_BUCKET']"
   ]
  },
  {
   "cell_type": "code",
   "execution_count": null,
   "metadata": {},
   "outputs": [],
   "source": [
    "SPG_OUTPUT_BUCKET = os.environ['OUTPUT_BUCKET']"
   ]
  },
  {
   "cell_type": "code",
   "execution_count": null,
   "metadata": {},
   "outputs": [],
   "source": [
    "SPG_INPUT_BUCKET = os.environ['INPUT_BUCKET_FROM_OUTPUT']"
   ]
  },
  {
   "cell_type": "markdown",
   "metadata": {},
   "source": [
    "## Input Paths"
   ]
  },
  {
   "cell_type": "code",
   "execution_count": null,
   "metadata": {},
   "outputs": [],
   "source": [
    "QUERY_VIEW = \"SELECT billing_date, sales_order_date, sales_org_cod,gpm, gpd_cod, gpd_desc, material_cod, material_desc, sales_number, sales_item, issuing_city, issuing_state, quantity_ton, practiced_price, norm_practiced_price, politic_price, list_price, rbv, rlv, receiving_customer_cod, branch  FROM db_smart_pricing.vw_strategy_sample_v18  WHERE (billing_date >= '2019-01-01' or sales_order_date >= '2019-01-01')  AND manufacture LIKE '%Praticado%';\" "
   ]
  },
  {
   "cell_type": "code",
   "execution_count": null,
   "metadata": {},
   "outputs": [],
   "source": [
    "SPG_INPUT_BUCKET_GP = \"SPG_LB/LB_FULL\""
   ]
  },
  {
   "cell_type": "markdown",
   "metadata": {},
   "source": [
    "## Output Paths"
   ]
  },
  {
   "cell_type": "code",
   "execution_count": null,
   "metadata": {},
   "outputs": [],
   "source": [
    "SPG_OUTPUT_BUCKET_GP_STRATEGIC = \"SPG_LB/LB_STRATEGIC\""
   ]
  },
  {
   "cell_type": "code",
   "execution_count": null,
   "metadata": {},
   "outputs": [],
   "source": [
    "SPG_OUTPUT_BUCKET_GP_ORDER_ITEM = \"SPG_LB/LB_OrdemItem\""
   ]
  },
  {
   "cell_type": "code",
   "execution_count": null,
   "metadata": {},
   "outputs": [],
   "source": [
    "SPG_OUTPUT_BUCKET_GP_SALES_DATE = \"SPG_LB/LB_SalesOrderDate\""
   ]
  },
  {
   "cell_type": "code",
   "execution_count": null,
   "metadata": {},
   "outputs": [],
   "source": [
    "SPG_OUTPUT_BUCKET_GP_SKU = \"SPG_LB/LB_SKU\""
   ]
  },
  {
   "cell_type": "code",
   "execution_count": null,
   "metadata": {},
   "outputs": [],
   "source": [
    "SPG_OUTPUT_BUCKET_GP_GPD = \"SPG_LB/LB_GPD\""
   ]
  },
  {
   "cell_type": "code",
   "execution_count": null,
   "metadata": {},
   "outputs": [],
   "source": [
    "SPG_OUTPUT_BUCKET_GP_OV = \"SPG_LB/LB_OV\""
   ]
  },
  {
   "cell_type": "code",
   "execution_count": null,
   "metadata": {},
   "outputs": [],
   "source": [
    "SPG_OUTPUT_BUCKET_GP_SOFC = \"SPG_LB/LB_SOFC\""
   ]
  },
  {
   "cell_type": "code",
   "execution_count": null,
   "metadata": {},
   "outputs": [],
   "source": [
    "SPG_OUTPUT_BUCKET_GP_SF = \"SPG_LB/LB_SF.csv\""
   ]
  },
  {
   "cell_type": "markdown",
   "metadata": {},
   "source": [
    "## Boto3 Variables"
   ]
  },
  {
   "cell_type": "code",
   "execution_count": null,
   "metadata": {},
   "outputs": [],
   "source": [
    "#S3 Configuration\n",
    "S3_ATHENA_INPUT =  's3://'+SPG_QUERY_BUCKET+'/'+SPG_QUERY_BUCKET_ATHENA"
   ]
  },
  {
   "cell_type": "code",
   "execution_count": null,
   "metadata": {},
   "outputs": [],
   "source": [
    "S3_ATHENA_OUTPUT = 's3://'+SPG_QUERY_BUCKET+'/'+SPG_QUERY_BUCKET_ATHENA"
   ]
  },
  {
   "cell_type": "code",
   "execution_count": null,
   "metadata": {},
   "outputs": [],
   "source": [
    "region_name = os.environ['AWS_REGION']"
   ]
  },
  {
   "cell_type": "code",
   "execution_count": null,
   "metadata": {},
   "outputs": [],
   "source": [
    "aws_access_key_id = os.environ['AWS_ACCESS_KEY']"
   ]
  },
  {
   "cell_type": "code",
   "execution_count": null,
   "metadata": {},
   "outputs": [],
   "source": [
    "aws_secret_access_key = os.environ['AWS_SECRET_KEY']"
   ]
  },
  {
   "cell_type": "markdown",
   "metadata": {},
   "source": [
    "-------------"
   ]
  },
  {
   "cell_type": "markdown",
   "metadata": {},
   "source": [
    "# Creating Defined Functions"
   ]
  },
  {
   "cell_type": "code",
   "execution_count": null,
   "metadata": {},
   "outputs": [],
   "source": [
    "# Run Query\n",
    "\n",
    "def run_query(query, database, s3_output):\n",
    "    response = client.start_query_execution(\n",
    "        QueryString=query,\n",
    "        QueryExecutionContext={\n",
    "            'Database': database\n",
    "            },\n",
    "        ResultConfiguration={\n",
    "            'OutputLocation': s3_output,\n",
    "            }\n",
    "        )\n",
    "    return response"
   ]
  },
  {
   "cell_type": "code",
   "execution_count": null,
   "metadata": {},
   "outputs": [],
   "source": [
    "def get_aws_path(query,database,s3_output):\n",
    "    response = run_query(query, database, s3_output)\n",
    "    file_query = response['QueryExecutionId']\n",
    "    file_metadata = response['QueryExecutionId'] + '.metadata'\n",
    "    return file_query"
   ]
  },
  {
   "cell_type": "code",
   "execution_count": null,
   "metadata": {},
   "outputs": [],
   "source": [
    "# Wating for 300 seconds until the end of the upload\n",
    "\n",
    "def wait_athena_load(Bucket, Key):\n",
    "    time_to_wait = 300\n",
    "    time_counter = 0\n",
    "\n",
    "    while True:\n",
    "        try:\n",
    "            s3.meta.client.head_object(Bucket=Bucket,Key=Key)\n",
    "        except ClientError:\n",
    "            time.sleep(1)\n",
    "            time_counter += 1\n",
    "            if time_counter > time_to_wait:\n",
    "                break\n",
    "        else:\n",
    "            break"
   ]
  },
  {
   "cell_type": "markdown",
   "metadata": {},
   "source": [
    "-------------"
   ]
  },
  {
   "cell_type": "markdown",
   "metadata": {},
   "source": [
    "# Configuring Boto3"
   ]
  },
  {
   "cell_type": "code",
   "execution_count": null,
   "metadata": {},
   "outputs": [],
   "source": [
    "#Athena Client Configuration\n",
    "\n",
    "client = boto3.client('athena', \n",
    "    aws_access_key_id = aws_access_key_id, \n",
    "    aws_secret_access_key = aws_secret_access_key, \n",
    "    region_name = region_name )"
   ]
  },
  {
   "cell_type": "code",
   "execution_count": null,
   "metadata": {},
   "outputs": [],
   "source": [
    "#S3 Resource Configuration\n",
    "\n",
    "s3 = boto3.resource('s3',\n",
    "    aws_access_key_id = aws_access_key_id,\n",
    "    aws_secret_access_key = aws_secret_access_key,\n",
    "    region_name = region_name)"
   ]
  },
  {
   "cell_type": "markdown",
   "metadata": {},
   "source": [
    "----------"
   ]
  },
  {
   "cell_type": "markdown",
   "metadata": {},
   "source": [
    "# Importing Tables"
   ]
  },
  {
   "cell_type": "code",
   "execution_count": 11,
   "metadata": {
    "scrolled": false
   },
   "outputs": [
    {
     "data": {
      "application/vnd.jupyter.widget-view+json": {
       "model_id": "650b7e01a301405aa1cebd2f68cf9357",
       "version_major": 2,
       "version_minor": 0
      },
      "text/plain": [
       "VBox()"
      ]
     },
     "metadata": {},
     "output_type": "display_data"
    },
    {
     "data": {
      "application/vnd.jupyter.widget-view+json": {
       "model_id": "",
       "version_major": 2,
       "version_minor": 0
      },
      "text/plain": [
       "FloatProgress(value=0.0, bar_style='info', description='Progress:', layout=Layout(height='25px', width='50%'),…"
      ]
     },
     "metadata": {},
     "output_type": "display_data"
    }
   ],
   "source": [
    "# import Lucro Bruto\n",
    "\n",
    "df_lb_full = spark.read.parquet(\"s3a://\"+SPG_INPUT_BUCKET+\"/\"+SPG_INPUT_BUCKET_GP)"
   ]
  },
  {
   "cell_type": "code",
   "execution_count": 8,
   "metadata": {},
   "outputs": [
    {
     "data": {
      "application/vnd.jupyter.widget-view+json": {
       "model_id": "6de92105d7d74f688358c60337fa8c8f",
       "version_major": 2,
       "version_minor": 0
      },
      "text/plain": [
       "VBox()"
      ]
     },
     "metadata": {},
     "output_type": "display_data"
    },
    {
     "data": {
      "application/vnd.jupyter.widget-view+json": {
       "model_id": "",
       "version_major": 2,
       "version_minor": 0
      },
      "text/plain": [
       "FloatProgress(value=0.0, bar_style='info', description='Progress:', layout=Layout(height='25px', width='50%'),…"
      ]
     },
     "metadata": {},
     "output_type": "display_data"
    },
    {
     "name": "stderr",
     "output_type": "stream",
     "text": [
      "name 'database' is not defined\n",
      "Traceback (most recent call last):\n",
      "NameError: name 'database' is not defined\n",
      "\n"
     ]
    }
   ],
   "source": [
    "# Import CSV from View\n",
    "\n",
    "athena_response = get_aws_path(QUERY_VIEW,ATHENA_SPG,S3_ATHENA_OUTPUT)\n",
    "\n",
    "wait_athena_load(SPG_QUERY_BUCKET, SPG_QUERY_BUCKET_ATHENA+\"/\"+athena_response+\".csv\")"
   ]
  },
  {
   "cell_type": "code",
   "execution_count": 10,
   "metadata": {},
   "outputs": [
    {
     "data": {
      "application/vnd.jupyter.widget-view+json": {
       "model_id": "59c84cd37edf422fa4c2a0f157372301",
       "version_major": 2,
       "version_minor": 0
      },
      "text/plain": [
       "VBox()"
      ]
     },
     "metadata": {},
     "output_type": "display_data"
    },
    {
     "data": {
      "application/vnd.jupyter.widget-view+json": {
       "model_id": "",
       "version_major": 2,
       "version_minor": 0
      },
      "text/plain": [
       "FloatProgress(value=0.0, bar_style='info', description='Progress:', layout=Layout(height='25px', width='50%'),…"
      ]
     },
     "metadata": {},
     "output_type": "display_data"
    },
    {
     "name": "stderr",
     "output_type": "stream",
     "text": [
      "name 'view_path' is not defined\n",
      "Traceback (most recent call last):\n",
      "NameError: name 'view_path' is not defined\n",
      "\n"
     ]
    }
   ],
   "source": [
    "df_view = spark.read.csv(\"s3a://\"+SPG_QUERY_BUCKET+\"/\"+SPG_QUERY_BUCKET_ATHENA+\"/\"+athena_response+\".csv\", header = 'true')"
   ]
  },
  {
   "cell_type": "markdown",
   "metadata": {},
   "source": [
    "---------"
   ]
  },
  {
   "cell_type": "markdown",
   "metadata": {},
   "source": [
    "# Preparing Table"
   ]
  },
  {
   "cell_type": "code",
   "execution_count": 12,
   "metadata": {},
   "outputs": [
    {
     "data": {
      "application/vnd.jupyter.widget-view+json": {
       "model_id": "5a03e875647d44408adeb3fc51d1c771",
       "version_major": 2,
       "version_minor": 0
      },
      "text/plain": [
       "VBox()"
      ]
     },
     "metadata": {},
     "output_type": "display_data"
    },
    {
     "data": {
      "application/vnd.jupyter.widget-view+json": {
       "model_id": "",
       "version_major": 2,
       "version_minor": 0
      },
      "text/plain": [
       "FloatProgress(value=0.0, bar_style='info', description='Progress:', layout=Layout(height='25px', width='50%'),…"
      ]
     },
     "metadata": {},
     "output_type": "display_data"
    },
    {
     "name": "stderr",
     "output_type": "stream",
     "text": [
      "name 'df_view' is not defined\n",
      "Traceback (most recent call last):\n",
      "NameError: name 'df_view' is not defined\n",
      "\n"
     ]
    }
   ],
   "source": [
    "# BKP_DF \n",
    "\n",
    "ordem_view =  df_view\n",
    "\n",
    "df_lb = df_lb_full.drop(\"GTC101018\", 'GTC100511', 'GTC100020')\n",
    "\n",
    "df_lb = df_lb.withColumn(\"QUANTITY_TON_BW\", col(\"QUANTITY_TON\").cast(\"float\"))\\"
   ]
  },
  {
   "cell_type": "code",
   "execution_count": 13,
   "metadata": {},
   "outputs": [
    {
     "data": {
      "application/vnd.jupyter.widget-view+json": {
       "model_id": "e8114d915af343808752d2bf6d023d09",
       "version_major": 2,
       "version_minor": 0
      },
      "text/plain": [
       "VBox()"
      ]
     },
     "metadata": {},
     "output_type": "display_data"
    },
    {
     "data": {
      "application/vnd.jupyter.widget-view+json": {
       "model_id": "",
       "version_major": 2,
       "version_minor": 0
      },
      "text/plain": [
       "FloatProgress(value=0.0, bar_style='info', description='Progress:', layout=Layout(height='25px', width='50%'),…"
      ]
     },
     "metadata": {},
     "output_type": "display_data"
    },
    {
     "name": "stderr",
     "output_type": "stream",
     "text": [
      "name 'year' is not defined\n",
      "Traceback (most recent call last):\n",
      "NameError: name 'year' is not defined\n",
      "\n"
     ]
    }
   ],
   "source": [
    "df_lb_full = df_lb_full \\\n",
    "    .withColumnRenamed(\"GTC101018\",\"ISSUING_STATE\")\\\n",
    "    .withColumnRenamed(\"DATA\",\"SALES_ORDER_DATE\")\\\n",
    "    .withColumnRenamed(\"SALES_NUMBER_ITEM\",\"SALES_ITEM\")\\\n",
    "    .withColumnRenamed(\"GTC100511\",\"SALES_ORG_COD\")\\\n",
    "    .withColumnRenamed(\"GTC100020\",\"MATERIAL_COD\")\\\n",
    "    .withColumn('year', year(col('SALES_ORDER_DATE'))) \\\n",
    "    .withColumn('month', month(col('SALES_ORDER_DATE')))\\\n",
    "    .withColumn('KEY_LB', concat(col('SALES_NUMBER'),lit('_'),col('SALES_ITEM')))\\\n",
    "    .withColumn('UF', concat(lit('BR/'),col('ISSUING_STATE')))\\\n",
    "    .withColumn('FREIGHT_Full', col('SHIP_DEL_LOAD_C_C') + col('PORT_EXPENSES') + col('FREIGHT') + col('COGS_ADJUSTMENTS'))"
   ]
  },
  {
   "cell_type": "code",
   "execution_count": 14,
   "metadata": {},
   "outputs": [
    {
     "data": {
      "application/vnd.jupyter.widget-view+json": {
       "model_id": "6c2407a01afa4d15872a1bdc44a72280",
       "version_major": 2,
       "version_minor": 0
      },
      "text/plain": [
       "VBox()"
      ]
     },
     "metadata": {},
     "output_type": "display_data"
    },
    {
     "data": {
      "application/vnd.jupyter.widget-view+json": {
       "model_id": "",
       "version_major": 2,
       "version_minor": 0
      },
      "text/plain": [
       "FloatProgress(value=0.0, bar_style='info', description='Progress:', layout=Layout(height='25px', width='50%'),…"
      ]
     },
     "metadata": {},
     "output_type": "display_data"
    },
    {
     "name": "stderr",
     "output_type": "stream",
     "text": [
      "name 'col' is not defined\n",
      "Traceback (most recent call last):\n",
      "NameError: name 'col' is not defined\n",
      "\n"
     ]
    }
   ],
   "source": [
    "df_lb_full = df_lb_full\\\n",
    "    .withColumn(\"SALES_ITEM\", col(\"SALES_ITEM\").cast(\"int\"))\\\n",
    "    .withColumn(\"QUANTITY_TON_BW\", col(\"QUANTITY_TON\").cast(\"float\"))\\\n",
    "    .withColumn(\"SALES_NUMBER\", col(\"SALES_NUMBER\").cast(\"int\"))\\\n",
    "    .withColumn(\"GPD_COD\", col(\"GPD_COD\").cast(\"int\"))\\\n",
    "    .withColumn(\"MATERIAL_COD\", col(\"MATERIAL_COD\").cast(\"int\"))\\"
   ]
  },
  {
   "cell_type": "code",
   "execution_count": 15,
   "metadata": {},
   "outputs": [
    {
     "data": {
      "application/vnd.jupyter.widget-view+json": {
       "model_id": "3429051baa734e8ca5cadd726aba3e86",
       "version_major": 2,
       "version_minor": 0
      },
      "text/plain": [
       "VBox()"
      ]
     },
     "metadata": {},
     "output_type": "display_data"
    },
    {
     "data": {
      "application/vnd.jupyter.widget-view+json": {
       "model_id": "",
       "version_major": 2,
       "version_minor": 0
      },
      "text/plain": [
       "FloatProgress(value=0.0, bar_style='info', description='Progress:', layout=Layout(height='25px', width='50%'),…"
      ]
     },
     "metadata": {},
     "output_type": "display_data"
    },
    {
     "name": "stderr",
     "output_type": "stream",
     "text": [
      "'DataFrame' object has no attribute 'SALES_ORG_COD'\n",
      "Traceback (most recent call last):\n",
      "  File \"/usr/lib/spark/python/lib/pyspark.zip/pyspark/sql/dataframe.py\", line 1301, in __getattr__\n",
      "    \"'%s' object has no attribute '%s'\" % (self.__class__.__name__, name))\n",
      "AttributeError: 'DataFrame' object has no attribute 'SALES_ORG_COD'\n",
      "\n"
     ]
    }
   ],
   "source": [
    "filtred_OV = ['BRIN','BRIO','BRDI','BRDO','BRCC','BRCO','BRCG','BRGO']\n",
    "\n",
    "df_lb_full = df_lb_full.where(df_lb_full.SALES_ORG_COD.isin(filtred_OV))"
   ]
  },
  {
   "cell_type": "code",
   "execution_count": 16,
   "metadata": {},
   "outputs": [
    {
     "data": {
      "application/vnd.jupyter.widget-view+json": {
       "model_id": "23796cf1697940188c7693b8c75ae38c",
       "version_major": 2,
       "version_minor": 0
      },
      "text/plain": [
       "VBox()"
      ]
     },
     "metadata": {},
     "output_type": "display_data"
    },
    {
     "data": {
      "application/vnd.jupyter.widget-view+json": {
       "model_id": "",
       "version_major": 2,
       "version_minor": 0
      },
      "text/plain": [
       "FloatProgress(value=0.0, bar_style='info', description='Progress:', layout=Layout(height='25px', width='50%'),…"
      ]
     },
     "metadata": {},
     "output_type": "display_data"
    },
    {
     "name": "stderr",
     "output_type": "stream",
     "text": [
      "name 'when' is not defined\n",
      "Traceback (most recent call last):\n",
      "NameError: name 'when' is not defined\n",
      "\n"
     ]
    }
   ],
   "source": [
    "df_lb_full=df_lb_full.withColumn(\"SALES_ORG_COD\", when(df_lb_full.SALES_ORG_COD.like(\"BRCO\"), \"BRCC\")\\\n",
    "                                                    .otherwise(when(df_lb_full.SALES_ORG_COD.like(\"BRGO\"), \"BRCG\")\\\n",
    "                                                              .otherwise(when(df_lb_full.SALES_ORG_COD.like(\"BRIO\"), \"BRIN\")\\\n",
    "                                                                        .otherwise(when(df_lb_full.SALES_ORG_COD.like(\"BRDO\"), \"BRDI\")\n",
    "                                                                                  .otherwise(df_lb_full.SALES_ORG_COD)))))\\"
   ]
  },
  {
   "cell_type": "code",
   "execution_count": 17,
   "metadata": {},
   "outputs": [
    {
     "data": {
      "application/vnd.jupyter.widget-view+json": {
       "model_id": "ec112af0ea974b00a215038783f3f4c9",
       "version_major": 2,
       "version_minor": 0
      },
      "text/plain": [
       "VBox()"
      ]
     },
     "metadata": {},
     "output_type": "display_data"
    },
    {
     "data": {
      "application/vnd.jupyter.widget-view+json": {
       "model_id": "",
       "version_major": 2,
       "version_minor": 0
      },
      "text/plain": [
       "FloatProgress(value=0.0, bar_style='info', description='Progress:', layout=Layout(height='25px', width='50%'),…"
      ]
     },
     "metadata": {},
     "output_type": "display_data"
    },
    {
     "name": "stderr",
     "output_type": "stream",
     "text": [
      "name 'df_view' is not defined\n",
      "Traceback (most recent call last):\n",
      "NameError: name 'df_view' is not defined\n",
      "\n"
     ]
    }
   ],
   "source": [
    "df_lb_full=df_lb_full.join(df_view.select(df_view.material_cod.cast(\"int\").alias(\"MATERIAL_COD\")\n",
    "                                          ,df_view.sales_org_cod.alias(\"SALES_ORG_COD\")\n",
    "                                          ,df_view.gpd_cod.cast(\"int\").alias(\"gpd_cod_drop\")\n",
    "                                          ,df_view.gpd_desc.alias(\"GPD_DESC\")).distinct(),on=['material_cod','sales_org_cod'],how='left')"
   ]
  },
  {
   "cell_type": "code",
   "execution_count": 18,
   "metadata": {},
   "outputs": [
    {
     "data": {
      "application/vnd.jupyter.widget-view+json": {
       "model_id": "19864d268e4e441ea79dc033bfe53fd6",
       "version_major": 2,
       "version_minor": 0
      },
      "text/plain": [
       "VBox()"
      ]
     },
     "metadata": {},
     "output_type": "display_data"
    },
    {
     "data": {
      "application/vnd.jupyter.widget-view+json": {
       "model_id": "",
       "version_major": 2,
       "version_minor": 0
      },
      "text/plain": [
       "FloatProgress(value=0.0, bar_style='info', description='Progress:', layout=Layout(height='25px', width='50%'),…"
      ]
     },
     "metadata": {},
     "output_type": "display_data"
    },
    {
     "name": "stderr",
     "output_type": "stream",
     "text": [
      "name 'when' is not defined\n",
      "Traceback (most recent call last):\n",
      "NameError: name 'when' is not defined\n",
      "\n"
     ]
    }
   ],
   "source": [
    "df_lb_full=df_lb_full.withColumn(\"GPD_COD\", when(df_lb_full.GPD_COD.isNull(), df_lb_full.gpd_cod_drop)\\\n",
    "                                                .otherwise(df_lb_full.GPD_COD))\\\n",
    "                     .drop(\"gpd_cod_drop\")"
   ]
  },
  {
   "cell_type": "code",
   "execution_count": 19,
   "metadata": {},
   "outputs": [
    {
     "data": {
      "application/vnd.jupyter.widget-view+json": {
       "model_id": "8436d9b568f34f2080eb0fed7a6947c8",
       "version_major": 2,
       "version_minor": 0
      },
      "text/plain": [
       "VBox()"
      ]
     },
     "metadata": {},
     "output_type": "display_data"
    },
    {
     "data": {
      "application/vnd.jupyter.widget-view+json": {
       "model_id": "",
       "version_major": 2,
       "version_minor": 0
      },
      "text/plain": [
       "FloatProgress(value=0.0, bar_style='info', description='Progress:', layout=Layout(height='25px', width='50%'),…"
      ]
     },
     "metadata": {},
     "output_type": "display_data"
    }
   ],
   "source": [
    "#df_lb_full=df_lb_full.filter(~df_lb_full.gpd_desc.isNull())"
   ]
  },
  {
   "cell_type": "markdown",
   "metadata": {},
   "source": [
    "## Ordem + Item"
   ]
  },
  {
   "cell_type": "code",
   "execution_count": 20,
   "metadata": {},
   "outputs": [
    {
     "data": {
      "application/vnd.jupyter.widget-view+json": {
       "model_id": "ed8c3e363bd84802b97da3933767e538",
       "version_major": 2,
       "version_minor": 0
      },
      "text/plain": [
       "VBox()"
      ]
     },
     "metadata": {},
     "output_type": "display_data"
    },
    {
     "data": {
      "application/vnd.jupyter.widget-view+json": {
       "model_id": "",
       "version_major": 2,
       "version_minor": 0
      },
      "text/plain": [
       "FloatProgress(value=0.0, bar_style='info', description='Progress:', layout=Layout(height='25px', width='50%'),…"
      ]
     },
     "metadata": {},
     "output_type": "display_data"
    },
    {
     "name": "stderr",
     "output_type": "stream",
     "text": [
      "name 'ordem_view' is not defined\n",
      "Traceback (most recent call last):\n",
      "NameError: name 'ordem_view' is not defined\n",
      "\n"
     ]
    }
   ],
   "source": [
    "# Cria Coluna Mês e Ano\n",
    "\n",
    "ordem_view = ordem_view \\\n",
    "            .withColumn('year', year(col('billing_date'))) \\\n",
    "            .withColumn('month', month(col('billing_date')))"
   ]
  },
  {
   "cell_type": "code",
   "execution_count": 21,
   "metadata": {},
   "outputs": [
    {
     "data": {
      "application/vnd.jupyter.widget-view+json": {
       "model_id": "a0a6d344c9be49a4b215fe17c22e48e4",
       "version_major": 2,
       "version_minor": 0
      },
      "text/plain": [
       "VBox()"
      ]
     },
     "metadata": {},
     "output_type": "display_data"
    },
    {
     "data": {
      "application/vnd.jupyter.widget-view+json": {
       "model_id": "",
       "version_major": 2,
       "version_minor": 0
      },
      "text/plain": [
       "FloatProgress(value=0.0, bar_style='info', description='Progress:', layout=Layout(height='25px', width='50%'),…"
      ]
     },
     "metadata": {},
     "output_type": "display_data"
    },
    {
     "name": "stderr",
     "output_type": "stream",
     "text": [
      "name 'ordem_view' is not defined\n",
      "Traceback (most recent call last):\n",
      "NameError: name 'ordem_view' is not defined\n",
      "\n"
     ]
    }
   ],
   "source": [
    "# Group BY ordem_item por data\n",
    "\n",
    "ordem_item = ordem_view \\\n",
    "    .withColumn(\"pp_x_volume\", col(\"practiced_price\") * col(\"quantity_ton\")) \\\n",
    "    .withColumn(\"ppn_x_volume\", col(\"preco_prat_norm\") * col(\"quantity_ton\")) \\\n",
    "    .groupBy('year', 'month', 'sales_order_date','gpm','gpd_cod','gpd_desc', 'material_desc', 'material_cod' ,'sales_number','sales_item','sales_org_cod','receiving_customer_cod','branch','issuing_state') \\\n",
    "    .agg(F.sum(\"quantity_ton\").alias(\"quantity_ton\"), \\\n",
    "         F.sum(\"rbv\").alias(\"rbv\"), \\\n",
    "         F.sum(\"rlv\").alias(\"rlv\"), \\\n",
    "         F.sum(\"practiced_price\").alias(\"sum_practiced_price\"), \\\n",
    "         F.sum(\"pp_x_volume\").alias(\"sum_pp_x_volume\"), \\\n",
    "         F.sum(\"preco_prat_norm\").alias(\"sum_preco_prat_norm\"), \\\n",
    "         F.sum(\"ppn_x_volume\").alias(\"sum_ppn_x_volume\")) \\\n",
    "    .withColumn(\"practiced_price_weighted_average\", col(\"sum_practiced_price\") / col(\"sum_pp_x_volume\")) \\\n",
    "    .withColumn(\"preco_prat_norm_weighted_average\", col(\"sum_preco_prat_norm\") / col(\"sum_ppn_x_volume\")) \\\n",
    "    .drop('pp_x_volume', 'ppn_x_volume', 'sum_practiced_price','sum_pp_x_volume','sum_preco_prat_norm','sum_ppn_x_volume')"
   ]
  },
  {
   "cell_type": "markdown",
   "metadata": {},
   "source": [
    "## LB_View Ordem + Item"
   ]
  },
  {
   "cell_type": "code",
   "execution_count": 22,
   "metadata": {},
   "outputs": [
    {
     "data": {
      "application/vnd.jupyter.widget-view+json": {
       "model_id": "518b97c975e2482cb736a7a22178beee",
       "version_major": 2,
       "version_minor": 0
      },
      "text/plain": [
       "VBox()"
      ]
     },
     "metadata": {},
     "output_type": "display_data"
    },
    {
     "data": {
      "application/vnd.jupyter.widget-view+json": {
       "model_id": "",
       "version_major": 2,
       "version_minor": 0
      },
      "text/plain": [
       "FloatProgress(value=0.0, bar_style='info', description='Progress:', layout=Layout(height='25px', width='50%'),…"
      ]
     },
     "metadata": {},
     "output_type": "display_data"
    },
    {
     "name": "stderr",
     "output_type": "stream",
     "text": [
      "name 'ordem_item' is not defined\n",
      "Traceback (most recent call last):\n",
      "NameError: name 'ordem_item' is not defined\n",
      "\n"
     ]
    }
   ],
   "source": [
    "# Cria chave para Join\n",
    "\n",
    "ordem_item = ordem_item \\\n",
    "    .withColumn('KEY_LB_DATA', concat(col('year'), lit('-'), col('month'), lit('_'),col('sales_number'), lit('_'), col('sales_item')))\n",
    "\n",
    "# Sumariza Frete\n",
    "\n",
    "df_lb = df_lb \\\n",
    "    .withColumn('FREIGHT_Full', col('SHIP_DEL_LOAD_C_C') + col('PORT_EXPENSES') + col('FREIGHT') + col('COGS_ADJUSTMENTS'))\n",
    "                \n",
    "  \n",
    "# Select Colunas LB\n",
    "\n",
    "df_lb = df_lb.select('KEY_LB_DATA', 'COGS_TOTAL','GROSS_PROFIT_BW','NET_SALES','FREIGHT_Full','Quantity_ton_bw', 'COMISSION_TO_AGENTS')\n",
    "\n",
    "\n",
    "# Join Ordem View + Lucro Bruto\n",
    "\n",
    "LB_View = ordem_item.join(df_lb, on=['KEY_LB_DATA'], how='left')\n",
    "\n",
    "# Limpa nulls\n",
    "\n",
    "LB_View = LB_View.filter(LB_View.GROSS_PROFIT_BW.isNotNull())\n",
    "\n",
    "# Cria chave para View por Fatura\n",
    "\n",
    "LB_View = LB_View \\\n",
    "    .withColumn('KEY_LB', concat(col('sales_number'), lit('_'), col('sales_item')))\n",
    "\n"
   ]
  },
  {
   "cell_type": "markdown",
   "metadata": {},
   "source": [
    "## SALES ORDER DATE"
   ]
  },
  {
   "cell_type": "code",
   "execution_count": 23,
   "metadata": {},
   "outputs": [
    {
     "data": {
      "application/vnd.jupyter.widget-view+json": {
       "model_id": "c197a335913d465190f8694241a2f729",
       "version_major": 2,
       "version_minor": 0
      },
      "text/plain": [
       "VBox()"
      ]
     },
     "metadata": {},
     "output_type": "display_data"
    },
    {
     "data": {
      "application/vnd.jupyter.widget-view+json": {
       "model_id": "",
       "version_major": 2,
       "version_minor": 0
      },
      "text/plain": [
       "FloatProgress(value=0.0, bar_style='info', description='Progress:', layout=Layout(height='25px', width='50%'),…"
      ]
     },
     "metadata": {},
     "output_type": "display_data"
    },
    {
     "name": "stderr",
     "output_type": "stream",
     "text": [
      "name 'LB_View' is not defined\n",
      "Traceback (most recent call last):\n",
      "NameError: name 'LB_View' is not defined\n",
      "\n"
     ]
    }
   ],
   "source": [
    "sales_order_date = LB_View \\\n",
    "    .withColumn(\"pp_x_volume\", col(\"practiced_price_weighted_average\") * col(\"quantity_ton\")) \\\n",
    "    .withColumn(\"ppn_x_volume\", col(\"preco_prat_norm_weighted_average\") * col(\"quantity_ton\")) \\\n",
    "    .groupBy('KEY_LB','sales_order_date','gpm','gpd_cod','gpd_desc', 'material_desc', 'material_cod' ,'sales_number','sales_item') \\\n",
    "    .agg(F.sum(\"quantity_ton\").alias(\"quantity_ton\"), \\\n",
    "         F.sum(\"rbv\").alias(\"rbv\"), \\\n",
    "         F.sum(\"rlv\").alias(\"rlv\"), \\\n",
    "         F.sum(\"practiced_price_weighted_average\").alias(\"sum_practiced_price\"), \\\n",
    "         F.sum(\"pp_x_volume\").alias(\"sum_pp_x_volume\"), \\\n",
    "         F.sum(\"preco_prat_norm_weighted_average\").alias(\"sum_preco_prat_norm\"), \\\n",
    "         F.sum(\"ppn_x_volume\").alias(\"sum_ppn_x_volume\"), \\\n",
    "         F.sum(\"COGS_TOTAL\").alias(\"COGS_TOTAL\"), \\\n",
    "         F.sum(\"Quantity_ton_bw\").alias(\"Quantity_ton_bw\"), \\\n",
    "         F.sum(\"FREIGHT_Full\").alias(\"FREIGHT_Full\"), \\\n",
    "         F.sum(\"GROSS_PROFIT_BW\").alias(\"GROSS_PROFIT_BW\"), \\\n",
    "         F.sum(\"NET_SALES\").alias(\"NET_SALES\")) \\\n",
    "    .withColumn(\"practiced_price_weighted_average\", col(\"sum_practiced_price\") / col(\"sum_pp_x_volume\")) \\\n",
    "    .withColumn(\"preco_prat_norm_weighted_average\", col(\"sum_preco_prat_norm\") / col(\"sum_ppn_x_volume\")) \\\n",
    "    .drop('pp_x_volume', 'ppn_x_volume', 'sum_practiced_price','sum_pp_x_volume','sum_preco_prat_norm','sum_ppn_x_volume')"
   ]
  },
  {
   "cell_type": "markdown",
   "metadata": {},
   "source": [
    "## SKU OV FILIAL CLIENTE"
   ]
  },
  {
   "cell_type": "code",
   "execution_count": 24,
   "metadata": {},
   "outputs": [
    {
     "data": {
      "application/vnd.jupyter.widget-view+json": {
       "model_id": "8ad47f3ef662429dbe73952a5bcb8250",
       "version_major": 2,
       "version_minor": 0
      },
      "text/plain": [
       "VBox()"
      ]
     },
     "metadata": {},
     "output_type": "display_data"
    },
    {
     "data": {
      "application/vnd.jupyter.widget-view+json": {
       "model_id": "",
       "version_major": 2,
       "version_minor": 0
      },
      "text/plain": [
       "FloatProgress(value=0.0, bar_style='info', description='Progress:', layout=Layout(height='25px', width='50%'),…"
      ]
     },
     "metadata": {},
     "output_type": "display_data"
    },
    {
     "name": "stderr",
     "output_type": "stream",
     "text": [
      "name 'LB_View' is not defined\n",
      "Traceback (most recent call last):\n",
      "NameError: name 'LB_View' is not defined\n",
      "\n"
     ]
    }
   ],
   "source": [
    "# Group by SKU\n",
    "\n",
    "sku_ov_filial_cliente = LB_View \\\n",
    "    .withColumn(\"pp_x_volume\", col(\"practiced_price_weighted_average\") * col(\"quantity_ton\")) \\\n",
    "    .withColumn(\"ppn_x_volume\", col(\"preco_prat_norm_weighted_average\") * col(\"quantity_ton\")) \\\n",
    "    .groupBy('year', 'month','gpm','gpd_cod','gpd_desc', 'material_desc', 'material_cod','receiving_customer_cod','branch','sales_org_cod') \\\n",
    "    .agg(F.sum(\"quantity_ton\").alias(\"quantity_ton\"), \\\n",
    "         F.sum(\"Quantity_ton_bw\").alias(\"Quantity_ton_bw\"), \\\n",
    "         F.sum(\"rbv\").alias(\"rbv\"), \\\n",
    "         F.sum(\"rlv\").alias(\"rlv\"), \\\n",
    "         F.sum(\"practiced_price_weighted_average\").alias(\"sum_practiced_price\"), \\\n",
    "         F.sum(\"pp_x_volume\").alias(\"sum_pp_x_volume\"), \\\n",
    "         F.sum(\"preco_prat_norm_weighted_average\").alias(\"sum_preco_prat_norm\"), \\\n",
    "         F.sum(\"ppn_x_volume\").alias(\"sum_ppn_x_volume\"), \\\n",
    "         F.sum(\"COGS_TOTAL\").alias(\"COGS_TOTAL\"), \\\n",
    "         F.sum(\"FREIGHT_Full\").alias(\"FREIGHT_Full\"), \\\n",
    "         F.sum(\"GROSS_PROFIT_BW\").alias(\"GROSS_PROFIT_BW\"), \\\n",
    "         F.sum(\"NET_SALES\").alias(\"NET_SALES\")) \\\n",
    "    .withColumn(\"practiced_price_weighted_average\", col(\"sum_practiced_price\") / col(\"sum_pp_x_volume\")) \\\n",
    "    .withColumn(\"preco_prat_norm_weighted_average\", col(\"sum_preco_prat_norm\") / col(\"sum_ppn_x_volume\")) \\\n",
    "    .drop('pp_x_volume', 'ppn_x_volume', 'sum_practiced_price','sum_pp_x_volume','sum_preco_prat_norm','sum_ppn_x_volume')"
   ]
  },
  {
   "cell_type": "markdown",
   "metadata": {},
   "source": [
    "## SKU"
   ]
  },
  {
   "cell_type": "code",
   "execution_count": 25,
   "metadata": {},
   "outputs": [
    {
     "data": {
      "application/vnd.jupyter.widget-view+json": {
       "model_id": "94730c4eeb494aed9a06875ad0e1cbc9",
       "version_major": 2,
       "version_minor": 0
      },
      "text/plain": [
       "VBox()"
      ]
     },
     "metadata": {},
     "output_type": "display_data"
    },
    {
     "data": {
      "application/vnd.jupyter.widget-view+json": {
       "model_id": "",
       "version_major": 2,
       "version_minor": 0
      },
      "text/plain": [
       "FloatProgress(value=0.0, bar_style='info', description='Progress:', layout=Layout(height='25px', width='50%'),…"
      ]
     },
     "metadata": {},
     "output_type": "display_data"
    },
    {
     "name": "stderr",
     "output_type": "stream",
     "text": [
      "name 'LB_View' is not defined\n",
      "Traceback (most recent call last):\n",
      "NameError: name 'LB_View' is not defined\n",
      "\n"
     ]
    }
   ],
   "source": [
    "# Group by SKU/OV\n",
    "\n",
    "sku = LB_View \\\n",
    "    .withColumn(\"pp_x_volume\", col(\"practiced_price_weighted_average\") * col(\"quantity_ton\")) \\\n",
    "    .withColumn(\"ppn_x_volume\", col(\"preco_prat_norm_weighted_average\") * col(\"quantity_ton\")) \\\n",
    "    .groupBy('year', 'month','gpm','gpd_cod','gpd_desc', 'material_desc', 'material_cod','sales_org_cod') \\\n",
    "    .agg(F.sum(\"quantity_ton\").alias(\"quantity_ton\"), \\\n",
    "         F.sum(\"Quantity_ton_bw\").alias(\"Quantity_ton_bw\"), \\\n",
    "         F.sum(\"rbv\").alias(\"rbv\"), \\\n",
    "         F.sum(\"rlv\").alias(\"rlv\"), \\\n",
    "         F.sum(\"practiced_price_weighted_average\").alias(\"sum_practiced_price\"), \\\n",
    "         F.sum(\"pp_x_volume\").alias(\"sum_pp_x_volume\"), \\\n",
    "         F.sum(\"preco_prat_norm_weighted_average\").alias(\"sum_preco_prat_norm\"), \\\n",
    "         F.sum(\"ppn_x_volume\").alias(\"sum_ppn_x_volume\"), \\\n",
    "         F.sum(\"COGS_TOTAL\").alias(\"COGS_TOTAL\"), \\\n",
    "         F.sum(\"FREIGHT_Full\").alias(\"FREIGHT_Full\"), \\\n",
    "         F.sum(\"GROSS_PROFIT_BW\").alias(\"GROSS_PROFIT_BW\"), \\\n",
    "         F.sum(\"NET_SALES\").alias(\"NET_SALES\")) \\\n",
    "    .withColumn(\"practiced_price_weighted_average\", col(\"sum_practiced_price\") / col(\"sum_pp_x_volume\")) \\\n",
    "    .withColumn(\"preco_prat_norm_weighted_average\", col(\"sum_preco_prat_norm\") / col(\"sum_ppn_x_volume\")) \\\n",
    "    .drop('pp_x_volume', 'ppn_x_volume', 'sum_practiced_price','sum_pp_x_volume','sum_preco_prat_norm','sum_ppn_x_volume')"
   ]
  },
  {
   "cell_type": "markdown",
   "metadata": {},
   "source": [
    "## OV"
   ]
  },
  {
   "cell_type": "code",
   "execution_count": 26,
   "metadata": {},
   "outputs": [
    {
     "data": {
      "application/vnd.jupyter.widget-view+json": {
       "model_id": "f2083cb8110f49a3aae5d1795cab9899",
       "version_major": 2,
       "version_minor": 0
      },
      "text/plain": [
       "VBox()"
      ]
     },
     "metadata": {},
     "output_type": "display_data"
    },
    {
     "data": {
      "application/vnd.jupyter.widget-view+json": {
       "model_id": "",
       "version_major": 2,
       "version_minor": 0
      },
      "text/plain": [
       "FloatProgress(value=0.0, bar_style='info', description='Progress:', layout=Layout(height='25px', width='50%'),…"
      ]
     },
     "metadata": {},
     "output_type": "display_data"
    },
    {
     "name": "stderr",
     "output_type": "stream",
     "text": [
      "name 'LB_View' is not defined\n",
      "Traceback (most recent call last):\n",
      "NameError: name 'LB_View' is not defined\n",
      "\n"
     ]
    }
   ],
   "source": [
    "# Group by OV\n",
    "\n",
    "sales_order = LB_View \\\n",
    "    .withColumn(\"pp_x_volume\", col(\"practiced_price_weighted_average\") * col(\"quantity_ton\")) \\\n",
    "    .withColumn(\"ppn_x_volume\", col(\"preco_prat_norm_weighted_average\") * col(\"quantity_ton\")) \\\n",
    "    .groupBy('year', 'month','gpm','gpd_cod','gpd_desc','sales_org_cod') \\\n",
    "    .agg(F.sum(\"quantity_ton\").alias(\"quantity_ton\"), \\\n",
    "         F.sum(\"Quantity_ton_bw\").alias(\"Quantity_ton_bw\"), \\\n",
    "         F.sum(\"rbv\").alias(\"rbv\"), \\\n",
    "         F.sum(\"rlv\").alias(\"rlv\"), \\\n",
    "         F.sum(\"practiced_price_weighted_average\").alias(\"sum_practiced_price\"), \\\n",
    "         F.sum(\"pp_x_volume\").alias(\"sum_pp_x_volume\"), \\\n",
    "         F.sum(\"preco_prat_norm_weighted_average\").alias(\"sum_preco_prat_norm\"), \\\n",
    "         F.sum(\"ppn_x_volume\").alias(\"sum_ppn_x_volume\"), \\\n",
    "         F.sum(\"COGS_TOTAL\").alias(\"COGS_TOTAL\"), \\\n",
    "         F.sum(\"FREIGHT_Full\").alias(\"FREIGHT_Full\"), \\\n",
    "         F.sum(\"GROSS_PROFIT_BW\").alias(\"GROSS_PROFIT_BW\"), \\\n",
    "         F.sum(\"NET_SALES\").alias(\"NET_SALES\")) \\\n",
    "    .withColumn(\"practiced_price_weighted_average\", col(\"sum_practiced_price\") / col(\"sum_pp_x_volume\")) \\\n",
    "    .withColumn(\"preco_prat_norm_weighted_average\", col(\"sum_preco_prat_norm\") / col(\"sum_ppn_x_volume\")) \\\n",
    "    .drop('pp_x_volume', 'ppn_x_volume', 'sum_practiced_price','sum_pp_x_volume','sum_preco_prat_norm','sum_ppn_x_volume')"
   ]
  },
  {
   "cell_type": "markdown",
   "metadata": {},
   "source": [
    "## GPD"
   ]
  },
  {
   "cell_type": "code",
   "execution_count": 27,
   "metadata": {},
   "outputs": [
    {
     "data": {
      "application/vnd.jupyter.widget-view+json": {
       "model_id": "12188062b0e14a4fa9a0768d38a04eb6",
       "version_major": 2,
       "version_minor": 0
      },
      "text/plain": [
       "VBox()"
      ]
     },
     "metadata": {},
     "output_type": "display_data"
    },
    {
     "data": {
      "application/vnd.jupyter.widget-view+json": {
       "model_id": "",
       "version_major": 2,
       "version_minor": 0
      },
      "text/plain": [
       "FloatProgress(value=0.0, bar_style='info', description='Progress:', layout=Layout(height='25px', width='50%'),…"
      ]
     },
     "metadata": {},
     "output_type": "display_data"
    },
    {
     "name": "stderr",
     "output_type": "stream",
     "text": [
      "name 'LB_View' is not defined\n",
      "Traceback (most recent call last):\n",
      "NameError: name 'LB_View' is not defined\n",
      "\n"
     ]
    }
   ],
   "source": [
    "# Group by GPD\n",
    "\n",
    "gpd = LB_View \\\n",
    "    .withColumn(\"pp_x_volume\", col(\"practiced_price_weighted_average\") * col(\"quantity_ton\")) \\\n",
    "    .withColumn(\"ppn_x_volume\", col(\"preco_prat_norm_weighted_average\") * col(\"quantity_ton\")) \\\n",
    "    .groupBy('year', 'month','gpm','gpd_cod','gpd_desc') \\\n",
    "    .agg(F.sum(\"quantity_ton\").alias(\"quantity_ton\"), \\\n",
    "         F.sum(\"Quantity_ton_bw\").alias(\"Quantity_ton_bw\"), \\\n",
    "         F.sum(\"rbv\").alias(\"rbv\"), \\\n",
    "         F.sum(\"rlv\").alias(\"rlv\"), \\\n",
    "         F.sum(\"practiced_price_weighted_average\").alias(\"sum_practiced_price\"), \\\n",
    "         F.sum(\"pp_x_volume\").alias(\"sum_pp_x_volume\"), \\\n",
    "         F.sum(\"preco_prat_norm_weighted_average\").alias(\"sum_preco_prat_norm\"), \\\n",
    "         F.sum(\"ppn_x_volume\").alias(\"sum_ppn_x_volume\"), \\\n",
    "         F.sum(\"COGS_TOTAL\").alias(\"COGS_TOTAL\"), \\\n",
    "         F.sum(\"FREIGHT_Full\").alias(\"FREIGHT_Full\"), \\\n",
    "         F.sum(\"GROSS_PROFIT_BW\").alias(\"GROSS_PROFIT_BW\"), \\\n",
    "         F.sum(\"NET_SALES\").alias(\"NET_SALES\")) \\\n",
    "    .withColumn(\"practiced_price_weighted_average\", col(\"sum_practiced_price\") / col(\"sum_pp_x_volume\")) \\\n",
    "    .withColumn(\"preco_prat_norm_weighted_average\", col(\"sum_preco_prat_norm\") / col(\"sum_ppn_x_volume\")) \\\n",
    "    .drop('pp_x_volume', 'ppn_x_volume', 'sum_practiced_price','sum_pp_x_volume','sum_preco_prat_norm','sum_ppn_x_volume')"
   ]
  },
  {
   "cell_type": "markdown",
   "metadata": {},
   "source": [
    "## SALES FORCE - SKU ESTADO OV"
   ]
  },
  {
   "cell_type": "code",
   "execution_count": 28,
   "metadata": {},
   "outputs": [
    {
     "data": {
      "application/vnd.jupyter.widget-view+json": {
       "model_id": "c9f36a6946e64fceb910529b85dcfe7c",
       "version_major": 2,
       "version_minor": 0
      },
      "text/plain": [
       "VBox()"
      ]
     },
     "metadata": {},
     "output_type": "display_data"
    },
    {
     "data": {
      "application/vnd.jupyter.widget-view+json": {
       "model_id": "",
       "version_major": 2,
       "version_minor": 0
      },
      "text/plain": [
       "FloatProgress(value=0.0, bar_style='info', description='Progress:', layout=Layout(height='25px', width='50%'),…"
      ]
     },
     "metadata": {},
     "output_type": "display_data"
    },
    {
     "name": "stderr",
     "output_type": "stream",
     "text": [
      "name 'LB_View' is not defined\n",
      "Traceback (most recent call last):\n",
      "NameError: name 'LB_View' is not defined\n",
      "\n"
     ]
    }
   ],
   "source": [
    "\n",
    "# Group by MES SKU ESTADO OV\n",
    "\n",
    "view_sf = LB_View \\\n",
    "    .groupBy('month','gpm','gpd_cod','gpd_desc', 'material_desc', 'material_cod','sales_org_cod','issuing_state') \\\n",
    "    .agg(F.sum(\"rlv\").alias(\"rlv\"), \\\n",
    "         F.sum(\"COGS_TOTAL\").alias(\"COGS_TOTAL\"), \\\n",
    "         F.sum(\"GROSS_PROFIT_BW\").alias(\"GROSS_PROFIT_BW\"))    \n",
    "\n"
   ]
  },
  {
   "cell_type": "code",
   "execution_count": 29,
   "metadata": {},
   "outputs": [
    {
     "data": {
      "application/vnd.jupyter.widget-view+json": {
       "model_id": "c7a7ae68bb9e4f969d1e015cbdb6995e",
       "version_major": 2,
       "version_minor": 0
      },
      "text/plain": [
       "VBox()"
      ]
     },
     "metadata": {},
     "output_type": "display_data"
    },
    {
     "data": {
      "application/vnd.jupyter.widget-view+json": {
       "model_id": "",
       "version_major": 2,
       "version_minor": 0
      },
      "text/plain": [
       "FloatProgress(value=0.0, bar_style='info', description='Progress:', layout=Layout(height='25px', width='50%'),…"
      ]
     },
     "metadata": {},
     "output_type": "display_data"
    },
    {
     "name": "stderr",
     "output_type": "stream",
     "text": [
      "name 'view_sf' is not defined\n",
      "Traceback (most recent call last):\n",
      "NameError: name 'view_sf' is not defined\n",
      "\n"
     ]
    }
   ],
   "source": [
    "# cria chave\n",
    "\n",
    "\n",
    "view_sf = view_sf \\\n",
    "    .withColumn('KEY_SF', concat(col('material_cod'), col('material_cod'), lit('_'), col('sales_org_cod'), lit('_'),col('issuing_state')))"
   ]
  },
  {
   "cell_type": "code",
   "execution_count": 30,
   "metadata": {},
   "outputs": [
    {
     "data": {
      "application/vnd.jupyter.widget-view+json": {
       "model_id": "6d4a0b7eb4bd44cfaf697fbd17ac12ad",
       "version_major": 2,
       "version_minor": 0
      },
      "text/plain": [
       "VBox()"
      ]
     },
     "metadata": {},
     "output_type": "display_data"
    },
    {
     "data": {
      "application/vnd.jupyter.widget-view+json": {
       "model_id": "",
       "version_major": 2,
       "version_minor": 0
      },
      "text/plain": [
       "FloatProgress(value=0.0, bar_style='info', description='Progress:', layout=Layout(height='25px', width='50%'),…"
      ]
     },
     "metadata": {},
     "output_type": "display_data"
    },
    {
     "name": "stderr",
     "output_type": "stream",
     "text": [
      "name 'view_sf' is not defined\n",
      "Traceback (most recent call last):\n",
      "NameError: name 'view_sf' is not defined\n",
      "\n"
     ]
    }
   ],
   "source": [
    "# Filtra meses\n",
    "\n",
    "thiyear = [1, 2, 3, 4, 5, 7, 8, 9]\n",
    "\n",
    "view_sf = view_sf[view_sf.month.isin(thiyear)]\n",
    "\n",
    "lastmonth = [7, 8, 9]\n",
    "\n",
    "df_sf = view_sf[view_sf.month.isin(lastmonth)]"
   ]
  },
  {
   "cell_type": "code",
   "execution_count": 31,
   "metadata": {},
   "outputs": [
    {
     "data": {
      "application/vnd.jupyter.widget-view+json": {
       "model_id": "fabb7cd691094b57a89c98cfdedeaed8",
       "version_major": 2,
       "version_minor": 0
      },
      "text/plain": [
       "VBox()"
      ]
     },
     "metadata": {},
     "output_type": "display_data"
    },
    {
     "data": {
      "application/vnd.jupyter.widget-view+json": {
       "model_id": "",
       "version_major": 2,
       "version_minor": 0
      },
      "text/plain": [
       "FloatProgress(value=0.0, bar_style='info', description='Progress:', layout=Layout(height='25px', width='50%'),…"
      ]
     },
     "metadata": {},
     "output_type": "display_data"
    },
    {
     "name": "stderr",
     "output_type": "stream",
     "text": [
      "name 'df_sf' is not defined\n",
      "Traceback (most recent call last):\n",
      "NameError: name 'df_sf' is not defined\n",
      "\n"
     ]
    }
   ],
   "source": [
    "# Cria as médias 3 \n",
    "\n",
    "grouped = df_sf \\\n",
    "    .groupBy('KEY_SF' ) \\\n",
    "    .agg(F.sum(\"GROSS_PROFIT_BW\").alias(\"GROSS_PROFIT_BWm\"), \\\n",
    "        F.sum(\"COGS_TOTAL\").alias(\"COGS_TOTALm\"), \\\n",
    "        F.sum(\"RLV\").alias(\"RLVm\")) \\\n",
    "    .withColumn(\"avg_gross_profit_last_3\", col(\"GROSS_PROFIT_BWm\") / 3) \\\n",
    "    .withColumn(\"avg_cogs_last_3\", col(\"COGS_TOTALm\") / 3) \\\n",
    "    .withColumn(\"avg_rlv_last_3\", col(\"RLVm\") / 9) \\\n",
    "    .drop('GROSS_PROFIT_BWm', 'COGS_TOTALm', 'RLVm')"
   ]
  },
  {
   "cell_type": "code",
   "execution_count": 32,
   "metadata": {},
   "outputs": [
    {
     "data": {
      "application/vnd.jupyter.widget-view+json": {
       "model_id": "6bd79a05263f470bba9038935d6873d9",
       "version_major": 2,
       "version_minor": 0
      },
      "text/plain": [
       "VBox()"
      ]
     },
     "metadata": {},
     "output_type": "display_data"
    },
    {
     "data": {
      "application/vnd.jupyter.widget-view+json": {
       "model_id": "",
       "version_major": 2,
       "version_minor": 0
      },
      "text/plain": [
       "FloatProgress(value=0.0, bar_style='info', description='Progress:', layout=Layout(height='25px', width='50%'),…"
      ]
     },
     "metadata": {},
     "output_type": "display_data"
    },
    {
     "name": "stderr",
     "output_type": "stream",
     "text": [
      "name 'view_sf' is not defined\n",
      "Traceback (most recent call last):\n",
      "NameError: name 'view_sf' is not defined\n",
      "\n"
     ]
    }
   ],
   "source": [
    "# Cria as médias ano\n",
    "grouped12 = view_sf \\\n",
    "    .groupBy('KEY_SF' ) \\\n",
    "    .agg(F.sum(\"GROSS_PROFIT_BW\").alias(\"GROSS_PROFIT_BWy\"), \\\n",
    "    F.sum(\"COGS_TOTAL\").alias(\"COGS_TOTALy\"),\n",
    "    F.sum(\"RLV\").alias(\"RLVy\")) \\\n",
    "    .withColumn(\"avg_gross_profit_year\", col(\"GROSS_PROFIT_BWy\") / 9) \\\n",
    "    .withColumn(\"avg_cogs_last_year\", col(\"COGS_TOTALy\") / 9) \\\n",
    "    .withColumn(\"avg_rlv_last_year\", col(\"RLVy\") / 9) \\\n",
    "    .drop('GROSS_PROFIT_BWy', 'COGS_TOTALy', 'RLVy')"
   ]
  },
  {
   "cell_type": "code",
   "execution_count": 33,
   "metadata": {},
   "outputs": [
    {
     "data": {
      "application/vnd.jupyter.widget-view+json": {
       "model_id": "385afa9f955d4d1287ff61f3046fe472",
       "version_major": 2,
       "version_minor": 0
      },
      "text/plain": [
       "VBox()"
      ]
     },
     "metadata": {},
     "output_type": "display_data"
    },
    {
     "data": {
      "application/vnd.jupyter.widget-view+json": {
       "model_id": "",
       "version_major": 2,
       "version_minor": 0
      },
      "text/plain": [
       "FloatProgress(value=0.0, bar_style='info', description='Progress:', layout=Layout(height='25px', width='50%'),…"
      ]
     },
     "metadata": {},
     "output_type": "display_data"
    },
    {
     "name": "stderr",
     "output_type": "stream",
     "text": [
      "name 'view_sf' is not defined\n",
      "Traceback (most recent call last):\n",
      "NameError: name 'view_sf' is not defined\n",
      "\n"
     ]
    }
   ],
   "source": [
    "# join 3 meses\n",
    "view_sf = view_sf.join(grouped, on=['KEY_SF'], how='left') \n",
    "\n",
    "# join 12 meses\n",
    "\n",
    "view_sf = view_sf.join(grouped12, on=['KEY_SF'], how='left')"
   ]
  },
  {
   "cell_type": "code",
   "execution_count": 34,
   "metadata": {
    "scrolled": true
   },
   "outputs": [
    {
     "data": {
      "application/vnd.jupyter.widget-view+json": {
       "model_id": "f261d76b433e4f88ad39fb561970f234",
       "version_major": 2,
       "version_minor": 0
      },
      "text/plain": [
       "VBox()"
      ]
     },
     "metadata": {},
     "output_type": "display_data"
    },
    {
     "data": {
      "application/vnd.jupyter.widget-view+json": {
       "model_id": "",
       "version_major": 2,
       "version_minor": 0
      },
      "text/plain": [
       "FloatProgress(value=0.0, bar_style='info', description='Progress:', layout=Layout(height='25px', width='50%'),…"
      ]
     },
     "metadata": {},
     "output_type": "display_data"
    },
    {
     "name": "stderr",
     "output_type": "stream",
     "text": [
      "name 'view_sf' is not defined\n",
      "Traceback (most recent call last):\n",
      "NameError: name 'view_sf' is not defined\n",
      "\n"
     ]
    }
   ],
   "source": [
    "# Retira Mes\n",
    "\n",
    "sf_sf = view_sf \\\n",
    "    .groupBy('KEY_SF', 'gpm','gpd_cod','gpd_desc', 'material_desc', 'material_cod','sales_org_cod','issuing_state') \\\n",
    "    .agg(F.sum(\"rlv\").alias(\"rlv\"), \\\n",
    "         F.sum(\"COGS_TOTAL\").alias(\"COGS_TOTAL\"), \\\n",
    "         F.sum(\"GROSS_PROFIT_BW\").alias(\"GROSS_PROFIT_BW\"), \\\n",
    "         F.avg(\"avg_gross_profit_last_3\").alias(\"avg_gross_profit_last_3\"), \\\n",
    "         F.avg(\"avg_cogs_last_3\").alias(\"avg_cogs_last_3\"), \\\n",
    "         F.avg(\"avg_rlv_last_3\").alias(\"avg_rlv_last_3\"), \\\n",
    "         F.avg(\"avg_gross_profit_year\").alias(\"avg_gross_profit_year\"), \\\n",
    "         F.avg(\"avg_cogs_last_year\").alias(\"avg_cogs_last_year\"), \\\n",
    "         F.avg(\"avg_rlv_last_year\").alias(\"avg_rlv_last_year\"))"
   ]
  },
  {
   "cell_type": "markdown",
   "metadata": {},
   "source": [
    "--------------"
   ]
  },
  {
   "cell_type": "markdown",
   "metadata": {},
   "source": [
    "# Renaming Columns"
   ]
  },
  {
   "cell_type": "code",
   "execution_count": 35,
   "metadata": {},
   "outputs": [
    {
     "data": {
      "application/vnd.jupyter.widget-view+json": {
       "model_id": "93cca318a40c464593c8e9c0d4a59711",
       "version_major": 2,
       "version_minor": 0
      },
      "text/plain": [
       "VBox()"
      ]
     },
     "metadata": {},
     "output_type": "display_data"
    },
    {
     "data": {
      "application/vnd.jupyter.widget-view+json": {
       "model_id": "",
       "version_major": 2,
       "version_minor": 0
      },
      "text/plain": [
       "FloatProgress(value=0.0, bar_style='info', description='Progress:', layout=Layout(height='25px', width='50%'),…"
      ]
     },
     "metadata": {},
     "output_type": "display_data"
    },
    {
     "name": "stderr",
     "output_type": "stream",
     "text": [
      "'str' object has no attribute 'columns'\n",
      "Traceback (most recent call last):\n",
      "AttributeError: 'str' object has no attribute 'columns'\n",
      "\n"
     ]
    }
   ],
   "source": [
    "for col_name in df_lb_full.columns:\n",
    "    df_lb_full = df_lb_full.withColumnRenamed(col_name, col_name.upper())"
   ]
  },
  {
   "cell_type": "code",
   "execution_count": null,
   "metadata": {},
   "outputs": [],
   "source": [
    "for col_name in LB_View.columns:\n",
    "    LB_View = LB_View.withColumnRenamed(col_name, col_name.upper())"
   ]
  },
  {
   "cell_type": "code",
   "execution_count": null,
   "metadata": {},
   "outputs": [],
   "source": [
    "for col_name in sales_order_date.columns:\n",
    "    sales_order_date = sales_order_date.withColumnRenamed(col_name, col_name.upper())"
   ]
  },
  {
   "cell_type": "code",
   "execution_count": null,
   "metadata": {},
   "outputs": [],
   "source": [
    "for col_name in sku.columns:\n",
    "    sku = sku.withColumnRenamed(col_name, col_name.upper())"
   ]
  },
  {
   "cell_type": "code",
   "execution_count": null,
   "metadata": {},
   "outputs": [],
   "source": [
    "for col_name in gpd.columns:\n",
    "    gpd = gpd.withColumnRenamed(col_name, col_name.upper())"
   ]
  },
  {
   "cell_type": "code",
   "execution_count": null,
   "metadata": {},
   "outputs": [],
   "source": [
    "for col_name in sales_order.columns:\n",
    "    sales_order = sales_order.withColumnRenamed(col_name, col_name.upper())"
   ]
  },
  {
   "cell_type": "code",
   "execution_count": null,
   "metadata": {},
   "outputs": [],
   "source": [
    "for col_name in sku_ov_filial_cliente.columns:\n",
    "    sku_ov_filial_cliente = sku_ov_filial_cliente.withColumnRenamed(col_name, col_name.upper())"
   ]
  },
  {
   "cell_type": "code",
   "execution_count": null,
   "metadata": {},
   "outputs": [],
   "source": [
    "for col_name in sf_sf.columns:\n",
    "    sf_sf = sf_sf.withColumnRenamed(col_name, col_name.upper())"
   ]
  },
  {
   "cell_type": "markdown",
   "metadata": {},
   "source": [
    "------------"
   ]
  },
  {
   "cell_type": "markdown",
   "metadata": {},
   "source": [
    "## Exports"
   ]
  },
  {
   "cell_type": "code",
   "execution_count": 33,
   "metadata": {},
   "outputs": [
    {
     "data": {
      "application/vnd.jupyter.widget-view+json": {
       "model_id": "f0bfff347c074bbb90facb0c6d33037a",
       "version_major": 2,
       "version_minor": 0
      },
      "text/plain": [
       "VBox()"
      ]
     },
     "metadata": {},
     "output_type": "display_data"
    },
    {
     "data": {
      "application/vnd.jupyter.widget-view+json": {
       "model_id": "",
       "version_major": 2,
       "version_minor": 0
      },
      "text/plain": [
       "FloatProgress(value=0.0, bar_style='info', description='Progress:', layout=Layout(height='25px', width='50%'),…"
      ]
     },
     "metadata": {},
     "output_type": "display_data"
    }
   ],
   "source": [
    "df_lb_full.write.parquet(\"s3a://\"+SPG_OUTPUT_BUCKET+\"/\"+SPG_OUTPUT_BUCKET_GP_STRATEGIC, mode = \"overwrite\")"
   ]
  },
  {
   "cell_type": "code",
   "execution_count": 34,
   "metadata": {},
   "outputs": [
    {
     "data": {
      "application/vnd.jupyter.widget-view+json": {
       "model_id": "f1003d295357412db2e962e6b07d5075",
       "version_major": 2,
       "version_minor": 0
      },
      "text/plain": [
       "VBox()"
      ]
     },
     "metadata": {},
     "output_type": "display_data"
    },
    {
     "data": {
      "application/vnd.jupyter.widget-view+json": {
       "model_id": "",
       "version_major": 2,
       "version_minor": 0
      },
      "text/plain": [
       "FloatProgress(value=0.0, bar_style='info', description='Progress:', layout=Layout(height='25px', width='50%'),…"
      ]
     },
     "metadata": {},
     "output_type": "display_data"
    }
   ],
   "source": [
    "# Export Ordem + Item\n",
    "\n",
    "LB_View.write.parquet(\"s3a://\"+SPG_OUTPUT_BUCKET+\"/\"+SPG_OUTPUT_BUCKET_GP_ORDER_ITEM, mode = \"overwrite\")"
   ]
  },
  {
   "cell_type": "code",
   "execution_count": 35,
   "metadata": {},
   "outputs": [
    {
     "data": {
      "application/vnd.jupyter.widget-view+json": {
       "model_id": "c66dba7cd0ef445a98dd329cb1e4249c",
       "version_major": 2,
       "version_minor": 0
      },
      "text/plain": [
       "VBox()"
      ]
     },
     "metadata": {},
     "output_type": "display_data"
    },
    {
     "data": {
      "application/vnd.jupyter.widget-view+json": {
       "model_id": "",
       "version_major": 2,
       "version_minor": 0
      },
      "text/plain": [
       "FloatProgress(value=0.0, bar_style='info', description='Progress:', layout=Layout(height='25px', width='50%'),…"
      ]
     },
     "metadata": {},
     "output_type": "display_data"
    }
   ],
   "source": [
    "# Export Sales Order Date\n",
    "\n",
    "sales_order_date.write.parquet(\"s3a://\"+SPG_OUTPUT_BUCKET+\"/\"+SPG_OUTPUT_BUCKET_GP_SALES_DATE, mode = \"overwrite\")"
   ]
  },
  {
   "cell_type": "code",
   "execution_count": 36,
   "metadata": {},
   "outputs": [
    {
     "data": {
      "application/vnd.jupyter.widget-view+json": {
       "model_id": "9fbfe32a67c3496db8e726eb3c373d0a",
       "version_major": 2,
       "version_minor": 0
      },
      "text/plain": [
       "VBox()"
      ]
     },
     "metadata": {},
     "output_type": "display_data"
    },
    {
     "data": {
      "application/vnd.jupyter.widget-view+json": {
       "model_id": "",
       "version_major": 2,
       "version_minor": 0
      },
      "text/plain": [
       "FloatProgress(value=0.0, bar_style='info', description='Progress:', layout=Layout(height='25px', width='50%'),…"
      ]
     },
     "metadata": {},
     "output_type": "display_data"
    }
   ],
   "source": [
    "# Export SKU\n",
    "\n",
    "sku.write.parquet(\"s3a://\"+SPG_OUTPUT_BUCKET+\"/\"+SPG_OUTPUT_BUCKET_GP_SKU, mode = \"overwrite\")"
   ]
  },
  {
   "cell_type": "code",
   "execution_count": 37,
   "metadata": {},
   "outputs": [
    {
     "data": {
      "application/vnd.jupyter.widget-view+json": {
       "model_id": "8369a183499f48079f365341904b53ae",
       "version_major": 2,
       "version_minor": 0
      },
      "text/plain": [
       "VBox()"
      ]
     },
     "metadata": {},
     "output_type": "display_data"
    },
    {
     "data": {
      "application/vnd.jupyter.widget-view+json": {
       "model_id": "",
       "version_major": 2,
       "version_minor": 0
      },
      "text/plain": [
       "FloatProgress(value=0.0, bar_style='info', description='Progress:', layout=Layout(height='25px', width='50%'),…"
      ]
     },
     "metadata": {},
     "output_type": "display_data"
    }
   ],
   "source": [
    "# Export GPD\n",
    "\n",
    "gpd.write.parquet(\"s3a://\"+SPG_OUTPUT_BUCKET+\"/\"+SPG_OUTPUT_BUCKET_GP_GPD, mode = \"overwrite\")"
   ]
  },
  {
   "cell_type": "code",
   "execution_count": 38,
   "metadata": {},
   "outputs": [
    {
     "data": {
      "application/vnd.jupyter.widget-view+json": {
       "model_id": "73e7aa385b49465ea2be6105c035e93c",
       "version_major": 2,
       "version_minor": 0
      },
      "text/plain": [
       "VBox()"
      ]
     },
     "metadata": {},
     "output_type": "display_data"
    },
    {
     "data": {
      "application/vnd.jupyter.widget-view+json": {
       "model_id": "",
       "version_major": 2,
       "version_minor": 0
      },
      "text/plain": [
       "FloatProgress(value=0.0, bar_style='info', description='Progress:', layout=Layout(height='25px', width='50%'),…"
      ]
     },
     "metadata": {},
     "output_type": "display_data"
    }
   ],
   "source": [
    "# Export OV\n",
    "\n",
    "sales_order.write.parquet(\"s3a://\"+SPG_OUTPUT_BUCKET+\"/\"+SPG_OUTPUT_BUCKET_GP_OV, mode = \"overwrite\")"
   ]
  },
  {
   "cell_type": "code",
   "execution_count": 39,
   "metadata": {},
   "outputs": [
    {
     "data": {
      "application/vnd.jupyter.widget-view+json": {
       "model_id": "d648ef6ee6de44198111ef3de1a357cc",
       "version_major": 2,
       "version_minor": 0
      },
      "text/plain": [
       "VBox()"
      ]
     },
     "metadata": {},
     "output_type": "display_data"
    },
    {
     "data": {
      "application/vnd.jupyter.widget-view+json": {
       "model_id": "",
       "version_major": 2,
       "version_minor": 0
      },
      "text/plain": [
       "FloatProgress(value=0.0, bar_style='info', description='Progress:', layout=Layout(height='25px', width='50%'),…"
      ]
     },
     "metadata": {},
     "output_type": "display_data"
    }
   ],
   "source": [
    "# Export sku_ov_filial_cliente\n",
    "\n",
    "sku_ov_filial_cliente.write.parquet(\"s3a://\"+SPG_OUTPUT_BUCKET+\"/\"+SPG_OUTPUT_BUCKET_GP_SOFC, mode = \"overwrite\")"
   ]
  },
  {
   "cell_type": "code",
   "execution_count": 40,
   "metadata": {},
   "outputs": [
    {
     "data": {
      "application/vnd.jupyter.widget-view+json": {
       "model_id": "8f52fea1540149d68ac80109f92ee77a",
       "version_major": 2,
       "version_minor": 0
      },
      "text/plain": [
       "VBox()"
      ]
     },
     "metadata": {},
     "output_type": "display_data"
    },
    {
     "data": {
      "application/vnd.jupyter.widget-view+json": {
       "model_id": "",
       "version_major": 2,
       "version_minor": 0
      },
      "text/plain": [
       "FloatProgress(value=0.0, bar_style='info', description='Progress:', layout=Layout(height='25px', width='50%'),…"
      ]
     },
     "metadata": {},
     "output_type": "display_data"
    }
   ],
   "source": [
    "# Export Sales Force\n",
    "\n",
    "sf_sf.repartition(1).write.option(\"header\", \"true\").option(\"sep\", \";\")\\\n",
    "     .option(\"encoding\", \"Unicode\").csv(\"s3a://\"+SPG_OUTPUT_BUCKET+\"/\"+SPG_OUTPUT_BUCKET_GP_SF, mode = \"overwrite\")"
   ]
  }
 ],
 "metadata": {
  "kernelspec": {
   "display_name": "Python 3",
   "language": "python",
   "name": "python3"
  },
  "language_info": {
   "codemirror_mode": {
    "name": "ipython",
    "version": 3
   },
   "file_extension": ".py",
   "mimetype": "text/x-python",
   "name": "python",
   "nbconvert_exporter": "python",
   "pygments_lexer": "ipython3",
   "version": "3.7.0"
  }
 },
 "nbformat": 4,
 "nbformat_minor": 4
}
