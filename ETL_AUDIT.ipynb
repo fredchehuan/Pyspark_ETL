{
 "cells": [
  {
   "cell_type": "code",
   "execution_count": 213,
   "metadata": {},
   "outputs": [
    {
     "data": {
      "application/vnd.jupyter.widget-view+json": {
       "model_id": "97e5af4b1210418285d163b1f5882ab1",
       "version_major": 2,
       "version_minor": 0
      },
      "text/plain": [
       "VBox()"
      ]
     },
     "metadata": {},
     "output_type": "display_data"
    },
    {
     "data": {
      "application/vnd.jupyter.widget-view+json": {
       "model_id": "",
       "version_major": 2,
       "version_minor": 0
      },
      "text/plain": [
       "FloatProgress(value=0.0, bar_style='info', description='Progress:', layout=Layout(height='25px', width='50%'),…"
      ]
     },
     "metadata": {},
     "output_type": "display_data"
    }
   ],
   "source": [
    "import time\n",
    "import boto3\n",
    "import pandas as pd\n",
    "import numpy as np\n",
    "import io\n",
    "import pymysql\n",
    "from sqlalchemy import create_engine\n",
    "from io import BytesIO as StringIO\n",
    "import os\n",
    "\n",
    "import findspark                                      #Import library to Search for Spark Installation  \n",
    "\n",
    "findspark.init()    \n",
    "\n",
    "from pyspark.sql import SparkSession                  # Import of Spark Session\n",
    "from pyspark import SparkContext as spark             # Import the Regular Spark Contex\n",
    "from pyspark.sql.functions import *\n",
    "from pyspark.sql.types import *\n",
    "spark = SparkSession.builder.getOrCreate()\n",
    "\n",
    "from datetime import datetime\n",
    "from datetime import timedelta\n",
    "\n",
    "import pyarrow.parquet as pq                          #Create Parquet File\n",
    "import pyarrow as pa\n",
    "\n",
    "sc = spark.sparkContext    \n",
    "\n",
    "import gc"
   ]
  },
  {
   "cell_type": "markdown",
   "metadata": {},
   "source": [
    "------"
   ]
  },
  {
   "cell_type": "markdown",
   "metadata": {},
   "source": [
    "# Creating Variables"
   ]
  },
  {
   "cell_type": "markdown",
   "metadata": {},
   "source": [
    "## Database"
   ]
  },
  {
   "cell_type": "code",
   "execution_count": 214,
   "metadata": {},
   "outputs": [
    {
     "data": {
      "application/vnd.jupyter.widget-view+json": {
       "model_id": "2f439688cb4246a8b4bfe942d6bfabaa",
       "version_major": 2,
       "version_minor": 0
      },
      "text/plain": [
       "VBox()"
      ]
     },
     "metadata": {},
     "output_type": "display_data"
    },
    {
     "data": {
      "application/vnd.jupyter.widget-view+json": {
       "model_id": "",
       "version_major": 2,
       "version_minor": 0
      },
      "text/plain": [
       "FloatProgress(value=0.0, bar_style='info', description='Progress:', layout=Layout(height='25px', width='50%'),…"
      ]
     },
     "metadata": {},
     "output_type": "display_data"
    }
   ],
   "source": [
    "ATHENA_SPG = os.environ['SPG_DATABASE']"
   ]
  },
  {
   "cell_type": "code",
   "execution_count": 215,
   "metadata": {},
   "outputs": [
    {
     "data": {
      "application/vnd.jupyter.widget-view+json": {
       "model_id": "43c15488a6294318884bb167ef35919e",
       "version_major": 2,
       "version_minor": 0
      },
      "text/plain": [
       "VBox()"
      ]
     },
     "metadata": {},
     "output_type": "display_data"
    },
    {
     "data": {
      "application/vnd.jupyter.widget-view+json": {
       "model_id": "",
       "version_major": 2,
       "version_minor": 0
      },
      "text/plain": [
       "FloatProgress(value=0.0, bar_style='info', description='Progress:', layout=Layout(height='25px', width='50%'),…"
      ]
     },
     "metadata": {},
     "output_type": "display_data"
    }
   ],
   "source": [
    "ATHENA_AUDIT = os.environ['SPG_AUDIT_DATABASE']"
   ]
  },
  {
   "cell_type": "markdown",
   "metadata": {},
   "source": [
    "## Buckets"
   ]
  },
  {
   "cell_type": "code",
   "execution_count": 216,
   "metadata": {},
   "outputs": [
    {
     "data": {
      "application/vnd.jupyter.widget-view+json": {
       "model_id": "c77d4d8836594a99a4a8d2ee8ab35118",
       "version_major": 2,
       "version_minor": 0
      },
      "text/plain": [
       "VBox()"
      ]
     },
     "metadata": {},
     "output_type": "display_data"
    },
    {
     "data": {
      "application/vnd.jupyter.widget-view+json": {
       "model_id": "",
       "version_major": 2,
       "version_minor": 0
      },
      "text/plain": [
       "FloatProgress(value=0.0, bar_style='info', description='Progress:', layout=Layout(height='25px', width='50%'),…"
      ]
     },
     "metadata": {},
     "output_type": "display_data"
    }
   ],
   "source": [
    "SPG_INTEGRATION_INPUT_BUCKET = os.environ['INTEGRATION_INPUT_BUCKET']"
   ]
  },
  {
   "cell_type": "code",
   "execution_count": 217,
   "metadata": {},
   "outputs": [
    {
     "data": {
      "application/vnd.jupyter.widget-view+json": {
       "model_id": "c3b4b7fcf44846a5bbb849880a899fd9",
       "version_major": 2,
       "version_minor": 0
      },
      "text/plain": [
       "VBox()"
      ]
     },
     "metadata": {},
     "output_type": "display_data"
    },
    {
     "data": {
      "application/vnd.jupyter.widget-view+json": {
       "model_id": "",
       "version_major": 2,
       "version_minor": 0
      },
      "text/plain": [
       "FloatProgress(value=0.0, bar_style='info', description='Progress:', layout=Layout(height='25px', width='50%'),…"
      ]
     },
     "metadata": {},
     "output_type": "display_data"
    }
   ],
   "source": [
    "SPG_QUERY_BUCKET = os.environ['QUERY_BUCKET']"
   ]
  },
  {
   "cell_type": "code",
   "execution_count": 218,
   "metadata": {},
   "outputs": [
    {
     "data": {
      "application/vnd.jupyter.widget-view+json": {
       "model_id": "19f1809710254496b7d4ffe9a1524f10",
       "version_major": 2,
       "version_minor": 0
      },
      "text/plain": [
       "VBox()"
      ]
     },
     "metadata": {},
     "output_type": "display_data"
    },
    {
     "data": {
      "application/vnd.jupyter.widget-view+json": {
       "model_id": "",
       "version_major": 2,
       "version_minor": 0
      },
      "text/plain": [
       "FloatProgress(value=0.0, bar_style='info', description='Progress:', layout=Layout(height='25px', width='50%'),…"
      ]
     },
     "metadata": {},
     "output_type": "display_data"
    }
   ],
   "source": [
    "SPG_OUTPUT_BUCKET = os.environ['OUTPUT_BUCKET']"
   ]
  },
  {
   "cell_type": "code",
   "execution_count": 219,
   "metadata": {},
   "outputs": [
    {
     "data": {
      "application/vnd.jupyter.widget-view+json": {
       "model_id": "5b8c3436770d40c284f8c1a69ba62777",
       "version_major": 2,
       "version_minor": 0
      },
      "text/plain": [
       "VBox()"
      ]
     },
     "metadata": {},
     "output_type": "display_data"
    },
    {
     "data": {
      "application/vnd.jupyter.widget-view+json": {
       "model_id": "",
       "version_major": 2,
       "version_minor": 0
      },
      "text/plain": [
       "FloatProgress(value=0.0, bar_style='info', description='Progress:', layout=Layout(height='25px', width='50%'),…"
      ]
     },
     "metadata": {},
     "output_type": "display_data"
    }
   ],
   "source": [
    "SPG_INPUT_BUCKET = os.environ['INPUT_BUCKET_FROM_OUTPUT']"
   ]
  },
  {
   "cell_type": "markdown",
   "metadata": {},
   "source": [
    "## Input Paths"
   ]
  },
  {
   "cell_type": "code",
   "execution_count": 220,
   "metadata": {},
   "outputs": [
    {
     "data": {
      "application/vnd.jupyter.widget-view+json": {
       "model_id": "916d7b3e1f654a47b79054d57463679e",
       "version_major": 2,
       "version_minor": 0
      },
      "text/plain": [
       "VBox()"
      ]
     },
     "metadata": {},
     "output_type": "display_data"
    },
    {
     "data": {
      "application/vnd.jupyter.widget-view+json": {
       "model_id": "",
       "version_major": 2,
       "version_minor": 0
      },
      "text/plain": [
       "FloatProgress(value=0.0, bar_style='info', description='Progress:', layout=Layout(height='25px', width='50%'),…"
      ]
     },
     "metadata": {},
     "output_type": "display_data"
    }
   ],
   "source": [
    "SPG_OUTPUT_BUCKET_RETENTION = \"SPG_AUDIT/SPG_AD_RETETION/\""
   ]
  },
  {
   "cell_type": "code",
   "execution_count": 221,
   "metadata": {},
   "outputs": [
    {
     "data": {
      "application/vnd.jupyter.widget-view+json": {
       "model_id": "31cd0948ae5440c494612860bf4bcbdb",
       "version_major": 2,
       "version_minor": 0
      },
      "text/plain": [
       "VBox()"
      ]
     },
     "metadata": {},
     "output_type": "display_data"
    },
    {
     "data": {
      "application/vnd.jupyter.widget-view+json": {
       "model_id": "",
       "version_major": 2,
       "version_minor": 0
      },
      "text/plain": [
       "FloatProgress(value=0.0, bar_style='info', description='Progress:', layout=Layout(height='25px', width='50%'),…"
      ]
     },
     "metadata": {},
     "output_type": "display_data"
    }
   ],
   "source": [
    "SPG_OUTPUT_BUCKET_PURGE = \"SPG_AUDIT/SPG_AD_PURGE/\""
   ]
  },
  {
   "cell_type": "code",
   "execution_count": 222,
   "metadata": {},
   "outputs": [
    {
     "data": {
      "application/vnd.jupyter.widget-view+json": {
       "model_id": "2e64b268ef7349aea073d16b687247d7",
       "version_major": 2,
       "version_minor": 0
      },
      "text/plain": [
       "VBox()"
      ]
     },
     "metadata": {},
     "output_type": "display_data"
    },
    {
     "data": {
      "application/vnd.jupyter.widget-view+json": {
       "model_id": "",
       "version_major": 2,
       "version_minor": 0
      },
      "text/plain": [
       "FloatProgress(value=0.0, bar_style='info', description='Progress:', layout=Layout(height='25px', width='50%'),…"
      ]
     },
     "metadata": {},
     "output_type": "display_data"
    }
   ],
   "source": [
    "SPG_QUERY_BUCKET_ATHENA = \"SPG_QUERY/SPG_ATHENA\""
   ]
  },
  {
   "cell_type": "code",
   "execution_count": 223,
   "metadata": {},
   "outputs": [
    {
     "data": {
      "application/vnd.jupyter.widget-view+json": {
       "model_id": "8fc9e5bdb73f4da0a03e7206a2ecba78",
       "version_major": 2,
       "version_minor": 0
      },
      "text/plain": [
       "VBox()"
      ]
     },
     "metadata": {},
     "output_type": "display_data"
    },
    {
     "data": {
      "application/vnd.jupyter.widget-view+json": {
       "model_id": "",
       "version_major": 2,
       "version_minor": 0
      },
      "text/plain": [
       "FloatProgress(value=0.0, bar_style='info', description='Progress:', layout=Layout(height='25px', width='50%'),…"
      ]
     },
     "metadata": {},
     "output_type": "display_data"
    }
   ],
   "source": [
    "QUERY_AUDIT = \"SELECT ID, timestamp as 'Data Coleta', \"\\\n",
    "                \"filial as 'Filial',\"\\\n",
    "                \"cod_vendedor as 'Codigo Vendedor',\"\\\n",
    "                \"nome_vendedor as 'Vendedor', \"\\\n",
    "                \"cod_cliente as 'Codigo Cliente',\"\\\n",
    "                \"nome_cliente as 'Cliente',\"\\\n",
    "                \"cod_product as 'SKU',\"\\\n",
    "                \"desc_product as 'Produto',\"\\\n",
    "                \"ROUND(COALESCE(preco21diaskg,0),2) as 'Preco',\"\\\n",
    "                \"fabricante as 'Fabricante',\"\\\n",
    "                \"cidade as 'Cidade',\"\\\n",
    "                \"estado as 'Estado',\"\\\n",
    "                \"ovajustada as 'OV',\"\\\n",
    "                \"aprovado_manualmente as 'Aprovado Manualmente', \"\\\n",
    "                \"ROUND(COALESCE(preco_ref_min,0),2) as 'Preco Ref. Minimo',\"\\\n",
    "                \"ROUND(COALESCE(preco_ref_max,0),2) as 'Preco Ref. Max' \"\\\n",
    "                \"from \"+ATHENA_AUDIT+\".vw_auditoria_preco_referencia \"\\\n",
    "                \"where (aprovado_automaticamente = 'Não' or aprovado_automaticamente is null) and \"\\\n",
    "                \"aprovado_manualmente is null and \"\\\n",
    "                \"timestamp >= '{}'\""
   ]
  },
  {
   "cell_type": "code",
   "execution_count": 224,
   "metadata": {},
   "outputs": [
    {
     "data": {
      "application/vnd.jupyter.widget-view+json": {
       "model_id": "2aca216daf344141b646190393065669",
       "version_major": 2,
       "version_minor": 0
      },
      "text/plain": [
       "VBox()"
      ]
     },
     "metadata": {},
     "output_type": "display_data"
    },
    {
     "data": {
      "application/vnd.jupyter.widget-view+json": {
       "model_id": "",
       "version_major": 2,
       "version_minor": 0
      },
      "text/plain": [
       "FloatProgress(value=0.0, bar_style='info', description='Progress:', layout=Layout(height='25px', width='50%'),…"
      ]
     },
     "metadata": {},
     "output_type": "display_data"
    }
   ],
   "source": [
    "QUERY_COLLECT = \"SELECT \"\\\n",
    "                \"TIMESTAMP,\"\\\n",
    "                \"COD_SALES_AGENT as cod_vendedor,\"\\\n",
    "                \"SALES_AGENT as nome_vendedor,\"\\\n",
    "                \"COD_CLIENT as cod_cliente,\"\\\n",
    "                \"CLIENT_NAME as nome_cliente,\"\\\n",
    "                \"COD_PRODUCT as cod_product,\"\\\n",
    "                \"DESC_PRODUCT as desc_product,\"\\\n",
    "                \"GPM as gpm,\"\\\n",
    "                \"COMPETITOR as fabricante,\"\\\n",
    "                \"PRICE_WITH_TAXES as preco_com_impostos,\"\\\n",
    "                \"PAYMENT_TERM as prazo_de_pagamento,\"\\\n",
    "                \"PRICE_TYPE as tipo_de_proce,\"\\\n",
    "                \"UNIT_MEASURE as unidade_de_medida,\"\\\n",
    "                \"CITY as cidade,\"\\\n",
    "                \"STATE as estado,\"\\\n",
    "                \"ADJ_SALES_ORG as ovajustada,\"\\\n",
    "                \"MATERIAL as material,\"\\\n",
    "                \"PRICE_21_DAYS_KG as preco21diaskg,\"\\\n",
    "                \"MONTH_YEAR as mesano,\"\\\n",
    "                \"PASS_DAYS as diascorridos,\"\\\n",
    "                \"REMAINING_DAYS as diasfaltantes,\"\\\n",
    "                \"KEY_SELLERS_MARKS as chavevendedormetas,\"\\\n",
    "                \"APPROVED as aprovado,\"\\\n",
    "                \"BRANCH as filial,\"\\\n",
    "                \"REGION as regiao,\"\\\n",
    "                \"PRACTICED_PRICE_KG_MEDIAN_AVG as median_avg_precopraticadokg,\"\\\n",
    "                \"COUNT_BILLING_QTT as count_qtd_fatura,\"\\\n",
    "                \"WEEK_PRICE as precosemana,\"\\\n",
    "                \"DESC_GPD as desc_gpd,\"\\\n",
    "                \"CURRENT_STATUS as statusatual,\"\\\n",
    "                \"ADJ_PRICE_TYPE as tipo_de_preco_ajustes,\"\\\n",
    "                \"ANALYSIS_UNIT as unidade_de_analise,\"\\\n",
    "                \"COMPETITOR_PRICE_STD_DEVIATION as stddev_precoconcorrente\"\\\n",
    "            \"FROM tb_coleta \"\\\n",
    "            \"where cast(from_iso8601_timestamp(timestamp) as date) >= cast('{}' as date)\""
   ]
  },
  {
   "cell_type": "code",
   "execution_count": 225,
   "metadata": {},
   "outputs": [
    {
     "data": {
      "application/vnd.jupyter.widget-view+json": {
       "model_id": "32bee21be2184541b2fede89bfb2bd97",
       "version_major": 2,
       "version_minor": 0
      },
      "text/plain": [
       "VBox()"
      ]
     },
     "metadata": {},
     "output_type": "display_data"
    },
    {
     "data": {
      "application/vnd.jupyter.widget-view+json": {
       "model_id": "",
       "version_major": 2,
       "version_minor": 0
      },
      "text/plain": [
       "FloatProgress(value=0.0, bar_style='info', description='Progress:', layout=Layout(height='25px', width='50%'),…"
      ]
     },
     "metadata": {},
     "output_type": "display_data"
    }
   ],
   "source": [
    "QUERY_GET_TIMESTAMP = \"SELECT max(timestamp) as data_ref FROM tb_coleta\""
   ]
  },
  {
   "cell_type": "markdown",
   "metadata": {},
   "source": [
    "## Output Paths"
   ]
  },
  {
   "cell_type": "code",
   "execution_count": 226,
   "metadata": {},
   "outputs": [
    {
     "data": {
      "application/vnd.jupyter.widget-view+json": {
       "model_id": "07b36803e7354fc0ad17915ba68914a7",
       "version_major": 2,
       "version_minor": 0
      },
      "text/plain": [
       "VBox()"
      ]
     },
     "metadata": {},
     "output_type": "display_data"
    },
    {
     "data": {
      "application/vnd.jupyter.widget-view+json": {
       "model_id": "",
       "version_major": 2,
       "version_minor": 0
      },
      "text/plain": [
       "FloatProgress(value=0.0, bar_style='info', description='Progress:', layout=Layout(height='25px', width='50%'),…"
      ]
     },
     "metadata": {},
     "output_type": "display_data"
    }
   ],
   "source": [
    "# unknown"
   ]
  },
  {
   "cell_type": "markdown",
   "metadata": {},
   "source": [
    "## Boto3 Variable"
   ]
  },
  {
   "cell_type": "code",
   "execution_count": 227,
   "metadata": {},
   "outputs": [
    {
     "data": {
      "application/vnd.jupyter.widget-view+json": {
       "model_id": "b71c316762aa43da9681551077b3785a",
       "version_major": 2,
       "version_minor": 0
      },
      "text/plain": [
       "VBox()"
      ]
     },
     "metadata": {},
     "output_type": "display_data"
    },
    {
     "data": {
      "application/vnd.jupyter.widget-view+json": {
       "model_id": "",
       "version_major": 2,
       "version_minor": 0
      },
      "text/plain": [
       "FloatProgress(value=0.0, bar_style='info', description='Progress:', layout=Layout(height='25px', width='50%'),…"
      ]
     },
     "metadata": {},
     "output_type": "display_data"
    }
   ],
   "source": [
    "#S3 Configuration\n",
    "S3_ATHENA_INPUT =  's3://'+SPG_QUERY_BUCKET+'/'+SPG_QUERY_BUCKET_ATHENA"
   ]
  },
  {
   "cell_type": "code",
   "execution_count": 228,
   "metadata": {},
   "outputs": [
    {
     "data": {
      "application/vnd.jupyter.widget-view+json": {
       "model_id": "b95b6d7ba6ad4230b49ca491061a8c2a",
       "version_major": 2,
       "version_minor": 0
      },
      "text/plain": [
       "VBox()"
      ]
     },
     "metadata": {},
     "output_type": "display_data"
    },
    {
     "data": {
      "application/vnd.jupyter.widget-view+json": {
       "model_id": "",
       "version_major": 2,
       "version_minor": 0
      },
      "text/plain": [
       "FloatProgress(value=0.0, bar_style='info', description='Progress:', layout=Layout(height='25px', width='50%'),…"
      ]
     },
     "metadata": {},
     "output_type": "display_data"
    }
   ],
   "source": [
    "S3_ATHENA_OUTPUT = 's3://'+SPG_QUERY_BUCKET+'/'+SPG_QUERY_BUCKET_ATHENA"
   ]
  },
  {
   "cell_type": "code",
   "execution_count": 229,
   "metadata": {},
   "outputs": [
    {
     "data": {
      "application/vnd.jupyter.widget-view+json": {
       "model_id": "58ab0d9d2c7f444f9e8628515c50cc7b",
       "version_major": 2,
       "version_minor": 0
      },
      "text/plain": [
       "VBox()"
      ]
     },
     "metadata": {},
     "output_type": "display_data"
    },
    {
     "data": {
      "application/vnd.jupyter.widget-view+json": {
       "model_id": "",
       "version_major": 2,
       "version_minor": 0
      },
      "text/plain": [
       "FloatProgress(value=0.0, bar_style='info', description='Progress:', layout=Layout(height='25px', width='50%'),…"
      ]
     },
     "metadata": {},
     "output_type": "display_data"
    }
   ],
   "source": [
    "region_name = os.environ['AWS_REGION']"
   ]
  },
  {
   "cell_type": "code",
   "execution_count": 230,
   "metadata": {},
   "outputs": [
    {
     "data": {
      "application/vnd.jupyter.widget-view+json": {
       "model_id": "31e3d58cd74941d8b6cd595857aec1e3",
       "version_major": 2,
       "version_minor": 0
      },
      "text/plain": [
       "VBox()"
      ]
     },
     "metadata": {},
     "output_type": "display_data"
    },
    {
     "data": {
      "application/vnd.jupyter.widget-view+json": {
       "model_id": "",
       "version_major": 2,
       "version_minor": 0
      },
      "text/plain": [
       "FloatProgress(value=0.0, bar_style='info', description='Progress:', layout=Layout(height='25px', width='50%'),…"
      ]
     },
     "metadata": {},
     "output_type": "display_data"
    }
   ],
   "source": [
    "aws_access_key_id = os.environ['AWS_ACCESS_KEY']"
   ]
  },
  {
   "cell_type": "code",
   "execution_count": 231,
   "metadata": {},
   "outputs": [
    {
     "data": {
      "application/vnd.jupyter.widget-view+json": {
       "model_id": "a5b4b3f6968c4db28b74c4cccdd2719e",
       "version_major": 2,
       "version_minor": 0
      },
      "text/plain": [
       "VBox()"
      ]
     },
     "metadata": {},
     "output_type": "display_data"
    },
    {
     "data": {
      "application/vnd.jupyter.widget-view+json": {
       "model_id": "",
       "version_major": 2,
       "version_minor": 0
      },
      "text/plain": [
       "FloatProgress(value=0.0, bar_style='info', description='Progress:', layout=Layout(height='25px', width='50%'),…"
      ]
     },
     "metadata": {},
     "output_type": "display_data"
    }
   ],
   "source": [
    "aws_secret_access_key = os.environ['AWS_SECRET_KEY']"
   ]
  },
  {
   "cell_type": "markdown",
   "metadata": {},
   "source": [
    "## Preparing Classes"
   ]
  },
  {
   "cell_type": "code",
   "execution_count": 232,
   "metadata": {},
   "outputs": [
    {
     "data": {
      "application/vnd.jupyter.widget-view+json": {
       "model_id": "9c615937376d4c3491c351de97bec2cf",
       "version_major": 2,
       "version_minor": 0
      },
      "text/plain": [
       "VBox()"
      ]
     },
     "metadata": {},
     "output_type": "display_data"
    },
    {
     "data": {
      "application/vnd.jupyter.widget-view+json": {
       "model_id": "",
       "version_major": 2,
       "version_minor": 0
      },
      "text/plain": [
       "FloatProgress(value=0.0, bar_style='info', description='Progress:', layout=Layout(height='25px', width='50%'),…"
      ]
     },
     "metadata": {},
     "output_type": "display_data"
    }
   ],
   "source": [
    "class QueryAthena:\n",
    "\n",
    "    def __init__(self, query, database):\n",
    "        self.database = database\n",
    "        self.folder = SPG_QUERY_BUCKET_ATHENA+\"/\" \n",
    "        self.bucket = SPG_OUTPUT_BUCKET\n",
    "        self.s3_input = 's3://' + self.bucket + '/my_folder_input'\n",
    "        self.s3_output =  's3://' + self.bucket + '/' + self.folder\n",
    "        self.region_name = region_name\n",
    "        self.aws_access_key_id = aws_access_key_id\n",
    "        self.aws_secret_access_key = aws_secret_access_key\n",
    "        self.query = query\n",
    "\n",
    "    def load_conf(self, q):\n",
    "        try:\n",
    "            self.client = boto3.client('athena', \n",
    "                              region_name = self.region_name, \n",
    "                              aws_access_key_id = self.aws_access_key_id,\n",
    "                              aws_secret_access_key= self.aws_secret_access_key)\n",
    "            response = self.client.start_query_execution(\n",
    "                QueryString = q,\n",
    "                    QueryExecutionContext={\n",
    "                    'Database': self.database\n",
    "                    },\n",
    "                    ResultConfiguration={\n",
    "                    'OutputLocation': self.s3_output,\n",
    "                    }\n",
    "            )\n",
    "            self.filename = response['QueryExecutionId']\n",
    "            return response\n",
    "            #print('Execution ID: ' + response['QueryExecutionId'])\n",
    "\n",
    "        except Exception as e:\n",
    "            log_table = spark.createDataFrame([(1, 2)], (\"a\", \"b\"))              #Spark Dataframe with test columns\n",
    "\n",
    "    def run_query(self):\n",
    "        queries = [self.query]\n",
    "        for q in queries:\n",
    "            res = self.load_conf(q)\n",
    "            \n",
    "        df = None\n",
    "        try:              \n",
    "            query_status = None\n",
    "            while query_status == 'QUEUED' or query_status == 'RUNNING' or query_status is None:\n",
    "                query_status = self.client.get_query_execution(QueryExecutionId=res[\"QueryExecutionId\"])['QueryExecution']['Status']['State']\n",
    "                if query_status == 'FAILED' or query_status == 'CANCELLED':\n",
    "\n",
    "                    e = 'Athena query with the string \"{}\" failed or was cancelled'.format(self.query)\n",
    "                time.sleep(10)\n",
    "            #print('Query \"{}\" finished.'.format(self.query))\n",
    "            df = self.obtain_data()\n",
    "            self.remove_data()\n",
    "            return df\n",
    "\n",
    "        except Exception as e:\n",
    "            self.remove_data()\n",
    "            log_table = spark.createDataFrame([(1, 2)], (\"a\", \"b\"))              #Spark Dataframe with test columns\n",
    "\n",
    "    def obtain_data(self):\n",
    "        try:\n",
    "            self.resource = boto3.resource('s3', \n",
    "                                  region_name = self.region_name, \n",
    "                                  aws_access_key_id = self.aws_access_key_id,\n",
    "                                  aws_secret_access_key= self.aws_secret_access_key)\n",
    "\n",
    "            response = self.resource \\\n",
    "            .Bucket(self.bucket) \\\n",
    "            .Object(key= self.folder + self.filename + '.csv') \\\n",
    "            .get()\n",
    "\n",
    "            return pd.read_csv(io.BytesIO(response['Body'].read()), encoding='utf8')   \n",
    "        except Exception as e:\n",
    "            log_table = spark.createDataFrame([(1, 2)], (\"a\", \"b\"))              #Spark Dataframe with test columns\n",
    "     \n",
    "    def remove_data(self):\n",
    "        try:\n",
    "            self.resource = boto3.resource('s3', \n",
    "                                  region_name = self.region_name, \n",
    "                                  aws_access_key_id = self.aws_access_key_id,\n",
    "                                  aws_secret_access_key= self.aws_secret_access_key)            \n",
    "            self.resource.Object(self.bucket, self.folder + self.filename + '.csv').delete()\n",
    "            self.resource.Object(self.bucket, self.folder + self.filename + '.csv.metadata').delete()\n",
    "            \n",
    "        \n",
    "        except Exception as e:\n",
    "            log_table = spark.createDataFrame([(1, 2)], (\"a\", \"b\"))              #Spark Dataframe with test columns"
   ]
  },
  {
   "cell_type": "code",
   "execution_count": 233,
   "metadata": {},
   "outputs": [
    {
     "data": {
      "application/vnd.jupyter.widget-view+json": {
       "model_id": "c9ddf14030c043209d8cef85065d1cf8",
       "version_major": 2,
       "version_minor": 0
      },
      "text/plain": [
       "VBox()"
      ]
     },
     "metadata": {},
     "output_type": "display_data"
    },
    {
     "data": {
      "application/vnd.jupyter.widget-view+json": {
       "model_id": "",
       "version_major": 2,
       "version_minor": 0
      },
      "text/plain": [
       "FloatProgress(value=0.0, bar_style='info', description='Progress:', layout=Layout(height='25px', width='50%'),…"
      ]
     },
     "metadata": {},
     "output_type": "display_data"
    }
   ],
   "source": [
    "class Transfer:\n",
    "    def __init__(self) :\n",
    "        self.target_database = ATHENA_AUDIT\n",
    "        self.target_host = os.environ['AUDIT_HOST']\n",
    "        self.target_user = os.environ[\"AUDIT_USER\"]\n",
    "        self.target_passwd = os.environ[\"AUDIT_PWD\"]\n",
    "        self.target_table = \"auditoria\"\n",
    "        self.if_exists = \"append\"\n",
    "        \n",
    "    def doIt(self, dataframe):        \n",
    "        \n",
    "        try:\n",
    "            engine = create_engine('mysql+pymysql://{}:{}@{}/{}'.format(self.target_user,self.target_passwd,self.target_host,self.target_database))\n",
    "            dataframe.to_sql(con=engine, name=self.target_table, if_exists=self.if_exists, index=False)\n",
    "        except Exception as e:\n",
    "            log_table = spark.createDataFrame([(1, 2)], (\"a\", \"b\"))              #Spark Dataframe with test columns\n",
    "            \n",
    "    def runCommandOnTarget(self, query):\n",
    "              \n",
    "        try:\n",
    "        \n",
    "            engine = create_engine('mysql+pymysql://{}:{}@{}/{}'.format(self.target_user,self.target_passwd,self.target_host,self.target_database))\n",
    "            con = engine.connect()\n",
    "            result = con.execute(query)\n",
    "            \n",
    "        except Exception as e:\n",
    "            log_table = spark.createDataFrame([(1, 2)], (\"a\", \"b\"))              #Spark Dataframe with test columns"
   ]
  },
  {
   "cell_type": "code",
   "execution_count": 234,
   "metadata": {},
   "outputs": [
    {
     "data": {
      "application/vnd.jupyter.widget-view+json": {
       "model_id": "1417b5a993714c2d8737111e35080290",
       "version_major": 2,
       "version_minor": 0
      },
      "text/plain": [
       "VBox()"
      ]
     },
     "metadata": {},
     "output_type": "display_data"
    },
    {
     "data": {
      "application/vnd.jupyter.widget-view+json": {
       "model_id": "",
       "version_major": 2,
       "version_minor": 0
      },
      "text/plain": [
       "FloatProgress(value=0.0, bar_style='info', description='Progress:', layout=Layout(height='25px', width='50%'),…"
      ]
     },
     "metadata": {},
     "output_type": "display_data"
    }
   ],
   "source": [
    "class Purge:\n",
    "    def __init__(self):\n",
    "        self.database = ATHENA_AUDIT\n",
    "        self.host = os.environ['AUDIT_HOST']\n",
    "        self.user = os.environ[\"AUDIT_USER\"]\n",
    "        self.passwd = os.environ[\"AUDIT_PWD\"]\n",
    "        self.folder = SPG_OUTPUT_BUCKET_PURGE\n",
    "        self.bucket = SPG_OUTPUT_BUCKET        \n",
    "        self.s3_input = 's3://' + self.bucket + '//' + self.folder\n",
    "        self.s3_output =  's3://' + self.bucket + '//' + self.folder\n",
    "\n",
    "\n",
    "        self.region_name = region_name\n",
    "        self.aws_access_key_id = aws_access_key_id\n",
    "        self.aws_secret_access_key = aws_secret_access_key                \n",
    "        \n",
    "    def createPugedFile(self, query, filename):\n",
    "        try:                    \n",
    "            #dataframe\n",
    "            engine = create_engine('mysql+pymysql://{}:{}@{}/{}'.format(self.user,self.passwd,self.host,self.database))\n",
    "            purger_df = pd.read_sql_query(query, engine)                                \n",
    "                                    \n",
    "            if purger_df.shape[0] > 0:\n",
    "                #buffer\n",
    "                csv_buffer = StringIO()\n",
    "                #writing to buffer\n",
    "                purger_df.to_csv(csv_buffer, sep=\"|\", index=False, encoding='cp1252')                                                      \n",
    "                \n",
    "                #connect to s3\n",
    "                s3 = boto3.resource('s3')\n",
    "                # Write buffer to S3 \n",
    "                s3.Object(self.bucket, self.folder+filename).put(Body=csv_buffer.getvalue())                   \n",
    "                            \n",
    "        except Exception as e:\n",
    "            log_table = spark.createDataFrame([(1, 2)], (\"a\", \"b\"))              #Spark Dataframe with test columns\n",
    "            \n",
    "    def createPugedFileWithExcel(self, query, filename):\n",
    "        try:\n",
    "            \n",
    "            #dataframe\n",
    "            engine = create_engine('mysql+pymysql://{}:{}@{}/{}'.format(self.user,self.passwd,self.host,self.database))\n",
    "            purger_df = pd.read_sql_query(query, engine)   \n",
    "            \n",
    "            if purger_df.shape[0] > 0:\n",
    "                output = io.BytesIO()\n",
    "                writer = pd.ExcelWriter(output, engine='openpyxl')\n",
    "              #  writer = pd.ExcelWriter(output, engine='xlsxwriter')\n",
    "                \n",
    "                purger_df.to_excel(writer,encoding='cp1252',index=False)\n",
    "                \n",
    "                writer.save()\n",
    "                data = output.getvalue()\n",
    "\n",
    "                s3 = boto3.resource('s3')\n",
    "                s3.Bucket(self.bucket).put_object(Key=self.folder+filename, Body=data)\n",
    "        except Exception as e:\n",
    "            log_table = spark.createDataFrame([(1, 2)], (\"a\", \"b\"))              #Spark Dataframe with test columns\n",
    "\n",
    "    def loadAdjustedPugedRecords(self, filename):\n",
    "        try:\n",
    "            s3_file = filename\n",
    "            s3 = boto3.client('s3')\n",
    "            \n",
    "            obj = s3.get_object(Bucket=self.bucket, Key=self.folder+s3_file)\n",
    "            \n",
    "            purget_df = pd.read_csv(io.BytesIO(obj['Body'].read()),sep='|',  encoding = \"cp1252\")\n",
    "            \n",
    "            return purget_df                           \n",
    "            #for item in purget_df.rows:                            \n",
    "        except Exception as e:\n",
    "            log_table = spark.createDataFrame([(1, 2)], (\"a\", \"b\"))              #Spark Dataframe with test columns\n",
    "\n",
    "    def loadAdjustedPugedRecordsWithExcel(self, filename):\n",
    "\n",
    "        try:\n",
    "            s3_file = filename\n",
    "            s3 = boto3.client('s3')\n",
    "            \n",
    "            obj = s3.get_object(Bucket=self.bucket, Key=self.folder+s3_file)\n",
    "            \n",
    "            purget_df = pd.read_excel(io.BytesIO(obj['Body'].read()))\n",
    "            \n",
    "            return purget_df                           \n",
    "            #for item in purget_df.rows:                            \n",
    "        except Exception as e:\n",
    "            log_table = spark.createDataFrame([(1, 2)], (\"a\", \"b\"))              #Spark Dataframe with test columns\n",
    "    \n",
    "    def write_pandas_parquet_to_s3(self, df, fileName):\n",
    "        try:\n",
    "        \n",
    "            #buffer\n",
    "            csv_buffer = StringIO()\n",
    "            #writing to buffer\n",
    "            df.to_parquet(csv_buffer)                                                      \n",
    "                \n",
    "            #connect to s3\n",
    "            s3 = boto3.resource('s3')\n",
    "            # Write buffer to S3 \n",
    "            s3.Object(self.bucket, folder_ret+filename).put(Body=csv_buffer.getvalue())\n",
    "            \n",
    "        except Exception as e:\n",
    "            log_table = spark.createDataFrame([(1, 2)], (\"a\", \"b\"))              #Spark Dataframe with test columns"
   ]
  },
  {
   "cell_type": "code",
   "execution_count": 235,
   "metadata": {},
   "outputs": [
    {
     "data": {
      "application/vnd.jupyter.widget-view+json": {
       "model_id": "2ddc0264b4c34d5fa1697ee2e65bdca6",
       "version_major": 2,
       "version_minor": 0
      },
      "text/plain": [
       "VBox()"
      ]
     },
     "metadata": {},
     "output_type": "display_data"
    },
    {
     "data": {
      "application/vnd.jupyter.widget-view+json": {
       "model_id": "",
       "version_major": 2,
       "version_minor": 0
      },
      "text/plain": [
       "FloatProgress(value=0.0, bar_style='info', description='Progress:', layout=Layout(height='25px', width='50%'),…"
      ]
     },
     "metadata": {},
     "output_type": "display_data"
    }
   ],
   "source": [
    "qa = QueryAthena(query=QUERY_GET_TIMESTAMP, database=ATHENA_SPG)\n",
    "df2 = qa.run_query()"
   ]
  },
  {
   "cell_type": "code",
   "execution_count": 236,
   "metadata": {},
   "outputs": [
    {
     "data": {
      "application/vnd.jupyter.widget-view+json": {
       "model_id": "0de5f6ecf46443fba0f0b03b5ed27474",
       "version_major": 2,
       "version_minor": 0
      },
      "text/plain": [
       "VBox()"
      ]
     },
     "metadata": {},
     "output_type": "display_data"
    },
    {
     "data": {
      "application/vnd.jupyter.widget-view+json": {
       "model_id": "",
       "version_major": 2,
       "version_minor": 0
      },
      "text/plain": [
       "FloatProgress(value=0.0, bar_style='info', description='Progress:', layout=Layout(height='25px', width='50%'),…"
      ]
     },
     "metadata": {},
     "output_type": "display_data"
    }
   ],
   "source": [
    "data_ref = df2['data_ref'].values[0]\n",
    "\n",
    "if data_ref == datetime.now().date().strftime('%Y-%m-%d'):\n",
    "    data_ref = (datetime.strptime(data_ref, '%Y-%m-%d') - timedelta(days=1)).date().strftime('%Y-%m-%d')"
   ]
  },
  {
   "cell_type": "code",
   "execution_count": 237,
   "metadata": {},
   "outputs": [
    {
     "data": {
      "application/vnd.jupyter.widget-view+json": {
       "model_id": "332fff02171241b98a31be92c6953c33",
       "version_major": 2,
       "version_minor": 0
      },
      "text/plain": [
       "VBox()"
      ]
     },
     "metadata": {},
     "output_type": "display_data"
    },
    {
     "data": {
      "application/vnd.jupyter.widget-view+json": {
       "model_id": "",
       "version_major": 2,
       "version_minor": 0
      },
      "text/plain": [
       "FloatProgress(value=0.0, bar_style='info', description='Progress:', layout=Layout(height='25px', width='50%'),…"
      ]
     },
     "metadata": {},
     "output_type": "display_data"
    }
   ],
   "source": [
    "def cleanup(session, params):\n",
    "    s3 = session.resource('s3')\n",
    "    my_bucket = s3.Bucket(params['bucket'])"
   ]
  },
  {
   "cell_type": "code",
   "execution_count": 238,
   "metadata": {
    "scrolled": true
   },
   "outputs": [
    {
     "data": {
      "application/vnd.jupyter.widget-view+json": {
       "model_id": "6560e9edda6c40609d38a93c05d050b8",
       "version_major": 2,
       "version_minor": 0
      },
      "text/plain": [
       "VBox()"
      ]
     },
     "metadata": {},
     "output_type": "display_data"
    },
    {
     "data": {
      "application/vnd.jupyter.widget-view+json": {
       "model_id": "",
       "version_major": 2,
       "version_minor": 0
      },
      "text/plain": [
       "FloatProgress(value=0.0, bar_style='info', description='Progress:', layout=Layout(height='25px', width='50%'),…"
      ]
     },
     "metadata": {},
     "output_type": "display_data"
    }
   ],
   "source": [
    "date_prior = datetime.strptime(data_ref, '%Y-%m-%d') - timedelta(days=7)\n",
    "#day = datetime.strptime(data_ref, '%Y-%m-%d')\n",
    "day = datetime.strptime(data_ref, '%Y-%m-%d') - timedelta(days=1)\n",
    "\n",
    "\n",
    "filename = \"tbl_SPG_AD_PURGE_{}.xlsx\".format(day.strftime('%Y_%m_%d'))\n",
    "\n",
    "sql = u\"update \"+ATHENA_AUDIT+\".auditoria set aprovado_manualmente = '{apr_man}' \"\\\n",
    "      \"where ID={id_} and `timestamp` >= '{date_prior_}'\"\n",
    "\n",
    "\n",
    "purged_audit = Purge()\n",
    "purget_df = purged_audit.loadAdjustedPugedRecordsWithExcel(filename)\n",
    "\n",
    "if purget_df is not None:\n",
    "\n",
    "    purget_df.rename(columns = {\"Data Coleta\":\"timestamp\",\n",
    "                                \"Filial\":\"filial\",\n",
    "                                \"Vendedor\":\"nome_vendedor\",\n",
    "                                \"Cliente\":\"nome_cliente\",\n",
    "                                \"SKU\":\"cod_product\",\n",
    "                                \"Produto\":\"desc_product\",\n",
    "                                \"Preco\":\"preco21diaskg\",\n",
    "                                \"Fabricante\":\"fabricante\",\n",
    "                                \"Cidade\":\"cidade\",\n",
    "                                \"Estado\":\"estado\",\n",
    "                                \"Material\":\"material\",\n",
    "                                \"OV\":\"ovajustada\",\n",
    "                                \"Aprovado Manualmente\":\"aprovado_manualmente\",\n",
    "                                \"Preco Ref. Minimo\": \"preco_ref_min\",\n",
    "                                \"Preco Ref. Max\":\"preco_ref_max\"\n",
    "                               }, inplace=True)\n",
    "    ta = Transfer()\n",
    "    for index,row in purget_df.iterrows():\n",
    "        ta.runCommandOnTarget(sql.format(apr_man=row['aprovado_manualmente'],id_=row['ID'],date_prior_=date_prior.date().strftime('%Y-%m-%d')))"
   ]
  },
  {
   "cell_type": "code",
   "execution_count": 239,
   "metadata": {},
   "outputs": [
    {
     "data": {
      "application/vnd.jupyter.widget-view+json": {
       "model_id": "f2b27251aabd4745aa784ced7e6f3269",
       "version_major": 2,
       "version_minor": 0
      },
      "text/plain": [
       "VBox()"
      ]
     },
     "metadata": {},
     "output_type": "display_data"
    },
    {
     "data": {
      "application/vnd.jupyter.widget-view+json": {
       "model_id": "",
       "version_major": 2,
       "version_minor": 0
      },
      "text/plain": [
       "FloatProgress(value=0.0, bar_style='info', description='Progress:', layout=Layout(height='25px', width='50%'),…"
      ]
     },
     "metadata": {},
     "output_type": "display_data"
    }
   ],
   "source": [
    "qa = QueryAthena(query=QUERY_COLLECT.format(data_ref), database=ATHENA_SPG)"
   ]
  },
  {
   "cell_type": "code",
   "execution_count": 240,
   "metadata": {},
   "outputs": [
    {
     "data": {
      "application/vnd.jupyter.widget-view+json": {
       "model_id": "bc03755a0e5d4868960875723ac519d4",
       "version_major": 2,
       "version_minor": 0
      },
      "text/plain": [
       "VBox()"
      ]
     },
     "metadata": {},
     "output_type": "display_data"
    },
    {
     "data": {
      "application/vnd.jupyter.widget-view+json": {
       "model_id": "",
       "version_major": 2,
       "version_minor": 0
      },
      "text/plain": [
       "FloatProgress(value=0.0, bar_style='info', description='Progress:', layout=Layout(height='25px', width='50%'),…"
      ]
     },
     "metadata": {},
     "output_type": "display_data"
    }
   ],
   "source": [
    "coleta = qa.run_query()"
   ]
  },
  {
   "cell_type": "code",
   "execution_count": 243,
   "metadata": {},
   "outputs": [
    {
     "data": {
      "application/vnd.jupyter.widget-view+json": {
       "model_id": "2060a3b612de45bc892cdb265da393e1",
       "version_major": 2,
       "version_minor": 0
      },
      "text/plain": [
       "VBox()"
      ]
     },
     "metadata": {},
     "output_type": "display_data"
    },
    {
     "data": {
      "application/vnd.jupyter.widget-view+json": {
       "model_id": "",
       "version_major": 2,
       "version_minor": 0
      },
      "text/plain": [
       "FloatProgress(value=0.0, bar_style='info', description='Progress:', layout=Layout(height='25px', width='50%'),…"
      ]
     },
     "metadata": {},
     "output_type": "display_data"
    },
    {
     "name": "stderr",
     "output_type": "stream",
     "text": [
      "'NoneType' object has no attribute 'cod_vendedor'\n",
      "Traceback (most recent call last):\n",
      "AttributeError: 'NoneType' object has no attribute 'cod_vendedor'\n",
      "\n"
     ]
    }
   ],
   "source": [
    "coleta_tratada1 =  coleta[(~coleta.cod_vendedor.isna()) & (~coleta.cod_cliente.isna()) &\n",
    "                  (~coleta.filial.isna()) & (~coleta.preco21diaskg.isna())]\n",
    "\n",
    "coleta_tratada = coleta_tratada1[(coleta_tratada1.cod_vendedor.notnull()) & \n",
    "                                 (coleta_tratada1.cod_cliente.notnull()) &\n",
    "                                 (coleta_tratada1.filial.notnull()) & \n",
    "                                 (coleta_tratada1.preco21diaskg.notnull())]"
   ]
  },
  {
   "cell_type": "code",
   "execution_count": 208,
   "metadata": {},
   "outputs": [
    {
     "data": {
      "application/vnd.jupyter.widget-view+json": {
       "model_id": "d5f72d2d029a4a9097af8a804abba3ac",
       "version_major": 2,
       "version_minor": 0
      },
      "text/plain": [
       "VBox()"
      ]
     },
     "metadata": {},
     "output_type": "display_data"
    },
    {
     "data": {
      "application/vnd.jupyter.widget-view+json": {
       "model_id": "",
       "version_major": 2,
       "version_minor": 0
      },
      "text/plain": [
       "FloatProgress(value=0.0, bar_style='info', description='Progress:', layout=Layout(height='25px', width='50%'),…"
      ]
     },
     "metadata": {},
     "output_type": "display_data"
    },
    {
     "name": "stderr",
     "output_type": "stream",
     "text": [
      "name 'coleta_tratada' is not defined\n",
      "Traceback (most recent call last):\n",
      "NameError: name 'coleta_tratada' is not defined\n",
      "\n"
     ]
    }
   ],
   "source": [
    "coleta_tratada.drop(columns = [\"aprovado\"], inplace=True)\n",
    "coleta_tratada['aprovado_manualmente'] = None\n",
    "coleta_tratada['aprovado_automaticamente'] = 'Não'"
   ]
  },
  {
   "cell_type": "code",
   "execution_count": 209,
   "metadata": {},
   "outputs": [
    {
     "data": {
      "application/vnd.jupyter.widget-view+json": {
       "model_id": "c9f6494d44e143b388fb0e31b0538c78",
       "version_major": 2,
       "version_minor": 0
      },
      "text/plain": [
       "VBox()"
      ]
     },
     "metadata": {},
     "output_type": "display_data"
    },
    {
     "data": {
      "application/vnd.jupyter.widget-view+json": {
       "model_id": "",
       "version_major": 2,
       "version_minor": 0
      },
      "text/plain": [
       "FloatProgress(value=0.0, bar_style='info', description='Progress:', layout=Layout(height='25px', width='50%'),…"
      ]
     },
     "metadata": {},
     "output_type": "display_data"
    },
    {
     "name": "stderr",
     "output_type": "stream",
     "text": [
      "name 'coleta_tratada' is not defined\n",
      "Traceback (most recent call last):\n",
      "NameError: name 'coleta_tratada' is not defined\n",
      "\n"
     ]
    }
   ],
   "source": [
    "ta = Transfer()\n",
    "\n",
    "sql = \"delete from \"+ATHENA_AUDIT+\".auditoria where cast(timestamp as date) = cast('{}' as date)\"\n",
    "\n",
    "sql2 = sql.format(data_ref)\n",
    "\n",
    "clear_target= ta.runCommandOnTarget(sql2)\n",
    "\n",
    "ta.doIt(coleta_tratada)"
   ]
  },
  {
   "cell_type": "code",
   "execution_count": 49,
   "metadata": {},
   "outputs": [
    {
     "data": {
      "application/vnd.jupyter.widget-view+json": {
       "model_id": "ad4c660e92ef426588b46879b883d12e",
       "version_major": 2,
       "version_minor": 0
      },
      "text/plain": [
       "VBox()"
      ]
     },
     "metadata": {},
     "output_type": "display_data"
    },
    {
     "data": {
      "application/vnd.jupyter.widget-view+json": {
       "model_id": "0db5b87858e14d37a9f125cd168fcea9",
       "version_major": 2,
       "version_minor": 0
      },
      "text/plain": [
       "FloatProgress(value=0.0, bar_style='info', description='Progress:', layout=Layout(height='25px', width='50%'),…"
      ]
     },
     "metadata": {},
     "output_type": "display_data"
    }
   ],
   "source": [
    "retencao = coleta[(coleta.cod_vendedor.isna()) | (coleta.cod_cliente.isna()) |\n",
    "                  (coleta.filial.isna()) | (coleta.preco21diaskg.isna()) |\n",
    "                  (coleta.cod_vendedor.isnull()) | (coleta.cod_cliente.isnull()) |\n",
    "                  (coleta.filial.isnull()) | (coleta.preco21diaskg.isnull())\n",
    "                 ]\n",
    " \n",
    "filename = \"tbl_SPG_AD_RET_{}.parquet\".format(data_ref)\n",
    "\n",
    "purged_audit = Purge()\n",
    "purged_audit.write_pandas_parquet_to_s3(retencao, filename)"
   ]
  },
  {
   "cell_type": "code",
   "execution_count": 50,
   "metadata": {},
   "outputs": [
    {
     "data": {
      "application/vnd.jupyter.widget-view+json": {
       "model_id": "865cef9dbfc141f7a7d40933c57415cf",
       "version_major": 2,
       "version_minor": 0
      },
      "text/plain": [
       "VBox()"
      ]
     },
     "metadata": {},
     "output_type": "display_data"
    },
    {
     "data": {
      "application/vnd.jupyter.widget-view+json": {
       "model_id": "a8a74530a126477c8118a607c88621bf",
       "version_major": 2,
       "version_minor": 0
      },
      "text/plain": [
       "FloatProgress(value=0.0, bar_style='info', description='Progress:', layout=Layout(height='25px', width='50%'),…"
      ]
     },
     "metadata": {},
     "output_type": "display_data"
    }
   ],
   "source": [
    "date_prior = datetime.strptime(data_ref, '%Y-%m-%d') - timedelta(days=7)\n",
    "day = datetime.strptime(data_ref, '%Y-%m-%d')"
   ]
  },
  {
   "cell_type": "code",
   "execution_count": 51,
   "metadata": {},
   "outputs": [
    {
     "data": {
      "application/vnd.jupyter.widget-view+json": {
       "model_id": "61a6ff006a0f442bbb1d51b47201d12d",
       "version_major": 2,
       "version_minor": 0
      },
      "text/plain": [
       "VBox()"
      ]
     },
     "metadata": {},
     "output_type": "display_data"
    },
    {
     "data": {
      "application/vnd.jupyter.widget-view+json": {
       "model_id": "0638b3ee8090496b876b4669fc497e3d",
       "version_major": 2,
       "version_minor": 0
      },
      "text/plain": [
       "FloatProgress(value=0.0, bar_style='info', description='Progress:', layout=Layout(height='25px', width='50%'),…"
      ]
     },
     "metadata": {},
     "output_type": "display_data"
    }
   ],
   "source": [
    "#Atualizando status da aprovação de registros acima de 7 dias no mysql\n",
    "ta = Transfer()\n",
    "\n",
    "sql = \"update \"+ATHENA_AUDIT+\".auditoria set aprovado_manualmente='Não' where \"\\\n",
    "      \"timestamp < {} and aprovado_manualmente is null\"\n",
    "\n",
    "upd= ta.runCommandOnTarget(sql.format(date_prior.date().strftime('%Y-%m-%d')))"
   ]
  },
  {
   "cell_type": "code",
   "execution_count": 52,
   "metadata": {},
   "outputs": [
    {
     "data": {
      "application/vnd.jupyter.widget-view+json": {
       "model_id": "c864cdae7cfc49ba905aa063bee0ed6d",
       "version_major": 2,
       "version_minor": 0
      },
      "text/plain": [
       "VBox()"
      ]
     },
     "metadata": {},
     "output_type": "display_data"
    },
    {
     "data": {
      "application/vnd.jupyter.widget-view+json": {
       "model_id": "bc23c1c2ecd64cd4ac6eceeae51d5b51",
       "version_major": 2,
       "version_minor": 0
      },
      "text/plain": [
       "FloatProgress(value=0.0, bar_style='info', description='Progress:', layout=Layout(height='25px', width='50%'),…"
      ]
     },
     "metadata": {},
     "output_type": "display_data"
    }
   ],
   "source": [
    "#filename = \"tbl_SPG_AD_PURGE_{}.csv\".format(day.strftime('%Y_%m_%d'))\n",
    "filename = \"tbl_SPG_AD_PURGE_{}.xlsx\".format(day.strftime('%Y_%m_%d'))\n",
    "\n",
    "query = QUERY_AUDIT\n",
    "\n",
    "#print(query.format(date_prior.date().strftime('%Y-%m-%d')))\n",
    "purged_audit = Purge()\n",
    "purged_audit.createPugedFileWithExcel(query.format(date_prior.date().strftime('%Y-%m-%d')), filename)\n"
   ]
  }
 ],
 "metadata": {
  "kernelspec": {
   "display_name": "Python 3",
   "language": "python",
   "name": "python3"
  },
  "language_info": {
   "codemirror_mode": {
    "name": "ipython",
    "version": 3
   },
   "file_extension": ".py",
   "mimetype": "text/x-python",
   "name": "python",
   "nbconvert_exporter": "python",
   "pygments_lexer": "ipython3",
   "version": "3.7.5"
  }
 },
 "nbformat": 4,
 "nbformat_minor": 2
}
