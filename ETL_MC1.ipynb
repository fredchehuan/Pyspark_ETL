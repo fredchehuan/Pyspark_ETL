{
 "cells": [
  {
   "cell_type": "code",
   "execution_count": 2,
   "metadata": {},
   "outputs": [
    {
     "data": {
      "application/vnd.jupyter.widget-view+json": {
       "model_id": "045b797a91d24311b08e0f66428a1119",
       "version_major": 2,
       "version_minor": 0
      },
      "text/plain": [
       "VBox()"
      ]
     },
     "metadata": {},
     "output_type": "display_data"
    },
    {
     "name": "stdout",
     "output_type": "stream",
     "text": [
      "Starting Spark application\n"
     ]
    },
    {
     "data": {
      "text/html": [
       "<table>\n",
       "<tr><th>ID</th><th>YARN Application ID</th><th>Kind</th><th>State</th><th>Spark UI</th><th>Driver log</th><th>Current session?</th></tr><tr><td>2</td><td>application_1579530980814_0003</td><td>pyspark</td><td>idle</td><td><a target=\"_blank\" href=\"http://ip-172-31-25-89.us-east-2.compute.internal:20888/proxy/application_1579530980814_0003/\">Link</a></td><td><a target=\"_blank\" href=\"http://ip-172-31-16-133.us-east-2.compute.internal:8042/node/containerlogs/container_1579530980814_0003_01_000001/livy\">Link</a></td><td>✔</td></tr></table>"
      ],
      "text/plain": [
       "<IPython.core.display.HTML object>"
      ]
     },
     "metadata": {},
     "output_type": "display_data"
    },
    {
     "data": {
      "application/vnd.jupyter.widget-view+json": {
       "model_id": "",
       "version_major": 2,
       "version_minor": 0
      },
      "text/plain": [
       "FloatProgress(value=0.0, bar_style='info', description='Progress:', layout=Layout(height='25px', width='50%'),…"
      ]
     },
     "metadata": {},
     "output_type": "display_data"
    },
    {
     "name": "stdout",
     "output_type": "stream",
     "text": [
      "SparkSession available as 'spark'.\n"
     ]
    },
    {
     "data": {
      "application/vnd.jupyter.widget-view+json": {
       "model_id": "",
       "version_major": 2,
       "version_minor": 0
      },
      "text/plain": [
       "FloatProgress(value=0.0, bar_style='info', description='Progress:', layout=Layout(height='25px', width='50%'),…"
      ]
     },
     "metadata": {},
     "output_type": "display_data"
    }
   ],
   "source": [
    "import findspark                                      #Import library to Search for Spark Installation  \n",
    "\n",
    "findspark.init()                                      #Search Spark Installation\n",
    "\n",
    "from pyspark.sql import SparkSession                  # Import of Spark Session\n",
    "from pyspark.sql import Row\n",
    "from pyspark import SparkContext as spark             # Import the Regular Spark Contex\n",
    "from pyspark.sql.functions import *\n",
    "from pyspark.sql.types import DateType\n",
    "spark = SparkSession.builder.getOrCreate()\n",
    "from pyspark.sql.types import IntegerType\n",
    "import os\n",
    "\n",
    "sc = spark.sparkContext                               #Initialize Spark"
   ]
  },
  {
   "cell_type": "markdown",
   "metadata": {},
   "source": [
    "------------"
   ]
  },
  {
   "cell_type": "markdown",
   "metadata": {},
   "source": [
    "# Creating Variables"
   ]
  },
  {
   "cell_type": "markdown",
   "metadata": {},
   "source": [
    "## Buckets"
   ]
  },
  {
   "cell_type": "code",
   "execution_count": null,
   "metadata": {},
   "outputs": [],
   "source": [
    "SPG_MANUAL_INPUT_BUCKET = os.environ['MANUAL_INPUT_BUCKET']"
   ]
  },
  {
   "cell_type": "code",
   "execution_count": null,
   "metadata": {},
   "outputs": [],
   "source": [
    "SPG_INTEGRATION_INPUT_BUCKET = os.environ['INTEGRATION_INPUT_BUCKET']"
   ]
  },
  {
   "cell_type": "code",
   "execution_count": null,
   "metadata": {},
   "outputs": [],
   "source": [
    "SPG_QUERY_BUCKET = os.environ['QUERY_BUCKET']"
   ]
  },
  {
   "cell_type": "code",
   "execution_count": null,
   "metadata": {},
   "outputs": [],
   "source": [
    "GERDAU_BUCKET = os.environ['GERDAU_BUCKET']"
   ]
  },
  {
   "cell_type": "code",
   "execution_count": null,
   "metadata": {},
   "outputs": [],
   "source": [
    "SPG_OUTPUT_BUCKET = os.environ['OUTPUT_BUCKET']"
   ]
  },
  {
   "cell_type": "code",
   "execution_count": null,
   "metadata": {},
   "outputs": [],
   "source": [
    "SPG_INPUT_BUCKET = os.environ['INPUT_BUCKET_FROM_OUTPUT']"
   ]
  },
  {
   "cell_type": "markdown",
   "metadata": {},
   "source": [
    "## Input Paths"
   ]
  },
  {
   "cell_type": "code",
   "execution_count": null,
   "metadata": {},
   "outputs": [],
   "source": [
    "SPG_INTEGRATION_INPUT_BUCKET_MC1 = \"SPG_GLOBAL/MC1/MC1.parquet\""
   ]
  },
  {
   "cell_type": "code",
   "execution_count": null,
   "metadata": {},
   "outputs": [],
   "source": [
    "SPG_INTEGRATION_INPUT_BUCKET_REGION = \"SPG_DIMENSIONS/SPG_REGIOES/SPG_RG_REGIOES/SPG_RG_REGIOES.parquet\""
   ]
  },
  {
   "cell_type": "code",
   "execution_count": null,
   "metadata": {},
   "outputs": [],
   "source": [
    "SPG_INTEGRATION_INPUT_BUCKET_CLIENT = \"SPG_DIMENSIONS/SPG_CLIENTES/SPG_CL_CLIENTES/SPG_CL_CLIENTES.parquet\""
   ]
  },
  {
   "cell_type": "code",
   "execution_count": null,
   "metadata": {},
   "outputs": [],
   "source": [
    "SPG_INTEGRATION_INPUT_BUCKET_PRODUCTS = \"SPG_DIMENSIONS/SPG_PRODUTOS/SPG_PD_PRODUTOS.parquet\""
   ]
  },
  {
   "cell_type": "code",
   "execution_count": null,
   "metadata": {},
   "outputs": [],
   "source": [
    "SPG_INPUT_BUCKET_AGENTS = \"SGP_PRICE_COLLECT/SPG_PC_AGENTS//tb_SPG_PC_AGENTS_GPD.parquet\""
   ]
  },
  {
   "cell_type": "code",
   "execution_count": null,
   "metadata": {},
   "outputs": [],
   "source": [
    "#SPG_MANUAL_INPUT_BUCKET_REGION = \"SPG_GLOBAL/SUPPORT/tb_SPG_SUPPORT_CIDADE_FILIAL.csv\""
   ]
  },
  {
   "cell_type": "code",
   "execution_count": null,
   "metadata": {},
   "outputs": [],
   "source": [
    "SPG_MANUAL_INPUT_BUCKET_CONDITIONS = \"SPG_GLOBAL/INPUT/tb_SPG_CONDICAO.csv\""
   ]
  },
  {
   "cell_type": "markdown",
   "metadata": {},
   "source": [
    "## Output Paths"
   ]
  },
  {
   "cell_type": "code",
   "execution_count": null,
   "metadata": {},
   "outputs": [],
   "source": [
    "SPG_OUTPUT_BUCKET_MC1 = \"SGP_PRICE_COLLECT/SPG_PC_MC1.parquet\""
   ]
  },
  {
   "cell_type": "markdown",
   "metadata": {},
   "source": [
    "---------"
   ]
  },
  {
   "cell_type": "markdown",
   "metadata": {},
   "source": [
    "# Creating Defined Functions"
   ]
  },
  {
   "cell_type": "code",
   "execution_count": 4,
   "metadata": {},
   "outputs": [
    {
     "data": {
      "application/vnd.jupyter.widget-view+json": {
       "model_id": "65c3d6db1e9145709a03918f6ccd969f",
       "version_major": 2,
       "version_minor": 0
      },
      "text/plain": [
       "VBox()"
      ]
     },
     "metadata": {},
     "output_type": "display_data"
    },
    {
     "data": {
      "application/vnd.jupyter.widget-view+json": {
       "model_id": "",
       "version_major": 2,
       "version_minor": 0
      },
      "text/plain": [
       "FloatProgress(value=0.0, bar_style='info', description='Progress:', layout=Layout(height='25px', width='50%'),…"
      ]
     },
     "metadata": {},
     "output_type": "display_data"
    }
   ],
   "source": [
    "# Replacing Special Characters\n",
    "def remove_some_accents(col_name):\n",
    "    removed_array = [('Á', 'A'), ('Ã', 'A'),('À', 'A'),('Â', 'A'),('Ä', 'A'),\n",
    "                    ('É', 'E'),('È', 'E'),('Ê', 'E'),('Ë', 'E'),\n",
    "                    ('Í', 'I'),('Ì', 'I'),('Î', 'I'),('Ï', 'I'),\n",
    "                    ('Ó', 'O'),('Õ', 'O'), ('Ò', 'O'),('Ô', 'O'),('Ö', 'O'),\n",
    "                    ('Ú', 'U'),('Ù', 'U'),('Û', 'U'),('Ü', 'U'),\n",
    "                    ('Ç', 'C')]\n",
    "    r = col_name\n",
    "    for a, b in removed_array:\n",
    "        r = regexp_replace(r, a, b)\n",
    "    return r"
   ]
  },
  {
   "cell_type": "code",
   "execution_count": 5,
   "metadata": {},
   "outputs": [
    {
     "data": {
      "application/vnd.jupyter.widget-view+json": {
       "model_id": "7761cc7b4ed6493fba64075cc2d498cf",
       "version_major": 2,
       "version_minor": 0
      },
      "text/plain": [
       "VBox()"
      ]
     },
     "metadata": {},
     "output_type": "display_data"
    },
    {
     "data": {
      "application/vnd.jupyter.widget-view+json": {
       "model_id": "",
       "version_major": 2,
       "version_minor": 0
      },
      "text/plain": [
       "FloatProgress(value=0.0, bar_style='info', description='Progress:', layout=Layout(height='25px', width='50%'),…"
      ]
     },
     "metadata": {},
     "output_type": "display_data"
    }
   ],
   "source": [
    "# Replacing hifens by /\n",
    "def remove_some_hifen(col_name):\n",
    "    removed_chars = (\"-\")\n",
    "    regexp = \"|\".join('\\{0}'.format(i) for i in removed_chars)\n",
    "    return regexp_replace(col_name, regexp, \"/\")"
   ]
  },
  {
   "cell_type": "code",
   "execution_count": 6,
   "metadata": {},
   "outputs": [
    {
     "data": {
      "application/vnd.jupyter.widget-view+json": {
       "model_id": "4fab98a3c3ea45c98c7390c16ecd14a9",
       "version_major": 2,
       "version_minor": 0
      },
      "text/plain": [
       "VBox()"
      ]
     },
     "metadata": {},
     "output_type": "display_data"
    },
    {
     "data": {
      "application/vnd.jupyter.widget-view+json": {
       "model_id": "",
       "version_major": 2,
       "version_minor": 0
      },
      "text/plain": [
       "FloatProgress(value=0.0, bar_style='info', description='Progress:', layout=Layout(height='25px', width='50%'),…"
      ]
     },
     "metadata": {},
     "output_type": "display_data"
    }
   ],
   "source": [
    "# Replacing dots by /\n",
    "def remove_some_dots(col_name):\n",
    "    removed_chars = (\".\")\n",
    "    regexp = \"|\".join('\\{0}'.format(i) for i in removed_chars)\n",
    "    return regexp_replace(col_name, regexp, \"/\")"
   ]
  },
  {
   "cell_type": "code",
   "execution_count": 7,
   "metadata": {},
   "outputs": [
    {
     "data": {
      "application/vnd.jupyter.widget-view+json": {
       "model_id": "2fd1d385c9d94149b46922ba2be96e46",
       "version_major": 2,
       "version_minor": 0
      },
      "text/plain": [
       "VBox()"
      ]
     },
     "metadata": {},
     "output_type": "display_data"
    },
    {
     "data": {
      "application/vnd.jupyter.widget-view+json": {
       "model_id": "",
       "version_major": 2,
       "version_minor": 0
      },
      "text/plain": [
       "FloatProgress(value=0.0, bar_style='info', description='Progress:', layout=Layout(height='25px', width='50%'),…"
      ]
     },
     "metadata": {},
     "output_type": "display_data"
    }
   ],
   "source": [
    "# Removing hifens\n",
    "def replace_some_hifen(col_name):\n",
    "    removed_chars = (\"-\")\n",
    "    regexp = \"|\".join('\\{0}'.format(i) for i in removed_chars)\n",
    "    return regexp_replace(col_name, regexp, \"\")"
   ]
  },
  {
   "cell_type": "code",
   "execution_count": 8,
   "metadata": {},
   "outputs": [
    {
     "data": {
      "application/vnd.jupyter.widget-view+json": {
       "model_id": "5531463849d847a39b604b15c2153a00",
       "version_major": 2,
       "version_minor": 0
      },
      "text/plain": [
       "VBox()"
      ]
     },
     "metadata": {},
     "output_type": "display_data"
    },
    {
     "data": {
      "application/vnd.jupyter.widget-view+json": {
       "model_id": "",
       "version_major": 2,
       "version_minor": 0
      },
      "text/plain": [
       "FloatProgress(value=0.0, bar_style='info', description='Progress:', layout=Layout(height='25px', width='50%'),…"
      ]
     },
     "metadata": {},
     "output_type": "display_data"
    }
   ],
   "source": [
    "# Removing spaces\n",
    "def replace_some_space(col_name):\n",
    "    removed_chars = (\" \")\n",
    "    regexp = \"|\".join('\\{0}'.format(i) for i in removed_chars)\n",
    "    return regexp_replace(col_name, regexp, \"\")"
   ]
  },
  {
   "cell_type": "code",
   "execution_count": 9,
   "metadata": {},
   "outputs": [
    {
     "data": {
      "application/vnd.jupyter.widget-view+json": {
       "model_id": "36aa17b7575245fe81d8e860a9de55aa",
       "version_major": 2,
       "version_minor": 0
      },
      "text/plain": [
       "VBox()"
      ]
     },
     "metadata": {},
     "output_type": "display_data"
    },
    {
     "data": {
      "application/vnd.jupyter.widget-view+json": {
       "model_id": "",
       "version_major": 2,
       "version_minor": 0
      },
      "text/plain": [
       "FloatProgress(value=0.0, bar_style='info', description='Progress:', layout=Layout(height='25px', width='50%'),…"
      ]
     },
     "metadata": {},
     "output_type": "display_data"
    }
   ],
   "source": [
    "# Removing apostrophes\n",
    "def replace_some_apostrophe(col_name):\n",
    "    removed_chars = (\"'\")\n",
    "    regexp = \"|\".join('\\{0}'.format(i) for i in removed_chars)\n",
    "    return regexp_replace(col_name, regexp, \"\")"
   ]
  },
  {
   "cell_type": "markdown",
   "metadata": {},
   "source": [
    "------------"
   ]
  },
  {
   "cell_type": "markdown",
   "metadata": {},
   "source": [
    "## Import Tables"
   ]
  },
  {
   "cell_type": "code",
   "execution_count": null,
   "metadata": {},
   "outputs": [],
   "source": [
    "MC1 = spark.read.parquet(\"s3a://\"+SPG_INTEGRATION_INPUT_BUCKET+\"/\"+SPG_INTEGRATION_INPUT_BUCKET_MC1)"
   ]
  },
  {
   "cell_type": "code",
   "execution_count": null,
   "metadata": {},
   "outputs": [],
   "source": [
    "base_Filial = spark.read.parquet(\"s3a://\"+SPG_INTEGRATION_INPUT_BUCKET+\"/\"+SPG_INTEGRATION_INPUT_BUCKET_REGION)"
   ]
  },
  {
   "cell_type": "code",
   "execution_count": null,
   "metadata": {},
   "outputs": [],
   "source": [
    "base_cliente = spark.read.parquet(\"s3a://\"+SPG_INTEGRATION_INPUT_BUCKET+\"/\"+SPG_INTEGRATION_INPUT_BUCKET_CLIENT)"
   ]
  },
  {
   "cell_type": "code",
   "execution_count": null,
   "metadata": {},
   "outputs": [],
   "source": [
    "base_UnMedida = spark.read.parquet(\"s3a://\"+SPG_INTEGRATION_INPUT_BUCKET+\"/\"+SPG_INTEGRATION_INPUT_BUCKET_PRODUCTS)"
   ]
  },
  {
   "cell_type": "code",
   "execution_count": null,
   "metadata": {},
   "outputs": [],
   "source": [
    "base_agentes=spark.read.parquet(\"s3a://\"+SPG_INTEGRATION_INPUT_BUCKET+\"/\"+SPG_INTEGRATION_INPUT_BUCKET_AGENTS)"
   ]
  },
  {
   "cell_type": "code",
   "execution_count": null,
   "metadata": {},
   "outputs": [],
   "source": [
    "base_Condicao = spark.read.format(\"csv\").option(\"header\",\"true\").option(\"sep\",\";\").option(\"encoding\", \"ISO-8859-1\").load(\"s3a://\"+SPG_MANUAL_INPUT_BUCKET+\"/\"+SPG_MANUAL_INPUT_BUCKET_CONDITIONS)"
   ]
  },
  {
   "cell_type": "code",
   "execution_count": null,
   "metadata": {},
   "outputs": [],
   "source": [
    "#base_Filial = spark.read.format(\"csv\").option(\"header\",\"true\").option(\"sep\",\";\").option(\"encoding\", \"ISO-8859-1\").load(\"s3a://\"+SPG_MANUAL_INPUT_BUCKET+\"/\"+SPG_MANUAL_INPUT_BUCKET_REGION)"
   ]
  },
  {
   "cell_type": "markdown",
   "metadata": {},
   "source": [
    "-----------"
   ]
  },
  {
   "cell_type": "markdown",
   "metadata": {},
   "source": [
    "# Preparing Tables"
   ]
  },
  {
   "cell_type": "code",
   "execution_count": 10,
   "metadata": {},
   "outputs": [
    {
     "data": {
      "application/vnd.jupyter.widget-view+json": {
       "model_id": "d6b76ea08cf74fcf8f1ce2387f7b676e",
       "version_major": 2,
       "version_minor": 0
      },
      "text/plain": [
       "VBox()"
      ]
     },
     "metadata": {},
     "output_type": "display_data"
    },
    {
     "data": {
      "application/vnd.jupyter.widget-view+json": {
       "model_id": "",
       "version_major": 2,
       "version_minor": 0
      },
      "text/plain": [
       "FloatProgress(value=0.0, bar_style='info', description='Progress:', layout=Layout(height='25px', width='50%'),…"
      ]
     },
     "metadata": {},
     "output_type": "display_data"
    }
   ],
   "source": [
    "base_cliente=base_cliente.selectExpr('SEGMENTATION_SECTOR as GROUP_CLIENT_3'\n",
    "                                     ,'ORGANIZATION_SALES_COD as ORGVENDAS'\n",
    "                                    ,'COD_CLIENT as COD_CLIENT_'\n",
    "                                    ,'CITY as CITY')"
   ]
  },
  {
   "cell_type": "code",
   "execution_count": 11,
   "metadata": {},
   "outputs": [
    {
     "data": {
      "application/vnd.jupyter.widget-view+json": {
       "model_id": "ffa8d05f92d948e5a740aa955562f7e4",
       "version_major": 2,
       "version_minor": 0
      },
      "text/plain": [
       "VBox()"
      ]
     },
     "metadata": {},
     "output_type": "display_data"
    },
    {
     "data": {
      "application/vnd.jupyter.widget-view+json": {
       "model_id": "",
       "version_major": 2,
       "version_minor": 0
      },
      "text/plain": [
       "FloatProgress(value=0.0, bar_style='info', description='Progress:', layout=Layout(height='25px', width='50%'),…"
      ]
     },
     "metadata": {},
     "output_type": "display_data"
    }
   ],
   "source": [
    "base_cliente=base_cliente.dropDuplicates()"
   ]
  },
  {
   "cell_type": "code",
   "execution_count": 12,
   "metadata": {},
   "outputs": [
    {
     "data": {
      "application/vnd.jupyter.widget-view+json": {
       "model_id": "0e6c5788dd6c4c95a0ef843576d44cc7",
       "version_major": 2,
       "version_minor": 0
      },
      "text/plain": [
       "VBox()"
      ]
     },
     "metadata": {},
     "output_type": "display_data"
    },
    {
     "data": {
      "application/vnd.jupyter.widget-view+json": {
       "model_id": "",
       "version_major": 2,
       "version_minor": 0
      },
      "text/plain": [
       "FloatProgress(value=0.0, bar_style='info', description='Progress:', layout=Layout(height='25px', width='50%'),…"
      ]
     },
     "metadata": {},
     "output_type": "display_data"
    }
   ],
   "source": [
    "base_cliente=base_cliente.withColumn('ORGVENDAS',when(col('ORGVENDAS')=='BRIO',lit('BRIN'))\\\n",
    "                                     .otherwise(when(col('ORGVENDAS')=='BRDO',lit('BRDI'))\\\n",
    "                                                .otherwise(when(col('ORGVENDAS')=='BRCO',lit('BRCC'))\\\n",
    "                                                           .otherwise(when(col('ORGVENDAS')=='BRGO',lit('BRCG'))\\\n",
    "                                                                      .otherwise(col('ORGVENDAS'))))))"
   ]
  },
  {
   "cell_type": "code",
   "execution_count": 13,
   "metadata": {},
   "outputs": [
    {
     "data": {
      "application/vnd.jupyter.widget-view+json": {
       "model_id": "4dc76ff1d9274706b3b7f5c7d10af288",
       "version_major": 2,
       "version_minor": 0
      },
      "text/plain": [
       "VBox()"
      ]
     },
     "metadata": {},
     "output_type": "display_data"
    },
    {
     "data": {
      "application/vnd.jupyter.widget-view+json": {
       "model_id": "",
       "version_major": 2,
       "version_minor": 0
      },
      "text/plain": [
       "FloatProgress(value=0.0, bar_style='info', description='Progress:', layout=Layout(height='25px', width='50%'),…"
      ]
     },
     "metadata": {},
     "output_type": "display_data"
    }
   ],
   "source": [
    "base_cliente=base_cliente.withColumn('Chave_lmc',concat('COD_CLIENT_','ORGVENDAS'))"
   ]
  },
  {
   "cell_type": "code",
   "execution_count": 14,
   "metadata": {},
   "outputs": [
    {
     "data": {
      "application/vnd.jupyter.widget-view+json": {
       "model_id": "039ad74014494a0e9abaab47ab3bb8a4",
       "version_major": 2,
       "version_minor": 0
      },
      "text/plain": [
       "VBox()"
      ]
     },
     "metadata": {},
     "output_type": "display_data"
    },
    {
     "data": {
      "application/vnd.jupyter.widget-view+json": {
       "model_id": "",
       "version_major": 2,
       "version_minor": 0
      },
      "text/plain": [
       "FloatProgress(value=0.0, bar_style='info', description='Progress:', layout=Layout(height='25px', width='50%'),…"
      ]
     },
     "metadata": {},
     "output_type": "display_data"
    }
   ],
   "source": [
    "#Selecionando campos na base de Unidade de Medida\n",
    "base_UnMedida=base_UnMedida.selectExpr('COD_MATERIAL as Material_COD'\n",
    "                                         ,'DESC_MATERIAL'\n",
    "                                         ,'KG as kilograma'\n",
    "                                         ,'KI as Caixa'\n",
    "                                         ,'M as Metro'\n",
    "                                         ,'M2 as MetroQuadrado'\n",
    "                                         ,'ROL as Rolo'\n",
    "                                         ,'ST as Peca'\n",
    "                                         ,'TO as Tonelada'\n",
    "                                         ,'ZBA as Barra'\n",
    "                                         ,'ZCT as Cento'\n",
    "                                         ,'ZFX as Feixe'\n",
    "                                         ,'ZUN as Unidade')"
   ]
  },
  {
   "cell_type": "code",
   "execution_count": 15,
   "metadata": {},
   "outputs": [
    {
     "data": {
      "application/vnd.jupyter.widget-view+json": {
       "model_id": "76d567291ce8432fa93e3e941a578225",
       "version_major": 2,
       "version_minor": 0
      },
      "text/plain": [
       "VBox()"
      ]
     },
     "metadata": {},
     "output_type": "display_data"
    },
    {
     "data": {
      "application/vnd.jupyter.widget-view+json": {
       "model_id": "",
       "version_major": 2,
       "version_minor": 0
      },
      "text/plain": [
       "FloatProgress(value=0.0, bar_style='info', description='Progress:', layout=Layout(height='25px', width='50%'),…"
      ]
     },
     "metadata": {},
     "output_type": "display_data"
    }
   ],
   "source": [
    "base_UnMedida=base_UnMedida.withColumn('Material_COD',substring('Material_COD',10,25))"
   ]
  },
  {
   "cell_type": "code",
   "execution_count": 16,
   "metadata": {},
   "outputs": [
    {
     "data": {
      "application/vnd.jupyter.widget-view+json": {
       "model_id": "f759952bfbff4664a5ac23803e3919d9",
       "version_major": 2,
       "version_minor": 0
      },
      "text/plain": [
       "VBox()"
      ]
     },
     "metadata": {},
     "output_type": "display_data"
    },
    {
     "data": {
      "application/vnd.jupyter.widget-view+json": {
       "model_id": "",
       "version_major": 2,
       "version_minor": 0
      },
      "text/plain": [
       "FloatProgress(value=0.0, bar_style='info', description='Progress:', layout=Layout(height='25px', width='50%'),…"
      ]
     },
     "metadata": {},
     "output_type": "display_data"
    }
   ],
   "source": [
    "base_agentes=base_agentes.select('Mes-Ano'\n",
    "                                 ,'ChaveVendedor'\n",
    "                                 ,'Regiao_filial'\n",
    "                                 ,'Meta')"
   ]
  },
  {
   "cell_type": "code",
   "execution_count": 17,
   "metadata": {},
   "outputs": [
    {
     "data": {
      "application/vnd.jupyter.widget-view+json": {
       "model_id": "420ca32358a34f8b9a7c886d8ca965cc",
       "version_major": 2,
       "version_minor": 0
      },
      "text/plain": [
       "VBox()"
      ]
     },
     "metadata": {},
     "output_type": "display_data"
    },
    {
     "data": {
      "application/vnd.jupyter.widget-view+json": {
       "model_id": "",
       "version_major": 2,
       "version_minor": 0
      },
      "text/plain": [
       "FloatProgress(value=0.0, bar_style='info', description='Progress:', layout=Layout(height='25px', width='50%'),…"
      ]
     },
     "metadata": {},
     "output_type": "display_data"
    }
   ],
   "source": [
    "base_agentes=base_agentes.dropDuplicates()"
   ]
  },
  {
   "cell_type": "code",
   "execution_count": 18,
   "metadata": {},
   "outputs": [
    {
     "data": {
      "application/vnd.jupyter.widget-view+json": {
       "model_id": "bb6b12c2e82049ca84d4451fd1c81737",
       "version_major": 2,
       "version_minor": 0
      },
      "text/plain": [
       "VBox()"
      ]
     },
     "metadata": {},
     "output_type": "display_data"
    },
    {
     "data": {
      "application/vnd.jupyter.widget-view+json": {
       "model_id": "",
       "version_major": 2,
       "version_minor": 0
      },
      "text/plain": [
       "FloatProgress(value=0.0, bar_style='info', description='Progress:', layout=Layout(height='25px', width='50%'),…"
      ]
     },
     "metadata": {},
     "output_type": "display_data"
    }
   ],
   "source": [
    "#Calculo de Capacidade por filial\n",
    "AGG_AGENTS_MARKS=base_agentes.selectExpr('`Mes-Ano` as MYAGG','Regiao_filial as RGAGG','Meta')\\\n",
    "                            .groupBy('MYAGG','RGAGG')\\\n",
    "                            .agg(sum('Meta').alias(\"CapacidadeFilial\"))\n",
    "\n",
    "base_agentes=base_agentes.join(AGG_AGENTS_MARKS,(base_agentes['Mes-Ano']==AGG_AGENTS_MARKS['MYAGG'])&\n",
    "                                               (base_agentes['Regiao_filial']==AGG_AGENTS_MARKS['RGAGG']),how='left')"
   ]
  },
  {
   "cell_type": "code",
   "execution_count": 19,
   "metadata": {},
   "outputs": [
    {
     "data": {
      "application/vnd.jupyter.widget-view+json": {
       "model_id": "36ca4c31763440f2972b8364812183a5",
       "version_major": 2,
       "version_minor": 0
      },
      "text/plain": [
       "VBox()"
      ]
     },
     "metadata": {},
     "output_type": "display_data"
    },
    {
     "data": {
      "application/vnd.jupyter.widget-view+json": {
       "model_id": "",
       "version_major": 2,
       "version_minor": 0
      },
      "text/plain": [
       "FloatProgress(value=0.0, bar_style='info', description='Progress:', layout=Layout(height='25px', width='50%'),…"
      ]
     },
     "metadata": {},
     "output_type": "display_data"
    }
   ],
   "source": [
    "MC1=MC1.select(col('GPM').alias('GPM')\n",
    "               ,col('GPD').alias('GPD')\n",
    "               ,col('Codigo_do_produto').alias('COD_PRODUCT')\n",
    "               ,col('Descricao_do_Produto').alias('DESC_PRODUCT')\n",
    "               ,col('Codigo_do_vendedor').alias('Cod_Vendedor')\n",
    "               ,col('Descricao_do_vendedor').alias('Nome_vendedor')\n",
    "               ,col('Codigo_do_Cliente').alias('COD_CLIENTE')\n",
    "               ,col('Descricao_do_cliente').alias('NOME_CLIENTE')\n",
    "               ,col('Unid_Medida').alias('UNIDADE_DE_MEDIDA')\n",
    "               ,col('Prazo_de_Pagamento').alias('PRAZO_DE_PAGAMENTO')\n",
    "               ,col('Quantidade_Unid').alias('QTD')\n",
    "               ,col('Preco_c_Impostos').alias('PRECO_COM_IMPOSTOS')\n",
    "               ,col('Estado').alias('ESTADO')\n",
    "               ,col('Cidade').alias('CIDADE')\n",
    "               ,col('Fabricante').alias('FABRICANTE')\n",
    "               ,col('Data').alias('TIMESTAMP'))"
   ]
  },
  {
   "cell_type": "code",
   "execution_count": 20,
   "metadata": {},
   "outputs": [
    {
     "data": {
      "application/vnd.jupyter.widget-view+json": {
       "model_id": "ebdb66e3f84c4aa7a314d9aecdf8b308",
       "version_major": 2,
       "version_minor": 0
      },
      "text/plain": [
       "VBox()"
      ]
     },
     "metadata": {},
     "output_type": "display_data"
    },
    {
     "data": {
      "application/vnd.jupyter.widget-view+json": {
       "model_id": "",
       "version_major": 2,
       "version_minor": 0
      },
      "text/plain": [
       "FloatProgress(value=0.0, bar_style='info', description='Progress:', layout=Layout(height='25px', width='50%'),…"
      ]
     },
     "metadata": {},
     "output_type": "display_data"
    }
   ],
   "source": [
    "MC1=MC1.drop('QTD')"
   ]
  },
  {
   "cell_type": "code",
   "execution_count": 21,
   "metadata": {},
   "outputs": [
    {
     "data": {
      "application/vnd.jupyter.widget-view+json": {
       "model_id": "f3afe0bf230e4d7ab6addeb09c53eb50",
       "version_major": 2,
       "version_minor": 0
      },
      "text/plain": [
       "VBox()"
      ]
     },
     "metadata": {},
     "output_type": "display_data"
    },
    {
     "data": {
      "application/vnd.jupyter.widget-view+json": {
       "model_id": "",
       "version_major": 2,
       "version_minor": 0
      },
      "text/plain": [
       "FloatProgress(value=0.0, bar_style='info', description='Progress:', layout=Layout(height='25px', width='50%'),…"
      ]
     },
     "metadata": {},
     "output_type": "display_data"
    }
   ],
   "source": [
    "MC1=MC1.withColumn(\"CIDADEESTADO\",concat(trim(col('CIDADE')),trim(col('ESTADO'))))\n",
    "MC1=MC1.withColumn('TIMESTAMP',substring('TIMESTAMP',0,10))\n",
    "#MC1=MC1.withColumn('PRECO_COM_IMPOSTOS',substring('PRECO_COM_IMPOSTOS',0,10))\n",
    "MC1=MC1.withColumn('PRECO_COM_IMPOSTOS',regexp_replace(col('PRECO_COM_IMPOSTOS'),\",\",\".\"))"
   ]
  },
  {
   "cell_type": "code",
   "execution_count": 22,
   "metadata": {},
   "outputs": [
    {
     "data": {
      "application/vnd.jupyter.widget-view+json": {
       "model_id": "66c73b9c78b6490c92591a6e85e7dcd1",
       "version_major": 2,
       "version_minor": 0
      },
      "text/plain": [
       "VBox()"
      ]
     },
     "metadata": {},
     "output_type": "display_data"
    },
    {
     "data": {
      "application/vnd.jupyter.widget-view+json": {
       "model_id": "",
       "version_major": 2,
       "version_minor": 0
      },
      "text/plain": [
       "FloatProgress(value=0.0, bar_style='info', description='Progress:', layout=Layout(height='25px', width='50%'),…"
      ]
     },
     "metadata": {},
     "output_type": "display_data"
    }
   ],
   "source": [
    "MC1=MC1.withColumn('chave_LMC_MC1',concat(col('COD_CLIENTE').cast(IntegerType()),lit('BRCG')))"
   ]
  },
  {
   "cell_type": "markdown",
   "metadata": {},
   "source": [
    "## Join"
   ]
  },
  {
   "cell_type": "code",
   "execution_count": 23,
   "metadata": {},
   "outputs": [
    {
     "data": {
      "application/vnd.jupyter.widget-view+json": {
       "model_id": "4155603ae8864fc0b52a8b31d7360142",
       "version_major": 2,
       "version_minor": 0
      },
      "text/plain": [
       "VBox()"
      ]
     },
     "metadata": {},
     "output_type": "display_data"
    },
    {
     "data": {
      "application/vnd.jupyter.widget-view+json": {
       "model_id": "",
       "version_major": 2,
       "version_minor": 0
      },
      "text/plain": [
       "FloatProgress(value=0.0, bar_style='info', description='Progress:', layout=Layout(height='25px', width='50%'),…"
      ]
     },
     "metadata": {},
     "output_type": "display_data"
    }
   ],
   "source": [
    "BASE_MC1=MC1.join(base_Condicao,trim(MC1.PRAZO_DE_PAGAMENTO)==trim(base_Condicao['Nova Condição']),how='left')\\\n",
    "            .distinct()"
   ]
  },
  {
   "cell_type": "code",
   "execution_count": 24,
   "metadata": {},
   "outputs": [
    {
     "data": {
      "application/vnd.jupyter.widget-view+json": {
       "model_id": "7f9cb10d1dc14c66bb488ab40da05645",
       "version_major": 2,
       "version_minor": 0
      },
      "text/plain": [
       "VBox()"
      ]
     },
     "metadata": {},
     "output_type": "display_data"
    },
    {
     "data": {
      "application/vnd.jupyter.widget-view+json": {
       "model_id": "",
       "version_major": 2,
       "version_minor": 0
      },
      "text/plain": [
       "FloatProgress(value=0.0, bar_style='info', description='Progress:', layout=Layout(height='25px', width='50%'),…"
      ]
     },
     "metadata": {},
     "output_type": "display_data"
    }
   ],
   "source": [
    "BASE_MC1=BASE_MC1.drop('CondicaoMC1'\n",
    "                       ,'CondicaoSF'\n",
    "                       ,'%CondicaoMC1')"
   ]
  },
  {
   "cell_type": "code",
   "execution_count": 25,
   "metadata": {},
   "outputs": [
    {
     "data": {
      "application/vnd.jupyter.widget-view+json": {
       "model_id": "1d2114e08626455b8c510ffeab6d923b",
       "version_major": 2,
       "version_minor": 0
      },
      "text/plain": [
       "VBox()"
      ]
     },
     "metadata": {},
     "output_type": "display_data"
    },
    {
     "data": {
      "application/vnd.jupyter.widget-view+json": {
       "model_id": "",
       "version_major": 2,
       "version_minor": 0
      },
      "text/plain": [
       "FloatProgress(value=0.0, bar_style='info', description='Progress:', layout=Layout(height='25px', width='50%'),…"
      ]
     },
     "metadata": {},
     "output_type": "display_data"
    }
   ],
   "source": [
    "BASE_MC1=BASE_MC1.join(base_UnMedida,BASE_MC1.COD_PRODUCT.cast(\"int\")==base_UnMedida['Material_COD'].cast(\"int\"),how='left')\\\n",
    "                 .distinct()"
   ]
  },
  {
   "cell_type": "code",
   "execution_count": 26,
   "metadata": {},
   "outputs": [
    {
     "data": {
      "application/vnd.jupyter.widget-view+json": {
       "model_id": "15481885075348d78693e499090c560b",
       "version_major": 2,
       "version_minor": 0
      },
      "text/plain": [
       "VBox()"
      ]
     },
     "metadata": {},
     "output_type": "display_data"
    },
    {
     "data": {
      "application/vnd.jupyter.widget-view+json": {
       "model_id": "",
       "version_major": 2,
       "version_minor": 0
      },
      "text/plain": [
       "FloatProgress(value=0.0, bar_style='info', description='Progress:', layout=Layout(height='25px', width='50%'),…"
      ]
     },
     "metadata": {},
     "output_type": "display_data"
    }
   ],
   "source": [
    "BASE_MC1=BASE_MC1.withColumn(\"CIDADEESTADO_UPPER\", upper(remove_some_accents(replace_some_apostrophe(replace_some_space(replace_some_hifen(col(\"CIDADEESTADO\")))))))"
   ]
  },
  {
   "cell_type": "code",
   "execution_count": 27,
   "metadata": {},
   "outputs": [
    {
     "data": {
      "application/vnd.jupyter.widget-view+json": {
       "model_id": "b75e8203d07d4deabf4892cc8600675d",
       "version_major": 2,
       "version_minor": 0
      },
      "text/plain": [
       "VBox()"
      ]
     },
     "metadata": {},
     "output_type": "display_data"
    },
    {
     "data": {
      "application/vnd.jupyter.widget-view+json": {
       "model_id": "",
       "version_major": 2,
       "version_minor": 0
      },
      "text/plain": [
       "FloatProgress(value=0.0, bar_style='info', description='Progress:', layout=Layout(height='25px', width='50%'),…"
      ]
     },
     "metadata": {},
     "output_type": "display_data"
    }
   ],
   "source": [
    "base_Filial=base_Filial.withColumn(\"MUF Corrigido_UPPER\", concat(upper(remove_some_accents(replace_some_apostrophe(replace_some_space(replace_some_hifen(base_Filial[\"IBGE_SAP_CITY_NAME\"]))))),col(\"IBGE_UF_ACRONYMS\")))"
   ]
  },
  {
   "cell_type": "code",
   "execution_count": 28,
   "metadata": {},
   "outputs": [
    {
     "data": {
      "application/vnd.jupyter.widget-view+json": {
       "model_id": "18ed77a530744f019817035eb14c7d58",
       "version_major": 2,
       "version_minor": 0
      },
      "text/plain": [
       "VBox()"
      ]
     },
     "metadata": {},
     "output_type": "display_data"
    },
    {
     "data": {
      "application/vnd.jupyter.widget-view+json": {
       "model_id": "",
       "version_major": 2,
       "version_minor": 0
      },
      "text/plain": [
       "FloatProgress(value=0.0, bar_style='info', description='Progress:', layout=Layout(height='25px', width='50%'),…"
      ]
     },
     "metadata": {},
     "output_type": "display_data"
    }
   ],
   "source": [
    "base_Filial=base_Filial.select(base_Filial[\"MUF Corrigido_UPPER\"],base_Filial[\"BRANCH\"]).distinct()"
   ]
  },
  {
   "cell_type": "code",
   "execution_count": 29,
   "metadata": {},
   "outputs": [
    {
     "data": {
      "application/vnd.jupyter.widget-view+json": {
       "model_id": "1218cc9849c44e688b3ebb2f80a112bf",
       "version_major": 2,
       "version_minor": 0
      },
      "text/plain": [
       "VBox()"
      ]
     },
     "metadata": {},
     "output_type": "display_data"
    },
    {
     "data": {
      "application/vnd.jupyter.widget-view+json": {
       "model_id": "",
       "version_major": 2,
       "version_minor": 0
      },
      "text/plain": [
       "FloatProgress(value=0.0, bar_style='info', description='Progress:', layout=Layout(height='25px', width='50%'),…"
      ]
     },
     "metadata": {},
     "output_type": "display_data"
    }
   ],
   "source": [
    "base_Filial=base_Filial.withColumn(\"Região\", when(substring(\"BRANCH\", 7, 30).like(\"SAO\"),\"São Paulo\").otherwise(when(substring(\"BRANCH\", 7, 30).like(\"São J. Campos\"),\"São José dos Campos\").otherwise(substring(\"BRANCH\", 7, 30))))"
   ]
  },
  {
   "cell_type": "code",
   "execution_count": 30,
   "metadata": {},
   "outputs": [
    {
     "data": {
      "application/vnd.jupyter.widget-view+json": {
       "model_id": "523d4cbd47c840c58dd79ad1bffdb4f8",
       "version_major": 2,
       "version_minor": 0
      },
      "text/plain": [
       "VBox()"
      ]
     },
     "metadata": {},
     "output_type": "display_data"
    },
    {
     "data": {
      "application/vnd.jupyter.widget-view+json": {
       "model_id": "",
       "version_major": 2,
       "version_minor": 0
      },
      "text/plain": [
       "FloatProgress(value=0.0, bar_style='info', description='Progress:', layout=Layout(height='25px', width='50%'),…"
      ]
     },
     "metadata": {},
     "output_type": "display_data"
    }
   ],
   "source": [
    "BASE_MC1=BASE_MC1.join(base_Filial,BASE_MC1.CIDADEESTADO_UPPER==base_Filial['MUF Corrigido_UPPER'],how='left')\\\n",
    "                 .drop(\"MUF Corrigido_UPPER\")\\\n",
    "                 .drop(\"CIDADEESTADO_UPPER\")\\\n",
    "                 .distinct()"
   ]
  },
  {
   "cell_type": "code",
   "execution_count": 31,
   "metadata": {},
   "outputs": [
    {
     "data": {
      "application/vnd.jupyter.widget-view+json": {
       "model_id": "424b410f950c4f2fb143ad41487877c9",
       "version_major": 2,
       "version_minor": 0
      },
      "text/plain": [
       "VBox()"
      ]
     },
     "metadata": {},
     "output_type": "display_data"
    },
    {
     "data": {
      "application/vnd.jupyter.widget-view+json": {
       "model_id": "",
       "version_major": 2,
       "version_minor": 0
      },
      "text/plain": [
       "FloatProgress(value=0.0, bar_style='info', description='Progress:', layout=Layout(height='25px', width='50%'),…"
      ]
     },
     "metadata": {},
     "output_type": "display_data"
    }
   ],
   "source": [
    "BASE_MC1=BASE_MC1.join(base_cliente,BASE_MC1.chave_LMC_MC1==base_cliente['chave_lmc'],how='left')\\\n",
    "                 .distinct()"
   ]
  },
  {
   "cell_type": "code",
   "execution_count": 32,
   "metadata": {},
   "outputs": [
    {
     "data": {
      "application/vnd.jupyter.widget-view+json": {
       "model_id": "343cf678f37e40b2a9ac07470536abea",
       "version_major": 2,
       "version_minor": 0
      },
      "text/plain": [
       "VBox()"
      ]
     },
     "metadata": {},
     "output_type": "display_data"
    },
    {
     "data": {
      "application/vnd.jupyter.widget-view+json": {
       "model_id": "",
       "version_major": 2,
       "version_minor": 0
      },
      "text/plain": [
       "FloatProgress(value=0.0, bar_style='info', description='Progress:', layout=Layout(height='25px', width='50%'),…"
      ]
     },
     "metadata": {},
     "output_type": "display_data"
    }
   ],
   "source": [
    "BASE_MC1=BASE_MC1.withColumnRenamed('BRANCH', 'Filial')"
   ]
  },
  {
   "cell_type": "markdown",
   "metadata": {},
   "source": [
    "## Transformações"
   ]
  },
  {
   "cell_type": "code",
   "execution_count": 33,
   "metadata": {},
   "outputs": [
    {
     "data": {
      "application/vnd.jupyter.widget-view+json": {
       "model_id": "85c6a1071c3342248f8d303568dc7587",
       "version_major": 2,
       "version_minor": 0
      },
      "text/plain": [
       "VBox()"
      ]
     },
     "metadata": {},
     "output_type": "display_data"
    },
    {
     "data": {
      "application/vnd.jupyter.widget-view+json": {
       "model_id": "",
       "version_major": 2,
       "version_minor": 0
      },
      "text/plain": [
       "FloatProgress(value=0.0, bar_style='info', description='Progress:', layout=Layout(height='25px', width='50%'),…"
      ]
     },
     "metadata": {},
     "output_type": "display_data"
    }
   ],
   "source": [
    "#OVAjustada\n",
    "BASE_MC1=BASE_MC1.withColumn('OVajustada',lit(\"CG\"))"
   ]
  },
  {
   "cell_type": "code",
   "execution_count": 34,
   "metadata": {},
   "outputs": [
    {
     "data": {
      "application/vnd.jupyter.widget-view+json": {
       "model_id": "ecf29b3c5f5c4f78a89e5a642ad6b666",
       "version_major": 2,
       "version_minor": 0
      },
      "text/plain": [
       "VBox()"
      ]
     },
     "metadata": {},
     "output_type": "display_data"
    },
    {
     "data": {
      "application/vnd.jupyter.widget-view+json": {
       "model_id": "",
       "version_major": 2,
       "version_minor": 0
      },
      "text/plain": [
       "FloatProgress(value=0.0, bar_style='info', description='Progress:', layout=Layout(height='25px', width='50%'),…"
      ]
     },
     "metadata": {},
     "output_type": "display_data"
    }
   ],
   "source": [
    "#Chave Amostra\n",
    "#[OV Ajustada]+[Filial]+[Material COD]\n",
    "BASE_MC1=BASE_MC1.withColumn(\"ChaveAmostra\",concat(col('OVAjustada')\n",
    "                                     ,col('Filial')\n",
    "                                     ,col('COD_PRODUCT')))"
   ]
  },
  {
   "cell_type": "code",
   "execution_count": 35,
   "metadata": {},
   "outputs": [
    {
     "data": {
      "application/vnd.jupyter.widget-view+json": {
       "model_id": "75347cb498744e6794e94561c6dcc8d6",
       "version_major": 2,
       "version_minor": 0
      },
      "text/plain": [
       "VBox()"
      ]
     },
     "metadata": {},
     "output_type": "display_data"
    },
    {
     "data": {
      "application/vnd.jupyter.widget-view+json": {
       "model_id": "",
       "version_major": 2,
       "version_minor": 0
      },
      "text/plain": [
       "FloatProgress(value=0.0, bar_style='info', description='Progress:', layout=Layout(height='25px', width='50%'),…"
      ]
     },
     "metadata": {},
     "output_type": "display_data"
    }
   ],
   "source": [
    "#Material COD - DESC\n",
    "#[Material COD]+\" - \"+[Material DESC]\n",
    "BASE_MC1=BASE_MC1.withColumn(\"MATERIAL\"\n",
    "                             ,concat(col(\"COD_PRODUCT\")\n",
    "                                     , lit(\" - \")\n",
    "                                     ,col(\"DESC_PRODUCT\")))"
   ]
  },
  {
   "cell_type": "code",
   "execution_count": 36,
   "metadata": {},
   "outputs": [
    {
     "data": {
      "application/vnd.jupyter.widget-view+json": {
       "model_id": "2828f44ca937452982fbc0a2faa10015",
       "version_major": 2,
       "version_minor": 0
      },
      "text/plain": [
       "VBox()"
      ]
     },
     "metadata": {},
     "output_type": "display_data"
    },
    {
     "data": {
      "application/vnd.jupyter.widget-view+json": {
       "model_id": "",
       "version_major": 2,
       "version_minor": 0
      },
      "text/plain": [
       "FloatProgress(value=0.0, bar_style='info', description='Progress:', layout=Layout(height='25px', width='50%'),…"
      ]
     },
     "metadata": {},
     "output_type": "display_data"
    }
   ],
   "source": [
    "#Chave Fatura\n",
    "#[OV Ajustada]+[Material COD]+[Filial]+[Tipo_de_Preço]+[Timestamp]\n",
    "BASE_MC1=BASE_MC1.withColumn('TIPO_DE_PRECO',lit('Distribuição-Mercado'))\n",
    "BASE_MC1=BASE_MC1.withColumn(\"ChaveFatura\"\n",
    "                             ,concat(col('OVAjustada')\n",
    "                                     ,col(\"COD_PRODUCT\")\n",
    "                                     ,col('FILIAL')\n",
    "                                     ,col('TIPO_DE_PRECO')\n",
    "                                     ,col('TIMESTAMP')))"
   ]
  },
  {
   "cell_type": "code",
   "execution_count": 37,
   "metadata": {},
   "outputs": [
    {
     "data": {
      "application/vnd.jupyter.widget-view+json": {
       "model_id": "5b560730abe243d29093087ad82dbd0d",
       "version_major": 2,
       "version_minor": 0
      },
      "text/plain": [
       "VBox()"
      ]
     },
     "metadata": {},
     "output_type": "display_data"
    },
    {
     "data": {
      "application/vnd.jupyter.widget-view+json": {
       "model_id": "",
       "version_major": 2,
       "version_minor": 0
      },
      "text/plain": [
       "FloatProgress(value=0.0, bar_style='info', description='Progress:', layout=Layout(height='25px', width='50%'),…"
      ]
     },
     "metadata": {},
     "output_type": "display_data"
    }
   ],
   "source": [
    "#Preço a 21 dias\n",
    "BASE_MC1=BASE_MC1.withColumn('%CondicaooSF'\n",
    "                             ,regexp_replace(col('%CondicaooSF'),\",\",\".\"))\n",
    "BASE_MC1=BASE_MC1.withColumn('%CondicaooSF', col('%CondicaooSF').cast('double'))\n",
    "BASE_MC1=BASE_MC1.withColumn(\"Preco21dias\",round((col('PRECO_COM_IMPOSTOS')/(1+col('%CondicaooSF'))),3))\n",
    "BASE_MC1=BASE_MC1.drop('%CondicaooSF'\n",
    "                      ,'Nova Condição')"
   ]
  },
  {
   "cell_type": "code",
   "execution_count": 38,
   "metadata": {},
   "outputs": [
    {
     "data": {
      "application/vnd.jupyter.widget-view+json": {
       "model_id": "bab72db383044231a0adff241e672fa3",
       "version_major": 2,
       "version_minor": 0
      },
      "text/plain": [
       "VBox()"
      ]
     },
     "metadata": {},
     "output_type": "display_data"
    },
    {
     "data": {
      "application/vnd.jupyter.widget-view+json": {
       "model_id": "",
       "version_major": 2,
       "version_minor": 0
      },
      "text/plain": [
       "FloatProgress(value=0.0, bar_style='info', description='Progress:', layout=Layout(height='25px', width='50%'),…"
      ]
     },
     "metadata": {},
     "output_type": "display_data"
    }
   ],
   "source": [
    "BASE_MC1=BASE_MC1.withColumn(\"Preco21diasKG\",\n",
    "                          when(col('UNIDADE_DE_MEDIDA').like('%BARRA%'),\n",
    "                               col(\"Preco21dias\")/col('Barra')).otherwise(when(col('UNIDADE_DE_MEDIDA').like('%ROLO%'),\n",
    "                                   col(\"Preco21dias\")/col('Rolo')).otherwise(when(col('UNIDADE_DE_MEDIDA').like('%PEÇA%'),\n",
    "                                        col(\"Preco21dias\")/col('Peca')).otherwise(when(col('UNIDADE_DE_MEDIDA').like('%TONELADA%'),\n",
    "                                            col(\"Preco21dias\")/col('Tonelada')).otherwise(when(col('UNIDADE_DE_MEDIDA').like('%ROLO%'),\n",
    "                                                col(\"Preco21dias\")/col('Rolo')).otherwise(when(col('UNIDADE_DE_MEDIDA').like('%CAIXA%'),\n",
    "                                                    col(\"Preco21dias\")/col('Caixa')).otherwise(when(col('UNIDADE_DE_MEDIDA').like('%FEIXE%'),\n",
    "                                                        col(\"Preco21dias\")/col('Feixe')).otherwise(when(col('UNIDADE_DE_MEDIDA').like('%METRO%'),\n",
    "                                                            col(\"Preco21dias\")/col('Metro')).otherwise(when(col('UNIDADE_DE_MEDIDA').like('%METRO2%'),\n",
    "                                                                col(\"Preco21dias\")/col('MetroQuadrado')).otherwise(when(col('UNIDADE_DE_MEDIDA').like('%CENTO%'),\n",
    "                                                                    col(\"Preco21dias\")/col('Cento')).otherwise(when(col('UNIDADE_DE_MEDIDA').like('%UNIDADE%'),\n",
    "                                                                        col(\"Preco21dias\")/col('Unidade')).otherwise(col(\"Preco21dias\")))))))))))))"
   ]
  },
  {
   "cell_type": "code",
   "execution_count": 39,
   "metadata": {},
   "outputs": [
    {
     "data": {
      "application/vnd.jupyter.widget-view+json": {
       "model_id": "9fa26425c7bc4ad497bdcd03a94e3fab",
       "version_major": 2,
       "version_minor": 0
      },
      "text/plain": [
       "VBox()"
      ]
     },
     "metadata": {},
     "output_type": "display_data"
    },
    {
     "data": {
      "application/vnd.jupyter.widget-view+json": {
       "model_id": "",
       "version_major": 2,
       "version_minor": 0
      },
      "text/plain": [
       "FloatProgress(value=0.0, bar_style='info', description='Progress:', layout=Layout(height='25px', width='50%'),…"
      ]
     },
     "metadata": {},
     "output_type": "display_data"
    }
   ],
   "source": [
    "BASE_MC1=BASE_MC1.drop('Barra'\n",
    "                       ,'Rolo'\n",
    "                       ,'Peca'\n",
    "                       ,'Tonelada'\n",
    "                       ,'Caixa'\n",
    "                       ,'Feixe'\n",
    "                       ,'Metro'\n",
    "                       ,'MetroQuadrado'\n",
    "                       ,'Cento'\n",
    "                       ,'Unidade'\n",
    "                       ,'Material_COD'\n",
    "                       ,'kilograma'\n",
    "                       ,'Desc_Mat')"
   ]
  },
  {
   "cell_type": "code",
   "execution_count": 40,
   "metadata": {},
   "outputs": [
    {
     "data": {
      "application/vnd.jupyter.widget-view+json": {
       "model_id": "b4b71c737035497ab1af9cac4e19ee8c",
       "version_major": 2,
       "version_minor": 0
      },
      "text/plain": [
       "VBox()"
      ]
     },
     "metadata": {},
     "output_type": "display_data"
    },
    {
     "data": {
      "application/vnd.jupyter.widget-view+json": {
       "model_id": "",
       "version_major": 2,
       "version_minor": 0
      },
      "text/plain": [
       "FloatProgress(value=0.0, bar_style='info', description='Progress:', layout=Layout(height='25px', width='50%'),…"
      ]
     },
     "metadata": {},
     "output_type": "display_data"
    }
   ],
   "source": [
    "# MesAno\n",
    "BASE_MC1=BASE_MC1.withColumn(\"MesAno\"\n",
    "                             ,concat(substring(\"TIMESTAMP\",6,2),\n",
    "                                     lit(\"-\")\n",
    "                                     ,substring(\"TIMESTAMP\",0,4)))"
   ]
  },
  {
   "cell_type": "code",
   "execution_count": 41,
   "metadata": {},
   "outputs": [
    {
     "data": {
      "application/vnd.jupyter.widget-view+json": {
       "model_id": "ccee4b83f6334c7c8f19ed2d2baa75a5",
       "version_major": 2,
       "version_minor": 0
      },
      "text/plain": [
       "VBox()"
      ]
     },
     "metadata": {},
     "output_type": "display_data"
    },
    {
     "data": {
      "application/vnd.jupyter.widget-view+json": {
       "model_id": "",
       "version_major": 2,
       "version_minor": 0
      },
      "text/plain": [
       "FloatProgress(value=0.0, bar_style='info', description='Progress:', layout=Layout(height='25px', width='50%'),…"
      ]
     },
     "metadata": {},
     "output_type": "display_data"
    }
   ],
   "source": [
    "#Dias Corridos\n",
    "BASE_MC1=BASE_MC1.withColumn(\"FIRST_DATE\"\n",
    "                             ,date_format(\"TIMESTAMP\"\n",
    "                                          , 'yyyy-MM'))\n",
    "BASE_MC1=BASE_MC1.withColumn(\"FIRST_DATE\"\n",
    "                             ,date_format(\"FIRST_DATE\"\n",
    "                                          , 'yyyy-MM-dd'))\n",
    "BASE_MC1=BASE_MC1.withColumn(\"DiasCorridos\"\n",
    "                          ,when(date_format(current_date(),'YYYY-MM')==date_format('TIMESTAMP'\n",
    "                                                                                   ,'YYYY-MM'),datediff(current_date()\n",
    "                                                                                                        ,'FIRST_DATE')).otherwise(date_format(last_day(\"TIMESTAMP\")\n",
    "                                                                                                                                              ,'dd')))\n",
    "BASE_MC1=BASE_MC1.withColumn(\"DiasCorridos\"\n",
    "                             ,col(\"DiasCorridos\").cast(IntegerType()))"
   ]
  },
  {
   "cell_type": "code",
   "execution_count": 42,
   "metadata": {},
   "outputs": [
    {
     "data": {
      "application/vnd.jupyter.widget-view+json": {
       "model_id": "472849c7b15a42d1821f6dd2d8ebea40",
       "version_major": 2,
       "version_minor": 0
      },
      "text/plain": [
       "VBox()"
      ]
     },
     "metadata": {},
     "output_type": "display_data"
    },
    {
     "data": {
      "application/vnd.jupyter.widget-view+json": {
       "model_id": "",
       "version_major": 2,
       "version_minor": 0
      },
      "text/plain": [
       "FloatProgress(value=0.0, bar_style='info', description='Progress:', layout=Layout(height='25px', width='50%'),…"
      ]
     },
     "metadata": {},
     "output_type": "display_data"
    }
   ],
   "source": [
    "#Dias que Faltam\n",
    "BASE_MC1=BASE_MC1.withColumn(\"DiasFaltantes\"\n",
    "                          ,when(date_format(current_date(),'YYYY-MM')==date_format('TIMESTAMP'\n",
    "                                                                                   ,'YYYY-MM'),datediff(last_day(\"TIMESTAMP\")\n",
    "                                                                                                        ,date_add(current_date()\n",
    "                                                                                                                  ,-1))).otherwise(0))\n",
    "\n",
    "BASE_MC1=BASE_MC1.withColumn(\"DiasFaltantes\",col(\"DiasFaltantes\").cast(IntegerType()))"
   ]
  },
  {
   "cell_type": "code",
   "execution_count": 43,
   "metadata": {},
   "outputs": [
    {
     "data": {
      "application/vnd.jupyter.widget-view+json": {
       "model_id": "c0f5974b3ed34cd985f0fc85b52f2aca",
       "version_major": 2,
       "version_minor": 0
      },
      "text/plain": [
       "VBox()"
      ]
     },
     "metadata": {},
     "output_type": "display_data"
    },
    {
     "data": {
      "application/vnd.jupyter.widget-view+json": {
       "model_id": "",
       "version_major": 2,
       "version_minor": 0
      },
      "text/plain": [
       "FloatProgress(value=0.0, bar_style='info', description='Progress:', layout=Layout(height='25px', width='50%'),…"
      ]
     },
     "metadata": {},
     "output_type": "display_data"
    }
   ],
   "source": [
    "#Chave Vendedor Metas\n",
    "BASE_MC1=BASE_MC1.withColumn(\"ChaveVendedorMetas\"\n",
    "                                         ,concat(col('OVAjustada')\n",
    "                                                 ,col('Filial')\n",
    "                                                 ,col('COD_PRODUCT')\n",
    "                                                 ,col(\"Cod_Vendedor\")\n",
    "                                                 ,col(\"MesAno\")))"
   ]
  },
  {
   "cell_type": "code",
   "execution_count": 44,
   "metadata": {},
   "outputs": [
    {
     "data": {
      "application/vnd.jupyter.widget-view+json": {
       "model_id": "ab42f5d3a7a7461ab3464cae76274488",
       "version_major": 2,
       "version_minor": 0
      },
      "text/plain": [
       "VBox()"
      ]
     },
     "metadata": {},
     "output_type": "display_data"
    },
    {
     "data": {
      "application/vnd.jupyter.widget-view+json": {
       "model_id": "",
       "version_major": 2,
       "version_minor": 0
      },
      "text/plain": [
       "FloatProgress(value=0.0, bar_style='info', description='Progress:', layout=Layout(height='25px', width='50%'),…"
      ]
     },
     "metadata": {},
     "output_type": "display_data"
    }
   ],
   "source": [
    "#Join com base de agentes\n",
    "BASE_MC1=BASE_MC1.join(base_agentes\n",
    "                                   ,BASE_MC1.ChaveVendedorMetas==base_agentes['ChaveVendedor']\n",
    "                                   ,how='left')\\\n",
    "                 .distinct()"
   ]
  },
  {
   "cell_type": "code",
   "execution_count": 45,
   "metadata": {},
   "outputs": [
    {
     "data": {
      "application/vnd.jupyter.widget-view+json": {
       "model_id": "f035275a5d384434bb94700b0d850d39",
       "version_major": 2,
       "version_minor": 0
      },
      "text/plain": [
       "VBox()"
      ]
     },
     "metadata": {},
     "output_type": "display_data"
    },
    {
     "data": {
      "application/vnd.jupyter.widget-view+json": {
       "model_id": "",
       "version_major": 2,
       "version_minor": 0
      },
      "text/plain": [
       "FloatProgress(value=0.0, bar_style='info', description='Progress:', layout=Layout(height='25px', width='50%'),…"
      ]
     },
     "metadata": {},
     "output_type": "display_data"
    }
   ],
   "source": [
    "BASE_MC1=BASE_MC1.drop('`Mes-Ano`'\n",
    "                      ,'Regiao_filial'\n",
    "                      ,'Meta'\n",
    "                      ,'MYAGG'\n",
    "                      ,'RGAGG')"
   ]
  },
  {
   "cell_type": "code",
   "execution_count": 46,
   "metadata": {},
   "outputs": [
    {
     "data": {
      "application/vnd.jupyter.widget-view+json": {
       "model_id": "ebab3eda06ba4783b60221cf190c9b69",
       "version_major": 2,
       "version_minor": 0
      },
      "text/plain": [
       "VBox()"
      ]
     },
     "metadata": {},
     "output_type": "display_data"
    },
    {
     "data": {
      "application/vnd.jupyter.widget-view+json": {
       "model_id": "",
       "version_major": 2,
       "version_minor": 0
      },
      "text/plain": [
       "FloatProgress(value=0.0, bar_style='info', description='Progress:', layout=Layout(height='25px', width='50%'),…"
      ]
     },
     "metadata": {},
     "output_type": "display_data"
    }
   ],
   "source": [
    "#Chave Auditoria\n",
    "BASE_MC1=BASE_MC1.withColumn(\"ChaveAuditoria\"\n",
    "                                         ,concat(col('TIMESTAMP')\n",
    "                                                 ,col('COD_CLIENTE')\n",
    "                                                 ,col('FABRICANTE')\n",
    "                                                ,col(\"COD_Vendedor\")\n",
    "                                                ,col(\"UNIDADE_DE_MEDIDA\")\n",
    "                                                ,col(\"TIPO_DE_PRECO\")\n",
    "                                                ,col('Filial')\n",
    "                                                ,col('COD_PRODUCT')\n",
    "                                                ,col('CIDADE')\n",
    "                                                ,col('OVAjustada')\n",
    "                                                ,col('PRECO_COM_IMPOSTOS')))"
   ]
  },
  {
   "cell_type": "code",
   "execution_count": 47,
   "metadata": {},
   "outputs": [
    {
     "data": {
      "application/vnd.jupyter.widget-view+json": {
       "model_id": "8f8fb13fd39c49858e7ce0bbc851a83f",
       "version_major": 2,
       "version_minor": 0
      },
      "text/plain": [
       "VBox()"
      ]
     },
     "metadata": {},
     "output_type": "display_data"
    },
    {
     "data": {
      "application/vnd.jupyter.widget-view+json": {
       "model_id": "",
       "version_major": 2,
       "version_minor": 0
      },
      "text/plain": [
       "FloatProgress(value=0.0, bar_style='info', description='Progress:', layout=Layout(height='25px', width='50%'),…"
      ]
     },
     "metadata": {},
     "output_type": "display_data"
    }
   ],
   "source": [
    "#Pré Aprovado\n",
    "BASE_MC1=BASE_MC1.withColumn(\"Pre_Aprovado\",\n",
    "                                         when((col('Preco21diasKG')>10) | (col('Preco21diasKG')<2)\n",
    "                                              ,\"Nao\").otherwise(\"Sim\"))"
   ]
  },
  {
   "cell_type": "code",
   "execution_count": 48,
   "metadata": {},
   "outputs": [
    {
     "data": {
      "application/vnd.jupyter.widget-view+json": {
       "model_id": "2bf0959bc4634965b8d91ef26a9f3f5d",
       "version_major": 2,
       "version_minor": 0
      },
      "text/plain": [
       "VBox()"
      ]
     },
     "metadata": {},
     "output_type": "display_data"
    },
    {
     "data": {
      "application/vnd.jupyter.widget-view+json": {
       "model_id": "",
       "version_major": 2,
       "version_minor": 0
      },
      "text/plain": [
       "FloatProgress(value=0.0, bar_style='info', description='Progress:', layout=Layout(height='25px', width='50%'),…"
      ]
     },
     "metadata": {},
     "output_type": "display_data"
    }
   ],
   "source": [
    "#Usando a Chave Amostra realizar a média dos Preços apenas pre aprovados\n",
    "AggPrecoChaveAmostra=BASE_MC1.selectExpr('ChaveAmostra as ChaveAmostraAGG'\n",
    "                                           ,'Preco21diasKG').filter(col('Pre_Aprovado')==\"Sim\").groupBy(\"ChaveAmostraAGG\").agg(round(avg(col(\"Preco21diasKG\")),3).alias('AVG_Preço_UA'))"
   ]
  },
  {
   "cell_type": "code",
   "execution_count": 49,
   "metadata": {},
   "outputs": [
    {
     "data": {
      "application/vnd.jupyter.widget-view+json": {
       "model_id": "0d589a077a0b49888e26f57f89af7cbf",
       "version_major": 2,
       "version_minor": 0
      },
      "text/plain": [
       "VBox()"
      ]
     },
     "metadata": {},
     "output_type": "display_data"
    },
    {
     "data": {
      "application/vnd.jupyter.widget-view+json": {
       "model_id": "",
       "version_major": 2,
       "version_minor": 0
      },
      "text/plain": [
       "FloatProgress(value=0.0, bar_style='info', description='Progress:', layout=Layout(height='25px', width='50%'),…"
      ]
     },
     "metadata": {},
     "output_type": "display_data"
    }
   ],
   "source": [
    "BASE_MC1=BASE_MC1.join(AggPrecoChaveAmostra\n",
    "                            ,BASE_MC1.ChaveAmostra==AggPrecoChaveAmostra.ChaveAmostraAGG\n",
    "                            ,how='left')\\\n",
    "                 .distinct()"
   ]
  },
  {
   "cell_type": "code",
   "execution_count": 50,
   "metadata": {},
   "outputs": [
    {
     "data": {
      "application/vnd.jupyter.widget-view+json": {
       "model_id": "d1f58c67ee9949afa952ed448c693521",
       "version_major": 2,
       "version_minor": 0
      },
      "text/plain": [
       "VBox()"
      ]
     },
     "metadata": {},
     "output_type": "display_data"
    },
    {
     "data": {
      "application/vnd.jupyter.widget-view+json": {
       "model_id": "",
       "version_major": 2,
       "version_minor": 0
      },
      "text/plain": [
       "FloatProgress(value=0.0, bar_style='info', description='Progress:', layout=Layout(height='25px', width='50%'),…"
      ]
     },
     "metadata": {},
     "output_type": "display_data"
    }
   ],
   "source": [
    "#Limite Superior e Limite Inferior da media\n",
    "BASE_MC1=BASE_MC1.withColumn(\"Limite\",lit(0.1))\n",
    "BASE_MC1=BASE_MC1.withColumn(\"LimiteAVG\",round(col(\"AVG_Preço_UA\")*col(\"Limite\"),3))\n",
    "\n",
    "BASE_MC1=BASE_MC1.withColumn(\"LS_AVG_Preco_UA\",\n",
    "                         ((col('AVG_Preço_UA')+round((col('LimiteAVG')),3))))\n",
    "\n",
    "BASE_MC1=BASE_MC1.withColumn(\"LI_AVG_Preco_UA\",\n",
    "                         ((col('AVG_Preço_UA')-round((col('LimiteAVG')),3))))"
   ]
  },
  {
   "cell_type": "code",
   "execution_count": 51,
   "metadata": {},
   "outputs": [
    {
     "data": {
      "application/vnd.jupyter.widget-view+json": {
       "model_id": "58a816e37f274b8283d11b6f8c1ec799",
       "version_major": 2,
       "version_minor": 0
      },
      "text/plain": [
       "VBox()"
      ]
     },
     "metadata": {},
     "output_type": "display_data"
    },
    {
     "data": {
      "application/vnd.jupyter.widget-view+json": {
       "model_id": "",
       "version_major": 2,
       "version_minor": 0
      },
      "text/plain": [
       "FloatProgress(value=0.0, bar_style='info', description='Progress:', layout=Layout(height='25px', width='50%'),…"
      ]
     },
     "metadata": {},
     "output_type": "display_data"
    }
   ],
   "source": [
    "#Aprovado\n",
    "BASE_MC1=BASE_MC1.withColumn(\"Aprovado\",\n",
    "                          when((col('Pre_aprovado')==\"Nao\") | (col('Preco21diasKG')>=col('LS_AVG_Preco_UA')) | (col('Preco21diasKG')<=col('LI_AVG_Preco_UA'))\n",
    "                               ,\"Nao\").otherwise(\"Sim\"))"
   ]
  },
  {
   "cell_type": "code",
   "execution_count": 52,
   "metadata": {},
   "outputs": [
    {
     "data": {
      "application/vnd.jupyter.widget-view+json": {
       "model_id": "486c31da1db54cbda658fec2e80c251a",
       "version_major": 2,
       "version_minor": 0
      },
      "text/plain": [
       "VBox()"
      ]
     },
     "metadata": {},
     "output_type": "display_data"
    },
    {
     "data": {
      "application/vnd.jupyter.widget-view+json": {
       "model_id": "",
       "version_major": 2,
       "version_minor": 0
      },
      "text/plain": [
       "FloatProgress(value=0.0, bar_style='info', description='Progress:', layout=Layout(height='25px', width='50%'),…"
      ]
     },
     "metadata": {},
     "output_type": "display_data"
    }
   ],
   "source": [
    "BASE_MC1=BASE_MC1.drop('FIRST_DATE'\n",
    "                      ,'SELLER_KEY'\n",
    "                      ,'ChaveAmostraAGG'\n",
    "                      ,'Limite'\n",
    "                      ,'LimiteAVG'\n",
    "                      ,'COD_CLIENT_')"
   ]
  },
  {
   "cell_type": "code",
   "execution_count": 53,
   "metadata": {},
   "outputs": [
    {
     "data": {
      "application/vnd.jupyter.widget-view+json": {
       "model_id": "9d7e4d9fdb634b99a6c906227daf565a",
       "version_major": 2,
       "version_minor": 0
      },
      "text/plain": [
       "VBox()"
      ]
     },
     "metadata": {},
     "output_type": "display_data"
    },
    {
     "data": {
      "application/vnd.jupyter.widget-view+json": {
       "model_id": "",
       "version_major": 2,
       "version_minor": 0
      },
      "text/plain": [
       "FloatProgress(value=0.0, bar_style='info', description='Progress:', layout=Layout(height='25px', width='50%'),…"
      ]
     },
     "metadata": {},
     "output_type": "display_data"
    }
   ],
   "source": [
    "BASE_MC1=BASE_MC1.withColumn('Regiao',col('Região'))\n",
    "BASE_MC1=BASE_MC1.drop('Região')"
   ]
  },
  {
   "cell_type": "code",
   "execution_count": 54,
   "metadata": {},
   "outputs": [
    {
     "data": {
      "application/vnd.jupyter.widget-view+json": {
       "model_id": "8b6978fa1f964d6b8c97a978a71b39f3",
       "version_major": 2,
       "version_minor": 0
      },
      "text/plain": [
       "VBox()"
      ]
     },
     "metadata": {},
     "output_type": "display_data"
    },
    {
     "data": {
      "application/vnd.jupyter.widget-view+json": {
       "model_id": "",
       "version_major": 2,
       "version_minor": 0
      },
      "text/plain": [
       "FloatProgress(value=0.0, bar_style='info', description='Progress:', layout=Layout(height='25px', width='50%'),…"
      ]
     },
     "metadata": {},
     "output_type": "display_data"
    }
   ],
   "source": [
    "BASE_MC1=BASE_MC1.drop('chave_LMC_MC1'\n",
    "             ,'ORGVENDAS'\n",
    "             ,'Chave_lmc'\n",
    "             ,'Mes-Ano'\n",
    "             ,'CIDADE')"
   ]
  },
  {
   "cell_type": "code",
   "execution_count": 55,
   "metadata": {},
   "outputs": [
    {
     "data": {
      "application/vnd.jupyter.widget-view+json": {
       "model_id": "7e2f5f3370474b53acc29a9db2914fae",
       "version_major": 2,
       "version_minor": 0
      },
      "text/plain": [
       "VBox()"
      ]
     },
     "metadata": {},
     "output_type": "display_data"
    },
    {
     "data": {
      "application/vnd.jupyter.widget-view+json": {
       "model_id": "",
       "version_major": 2,
       "version_minor": 0
      },
      "text/plain": [
       "FloatProgress(value=0.0, bar_style='info', description='Progress:', layout=Layout(height='25px', width='50%'),…"
      ]
     },
     "metadata": {},
     "output_type": "display_data"
    }
   ],
   "source": [
    "BASE_MC1=BASE_MC1.withColumn('GROUP_CLIENT_3'\n",
    "                   ,when(col('GROUP_CLIENT_3')=='083'\n",
    "                         ,lit('Sim')).otherwise('Não'))"
   ]
  },
  {
   "cell_type": "code",
   "execution_count": 56,
   "metadata": {},
   "outputs": [
    {
     "data": {
      "application/vnd.jupyter.widget-view+json": {
       "model_id": "ae61cf7b5d9244358758231da0efc803",
       "version_major": 2,
       "version_minor": 0
      },
      "text/plain": [
       "VBox()"
      ]
     },
     "metadata": {},
     "output_type": "display_data"
    },
    {
     "data": {
      "application/vnd.jupyter.widget-view+json": {
       "model_id": "",
       "version_major": 2,
       "version_minor": 0
      },
      "text/plain": [
       "FloatProgress(value=0.0, bar_style='info', description='Progress:', layout=Layout(height='25px', width='50%'),…"
      ]
     },
     "metadata": {},
     "output_type": "display_data"
    }
   ],
   "source": [
    "BASE_MC1=BASE_MC1.dropDuplicates()"
   ]
  },
  {
   "cell_type": "code",
   "execution_count": 58,
   "metadata": {},
   "outputs": [
    {
     "data": {
      "application/vnd.jupyter.widget-view+json": {
       "model_id": "9ca1abaff15f41af9786acebf4d5f59a",
       "version_major": 2,
       "version_minor": 0
      },
      "text/plain": [
       "VBox()"
      ]
     },
     "metadata": {},
     "output_type": "display_data"
    },
    {
     "data": {
      "application/vnd.jupyter.widget-view+json": {
       "model_id": "",
       "version_major": 2,
       "version_minor": 0
      },
      "text/plain": [
       "FloatProgress(value=0.0, bar_style='info', description='Progress:', layout=Layout(height='25px', width='50%'),…"
      ]
     },
     "metadata": {},
     "output_type": "display_data"
    },
    {
     "name": "stdout",
     "output_type": "stream",
     "text": [
      "DataFrame[GPM: string, GPD: string, COD_PRODUCT: string, DESC_PRODUCT: string, Cod_Vendedor: string, Nome_vendedor: string, COD_CLIENTE: string, NOME_CLIENTE: string, UNIDADE_DE_MEDIDA: string, PRAZO_DE_PAGAMENTO: string, PRECO_COM_IMPOSTOS: string, ESTADO: string, FABRICANTE: string, TIMESTAMP: string, CIDADEESTADO: string, Filial: string, GROUP_CLIENT_3: string, CITY: string, OVajustada: string, ChaveAmostra: string, MATERIAL: string, TIPO_DE_PRECO: string, ChaveFatura: string, Preco21dias: double, Preco21diasKG: double, MesAno: string, DiasCorridos: int, DiasFaltantes: int, ChaveVendedorMetas: string, ChaveVendedor: string, CapacidadeFilial: double, ChaveAuditoria: string, Pre_Aprovado: string, AVG_Preço_UA: double, LS_AVG_Preco_UA: double, LI_AVG_Preco_UA: double, Aprovado: string, Regiao: string]"
     ]
    }
   ],
   "source": [
    "BASE_MC1.drop(\"DESC_MATERIAL\")"
   ]
  },
  {
   "cell_type": "code",
   "execution_count": 59,
   "metadata": {},
   "outputs": [
    {
     "data": {
      "application/vnd.jupyter.widget-view+json": {
       "model_id": "16dbbcbc8d68469cb3dbaa911606e4d6",
       "version_major": 2,
       "version_minor": 0
      },
      "text/plain": [
       "VBox()"
      ]
     },
     "metadata": {},
     "output_type": "display_data"
    },
    {
     "data": {
      "application/vnd.jupyter.widget-view+json": {
       "model_id": "",
       "version_major": 2,
       "version_minor": 0
      },
      "text/plain": [
       "FloatProgress(value=0.0, bar_style='info', description='Progress:', layout=Layout(height='25px', width='50%'),…"
      ]
     },
     "metadata": {},
     "output_type": "display_data"
    }
   ],
   "source": [
    "BASE_MC1=BASE_MC1.withColumnRenamed(\"CIDADE\",\"CITY\")\\\n",
    "                 .withColumnRenamed(\"Cod_Vendedor\",\"COD_SALES_AGENT\")\\\n",
    "                 .withColumnRenamed(\"Nome_vendedor\",\"SALES_AGENT\")\\\n",
    "                 .withColumnRenamed(\"ESTADO\",\"STATE\")\\\n",
    "                 .withColumnRenamed(\"COD_CLIENTE\",\"COD_CLIENT\")\\\n",
    "                 .withColumnRenamed(\"NOME_CLIENTE\",\"CLIENT_NAME\")\\\n",
    "                 .withColumnRenamed(\"UNIDADE_DE_MEDIDA\",\"UNIT_MEASURE\")\\\n",
    "                 .withColumnRenamed(\"PRAZO_DE_PAGAMENTO\",\"PAYMENT_TERM\")\\\n",
    "                 .withColumnRenamed(\"PRECO_COM_IMPOSTOS\",\"PRICE_WITH_TAXES\")\\\n",
    "                 .withColumnRenamed(\"FABRICANTE\",\"COMPETITOR\")\\\n",
    "                 .withColumnRenamed(\"CIDADEESTADO\",\"CITY_STATE\")\\\n",
    "                 .withColumnRenamed(\"OVajustada\",\"ADJ_SALES_ORG\")\\\n",
    "                 .withColumnRenamed(\"ChaveVendedorMetas\",\"KEY_SELLERS_MARKS\")\\\n",
    "                 .withColumnRenamed(\"ChaveVendedor\",\"KEY_SELLERS\")\\\n",
    "                 .withColumnRenamed(\"Regiao\",\"REGION\")\\\n",
    "                 .withColumnRenamed(\"Meta\",\"MARKS\")\\\n",
    "                 .withColumnRenamed(\"Filial\",\"BRANCH\")\\\n",
    "                 .withColumnRenamed(\"CapacidadeFilial\",\"BRANCH_CAPACITY\")\\\n",
    "                 .withColumnRenamed(\"Pre_Aprovado\",\"PRE_APPROVED\")\\\n",
    "                 .withColumnRenamed(\"AVG_Preço_UA\",\"ANALYSIS_UNIT_AVG_PRICE\")\\\n",
    "                 .withColumnRenamed(\"LS_AVG_Preco_UA\",\"UPPER_LIMIT_ANALYSIS_UNIT_AVG_PRICE\")\\\n",
    "                 .withColumnRenamed(\"LI_AVG_Preco_UA\",\"LOWER_LIMIT_ANALYSIS_UNIT_AVG_PRICE\")\\\n",
    "                 .withColumnRenamed(\"Aprovado\",\"APPROVED\")\\\n",
    "                 .withColumnRenamed(\"ChaveAuditoria\",\"KEY_AUDIT\")\\\n",
    "                 .withColumnRenamed(\"ChaveAmostra\",\"SAMPLE_KEY\")\\\n",
    "                 .withColumnRenamed(\"ChaveFatura\",\"BILLING_KEY\")\\\n",
    "                 .withColumnRenamed(\"Preco21diasKG\",\"PRICE_21_DAYS_KG\")\\\n",
    "                 .withColumnRenamed(\"Preco21dias\",\"PRICE_21_DAYS\")\\\n",
    "                 .withColumnRenamed(\"MesAno\",\"MONTH_YEAR\")\\\n",
    "                 .withColumnRenamed(\"DiasCorridos\",\"PASS_DAYS\")\\\n",
    "                 .withColumnRenamed(\"DiasFaltantes\",\"REMAINING_DAYS\")\\\n",
    "                 .withColumnRenamed(\"TIPO_DE_PRECO\",\"PRICE_TYPE\")"
   ]
  },
  {
   "cell_type": "markdown",
   "metadata": {},
   "source": [
    "## Criando Parquet"
   ]
  },
  {
   "cell_type": "code",
   "execution_count": null,
   "metadata": {},
   "outputs": [
    {
     "data": {
      "application/vnd.jupyter.widget-view+json": {
       "model_id": "d2458dc9860a4641a54805ddbc38cc14",
       "version_major": 2,
       "version_minor": 0
      },
      "text/plain": [
       "VBox()"
      ]
     },
     "metadata": {},
     "output_type": "display_data"
    },
    {
     "data": {
      "application/vnd.jupyter.widget-view+json": {
       "model_id": "4ceb473048964f299cd5de31e3927229",
       "version_major": 2,
       "version_minor": 0
      },
      "text/plain": [
       "FloatProgress(value=0.0, bar_style='info', description='Progress:', layout=Layout(height='25px', width='50%'),…"
      ]
     },
     "metadata": {},
     "output_type": "display_data"
    }
   ],
   "source": [
    "BASE_MC1.write.mode('overwrite').parquet(\"s3a://\"+SPG_OUTPUT_BUCKET+\"/\"+SPG_OUTPUT_BUCKET_MC1)"
   ]
  },
  {
   "cell_type": "code",
   "execution_count": null,
   "metadata": {},
   "outputs": [],
   "source": []
  }
 ],
 "metadata": {
  "kernelspec": {
   "display_name": "Python 3",
   "language": "python",
   "name": "python3"
  },
  "language_info": {
   "codemirror_mode": {
    "name": "ipython",
    "version": 3
   },
   "file_extension": ".py",
   "mimetype": "text/x-python",
   "name": "python",
   "nbconvert_exporter": "python",
   "pygments_lexer": "ipython3",
   "version": "3.7.5"
  }
 },
 "nbformat": 4,
 "nbformat_minor": 2
}
