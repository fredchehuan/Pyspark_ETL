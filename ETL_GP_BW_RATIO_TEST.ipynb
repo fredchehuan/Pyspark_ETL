{
 "cells": [
  {
   "cell_type": "markdown",
   "metadata": {},
   "source": [
    "# Base Lucro Bruto\n",
    "\n",
    "Esta base prepara uma tabela .parquet (s3a://smartpricinggerdaubucket/SPG_LB/LB_FULL) \n",
    "\n",
    "O resultado final contém as colunas que copõe o Lucro Bruto e colunas auxiliares:\n",
    "\n",
    "GROSS_PROFIT = NET_SALES + COGS_TOTAL + FREIGHT + SHIP_DEL_LOAD_C_C + PORT_EXPENSES + COGS_ADJUSTMENTS\n",
    "\n",
    "A tabela esta sumarizada no nível: [DATA DA FATURA  + DOCUMENTO DE VENDAS + ITEM DO DOCUMENTO DE VENDAS]\n",
    "\n",
    "Todo código utiliza PySpark"
   ]
  },
  {
   "cell_type": "markdown",
   "metadata": {},
   "source": [
    "## Imports & Configs"
   ]
  },
  {
   "cell_type": "code",
   "execution_count": null,
   "metadata": {
    "scrolled": true
   },
   "outputs": [],
   "source": [
    "#imports Libs\n",
    "\n",
    "import os\n",
    "import pandas as pd\n",
    "import boto3\n",
    "import time\n",
    "from botocore.client import ClientError\n",
    "\n",
    "import pyarrow.parquet as pq\n",
    "import s3fs\n",
    "\n",
    "import findspark                                              #Import library to Search for Spark Installation  \n",
    "\n",
    "findspark.init()                                              #Search Spark Installation\n",
    "\n",
    "import pyspark                                                #Only run after findspark.init()\n",
    "\n",
    "from pyspark.sql import SparkSession                          #Import of Spark Session\n",
    "from pyspark import SparkContext as spark                     #Import the Regular Spark Contex \n",
    "from pyspark.sql import SQLContext                            #Import the SQL Spark Contex \n",
    "from pyspark.sql.window import Window\n",
    "from pyspark.sql.functions import *\n",
    "from pyspark.sql import functions as F\n",
    "from pyspark.sql.types import *\n",
    "from pyspark.sql.functions import year, month, dayofmonth\n",
    "spark = SparkSession.builder.getOrCreate()\n",
    "\n",
    "sc = spark.sparkContext                                       #Initialize Spark"
   ]
  },
  {
   "cell_type": "markdown",
   "metadata": {},
   "source": [
    "--------------"
   ]
  },
  {
   "cell_type": "markdown",
   "metadata": {},
   "source": [
    "# Creating Variables"
   ]
  },
  {
   "cell_type": "markdown",
   "metadata": {},
   "source": [
    "## Database"
   ]
  },
  {
   "cell_type": "code",
   "execution_count": null,
   "metadata": {},
   "outputs": [],
   "source": [
    "ATHENA_SPG = os.environ['SPG_DATABASE']"
   ]
  },
  {
   "cell_type": "code",
   "execution_count": null,
   "metadata": {},
   "outputs": [],
   "source": [
    "ATHENA_HANA = os.environ['GERDAU_HANA_DATABASE']"
   ]
  },
  {
   "cell_type": "code",
   "execution_count": null,
   "metadata": {},
   "outputs": [],
   "source": [
    "ATHENA_SALES = os.environ['GERDAU_SALES_DATABASE']"
   ]
  },
  {
   "cell_type": "markdown",
   "metadata": {},
   "source": [
    "## Buckets"
   ]
  },
  {
   "cell_type": "code",
   "execution_count": null,
   "metadata": {},
   "outputs": [],
   "source": [
    "SPG_MANUAL_INPUT_BUCKET = os.environ['MANUAL_INPUT_BUCKET']"
   ]
  },
  {
   "cell_type": "code",
   "execution_count": null,
   "metadata": {},
   "outputs": [],
   "source": [
    "SPG_INTEGRATION_INPUT_BUCKET = os.environ['INTEGRATION_INPUT_BUCKET']"
   ]
  },
  {
   "cell_type": "code",
   "execution_count": null,
   "metadata": {},
   "outputs": [],
   "source": [
    "SPG_QUERY_BUCKET = os.environ['QUERY_BUCKET']"
   ]
  },
  {
   "cell_type": "code",
   "execution_count": null,
   "metadata": {},
   "outputs": [],
   "source": [
    "GERDAU_BUCKET = os.environ['GERDAU_BUCKET']"
   ]
  },
  {
   "cell_type": "code",
   "execution_count": null,
   "metadata": {},
   "outputs": [],
   "source": [
    "SPG_OUTPUT_BUCKET = os.environ['OUTPUT_BUCKET']"
   ]
  },
  {
   "cell_type": "code",
   "execution_count": null,
   "metadata": {},
   "outputs": [],
   "source": [
    "SPG_INPUT_BUCKET = os.environ['INPUT_BUCKET_FROM_OUTPUT']"
   ]
  },
  {
   "cell_type": "markdown",
   "metadata": {},
   "source": [
    "## Input Paths"
   ]
  },
  {
   "cell_type": "code",
   "execution_count": null,
   "metadata": {},
   "outputs": [],
   "source": [
    "QUERY_CLIENT = \"SELECT DISTINCT cast(O.cod_client as bigint) as cod_client,O.organization_sales_cod,O.registration_date,O.state FROM db_smart_pricing.tb_spg_cl_cliente AS O INNER JOIN (SELECT DISTINCT cod_client,organization_sales_cod,max(registration_date) AS max_date FROM db_smart_pricing.tb_spg_cl_cliente GROUP BY  cod_client, organization_sales_cod) AS S ON S.cod_client=O.cod_client AND S.organization_sales_cod=O.organization_sales_cod AND S.max_date=O.registration_date;\""
   ]
  },
  {
   "cell_type": "code",
   "execution_count": null,
   "metadata": {},
   "outputs": [],
   "source": [
    "SPG_INTEGRATION_INPUT_BUCKET_BW = \"SPG_FACTS/SPG_BW/SPG_COPA.parquet\""
   ]
  },
  {
   "cell_type": "markdown",
   "metadata": {},
   "source": [
    "## Output Paths"
   ]
  },
  {
   "cell_type": "code",
   "execution_count": null,
   "metadata": {},
   "outputs": [],
   "source": [
    "SPG_OUTPUT_BUCKET_GP = \"SPG_LB/LB_FULL\""
   ]
  },
  {
   "cell_type": "markdown",
   "metadata": {},
   "source": [
    "## Boto3 Variables"
   ]
  },
  {
   "cell_type": "code",
   "execution_count": null,
   "metadata": {},
   "outputs": [],
   "source": [
    "#S3 Configuration\n",
    "S3_ATHENA_INPUT =  's3://'+SPG_QUERY_BUCKET+'/'+SPG_QUERY_BUCKET_ATHENA"
   ]
  },
  {
   "cell_type": "code",
   "execution_count": null,
   "metadata": {},
   "outputs": [],
   "source": [
    "S3_ATHENA_OUTPUT = 's3://'+SPG_QUERY_BUCKET+'/'+SPG_QUERY_BUCKET_ATHENA"
   ]
  },
  {
   "cell_type": "code",
   "execution_count": null,
   "metadata": {},
   "outputs": [],
   "source": [
    "region_name = os.environ['AWS_REGION']"
   ]
  },
  {
   "cell_type": "code",
   "execution_count": null,
   "metadata": {},
   "outputs": [],
   "source": [
    "aws_access_key_id = os.environ['AWS_ACCESS_KEY']"
   ]
  },
  {
   "cell_type": "code",
   "execution_count": null,
   "metadata": {},
   "outputs": [],
   "source": [
    "aws_secret_access_key = os.environ['AWS_SECRET_KEY']"
   ]
  },
  {
   "cell_type": "markdown",
   "metadata": {},
   "source": [
    "------------"
   ]
  },
  {
   "cell_type": "markdown",
   "metadata": {},
   "source": [
    "# Creating Defined Functions"
   ]
  },
  {
   "cell_type": "code",
   "execution_count": null,
   "metadata": {},
   "outputs": [],
   "source": [
    "# Run Query\n",
    "\n",
    "def run_query(query, database, s3_output):\n",
    "    response = client.start_query_execution(\n",
    "        QueryString=query,\n",
    "        QueryExecutionContext={\n",
    "            'Database': database\n",
    "            },\n",
    "        ResultConfiguration={\n",
    "            'OutputLocation': s3_output,\n",
    "            }\n",
    "        )\n",
    "    return response"
   ]
  },
  {
   "cell_type": "code",
   "execution_count": null,
   "metadata": {},
   "outputs": [],
   "source": [
    "def get_aws_path(query,database,s3_output):\n",
    "    response = run_query(query, database, s3_output)\n",
    "    file_query = response['QueryExecutionId']\n",
    "    file_metadata = response['QueryExecutionId'] + '.metadata'\n",
    "    return file_query"
   ]
  },
  {
   "cell_type": "code",
   "execution_count": null,
   "metadata": {},
   "outputs": [],
   "source": [
    "# Wating for 300 seconds until the end of the upload\n",
    "\n",
    "def wait_athena_load(Bucket, Key):\n",
    "    time_to_wait = 300\n",
    "    time_counter = 0\n",
    "\n",
    "    while True:\n",
    "        try:\n",
    "            s3.meta.client.head_object(Bucket=Bucket,Key=Key)\n",
    "        except ClientError:\n",
    "            time.sleep(1)\n",
    "            time_counter += 1\n",
    "            if time_counter > time_to_wait:\n",
    "                break\n",
    "        else:\n",
    "            break"
   ]
  },
  {
   "cell_type": "markdown",
   "metadata": {},
   "source": [
    "-----------------"
   ]
  },
  {
   "cell_type": "markdown",
   "metadata": {},
   "source": [
    "# Configuring Boto3"
   ]
  },
  {
   "cell_type": "code",
   "execution_count": null,
   "metadata": {},
   "outputs": [],
   "source": [
    "#Athena Client Configuration\n",
    "\n",
    "client = boto3.client('athena', \n",
    "    aws_access_key_id = aws_access_key_id, \n",
    "    aws_secret_access_key = aws_secret_access_key, \n",
    "    region_name = region_name )"
   ]
  },
  {
   "cell_type": "code",
   "execution_count": null,
   "metadata": {},
   "outputs": [],
   "source": [
    "#S3 Resource Configuration\n",
    "\n",
    "s3 = boto3.resource('s3',\n",
    "    aws_access_key_id = aws_access_key_id,\n",
    "    aws_secret_access_key = aws_secret_access_key,\n",
    "    region_name = region_name)"
   ]
  },
  {
   "cell_type": "markdown",
   "metadata": {},
   "source": [
    "------------"
   ]
  },
  {
   "cell_type": "markdown",
   "metadata": {},
   "source": [
    "# Importing Tables"
   ]
  },
  {
   "cell_type": "code",
   "execution_count": null,
   "metadata": {},
   "outputs": [],
   "source": [
    "#BASE FULL BW COPA\n",
    "\n",
    "df_bw = spark.read.parquet(\"s3a://\"+SPG_INTEGRATION_INPUT_BUCKET+\"/\"+SPG_INTEGRATION_INPUT_BUCKET_BW)"
   ]
  },
  {
   "cell_type": "code",
   "execution_count": null,
   "metadata": {},
   "outputs": [],
   "source": [
    "df_bw.write.partitionBy(\"GTC100362\")\n",
    "df_bw = df_bw.repartition(\"GTC100362\")\n",
    "df_bw.persist(pyspark.StorageLevel.MEMORY_ONLY)"
   ]
  },
  {
   "cell_type": "code",
   "execution_count": null,
   "metadata": {},
   "outputs": [],
   "source": [
    "# Import CSV from View\n",
    "\n",
    "athena_response = get_aws_path(QUERY_CLIENT,ATHENA_SPG,S3_ATHENA_OUTPUT)\n",
    "\n",
    "wait_athena_load(SPG_QUERY_BUCKET, SPG_QUERY_BUCKET_ATHENA+\"/\"+athena_response+\".csv\")"
   ]
  },
  {
   "cell_type": "code",
   "execution_count": null,
   "metadata": {},
   "outputs": [],
   "source": [
    "# Import CSV from View\n",
    "\n",
    "df_client = spark.read.csv(\"s3a://\"+SPG_QUERY_BUCKET+\"/\"+SPG_QUERY_BUCKET_ATHENA+\"/\"+athena_response+\".csv\", header = 'true')"
   ]
  },
  {
   "cell_type": "markdown",
   "metadata": {},
   "source": [
    "-------------"
   ]
  },
  {
   "cell_type": "markdown",
   "metadata": {},
   "source": [
    "# Preparing Table"
   ]
  },
  {
   "cell_type": "markdown",
   "metadata": {},
   "source": [
    "# TESTE\n",
    "## -----------------------------------------Rateio Custo de Expedição--------------------------------------------------"
   ]
  },
  {
   "cell_type": "markdown",
   "metadata": {},
   "source": [
    "## 1. Buscamos na tabela \"C-O-P-A\" (\"db_bw\".\"tb_global_co_pa_dem_parquet\") todo o Volume de Entrega dos Centros de Lucro"
   ]
  },
  {
   "cell_type": "code",
   "execution_count": null,
   "metadata": {
    "scrolled": true
   },
   "outputs": [],
   "source": [
    "df_copa = df_bw.select(col('0FISCPER').substr(1, 7).cast(\"int\").alias(\"year_month\"),\\\n",
    "        trim(col('GTC100450')).substr(1, 8).cast(\"int\").alias(\"profit_corporate\"),\\\n",
    "        trim(col('GTC100450')).substr(5, 10).cast(\"int\").alias(\"profit_center\"),\\\n",
    "        trim(col('GTC100020')).alias(\"material_cod\"),\\\n",
    "        trim(col('GTK101129')).cast(\"double\").alias(\"volume\"),\\\n",
    "        trim(col('GTC100202'))\\\n",
    "       )\\\n",
    ".filter(~ col('GTC100450').like(\"%BR%\") |\n",
    "        ~ col('GTC100450').like(\"%GP%\") |\n",
    "        ~ col('GTC100450').like(\"%US%\") |\n",
    "        ~ col('GTC100450').like(\"%SS%\") |\n",
    "        ~ col('GTC100450').like(\"%MX%\") |\n",
    "        ~ col('GTC100450').like(\"%EX%\") |\n",
    "        ~ col('GTC100450').like(\"%CA%\")\\\n",
    "        )\\\n",
    ".filter(col('GTC100511').like(\"%BRCG%\") |\n",
    "        col('GTC100511').like(\"%BRGO%\") |\n",
    "        col('GTC100511').like(\"%BRCC%\") |\n",
    "        col('GTC100511').like(\"%BRCO%\") |\n",
    "        col('GTC100511').like(\"%BRIN%\") |\n",
    "        col('GTC100511').like(\"%BRIO%\") |\n",
    "        col('GTC100511').like(\"%BREX%\") |\n",
    "        col('GTC100511').like(\"%BREZ%\") |\n",
    "        col('GTC100511').like(\"%BREO%\") |\n",
    "        col('GTC100511').like(\"%BRDI%\") |\n",
    "        col('GTC100511').like(\"%BRDO%\")\\\n",
    "        )\\\n",
    ".filter(col('GTC100202') == '10')\\\n",
    ".filter(col('year_month') >= 2019001)\\\n",
    ".withColumn(\"profit_center\", trim(col('profit_center')))\\\n",
    ".filter(col('profit_center') <> '')\\\n",
    ".filter(~ col('profit_center').isNull())\\\n",
    ".withColumn(\"profit_corporate\", trim(col('profit_corporate')))\\\n",
    ".filter(col('profit_corporate') <> '')\\\n",
    ".filter(~ col('profit_corporate').isNull())"
   ]
  },
  {
   "cell_type": "code",
   "execution_count": null,
   "metadata": {},
   "outputs": [],
   "source": [
    "#trata campos com volume nulo\n",
    "df_copa = df_copa.withColumn(\"volume\", when(col('volume').isNull(),0.000000).\\\n",
    "    otherwise(df_copa.volume))\\\n",
    "    .drop(\"GTC100202\")\\"
   ]
  },
  {
   "cell_type": "code",
   "execution_count": null,
   "metadata": {},
   "outputs": [],
   "source": [
    "df_copa.write.partitionBy(\"year_month\")\n",
    "df_copa = df_copa.repartition(\"year_month\")"
   ]
  },
  {
   "cell_type": "markdown",
   "metadata": {},
   "source": [
    "## 1.2 Teste Unitário 1:\n",
    "### Calcula volume do CL 240102 / year_month = 2019007, que deve possuir volume 964629.574"
   ]
  },
  {
   "cell_type": "code",
   "execution_count": null,
   "metadata": {},
   "outputs": [],
   "source": [
    "#testando profit_center = 240102 / year_month = 2019007\n",
    "#df_teste = df_copa.filter(col('year_month') == 2019007).filter(col('profit_center') == 240102)\\\n",
    "#    .agg(sum(col(\"volume\")).alias(\"volume_profit_center\"))"
   ]
  },
  {
   "cell_type": "code",
   "execution_count": null,
   "metadata": {},
   "outputs": [],
   "source": [
    "#df_teste.printSchema()"
   ]
  },
  {
   "cell_type": "code",
   "execution_count": null,
   "metadata": {},
   "outputs": [],
   "source": [
    "#df_teste.show(100,truncate=False)"
   ]
  },
  {
   "cell_type": "code",
   "execution_count": null,
   "metadata": {},
   "outputs": [],
   "source": [
    "#Verifica se o valor do colume do profit center está correto\n",
    "#def tdd1(volume):\n",
    "#    if (volume > 964629.573) & (volume < 964629.575):\n",
    "#        return \"TDD1 - sem erros no calculo de volume do profit_center 240102 / year_month = 2019007\"\n",
    "#    else:\n",
    "#        Log_erro_tdd1 = df_teste\n",
    "#        Log_erro_tdd1.show()\n",
    "#        return \"ERRO TDD1 - erro no cálculo de volume do profit_center 240102 / year_month = 2019007\" + \" \\n\""
   ]
  },
  {
   "cell_type": "code",
   "execution_count": null,
   "metadata": {},
   "outputs": [],
   "source": [
    "#x = df_teste.limit(1).select(\"volume_profit_center\").collect()[0]"
   ]
  },
  {
   "cell_type": "code",
   "execution_count": null,
   "metadata": {},
   "outputs": [],
   "source": [
    "#print (x.volume_profit_center)\n",
    "#tdd1(x.volume_profit_center)"
   ]
  },
  {
   "cell_type": "markdown",
   "metadata": {},
   "source": [
    "## 1.3 Cálculo do Volume Mensal de Entrega POR Corporacao de Lucro (df_volume_profit_center)"
   ]
  },
  {
   "cell_type": "markdown",
   "metadata": {},
   "source": [
    "# Agrupador 1\n",
    "\n",
    "* Group:\n",
    "    1. \"Ano/Mês\"(0FISCPER)\n",
    "    2. \"Corporação de Lucro\" (GTC100450 - primeiros 4 dígitos)\n",
    "   \n",
    "* Sum\n",
    "    1. \"Volume\"(GTK101129)"
   ]
  },
  {
   "cell_type": "code",
   "execution_count": null,
   "metadata": {},
   "outputs": [],
   "source": [
    "df_volume_profit_corporate = df_copa.groupBy(df_copa.year_month\n",
    "                        ,df_copa.profit_corporate)\\\n",
    ".agg(sum(col(\"volume\")).alias(\"volume_profit_corporate\"))"
   ]
  },
  {
   "cell_type": "markdown",
   "metadata": {},
   "source": [
    "## 1.4 Cálculo de Volume Mensal de Entrega POR Sku POR Corporação de Lucro (df_volume_material_cod)"
   ]
  },
  {
   "cell_type": "markdown",
   "metadata": {},
   "source": [
    "# Agrupador 2\n",
    "\n",
    "* Group:\n",
    "    1. \"Ano/Mês\"(0FISCPER)\n",
    "    2. \"Corporação de Lucro\" (GTC100450 - primeiros 4 dígitos)\n",
    "    3. \"SKU\" (GTC100020)\n",
    "   \n",
    "* Sum\n",
    "    1. \"Volume\"(GTK101129)"
   ]
  },
  {
   "cell_type": "code",
   "execution_count": null,
   "metadata": {},
   "outputs": [],
   "source": [
    "volume_material_cod = df_copa.groupBy(df_copa.year_month\n",
    "                                       ,df_copa.profit_corporate\n",
    "                                       ,df_copa.material_cod)\\\n",
    ".agg(sum(col(\"volume\")).alias(\"volume_material_cod\"))"
   ]
  },
  {
   "cell_type": "markdown",
   "metadata": {},
   "source": [
    "## 1.5 Join das informações de \"Volume X Corporação de Lucro\" (df_volume_profit_center) com \"Volume x SKU\" (df_volume_material_cod)"
   ]
  },
  {
   "cell_type": "code",
   "execution_count": null,
   "metadata": {},
   "outputs": [],
   "source": [
    "df_volume_profit_corporate_material_cod=df_volume_profit_corporate.join(volume_material_cod,\n",
    "                                                                  (df_volume_profit_corporate.year_month==volume_material_cod.year_month)&\n",
    "                                                                  (df_volume_profit_corporate.profit_corporate==volume_material_cod.profit_corporate),\n",
    "                                                                  how=\"inner\")\\\n",
    "                                                            .drop(volume_material_cod.year_month)\\\n",
    "                                                            .drop(volume_material_cod.profit_corporate)\\\n",
    "                                                            .dropDuplicates()"
   ]
  },
  {
   "cell_type": "code",
   "execution_count": null,
   "metadata": {},
   "outputs": [],
   "source": [
    "# partition dataframe\n",
    "df_volume_profit_corporate_material_cod.write.partitionBy(\"year_month\")\n",
    "df_volume_profit_corporate_material_cod = df_volume_profit_corporate_material_cod.repartition(\"year_month\")"
   ]
  },
  {
   "cell_type": "markdown",
   "metadata": {},
   "source": [
    "## 1.6 Cálculo da Distribuição Mensal do Volume (KG) dos Skus POR Corporação de Lucro (apportionment_volume_material_cod)"
   ]
  },
  {
   "cell_type": "code",
   "execution_count": null,
   "metadata": {},
   "outputs": [],
   "source": [
    "#trata campos com volume nulo\n",
    "df_volume_profit_corporate_material_cod = df_volume_profit_corporate_material_cod.withColumn(\"apportionment_volume_material_cod\",\n",
    "                                                                                       when(col(\"volume_profit_corporate\")>0,\n",
    "                                                                                            (col(\"volume_material_cod\")/col(\"volume_profit_corporate\"))\\\n",
    "                                                                                           ).otherwise(0.000000))"
   ]
  },
  {
   "cell_type": "markdown",
   "metadata": {},
   "source": [
    "## 2. Buscamos na Tabela \"DRE\" (\"db_bw\".\"tb_global_dre_dpl00165_dem_parquet\") o Custo Mensal de Expedição do Mercado Interno das Corporações de Lucro"
   ]
  },
  {
   "cell_type": "markdown",
   "metadata": {},
   "source": [
    "### 2.1 Input"
   ]
  },
  {
   "cell_type": "code",
   "execution_count": null,
   "metadata": {},
   "outputs": [],
   "source": [
    "### 2.1 Input parquet tabela \"DRE\" (tb_global_dre_dpl00165_dem_parquet)\n",
    "df_dre = spark.read.parquet(\"s3://gerdau-analytics/global/sales/dre_dpl00165\")"
   ]
  },
  {
   "cell_type": "code",
   "execution_count": null,
   "metadata": {},
   "outputs": [],
   "source": [
    "# partition dataframe\n",
    "df_dre.write.partitionBy(\"0FISCPER\")\n",
    "df_dre = df_dre.repartition(\"0FISCPER\")"
   ]
  },
  {
   "cell_type": "code",
   "execution_count": null,
   "metadata": {},
   "outputs": [],
   "source": [
    "df_dre = df_dre.select(col('0FISCPER').substr(1, 7).cast(\"int\").alias(\"year_month\"),\\\n",
    "                       trim(col('GTC100450')).substr(1, 8).cast(\"int\").alias(\"profit_corporate\"),\\\n",
    "                       trim(col('GTC100450')).substr(5, 10).cast(\"int\").alias(\"profit_center\"),\\\n",
    "                       trim(col('GTC100450')).substr(1, 4).cast(\"int\").alias(\"factory_center\"),\\\n",
    "                       trim(col('GTC100450')).substr(5, 6).cast(\"int\").alias(\"profit_center_class\"),\\\n",
    "                       trim(col('GTK100676')).cast(\"double\").alias(\"expedition_value\"),\\\n",
    "                       trim(col('GTC100202'))\\\n",
    "                      )\\\n",
    ".withColumn(\"profit_center\", trim(col('profit_center')))\\\n",
    ".filter(col('profit_center') <> '')\\\n",
    ".filter(~ col('profit_center').isNull())\\\n",
    ".withColumn(\"profit_corporate\", trim(col('profit_corporate')))\\\n",
    ".filter(col('profit_corporate') <> '')\\\n",
    ".filter(~ col('profit_corporate').isNull())\\\n",
    ".filter(col('year_month') >= 2019001)\\\n",
    ".filter(col('GTC100202') == '10')\\ -- \n",
    ".filter(col('GTC100316') == '6250059900')"
   ]
  },
  {
   "cell_type": "code",
   "execution_count": null,
   "metadata": {},
   "outputs": [],
   "source": [
    "#trata campos com volume nulo\n",
    "df_dre = df_dre.withColumn(\"expedition_value\", when(col('expedition_value').isNull(),0.000000).\\\n",
    "    otherwise(df_dre.expedition_value))\\\n",
    "    .drop(\"GTC100202\")\\"
   ]
  },
  {
   "cell_type": "code",
   "execution_count": null,
   "metadata": {},
   "outputs": [],
   "source": [
    "# partition dataframe\n",
    "df_dre.write.partitionBy(\"year_month\")\n",
    "df_dre = df_dre.repartition(\"year_month\")"
   ]
  },
  {
   "cell_type": "markdown",
   "metadata": {},
   "source": [
    "### 2.2 Cálculo do Custo de Expedição (Relatório DRE) Mensal / POR Corporação de Lucro"
   ]
  },
  {
   "cell_type": "markdown",
   "metadata": {},
   "source": [
    "# Agrupador 3\n",
    "\n",
    "* Group:\n",
    "    1. \"Ano/Mês\"(0FISCPER)\n",
    "    2. \"Corporação de Lucro\" (GTC100450 - primeiros 4 dígitos)\n",
    "   \n",
    "* Sum\n",
    "    1. \"expedition_value_profit_corporate\"(expedition_value)"
   ]
  },
  {
   "cell_type": "code",
   "execution_count": null,
   "metadata": {},
   "outputs": [],
   "source": [
    "df_dre = df_dre.groupBy(df_dre.year_month\n",
    "                        ,df_dre.profit_corporate)\\\n",
    ".agg(sum(col(\"expedition_value\")).alias(\"expedition_value_profit_corporate\"))"
   ]
  },
  {
   "cell_type": "markdown",
   "metadata": {},
   "source": [
    "## 3 JOIN Distribuicao Volume Profit Center (df_volume_profit_center_material_cod) x Custos de expedicao Profit Center (df_dre)"
   ]
  },
  {
   "cell_type": "code",
   "execution_count": null,
   "metadata": {},
   "outputs": [],
   "source": [
    "df_exp=df_dre.join(df_volume_profit_corporate_material_cod,\n",
    "                   (df_dre.year_month==df_volume_profit_corporate_material_cod.year_month) &\n",
    "                   (df_dre.profit_corporate==df_volume_profit_corporate_material_cod.profit_corporate),\n",
    "                   how=\"inner\")\\\n",
    ".drop(df_volume_profit_corporate_material_cod.year_month)\\\n",
    ".drop(df_volume_profit_corporate_material_cod.profit_corporate)\\\n",
    ".dropDuplicates()"
   ]
  },
  {
   "cell_type": "code",
   "execution_count": null,
   "metadata": {},
   "outputs": [],
   "source": [
    "# partition dataframe\n",
    "df_exp.write.partitionBy(\"year_month\")\n",
    "df_exp = df_exp.repartition(\"year_month\")\n",
    "df_exp.persist(pyspark.StorageLevel.MEMORY_ONLY)"
   ]
  },
  {
   "cell_type": "markdown",
   "metadata": {},
   "source": [
    "### 3.1 Cálculo do Custo de Expedição do SKU (expedition_value_material_cod) / POR CL / POR MES"
   ]
  },
  {
   "cell_type": "code",
   "execution_count": null,
   "metadata": {},
   "outputs": [],
   "source": [
    "#trata campos com volume nulo\n",
    "df_exp = df_exp.withColumn(\"expedition_value_material_cod\",\n",
    "                           (df_exp.expedition_value_profit_corporate * df_exp.apportionment_volume_material_cod))"
   ]
  },
  {
   "cell_type": "markdown",
   "metadata": {},
   "source": [
    "### 3.2 Cálculo do Custo de Expedição SKU / POR CL / POR MES / POR TON"
   ]
  },
  {
   "cell_type": "code",
   "execution_count": null,
   "metadata": {},
   "outputs": [],
   "source": [
    "#trata campos com volume nulo\n",
    "df_exp = df_exp.withColumn(\"expedition_value_material_cod_per_kg\",\n",
    "                           (df_exp.expedition_value_material_cod / df_exp.volume_material_cod))"
   ]
  },
  {
   "cell_type": "markdown",
   "metadata": {},
   "source": [
    "### -----------------------------------------------------FIM RATEIO CUSTO EXPEDICAO----------------------------------------------------------"
   ]
  },
  {
   "cell_type": "markdown",
   "metadata": {},
   "source": [
    "# Lucro Bruto"
   ]
  },
  {
   "cell_type": "markdown",
   "metadata": {},
   "source": [
    "## Prepara Tabela"
   ]
  },
  {
   "cell_type": "code",
   "execution_count": null,
   "metadata": {},
   "outputs": [],
   "source": [
    "#Transforma colunas em int64\n",
    "\n",
    "for col_name in ['GTK101129',\n",
    "                'GTK101085',\n",
    "                'GTK101087',\n",
    "                'GTK101096',\n",
    "                'GTK101231',\n",
    "                'GTK101126',\n",
    "                'GTK101238',\n",
    "                'GTK101124',\n",
    "                'GTK101099',\n",
    "                'GTK101236',\n",
    "                'GTK103147',\n",
    "                'GTK103148',\n",
    "                'GTK103149',\n",
    "                'GTK101118',\n",
    "                'GTK101115',\n",
    "                'GTK101112',\n",
    "                'GTK101119',\n",
    "                'GTK101120',\n",
    "                'GTK101121',\n",
    "                'GTK101125',\n",
    "                'GTK101086',\n",
    "                'GTK101111',\n",
    "                'GTK101113',\n",
    "                'GTK102652',\n",
    "                'GTK101093',\n",
    "                'GTK101123',\n",
    "                'GTK101094',\n",
    "                'GTK101095',\n",
    "                'GTK101127',\n",
    "                'GTK101233',\n",
    "                'GTK102651',\n",
    "                'GTK101088',\n",
    "                'GTK103150',\n",
    "                'GTK101091',\n",
    "                'GTK101226',\n",
    "                'GTK101103',\n",
    "                'GTK101098',\n",
    "                'GTK101221',\n",
    "                'GTK101222',\n",
    "                'GTK101229',\n",
    "                'GTK101097',\n",
    "                'GTK101100',\n",
    "                'GTK101092',\n",
    "                'GTK101116',\n",
    "                'GTK101117',\n",
    "                'GTK101114',\n",
    "                'GTK101223',\n",
    "                'GTK101090',\n",
    "                'GTK101101',\n",
    "                'GTK101122',\n",
    "                'GTK101224',\n",
    "                'GTK101102',\n",
    "                'GTK101225',\n",
    "                'GTK101105',\n",
    "                'GTK101227',\n",
    "                'GTK101104',\n",
    "                'GTK101106',\n",
    "                'GTK101228',\n",
    "                'GTK101107',\n",
    "                'GTK101108',\n",
    "                'GTK101109',\n",
    "                'GTK101110']:\n",
    "    df_bw = df_bw.withColumn(col_name, col(col_name).cast('float'))"
   ]
  },
  {
   "cell_type": "markdown",
   "metadata": {},
   "source": [
    "## Calculo dos Campos"
   ]
  },
  {
   "cell_type": "code",
   "execution_count": null,
   "metadata": {},
   "outputs": [],
   "source": [
    "df_bw=df_bw.withColumn(\"CUSTOOPERACIONAL\", col('gtk101088') +\n",
    "                                                    col('gtk101092') +\n",
    "                                                    col('gtk101093') +\n",
    "                                                    col('gtk101094') +\n",
    "                                                    col('gtk101095') +\n",
    "                                                    col('gtk101096') +\n",
    "                                                    col('gtk101229') +\n",
    "                                                    col('gtk101226') +\n",
    "                                                    col('gtk101222') +\n",
    "                                                    col('gtk101228') +\n",
    "                                                    col('gtk101221') +\n",
    "                                                    col('gtk101225') +\n",
    "                                                    col('gtk101224') +\n",
    "                                                    col('gtk101223') +\n",
    "                                                    col('gtk101227') +\n",
    "                                                    col('gtk101231') +\n",
    "                                                    col('gtk103150') +\n",
    "                                                    col('gtk101091'))"
   ]
  },
  {
   "cell_type": "code",
   "execution_count": null,
   "metadata": {},
   "outputs": [],
   "source": [
    "df_bw=df_bw.withColumn(\"Y009_COGS_ADJUSTMENTS\", - col('gtk101107') - \n",
    "                                                             col('gtk101110') - \n",
    "                                                             col('gtk101115') - \n",
    "                                                             col('gtk101108') -\n",
    "                                                             col('gtk101109'))"
   ]
  },
  {
   "cell_type": "code",
   "execution_count": null,
   "metadata": {},
   "outputs": [],
   "source": [
    "df_bw=df_bw.withColumn(\"Y007_PORT_EXPENSES\", col('gtk101087'))"
   ]
  },
  {
   "cell_type": "code",
   "execution_count": null,
   "metadata": {},
   "outputs": [],
   "source": [
    "df_bw=df_bw.withColumn(\"Y008_SHIP_DEL_LOAD_C_C\", - col('gtk101112') - \n",
    "                                                          col('gtk101114'))"
   ]
  },
  {
   "cell_type": "code",
   "execution_count": null,
   "metadata": {},
   "outputs": [],
   "source": [
    "df_bw=df_bw.withColumn(\"Y006_FREIGHT\", - col('gtk101090') + \n",
    "                                                   col('gtk101086') - \n",
    "                                                   col('gtk101127') +\n",
    "                                                   col('gtk101233') +\n",
    "                                                   col('gtk102651') - \n",
    "                                                   col('gtk102652'))"
   ]
  },
  {
   "cell_type": "code",
   "execution_count": null,
   "metadata": {},
   "outputs": [],
   "source": [
    "df_bw=df_bw.withColumn(\"GTPM056\", - col('gtk103150'))"
   ]
  },
  {
   "cell_type": "code",
   "execution_count": null,
   "metadata": {},
   "outputs": [],
   "source": [
    "df_bw=df_bw.withColumn(\"YXXX_COGS_TOTAL\", (col('gtk101088') + col('gtk101091') + col('gtk101092') + col('gtk101093') + \n",
    "                                                    col('gtk101094') + col('gtk101095') + col('gtk101096') + col('gtk101103') + \n",
    "                                                    col('gtk101226') + col('gtk101097') + col('gtk101229') + col('gtk101098') +\n",
    "                                                    col('gtk101221') + col('gtk101099') + col('gtk101222') + col('gtk101100') + \n",
    "                                                    col('gtk101223') + col('gtk101101') + col('gtk101224') + col('gtk101102') + \n",
    "                                                    col('gtk101225') + col('gtk101104') + col('gtk101105') + col('gtk101227') +\n",
    "                                                    col('gtk101106') + col('gtk101228') + col('gtk101231')) * (-1))"
   ]
  },
  {
   "cell_type": "code",
   "execution_count": null,
   "metadata": {},
   "outputs": [],
   "source": [
    "df_bw=df_bw.withColumn(\"Y002_GROSS_SALES\", col('gtk101085') + \n",
    "                                                     col('gtk101126') + \n",
    "                                                     col('gtk101238') + \n",
    "                                                     col('gtk101236') + \n",
    "                                                     col('gtk103147') + \n",
    "                                                     col('gtk103148') + \n",
    "                                                     col('gtk103149'))"
   ]
  },
  {
   "cell_type": "code",
   "execution_count": null,
   "metadata": {},
   "outputs": [],
   "source": [
    "df_bw=df_bw.withColumn(\"Y003_SALES_TAX_DISCOUNT\",      - col('gtk101113') - \n",
    "                                                                 col('gtk101116') + \n",
    "                                                                 col('gtk101117') + \n",
    "                                                                 col('gtk101118') + \n",
    "                                                                 col('gtk101119') + \n",
    "                                                                 col('gtk101120') + \n",
    "                                                                 col('gtk101121') + \n",
    "                                                                 col('gtk101122') + \n",
    "                                                                 col('gtk101123') - \n",
    "                                                                 col('gtk101124'))"
   ]
  },
  {
   "cell_type": "code",
   "execution_count": null,
   "metadata": {
    "scrolled": true
   },
   "outputs": [],
   "source": [
    "df_bw=df_bw.withColumn(\"Y004_NET_SALES\", col('Y003_SALES_TAX_DISCOUNT') +\n",
    "                                                   col('Y002_GROSS_SALES'))"
   ]
  },
  {
   "cell_type": "code",
   "execution_count": null,
   "metadata": {},
   "outputs": [],
   "source": [
    "#df_bw.show(truncate=False)"
   ]
  },
  {
   "cell_type": "markdown",
   "metadata": {},
   "source": [
    "# TESTE\n",
    "## -----------------Atribuindo Rateio Custo de Expedição ao Cálculo do Lucro Bruto--------------------"
   ]
  },
  {
   "cell_type": "code",
   "execution_count": null,
   "metadata": {
    "scrolled": true
   },
   "outputs": [],
   "source": [
    "df_bw=df_bw.join(df_exp,\n",
    "                 (col('0FISCPER').substr(1, 7).cast(\"int\") == df_exp.year_month) &\n",
    "                 (trim(col('GTC100450')).substr(1, 8).cast(\"int\") == df_exp.profit_corporate) &\n",
    "                 (trim(col('GTC100020')) == df_exp.material_cod),\n",
    "                 how=\"left\")\\\n",
    ".drop(df_exp.year_month)\\\n",
    ".drop(df_exp.profit_corporate)\\\n",
    ".drop(df_exp.expedition_value_profit_corporate)\\\n",
    ".drop(df_exp.volume_profit_corporate)\\\n",
    ".drop(df_exp.material_cod)\\\n",
    ".drop(df_exp.expedition_value_material_cod)\\\n",
    ".drop(df_exp.apportionment_volume_material_cod)\\\n",
    ".dropDuplicates()"
   ]
  },
  {
   "cell_type": "code",
   "execution_count": null,
   "metadata": {
    "scrolled": true
   },
   "outputs": [],
   "source": [
    "df_bw=df_bw.withColumn(\"COMISSION_TO_AGENTS\", when(df_bw.expedition_value_material_cod_per_kg.isNull(), 0.00000)\\\n",
    "                                        .otherwise(df_bw.GTK101129 * df_bw.expedition_value_material_cod_per_kg * -1))"
   ]
  },
  {
   "cell_type": "markdown",
   "metadata": {},
   "source": [
    "## ---------------------------------FIM atribuição Rateio Custo de Expedição ------------------------------------"
   ]
  },
  {
   "cell_type": "markdown",
   "metadata": {},
   "source": [
    "## Calculo do Lucro Bruto"
   ]
  },
  {
   "cell_type": "code",
   "execution_count": null,
   "metadata": {},
   "outputs": [],
   "source": [
    "df_bw=df_bw.withColumn(\"GROSS_PROFIT_BW\", col('Y004_NET_SALES') +\n",
    "                                                   col('YXXX_COGS_TOTAL') +\n",
    "                                                   col('Y006_FREIGHT') +\n",
    "                                                   col('Y008_SHIP_DEL_LOAD_C_C') +\n",
    "                                                   col('Y007_PORT_EXPENSES') +\n",
    "                                                   col('Y009_COGS_ADJUSTMENTS')+\n",
    "                                                   col('COMISSION_TO_AGENTS'))"
   ]
  },
  {
   "cell_type": "markdown",
   "metadata": {},
   "source": [
    "## Data Prep"
   ]
  },
  {
   "cell_type": "code",
   "execution_count": null,
   "metadata": {},
   "outputs": [],
   "source": [
    "#Seleciona colunas\n",
    "df_lb = df_bw.select(\"GTC100511\",\"GTC100020\", \"GTC101018\",\"GTC100025\", \"GTC100362\", \"GTK101129\",\"GTC100209\"\n",
    "                     ,\"GTC100255\",\"GTC100504\",\"CUSTOOPERACIONAL\", \"Y009_COGS_ADJUSTMENTS\"\n",
    "                     ,\"Y007_PORT_EXPENSES\",\"Y008_SHIP_DEL_LOAD_C_C\",\"Y006_FREIGHT\",\"GTPM056\"\n",
    "                     ,\"YXXX_COGS_TOTAL\",\"Y002_GROSS_SALES\",\"Y003_SALES_TAX_DISCOUNT\",\"Y004_NET_SALES\"\n",
    "                     ,\"COMISSION_TO_AGENTS\",\"GROSS_PROFIT_BW\")\n",
    "\n",
    "df_lb = df_lb.withColumnRenamed(\"GTC100025\", 'Data')\\\n",
    "             .withColumnRenamed(\"GTC100362\", 'GPD_cod')\\\n",
    "             .withColumnRenamed(\"GTK101129\", 'Quantity_ton')\\\n",
    "             .withColumnRenamed(\"GTC100255\", 'Sales_Number')\\\n",
    "             .withColumnRenamed(\"GTC100209\", 'cod_client')\\\n",
    "             .withColumnRenamed(\"GTC100504\", 'Sales_Number_Item')"
   ]
  },
  {
   "cell_type": "code",
   "execution_count": null,
   "metadata": {},
   "outputs": [],
   "source": [
    "df_lb = df_lb.withColumn(\"Quantity_ton\", col('Quantity_ton')/1000)\\\n",
    "             .withColumn(\"cod_client\", col('cod_client').cast(\"int\"))\\"
   ]
  },
  {
   "cell_type": "code",
   "execution_count": null,
   "metadata": {},
   "outputs": [],
   "source": [
    "df_lb=df_lb.join(df_client.select(df_client.cod_client\n",
    "                                  ,df_client.organization_sales_cod.alias(\"GTC100511\")\n",
    "                                  ,df_client.state), on=[\"GTC100511\",\"cod_client\"], how=\"left\")"
   ]
  },
  {
   "cell_type": "code",
   "execution_count": null,
   "metadata": {},
   "outputs": [],
   "source": [
    "df_lb=df_lb.withColumn(\"GTC101018\", when(trim(df_lb[\"GTC101018\"]).isNull()|df_lb[\"GTC101018\"].like(' '), df_lb.state)\\\n",
    "                                        .otherwise(df_lb[\"GTC101018\"]))"
   ]
  },
  {
   "cell_type": "code",
   "execution_count": null,
   "metadata": {},
   "outputs": [],
   "source": [
    "df_lb=df_lb.drop(\"cod_client\",\"state\")"
   ]
  },
  {
   "cell_type": "code",
   "execution_count": null,
   "metadata": {},
   "outputs": [],
   "source": [
    "df_bw.write.partitionBy(\"GTC101018\")"
   ]
  },
  {
   "cell_type": "code",
   "execution_count": null,
   "metadata": {},
   "outputs": [],
   "source": [
    "df_bw = df_bw.repartition(\"GTC101018\")"
   ]
  },
  {
   "cell_type": "code",
   "execution_count": null,
   "metadata": {},
   "outputs": [],
   "source": [
    "df_bw.persist(pyspark.StorageLevel.MEMORY_ONLY)"
   ]
  },
  {
   "cell_type": "code",
   "execution_count": null,
   "metadata": {},
   "outputs": [],
   "source": [
    "# Prepara Coluna Data para criação de chave e Groupby\n",
    "#df_lb = df_lb.withColumn(\"DataKey\",expr(\"substring(Data, 1, length(Data)-12)\"))\n",
    "\n",
    "# Cria Coluna Mês e Ano\n",
    "\n",
    "df_lb = df_lb \\\n",
    "            .withColumn('year', year(col('Data'))) \\\n",
    "            .withColumn('month', month(col('Data')))\n",
    "\n",
    "# Limpa Sales Number\n",
    "df_lb = df_lb.withColumn(\"Sales_Number\",col(\"Sales_Number\").cast(\"int\").cast(\"string\"))\n",
    "df_lb = df_lb.withColumn(\"Sales_Number_Item\",col(\"Sales_Number_Item\").cast(\"int\").cast(\"string\"))\n",
    "\n",
    "# Cria Chaves\n",
    "df_lb = df_lb.withColumn(\"KEY_LB\", (concat(col(\"Sales_Number\"), lit(\"_\"), col(\"Sales_Number_Item\"))))\n",
    "df_lb = df_lb.withColumn(\"KEY_LB_DATA\", (concat(col(\"year\"), lit(\"-\"), col(\"month\") ,lit(\"_\"), col(\"Sales_Number\"), lit(\"_\"), col(\"Sales_Number_Item\"))))"
   ]
  },
  {
   "cell_type": "code",
   "execution_count": null,
   "metadata": {},
   "outputs": [],
   "source": [
    "# Agrupamento por Data + Documento de Vendas + Item do documento de vendas\n",
    "\n",
    "df_lucro_bruto = df_lb\n",
    "\n",
    "df_lucro_bruto = df_lucro_bruto.groupby(['KEY_LB_DATA']).agg({'Quantity_ton':'sum','COMISSION_TO_AGENTS': 'sum', 'CUSTOOPERACIONAL': 'sum', 'Y009_COGS_ADJUSTMENTS': 'sum', 'Y007_PORT_EXPENSES': 'sum', 'Y008_SHIP_DEL_LOAD_C_C': 'sum', 'Y006_FREIGHT': 'sum', 'GTPM056': 'sum', 'YXXX_COGS_TOTAL': 'sum', 'Y002_GROSS_SALES': 'sum', 'Y003_SALES_TAX_DISCOUNT': 'sum', 'Y004_NET_SALES': 'sum', 'GROSS_PROFIT_BW': 'sum', 'Data': 'first', 'GPD_cod': 'first','Sales_Number': 'first','Sales_Number_Item': 'first','KEY_LB': 'first', 'GTC101018': 'first', 'GTC100511': 'first', 'GTC100020': 'first'})\n",
    "\n",
    "# Renomeia devido a infelicidade do PySpark\n",
    "\n",
    "df_lucro_bruto = df_lucro_bruto.withColumnRenamed(\"sum(Y003_SALES_TAX_DISCOUNT)\", 'SALES_TAX_DISCOUNT')\n",
    "df_lucro_bruto = df_lucro_bruto.withColumnRenamed(\"sum(Quantity_ton)\", 'QUANTITY_TON')\n",
    "df_lucro_bruto = df_lucro_bruto.withColumnRenamed(\"sum(CUSTOOPERACIONAL)\", 'CUSTO_OPERACIONAL')\n",
    "df_lucro_bruto = df_lucro_bruto.withColumnRenamed(\"sum(YXXX_COGS_TOTAL)\", 'COGS_TOTAL')\n",
    "df_lucro_bruto = df_lucro_bruto.withColumnRenamed(\"sum(Y008_SHIP_DEL_LOAD_C_C)\", 'SHIP_DEL_LOAD_C_C')\n",
    "df_lucro_bruto = df_lucro_bruto.withColumnRenamed(\"sum(COMISSION_TO_AGENTS)\", 'COMISSION_TO_AGENTS')\n",
    "\n",
    "df_lucro_bruto = df_lucro_bruto.withColumnRenamed(\"first(GPD_cod)\", 'GPD_COD')\n",
    "df_lucro_bruto = df_lucro_bruto.withColumnRenamed(\"first(Sales_Number)\", 'SALES_NUMBER')\n",
    "df_lucro_bruto = df_lucro_bruto.withColumnRenamed(\"first(GTC101018)\", 'GTC101018')\n",
    "df_lucro_bruto = df_lucro_bruto.withColumnRenamed(\"first(GTC100511)\", 'GTC100511')\n",
    "df_lucro_bruto = df_lucro_bruto.withColumnRenamed(\"first(GTC100020)\", 'GTC100020')\n",
    "df_lucro_bruto = df_lucro_bruto.withColumnRenamed(\"sum(GROSS_PROFIT_BW)\", 'GROSS_PROFIT_BW')\n",
    "df_lucro_bruto = df_lucro_bruto.withColumnRenamed(\"first(KEY_LB)\", 'KEY_LB')\n",
    "\n",
    "df_lucro_bruto = df_lucro_bruto.withColumnRenamed(\"sum(Y002_GROSS_SALES)\", 'GROSS_SALES')\n",
    "df_lucro_bruto = df_lucro_bruto.withColumnRenamed(\"sum(Y004_NET_SALES)\", 'NET_SALES')\n",
    "df_lucro_bruto = df_lucro_bruto.withColumnRenamed(\"sum(GTPM056)\", 'GTPM056')\n",
    "\n",
    "df_lucro_bruto = df_lucro_bruto.withColumnRenamed(\"first(Sales_Number_Item)\", 'SALES_NUMBER_ITEM')\n",
    "df_lucro_bruto = df_lucro_bruto.withColumnRenamed(\"sum(Y009_COGS_ADJUSTMENTS)\", 'COGS_ADJUSTMENTS')\n",
    "df_lucro_bruto = df_lucro_bruto.withColumnRenamed(\"sum(Y007_PORT_EXPENSES)\", 'PORT_EXPENSES')\n",
    "df_lucro_bruto = df_lucro_bruto.withColumnRenamed(\"first(Data)\", 'DATA')\n",
    "df_lucro_bruto = df_lucro_bruto.withColumnRenamed(\"sum(Y006_FREIGHT)\", 'FREIGHT')"
   ]
  },
  {
   "cell_type": "markdown",
   "metadata": {},
   "source": [
    "## Teste Unitário 3:\n",
    "### Calcula Custo de Expedição (COMISSION_TO_AGENTS) "
   ]
  },
  {
   "cell_type": "code",
   "execution_count": null,
   "metadata": {},
   "outputs": [],
   "source": [
    "#df_teste_fim = df_lucro_bruto.groupBy(year(df_lucro_bruto.DATA).alias(\"ano\")\n",
    "#                                    ,month(df_lucro_bruto.DATA).alias(\"mes\")\n",
    "#                                    ,df_lucro_bruto.GTC100511\n",
    "#                                    ,df_lucro_bruto.GTC100020)\\\n",
    "#.agg(sum(col(\"COMISSION_TO_AGENTS\")).alias(\"exped\"))"
   ]
  },
  {
   "cell_type": "markdown",
   "metadata": {},
   "source": [
    "## Export LB-BW "
   ]
  },
  {
   "cell_type": "code",
   "execution_count": null,
   "metadata": {},
   "outputs": [],
   "source": [
    "df_lucro_bruto.write.parquet(\"s3a://\"+SPG_OUTPUT_BUCKET+\"/\"+SPG_OUTPUT_BUCKET_GP, mode = \"overwrite\")"
   ]
  }
 ],
 "metadata": {
  "kernelspec": {
   "display_name": "Python 3",
   "language": "python",
   "name": "python3"
  },
  "language_info": {
   "codemirror_mode": {
    "name": "ipython",
    "version": 3
   },
   "file_extension": ".py",
   "mimetype": "text/x-python",
   "name": "python",
   "nbconvert_exporter": "python",
   "pygments_lexer": "ipython3",
   "version": "3.7.0"
  }
 },
 "nbformat": 4,
 "nbformat_minor": 4
}
