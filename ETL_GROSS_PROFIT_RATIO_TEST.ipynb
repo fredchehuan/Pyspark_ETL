{
 "cells": [
  {
   "cell_type": "markdown",
   "metadata": {},
   "source": [
    "# Base Lucro Bruto + View\n",
    "\n",
    "Esta base faz merge dos dados do Lucro Bruto com os dados da View v18\n",
    "\n",
    "\n",
    "Esta base extrai 3 diferentes niveis de granulariedade e as colunas presentes dependem deste nivel\n",
    "\n",
    "Nivel: Data Fatura + Oridem + Item [Chave: Ordem + Item]\n",
    "Nivel: Data Fatura + SKU [Chave: SKU]\n",
    "Nivel: Data Fatura + GPD [Chave: GPD]\n",
    "\n",
    "O código desenvolvido em PySpark\n",
    "\n",
    "Utilizando boto3 para fazer query direto via Athena para dados da View\n",
    "E carregando .parquet do LucroBruto\n"
   ]
  },
  {
   "cell_type": "markdown",
   "metadata": {},
   "source": [
    "## Imports & Configs"
   ]
  },
  {
   "cell_type": "code",
   "execution_count": null,
   "metadata": {},
   "outputs": [],
   "source": [
    "#imports Libs\n",
    "\n",
    "import os\n",
    "import pandas as pd\n",
    "import boto3\n",
    "import time\n",
    "from botocore.client import ClientError\n",
    "\n",
    "import pyarrow.parquet as pq\n",
    "import s3fs\n",
    "\n",
    "import findspark                                              #Import library to Search for Spark Installation  \n",
    "\n",
    "findspark.init()                                              #Search Spark Installation\n",
    "\n",
    "import pyspark                                                #Only run after findspark.init()\n",
    "\n",
    "from pyspark.sql import SparkSession                          #Import of Spark Session\n",
    "from pyspark import SparkContext as spark                     #Import the Regular Spark Contex \n",
    "from pyspark.sql import SQLContext                            #Import the SQL Spark Contex \n",
    "from pyspark.sql.window import Window\n",
    "from pyspark.sql.functions import *\n",
    "from pyspark.sql import functions as F\n",
    "from pyspark.sql.types import *\n",
    "from pyspark.sql.functions import year, month, dayofmonth\n",
    "spark = SparkSession.builder.getOrCreate()\n",
    "\n",
    "\n",
    "\n",
    "sc = spark.sparkContext                                       #Initialize Spark"
   ]
  },
  {
   "cell_type": "markdown",
   "metadata": {},
   "source": [
    "---------------"
   ]
  },
  {
   "cell_type": "markdown",
   "metadata": {},
   "source": [
    "# Creating Variables"
   ]
  },
  {
   "cell_type": "markdown",
   "metadata": {},
   "source": [
    "## Database"
   ]
  },
  {
   "cell_type": "code",
   "execution_count": null,
   "metadata": {},
   "outputs": [],
   "source": [
    "ATHENA_SPG = os.environ['SPG_DATABASE']"
   ]
  },
  {
   "cell_type": "code",
   "execution_count": null,
   "metadata": {},
   "outputs": [],
   "source": [
    "ATHENA_HANA = os.environ['GERDAU_HANA_DATABASE']"
   ]
  },
  {
   "cell_type": "code",
   "execution_count": null,
   "metadata": {},
   "outputs": [],
   "source": [
    "ATHENA_SALES = os.environ['GERDAU_SALES_DATABASE']"
   ]
  },
  {
   "cell_type": "markdown",
   "metadata": {},
   "source": [
    "## Buckets"
   ]
  },
  {
   "cell_type": "code",
   "execution_count": null,
   "metadata": {},
   "outputs": [],
   "source": [
    "SPG_MANUAL_INPUT_BUCKET = os.environ['MANUAL_INPUT_BUCKET']"
   ]
  },
  {
   "cell_type": "code",
   "execution_count": null,
   "metadata": {},
   "outputs": [],
   "source": [
    "SPG_INTEGRATION_INPUT_BUCKET = os.environ['INTEGRATION_INPUT_BUCKET']"
   ]
  },
  {
   "cell_type": "code",
   "execution_count": null,
   "metadata": {},
   "outputs": [],
   "source": [
    "SPG_QUERY_BUCKET = os.environ['QUERY_BUCKET']"
   ]
  },
  {
   "cell_type": "code",
   "execution_count": null,
   "metadata": {},
   "outputs": [],
   "source": [
    "GERDAU_BUCKET = os.environ['GERDAU_BUCKET']"
   ]
  },
  {
   "cell_type": "code",
   "execution_count": null,
   "metadata": {},
   "outputs": [],
   "source": [
    "SPG_OUTPUT_BUCKET = os.environ['OUTPUT_BUCKET']"
   ]
  },
  {
   "cell_type": "code",
   "execution_count": null,
   "metadata": {},
   "outputs": [],
   "source": [
    "SPG_INPUT_BUCKET = os.environ['INPUT_BUCKET_FROM_OUTPUT']"
   ]
  },
  {
   "cell_type": "markdown",
   "metadata": {},
   "source": [
    "## Input Paths"
   ]
  },
  {
   "cell_type": "code",
   "execution_count": null,
   "metadata": {},
   "outputs": [],
   "source": [
    "QUERY_VIEW = \"SELECT billing_date, sales_order_date, sales_org_cod,gpm, gpd_cod, gpd_desc, material_cod, material_desc, sales_number, sales_item, issuing_city, issuing_state, quantity_ton, practiced_price, preco_prat_norm, preco_politica, preco_lista, rbv, rlv, receiving_customer_cod, branch  FROM db_smart_pricing.vw_strategy_sample_v18  WHERE (billing_date >= '2019-01-01' or sales_order_date >= '2019-01-01')  AND Fabricante LIKE '%Praticado%';\""
   ]
  },
  {
   "cell_type": "code",
   "execution_count": null,
   "metadata": {},
   "outputs": [],
   "source": [
    "SPG_INPUT_BUCKET_GP = \"SPG_LB/LB_FULL\""
   ]
  },
  {
   "cell_type": "markdown",
   "metadata": {},
   "source": [
    "## Output Paths"
   ]
  },
  {
   "cell_type": "code",
   "execution_count": null,
   "metadata": {},
   "outputs": [],
   "source": [
    "SPG_OUTPUT_BUCKET_GP_STRATEGIC = \"SPG_LB/LB_STRATEGIC\""
   ]
  },
  {
   "cell_type": "code",
   "execution_count": null,
   "metadata": {},
   "outputs": [],
   "source": [
    "SPG_OUTPUT_BUCKET_GP_ORDER_ITEM = \"SPG_LB/LB_OrdemItem\""
   ]
  },
  {
   "cell_type": "code",
   "execution_count": null,
   "metadata": {},
   "outputs": [],
   "source": [
    "SPG_OUTPUT_BUCKET_GP_SALES_DATE = \"SPG_LB/LB_SalesOrderDate\""
   ]
  },
  {
   "cell_type": "code",
   "execution_count": null,
   "metadata": {},
   "outputs": [],
   "source": [
    "SPG_OUTPUT_BUCKET_GP_SKU = \"SPG_LB/LB_SKU\""
   ]
  },
  {
   "cell_type": "code",
   "execution_count": null,
   "metadata": {},
   "outputs": [],
   "source": [
    "SPG_OUTPUT_BUCKET_GP_GPD = \"SPG_LB/LB_GPD\""
   ]
  },
  {
   "cell_type": "code",
   "execution_count": null,
   "metadata": {},
   "outputs": [],
   "source": [
    "SPG_OUTPUT_BUCKET_GP_OV = \"SPG_LB/LB_OV\""
   ]
  },
  {
   "cell_type": "code",
   "execution_count": null,
   "metadata": {},
   "outputs": [],
   "source": [
    "SPG_OUTPUT_BUCKET_GP_SOFC = \"SPG_LB/LB_SOFC\""
   ]
  },
  {
   "cell_type": "code",
   "execution_count": null,
   "metadata": {},
   "outputs": [],
   "source": [
    "SPG_OUTPUT_BUCKET_GP_SF = \"SPG_LB/LB_SF.csv\""
   ]
  },
  {
   "cell_type": "markdown",
   "metadata": {},
   "source": [
    "## Boto3 Variables"
   ]
  },
  {
   "cell_type": "code",
   "execution_count": null,
   "metadata": {},
   "outputs": [],
   "source": [
    "#S3 Configuration\n",
    "S3_ATHENA_INPUT =  's3://'+SPG_QUERY_BUCKET+'/'+SPG_QUERY_BUCKET_ATHENA"
   ]
  },
  {
   "cell_type": "code",
   "execution_count": null,
   "metadata": {},
   "outputs": [],
   "source": [
    "S3_ATHENA_OUTPUT = 's3://'+SPG_QUERY_BUCKET+'/'+SPG_QUERY_BUCKET_ATHENA"
   ]
  },
  {
   "cell_type": "code",
   "execution_count": null,
   "metadata": {},
   "outputs": [],
   "source": [
    "region_name = os.environ['AWS_REGION']"
   ]
  },
  {
   "cell_type": "code",
   "execution_count": null,
   "metadata": {},
   "outputs": [],
   "source": [
    "aws_access_key_id = os.environ['AWS_ACCESS_KEY']"
   ]
  },
  {
   "cell_type": "code",
   "execution_count": null,
   "metadata": {},
   "outputs": [],
   "source": [
    "aws_secret_access_key = os.environ['AWS_SECRET_KEY']"
   ]
  },
  {
   "cell_type": "markdown",
   "metadata": {},
   "source": [
    "----------------"
   ]
  },
  {
   "cell_type": "markdown",
   "metadata": {},
   "source": [
    "# Creating Defined Functions"
   ]
  },
  {
   "cell_type": "code",
   "execution_count": null,
   "metadata": {},
   "outputs": [],
   "source": [
    "# Run Query\n",
    "\n",
    "def run_query(query, database, s3_output):\n",
    "    response = client.start_query_execution(\n",
    "        QueryString=query,\n",
    "        QueryExecutionContext={\n",
    "            'Database': database\n",
    "            },\n",
    "        ResultConfiguration={\n",
    "            'OutputLocation': s3_output,\n",
    "            }\n",
    "        )\n",
    "    return response"
   ]
  },
  {
   "cell_type": "code",
   "execution_count": null,
   "metadata": {},
   "outputs": [],
   "source": [
    "def get_aws_path(query,database,s3_output):\n",
    "    response = run_query(query, database, s3_output)\n",
    "    file_query = response['QueryExecutionId']\n",
    "    file_metadata = response['QueryExecutionId'] + '.metadata'\n",
    "    return file_query"
   ]
  },
  {
   "cell_type": "code",
   "execution_count": null,
   "metadata": {},
   "outputs": [],
   "source": [
    "# Wating for 300 seconds until the end of the upload\n",
    "\n",
    "def wait_athena_load(Bucket, Key):\n",
    "    time_to_wait = 300\n",
    "    time_counter = 0\n",
    "\n",
    "    while True:\n",
    "        try:\n",
    "            s3.meta.client.head_object(Bucket=Bucket,Key=Key)\n",
    "        except ClientError:\n",
    "            time.sleep(1)\n",
    "            time_counter += 1\n",
    "            if time_counter > time_to_wait:\n",
    "                break\n",
    "        else:\n",
    "            break"
   ]
  },
  {
   "cell_type": "markdown",
   "metadata": {},
   "source": [
    "----------"
   ]
  },
  {
   "cell_type": "markdown",
   "metadata": {},
   "source": [
    "# Configuring Boto3"
   ]
  },
  {
   "cell_type": "code",
   "execution_count": null,
   "metadata": {},
   "outputs": [],
   "source": [
    "#Athena Client Configuration\n",
    "\n",
    "client = boto3.client('athena', \n",
    "    aws_access_key_id = aws_access_key_id, \n",
    "    aws_secret_access_key = aws_secret_access_key, \n",
    "    region_name = region_name )"
   ]
  },
  {
   "cell_type": "code",
   "execution_count": null,
   "metadata": {},
   "outputs": [],
   "source": [
    "#S3 Resource Configuration\n",
    "\n",
    "s3 = boto3.resource('s3',\n",
    "    aws_access_key_id = aws_access_key_id,\n",
    "    aws_secret_access_key = aws_secret_access_key,\n",
    "    region_name = region_name)"
   ]
  },
  {
   "cell_type": "markdown",
   "metadata": {},
   "source": [
    "---------------"
   ]
  },
  {
   "cell_type": "markdown",
   "metadata": {},
   "source": [
    "# Importing Tables"
   ]
  },
  {
   "cell_type": "code",
   "execution_count": null,
   "metadata": {},
   "outputs": [],
   "source": [
    "# import Lucro Bruto\n",
    "\n",
    "df_lb_full = spark.read.parquet(\"s3a://\"+SPG_INPUT_BUCKET+\"/\"+SPG_INPUT_BUCKET_GP)"
   ]
  },
  {
   "cell_type": "code",
   "execution_count": null,
   "metadata": {},
   "outputs": [],
   "source": [
    "# Import CSV from View\n",
    "\n",
    "athena_response = get_aws_path(QUERY_VIEW,ATHENA_SPG,S3_ATHENA_OUTPUT)\n",
    "\n",
    "wait_athena_load(SPG_QUERY_BUCKET, SPG_QUERY_BUCKET_ATHENA+\"/\"+athena_response+\".csv\")"
   ]
  },
  {
   "cell_type": "code",
   "execution_count": null,
   "metadata": {},
   "outputs": [],
   "source": [
    "df_view = spark.read.csv(\"s3a://\"+SPG_QUERY_BUCKET+\"/\"+SPG_QUERY_BUCKET_ATHENA+\"/\"+athena_response+\".csv\", header = 'true')"
   ]
  },
  {
   "cell_type": "markdown",
   "metadata": {},
   "source": [
    "-----------"
   ]
  },
  {
   "cell_type": "markdown",
   "metadata": {},
   "source": [
    "# Preparing Table"
   ]
  },
  {
   "cell_type": "markdown",
   "metadata": {},
   "source": [
    "## TESTE\n",
    "* Import output LB-BW de Teste com Cálculo de Rateio do Custo de Expedi"
   ]
  },
  {
   "cell_type": "code",
   "execution_count": null,
   "metadata": {},
   "outputs": [],
   "source": [
    "# BKP_DF \n",
    "\n",
    "ordem_view =  df_view\n",
    "\n",
    "df_lb = df_lb_full.drop(\"GTC101018\", 'GTC100511', 'GTC100020')\n",
    "\n",
    "df_lb = df_lb.withColumn(\"Quantity_ton_bw\", col(\"Quantity_ton\").cast(\"float\"))\\"
   ]
  },
  {
   "cell_type": "code",
   "execution_count": null,
   "metadata": {},
   "outputs": [],
   "source": [
    "df_lb_full = df_lb_full \\\n",
    "    .withColumnRenamed(\"GTC101018\",\"issuing_state\")\\\n",
    "    .withColumnRenamed(\"Data\",\"sales_order_date\")\\\n",
    "    .withColumnRenamed(\"Sales_Number_Item\",\"sales_item\")\\\n",
    "    .withColumnRenamed(\"Sales_Number\",\"sales_number\")\\\n",
    "    .withColumnRenamed(\"GPD_cod\",\"gpd_cod\")\\\n",
    "    .withColumnRenamed(\"GTC100511\",\"sales_org_cod\")\\\n",
    "    .withColumnRenamed(\"GTC100020\",\"material_cod\")\\\n",
    "    .withColumn('year', year(col('sales_order_date'))) \\\n",
    "    .withColumn('month', month(col('sales_order_date')))\\\n",
    "    .withColumn('KEY_LB', concat(col('sales_number'),lit('_'),col('sales_item')))\\\n",
    "    .withColumn('UF', concat(lit('BR/'),col('issuing_state')))\\\n",
    "    .withColumn('FREIGHT_Full', col('SHIP_DEL_LOAD_C_C') + col('PORT_EXPENSES') + col('FREIGHT') + col('COGS_ADJUSTMENTS'))"
   ]
  },
  {
   "cell_type": "code",
   "execution_count": null,
   "metadata": {},
   "outputs": [],
   "source": [
    "df_lb_full = df_lb_full\\\n",
    "    .withColumn(\"sales_item\", col(\"sales_item\").cast(\"int\"))\\\n",
    "    .withColumn(\"Quantity_ton_bw\", col(\"Quantity_ton\").cast(\"float\"))\\\n",
    "    .withColumn(\"sales_number\", col(\"sales_number\").cast(\"int\"))\\\n",
    "    .withColumn(\"gpd_cod\", col(\"gpd_cod\").cast(\"int\"))\\\n",
    "    .withColumn(\"material_cod\", col(\"material_cod\").cast(\"int\"))\\"
   ]
  },
  {
   "cell_type": "code",
   "execution_count": null,
   "metadata": {},
   "outputs": [],
   "source": [
    "filtred_OV = ['BRIN','BRIO','BRDI','BRDO','BRCC','BRCO','BRCG','BRGO']\n",
    "\n",
    "df_lb_full = df_lb_full.where(df_lb_full.sales_org_cod.isin(filtred_OV))"
   ]
  },
  {
   "cell_type": "code",
   "execution_count": null,
   "metadata": {},
   "outputs": [],
   "source": [
    "df_lb_full=df_lb_full.withColumn(\"sales_org_cod\", when(df_lb_full.sales_org_cod.like(\"BRCO\"), \"BRCC\")\\\n",
    "                                                    .otherwise(when(df_lb_full.sales_org_cod.like(\"BRGO\"), \"BRCG\")\\\n",
    "                                                              .otherwise(when(df_lb_full.sales_org_cod.like(\"BRIO\"), \"BRIN\")\\\n",
    "                                                                        .otherwise(when(df_lb_full.sales_org_cod.like(\"BRDO\"), \"BRDI\")\n",
    "                                                                                  .otherwise(df_lb_full.sales_org_cod)))))\\"
   ]
  },
  {
   "cell_type": "code",
   "execution_count": null,
   "metadata": {},
   "outputs": [],
   "source": [
    "df_lb_full=df_lb_full.join(df_view.select(df_view.material_cod.cast(\"int\")\n",
    "                                          ,df_view.sales_org_cod\n",
    "                                          ,df_view.gpd_cod.cast(\"int\").alias(\"gpd_cod_drop\")\n",
    "                                          ,df_view.gpd_desc).distinct(),on=['material_cod','sales_org_cod'],how='left')"
   ]
  },
  {
   "cell_type": "code",
   "execution_count": null,
   "metadata": {},
   "outputs": [],
   "source": [
    "df_lb_full=df_lb_full.withColumn(\"gpd_cod\", when(df_lb_full.gpd_cod.isNull(), df_lb_full.gpd_cod_drop)\\\n",
    "                                                .otherwise(df_lb_full.gpd_cod))\\\n",
    "                     .drop(\"gpd_cod_drop\")"
   ]
  },
  {
   "cell_type": "code",
   "execution_count": null,
   "metadata": {},
   "outputs": [],
   "source": [
    "#df_lb_full=df_lb_full.filter(~df_lb_full.gpd_desc.isNull())"
   ]
  },
  {
   "cell_type": "markdown",
   "metadata": {},
   "source": [
    "## Ordem + Item"
   ]
  },
  {
   "cell_type": "code",
   "execution_count": null,
   "metadata": {},
   "outputs": [],
   "source": [
    "# Cria Coluna Mês e Ano\n",
    "\n",
    "ordem_view = ordem_view \\\n",
    "            .withColumn('year', year(col('billing_date'))) \\\n",
    "            .withColumn('month', month(col('billing_date')))"
   ]
  },
  {
   "cell_type": "code",
   "execution_count": null,
   "metadata": {},
   "outputs": [],
   "source": [
    "# Group BY ordem_item por data\n",
    "\n",
    "ordem_item = ordem_view \\\n",
    "    .withColumn(\"pp_x_volume\", col(\"practiced_price\") * col(\"quantity_ton\")) \\\n",
    "    .withColumn(\"ppn_x_volume\", col(\"preco_prat_norm\") * col(\"quantity_ton\")) \\\n",
    "    .groupBy('year', 'month', 'sales_order_date','gpm','gpd_cod','gpd_desc', 'material_desc', 'material_cod' ,'sales_number','sales_item','sales_org_cod','receiving_customer_cod','branch','issuing_state') \\\n",
    "    .agg(F.sum(\"quantity_ton\").alias(\"quantity_ton\"), \\\n",
    "         F.sum(\"rbv\").alias(\"rbv\"), \\\n",
    "         F.sum(\"rlv\").alias(\"rlv\"), \\\n",
    "         F.sum(\"practiced_price\").alias(\"sum_practiced_price\"), \\\n",
    "         F.sum(\"pp_x_volume\").alias(\"sum_pp_x_volume\"), \\\n",
    "         F.sum(\"preco_prat_norm\").alias(\"sum_preco_prat_norm\"), \\\n",
    "         F.sum(\"ppn_x_volume\").alias(\"sum_ppn_x_volume\")) \\\n",
    "    .withColumn(\"practiced_price_weighted_average\", col(\"sum_practiced_price\") / col(\"sum_pp_x_volume\")) \\\n",
    "    .withColumn(\"preco_prat_norm_weighted_average\", col(\"sum_preco_prat_norm\") / col(\"sum_ppn_x_volume\")) \\\n",
    "    .drop('pp_x_volume', 'ppn_x_volume', 'sum_practiced_price','sum_pp_x_volume','sum_preco_prat_norm','sum_ppn_x_volume')"
   ]
  },
  {
   "cell_type": "markdown",
   "metadata": {},
   "source": [
    "## LB_View Ordem + Item"
   ]
  },
  {
   "cell_type": "code",
   "execution_count": null,
   "metadata": {},
   "outputs": [],
   "source": [
    "# Cria chave para Join\n",
    "\n",
    "ordem_item = ordem_item \\\n",
    "    .withColumn('KEY_LB_DATA', concat(col('year'), lit('-'), col('month'), lit('_'),col('sales_number'), lit('_'), col('sales_item')))\n",
    "\n",
    "# Sumariza Frete\n",
    "\n",
    "df_lb = df_lb \\\n",
    "    .withColumn('FREIGHT_Full', col('SHIP_DEL_LOAD_C_C') + col('PORT_EXPENSES') + col('FREIGHT') + col('COGS_ADJUSTMENTS'))\n",
    "                \n",
    "  \n",
    "# Select Colunas LB\n",
    "\n",
    "df_lb = df_lb.select('KEY_LB_DATA', 'COGS_TOTAL','GROSS_PROFIT_BW','NET_SALES','FREIGHT_Full','Quantity_ton_bw', 'COMISSION_TO_AGENTS')\n",
    "\n",
    "\n",
    "# Join Ordem View + Lucro Bruto\n",
    "\n",
    "LB_View = ordem_item.join(df_lb, on=['KEY_LB_DATA'], how='left')\n",
    "\n",
    "# Limpa nulls\n",
    "\n",
    "LB_View = LB_View.filter(LB_View.GROSS_PROFIT_BW.isNotNull())\n",
    "\n",
    "# Cria chave para View por Fatura\n",
    "\n",
    "LB_View = LB_View \\\n",
    "    .withColumn('KEY_LB', concat(col('sales_number'), lit('_'), col('sales_item')))\n",
    "\n"
   ]
  },
  {
   "cell_type": "markdown",
   "metadata": {},
   "source": [
    "## SALES ORDER DATE"
   ]
  },
  {
   "cell_type": "code",
   "execution_count": null,
   "metadata": {},
   "outputs": [],
   "source": [
    "sales_order_date = LB_View \\\n",
    "    .withColumn(\"pp_x_volume\", col(\"practiced_price_weighted_average\") * col(\"quantity_ton\")) \\\n",
    "    .withColumn(\"ppn_x_volume\", col(\"preco_prat_norm_weighted_average\") * col(\"quantity_ton\")) \\\n",
    "    .groupBy('KEY_LB','sales_order_date','gpm','gpd_cod','gpd_desc', 'material_desc', 'material_cod' ,'sales_number','sales_item') \\\n",
    "    .agg(F.sum(\"quantity_ton\").alias(\"quantity_ton\"), \\\n",
    "         F.sum(\"rbv\").alias(\"rbv\"), \\\n",
    "         F.sum(\"rlv\").alias(\"rlv\"), \\\n",
    "         F.sum(\"practiced_price_weighted_average\").alias(\"sum_practiced_price\"), \\\n",
    "         F.sum(\"pp_x_volume\").alias(\"sum_pp_x_volume\"), \\\n",
    "         F.sum(\"preco_prat_norm_weighted_average\").alias(\"sum_preco_prat_norm\"), \\\n",
    "         F.sum(\"ppn_x_volume\").alias(\"sum_ppn_x_volume\"), \\\n",
    "         F.sum(\"COGS_TOTAL\").alias(\"COGS_TOTAL\"), \\\n",
    "         F.sum(\"Quantity_ton_bw\").alias(\"Quantity_ton_bw\"), \\\n",
    "         F.sum(\"FREIGHT_Full\").alias(\"FREIGHT_Full\"), \\\n",
    "         F.sum(\"GROSS_PROFIT_BW\").alias(\"GROSS_PROFIT_BW\"), \\\n",
    "         F.sum(\"NET_SALES\").alias(\"NET_SALES\")) \\\n",
    "    .withColumn(\"practiced_price_weighted_average\", col(\"sum_practiced_price\") / col(\"sum_pp_x_volume\")) \\\n",
    "    .withColumn(\"preco_prat_norm_weighted_average\", col(\"sum_preco_prat_norm\") / col(\"sum_ppn_x_volume\")) \\\n",
    "    .drop('pp_x_volume', 'ppn_x_volume', 'sum_practiced_price','sum_pp_x_volume','sum_preco_prat_norm','sum_ppn_x_volume')"
   ]
  },
  {
   "cell_type": "markdown",
   "metadata": {},
   "source": [
    "## SKU OV FILIAL CLIENTE"
   ]
  },
  {
   "cell_type": "code",
   "execution_count": null,
   "metadata": {},
   "outputs": [],
   "source": [
    "# Group by SKU\n",
    "\n",
    "sku_ov_filial_cliente = LB_View \\\n",
    "    .withColumn(\"pp_x_volume\", col(\"practiced_price_weighted_average\") * col(\"quantity_ton\")) \\\n",
    "    .withColumn(\"ppn_x_volume\", col(\"preco_prat_norm_weighted_average\") * col(\"quantity_ton\")) \\\n",
    "    .groupBy('year', 'month','gpm','gpd_cod','gpd_desc', 'material_desc', 'material_cod','receiving_customer_cod','branch','sales_org_cod') \\\n",
    "    .agg(F.sum(\"quantity_ton\").alias(\"quantity_ton\"), \\\n",
    "         F.sum(\"Quantity_ton_bw\").alias(\"Quantity_ton_bw\"), \\\n",
    "         F.sum(\"rbv\").alias(\"rbv\"), \\\n",
    "         F.sum(\"rlv\").alias(\"rlv\"), \\\n",
    "         F.sum(\"practiced_price_weighted_average\").alias(\"sum_practiced_price\"), \\\n",
    "         F.sum(\"pp_x_volume\").alias(\"sum_pp_x_volume\"), \\\n",
    "         F.sum(\"preco_prat_norm_weighted_average\").alias(\"sum_preco_prat_norm\"), \\\n",
    "         F.sum(\"ppn_x_volume\").alias(\"sum_ppn_x_volume\"), \\\n",
    "         F.sum(\"COGS_TOTAL\").alias(\"COGS_TOTAL\"), \\\n",
    "         F.sum(\"FREIGHT_Full\").alias(\"FREIGHT_Full\"), \\\n",
    "         F.sum(\"GROSS_PROFIT_BW\").alias(\"GROSS_PROFIT_BW\"), \\\n",
    "         F.sum(\"NET_SALES\").alias(\"NET_SALES\")) \\\n",
    "    .withColumn(\"practiced_price_weighted_average\", col(\"sum_practiced_price\") / col(\"sum_pp_x_volume\")) \\\n",
    "    .withColumn(\"preco_prat_norm_weighted_average\", col(\"sum_preco_prat_norm\") / col(\"sum_ppn_x_volume\")) \\\n",
    "    .drop('pp_x_volume', 'ppn_x_volume', 'sum_practiced_price','sum_pp_x_volume','sum_preco_prat_norm','sum_ppn_x_volume')"
   ]
  },
  {
   "cell_type": "markdown",
   "metadata": {},
   "source": [
    "## SKU"
   ]
  },
  {
   "cell_type": "code",
   "execution_count": null,
   "metadata": {},
   "outputs": [],
   "source": [
    "# Group by SKU/OV\n",
    "\n",
    "sku = LB_View \\\n",
    "    .withColumn(\"pp_x_volume\", col(\"practiced_price_weighted_average\") * col(\"quantity_ton\")) \\\n",
    "    .withColumn(\"ppn_x_volume\", col(\"preco_prat_norm_weighted_average\") * col(\"quantity_ton\")) \\\n",
    "    .groupBy('year', 'month','gpm','gpd_cod','gpd_desc', 'material_desc', 'material_cod','sales_org_cod') \\\n",
    "    .agg(F.sum(\"quantity_ton\").alias(\"quantity_ton\"), \\\n",
    "         F.sum(\"Quantity_ton_bw\").alias(\"Quantity_ton_bw\"), \\\n",
    "         F.sum(\"rbv\").alias(\"rbv\"), \\\n",
    "         F.sum(\"rlv\").alias(\"rlv\"), \\\n",
    "         F.sum(\"practiced_price_weighted_average\").alias(\"sum_practiced_price\"), \\\n",
    "         F.sum(\"pp_x_volume\").alias(\"sum_pp_x_volume\"), \\\n",
    "         F.sum(\"preco_prat_norm_weighted_average\").alias(\"sum_preco_prat_norm\"), \\\n",
    "         F.sum(\"ppn_x_volume\").alias(\"sum_ppn_x_volume\"), \\\n",
    "         F.sum(\"COGS_TOTAL\").alias(\"COGS_TOTAL\"), \\\n",
    "         F.sum(\"FREIGHT_Full\").alias(\"FREIGHT_Full\"), \\\n",
    "         F.sum(\"GROSS_PROFIT_BW\").alias(\"GROSS_PROFIT_BW\"), \\\n",
    "         F.sum(\"NET_SALES\").alias(\"NET_SALES\")) \\\n",
    "    .withColumn(\"practiced_price_weighted_average\", col(\"sum_practiced_price\") / col(\"sum_pp_x_volume\")) \\\n",
    "    .withColumn(\"preco_prat_norm_weighted_average\", col(\"sum_preco_prat_norm\") / col(\"sum_ppn_x_volume\")) \\\n",
    "    .drop('pp_x_volume', 'ppn_x_volume', 'sum_practiced_price','sum_pp_x_volume','sum_preco_prat_norm','sum_ppn_x_volume')"
   ]
  },
  {
   "cell_type": "markdown",
   "metadata": {},
   "source": [
    "## OV"
   ]
  },
  {
   "cell_type": "code",
   "execution_count": null,
   "metadata": {},
   "outputs": [],
   "source": [
    "# Group by OV\n",
    "\n",
    "sales_order = LB_View \\\n",
    "    .withColumn(\"pp_x_volume\", col(\"practiced_price_weighted_average\") * col(\"quantity_ton\")) \\\n",
    "    .withColumn(\"ppn_x_volume\", col(\"preco_prat_norm_weighted_average\") * col(\"quantity_ton\")) \\\n",
    "    .groupBy('year', 'month','gpm','gpd_cod','gpd_desc','sales_org_cod') \\\n",
    "    .agg(F.sum(\"quantity_ton\").alias(\"quantity_ton\"), \\\n",
    "         F.sum(\"Quantity_ton_bw\").alias(\"Quantity_ton_bw\"), \\\n",
    "         F.sum(\"rbv\").alias(\"rbv\"), \\\n",
    "         F.sum(\"rlv\").alias(\"rlv\"), \\\n",
    "         F.sum(\"practiced_price_weighted_average\").alias(\"sum_practiced_price\"), \\\n",
    "         F.sum(\"pp_x_volume\").alias(\"sum_pp_x_volume\"), \\\n",
    "         F.sum(\"preco_prat_norm_weighted_average\").alias(\"sum_preco_prat_norm\"), \\\n",
    "         F.sum(\"ppn_x_volume\").alias(\"sum_ppn_x_volume\"), \\\n",
    "         F.sum(\"COGS_TOTAL\").alias(\"COGS_TOTAL\"), \\\n",
    "         F.sum(\"FREIGHT_Full\").alias(\"FREIGHT_Full\"), \\\n",
    "         F.sum(\"GROSS_PROFIT_BW\").alias(\"GROSS_PROFIT_BW\"), \\\n",
    "         F.sum(\"NET_SALES\").alias(\"NET_SALES\")) \\\n",
    "    .withColumn(\"practiced_price_weighted_average\", col(\"sum_practiced_price\") / col(\"sum_pp_x_volume\")) \\\n",
    "    .withColumn(\"preco_prat_norm_weighted_average\", col(\"sum_preco_prat_norm\") / col(\"sum_ppn_x_volume\")) \\\n",
    "    .drop('pp_x_volume', 'ppn_x_volume', 'sum_practiced_price','sum_pp_x_volume','sum_preco_prat_norm','sum_ppn_x_volume')"
   ]
  },
  {
   "cell_type": "markdown",
   "metadata": {},
   "source": [
    "## GPD"
   ]
  },
  {
   "cell_type": "code",
   "execution_count": null,
   "metadata": {},
   "outputs": [],
   "source": [
    "# Group by GPD\n",
    "\n",
    "gpd = LB_View \\\n",
    "    .withColumn(\"pp_x_volume\", col(\"practiced_price_weighted_average\") * col(\"quantity_ton\")) \\\n",
    "    .withColumn(\"ppn_x_volume\", col(\"preco_prat_norm_weighted_average\") * col(\"quantity_ton\")) \\\n",
    "    .groupBy('year', 'month','gpm','gpd_cod','gpd_desc') \\\n",
    "    .agg(F.sum(\"quantity_ton\").alias(\"quantity_ton\"), \\\n",
    "         F.sum(\"Quantity_ton_bw\").alias(\"Quantity_ton_bw\"), \\\n",
    "         F.sum(\"rbv\").alias(\"rbv\"), \\\n",
    "         F.sum(\"rlv\").alias(\"rlv\"), \\\n",
    "         F.sum(\"practiced_price_weighted_average\").alias(\"sum_practiced_price\"), \\\n",
    "         F.sum(\"pp_x_volume\").alias(\"sum_pp_x_volume\"), \\\n",
    "         F.sum(\"preco_prat_norm_weighted_average\").alias(\"sum_preco_prat_norm\"), \\\n",
    "         F.sum(\"ppn_x_volume\").alias(\"sum_ppn_x_volume\"), \\\n",
    "         F.sum(\"COGS_TOTAL\").alias(\"COGS_TOTAL\"), \\\n",
    "         F.sum(\"FREIGHT_Full\").alias(\"FREIGHT_Full\"), \\\n",
    "         F.sum(\"GROSS_PROFIT_BW\").alias(\"GROSS_PROFIT_BW\"), \\\n",
    "         F.sum(\"NET_SALES\").alias(\"NET_SALES\")) \\\n",
    "    .withColumn(\"practiced_price_weighted_average\", col(\"sum_practiced_price\") / col(\"sum_pp_x_volume\")) \\\n",
    "    .withColumn(\"preco_prat_norm_weighted_average\", col(\"sum_preco_prat_norm\") / col(\"sum_ppn_x_volume\")) \\\n",
    "    .drop('pp_x_volume', 'ppn_x_volume', 'sum_practiced_price','sum_pp_x_volume','sum_preco_prat_norm','sum_ppn_x_volume')"
   ]
  },
  {
   "cell_type": "markdown",
   "metadata": {},
   "source": [
    "## SALES FORCE - SKU ESTADO OV"
   ]
  },
  {
   "cell_type": "code",
   "execution_count": null,
   "metadata": {},
   "outputs": [],
   "source": [
    "\n",
    "# Group by MES SKU ESTADO OV\n",
    "\n",
    "view_sf = LB_View \\\n",
    "    .groupBy('month','gpm','gpd_cod','gpd_desc', 'material_desc', 'material_cod','sales_org_cod','issuing_state') \\\n",
    "    .agg(F.sum(\"rlv\").alias(\"rlv\"), \\\n",
    "         F.sum(\"COGS_TOTAL\").alias(\"COGS_TOTAL\"), \\\n",
    "         F.sum(\"GROSS_PROFIT_BW\").alias(\"GROSS_PROFIT_BW\"))    \n",
    "\n"
   ]
  },
  {
   "cell_type": "code",
   "execution_count": null,
   "metadata": {},
   "outputs": [],
   "source": [
    "# cria chave\n",
    "\n",
    "\n",
    "view_sf = view_sf \\\n",
    "    .withColumn('KEY_SF', concat(col('material_cod'), col('material_cod'), lit('_'), col('sales_org_cod'), lit('_'),col('issuing_state')))"
   ]
  },
  {
   "cell_type": "code",
   "execution_count": null,
   "metadata": {},
   "outputs": [],
   "source": [
    "# Filtra meses\n",
    "\n",
    "thiyear = [1, 2, 3, 4, 5, 7, 8, 9]\n",
    "\n",
    "view_sf = view_sf[view_sf.month.isin(thiyear)]\n",
    "\n",
    "lastmonth = [7, 8, 9]\n",
    "\n",
    "df_sf = view_sf[view_sf.month.isin(lastmonth)]"
   ]
  },
  {
   "cell_type": "code",
   "execution_count": null,
   "metadata": {},
   "outputs": [],
   "source": [
    "# Cria as médias 3 \n",
    "\n",
    "grouped = df_sf \\\n",
    "    .groupBy('KEY_SF' ) \\\n",
    "    .agg(F.sum(\"GROSS_PROFIT_BW\").alias(\"GROSS_PROFIT_BWm\"), \\\n",
    "        F.sum(\"COGS_TOTAL\").alias(\"COGS_TOTALm\"), \\\n",
    "        F.sum(\"RLV\").alias(\"RLVm\")) \\\n",
    "    .withColumn(\"avg_gross_profit_last_3\", col(\"GROSS_PROFIT_BWm\") / 3) \\\n",
    "    .withColumn(\"avg_cogs_last_3\", col(\"COGS_TOTALm\") / 3) \\\n",
    "    .withColumn(\"avg_rlv_last_3\", col(\"RLVm\") / 9) \\\n",
    "    .drop('GROSS_PROFIT_BWm', 'COGS_TOTALm', 'RLVm')"
   ]
  },
  {
   "cell_type": "code",
   "execution_count": null,
   "metadata": {},
   "outputs": [],
   "source": [
    "# Cria as médias ano\n",
    "grouped12 = view_sf \\\n",
    "    .groupBy('KEY_SF' ) \\\n",
    "    .agg(F.sum(\"GROSS_PROFIT_BW\").alias(\"GROSS_PROFIT_BWy\"), \\\n",
    "    F.sum(\"COGS_TOTAL\").alias(\"COGS_TOTALy\"),\n",
    "    F.sum(\"RLV\").alias(\"RLVy\")) \\\n",
    "    .withColumn(\"avg_gross_profit_year\", col(\"GROSS_PROFIT_BWy\") / 9) \\\n",
    "    .withColumn(\"avg_cogs_last_year\", col(\"COGS_TOTALy\") / 9) \\\n",
    "    .withColumn(\"avg_rlv_last_year\", col(\"RLVy\") / 9) \\\n",
    "    .drop('GROSS_PROFIT_BWy', 'COGS_TOTALy', 'RLVy')"
   ]
  },
  {
   "cell_type": "code",
   "execution_count": null,
   "metadata": {},
   "outputs": [],
   "source": [
    "# join 3 meses\n",
    "view_sf = view_sf.join(grouped, on=['KEY_SF'], how='left') \n",
    "\n",
    "# join 12 meses\n",
    "\n",
    "view_sf = view_sf.join(grouped12, on=['KEY_SF'], how='left')"
   ]
  },
  {
   "cell_type": "code",
   "execution_count": null,
   "metadata": {
    "scrolled": true
   },
   "outputs": [],
   "source": [
    "# Retira Mes\n",
    "\n",
    "sf_sf = view_sf \\\n",
    "    .groupBy('KEY_SF', 'gpm','gpd_cod','gpd_desc', 'material_desc', 'material_cod','sales_org_cod','issuing_state') \\\n",
    "    .agg(F.sum(\"rlv\").alias(\"rlv\"), \\\n",
    "         F.sum(\"COGS_TOTAL\").alias(\"COGS_TOTAL\"), \\\n",
    "         F.sum(\"GROSS_PROFIT_BW\").alias(\"GROSS_PROFIT_BW\"), \\\n",
    "         F.avg(\"avg_gross_profit_last_3\").alias(\"avg_gross_profit_last_3\"), \\\n",
    "         F.avg(\"avg_cogs_last_3\").alias(\"avg_cogs_last_3\"), \\\n",
    "         F.avg(\"avg_rlv_last_3\").alias(\"avg_rlv_last_3\"), \\\n",
    "         F.avg(\"avg_gross_profit_year\").alias(\"avg_gross_profit_year\"), \\\n",
    "         F.avg(\"avg_cogs_last_year\").alias(\"avg_cogs_last_year\"), \\\n",
    "         F.avg(\"avg_rlv_last_year\").alias(\"avg_rlv_last_year\"))"
   ]
  },
  {
   "cell_type": "code",
   "execution_count": null,
   "metadata": {},
   "outputs": [],
   "source": [
    "for df_name in [df_lb_full,LB_View,sales_order_date,sku,gpd,sales_order,sku_ov_filial_cliente,sf_sf]:\n",
    "    for col_name in df_name.columns:\n",
    "        df_name = df_name.withColumnRenamed(col_name, col_name.upper())\n",
    "    df_name.columns    "
   ]
  },
  {
   "cell_type": "markdown",
   "metadata": {},
   "source": [
    "## Exports"
   ]
  },
  {
   "cell_type": "markdown",
   "metadata": {},
   "source": [
    "# TESTE\n",
    "* Exports Inativados para teste de Output  full rateio LB com cálculo de rateio do custo de expedição"
   ]
  },
  {
   "cell_type": "code",
   "execution_count": null,
   "metadata": {},
   "outputs": [],
   "source": [
    "df_lb_full.write.parquet(\"s3a://\"+SPG_OUTPUT_BUCKET+\"/\"+SPG_OUTPUT_BUCKET_GP_STRATEGIC, mode = \"overwrite\")"
   ]
  },
  {
   "cell_type": "code",
   "execution_count": null,
   "metadata": {},
   "outputs": [],
   "source": [
    "# Export Ordem + Item\n",
    "\n",
    "LB_View.write.parquet(\"s3a://\"+SPG_OUTPUT_BUCKET+\"/\"+SPG_OUTPUT_BUCKET_GP_ORDER_ITEM, mode = \"overwrite\")"
   ]
  },
  {
   "cell_type": "code",
   "execution_count": null,
   "metadata": {},
   "outputs": [],
   "source": [
    "# Export Sales Order Date\n",
    "\n",
    "sales_order_date.write.parquet(\"s3a://\"+SPG_OUTPUT_BUCKET+\"/\"+SPG_OUTPUT_BUCKET_GP_SALES_DATE, mode = \"overwrite\")"
   ]
  },
  {
   "cell_type": "code",
   "execution_count": null,
   "metadata": {
    "scrolled": true
   },
   "outputs": [],
   "source": [
    "# Export SKU\n",
    "\n",
    "sku.write.parquet(\"s3a://\"+SPG_OUTPUT_BUCKET+\"/\"+SPG_OUTPUT_BUCKET_GP_SKU, mode = \"overwrite\")"
   ]
  },
  {
   "cell_type": "code",
   "execution_count": null,
   "metadata": {},
   "outputs": [],
   "source": [
    "# Export GPD\n",
    "\n",
    "gpd.write.parquet(\"s3a://\"+SPG_OUTPUT_BUCKET+\"/\"+SPG_OUTPUT_BUCKET_GP_GPD, mode = \"overwrite\")"
   ]
  },
  {
   "cell_type": "code",
   "execution_count": null,
   "metadata": {},
   "outputs": [],
   "source": [
    "# Export OV\n",
    "\n",
    "sales_order.write.parquet(\"s3a://\"+SPG_OUTPUT_BUCKET+\"/\"+SPG_OUTPUT_BUCKET_GP_OV, mode = \"overwrite\")"
   ]
  },
  {
   "cell_type": "code",
   "execution_count": null,
   "metadata": {},
   "outputs": [],
   "source": [
    "# Export sku_ov_filial_cliente\n",
    "\n",
    "sku_ov_filial_cliente.write.parquet(\"s3a://\"+SPG_OUTPUT_BUCKET+\"/\"+SPG_OUTPUT_BUCKET_GP_SOFC, mode = \"overwrite\")"
   ]
  },
  {
   "cell_type": "code",
   "execution_count": null,
   "metadata": {
    "scrolled": false
   },
   "outputs": [],
   "source": [
    "# Export Sales Force\n",
    "\n",
    "sf_sf.repartition(1).write.option(\"header\", \"true\").option(\"sep\", \";\")\\\n",
    "     .option(\"encoding\", \"Unicode\").csv(\"s3a://\"+SPG_OUTPUT_BUCKET+\"/\"+SPG_OUTPUT_BUCKET_GP_SF, mode = \"overwrite\")"
   ]
  }
 ],
 "metadata": {
  "kernelspec": {
   "display_name": "Python 3",
   "language": "python",
   "name": "python3"
  },
  "language_info": {
   "codemirror_mode": {
    "name": "ipython",
    "version": 3
   },
   "file_extension": ".py",
   "mimetype": "text/x-python",
   "name": "python",
   "nbconvert_exporter": "python",
   "pygments_lexer": "ipython3",
   "version": "3.7.0"
  }
 },
 "nbformat": 4,
 "nbformat_minor": 4
}
