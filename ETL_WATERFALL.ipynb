{
 "cells": [
  {
   "cell_type": "markdown",
   "metadata": {},
   "source": [
    "# INITIAL CONF"
   ]
  },
  {
   "cell_type": "code",
   "execution_count": 101,
   "metadata": {
    "scrolled": true
   },
   "outputs": [
    {
     "data": {
      "application/vnd.jupyter.widget-view+json": {
       "model_id": "67029b807a5f45869b9c2095a9242c51",
       "version_major": 2,
       "version_minor": 0
      },
      "text/plain": [
       "VBox()"
      ]
     },
     "metadata": {},
     "output_type": "display_data"
    },
    {
     "data": {
      "application/vnd.jupyter.widget-view+json": {
       "model_id": "",
       "version_major": 2,
       "version_minor": 0
      },
      "text/plain": [
       "FloatProgress(value=0.0, bar_style='info', description='Progress:', layout=Layout(height='25px', width='50%'),…"
      ]
     },
     "metadata": {},
     "output_type": "display_data"
    }
   ],
   "source": [
    "#maxizeallresources\n",
    "import findspark                                              #Import library to Search for Spark Installation\n",
    "\n",
    "findspark.init()                                              #Search Spark Installation\n",
    "\n",
    "import pyspark                                                #Only run after findspark.init()\n",
    "\n",
    "from pyspark.sql import SparkSession                          #Import of Spark Session\n",
    "from pyspark import SparkContext as spark                     #Import the Regular Spark Contex\n",
    "from pyspark.sql import SQLContext                            #Import the SQL Spark Contex\n",
    "from pyspark.sql.functions import *                           #Import the SQL Spark Functions\n",
    "from pyspark.sql.types import *                               #Import the SQL Spark Variables Types\n",
    "spark = SparkSession.builder.getOrCreate()                   #Creating Spark Session\n",
    "\n",
    "import os\n",
    "\n",
    "from datetime import date                                     # Import date methoed\n",
    "month_ref = date.today().month                                # Creating Current Month Variable\n",
    "year_ref = date.today().year                                  # Creating Current Year Variable\n",
    "\n",
    "sc = spark.sparkContext                                      #Initialize Spark Session / FRED"
   ]
  },
  {
   "cell_type": "markdown",
   "metadata": {},
   "source": [
    "# Creating Variables"
   ]
  },
  {
   "cell_type": "markdown",
   "metadata": {},
   "source": [
    "## Buckets"
   ]
  },
  {
   "cell_type": "code",
   "execution_count": null,
   "metadata": {},
   "outputs": [],
   "source": [
    "SPG_INTEGRATION_INPUT_BUCKET = os.environ['INTEGRATION_INPUT_BUCKET']"
   ]
  },
  {
   "cell_type": "code",
   "execution_count": null,
   "metadata": {},
   "outputs": [],
   "source": [
    "SPG_OUTPUT_BUCKET = os.environ['OUTPUT_BUCKET']"
   ]
  },
  {
   "cell_type": "markdown",
   "metadata": {},
   "source": [
    "## Input Paths"
   ]
  },
  {
   "cell_type": "code",
   "execution_count": null,
   "metadata": {},
   "outputs": [],
   "source": [
    "SPG_INTEGRATION_HANA_INPUT_PATH = \"SPG_FACTS/SPG_HANA/SPG_HANA.parquet\""
   ]
  },
  {
   "cell_type": "code",
   "execution_count": null,
   "metadata": {},
   "outputs": [],
   "source": [
    "SPG_INTEGRATION_BRANCH_INPUT_PATH = \"SPG_GLOBAL/INPUT/tb_SPG_SUPPORT_CIDADE_FILIAL.csv\""
   ]
  },
  {
   "cell_type": "code",
   "execution_count": null,
   "metadata": {},
   "outputs": [],
   "source": [
    "SPG_INTEGRATION_REGIONS_INPUT_PATH = \"SPG_DIMENSIONS/SPG_REGIOES/SPG_RG_REGIOES/SPG_RG_REGIOES.parquet\""
   ]
  },
  {
   "cell_type": "code",
   "execution_count": null,
   "metadata": {},
   "outputs": [],
   "source": [
    "SPG_INTEGRATION_PRODUCTS_INPUT_PATH = \"SPG_DIMENSIONS/SPG_PRODUTOS/SPG_PD_PRODUTOS.parquet\""
   ]
  },
  {
   "cell_type": "code",
   "execution_count": null,
   "metadata": {},
   "outputs": [],
   "source": [
    "SPG_INTEGRATION_GROSS_PROFIT_INPUT_PATH = \"SPG_LB/LB_OrdemItem\""
   ]
  },
  {
   "cell_type": "markdown",
   "metadata": {},
   "source": [
    "## Output Path"
   ]
  },
  {
   "cell_type": "code",
   "execution_count": null,
   "metadata": {},
   "outputs": [],
   "source": [
    "SPG_OUTPUT_BUCKET_WATERFALL_OUTPUT_PATH = \"SPG_WATERFALL/OUTPUT_ETL/watefall_parquet.parquet\""
   ]
  },
  {
   "cell_type": "markdown",
   "metadata": {},
   "source": [
    "# DEFINED FUNCTIONS"
   ]
  },
  {
   "cell_type": "code",
   "execution_count": 102,
   "metadata": {},
   "outputs": [
    {
     "data": {
      "application/vnd.jupyter.widget-view+json": {
       "model_id": "2c018383380749fca317d0db55e3ebbb",
       "version_major": 2,
       "version_minor": 0
      },
      "text/plain": [
       "VBox()"
      ]
     },
     "metadata": {},
     "output_type": "display_data"
    },
    {
     "data": {
      "application/vnd.jupyter.widget-view+json": {
       "model_id": "",
       "version_major": 2,
       "version_minor": 0
      },
      "text/plain": [
       "FloatProgress(value=0.0, bar_style='info', description='Progress:', layout=Layout(height='25px', width='50%'),…"
      ]
     },
     "metadata": {},
     "output_type": "display_data"
    }
   ],
   "source": [
    "def remove_some_hifen(col_name):\n",
    "    removed_chars = (\"-\")\n",
    "    regexp = \"|\".join('\\{0}'.format(i) for i in removed_chars)\n",
    "    return regexp_replace(col_name, regexp, \"/\")"
   ]
  },
  {
   "cell_type": "code",
   "execution_count": 103,
   "metadata": {},
   "outputs": [
    {
     "data": {
      "application/vnd.jupyter.widget-view+json": {
       "model_id": "5777d46853a046b4aed6a39dcc2b7f16",
       "version_major": 2,
       "version_minor": 0
      },
      "text/plain": [
       "VBox()"
      ]
     },
     "metadata": {},
     "output_type": "display_data"
    },
    {
     "data": {
      "application/vnd.jupyter.widget-view+json": {
       "model_id": "",
       "version_major": 2,
       "version_minor": 0
      },
      "text/plain": [
       "FloatProgress(value=0.0, bar_style='info', description='Progress:', layout=Layout(height='25px', width='50%'),…"
      ]
     },
     "metadata": {},
     "output_type": "display_data"
    }
   ],
   "source": [
    "def normalizing_orthography(col_name):\n",
    "    removed_array = [('Á', 'A'), ('Ã', 'A'),('À', 'A'),('Â', 'A'),('Ä', 'A'),\n",
    "                    ('É', 'E'),('È', 'E'),('Ê', 'E'),('Ë', 'E'),\n",
    "                    ('Í', 'I'),('Ì', 'I'),('Î', 'I'),('Ï', 'I'),\n",
    "                    ('Ó', 'O'),('Õ', 'O'), ('Ò', 'O'),('Ô', 'O'),('Ö', 'O'),\n",
    "                    ('Ú', 'U'),('Ù', 'U'),('Û', 'U'),('Ü', 'U'),\n",
    "                    ('Ç', 'C'),('`', ''),(\"'\", ''),('-', ''),('/', ''),(' ', '')]\n",
    "    r = col_name\n",
    "    for a, b in removed_array:\n",
    "        r = regexp_replace(r, a, b)\n",
    "    return r"
   ]
  },
  {
   "cell_type": "markdown",
   "metadata": {},
   "source": [
    "# INPUTS"
   ]
  },
  {
   "cell_type": "markdown",
   "metadata": {},
   "source": [
    "### Importing Tables"
   ]
  },
  {
   "cell_type": "code",
   "execution_count": null,
   "metadata": {},
   "outputs": [],
   "source": [
    "df_hana_input = spark.read.parquet(\"s3a://\"+SPG_INTEGRATION_INPUT_BUCKET+\"/\"+SPG_INTEGRATION_HANA_INPUT_PATH)"
   ]
  },
  {
   "cell_type": "code",
   "execution_count": null,
   "metadata": {},
   "outputs": [],
   "source": [
    "df_regions_input = spark.read.parquet(\"s3a://\"+SPG_INTEGRATION_INPUT_BUCKET+\"/\"+SPG_INTEGRATION_REGIONS_INPUT_PATH)"
   ]
  },
  {
   "cell_type": "code",
   "execution_count": null,
   "metadata": {},
   "outputs": [],
   "source": [
    "df_products_input = spark.read.parquet(\"s3a://\"+SPG_INTEGRATION_INPUT_BUCKET+\"/\"+SPG_INTEGRATION_PRODUCTS_INPUT_PATH)"
   ]
  },
  {
   "cell_type": "code",
   "execution_count": null,
   "metadata": {},
   "outputs": [],
   "source": [
    "df_gross_profit_input = spark.read.parquet(\"s3a://\"+SPG_INTEGRATION_INPUT_BUCKET+\"/\"+SPG_INTEGRATION_GROSS_PROFIT_INPUT_PATH)"
   ]
  },
  {
   "cell_type": "markdown",
   "metadata": {},
   "source": [
    "# Processing Tables"
   ]
  },
  {
   "cell_type": "markdown",
   "metadata": {},
   "source": [
    "## Hana"
   ]
  },
  {
   "cell_type": "markdown",
   "metadata": {},
   "source": [
    "### apply temporary filters"
   ]
  },
  {
   "cell_type": "code",
   "execution_count": 105,
   "metadata": {},
   "outputs": [
    {
     "data": {
      "application/vnd.jupyter.widget-view+json": {
       "model_id": "499026a9a3df4d3d934aa19b6c545c93",
       "version_major": 2,
       "version_minor": 0
      },
      "text/plain": [
       "VBox()"
      ]
     },
     "metadata": {},
     "output_type": "display_data"
    },
    {
     "data": {
      "application/vnd.jupyter.widget-view+json": {
       "model_id": "",
       "version_major": 2,
       "version_minor": 0
      },
      "text/plain": [
       "FloatProgress(value=0.0, bar_style='info', description='Progress:', layout=Layout(height='25px', width='50%'),…"
      ]
     },
     "metadata": {},
     "output_type": "display_data"
    }
   ],
   "source": [
    "# Filter the Sales Organizations within Smart Pricing scope\n",
    "df_hana_input = df_hana_input.filter(df_hana_input.SalesOrg.like('%BRIN%') |\n",
    "                       df_hana_input.SalesOrg.like('%BRIO%') |\n",
    "                       df_hana_input.SalesOrg.like('%BRDI%') |\n",
    "                       df_hana_input.SalesOrg.like('%BRDO%') |\n",
    "                       df_hana_input.SalesOrg.like('%BRCC%') |\n",
    "                       df_hana_input.SalesOrg.like('%BRCO%') |\n",
    "                       df_hana_input.SalesOrg.like('%BRCG%') |\n",
    "                       df_hana_input.SalesOrg.like('%BRGO%'))\\\n",
    "               .filter(df_hana_input.BillingType.like('%ZF2B%'))"
   ]
  },
  {
   "cell_type": "code",
   "execution_count": 106,
   "metadata": {},
   "outputs": [
    {
     "data": {
      "application/vnd.jupyter.widget-view+json": {
       "model_id": "576099ce971749bf9467d165ffdb53fb",
       "version_major": 2,
       "version_minor": 0
      },
      "text/plain": [
       "VBox()"
      ]
     },
     "metadata": {},
     "output_type": "display_data"
    },
    {
     "data": {
      "application/vnd.jupyter.widget-view+json": {
       "model_id": "",
       "version_major": 2,
       "version_minor": 0
      },
      "text/plain": [
       "FloatProgress(value=0.0, bar_style='info', description='Progress:', layout=Layout(height='25px', width='50%'),…"
      ]
     },
     "metadata": {},
     "output_type": "display_data"
    }
   ],
   "source": [
    "# Import the last six months registers\n",
    "df_hana_input = df_hana_input.filter(df_hana_input['BILDOCDATE']>=add_months(trunc(current_date(),\"month\"), -6))\\\n",
    "                       .filter(df_hana_input['BILDOCDATE']<add_months(trunc(current_date(),\"month\"), 1))\\"
   ]
  },
  {
   "cell_type": "code",
   "execution_count": 107,
   "metadata": {},
   "outputs": [
    {
     "data": {
      "application/vnd.jupyter.widget-view+json": {
       "model_id": "3f9623f06a444b8a9e8ceab96bbf0cc1",
       "version_major": 2,
       "version_minor": 0
      },
      "text/plain": [
       "VBox()"
      ]
     },
     "metadata": {},
     "output_type": "display_data"
    },
    {
     "data": {
      "application/vnd.jupyter.widget-view+json": {
       "model_id": "",
       "version_major": 2,
       "version_minor": 0
      },
      "text/plain": [
       "FloatProgress(value=0.0, bar_style='info', description='Progress:', layout=Layout(height='25px', width='50%'),…"
      ]
     },
     "metadata": {},
     "output_type": "display_data"
    }
   ],
   "source": [
    "#selecting specifics GPD's (business call)\n",
    "df_hana_input = df_hana_input.filter(df_hana_input.GPDName.like('%BR-PERFIS ESTRUTURAIS%') |\n",
    "                        df_hana_input.GPDName.like('%BR-CA50%') |\n",
    "                        df_hana_input.GPDName.like('%BR-CA60%') |\n",
    "                        df_hana_input.GPDName.like('%BR-RECOZIDO%') |\n",
    "                        df_hana_input.GPDName.like('%BR-TEL TUBO%') |\n",
    "                        df_hana_input.GPDName.like('%BR-TELA P/ CONCRETO%') |\n",
    "                        df_hana_input.GPDName.like('%BR-CORTE E DOBR%') |\n",
    "                        df_hana_input.GPDName.like('%BR-CONSTRUCAO CIVIL%') |\n",
    "                        df_hana_input.GPDName.like('%BR-CA25%') |\n",
    "                        df_hana_input.GPDName.like('%BR-PERFIS COMERCIAIS%') |\n",
    "                        df_hana_input.GPDName.like('%BR-BTG%') |\n",
    "                        df_hana_input.GPDName.like('%BR-MALHA POP%') |\n",
    "                        df_hana_input.GPDName.like('%BR-TELA COLUNA%') |\n",
    "                        df_hana_input.GPDName.like('%BR-TRELIÇA%') |\n",
    "                        df_hana_input.GPDName.like('%BR-B.TREFILADA%') |\n",
    "                        df_hana_input.GPDName.like('%BR-OVALADO%') |\n",
    "                        df_hana_input.GPDName.like('%BR-GALVANIZADO%') |\n",
    "                        df_hana_input.GPDName.like('%BR-BARRAS COMERCIAIS%') |\n",
    "                        df_hana_input.GPDName.like('%BR-CAIXOTARIA%') |\n",
    "                        df_hana_input.GPDName.like('%BR-ARTEFATOS%') |\n",
    "                        df_hana_input.GPDName.like('%BR-FARPADO%') |\n",
    "                        df_hana_input.GPDName.like('%BR-ELETRODO%') |\n",
    "                        df_hana_input.GPDName.like('%BR-SOLDA - MIG%') |\n",
    "                        df_hana_input.GPDName.like('%BR-CANTON A572%') |\n",
    "                        df_hana_input.GPDName.like('%BR-GGS%') |\n",
    "                        df_hana_input.GPDName.like('%BR-ARMADO%') |\n",
    "                        df_hana_input.GPDName.like('%BR-CORDOALHA%') |\n",
    "                        df_hana_input.GPDName.like('%BR-ESTACA PRANCHA%') |\n",
    "                        df_hana_input.GPDName.like('%BR-ARAME PREGO%') |\n",
    "                        df_hana_input.GPDName.like('%BR-CABEÇA DUPLA%') |\n",
    "                        df_hana_input.GPDName.like('%BR-CORDOALHA AGRO%') |\n",
    "                        df_hana_input.GPDName.like('%BR-GRAMPO%') |\n",
    "                        df_hana_input.GPDName.like('%BR-COBREADOS%') |\n",
    "                        df_hana_input.GPDName.like('%BR-CHAPA LQ%') |\n",
    "                        df_hana_input.GPDName.like('%BR-UDC%') |\n",
    "                        df_hana_input.GPDName.like('%BR-CHAPA ZN%') |\n",
    "                        df_hana_input.GPDName.like('%BR-TELHA AZ%') |\n",
    "                        df_hana_input.GPDName.like('%BR-TUBO ZN%') |\n",
    "                        df_hana_input.GPDName.like('%BR-MARCENARIA%') |\n",
    "                        df_hana_input.GPDName.like('%BR-PREGOES%') |\n",
    "                        df_hana_input.GPDName.like('%BR-TELHEIRO%') |\n",
    "                        df_hana_input.GPDName.like('%BR-COLUNA%') |\n",
    "                        df_hana_input.GPDName.like('%BR-ESTRIBO%') |\n",
    "                        df_hana_input.GPDName.like('%BR-ACESSORIOS%') |\n",
    "                        df_hana_input.GPDName.like('%BR-CHAPA LCG%') |\n",
    "                        df_hana_input.GPDName.like('%BR-CHAPA LF%') |\n",
    "                        df_hana_input.GPDName.like('%BR-TUBO LF%') |\n",
    "                        df_hana_input.GPDName.like('%BR-CHAPA LQ PISO%') |\n",
    "                        df_hana_input.GPDName.like('%BR-BOBININHA%') |\n",
    "                        df_hana_input.GPDName.like('%BR-ESPECIAIS%') |\n",
    "                        df_hana_input.GPDName.like('%BR-BOBINA LQ%') |\n",
    "                        df_hana_input.GPDName.like('%BR-FITA LQ%') |\n",
    "                        df_hana_input.GPDName.like('%BR-BOBINA AZ%') |\n",
    "                        df_hana_input.GPDName.like('%BR-AÇOS ESPECIAIS%') |\n",
    "                        df_hana_input.GPDName.like('%BR-PARAFUSOS%') |\n",
    "                        df_hana_input.GPDName.like('%BR-CIMENTO%') |\n",
    "                        df_hana_input.GPDName.like('%BR-TUBO LQ%') |\n",
    "                        df_hana_input.GPDName.like('%BR-TELHA ZN%') |\n",
    "                        df_hana_input.GPDName.like('%BR-BTC GLV CP%') |\n",
    "                        df_hana_input.GPDName.like('%BR-BOBINA ZN%') |\n",
    "                        df_hana_input.GPDName.like('%BR-S-BARRA LAMINADA MÉDIA%') |\n",
    "                        df_hana_input.GPDName.like('%BR-S-BARRA LAMINADA PESADA%') |\n",
    "                        df_hana_input.GPDName.like('%BR-FITA LF%') |\n",
    "                        df_hana_input.GPDName.like('%BR-FITA AZ%') |\n",
    "                        df_hana_input.GPDName.like('%BR-S-BARRA LAMINADA LEVE%') |\n",
    "                        df_hana_input.GPDName.like('%BR-ALAMBRADO%') |\n",
    "                        df_hana_input.GPDName.like('%BR-SAPATA%') |\n",
    "                        df_hana_input.GPDName.like('%BR-MOURÃO%') |\n",
    "                        df_hana_input.GPDName.like('%BR-ATC CLARO IND%') |\n",
    "                        df_hana_input.GPDName.like('%BR-POLIDO%') |\n",
    "                        df_hana_input.GPDName.like('%BR-PERFIL BENEFICIADO%') |\n",
    "                        df_hana_input.GPDName.like('%BR-BOBINA LF%') |\n",
    "                        df_hana_input.GPDName.like('%BR-S-BARRA CTT%') |\n",
    "                        df_hana_input.GPDName.like('%BR-CHAPA AZ%') |\n",
    "                        df_hana_input.GPDName.like('%BR-FITA ZN%') |\n",
    "                        df_hana_input.GPDName.like('%BR-LDA%') |\n",
    "                        df_hana_input.GPDName.like('%BR-PIATINA CLARA%') |\n",
    "                        df_hana_input.GPDName.like('%BR-S-BARRA DESCASCADA%') |\n",
    "                        df_hana_input.GPDName.like('%BR-MESH%') |\n",
    "                        df_hana_input.GPDName.like('%BR-S-BARRA FORJADA FINA%') |\n",
    "                        df_hana_input.GPDName.like('%BR-S-BARRA RETIFICADA%') |\n",
    "                        df_hana_input.GPDName.like('%BR-S-BARRA TREFILADA%') |\n",
    "                        df_hana_input.GPDName.like('%BR-PLACA%') |\n",
    "                        df_hana_input.GPDName.like('%BR-COIL%') |\n",
    "                        df_hana_input.GPDName.like('%BR-S-FERRAMENTA%') |\n",
    "                        df_hana_input.GPDName.like('%BR-S-FIO MÁQUINA STT%') |\n",
    "                        df_hana_input.GPDName.like('%BR-ATC CLARO MOL COL%') |\n",
    "                        df_hana_input.GPDName.like('%BR-ATC GLV CP%') |\n",
    "                        df_hana_input.GPDName.like('%BR-B.CHATA LONGARINA%') |\n",
    "                        df_hana_input.GPDName.like('%BR-BT FORJARIA BLOCOS%') |\n",
    "                        df_hana_input.GPDName.like('%BR-TARUGO%') |\n",
    "                        df_hana_input.GPDName.like('%BR-DRAWING%') |\n",
    "                        df_hana_input.GPDName.like('%BR-ATC CLARO ENF ALG%') |\n",
    "                        df_hana_input.GPDName.like('%BR-PIATINA GLV%') |\n",
    "                        df_hana_input.GPDName.like('%BR-PERFIL DORMENTE%') |\n",
    "                        df_hana_input.GPDName.like('%BR-ATC%') |\n",
    "                        df_hana_input.GPDName.like('%BR-CHQ%') |\n",
    "                        df_hana_input.GPDName.like('%BR-ALMA DE ELETRODO%') |\n",
    "                        df_hana_input.GPDName.like('%BR-FIO MAQUINA%') |\n",
    "                        df_hana_input.GPDName.like('%BR-CHQ BORO%') |\n",
    "                        df_hana_input.GPDName.like('%BR-PERFIL GUIA ELEV%'))"
   ]
  },
  {
   "cell_type": "code",
   "execution_count": 108,
   "metadata": {},
   "outputs": [
    {
     "data": {
      "application/vnd.jupyter.widget-view+json": {
       "model_id": "09f39ef099a045e18e08297c572cb74d",
       "version_major": 2,
       "version_minor": 0
      },
      "text/plain": [
       "VBox()"
      ]
     },
     "metadata": {},
     "output_type": "display_data"
    },
    {
     "data": {
      "application/vnd.jupyter.widget-view+json": {
       "model_id": "",
       "version_major": 2,
       "version_minor": 0
      },
      "text/plain": [
       "FloatProgress(value=0.0, bar_style='info', description='Progress:', layout=Layout(height='25px', width='50%'),…"
      ]
     },
     "metadata": {},
     "output_type": "display_data"
    }
   ],
   "source": [
    "#selecting specific GPM\n",
    "df_hana_input = df_hana_input.filter(df_hana_input.GPM.like('%PERFIS_ESTRUTURAIS%') |\n",
    "                                     df_hana_input.GPM.like('%VERGALHAO%') |\n",
    "                                     df_hana_input.GPM.like('%AMPLIADOS%') |\n",
    "                                     df_hana_input.GPM.like('%CORTE_DOBRA%') |\n",
    "                                     df_hana_input.GPM.like('%PREGOS%') |\n",
    "                                     df_hana_input.GPM.like('%B&P%') |\n",
    "                                     df_hana_input.GPM.like('%ARAMES_AGRO%') |\n",
    "                                     df_hana_input.GPM.like('%ARAMES_IND%') |\n",
    "                                     df_hana_input.GPM.like('%PLANOS_LQ%') |\n",
    "                                     df_hana_input.GPM.like('%PLANOS_REVESTIDOS%') |\n",
    "                                     df_hana_input.GPM.like('%PLANOS_LF%') |\n",
    "                                     df_hana_input.GPM.like('%PLANOS_LCG%') |\n",
    "                                     df_hana_input.GPM.like('%FIO_MAQUINA%') |\n",
    "                                     df_hana_input.GPM.like('%BT_FORJARIA%') |\n",
    "                                     df_hana_input.GPM.like('%PLACAS%') |\n",
    "                                     df_hana_input.GPM.like('%TARUGO%') | \n",
    "                                     df_hana_input.GPM.isNull())"
   ]
  },
  {
   "cell_type": "code",
   "execution_count": 109,
   "metadata": {},
   "outputs": [
    {
     "data": {
      "application/vnd.jupyter.widget-view+json": {
       "model_id": "81b6a0dc676d4b798ad7733b1de2fb10",
       "version_major": 2,
       "version_minor": 0
      },
      "text/plain": [
       "VBox()"
      ]
     },
     "metadata": {},
     "output_type": "display_data"
    },
    {
     "data": {
      "application/vnd.jupyter.widget-view+json": {
       "model_id": "",
       "version_major": 2,
       "version_minor": 0
      },
      "text/plain": [
       "FloatProgress(value=0.0, bar_style='info', description='Progress:', layout=Layout(height='25px', width='50%'),…"
      ]
     },
     "metadata": {},
     "output_type": "display_data"
    }
   ],
   "source": [
    "# Selecting Necessary Columns\n",
    "df_hana_input=df_hana_input.select(df_hana_input.SoldToCustomer.alias(\"CLIENTE_COD\")\n",
    "                                  ,df_hana_input.SoldToCustomerName.alias(\"CLIENTE_DESC\")\n",
    "                                  ,df_hana_input.CorporateGroupName.alias(\"CLIENT_GROUP_DESC\")\n",
    "                                  ,df_hana_input.BILDOCDATE.alias(\"BILLING_DATE\")\n",
    "                                  ,df_hana_input.SalesDocNumber.alias(\"SALES_DOC_COD\")\n",
    "                                  ,df_hana_input.SalesDocItem.alias(\"SALES_DOC_ITEM_COD\")\n",
    "                                  ,df_hana_input.SalesOrg.alias(\"SALES_ORG_COD\")\n",
    "                                  ,df_hana_input.SoldToCity.alias(\"ISSUING_CITY\")\n",
    "                                  ,df_hana_input.SoldToState.alias(\"ISSUING_STATE\")\n",
    "                                  ,df_hana_input.GPD.alias(\"GPD_COD\")\n",
    "                                  ,df_hana_input.GPM.alias(\"GPM_DESC\")\n",
    "                                  ,df_hana_input.GPDName.alias(\"GPD_DESC\")\n",
    "                                  ,df_hana_input.Material.alias(\"MATERIAL_COD\")\n",
    "                                  ,df_hana_input.MaterialName.alias(\"MATERIAL_DESC\")\n",
    "                                  ,df_hana_input.MA_BillingQuantity_P.alias(\"QUANTITY_TON\")\n",
    "                                  ,df_hana_input.DA_CM_CD_ZD05_D.alias(\"ZD05\")\n",
    "                                  ,df_hana_input.IM_CM_CD_ICMS_D.alias(\"ICMS\")\n",
    "                                  ,df_hana_input.IM_CM_CD_PIS_D.alias(\"PIS\")\n",
    "                                  ,df_hana_input.AA_CM_CD_ZEAF_D.alias(\"ZEAF\")\n",
    "                                  ,df_hana_input.MA_CM_CD_BX41_D.alias(\"BX41\")\n",
    "                                  ,df_hana_input.MA_CM_RBV_D.alias(\"RBV\")\n",
    "                                  ,df_hana_input.MA_CM_RLV_D.alias(\"RLV\")\n",
    "                                  ,df_hana_input.MA_CM_PRECOBASE_ALCADA_P.alias(\"VERGE_INITIAL_PRICE\")                       \n",
    "                                  ,df_hana_input.DA_CM_CD_ZD01_D.alias(\"ZD01\")\n",
    "                                  ,df_hana_input.DA_CM_CD_ZD02_D.alias(\"ZD02\")\n",
    "                                  ,df_hana_input.DA_CM_CD_ZD03_D.alias(\"ZD03\")\n",
    "                                  ,df_hana_input.DA_CM_CD_ZD04_D.alias(\"ZD04\")                       \n",
    "                                  ,df_hana_input.DA_CM_CD_ZD06_D.alias(\"ZD06\")\n",
    "                                  ,df_hana_input.DM_CM_CD_ZD13_D.alias(\"ZD13\")\n",
    "                                  ,df_hana_input.MA_CM_PRECOLISTA_D.alias(\"LIST_PRICE\")\n",
    "                                  ,df_hana_input.AA_CM_CD_ZEB1_D.alias(\"ZEB1\")\n",
    "                                  ,df_hana_input.AA_CM_CD_ZEB2_D.alias(\"ZEB2\")\n",
    "                                  ,df_hana_input.AM_CM_CD_ZSU2_D.alias(\"ZSU2\")\n",
    "                                  ,df_hana_input.IM_CM_CD_COFINS_D.alias(\"COFINS\")\n",
    "                                  ,df_hana_input.MA_CM_CD_IPI_D.alias(\"IPI\")\n",
    "                                  ,df_hana_input.DM_CM_CD_ZD14_D.alias(\"ZD14\")\n",
    "                                  ,df_hana_input.IM_OUTROS_D.alias(\"OTHER_TAXES\")\n",
    "                                  ,df_hana_input.IM_CM_CD_BX95_D.alias(\"BX95\"))\\\n",
    ".dropDuplicates()"
   ]
  },
  {
   "cell_type": "code",
   "execution_count": 110,
   "metadata": {},
   "outputs": [
    {
     "data": {
      "application/vnd.jupyter.widget-view+json": {
       "model_id": "ef0bdc0217fa4e878116bda05bbd87ae",
       "version_major": 2,
       "version_minor": 0
      },
      "text/plain": [
       "VBox()"
      ]
     },
     "metadata": {},
     "output_type": "display_data"
    },
    {
     "data": {
      "application/vnd.jupyter.widget-view+json": {
       "model_id": "",
       "version_major": 2,
       "version_minor": 0
      },
      "text/plain": [
       "FloatProgress(value=0.0, bar_style='info', description='Progress:', layout=Layout(height='25px', width='50%'),…"
      ]
     },
     "metadata": {},
     "output_type": "display_data"
    }
   ],
   "source": [
    "# Create CLIENT_GROUP_DESC column\n",
    "df_hana_input=df_hana_input.withColumn(\"CLIENT_GROUP_DESC\", when(df_hana_input.CLIENT_GROUP_DESC.isNull()|\n",
    "                                                                 df_hana_input.CLIENT_GROUP_DESC.like(\"GRUPO DE RENTABILIDADE GENÉRICO\")\n",
    "                                                                 ,col(\"CLIENTE_DESC\")).otherwise(col(\"CLIENT_GROUP_DESC\")))\\"
   ]
  },
  {
   "cell_type": "code",
   "execution_count": 111,
   "metadata": {},
   "outputs": [
    {
     "data": {
      "application/vnd.jupyter.widget-view+json": {
       "model_id": "c9f6bcf6438e42cd992df7d7c435cf3b",
       "version_major": 2,
       "version_minor": 0
      },
      "text/plain": [
       "VBox()"
      ]
     },
     "metadata": {},
     "output_type": "display_data"
    },
    {
     "data": {
      "application/vnd.jupyter.widget-view+json": {
       "model_id": "",
       "version_major": 2,
       "version_minor": 0
      },
      "text/plain": [
       "FloatProgress(value=0.0, bar_style='info', description='Progress:', layout=Layout(height='25px', width='50%'),…"
      ]
     },
     "metadata": {},
     "output_type": "display_data"
    }
   ],
   "source": [
    "for col_name in [\"ZD05\"\n",
    "                 ,\"ZEAF\"\n",
    "                 ,\"ZD04\"\n",
    "                 ,\"ZD01\"\n",
    "                 ,\"ZD02\"\n",
    "                 ,\"ZD03\"\n",
    "                 ,\"ZEB2\"\n",
    "                 ,\"ZEB1\"\n",
    "                 ,\"BX41\"\n",
    "                 ,\"ICMS\"\n",
    "                 ,\"COFINS\"\n",
    "                 ,\"PIS\"\n",
    "                 ,\"IPI\"\n",
    "                 ,\"ZD06\"\n",
    "                 ,\"ZD13\"\n",
    "                 ,\"ZD14\"\n",
    "                 ,\"RBV\"\n",
    "                 ,\"ZSU2\"\n",
    "                 ,\"LIST_PRICE\"\n",
    "                 ,\"QUANTITY_TON\"\n",
    "                 ,\"VERGE_INITIAL_PRICE\"]:\n",
    "    df_hana_input = df_hana_input.withColumn(col_name, col(col_name).cast('float'))"
   ]
  },
  {
   "cell_type": "code",
   "execution_count": 112,
   "metadata": {},
   "outputs": [
    {
     "data": {
      "application/vnd.jupyter.widget-view+json": {
       "model_id": "31507fdf21c5422786aafb405151f88c",
       "version_major": 2,
       "version_minor": 0
      },
      "text/plain": [
       "VBox()"
      ]
     },
     "metadata": {},
     "output_type": "display_data"
    },
    {
     "data": {
      "application/vnd.jupyter.widget-view+json": {
       "model_id": "",
       "version_major": 2,
       "version_minor": 0
      },
      "text/plain": [
       "FloatProgress(value=0.0, bar_style='info', description='Progress:', layout=Layout(height='25px', width='50%'),…"
      ]
     },
     "metadata": {},
     "output_type": "display_data"
    }
   ],
   "source": [
    "df_hana_input=df_hana_input.filter(df_hana_input.QUANTITY_TON > 0)\\\n",
    ".withColumn(\"SALES_ORG_COD\", trim(df_hana_input.SALES_ORG_COD))\\\n",
    ".distinct()"
   ]
  },
  {
   "cell_type": "code",
   "execution_count": 113,
   "metadata": {},
   "outputs": [
    {
     "data": {
      "application/vnd.jupyter.widget-view+json": {
       "model_id": "c1630db5541e441792dadbfdfe062ed4",
       "version_major": 2,
       "version_minor": 0
      },
      "text/plain": [
       "VBox()"
      ]
     },
     "metadata": {},
     "output_type": "display_data"
    },
    {
     "data": {
      "application/vnd.jupyter.widget-view+json": {
       "model_id": "",
       "version_major": 2,
       "version_minor": 0
      },
      "text/plain": [
       "FloatProgress(value=0.0, bar_style='info', description='Progress:', layout=Layout(height='25px', width='50%'),…"
      ]
     },
     "metadata": {},
     "output_type": "display_data"
    },
    {
     "name": "stdout",
     "output_type": "stream",
     "text": [
      "<pyspark.sql.readwriter.DataFrameWriter object at 0x7f9b6c332d50>"
     ]
    }
   ],
   "source": [
    "df_hana_input.write.partitionBy(\"SALES_ORG_COD\")"
   ]
  },
  {
   "cell_type": "code",
   "execution_count": 114,
   "metadata": {},
   "outputs": [
    {
     "data": {
      "application/vnd.jupyter.widget-view+json": {
       "model_id": "647361cc41bb45f5a5967a090590e03a",
       "version_major": 2,
       "version_minor": 0
      },
      "text/plain": [
       "VBox()"
      ]
     },
     "metadata": {},
     "output_type": "display_data"
    },
    {
     "data": {
      "application/vnd.jupyter.widget-view+json": {
       "model_id": "",
       "version_major": 2,
       "version_minor": 0
      },
      "text/plain": [
       "FloatProgress(value=0.0, bar_style='info', description='Progress:', layout=Layout(height='25px', width='50%'),…"
      ]
     },
     "metadata": {},
     "output_type": "display_data"
    }
   ],
   "source": [
    "df_hana = df_hana_input.repartition(\"SALES_ORG_COD\")"
   ]
  },
  {
   "cell_type": "markdown",
   "metadata": {},
   "source": [
    "### SPG Regions"
   ]
  },
  {
   "cell_type": "code",
   "execution_count": 116,
   "metadata": {},
   "outputs": [
    {
     "data": {
      "application/vnd.jupyter.widget-view+json": {
       "model_id": "ae3958d70dbe4ff19bb9c0875b8e2a3d",
       "version_major": 2,
       "version_minor": 0
      },
      "text/plain": [
       "VBox()"
      ]
     },
     "metadata": {},
     "output_type": "display_data"
    },
    {
     "data": {
      "application/vnd.jupyter.widget-view+json": {
       "model_id": "",
       "version_major": 2,
       "version_minor": 0
      },
      "text/plain": [
       "FloatProgress(value=0.0, bar_style='info', description='Progress:', layout=Layout(height='25px', width='50%'),…"
      ]
     },
     "metadata": {},
     "output_type": "display_data"
    }
   ],
   "source": [
    "df_regions_input=df_regions_input.withColumn(\"UPPER_NAME\", normalizing_orthography(upper(df_regions_input[\"IBGE_SAP_CITY_NAME\"])))"
   ]
  },
  {
   "cell_type": "code",
   "execution_count": 117,
   "metadata": {},
   "outputs": [
    {
     "data": {
      "application/vnd.jupyter.widget-view+json": {
       "model_id": "4d03718082d64a0b94adb8262c4335c5",
       "version_major": 2,
       "version_minor": 0
      },
      "text/plain": [
       "VBox()"
      ]
     },
     "metadata": {},
     "output_type": "display_data"
    },
    {
     "data": {
      "application/vnd.jupyter.widget-view+json": {
       "model_id": "",
       "version_major": 2,
       "version_minor": 0
      },
      "text/plain": [
       "FloatProgress(value=0.0, bar_style='info', description='Progress:', layout=Layout(height='25px', width='50%'),…"
      ]
     },
     "metadata": {},
     "output_type": "display_data"
    }
   ],
   "source": [
    "df_regions_input=df_regions_input.select(df_regions_input.UPPER_NAME\n",
    "                                         ,df_regions_input.BRANCH\n",
    "                                         ,df_regions_input.IBGE_UF_ACRONYMS)\\\n",
    ".dropDuplicates()"
   ]
  },
  {
   "cell_type": "code",
   "execution_count": 118,
   "metadata": {},
   "outputs": [
    {
     "data": {
      "application/vnd.jupyter.widget-view+json": {
       "model_id": "1f6be59e3d454ed186da8ef24f87b30f",
       "version_major": 2,
       "version_minor": 0
      },
      "text/plain": [
       "VBox()"
      ]
     },
     "metadata": {},
     "output_type": "display_data"
    },
    {
     "data": {
      "application/vnd.jupyter.widget-view+json": {
       "model_id": "",
       "version_major": 2,
       "version_minor": 0
      },
      "text/plain": [
       "FloatProgress(value=0.0, bar_style='info', description='Progress:', layout=Layout(height='25px', width='50%'),…"
      ]
     },
     "metadata": {},
     "output_type": "display_data"
    },
    {
     "name": "stdout",
     "output_type": "stream",
     "text": [
      "<pyspark.sql.readwriter.DataFrameWriter object at 0x7f9b6d130290>"
     ]
    }
   ],
   "source": [
    "df_regions_input.write.partitionBy(\"IBGE_UF_ACRONYMS\")"
   ]
  },
  {
   "cell_type": "code",
   "execution_count": 119,
   "metadata": {},
   "outputs": [
    {
     "data": {
      "application/vnd.jupyter.widget-view+json": {
       "model_id": "3946c3c5a5dd401fbbfa8eb703ba5569",
       "version_major": 2,
       "version_minor": 0
      },
      "text/plain": [
       "VBox()"
      ]
     },
     "metadata": {},
     "output_type": "display_data"
    },
    {
     "data": {
      "application/vnd.jupyter.widget-view+json": {
       "model_id": "",
       "version_major": 2,
       "version_minor": 0
      },
      "text/plain": [
       "FloatProgress(value=0.0, bar_style='info', description='Progress:', layout=Layout(height='25px', width='50%'),…"
      ]
     },
     "metadata": {},
     "output_type": "display_data"
    }
   ],
   "source": [
    "df_regions = df_regions_input.repartition(\"IBGE_UF_ACRONYMS\")"
   ]
  },
  {
   "cell_type": "markdown",
   "metadata": {},
   "source": [
    "### SPG Products"
   ]
  },
  {
   "cell_type": "code",
   "execution_count": 120,
   "metadata": {},
   "outputs": [
    {
     "data": {
      "application/vnd.jupyter.widget-view+json": {
       "model_id": "35fc36a70992491bb84df78bd683d2c8",
       "version_major": 2,
       "version_minor": 0
      },
      "text/plain": [
       "VBox()"
      ]
     },
     "metadata": {},
     "output_type": "display_data"
    },
    {
     "data": {
      "application/vnd.jupyter.widget-view+json": {
       "model_id": "",
       "version_major": 2,
       "version_minor": 0
      },
      "text/plain": [
       "FloatProgress(value=0.0, bar_style='info', description='Progress:', layout=Layout(height='25px', width='50%'),…"
      ]
     },
     "metadata": {},
     "output_type": "display_data"
    }
   ],
   "source": [
    "df_products_input = spark.read.parquet(\"s3a://smartpricinggerdaubucket/SPG_DIMENSIONS/SPG_PRODUTOS/SPG_PD_PRODUTOS.parquet\")"
   ]
  },
  {
   "cell_type": "code",
   "execution_count": 121,
   "metadata": {},
   "outputs": [
    {
     "data": {
      "application/vnd.jupyter.widget-view+json": {
       "model_id": "0654a57764ac432e9e50b58bb88b62f6",
       "version_major": 2,
       "version_minor": 0
      },
      "text/plain": [
       "VBox()"
      ]
     },
     "metadata": {},
     "output_type": "display_data"
    },
    {
     "data": {
      "application/vnd.jupyter.widget-view+json": {
       "model_id": "",
       "version_major": 2,
       "version_minor": 0
      },
      "text/plain": [
       "FloatProgress(value=0.0, bar_style='info', description='Progress:', layout=Layout(height='25px', width='50%'),…"
      ]
     },
     "metadata": {},
     "output_type": "display_data"
    }
   ],
   "source": [
    "# Remove duplicates\n",
    "df_products_input=df_products_input.select(trim(df_products_input.DESC_GPD).alias(\"DESC_GPD\")\n",
    "                                           ,df_products_input.COD_GPD\n",
    "                                           ,trim(df_products_input.DESC_GPM).alias(\"GPM_DESC_prod_drop\")\n",
    "                                           ,df_products_input.COD_MATERIAL.alias(\"COD_MATERIAL_drop\")\n",
    "                                           ,trim(df_products_input.SALES_ORG_COD).alias(\"SALES_ORG_COD_drop\"))\\\n",
    ".dropDuplicates()"
   ]
  },
  {
   "cell_type": "code",
   "execution_count": 122,
   "metadata": {},
   "outputs": [
    {
     "data": {
      "application/vnd.jupyter.widget-view+json": {
       "model_id": "eaecb1e94cac4657a172ecc1bb456a80",
       "version_major": 2,
       "version_minor": 0
      },
      "text/plain": [
       "VBox()"
      ]
     },
     "metadata": {},
     "output_type": "display_data"
    },
    {
     "data": {
      "application/vnd.jupyter.widget-view+json": {
       "model_id": "",
       "version_major": 2,
       "version_minor": 0
      },
      "text/plain": [
       "FloatProgress(value=0.0, bar_style='info', description='Progress:', layout=Layout(height='25px', width='50%'),…"
      ]
     },
     "metadata": {},
     "output_type": "display_data"
    },
    {
     "name": "stdout",
     "output_type": "stream",
     "text": [
      "<pyspark.sql.readwriter.DataFrameWriter object at 0x7f9b6c332ed0>"
     ]
    }
   ],
   "source": [
    "df_products_input.write.partitionBy(\"COD_GPD\")"
   ]
  },
  {
   "cell_type": "code",
   "execution_count": 123,
   "metadata": {},
   "outputs": [
    {
     "data": {
      "application/vnd.jupyter.widget-view+json": {
       "model_id": "89fefafdcc4d466297d06704c3160133",
       "version_major": 2,
       "version_minor": 0
      },
      "text/plain": [
       "VBox()"
      ]
     },
     "metadata": {},
     "output_type": "display_data"
    },
    {
     "data": {
      "application/vnd.jupyter.widget-view+json": {
       "model_id": "",
       "version_major": 2,
       "version_minor": 0
      },
      "text/plain": [
       "FloatProgress(value=0.0, bar_style='info', description='Progress:', layout=Layout(height='25px', width='50%'),…"
      ]
     },
     "metadata": {},
     "output_type": "display_data"
    }
   ],
   "source": [
    "df_products = df_products_input.repartition(\"COD_GPD\")"
   ]
  },
  {
   "cell_type": "markdown",
   "metadata": {},
   "source": [
    "### SPG Gross Profit"
   ]
  },
  {
   "cell_type": "code",
   "execution_count": 125,
   "metadata": {},
   "outputs": [
    {
     "data": {
      "application/vnd.jupyter.widget-view+json": {
       "model_id": "4154c469f2e344ca9f24afce18d652e4",
       "version_major": 2,
       "version_minor": 0
      },
      "text/plain": [
       "VBox()"
      ]
     },
     "metadata": {},
     "output_type": "display_data"
    },
    {
     "data": {
      "application/vnd.jupyter.widget-view+json": {
       "model_id": "",
       "version_major": 2,
       "version_minor": 0
      },
      "text/plain": [
       "FloatProgress(value=0.0, bar_style='info', description='Progress:', layout=Layout(height='25px', width='50%'),…"
      ]
     },
     "metadata": {},
     "output_type": "display_data"
    }
   ],
   "source": [
    "# Create column MONTH_YEAR_LB\n",
    "df_gross_profit_input = df_gross_profit_input.withColumn(\"MONTH_YEAR_LB\", concat(when(col(\"month\") >= \"10\", col(\"month\"))\n",
    "                                                                                 .otherwise(concat(lit(\"0\"), col(\"month\")))\n",
    "                                                                                 ,lit(\"-\")\n",
    "                                                                                 ,col(\"year\")))\\"
   ]
  },
  {
   "cell_type": "code",
   "execution_count": 126,
   "metadata": {},
   "outputs": [
    {
     "data": {
      "application/vnd.jupyter.widget-view+json": {
       "model_id": "4ce967ee70fe4e2585b3f0966a2d9f9f",
       "version_major": 2,
       "version_minor": 0
      },
      "text/plain": [
       "VBox()"
      ]
     },
     "metadata": {},
     "output_type": "display_data"
    },
    {
     "data": {
      "application/vnd.jupyter.widget-view+json": {
       "model_id": "",
       "version_major": 2,
       "version_minor": 0
      },
      "text/plain": [
       "FloatProgress(value=0.0, bar_style='info', description='Progress:', layout=Layout(height='25px', width='50%'),…"
      ]
     },
     "metadata": {},
     "output_type": "display_data"
    }
   ],
   "source": [
    "# Import and rename gross profit columns\n",
    "df_gross_profit_input=df_gross_profit_input.select(df_gross_profit_input.sales_number.alias(\"SALES_NUMBER\")\n",
    "                                                   ,df_gross_profit_input.sales_item.alias(\"SALES_ITEM\")\n",
    "                                                   ,df_gross_profit_input.MONTH_YEAR_LB.alias(\"MONTH_YEAR_LB\")\n",
    "                                                   ,df_gross_profit_input.COGS_TOTAL.alias(\"OP_COST\").cast('float')\n",
    "                                                   ,df_gross_profit_input.FREIGHT_Full.alias(\"FREIGHT\").cast('float')\n",
    "                                                   ,df_gross_profit_input.GROSS_PROFIT_BW.alias(\"GROSS_PROFIT_LB\").cast('float'))\\"
   ]
  },
  {
   "cell_type": "code",
   "execution_count": 127,
   "metadata": {},
   "outputs": [
    {
     "data": {
      "application/vnd.jupyter.widget-view+json": {
       "model_id": "7b1c69c13a79498f8e1cce746a9fc5dd",
       "version_major": 2,
       "version_minor": 0
      },
      "text/plain": [
       "VBox()"
      ]
     },
     "metadata": {},
     "output_type": "display_data"
    },
    {
     "data": {
      "application/vnd.jupyter.widget-view+json": {
       "model_id": "",
       "version_major": 2,
       "version_minor": 0
      },
      "text/plain": [
       "FloatProgress(value=0.0, bar_style='info', description='Progress:', layout=Layout(height='25px', width='50%'),…"
      ]
     },
     "metadata": {},
     "output_type": "display_data"
    },
    {
     "name": "stdout",
     "output_type": "stream",
     "text": [
      "<pyspark.sql.readwriter.DataFrameWriter object at 0x7f9b6d130e10>"
     ]
    }
   ],
   "source": [
    "df_gross_profit_input.write.partitionBy(\"MONTH_YEAR_LB\")"
   ]
  },
  {
   "cell_type": "code",
   "execution_count": 128,
   "metadata": {},
   "outputs": [
    {
     "data": {
      "application/vnd.jupyter.widget-view+json": {
       "model_id": "b6bfc50952c1467ebc5f678fa9684ad9",
       "version_major": 2,
       "version_minor": 0
      },
      "text/plain": [
       "VBox()"
      ]
     },
     "metadata": {},
     "output_type": "display_data"
    },
    {
     "data": {
      "application/vnd.jupyter.widget-view+json": {
       "model_id": "",
       "version_major": 2,
       "version_minor": 0
      },
      "text/plain": [
       "FloatProgress(value=0.0, bar_style='info', description='Progress:', layout=Layout(height='25px', width='50%'),…"
      ]
     },
     "metadata": {},
     "output_type": "display_data"
    }
   ],
   "source": [
    "df_gross_profit = df_gross_profit_input.repartition(\"MONTH_YEAR_LB\")"
   ]
  },
  {
   "cell_type": "code",
   "execution_count": 129,
   "metadata": {},
   "outputs": [
    {
     "data": {
      "application/vnd.jupyter.widget-view+json": {
       "model_id": "d9cb2e8d318047ac8bf2f7167d97d303",
       "version_major": 2,
       "version_minor": 0
      },
      "text/plain": [
       "VBox()"
      ]
     },
     "metadata": {},
     "output_type": "display_data"
    },
    {
     "data": {
      "application/vnd.jupyter.widget-view+json": {
       "model_id": "",
       "version_major": 2,
       "version_minor": 0
      },
      "text/plain": [
       "FloatProgress(value=0.0, bar_style='info', description='Progress:', layout=Layout(height='25px', width='50%'),…"
      ]
     },
     "metadata": {},
     "output_type": "display_data"
    }
   ],
   "source": [
    "# Create KEY_LB_DROP column\n",
    "df_gross_profit = df_gross_profit.withColumn(\"key_Lb_drop\", concat(col(\"MONTH_YEAR_LB\")\n",
    "                                                                   ,lit(\"_\")\n",
    "                                                                   ,col(\"SALES_NUMBER\").cast(\"int\")\n",
    "                                                                   ,lit(\"_\")\n",
    "                                                                   ,col(\"SALES_ITEM\").cast(\"int\")))"
   ]
  },
  {
   "cell_type": "markdown",
   "metadata": {},
   "source": [
    "# TRANSFORM HANA"
   ]
  },
  {
   "cell_type": "code",
   "execution_count": 130,
   "metadata": {},
   "outputs": [
    {
     "data": {
      "application/vnd.jupyter.widget-view+json": {
       "model_id": "3b76a64b027c4aeb898f2dc2541eb541",
       "version_major": 2,
       "version_minor": 0
      },
      "text/plain": [
       "VBox()"
      ]
     },
     "metadata": {},
     "output_type": "display_data"
    },
    {
     "data": {
      "application/vnd.jupyter.widget-view+json": {
       "model_id": "",
       "version_major": 2,
       "version_minor": 0
      },
      "text/plain": [
       "FloatProgress(value=0.0, bar_style='info', description='Progress:', layout=Layout(height='25px', width='50%'),…"
      ]
     },
     "metadata": {},
     "output_type": "display_data"
    }
   ],
   "source": [
    "# Correcting \"Ouro Branco\" Sales Org \n",
    "    # BRIO -> BRIN\n",
    "    # BRCO -> BRCC\n",
    "    # BRDO -> BRDI\n",
    "    # BRGO -> BRCG\n",
    "df_hana = df_hana.withColumn(\"SALES_ORG_COD\", when(df_hana.SALES_ORG_COD.like(\"BRCO\"), \"BRCC\")\\\n",
    "                                              .otherwise(when(df_hana.SALES_ORG_COD.like(\"BRGO\"), \"BRCG\")\\\n",
    "                                                        .otherwise(when(df_hana.SALES_ORG_COD.like(\"BRIO\"), \"BRIN\")\\\n",
    "                                                                  .otherwise(when(df_hana.SALES_ORG_COD.like(\"BRDO\"), \"BRDI\")\n",
    "                                                                            .otherwise(df_hana.SALES_ORG_COD)))))"
   ]
  },
  {
   "cell_type": "code",
   "execution_count": 131,
   "metadata": {},
   "outputs": [
    {
     "data": {
      "application/vnd.jupyter.widget-view+json": {
       "model_id": "b1e0da3991b64a1fb596d295ad8ec38b",
       "version_major": 2,
       "version_minor": 0
      },
      "text/plain": [
       "VBox()"
      ]
     },
     "metadata": {},
     "output_type": "display_data"
    },
    {
     "data": {
      "application/vnd.jupyter.widget-view+json": {
       "model_id": "",
       "version_major": 2,
       "version_minor": 0
      },
      "text/plain": [
       "FloatProgress(value=0.0, bar_style='info', description='Progress:', layout=Layout(height='25px', width='50%'),…"
      ]
     },
     "metadata": {},
     "output_type": "display_data"
    }
   ],
   "source": [
    "# Getting GPM_DESC Field\n",
    "df_hana=df_hana.join(df_products, (trim(df_products.SALES_ORG_COD_drop)==trim(df_hana.SALES_ORG_COD))&\n",
    "                                  (df_products.COD_MATERIAL_drop.cast(\"int\")==df_hana.MATERIAL_COD.cast(\"int\")), how=\"left\")\\\n",
    "               .drop(\"COD_MATERIAL_drop\")\\\n",
    "               .drop(\"SALES_ORG_COD_drop\")\\\n",
    "               .dropDuplicates()"
   ]
  },
  {
   "cell_type": "code",
   "execution_count": 132,
   "metadata": {},
   "outputs": [
    {
     "data": {
      "application/vnd.jupyter.widget-view+json": {
       "model_id": "015e09da372a4029adc19a7b6a20ecf1",
       "version_major": 2,
       "version_minor": 0
      },
      "text/plain": [
       "VBox()"
      ]
     },
     "metadata": {},
     "output_type": "display_data"
    },
    {
     "data": {
      "application/vnd.jupyter.widget-view+json": {
       "model_id": "",
       "version_major": 2,
       "version_minor": 0
      },
      "text/plain": [
       "FloatProgress(value=0.0, bar_style='info', description='Progress:', layout=Layout(height='25px', width='50%'),…"
      ]
     },
     "metadata": {},
     "output_type": "display_data"
    }
   ],
   "source": [
    "# Correcting GPM_DESC Column\n",
    "df_hana=df_hana.withColumn(\"GPM_DESC\", when(df_hana.GPM_DESC_prod_drop.isNull(), df_hana.GPM_DESC)\\\n",
    "                                           .otherwise(df_hana.GPM_DESC_prod_drop))\\\n",
    "               .withColumn(\"GPD_COD\", when(df_hana.COD_GPD.isNull(), df_hana.GPD_COD)\\\n",
    "                                           .otherwise(df_hana.COD_GPD))\\\n",
    "               .withColumn(\"GPD_DESC\", when(df_hana.DESC_GPD.isNull(), df_hana.GPD_DESC)\\\n",
    "                                           .otherwise(df_hana.DESC_GPD))\\\n",
    "               .drop(\"GPM_DESC_prod_drop\")\\\n",
    "               .drop(\"DESC_GPD\")\\\n",
    "               .drop(\"COD_GPD\")\\"
   ]
  },
  {
   "cell_type": "markdown",
   "metadata": {},
   "source": [
    "# TRANSFORM WATERFALL"
   ]
  },
  {
   "cell_type": "code",
   "execution_count": 133,
   "metadata": {},
   "outputs": [
    {
     "data": {
      "application/vnd.jupyter.widget-view+json": {
       "model_id": "713c750bff7843e983a399e60d2617d9",
       "version_major": 2,
       "version_minor": 0
      },
      "text/plain": [
       "VBox()"
      ]
     },
     "metadata": {},
     "output_type": "display_data"
    },
    {
     "data": {
      "application/vnd.jupyter.widget-view+json": {
       "model_id": "",
       "version_major": 2,
       "version_minor": 0
      },
      "text/plain": [
       "FloatProgress(value=0.0, bar_style='info', description='Progress:', layout=Layout(height='25px', width='50%'),…"
      ]
     },
     "metadata": {},
     "output_type": "display_data"
    }
   ],
   "source": [
    "df_hana=df_hana.filter(df_hana.QUANTITY_TON > 0)\\\n",
    "                     .withColumn(\"SALES_ORG_COD\", trim(df_hana.SALES_ORG_COD))\\\n",
    "                     .distinct()"
   ]
  },
  {
   "cell_type": "code",
   "execution_count": 134,
   "metadata": {},
   "outputs": [
    {
     "data": {
      "application/vnd.jupyter.widget-view+json": {
       "model_id": "0b466207c3de4d17845faf3a11823680",
       "version_major": 2,
       "version_minor": 0
      },
      "text/plain": [
       "VBox()"
      ]
     },
     "metadata": {},
     "output_type": "display_data"
    },
    {
     "data": {
      "application/vnd.jupyter.widget-view+json": {
       "model_id": "",
       "version_major": 2,
       "version_minor": 0
      },
      "text/plain": [
       "FloatProgress(value=0.0, bar_style='info', description='Progress:', layout=Layout(height='25px', width='50%'),…"
      ]
     },
     "metadata": {},
     "output_type": "display_data"
    }
   ],
   "source": [
    "# Unite hana and regions table\n",
    "df_hana = df_hana.join(df_regions, (normalizing_orthography(upper(df_hana[\"ISSUING_CITY\"])) == df_regions[\"UPPER_NAME\"])&\n",
    "                                   (trim(df_hana[\"ISSUING_STATE\"]) == trim(df_regions[\"IBGE_UF_ACRONYMS\"])), how='left')\\\n",
    "                     .drop(\"UPPER_NAME\")\\\n",
    "                     .drop(\"IBGE_UF_ACRONYMS\")"
   ]
  },
  {
   "cell_type": "code",
   "execution_count": 135,
   "metadata": {},
   "outputs": [
    {
     "data": {
      "application/vnd.jupyter.widget-view+json": {
       "model_id": "bbe7928f279e4af39a888139dca8fb55",
       "version_major": 2,
       "version_minor": 0
      },
      "text/plain": [
       "VBox()"
      ]
     },
     "metadata": {},
     "output_type": "display_data"
    },
    {
     "data": {
      "application/vnd.jupyter.widget-view+json": {
       "model_id": "",
       "version_major": 2,
       "version_minor": 0
      },
      "text/plain": [
       "FloatProgress(value=0.0, bar_style='info', description='Progress:', layout=Layout(height='25px', width='50%'),…"
      ]
     },
     "metadata": {},
     "output_type": "display_data"
    },
    {
     "name": "stdout",
     "output_type": "stream",
     "text": [
      "DataFrame[CLIENTE_COD: string, CLIENTE_DESC: string, CLIENT_GROUP_DESC: string, BILLING_DATE: string, SALES_DOC_COD: string, SALES_DOC_ITEM_COD: string, SALES_ORG_COD: string, ISSUING_CITY: string, ISSUING_STATE: string, GPD_COD: string, GPM_DESC: string, GPD_DESC: string, MATERIAL_COD: string, MATERIAL_DESC: string, QUANTITY_TON: float, ZD05: float, ICMS: float, PIS: float, ZEAF: float, BX41: float, RBV: float, RLV: double, PRECO_BASE_ALCADA: float, ZD01: float, ZD02: float, ZD03: float, ZD04: float, ZD06: float, ZD13: float, LIST_PRICE: float, ZEB1: float, ZEB2: float, ZSU2: float, COFINS: float, IPI: float, ZD14: float, OTHER_TAXES: double, BX95: double, BRANCH: string]"
     ]
    }
   ],
   "source": [
    "df_hana.persist(pyspark.StorageLevel.MEMORY_ONLY)"
   ]
  },
  {
   "cell_type": "code",
   "execution_count": 136,
   "metadata": {},
   "outputs": [
    {
     "data": {
      "application/vnd.jupyter.widget-view+json": {
       "model_id": "a4e2b2067b6b416585299286d3032d60",
       "version_major": 2,
       "version_minor": 0
      },
      "text/plain": [
       "VBox()"
      ]
     },
     "metadata": {},
     "output_type": "display_data"
    },
    {
     "data": {
      "application/vnd.jupyter.widget-view+json": {
       "model_id": "",
       "version_major": 2,
       "version_minor": 0
      },
      "text/plain": [
       "FloatProgress(value=0.0, bar_style='info', description='Progress:', layout=Layout(height='25px', width='50%'),…"
      ]
     },
     "metadata": {},
     "output_type": "display_data"
    }
   ],
   "source": [
    "# Create BRANCH column\n",
    "df_hana = df_hana.withColumn(\"BRANCH\", when(df_hana.BRANCH.isNull(), lit(\"Filial Não Encontrada\"))\\\n",
    "                                                   .otherwise(df_hana.BRANCH))"
   ]
  },
  {
   "cell_type": "code",
   "execution_count": 137,
   "metadata": {},
   "outputs": [
    {
     "data": {
      "application/vnd.jupyter.widget-view+json": {
       "model_id": "07227d08d56142ecba77dd27422c92ef",
       "version_major": 2,
       "version_minor": 0
      },
      "text/plain": [
       "VBox()"
      ]
     },
     "metadata": {},
     "output_type": "display_data"
    },
    {
     "data": {
      "application/vnd.jupyter.widget-view+json": {
       "model_id": "",
       "version_major": 2,
       "version_minor": 0
      },
      "text/plain": [
       "FloatProgress(value=0.0, bar_style='info', description='Progress:', layout=Layout(height='25px', width='50%'),…"
      ]
     },
     "metadata": {},
     "output_type": "display_data"
    }
   ],
   "source": [
    "# Create MONTH_YEAR column\n",
    "df_hana = df_hana.withColumn(\"MONTH_YEAR\", concat(when(month(df_hana.BILLING_DATE) >= \"10\", month(df_hana.BILLING_DATE))\n",
    "                                                            .otherwise(concat(lit(\"0\"), month(df_hana.BILLING_DATE)))\n",
    "                                                ,lit(\"-\")\n",
    "                                                ,year(df_hana.BILLING_DATE) ))\\"
   ]
  },
  {
   "cell_type": "code",
   "execution_count": 138,
   "metadata": {},
   "outputs": [
    {
     "data": {
      "application/vnd.jupyter.widget-view+json": {
       "model_id": "1228576806014c5fa4dcd1acc5d0966d",
       "version_major": 2,
       "version_minor": 0
      },
      "text/plain": [
       "VBox()"
      ]
     },
     "metadata": {},
     "output_type": "display_data"
    },
    {
     "data": {
      "application/vnd.jupyter.widget-view+json": {
       "model_id": "",
       "version_major": 2,
       "version_minor": 0
      },
      "text/plain": [
       "FloatProgress(value=0.0, bar_style='info', description='Progress:', layout=Layout(height='25px', width='50%'),…"
      ]
     },
     "metadata": {},
     "output_type": "display_data"
    }
   ],
   "source": [
    "df_hana=df_hana.drop(\"SALES_ORG_DESC\"\n",
    "                     ,\"VERGE_INITIAL_PRICE\"\n",
    "                     ,\"SALES_DISCOUNT_TAXES\"\n",
    "                     ,\"GDD_DESC\"\n",
    "                     ,\"GPP_DESC\"\n",
    "                     ,\"ZP30\"\n",
    "                     ,\"ZP20\"\n",
    "                     ,\"CUSTOMER_GROUP_DESC\")"
   ]
  },
  {
   "cell_type": "markdown",
   "metadata": {},
   "source": [
    "### Group BY ordem_item por data"
   ]
  },
  {
   "cell_type": "code",
   "execution_count": 139,
   "metadata": {},
   "outputs": [
    {
     "data": {
      "application/vnd.jupyter.widget-view+json": {
       "model_id": "2605f63ab4784309959444c346758cc7",
       "version_major": 2,
       "version_minor": 0
      },
      "text/plain": [
       "VBox()"
      ]
     },
     "metadata": {},
     "output_type": "display_data"
    },
    {
     "data": {
      "application/vnd.jupyter.widget-view+json": {
       "model_id": "",
       "version_major": 2,
       "version_minor": 0
      },
      "text/plain": [
       "FloatProgress(value=0.0, bar_style='info', description='Progress:', layout=Layout(height='25px', width='50%'),…"
      ]
     },
     "metadata": {},
     "output_type": "display_data"
    }
   ],
   "source": [
    "df_hana=df_hana.groupBy(df_hana.SALES_ORG_COD\n",
    "                        ,df_hana.SALES_DOC_COD\n",
    "                        ,df_hana.SALES_DOC_ITEM_COD\n",
    "                        ,df_hana.ISSUING_STATE\n",
    "                        ,df_hana.ISSUING_CITY\n",
    "                        ,df_hana.CLIENTE_COD\n",
    "                        ,df_hana.CLIENTE_DESC\n",
    "                        ,df_hana.CLIENT_GROUP_DESC\n",
    "                        ,df_hana.GPD_COD\n",
    "                        ,df_hana.GPD_DESC\n",
    "                        ,df_hana.MATERIAL_COD\n",
    "                        ,df_hana.MATERIAL_DESC\n",
    "                        ,df_hana.GPM_DESC\n",
    "                        ,df_hana.BRANCH\n",
    "                        ,df_hana.BILLING_DATE\n",
    "                        ,df_hana.MONTH_YEAR)\\\n",
    ".agg(avg(col(\"LIST_PRICE\")).alias(\"LIST_PRICE\")\n",
    "     ,sum(col(\"IPI\")).alias(\"IPI\")\n",
    "                         ,sum(col(\"PIS\")).alias(\"PIS\")\n",
    "                         ,sum(col(\"COFINS\")).alias(\"COFINS\")\n",
    "                         ,sum(col(\"ICMS\")).alias(\"ICMS\")\n",
    "                         ,sum(col(\"ZD02\")).alias(\"ZD02\")\n",
    "                         ,sum(col(\"ZD03\")).alias(\"ZD03\")\n",
    "                         ,sum(col(\"ZD01\")).alias(\"ZD01\")\n",
    "                         ,sum(col(\"ZD04\")).alias(\"ZD04\")\n",
    "                         ,sum(col(\"ZD05\")).alias(\"ZD05\")\n",
    "                         ,sum(col(\"ZEAF\")).alias(\"ZEAF\")\n",
    "                         ,sum(col(\"ZEB1\")).alias(\"ZEB1\")\n",
    "                         ,sum(col(\"ZEB2\")).alias(\"ZEB2\")\n",
    "                         ,sum(col(\"ZD13\")).alias(\"ZD13\")\n",
    "                         ,sum(col(\"ZD14\")).alias(\"ZD14\")\n",
    "                         ,sum(col(\"ZD06\")).alias(\"ZD06\")\n",
    "                         ,sum(col(\"ZSU2\")).alias(\"ZSU2\")\n",
    "                         ,sum(col(\"RBV\")).alias(\"RBV\")\n",
    "                         ,sum(col(\"BX41\")).alias(\"BX41\")\n",
    "                         ,sum(col(\"RLV\")).alias(\"RLV\")\n",
    "                         ,sum(col(\"QUANTITY_TON\")).alias(\"QUANTITY_TON\")\n",
    "                         ,sum(col(\"OTHER_TAXES\")).alias(\"OTHER_TAXES\")\n",
    "                         ,sum(col(\"BX95\")).alias(\"BX95\"))"
   ]
  },
  {
   "cell_type": "code",
   "execution_count": 140,
   "metadata": {},
   "outputs": [
    {
     "data": {
      "application/vnd.jupyter.widget-view+json": {
       "model_id": "fe229137b57c4f43861ab4ef202701bc",
       "version_major": 2,
       "version_minor": 0
      },
      "text/plain": [
       "VBox()"
      ]
     },
     "metadata": {},
     "output_type": "display_data"
    },
    {
     "data": {
      "application/vnd.jupyter.widget-view+json": {
       "model_id": "",
       "version_major": 2,
       "version_minor": 0
      },
      "text/plain": [
       "FloatProgress(value=0.0, bar_style='info', description='Progress:', layout=Layout(height='25px', width='50%'),…"
      ]
     },
     "metadata": {},
     "output_type": "display_data"
    }
   ],
   "source": [
    "# Create KEY_DROP column \n",
    "df_hana = df_hana.withColumn(\"key_drop\", concat(col(\"MONTH_YEAR\")\n",
    "                                                ,lit(\"_\")\n",
    "                                                ,col(\"SALES_DOC_COD\").cast(\"int\")\n",
    "                                                ,lit(\"_\")\n",
    "                                                ,col(\"SALES_DOC_ITEM_COD\").cast(\"int\")))"
   ]
  },
  {
   "cell_type": "code",
   "execution_count": 141,
   "metadata": {},
   "outputs": [
    {
     "data": {
      "application/vnd.jupyter.widget-view+json": {
       "model_id": "97f990a6d9414cbb922a94d83f7d3245",
       "version_major": 2,
       "version_minor": 0
      },
      "text/plain": [
       "VBox()"
      ]
     },
     "metadata": {},
     "output_type": "display_data"
    },
    {
     "data": {
      "application/vnd.jupyter.widget-view+json": {
       "model_id": "",
       "version_major": 2,
       "version_minor": 0
      },
      "text/plain": [
       "FloatProgress(value=0.0, bar_style='info', description='Progress:', layout=Layout(height='25px', width='50%'),…"
      ]
     },
     "metadata": {},
     "output_type": "display_data"
    }
   ],
   "source": [
    "# Unite gross profit and hana table\n",
    "df_hana = df_hana.join(df_gross_profit.select(df_gross_profit.key_Lb_drop\n",
    "                                              ,df_gross_profit.GROSS_PROFIT_LB\n",
    "                                              ,df_gross_profit.FREIGHT\n",
    "                                              ,df_gross_profit.OP_COST)\n",
    "                             ,(df_hana[\"key_drop\"] == df_gross_profit[\"key_Lb_drop\"]), how='left')\\\n",
    "                .drop(\"key_Lb_drop\")\\\n",
    "                .drop(\"key_drop\")"
   ]
  },
  {
   "cell_type": "code",
   "execution_count": 142,
   "metadata": {},
   "outputs": [
    {
     "data": {
      "application/vnd.jupyter.widget-view+json": {
       "model_id": "4b12ef6bf31049a9bf3ac548a05e4cd0",
       "version_major": 2,
       "version_minor": 0
      },
      "text/plain": [
       "VBox()"
      ]
     },
     "metadata": {},
     "output_type": "display_data"
    },
    {
     "data": {
      "application/vnd.jupyter.widget-view+json": {
       "model_id": "",
       "version_major": 2,
       "version_minor": 0
      },
      "text/plain": [
       "FloatProgress(value=0.0, bar_style='info', description='Progress:', layout=Layout(height='25px', width='50%'),…"
      ]
     },
     "metadata": {},
     "output_type": "display_data"
    },
    {
     "name": "stdout",
     "output_type": "stream",
     "text": [
      "DataFrame[SALES_ORG_COD: string, SALES_DOC_COD: string, SALES_DOC_ITEM_COD: string, ISSUING_STATE: string, ISSUING_CITY: string, CLIENTE_COD: string, CLIENTE_DESC: string, CLIENT_GROUP_DESC: string, GPD_COD: string, GPD_DESC: string, MATERIAL_COD: string, MATERIAL_DESC: string, GPM_DESC: string, BRANCH: string, BILLING_DATE: string, MONTH_YEAR: string, LIST_PRICE: double, IPI: double, PIS: double, COFINS: double, ICMS: double, ZD02: double, ZD03: double, ZD01: double, ZD04: double, ZD05: double, ZEAF: double, ZEB1: double, ZEB2: double, ZD13: double, ZD14: double, ZD06: double, ZSU2: double, RBV: double, BX41: double, RLV: double, QUANTITY_TON: double, OTHER_TAXES: double, BX95: double, GROSS_PROFIT_LB: float, FREIGHT: float, OP_COST: float]"
     ]
    }
   ],
   "source": [
    "df_hana.persist(pyspark.StorageLevel.MEMORY_ONLY)"
   ]
  },
  {
   "cell_type": "code",
   "execution_count": 143,
   "metadata": {},
   "outputs": [
    {
     "data": {
      "application/vnd.jupyter.widget-view+json": {
       "model_id": "5db996fff96d4658afea9e3be14570c8",
       "version_major": 2,
       "version_minor": 0
      },
      "text/plain": [
       "VBox()"
      ]
     },
     "metadata": {},
     "output_type": "display_data"
    },
    {
     "data": {
      "application/vnd.jupyter.widget-view+json": {
       "model_id": "",
       "version_major": 2,
       "version_minor": 0
      },
      "text/plain": [
       "FloatProgress(value=0.0, bar_style='info', description='Progress:', layout=Layout(height='25px', width='50%'),…"
      ]
     },
     "metadata": {},
     "output_type": "display_data"
    }
   ],
   "source": [
    "# Replace null with 0\n",
    "df_hana = df_hana.fillna({'GROSS_PROFIT_LB':'0'\n",
    "                         ,'FREIGHT':'0'\n",
    "                         ,'OP_COST':'0'})"
   ]
  },
  {
   "cell_type": "code",
   "execution_count": 144,
   "metadata": {},
   "outputs": [
    {
     "data": {
      "application/vnd.jupyter.widget-view+json": {
       "model_id": "8407f57eb01e4d94b382f12b731b7e44",
       "version_major": 2,
       "version_minor": 0
      },
      "text/plain": [
       "VBox()"
      ]
     },
     "metadata": {},
     "output_type": "display_data"
    },
    {
     "data": {
      "application/vnd.jupyter.widget-view+json": {
       "model_id": "",
       "version_major": 2,
       "version_minor": 0
      },
      "text/plain": [
       "FloatProgress(value=0.0, bar_style='info', description='Progress:', layout=Layout(height='25px', width='50%'),…"
      ]
     },
     "metadata": {},
     "output_type": "display_data"
    }
   ],
   "source": [
    "df_hana = df_hana.withColumn(\"GROSS_PROFIT_LB\", df_hana[\"GROSS_PROFIT_LB\"].cast(\"float\"))\\\n",
    "                 .withColumn(\"FREIGHT\", df_hana[\"FREIGHT\"].cast(\"float\"))\\\n",
    "                 .withColumn(\"RLV\", df_hana[\"RLV\"].cast(\"float\"))\\\n",
    "                 .withColumn(\"OP_COST\", df_hana[\"OP_COST\"].cast(\"float\"))"
   ]
  },
  {
   "cell_type": "code",
   "execution_count": 145,
   "metadata": {},
   "outputs": [
    {
     "data": {
      "application/vnd.jupyter.widget-view+json": {
       "model_id": "78764eae095d48ba90b7f135f0cbbba4",
       "version_major": 2,
       "version_minor": 0
      },
      "text/plain": [
       "VBox()"
      ]
     },
     "metadata": {},
     "output_type": "display_data"
    },
    {
     "data": {
      "application/vnd.jupyter.widget-view+json": {
       "model_id": "",
       "version_major": 2,
       "version_minor": 0
      },
      "text/plain": [
       "FloatProgress(value=0.0, bar_style='info', description='Progress:', layout=Layout(height='25px', width='50%'),…"
      ]
     },
     "metadata": {},
     "output_type": "display_data"
    }
   ],
   "source": [
    "#Creating TAXES\n",
    "df_hana=df_hana.withColumn(\"CALCULATED_TAXES\",(col('ICMS')\n",
    "                                              + col('COFINS')\n",
    "                                              + col(\"PIS\")\n",
    "                                              + col(\"OTHER_TAXES\")\n",
    "                                              + col(\"BX95\")).cast('float'))"
   ]
  },
  {
   "cell_type": "code",
   "execution_count": 146,
   "metadata": {},
   "outputs": [
    {
     "data": {
      "application/vnd.jupyter.widget-view+json": {
       "model_id": "ddcc31a9c2294dcab7b77e9271d00af1",
       "version_major": 2,
       "version_minor": 0
      },
      "text/plain": [
       "VBox()"
      ]
     },
     "metadata": {},
     "output_type": "display_data"
    },
    {
     "data": {
      "application/vnd.jupyter.widget-view+json": {
       "model_id": "",
       "version_major": 2,
       "version_minor": 0
      },
      "text/plain": [
       "FloatProgress(value=0.0, bar_style='info', description='Progress:', layout=Layout(height='25px', width='50%'),…"
      ]
     },
     "metadata": {},
     "output_type": "display_data"
    }
   ],
   "source": [
    "# Create SEGMENT_PRICE column\n",
    "df_hana=df_hana.withColumn(\"SEGMENT_PRICE\",(col('LIST_PRICE')+\n",
    "                                              col('ZD02')+ \n",
    "                                              col('ZD03')).cast('float'))"
   ]
  },
  {
   "cell_type": "code",
   "execution_count": 147,
   "metadata": {},
   "outputs": [
    {
     "data": {
      "application/vnd.jupyter.widget-view+json": {
       "model_id": "20a94e6ee10848729744911abe435d48",
       "version_major": 2,
       "version_minor": 0
      },
      "text/plain": [
       "VBox()"
      ]
     },
     "metadata": {},
     "output_type": "display_data"
    },
    {
     "data": {
      "application/vnd.jupyter.widget-view+json": {
       "model_id": "",
       "version_major": 2,
       "version_minor": 0
      },
      "text/plain": [
       "FloatProgress(value=0.0, bar_style='info', description='Progress:', layout=Layout(height='25px', width='50%'),…"
      ]
     },
     "metadata": {},
     "output_type": "display_data"
    }
   ],
   "source": [
    "# Create FULL_CUSTOMER_PRICE column\n",
    "df_hana=df_hana.withColumn(\"FULL_CUSTOMER_PRICE\",(col('SEGMENT_PRICE')+\n",
    "                                                  col('ZD01')+\n",
    "                                                  col('ZD04')+\n",
    "                                                  col('ZD05')+\n",
    "                                                  col('ZEAF')+\n",
    "                                                  col('ZEB1')+\n",
    "                                                  col('ZEB2')).cast('float'))"
   ]
  },
  {
   "cell_type": "code",
   "execution_count": 148,
   "metadata": {},
   "outputs": [
    {
     "data": {
      "application/vnd.jupyter.widget-view+json": {
       "model_id": "d656614bc6f04702946e782ca1028b03",
       "version_major": 2,
       "version_minor": 0
      },
      "text/plain": [
       "VBox()"
      ]
     },
     "metadata": {},
     "output_type": "display_data"
    },
    {
     "data": {
      "application/vnd.jupyter.widget-view+json": {
       "model_id": "",
       "version_major": 2,
       "version_minor": 0
      },
      "text/plain": [
       "FloatProgress(value=0.0, bar_style='info', description='Progress:', layout=Layout(height='25px', width='50%'),…"
      ]
     },
     "metadata": {},
     "output_type": "display_data"
    }
   ],
   "source": [
    "# Create RBV_WATERFALL column\n",
    "df_hana=df_hana.withColumn(\"RBV_WATERFALL\",(col('FULL_CUSTOMER_PRICE')+\n",
    "                                          col('ZD13')+\n",
    "                                          col('ZD14')+\n",
    "                                          col('ZD06')+\n",
    "                                          col('ZSU2')).cast('float'))"
   ]
  },
  {
   "cell_type": "code",
   "execution_count": 149,
   "metadata": {},
   "outputs": [
    {
     "data": {
      "application/vnd.jupyter.widget-view+json": {
       "model_id": "19205f345d2242fa90cc0b66feb84465",
       "version_major": 2,
       "version_minor": 0
      },
      "text/plain": [
       "VBox()"
      ]
     },
     "metadata": {},
     "output_type": "display_data"
    },
    {
     "data": {
      "application/vnd.jupyter.widget-view+json": {
       "model_id": "",
       "version_major": 2,
       "version_minor": 0
      },
      "text/plain": [
       "FloatProgress(value=0.0, bar_style='info', description='Progress:', layout=Layout(height='25px', width='50%'),…"
      ]
     },
     "metadata": {},
     "output_type": "display_data"
    }
   ],
   "source": [
    "# Create RLV_WATERFALL column\n",
    "df_hana=df_hana.withColumn(\"RLV_WATERFALL\",(when(df_hana.SALES_ORG_COD.like(\"BRCG\"), col(\"RBV_WATERFALL\")\n",
    "                                                                          -abs(col(\"CALCULATED_TAXES\")))\\\n",
    "                                        .otherwise(col(\"RBV_WATERFALL\")\n",
    "                                                    -abs(col(\"CALCULATED_TAXES\")))).cast('float'))"
   ]
  },
  {
   "cell_type": "code",
   "execution_count": 150,
   "metadata": {
    "scrolled": true
   },
   "outputs": [
    {
     "data": {
      "application/vnd.jupyter.widget-view+json": {
       "model_id": "1e160f66776c477da76e8780dc8633db",
       "version_major": 2,
       "version_minor": 0
      },
      "text/plain": [
       "VBox()"
      ]
     },
     "metadata": {},
     "output_type": "display_data"
    },
    {
     "data": {
      "application/vnd.jupyter.widget-view+json": {
       "model_id": "",
       "version_major": 2,
       "version_minor": 0
      },
      "text/plain": [
       "FloatProgress(value=0.0, bar_style='info', description='Progress:', layout=Layout(height='25px', width='50%'),…"
      ]
     },
     "metadata": {},
     "output_type": "display_data"
    }
   ],
   "source": [
    "# Create GROSS_PROFIT_WATERFALL column\n",
    "df_hana=df_hana.withColumn(\"GROSS_PROFIT_WATERFALL\",(col('RLV_WATERFALL')\n",
    "                                                    - abs(col('OP_COST'))\n",
    "                                                    - abs(col('FREIGHT'))).cast('float'))"
   ]
  },
  {
   "cell_type": "markdown",
   "metadata": {},
   "source": [
    "### remover"
   ]
  },
  {
   "cell_type": "code",
   "execution_count": 151,
   "metadata": {},
   "outputs": [
    {
     "data": {
      "application/vnd.jupyter.widget-view+json": {
       "model_id": "526f61cd695048b4bfb2d2a471eb2c09",
       "version_major": 2,
       "version_minor": 0
      },
      "text/plain": [
       "VBox()"
      ]
     },
     "metadata": {},
     "output_type": "display_data"
    },
    {
     "data": {
      "application/vnd.jupyter.widget-view+json": {
       "model_id": "",
       "version_major": 2,
       "version_minor": 0
      },
      "text/plain": [
       "FloatProgress(value=0.0, bar_style='info', description='Progress:', layout=Layout(height='25px', width='50%'),…"
      ]
     },
     "metadata": {},
     "output_type": "display_data"
    }
   ],
   "source": [
    "df_hana = df_hana.withColumn(\"GROSS_PROFIT_ORIGINAL\", col('GROSS_PROFIT_LB'))"
   ]
  },
  {
   "cell_type": "code",
   "execution_count": 152,
   "metadata": {},
   "outputs": [
    {
     "data": {
      "application/vnd.jupyter.widget-view+json": {
       "model_id": "cb5d145a1aee49808237c18848c84ee9",
       "version_major": 2,
       "version_minor": 0
      },
      "text/plain": [
       "VBox()"
      ]
     },
     "metadata": {},
     "output_type": "display_data"
    },
    {
     "data": {
      "application/vnd.jupyter.widget-view+json": {
       "model_id": "",
       "version_major": 2,
       "version_minor": 0
      },
      "text/plain": [
       "FloatProgress(value=0.0, bar_style='info', description='Progress:', layout=Layout(height='25px', width='50%'),…"
      ]
     },
     "metadata": {},
     "output_type": "display_data"
    }
   ],
   "source": [
    "# Dividing by quantity and by ton\n",
    "for col_name in [\"GROSS_PROFIT_WATERFALL\"\n",
    "                 ,\"GROSS_PROFIT_LB\"\n",
    "                 ,\"LIST_PRICE\"\n",
    "                 ,\"ZD02\"\n",
    "                 ,\"ZD03\"\n",
    "                 ,\"SEGMENT_PRICE\"\n",
    "                 ,\"ZD01\"\n",
    "                 ,\"ZD04\"\n",
    "                 ,\"ZD05\"\n",
    "                 ,\"ZEAF\"\n",
    "                 ,\"ZEB1\"\n",
    "                 ,\"IPI\"\n",
    "                 ,\"PIS\"\n",
    "                 ,\"COFINS\"\n",
    "                 ,\"ICMS\"\n",
    "                 ,\"ZEB2\"\n",
    "                 ,\"FULL_CUSTOMER_PRICE\"\n",
    "                 ,\"ZD13\"\n",
    "                 ,\"ZD14\"\n",
    "                 ,\"ZD06\"\n",
    "                 ,\"ZSU2\"\n",
    "                 ,\"RBV\"\n",
    "                 ,\"RBV_WATERFALL\"\n",
    "                 ,\"CALCULATED_TAXES\"\n",
    "                 ,\"BX41\"\n",
    "                 ,\"RLV\"\n",
    "                 ,\"RLV_WATERFALL\"\n",
    "                 ,\"FREIGHT\"\n",
    "                 ,\"OP_COST\"\n",
    "                 ,\"OTHER_TAXES\"\n",
    "                 ,\"BX95\"]:\n",
    "    df_hana = df_hana.withColumn(col_name, (col(col_name)/col(\"QUANTITY_TON\")).cast('float'))"
   ]
  },
  {
   "cell_type": "code",
   "execution_count": 153,
   "metadata": {},
   "outputs": [
    {
     "data": {
      "application/vnd.jupyter.widget-view+json": {
       "model_id": "98ee6515fb864bc69732c3e769c2fcc6",
       "version_major": 2,
       "version_minor": 0
      },
      "text/plain": [
       "VBox()"
      ]
     },
     "metadata": {},
     "output_type": "display_data"
    },
    {
     "data": {
      "application/vnd.jupyter.widget-view+json": {
       "model_id": "",
       "version_major": 2,
       "version_minor": 0
      },
      "text/plain": [
       "FloatProgress(value=0.0, bar_style='info', description='Progress:', layout=Layout(height='25px', width='50%'),…"
      ]
     },
     "metadata": {},
     "output_type": "display_data"
    }
   ],
   "source": [
    "df_hana = df_hana.withColumn(\"COUNTRY\", lit(\"Brazil\"))"
   ]
  },
  {
   "cell_type": "code",
   "execution_count": 154,
   "metadata": {},
   "outputs": [
    {
     "data": {
      "application/vnd.jupyter.widget-view+json": {
       "model_id": "fd02edb4251f4c5f8eba5268b3843b18",
       "version_major": 2,
       "version_minor": 0
      },
      "text/plain": [
       "VBox()"
      ]
     },
     "metadata": {},
     "output_type": "display_data"
    },
    {
     "data": {
      "application/vnd.jupyter.widget-view+json": {
       "model_id": "",
       "version_major": 2,
       "version_minor": 0
      },
      "text/plain": [
       "FloatProgress(value=0.0, bar_style='info', description='Progress:', layout=Layout(height='25px', width='50%'),…"
      ]
     },
     "metadata": {},
     "output_type": "display_data"
    }
   ],
   "source": [
    "df_waterfall=df_hana.withColumn(\"GROSS_PROFIT_WATERFALL\", (col(\"GROSS_PROFIT_WATERFALL\")).cast('float'))\\\n",
    "                            .withColumn(\"GROSS_PROFIT_LB\", (col(\"GROSS_PROFIT_LB\")).cast('float'))\\\n",
    "                            .withColumn(\"GROSS_PROFIT_ORIGINAL\", (col(\"GROSS_PROFIT_ORIGINAL\")).cast('float'))\\\n",
    "                            .withColumn(\"IPI\", abs(col(\"IPI\")).cast('float'))\\\n",
    "                            .withColumn(\"PIS\", abs(col(\"PIS\")).cast('float'))\\\n",
    "                            .withColumn(\"COFINS\", abs(col(\"COFINS\")).cast('float'))\\\n",
    "                            .withColumn(\"ICMS\", abs(col(\"ICMS\")).cast('float'))\\\n",
    "                            .withColumn(\"LIST_PRICE\", abs(col(\"LIST_PRICE\")).cast('float'))\\\n",
    "                            .withColumn(\"ZD02\", abs(col(\"ZD02\")).cast('float'))\\\n",
    "                            .withColumn(\"ZD03\", abs(col(\"ZD03\")).cast('float'))\\\n",
    "                            .withColumn(\"SEGMENT_PRICE\", abs(col(\"SEGMENT_PRICE\")).cast('float'))\\\n",
    "                            .withColumn(\"ZD01\", abs(col(\"ZD01\")).cast('float'))\\\n",
    "                            .withColumn(\"ZD04\", abs(col(\"ZD04\")).cast('float'))\\\n",
    "                            .withColumn(\"ZD05\", abs(col(\"ZD05\")).cast('float'))\\\n",
    "                            .withColumn(\"ZEAF\", abs(col(\"ZEAF\")).cast('float'))\\\n",
    "                            .withColumn(\"ZEB1\", abs(col(\"ZEB1\")).cast('float'))\\\n",
    "                            .withColumn(\"ZEB2\", abs(col(\"ZEB2\")).cast('float'))\\\n",
    "                            .withColumn(\"FULL_CUSTOMER_PRICE\", abs(col(\"FULL_CUSTOMER_PRICE\")).cast('float'))\\\n",
    "                            .withColumn(\"ZD13\", abs(col(\"ZD13\")).cast('float'))\\\n",
    "                            .withColumn(\"ZD14\", abs(col(\"ZD14\")).cast('float'))\\\n",
    "                            .withColumn(\"ZD06\", abs(col(\"ZD06\")).cast('float'))\\\n",
    "                            .withColumn(\"ZSU2\", abs(col(\"ZSU2\")).cast('float'))\\\n",
    "                            .withColumn(\"RBV\", abs(col(\"RBV\")).cast('float'))\\\n",
    "                            .withColumn(\"RBV_WATERFALL\", abs(col(\"RBV_WATERFALL\")).cast('float'))\\\n",
    "                            .withColumn(\"BX41\", abs(col(\"BX41\")).cast('float'))\\\n",
    "                            .withColumn(\"RLV\", abs(col(\"RLV\")).cast('float'))\\\n",
    "                            .withColumn(\"RLV_WATERFALL\", abs(col(\"RLV_WATERFALL\")).cast('float'))\\\n",
    "                            .withColumn(\"OP_COST\", abs(col(\"OP_COST\")).cast('float'))\\\n",
    "                            .withColumn(\"FREIGHT\", abs(col(\"FREIGHT\")).cast('float'))\\\n",
    "                            .withColumn(\"QUANTITY_TON\", abs(col(\"QUANTITY_TON\")).cast('float'))\\\n",
    "                            .withColumn(\"CLIENTE_COD\", abs(col(\"CLIENTE_COD\")).cast(IntegerType()))\\\n",
    "                            .withColumn(\"GPD_COD\", abs(col(\"GPD_COD\")).cast(IntegerType()))\\\n",
    "                            .withColumn(\"MATERIAL_COD\", abs(col(\"MATERIAL_COD\")).cast(IntegerType()))\\\n",
    "                            .withColumn(\"BX95\", abs(col(\"BX95\")).cast('float'))\\"
   ]
  },
  {
   "cell_type": "code",
   "execution_count": 155,
   "metadata": {},
   "outputs": [
    {
     "data": {
      "application/vnd.jupyter.widget-view+json": {
       "model_id": "44762c183f964c709a1598f2e0f5df9f",
       "version_major": 2,
       "version_minor": 0
      },
      "text/plain": [
       "VBox()"
      ]
     },
     "metadata": {},
     "output_type": "display_data"
    },
    {
     "data": {
      "application/vnd.jupyter.widget-view+json": {
       "model_id": "",
       "version_major": 2,
       "version_minor": 0
      },
      "text/plain": [
       "FloatProgress(value=0.0, bar_style='info', description='Progress:', layout=Layout(height='25px', width='50%'),…"
      ]
     },
     "metadata": {},
     "output_type": "display_data"
    }
   ],
   "source": [
    "df_waterfall.write.parquet(\"s3a://\"+SPG_OUTPUT_BUCKET+\"/\"+SPG_OUTPUT_BUCKET_WATERFALL_OUTPUT_PATH, mode = \"overwrite\")"
   ]
  }
 ],
 "metadata": {
  "kernelspec": {
   "display_name": "Python 3",
   "language": "python",
   "name": "python3"
  },
  "language_info": {
   "codemirror_mode": {
    "name": "ipython",
    "version": 3
   },
   "file_extension": ".py",
   "mimetype": "text/x-python",
   "name": "python",
   "nbconvert_exporter": "python",
   "pygments_lexer": "ipython3",
   "version": "3.7.5"
  }
 },
 "nbformat": 4,
 "nbformat_minor": 4
}
