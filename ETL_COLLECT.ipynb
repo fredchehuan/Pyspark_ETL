{
 "cells": [
  {
   "cell_type": "markdown",
   "metadata": {},
   "source": [
    "# Importing Libraries"
   ]
  },
  {
   "cell_type": "code",
   "execution_count": 172,
   "metadata": {
    "scrolled": true
   },
   "outputs": [
    {
     "data": {
      "application/vnd.jupyter.widget-view+json": {
       "model_id": "6dbed0304da8446fa8cce54743073af4",
       "version_major": 2,
       "version_minor": 0
      },
      "text/plain": [
       "VBox()"
      ]
     },
     "metadata": {},
     "output_type": "display_data"
    },
    {
     "data": {
      "application/vnd.jupyter.widget-view+json": {
       "model_id": "",
       "version_major": 2,
       "version_minor": 0
      },
      "text/plain": [
       "FloatProgress(value=0.0, bar_style='info', description='Progress:', layout=Layout(height='25px', width='50%'),…"
      ]
     },
     "metadata": {},
     "output_type": "display_data"
    }
   ],
   "source": [
    "#maxizeallresources\n",
    "import findspark                                              #Import library to Search for Spark Installation\n",
    "\n",
    "findspark.init()                                              #Search Spark Installation\n",
    "\n",
    "import pyspark                                                #Only run after findspark.init()\n",
    "\n",
    "from pyspark.sql import SparkSession                          #Import of Spark Session\n",
    "from pyspark import SparkContext as spark                     #Import the Regular Spark Contex\n",
    "from pyspark.sql import SQLContext                            #Import the SQL Spark Contex\n",
    "from pyspark.sql.functions import *                           #Import the SQL Spark Functions\n",
    "from pyspark.sql.types import *                               #Import the SQL Spark Variables Types\n",
    "spark = SparkSession.builder.getOrCreate()                   #Creating Spark Session\n",
    "\n",
    "import os\n",
    "\n",
    "from datetime import date                                     # Import date methoed\n",
    "month_ref = date.today().month                                # Creating Current Month Variable\n",
    "year_ref = date.today().year                                  # Creating Current Year Variable\n",
    "\n",
    "sc = spark.sparkContext                                      #Initialize Spark Session / FRED"
   ]
  },
  {
   "cell_type": "markdown",
   "metadata": {},
   "source": [
    "-------------------------------"
   ]
  },
  {
   "cell_type": "markdown",
   "metadata": {},
   "source": [
    "# Creating Variables"
   ]
  },
  {
   "cell_type": "markdown",
   "metadata": {},
   "source": [
    "## Buckets"
   ]
  },
  {
   "cell_type": "code",
   "execution_count": 173,
   "metadata": {},
   "outputs": [
    {
     "data": {
      "application/vnd.jupyter.widget-view+json": {
       "model_id": "438b4f967c9043a59ddc7262d278b36f",
       "version_major": 2,
       "version_minor": 0
      },
      "text/plain": [
       "VBox()"
      ]
     },
     "metadata": {},
     "output_type": "display_data"
    },
    {
     "data": {
      "application/vnd.jupyter.widget-view+json": {
       "model_id": "",
       "version_major": 2,
       "version_minor": 0
      },
      "text/plain": [
       "FloatProgress(value=0.0, bar_style='info', description='Progress:', layout=Layout(height='25px', width='50%'),…"
      ]
     },
     "metadata": {},
     "output_type": "display_data"
    }
   ],
   "source": [
    "SPG_MANUAL_INPUT_BUCKET = os.environ['MANUAL_INPUT_BUCKET']"
   ]
  },
  {
   "cell_type": "code",
   "execution_count": 174,
   "metadata": {},
   "outputs": [
    {
     "data": {
      "application/vnd.jupyter.widget-view+json": {
       "model_id": "51d880e7d13c4b94a16195e7974e4cb6",
       "version_major": 2,
       "version_minor": 0
      },
      "text/plain": [
       "VBox()"
      ]
     },
     "metadata": {},
     "output_type": "display_data"
    },
    {
     "data": {
      "application/vnd.jupyter.widget-view+json": {
       "model_id": "",
       "version_major": 2,
       "version_minor": 0
      },
      "text/plain": [
       "FloatProgress(value=0.0, bar_style='info', description='Progress:', layout=Layout(height='25px', width='50%'),…"
      ]
     },
     "metadata": {},
     "output_type": "display_data"
    }
   ],
   "source": [
    "SPG_INTEGRATION_INPUT_BUCKET = os.environ['INTEGRATION_INPUT_BUCKET']"
   ]
  },
  {
   "cell_type": "code",
   "execution_count": 175,
   "metadata": {},
   "outputs": [
    {
     "data": {
      "application/vnd.jupyter.widget-view+json": {
       "model_id": "8359c23a597c418fae4ace2cb54fcf5f",
       "version_major": 2,
       "version_minor": 0
      },
      "text/plain": [
       "VBox()"
      ]
     },
     "metadata": {},
     "output_type": "display_data"
    },
    {
     "data": {
      "application/vnd.jupyter.widget-view+json": {
       "model_id": "",
       "version_major": 2,
       "version_minor": 0
      },
      "text/plain": [
       "FloatProgress(value=0.0, bar_style='info', description='Progress:', layout=Layout(height='25px', width='50%'),…"
      ]
     },
     "metadata": {},
     "output_type": "display_data"
    }
   ],
   "source": [
    "SPG_QUERY_BUCKET = os.environ['QUERY_BUCKET']"
   ]
  },
  {
   "cell_type": "code",
   "execution_count": 176,
   "metadata": {},
   "outputs": [
    {
     "data": {
      "application/vnd.jupyter.widget-view+json": {
       "model_id": "30e2084442fd42b9af5436b4b322ba80",
       "version_major": 2,
       "version_minor": 0
      },
      "text/plain": [
       "VBox()"
      ]
     },
     "metadata": {},
     "output_type": "display_data"
    },
    {
     "data": {
      "application/vnd.jupyter.widget-view+json": {
       "model_id": "",
       "version_major": 2,
       "version_minor": 0
      },
      "text/plain": [
       "FloatProgress(value=0.0, bar_style='info', description='Progress:', layout=Layout(height='25px', width='50%'),…"
      ]
     },
     "metadata": {},
     "output_type": "display_data"
    }
   ],
   "source": [
    "GERDAU_BUCKET = os.environ['GERDAU_BUCKET']"
   ]
  },
  {
   "cell_type": "code",
   "execution_count": 177,
   "metadata": {},
   "outputs": [
    {
     "data": {
      "application/vnd.jupyter.widget-view+json": {
       "model_id": "cdcefde72ec24a17aaa35fd3aec66a7a",
       "version_major": 2,
       "version_minor": 0
      },
      "text/plain": [
       "VBox()"
      ]
     },
     "metadata": {},
     "output_type": "display_data"
    },
    {
     "data": {
      "application/vnd.jupyter.widget-view+json": {
       "model_id": "",
       "version_major": 2,
       "version_minor": 0
      },
      "text/plain": [
       "FloatProgress(value=0.0, bar_style='info', description='Progress:', layout=Layout(height='25px', width='50%'),…"
      ]
     },
     "metadata": {},
     "output_type": "display_data"
    }
   ],
   "source": [
    "SPG_OUTPUT_BUCKET = os.environ['OUTPUT_BUCKET']"
   ]
  },
  {
   "cell_type": "code",
   "execution_count": 178,
   "metadata": {},
   "outputs": [
    {
     "data": {
      "application/vnd.jupyter.widget-view+json": {
       "model_id": "8d359e3b6fb1464aaffcb0b57aae1e50",
       "version_major": 2,
       "version_minor": 0
      },
      "text/plain": [
       "VBox()"
      ]
     },
     "metadata": {},
     "output_type": "display_data"
    },
    {
     "data": {
      "application/vnd.jupyter.widget-view+json": {
       "model_id": "",
       "version_major": 2,
       "version_minor": 0
      },
      "text/plain": [
       "FloatProgress(value=0.0, bar_style='info', description='Progress:', layout=Layout(height='25px', width='50%'),…"
      ]
     },
     "metadata": {},
     "output_type": "display_data"
    }
   ],
   "source": [
    "SPG_INPUT_BUCKET = os.environ['INPUT_BUCKET_FROM_OUTPUT']"
   ]
  },
  {
   "cell_type": "markdown",
   "metadata": {},
   "source": [
    "## Input Paths"
   ]
  },
  {
   "cell_type": "code",
   "execution_count": 179,
   "metadata": {},
   "outputs": [
    {
     "data": {
      "application/vnd.jupyter.widget-view+json": {
       "model_id": "0d29c24df5cc47dfabd46019394836f3",
       "version_major": 2,
       "version_minor": 0
      },
      "text/plain": [
       "VBox()"
      ]
     },
     "metadata": {},
     "output_type": "display_data"
    },
    {
     "data": {
      "application/vnd.jupyter.widget-view+json": {
       "model_id": "",
       "version_major": 2,
       "version_minor": 0
      },
      "text/plain": [
       "FloatProgress(value=0.0, bar_style='info', description='Progress:', layout=Layout(height='25px', width='50%'),…"
      ]
     },
     "metadata": {},
     "output_type": "display_data"
    }
   ],
   "source": [
    "# Reading Clients Address parquet file from the Gerdau Analytics Data Lake\n",
    "GERDAU_BUCKET_ADRC = \"global/masterdata/adrc\""
   ]
  },
  {
   "cell_type": "code",
   "execution_count": 180,
   "metadata": {},
   "outputs": [
    {
     "data": {
      "application/vnd.jupyter.widget-view+json": {
       "model_id": "7d81ffe3cb3f4a43bb9460dbb6e41642",
       "version_major": 2,
       "version_minor": 0
      },
      "text/plain": [
       "VBox()"
      ]
     },
     "metadata": {},
     "output_type": "display_data"
    },
    {
     "data": {
      "application/vnd.jupyter.widget-view+json": {
       "model_id": "",
       "version_major": 2,
       "version_minor": 0
      },
      "text/plain": [
       "FloatProgress(value=0.0, bar_style='info', description='Progress:', layout=Layout(height='25px', width='50%'),…"
      ]
     },
     "metadata": {},
     "output_type": "display_data"
    }
   ],
   "source": [
    "# Reading Clients parquet file from the Gerdau Analytics Data Lake\n",
    "GERDAU_BUCKET_KNA1 = \"global/masterdata/kna1\""
   ]
  },
  {
   "cell_type": "code",
   "execution_count": 181,
   "metadata": {},
   "outputs": [
    {
     "data": {
      "application/vnd.jupyter.widget-view+json": {
       "model_id": "2e89ce6723264cfd9f5174e37baece42",
       "version_major": 2,
       "version_minor": 0
      },
      "text/plain": [
       "VBox()"
      ]
     },
     "metadata": {},
     "output_type": "display_data"
    },
    {
     "data": {
      "application/vnd.jupyter.widget-view+json": {
       "model_id": "",
       "version_major": 2,
       "version_minor": 0
      },
      "text/plain": [
       "FloatProgress(value=0.0, bar_style='info', description='Progress:', layout=Layout(height='25px', width='50%'),…"
      ]
     },
     "metadata": {},
     "output_type": "display_data"
    }
   ],
   "source": [
    "SPG_INTEGRATION_INPUT_BUCKET_PRODUCT = \"SPG_DIMENSIONS/SPG_PRODUTOS/SPG_PD_PRODUTOS.parquet\""
   ]
  },
  {
   "cell_type": "code",
   "execution_count": 182,
   "metadata": {},
   "outputs": [
    {
     "data": {
      "application/vnd.jupyter.widget-view+json": {
       "model_id": "4b5fb6ca0fe94b1a985b2c96dc7422b5",
       "version_major": 2,
       "version_minor": 0
      },
      "text/plain": [
       "VBox()"
      ]
     },
     "metadata": {},
     "output_type": "display_data"
    },
    {
     "data": {
      "application/vnd.jupyter.widget-view+json": {
       "model_id": "",
       "version_major": 2,
       "version_minor": 0
      },
      "text/plain": [
       "FloatProgress(value=0.0, bar_style='info', description='Progress:', layout=Layout(height='25px', width='50%'),…"
      ]
     },
     "metadata": {},
     "output_type": "display_data"
    }
   ],
   "source": [
    "SPG_INTEGRATION_INPUT_BUCKET_CLIENTS = \"SPG_DIMENSIONS/SPG_CLIENTES/SPG_CL_CLIENTES/SPG_CL_CLIENTES.parquet\""
   ]
  },
  {
   "cell_type": "code",
   "execution_count": 183,
   "metadata": {
    "scrolled": true
   },
   "outputs": [
    {
     "data": {
      "application/vnd.jupyter.widget-view+json": {
       "model_id": "6b1180f6d4d74c518870e3246c33fc3f",
       "version_major": 2,
       "version_minor": 0
      },
      "text/plain": [
       "VBox()"
      ]
     },
     "metadata": {},
     "output_type": "display_data"
    },
    {
     "data": {
      "application/vnd.jupyter.widget-view+json": {
       "model_id": "",
       "version_major": 2,
       "version_minor": 0
      },
      "text/plain": [
       "FloatProgress(value=0.0, bar_style='info', description='Progress:', layout=Layout(height='25px', width='50%'),…"
      ]
     },
     "metadata": {},
     "output_type": "display_data"
    }
   ],
   "source": [
    "# SPG Regions\n",
    "SPG_INTEGRATION_INPUT_BUCKET_REGION = \"SPG_DIMENSIONS/SPG_REGIOES/SPG_RG_REGIOES/SPG_RG_REGIOES.parquet\""
   ]
  },
  {
   "cell_type": "code",
   "execution_count": 184,
   "metadata": {},
   "outputs": [
    {
     "data": {
      "application/vnd.jupyter.widget-view+json": {
       "model_id": "d96c4ef3193847059ae1a59a06f0ba51",
       "version_major": 2,
       "version_minor": 0
      },
      "text/plain": [
       "VBox()"
      ]
     },
     "metadata": {},
     "output_type": "display_data"
    },
    {
     "data": {
      "application/vnd.jupyter.widget-view+json": {
       "model_id": "",
       "version_major": 2,
       "version_minor": 0
      },
      "text/plain": [
       "FloatProgress(value=0.0, bar_style='info', description='Progress:', layout=Layout(height='25px', width='50%'),…"
      ]
     },
     "metadata": {},
     "output_type": "display_data"
    }
   ],
   "source": [
    "SPG_INTEGRATION_INPUT_BUCKET_HANA = \"SPG_FACTS/SPG_HANA/SPG_HANA.parquet\""
   ]
  },
  {
   "cell_type": "code",
   "execution_count": 185,
   "metadata": {},
   "outputs": [
    {
     "data": {
      "application/vnd.jupyter.widget-view+json": {
       "model_id": "507f5733a6b240d19841d342bdfc1900",
       "version_major": 2,
       "version_minor": 0
      },
      "text/plain": [
       "VBox()"
      ]
     },
     "metadata": {},
     "output_type": "display_data"
    },
    {
     "data": {
      "application/vnd.jupyter.widget-view+json": {
       "model_id": "",
       "version_major": 2,
       "version_minor": 0
      },
      "text/plain": [
       "FloatProgress(value=0.0, bar_style='info', description='Progress:', layout=Layout(height='25px', width='50%'),…"
      ]
     },
     "metadata": {},
     "output_type": "display_data"
    }
   ],
   "source": [
    "SPG_INPUT_BUCKET_MC1 = \"SGP_PRICE_COLLECT/SPG_PC_MC1.parquet\""
   ]
  },
  {
   "cell_type": "code",
   "execution_count": 186,
   "metadata": {},
   "outputs": [
    {
     "data": {
      "application/vnd.jupyter.widget-view+json": {
       "model_id": "10bfc29e45af416aa4723041da038f26",
       "version_major": 2,
       "version_minor": 0
      },
      "text/plain": [
       "VBox()"
      ]
     },
     "metadata": {},
     "output_type": "display_data"
    },
    {
     "data": {
      "application/vnd.jupyter.widget-view+json": {
       "model_id": "",
       "version_major": 2,
       "version_minor": 0
      },
      "text/plain": [
       "FloatProgress(value=0.0, bar_style='info', description='Progress:', layout=Layout(height='25px', width='50%'),…"
      ]
     },
     "metadata": {},
     "output_type": "display_data"
    }
   ],
   "source": [
    "SPG_INPUT_BUCKET_SALESFORCE = \"SGP_PRICE_COLLECT/SPG_PC_SALESFORCE.parquet\""
   ]
  },
  {
   "cell_type": "code",
   "execution_count": 187,
   "metadata": {},
   "outputs": [
    {
     "data": {
      "application/vnd.jupyter.widget-view+json": {
       "model_id": "b15629f191824109b4676f5cff449239",
       "version_major": 2,
       "version_minor": 0
      },
      "text/plain": [
       "VBox()"
      ]
     },
     "metadata": {},
     "output_type": "display_data"
    },
    {
     "data": {
      "application/vnd.jupyter.widget-view+json": {
       "model_id": "",
       "version_major": 2,
       "version_minor": 0
      },
      "text/plain": [
       "FloatProgress(value=0.0, bar_style='info', description='Progress:', layout=Layout(height='25px', width='50%'),…"
      ]
     },
     "metadata": {},
     "output_type": "display_data"
    }
   ],
   "source": [
    "SPG_INPUT_BUCKET_GERDAU_PRICE = \"SGP_PRICE_COLLECT/SPG_PC_HANA/tb_SPG_PC_HANA.parquet\"\n"
   ]
  },
  {
   "cell_type": "code",
   "execution_count": 188,
   "metadata": {},
   "outputs": [
    {
     "data": {
      "application/vnd.jupyter.widget-view+json": {
       "model_id": "0c1e01311e054085917794d4882ffd02",
       "version_major": 2,
       "version_minor": 0
      },
      "text/plain": [
       "VBox()"
      ]
     },
     "metadata": {},
     "output_type": "display_data"
    },
    {
     "data": {
      "application/vnd.jupyter.widget-view+json": {
       "model_id": "",
       "version_major": 2,
       "version_minor": 0
      },
      "text/plain": [
       "FloatProgress(value=0.0, bar_style='info', description='Progress:', layout=Layout(height='25px', width='50%'),…"
      ]
     },
     "metadata": {},
     "output_type": "display_data"
    }
   ],
   "source": [
    "SPG_MANUAL_INPUT_BUCKET_GOOGLEFORMS = \"SPG_GLOBAL/SUPPORT/Pesquisa googleForms MVP2.1.csv\"\n"
   ]
  },
  {
   "cell_type": "markdown",
   "metadata": {},
   "source": [
    "## Output Paths"
   ]
  },
  {
   "cell_type": "code",
   "execution_count": 189,
   "metadata": {},
   "outputs": [
    {
     "data": {
      "application/vnd.jupyter.widget-view+json": {
       "model_id": "003bcadd09e4475caad1990eec286af6",
       "version_major": 2,
       "version_minor": 0
      },
      "text/plain": [
       "VBox()"
      ]
     },
     "metadata": {},
     "output_type": "display_data"
    },
    {
     "data": {
      "application/vnd.jupyter.widget-view+json": {
       "model_id": "",
       "version_major": 2,
       "version_minor": 0
      },
      "text/plain": [
       "FloatProgress(value=0.0, bar_style='info', description='Progress:', layout=Layout(height='25px', width='50%'),…"
      ]
     },
     "metadata": {},
     "output_type": "display_data"
    }
   ],
   "source": [
    "SPG_OUTPUT_BUCKET_COLLECT = \"SGP_PRICE_COLLECT/SPG_PC_COLETA.parquet\""
   ]
  },
  {
   "cell_type": "markdown",
   "metadata": {},
   "source": [
    "------------------------"
   ]
  },
  {
   "cell_type": "markdown",
   "metadata": {},
   "source": [
    "# Creating Defined Functions"
   ]
  },
  {
   "cell_type": "code",
   "execution_count": 190,
   "metadata": {},
   "outputs": [
    {
     "data": {
      "application/vnd.jupyter.widget-view+json": {
       "model_id": "aff6a5fe5e8d4405acd41dcddb9d2c2b",
       "version_major": 2,
       "version_minor": 0
      },
      "text/plain": [
       "VBox()"
      ]
     },
     "metadata": {},
     "output_type": "display_data"
    },
    {
     "data": {
      "application/vnd.jupyter.widget-view+json": {
       "model_id": "",
       "version_major": 2,
       "version_minor": 0
      },
      "text/plain": [
       "FloatProgress(value=0.0, bar_style='info', description='Progress:', layout=Layout(height='25px', width='50%'),…"
      ]
     },
     "metadata": {},
     "output_type": "display_data"
    }
   ],
   "source": [
    "def normalizing_orthography(col_name):\n",
    "    removed_array = [('Á', 'A'), ('Ã', 'A'),('À', 'A'),('Â', 'A'),('Ä', 'A'),\n",
    "                    ('É', 'E'),('È', 'E'),('Ê', 'E'),('Ë', 'E'),\n",
    "                    ('Í', 'I'),('Ì', 'I'),('Î', 'I'),('Ï', 'I'),\n",
    "                    ('Ó', 'O'),('Õ', 'O'), ('Ò', 'O'),('Ô', 'O'),('Ö', 'O'),\n",
    "                    ('Ú', 'U'),('Ù', 'U'),('Û', 'U'),('Ü', 'U'),\n",
    "                    ('Ç', 'C'),('`', ''),(\"'\", ''),('-', ''),('/', ''),(' ', '')]\n",
    "    r = col_name\n",
    "    for a, b in removed_array:\n",
    "        r = regexp_replace(r, a, b)\n",
    "    return r"
   ]
  },
  {
   "cell_type": "code",
   "execution_count": 191,
   "metadata": {},
   "outputs": [
    {
     "data": {
      "application/vnd.jupyter.widget-view+json": {
       "model_id": "629d21fd5a3b49f68501e995f9126493",
       "version_major": 2,
       "version_minor": 0
      },
      "text/plain": [
       "VBox()"
      ]
     },
     "metadata": {},
     "output_type": "display_data"
    },
    {
     "data": {
      "application/vnd.jupyter.widget-view+json": {
       "model_id": "",
       "version_major": 2,
       "version_minor": 0
      },
      "text/plain": [
       "FloatProgress(value=0.0, bar_style='info', description='Progress:', layout=Layout(height='25px', width='50%'),…"
      ]
     },
     "metadata": {},
     "output_type": "display_data"
    }
   ],
   "source": [
    "def normalizing_date_hifen(col_name):\n",
    "    removed_array = [('-', '/')]\n",
    "    r = col_name\n",
    "    for a, b in removed_array:\n",
    "        r = regexp_replace(r, a, b)\n",
    "    return r"
   ]
  },
  {
   "cell_type": "markdown",
   "metadata": {},
   "source": [
    "-----"
   ]
  },
  {
   "cell_type": "markdown",
   "metadata": {},
   "source": [
    "# Importing Tables"
   ]
  },
  {
   "cell_type": "code",
   "execution_count": 192,
   "metadata": {},
   "outputs": [
    {
     "data": {
      "application/vnd.jupyter.widget-view+json": {
       "model_id": "a942df9ead79470f9b18dfe964f46932",
       "version_major": 2,
       "version_minor": 0
      },
      "text/plain": [
       "VBox()"
      ]
     },
     "metadata": {},
     "output_type": "display_data"
    },
    {
     "data": {
      "application/vnd.jupyter.widget-view+json": {
       "model_id": "",
       "version_major": 2,
       "version_minor": 0
      },
      "text/plain": [
       "FloatProgress(value=0.0, bar_style='info', description='Progress:', layout=Layout(height='25px', width='50%'),…"
      ]
     },
     "metadata": {},
     "output_type": "display_data"
    }
   ],
   "source": [
    "# Reading Clients Address parquet file from the Gerdau Analytics Data Lake\n",
    "adrc = spark.read.parquet(\"s3://\"+GERDAU_BUCKET+\"/\"+GERDAU_BUCKET_ADRC)"
   ]
  },
  {
   "cell_type": "code",
   "execution_count": 193,
   "metadata": {},
   "outputs": [
    {
     "data": {
      "application/vnd.jupyter.widget-view+json": {
       "model_id": "bfab35782eb1486e8fc17853c3850f2c",
       "version_major": 2,
       "version_minor": 0
      },
      "text/plain": [
       "VBox()"
      ]
     },
     "metadata": {},
     "output_type": "display_data"
    },
    {
     "data": {
      "application/vnd.jupyter.widget-view+json": {
       "model_id": "",
       "version_major": 2,
       "version_minor": 0
      },
      "text/plain": [
       "FloatProgress(value=0.0, bar_style='info', description='Progress:', layout=Layout(height='25px', width='50%'),…"
      ]
     },
     "metadata": {},
     "output_type": "display_data"
    }
   ],
   "source": [
    "# Reading Clients parquet file from the Gerdau Analytics Data Lake\n",
    "kna1 = spark.read.parquet(\"s3://\"+GERDAU_BUCKET+\"/\"+GERDAU_BUCKET_KNA1)"
   ]
  },
  {
   "cell_type": "code",
   "execution_count": 194,
   "metadata": {},
   "outputs": [
    {
     "data": {
      "application/vnd.jupyter.widget-view+json": {
       "model_id": "1db20efdc56340f29bf1092fc5246294",
       "version_major": 2,
       "version_minor": 0
      },
      "text/plain": [
       "VBox()"
      ]
     },
     "metadata": {},
     "output_type": "display_data"
    },
    {
     "data": {
      "application/vnd.jupyter.widget-view+json": {
       "model_id": "",
       "version_major": 2,
       "version_minor": 0
      },
      "text/plain": [
       "FloatProgress(value=0.0, bar_style='info', description='Progress:', layout=Layout(height='25px', width='50%'),…"
      ]
     },
     "metadata": {},
     "output_type": "display_data"
    }
   ],
   "source": [
    "ETL_PRODUCT = spark.read.parquet(\"s3a://\"+SPG_INTEGRATION_INPUT_BUCKET+\"/\"+SPG_INTEGRATION_INPUT_BUCKET_PRODUCT)"
   ]
  },
  {
   "cell_type": "code",
   "execution_count": 195,
   "metadata": {},
   "outputs": [
    {
     "data": {
      "application/vnd.jupyter.widget-view+json": {
       "model_id": "f08fdde3bfd84902bebd64a3e556792b",
       "version_major": 2,
       "version_minor": 0
      },
      "text/plain": [
       "VBox()"
      ]
     },
     "metadata": {},
     "output_type": "display_data"
    },
    {
     "data": {
      "application/vnd.jupyter.widget-view+json": {
       "model_id": "",
       "version_major": 2,
       "version_minor": 0
      },
      "text/plain": [
       "FloatProgress(value=0.0, bar_style='info', description='Progress:', layout=Layout(height='25px', width='50%'),…"
      ]
     },
     "metadata": {},
     "output_type": "display_data"
    }
   ],
   "source": [
    "DF_CLIENTS=spark.read.parquet(\"s3a://\"+SPG_INTEGRATION_INPUT_BUCKET+\"/\"+SPG_INTEGRATION_INPUT_BUCKET_CLIENTS)"
   ]
  },
  {
   "cell_type": "code",
   "execution_count": 196,
   "metadata": {
    "scrolled": true
   },
   "outputs": [
    {
     "data": {
      "application/vnd.jupyter.widget-view+json": {
       "model_id": "a8f1fad6d66c43fe93323620d9d38bd5",
       "version_major": 2,
       "version_minor": 0
      },
      "text/plain": [
       "VBox()"
      ]
     },
     "metadata": {},
     "output_type": "display_data"
    },
    {
     "data": {
      "application/vnd.jupyter.widget-view+json": {
       "model_id": "",
       "version_major": 2,
       "version_minor": 0
      },
      "text/plain": [
       "FloatProgress(value=0.0, bar_style='info', description='Progress:', layout=Layout(height='25px', width='50%'),…"
      ]
     },
     "metadata": {},
     "output_type": "display_data"
    }
   ],
   "source": [
    "# SPG Regions\n",
    "df_region = spark.read.parquet(\"s3a://\"+SPG_INTEGRATION_INPUT_BUCKET+\"/\"+SPG_INTEGRATION_INPUT_BUCKET_REGION)"
   ]
  },
  {
   "cell_type": "code",
   "execution_count": 197,
   "metadata": {},
   "outputs": [
    {
     "data": {
      "application/vnd.jupyter.widget-view+json": {
       "model_id": "5d9b3b7b040d4242a3b034720c8674cf",
       "version_major": 2,
       "version_minor": 0
      },
      "text/plain": [
       "VBox()"
      ]
     },
     "metadata": {},
     "output_type": "display_data"
    },
    {
     "data": {
      "application/vnd.jupyter.widget-view+json": {
       "model_id": "",
       "version_major": 2,
       "version_minor": 0
      },
      "text/plain": [
       "FloatProgress(value=0.0, bar_style='info', description='Progress:', layout=Layout(height='25px', width='50%'),…"
      ]
     },
     "metadata": {},
     "output_type": "display_data"
    }
   ],
   "source": [
    "DF_HANA=spark.read.parquet(\"s3a://\"+SPG_INTEGRATION_INPUT_BUCKET+\"/\"+SPG_INTEGRATION_INPUT_BUCKET_HANA)"
   ]
  },
  {
   "cell_type": "code",
   "execution_count": 198,
   "metadata": {},
   "outputs": [
    {
     "data": {
      "application/vnd.jupyter.widget-view+json": {
       "model_id": "a4cc12a440a54a07ae0aeaa8bcff113b",
       "version_major": 2,
       "version_minor": 0
      },
      "text/plain": [
       "VBox()"
      ]
     },
     "metadata": {},
     "output_type": "display_data"
    },
    {
     "data": {
      "application/vnd.jupyter.widget-view+json": {
       "model_id": "",
       "version_major": 2,
       "version_minor": 0
      },
      "text/plain": [
       "FloatProgress(value=0.0, bar_style='info', description='Progress:', layout=Layout(height='25px', width='50%'),…"
      ]
     },
     "metadata": {},
     "output_type": "display_data"
    }
   ],
   "source": [
    "MC1 = spark.read.parquet(\"s3a://\"+SPG_INPUT_BUCKET+\"/\"+SPG_INPUT_BUCKET_MC1)"
   ]
  },
  {
   "cell_type": "code",
   "execution_count": 199,
   "metadata": {},
   "outputs": [
    {
     "data": {
      "application/vnd.jupyter.widget-view+json": {
       "model_id": "a3c17fb3d8a24f7097a8f6907910591d",
       "version_major": 2,
       "version_minor": 0
      },
      "text/plain": [
       "VBox()"
      ]
     },
     "metadata": {},
     "output_type": "display_data"
    },
    {
     "data": {
      "application/vnd.jupyter.widget-view+json": {
       "model_id": "",
       "version_major": 2,
       "version_minor": 0
      },
      "text/plain": [
       "FloatProgress(value=0.0, bar_style='info', description='Progress:', layout=Layout(height='25px', width='50%'),…"
      ]
     },
     "metadata": {},
     "output_type": "display_data"
    }
   ],
   "source": [
    "SALESFORCE = spark.read.parquet(\"s3a://\"+SPG_INPUT_BUCKET+\"/\"+SPG_INPUT_BUCKET_SALESFORCE)"
   ]
  },
  {
   "cell_type": "code",
   "execution_count": 200,
   "metadata": {},
   "outputs": [
    {
     "data": {
      "application/vnd.jupyter.widget-view+json": {
       "model_id": "d186220ddcf248d6b5ade2d93aaed287",
       "version_major": 2,
       "version_minor": 0
      },
      "text/plain": [
       "VBox()"
      ]
     },
     "metadata": {},
     "output_type": "display_data"
    },
    {
     "data": {
      "application/vnd.jupyter.widget-view+json": {
       "model_id": "",
       "version_major": 2,
       "version_minor": 0
      },
      "text/plain": [
       "FloatProgress(value=0.0, bar_style='info', description='Progress:', layout=Layout(height='25px', width='50%'),…"
      ]
     },
     "metadata": {},
     "output_type": "display_data"
    }
   ],
   "source": [
    "GERDAU_PRICE = spark.read.parquet(\"s3a://\"+SPG_INPUT_BUCKET+\"/\"+SPG_INPUT_BUCKET_GERDAU_PRICE)"
   ]
  },
  {
   "cell_type": "code",
   "execution_count": 201,
   "metadata": {},
   "outputs": [
    {
     "data": {
      "application/vnd.jupyter.widget-view+json": {
       "model_id": "f95230db216a4e25a1267bfa28df9c04",
       "version_major": 2,
       "version_minor": 0
      },
      "text/plain": [
       "VBox()"
      ]
     },
     "metadata": {},
     "output_type": "display_data"
    },
    {
     "data": {
      "application/vnd.jupyter.widget-view+json": {
       "model_id": "",
       "version_major": 2,
       "version_minor": 0
      },
      "text/plain": [
       "FloatProgress(value=0.0, bar_style='info', description='Progress:', layout=Layout(height='25px', width='50%'),…"
      ]
     },
     "metadata": {},
     "output_type": "display_data"
    }
   ],
   "source": [
    "GOOGLEFORMS = spark.read.format(\"csv\").option(\"header\",\"true\").option(\"sep\",\";\").option(\"encoding\", \"utf-8\").load(\"s3a://\"+SPG_MANUAL_INPUT_BUCKET+\"/\"+SPG_MANUAL_INPUT_BUCKET_GOOGLEFORMS)"
   ]
  },
  {
   "cell_type": "markdown",
   "metadata": {},
   "source": [
    "----------------"
   ]
  },
  {
   "cell_type": "code",
   "execution_count": 202,
   "metadata": {},
   "outputs": [
    {
     "data": {
      "application/vnd.jupyter.widget-view+json": {
       "model_id": "cd8e056d08b14c379923a74295284e93",
       "version_major": 2,
       "version_minor": 0
      },
      "text/plain": [
       "VBox()"
      ]
     },
     "metadata": {},
     "output_type": "display_data"
    },
    {
     "data": {
      "application/vnd.jupyter.widget-view+json": {
       "model_id": "",
       "version_major": 2,
       "version_minor": 0
      },
      "text/plain": [
       "FloatProgress(value=0.0, bar_style='info', description='Progress:', layout=Layout(height='25px', width='50%'),…"
      ]
     },
     "metadata": {},
     "output_type": "display_data"
    }
   ],
   "source": [
    "DF_HANA=DF_HANA.select(DF_HANA.SalesOrg\n",
    "                       ,DF_HANA.Material\n",
    "                       ,DF_HANA.MaterialName\n",
    "                       ,DF_HANA.GPD\n",
    "                       ,DF_HANA.GPDName\n",
    "                       ,DF_HANA.GPM)\\\n",
    "                .dropDuplicates()"
   ]
  },
  {
   "cell_type": "code",
   "execution_count": 203,
   "metadata": {},
   "outputs": [
    {
     "data": {
      "application/vnd.jupyter.widget-view+json": {
       "model_id": "d8e65a71b57a4b12a17ee0f7d66fb0a9",
       "version_major": 2,
       "version_minor": 0
      },
      "text/plain": [
       "VBox()"
      ]
     },
     "metadata": {},
     "output_type": "display_data"
    },
    {
     "data": {
      "application/vnd.jupyter.widget-view+json": {
       "model_id": "",
       "version_major": 2,
       "version_minor": 0
      },
      "text/plain": [
       "FloatProgress(value=0.0, bar_style='info', description='Progress:', layout=Layout(height='25px', width='50%'),…"
      ]
     },
     "metadata": {},
     "output_type": "display_data"
    }
   ],
   "source": [
    "DF_HANA=DF_HANA.join(ETL_PRODUCT, (trim(ETL_PRODUCT.SALES_ORG_COD)==trim(DF_HANA.SalesOrg))&\n",
    "                                  (ETL_PRODUCT.COD_MATERIAL.cast(\"int\")==DF_HANA.Material.cast(\"int\")), how=\"left\")\\\n",
    "                       .drop(\"SALES_ORG_COD\")\\\n",
    "                       .drop(\"COD_MATERIAL\")\\\n",
    "                       .dropDuplicates()"
   ]
  },
  {
   "cell_type": "code",
   "execution_count": 204,
   "metadata": {},
   "outputs": [
    {
     "data": {
      "application/vnd.jupyter.widget-view+json": {
       "model_id": "707b7815af3a4d1aad7d61c93736967f",
       "version_major": 2,
       "version_minor": 0
      },
      "text/plain": [
       "VBox()"
      ]
     },
     "metadata": {},
     "output_type": "display_data"
    },
    {
     "data": {
      "application/vnd.jupyter.widget-view+json": {
       "model_id": "",
       "version_major": 2,
       "version_minor": 0
      },
      "text/plain": [
       "FloatProgress(value=0.0, bar_style='info', description='Progress:', layout=Layout(height='25px', width='50%'),…"
      ]
     },
     "metadata": {},
     "output_type": "display_data"
    }
   ],
   "source": [
    "DF_HANA=DF_HANA.withColumn(\"MaterialName\", when(DF_HANA.DESC_MATERIAL.isNull(), DF_HANA.MaterialName)\\\n",
    "                                              .otherwise(DF_HANA.DESC_MATERIAL))\\\n",
    "                .withColumn(\"GPD\", when(DF_HANA.COD_GPD.isNull(), DF_HANA.GPD)\\\n",
    "                                      .otherwise(DF_HANA.COD_GPD))\\\n",
    "                .withColumn(\"GPDName\", when(DF_HANA.DESC_GPD.isNull(), DF_HANA.GPDName)\\\n",
    "                                          .otherwise(DF_HANA.DESC_GPD))\\\n",
    "                .withColumn(\"GPM\", when(DF_HANA.DESC_GPM.isNull(), DF_HANA.GPM)\\\n",
    "                                      .otherwise(DF_HANA.DESC_GPM))\\"
   ]
  },
  {
   "cell_type": "code",
   "execution_count": 205,
   "metadata": {},
   "outputs": [
    {
     "data": {
      "application/vnd.jupyter.widget-view+json": {
       "model_id": "e619cca5fc9547129cc8312ed09b5cbb",
       "version_major": 2,
       "version_minor": 0
      },
      "text/plain": [
       "VBox()"
      ]
     },
     "metadata": {},
     "output_type": "display_data"
    },
    {
     "data": {
      "application/vnd.jupyter.widget-view+json": {
       "model_id": "",
       "version_major": 2,
       "version_minor": 0
      },
      "text/plain": [
       "FloatProgress(value=0.0, bar_style='info', description='Progress:', layout=Layout(height='25px', width='50%'),…"
      ]
     },
     "metadata": {},
     "output_type": "display_data"
    }
   ],
   "source": [
    "DF_HANA=DF_HANA.withColumn(\"COD_GPM\", when(DF_HANA.COD_GPM.isNull(), DF_HANA.GPM)\\\n",
    "                                            .otherwise(DF_HANA.COD_GPM))\\"
   ]
  },
  {
   "cell_type": "code",
   "execution_count": 206,
   "metadata": {},
   "outputs": [
    {
     "data": {
      "application/vnd.jupyter.widget-view+json": {
       "model_id": "ced548430ed7449b9a3db4ca1bddfe04",
       "version_major": 2,
       "version_minor": 0
      },
      "text/plain": [
       "VBox()"
      ]
     },
     "metadata": {},
     "output_type": "display_data"
    },
    {
     "data": {
      "application/vnd.jupyter.widget-view+json": {
       "model_id": "",
       "version_major": 2,
       "version_minor": 0
      },
      "text/plain": [
       "FloatProgress(value=0.0, bar_style='info', description='Progress:', layout=Layout(height='25px', width='50%'),…"
      ]
     },
     "metadata": {},
     "output_type": "display_data"
    }
   ],
   "source": [
    "ETL_PRODUCT=DF_HANA.select(DF_HANA.Material.alias(\"COD_MATERIAL\")\n",
    "                          ,DF_HANA.MaterialName.alias(\"DESC_MATERIAL\")\n",
    "                          ,DF_HANA.GPD.alias(\"COD_GPD\")\n",
    "                          ,DF_HANA.GPDName.alias(\"DESC_GPD\")\n",
    "                          ,DF_HANA.GPM.alias(\"COD_GPM\")\n",
    "                          ,DF_HANA.GPM.alias(\"DESC_GPM\"))\\\n",
    "                    .filter(~DF_HANA.COD_GPM.isNull())\\\n",
    "                    .dropDuplicates()"
   ]
  },
  {
   "cell_type": "markdown",
   "metadata": {},
   "source": [
    "----------------"
   ]
  },
  {
   "cell_type": "code",
   "execution_count": 207,
   "metadata": {},
   "outputs": [
    {
     "data": {
      "application/vnd.jupyter.widget-view+json": {
       "model_id": "1d6551cbbd534c74a063173c5ff586f7",
       "version_major": 2,
       "version_minor": 0
      },
      "text/plain": [
       "VBox()"
      ]
     },
     "metadata": {},
     "output_type": "display_data"
    },
    {
     "data": {
      "application/vnd.jupyter.widget-view+json": {
       "model_id": "",
       "version_major": 2,
       "version_minor": 0
      },
      "text/plain": [
       "FloatProgress(value=0.0, bar_style='info', description='Progress:', layout=Layout(height='25px', width='50%'),…"
      ]
     },
     "metadata": {},
     "output_type": "display_data"
    }
   ],
   "source": [
    "ETL_PRODUCT2=ETL_PRODUCT.select(ETL_PRODUCT.COD_MATERIAL\n",
    "                               ,ETL_PRODUCT.DESC_MATERIAL\n",
    "                               ,ETL_PRODUCT.COD_GPD\n",
    "                               ,ETL_PRODUCT.DESC_GPD\n",
    "                               ,ETL_PRODUCT.COD_GPM\n",
    "                               ,ETL_PRODUCT.DESC_GPM)\\\n",
    "                       .dropDuplicates(['COD_MATERIAL'])\n",
    "ETL_PRODUCT=ETL_PRODUCT.select('COD_GPD','DESC_GPD')\n",
    "ETL_PRODUCT=ETL_PRODUCT.dropDuplicates(['COD_GPD'])"
   ]
  },
  {
   "cell_type": "code",
   "execution_count": 208,
   "metadata": {},
   "outputs": [
    {
     "data": {
      "application/vnd.jupyter.widget-view+json": {
       "model_id": "55377dc197b64ba6bba3f29691329466",
       "version_major": 2,
       "version_minor": 0
      },
      "text/plain": [
       "VBox()"
      ]
     },
     "metadata": {},
     "output_type": "display_data"
    },
    {
     "data": {
      "application/vnd.jupyter.widget-view+json": {
       "model_id": "",
       "version_major": 2,
       "version_minor": 0
      },
      "text/plain": [
       "FloatProgress(value=0.0, bar_style='info', description='Progress:', layout=Layout(height='25px', width='50%'),…"
      ]
     },
     "metadata": {},
     "output_type": "display_data"
    },
    {
     "name": "stdout",
     "output_type": "stream",
     "text": [
      "<pyspark.sql.readwriter.DataFrameWriter object at 0x7f70680e1e90>"
     ]
    }
   ],
   "source": [
    "ETL_PRODUCT2.write.partitionBy(\"COD_GPM\")"
   ]
  },
  {
   "cell_type": "code",
   "execution_count": 209,
   "metadata": {},
   "outputs": [
    {
     "data": {
      "application/vnd.jupyter.widget-view+json": {
       "model_id": "410e9295dd82485f851f8c0d684d45c5",
       "version_major": 2,
       "version_minor": 0
      },
      "text/plain": [
       "VBox()"
      ]
     },
     "metadata": {},
     "output_type": "display_data"
    },
    {
     "data": {
      "application/vnd.jupyter.widget-view+json": {
       "model_id": "",
       "version_major": 2,
       "version_minor": 0
      },
      "text/plain": [
       "FloatProgress(value=0.0, bar_style='info', description='Progress:', layout=Layout(height='25px', width='50%'),…"
      ]
     },
     "metadata": {},
     "output_type": "display_data"
    }
   ],
   "source": [
    "ETL_PRODUCT2 = ETL_PRODUCT2.repartition(\"COD_GPM\")"
   ]
  },
  {
   "cell_type": "code",
   "execution_count": 210,
   "metadata": {},
   "outputs": [
    {
     "data": {
      "application/vnd.jupyter.widget-view+json": {
       "model_id": "dc5f955a7cd34cbaab531bef5a392363",
       "version_major": 2,
       "version_minor": 0
      },
      "text/plain": [
       "VBox()"
      ]
     },
     "metadata": {},
     "output_type": "display_data"
    },
    {
     "data": {
      "application/vnd.jupyter.widget-view+json": {
       "model_id": "",
       "version_major": 2,
       "version_minor": 0
      },
      "text/plain": [
       "FloatProgress(value=0.0, bar_style='info', description='Progress:', layout=Layout(height='25px', width='50%'),…"
      ]
     },
     "metadata": {},
     "output_type": "display_data"
    },
    {
     "name": "stdout",
     "output_type": "stream",
     "text": [
      "<pyspark.sql.readwriter.DataFrameWriter object at 0x7f70680d6b90>"
     ]
    }
   ],
   "source": [
    "ETL_PRODUCT.write.partitionBy(\"COD_GPD\")"
   ]
  },
  {
   "cell_type": "code",
   "execution_count": 211,
   "metadata": {},
   "outputs": [
    {
     "data": {
      "application/vnd.jupyter.widget-view+json": {
       "model_id": "28a5b1850d804d448e70f325d0544630",
       "version_major": 2,
       "version_minor": 0
      },
      "text/plain": [
       "VBox()"
      ]
     },
     "metadata": {},
     "output_type": "display_data"
    },
    {
     "data": {
      "application/vnd.jupyter.widget-view+json": {
       "model_id": "",
       "version_major": 2,
       "version_minor": 0
      },
      "text/plain": [
       "FloatProgress(value=0.0, bar_style='info', description='Progress:', layout=Layout(height='25px', width='50%'),…"
      ]
     },
     "metadata": {},
     "output_type": "display_data"
    }
   ],
   "source": [
    "ETL_PRODUCT = ETL_PRODUCT.repartition(\"COD_GPD\")"
   ]
  },
  {
   "cell_type": "markdown",
   "metadata": {},
   "source": [
    "------------------"
   ]
  },
  {
   "cell_type": "code",
   "execution_count": 212,
   "metadata": {},
   "outputs": [
    {
     "data": {
      "application/vnd.jupyter.widget-view+json": {
       "model_id": "f02560a26e55494a9d6776eca0fe399d",
       "version_major": 2,
       "version_minor": 0
      },
      "text/plain": [
       "VBox()"
      ]
     },
     "metadata": {},
     "output_type": "display_data"
    },
    {
     "data": {
      "application/vnd.jupyter.widget-view+json": {
       "model_id": "",
       "version_major": 2,
       "version_minor": 0
      },
      "text/plain": [
       "FloatProgress(value=0.0, bar_style='info', description='Progress:', layout=Layout(height='25px', width='50%'),…"
      ]
     },
     "metadata": {},
     "output_type": "display_data"
    },
    {
     "name": "stderr",
     "output_type": "stream",
     "text": [
      "'DataFrame' object has no attribute 'CITY'\n",
      "Traceback (most recent call last):\n",
      "  File \"/usr/lib/spark/python/lib/pyspark.zip/pyspark/sql/dataframe.py\", line 1301, in __getattr__\n",
      "    \"'%s' object has no attribute '%s'\" % (self.__class__.__name__, name))\n",
      "AttributeError: 'DataFrame' object has no attribute 'CITY'\n",
      "\n"
     ]
    }
   ],
   "source": [
    "SALESFORCE=SALESFORCE.select(SALESFORCE.TIMESTAMP\n",
    "               ,SALESFORCE.COD_SALES_AGENT.alias('Cod_Vendedor')\n",
    "               ,SALESFORCE.SALES_AGENT.alias('Nome_vendedor')\n",
    "               ,SALESFORCE.COD_CLIENT.alias('COD_CLIENTE')\n",
    "               ,SALESFORCE.CLIENT_NAME.alias('NOME_CLIENTE')\n",
    "               ,SALESFORCE.COD_PRODUCT\n",
    "               ,SALESFORCE.DESC_PRODUCT\n",
    "               ,SALESFORCE.GPM\n",
    "               ,SALESFORCE.GPD\n",
    "               ,SALESFORCE.COMPETITOR.alias('FABRICANTE')\n",
    "               ,SALESFORCE.COMPETITOR_PRICE.alias('PRECO_COM_IMPOSTOS')\n",
    "               ,SALESFORCE.PRICE_CONDITION.alias('PRAZO_DE_PAGAMENTO')\n",
    "               ,SALESFORCE.PRICE_TYPE.alias('TIPO_DE_PRECO')\n",
    "               ,SALESFORCE.UNIT_MEASURE.alias('UNIDADE_DE_MEDIDA')\n",
    "               ,SALESFORCE.CITY.alias('CIDADE')\n",
    "               ,SALESFORCE.STATE.alias('ESTADO')\n",
    "               ,SALESFORCE.CITY_STATE.alias('CIDADEESTADO')\n",
    "               ,SALESFORCE.ADJ_SALES_ORG.alias('OVAjustada')\n",
    "               ,SALESFORCE.SAMPLE_KEY.alias('ChaveAmostra')\n",
    "               ,SALESFORCE.MATERIAL\n",
    "               ,SALESFORCE.BILLING_KEY.alias('ChaveFatura')\n",
    "               ,SALESFORCE.PRICE_21_DAYS.alias('Preco21dias')\n",
    "               ,SALESFORCE.PRICE_21_DAYS_KG.alias('Preco21diasKG')\n",
    "               ,SALESFORCE.MONTH_YEAR.alias('MesAno')\n",
    "               ,SALESFORCE.PASS_DAYS.alias('DiasCorridos')\n",
    "               ,SALESFORCE.REMAINING_DAYS.alias('DiasFaltantes')\n",
    "               ,SALESFORCE.KEY_SELLERS_MARKS.alias('ChaveVendedorMetas')\n",
    "               ,SALESFORCE.BRANCH_CAPACITY.alias('CapacidadeFilial')\n",
    "               ,SALESFORCE.KEY_AUDIT.alias('ChaveAuditoria')\n",
    "               ,SALESFORCE.PRE_APPROVED.alias('PRE_APROVADO')\n",
    "               ,SALESFORCE.ANALYSIS_UNIT_AVG_PRICE.alias('AVG_Preço_UA')\n",
    "               ,SALESFORCE.UPPER_LIMIT_ANALYSIS_UNIT_AVG_PRICE.alias('LS_AVG_PRECO_UA')\n",
    "               ,SALESFORCE.LOWER_LIMIT_ANALYSIS_UNIT_AVG_PRICE.alias('LI_AVG_PRECO_UA')\n",
    "               ,SALESFORCE.APPROVED.alias('APROVADO')\n",
    "               ,SALESFORCE.BRANCH.alias('Filial')\n",
    "               ,SALESFORCE.REGION.alias('regiao'))"
   ]
  },
  {
   "cell_type": "code",
   "execution_count": 213,
   "metadata": {},
   "outputs": [
    {
     "data": {
      "application/vnd.jupyter.widget-view+json": {
       "model_id": "ef9f4dae1a74458c80109d1aa011daff",
       "version_major": 2,
       "version_minor": 0
      },
      "text/plain": [
       "VBox()"
      ]
     },
     "metadata": {},
     "output_type": "display_data"
    },
    {
     "data": {
      "application/vnd.jupyter.widget-view+json": {
       "model_id": "",
       "version_major": 2,
       "version_minor": 0
      },
      "text/plain": [
       "FloatProgress(value=0.0, bar_style='info', description='Progress:', layout=Layout(height='25px', width='50%'),…"
      ]
     },
     "metadata": {},
     "output_type": "display_data"
    }
   ],
   "source": [
    "SALESFORCE=SALESFORCE.drop('ORG_VENDAS'\n",
    "                           ,'COD_PRODUCT_'\n",
    "                           ,'COD_CLIENT_'\n",
    "                           ,'CLIENT_NAME'\n",
    "                           ,'Meta'\n",
    "                           ,'Regiao_filial'\n",
    "                           ,'ChaveVendedor'\n",
    "                           ,'Mes-Ano'\n",
    "                           ,'FilialAgente'\n",
    "                           ,'Group_Client_3')"
   ]
  },
  {
   "cell_type": "code",
   "execution_count": 214,
   "metadata": {},
   "outputs": [
    {
     "data": {
      "application/vnd.jupyter.widget-view+json": {
       "model_id": "c7bf1b83202b4207ad8f473c281c9385",
       "version_major": 2,
       "version_minor": 0
      },
      "text/plain": [
       "VBox()"
      ]
     },
     "metadata": {},
     "output_type": "display_data"
    },
    {
     "data": {
      "application/vnd.jupyter.widget-view+json": {
       "model_id": "",
       "version_major": 2,
       "version_minor": 0
      },
      "text/plain": [
       "FloatProgress(value=0.0, bar_style='info', description='Progress:', layout=Layout(height='25px', width='50%'),…"
      ]
     },
     "metadata": {},
     "output_type": "display_data"
    },
    {
     "name": "stdout",
     "output_type": "stream",
     "text": [
      "<pyspark.sql.readwriter.DataFrameWriter object at 0x7f70681ddfd0>"
     ]
    }
   ],
   "source": [
    "SALESFORCE.write.partitionBy(\"GPD\")"
   ]
  },
  {
   "cell_type": "code",
   "execution_count": 215,
   "metadata": {},
   "outputs": [
    {
     "data": {
      "application/vnd.jupyter.widget-view+json": {
       "model_id": "b41d25f67dbb4100826d9a7a1e371fd6",
       "version_major": 2,
       "version_minor": 0
      },
      "text/plain": [
       "VBox()"
      ]
     },
     "metadata": {},
     "output_type": "display_data"
    },
    {
     "data": {
      "application/vnd.jupyter.widget-view+json": {
       "model_id": "",
       "version_major": 2,
       "version_minor": 0
      },
      "text/plain": [
       "FloatProgress(value=0.0, bar_style='info', description='Progress:', layout=Layout(height='25px', width='50%'),…"
      ]
     },
     "metadata": {},
     "output_type": "display_data"
    }
   ],
   "source": [
    "SALESFORCE = SALESFORCE.repartition(\"GPD\")"
   ]
  },
  {
   "cell_type": "markdown",
   "metadata": {},
   "source": [
    "-----------------------"
   ]
  },
  {
   "cell_type": "code",
   "execution_count": 216,
   "metadata": {},
   "outputs": [
    {
     "data": {
      "application/vnd.jupyter.widget-view+json": {
       "model_id": "33dba0e30e014eb39a6e5aba53f6cb41",
       "version_major": 2,
       "version_minor": 0
      },
      "text/plain": [
       "VBox()"
      ]
     },
     "metadata": {},
     "output_type": "display_data"
    },
    {
     "data": {
      "application/vnd.jupyter.widget-view+json": {
       "model_id": "",
       "version_major": 2,
       "version_minor": 0
      },
      "text/plain": [
       "FloatProgress(value=0.0, bar_style='info', description='Progress:', layout=Layout(height='25px', width='50%'),…"
      ]
     },
     "metadata": {},
     "output_type": "display_data"
    },
    {
     "name": "stderr",
     "output_type": "stream",
     "text": [
      "'DataFrame' object has no attribute 'COD_SALES_AGENT'\n",
      "Traceback (most recent call last):\n",
      "  File \"/usr/lib/spark/python/lib/pyspark.zip/pyspark/sql/dataframe.py\", line 1301, in __getattr__\n",
      "    \"'%s' object has no attribute '%s'\" % (self.__class__.__name__, name))\n",
      "AttributeError: 'DataFrame' object has no attribute 'COD_SALES_AGENT'\n",
      "\n"
     ]
    }
   ],
   "source": [
    "#MC1=MC1.drop('KEY_SELLERS'\n",
    "   #           ,'MONTH_YEAR')\n",
    "MC1=MC1.drop('KEY_SELLERS')\n",
    "MC1=MC1.select(MC1.TIMESTAMP\n",
    "               ,MC1.COD_SALES_AGENT.alias('Cod_Vendedor')\n",
    "               ,MC1.SALES_AGENT.alias('Nome_vendedor')\n",
    "               ,MC1.COD_CLIENT.alias('COD_CLIENTE')\n",
    "               ,MC1.CLIENT_NAME.alias('NOME_CLIENTE')\n",
    "               ,MC1.COD_PRODUCT\n",
    "               ,MC1.DESC_PRODUCT\n",
    "               ,MC1.GPM\n",
    "               ,MC1.GPD\n",
    "               ,MC1.COMPETITOR.alias('FABRICANTE')\n",
    "               ,MC1.PRICE_WITH_TAXES.alias('PRECO_COM_IMPOSTOS')\n",
    "               ,MC1.PAYMENT_TERM.alias('PRAZO_DE_PAGAMENTO')\n",
    "               ,MC1.PRICE_TYPE.alias('TIPO_DE_PRECO')\n",
    "               ,MC1.UNIT_MEASURE.alias('UNIDADE_DE_MEDIDA')\n",
    "               ,MC1.CITY.alias('CIDADE')\n",
    "               ,MC1.STATE.alias('ESTADO')\n",
    "               ,MC1.CITY_STATE.alias('CIDADEESTADO')\n",
    "               ,MC1.ADJ_SALES_ORG.alias('OVAjustada')\n",
    "               ,MC1.SAMPLE_KEY.alias('ChaveAmostra')\n",
    "               ,MC1.MATERIAL\n",
    "               ,MC1.BILLING_KEY.alias('ChaveFatura')\n",
    "               ,MC1.PRICE_21_DAYS.alias('Preco21dias')\n",
    "               ,MC1.PRICE_21_DAYS_KG.alias('Preco21diasKG')\n",
    "               ,MC1.MONTH_YEAR.alias('MesAno')\n",
    "               ,MC1.PASS_DAYS.alias('DiasCorridos')\n",
    "               ,MC1.REMAINING_DAYS.alias('DiasFaltantes')\n",
    "               ,MC1.KEY_SELLERS_MARKS.alias('ChaveVendedorMetas')\n",
    "               ,MC1.BRANCH_CAPACITY.alias('CapacidadeFilial')\n",
    "               ,MC1.KEY_AUDIT.alias('ChaveAuditoria')\n",
    "               ,MC1.PRE_APPROVED.alias('PRE_APROVADO')\n",
    "               ,MC1.ANALYSIS_UNIT_AVG_PRICE.alias('AVG_Preço_UA')\n",
    "               ,MC1.UPPER_LIMIT_ANALYSIS_UNIT_AVG_PRICE.alias('LS_AVG_PRECO_UA')\n",
    "               ,MC1.LOWER_LIMIT_ANALYSIS_UNIT_AVG_PRICE.alias('LI_AVG_PRECO_UA')\n",
    "               ,MC1.APPROVED.alias('APROVADO')\n",
    "               ,MC1.BRANCH.alias('Filial')\n",
    "               ,MC1.REGION.alias('regiao'))"
   ]
  },
  {
   "cell_type": "code",
   "execution_count": 217,
   "metadata": {},
   "outputs": [
    {
     "data": {
      "application/vnd.jupyter.widget-view+json": {
       "model_id": "d2ea1810dd204f34b1ce0fcf6d94b8c7",
       "version_major": 2,
       "version_minor": 0
      },
      "text/plain": [
       "VBox()"
      ]
     },
     "metadata": {},
     "output_type": "display_data"
    },
    {
     "data": {
      "application/vnd.jupyter.widget-view+json": {
       "model_id": "",
       "version_major": 2,
       "version_minor": 0
      },
      "text/plain": [
       "FloatProgress(value=0.0, bar_style='info', description='Progress:', layout=Layout(height='25px', width='50%'),…"
      ]
     },
     "metadata": {},
     "output_type": "display_data"
    },
    {
     "name": "stdout",
     "output_type": "stream",
     "text": [
      "<pyspark.sql.readwriter.DataFrameWriter object at 0x7f70681ee210>"
     ]
    }
   ],
   "source": [
    "MC1.write.partitionBy(\"GPD\")"
   ]
  },
  {
   "cell_type": "code",
   "execution_count": 218,
   "metadata": {},
   "outputs": [
    {
     "data": {
      "application/vnd.jupyter.widget-view+json": {
       "model_id": "2e43971f9ac94fc1b3f19fabb39af845",
       "version_major": 2,
       "version_minor": 0
      },
      "text/plain": [
       "VBox()"
      ]
     },
     "metadata": {},
     "output_type": "display_data"
    },
    {
     "data": {
      "application/vnd.jupyter.widget-view+json": {
       "model_id": "",
       "version_major": 2,
       "version_minor": 0
      },
      "text/plain": [
       "FloatProgress(value=0.0, bar_style='info', description='Progress:', layout=Layout(height='25px', width='50%'),…"
      ]
     },
     "metadata": {},
     "output_type": "display_data"
    }
   ],
   "source": [
    "MC1 = MC1.repartition(\"GPD\")"
   ]
  },
  {
   "cell_type": "markdown",
   "metadata": {},
   "source": [
    "-------------------"
   ]
  },
  {
   "cell_type": "code",
   "execution_count": 219,
   "metadata": {},
   "outputs": [
    {
     "data": {
      "application/vnd.jupyter.widget-view+json": {
       "model_id": "4e249754f3684f91a4be2053a25e4db7",
       "version_major": 2,
       "version_minor": 0
      },
      "text/plain": [
       "VBox()"
      ]
     },
     "metadata": {},
     "output_type": "display_data"
    },
    {
     "data": {
      "application/vnd.jupyter.widget-view+json": {
       "model_id": "",
       "version_major": 2,
       "version_minor": 0
      },
      "text/plain": [
       "FloatProgress(value=0.0, bar_style='info', description='Progress:', layout=Layout(height='25px', width='50%'),…"
      ]
     },
     "metadata": {},
     "output_type": "display_data"
    }
   ],
   "source": [
    "GOOGLEFORMS=GOOGLEFORMS.withColumn('Timestamp'\n",
    "                                             ,concat(substring('Timestamp',7,4)\n",
    "                                                     ,lit(\"-\")\n",
    "                                                     ,substring('Timestamp',4,2)\n",
    "                                                     ,lit(\"-\")\n",
    "                                                     ,substring('Timestamp',1,2)))\n",
    "#2019-06-24 e 21/06/2019"
   ]
  },
  {
   "cell_type": "code",
   "execution_count": 220,
   "metadata": {},
   "outputs": [
    {
     "data": {
      "application/vnd.jupyter.widget-view+json": {
       "model_id": "cc27e2ccadf942b39ccb690f599a7025",
       "version_major": 2,
       "version_minor": 0
      },
      "text/plain": [
       "VBox()"
      ]
     },
     "metadata": {},
     "output_type": "display_data"
    },
    {
     "data": {
      "application/vnd.jupyter.widget-view+json": {
       "model_id": "",
       "version_major": 2,
       "version_minor": 0
      },
      "text/plain": [
       "FloatProgress(value=0.0, bar_style='info', description='Progress:', layout=Layout(height='25px', width='50%'),…"
      ]
     },
     "metadata": {},
     "output_type": "display_data"
    }
   ],
   "source": [
    "GOOGLEFORMS=GOOGLEFORMS.select('Timestamp'\n",
    "                                           ,'Código_de_Vendedor'\n",
    "                                           ,'Nome_vendedor'\n",
    "                                           ,'`Código do Cliente`'\n",
    "                                           ,'Nome do Cliente'\n",
    "                                           ,'Material COD'\n",
    "                                           ,'MaterialDESCAjuste'\n",
    "                                           ,'GPM'\n",
    "                                           ,'FABRICANTE'\n",
    "                                           ,'`Preço_com_Impostos`'\n",
    "                                           ,'Prazo_de_Pagamento'\n",
    "                                           ,'Tipo de Preço'\n",
    "                                           ,'Unidade_de_Medida'\n",
    "                                           ,'city'\n",
    "                                           ,'Estado'\n",
    "                                           #,'GROUP_CLIENT_3'\n",
    "                                           ,'OV Ajustada'\n",
    "                                           ,'Material_CODDESC'\n",
    "                                           ,'PreçoAvista KG'\n",
    "                                           ,'MesAno'\n",
    "                                           ,'DiasCorridos'\n",
    "                                           ,'DiasFaltantes'\n",
    "                                           ,'ChaveVendedorMetas'\n",
    "                                           ,'Aprovado'\n",
    "                                           ,'Filial'\n",
    "                                           ,'RegiãoFilial'\n",
    "                                           ,'Median_Avg_PrecoPraticadoKG'\n",
    "                                           ,'Count_Qtd_Fatura'\n",
    "                                           ,'PrecoSemana'\n",
    "                                           ,'GPDDescricao'\n",
    "                                           ,'StatusAtual'\n",
    "                                           ,'Tipo_de_Preço_Ajuste'\n",
    "                                           ,'Unidade de Análise'\n",
    "                                           ,'StdDev_PrecoConcorrente')"
   ]
  },
  {
   "cell_type": "code",
   "execution_count": 221,
   "metadata": {},
   "outputs": [
    {
     "data": {
      "application/vnd.jupyter.widget-view+json": {
       "model_id": "b4ff18de27b740a7b8fea20ce2d48945",
       "version_major": 2,
       "version_minor": 0
      },
      "text/plain": [
       "VBox()"
      ]
     },
     "metadata": {},
     "output_type": "display_data"
    },
    {
     "data": {
      "application/vnd.jupyter.widget-view+json": {
       "model_id": "",
       "version_major": 2,
       "version_minor": 0
      },
      "text/plain": [
       "FloatProgress(value=0.0, bar_style='info', description='Progress:', layout=Layout(height='25px', width='50%'),…"
      ]
     },
     "metadata": {},
     "output_type": "display_data"
    },
    {
     "name": "stdout",
     "output_type": "stream",
     "text": [
      "<pyspark.sql.readwriter.DataFrameWriter object at 0x7f70673a77d0>"
     ]
    }
   ],
   "source": [
    "GOOGLEFORMS.write.partitionBy(\"GPM\")"
   ]
  },
  {
   "cell_type": "code",
   "execution_count": 222,
   "metadata": {},
   "outputs": [
    {
     "data": {
      "application/vnd.jupyter.widget-view+json": {
       "model_id": "0e75f56ee6ba4a5197bf2fdf5e7a4451",
       "version_major": 2,
       "version_minor": 0
      },
      "text/plain": [
       "VBox()"
      ]
     },
     "metadata": {},
     "output_type": "display_data"
    },
    {
     "data": {
      "application/vnd.jupyter.widget-view+json": {
       "model_id": "",
       "version_major": 2,
       "version_minor": 0
      },
      "text/plain": [
       "FloatProgress(value=0.0, bar_style='info', description='Progress:', layout=Layout(height='25px', width='50%'),…"
      ]
     },
     "metadata": {},
     "output_type": "display_data"
    }
   ],
   "source": [
    "GOOGLEFORMS = GOOGLEFORMS.repartition(\"GPM\")"
   ]
  },
  {
   "cell_type": "markdown",
   "metadata": {},
   "source": [
    "--------------------------"
   ]
  },
  {
   "cell_type": "markdown",
   "metadata": {},
   "source": [
    "# Preparing Clients (KNA1)"
   ]
  },
  {
   "cell_type": "code",
   "execution_count": 223,
   "metadata": {},
   "outputs": [
    {
     "data": {
      "application/vnd.jupyter.widget-view+json": {
       "model_id": "866dc9d205c54411ada7ce9fbbae8a1e",
       "version_major": 2,
       "version_minor": 0
      },
      "text/plain": [
       "VBox()"
      ]
     },
     "metadata": {},
     "output_type": "display_data"
    },
    {
     "data": {
      "application/vnd.jupyter.widget-view+json": {
       "model_id": "",
       "version_major": 2,
       "version_minor": 0
      },
      "text/plain": [
       "FloatProgress(value=0.0, bar_style='info', description='Progress:', layout=Layout(height='25px', width='50%'),…"
      ]
     },
     "metadata": {},
     "output_type": "display_data"
    }
   ],
   "source": [
    "kna1=kna1.select(kna1.KUNNR, kna1.ADRNR, kna1[\"LAND1\"], kna1.DATA_LOAD_TIMESTAMP_PARQUET)"
   ]
  },
  {
   "cell_type": "code",
   "execution_count": 224,
   "metadata": {},
   "outputs": [
    {
     "data": {
      "application/vnd.jupyter.widget-view+json": {
       "model_id": "419f44da542c4dd7a42305c59d590771",
       "version_major": 2,
       "version_minor": 0
      },
      "text/plain": [
       "VBox()"
      ]
     },
     "metadata": {},
     "output_type": "display_data"
    },
    {
     "data": {
      "application/vnd.jupyter.widget-view+json": {
       "model_id": "",
       "version_major": 2,
       "version_minor": 0
      },
      "text/plain": [
       "FloatProgress(value=0.0, bar_style='info', description='Progress:', layout=Layout(height='25px', width='50%'),…"
      ]
     },
     "metadata": {},
     "output_type": "display_data"
    }
   ],
   "source": [
    "kna1=kna1.orderBy(kna1[\"LAND1\"]).filter(kna1[\"LAND1\"].like(\"%BR%\"))"
   ]
  },
  {
   "cell_type": "code",
   "execution_count": 225,
   "metadata": {},
   "outputs": [
    {
     "data": {
      "application/vnd.jupyter.widget-view+json": {
       "model_id": "6cdf129a01a741e3831ff79870ef82b5",
       "version_major": 2,
       "version_minor": 0
      },
      "text/plain": [
       "VBox()"
      ]
     },
     "metadata": {},
     "output_type": "display_data"
    },
    {
     "data": {
      "application/vnd.jupyter.widget-view+json": {
       "model_id": "",
       "version_major": 2,
       "version_minor": 0
      },
      "text/plain": [
       "FloatProgress(value=0.0, bar_style='info', description='Progress:', layout=Layout(height='25px', width='50%'),…"
      ]
     },
     "metadata": {},
     "output_type": "display_data"
    }
   ],
   "source": [
    "# Replacing the existing column with a corrected one\n",
    "kna1 = kna1.withColumn(\"DATA_LOAD_TIMESTAMP_PARQUET\", normalizing_date_hifen(\"DATA_LOAD_TIMESTAMP_PARQUET\"))"
   ]
  },
  {
   "cell_type": "code",
   "execution_count": 226,
   "metadata": {},
   "outputs": [
    {
     "data": {
      "application/vnd.jupyter.widget-view+json": {
       "model_id": "98d988585e06406cbd67817a160e929e",
       "version_major": 2,
       "version_minor": 0
      },
      "text/plain": [
       "VBox()"
      ]
     },
     "metadata": {},
     "output_type": "display_data"
    },
    {
     "data": {
      "application/vnd.jupyter.widget-view+json": {
       "model_id": "",
       "version_major": 2,
       "version_minor": 0
      },
      "text/plain": [
       "FloatProgress(value=0.0, bar_style='info', description='Progress:', layout=Layout(height='25px', width='50%'),…"
      ]
     },
     "metadata": {},
     "output_type": "display_data"
    }
   ],
   "source": [
    "kna1 = kna1.orderBy(\"DATA_LOAD_TIMESTAMP_PARQUET\", ascending=False)"
   ]
  },
  {
   "cell_type": "code",
   "execution_count": 227,
   "metadata": {},
   "outputs": [
    {
     "data": {
      "application/vnd.jupyter.widget-view+json": {
       "model_id": "caa8d50a249d4fa7a1691b31fc960f8a",
       "version_major": 2,
       "version_minor": 0
      },
      "text/plain": [
       "VBox()"
      ]
     },
     "metadata": {},
     "output_type": "display_data"
    },
    {
     "data": {
      "application/vnd.jupyter.widget-view+json": {
       "model_id": "",
       "version_major": 2,
       "version_minor": 0
      },
      "text/plain": [
       "FloatProgress(value=0.0, bar_style='info', description='Progress:', layout=Layout(height='25px', width='50%'),…"
      ]
     },
     "metadata": {},
     "output_type": "display_data"
    }
   ],
   "source": [
    "kna1 = kna1.drop(\"DATA_LOAD_TIMESTAMP_PARQUET\", \"LAND1\").dropDuplicates()"
   ]
  },
  {
   "cell_type": "markdown",
   "metadata": {},
   "source": [
    "----------------------"
   ]
  },
  {
   "cell_type": "markdown",
   "metadata": {},
   "source": [
    "# Preparing Address (ADRC)"
   ]
  },
  {
   "cell_type": "code",
   "execution_count": 228,
   "metadata": {},
   "outputs": [
    {
     "data": {
      "application/vnd.jupyter.widget-view+json": {
       "model_id": "52b0a1a3cd86415ea47f3c5b4649ce41",
       "version_major": 2,
       "version_minor": 0
      },
      "text/plain": [
       "VBox()"
      ]
     },
     "metadata": {},
     "output_type": "display_data"
    },
    {
     "data": {
      "application/vnd.jupyter.widget-view+json": {
       "model_id": "",
       "version_major": 2,
       "version_minor": 0
      },
      "text/plain": [
       "FloatProgress(value=0.0, bar_style='info', description='Progress:', layout=Layout(height='25px', width='50%'),…"
      ]
     },
     "metadata": {},
     "output_type": "display_data"
    }
   ],
   "source": [
    "adrc=adrc.select(adrc.ADDRNUMBER, adrc.CITY1, adrc.REGION, adrc[\"COUNTRY\"], adrc.DATA_LOAD_TIMESTAMP_PARQUET)"
   ]
  },
  {
   "cell_type": "code",
   "execution_count": 229,
   "metadata": {},
   "outputs": [
    {
     "data": {
      "application/vnd.jupyter.widget-view+json": {
       "model_id": "de5fe7cafec040cba462e96a235ab2c4",
       "version_major": 2,
       "version_minor": 0
      },
      "text/plain": [
       "VBox()"
      ]
     },
     "metadata": {},
     "output_type": "display_data"
    },
    {
     "data": {
      "application/vnd.jupyter.widget-view+json": {
       "model_id": "",
       "version_major": 2,
       "version_minor": 0
      },
      "text/plain": [
       "FloatProgress(value=0.0, bar_style='info', description='Progress:', layout=Layout(height='25px', width='50%'),…"
      ]
     },
     "metadata": {},
     "output_type": "display_data"
    }
   ],
   "source": [
    "adrc=adrc.orderBy(adrc[\"COUNTRY\"]).filter(adrc[\"COUNTRY\"].like(\"%BR%\"))"
   ]
  },
  {
   "cell_type": "code",
   "execution_count": 230,
   "metadata": {},
   "outputs": [
    {
     "data": {
      "application/vnd.jupyter.widget-view+json": {
       "model_id": "13938469b4b049d7a213bc2045fda08f",
       "version_major": 2,
       "version_minor": 0
      },
      "text/plain": [
       "VBox()"
      ]
     },
     "metadata": {},
     "output_type": "display_data"
    },
    {
     "data": {
      "application/vnd.jupyter.widget-view+json": {
       "model_id": "",
       "version_major": 2,
       "version_minor": 0
      },
      "text/plain": [
       "FloatProgress(value=0.0, bar_style='info', description='Progress:', layout=Layout(height='25px', width='50%'),…"
      ]
     },
     "metadata": {},
     "output_type": "display_data"
    }
   ],
   "source": [
    "# Replacing the existing column with a corrected one\n",
    "adrc = adrc.withColumn(\"DATA_LOAD_TIMESTAMP_PARQUET\", normalizing_date_hifen(\"DATA_LOAD_TIMESTAMP_PARQUET\"))"
   ]
  },
  {
   "cell_type": "code",
   "execution_count": 231,
   "metadata": {},
   "outputs": [
    {
     "data": {
      "application/vnd.jupyter.widget-view+json": {
       "model_id": "f9d4233d276548f58db329b6c3c9d155",
       "version_major": 2,
       "version_minor": 0
      },
      "text/plain": [
       "VBox()"
      ]
     },
     "metadata": {},
     "output_type": "display_data"
    },
    {
     "data": {
      "application/vnd.jupyter.widget-view+json": {
       "model_id": "",
       "version_major": 2,
       "version_minor": 0
      },
      "text/plain": [
       "FloatProgress(value=0.0, bar_style='info', description='Progress:', layout=Layout(height='25px', width='50%'),…"
      ]
     },
     "metadata": {},
     "output_type": "display_data"
    }
   ],
   "source": [
    "adrc = adrc.orderBy(\"DATA_LOAD_TIMESTAMP_PARQUET\", ascending=False)"
   ]
  },
  {
   "cell_type": "code",
   "execution_count": 232,
   "metadata": {},
   "outputs": [
    {
     "data": {
      "application/vnd.jupyter.widget-view+json": {
       "model_id": "dabc1b88561b4d5ea7fd6352eee9cd9c",
       "version_major": 2,
       "version_minor": 0
      },
      "text/plain": [
       "VBox()"
      ]
     },
     "metadata": {},
     "output_type": "display_data"
    },
    {
     "data": {
      "application/vnd.jupyter.widget-view+json": {
       "model_id": "",
       "version_major": 2,
       "version_minor": 0
      },
      "text/plain": [
       "FloatProgress(value=0.0, bar_style='info', description='Progress:', layout=Layout(height='25px', width='50%'),…"
      ]
     },
     "metadata": {},
     "output_type": "display_data"
    }
   ],
   "source": [
    "adrc = adrc.drop(\"DATA_LOAD_TIMESTAMP_PARQUET\", \"COUNTRY\").dropDuplicates()"
   ]
  },
  {
   "cell_type": "code",
   "execution_count": 233,
   "metadata": {},
   "outputs": [
    {
     "data": {
      "application/vnd.jupyter.widget-view+json": {
       "model_id": "37b47cad02904e93b20066fdcd0d14ae",
       "version_major": 2,
       "version_minor": 0
      },
      "text/plain": [
       "VBox()"
      ]
     },
     "metadata": {},
     "output_type": "display_data"
    },
    {
     "data": {
      "application/vnd.jupyter.widget-view+json": {
       "model_id": "",
       "version_major": 2,
       "version_minor": 0
      },
      "text/plain": [
       "FloatProgress(value=0.0, bar_style='info', description='Progress:', layout=Layout(height='25px', width='50%'),…"
      ]
     },
     "metadata": {},
     "output_type": "display_data"
    },
    {
     "name": "stdout",
     "output_type": "stream",
     "text": [
      "<pyspark.sql.readwriter.DataFrameWriter object at 0x7f70681ee490>"
     ]
    }
   ],
   "source": [
    "adrc.write.partitionBy(\"REGION\")"
   ]
  },
  {
   "cell_type": "code",
   "execution_count": 234,
   "metadata": {},
   "outputs": [
    {
     "data": {
      "application/vnd.jupyter.widget-view+json": {
       "model_id": "56257943acd94c61a683ba1e9ecdf117",
       "version_major": 2,
       "version_minor": 0
      },
      "text/plain": [
       "VBox()"
      ]
     },
     "metadata": {},
     "output_type": "display_data"
    },
    {
     "data": {
      "application/vnd.jupyter.widget-view+json": {
       "model_id": "",
       "version_major": 2,
       "version_minor": 0
      },
      "text/plain": [
       "FloatProgress(value=0.0, bar_style='info', description='Progress:', layout=Layout(height='25px', width='50%'),…"
      ]
     },
     "metadata": {},
     "output_type": "display_data"
    }
   ],
   "source": [
    "adrc = adrc.repartition(\"REGION\")"
   ]
  },
  {
   "cell_type": "markdown",
   "metadata": {},
   "source": [
    "--------------"
   ]
  },
  {
   "cell_type": "markdown",
   "metadata": {},
   "source": [
    "# Preparing Regions Table"
   ]
  },
  {
   "cell_type": "code",
   "execution_count": 235,
   "metadata": {},
   "outputs": [
    {
     "data": {
      "application/vnd.jupyter.widget-view+json": {
       "model_id": "a314d010fd1f47a9aab1ab39b4626fdb",
       "version_major": 2,
       "version_minor": 0
      },
      "text/plain": [
       "VBox()"
      ]
     },
     "metadata": {},
     "output_type": "display_data"
    },
    {
     "data": {
      "application/vnd.jupyter.widget-view+json": {
       "model_id": "",
       "version_major": 2,
       "version_minor": 0
      },
      "text/plain": [
       "FloatProgress(value=0.0, bar_style='info', description='Progress:', layout=Layout(height='25px', width='50%'),…"
      ]
     },
     "metadata": {},
     "output_type": "display_data"
    }
   ],
   "source": [
    "# Normalizing the column IBGE_SAP_CITY_NAME\n",
    "df_region=df_region.withColumn(\"UPPER_NAME\", normalizing_orthography(upper(df_region[\"IBGE_SAP_CITY_NAME\"])))"
   ]
  },
  {
   "cell_type": "code",
   "execution_count": 236,
   "metadata": {},
   "outputs": [
    {
     "data": {
      "application/vnd.jupyter.widget-view+json": {
       "model_id": "0992cdc987d9475da20de1f7cbefc546",
       "version_major": 2,
       "version_minor": 0
      },
      "text/plain": [
       "VBox()"
      ]
     },
     "metadata": {},
     "output_type": "display_data"
    },
    {
     "data": {
      "application/vnd.jupyter.widget-view+json": {
       "model_id": "",
       "version_major": 2,
       "version_minor": 0
      },
      "text/plain": [
       "FloatProgress(value=0.0, bar_style='info', description='Progress:', layout=Layout(height='25px', width='50%'),…"
      ]
     },
     "metadata": {},
     "output_type": "display_data"
    }
   ],
   "source": [
    "# Selecting Necessary Columns\n",
    "df_region=df_region.select(df_region.BRANCH.alias(\"BRANCH_REGION\")\n",
    "                          ,df_region.UPPER_NAME.alias(\"CITY_drop\")\n",
    "                          ,df_region.IBGE_UF_ACRONYMS.alias(\"STATE_drop\"))"
   ]
  },
  {
   "cell_type": "code",
   "execution_count": 237,
   "metadata": {},
   "outputs": [
    {
     "data": {
      "application/vnd.jupyter.widget-view+json": {
       "model_id": "7822b057f7da4cb7908c7d70f7c14769",
       "version_major": 2,
       "version_minor": 0
      },
      "text/plain": [
       "VBox()"
      ]
     },
     "metadata": {},
     "output_type": "display_data"
    },
    {
     "data": {
      "application/vnd.jupyter.widget-view+json": {
       "model_id": "",
       "version_major": 2,
       "version_minor": 0
      },
      "text/plain": [
       "FloatProgress(value=0.0, bar_style='info', description='Progress:', layout=Layout(height='25px', width='50%'),…"
      ]
     },
     "metadata": {},
     "output_type": "display_data"
    }
   ],
   "source": [
    "df_region=df_region.withColumn(\"REGION_drop\", when(substring(\"BRANCH_REGION\", 7, 30).like(\"SAO\"),\"São Paulo\")\\\n",
    "                                               .otherwise(when(substring(\"BRANCH_REGION\", 7, 30).like(\"São J. Campos\"),\"São José dos Campos\")\\\n",
    "                                                          .otherwise(substring(\"BRANCH_REGION\", 7, 30))))\\\n",
    "                    .dropDuplicates()"
   ]
  },
  {
   "cell_type": "code",
   "execution_count": 238,
   "metadata": {},
   "outputs": [
    {
     "data": {
      "application/vnd.jupyter.widget-view+json": {
       "model_id": "295e9fb06ea7470d99c1af012238495f",
       "version_major": 2,
       "version_minor": 0
      },
      "text/plain": [
       "VBox()"
      ]
     },
     "metadata": {},
     "output_type": "display_data"
    },
    {
     "data": {
      "application/vnd.jupyter.widget-view+json": {
       "model_id": "",
       "version_major": 2,
       "version_minor": 0
      },
      "text/plain": [
       "FloatProgress(value=0.0, bar_style='info', description='Progress:', layout=Layout(height='25px', width='50%'),…"
      ]
     },
     "metadata": {},
     "output_type": "display_data"
    },
    {
     "name": "stdout",
     "output_type": "stream",
     "text": [
      "<pyspark.sql.readwriter.DataFrameWriter object at 0x7f706808d650>"
     ]
    }
   ],
   "source": [
    "df_region.write.partitionBy(\"BRANCH_REGION\")"
   ]
  },
  {
   "cell_type": "code",
   "execution_count": 239,
   "metadata": {},
   "outputs": [
    {
     "data": {
      "application/vnd.jupyter.widget-view+json": {
       "model_id": "291f35016d5c4df596b1033fa525f76a",
       "version_major": 2,
       "version_minor": 0
      },
      "text/plain": [
       "VBox()"
      ]
     },
     "metadata": {},
     "output_type": "display_data"
    },
    {
     "data": {
      "application/vnd.jupyter.widget-view+json": {
       "model_id": "",
       "version_major": 2,
       "version_minor": 0
      },
      "text/plain": [
       "FloatProgress(value=0.0, bar_style='info', description='Progress:', layout=Layout(height='25px', width='50%'),…"
      ]
     },
     "metadata": {},
     "output_type": "display_data"
    }
   ],
   "source": [
    "df_region = df_region.repartition(\"BRANCH_REGION\")"
   ]
  },
  {
   "cell_type": "markdown",
   "metadata": {},
   "source": [
    "----"
   ]
  },
  {
   "cell_type": "markdown",
   "metadata": {},
   "source": [
    "## Join"
   ]
  },
  {
   "cell_type": "code",
   "execution_count": 240,
   "metadata": {},
   "outputs": [
    {
     "data": {
      "application/vnd.jupyter.widget-view+json": {
       "model_id": "ac71b2ca22fa460f910a94fba62fc49b",
       "version_major": 2,
       "version_minor": 0
      },
      "text/plain": [
       "VBox()"
      ]
     },
     "metadata": {},
     "output_type": "display_data"
    },
    {
     "data": {
      "application/vnd.jupyter.widget-view+json": {
       "model_id": "",
       "version_major": 2,
       "version_minor": 0
      },
      "text/plain": [
       "FloatProgress(value=0.0, bar_style='info', description='Progress:', layout=Layout(height='25px', width='50%'),…"
      ]
     },
     "metadata": {},
     "output_type": "display_data"
    }
   ],
   "source": [
    "#### Union SF and MC1"
   ]
  },
  {
   "cell_type": "code",
   "execution_count": 241,
   "metadata": {},
   "outputs": [
    {
     "data": {
      "application/vnd.jupyter.widget-view+json": {
       "model_id": "8f41aaaf2a2a4cb490140385b5861831",
       "version_major": 2,
       "version_minor": 0
      },
      "text/plain": [
       "VBox()"
      ]
     },
     "metadata": {},
     "output_type": "display_data"
    },
    {
     "data": {
      "application/vnd.jupyter.widget-view+json": {
       "model_id": "",
       "version_major": 2,
       "version_minor": 0
      },
      "text/plain": [
       "FloatProgress(value=0.0, bar_style='info', description='Progress:', layout=Layout(height='25px', width='50%'),…"
      ]
     },
     "metadata": {},
     "output_type": "display_data"
    },
    {
     "name": "stderr",
     "output_type": "stream",
     "text": [
      "u'Cannot resolve column name \"COD_SALES_AGENT\" among (GPM, GPD, COD_PRODUCT, DESC_PRODUCT, Cod_Vendedor, Nome_vendedor, COD_CLIENTE, NOME_CLIENTE, UNIDADE_DE_MEDIDA, PRAZO_DE_PAGAMENTO, PRECO_COM_IMPOSTOS, ESTADO, CIDADE, FABRICANTE, TIMESTAMP, CIDADEESTADO, DESC_MATERIAL, Filial, GROUP_CLIENT_3, CITY, OVajustada, ChaveAmostra, MATERIAL, TIPO_DE_PRECO, ChaveFatura, Preco21dias, Preco21diasKG, MesAno, DiasCorridos, DiasFaltantes, ChaveVendedorMetas, Mes-Ano, ChaveVendedor, CapacidadeFilial, ChaveAuditoria, Pre_Aprovado, AVG_Pre\\xe7o_UA, LS_AVG_Preco_UA, LI_AVG_Preco_UA, Aprovado, Regiao);'\n",
      "Traceback (most recent call last):\n",
      "  File \"/usr/lib/spark/python/lib/pyspark.zip/pyspark/sql/dataframe.py\", line 1493, in unionByName\n",
      "    return DataFrame(self._jdf.unionByName(other._jdf), self.sql_ctx)\n",
      "  File \"/usr/lib/spark/python/lib/py4j-0.10.7-src.zip/py4j/java_gateway.py\", line 1257, in __call__\n",
      "    answer, self.gateway_client, self.target_id, self.name)\n",
      "  File \"/usr/lib/spark/python/lib/pyspark.zip/pyspark/sql/utils.py\", line 69, in deco\n",
      "    raise AnalysisException(s.split(': ', 1)[1], stackTrace)\n",
      "AnalysisException: u'Cannot resolve column name \"COD_SALES_AGENT\" among (GPM, GPD, COD_PRODUCT, DESC_PRODUCT, Cod_Vendedor, Nome_vendedor, COD_CLIENTE, NOME_CLIENTE, UNIDADE_DE_MEDIDA, PRAZO_DE_PAGAMENTO, PRECO_COM_IMPOSTOS, ESTADO, CIDADE, FABRICANTE, TIMESTAMP, CIDADEESTADO, DESC_MATERIAL, Filial, GROUP_CLIENT_3, CITY, OVajustada, ChaveAmostra, MATERIAL, TIPO_DE_PRECO, ChaveFatura, Preco21dias, Preco21diasKG, MesAno, DiasCorridos, DiasFaltantes, ChaveVendedorMetas, Mes-Ano, ChaveVendedor, CapacidadeFilial, ChaveAuditoria, Pre_Aprovado, AVG_Pre\\xe7o_UA, LS_AVG_Preco_UA, LI_AVG_Preco_UA, Aprovado, Regiao);'\n",
      "\n"
     ]
    }
   ],
   "source": [
    "COLETAS=SALESFORCE.unionByName(MC1)"
   ]
  },
  {
   "cell_type": "code",
   "execution_count": 242,
   "metadata": {},
   "outputs": [
    {
     "data": {
      "application/vnd.jupyter.widget-view+json": {
       "model_id": "dc5d08916c9a443ca684aad7b534fa94",
       "version_major": 2,
       "version_minor": 0
      },
      "text/plain": [
       "VBox()"
      ]
     },
     "metadata": {},
     "output_type": "display_data"
    },
    {
     "data": {
      "application/vnd.jupyter.widget-view+json": {
       "model_id": "",
       "version_major": 2,
       "version_minor": 0
      },
      "text/plain": [
       "FloatProgress(value=0.0, bar_style='info', description='Progress:', layout=Layout(height='25px', width='50%'),…"
      ]
     },
     "metadata": {},
     "output_type": "display_data"
    },
    {
     "name": "stderr",
     "output_type": "stream",
     "text": [
      "name 'COLETAS' is not defined\n",
      "Traceback (most recent call last):\n",
      "NameError: name 'COLETAS' is not defined\n",
      "\n"
     ]
    }
   ],
   "source": [
    "COLETAS=COLETAS.drop('QTD_COLETAS_TOTAL','QtdDeColetasMes')"
   ]
  },
  {
   "cell_type": "code",
   "execution_count": 243,
   "metadata": {},
   "outputs": [
    {
     "data": {
      "application/vnd.jupyter.widget-view+json": {
       "model_id": "f61c42fa4efc455ba475afb1fe55c294",
       "version_major": 2,
       "version_minor": 0
      },
      "text/plain": [
       "VBox()"
      ]
     },
     "metadata": {},
     "output_type": "display_data"
    },
    {
     "data": {
      "application/vnd.jupyter.widget-view+json": {
       "model_id": "",
       "version_major": 2,
       "version_minor": 0
      },
      "text/plain": [
       "FloatProgress(value=0.0, bar_style='info', description='Progress:', layout=Layout(height='25px', width='50%'),…"
      ]
     },
     "metadata": {},
     "output_type": "display_data"
    },
    {
     "name": "stderr",
     "output_type": "stream",
     "text": [
      "name 'COLETAS' is not defined\n",
      "Traceback (most recent call last):\n",
      "NameError: name 'COLETAS' is not defined\n",
      "\n"
     ]
    }
   ],
   "source": [
    "COLETAS.persist(pyspark.StorageLevel.MEMORY_ONLY)"
   ]
  },
  {
   "cell_type": "code",
   "execution_count": 244,
   "metadata": {
    "scrolled": false
   },
   "outputs": [
    {
     "data": {
      "application/vnd.jupyter.widget-view+json": {
       "model_id": "1e90e494f6b64c92928de6fa7ff63f6c",
       "version_major": 2,
       "version_minor": 0
      },
      "text/plain": [
       "VBox()"
      ]
     },
     "metadata": {},
     "output_type": "display_data"
    },
    {
     "data": {
      "application/vnd.jupyter.widget-view+json": {
       "model_id": "",
       "version_major": 2,
       "version_minor": 0
      },
      "text/plain": [
       "FloatProgress(value=0.0, bar_style='info', description='Progress:', layout=Layout(height='25px', width='50%'),…"
      ]
     },
     "metadata": {},
     "output_type": "display_data"
    },
    {
     "name": "stderr",
     "output_type": "stream",
     "text": [
      "name 'COLETAS' is not defined\n",
      "Traceback (most recent call last):\n",
      "NameError: name 'COLETAS' is not defined\n",
      "\n"
     ]
    }
   ],
   "source": [
    "COLETAS.count()"
   ]
  },
  {
   "cell_type": "markdown",
   "metadata": {},
   "source": [
    "#### Join with Gerdau Invoice"
   ]
  },
  {
   "cell_type": "code",
   "execution_count": 245,
   "metadata": {},
   "outputs": [
    {
     "data": {
      "application/vnd.jupyter.widget-view+json": {
       "model_id": "3604e7cfed2146158efacb2af3e44f52",
       "version_major": 2,
       "version_minor": 0
      },
      "text/plain": [
       "VBox()"
      ]
     },
     "metadata": {},
     "output_type": "display_data"
    },
    {
     "data": {
      "application/vnd.jupyter.widget-view+json": {
       "model_id": "",
       "version_major": 2,
       "version_minor": 0
      },
      "text/plain": [
       "FloatProgress(value=0.0, bar_style='info', description='Progress:', layout=Layout(height='25px', width='50%'),…"
      ]
     },
     "metadata": {},
     "output_type": "display_data"
    }
   ],
   "source": [
    "# Invoice by date\n",
    "GERDAUPRICE=GERDAU_PRICE.select(col('ChaveFatura').alias('ChaveFaturaPraticado')\n",
    "                           ,col('Avg_PrecoPratiadoKG').alias('Median_Avg_PrecoPraticadoKG')\n",
    "                           ,col('Count_Qtd_Fatura').alias('Count_Qtd_Fatura'))"
   ]
  },
  {
   "cell_type": "code",
   "execution_count": 246,
   "metadata": {},
   "outputs": [
    {
     "data": {
      "application/vnd.jupyter.widget-view+json": {
       "model_id": "8f98316a54a449a3af94f8b7a2f066e6",
       "version_major": 2,
       "version_minor": 0
      },
      "text/plain": [
       "VBox()"
      ]
     },
     "metadata": {},
     "output_type": "display_data"
    },
    {
     "data": {
      "application/vnd.jupyter.widget-view+json": {
       "model_id": "",
       "version_major": 2,
       "version_minor": 0
      },
      "text/plain": [
       "FloatProgress(value=0.0, bar_style='info', description='Progress:', layout=Layout(height='25px', width='50%'),…"
      ]
     },
     "metadata": {},
     "output_type": "display_data"
    }
   ],
   "source": [
    "# Invoice by date and week\n",
    "GERDAUPRICE_WEEK=GERDAU_PRICE.select(col('ChaveFatura').alias('ChaveFaturaPraticado')\n",
    "                                                ,col('UNComSemana').alias('UnComSemanaPP')\n",
    "                                                ,col('PrecoSemana').alias('PrecoSemana'))"
   ]
  },
  {
   "cell_type": "code",
   "execution_count": 247,
   "metadata": {},
   "outputs": [
    {
     "data": {
      "application/vnd.jupyter.widget-view+json": {
       "model_id": "e1145c254519475cb41ee933b5afc621",
       "version_major": 2,
       "version_minor": 0
      },
      "text/plain": [
       "VBox()"
      ]
     },
     "metadata": {},
     "output_type": "display_data"
    },
    {
     "data": {
      "application/vnd.jupyter.widget-view+json": {
       "model_id": "",
       "version_major": 2,
       "version_minor": 0
      },
      "text/plain": [
       "FloatProgress(value=0.0, bar_style='info', description='Progress:', layout=Layout(height='25px', width='50%'),…"
      ]
     },
     "metadata": {},
     "output_type": "display_data"
    },
    {
     "name": "stderr",
     "output_type": "stream",
     "text": [
      "name 'COLETAS' is not defined\n",
      "Traceback (most recent call last):\n",
      "NameError: name 'COLETAS' is not defined\n",
      "\n"
     ]
    }
   ],
   "source": [
    "COLETAS=COLETAS.join(kna1, COLETAS.COD_CLIENTE.cast(IntegerType())==kna1.KUNNR.cast(IntegerType()), how='left')"
   ]
  },
  {
   "cell_type": "code",
   "execution_count": 248,
   "metadata": {},
   "outputs": [
    {
     "data": {
      "application/vnd.jupyter.widget-view+json": {
       "model_id": "13702ff8b8a3437590b9026329b92fe7",
       "version_major": 2,
       "version_minor": 0
      },
      "text/plain": [
       "VBox()"
      ]
     },
     "metadata": {},
     "output_type": "display_data"
    },
    {
     "data": {
      "application/vnd.jupyter.widget-view+json": {
       "model_id": "",
       "version_major": 2,
       "version_minor": 0
      },
      "text/plain": [
       "FloatProgress(value=0.0, bar_style='info', description='Progress:', layout=Layout(height='25px', width='50%'),…"
      ]
     },
     "metadata": {},
     "output_type": "display_data"
    },
    {
     "name": "stderr",
     "output_type": "stream",
     "text": [
      "name 'COLETAS' is not defined\n",
      "Traceback (most recent call last):\n",
      "NameError: name 'COLETAS' is not defined\n",
      "\n"
     ]
    }
   ],
   "source": [
    "COLETAS.persist(pyspark.StorageLevel.MEMORY_ONLY)"
   ]
  },
  {
   "cell_type": "code",
   "execution_count": 249,
   "metadata": {},
   "outputs": [
    {
     "data": {
      "application/vnd.jupyter.widget-view+json": {
       "model_id": "527fb75ec8514d63b7172f8205cdfc79",
       "version_major": 2,
       "version_minor": 0
      },
      "text/plain": [
       "VBox()"
      ]
     },
     "metadata": {},
     "output_type": "display_data"
    },
    {
     "data": {
      "application/vnd.jupyter.widget-view+json": {
       "model_id": "",
       "version_major": 2,
       "version_minor": 0
      },
      "text/plain": [
       "FloatProgress(value=0.0, bar_style='info', description='Progress:', layout=Layout(height='25px', width='50%'),…"
      ]
     },
     "metadata": {},
     "output_type": "display_data"
    },
    {
     "name": "stderr",
     "output_type": "stream",
     "text": [
      "name 'COLETAS' is not defined\n",
      "Traceback (most recent call last):\n",
      "NameError: name 'COLETAS' is not defined\n",
      "\n"
     ]
    }
   ],
   "source": [
    "COLETAS=COLETAS.withColumn('COD_CLIENTE', when(COLETAS.KUNNR.isNull(), COLETAS.COD_CLIENTE)\\\n",
    "                                            .otherwise(COLETAS.KUNNR))\\"
   ]
  },
  {
   "cell_type": "code",
   "execution_count": 250,
   "metadata": {},
   "outputs": [
    {
     "data": {
      "application/vnd.jupyter.widget-view+json": {
       "model_id": "15bd39adbf8f40fcbddb94022dd8a994",
       "version_major": 2,
       "version_minor": 0
      },
      "text/plain": [
       "VBox()"
      ]
     },
     "metadata": {},
     "output_type": "display_data"
    },
    {
     "data": {
      "application/vnd.jupyter.widget-view+json": {
       "model_id": "",
       "version_major": 2,
       "version_minor": 0
      },
      "text/plain": [
       "FloatProgress(value=0.0, bar_style='info', description='Progress:', layout=Layout(height='25px', width='50%'),…"
      ]
     },
     "metadata": {},
     "output_type": "display_data"
    },
    {
     "name": "stderr",
     "output_type": "stream",
     "text": [
      "name 'COLETAS' is not defined\n",
      "Traceback (most recent call last):\n",
      "NameError: name 'COLETAS' is not defined\n",
      "\n"
     ]
    }
   ],
   "source": [
    "COLETAS=COLETAS.join(adrc, COLETAS.ADRNR.cast(IntegerType())==adrc.ADDRNUMBER.cast(IntegerType()), how='left')"
   ]
  },
  {
   "cell_type": "code",
   "execution_count": 251,
   "metadata": {},
   "outputs": [
    {
     "data": {
      "application/vnd.jupyter.widget-view+json": {
       "model_id": "1ec9506b2dbf4900a8258d92f7a1f941",
       "version_major": 2,
       "version_minor": 0
      },
      "text/plain": [
       "VBox()"
      ]
     },
     "metadata": {},
     "output_type": "display_data"
    },
    {
     "data": {
      "application/vnd.jupyter.widget-view+json": {
       "model_id": "",
       "version_major": 2,
       "version_minor": 0
      },
      "text/plain": [
       "FloatProgress(value=0.0, bar_style='info', description='Progress:', layout=Layout(height='25px', width='50%'),…"
      ]
     },
     "metadata": {},
     "output_type": "display_data"
    },
    {
     "name": "stderr",
     "output_type": "stream",
     "text": [
      "name 'COLETAS' is not defined\n",
      "Traceback (most recent call last):\n",
      "NameError: name 'COLETAS' is not defined\n",
      "\n"
     ]
    }
   ],
   "source": [
    "COLETAS.persist(pyspark.StorageLevel.MEMORY_ONLY)"
   ]
  },
  {
   "cell_type": "code",
   "execution_count": 252,
   "metadata": {},
   "outputs": [
    {
     "data": {
      "application/vnd.jupyter.widget-view+json": {
       "model_id": "e3b3a52d5c1d47efbe01888ffda118c3",
       "version_major": 2,
       "version_minor": 0
      },
      "text/plain": [
       "VBox()"
      ]
     },
     "metadata": {},
     "output_type": "display_data"
    },
    {
     "data": {
      "application/vnd.jupyter.widget-view+json": {
       "model_id": "",
       "version_major": 2,
       "version_minor": 0
      },
      "text/plain": [
       "FloatProgress(value=0.0, bar_style='info', description='Progress:', layout=Layout(height='25px', width='50%'),…"
      ]
     },
     "metadata": {},
     "output_type": "display_data"
    },
    {
     "name": "stderr",
     "output_type": "stream",
     "text": [
      "name 'COLETAS' is not defined\n",
      "Traceback (most recent call last):\n",
      "NameError: name 'COLETAS' is not defined\n",
      "\n"
     ]
    }
   ],
   "source": [
    "COLETAS=COLETAS.withColumn('ADRNR', when(COLETAS.ADDRNUMBER.isNull(), COLETAS.ADRNR)\\\n",
    "                                            .otherwise(COLETAS.ADDRNUMBER))\\"
   ]
  },
  {
   "cell_type": "code",
   "execution_count": 253,
   "metadata": {
    "scrolled": true
   },
   "outputs": [
    {
     "data": {
      "application/vnd.jupyter.widget-view+json": {
       "model_id": "d115b8a751a248d483a669c3b97c8dd4",
       "version_major": 2,
       "version_minor": 0
      },
      "text/plain": [
       "VBox()"
      ]
     },
     "metadata": {},
     "output_type": "display_data"
    },
    {
     "data": {
      "application/vnd.jupyter.widget-view+json": {
       "model_id": "",
       "version_major": 2,
       "version_minor": 0
      },
      "text/plain": [
       "FloatProgress(value=0.0, bar_style='info', description='Progress:', layout=Layout(height='25px', width='50%'),…"
      ]
     },
     "metadata": {},
     "output_type": "display_data"
    },
    {
     "name": "stderr",
     "output_type": "stream",
     "text": [
      "name 'COLETAS' is not defined\n",
      "Traceback (most recent call last):\n",
      "NameError: name 'COLETAS' is not defined\n",
      "\n"
     ]
    }
   ],
   "source": [
    "COLETAS=COLETAS.withColumn('CIDADE', when(COLETAS.ADDRNUMBER.isNull(), COLETAS.CIDADE)\\\n",
    "                                            .otherwise(COLETAS.CITY1))\\"
   ]
  },
  {
   "cell_type": "code",
   "execution_count": 254,
   "metadata": {},
   "outputs": [
    {
     "data": {
      "application/vnd.jupyter.widget-view+json": {
       "model_id": "87e2bf58c46949d8b3cc9052df3c7b9b",
       "version_major": 2,
       "version_minor": 0
      },
      "text/plain": [
       "VBox()"
      ]
     },
     "metadata": {},
     "output_type": "display_data"
    },
    {
     "data": {
      "application/vnd.jupyter.widget-view+json": {
       "model_id": "",
       "version_major": 2,
       "version_minor": 0
      },
      "text/plain": [
       "FloatProgress(value=0.0, bar_style='info', description='Progress:', layout=Layout(height='25px', width='50%'),…"
      ]
     },
     "metadata": {},
     "output_type": "display_data"
    },
    {
     "name": "stderr",
     "output_type": "stream",
     "text": [
      "name 'COLETAS' is not defined\n",
      "Traceback (most recent call last):\n",
      "NameError: name 'COLETAS' is not defined\n",
      "\n"
     ]
    }
   ],
   "source": [
    "COLETAS=COLETAS.withColumn('ESTADO', when(COLETAS.ADDRNUMBER.isNull(), COLETAS.ESTADO)\\\n",
    "                                            .otherwise(COLETAS.REGION))\\"
   ]
  },
  {
   "cell_type": "code",
   "execution_count": 255,
   "metadata": {},
   "outputs": [
    {
     "data": {
      "application/vnd.jupyter.widget-view+json": {
       "model_id": "4d6bcabc4a0b4adc8b0b3bbce3dbe14d",
       "version_major": 2,
       "version_minor": 0
      },
      "text/plain": [
       "VBox()"
      ]
     },
     "metadata": {},
     "output_type": "display_data"
    },
    {
     "data": {
      "application/vnd.jupyter.widget-view+json": {
       "model_id": "",
       "version_major": 2,
       "version_minor": 0
      },
      "text/plain": [
       "FloatProgress(value=0.0, bar_style='info', description='Progress:', layout=Layout(height='25px', width='50%'),…"
      ]
     },
     "metadata": {},
     "output_type": "display_data"
    },
    {
     "name": "stderr",
     "output_type": "stream",
     "text": [
      "name 'COLETAS' is not defined\n",
      "Traceback (most recent call last):\n",
      "NameError: name 'COLETAS' is not defined\n",
      "\n"
     ]
    }
   ],
   "source": [
    "COLETAS=COLETAS.join(df_region, (normalizing_orthography(upper(trim(COLETAS.CIDADE)))==upper(trim(df_region.CITY_drop)))&\n",
    "                                (normalizing_orthography(upper(trim(COLETAS.ESTADO)))==upper(trim(df_region.STATE_drop))), how=\"left\")\\\n",
    "            .dropDuplicates()"
   ]
  },
  {
   "cell_type": "code",
   "execution_count": 256,
   "metadata": {
    "scrolled": true
   },
   "outputs": [
    {
     "data": {
      "application/vnd.jupyter.widget-view+json": {
       "model_id": "2fb48eb981f143a79ff7f9dbce9d0e17",
       "version_major": 2,
       "version_minor": 0
      },
      "text/plain": [
       "VBox()"
      ]
     },
     "metadata": {},
     "output_type": "display_data"
    },
    {
     "data": {
      "application/vnd.jupyter.widget-view+json": {
       "model_id": "",
       "version_major": 2,
       "version_minor": 0
      },
      "text/plain": [
       "FloatProgress(value=0.0, bar_style='info', description='Progress:', layout=Layout(height='25px', width='50%'),…"
      ]
     },
     "metadata": {},
     "output_type": "display_data"
    },
    {
     "name": "stderr",
     "output_type": "stream",
     "text": [
      "name 'COLETAS' is not defined\n",
      "Traceback (most recent call last):\n",
      "NameError: name 'COLETAS' is not defined\n",
      "\n"
     ]
    }
   ],
   "source": [
    "COLETAS.persist(pyspark.StorageLevel.MEMORY_ONLY)"
   ]
  },
  {
   "cell_type": "code",
   "execution_count": 257,
   "metadata": {},
   "outputs": [
    {
     "data": {
      "application/vnd.jupyter.widget-view+json": {
       "model_id": "24e4e72abc474af3a5df30064da83a48",
       "version_major": 2,
       "version_minor": 0
      },
      "text/plain": [
       "VBox()"
      ]
     },
     "metadata": {},
     "output_type": "display_data"
    },
    {
     "data": {
      "application/vnd.jupyter.widget-view+json": {
       "model_id": "",
       "version_major": 2,
       "version_minor": 0
      },
      "text/plain": [
       "FloatProgress(value=0.0, bar_style='info', description='Progress:', layout=Layout(height='25px', width='50%'),…"
      ]
     },
     "metadata": {},
     "output_type": "display_data"
    },
    {
     "name": "stderr",
     "output_type": "stream",
     "text": [
      "name 'COLETAS' is not defined\n",
      "Traceback (most recent call last):\n",
      "NameError: name 'COLETAS' is not defined\n",
      "\n"
     ]
    }
   ],
   "source": [
    "COLETAS=COLETAS.withColumn(\"Filial\", when(COLETAS.BRANCH_REGION.isNull(), COLETAS.Filial)\\\n",
    "                                         .otherwise(COLETAS.BRANCH_REGION))\\\n",
    "               .withColumn(\"Regiao\", when(COLETAS.REGION_drop.isNull(), COLETAS.REGION)\\\n",
    "                                             .otherwise(COLETAS.REGION_drop))\\"
   ]
  },
  {
   "cell_type": "code",
   "execution_count": 258,
   "metadata": {},
   "outputs": [
    {
     "data": {
      "application/vnd.jupyter.widget-view+json": {
       "model_id": "9f84c6161e3c4080ad54714c5dcba90c",
       "version_major": 2,
       "version_minor": 0
      },
      "text/plain": [
       "VBox()"
      ]
     },
     "metadata": {},
     "output_type": "display_data"
    },
    {
     "data": {
      "application/vnd.jupyter.widget-view+json": {
       "model_id": "",
       "version_major": 2,
       "version_minor": 0
      },
      "text/plain": [
       "FloatProgress(value=0.0, bar_style='info', description='Progress:', layout=Layout(height='25px', width='50%'),…"
      ]
     },
     "metadata": {},
     "output_type": "display_data"
    },
    {
     "name": "stderr",
     "output_type": "stream",
     "text": [
      "name 'COLETAS' is not defined\n",
      "Traceback (most recent call last):\n",
      "NameError: name 'COLETAS' is not defined\n",
      "\n"
     ]
    }
   ],
   "source": [
    "COLETAS=COLETAS.drop(\"ADDRNUMBER\", \"CITY1\", \"REGION\", \"REGION_drop\", \"BRANCH_REGION\", \"KUNNR\", \"CITY_drop\", \"STATE_drop\",\"ADRNR\")"
   ]
  },
  {
   "cell_type": "code",
   "execution_count": 259,
   "metadata": {},
   "outputs": [
    {
     "data": {
      "application/vnd.jupyter.widget-view+json": {
       "model_id": "67c18945f02f4337b65d23e5ec42e351",
       "version_major": 2,
       "version_minor": 0
      },
      "text/plain": [
       "VBox()"
      ]
     },
     "metadata": {},
     "output_type": "display_data"
    },
    {
     "data": {
      "application/vnd.jupyter.widget-view+json": {
       "model_id": "",
       "version_major": 2,
       "version_minor": 0
      },
      "text/plain": [
       "FloatProgress(value=0.0, bar_style='info', description='Progress:', layout=Layout(height='25px', width='50%'),…"
      ]
     },
     "metadata": {},
     "output_type": "display_data"
    },
    {
     "name": "stderr",
     "output_type": "stream",
     "text": [
      "name 'COLETAS' is not defined\n",
      "Traceback (most recent call last):\n",
      "NameError: name 'COLETAS' is not defined\n",
      "\n"
     ]
    }
   ],
   "source": [
    "COLETAS.persist(pyspark.StorageLevel.MEMORY_ONLY)"
   ]
  },
  {
   "cell_type": "code",
   "execution_count": 260,
   "metadata": {},
   "outputs": [
    {
     "data": {
      "application/vnd.jupyter.widget-view+json": {
       "model_id": "10a1476907f24c258553080f3301d457",
       "version_major": 2,
       "version_minor": 0
      },
      "text/plain": [
       "VBox()"
      ]
     },
     "metadata": {},
     "output_type": "display_data"
    },
    {
     "data": {
      "application/vnd.jupyter.widget-view+json": {
       "model_id": "",
       "version_major": 2,
       "version_minor": 0
      },
      "text/plain": [
       "FloatProgress(value=0.0, bar_style='info', description='Progress:', layout=Layout(height='25px', width='50%'),…"
      ]
     },
     "metadata": {},
     "output_type": "display_data"
    },
    {
     "name": "stderr",
     "output_type": "stream",
     "text": [
      "name 'COLETAS' is not defined\n",
      "Traceback (most recent call last):\n",
      "NameError: name 'COLETAS' is not defined\n",
      "\n"
     ]
    }
   ],
   "source": [
    "#creating key to collect price of week\n",
    "COLETAS=COLETAS.withColumn('Semana',weekofyear('Timestamp'))\n",
    "COLETAS=COLETAS.withColumn('Ano',year('Timestamp'))\n",
    "COLETAS=COLETAS.withColumn('ChaveSemana',concat(col('OVAjustada'),\n",
    "                                                col('COD_PRODUCT')\n",
    "                                               ,col('Filial')\n",
    "                                               ,col('TIPO_DE_PRECO')\n",
    "                                               ,col('Ano')\n",
    "                                               ,col('Semana')))"
   ]
  },
  {
   "cell_type": "code",
   "execution_count": 261,
   "metadata": {},
   "outputs": [
    {
     "data": {
      "application/vnd.jupyter.widget-view+json": {
       "model_id": "a10fb119381f4589888b0b1f752b45e2",
       "version_major": 2,
       "version_minor": 0
      },
      "text/plain": [
       "VBox()"
      ]
     },
     "metadata": {},
     "output_type": "display_data"
    },
    {
     "data": {
      "application/vnd.jupyter.widget-view+json": {
       "model_id": "",
       "version_major": 2,
       "version_minor": 0
      },
      "text/plain": [
       "FloatProgress(value=0.0, bar_style='info', description='Progress:', layout=Layout(height='25px', width='50%'),…"
      ]
     },
     "metadata": {},
     "output_type": "display_data"
    },
    {
     "name": "stderr",
     "output_type": "stream",
     "text": [
      "name 'COLETAS' is not defined\n",
      "Traceback (most recent call last):\n",
      "NameError: name 'COLETAS' is not defined\n",
      "\n"
     ]
    }
   ],
   "source": [
    "#Join with invoice by date\n",
    "COLETAS=COLETAS.join(GERDAUPRICE\n",
    "                     ,COLETAS.ChaveFatura==GERDAUPRICE.ChaveFaturaPraticado\n",
    "                     ,how='left')"
   ]
  },
  {
   "cell_type": "code",
   "execution_count": 262,
   "metadata": {},
   "outputs": [
    {
     "data": {
      "application/vnd.jupyter.widget-view+json": {
       "model_id": "c8b54ae154b04bf3b11d77de4e665408",
       "version_major": 2,
       "version_minor": 0
      },
      "text/plain": [
       "VBox()"
      ]
     },
     "metadata": {},
     "output_type": "display_data"
    },
    {
     "data": {
      "application/vnd.jupyter.widget-view+json": {
       "model_id": "",
       "version_major": 2,
       "version_minor": 0
      },
      "text/plain": [
       "FloatProgress(value=0.0, bar_style='info', description='Progress:', layout=Layout(height='25px', width='50%'),…"
      ]
     },
     "metadata": {},
     "output_type": "display_data"
    },
    {
     "name": "stderr",
     "output_type": "stream",
     "text": [
      "name 'COLETAS' is not defined\n",
      "Traceback (most recent call last):\n",
      "NameError: name 'COLETAS' is not defined\n",
      "\n"
     ]
    }
   ],
   "source": [
    "COLETAS.persist(pyspark.StorageLevel.MEMORY_ONLY)"
   ]
  },
  {
   "cell_type": "code",
   "execution_count": 263,
   "metadata": {},
   "outputs": [
    {
     "data": {
      "application/vnd.jupyter.widget-view+json": {
       "model_id": "9536151809df443699aeb8d8ae6771c1",
       "version_major": 2,
       "version_minor": 0
      },
      "text/plain": [
       "VBox()"
      ]
     },
     "metadata": {},
     "output_type": "display_data"
    },
    {
     "data": {
      "application/vnd.jupyter.widget-view+json": {
       "model_id": "",
       "version_major": 2,
       "version_minor": 0
      },
      "text/plain": [
       "FloatProgress(value=0.0, bar_style='info', description='Progress:', layout=Layout(height='25px', width='50%'),…"
      ]
     },
     "metadata": {},
     "output_type": "display_data"
    },
    {
     "name": "stderr",
     "output_type": "stream",
     "text": [
      "name 'COLETAS' is not defined\n",
      "Traceback (most recent call last):\n",
      "NameError: name 'COLETAS' is not defined\n",
      "\n"
     ]
    }
   ],
   "source": [
    "# Join with invoice by date and week\n",
    "COLETAS=COLETAS.join(GERDAUPRICE_WEEK\n",
    "                     ,COLETAS.ChaveSemana==GERDAUPRICE_WEEK.UnComSemanaPP\n",
    "                     ,how='left')"
   ]
  },
  {
   "cell_type": "code",
   "execution_count": 264,
   "metadata": {},
   "outputs": [
    {
     "data": {
      "application/vnd.jupyter.widget-view+json": {
       "model_id": "229f440f78794b938a8804674f75b426",
       "version_major": 2,
       "version_minor": 0
      },
      "text/plain": [
       "VBox()"
      ]
     },
     "metadata": {},
     "output_type": "display_data"
    },
    {
     "data": {
      "application/vnd.jupyter.widget-view+json": {
       "model_id": "",
       "version_major": 2,
       "version_minor": 0
      },
      "text/plain": [
       "FloatProgress(value=0.0, bar_style='info', description='Progress:', layout=Layout(height='25px', width='50%'),…"
      ]
     },
     "metadata": {},
     "output_type": "display_data"
    },
    {
     "name": "stderr",
     "output_type": "stream",
     "text": [
      "name 'COLETAS' is not defined\n",
      "Traceback (most recent call last):\n",
      "NameError: name 'COLETAS' is not defined\n",
      "\n"
     ]
    }
   ],
   "source": [
    "COLETAS.persist(pyspark.StorageLevel.MEMORY_ONLY)"
   ]
  },
  {
   "cell_type": "markdown",
   "metadata": {},
   "source": [
    "#### Join with ETL Products"
   ]
  },
  {
   "cell_type": "code",
   "execution_count": 265,
   "metadata": {},
   "outputs": [
    {
     "data": {
      "application/vnd.jupyter.widget-view+json": {
       "model_id": "dbd595e5cfd648f7a57adeb1eddb53c2",
       "version_major": 2,
       "version_minor": 0
      },
      "text/plain": [
       "VBox()"
      ]
     },
     "metadata": {},
     "output_type": "display_data"
    },
    {
     "data": {
      "application/vnd.jupyter.widget-view+json": {
       "model_id": "",
       "version_major": 2,
       "version_minor": 0
      },
      "text/plain": [
       "FloatProgress(value=0.0, bar_style='info', description='Progress:', layout=Layout(height='25px', width='50%'),…"
      ]
     },
     "metadata": {},
     "output_type": "display_data"
    },
    {
     "name": "stderr",
     "output_type": "stream",
     "text": [
      "name 'COLETAS' is not defined\n",
      "Traceback (most recent call last):\n",
      "NameError: name 'COLETAS' is not defined\n",
      "\n"
     ]
    }
   ],
   "source": [
    "COLETAS=COLETAS.join(ETL_PRODUCT\n",
    "             ,COLETAS.GPD==ETL_PRODUCT.DESC_GPD\n",
    "             ,how='left')"
   ]
  },
  {
   "cell_type": "code",
   "execution_count": 266,
   "metadata": {},
   "outputs": [
    {
     "data": {
      "application/vnd.jupyter.widget-view+json": {
       "model_id": "c571eae445c34c32a32272bb828063dc",
       "version_major": 2,
       "version_minor": 0
      },
      "text/plain": [
       "VBox()"
      ]
     },
     "metadata": {},
     "output_type": "display_data"
    },
    {
     "data": {
      "application/vnd.jupyter.widget-view+json": {
       "model_id": "",
       "version_major": 2,
       "version_minor": 0
      },
      "text/plain": [
       "FloatProgress(value=0.0, bar_style='info', description='Progress:', layout=Layout(height='25px', width='50%'),…"
      ]
     },
     "metadata": {},
     "output_type": "display_data"
    },
    {
     "name": "stderr",
     "output_type": "stream",
     "text": [
      "name 'COLETAS' is not defined\n",
      "Traceback (most recent call last):\n",
      "NameError: name 'COLETAS' is not defined\n",
      "\n"
     ]
    }
   ],
   "source": [
    "COLETAS=COLETAS.withColumn(\"GPD\", when(COLETAS.DESC_GPD.isNull(), COLETAS.GPD)\\\n",
    "                                           .otherwise(COLETAS.DESC_GPD))\\"
   ]
  },
  {
   "cell_type": "code",
   "execution_count": 267,
   "metadata": {},
   "outputs": [
    {
     "data": {
      "application/vnd.jupyter.widget-view+json": {
       "model_id": "89f4c32c64a34dfd8f5000b835fea37b",
       "version_major": 2,
       "version_minor": 0
      },
      "text/plain": [
       "VBox()"
      ]
     },
     "metadata": {},
     "output_type": "display_data"
    },
    {
     "data": {
      "application/vnd.jupyter.widget-view+json": {
       "model_id": "",
       "version_major": 2,
       "version_minor": 0
      },
      "text/plain": [
       "FloatProgress(value=0.0, bar_style='info', description='Progress:', layout=Layout(height='25px', width='50%'),…"
      ]
     },
     "metadata": {},
     "output_type": "display_data"
    },
    {
     "name": "stderr",
     "output_type": "stream",
     "text": [
      "name 'COLETAS' is not defined\n",
      "Traceback (most recent call last):\n",
      "NameError: name 'COLETAS' is not defined\n",
      "\n"
     ]
    }
   ],
   "source": [
    "COLETAS.persist(pyspark.StorageLevel.MEMORY_ONLY)"
   ]
  },
  {
   "cell_type": "code",
   "execution_count": 268,
   "metadata": {},
   "outputs": [
    {
     "data": {
      "application/vnd.jupyter.widget-view+json": {
       "model_id": "008fb65ce19e45af8ecca2cc6a1a6fc2",
       "version_major": 2,
       "version_minor": 0
      },
      "text/plain": [
       "VBox()"
      ]
     },
     "metadata": {},
     "output_type": "display_data"
    },
    {
     "data": {
      "application/vnd.jupyter.widget-view+json": {
       "model_id": "",
       "version_major": 2,
       "version_minor": 0
      },
      "text/plain": [
       "FloatProgress(value=0.0, bar_style='info', description='Progress:', layout=Layout(height='25px', width='50%'),…"
      ]
     },
     "metadata": {},
     "output_type": "display_data"
    },
    {
     "name": "stderr",
     "output_type": "stream",
     "text": [
      "name 'COLETAS' is not defined\n",
      "Traceback (most recent call last):\n",
      "NameError: name 'COLETAS' is not defined\n",
      "\n"
     ]
    }
   ],
   "source": [
    "COLETAS=COLETAS.drop('COD_GPD'\n",
    "                     ,'GPD'\n",
    "                     ,'CIDADEESTADO'\n",
    "                     ,'ChaveAmostra'\n",
    "                     ,'ChaveFatura'\n",
    "                     ,'Preco21dias'\n",
    "                     ,'ChaveAuditoria'\n",
    "                     ,'Pre_Aprovado'\n",
    "                     ,'AVG_Preço_UA'\n",
    "                     ,'LS_AVG_Preco_UA'\n",
    "                     ,'LI_AVG_Preco_UA'\n",
    "                     ,'ChaveFaturaPraticado')"
   ]
  },
  {
   "cell_type": "markdown",
   "metadata": {},
   "source": [
    "## Transformations"
   ]
  },
  {
   "cell_type": "code",
   "execution_count": 269,
   "metadata": {},
   "outputs": [
    {
     "data": {
      "application/vnd.jupyter.widget-view+json": {
       "model_id": "23efa7437646412f88f7a4b4fda42b7d",
       "version_major": 2,
       "version_minor": 0
      },
      "text/plain": [
       "VBox()"
      ]
     },
     "metadata": {},
     "output_type": "display_data"
    },
    {
     "data": {
      "application/vnd.jupyter.widget-view+json": {
       "model_id": "",
       "version_major": 2,
       "version_minor": 0
      },
      "text/plain": [
       "FloatProgress(value=0.0, bar_style='info', description='Progress:', layout=Layout(height='25px', width='50%'),…"
      ]
     },
     "metadata": {},
     "output_type": "display_data"
    },
    {
     "name": "stderr",
     "output_type": "stream",
     "text": [
      "name 'COLETAS' is not defined\n",
      "Traceback (most recent call last):\n",
      "NameError: name 'COLETAS' is not defined\n",
      "\n"
     ]
    }
   ],
   "source": [
    "#Qtd from current month and filter only approved ones.(Group by filial, mesano)\n",
    "AggQtdMesAtual=COLETAS.filter((col('Aprovado')==\"Sim\") &\n",
    "                              (col('MesAno') == concat(when(month(current_timestamp()) >= \"10\", month(current_timestamp()))\n",
    "                                                            .otherwise(concat(lit(\"0\")\n",
    "                                                                             ,month(current_timestamp())))\n",
    "                                                                             ,lit(\"-\")\n",
    "                                                                             ,year(current_timestamp()))))"
   ]
  },
  {
   "cell_type": "code",
   "execution_count": 270,
   "metadata": {},
   "outputs": [
    {
     "data": {
      "application/vnd.jupyter.widget-view+json": {
       "model_id": "62a823ebcb5b4066aafed2b5a2cacda0",
       "version_major": 2,
       "version_minor": 0
      },
      "text/plain": [
       "VBox()"
      ]
     },
     "metadata": {},
     "output_type": "display_data"
    },
    {
     "data": {
      "application/vnd.jupyter.widget-view+json": {
       "model_id": "",
       "version_major": 2,
       "version_minor": 0
      },
      "text/plain": [
       "FloatProgress(value=0.0, bar_style='info', description='Progress:', layout=Layout(height='25px', width='50%'),…"
      ]
     },
     "metadata": {},
     "output_type": "display_data"
    },
    {
     "name": "stderr",
     "output_type": "stream",
     "text": [
      "name 'AggQtdMesAtual' is not defined\n",
      "Traceback (most recent call last):\n",
      "NameError: name 'AggQtdMesAtual' is not defined\n",
      "\n"
     ]
    }
   ],
   "source": [
    "AggQtdMesAtual.persist(pyspark.StorageLevel.MEMORY_ONLY)"
   ]
  },
  {
   "cell_type": "code",
   "execution_count": 271,
   "metadata": {},
   "outputs": [
    {
     "data": {
      "application/vnd.jupyter.widget-view+json": {
       "model_id": "01e3426bd3014088a512150e60382314",
       "version_major": 2,
       "version_minor": 0
      },
      "text/plain": [
       "VBox()"
      ]
     },
     "metadata": {},
     "output_type": "display_data"
    },
    {
     "data": {
      "application/vnd.jupyter.widget-view+json": {
       "model_id": "",
       "version_major": 2,
       "version_minor": 0
      },
      "text/plain": [
       "FloatProgress(value=0.0, bar_style='info', description='Progress:', layout=Layout(height='25px', width='50%'),…"
      ]
     },
     "metadata": {},
     "output_type": "display_data"
    },
    {
     "name": "stderr",
     "output_type": "stream",
     "text": [
      "name 'AggQtdMesAtual' is not defined\n",
      "Traceback (most recent call last):\n",
      "NameError: name 'AggQtdMesAtual' is not defined\n",
      "\n"
     ]
    }
   ],
   "source": [
    "AggQtdMesAtual=AggQtdMesAtual.groupBy('Filial','MesAno')\\\n",
    "                            .agg(count(col(\"TIMESTAMP\")))\\\n",
    "                            .withColumnRenamed(\"count(TIMESTAMP)\", \"Qtd_Coletas_Total\")\\\n",
    "                            .withColumnRenamed(\"Filial\", \"FilialAGG\")\\\n",
    "                            .withColumnRenamed(\"MesAno\", \"MesanoAGG\")\\"
   ]
  },
  {
   "cell_type": "code",
   "execution_count": 272,
   "metadata": {},
   "outputs": [
    {
     "data": {
      "application/vnd.jupyter.widget-view+json": {
       "model_id": "7f6a2500857247dd95ad581bb4cefbee",
       "version_major": 2,
       "version_minor": 0
      },
      "text/plain": [
       "VBox()"
      ]
     },
     "metadata": {},
     "output_type": "display_data"
    },
    {
     "data": {
      "application/vnd.jupyter.widget-view+json": {
       "model_id": "",
       "version_major": 2,
       "version_minor": 0
      },
      "text/plain": [
       "FloatProgress(value=0.0, bar_style='info', description='Progress:', layout=Layout(height='25px', width='50%'),…"
      ]
     },
     "metadata": {},
     "output_type": "display_data"
    },
    {
     "name": "stderr",
     "output_type": "stream",
     "text": [
      "name 'AggQtdMesAtual' is not defined\n",
      "Traceback (most recent call last):\n",
      "NameError: name 'AggQtdMesAtual' is not defined\n",
      "\n"
     ]
    }
   ],
   "source": [
    "AggQtdMesAtual.persist(pyspark.StorageLevel.MEMORY_ONLY)"
   ]
  },
  {
   "cell_type": "code",
   "execution_count": 273,
   "metadata": {},
   "outputs": [
    {
     "data": {
      "application/vnd.jupyter.widget-view+json": {
       "model_id": "0f1f3f5c82a245b7bcc0fd4043fc6428",
       "version_major": 2,
       "version_minor": 0
      },
      "text/plain": [
       "VBox()"
      ]
     },
     "metadata": {},
     "output_type": "display_data"
    },
    {
     "data": {
      "application/vnd.jupyter.widget-view+json": {
       "model_id": "",
       "version_major": 2,
       "version_minor": 0
      },
      "text/plain": [
       "FloatProgress(value=0.0, bar_style='info', description='Progress:', layout=Layout(height='25px', width='50%'),…"
      ]
     },
     "metadata": {},
     "output_type": "display_data"
    },
    {
     "name": "stderr",
     "output_type": "stream",
     "text": [
      "name 'COLETAS' is not defined\n",
      "Traceback (most recent call last):\n",
      "NameError: name 'COLETAS' is not defined\n",
      "\n"
     ]
    }
   ],
   "source": [
    "COLETAS=COLETAS.join(AggQtdMesAtual\n",
    "                                   ,(COLETAS['Filial']==AggQtdMesAtual['FilialAGG']) &\n",
    "                                     (COLETAS['MesAno']==AggQtdMesAtual['MesanoAGG'])\n",
    "                                   ,how='left')"
   ]
  },
  {
   "cell_type": "code",
   "execution_count": 274,
   "metadata": {},
   "outputs": [
    {
     "data": {
      "application/vnd.jupyter.widget-view+json": {
       "model_id": "0f21387e82dc4c40be0b5e24c70000cc",
       "version_major": 2,
       "version_minor": 0
      },
      "text/plain": [
       "VBox()"
      ]
     },
     "metadata": {},
     "output_type": "display_data"
    },
    {
     "data": {
      "application/vnd.jupyter.widget-view+json": {
       "model_id": "",
       "version_major": 2,
       "version_minor": 0
      },
      "text/plain": [
       "FloatProgress(value=0.0, bar_style='info', description='Progress:', layout=Layout(height='25px', width='50%'),…"
      ]
     },
     "metadata": {},
     "output_type": "display_data"
    },
    {
     "name": "stderr",
     "output_type": "stream",
     "text": [
      "name 'COLETAS' is not defined\n",
      "Traceback (most recent call last):\n",
      "NameError: name 'COLETAS' is not defined\n",
      "\n"
     ]
    }
   ],
   "source": [
    "COLETAS.persist(pyspark.StorageLevel.MEMORY_ONLY)"
   ]
  },
  {
   "cell_type": "code",
   "execution_count": 275,
   "metadata": {},
   "outputs": [
    {
     "data": {
      "application/vnd.jupyter.widget-view+json": {
       "model_id": "14bf84083d0f4cdfb870905772fb8bef",
       "version_major": 2,
       "version_minor": 0
      },
      "text/plain": [
       "VBox()"
      ]
     },
     "metadata": {},
     "output_type": "display_data"
    },
    {
     "data": {
      "application/vnd.jupyter.widget-view+json": {
       "model_id": "",
       "version_major": 2,
       "version_minor": 0
      },
      "text/plain": [
       "FloatProgress(value=0.0, bar_style='info', description='Progress:', layout=Layout(height='25px', width='50%'),…"
      ]
     },
     "metadata": {},
     "output_type": "display_data"
    },
    {
     "name": "stderr",
     "output_type": "stream",
     "text": [
      "name 'COLETAS' is not defined\n",
      "Traceback (most recent call last):\n",
      "NameError: name 'COLETAS' is not defined\n",
      "\n"
     ]
    }
   ],
   "source": [
    "COLETAS=COLETAS.withColumn(\"Qtd_Coletas_Total\",col(\"Qtd_Coletas_Total\").cast(IntegerType()))"
   ]
  },
  {
   "cell_type": "code",
   "execution_count": 276,
   "metadata": {},
   "outputs": [
    {
     "data": {
      "application/vnd.jupyter.widget-view+json": {
       "model_id": "b7eccb058a3846189838078879551c0f",
       "version_major": 2,
       "version_minor": 0
      },
      "text/plain": [
       "VBox()"
      ]
     },
     "metadata": {},
     "output_type": "display_data"
    },
    {
     "data": {
      "application/vnd.jupyter.widget-view+json": {
       "model_id": "",
       "version_major": 2,
       "version_minor": 0
      },
      "text/plain": [
       "FloatProgress(value=0.0, bar_style='info', description='Progress:', layout=Layout(height='25px', width='50%'),…"
      ]
     },
     "metadata": {},
     "output_type": "display_data"
    },
    {
     "name": "stderr",
     "output_type": "stream",
     "text": [
      "name 'COLETAS' is not defined\n",
      "Traceback (most recent call last):\n",
      "NameError: name 'COLETAS' is not defined\n",
      "\n"
     ]
    }
   ],
   "source": [
    "AggQtdMeses=COLETAS.select(col('Filial').alias('FilialAGGMes')\n",
    "                           ,col('MesAno').alias('MesanoAGGMes')\n",
    "                            ,col('TIMESTAMP')).filter((col('Aprovado')==\"Sim\")).groupBy('FilialAGGMes','MesanoAGGMes').agg(count(col(\"TIMESTAMP\")).alias('QtdDeColetasMes'))"
   ]
  },
  {
   "cell_type": "code",
   "execution_count": 277,
   "metadata": {},
   "outputs": [
    {
     "data": {
      "application/vnd.jupyter.widget-view+json": {
       "model_id": "f2da13bfce2e48f1bea457b9ab3a2b30",
       "version_major": 2,
       "version_minor": 0
      },
      "text/plain": [
       "VBox()"
      ]
     },
     "metadata": {},
     "output_type": "display_data"
    },
    {
     "data": {
      "application/vnd.jupyter.widget-view+json": {
       "model_id": "",
       "version_major": 2,
       "version_minor": 0
      },
      "text/plain": [
       "FloatProgress(value=0.0, bar_style='info', description='Progress:', layout=Layout(height='25px', width='50%'),…"
      ]
     },
     "metadata": {},
     "output_type": "display_data"
    },
    {
     "name": "stderr",
     "output_type": "stream",
     "text": [
      "name 'AggQtdMeses' is not defined\n",
      "Traceback (most recent call last):\n",
      "NameError: name 'AggQtdMeses' is not defined\n",
      "\n"
     ]
    }
   ],
   "source": [
    "AggQtdMeses.persist(pyspark.StorageLevel.MEMORY_ONLY)"
   ]
  },
  {
   "cell_type": "code",
   "execution_count": 278,
   "metadata": {},
   "outputs": [
    {
     "data": {
      "application/vnd.jupyter.widget-view+json": {
       "model_id": "6c17faaaf57d45aabd0a8b07258e8182",
       "version_major": 2,
       "version_minor": 0
      },
      "text/plain": [
       "VBox()"
      ]
     },
     "metadata": {},
     "output_type": "display_data"
    },
    {
     "data": {
      "application/vnd.jupyter.widget-view+json": {
       "model_id": "",
       "version_major": 2,
       "version_minor": 0
      },
      "text/plain": [
       "FloatProgress(value=0.0, bar_style='info', description='Progress:', layout=Layout(height='25px', width='50%'),…"
      ]
     },
     "metadata": {},
     "output_type": "display_data"
    },
    {
     "name": "stderr",
     "output_type": "stream",
     "text": [
      "name 'COLETAS' is not defined\n",
      "Traceback (most recent call last):\n",
      "NameError: name 'COLETAS' is not defined\n",
      "\n"
     ]
    }
   ],
   "source": [
    "COLETAS=COLETAS.join(AggQtdMeses\n",
    "                     ,(COLETAS['Filial']==AggQtdMeses['FilialAGGMes'])&(COLETAS['MesAno']==AggQtdMeses['MesanoAGGMes'])\n",
    "                     ,how='left')"
   ]
  },
  {
   "cell_type": "code",
   "execution_count": 279,
   "metadata": {},
   "outputs": [
    {
     "data": {
      "application/vnd.jupyter.widget-view+json": {
       "model_id": "0d4d4a58daaf426391c6d08b4e2c4d11",
       "version_major": 2,
       "version_minor": 0
      },
      "text/plain": [
       "VBox()"
      ]
     },
     "metadata": {},
     "output_type": "display_data"
    },
    {
     "data": {
      "application/vnd.jupyter.widget-view+json": {
       "model_id": "",
       "version_major": 2,
       "version_minor": 0
      },
      "text/plain": [
       "FloatProgress(value=0.0, bar_style='info', description='Progress:', layout=Layout(height='25px', width='50%'),…"
      ]
     },
     "metadata": {},
     "output_type": "display_data"
    },
    {
     "name": "stderr",
     "output_type": "stream",
     "text": [
      "name 'COLETAS' is not defined\n",
      "Traceback (most recent call last):\n",
      "NameError: name 'COLETAS' is not defined\n",
      "\n"
     ]
    }
   ],
   "source": [
    "COLETAS.persist(pyspark.StorageLevel.MEMORY_ONLY)"
   ]
  },
  {
   "cell_type": "code",
   "execution_count": 280,
   "metadata": {},
   "outputs": [
    {
     "data": {
      "application/vnd.jupyter.widget-view+json": {
       "model_id": "476e512fd87649be8a28f70b82c2cebf",
       "version_major": 2,
       "version_minor": 0
      },
      "text/plain": [
       "VBox()"
      ]
     },
     "metadata": {},
     "output_type": "display_data"
    },
    {
     "data": {
      "application/vnd.jupyter.widget-view+json": {
       "model_id": "",
       "version_major": 2,
       "version_minor": 0
      },
      "text/plain": [
       "FloatProgress(value=0.0, bar_style='info', description='Progress:', layout=Layout(height='25px', width='50%'),…"
      ]
     },
     "metadata": {},
     "output_type": "display_data"
    },
    {
     "name": "stderr",
     "output_type": "stream",
     "text": [
      "name 'COLETAS' is not defined\n",
      "Traceback (most recent call last):\n",
      "NameError: name 'COLETAS' is not defined\n",
      "\n"
     ]
    }
   ],
   "source": [
    "#Count of Approveds group by(filial e mesAno) \n",
    "COLETAS=COLETAS.withColumn(\"QtdDeColetasMes\",col(\"QtdDeColetasMes\").cast(IntegerType()))"
   ]
  },
  {
   "cell_type": "code",
   "execution_count": 281,
   "metadata": {},
   "outputs": [
    {
     "data": {
      "application/vnd.jupyter.widget-view+json": {
       "model_id": "3eb797dd96d94ad0b1638ab76703f404",
       "version_major": 2,
       "version_minor": 0
      },
      "text/plain": [
       "VBox()"
      ]
     },
     "metadata": {},
     "output_type": "display_data"
    },
    {
     "data": {
      "application/vnd.jupyter.widget-view+json": {
       "model_id": "",
       "version_major": 2,
       "version_minor": 0
      },
      "text/plain": [
       "FloatProgress(value=0.0, bar_style='info', description='Progress:', layout=Layout(height='25px', width='50%'),…"
      ]
     },
     "metadata": {},
     "output_type": "display_data"
    },
    {
     "name": "stderr",
     "output_type": "stream",
     "text": [
      "name 'COLETAS' is not defined\n",
      "Traceback (most recent call last):\n",
      "NameError: name 'COLETAS' is not defined\n",
      "\n"
     ]
    }
   ],
   "source": [
    "#Running current collect\n",
    "COLETAS=COLETAS.withColumn(\"RITMO_CURRENT_DATE\"\n",
    "                          ,((col('Qtd_Coletas_Total')/col('DiasCorridos'))))\n",
    "\n",
    "COLETAS=COLETAS.withColumn('RitmoDeColetaMes'\n",
    "                          ,(col('RITMO_CURRENT_DATE')*col('DiasFaltantes')))\n",
    "\n",
    "COLETAS=COLETAS.withColumn(\"RitmoDeColeta\"\n",
    "                          ,(col('RitmoDeColetaMes')+col('Qtd_Coletas_Total')))\n",
    "\n",
    "COLETAS=COLETAS.withColumn(\"RunningColetaAtual\",\n",
    "                         col('RitmoDeColeta')/col('CapacidadeFilial'))"
   ]
  },
  {
   "cell_type": "code",
   "execution_count": 282,
   "metadata": {},
   "outputs": [
    {
     "data": {
      "application/vnd.jupyter.widget-view+json": {
       "model_id": "4377888d871e44f0ab7e72f497366fed",
       "version_major": 2,
       "version_minor": 0
      },
      "text/plain": [
       "VBox()"
      ]
     },
     "metadata": {},
     "output_type": "display_data"
    },
    {
     "data": {
      "application/vnd.jupyter.widget-view+json": {
       "model_id": "",
       "version_major": 2,
       "version_minor": 0
      },
      "text/plain": [
       "FloatProgress(value=0.0, bar_style='info', description='Progress:', layout=Layout(height='25px', width='50%'),…"
      ]
     },
     "metadata": {},
     "output_type": "display_data"
    },
    {
     "name": "stderr",
     "output_type": "stream",
     "text": [
      "name 'COLETAS' is not defined\n",
      "Traceback (most recent call last):\n",
      "NameError: name 'COLETAS' is not defined\n",
      "\n"
     ]
    }
   ],
   "source": [
    "#Running collect in last months\n",
    "COLETAS=COLETAS.withColumn(\"RunningColetaAnterior\",\n",
    "                         col('QtdDeColetasMes')/col('CapacidadeFilial'))\n"
   ]
  },
  {
   "cell_type": "code",
   "execution_count": 283,
   "metadata": {},
   "outputs": [
    {
     "data": {
      "application/vnd.jupyter.widget-view+json": {
       "model_id": "2a3a444ccd6243059285a897c39be3f3",
       "version_major": 2,
       "version_minor": 0
      },
      "text/plain": [
       "VBox()"
      ]
     },
     "metadata": {},
     "output_type": "display_data"
    },
    {
     "data": {
      "application/vnd.jupyter.widget-view+json": {
       "model_id": "",
       "version_major": 2,
       "version_minor": 0
      },
      "text/plain": [
       "FloatProgress(value=0.0, bar_style='info', description='Progress:', layout=Layout(height='25px', width='50%'),…"
      ]
     },
     "metadata": {},
     "output_type": "display_data"
    },
    {
     "name": "stderr",
     "output_type": "stream",
     "text": [
      "name 'COLETAS' is not defined\n",
      "Traceback (most recent call last):\n",
      "NameError: name 'COLETAS' is not defined\n",
      "\n"
     ]
    }
   ],
   "source": [
    "#running Coleta\n",
    "COLETAS=COLETAS.withColumn(\"RunningColeta\",\n",
    "                         when((month(col('TIMESTAMP'))==month(current_date()))&(year(col('TIMESTAMP'))==year(current_date())),col('RunningColetaAtual')).otherwise(col('RunningColetaAnterior')))"
   ]
  },
  {
   "cell_type": "code",
   "execution_count": 284,
   "metadata": {},
   "outputs": [
    {
     "data": {
      "application/vnd.jupyter.widget-view+json": {
       "model_id": "2d2e01de07b240d5adb65c531bfab5fa",
       "version_major": 2,
       "version_minor": 0
      },
      "text/plain": [
       "VBox()"
      ]
     },
     "metadata": {},
     "output_type": "display_data"
    },
    {
     "data": {
      "application/vnd.jupyter.widget-view+json": {
       "model_id": "",
       "version_major": 2,
       "version_minor": 0
      },
      "text/plain": [
       "FloatProgress(value=0.0, bar_style='info', description='Progress:', layout=Layout(height='25px', width='50%'),…"
      ]
     },
     "metadata": {},
     "output_type": "display_data"
    },
    {
     "name": "stderr",
     "output_type": "stream",
     "text": [
      "name 'COLETAS' is not defined\n",
      "Traceback (most recent call last):\n",
      "NameError: name 'COLETAS' is not defined\n",
      "\n"
     ]
    }
   ],
   "source": [
    "#Status\n",
    "COLETAS=COLETAS.withColumn(\"StatusAtual\",\n",
    "                         when(col('RunningColeta')<0.8,\"Abaixo 80%\").otherwise(when(col('RunningColeta')>=1.0,\"Acima ou igual a 100%\").otherwise(\"Entre 80% e 100%\")))"
   ]
  },
  {
   "cell_type": "code",
   "execution_count": 285,
   "metadata": {},
   "outputs": [
    {
     "data": {
      "application/vnd.jupyter.widget-view+json": {
       "model_id": "fd852ccd2ccf43baa41aeac16c18d9cd",
       "version_major": 2,
       "version_minor": 0
      },
      "text/plain": [
       "VBox()"
      ]
     },
     "metadata": {},
     "output_type": "display_data"
    },
    {
     "data": {
      "application/vnd.jupyter.widget-view+json": {
       "model_id": "",
       "version_major": 2,
       "version_minor": 0
      },
      "text/plain": [
       "FloatProgress(value=0.0, bar_style='info', description='Progress:', layout=Layout(height='25px', width='50%'),…"
      ]
     },
     "metadata": {},
     "output_type": "display_data"
    },
    {
     "name": "stderr",
     "output_type": "stream",
     "text": [
      "name 'COLETAS' is not defined\n",
      "Traceback (most recent call last):\n",
      "NameError: name 'COLETAS' is not defined\n",
      "\n"
     ]
    }
   ],
   "source": [
    "COLETAS=COLETAS.drop('RITMO_CURRENT_DATE'\n",
    "                    ,'RitmoDeColetaMes'\n",
    "                    ,'RitmoDeColeta'\n",
    "                    ,'RunningColetaAtual'\n",
    "                    ,'RunningColetaAnterior'\n",
    "                    ,'MesanoAGGMes'\n",
    "                    ,'FilialAGGMes'\n",
    "                    ,'MesAnoAGG'\n",
    "                    ,'FilialAGG')"
   ]
  },
  {
   "cell_type": "code",
   "execution_count": 286,
   "metadata": {},
   "outputs": [
    {
     "data": {
      "application/vnd.jupyter.widget-view+json": {
       "model_id": "3457a743ee634a4f86722d64fbca0b34",
       "version_major": 2,
       "version_minor": 0
      },
      "text/plain": [
       "VBox()"
      ]
     },
     "metadata": {},
     "output_type": "display_data"
    },
    {
     "data": {
      "application/vnd.jupyter.widget-view+json": {
       "model_id": "",
       "version_major": 2,
       "version_minor": 0
      },
      "text/plain": [
       "FloatProgress(value=0.0, bar_style='info', description='Progress:', layout=Layout(height='25px', width='50%'),…"
      ]
     },
     "metadata": {},
     "output_type": "display_data"
    },
    {
     "name": "stderr",
     "output_type": "stream",
     "text": [
      "name 'COLETAS' is not defined\n",
      "Traceback (most recent call last):\n",
      "NameError: name 'COLETAS' is not defined\n",
      "\n"
     ]
    }
   ],
   "source": [
    "COLETAS.persist(pyspark.StorageLevel.MEMORY_ONLY)"
   ]
  },
  {
   "cell_type": "code",
   "execution_count": 287,
   "metadata": {},
   "outputs": [
    {
     "data": {
      "application/vnd.jupyter.widget-view+json": {
       "model_id": "c86ed754747e47a3a5966f7788d10d81",
       "version_major": 2,
       "version_minor": 0
      },
      "text/plain": [
       "VBox()"
      ]
     },
     "metadata": {},
     "output_type": "display_data"
    },
    {
     "data": {
      "application/vnd.jupyter.widget-view+json": {
       "model_id": "",
       "version_major": 2,
       "version_minor": 0
      },
      "text/plain": [
       "FloatProgress(value=0.0, bar_style='info', description='Progress:', layout=Layout(height='25px', width='50%'),…"
      ]
     },
     "metadata": {},
     "output_type": "display_data"
    },
    {
     "name": "stderr",
     "output_type": "stream",
     "text": [
      "name 'COLETAS' is not defined\n",
      "Traceback (most recent call last):\n",
      "NameError: name 'COLETAS' is not defined\n",
      "\n"
     ]
    }
   ],
   "source": [
    "# Creating column with Price Type\n",
    "COLETAS=COLETAS.withColumn('Tipo_de_Preco_Ajustes',when(col('Tipo_de_preco')=='Usina-Mercado',lit('Sell-in 1: Usina-Construtora/Industria'))\\\n",
    "                                                   .otherwise(when(col('Tipo_de_preco')=='Usina-Distribuição',lit('Sell-in 1: Usina-Distribuição'))\\\n",
    "                                                              .otherwise(when(col('Tipo_de_preco')=='Distribuição-Mercado',lit('Sell-in 2: Distribuição-Revenda'))\\\n",
    "                                                                         .otherwise(lit('Sell Out: Revenda-Consumidor')))))"
   ]
  },
  {
   "cell_type": "code",
   "execution_count": 288,
   "metadata": {},
   "outputs": [
    {
     "data": {
      "application/vnd.jupyter.widget-view+json": {
       "model_id": "e4b588ac4728452ab94a977eeb5503cc",
       "version_major": 2,
       "version_minor": 0
      },
      "text/plain": [
       "VBox()"
      ]
     },
     "metadata": {},
     "output_type": "display_data"
    },
    {
     "data": {
      "application/vnd.jupyter.widget-view+json": {
       "model_id": "",
       "version_major": 2,
       "version_minor": 0
      },
      "text/plain": [
       "FloatProgress(value=0.0, bar_style='info', description='Progress:', layout=Layout(height='25px', width='50%'),…"
      ]
     },
     "metadata": {},
     "output_type": "display_data"
    },
    {
     "name": "stderr",
     "output_type": "stream",
     "text": [
      "name 'COLETAS' is not defined\n",
      "Traceback (most recent call last):\n",
      "NameError: name 'COLETAS' is not defined\n",
      "\n"
     ]
    }
   ],
   "source": [
    "COLETAS=COLETAS.drop('ChaveFaturaPraticado'\n",
    "                    ,'UNComSemana'\n",
    "                    ,'LS_AVG_Preco_UA'\n",
    "                    ,'LI_AVG_Preco_UA'\n",
    "                    ,'Pre_Aprovado'\n",
    "                    ,'AVG_Preço_UA'\n",
    "                    ,'ChaveAuditoria')"
   ]
  },
  {
   "cell_type": "code",
   "execution_count": 289,
   "metadata": {},
   "outputs": [
    {
     "data": {
      "application/vnd.jupyter.widget-view+json": {
       "model_id": "fc625d64272d4f89a2f0d5f02f758b81",
       "version_major": 2,
       "version_minor": 0
      },
      "text/plain": [
       "VBox()"
      ]
     },
     "metadata": {},
     "output_type": "display_data"
    },
    {
     "data": {
      "application/vnd.jupyter.widget-view+json": {
       "model_id": "",
       "version_major": 2,
       "version_minor": 0
      },
      "text/plain": [
       "FloatProgress(value=0.0, bar_style='info', description='Progress:', layout=Layout(height='25px', width='50%'),…"
      ]
     },
     "metadata": {},
     "output_type": "display_data"
    },
    {
     "name": "stderr",
     "output_type": "stream",
     "text": [
      "name 'COLETAS' is not defined\n",
      "Traceback (most recent call last):\n",
      "NameError: name 'COLETAS' is not defined\n",
      "\n"
     ]
    }
   ],
   "source": [
    "#Creating Column with Unit Analise\n",
    "COLETAS=COLETAS.withColumn('Unidade_de_analise',\n",
    "                               concat(lit('BR')\n",
    "                                      ,col('OVAjustada')\n",
    "                                      ,lit(\" - \")\n",
    "                                      ,col('Regiao')\n",
    "                                      ,lit(\" - \")\n",
    "                                      ,col('MATERIAL')))"
   ]
  },
  {
   "cell_type": "code",
   "execution_count": 290,
   "metadata": {},
   "outputs": [
    {
     "data": {
      "application/vnd.jupyter.widget-view+json": {
       "model_id": "3f6f08ce765847cd9a0a737024a19d3f",
       "version_major": 2,
       "version_minor": 0
      },
      "text/plain": [
       "VBox()"
      ]
     },
     "metadata": {},
     "output_type": "display_data"
    },
    {
     "data": {
      "application/vnd.jupyter.widget-view+json": {
       "model_id": "",
       "version_major": 2,
       "version_minor": 0
      },
      "text/plain": [
       "FloatProgress(value=0.0, bar_style='info', description='Progress:', layout=Layout(height='25px', width='50%'),…"
      ]
     },
     "metadata": {},
     "output_type": "display_data"
    },
    {
     "name": "stderr",
     "output_type": "stream",
     "text": [
      "name 'COLETAS' is not defined\n",
      "Traceback (most recent call last):\n",
      "NameError: name 'COLETAS' is not defined\n",
      "\n"
     ]
    }
   ],
   "source": [
    "#Create STD from competitors price\n",
    "STDPrice=COLETAS.where((col('Aprovado')==\"Sim\")&(col('Preco21diasKG').isNotNull())).groupBy('OVAjustada'\n",
    "                                                       ,'Filial'\n",
    "                                                       ,'fabricante'\n",
    "                                                       ,'TIPO_DE_PRECO').agg(stddev('Preco21diasKG').cast(\"decimal(10,3)\").alias('StdDev_PrecoConcorrente'))\n",
    "\n",
    "STDPrice=STDPrice.withColumn('ChaveSTD',concat('OVAjustada'\n",
    "                                               ,'Filial'\n",
    "                                               ,'fabricante'\n",
    "                                               ,'TIPO_DE_PRECO'))\n",
    "\n",
    "STDPrice=STDPrice.drop('OVAjustada'\n",
    "                       ,'Filial'\n",
    "                       ,'fabricante'\n",
    "                       ,'TIPO_DE_PRECO')\n",
    "\n",
    "STDPrice=STDPrice.withColumn('StdDev_PrecoConcorrente',\n",
    "                            when(col('StdDev_PrecoConcorrente').isNull(),0.00).otherwise(col('StdDev_PrecoConcorrente')))\n",
    "\n",
    "COLETAS=COLETAS.withColumn('ChaveSTDP'\n",
    "                           ,concat('OVAjustada'\n",
    "                                   ,'Filial'\n",
    "                                   ,'fabricante'\n",
    "                                   ,'TIPO_DE_PRECO'))\n",
    "\n",
    "COLETAS=COLETAS.join(STDPrice\n",
    "                     ,COLETAS.ChaveSTDP==STDPrice.ChaveSTD\n",
    "                     ,how='left')\n",
    "\n",
    "COLETAS=COLETAS.drop('ChaveSTD'\n",
    "                     ,'ChaveSTDP')"
   ]
  },
  {
   "cell_type": "code",
   "execution_count": 291,
   "metadata": {},
   "outputs": [
    {
     "data": {
      "application/vnd.jupyter.widget-view+json": {
       "model_id": "0d3ad040b7ce4313953974193eb87f59",
       "version_major": 2,
       "version_minor": 0
      },
      "text/plain": [
       "VBox()"
      ]
     },
     "metadata": {},
     "output_type": "display_data"
    },
    {
     "data": {
      "application/vnd.jupyter.widget-view+json": {
       "model_id": "",
       "version_major": 2,
       "version_minor": 0
      },
      "text/plain": [
       "FloatProgress(value=0.0, bar_style='info', description='Progress:', layout=Layout(height='25px', width='50%'),…"
      ]
     },
     "metadata": {},
     "output_type": "display_data"
    },
    {
     "name": "stderr",
     "output_type": "stream",
     "text": [
      "name 'COLETAS' is not defined\n",
      "Traceback (most recent call last):\n",
      "NameError: name 'COLETAS' is not defined\n",
      "\n"
     ]
    }
   ],
   "source": [
    "COLETAS.persist(pyspark.StorageLevel.MEMORY_ONLY)"
   ]
  },
  {
   "cell_type": "code",
   "execution_count": 292,
   "metadata": {},
   "outputs": [
    {
     "data": {
      "application/vnd.jupyter.widget-view+json": {
       "model_id": "c9e9f06c9fe141a0b9505cadd60772fa",
       "version_major": 2,
       "version_minor": 0
      },
      "text/plain": [
       "VBox()"
      ]
     },
     "metadata": {},
     "output_type": "display_data"
    },
    {
     "data": {
      "application/vnd.jupyter.widget-view+json": {
       "model_id": "",
       "version_major": 2,
       "version_minor": 0
      },
      "text/plain": [
       "FloatProgress(value=0.0, bar_style='info', description='Progress:', layout=Layout(height='25px', width='50%'),…"
      ]
     },
     "metadata": {},
     "output_type": "display_data"
    },
    {
     "name": "stderr",
     "output_type": "stream",
     "text": [
      "name 'COLETAS' is not defined\n",
      "Traceback (most recent call last):\n",
      "NameError: name 'COLETAS' is not defined\n",
      "\n"
     ]
    }
   ],
   "source": [
    "COLETAS=COLETAS.withColumn('Median_Avg_PrecoPraticadoKG',col('Median_Avg_PrecoPraticadoKG').cast('Double'))\n",
    "COLETAS=COLETAS.withColumn('PrecoSemana',col('PrecoSemana').cast('Double'))\n",
    "COLETAS=COLETAS.drop('CapacidadeFilial'\n",
    "                    ,'Qtd_Coletas_Total'\n",
    "                    ,'QtdDeColetasMes'\n",
    "                    ,'RunningColeta'\n",
    "                    ,'Ano'\n",
    "                    ,'Semana'\n",
    "                    ,'UnComSemanaPP'\n",
    "                    ,'ChaveSemana')"
   ]
  },
  {
   "cell_type": "code",
   "execution_count": 293,
   "metadata": {},
   "outputs": [
    {
     "data": {
      "application/vnd.jupyter.widget-view+json": {
       "model_id": "cbe10364d73748ffb1dbd3cb3248c058",
       "version_major": 2,
       "version_minor": 0
      },
      "text/plain": [
       "VBox()"
      ]
     },
     "metadata": {},
     "output_type": "display_data"
    },
    {
     "data": {
      "application/vnd.jupyter.widget-view+json": {
       "model_id": "",
       "version_major": 2,
       "version_minor": 0
      },
      "text/plain": [
       "FloatProgress(value=0.0, bar_style='info', description='Progress:', layout=Layout(height='25px', width='50%'),…"
      ]
     },
     "metadata": {},
     "output_type": "display_data"
    },
    {
     "name": "stderr",
     "output_type": "stream",
     "text": [
      "name 'COLETAS' is not defined\n",
      "Traceback (most recent call last):\n",
      "NameError: name 'COLETAS' is not defined\n",
      "\n"
     ]
    }
   ],
   "source": [
    "#Union with google forms\n",
    "COLETAS=COLETAS.union(GOOGLEFORMS)"
   ]
  },
  {
   "cell_type": "code",
   "execution_count": 294,
   "metadata": {},
   "outputs": [
    {
     "data": {
      "application/vnd.jupyter.widget-view+json": {
       "model_id": "a82ed4b16725469eb686df68db37ac1d",
       "version_major": 2,
       "version_minor": 0
      },
      "text/plain": [
       "VBox()"
      ]
     },
     "metadata": {},
     "output_type": "display_data"
    },
    {
     "data": {
      "application/vnd.jupyter.widget-view+json": {
       "model_id": "",
       "version_major": 2,
       "version_minor": 0
      },
      "text/plain": [
       "FloatProgress(value=0.0, bar_style='info', description='Progress:', layout=Layout(height='25px', width='50%'),…"
      ]
     },
     "metadata": {},
     "output_type": "display_data"
    },
    {
     "name": "stderr",
     "output_type": "stream",
     "text": [
      "name 'COLETAS' is not defined\n",
      "Traceback (most recent call last):\n",
      "NameError: name 'COLETAS' is not defined\n",
      "\n"
     ]
    }
   ],
   "source": [
    "COLETAS.persist(pyspark.StorageLevel.MEMORY_ONLY)"
   ]
  },
  {
   "cell_type": "code",
   "execution_count": 295,
   "metadata": {},
   "outputs": [
    {
     "data": {
      "application/vnd.jupyter.widget-view+json": {
       "model_id": "26651b570a5447a4959e491e5eab8b72",
       "version_major": 2,
       "version_minor": 0
      },
      "text/plain": [
       "VBox()"
      ]
     },
     "metadata": {},
     "output_type": "display_data"
    },
    {
     "data": {
      "application/vnd.jupyter.widget-view+json": {
       "model_id": "",
       "version_major": 2,
       "version_minor": 0
      },
      "text/plain": [
       "FloatProgress(value=0.0, bar_style='info', description='Progress:', layout=Layout(height='25px', width='50%'),…"
      ]
     },
     "metadata": {},
     "output_type": "display_data"
    },
    {
     "name": "stderr",
     "output_type": "stream",
     "text": [
      "name 'COLETAS' is not defined\n",
      "Traceback (most recent call last):\n",
      "NameError: name 'COLETAS' is not defined\n",
      "\n"
     ]
    }
   ],
   "source": [
    "#Change , for .\n",
    "COLETAS=COLETAS.withColumn('Median_Avg_PrecoPraticadoKG'\n",
    "                  ,regexp_replace('Median_Avg_PrecoPraticadoKG',',','.'))\n",
    "\n",
    "COLETAS=COLETAS.withColumn('precoSemana'\n",
    "                  ,regexp_replace('precoSemana',',','.'))\n",
    "\n",
    "COLETAS=COLETAS.withColumn('StdDev_PrecoConcorrente'\n",
    "                  ,regexp_replace('StdDev_PrecoConcorrente',',','.'))\n",
    "\n",
    "COLETAS=COLETAS.withColumn('Preco21diasKG'\n",
    "                  ,regexp_replace('Preco21diasKG',',','.'))\n",
    "\n",
    "COLETAS=COLETAS.withColumn('preco_com_impostos'\n",
    "                  ,regexp_replace('preco_com_impostos',',','.'))"
   ]
  },
  {
   "cell_type": "code",
   "execution_count": 296,
   "metadata": {},
   "outputs": [
    {
     "data": {
      "application/vnd.jupyter.widget-view+json": {
       "model_id": "a0bfb54871934c31846b5205f4ff96f4",
       "version_major": 2,
       "version_minor": 0
      },
      "text/plain": [
       "VBox()"
      ]
     },
     "metadata": {},
     "output_type": "display_data"
    },
    {
     "data": {
      "application/vnd.jupyter.widget-view+json": {
       "model_id": "",
       "version_major": 2,
       "version_minor": 0
      },
      "text/plain": [
       "FloatProgress(value=0.0, bar_style='info', description='Progress:', layout=Layout(height='25px', width='50%'),…"
      ]
     },
     "metadata": {},
     "output_type": "display_data"
    },
    {
     "name": "stderr",
     "output_type": "stream",
     "text": [
      "name 'COLETAS' is not defined\n",
      "Traceback (most recent call last):\n",
      "NameError: name 'COLETAS' is not defined\n",
      "\n"
     ]
    }
   ],
   "source": [
    "COLETAS=COLETAS.withColumn('Preco21diasKG',col('Preco21diasKG').cast('double'))\n",
    "COLETAS=COLETAS.withColumn('DiasCorridos',col('DiasCorridos').cast('double'))\n",
    "COLETAS=COLETAS.withColumn('DiasFaltantes',col('DiasFaltantes').cast('double'))\n",
    "COLETAS=COLETAS.withColumn('preco_com_impostos',col('preco_com_impostos').cast('double'))\n",
    "COLETAS=COLETAS.withColumn('Median_Avg_PrecoPraticadoKG',col('Median_Avg_PrecoPraticadoKG').cast('double'))\n",
    "COLETAS=COLETAS.withColumn('precoSemana',col('precoSemana').cast('double'))\n",
    "COLETAS=COLETAS.withColumn('StdDev_PrecoConcorrente',col('StdDev_PrecoConcorrente').cast('double'))"
   ]
  },
  {
   "cell_type": "code",
   "execution_count": 297,
   "metadata": {},
   "outputs": [
    {
     "data": {
      "application/vnd.jupyter.widget-view+json": {
       "model_id": "709fed5920094b0da35da0ae7f163c46",
       "version_major": 2,
       "version_minor": 0
      },
      "text/plain": [
       "VBox()"
      ]
     },
     "metadata": {},
     "output_type": "display_data"
    },
    {
     "data": {
      "application/vnd.jupyter.widget-view+json": {
       "model_id": "",
       "version_major": 2,
       "version_minor": 0
      },
      "text/plain": [
       "FloatProgress(value=0.0, bar_style='info', description='Progress:', layout=Layout(height='25px', width='50%'),…"
      ]
     },
     "metadata": {},
     "output_type": "display_data"
    }
   ],
   "source": [
    "ETL_PRODUCT2=ETL_PRODUCT2.withColumnRenamed(\"DESC_GPD\", \"GPD_drop\")"
   ]
  },
  {
   "cell_type": "code",
   "execution_count": 298,
   "metadata": {},
   "outputs": [
    {
     "data": {
      "application/vnd.jupyter.widget-view+json": {
       "model_id": "cd5e718b1e44416099e7134a2d9430f5",
       "version_major": 2,
       "version_minor": 0
      },
      "text/plain": [
       "VBox()"
      ]
     },
     "metadata": {},
     "output_type": "display_data"
    },
    {
     "data": {
      "application/vnd.jupyter.widget-view+json": {
       "model_id": "",
       "version_major": 2,
       "version_minor": 0
      },
      "text/plain": [
       "FloatProgress(value=0.0, bar_style='info', description='Progress:', layout=Layout(height='25px', width='50%'),…"
      ]
     },
     "metadata": {},
     "output_type": "display_data"
    },
    {
     "name": "stderr",
     "output_type": "stream",
     "text": [
      "name 'COLETAS' is not defined\n",
      "Traceback (most recent call last):\n",
      "NameError: name 'COLETAS' is not defined\n",
      "\n"
     ]
    }
   ],
   "source": [
    "COLETAS=COLETAS.join(ETL_PRODUCT2.select(ETL_PRODUCT2.COD_MATERIAL\n",
    "                                        ,ETL_PRODUCT2.DESC_MATERIAL\n",
    "                                        ,ETL_PRODUCT2.GPD_drop\n",
    "                                        ,ETL_PRODUCT2.COD_GPM), (COLETAS.COD_PRODUCT.cast(IntegerType())==ETL_PRODUCT2.COD_MATERIAL.cast(IntegerType())), how=\"left\")\\\n",
    "                .dropDuplicates()"
   ]
  },
  {
   "cell_type": "code",
   "execution_count": 299,
   "metadata": {},
   "outputs": [
    {
     "data": {
      "application/vnd.jupyter.widget-view+json": {
       "model_id": "091c3df7314e4cd2b530039e447088e3",
       "version_major": 2,
       "version_minor": 0
      },
      "text/plain": [
       "VBox()"
      ]
     },
     "metadata": {},
     "output_type": "display_data"
    },
    {
     "data": {
      "application/vnd.jupyter.widget-view+json": {
       "model_id": "",
       "version_major": 2,
       "version_minor": 0
      },
      "text/plain": [
       "FloatProgress(value=0.0, bar_style='info', description='Progress:', layout=Layout(height='25px', width='50%'),…"
      ]
     },
     "metadata": {},
     "output_type": "display_data"
    },
    {
     "name": "stderr",
     "output_type": "stream",
     "text": [
      "name 'COLETAS' is not defined\n",
      "Traceback (most recent call last):\n",
      "NameError: name 'COLETAS' is not defined\n",
      "\n"
     ]
    }
   ],
   "source": [
    "COLETAS.persist(pyspark.StorageLevel.MEMORY_ONLY)"
   ]
  },
  {
   "cell_type": "code",
   "execution_count": 300,
   "metadata": {},
   "outputs": [
    {
     "data": {
      "application/vnd.jupyter.widget-view+json": {
       "model_id": "5820f466122d40a696d8906eebe26dcb",
       "version_major": 2,
       "version_minor": 0
      },
      "text/plain": [
       "VBox()"
      ]
     },
     "metadata": {},
     "output_type": "display_data"
    },
    {
     "data": {
      "application/vnd.jupyter.widget-view+json": {
       "model_id": "",
       "version_major": 2,
       "version_minor": 0
      },
      "text/plain": [
       "FloatProgress(value=0.0, bar_style='info', description='Progress:', layout=Layout(height='25px', width='50%'),…"
      ]
     },
     "metadata": {},
     "output_type": "display_data"
    },
    {
     "name": "stderr",
     "output_type": "stream",
     "text": [
      "name 'COLETAS' is not defined\n",
      "Traceback (most recent call last):\n",
      "NameError: name 'COLETAS' is not defined\n",
      "\n"
     ]
    }
   ],
   "source": [
    "COLETAS=COLETAS.withColumn(\"GPM\", when(COLETAS.COD_GPM.isNull(), COLETAS.GPM)\\\n",
    "                                      .otherwise(COLETAS.COD_GPM))\\\n",
    "               .withColumn(\"DESC_PRODUCT\", when(COLETAS.DESC_MATERIAL.isNull(), COLETAS.DESC_PRODUCT)\\\n",
    "                                               .otherwise(COLETAS.DESC_MATERIAL))\\\n",
    "               .withColumn(\"DESC_GPD\", when(COLETAS.GPD_drop.isNull(), COLETAS.DESC_GPD)\\\n",
    "                                           .otherwise(COLETAS.GPD_drop))\\"
   ]
  },
  {
   "cell_type": "code",
   "execution_count": 301,
   "metadata": {},
   "outputs": [
    {
     "data": {
      "application/vnd.jupyter.widget-view+json": {
       "model_id": "31f5862df4cb4601ab5d7cb5b162f3ad",
       "version_major": 2,
       "version_minor": 0
      },
      "text/plain": [
       "VBox()"
      ]
     },
     "metadata": {},
     "output_type": "display_data"
    },
    {
     "data": {
      "application/vnd.jupyter.widget-view+json": {
       "model_id": "",
       "version_major": 2,
       "version_minor": 0
      },
      "text/plain": [
       "FloatProgress(value=0.0, bar_style='info', description='Progress:', layout=Layout(height='25px', width='50%'),…"
      ]
     },
     "metadata": {},
     "output_type": "display_data"
    },
    {
     "name": "stderr",
     "output_type": "stream",
     "text": [
      "name 'COLETAS' is not defined\n",
      "Traceback (most recent call last):\n",
      "NameError: name 'COLETAS' is not defined\n",
      "\n"
     ]
    }
   ],
   "source": [
    "COLETAS=COLETAS.drop(\"DESC_MATERIAL\"\n",
    "                     ,\"COD_MATERIAL\"\n",
    "                     ,\"COD_GPM\"\n",
    "                     ,\"GPD_drop\")"
   ]
  },
  {
   "cell_type": "code",
   "execution_count": 302,
   "metadata": {},
   "outputs": [
    {
     "data": {
      "application/vnd.jupyter.widget-view+json": {
       "model_id": "90ebadbf92c741938a6478aa396a0fab",
       "version_major": 2,
       "version_minor": 0
      },
      "text/plain": [
       "VBox()"
      ]
     },
     "metadata": {},
     "output_type": "display_data"
    },
    {
     "data": {
      "application/vnd.jupyter.widget-view+json": {
       "model_id": "",
       "version_major": 2,
       "version_minor": 0
      },
      "text/plain": [
       "FloatProgress(value=0.0, bar_style='info', description='Progress:', layout=Layout(height='25px', width='50%'),…"
      ]
     },
     "metadata": {},
     "output_type": "display_data"
    },
    {
     "name": "stderr",
     "output_type": "stream",
     "text": [
      "name 'COLETAS' is not defined\n",
      "Traceback (most recent call last):\n",
      "NameError: name 'COLETAS' is not defined\n",
      "\n"
     ]
    }
   ],
   "source": [
    "COLETAS=COLETAS.join(ETL_PRODUCT2.select(ETL_PRODUCT2.COD_MATERIAL\n",
    "                                        ,ETL_PRODUCT2.GPD_drop\n",
    "                                        ,ETL_PRODUCT2.COD_GPM),  (COLETAS.COD_PRODUCT.cast(IntegerType())==ETL_PRODUCT2.COD_MATERIAL.cast(IntegerType()))&\n",
    "                                                                 (normalizing_orthography(upper(trim(COLETAS.DESC_GPD)))==normalizing_orthography(upper(trim(ETL_PRODUCT2.GPD_drop)))), how=\"left\")\\\n",
    "                     .dropDuplicates()"
   ]
  },
  {
   "cell_type": "code",
   "execution_count": 303,
   "metadata": {},
   "outputs": [
    {
     "data": {
      "application/vnd.jupyter.widget-view+json": {
       "model_id": "2fd8167fbe39410ab6db4e7dbb14a53d",
       "version_major": 2,
       "version_minor": 0
      },
      "text/plain": [
       "VBox()"
      ]
     },
     "metadata": {},
     "output_type": "display_data"
    },
    {
     "data": {
      "application/vnd.jupyter.widget-view+json": {
       "model_id": "",
       "version_major": 2,
       "version_minor": 0
      },
      "text/plain": [
       "FloatProgress(value=0.0, bar_style='info', description='Progress:', layout=Layout(height='25px', width='50%'),…"
      ]
     },
     "metadata": {},
     "output_type": "display_data"
    },
    {
     "name": "stderr",
     "output_type": "stream",
     "text": [
      "name 'COLETAS' is not defined\n",
      "Traceback (most recent call last):\n",
      "NameError: name 'COLETAS' is not defined\n",
      "\n"
     ]
    }
   ],
   "source": [
    "COLETAS.persist(pyspark.StorageLevel.MEMORY_ONLY)"
   ]
  },
  {
   "cell_type": "code",
   "execution_count": 304,
   "metadata": {},
   "outputs": [
    {
     "data": {
      "application/vnd.jupyter.widget-view+json": {
       "model_id": "dade8e045abe4f85812bed317c275005",
       "version_major": 2,
       "version_minor": 0
      },
      "text/plain": [
       "VBox()"
      ]
     },
     "metadata": {},
     "output_type": "display_data"
    },
    {
     "data": {
      "application/vnd.jupyter.widget-view+json": {
       "model_id": "",
       "version_major": 2,
       "version_minor": 0
      },
      "text/plain": [
       "FloatProgress(value=0.0, bar_style='info', description='Progress:', layout=Layout(height='25px', width='50%'),…"
      ]
     },
     "metadata": {},
     "output_type": "display_data"
    },
    {
     "name": "stderr",
     "output_type": "stream",
     "text": [
      "name 'COLETAS' is not defined\n",
      "Traceback (most recent call last):\n",
      "NameError: name 'COLETAS' is not defined\n",
      "\n"
     ]
    }
   ],
   "source": [
    "COLETAS=COLETAS.withColumn(\"GPM\", when(COLETAS.COD_GPM.isNull(), COLETAS.GPM)\\\n",
    "                                      .otherwise(COLETAS.COD_GPM))\\"
   ]
  },
  {
   "cell_type": "code",
   "execution_count": 305,
   "metadata": {},
   "outputs": [
    {
     "data": {
      "application/vnd.jupyter.widget-view+json": {
       "model_id": "7a7956bf2dfd40bf96aee17bb8f2bea3",
       "version_major": 2,
       "version_minor": 0
      },
      "text/plain": [
       "VBox()"
      ]
     },
     "metadata": {},
     "output_type": "display_data"
    },
    {
     "data": {
      "application/vnd.jupyter.widget-view+json": {
       "model_id": "",
       "version_major": 2,
       "version_minor": 0
      },
      "text/plain": [
       "FloatProgress(value=0.0, bar_style='info', description='Progress:', layout=Layout(height='25px', width='50%'),…"
      ]
     },
     "metadata": {},
     "output_type": "display_data"
    },
    {
     "name": "stderr",
     "output_type": "stream",
     "text": [
      "name 'COLETAS' is not defined\n",
      "Traceback (most recent call last):\n",
      "NameError: name 'COLETAS' is not defined\n",
      "\n"
     ]
    }
   ],
   "source": [
    "COLETAS=COLETAS.drop(\"COD_GPM\"\n",
    "                     ,\"GPD_drop\"\n",
    "                    ,\"COD_MATERIAL\")"
   ]
  },
  {
   "cell_type": "code",
   "execution_count": 306,
   "metadata": {},
   "outputs": [
    {
     "data": {
      "application/vnd.jupyter.widget-view+json": {
       "model_id": "c6b437ae58bd4ed6b7d7676f7cc2c83d",
       "version_major": 2,
       "version_minor": 0
      },
      "text/plain": [
       "VBox()"
      ]
     },
     "metadata": {},
     "output_type": "display_data"
    },
    {
     "data": {
      "application/vnd.jupyter.widget-view+json": {
       "model_id": "",
       "version_major": 2,
       "version_minor": 0
      },
      "text/plain": [
       "FloatProgress(value=0.0, bar_style='info', description='Progress:', layout=Layout(height='25px', width='50%'),…"
      ]
     },
     "metadata": {},
     "output_type": "display_data"
    },
    {
     "name": "stderr",
     "output_type": "stream",
     "text": [
      "name 'COLETAS' is not defined\n",
      "Traceback (most recent call last):\n",
      "NameError: name 'COLETAS' is not defined\n",
      "\n"
     ]
    }
   ],
   "source": [
    "COLETAS.persist(pyspark.StorageLevel.MEMORY_ONLY)"
   ]
  },
  {
   "cell_type": "code",
   "execution_count": 307,
   "metadata": {},
   "outputs": [
    {
     "data": {
      "application/vnd.jupyter.widget-view+json": {
       "model_id": "a62cc0a11dc3456fa685624176550e31",
       "version_major": 2,
       "version_minor": 0
      },
      "text/plain": [
       "VBox()"
      ]
     },
     "metadata": {},
     "output_type": "display_data"
    },
    {
     "data": {
      "application/vnd.jupyter.widget-view+json": {
       "model_id": "",
       "version_major": 2,
       "version_minor": 0
      },
      "text/plain": [
       "FloatProgress(value=0.0, bar_style='info', description='Progress:', layout=Layout(height='25px', width='50%'),…"
      ]
     },
     "metadata": {},
     "output_type": "display_data"
    },
    {
     "name": "stderr",
     "output_type": "stream",
     "text": [
      "name 'COLETAS' is not defined\n",
      "Traceback (most recent call last):\n",
      "NameError: name 'COLETAS' is not defined\n",
      "\n"
     ]
    }
   ],
   "source": [
    "COLETAS.write.partitionBy(\"GPM\")"
   ]
  },
  {
   "cell_type": "code",
   "execution_count": 308,
   "metadata": {},
   "outputs": [
    {
     "data": {
      "application/vnd.jupyter.widget-view+json": {
       "model_id": "54580b7cc0e448d09492488d5d011c84",
       "version_major": 2,
       "version_minor": 0
      },
      "text/plain": [
       "VBox()"
      ]
     },
     "metadata": {},
     "output_type": "display_data"
    },
    {
     "data": {
      "application/vnd.jupyter.widget-view+json": {
       "model_id": "",
       "version_major": 2,
       "version_minor": 0
      },
      "text/plain": [
       "FloatProgress(value=0.0, bar_style='info', description='Progress:', layout=Layout(height='25px', width='50%'),…"
      ]
     },
     "metadata": {},
     "output_type": "display_data"
    },
    {
     "name": "stderr",
     "output_type": "stream",
     "text": [
      "name 'COLETAS' is not defined\n",
      "Traceback (most recent call last):\n",
      "NameError: name 'COLETAS' is not defined\n",
      "\n"
     ]
    }
   ],
   "source": [
    "COLETAS = COLETAS.repartition(\"GPM\")"
   ]
  },
  {
   "cell_type": "code",
   "execution_count": 309,
   "metadata": {},
   "outputs": [
    {
     "data": {
      "application/vnd.jupyter.widget-view+json": {
       "model_id": "35a0b751d3c347d98808df72fcf85dd7",
       "version_major": 2,
       "version_minor": 0
      },
      "text/plain": [
       "VBox()"
      ]
     },
     "metadata": {},
     "output_type": "display_data"
    },
    {
     "data": {
      "application/vnd.jupyter.widget-view+json": {
       "model_id": "",
       "version_major": 2,
       "version_minor": 0
      },
      "text/plain": [
       "FloatProgress(value=0.0, bar_style='info', description='Progress:', layout=Layout(height='25px', width='50%'),…"
      ]
     },
     "metadata": {},
     "output_type": "display_data"
    },
    {
     "name": "stderr",
     "output_type": "stream",
     "text": [
      "name 'COLETAS' is not defined\n",
      "Traceback (most recent call last):\n",
      "NameError: name 'COLETAS' is not defined\n",
      "\n"
     ]
    }
   ],
   "source": [
    "COLETAS=COLETAS.withColumnRenamed(\"CIDADE\",\"CITY\")\\\n",
    "                 .withColumnRenamed(\"Cod_Vendedor\",\"COD_SALES_AGENT\")\\\n",
    "                 .withColumnRenamed(\"Nome_vendedor\",\"SALES_AGENT\")\\\n",
    "                 .withColumnRenamed(\"ESTADO\",\"STATE\")\\\n",
    "                 .withColumnRenamed(\"COD_CLIENTE\",\"COD_CLIENT\")\\\n",
    "                 .withColumnRenamed(\"NOME_CLIENTE\",\"CLIENT_NAME\")\\\n",
    "                 .withColumnRenamed(\"UNIDADE_DE_MEDIDA\",\"UNIT_MEASURE\")\\\n",
    "                 .withColumnRenamed(\"PRAZO_DE_PAGAMENTO\",\"PAYMENT_TERM\")\\\n",
    "                 .withColumnRenamed(\"PRECO_COM_IMPOSTOS\",\"PRICE_WITH_TAXES\")\\\n",
    "                 .withColumnRenamed(\"FABRICANTE\",\"COMPETITOR\")\\\n",
    "                 .withColumnRenamed(\"CIDADEESTADO\",\"CITY_STATE\")\\\n",
    "                 .withColumnRenamed(\"DESC_MATERIAL\",\"DESC_PRODUCT\")\\\n",
    "                 .withColumnRenamed(\"OVAjustada\",\"ADJ_SALES_ORG\")\\\n",
    "                 .withColumnRenamed(\"ChaveVendedorMetas\",\"KEY_SELLERS_MARKS\")\\\n",
    "                 .withColumnRenamed(\"ChaveVendedor\",\"KEY_SELLERS\")\\\n",
    "                 .withColumnRenamed(\"Regiao\",\"REGION\")\\\n",
    "                 .withColumnRenamed(\"Median_Avg_PrecoPraticadoKG\",\"PRACTICED_PRICE_KG_MEDIAN_AVG\")\\\n",
    "                 .withColumnRenamed(\"Filial\",\"BRANCH\")\\\n",
    "                 .withColumnRenamed(\"CapacidadeFilial\",\"BRANCH_CAPACITY\")\\\n",
    "                 .withColumnRenamed(\"Pre_Aprovado\",\"PRE_APPROVED\")\\\n",
    "                 .withColumnRenamed(\"StdDev_PrecoConcorrente\",\"COMPETITOR_PRICE_STD_DEVIATION\")\\\n",
    "                 .withColumnRenamed(\"precoSemana\",\"WEEK_PRICE\")\\\n",
    "                 .withColumnRenamed(\"StatusAtual\",\"CURRENT_STATUS\")\\\n",
    "                 .withColumnRenamed(\"Aprovado\",\"APPROVED\")\\\n",
    "                 .withColumnRenamed(\"Tipo_de_Preco_Ajustes\",\"ADJ_PRICE_TYPE\")\\\n",
    "                 .withColumnRenamed(\"Unidade_de_analise\",\"ANALYSIS_UNIT\")\\\n",
    "                 .withColumnRenamed(\"ChaveFatura\",\"BILLING_KEY\")\\\n",
    "                 .withColumnRenamed(\"Preco21diasKG\",\"PRICE_21_DAYS_KG\")\\\n",
    "                 .withColumnRenamed(\"Count_Qtd_Fatura\",\"COUNT_BILLING_QTT\")\\\n",
    "                 .withColumnRenamed(\"MesAno\",\"MONTH_YEAR\")\\\n",
    "                 .withColumnRenamed(\"DiasCorridos\",\"PASS_DAYS\")\\\n",
    "                 .withColumnRenamed(\"DiasFaltantes\",\"REMAINING_DAYS\")\\\n",
    "                 .withColumnRenamed(\"TIPO_DE_PRECO\",\"PRICE_TYPE\")"
   ]
  },
  {
   "cell_type": "markdown",
   "metadata": {},
   "source": [
    "---------------"
   ]
  },
  {
   "cell_type": "markdown",
   "metadata": {},
   "source": [
    "## Create Parquet file"
   ]
  },
  {
   "cell_type": "code",
   "execution_count": 120,
   "metadata": {
    "scrolled": true
   },
   "outputs": [
    {
     "data": {
      "application/vnd.jupyter.widget-view+json": {
       "model_id": "1276e2a4926a440d91bb5eab2c13669e",
       "version_major": 2,
       "version_minor": 0
      },
      "text/plain": [
       "VBox()"
      ]
     },
     "metadata": {},
     "output_type": "display_data"
    },
    {
     "data": {
      "application/vnd.jupyter.widget-view+json": {
       "model_id": "",
       "version_major": 2,
       "version_minor": 0
      },
      "text/plain": [
       "FloatProgress(value=0.0, bar_style='info', description='Progress:', layout=Layout(height='25px', width='50%'),…"
      ]
     },
     "metadata": {},
     "output_type": "display_data"
    }
   ],
   "source": [
    "COLETAS.write.mode('overwrite').parquet(\"s3a://\"+SPG_OUTPUT_BUCKET+\"/\"+SPG_OUTPUT_BUCKET_COLLECT)"
   ]
  }
 ],
 "metadata": {
  "kernelspec": {
   "display_name": "Python 3",
   "language": "python",
   "name": "python3"
  },
  "language_info": {
   "codemirror_mode": {
    "name": "ipython",
    "version": 3
   },
   "file_extension": ".py",
   "mimetype": "text/x-python",
   "name": "python",
   "nbconvert_exporter": "python",
   "pygments_lexer": "ipython3",
   "version": "3.7.5"
  }
 },
 "nbformat": 4,
 "nbformat_minor": 4
}
