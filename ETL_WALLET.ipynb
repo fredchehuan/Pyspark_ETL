{
 "cells": [
  {
   "cell_type": "markdown",
   "metadata": {},
   "source": [
    "# Importing Libraries"
   ]
  },
  {
   "cell_type": "code",
   "execution_count": 5,
   "metadata": {},
   "outputs": [
    {
     "data": {
      "application/vnd.jupyter.widget-view+json": {
       "model_id": "084c9902c92f448f87d9db7f047443da",
       "version_major": 2,
       "version_minor": 0
      },
      "text/plain": [
       "VBox()"
      ]
     },
     "metadata": {},
     "output_type": "display_data"
    },
    {
     "data": {
      "application/vnd.jupyter.widget-view+json": {
       "model_id": "",
       "version_major": 2,
       "version_minor": 0
      },
      "text/plain": [
       "FloatProgress(value=0.0, bar_style='info', description='Progress:', layout=Layout(height='25px', width='50%'),…"
      ]
     },
     "metadata": {},
     "output_type": "display_data"
    }
   ],
   "source": [
    "import findspark                                              #Import library to Search for Spark Installation  \n",
    "\n",
    "findspark.init()                                              #Search Spark Installation\n",
    "\n",
    "import pyspark                                                #Only run after findspark.init()\n",
    "\n",
    "from pyspark.sql import SparkSession                          # Import of Spark Session\n",
    "from pyspark import SparkContext as spark                     # Import the Regular Spark Contex \n",
    "from pyspark.sql import SQLContext                            # Import the SQL Spark Contex \n",
    "from pyspark.sql.window import Window                         # Import Window methoed\n",
    "from pyspark.sql.functions import *                           # Import all Functions\n",
    "from pyspark.sql.types import *                               # Import all Types\n",
    "spark = SparkSession.builder.getOrCreate()                    # Creating Session\n",
    "from datetime import date                                     # Import date methoed\n",
    "\n",
    "import os\n",
    "import pandas as pd\n",
    "import boto3\n",
    "import time\n",
    "from botocore.client import ClientError\n",
    "\n",
    "import pyarrow.parquet as pq\n",
    "import s3fs\n",
    "import calendar\n",
    "import json\n",
    "\n",
    "month_ref = date.today().month                                # Creating Current Month Variable\n",
    "year_ref = date.today().year                                  # Creating Current Year Variable\n",
    "\n",
    "sc = spark.sparkContext                                       #Initialize Spark \n",
    "\n",
    "spark.conf.set(\"spark.sql.broadcastTimeout\",  36000)          #Changing Broadcast Timeout\n",
    "#conf = pyspark.SparkConf().setMaster(\"yarn-client\").setAppName(\"sparK-mer\")\n",
    "#conf.set(\"spark.executor.heartbeatInterval\",\"3600s\")"
   ]
  },
  {
   "cell_type": "markdown",
   "metadata": {},
   "source": [
    "-----------------------------"
   ]
  },
  {
   "cell_type": "markdown",
   "metadata": {},
   "source": [
    "# Creating Variables"
   ]
  },
  {
   "cell_type": "markdown",
   "metadata": {},
   "source": [
    "## Database"
   ]
  },
  {
   "cell_type": "code",
   "execution_count": null,
   "metadata": {},
   "outputs": [],
   "source": [
    "ATHENA_SPG = os.environ['SPG_DATABASE']"
   ]
  },
  {
   "cell_type": "code",
   "execution_count": null,
   "metadata": {},
   "outputs": [],
   "source": [
    "ATHENA_HANA = os.environ['GERDAU_HANA_DATABASE']"
   ]
  },
  {
   "cell_type": "code",
   "execution_count": null,
   "metadata": {},
   "outputs": [],
   "source": [
    "ATHENA_SALES = os.environ['GERDAU_SALES_DATABASE']"
   ]
  },
  {
   "cell_type": "markdown",
   "metadata": {},
   "source": [
    "## Buckets"
   ]
  },
  {
   "cell_type": "code",
   "execution_count": null,
   "metadata": {},
   "outputs": [],
   "source": [
    "SPG_MANUAL_INPUT_BUCKET = os.environ['MANUAL_INPUT_BUCKET']"
   ]
  },
  {
   "cell_type": "code",
   "execution_count": null,
   "metadata": {},
   "outputs": [],
   "source": [
    "SPG_INTEGRATION_INPUT_BUCKET = os.environ['INTEGRATION_INPUT_BUCKET']"
   ]
  },
  {
   "cell_type": "code",
   "execution_count": null,
   "metadata": {},
   "outputs": [],
   "source": [
    "SPG_QUERY_BUCKET = os.environ['QUERY_BUCKET']"
   ]
  },
  {
   "cell_type": "code",
   "execution_count": null,
   "metadata": {},
   "outputs": [],
   "source": [
    "GERDAU_BUCKET = os.environ['GERDAU_BUCKET']"
   ]
  },
  {
   "cell_type": "code",
   "execution_count": null,
   "metadata": {},
   "outputs": [],
   "source": [
    "SPG_OUTPUT_BUCKET = os.environ['OUTPUT_BUCKET']"
   ]
  },
  {
   "cell_type": "markdown",
   "metadata": {},
   "source": [
    "## Input Paths"
   ]
  },
  {
   "cell_type": "code",
   "execution_count": null,
   "metadata": {},
   "outputs": [],
   "source": [
    "# SPG Regions\n",
    "SPG_INTEGRATION_INPUT_BUCKET_REGION = \"SPG_DIMENSIONS/SPG_REGIOES/SPG_RG_REGIOES/SPG_RG_REGIOES.parquet\""
   ]
  },
  {
   "cell_type": "code",
   "execution_count": null,
   "metadata": {},
   "outputs": [],
   "source": [
    "# SPG Products\n",
    "SPG_INTEGRATION_INPUT_BUCKET_PRODUCTS = \"SPG_DIMENSIONS/SPG_PRODUTOS/SPG_PD_PRODUTOS.parquet\""
   ]
  },
  {
   "cell_type": "code",
   "execution_count": null,
   "metadata": {},
   "outputs": [],
   "source": [
    "# Alçada\n",
    "SPG_INTEGRATION_INPUT_BUCKET_VERGE = \"SPG_GLOBAL/SUPPORT/tb_SPG_SUPPORT_ALCADA.parquet\""
   ]
  },
  {
   "cell_type": "code",
   "execution_count": null,
   "metadata": {},
   "outputs": [],
   "source": [
    "SPG_QUERY_BUCKET_ATHENA = \"SPG_QUERY/SPG_ATHENA\""
   ]
  },
  {
   "cell_type": "code",
   "execution_count": null,
   "metadata": {},
   "outputs": [],
   "source": [
    "# SPG SUPPORT SALES OFFICE\n",
    "SPG_MANUAL_INPUT_BUCKET_SALES_OFFICE = \"SPG_GLOBAL/INPUT/tb_SPG_SUPPORT_SALES_OFFICE.csv\""
   ]
  },
  {
   "cell_type": "code",
   "execution_count": null,
   "metadata": {},
   "outputs": [],
   "source": [
    "# SPG SUPPORT SALES ORDER\n",
    "SPG_MANUAL_INPUT_BUCKET_SALES_TYPE = \"SPG_GLOBAL/INPUT/tb_SPG_SUPPORT_SALES_ORDER_TYPE.csv\""
   ]
  },
  {
   "cell_type": "code",
   "execution_count": null,
   "metadata": {},
   "outputs": [],
   "source": [
    "# Conditions\n",
    "GERDAU_BUCKET_OPEN_ORDER_INPUT_PATH = \"global/lsa/adm/o2c/backlogopensales_smartpricing/report_openorder_pricing\""
   ]
  },
  {
   "cell_type": "code",
   "execution_count": null,
   "metadata": {},
   "outputs": [],
   "source": [
    "QUERY_WALLET = \"SELECT * FROM \"+ATHENA_HANA+\".tb_o2c_backlogopsales_rpt_en_full_parquet inner join (SELECT DISTINCT max(dt_load) AS max_date FROM \"+ATHENA_HANA+\".tb_o2c_backlogopsales_rpt_en_full_parquet WHERE CustCountry LIKE '%Brazil%') ON dt_load = max_date WHERE CustCountry LIKE '%Brazil%'\""
   ]
  },
  {
   "cell_type": "code",
   "execution_count": null,
   "metadata": {},
   "outputs": [],
   "source": [
    "QUERY_VBAP = \"SELECT DISTINCT vbeln as SALES_ORDER_NUMBER_drop, posnr as SALES_ORDER_ITEM_drop, cast(NETWR as decimal(19,6)) as RLV, cast(ZZICMS_IPI_T as decimal(19,6)) as RBV,cast(MWSBP as decimal(19,6)) as TOTAL_TAXES, cast(KWMENG as decimal(19,6)) as KWMENG,cast(UMVKZ as decimal(19,6)) as UMVKZ,cast(UMVKN as decimal(19,6)) as UMVKN FROM \"+ATHENA_SALES+\".tb_global_vbap_parquet\""
   ]
  },
  {
   "cell_type": "markdown",
   "metadata": {},
   "source": [
    "## Output Paths"
   ]
  },
  {
   "cell_type": "code",
   "execution_count": null,
   "metadata": {},
   "outputs": [],
   "source": [
    "SPG_OUTPUT_BUCKET_WALLET = \"SPG_WALLET/tb_SPG_WT_WALLET.parquet\""
   ]
  },
  {
   "cell_type": "markdown",
   "metadata": {},
   "source": [
    "## Boto3 Variable"
   ]
  },
  {
   "cell_type": "code",
   "execution_count": null,
   "metadata": {},
   "outputs": [],
   "source": [
    "#S3 Configuration\n",
    "S3_ATHENA_INPUT =  's3://'+SPG_QUERY_BUCKET+'/'+SPG_QUERY_BUCKET_ATHENA"
   ]
  },
  {
   "cell_type": "code",
   "execution_count": null,
   "metadata": {},
   "outputs": [],
   "source": [
    "S3_ATHENA_OUTPUT = 's3://'+SPG_QUERY_BUCKET+'/'+SPG_QUERY_BUCKET_ATHENA"
   ]
  },
  {
   "cell_type": "code",
   "execution_count": null,
   "metadata": {},
   "outputs": [],
   "source": [
    "region_name = os.environ['AWS_REGION']"
   ]
  },
  {
   "cell_type": "code",
   "execution_count": null,
   "metadata": {},
   "outputs": [],
   "source": [
    "aws_access_key_id = os.environ['AWS_ACCESS_KEY']"
   ]
  },
  {
   "cell_type": "code",
   "execution_count": null,
   "metadata": {},
   "outputs": [],
   "source": [
    "aws_secret_access_key = os.environ['AWS_SECRET_KEY']"
   ]
  },
  {
   "cell_type": "markdown",
   "metadata": {},
   "source": [
    "------------"
   ]
  },
  {
   "cell_type": "markdown",
   "metadata": {},
   "source": [
    "# Creating Defined Functions"
   ]
  },
  {
   "cell_type": "code",
   "execution_count": null,
   "metadata": {},
   "outputs": [],
   "source": [
    "# Run Query\n",
    "\n",
    "def run_query(query, database, s3_output):\n",
    "    response = client.start_query_execution(\n",
    "        QueryString=query,\n",
    "        QueryExecutionContext={\n",
    "            'Database': database\n",
    "            },\n",
    "        ResultConfiguration={\n",
    "            'OutputLocation': s3_output,\n",
    "            }\n",
    "        )\n",
    "    return response"
   ]
  },
  {
   "cell_type": "code",
   "execution_count": null,
   "metadata": {},
   "outputs": [],
   "source": [
    "def get_aws_path(query,database,s3_output):\n",
    "    response = run_query(query, database, s3_output)\n",
    "    file_query = response['QueryExecutionId']\n",
    "    file_metadata = response['QueryExecutionId'] + '.metadata'\n",
    "    return file_query"
   ]
  },
  {
   "cell_type": "code",
   "execution_count": null,
   "metadata": {},
   "outputs": [],
   "source": [
    "# Wating for 300 seconds until the end of the upload\n",
    "\n",
    "def wait_athena_load(Bucket, Key):\n",
    "    time_to_wait = 300\n",
    "    time_counter = 0\n",
    "\n",
    "    while True:\n",
    "        try:\n",
    "            s3.meta.client.head_object(Bucket=Bucket,Key=Key)\n",
    "        except ClientError:\n",
    "            time.sleep(1)\n",
    "            time_counter += 1\n",
    "            if time_counter > time_to_wait:\n",
    "                break\n",
    "        else:\n",
    "            break"
   ]
  },
  {
   "cell_type": "code",
   "execution_count": null,
   "metadata": {},
   "outputs": [],
   "source": [
    "def remove_some_accents(col_name):\n",
    "    removed_array = [('Á', 'A'), ('Ã', 'A'),('À', 'A'),('Â', 'A'),('Ä', 'A'),\n",
    "                    ('É', 'E'),('È', 'E'),('Ê', 'E'),('Ë', 'E'),\n",
    "                    ('Í', 'I'),('Ì', 'I'),('Î', 'I'),('Ï', 'I'),\n",
    "                    ('Ó', 'O'),('Õ', 'O'), ('Ò', 'O'),('Ô', 'O'),('Ö', 'O'),\n",
    "                    ('Ú', 'U'),('Ù', 'U'),('Û', 'U'),('Ü', 'U'),\n",
    "                    ('Ç', 'C')]\n",
    "    r = col_name\n",
    "    for a, b in removed_array:\n",
    "        r = regexp_replace(r, a, b)\n",
    "    return r"
   ]
  },
  {
   "cell_type": "code",
   "execution_count": null,
   "metadata": {},
   "outputs": [],
   "source": [
    "# Replacing hifens by /\n",
    "def remove_some_hifen(col_name):\n",
    "    removed_chars = (\"-\")\n",
    "    regexp = \"|\".join('\\{0}'.format(i) for i in removed_chars)\n",
    "    return regexp_replace(col_name, regexp, \"/\")"
   ]
  },
  {
   "cell_type": "code",
   "execution_count": null,
   "metadata": {},
   "outputs": [],
   "source": [
    "# Replacing dots by /\n",
    "def remove_some_dots(col_name):\n",
    "    removed_chars = (\".\")\n",
    "    regexp = \"|\".join('\\{0}'.format(i) for i in removed_chars)\n",
    "    return regexp_replace(col_name, regexp, \"/\")"
   ]
  },
  {
   "cell_type": "code",
   "execution_count": null,
   "metadata": {},
   "outputs": [],
   "source": [
    "# Removing hifens\n",
    "def replace_some_hifen(col_name):\n",
    "    removed_chars = (\"-\")\n",
    "    regexp = \"|\".join('\\{0}'.format(i) for i in removed_chars)\n",
    "    return regexp_replace(col_name, regexp, \"\")"
   ]
  },
  {
   "cell_type": "code",
   "execution_count": null,
   "metadata": {},
   "outputs": [],
   "source": [
    "# Removing spaces\n",
    "def replace_some_space(col_name):\n",
    "    removed_chars = (\" \")\n",
    "    regexp = \"|\".join('\\{0}'.format(i) for i in removed_chars)\n",
    "    return regexp_replace(col_name, regexp, \"\")"
   ]
  },
  {
   "cell_type": "code",
   "execution_count": null,
   "metadata": {},
   "outputs": [],
   "source": [
    "# Removing apostrophes\n",
    "def replace_some_apostrophe(col_name):\n",
    "    removed_chars = (\"'\")\n",
    "    regexp = \"|\".join('\\{0}'.format(i) for i in removed_chars)\n",
    "    return regexp_replace(col_name, regexp, \"\")"
   ]
  },
  {
   "cell_type": "markdown",
   "metadata": {},
   "source": [
    "-------"
   ]
  },
  {
   "cell_type": "markdown",
   "metadata": {},
   "source": [
    "# Configuring Boto3"
   ]
  },
  {
   "cell_type": "code",
   "execution_count": null,
   "metadata": {},
   "outputs": [],
   "source": [
    "#Athena Client Configuration\n",
    "\n",
    "client = boto3.client('athena', \n",
    "    aws_access_key_id = aws_access_key_id, \n",
    "    aws_secret_access_key = aws_secret_access_key, \n",
    "    region_name = region_name )"
   ]
  },
  {
   "cell_type": "code",
   "execution_count": null,
   "metadata": {},
   "outputs": [],
   "source": [
    "#S3 Resource Configuration\n",
    "\n",
    "s3 = boto3.resource('s3',\n",
    "    aws_access_key_id = aws_access_key_id,\n",
    "    aws_secret_access_key = aws_secret_access_key,\n",
    "    region_name = region_name)"
   ]
  },
  {
   "cell_type": "markdown",
   "metadata": {},
   "source": [
    "# Importing Tables"
   ]
  },
  {
   "cell_type": "code",
   "execution_count": 6,
   "metadata": {},
   "outputs": [
    {
     "data": {
      "application/vnd.jupyter.widget-view+json": {
       "model_id": "7da6116c6fa9406e8633eb28dc0a8b00",
       "version_major": 2,
       "version_minor": 0
      },
      "text/plain": [
       "VBox()"
      ]
     },
     "metadata": {},
     "output_type": "display_data"
    },
    {
     "data": {
      "application/vnd.jupyter.widget-view+json": {
       "model_id": "",
       "version_major": 2,
       "version_minor": 0
      },
      "text/plain": [
       "FloatProgress(value=0.0, bar_style='info', description='Progress:', layout=Layout(height='25px', width='50%'),…"
      ]
     },
     "metadata": {},
     "output_type": "display_data"
    }
   ],
   "source": [
    "# SPG Regions\n",
    "df_region = spark.read.parquet(\"s3a://\"+SPG_INTEGRATION_INPUT_BUCKET+\"/\"+SPG_INTEGRATION_INPUT_BUCKET_REGION)"
   ]
  },
  {
   "cell_type": "code",
   "execution_count": 7,
   "metadata": {},
   "outputs": [
    {
     "data": {
      "application/vnd.jupyter.widget-view+json": {
       "model_id": "7b2082fe0d9f4774925bedbd6809d2a6",
       "version_major": 2,
       "version_minor": 0
      },
      "text/plain": [
       "VBox()"
      ]
     },
     "metadata": {},
     "output_type": "display_data"
    },
    {
     "data": {
      "application/vnd.jupyter.widget-view+json": {
       "model_id": "",
       "version_major": 2,
       "version_minor": 0
      },
      "text/plain": [
       "FloatProgress(value=0.0, bar_style='info', description='Progress:', layout=Layout(height='25px', width='50%'),…"
      ]
     },
     "metadata": {},
     "output_type": "display_data"
    },
    {
     "name": "stdout",
     "output_type": "stream",
     "text": [
      "DataFrame[IBGE_CITY_ID: bigint, IBGE_MICRO_ID: bigint, IBGE_UF_ID: bigint, IBGE_UF_NAME: string, IBGE_REGION_ID: bigint, IBGE_REGION_NAME: string, IBGE_REGION_ACRONYMS: string, IBGE_UF_ACRONYMS: string, IBGE_MESO_ID: bigint, IBGE_MESO_NAME: string, IBGE_MICRO_NAME: string, IBGE_CITY_NAME: string, SAP_COD: string, SAP_NAME: string, COUNTRY: string, CITY_ZF: int, RG_COD_IBGE: string, RG_REG_SAP: string, IBGE_SAP_CITY_ID: string, IBGE_SAP_CITY_NAME: string, BRANCH: string]"
     ]
    }
   ],
   "source": [
    "df_region.write.partitionBy(144);\n",
    "df_region = df_region.repartition(144);\n",
    "df_region.persist(pyspark.StorageLevel.MEMORY_ONLY)"
   ]
  },
  {
   "cell_type": "code",
   "execution_count": 8,
   "metadata": {},
   "outputs": [
    {
     "data": {
      "application/vnd.jupyter.widget-view+json": {
       "model_id": "a417df25a71a4a1ba4e7ef4e4c6a180a",
       "version_major": 2,
       "version_minor": 0
      },
      "text/plain": [
       "VBox()"
      ]
     },
     "metadata": {},
     "output_type": "display_data"
    },
    {
     "data": {
      "application/vnd.jupyter.widget-view+json": {
       "model_id": "",
       "version_major": 2,
       "version_minor": 0
      },
      "text/plain": [
       "FloatProgress(value=0.0, bar_style='info', description='Progress:', layout=Layout(height='25px', width='50%'),…"
      ]
     },
     "metadata": {},
     "output_type": "display_data"
    }
   ],
   "source": [
    "# SPG Products\n",
    "df_products = spark.read.parquet(\"s3a://\"+SPG_INTEGRATION_INPUT_BUCKET+\"/\"+SPG_INTEGRATION_INPUT_BUCKET_PRODUCTS)"
   ]
  },
  {
   "cell_type": "code",
   "execution_count": 9,
   "metadata": {},
   "outputs": [
    {
     "data": {
      "application/vnd.jupyter.widget-view+json": {
       "model_id": "cfe8d73775b84d6999b1372223314f25",
       "version_major": 2,
       "version_minor": 0
      },
      "text/plain": [
       "VBox()"
      ]
     },
     "metadata": {},
     "output_type": "display_data"
    },
    {
     "data": {
      "application/vnd.jupyter.widget-view+json": {
       "model_id": "",
       "version_major": 2,
       "version_minor": 0
      },
      "text/plain": [
       "FloatProgress(value=0.0, bar_style='info', description='Progress:', layout=Layout(height='25px', width='50%'),…"
      ]
     },
     "metadata": {},
     "output_type": "display_data"
    },
    {
     "name": "stdout",
     "output_type": "stream",
     "text": [
      "DataFrame[COD_MATERIAL: string, COD_ACTIVITY_SECTOR: string, MARKED_DELETION: string, DESC_MATERIAL: string, DESC_ACTIVITY_SECTOR: string, COD_GPD: string, SALES_ORG_COD: string, DESC_GPD: string, BAG: double, BAR: double, CS: double, DR: double, EA: double, FT: double, FT2: double, GLL: double, KAR: double, KG: double, KI: double, KWH: double, LB: double, LBF: double, M: double, M2: double, M3: double, MWH: double, PAA: double, PAK: double, QT: double, ROL: double, ST: double, TO: double, TON: double, YD2: double, YD3: double, ZBA: double, ZCJ: double, ZCT: double, ZFX: double, ZHT: double, ZSV: double, ZSW: double, ZUN: double, COD_HIERARCHY_1: string, DESC_HIERARCHY_1: string, COD_HIERARCHY_2: string, DESC_HIERARCHY_2: string, COD_HIERARCHY_3: string, DESC_HIERARCHY_3: string, COD_HIERARCHY_4: string, DESC_HIERARCHY_4: string, COD_HIERARCHY_5: string, DESC_HIERARCHY_5: string, COD_HIERARCHY_6: string, DESC_HIERARCHY_6: string, COD_HIERARCHY_7: string, DESC_HIERARCHY_7: string, COD_GPM: string, DESC_GPM: string, COD_GDD: string, DESC_GDD: string]"
     ]
    }
   ],
   "source": [
    "df_products.write.partitionBy(144);\n",
    "df_products = df_products.repartition(144);\n",
    "df_products.persist(pyspark.StorageLevel.MEMORY_ONLY)"
   ]
  },
  {
   "cell_type": "code",
   "execution_count": 16,
   "metadata": {},
   "outputs": [
    {
     "data": {
      "application/vnd.jupyter.widget-view+json": {
       "model_id": "7a20af5f0a1644b0b639a7ca6616f3c9",
       "version_major": 2,
       "version_minor": 0
      },
      "text/plain": [
       "VBox()"
      ]
     },
     "metadata": {},
     "output_type": "display_data"
    },
    {
     "data": {
      "application/vnd.jupyter.widget-view+json": {
       "model_id": "",
       "version_major": 2,
       "version_minor": 0
      },
      "text/plain": [
       "FloatProgress(value=0.0, bar_style='info', description='Progress:', layout=Layout(height='25px', width='50%'),…"
      ]
     },
     "metadata": {},
     "output_type": "display_data"
    }
   ],
   "source": [
    "# Alçada\n",
    "df_alcada = spark.read.parquet(\"s3a://\"+SPG_INTEGRATION_INPUT_BUCKET+\"/\"+SPG_INTEGRATION_INPUT_BUCKET_VERGE)"
   ]
  },
  {
   "cell_type": "code",
   "execution_count": 17,
   "metadata": {
    "scrolled": true
   },
   "outputs": [
    {
     "data": {
      "application/vnd.jupyter.widget-view+json": {
       "model_id": "943baf2c3cc64dc3b06a02011ac97abf",
       "version_major": 2,
       "version_minor": 0
      },
      "text/plain": [
       "VBox()"
      ]
     },
     "metadata": {},
     "output_type": "display_data"
    },
    {
     "data": {
      "application/vnd.jupyter.widget-view+json": {
       "model_id": "",
       "version_major": 2,
       "version_minor": 0
      },
      "text/plain": [
       "FloatProgress(value=0.0, bar_style='info', description='Progress:', layout=Layout(height='25px', width='50%'),…"
      ]
     },
     "metadata": {},
     "output_type": "display_data"
    },
    {
     "name": "stdout",
     "output_type": "stream",
     "text": [
      "DataFrame[addvaldays: string, agreementid: string, blockresource: string, cgfinalcdesc: string, custcitynameship: string, confirmeddate: string, confirmedweek: string, contract: string, convertedunit: string, corporategroup: string, custcountry: string, createdby: string, creditissue: string, currency: string, custrollnumber: string, custcondgroup1: string, custcondgroup2: string, custcondgroup3: string, custcondgroup4: string, custcondgroup5: string, customergrp5: string, customerhier: string, custmatnumb: string, customer: string, customerpodate: string, cycleletter: string, dealcodejboss: string, dealname: string, deliverycalendar: string, deliverycalendardesc: string, deliverygrp: string, corporategroupname: string, custnameship: string, descdeliverybh: string, descdeliverybi: string, materialname: string, distchannel: string, division: string, divisiondesc: string, endmarket: string, finalapplication: string, fixedvaldate: string, goodsissuedate: string, grade: string, incoterms: string, innerrace: string, insiderepname: string, internalgrade: string, item: string, length: string, manualdiscblocked: string, market: string, material: string, materialgroup1: string, materialavaildate: string, custname: string, oem: string, order: string, ordercreationdate: string, ordertype: string, outsiderepname: string, statusoverall: string, poitemnumber: string, ponumber: string, payer: string, payername: string, paymentcondition: string, planningmat: string, plant: string, plantname: string, pricedate: string, pricegroup: string, prodstandard: string, prodhierarchy: string, quoteid: string, custregion: string, custregionship: string, requesteddate: string, rings: string, rollnumber: string, route: string, saesteelclass: string, salesdirectorname: string, salesgroup: string, salesgroupdesc: string, salesins: string, salesmanagername: string, salesoffice: string, salesorg: string, salesunit: string, custrship: string, shippingconditionname: string, shipppoint: string, shipppointdesc: string, steel: string, system: string, thick: string, tier1: string, width: string, pricedateover: string, allocationextra: string, balanceqtt: string, cgfinalc: string, comissionamt: string, comissionperc: string, kbetr__kschl31: string, kbetr__kschl32: string, kbetr__kschl33: string, kbetr__kschl34: string, kbetr__kschl35: string, kbetr__kschl60: string, confirmedqtt: string, crsurcharge: string, creditlimitutilization: string, customercreditlimit: string, destmktdisc: string, disamount: string, dispercent: string, extraamt: string, extraperc: string, finalappdisc: string, pricetax: string, finalprice: string, finshextraamount: string, finshextrapercent: string, foreigncosts: string, freightmnt: string, freightperc: string, freightcharge: string, fuelsurcharge: string, gradeextra: string, heattreatextra: string, inlandfreight: string, insurancemnt: string, insuranceperc: string, intlogextra: string, maritimefreight: string, lenghtextra: string, adicmanual: string, manualprice: string, mnsurcharge: string, mosurcharge: string, netbaseprice: string, netweight: string, nisurcharge: string, oemdisc: string, portexpenses: string, prdtypeextra: string, pricegrpdisc: string, pricegrpextra: string, pricebasedcust: string, pricepractcust: string, priceproduct: string, pricewtaxes: string, qttinport: string, qttinstock: string, quantitywdelivery: string, qttwshipment: string, reqqttconv: string, requestedqtt: string, scrapsurch: string, segmktdisc: string, deliveredquantity: string, stdcost: string, surchargeamt: string, surchargeperc: string, systemdisc: string, taxes: string, tier1disc: string, totalinvoicevalue: string, vsurcharge: string, warehousecharge: string, zd01: string, zd02: string, zd03: string, zd04: string, zd05: string, zd06: string, zd07: string, zd08: string, zd09: string, zd10: string, zd11: string, zd12: string, zd13: string, zd14: string, zd17: string, zd18: string, kbetr__kschl54: string, kbetr__kschl56: string, kbetr__kschl58: string, kbetr__kschl39: string, kbetr__kschl57: string, kbetr__kschl59: string, kbetr__kschl55: string, kbetr__kschl61: string, kbetr__kschl1: string, kbetr__kschl2: string, kbetr__kschl3: string, kbetr__kschl4: string, kbetr__kschl6: string, kbetr__kschl8: string, kbetr__kschl10: string, kbetr__kschl11: string, kbetr__kschl12: string, kbetr__kschl13: string, kbetr__kschl14: string, kbetr__kschl15: string, kbetr__kschl16: string, kbetr__kschl17: string, kbetr__kschl18: string, kbetr__kschl19: string, kbetr__kschl20: string, kbetr__kschl21: string, kbetr__kschl22: string, kbetr__kschl23: string, kbetr__kschl24: string, kbetr__kschl25: string, kbetr__kschl26: string, kbetr__kschl27: string, kbetr__kschl28: string, kbetr__kschl29: string, kbetr__kschl30: string, kbetr__kschl36: string, kbetr__kschl37: string, kbetr__kschl49: string, kbetr__kschl50: string, kbetr__kschl52: string, kbetr__kschl38: string, kbetr__kschl40: string, kbetr__kschl41: string, kbetr__kschl42: string, kbetr__kschl43: string, kbetr__kschl44: string, kbetr__kschl45: string, kbetr__kschl46: string, kbetr__kschl47: string, kbetr__kschl48: string, brfinanceextra: string, zft4: string, zft7: string, zft8: string, kbetr__kschl5: string, kbetr__kschl7: string, kbetr__kschl9: string, kbetr__kschl51: string, kbetr__kschl53: string, zp01baseprice: string, manualextra: string, orderreason: string, dt_load: string, data_load_timestamp_parquet: string, data_load_timestamp_raw: string, max_date: string]"
     ]
    }
   ],
   "source": [
    "df_alcada.write.partitionBy(144);\n",
    "df_alcada = df_alcada.repartition(144);\n",
    "df_alcada.persist(pyspark.StorageLevel.MEMORY_ONLY)"
   ]
  },
  {
   "cell_type": "code",
   "execution_count": 20,
   "metadata": {},
   "outputs": [
    {
     "data": {
      "application/vnd.jupyter.widget-view+json": {
       "model_id": "4d552501bad74ba7981c5dcfcc8fd765",
       "version_major": 2,
       "version_minor": 0
      },
      "text/plain": [
       "VBox()"
      ]
     },
     "metadata": {},
     "output_type": "display_data"
    },
    {
     "data": {
      "application/vnd.jupyter.widget-view+json": {
       "model_id": "",
       "version_major": 2,
       "version_minor": 0
      },
      "text/plain": [
       "FloatProgress(value=0.0, bar_style='info', description='Progress:', layout=Layout(height='25px', width='50%'),…"
      ]
     },
     "metadata": {},
     "output_type": "display_data"
    }
   ],
   "source": [
    "# SPG SUPPORT SALES OFFICE\n",
    "df_hana_office = spark.read.format(\"csv\").option(\"header\",\"true\").option(\"sep\",\";\").option(\"encoding\", \"ISO-8859-1\").load(\"s3a://\"+SPG_MANUAL_INPUT_BUCKET+\"/\"+SPG_MANUAL_INPUT_BUCKET_SALES_OFFICE)"
   ]
  },
  {
   "cell_type": "code",
   "execution_count": 21,
   "metadata": {
    "scrolled": true
   },
   "outputs": [
    {
     "data": {
      "application/vnd.jupyter.widget-view+json": {
       "model_id": "e314b1c2c5f045e8851ddd3fd3ccbb3c",
       "version_major": 2,
       "version_minor": 0
      },
      "text/plain": [
       "VBox()"
      ]
     },
     "metadata": {},
     "output_type": "display_data"
    },
    {
     "data": {
      "application/vnd.jupyter.widget-view+json": {
       "model_id": "",
       "version_major": 2,
       "version_minor": 0
      },
      "text/plain": [
       "FloatProgress(value=0.0, bar_style='info', description='Progress:', layout=Layout(height='25px', width='50%'),…"
      ]
     },
     "metadata": {},
     "output_type": "display_data"
    },
    {
     "name": "stdout",
     "output_type": "stream",
     "text": [
      "DataFrame[SALES_ORDER_NUMBER_drop: string, SALES_ORDER_ITEM_drop: string, RLV: string, RBV: string, TOTAL_TAXES: string, KWMENG: string, UMVKZ: string, UMVKN: string]"
     ]
    }
   ],
   "source": [
    "df_hana_office.write.partitionBy(144);\n",
    "df_hana_office = df_hana_office.repartition(144);\n",
    "df_hana_office.persist(pyspark.StorageLevel.MEMORY_ONLY)"
   ]
  },
  {
   "cell_type": "code",
   "execution_count": 22,
   "metadata": {},
   "outputs": [
    {
     "data": {
      "application/vnd.jupyter.widget-view+json": {
       "model_id": "05e9452bb7c04b1ebaf3793a1055f5d7",
       "version_major": 2,
       "version_minor": 0
      },
      "text/plain": [
       "VBox()"
      ]
     },
     "metadata": {},
     "output_type": "display_data"
    },
    {
     "data": {
      "application/vnd.jupyter.widget-view+json": {
       "model_id": "",
       "version_major": 2,
       "version_minor": 0
      },
      "text/plain": [
       "FloatProgress(value=0.0, bar_style='info', description='Progress:', layout=Layout(height='25px', width='50%'),…"
      ]
     },
     "metadata": {},
     "output_type": "display_data"
    }
   ],
   "source": [
    "# SPG SUPPORT SALES ORDER\n",
    "df_hana_sales_doc = spark.read.format(\"csv\").option(\"header\",\"true\").option(\"sep\",\";\").option(\"encoding\", \"ISO-8859-1\").load(\"s3a://\"+SPG_MANUAL_INPUT_BUCKET+\"/\"+SPG_MANUAL_INPUT_BUCKET_SALES_TYPE)"
   ]
  },
  {
   "cell_type": "code",
   "execution_count": 23,
   "metadata": {},
   "outputs": [
    {
     "data": {
      "application/vnd.jupyter.widget-view+json": {
       "model_id": "11bf3c108efa4d3db589b4418ce1461c",
       "version_major": 2,
       "version_minor": 0
      },
      "text/plain": [
       "VBox()"
      ]
     },
     "metadata": {},
     "output_type": "display_data"
    },
    {
     "data": {
      "application/vnd.jupyter.widget-view+json": {
       "model_id": "",
       "version_major": 2,
       "version_minor": 0
      },
      "text/plain": [
       "FloatProgress(value=0.0, bar_style='info', description='Progress:', layout=Layout(height='25px', width='50%'),…"
      ]
     },
     "metadata": {},
     "output_type": "display_data"
    },
    {
     "name": "stdout",
     "output_type": "stream",
     "text": [
      "DataFrame[sales_org_cod: string, material_cod: string, material_desc: string, gpd_cod: string, gpd_desc: string, gpm: string, ibge_uf_acronyms: string, branch: string, ALCADA: string]"
     ]
    }
   ],
   "source": [
    "df_hana_sales_doc.write.partitionBy(144);\n",
    "df_hana_sales_doc = df_hana_sales_doc.repartition(144);\n",
    "df_hana_sales_doc.persist(pyspark.StorageLevel.MEMORY_ONLY)"
   ]
  },
  {
   "cell_type": "code",
   "execution_count": 24,
   "metadata": {},
   "outputs": [
    {
     "data": {
      "application/vnd.jupyter.widget-view+json": {
       "model_id": "1ea75939325f45b4961810af5d774e33",
       "version_major": 2,
       "version_minor": 0
      },
      "text/plain": [
       "VBox()"
      ]
     },
     "metadata": {},
     "output_type": "display_data"
    },
    {
     "data": {
      "application/vnd.jupyter.widget-view+json": {
       "model_id": "",
       "version_major": 2,
       "version_minor": 0
      },
      "text/plain": [
       "FloatProgress(value=0.0, bar_style='info', description='Progress:', layout=Layout(height='25px', width='50%'),…"
      ]
     },
     "metadata": {},
     "output_type": "display_data"
    }
   ],
   "source": [
    "# Conditions\n",
    "df_conditions = spark.read.parquet(\"s3a://\"+GERDAU_BUCKET+\"/\"+GERDAU_BUCKET_OPEN_ORDER_INPUT_PATH)"
   ]
  },
  {
   "cell_type": "code",
   "execution_count": 25,
   "metadata": {},
   "outputs": [
    {
     "data": {
      "application/vnd.jupyter.widget-view+json": {
       "model_id": "a7a1d43f252149a996b4dbdf4acce3ce",
       "version_major": 2,
       "version_minor": 0
      },
      "text/plain": [
       "VBox()"
      ]
     },
     "metadata": {},
     "output_type": "display_data"
    },
    {
     "data": {
      "application/vnd.jupyter.widget-view+json": {
       "model_id": "",
       "version_major": 2,
       "version_minor": 0
      },
      "text/plain": [
       "FloatProgress(value=0.0, bar_style='info', description='Progress:', layout=Layout(height='25px', width='50%'),…"
      ]
     },
     "metadata": {},
     "output_type": "display_data"
    },
    {
     "name": "stdout",
     "output_type": "stream",
     "text": [
      "DataFrame[VBAK_ERDAT: string, VBAK_VKORG: string, VBEP_WADAT_A: string, VBEP_WADAT_C: string, KF_QTT_WSHIP: double, VBAK_KUNNR: string, VBAP_POSNR: string, VBAK_VBELN: string, VBEP_BMENG: double, KF_KWMENG: double, ICMI: double, BX41: double, ZEB1: double, Z_MANUALEXTRA: double, BX23: double, VBEP_WMENG: double, ZD38: double, DATA_LOAD_TIMESTAMP_PARQUET: string, DATA_LOAD_TIMESTAMP_RAW: string]"
     ]
    }
   ],
   "source": [
    "df_conditions.write.partitionBy(144);\n",
    "df_conditions = df_conditions.repartition(144);\n",
    "df_conditions.persist(pyspark.StorageLevel.MEMORY_ONLY)"
   ]
  },
  {
   "cell_type": "code",
   "execution_count": 26,
   "metadata": {},
   "outputs": [
    {
     "data": {
      "application/vnd.jupyter.widget-view+json": {
       "model_id": "6722291da138486f9cc390cc40fcc562",
       "version_major": 2,
       "version_minor": 0
      },
      "text/plain": [
       "VBox()"
      ]
     },
     "metadata": {},
     "output_type": "display_data"
    },
    {
     "data": {
      "application/vnd.jupyter.widget-view+json": {
       "model_id": "",
       "version_major": 2,
       "version_minor": 0
      },
      "text/plain": [
       "FloatProgress(value=0.0, bar_style='info', description='Progress:', layout=Layout(height='25px', width='50%'),…"
      ]
     },
     "metadata": {},
     "output_type": "display_data"
    }
   ],
   "source": [
    "# Import CSV from View\n",
    "\n",
    "athena_response = get_aws_path(QUERY_WALLET,ATHENA_SPG,S3_ATHENA_OUTPUT)\n",
    "\n",
    "wait_athena_load(SPG_QUERY_BUCKET, SPG_QUERY_BUCKET_ATHENA+\"/\"+athena_response+\".csv\")"
   ]
  },
  {
   "cell_type": "code",
   "execution_count": 27,
   "metadata": {},
   "outputs": [
    {
     "data": {
      "application/vnd.jupyter.widget-view+json": {
       "model_id": "52c43091ff7b45ea88e6b1843df5fa3f",
       "version_major": 2,
       "version_minor": 0
      },
      "text/plain": [
       "VBox()"
      ]
     },
     "metadata": {},
     "output_type": "display_data"
    },
    {
     "data": {
      "application/vnd.jupyter.widget-view+json": {
       "model_id": "",
       "version_major": 2,
       "version_minor": 0
      },
      "text/plain": [
       "FloatProgress(value=0.0, bar_style='info', description='Progress:', layout=Layout(height='25px', width='50%'),…"
      ]
     },
     "metadata": {},
     "output_type": "display_data"
    },
    {
     "name": "stdout",
     "output_type": "stream",
     "text": [
      "DataFrame[Código de idioma: string, Escritório de vendas: string, Denominação: string]"
     ]
    }
   ],
   "source": [
    "df_wallet = spark.read.csv(\"s3a://\"+SPG_QUERY_BUCKET+\"/\"+SPG_QUERY_BUCKET_ATHENA+\"/\"+athena_response+\".csv\", header = 'true')"
   ]
  },
  {
   "cell_type": "code",
   "execution_count": 28,
   "metadata": {},
   "outputs": [
    {
     "data": {
      "application/vnd.jupyter.widget-view+json": {
       "model_id": "c26d9a57a09644ccaef2cdb54049d08e",
       "version_major": 2,
       "version_minor": 0
      },
      "text/plain": [
       "VBox()"
      ]
     },
     "metadata": {},
     "output_type": "display_data"
    },
    {
     "data": {
      "application/vnd.jupyter.widget-view+json": {
       "model_id": "",
       "version_major": 2,
       "version_minor": 0
      },
      "text/plain": [
       "FloatProgress(value=0.0, bar_style='info', description='Progress:', layout=Layout(height='25px', width='50%'),…"
      ]
     },
     "metadata": {},
     "output_type": "display_data"
    }
   ],
   "source": [
    "df_wallet.write.partitionBy(144);\n",
    "df_wallet = df_wallet.repartition(144);\n",
    "df_wallet.persist(pyspark.StorageLevel.MEMORY_ONLY)"
   ]
  },
  {
   "cell_type": "code",
   "execution_count": 29,
   "metadata": {},
   "outputs": [
    {
     "data": {
      "application/vnd.jupyter.widget-view+json": {
       "model_id": "5950c4b7e5c8467283694ae94ed8be31",
       "version_major": 2,
       "version_minor": 0
      },
      "text/plain": [
       "VBox()"
      ]
     },
     "metadata": {},
     "output_type": "display_data"
    },
    {
     "data": {
      "application/vnd.jupyter.widget-view+json": {
       "model_id": "",
       "version_major": 2,
       "version_minor": 0
      },
      "text/plain": [
       "FloatProgress(value=0.0, bar_style='info', description='Progress:', layout=Layout(height='25px', width='50%'),…"
      ]
     },
     "metadata": {},
     "output_type": "display_data"
    },
    {
     "name": "stdout",
     "output_type": "stream",
     "text": [
      "DataFrame[Ordem Venda (Tipo) COD: string, Ordem Venda (Tipo) DESC: string]"
     ]
    }
   ],
   "source": [
    "# Import CSV from View\n",
    "\n",
    "athena_response = get_aws_path(QUERY_VBAP,ATHENA_SPG,S3_ATHENA_OUTPUT)\n",
    "\n",
    "wait_athena_load(SPG_QUERY_BUCKET, SPG_QUERY_BUCKET_ATHENA+\"/\"+athena_response+\".csv\")"
   ]
  },
  {
   "cell_type": "code",
   "execution_count": null,
   "metadata": {},
   "outputs": [],
   "source": [
    "# Import CSV from View\n",
    "\n",
    "df_vbap = spark.read.csv(\"s3a://\"+SPG_QUERY_BUCKET+\"/\"+SPG_QUERY_BUCKET_ATHENA+\"/\"+athena_response+\".csv\", header = 'true')"
   ]
  },
  {
   "cell_type": "code",
   "execution_count": null,
   "metadata": {},
   "outputs": [],
   "source": [
    "df_vbap.write.partitionBy(144);\n",
    "df_vbap = df_vbap.repartition(144);\n",
    "df_vbap.persist(pyspark.StorageLevel.MEMORY_ONLY)"
   ]
  },
  {
   "cell_type": "markdown",
   "metadata": {},
   "source": [
    "------------------"
   ]
  },
  {
   "cell_type": "markdown",
   "metadata": {},
   "source": [
    "# Preparing Conditions Table"
   ]
  },
  {
   "cell_type": "code",
   "execution_count": 36,
   "metadata": {},
   "outputs": [
    {
     "data": {
      "application/vnd.jupyter.widget-view+json": {
       "model_id": "b1d3c2f3df8542309e3b5949e117db53",
       "version_major": 2,
       "version_minor": 0
      },
      "text/plain": [
       "VBox()"
      ]
     },
     "metadata": {},
     "output_type": "display_data"
    },
    {
     "data": {
      "application/vnd.jupyter.widget-view+json": {
       "model_id": "",
       "version_major": 2,
       "version_minor": 0
      },
      "text/plain": [
       "FloatProgress(value=0.0, bar_style='info', description='Progress:', layout=Layout(height='25px', width='50%'),…"
      ]
     },
     "metadata": {},
     "output_type": "display_data"
    }
   ],
   "source": [
    "df_conditions=df_conditions.select(df_conditions.VBAK_VBELN.alias(\"SALES_ORDER_NUMBER_drop\")\n",
    "                                    ,df_conditions.VBAP_POSNR.alias(\"SALES_ORDER_ITEM_drop\")\n",
    "                                    ,df_conditions.BX23.alias(\"IPI\").cast(\"float\")\n",
    "                                    ,df_conditions.ICMI.alias(\"ICMI\").cast(\"float\")\n",
    "                                    ,df_conditions.ZD38.alias(\"ZD38\").cast(\"float\")\n",
    "                                    ,df_conditions.ZEB1.alias(\"ZEB1\").cast(\"float\")\n",
    "                                    ,df_conditions.BX41.alias(\"BX41\").cast(\"float\"))\\\n",
    "             .dropDuplicates()"
   ]
  },
  {
   "cell_type": "markdown",
   "metadata": {},
   "source": [
    "------------"
   ]
  },
  {
   "cell_type": "markdown",
   "metadata": {},
   "source": [
    "# Preparing Vbap Table"
   ]
  },
  {
   "cell_type": "code",
   "execution_count": 37,
   "metadata": {},
   "outputs": [
    {
     "data": {
      "application/vnd.jupyter.widget-view+json": {
       "model_id": "905f9932320b4658ae1e6e9247330e79",
       "version_major": 2,
       "version_minor": 0
      },
      "text/plain": [
       "VBox()"
      ]
     },
     "metadata": {},
     "output_type": "display_data"
    },
    {
     "data": {
      "application/vnd.jupyter.widget-view+json": {
       "model_id": "",
       "version_major": 2,
       "version_minor": 0
      },
      "text/plain": [
       "FloatProgress(value=0.0, bar_style='info', description='Progress:', layout=Layout(height='25px', width='50%'),…"
      ]
     },
     "metadata": {},
     "output_type": "display_data"
    }
   ],
   "source": [
    "df_vbap=df_vbap.withColumn(\"REQUESTED_QUANTITY\", ((col(\"KWMENG\")*col(\"UMVKZ\"))/col(\"UMVKN\")).cast(\"float\"))"
   ]
  },
  {
   "cell_type": "code",
   "execution_count": 38,
   "metadata": {},
   "outputs": [
    {
     "data": {
      "application/vnd.jupyter.widget-view+json": {
       "model_id": "babcbff92ef94ca3a3f5bee1b6c14758",
       "version_major": 2,
       "version_minor": 0
      },
      "text/plain": [
       "VBox()"
      ]
     },
     "metadata": {},
     "output_type": "display_data"
    },
    {
     "data": {
      "application/vnd.jupyter.widget-view+json": {
       "model_id": "",
       "version_major": 2,
       "version_minor": 0
      },
      "text/plain": [
       "FloatProgress(value=0.0, bar_style='info', description='Progress:', layout=Layout(height='25px', width='50%'),…"
      ]
     },
     "metadata": {},
     "output_type": "display_data"
    }
   ],
   "source": [
    "df_vbap=df_vbap.drop(\"KWMENG\", \"UMVKZ\", \"UMVKN\")\\\n",
    "              .dropDuplicates()"
   ]
  },
  {
   "cell_type": "markdown",
   "metadata": {},
   "source": [
    "--------------"
   ]
  },
  {
   "cell_type": "markdown",
   "metadata": {},
   "source": [
    "## Preparing Alcada Table"
   ]
  },
  {
   "cell_type": "code",
   "execution_count": 39,
   "metadata": {},
   "outputs": [
    {
     "data": {
      "application/vnd.jupyter.widget-view+json": {
       "model_id": "306c4aebc7e7447a9358b0592305ea99",
       "version_major": 2,
       "version_minor": 0
      },
      "text/plain": [
       "VBox()"
      ]
     },
     "metadata": {},
     "output_type": "display_data"
    },
    {
     "data": {
      "application/vnd.jupyter.widget-view+json": {
       "model_id": "",
       "version_major": 2,
       "version_minor": 0
      },
      "text/plain": [
       "FloatProgress(value=0.0, bar_style='info', description='Progress:', layout=Layout(height='25px', width='50%'),…"
      ]
     },
     "metadata": {},
     "output_type": "display_data"
    }
   ],
   "source": [
    "df_alcada=df_alcada.select(df_alcada.sales_org_cod.alias(\"SALES_ORG_COD\")\n",
    "                          ,df_alcada.material_cod.alias(\"MATERIAL_COD\")\n",
    "                          ,df_alcada.ibge_uf_acronyms.alias(\"ISSUING_STATE\")\n",
    "                          ,df_alcada.ALCADA.cast(\"float\"))\\\n",
    "                    .dropDuplicates()"
   ]
  },
  {
   "cell_type": "markdown",
   "metadata": {},
   "source": [
    "------"
   ]
  },
  {
   "cell_type": "markdown",
   "metadata": {},
   "source": [
    "# Preparing Regions Table"
   ]
  },
  {
   "cell_type": "code",
   "execution_count": 40,
   "metadata": {},
   "outputs": [
    {
     "data": {
      "application/vnd.jupyter.widget-view+json": {
       "model_id": "e204859aad2149548465c20fe582331e",
       "version_major": 2,
       "version_minor": 0
      },
      "text/plain": [
       "VBox()"
      ]
     },
     "metadata": {},
     "output_type": "display_data"
    },
    {
     "data": {
      "application/vnd.jupyter.widget-view+json": {
       "model_id": "",
       "version_major": 2,
       "version_minor": 0
      },
      "text/plain": [
       "FloatProgress(value=0.0, bar_style='info', description='Progress:', layout=Layout(height='25px', width='50%'),…"
      ]
     },
     "metadata": {},
     "output_type": "display_data"
    }
   ],
   "source": [
    "# Normalizing the column IBGE_SAP_CITY_NAME\n",
    "df_region=df_region.withColumn(\"UPPER_NAME\", remove_some_accents(upper(replace_some_apostrophe(replace_some_space(replace_some_hifen(df_region[\"IBGE_SAP_CITY_NAME\"]))))))"
   ]
  },
  {
   "cell_type": "code",
   "execution_count": 41,
   "metadata": {},
   "outputs": [
    {
     "data": {
      "application/vnd.jupyter.widget-view+json": {
       "model_id": "4951b06c0e1f4c9caad3d4e5428543ae",
       "version_major": 2,
       "version_minor": 0
      },
      "text/plain": [
       "VBox()"
      ]
     },
     "metadata": {},
     "output_type": "display_data"
    },
    {
     "data": {
      "application/vnd.jupyter.widget-view+json": {
       "model_id": "",
       "version_major": 2,
       "version_minor": 0
      },
      "text/plain": [
       "FloatProgress(value=0.0, bar_style='info', description='Progress:', layout=Layout(height='25px', width='50%'),…"
      ]
     },
     "metadata": {},
     "output_type": "display_data"
    }
   ],
   "source": [
    "# Selecting Necessary Columns\n",
    "df_region=df_region.select(df_region.UPPER_NAME\n",
    "                          ,df_region.BRANCH\n",
    "                          ,df_region.IBGE_UF_ACRONYMS)"
   ]
  },
  {
   "cell_type": "markdown",
   "metadata": {},
   "source": [
    "------------------"
   ]
  },
  {
   "cell_type": "markdown",
   "metadata": {},
   "source": [
    "# Preparing Products Table"
   ]
  },
  {
   "cell_type": "code",
   "execution_count": 42,
   "metadata": {},
   "outputs": [
    {
     "data": {
      "application/vnd.jupyter.widget-view+json": {
       "model_id": "9b7426212e124b41bdfcd43e9047fdb0",
       "version_major": 2,
       "version_minor": 0
      },
      "text/plain": [
       "VBox()"
      ]
     },
     "metadata": {},
     "output_type": "display_data"
    },
    {
     "data": {
      "application/vnd.jupyter.widget-view+json": {
       "model_id": "",
       "version_major": 2,
       "version_minor": 0
      },
      "text/plain": [
       "FloatProgress(value=0.0, bar_style='info', description='Progress:', layout=Layout(height='25px', width='50%'),…"
      ]
     },
     "metadata": {},
     "output_type": "display_data"
    }
   ],
   "source": [
    "# Selecting Necessary Columns\n",
    "df_products=df_products.select(df_products.DESC_GPD\n",
    "                               ,df_products.COD_GPD\n",
    "                               ,df_products.DESC_GPM.alias(\"GPM_DESC\")\n",
    "                               ,df_products.DESC_GPM.alias(\"GPM_COD\")\n",
    "                               ,df_products.COD_MATERIAL.alias(\"COD_MATERIAL_drop\")\n",
    "                               ,df_products.DESC_MATERIAL.alias(\"MATERIAL_DESC\")\n",
    "                               ,df_products.SALES_ORG_COD.alias(\"SALES_ORG_COD_drop\"))"
   ]
  },
  {
   "cell_type": "markdown",
   "metadata": {},
   "source": [
    "------------------"
   ]
  },
  {
   "cell_type": "markdown",
   "metadata": {},
   "source": [
    "# Preparing Support Table"
   ]
  },
  {
   "cell_type": "code",
   "execution_count": 43,
   "metadata": {},
   "outputs": [
    {
     "data": {
      "application/vnd.jupyter.widget-view+json": {
       "model_id": "174b2cfe78564de8b6bd6843e7be97e0",
       "version_major": 2,
       "version_minor": 0
      },
      "text/plain": [
       "VBox()"
      ]
     },
     "metadata": {},
     "output_type": "display_data"
    },
    {
     "data": {
      "application/vnd.jupyter.widget-view+json": {
       "model_id": "",
       "version_major": 2,
       "version_minor": 0
      },
      "text/plain": [
       "FloatProgress(value=0.0, bar_style='info', description='Progress:', layout=Layout(height='25px', width='50%'),…"
      ]
     },
     "metadata": {},
     "output_type": "display_data"
    }
   ],
   "source": [
    "df_hana_office=df_hana_office.select(df_hana_office[\"Escritório de vendas\"].alias(\"SALES_OFFICE_COD_drop\")\n",
    "                                    ,df_hana_office[\"Denominação\"].alias(\"SALES_OFFICE_DESC\"))\\\n",
    "                              .distinct()"
   ]
  },
  {
   "cell_type": "code",
   "execution_count": 44,
   "metadata": {},
   "outputs": [
    {
     "data": {
      "application/vnd.jupyter.widget-view+json": {
       "model_id": "3fadeb03fc5e40f0b78a3ebf94a3df9c",
       "version_major": 2,
       "version_minor": 0
      },
      "text/plain": [
       "VBox()"
      ]
     },
     "metadata": {},
     "output_type": "display_data"
    },
    {
     "data": {
      "application/vnd.jupyter.widget-view+json": {
       "model_id": "",
       "version_major": 2,
       "version_minor": 0
      },
      "text/plain": [
       "FloatProgress(value=0.0, bar_style='info', description='Progress:', layout=Layout(height='25px', width='50%'),…"
      ]
     },
     "metadata": {},
     "output_type": "display_data"
    }
   ],
   "source": [
    "df_hana_sales_doc=df_hana_sales_doc.select(df_hana_sales_doc[\"Ordem Venda (Tipo) COD\"].alias(\"ORDER_TYPE_COD_drop\")\n",
    "                                           ,df_hana_sales_doc[\"Ordem Venda (Tipo) DESC\"].alias(\"ORDER_TYPE_DESC\"))\\\n",
    "                                  .distinct()"
   ]
  },
  {
   "cell_type": "markdown",
   "metadata": {},
   "source": [
    "# Preparing Wallet Table"
   ]
  },
  {
   "cell_type": "code",
   "execution_count": 45,
   "metadata": {},
   "outputs": [
    {
     "data": {
      "application/vnd.jupyter.widget-view+json": {
       "model_id": "1bd258b75aec4c4797cfc67dc0ea9ef1",
       "version_major": 2,
       "version_minor": 0
      },
      "text/plain": [
       "VBox()"
      ]
     },
     "metadata": {},
     "output_type": "display_data"
    },
    {
     "data": {
      "application/vnd.jupyter.widget-view+json": {
       "model_id": "",
       "version_major": 2,
       "version_minor": 0
      },
      "text/plain": [
       "FloatProgress(value=0.0, bar_style='info', description='Progress:', layout=Layout(height='25px', width='50%'),…"
      ]
     },
     "metadata": {},
     "output_type": "display_data"
    }
   ],
   "source": [
    "# Filtering GAB Sales Organizations\n",
    "df_wallet=df_wallet.filter(df_wallet.salesorg.like('%BRIN%') |\n",
    "                           df_wallet.salesorg.like('%BRIO%') |\n",
    "                           df_wallet.salesorg.like('%BRDI%') |\n",
    "                           df_wallet.salesorg.like('%BRDO%') |\n",
    "                           df_wallet.salesorg.like('%BRCC%') |\n",
    "                           df_wallet.salesorg.like('%BRCO%') |\n",
    "                           df_wallet.salesorg.like('%BRCG%') |\n",
    "                           df_wallet.salesorg.like('%BRGO%'))\\"
   ]
  },
  {
   "cell_type": "code",
   "execution_count": 46,
   "metadata": {},
   "outputs": [
    {
     "data": {
      "application/vnd.jupyter.widget-view+json": {
       "model_id": "13478d8a5a774abea4c9b8826fe75794",
       "version_major": 2,
       "version_minor": 0
      },
      "text/plain": [
       "VBox()"
      ]
     },
     "metadata": {},
     "output_type": "display_data"
    },
    {
     "data": {
      "application/vnd.jupyter.widget-view+json": {
       "model_id": "",
       "version_major": 2,
       "version_minor": 0
      },
      "text/plain": [
       "FloatProgress(value=0.0, bar_style='info', description='Progress:', layout=Layout(height='25px', width='50%'),…"
      ]
     },
     "metadata": {},
     "output_type": "display_data"
    }
   ],
   "source": [
    "# Normalizing Date columns\n",
    "for col_name in [\"dt_load\", \"ordercreationdate\", \"confirmeddate\"]:\n",
    "    df_wallet = df_wallet.withColumn(col_name, from_unixtime(unix_timestamp(remove_some_dots(col_name), 'yyyy/MM/dd')))"
   ]
  },
  {
   "cell_type": "code",
   "execution_count": 47,
   "metadata": {},
   "outputs": [
    {
     "data": {
      "application/vnd.jupyter.widget-view+json": {
       "model_id": "51dc81a17c6846acb00b71579cb6d261",
       "version_major": 2,
       "version_minor": 0
      },
      "text/plain": [
       "VBox()"
      ]
     },
     "metadata": {},
     "output_type": "display_data"
    },
    {
     "data": {
      "application/vnd.jupyter.widget-view+json": {
       "model_id": "",
       "version_major": 2,
       "version_minor": 0
      },
      "text/plain": [
       "FloatProgress(value=0.0, bar_style='info', description='Progress:', layout=Layout(height='25px', width='50%'),…"
      ]
     },
     "metadata": {},
     "output_type": "display_data"
    }
   ],
   "source": [
    "df_wallet.write.partitionBy(144);\n",
    "df_wallet = df_wallet.repartition(144);"
   ]
  },
  {
   "cell_type": "code",
   "execution_count": 48,
   "metadata": {},
   "outputs": [
    {
     "data": {
      "application/vnd.jupyter.widget-view+json": {
       "model_id": "ed85d683ad384c0e9f8663b1dd8fdbaf",
       "version_major": 2,
       "version_minor": 0
      },
      "text/plain": [
       "VBox()"
      ]
     },
     "metadata": {},
     "output_type": "display_data"
    },
    {
     "data": {
      "application/vnd.jupyter.widget-view+json": {
       "model_id": "",
       "version_major": 2,
       "version_minor": 0
      },
      "text/plain": [
       "FloatProgress(value=0.0, bar_style='info', description='Progress:', layout=Layout(height='25px', width='50%'),…"
      ]
     },
     "metadata": {},
     "output_type": "display_data"
    },
    {
     "name": "stdout",
     "output_type": "stream",
     "text": [
      "DataFrame[addvaldays: string, agreementid: string, blockresource: string, cgfinalcdesc: string, custcitynameship: string, confirmeddate: string, confirmedweek: string, contract: string, convertedunit: string, corporategroup: string, custcountry: string, createdby: string, creditissue: string, currency: string, custrollnumber: string, custcondgroup1: string, custcondgroup2: string, custcondgroup3: string, custcondgroup4: string, custcondgroup5: string, customergrp5: string, customerhier: string, custmatnumb: string, customer: string, customerpodate: string, cycleletter: string, dealcodejboss: string, dealname: string, deliverycalendar: string, deliverycalendardesc: string, deliverygrp: string, corporategroupname: string, custnameship: string, descdeliverybh: string, descdeliverybi: string, materialname: string, distchannel: string, division: string, divisiondesc: string, endmarket: string, finalapplication: string, fixedvaldate: string, goodsissuedate: string, grade: string, incoterms: string, innerrace: string, insiderepname: string, internalgrade: string, item: string, length: string, manualdiscblocked: string, market: string, material: string, materialgroup1: string, materialavaildate: string, custname: string, oem: string, order: string, ordercreationdate: string, ordertype: string, outsiderepname: string, statusoverall: string, poitemnumber: string, ponumber: string, payer: string, payername: string, paymentcondition: string, planningmat: string, plant: string, plantname: string, pricedate: string, pricegroup: string, prodstandard: string, prodhierarchy: string, quoteid: string, custregion: string, custregionship: string, requesteddate: string, rings: string, rollnumber: string, route: string, saesteelclass: string, salesdirectorname: string, salesgroup: string, salesgroupdesc: string, salesins: string, salesmanagername: string, salesoffice: string, salesorg: string, salesunit: string, custrship: string, shippingconditionname: string, shipppoint: string, shipppointdesc: string, steel: string, system: string, thick: string, tier1: string, width: string, pricedateover: string, allocationextra: string, balanceqtt: string, cgfinalc: string, comissionamt: string, comissionperc: string, kbetr__kschl31: string, kbetr__kschl32: string, kbetr__kschl33: string, kbetr__kschl34: string, kbetr__kschl35: string, kbetr__kschl60: string, confirmedqtt: string, crsurcharge: string, creditlimitutilization: string, customercreditlimit: string, destmktdisc: string, disamount: string, dispercent: string, extraamt: string, extraperc: string, finalappdisc: string, pricetax: string, finalprice: string, finshextraamount: string, finshextrapercent: string, foreigncosts: string, freightmnt: string, freightperc: string, freightcharge: string, fuelsurcharge: string, gradeextra: string, heattreatextra: string, inlandfreight: string, insurancemnt: string, insuranceperc: string, intlogextra: string, maritimefreight: string, lenghtextra: string, adicmanual: string, manualprice: string, mnsurcharge: string, mosurcharge: string, netbaseprice: string, netweight: string, nisurcharge: string, oemdisc: string, portexpenses: string, prdtypeextra: string, pricegrpdisc: string, pricegrpextra: string, pricebasedcust: string, pricepractcust: string, priceproduct: string, pricewtaxes: string, qttinport: string, qttinstock: string, quantitywdelivery: string, qttwshipment: string, reqqttconv: string, requestedqtt: string, scrapsurch: string, segmktdisc: string, deliveredquantity: string, stdcost: string, surchargeamt: string, surchargeperc: string, systemdisc: string, taxes: string, tier1disc: string, totalinvoicevalue: string, vsurcharge: string, warehousecharge: string, zd01: string, zd02: string, zd03: string, zd04: string, zd05: string, zd06: string, zd07: string, zd08: string, zd09: string, zd10: string, zd11: string, zd12: string, zd13: string, zd14: string, zd17: string, zd18: string, kbetr__kschl54: string, kbetr__kschl56: string, kbetr__kschl58: string, kbetr__kschl39: string, kbetr__kschl57: string, kbetr__kschl59: string, kbetr__kschl55: string, kbetr__kschl61: string, kbetr__kschl1: string, kbetr__kschl2: string, kbetr__kschl3: string, kbetr__kschl4: string, kbetr__kschl6: string, kbetr__kschl8: string, kbetr__kschl10: string, kbetr__kschl11: string, kbetr__kschl12: string, kbetr__kschl13: string, kbetr__kschl14: string, kbetr__kschl15: string, kbetr__kschl16: string, kbetr__kschl17: string, kbetr__kschl18: string, kbetr__kschl19: string, kbetr__kschl20: string, kbetr__kschl21: string, kbetr__kschl22: string, kbetr__kschl23: string, kbetr__kschl24: string, kbetr__kschl25: string, kbetr__kschl26: string, kbetr__kschl27: string, kbetr__kschl28: string, kbetr__kschl29: string, kbetr__kschl30: string, kbetr__kschl36: string, kbetr__kschl37: string, kbetr__kschl49: string, kbetr__kschl50: string, kbetr__kschl52: string, kbetr__kschl38: string, kbetr__kschl40: string, kbetr__kschl41: string, kbetr__kschl42: string, kbetr__kschl43: string, kbetr__kschl44: string, kbetr__kschl45: string, kbetr__kschl46: string, kbetr__kschl47: string, kbetr__kschl48: string, brfinanceextra: string, zft4: string, zft7: string, zft8: string, kbetr__kschl5: string, kbetr__kschl7: string, kbetr__kschl9: string, kbetr__kschl51: string, kbetr__kschl53: string, zp01baseprice: string, manualextra: string, orderreason: string, dt_load: string, data_load_timestamp_parquet: string, data_load_timestamp_raw: string, max_date: string]"
     ]
    }
   ],
   "source": [
    "df_wallet.persist(pyspark.StorageLevel.MEMORY_ONLY)"
   ]
  },
  {
   "cell_type": "code",
   "execution_count": 49,
   "metadata": {},
   "outputs": [
    {
     "data": {
      "application/vnd.jupyter.widget-view+json": {
       "model_id": "806c353516e547098c1c24c06a3b5cec",
       "version_major": 2,
       "version_minor": 0
      },
      "text/plain": [
       "VBox()"
      ]
     },
     "metadata": {},
     "output_type": "display_data"
    },
    {
     "data": {
      "application/vnd.jupyter.widget-view+json": {
       "model_id": "",
       "version_major": 2,
       "version_minor": 0
      },
      "text/plain": [
       "FloatProgress(value=0.0, bar_style='info', description='Progress:', layout=Layout(height='25px', width='50%'),…"
      ]
     },
     "metadata": {},
     "output_type": "display_data"
    }
   ],
   "source": [
    "# Renaming and selecting the columns\n",
    "df_wallet = df_wallet.select(col(\"salesorg\").alias(\"SALES_ORG_COD\"),\n",
    "                             col(\"custregionship\").alias(\"ISSUING_STATE\"),\n",
    "                             col(\"customer\").alias(\"CUSTOMER_COD\"),\n",
    "                             col(\"custname\").alias(\"CUSTOMER_DESC\"),\n",
    "                             col(\"corporategroupname\").alias(\"CUSTOMER_GROUP\"),\n",
    "                             col(\"item\").alias(\"SALES_ORDER_ITEM\"),\n",
    "                             col(\"salesoffice\").alias(\"SALES_OFFICE_COD\"),\n",
    "                             col(\"custcitynameship\").alias(\"ISSUING_CITY\"),\n",
    "                             col(\"material\").cast(\"int\").alias(\"MATERIAL_COD\"),\n",
    "                             col(\"deliveredquantity\").alias(\"DELIVERED_QUANTITY\"),\n",
    "                             col(\"materialgroup1\").alias(\"GPD\"),\n",
    "                             col(\"pricedate\").alias(\"PRICE_DATE\"),\n",
    "                             col(\"salesgroup\").alias(\"SALES_GROUP_COD\"),\n",
    "                             col(\"reqqttconv\").alias(\"REQ_QTT_CONV\"),\n",
    "                             col(\"quantitywdelivery\").alias(\"QUANTITY_WITH_DELIVERY\"),\n",
    "                             col(\"extraperc\").alias(\"AUTO_ADDITION_P100\"),\n",
    "                             col(\"zd01\").alias(\"ZD01_%\"),\n",
    "                             col(\"zd02\").alias(\"ZD02_P100\"),\n",
    "                             col(\"zd03\").alias(\"ZD03_P100\"),\n",
    "                             col(\"zd04\").alias(\"ZD04_P100\"),\n",
    "                             col(\"zd05\").alias(\"ZD05_P100\"),\n",
    "                             col(\"zd06\").alias(\"ZD06_P100\"),\n",
    "                             col(\"zp01baseprice\").alias(\"ZP01\"),\n",
    "                             col(\"zd13\").alias(\"ZD13_P100\"),\n",
    "                             col(\"zd14\").alias(\"ZD14\"),\n",
    "                             col(\"manualextra\").alias(\"ZSU2_P100\"),\n",
    "                             col(\"brfinanceextra\").alias(\"ZEAF_P100\"),\n",
    "                             col(\"confirmeddate\").alias(\"CONFIRMED_ORDER_DATE\"),\n",
    "                             col(\"ordercreationdate\").alias(\"SALES_ORDER_DATE\"),\n",
    "                             col(\"goodsIssueDate\").alias(\"ISSUING_DATE\"),\n",
    "                             col(\"statusoverall\").alias(\"ORDER_STATUS\"),\n",
    "                             col(\"order\").alias(\"SALES_ORDER_NUMBER\"),\n",
    "                             col(\"salesgroupdesc\").alias(\"SALES_GROUP_DESC\"),\n",
    "                             col(\"ordertype\").alias(\"ORDER_TYPE_COD\"))"
   ]
  },
  {
   "cell_type": "code",
   "execution_count": 50,
   "metadata": {},
   "outputs": [
    {
     "data": {
      "application/vnd.jupyter.widget-view+json": {
       "model_id": "b663147c610849109e0b9a0baada0ed4",
       "version_major": 2,
       "version_minor": 0
      },
      "text/plain": [
       "VBox()"
      ]
     },
     "metadata": {},
     "output_type": "display_data"
    },
    {
     "data": {
      "application/vnd.jupyter.widget-view+json": {
       "model_id": "",
       "version_major": 2,
       "version_minor": 0
      },
      "text/plain": [
       "FloatProgress(value=0.0, bar_style='info', description='Progress:', layout=Layout(height='25px', width='50%'),…"
      ]
     },
     "metadata": {},
     "output_type": "display_data"
    }
   ],
   "source": [
    "# Correcting \"Ouro Branco\" Sales Org \n",
    "    # BRIO -> BRIN\n",
    "    # BRCO -> BRCC\n",
    "    # BRDO -> BRDI\n",
    "    # BRGO -> BRCG\n",
    "df_wallet=df_wallet.withColumn(\"SALES_ORG_COD\", when(df_wallet.SALES_ORG_COD.like(\"BRCO\"), \"BRCC\")\\\n",
    "                                                    .otherwise(when(df_wallet.SALES_ORG_COD.like(\"BRGO\"), \"BRCG\")\\\n",
    "                                                              .otherwise(when(df_wallet.SALES_ORG_COD.like(\"BRIO\"), \"BRIN\")\\\n",
    "                                                                        .otherwise(when(df_wallet.SALES_ORG_COD.like(\"BRDO\"), \"BRDI\")\n",
    "                                                                                  .otherwise(df_wallet.SALES_ORG_COD)))))\\"
   ]
  },
  {
   "cell_type": "code",
   "execution_count": 51,
   "metadata": {},
   "outputs": [
    {
     "data": {
      "application/vnd.jupyter.widget-view+json": {
       "model_id": "8d0269f27711440a954b7f4abefa97ac",
       "version_major": 2,
       "version_minor": 0
      },
      "text/plain": [
       "VBox()"
      ]
     },
     "metadata": {},
     "output_type": "display_data"
    },
    {
     "data": {
      "application/vnd.jupyter.widget-view+json": {
       "model_id": "",
       "version_major": 2,
       "version_minor": 0
      },
      "text/plain": [
       "FloatProgress(value=0.0, bar_style='info', description='Progress:', layout=Layout(height='25px', width='50%'),…"
      ]
     },
     "metadata": {},
     "output_type": "display_data"
    }
   ],
   "source": [
    "# Correcting Practiced Price Field\n",
    "df_wallet=df_wallet.withColumn(\"CUSTOMER_GROUP\", when(df_wallet.CUSTOMER_GROUP.isNull()|\n",
    "                                                  df_wallet.CUSTOMER_GROUP.like(\"GRUPO DE RENTABILIDADE GENÉRICO\")\n",
    "                                                  ,col(\"CUSTOMER_DESC\")).otherwise(col(\"CUSTOMER_GROUP\")))\\\n",
    "                    .withColumn(\"BILLING_DATE\", col(\"SALES_ORDER_DATE\"))\\"
   ]
  },
  {
   "cell_type": "code",
   "execution_count": 52,
   "metadata": {},
   "outputs": [
    {
     "data": {
      "application/vnd.jupyter.widget-view+json": {
       "model_id": "cc5a2a77a68a4fc2a1a907e6805b80d9",
       "version_major": 2,
       "version_minor": 0
      },
      "text/plain": [
       "VBox()"
      ]
     },
     "metadata": {},
     "output_type": "display_data"
    },
    {
     "data": {
      "application/vnd.jupyter.widget-view+json": {
       "model_id": "",
       "version_major": 2,
       "version_minor": 0
      },
      "text/plain": [
       "FloatProgress(value=0.0, bar_style='info', description='Progress:', layout=Layout(height='25px', width='50%'),…"
      ]
     },
     "metadata": {},
     "output_type": "display_data"
    }
   ],
   "source": [
    "# Creating Conditions Columns\n",
    "df_wallet = df_wallet.join(df_conditions, (df_wallet[\"SALES_ORDER_NUMBER\"].cast(\"int\")==df_conditions[\"SALES_ORDER_NUMBER_drop\"].cast(\"int\"))&\n",
    "                                            (df_wallet[\"SALES_ORDER_ITEM\"].cast(\"int\")==df_conditions[\"SALES_ORDER_ITEM_drop\"].cast(\"int\")), how='left')\\\n",
    "                     .drop(\"SALES_ORDER_NUMBER_drop\")\\\n",
    "                     .drop(\"SALES_ORDER_ITEM_drop\")\\"
   ]
  },
  {
   "cell_type": "code",
   "execution_count": 53,
   "metadata": {},
   "outputs": [
    {
     "data": {
      "application/vnd.jupyter.widget-view+json": {
       "model_id": "90e238eec5a14d7d9f8c40d329f074d4",
       "version_major": 2,
       "version_minor": 0
      },
      "text/plain": [
       "VBox()"
      ]
     },
     "metadata": {},
     "output_type": "display_data"
    },
    {
     "data": {
      "application/vnd.jupyter.widget-view+json": {
       "model_id": "",
       "version_major": 2,
       "version_minor": 0
      },
      "text/plain": [
       "FloatProgress(value=0.0, bar_style='info', description='Progress:', layout=Layout(height='25px', width='50%'),…"
      ]
     },
     "metadata": {},
     "output_type": "display_data"
    }
   ],
   "source": [
    "df_wallet.write.partitionBy(144);\n",
    "df_wallet = df_wallet.repartition(144);"
   ]
  },
  {
   "cell_type": "code",
   "execution_count": 54,
   "metadata": {},
   "outputs": [
    {
     "data": {
      "application/vnd.jupyter.widget-view+json": {
       "model_id": "01c2541ec1c44be6a47a759187098177",
       "version_major": 2,
       "version_minor": 0
      },
      "text/plain": [
       "VBox()"
      ]
     },
     "metadata": {},
     "output_type": "display_data"
    },
    {
     "data": {
      "application/vnd.jupyter.widget-view+json": {
       "model_id": "",
       "version_major": 2,
       "version_minor": 0
      },
      "text/plain": [
       "FloatProgress(value=0.0, bar_style='info', description='Progress:', layout=Layout(height='25px', width='50%'),…"
      ]
     },
     "metadata": {},
     "output_type": "display_data"
    },
    {
     "name": "stdout",
     "output_type": "stream",
     "text": [
      "DataFrame[SALES_ORG_COD: string, ISSUING_STATE: string, CUSTOMER_COD: string, CUSTOMER_DESC: string, CUSTOMER_GROUP: string, SALES_ORDER_ITEM: string, SALES_OFFICE_COD: string, ISSUING_CITY: string, MATERIAL_COD: int, DELIVERED_QUANTITY: string, GPD: string, PRICE_DATE: string, SALES_GROUP_COD: string, REQ_QTT_CONV: string, QUANTITY_WITH_DELIVERY: string, AUTO_ADDITION_P100: string, ZD01_%: string, ZD02_P100: string, ZD03_P100: string, ZD04_P100: string, ZD05_P100: string, ZD06_P100: string, ZP01: string, ZD13_P100: string, ZD14: string, ZSU2_P100: string, ZEAF_P100: string, CONFIRMED_ORDER_DATE: string, SALES_ORDER_DATE: string, ISSUING_DATE: string, ORDER_STATUS: string, SALES_ORDER_NUMBER: string, SALES_GROUP_DESC: string, ORDER_TYPE_COD: string, BILLING_DATE: string, IPI: float, ICMI: float, ZD38: float, ZEB1: float, BX41: float]"
     ]
    }
   ],
   "source": [
    "df_wallet.persist(pyspark.StorageLevel.MEMORY_ONLY)"
   ]
  },
  {
   "cell_type": "code",
   "execution_count": 55,
   "metadata": {},
   "outputs": [
    {
     "data": {
      "application/vnd.jupyter.widget-view+json": {
       "model_id": "60bcf6dd9f184b698be721efc111ab8b",
       "version_major": 2,
       "version_minor": 0
      },
      "text/plain": [
       "VBox()"
      ]
     },
     "metadata": {},
     "output_type": "display_data"
    },
    {
     "data": {
      "application/vnd.jupyter.widget-view+json": {
       "model_id": "",
       "version_major": 2,
       "version_minor": 0
      },
      "text/plain": [
       "FloatProgress(value=0.0, bar_style='info', description='Progress:', layout=Layout(height='25px', width='50%'),…"
      ]
     },
     "metadata": {},
     "output_type": "display_data"
    }
   ],
   "source": [
    "# Converting numeric(and text) columns to float \n",
    "for col_name in [\"DELIVERED_QUANTITY\"\n",
    "                 ,\"REQ_QTT_CONV\"\n",
    "                 ,\"AUTO_ADDITION_P100\"\n",
    "                 ,\"ZD01_%\"\n",
    "                 ,\"ZD02_P100\"\n",
    "                 ,\"ZD03_P100\"\n",
    "                 ,\"ZD04_P100\"\n",
    "                 ,\"ZD05_P100\"\n",
    "                 ,\"ZD06_P100\"\n",
    "                 ,\"ZP01\"\n",
    "                 ,\"ZD13_P100\"\n",
    "                 ,\"ZD14\"\n",
    "                 ,\"ZSU2_P100\"\n",
    "                 ,\"ZEAF_P100\"]:\n",
    "    df_wallet = df_wallet.withColumn(col_name, col(col_name).cast('float'))"
   ]
  },
  {
   "cell_type": "code",
   "execution_count": 56,
   "metadata": {
    "scrolled": false
   },
   "outputs": [
    {
     "data": {
      "application/vnd.jupyter.widget-view+json": {
       "model_id": "8fc620574e7541c3860d77786a1523ef",
       "version_major": 2,
       "version_minor": 0
      },
      "text/plain": [
       "VBox()"
      ]
     },
     "metadata": {},
     "output_type": "display_data"
    },
    {
     "data": {
      "application/vnd.jupyter.widget-view+json": {
       "model_id": "",
       "version_major": 2,
       "version_minor": 0
      },
      "text/plain": [
       "FloatProgress(value=0.0, bar_style='info', description='Progress:', layout=Layout(height='25px', width='50%'),…"
      ]
     },
     "metadata": {},
     "output_type": "display_data"
    }
   ],
   "source": [
    "# Getting GPM_DESC Field\n",
    "df_wallet=df_wallet.join(df_products, (trim(df_products.SALES_ORG_COD_drop)==trim(df_wallet.SALES_ORG_COD))&\n",
    "                                  (df_products.COD_MATERIAL_drop.cast(\"int\")==df_wallet.MATERIAL_COD.cast(\"int\")), how=\"left\")\\\n",
    "                   .withColumnRenamed(\"DESC_GPD\", \"GPD_DESC\")\\\n",
    "                   .withColumnRenamed(\"COD_GPD\", \"GPD_COD\")\\\n",
    "                   .drop(\"COD_MATERIAL_drop\")\\\n",
    "                   .drop(\"SALES_ORG_COD_drop\")\\"
   ]
  },
  {
   "cell_type": "code",
   "execution_count": 57,
   "metadata": {},
   "outputs": [
    {
     "data": {
      "application/vnd.jupyter.widget-view+json": {
       "model_id": "4dc1196ef783430faa3c966f45b8c643",
       "version_major": 2,
       "version_minor": 0
      },
      "text/plain": [
       "VBox()"
      ]
     },
     "metadata": {},
     "output_type": "display_data"
    },
    {
     "data": {
      "application/vnd.jupyter.widget-view+json": {
       "model_id": "",
       "version_major": 2,
       "version_minor": 0
      },
      "text/plain": [
       "FloatProgress(value=0.0, bar_style='info', description='Progress:', layout=Layout(height='25px', width='50%'),…"
      ]
     },
     "metadata": {},
     "output_type": "display_data"
    }
   ],
   "source": [
    "df_wallet=df_wallet.withColumn(\"GPD_COD\", when(df_wallet.GPD_COD.isNull(), col(\"GPD\"))\\\n",
    "                               .otherwise(df_wallet.GPD_COD))"
   ]
  },
  {
   "cell_type": "code",
   "execution_count": 58,
   "metadata": {},
   "outputs": [
    {
     "data": {
      "application/vnd.jupyter.widget-view+json": {
       "model_id": "fb36777922c649d289fbe998eb1474d7",
       "version_major": 2,
       "version_minor": 0
      },
      "text/plain": [
       "VBox()"
      ]
     },
     "metadata": {},
     "output_type": "display_data"
    },
    {
     "data": {
      "application/vnd.jupyter.widget-view+json": {
       "model_id": "",
       "version_major": 2,
       "version_minor": 0
      },
      "text/plain": [
       "FloatProgress(value=0.0, bar_style='info', description='Progress:', layout=Layout(height='25px', width='50%'),…"
      ]
     },
     "metadata": {},
     "output_type": "display_data"
    }
   ],
   "source": [
    "df_wallet=df_wallet.drop(\"GPD\")"
   ]
  },
  {
   "cell_type": "code",
   "execution_count": 59,
   "metadata": {},
   "outputs": [
    {
     "data": {
      "application/vnd.jupyter.widget-view+json": {
       "model_id": "aa74440b2a6d44daa56c9de431f6a8b9",
       "version_major": 2,
       "version_minor": 0
      },
      "text/plain": [
       "VBox()"
      ]
     },
     "metadata": {},
     "output_type": "display_data"
    },
    {
     "data": {
      "application/vnd.jupyter.widget-view+json": {
       "model_id": "",
       "version_major": 2,
       "version_minor": 0
      },
      "text/plain": [
       "FloatProgress(value=0.0, bar_style='info', description='Progress:', layout=Layout(height='25px', width='50%'),…"
      ]
     },
     "metadata": {},
     "output_type": "display_data"
    }
   ],
   "source": [
    "df_wallet.write.partitionBy(144);\n",
    "df_wallet = df_wallet.repartition(144);"
   ]
  },
  {
   "cell_type": "code",
   "execution_count": 60,
   "metadata": {},
   "outputs": [
    {
     "data": {
      "application/vnd.jupyter.widget-view+json": {
       "model_id": "1e5cb7eb0425443283956c42ec090a04",
       "version_major": 2,
       "version_minor": 0
      },
      "text/plain": [
       "VBox()"
      ]
     },
     "metadata": {},
     "output_type": "display_data"
    },
    {
     "data": {
      "application/vnd.jupyter.widget-view+json": {
       "model_id": "",
       "version_major": 2,
       "version_minor": 0
      },
      "text/plain": [
       "FloatProgress(value=0.0, bar_style='info', description='Progress:', layout=Layout(height='25px', width='50%'),…"
      ]
     },
     "metadata": {},
     "output_type": "display_data"
    },
    {
     "name": "stdout",
     "output_type": "stream",
     "text": [
      "DataFrame[SALES_ORG_COD: string, ISSUING_STATE: string, CUSTOMER_COD: string, CUSTOMER_DESC: string, CUSTOMER_GROUP: string, SALES_ORDER_ITEM: string, SALES_OFFICE_COD: string, ISSUING_CITY: string, MATERIAL_COD: int, DELIVERED_QUANTITY: float, PRICE_DATE: string, SALES_GROUP_COD: string, REQ_QTT_CONV: float, QUANTITY_WITH_DELIVERY: string, AUTO_ADDITION_P100: float, ZD01_%: float, ZD02_P100: float, ZD03_P100: float, ZD04_P100: float, ZD05_P100: float, ZD06_P100: float, ZP01: float, ZD13_P100: float, ZD14: float, ZSU2_P100: float, ZEAF_P100: float, CONFIRMED_ORDER_DATE: string, SALES_ORDER_DATE: string, ISSUING_DATE: string, ORDER_STATUS: string, SALES_ORDER_NUMBER: string, SALES_GROUP_DESC: string, ORDER_TYPE_COD: string, BILLING_DATE: string, IPI: float, ICMI: float, ZD38: float, ZEB1: float, BX41: float, GPD_DESC: string, GPD_COD: string, GPM_DESC: string, GPM_COD: string, MATERIAL_DESC: string]"
     ]
    }
   ],
   "source": [
    "df_wallet.persist(pyspark.StorageLevel.MEMORY_ONLY)"
   ]
  },
  {
   "cell_type": "code",
   "execution_count": 61,
   "metadata": {},
   "outputs": [
    {
     "data": {
      "application/vnd.jupyter.widget-view+json": {
       "model_id": "0d5e6b1b20b94cc78af5e915830ac679",
       "version_major": 2,
       "version_minor": 0
      },
      "text/plain": [
       "VBox()"
      ]
     },
     "metadata": {},
     "output_type": "display_data"
    },
    {
     "data": {
      "application/vnd.jupyter.widget-view+json": {
       "model_id": "",
       "version_major": 2,
       "version_minor": 0
      },
      "text/plain": [
       "FloatProgress(value=0.0, bar_style='info', description='Progress:', layout=Layout(height='25px', width='50%'),…"
      ]
     },
     "metadata": {},
     "output_type": "display_data"
    }
   ],
   "source": [
    "# Creating \"RLV\" and TOTAL_TAXES Columns\n",
    "df_wallet = df_wallet.join(df_vbap, (df_wallet[\"SALES_ORDER_NUMBER\"].cast(\"int\")==df_vbap[\"SALES_ORDER_NUMBER_drop\"].cast(\"int\"))&\n",
    "                                    (df_wallet[\"SALES_ORDER_ITEM\"].cast(\"int\")==df_vbap[\"SALES_ORDER_ITEM_drop\"].cast(\"int\")), how='left')\\\n",
    "                     .drop(\"SALES_ORDER_NUMBER_drop\")\\\n",
    "                     .drop(\"SALES_ORDER_ITEM_drop\")\\"
   ]
  },
  {
   "cell_type": "code",
   "execution_count": 62,
   "metadata": {},
   "outputs": [
    {
     "data": {
      "application/vnd.jupyter.widget-view+json": {
       "model_id": "cf6bf40af43d41d9b427ef2f738d5ddb",
       "version_major": 2,
       "version_minor": 0
      },
      "text/plain": [
       "VBox()"
      ]
     },
     "metadata": {},
     "output_type": "display_data"
    },
    {
     "data": {
      "application/vnd.jupyter.widget-view+json": {
       "model_id": "",
       "version_major": 2,
       "version_minor": 0
      },
      "text/plain": [
       "FloatProgress(value=0.0, bar_style='info', description='Progress:', layout=Layout(height='25px', width='50%'),…"
      ]
     },
     "metadata": {},
     "output_type": "display_data"
    }
   ],
   "source": [
    "df_wallet.write.partitionBy(144);\n",
    "df_wallet = df_wallet.repartition(144);"
   ]
  },
  {
   "cell_type": "code",
   "execution_count": 63,
   "metadata": {},
   "outputs": [
    {
     "data": {
      "application/vnd.jupyter.widget-view+json": {
       "model_id": "5f321f6595b045509c859f80bd806069",
       "version_major": 2,
       "version_minor": 0
      },
      "text/plain": [
       "VBox()"
      ]
     },
     "metadata": {},
     "output_type": "display_data"
    },
    {
     "data": {
      "application/vnd.jupyter.widget-view+json": {
       "model_id": "",
       "version_major": 2,
       "version_minor": 0
      },
      "text/plain": [
       "FloatProgress(value=0.0, bar_style='info', description='Progress:', layout=Layout(height='25px', width='50%'),…"
      ]
     },
     "metadata": {},
     "output_type": "display_data"
    },
    {
     "name": "stdout",
     "output_type": "stream",
     "text": [
      "DataFrame[SALES_ORG_COD: string, ISSUING_STATE: string, CUSTOMER_COD: string, CUSTOMER_DESC: string, CUSTOMER_GROUP: string, SALES_ORDER_ITEM: string, SALES_OFFICE_COD: string, ISSUING_CITY: string, MATERIAL_COD: int, DELIVERED_QUANTITY: float, PRICE_DATE: string, SALES_GROUP_COD: string, REQ_QTT_CONV: float, QUANTITY_WITH_DELIVERY: string, AUTO_ADDITION_P100: float, ZD01_%: float, ZD02_P100: float, ZD03_P100: float, ZD04_P100: float, ZD05_P100: float, ZD06_P100: float, ZP01: float, ZD13_P100: float, ZD14: float, ZSU2_P100: float, ZEAF_P100: float, CONFIRMED_ORDER_DATE: string, SALES_ORDER_DATE: string, ISSUING_DATE: string, ORDER_STATUS: string, SALES_ORDER_NUMBER: string, SALES_GROUP_DESC: string, ORDER_TYPE_COD: string, BILLING_DATE: string, IPI: float, ICMI: float, ZD38: float, ZEB1: float, BX41: float, GPD_DESC: string, GPD_COD: string, GPM_DESC: string, GPM_COD: string, MATERIAL_DESC: string, RLV: string, RBV: string, TOTAL_TAXES: string, REQUESTED_QUANTITY: float]"
     ]
    }
   ],
   "source": [
    "df_wallet.persist(pyspark.StorageLevel.MEMORY_ONLY)"
   ]
  },
  {
   "cell_type": "code",
   "execution_count": 64,
   "metadata": {},
   "outputs": [
    {
     "data": {
      "application/vnd.jupyter.widget-view+json": {
       "model_id": "67389515957f413d98491cbff8e6ad4f",
       "version_major": 2,
       "version_minor": 0
      },
      "text/plain": [
       "VBox()"
      ]
     },
     "metadata": {},
     "output_type": "display_data"
    },
    {
     "data": {
      "application/vnd.jupyter.widget-view+json": {
       "model_id": "",
       "version_major": 2,
       "version_minor": 0
      },
      "text/plain": [
       "FloatProgress(value=0.0, bar_style='info', description='Progress:', layout=Layout(height='25px', width='50%'),…"
      ]
     },
     "metadata": {},
     "output_type": "display_data"
    }
   ],
   "source": [
    "# Converting numeric(and text) columns to float \n",
    "for col_name in [\"AUTO_ADDITION_P100\"\n",
    "                 ,\"ZD01_%\"\n",
    "                 ,\"ZD02_P100\"\n",
    "                 ,\"ZD03_P100\"\n",
    "                 ,\"ZD04_P100\"\n",
    "                 ,\"ZD05_P100\"\n",
    "                 ,\"ZD06_P100\"\n",
    "                 ,\"ZD13_P100\"\n",
    "                 ,\"ZSU2_P100\"\n",
    "                 ,\"ZEAF_P100\"]:\n",
    "    df_wallet = df_wallet.withColumn(col_name, ((col(col_name).cast('float')*(abs(((col(\"REQUESTED_QUANTITY\"))/col(\"REQ_QTT_CONV\")))))/100).cast('float'))"
   ]
  },
  {
   "cell_type": "code",
   "execution_count": 65,
   "metadata": {},
   "outputs": [
    {
     "data": {
      "application/vnd.jupyter.widget-view+json": {
       "model_id": "e7e0447e00664040b5a7c1bcb073e77d",
       "version_major": 2,
       "version_minor": 0
      },
      "text/plain": [
       "VBox()"
      ]
     },
     "metadata": {},
     "output_type": "display_data"
    },
    {
     "data": {
      "application/vnd.jupyter.widget-view+json": {
       "model_id": "",
       "version_major": 2,
       "version_minor": 0
      },
      "text/plain": [
       "FloatProgress(value=0.0, bar_style='info', description='Progress:', layout=Layout(height='25px', width='50%'),…"
      ]
     },
     "metadata": {},
     "output_type": "display_data"
    }
   ],
   "source": [
    "df_wallet=df_wallet.withColumn(\"QUANTITY_TON\", col(\"REQUESTED_QUANTITY\"))\\"
   ]
  },
  {
   "cell_type": "code",
   "execution_count": 66,
   "metadata": {},
   "outputs": [
    {
     "data": {
      "application/vnd.jupyter.widget-view+json": {
       "model_id": "7ae5f92cd3de47158507c2426f929ddd",
       "version_major": 2,
       "version_minor": 0
      },
      "text/plain": [
       "VBox()"
      ]
     },
     "metadata": {},
     "output_type": "display_data"
    },
    {
     "data": {
      "application/vnd.jupyter.widget-view+json": {
       "model_id": "",
       "version_major": 2,
       "version_minor": 0
      },
      "text/plain": [
       "FloatProgress(value=0.0, bar_style='info', description='Progress:', layout=Layout(height='25px', width='50%'),…"
      ]
     },
     "metadata": {},
     "output_type": "display_data"
    }
   ],
   "source": [
    "df_wallet=df_wallet.withColumn(\"IPI\", when(df_wallet[\"IPI\"].isNull(), lit(0)).otherwise(df_wallet[\"IPI\"]))"
   ]
  },
  {
   "cell_type": "code",
   "execution_count": 67,
   "metadata": {},
   "outputs": [
    {
     "data": {
      "application/vnd.jupyter.widget-view+json": {
       "model_id": "afed9cfef9fe4ce5aa1e3edec8a61695",
       "version_major": 2,
       "version_minor": 0
      },
      "text/plain": [
       "VBox()"
      ]
     },
     "metadata": {},
     "output_type": "display_data"
    },
    {
     "data": {
      "application/vnd.jupyter.widget-view+json": {
       "model_id": "",
       "version_major": 2,
       "version_minor": 0
      },
      "text/plain": [
       "FloatProgress(value=0.0, bar_style='info', description='Progress:', layout=Layout(height='25px', width='50%'),…"
      ]
     },
     "metadata": {},
     "output_type": "display_data"
    }
   ],
   "source": [
    "df_wallet=df_wallet.withColumn(\"BX41\", when(df_wallet[\"BX41\"].isNull(), lit(0)).otherwise(df_wallet[\"BX41\"]))"
   ]
  },
  {
   "cell_type": "code",
   "execution_count": 68,
   "metadata": {},
   "outputs": [
    {
     "data": {
      "application/vnd.jupyter.widget-view+json": {
       "model_id": "47cf373be4704174883ca8d6ddbe67d0",
       "version_major": 2,
       "version_minor": 0
      },
      "text/plain": [
       "VBox()"
      ]
     },
     "metadata": {},
     "output_type": "display_data"
    },
    {
     "data": {
      "application/vnd.jupyter.widget-view+json": {
       "model_id": "",
       "version_major": 2,
       "version_minor": 0
      },
      "text/plain": [
       "FloatProgress(value=0.0, bar_style='info', description='Progress:', layout=Layout(height='25px', width='50%'),…"
      ]
     },
     "metadata": {},
     "output_type": "display_data"
    }
   ],
   "source": [
    "df_wallet=df_wallet.withColumn(\"RBV\", col(\"RBV\")-col(\"BX41\")-col(\"IPI\"))\\\n",
    "                   .drop(\"IPI\")"
   ]
  },
  {
   "cell_type": "code",
   "execution_count": 69,
   "metadata": {},
   "outputs": [
    {
     "data": {
      "application/vnd.jupyter.widget-view+json": {
       "model_id": "27d74c1841914503aa9722057bbc12d3",
       "version_major": 2,
       "version_minor": 0
      },
      "text/plain": [
       "VBox()"
      ]
     },
     "metadata": {},
     "output_type": "display_data"
    },
    {
     "data": {
      "application/vnd.jupyter.widget-view+json": {
       "model_id": "",
       "version_major": 2,
       "version_minor": 0
      },
      "text/plain": [
       "FloatProgress(value=0.0, bar_style='info', description='Progress:', layout=Layout(height='25px', width='50%'),…"
      ]
     },
     "metadata": {},
     "output_type": "display_data"
    }
   ],
   "source": [
    "df_wallet=df_wallet.withColumn(\"PRACTICED_PRICE\", col(\"RBV\").cast(\"float\"))\\"
   ]
  },
  {
   "cell_type": "code",
   "execution_count": 70,
   "metadata": {},
   "outputs": [
    {
     "data": {
      "application/vnd.jupyter.widget-view+json": {
       "model_id": "c29e3db3ab4d469cb00a3f259b489db6",
       "version_major": 2,
       "version_minor": 0
      },
      "text/plain": [
       "VBox()"
      ]
     },
     "metadata": {},
     "output_type": "display_data"
    },
    {
     "data": {
      "application/vnd.jupyter.widget-view+json": {
       "model_id": "",
       "version_major": 2,
       "version_minor": 0
      },
      "text/plain": [
       "FloatProgress(value=0.0, bar_style='info', description='Progress:', layout=Layout(height='25px', width='50%'),…"
      ]
     },
     "metadata": {},
     "output_type": "display_data"
    }
   ],
   "source": [
    "# Creating List Price\n",
    "df_wallet=df_wallet.withColumn(\"LIST_PRICE\", col(\"ICMI\"))\\"
   ]
  },
  {
   "cell_type": "code",
   "execution_count": 71,
   "metadata": {},
   "outputs": [
    {
     "data": {
      "application/vnd.jupyter.widget-view+json": {
       "model_id": "3fb306a4a1a54f259452448acbc67366",
       "version_major": 2,
       "version_minor": 0
      },
      "text/plain": [
       "VBox()"
      ]
     },
     "metadata": {},
     "output_type": "display_data"
    },
    {
     "data": {
      "application/vnd.jupyter.widget-view+json": {
       "model_id": "",
       "version_major": 2,
       "version_minor": 0
      },
      "text/plain": [
       "FloatProgress(value=0.0, bar_style='info', description='Progress:', layout=Layout(height='25px', width='50%'),…"
      ]
     },
     "metadata": {},
     "output_type": "display_data"
    }
   ],
   "source": [
    "# ZD01 $ Valeu\n",
    "df_wallet=df_wallet.withColumn(\"ZD01\", col(\"LIST_PRICE\")*(col(\"ZD01_%\")))\n",
    "df_wallet=df_wallet.withColumn(\"LIST_PRICE_ZD01\", col(\"LIST_PRICE\")+col(\"ZD01\"))"
   ]
  },
  {
   "cell_type": "code",
   "execution_count": 72,
   "metadata": {},
   "outputs": [
    {
     "data": {
      "application/vnd.jupyter.widget-view+json": {
       "model_id": "012aea36c35c4095b02fb5928ae59f82",
       "version_major": 2,
       "version_minor": 0
      },
      "text/plain": [
       "VBox()"
      ]
     },
     "metadata": {},
     "output_type": "display_data"
    },
    {
     "data": {
      "application/vnd.jupyter.widget-view+json": {
       "model_id": "",
       "version_major": 2,
       "version_minor": 0
      },
      "text/plain": [
       "FloatProgress(value=0.0, bar_style='info', description='Progress:', layout=Layout(height='25px', width='50%'),…"
      ]
     },
     "metadata": {},
     "output_type": "display_data"
    }
   ],
   "source": [
    "# ZD02 $ Valeu\n",
    "df_wallet=df_wallet.withColumn(\"ZD02\", col(\"LIST_PRICE_ZD01\")*(col(\"ZD02_P100\")))\n",
    "df_wallet=df_wallet.withColumn(\"LIST_PRICE_ZD02\", col(\"LIST_PRICE_ZD01\")+col(\"ZD02\"))"
   ]
  },
  {
   "cell_type": "code",
   "execution_count": 73,
   "metadata": {},
   "outputs": [
    {
     "data": {
      "application/vnd.jupyter.widget-view+json": {
       "model_id": "ba0a496229554f7a975064dea1bac2a8",
       "version_major": 2,
       "version_minor": 0
      },
      "text/plain": [
       "VBox()"
      ]
     },
     "metadata": {},
     "output_type": "display_data"
    },
    {
     "data": {
      "application/vnd.jupyter.widget-view+json": {
       "model_id": "",
       "version_major": 2,
       "version_minor": 0
      },
      "text/plain": [
       "FloatProgress(value=0.0, bar_style='info', description='Progress:', layout=Layout(height='25px', width='50%'),…"
      ]
     },
     "metadata": {},
     "output_type": "display_data"
    }
   ],
   "source": [
    "# ZD03 $ Valeu\n",
    "df_wallet=df_wallet.withColumn(\"ZD03\", col(\"LIST_PRICE_ZD02\")*(col(\"ZD03_P100\")))\n",
    "df_wallet=df_wallet.withColumn(\"LIST_PRICE_ZD03\", col(\"LIST_PRICE_ZD02\")+col(\"ZD03\"))"
   ]
  },
  {
   "cell_type": "code",
   "execution_count": 74,
   "metadata": {},
   "outputs": [
    {
     "data": {
      "application/vnd.jupyter.widget-view+json": {
       "model_id": "9fb6aa49ddd64b8795907090eb6134c9",
       "version_major": 2,
       "version_minor": 0
      },
      "text/plain": [
       "VBox()"
      ]
     },
     "metadata": {},
     "output_type": "display_data"
    },
    {
     "data": {
      "application/vnd.jupyter.widget-view+json": {
       "model_id": "",
       "version_major": 2,
       "version_minor": 0
      },
      "text/plain": [
       "FloatProgress(value=0.0, bar_style='info', description='Progress:', layout=Layout(height='25px', width='50%'),…"
      ]
     },
     "metadata": {},
     "output_type": "display_data"
    }
   ],
   "source": [
    "# ZD04 $ Valeu\n",
    "df_wallet=df_wallet.withColumn(\"ZD04\", col(\"LIST_PRICE_ZD03\")*(col(\"ZD04_P100\")))\n",
    "df_wallet=df_wallet.withColumn(\"LIST_PRICE_ZD04\", col(\"LIST_PRICE_ZD03\")+col(\"ZD04\"))"
   ]
  },
  {
   "cell_type": "code",
   "execution_count": 75,
   "metadata": {},
   "outputs": [
    {
     "data": {
      "application/vnd.jupyter.widget-view+json": {
       "model_id": "6ea76b1eabbd49519c2734a7667a2c0f",
       "version_major": 2,
       "version_minor": 0
      },
      "text/plain": [
       "VBox()"
      ]
     },
     "metadata": {},
     "output_type": "display_data"
    },
    {
     "data": {
      "application/vnd.jupyter.widget-view+json": {
       "model_id": "",
       "version_major": 2,
       "version_minor": 0
      },
      "text/plain": [
       "FloatProgress(value=0.0, bar_style='info', description='Progress:', layout=Layout(height='25px', width='50%'),…"
      ]
     },
     "metadata": {},
     "output_type": "display_data"
    }
   ],
   "source": [
    "# ZD05 $ Valeu\n",
    "df_wallet=df_wallet.withColumn(\"ZD05\", col(\"LIST_PRICE_ZD04\")*(col(\"ZD05_P100\")))\n",
    "df_wallet=df_wallet.withColumn(\"LIST_PRICE_ZD05\", col(\"LIST_PRICE_ZD04\")+col(\"ZD05\"))"
   ]
  },
  {
   "cell_type": "code",
   "execution_count": 76,
   "metadata": {},
   "outputs": [
    {
     "data": {
      "application/vnd.jupyter.widget-view+json": {
       "model_id": "5f766ff70cb349a4a5f11a41c01a34f5",
       "version_major": 2,
       "version_minor": 0
      },
      "text/plain": [
       "VBox()"
      ]
     },
     "metadata": {},
     "output_type": "display_data"
    },
    {
     "data": {
      "application/vnd.jupyter.widget-view+json": {
       "model_id": "",
       "version_major": 2,
       "version_minor": 0
      },
      "text/plain": [
       "FloatProgress(value=0.0, bar_style='info', description='Progress:', layout=Layout(height='25px', width='50%'),…"
      ]
     },
     "metadata": {},
     "output_type": "display_data"
    }
   ],
   "source": [
    "# ZD06 $ Valeu\n",
    "df_wallet=df_wallet.withColumn(\"ZD06\", col(\"LIST_PRICE_ZD05\")*(col(\"ZD06_P100\")))\n",
    "df_wallet=df_wallet.withColumn(\"LIST_PRICE_ZD06\", col(\"LIST_PRICE_ZD05\")+col(\"ZD06\"))"
   ]
  },
  {
   "cell_type": "code",
   "execution_count": 77,
   "metadata": {},
   "outputs": [
    {
     "data": {
      "application/vnd.jupyter.widget-view+json": {
       "model_id": "98d2b53c2c2d4412acf6f011a2a60497",
       "version_major": 2,
       "version_minor": 0
      },
      "text/plain": [
       "VBox()"
      ]
     },
     "metadata": {},
     "output_type": "display_data"
    },
    {
     "data": {
      "application/vnd.jupyter.widget-view+json": {
       "model_id": "",
       "version_major": 2,
       "version_minor": 0
      },
      "text/plain": [
       "FloatProgress(value=0.0, bar_style='info', description='Progress:', layout=Layout(height='25px', width='50%'),…"
      ]
     },
     "metadata": {},
     "output_type": "display_data"
    }
   ],
   "source": [
    "# ZD38 $ Valeu\n",
    "df_wallet=df_wallet.withColumn(\"LIST_PRICE_ZD38\", col(\"LIST_PRICE_ZD06\")+col(\"ZD38\"))"
   ]
  },
  {
   "cell_type": "code",
   "execution_count": 78,
   "metadata": {},
   "outputs": [
    {
     "data": {
      "application/vnd.jupyter.widget-view+json": {
       "model_id": "13c782116dc94bc1a082a07e750ec114",
       "version_major": 2,
       "version_minor": 0
      },
      "text/plain": [
       "VBox()"
      ]
     },
     "metadata": {},
     "output_type": "display_data"
    },
    {
     "data": {
      "application/vnd.jupyter.widget-view+json": {
       "model_id": "",
       "version_major": 2,
       "version_minor": 0
      },
      "text/plain": [
       "FloatProgress(value=0.0, bar_style='info', description='Progress:', layout=Layout(height='25px', width='50%'),…"
      ]
     },
     "metadata": {},
     "output_type": "display_data"
    }
   ],
   "source": [
    "# ZBE1 $ Valeu\n",
    "#df_wallet=df_wallet.withColumn(\"LIST_PRICE_ZBE1\", col(\"LIST_PRICE_ZD38\")+col(\"ZBE1\"))"
   ]
  },
  {
   "cell_type": "code",
   "execution_count": 79,
   "metadata": {},
   "outputs": [
    {
     "data": {
      "application/vnd.jupyter.widget-view+json": {
       "model_id": "00c79366caae4965bd720dd366772475",
       "version_major": 2,
       "version_minor": 0
      },
      "text/plain": [
       "VBox()"
      ]
     },
     "metadata": {},
     "output_type": "display_data"
    },
    {
     "data": {
      "application/vnd.jupyter.widget-view+json": {
       "model_id": "",
       "version_major": 2,
       "version_minor": 0
      },
      "text/plain": [
       "FloatProgress(value=0.0, bar_style='info', description='Progress:', layout=Layout(height='25px', width='50%'),…"
      ]
     },
     "metadata": {},
     "output_type": "display_data"
    }
   ],
   "source": [
    "# ZD13 $ Valeu\n",
    "df_wallet=df_wallet.withColumn(\"ZD13\", col(\"LIST_PRICE_ZD38\")*(col(\"ZD13_P100\")))\n",
    "df_wallet=df_wallet.withColumn(\"LIST_PRICE_ZD13\", col(\"LIST_PRICE_ZD38\")+col(\"ZD13\"))"
   ]
  },
  {
   "cell_type": "code",
   "execution_count": 80,
   "metadata": {},
   "outputs": [
    {
     "data": {
      "application/vnd.jupyter.widget-view+json": {
       "model_id": "07ba7925f41946debe2eca5b627cdb53",
       "version_major": 2,
       "version_minor": 0
      },
      "text/plain": [
       "VBox()"
      ]
     },
     "metadata": {},
     "output_type": "display_data"
    },
    {
     "data": {
      "application/vnd.jupyter.widget-view+json": {
       "model_id": "",
       "version_major": 2,
       "version_minor": 0
      },
      "text/plain": [
       "FloatProgress(value=0.0, bar_style='info', description='Progress:', layout=Layout(height='25px', width='50%'),…"
      ]
     },
     "metadata": {},
     "output_type": "display_data"
    }
   ],
   "source": [
    "# ZD14 $ Valeu\n",
    "df_wallet=df_wallet.withColumn(\"ZD14_P100\", (col(\"ZD14\")/col(\"LIST_PRICE_ZD13\")).cast(\"float\"))\n",
    "df_wallet=df_wallet.withColumn(\"LIST_PRICE_ZD14\", col(\"LIST_PRICE_ZD13\")+col(\"ZD14\"))"
   ]
  },
  {
   "cell_type": "code",
   "execution_count": 81,
   "metadata": {},
   "outputs": [
    {
     "data": {
      "application/vnd.jupyter.widget-view+json": {
       "model_id": "3c14bcf376b14e948b274165edbce22f",
       "version_major": 2,
       "version_minor": 0
      },
      "text/plain": [
       "VBox()"
      ]
     },
     "metadata": {},
     "output_type": "display_data"
    },
    {
     "data": {
      "application/vnd.jupyter.widget-view+json": {
       "model_id": "",
       "version_major": 2,
       "version_minor": 0
      },
      "text/plain": [
       "FloatProgress(value=0.0, bar_style='info', description='Progress:', layout=Layout(height='25px', width='50%'),…"
      ]
     },
     "metadata": {},
     "output_type": "display_data"
    }
   ],
   "source": [
    "# ZSU2 $ Valeu\n",
    "df_wallet=df_wallet.withColumn(\"ZSU2\", col(\"LIST_PRICE_ZD14\")*(col(\"ZSU2_P100\")))\n",
    "df_wallet=df_wallet.withColumn(\"LIST_PRICE_ZSU2\", col(\"LIST_PRICE_ZD14\")+col(\"ZSU2\"))"
   ]
  },
  {
   "cell_type": "code",
   "execution_count": 82,
   "metadata": {},
   "outputs": [
    {
     "data": {
      "application/vnd.jupyter.widget-view+json": {
       "model_id": "2299b622e7344d2f948dd38c426a5f8a",
       "version_major": 2,
       "version_minor": 0
      },
      "text/plain": [
       "VBox()"
      ]
     },
     "metadata": {},
     "output_type": "display_data"
    },
    {
     "data": {
      "application/vnd.jupyter.widget-view+json": {
       "model_id": "",
       "version_major": 2,
       "version_minor": 0
      },
      "text/plain": [
       "FloatProgress(value=0.0, bar_style='info', description='Progress:', layout=Layout(height='25px', width='50%'),…"
      ]
     },
     "metadata": {},
     "output_type": "display_data"
    }
   ],
   "source": [
    "# ZEAF $ Valeu\n",
    "df_wallet=df_wallet.withColumn(\"ZEAF\", col(\"LIST_PRICE_ZSU2\")*(col(\"ZEAF_P100\")))\n",
    "df_wallet=df_wallet.withColumn(\"LIST_PRICE_ZEAF\", col(\"LIST_PRICE_ZSU2\")+col(\"ZEAF\"))"
   ]
  },
  {
   "cell_type": "code",
   "execution_count": 83,
   "metadata": {},
   "outputs": [
    {
     "data": {
      "application/vnd.jupyter.widget-view+json": {
       "model_id": "58a1b05052f047bab91fd6eee9b358fe",
       "version_major": 2,
       "version_minor": 0
      },
      "text/plain": [
       "VBox()"
      ]
     },
     "metadata": {},
     "output_type": "display_data"
    },
    {
     "data": {
      "application/vnd.jupyter.widget-view+json": {
       "model_id": "",
       "version_major": 2,
       "version_minor": 0
      },
      "text/plain": [
       "FloatProgress(value=0.0, bar_style='info', description='Progress:', layout=Layout(height='25px', width='50%'),…"
      ]
     },
     "metadata": {},
     "output_type": "display_data"
    }
   ],
   "source": [
    "# Creating \"PO\" column\n",
    "df_wallet=df_wallet.withColumn(\"PO\", col(\"RBV\")\n",
    "                                     -abs(col(\"ZSU2\")) \n",
    "                                     +abs(col(\"ZD13\"))\n",
    "                                     +abs(col(\"ZD38\"))\n",
    "                                     +abs(col(\"ZD06\"))\n",
    "                                     +abs(col(\"ZD14\")))\\"
   ]
  },
  {
   "cell_type": "code",
   "execution_count": 84,
   "metadata": {},
   "outputs": [
    {
     "data": {
      "application/vnd.jupyter.widget-view+json": {
       "model_id": "2d8b0493b4bf44ee8923c11d93d70913",
       "version_major": 2,
       "version_minor": 0
      },
      "text/plain": [
       "VBox()"
      ]
     },
     "metadata": {},
     "output_type": "display_data"
    },
    {
     "data": {
      "application/vnd.jupyter.widget-view+json": {
       "model_id": "",
       "version_major": 2,
       "version_minor": 0
      },
      "text/plain": [
       "FloatProgress(value=0.0, bar_style='info', description='Progress:', layout=Layout(height='25px', width='50%'),…"
      ]
     },
     "metadata": {},
     "output_type": "display_data"
    }
   ],
   "source": [
    "# Creating \"ALCADA\" column\n",
    "df_wallet=df_wallet.withColumn(\"ALCADA\", (col(\"LIST_PRICE_ZD05\")*0.02).cast('float'))\\"
   ]
  },
  {
   "cell_type": "code",
   "execution_count": 85,
   "metadata": {},
   "outputs": [
    {
     "data": {
      "application/vnd.jupyter.widget-view+json": {
       "model_id": "f10082135b0b44c0ab92c482ce548389",
       "version_major": 2,
       "version_minor": 0
      },
      "text/plain": [
       "VBox()"
      ]
     },
     "metadata": {},
     "output_type": "display_data"
    },
    {
     "data": {
      "application/vnd.jupyter.widget-view+json": {
       "model_id": "",
       "version_major": 2,
       "version_minor": 0
      },
      "text/plain": [
       "FloatProgress(value=0.0, bar_style='info', description='Progress:', layout=Layout(height='25px', width='50%'),…"
      ]
     },
     "metadata": {},
     "output_type": "display_data"
    }
   ],
   "source": [
    "# Creating \"DESVIO_POL\" column\n",
    "df_wallet = df_wallet.withColumn(\"DESVIO_POL\", lit(0))\\"
   ]
  },
  {
   "cell_type": "code",
   "execution_count": 86,
   "metadata": {},
   "outputs": [
    {
     "data": {
      "application/vnd.jupyter.widget-view+json": {
       "model_id": "9650eac96c09465ba1b84ccf5ad0f4ed",
       "version_major": 2,
       "version_minor": 0
      },
      "text/plain": [
       "VBox()"
      ]
     },
     "metadata": {},
     "output_type": "display_data"
    },
    {
     "data": {
      "application/vnd.jupyter.widget-view+json": {
       "model_id": "",
       "version_major": 2,
       "version_minor": 0
      },
      "text/plain": [
       "FloatProgress(value=0.0, bar_style='info', description='Progress:', layout=Layout(height='25px', width='50%'),…"
      ]
     },
     "metadata": {},
     "output_type": "display_data"
    }
   ],
   "source": [
    "# Creating \"DESVIO_POL_REAIS\" column\n",
    "df_wallet = df_wallet.withColumn(\"DESVIO_POL_REAIS\", lit(0))\\"
   ]
  },
  {
   "cell_type": "code",
   "execution_count": 87,
   "metadata": {},
   "outputs": [
    {
     "data": {
      "application/vnd.jupyter.widget-view+json": {
       "model_id": "e669b9effa3e472594af7ee562417763",
       "version_major": 2,
       "version_minor": 0
      },
      "text/plain": [
       "VBox()"
      ]
     },
     "metadata": {},
     "output_type": "display_data"
    },
    {
     "data": {
      "application/vnd.jupyter.widget-view+json": {
       "model_id": "",
       "version_major": 2,
       "version_minor": 0
      },
      "text/plain": [
       "FloatProgress(value=0.0, bar_style='info', description='Progress:', layout=Layout(height='25px', width='50%'),…"
      ]
     },
     "metadata": {},
     "output_type": "display_data"
    }
   ],
   "source": [
    "df_wallet = df_wallet.filter(df_wallet.GPD_DESC.like('%BR-PERFIS ESTRUTURAIS%') |\n",
    "                        df_wallet.GPD_DESC.like('%BR-CA50%') |\n",
    "                        df_wallet.GPD_DESC.like('%BR-CA60%') |\n",
    "                        df_wallet.GPD_DESC.like('%BR-RECOZIDO%') |\n",
    "                        df_wallet.GPD_DESC.like('%BR-TEL TUBO%') |\n",
    "                        df_wallet.GPD_DESC.like('%BR-TELA P/ CONCRETO%') |\n",
    "                        df_wallet.GPD_DESC.like('%BR-CORTE E DOBR%') |\n",
    "                        df_wallet.GPD_DESC.like('%BR-CONSTRUCAO CIVIL%') |\n",
    "                        df_wallet.GPD_DESC.like('%BR-CA25%') |\n",
    "                        df_wallet.GPD_DESC.like('%BR-PERFIS COMERCIAIS%') |\n",
    "                        df_wallet.GPD_DESC.like('%BR-BTG%') |\n",
    "                        df_wallet.GPD_DESC.like('%BR-MALHA POP%') |\n",
    "                        df_wallet.GPD_DESC.like('%BR-TELA COLUNA%') |\n",
    "                        df_wallet.GPD_DESC.like('%BR-TRELIÇA%') |\n",
    "                        df_wallet.GPD_DESC.like('%BR-B.TREFILADA%') |\n",
    "                        df_wallet.GPD_DESC.like('%BR-OVALADO%') |\n",
    "                        df_wallet.GPD_DESC.like('%BR-GALVANIZADO%') |\n",
    "                        df_wallet.GPD_DESC.like('%BR-BARRAS COMERCIAIS%') |\n",
    "                        df_wallet.GPD_DESC.like('%BR-CAIXOTARIA%') |\n",
    "                        df_wallet.GPD_DESC.like('%BR-ARTEFATOS%') |\n",
    "                        df_wallet.GPD_DESC.like('%BR-FARPADO%') |\n",
    "                        df_wallet.GPD_DESC.like('%BR-ELETRODO%') |\n",
    "                        df_wallet.GPD_DESC.like('%BR-SOLDA - MIG%') |\n",
    "                        df_wallet.GPD_DESC.like('%BR-CANTON A572%') |\n",
    "                        df_wallet.GPD_DESC.like('%BR-GGS%') |\n",
    "                        df_wallet.GPD_DESC.like('%BR-ARMADO%') |\n",
    "                        df_wallet.GPD_DESC.like('%BR-CORDOALHA%') |\n",
    "                        df_wallet.GPD_DESC.like('%BR-ESTACA PRANCHA%') |\n",
    "                        df_wallet.GPD_DESC.like('%BR-ARAME PREGO%') |\n",
    "                        df_wallet.GPD_DESC.like('%BR-CABEÇA DUPLA%') |\n",
    "                        df_wallet.GPD_DESC.like('%BR-CORDOALHA AGRO%') |\n",
    "                        df_wallet.GPD_DESC.like('%BR-GRAMPO%') |\n",
    "                        df_wallet.GPD_DESC.like('%BR-COBREADOS%') |\n",
    "                        df_wallet.GPD_DESC.like('%BR-CHAPA LQ%') |\n",
    "                        df_wallet.GPD_DESC.like('%BR-UDC%') |\n",
    "                        df_wallet.GPD_DESC.like('%BR-CHAPA ZN%') |\n",
    "                        df_wallet.GPD_DESC.like('%BR-TELHA AZ%') |\n",
    "                        df_wallet.GPD_DESC.like('%BR-TUBO ZN%') |\n",
    "                        df_wallet.GPD_DESC.like('%BR-MARCENARIA%') |\n",
    "                        df_wallet.GPD_DESC.like('%BR-PREGOES%') |\n",
    "                        df_wallet.GPD_DESC.like('%BR-TELHEIRO%') |\n",
    "                        df_wallet.GPD_DESC.like('%BR-COLUNA%') |\n",
    "                        df_wallet.GPD_DESC.like('%BR-ESTRIBO%') |\n",
    "                        df_wallet.GPD_DESC.like('%BR-ACESSORIOS%') |\n",
    "                        df_wallet.GPD_DESC.like('%BR-CHAPA LCG%') |\n",
    "                        df_wallet.GPD_DESC.like('%BR-CHAPA LF%') |\n",
    "                        df_wallet.GPD_DESC.like('%BR-TUBO LF%') |\n",
    "                        df_wallet.GPD_DESC.like('%BR-CHAPA LQ PISO%') |\n",
    "                        df_wallet.GPD_DESC.like('%BR-BOBININHA%') |\n",
    "                        df_wallet.GPD_DESC.like('%BR-ESPECIAIS%') |\n",
    "                        df_wallet.GPD_DESC.like('%BR-BOBINA LQ%') |\n",
    "                        df_wallet.GPD_DESC.like('%BR-FITA LQ%') |\n",
    "                        df_wallet.GPD_DESC.like('%BR-BOBINA AZ%') |\n",
    "                        df_wallet.GPD_DESC.like('%BR-AÇOS ESPECIAIS%') |\n",
    "                        df_wallet.GPD_DESC.like('%BR-PARAFUSOS%') |\n",
    "                        df_wallet.GPD_DESC.like('%BR-CIMENTO%') |\n",
    "                        df_wallet.GPD_DESC.like('%BR-TUBO LQ%') |\n",
    "                        df_wallet.GPD_DESC.like('%BR-TELHA ZN%') |\n",
    "                        df_wallet.GPD_DESC.like('%BR-BTC GLV CP%') |\n",
    "                        df_wallet.GPD_DESC.like('%BR-BOBINA ZN%') |\n",
    "                        df_wallet.GPD_DESC.like('%BR-S-BARRA LAMINADA MÉDIA%') |\n",
    "                        df_wallet.GPD_DESC.like('%BR-S-BARRA LAMINADA PESADA%') |\n",
    "                        df_wallet.GPD_DESC.like('%BR-FITA LF%') |\n",
    "                        df_wallet.GPD_DESC.like('%BR-FITA AZ%') |\n",
    "                        df_wallet.GPD_DESC.like('%BR-S-BARRA LAMINADA LEVE%') |\n",
    "                        df_wallet.GPD_DESC.like('%BR-ALAMBRADO%') |\n",
    "                        df_wallet.GPD_DESC.like('%BR-SAPATA%') |\n",
    "                        df_wallet.GPD_DESC.like('%BR-MOURÃO%') |\n",
    "                        df_wallet.GPD_DESC.like('%BR-ATC CLARO IND%') |\n",
    "                        df_wallet.GPD_DESC.like('%BR-POLIDO%') |\n",
    "                        df_wallet.GPD_DESC.like('%BR-PERFIL BENEFICIADO%') |\n",
    "                        df_wallet.GPD_DESC.like('%BR-BOBINA LF%') |\n",
    "                        df_wallet.GPD_DESC.like('%BR-S-BARRA CTT%') |\n",
    "                        df_wallet.GPD_DESC.like('%BR-CHAPA AZ%') |\n",
    "                        df_wallet.GPD_DESC.like('%BR-FITA ZN%') |\n",
    "                        df_wallet.GPD_DESC.like('%BR-LDA%') |\n",
    "                        df_wallet.GPD_DESC.like('%BR-PIATINA CLARA%') |\n",
    "                        df_wallet.GPD_DESC.like('%BR-S-BARRA DESCASCADA%') |\n",
    "                        df_wallet.GPD_DESC.like('%BR-MESH%') |\n",
    "                        df_wallet.GPD_DESC.like('%BR-S-BARRA FORJADA FINA%') |\n",
    "                        df_wallet.GPD_DESC.like('%BR-S-BARRA RETIFICADA%') |\n",
    "                        df_wallet.GPD_DESC.like('%BR-S-BARRA TREFILADA%') |\n",
    "                        df_wallet.GPD_DESC.like('%BR-PLACA%') |\n",
    "                        df_wallet.GPD_DESC.like('%BR-COIL%') |\n",
    "                        df_wallet.GPD_DESC.like('%BR-S-FERRAMENTA%') |\n",
    "                        df_wallet.GPD_DESC.like('%BR-S-FIO MÁQUINA STT%') |\n",
    "                        df_wallet.GPD_DESC.like('%BR-ATC CLARO MOL COL%') |\n",
    "                        df_wallet.GPD_DESC.like('%BR-ATC GLV CP%') |\n",
    "                        df_wallet.GPD_DESC.like('%BR-B.CHATA LONGARINA%') |\n",
    "                        df_wallet.GPD_DESC.like('%BR-BT FORJARIA BLOCOS%') |\n",
    "                        df_wallet.GPD_DESC.like('%BR-TARUGO%') |\n",
    "                        df_wallet.GPD_DESC.like('%BR-DRAWING%') |\n",
    "                        df_wallet.GPD_DESC.like('%BR-ATC CLARO ENF ALG%') |\n",
    "                        df_wallet.GPD_DESC.like('%BR-PIATINA GLV%') |\n",
    "                        df_wallet.GPD_DESC.like('%BR-PERFIL DORMENTE%') |\n",
    "                        df_wallet.GPD_DESC.like('%BR-ATC%') |\n",
    "                        df_wallet.GPD_DESC.like('%BR-CHQ%') |\n",
    "                        df_wallet.GPD_DESC.like('%BR-ALMA DE ELETRODO%') |\n",
    "                        df_wallet.GPD_DESC.like('%BR-FIO MAQUINA%') |\n",
    "                        df_wallet.GPD_DESC.like('%BR-CHQ BORO%') |\n",
    "                        df_wallet.GPD_DESC.like('%BR-PERFIL GUIA ELEV%')| \n",
    "                        df_wallet.GPD_DESC.isNull())"
   ]
  },
  {
   "cell_type": "code",
   "execution_count": 88,
   "metadata": {},
   "outputs": [
    {
     "data": {
      "application/vnd.jupyter.widget-view+json": {
       "model_id": "47cf04e740ed4584a99bc5e04e624802",
       "version_major": 2,
       "version_minor": 0
      },
      "text/plain": [
       "VBox()"
      ]
     },
     "metadata": {},
     "output_type": "display_data"
    },
    {
     "data": {
      "application/vnd.jupyter.widget-view+json": {
       "model_id": "",
       "version_major": 2,
       "version_minor": 0
      },
      "text/plain": [
       "FloatProgress(value=0.0, bar_style='info', description='Progress:', layout=Layout(height='25px', width='50%'),…"
      ]
     },
     "metadata": {},
     "output_type": "display_data"
    }
   ],
   "source": [
    "df_wallet = df_wallet.filter(df_wallet.GPM_DESC.like('%PERFIS_ESTRUTURAIS%') |\n",
    "                        df_wallet.GPM_DESC.like('%VERGALHAO%') |\n",
    "                        df_wallet.GPM_DESC.like('%AMPLIADOS%') |\n",
    "                        df_wallet.GPM_DESC.like('%CORTE_DOBRA%') |\n",
    "                        df_wallet.GPM_DESC.like('%PREGOS%') |\n",
    "                        df_wallet.GPM_DESC.like('%B&P%') |\n",
    "                        df_wallet.GPM_DESC.like('%ARAMES_AGRO%') |\n",
    "                        df_wallet.GPM_DESC.like('%ARAMES_IND%') |\n",
    "                        df_wallet.GPM_DESC.like('%PLANOS_LQ%') |\n",
    "                        df_wallet.GPM_DESC.like('%PLANOS_REVESTIDOS%') |\n",
    "                        df_wallet.GPM_DESC.like('%PLANOS_LF%') |\n",
    "                        df_wallet.GPM_DESC.like('%PLANOS_LCG%') |\n",
    "                        df_wallet.GPM_DESC.like('%FIO_MAQUINA%') |\n",
    "                        df_wallet.GPM_DESC.like('%BT_FORJARIA%') |\n",
    "                        df_wallet.GPM_DESC.like('%PLACAS%') |\n",
    "                        df_wallet.GPM_DESC.like('%TARUGO%') | \n",
    "                        df_wallet.GPM_DESC.isNull())"
   ]
  },
  {
   "cell_type": "code",
   "execution_count": 90,
   "metadata": {},
   "outputs": [
    {
     "data": {
      "application/vnd.jupyter.widget-view+json": {
       "model_id": "ab4fbc8a15404d59b84ba086f781e902",
       "version_major": 2,
       "version_minor": 0
      },
      "text/plain": [
       "VBox()"
      ]
     },
     "metadata": {},
     "output_type": "display_data"
    },
    {
     "data": {
      "application/vnd.jupyter.widget-view+json": {
       "model_id": "",
       "version_major": 2,
       "version_minor": 0
      },
      "text/plain": [
       "FloatProgress(value=0.0, bar_style='info', description='Progress:', layout=Layout(height='25px', width='50%'),…"
      ]
     },
     "metadata": {},
     "output_type": "display_data"
    }
   ],
   "source": [
    "# Creating \"BRANCH\" Column\n",
    "df_wallet = df_wallet.join(df_region, (remove_some_accents(upper(replace_some_hifen(replace_some_space(replace_some_apostrophe(df_wallet[\"ISSUING_CITY\"]))))) == replace_some_hifen(replace_some_space(replace_some_apostrophe(df_region[\"UPPER_NAME\"])))) &\n",
    "                                      (trim(df_wallet[\"ISSUING_STATE\"]) == trim(df_region[\"IBGE_UF_ACRONYMS\"])), how='left')\\\n",
    "                     .drop(\"IBGE_UF_ACRONYMS\")\\\n",
    "                     .drop(\"UPPER_NAME\")\\"
   ]
  },
  {
   "cell_type": "code",
   "execution_count": 91,
   "metadata": {},
   "outputs": [
    {
     "data": {
      "application/vnd.jupyter.widget-view+json": {
       "model_id": "84137d70e8d746d188183fff90eeedf8",
       "version_major": 2,
       "version_minor": 0
      },
      "text/plain": [
       "VBox()"
      ]
     },
     "metadata": {},
     "output_type": "display_data"
    },
    {
     "data": {
      "application/vnd.jupyter.widget-view+json": {
       "model_id": "",
       "version_major": 2,
       "version_minor": 0
      },
      "text/plain": [
       "FloatProgress(value=0.0, bar_style='info', description='Progress:', layout=Layout(height='25px', width='50%'),…"
      ]
     },
     "metadata": {},
     "output_type": "display_data"
    }
   ],
   "source": [
    "df_wallet.write.partitionBy(144);\n",
    "df_wallet = df_wallet.repartition(144);"
   ]
  },
  {
   "cell_type": "code",
   "execution_count": 92,
   "metadata": {},
   "outputs": [
    {
     "data": {
      "application/vnd.jupyter.widget-view+json": {
       "model_id": "15f66b7a63824e62b78dca5dace95cd9",
       "version_major": 2,
       "version_minor": 0
      },
      "text/plain": [
       "VBox()"
      ]
     },
     "metadata": {},
     "output_type": "display_data"
    },
    {
     "data": {
      "application/vnd.jupyter.widget-view+json": {
       "model_id": "",
       "version_major": 2,
       "version_minor": 0
      },
      "text/plain": [
       "FloatProgress(value=0.0, bar_style='info', description='Progress:', layout=Layout(height='25px', width='50%'),…"
      ]
     },
     "metadata": {},
     "output_type": "display_data"
    },
    {
     "name": "stdout",
     "output_type": "stream",
     "text": [
      "DataFrame[SALES_ORG_COD: string, ISSUING_STATE: string, CUSTOMER_COD: string, CUSTOMER_DESC: string, CUSTOMER_GROUP: string, SALES_ORDER_ITEM: string, SALES_OFFICE_COD: string, ISSUING_CITY: string, MATERIAL_COD: int, DELIVERED_QUANTITY: float, PRICE_DATE: string, SALES_GROUP_COD: string, REQ_QTT_CONV: float, QUANTITY_WITH_DELIVERY: string, AUTO_ADDITION_P100: float, ZD01_%: float, ZD02_P100: float, ZD03_P100: float, ZD04_P100: float, ZD05_P100: float, ZD06_P100: float, ZP01: float, ZD13_P100: float, ZD14: float, ZSU2_P100: float, ZEAF_P100: float, CONFIRMED_ORDER_DATE: string, SALES_ORDER_DATE: string, ISSUING_DATE: string, ORDER_STATUS: string, SALES_ORDER_NUMBER: string, SALES_GROUP_DESC: string, ORDER_TYPE_COD: string, BILLING_DATE: string, ICMI: float, ZD38: float, ZEB1: float, BX41: float, GPD_DESC: string, GPD_COD: string, GPM_DESC: string, GPM_COD: string, MATERIAL_DESC: string, RLV: string, RBV: double, TOTAL_TAXES: string, REQUESTED_QUANTITY: float, QUANTITY_TON: float, PRACTICED_PRICE: float, LIST_PRICE: float, ZD01: float, LIST_PRICE_ZD01: float, ZD02: float, LIST_PRICE_ZD02: float, ZD03: float, LIST_PRICE_ZD03: float, ZD04: float, LIST_PRICE_ZD04: float, ZD05: float, LIST_PRICE_ZD05: float, ZD06: float, LIST_PRICE_ZD06: float, LIST_PRICE_ZD38: float, ZD13: float, LIST_PRICE_ZD13: float, ZD14_P100: float, LIST_PRICE_ZD14: float, ZSU2: float, LIST_PRICE_ZSU2: float, ZEAF: float, LIST_PRICE_ZEAF: float, PO: double, ALCADA: float, DESVIO_POL: int, DESVIO_POL_REAIS: int, BRANCH: string]"
     ]
    }
   ],
   "source": [
    "df_wallet.persist(pyspark.StorageLevel.MEMORY_ONLY)"
   ]
  },
  {
   "cell_type": "code",
   "execution_count": 93,
   "metadata": {},
   "outputs": [
    {
     "data": {
      "application/vnd.jupyter.widget-view+json": {
       "model_id": "ca873901ad9b4977b81a6734a1760919",
       "version_major": 2,
       "version_minor": 0
      },
      "text/plain": [
       "VBox()"
      ]
     },
     "metadata": {},
     "output_type": "display_data"
    },
    {
     "data": {
      "application/vnd.jupyter.widget-view+json": {
       "model_id": "",
       "version_major": 2,
       "version_minor": 0
      },
      "text/plain": [
       "FloatProgress(value=0.0, bar_style='info', description='Progress:', layout=Layout(height='25px', width='50%'),…"
      ]
     },
     "metadata": {},
     "output_type": "display_data"
    }
   ],
   "source": [
    "df_wallet = df_wallet.withColumn(\"BRANCH\", when(df_wallet.BRANCH.isNull(), lit(\"Filial Não Encontrada\"))\\\n",
    "                                            .otherwise(df_wallet.BRANCH))\\\n",
    "                     .withColumn(\"MANUFACTURE\", lit(\"Gerdau Carteira\"))\\\n",
    "                     .withColumn(\"APPROVED\", lit(\"None\"))\\"
   ]
  },
  {
   "cell_type": "code",
   "execution_count": 94,
   "metadata": {},
   "outputs": [
    {
     "data": {
      "application/vnd.jupyter.widget-view+json": {
       "model_id": "2b8d7ff69ff74bb6be0c04e91b7c7ce4",
       "version_major": 2,
       "version_minor": 0
      },
      "text/plain": [
       "VBox()"
      ]
     },
     "metadata": {},
     "output_type": "display_data"
    },
    {
     "data": {
      "application/vnd.jupyter.widget-view+json": {
       "model_id": "",
       "version_major": 2,
       "version_minor": 0
      },
      "text/plain": [
       "FloatProgress(value=0.0, bar_style='info', description='Progress:', layout=Layout(height='25px', width='50%'),…"
      ]
     },
     "metadata": {},
     "output_type": "display_data"
    }
   ],
   "source": [
    "df_wallet = df_wallet.withColumn(\"TYPE_PRICE\", when(df_wallet[\"SALES_ORG_COD\"].like(\"%CC%\")|\n",
    "                                                    df_wallet[\"SALES_ORG_COD\"].like(\"%IN%\"),\"Usina-Mercado\")\\\n",
    "                                            .otherwise(when(df_wallet[\"SALES_ORG_COD\"].like(\"%CG%\"),\"Distribuição-Mercado\")\\\n",
    "                                                      .otherwise(\"Usina-Distribuição\")))\\"
   ]
  },
  {
   "cell_type": "code",
   "execution_count": 95,
   "metadata": {},
   "outputs": [
    {
     "data": {
      "application/vnd.jupyter.widget-view+json": {
       "model_id": "1f137a43e8f1446f88dabe984f175010",
       "version_major": 2,
       "version_minor": 0
      },
      "text/plain": [
       "VBox()"
      ]
     },
     "metadata": {},
     "output_type": "display_data"
    },
    {
     "data": {
      "application/vnd.jupyter.widget-view+json": {
       "model_id": "",
       "version_major": 2,
       "version_minor": 0
      },
      "text/plain": [
       "FloatProgress(value=0.0, bar_style='info', description='Progress:', layout=Layout(height='25px', width='50%'),…"
      ]
     },
     "metadata": {},
     "output_type": "display_data"
    }
   ],
   "source": [
    "df_wallet = df_wallet.withColumn(\"TYPE_PRICE_ADJUST\", when(df_wallet[\"TYPE_PRICE\"].like(\"%Usina-Mercado%\"),\"Sell-in 1: Usina-Construtora/Industria\")\\\n",
    "                                                  .otherwise(when(df_wallet[\"TYPE_PRICE\"].like(\"%Usina-Distribuição%\"),\"Sell-in 1: Usina-Distribuição\")\\\n",
    "                                                             .otherwise(when(df_wallet[\"TYPE_PRICE\"].like(\"%Distribuição-Mercado%\"),\"Sell-in 2: Distribuição-Revenda\")\\\n",
    "                                                                        .otherwise(\"Sell Out: Revenda-Consumidor\"))))\\\n",
    "                    .drop(\"TYPE_PRICE\")"
   ]
  },
  {
   "cell_type": "code",
   "execution_count": 96,
   "metadata": {},
   "outputs": [
    {
     "data": {
      "application/vnd.jupyter.widget-view+json": {
       "model_id": "df0808ca566f45e8869e317101651961",
       "version_major": 2,
       "version_minor": 0
      },
      "text/plain": [
       "VBox()"
      ]
     },
     "metadata": {},
     "output_type": "display_data"
    },
    {
     "data": {
      "application/vnd.jupyter.widget-view+json": {
       "model_id": "",
       "version_major": 2,
       "version_minor": 0
      },
      "text/plain": [
       "FloatProgress(value=0.0, bar_style='info', description='Progress:', layout=Layout(height='25px', width='50%'),…"
      ]
     },
     "metadata": {},
     "output_type": "display_data"
    }
   ],
   "source": [
    "# Creating \"SALES_OFFICE_DESC\" Column\n",
    "df_wallet = df_wallet.join(df_hana_office, trim(df_wallet[\"SALES_OFFICE_COD\"]) == trim(df_hana_office[\"SALES_OFFICE_COD_drop\"]), how='left')\\\n",
    "                     .drop(\"SALES_OFFICE_COD_drop\")"
   ]
  },
  {
   "cell_type": "code",
   "execution_count": 97,
   "metadata": {},
   "outputs": [
    {
     "data": {
      "application/vnd.jupyter.widget-view+json": {
       "model_id": "598258226c30468ba8afb540c6c3ed1e",
       "version_major": 2,
       "version_minor": 0
      },
      "text/plain": [
       "VBox()"
      ]
     },
     "metadata": {},
     "output_type": "display_data"
    },
    {
     "data": {
      "application/vnd.jupyter.widget-view+json": {
       "model_id": "",
       "version_major": 2,
       "version_minor": 0
      },
      "text/plain": [
       "FloatProgress(value=0.0, bar_style='info', description='Progress:', layout=Layout(height='25px', width='50%'),…"
      ]
     },
     "metadata": {},
     "output_type": "display_data"
    }
   ],
   "source": [
    "df_wallet.write.partitionBy(144);\n",
    "df_wallet = df_wallet.repartition(144);"
   ]
  },
  {
   "cell_type": "code",
   "execution_count": 98,
   "metadata": {},
   "outputs": [
    {
     "data": {
      "application/vnd.jupyter.widget-view+json": {
       "model_id": "7c10d97f838a4dedbb54022a5dd837ad",
       "version_major": 2,
       "version_minor": 0
      },
      "text/plain": [
       "VBox()"
      ]
     },
     "metadata": {},
     "output_type": "display_data"
    },
    {
     "data": {
      "application/vnd.jupyter.widget-view+json": {
       "model_id": "",
       "version_major": 2,
       "version_minor": 0
      },
      "text/plain": [
       "FloatProgress(value=0.0, bar_style='info', description='Progress:', layout=Layout(height='25px', width='50%'),…"
      ]
     },
     "metadata": {},
     "output_type": "display_data"
    },
    {
     "name": "stdout",
     "output_type": "stream",
     "text": [
      "DataFrame[SALES_ORG_COD: string, ISSUING_STATE: string, CUSTOMER_COD: string, CUSTOMER_DESC: string, CUSTOMER_GROUP: string, SALES_ORDER_ITEM: string, SALES_OFFICE_COD: string, ISSUING_CITY: string, MATERIAL_COD: int, DELIVERED_QUANTITY: float, PRICE_DATE: string, SALES_GROUP_COD: string, REQ_QTT_CONV: float, QUANTITY_WITH_DELIVERY: string, AUTO_ADDITION_P100: float, ZD01_%: float, ZD02_P100: float, ZD03_P100: float, ZD04_P100: float, ZD05_P100: float, ZD06_P100: float, ZP01: float, ZD13_P100: float, ZD14: float, ZSU2_P100: float, ZEAF_P100: float, CONFIRMED_ORDER_DATE: string, SALES_ORDER_DATE: string, ISSUING_DATE: string, ORDER_STATUS: string, SALES_ORDER_NUMBER: string, SALES_GROUP_DESC: string, ORDER_TYPE_COD: string, BILLING_DATE: string, ICMI: float, ZD38: float, ZEB1: float, BX41: float, GPD_DESC: string, GPD_COD: string, GPM_DESC: string, GPM_COD: string, MATERIAL_DESC: string, RLV: string, RBV: double, TOTAL_TAXES: string, REQUESTED_QUANTITY: float, QUANTITY_TON: float, PRACTICED_PRICE: float, LIST_PRICE: float, ZD01: float, LIST_PRICE_ZD01: float, ZD02: float, LIST_PRICE_ZD02: float, ZD03: float, LIST_PRICE_ZD03: float, ZD04: float, LIST_PRICE_ZD04: float, ZD05: float, LIST_PRICE_ZD05: float, ZD06: float, LIST_PRICE_ZD06: float, LIST_PRICE_ZD38: float, ZD13: float, LIST_PRICE_ZD13: float, ZD14_P100: float, LIST_PRICE_ZD14: float, ZSU2: float, LIST_PRICE_ZSU2: float, ZEAF: float, LIST_PRICE_ZEAF: float, PO: double, ALCADA: float, DESVIO_POL: int, DESVIO_POL_REAIS: int, BRANCH: string, MANUFACTURE: string, APPROVED: string, TYPE_PRICE_ADJUST: string, SALES_OFFICE_DESC: string]"
     ]
    }
   ],
   "source": [
    "df_wallet.persist(pyspark.StorageLevel.MEMORY_ONLY)"
   ]
  },
  {
   "cell_type": "code",
   "execution_count": 99,
   "metadata": {},
   "outputs": [
    {
     "data": {
      "application/vnd.jupyter.widget-view+json": {
       "model_id": "2ca3b11081f1462494c41b964f1afa47",
       "version_major": 2,
       "version_minor": 0
      },
      "text/plain": [
       "VBox()"
      ]
     },
     "metadata": {},
     "output_type": "display_data"
    },
    {
     "data": {
      "application/vnd.jupyter.widget-view+json": {
       "model_id": "",
       "version_major": 2,
       "version_minor": 0
      },
      "text/plain": [
       "FloatProgress(value=0.0, bar_style='info', description='Progress:', layout=Layout(height='25px', width='50%'),…"
      ]
     },
     "metadata": {},
     "output_type": "display_data"
    }
   ],
   "source": [
    "df_wallet = df_wallet.withColumn(\"SALES_OFFICE_DESC\", when(df_wallet.SALES_OFFICE_DESC.isNull(), lit(\"Descricao_Escritorio_Nao_Encontrado\")).otherwise(df_wallet.SALES_OFFICE_DESC))"
   ]
  },
  {
   "cell_type": "code",
   "execution_count": 100,
   "metadata": {},
   "outputs": [
    {
     "data": {
      "application/vnd.jupyter.widget-view+json": {
       "model_id": "1d6aa89d0a7b47ee9e2d7585454d7eef",
       "version_major": 2,
       "version_minor": 0
      },
      "text/plain": [
       "VBox()"
      ]
     },
     "metadata": {},
     "output_type": "display_data"
    },
    {
     "data": {
      "application/vnd.jupyter.widget-view+json": {
       "model_id": "",
       "version_major": 2,
       "version_minor": 0
      },
      "text/plain": [
       "FloatProgress(value=0.0, bar_style='info', description='Progress:', layout=Layout(height='25px', width='50%'),…"
      ]
     },
     "metadata": {},
     "output_type": "display_data"
    }
   ],
   "source": [
    "# Creating \"ORDER_TYPE_DESC\" Column\n",
    "df_wallet = df_wallet.join(df_hana_sales_doc, trim(df_wallet[\"ORDER_TYPE_COD\"])== trim(df_hana_sales_doc[\"ORDER_TYPE_COD_drop\"]), how='left')\\\n",
    "                     .drop(\"ORDER_TYPE_COD_drop\")"
   ]
  },
  {
   "cell_type": "code",
   "execution_count": 101,
   "metadata": {},
   "outputs": [
    {
     "data": {
      "application/vnd.jupyter.widget-view+json": {
       "model_id": "44dea33b79fc45d0adbe7243bbbee046",
       "version_major": 2,
       "version_minor": 0
      },
      "text/plain": [
       "VBox()"
      ]
     },
     "metadata": {},
     "output_type": "display_data"
    },
    {
     "data": {
      "application/vnd.jupyter.widget-view+json": {
       "model_id": "",
       "version_major": 2,
       "version_minor": 0
      },
      "text/plain": [
       "FloatProgress(value=0.0, bar_style='info', description='Progress:', layout=Layout(height='25px', width='50%'),…"
      ]
     },
     "metadata": {},
     "output_type": "display_data"
    }
   ],
   "source": [
    "df_wallet.write.partitionBy(144);\n",
    "df_wallet = df_wallet.repartition(144);"
   ]
  },
  {
   "cell_type": "code",
   "execution_count": 102,
   "metadata": {},
   "outputs": [
    {
     "data": {
      "application/vnd.jupyter.widget-view+json": {
       "model_id": "406c9bb942ce420394b531aed821b297",
       "version_major": 2,
       "version_minor": 0
      },
      "text/plain": [
       "VBox()"
      ]
     },
     "metadata": {},
     "output_type": "display_data"
    },
    {
     "data": {
      "application/vnd.jupyter.widget-view+json": {
       "model_id": "",
       "version_major": 2,
       "version_minor": 0
      },
      "text/plain": [
       "FloatProgress(value=0.0, bar_style='info', description='Progress:', layout=Layout(height='25px', width='50%'),…"
      ]
     },
     "metadata": {},
     "output_type": "display_data"
    },
    {
     "name": "stdout",
     "output_type": "stream",
     "text": [
      "DataFrame[SALES_ORG_COD: string, ISSUING_STATE: string, CUSTOMER_COD: string, CUSTOMER_DESC: string, CUSTOMER_GROUP: string, SALES_ORDER_ITEM: string, SALES_OFFICE_COD: string, ISSUING_CITY: string, MATERIAL_COD: int, DELIVERED_QUANTITY: float, PRICE_DATE: string, SALES_GROUP_COD: string, REQ_QTT_CONV: float, QUANTITY_WITH_DELIVERY: string, AUTO_ADDITION_P100: float, ZD01_%: float, ZD02_P100: float, ZD03_P100: float, ZD04_P100: float, ZD05_P100: float, ZD06_P100: float, ZP01: float, ZD13_P100: float, ZD14: float, ZSU2_P100: float, ZEAF_P100: float, CONFIRMED_ORDER_DATE: string, SALES_ORDER_DATE: string, ISSUING_DATE: string, ORDER_STATUS: string, SALES_ORDER_NUMBER: string, SALES_GROUP_DESC: string, ORDER_TYPE_COD: string, BILLING_DATE: string, ICMI: float, ZD38: float, ZEB1: float, BX41: float, GPD_DESC: string, GPD_COD: string, GPM_DESC: string, GPM_COD: string, MATERIAL_DESC: string, RLV: string, RBV: double, TOTAL_TAXES: string, REQUESTED_QUANTITY: float, QUANTITY_TON: float, PRACTICED_PRICE: float, LIST_PRICE: float, ZD01: float, LIST_PRICE_ZD01: float, ZD02: float, LIST_PRICE_ZD02: float, ZD03: float, LIST_PRICE_ZD03: float, ZD04: float, LIST_PRICE_ZD04: float, ZD05: float, LIST_PRICE_ZD05: float, ZD06: float, LIST_PRICE_ZD06: float, LIST_PRICE_ZD38: float, ZD13: float, LIST_PRICE_ZD13: float, ZD14_P100: float, LIST_PRICE_ZD14: float, ZSU2: float, LIST_PRICE_ZSU2: float, ZEAF: float, LIST_PRICE_ZEAF: float, PO: double, ALCADA: float, DESVIO_POL: int, DESVIO_POL_REAIS: int, BRANCH: string, MANUFACTURE: string, APPROVED: string, TYPE_PRICE_ADJUST: string, SALES_OFFICE_DESC: string, ORDER_TYPE_DESC: string]"
     ]
    }
   ],
   "source": [
    "df_wallet.persist(pyspark.StorageLevel.MEMORY_ONLY)"
   ]
  },
  {
   "cell_type": "code",
   "execution_count": 103,
   "metadata": {},
   "outputs": [
    {
     "data": {
      "application/vnd.jupyter.widget-view+json": {
       "model_id": "55af51628d4243698121b1d643d9055c",
       "version_major": 2,
       "version_minor": 0
      },
      "text/plain": [
       "VBox()"
      ]
     },
     "metadata": {},
     "output_type": "display_data"
    },
    {
     "data": {
      "application/vnd.jupyter.widget-view+json": {
       "model_id": "",
       "version_major": 2,
       "version_minor": 0
      },
      "text/plain": [
       "FloatProgress(value=0.0, bar_style='info', description='Progress:', layout=Layout(height='25px', width='50%'),…"
      ]
     },
     "metadata": {},
     "output_type": "display_data"
    }
   ],
   "source": [
    "df_wallet = df_wallet.withColumn(\"ORDER_TYPE_DESC\", when(df_wallet.ORDER_TYPE_DESC.isNull(), lit(\"Descricao_Order_Nao_Encontrado\")).otherwise(df_wallet.ORDER_TYPE_DESC))"
   ]
  },
  {
   "cell_type": "code",
   "execution_count": 104,
   "metadata": {},
   "outputs": [
    {
     "data": {
      "application/vnd.jupyter.widget-view+json": {
       "model_id": "f32d83effaa84795900504f34316ec23",
       "version_major": 2,
       "version_minor": 0
      },
      "text/plain": [
       "VBox()"
      ]
     },
     "metadata": {},
     "output_type": "display_data"
    },
    {
     "data": {
      "application/vnd.jupyter.widget-view+json": {
       "model_id": "",
       "version_major": 2,
       "version_minor": 0
      },
      "text/plain": [
       "FloatProgress(value=0.0, bar_style='info', description='Progress:', layout=Layout(height='25px', width='50%'),…"
      ]
     },
     "metadata": {},
     "output_type": "display_data"
    }
   ],
   "source": [
    "# Creating \"TOTAL_WALLET\" column\n",
    "df_wallet=df_wallet.withColumn(\"TOTAL_WALLET\", (abs(col(\"REQUESTED_QUANTITY\")) - abs(((col(\"DELIVERED_QUANTITY\")*col(\"REQUESTED_QUANTITY\"))/col(\"REQ_QTT_CONV\")))).cast(\"float\"))"
   ]
  },
  {
   "cell_type": "code",
   "execution_count": 105,
   "metadata": {},
   "outputs": [
    {
     "data": {
      "application/vnd.jupyter.widget-view+json": {
       "model_id": "f7fdcfc2b8f14abeb3a38b94d946cf55",
       "version_major": 2,
       "version_minor": 0
      },
      "text/plain": [
       "VBox()"
      ]
     },
     "metadata": {},
     "output_type": "display_data"
    },
    {
     "data": {
      "application/vnd.jupyter.widget-view+json": {
       "model_id": "",
       "version_major": 2,
       "version_minor": 0
      },
      "text/plain": [
       "FloatProgress(value=0.0, bar_style='info', description='Progress:', layout=Layout(height='25px', width='50%'),…"
      ]
     },
     "metadata": {},
     "output_type": "display_data"
    }
   ],
   "source": [
    "df_wallet = df_wallet.withColumn(\"RLV\", ((col(\"RLV\")/col(\"REQUESTED_QUANTITY\"))*col(\"TOTAL_WALLET\")))"
   ]
  },
  {
   "cell_type": "code",
   "execution_count": 106,
   "metadata": {},
   "outputs": [
    {
     "data": {
      "application/vnd.jupyter.widget-view+json": {
       "model_id": "4875f51a6931435586f7caa0bced4866",
       "version_major": 2,
       "version_minor": 0
      },
      "text/plain": [
       "VBox()"
      ]
     },
     "metadata": {},
     "output_type": "display_data"
    },
    {
     "data": {
      "application/vnd.jupyter.widget-view+json": {
       "model_id": "",
       "version_major": 2,
       "version_minor": 0
      },
      "text/plain": [
       "FloatProgress(value=0.0, bar_style='info', description='Progress:', layout=Layout(height='25px', width='50%'),…"
      ]
     },
     "metadata": {},
     "output_type": "display_data"
    }
   ],
   "source": [
    "df_wallet = df_wallet.withColumnRenamed(\"ZD13_P100\", \"ZD13_%\")"
   ]
  },
  {
   "cell_type": "code",
   "execution_count": 107,
   "metadata": {},
   "outputs": [
    {
     "data": {
      "application/vnd.jupyter.widget-view+json": {
       "model_id": "22d9d581d7ec4d2ba68e0391a4199808",
       "version_major": 2,
       "version_minor": 0
      },
      "text/plain": [
       "VBox()"
      ]
     },
     "metadata": {},
     "output_type": "display_data"
    },
    {
     "data": {
      "application/vnd.jupyter.widget-view+json": {
       "model_id": "",
       "version_major": 2,
       "version_minor": 0
      },
      "text/plain": [
       "FloatProgress(value=0.0, bar_style='info', description='Progress:', layout=Layout(height='25px', width='50%'),…"
      ]
     },
     "metadata": {},
     "output_type": "display_data"
    }
   ],
   "source": [
    "df_wallet = df_wallet.withColumn(\"ZD_TOTAL_P\", col(\"ZD06_P100\")+col(\"ZD13_%\")+col(\"ZD14_P100\"))\\\n",
    "                     .withColumn(\"ZD_TOTAL_D\", col(\"ZD06\")+col(\"ZD13\")+col(\"ZD14\"))\\"
   ]
  },
  {
   "cell_type": "code",
   "execution_count": 108,
   "metadata": {},
   "outputs": [
    {
     "data": {
      "application/vnd.jupyter.widget-view+json": {
       "model_id": "51419cc549de494582b2a8d9b6dbf538",
       "version_major": 2,
       "version_minor": 0
      },
      "text/plain": [
       "VBox()"
      ]
     },
     "metadata": {},
     "output_type": "display_data"
    },
    {
     "data": {
      "application/vnd.jupyter.widget-view+json": {
       "model_id": "",
       "version_major": 2,
       "version_minor": 0
      },
      "text/plain": [
       "FloatProgress(value=0.0, bar_style='info', description='Progress:', layout=Layout(height='25px', width='50%'),…"
      ]
     },
     "metadata": {},
     "output_type": "display_data"
    }
   ],
   "source": [
    "# Converting numeric(and text) columns to float \n",
    "for col_name in [\"AUTO_ADDITION_P100\"\n",
    "                ,\"ZD02_P100\"\n",
    "                ,\"ZD03_P100\"\n",
    "                ,\"ZD04_P100\"\n",
    "                ,\"ZD05_P100\"\n",
    "                ,\"ZD06_P100\"\n",
    "                ,\"ZP01\"\n",
    "                ,\"ZD14_P100\"\n",
    "                ,\"ZSU2_P100\"\n",
    "                ,\"ZEAF_P100\"]: \n",
    "    df_wallet = df_wallet.drop(col_name)"
   ]
  },
  {
   "cell_type": "code",
   "execution_count": 109,
   "metadata": {},
   "outputs": [
    {
     "data": {
      "application/vnd.jupyter.widget-view+json": {
       "model_id": "da2145491223410f816b74790e3c7c25",
       "version_major": 2,
       "version_minor": 0
      },
      "text/plain": [
       "VBox()"
      ]
     },
     "metadata": {},
     "output_type": "display_data"
    },
    {
     "data": {
      "application/vnd.jupyter.widget-view+json": {
       "model_id": "",
       "version_major": 2,
       "version_minor": 0
      },
      "text/plain": [
       "FloatProgress(value=0.0, bar_style='info', description='Progress:', layout=Layout(height='25px', width='50%'),…"
      ]
     },
     "metadata": {},
     "output_type": "display_data"
    }
   ],
   "source": [
    "df_wallet =df_wallet.withColumn(\"PRECO_PRAT_NORM\", (when(df_wallet.SALES_ORG_COD.like(\"%CG%\"),(col(\"RBV\") + \n",
    "                                                                                              abs(col(\"ZD05\")) - \n",
    "                                                                                              abs(col(\"ZEAF\")) + \n",
    "                                                                                              abs(col(\"BX41\"))))\\\n",
    "                                                    .otherwise(col(\"RBV\") + \n",
    "                                                               abs(col(\"ZD05\")) - \n",
    "                                                               abs(col(\"ZEAF\")))).cast(\"float\"))"
   ]
  },
  {
   "cell_type": "code",
   "execution_count": 110,
   "metadata": {},
   "outputs": [
    {
     "data": {
      "application/vnd.jupyter.widget-view+json": {
       "model_id": "35e2ec5b40184020904fd9f7dc015e34",
       "version_major": 2,
       "version_minor": 0
      },
      "text/plain": [
       "VBox()"
      ]
     },
     "metadata": {},
     "output_type": "display_data"
    },
    {
     "data": {
      "application/vnd.jupyter.widget-view+json": {
       "model_id": "",
       "version_major": 2,
       "version_minor": 0
      },
      "text/plain": [
       "FloatProgress(value=0.0, bar_style='info', description='Progress:', layout=Layout(height='25px', width='50%'),…"
      ]
     },
     "metadata": {},
     "output_type": "display_data"
    }
   ],
   "source": [
    "df_wallet =df_wallet.withColumn(\"PRECO_PRAT_NORM_KG\", (col(\"PRECO_PRAT_NORM\")/col(\"REQUESTED_QUANTITY\")))\\"
   ]
  },
  {
   "cell_type": "code",
   "execution_count": 111,
   "metadata": {},
   "outputs": [
    {
     "data": {
      "application/vnd.jupyter.widget-view+json": {
       "model_id": "3f1c6c66187642e88f3b2b5364a9b44c",
       "version_major": 2,
       "version_minor": 0
      },
      "text/plain": [
       "VBox()"
      ]
     },
     "metadata": {},
     "output_type": "display_data"
    },
    {
     "data": {
      "application/vnd.jupyter.widget-view+json": {
       "model_id": "",
       "version_major": 2,
       "version_minor": 0
      },
      "text/plain": [
       "FloatProgress(value=0.0, bar_style='info', description='Progress:', layout=Layout(height='25px', width='50%'),…"
      ]
     },
     "metadata": {},
     "output_type": "display_data"
    }
   ],
   "source": [
    "df_wallet =df_wallet.withColumn(\"PRECO_POLITICA\", when(df_wallet.SALES_ORG_COD.like(\"%CG%\"),(col(\"LIST_PRICE\") \n",
    "                                                                                            - abs(col(\"ZD01\")) \n",
    "                                                                                            - abs(col(\"ZD02\")) \n",
    "                                                                                            - abs(col(\"ZD03\"))\n",
    "                                                                                            + abs(col(\"BX41\")))\n",
    "                                                                                            - abs(col(\"ALCADA\")))\\\n",
    "                                                    .otherwise((col(\"LIST_PRICE\") \n",
    "                                                                - abs(col(\"ZD01\")) \n",
    "                                                                - abs(col(\"ZD02\")) \n",
    "                                                                - abs(col(\"ZD03\")))\n",
    "                                                                - abs(col(\"ALCADA\"))))\\"
   ]
  },
  {
   "cell_type": "code",
   "execution_count": 112,
   "metadata": {},
   "outputs": [
    {
     "data": {
      "application/vnd.jupyter.widget-view+json": {
       "model_id": "8da18223607d497b9417ed7b46136527",
       "version_major": 2,
       "version_minor": 0
      },
      "text/plain": [
       "VBox()"
      ]
     },
     "metadata": {},
     "output_type": "display_data"
    },
    {
     "data": {
      "application/vnd.jupyter.widget-view+json": {
       "model_id": "",
       "version_major": 2,
       "version_minor": 0
      },
      "text/plain": [
       "FloatProgress(value=0.0, bar_style='info', description='Progress:', layout=Layout(height='25px', width='50%'),…"
      ]
     },
     "metadata": {},
     "output_type": "display_data"
    }
   ],
   "source": [
    "df_wallet=df_wallet.drop(\"ALCADA\")"
   ]
  },
  {
   "cell_type": "code",
   "execution_count": 113,
   "metadata": {},
   "outputs": [
    {
     "data": {
      "application/vnd.jupyter.widget-view+json": {
       "model_id": "331dfca89dfb489188bd7a7a11a7a208",
       "version_major": 2,
       "version_minor": 0
      },
      "text/plain": [
       "VBox()"
      ]
     },
     "metadata": {},
     "output_type": "display_data"
    },
    {
     "data": {
      "application/vnd.jupyter.widget-view+json": {
       "model_id": "",
       "version_major": 2,
       "version_minor": 0
      },
      "text/plain": [
       "FloatProgress(value=0.0, bar_style='info', description='Progress:', layout=Layout(height='25px', width='50%'),…"
      ]
     },
     "metadata": {},
     "output_type": "display_data"
    }
   ],
   "source": [
    "df_wallet=df_wallet.join(df_alcada.select(df_alcada.SALES_ORG_COD.alias(\"SALES_ORG_COD_drop\")\n",
    "                                     ,df_alcada.MATERIAL_COD.alias(\"MATERIAL_COD_drop\")\n",
    "                                     ,df_alcada.ISSUING_STATE.alias(\"ISSUING_STATE_drop\")\n",
    "                                     ,(df_alcada.ALCADA/100).alias(\"ALCADA\"))\n",
    "                         ,(trim(df_wallet.SALES_ORG_COD) == trim(col(\"SALES_ORG_COD_drop\"))) &\n",
    "                          (df_wallet.MATERIAL_COD.cast(\"int\") == col(\"MATERIAL_COD_drop\").cast(\"int\")) &\n",
    "                          (trim(df_wallet.ISSUING_STATE) == trim(col(\"ISSUING_STATE_drop\"))), how=\"left\")\\\n",
    "                    .drop(\"SALES_ORG_COD_drop\"\n",
    "                         ,\"MATERIAL_COD_drop\"\n",
    "                         ,\"ISSUING_STATE_drop\")"
   ]
  },
  {
   "cell_type": "code",
   "execution_count": 114,
   "metadata": {},
   "outputs": [
    {
     "data": {
      "application/vnd.jupyter.widget-view+json": {
       "model_id": "ea2d472a86de4a6284269d98efde8588",
       "version_major": 2,
       "version_minor": 0
      },
      "text/plain": [
       "VBox()"
      ]
     },
     "metadata": {},
     "output_type": "display_data"
    },
    {
     "data": {
      "application/vnd.jupyter.widget-view+json": {
       "model_id": "",
       "version_major": 2,
       "version_minor": 0
      },
      "text/plain": [
       "FloatProgress(value=0.0, bar_style='info', description='Progress:', layout=Layout(height='25px', width='50%'),…"
      ]
     },
     "metadata": {},
     "output_type": "display_data"
    }
   ],
   "source": [
    "df_wallet = df_wallet.fillna({'ALCADA':0.04})"
   ]
  },
  {
   "cell_type": "code",
   "execution_count": 115,
   "metadata": {},
   "outputs": [
    {
     "data": {
      "application/vnd.jupyter.widget-view+json": {
       "model_id": "97de0fecb8e84e519c210e40c0614c13",
       "version_major": 2,
       "version_minor": 0
      },
      "text/plain": [
       "VBox()"
      ]
     },
     "metadata": {},
     "output_type": "display_data"
    },
    {
     "data": {
      "application/vnd.jupyter.widget-view+json": {
       "model_id": "",
       "version_major": 2,
       "version_minor": 0
      },
      "text/plain": [
       "FloatProgress(value=0.0, bar_style='info', description='Progress:', layout=Layout(height='25px', width='50%'),…"
      ]
     },
     "metadata": {},
     "output_type": "display_data"
    }
   ],
   "source": [
    "df_wallet =df_wallet.withColumn(\"PRECO_POL_KG\", col(\"PRECO_POLITICA\")/col(\"REQUESTED_QUANTITY\"))\\"
   ]
  },
  {
   "cell_type": "code",
   "execution_count": 116,
   "metadata": {},
   "outputs": [
    {
     "data": {
      "application/vnd.jupyter.widget-view+json": {
       "model_id": "235681d824ab4228814a110d4d008eaf",
       "version_major": 2,
       "version_minor": 0
      },
      "text/plain": [
       "VBox()"
      ]
     },
     "metadata": {},
     "output_type": "display_data"
    },
    {
     "data": {
      "application/vnd.jupyter.widget-view+json": {
       "model_id": "",
       "version_major": 2,
       "version_minor": 0
      },
      "text/plain": [
       "FloatProgress(value=0.0, bar_style='info', description='Progress:', layout=Layout(height='25px', width='50%'),…"
      ]
     },
     "metadata": {},
     "output_type": "display_data"
    }
   ],
   "source": [
    "# Converting numeric(and text) columns to float \n",
    "for col_name in [\"ZD01_%\"\n",
    "                ,\"ZD13_%\"]:\n",
    "    df_wallet = df_wallet.withColumn(col_name, (col(col_name)*100).cast('float'))"
   ]
  },
  {
   "cell_type": "code",
   "execution_count": 117,
   "metadata": {
    "scrolled": false
   },
   "outputs": [
    {
     "data": {
      "application/vnd.jupyter.widget-view+json": {
       "model_id": "17decc24e77e4496862be14c49efe4a4",
       "version_major": 2,
       "version_minor": 0
      },
      "text/plain": [
       "VBox()"
      ]
     },
     "metadata": {},
     "output_type": "display_data"
    },
    {
     "data": {
      "application/vnd.jupyter.widget-view+json": {
       "model_id": "",
       "version_major": 2,
       "version_minor": 0
      },
      "text/plain": [
       "FloatProgress(value=0.0, bar_style='info', description='Progress:', layout=Layout(height='25px', width='50%'),…"
      ]
     },
     "metadata": {},
     "output_type": "display_data"
    }
   ],
   "source": [
    "# Converting numeric(and text) columns to float \n",
    "for col_name in [\"PRECO_PRAT_NORM_KG\"\n",
    "                ,\"PRECO_PRAT_NORM\"\n",
    "                ,\"PRECO_POLITICA\"\n",
    "                ,\"PRECO_POL_KG\"\n",
    "                ,\"QUANTITY_TON\"\n",
    "                ,\"REQUESTED_QUANTITY\"\n",
    "                ,\"DELIVERED_QUANTITY\"\n",
    "                ,\"QUANTITY_WITH_DELIVERY\"\n",
    "                ,\"ALCADA\"\n",
    "                ,\"PRACTICED_PRICE\"\n",
    "                ,\"RBV\"\n",
    "                ,\"ZEB1\"\n",
    "                ,\"ZD01_%\"\n",
    "                ,\"LIST_PRICE\"\n",
    "                ,\"ZD01\"\n",
    "                ,\"LIST_PRICE_ZD01\"\n",
    "                ,\"ZD02\"\n",
    "                ,\"LIST_PRICE_ZD02\"\n",
    "                ,\"ZD03\"\n",
    "                ,\"LIST_PRICE_ZD03\"\n",
    "                ,\"ZD04\"\n",
    "                ,\"LIST_PRICE_ZD04\"\n",
    "                ,\"ZD05\"\n",
    "                ,\"LIST_PRICE_ZD05\"\n",
    "                ,\"ZD06\"\n",
    "                ,\"LIST_PRICE_ZD06\"\n",
    "                ,\"ZD13_%\"\n",
    "                ,\"ZD13\"\n",
    "                ,\"LIST_PRICE_ZD13\"\n",
    "                ,\"ZD14\"\n",
    "                ,\"LIST_PRICE_ZD14\"\n",
    "                ,\"ZSU2\"\n",
    "                ,\"LIST_PRICE_ZSU2\"\n",
    "                ,\"ZEAF\"\n",
    "                ,\"BX41\"\n",
    "                ,\"LIST_PRICE_ZEAF\"\n",
    "                ,\"PO\"\n",
    "                ,\"TOTAL_WALLET\"\n",
    "                ,\"REQ_QTT_CONV\"\n",
    "                ,\"DESVIO_POL\"\n",
    "                ,\"DESVIO_POL_REAIS\"\n",
    "                ,\"RLV\"\n",
    "                ,\"TOTAL_TAXES\"\n",
    "                ,\"ZD_TOTAL_D\"\n",
    "                ,\"ZD_TOTAL_P\"]:\n",
    "    df_wallet = df_wallet.withColumn(col_name, abs(round(col(col_name),4)).cast('float'))"
   ]
  },
  {
   "cell_type": "code",
   "execution_count": 119,
   "metadata": {},
   "outputs": [
    {
     "data": {
      "application/vnd.jupyter.widget-view+json": {
       "model_id": "06a5e975ad7741cf9c71da90781b29f8",
       "version_major": 2,
       "version_minor": 0
      },
      "text/plain": [
       "VBox()"
      ]
     },
     "metadata": {},
     "output_type": "display_data"
    },
    {
     "data": {
      "application/vnd.jupyter.widget-view+json": {
       "model_id": "",
       "version_major": 2,
       "version_minor": 0
      },
      "text/plain": [
       "FloatProgress(value=0.0, bar_style='info', description='Progress:', layout=Layout(height='25px', width='50%'),…"
      ]
     },
     "metadata": {},
     "output_type": "display_data"
    }
   ],
   "source": [
    "#Rename Columns \n",
    "df_wallet = df_wallet.withColumnRenamed(\"PRECO_PRAT_NORM\",\"NORM_PRACTICED_PRICE\")\\\n",
    "                    .withColumnRenamed(\"PRECO_PRAT_NORM_KG\",\"NORM_PRACTICED_PRICE_KG\")\\\n",
    "                    .withColumnRenamed(\"PRECO_POLITICA\",\"POLICY_PRICE\")\\\n",
    "                    .withColumnRenamed(\"PRECO_POL_KG\",\"POLICY_PRICE_KG\")\\\n",
    "                    .withColumnRenamed(\"ALCADA\",\"VERGE\")\\\n",
    "                    .withColumnRenamed(\"DESVIO_POL\",\"POL_DEVIATION\")\\\n",
    "                    .withColumnRenamed(\"DESVIO_POL_REAIS\",\"POL_DEVIATION_REAIS\")\\"
   ]
  },
  {
   "cell_type": "code",
   "execution_count": 121,
   "metadata": {},
   "outputs": [
    {
     "data": {
      "application/vnd.jupyter.widget-view+json": {
       "model_id": "d1d4cbce841644d99a814825dba9fbe5",
       "version_major": 2,
       "version_minor": 0
      },
      "text/plain": [
       "VBox()"
      ]
     },
     "metadata": {},
     "output_type": "display_data"
    },
    {
     "data": {
      "application/vnd.jupyter.widget-view+json": {
       "model_id": "",
       "version_major": 2,
       "version_minor": 0
      },
      "text/plain": [
       "FloatProgress(value=0.0, bar_style='info', description='Progress:', layout=Layout(height='25px', width='50%'),…"
      ]
     },
     "metadata": {},
     "output_type": "display_data"
    }
   ],
   "source": [
    "df_wallet=df_wallet.dropDuplicates()"
   ]
  },
  {
   "cell_type": "code",
   "execution_count": 122,
   "metadata": {
    "scrolled": true
   },
   "outputs": [
    {
     "data": {
      "application/vnd.jupyter.widget-view+json": {
       "model_id": "62790849c3854345a11e4f70a3b4ab11",
       "version_major": 2,
       "version_minor": 0
      },
      "text/plain": [
       "VBox()"
      ]
     },
     "metadata": {},
     "output_type": "display_data"
    },
    {
     "data": {
      "application/vnd.jupyter.widget-view+json": {
       "model_id": "",
       "version_major": 2,
       "version_minor": 0
      },
      "text/plain": [
       "FloatProgress(value=0.0, bar_style='info', description='Progress:', layout=Layout(height='25px', width='50%'),…"
      ]
     },
     "metadata": {},
     "output_type": "display_data"
    }
   ],
   "source": [
    "df_wallet.write.partitionBy(144);\n",
    "df_wallet = df_wallet.repartition(144);"
   ]
  },
  {
   "cell_type": "code",
   "execution_count": 123,
   "metadata": {
    "scrolled": false
   },
   "outputs": [
    {
     "data": {
      "application/vnd.jupyter.widget-view+json": {
       "model_id": "460819c4471d416b9666d3c71b0a55a6",
       "version_major": 2,
       "version_minor": 0
      },
      "text/plain": [
       "VBox()"
      ]
     },
     "metadata": {},
     "output_type": "display_data"
    },
    {
     "data": {
      "application/vnd.jupyter.widget-view+json": {
       "model_id": "",
       "version_major": 2,
       "version_minor": 0
      },
      "text/plain": [
       "FloatProgress(value=0.0, bar_style='info', description='Progress:', layout=Layout(height='25px', width='50%'),…"
      ]
     },
     "metadata": {},
     "output_type": "display_data"
    },
    {
     "name": "stdout",
     "output_type": "stream",
     "text": [
      "DataFrame[SALES_ORG_COD: string, ISSUING_STATE: string, CUSTOMER_COD: string, CUSTOMER_DESC: string, CUSTOMER_GROUP: string, SALES_ORDER_ITEM: string, SALES_OFFICE_COD: string, ISSUING_CITY: string, MATERIAL_COD: int, DELIVERED_QUANTITY: float, PRICE_DATE: string, SALES_GROUP_COD: string, REQ_QTT_CONV: float, QUANTITY_WITH_DELIVERY: float, ZD01_%: float, ZD13_%: float, ZD14: float, CONFIRMED_ORDER_DATE: string, SALES_ORDER_DATE: string, ISSUING_DATE: string, ORDER_STATUS: string, SALES_ORDER_NUMBER: string, SALES_GROUP_DESC: string, ORDER_TYPE_COD: string, BILLING_DATE: string, ICMI: float, ZD38: float, ZEB1: float, BX41: float, GPD_DESC: string, GPD_COD: string, GPM_DESC: string, GPM_COD: string, MATERIAL_DESC: string, RLV: float, RBV: float, TOTAL_TAXES: float, REQUESTED_QUANTITY: float, QUANTITY_TON: float, PRACTICED_PRICE: float, LIST_PRICE: float, ZD01: float, LIST_PRICE_ZD01: float, ZD02: float, LIST_PRICE_ZD02: float, ZD03: float, LIST_PRICE_ZD03: float, ZD04: float, LIST_PRICE_ZD04: float, ZD05: float, LIST_PRICE_ZD05: float, ZD06: float, LIST_PRICE_ZD06: float, LIST_PRICE_ZD38: float, ZD13: float, LIST_PRICE_ZD13: float, LIST_PRICE_ZD14: float, ZSU2: float, LIST_PRICE_ZSU2: float, ZEAF: float, LIST_PRICE_ZEAF: float, PO: float, POL_DEVIATION: float, POL_DEVIATION_REALS: float, BRANCH: string, MANUFACTURE: string, APPROVED: string, TYPE_PRICE_ADJUST: string, SALES_OFFICE_DESC: string, ORDER_TYPE_DESC: string, TOTAL_WALLET: float, ZD_TOTAL_P: float, ZD_TOTAL_D: float, NORM_PRACTICED_PRICE: float, NORM_PRACTICED_PRICE_KG: float, POLICY_PRICE: float, VERGE: float, POLICY_PRICE_KG: float]"
     ]
    }
   ],
   "source": [
    "df_wallet.persist(pyspark.StorageLevel.DISK_ONLY)"
   ]
  },
  {
   "cell_type": "code",
   "execution_count": 124,
   "metadata": {
    "scrolled": true
   },
   "outputs": [
    {
     "data": {
      "application/vnd.jupyter.widget-view+json": {
       "model_id": "d0d85f596fa14f91a851e741e18e9beb",
       "version_major": 2,
       "version_minor": 0
      },
      "text/plain": [
       "VBox()"
      ]
     },
     "metadata": {},
     "output_type": "display_data"
    },
    {
     "data": {
      "application/vnd.jupyter.widget-view+json": {
       "model_id": "59bec4e7c9f543ab89407c5555388233",
       "version_major": 2,
       "version_minor": 0
      },
      "text/plain": [
       "FloatProgress(value=0.0, bar_style='info', description='Progress:', layout=Layout(height='25px', width='50%'),…"
      ]
     },
     "metadata": {},
     "output_type": "display_data"
    },
    {
     "name": "stderr",
     "output_type": "stream",
     "text": [
      "An error was encountered:\n",
      "Invalid status code '400' from https://172.31.23.240:18888/sessions/4/statements/122 with error payload: {\"msg\":\"requirement failed: Session isn't active.\"}\n"
     ]
    }
   ],
   "source": [
    "df_wallet.coalesce(144).write.parquet(\"s3a://\"+SPG_OUTPUT_BUCKET+\"/\"+SPG_OUTPUT_BUCKET_WALLET, mode = \"overwrite\")"
   ]
  },
  {
   "cell_type": "code",
   "execution_count": null,
   "metadata": {},
   "outputs": [],
   "source": []
  }
 ],
 "metadata": {
  "kernelspec": {
   "display_name": "Python 3",
   "language": "python",
   "name": "python3"
  },
  "language_info": {
   "codemirror_mode": {
    "name": "ipython",
    "version": 3
   },
   "file_extension": ".py",
   "mimetype": "text/x-python",
   "name": "python",
   "nbconvert_exporter": "python",
   "pygments_lexer": "ipython3",
   "version": "3.7.5"
  }
 },
 "nbformat": 4,
 "nbformat_minor": 2
}
