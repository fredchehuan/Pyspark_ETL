{
 "cells": [
  {
   "cell_type": "code",
   "execution_count": 2,
   "metadata": {},
   "outputs": [
    {
     "data": {
      "application/vnd.jupyter.widget-view+json": {
       "model_id": "7de73640cbe044db84a38aaa1208179e",
       "version_major": 2,
       "version_minor": 0
      },
      "text/plain": [
       "VBox()"
      ]
     },
     "metadata": {},
     "output_type": "display_data"
    },
    {
     "name": "stdout",
     "output_type": "stream",
     "text": [
      "Starting Spark application\n"
     ]
    },
    {
     "data": {
      "text/html": [
       "<table>\n",
       "<tr><th>ID</th><th>YARN Application ID</th><th>Kind</th><th>State</th><th>Spark UI</th><th>Driver log</th><th>Current session?</th></tr><tr><td>6</td><td>application_1575630339505_0007</td><td>pyspark</td><td>idle</td><td><a target=\"_blank\" href=\"http://ip-172-31-33-217.us-east-2.compute.internal:20888/proxy/application_1575630339505_0007/\">Link</a></td><td><a target=\"_blank\" href=\"http://ip-172-31-39-1.us-east-2.compute.internal:8042/node/containerlogs/container_1575630339505_0007_01_000001/livy\">Link</a></td><td>✔</td></tr></table>"
      ],
      "text/plain": [
       "<IPython.core.display.HTML object>"
      ]
     },
     "metadata": {},
     "output_type": "display_data"
    },
    {
     "data": {
      "application/vnd.jupyter.widget-view+json": {
       "model_id": "",
       "version_major": 2,
       "version_minor": 0
      },
      "text/plain": [
       "FloatProgress(value=0.0, bar_style='info', description='Progress:', layout=Layout(height='25px', width='50%'),…"
      ]
     },
     "metadata": {},
     "output_type": "display_data"
    },
    {
     "name": "stdout",
     "output_type": "stream",
     "text": [
      "SparkSession available as 'spark'.\n"
     ]
    },
    {
     "data": {
      "application/vnd.jupyter.widget-view+json": {
       "model_id": "",
       "version_major": 2,
       "version_minor": 0
      },
      "text/plain": [
       "FloatProgress(value=0.0, bar_style='info', description='Progress:', layout=Layout(height='25px', width='50%'),…"
      ]
     },
     "metadata": {},
     "output_type": "display_data"
    }
   ],
   "source": [
    "import findspark                                              #Import library to Search for Spark Installation  \n",
    "\n",
    "findspark.init()                                              #Search Spark Installation\n",
    "\n",
    "import pyspark                                                #Only run after findspark.init()\n",
    "\n",
    "from pyspark.sql import SparkSession                          # Import of Spark Session\n",
    "from pyspark import SparkContext as spark                     # Import the Regular Spark Contex \n",
    "from pyspark.sql import SQLContext                            # Import the SQL Spark Contex \n",
    "from pyspark.sql.window import Window                         # Import Window methoed\n",
    "from pyspark.sql.functions import *                           # Import all Functions\n",
    "from pyspark.sql.types import *                               # Import all Types\n",
    "spark = SparkSession.builder.getOrCreate()                    # Creating Session\n",
    "from datetime import date                                     # Import date methoed\n",
    "\n",
    "import os\n",
    "import pandas as pd\n",
    "import boto3\n",
    "import time\n",
    "from botocore.client import ClientError\n",
    "\n",
    "import pyarrow.parquet as pq\n",
    "import s3fs\n",
    "import calendar\n",
    "\n",
    "month_ref = date.today().month                                # Creating Current Month Variable\n",
    "year_ref = date.today().year                                  # Creating Current Year Variable\n",
    "\n",
    "sc = spark.sparkContext                                       #Initialize Spark \n",
    "\n",
    "spark.conf.set(\"spark.sql.broadcastTimeout\",  36000)          #Changing Broadcast Timeout\n",
    "#conf = pyspark.SparkConf().setMaster(\"yarn-client\").setAppName(\"sparK-mer\")\n",
    "#conf.set(\"spark.executor.heartbeatInterval\",\"3600s\")"
   ]
  },
  {
   "cell_type": "markdown",
   "metadata": {},
   "source": [
    "---"
   ]
  },
  {
   "cell_type": "markdown",
   "metadata": {},
   "source": [
    "# Creating Variables"
   ]
  },
  {
   "cell_type": "markdown",
   "metadata": {},
   "source": [
    "## Databases"
   ]
  },
  {
   "cell_type": "code",
   "execution_count": null,
   "metadata": {},
   "outputs": [],
   "source": [
    "ATHENA_SPG = os.environ['SPG_DATABASE']"
   ]
  },
  {
   "cell_type": "code",
   "execution_count": null,
   "metadata": {},
   "outputs": [],
   "source": [
    "ATHENA_HANA = os.environ['GERDAU_HANA_DATABASE']"
   ]
  },
  {
   "cell_type": "code",
   "execution_count": null,
   "metadata": {},
   "outputs": [],
   "source": [
    "ATHENA_SALES = os.environ['GERDAU_SALES_DATABASE']"
   ]
  },
  {
   "cell_type": "markdown",
   "metadata": {},
   "source": [
    "## Buckets"
   ]
  },
  {
   "cell_type": "code",
   "execution_count": null,
   "metadata": {},
   "outputs": [],
   "source": [
    "SPG_MANUAL_INPUT_BUCKET = os.environ['MANUAL_INPUT_BUCKET']"
   ]
  },
  {
   "cell_type": "code",
   "execution_count": null,
   "metadata": {},
   "outputs": [],
   "source": [
    "SPG_INTEGRATION_INPUT_BUCKET = os.environ['INTEGRATION_INPUT_BUCKET']"
   ]
  },
  {
   "cell_type": "code",
   "execution_count": null,
   "metadata": {},
   "outputs": [],
   "source": [
    "SPG_QUERY_BUCKET = os.environ['QUERY_BUCKET']"
   ]
  },
  {
   "cell_type": "code",
   "execution_count": null,
   "metadata": {},
   "outputs": [],
   "source": [
    "GERDAU_BUCKET = os.environ['GERDAU_BUCKET']"
   ]
  },
  {
   "cell_type": "code",
   "execution_count": null,
   "metadata": {},
   "outputs": [],
   "source": [
    "SPG_OUTPUT_BUCKET = os.environ['OUTPUT_BUCKET']"
   ]
  },
  {
   "cell_type": "code",
   "execution_count": null,
   "metadata": {},
   "outputs": [],
   "source": [
    "SPG_INPUT_BUCKET = os.environ['INPUT_BUCKET_FROM_OUTPUT']"
   ]
  },
  {
   "cell_type": "markdown",
   "metadata": {},
   "source": [
    "## Input Paths"
   ]
  },
  {
   "cell_type": "code",
   "execution_count": null,
   "metadata": {},
   "outputs": [],
   "source": [
    "# Wallet (Sales Order Table)\n",
    "#GERDAU_BUCKET_WALLET_INPUT_PATH = \"hana/lsa/adm/o2c/backlogopensales/backlogopsales_rpt_en_full\""
   ]
  },
  {
   "cell_type": "code",
   "execution_count": null,
   "metadata": {},
   "outputs": [],
   "source": [
    "# Tvakt\n",
    "GERDAU_BUCKET_TVAKT_INPUT_PATH = \"global/masterdata/tvakt\""
   ]
  },
  {
   "cell_type": "code",
   "execution_count": null,
   "metadata": {},
   "outputs": [],
   "source": [
    "# Vbap\n",
    "GERDAU_BUCKET_VBAP_INPUT_PATH = \"global/sales/vbap\""
   ]
  },
  {
   "cell_type": "code",
   "execution_count": null,
   "metadata": {},
   "outputs": [],
   "source": [
    "SPG_QUERY_BUCKET_ATHENA = \"SPG_QUERY/SPG_ATHENA\""
   ]
  },
  {
   "cell_type": "code",
   "execution_count": null,
   "metadata": {},
   "outputs": [],
   "source": [
    "# Conditions\n",
    "GERDAU_BUCKET_OPEN_ORDER_INPUT_PATH = \"global/lsa/adm/o2c/backlogopensales_smartpricing/report_openorder_pricing\""
   ]
  },
  {
   "cell_type": "code",
   "execution_count": null,
   "metadata": {},
   "outputs": [],
   "source": [
    "# SPG SAP Hana\n",
    "SPG_INTEGRATION_INPUT_BUCKET_HANA = \"SPG_FACTS/SPG_HANA/SPG_HANA.parquet\""
   ]
  },
  {
   "cell_type": "code",
   "execution_count": null,
   "metadata": {},
   "outputs": [],
   "source": [
    "# SPG Regions\n",
    "SPG_INTEGRATION_INPUT_BUCKET_REGION = \"SPG_DIMENSIONS/SPG_REGIOES/SPG_RG_REGIOES/SPG_RG_REGIOES.parquet\""
   ]
  },
  {
   "cell_type": "code",
   "execution_count": null,
   "metadata": {},
   "outputs": [],
   "source": [
    "# SPG Products\n",
    "SPG_INTEGRATION_INPUT_BUCKET_PRODUCTS = \"SPG_DIMENSIONS/SPG_PRODUTOS/SPG_PD_PRODUTOS.parquet\""
   ]
  },
  {
   "cell_type": "code",
   "execution_count": null,
   "metadata": {},
   "outputs": [],
   "source": [
    "# SPG Calendar\n",
    "SPG_INPUT_BUCKET_CALENDAR = \"SPG_GLOBAL/SUPPORT/SPG_SUPPORT_CALENDARIO/tb_SPG_SUPPORT_CALENDARIO.parquet\""
   ]
  },
  {
   "cell_type": "code",
   "execution_count": null,
   "metadata": {},
   "outputs": [],
   "source": [
    "# pv\n",
    "SPG_INPUT_BUCKET_SALES_PREVISION = \"SPG_GLOBAL/SUPPORT/TB_SPG_SUPPORT_PV.parquet\""
   ]
  },
  {
   "cell_type": "code",
   "execution_count": null,
   "metadata": {},
   "outputs": [],
   "source": [
    "# pex\n",
    "SPG_INPUT_BUCKET_PEX = \"SPG_GLOBAL/SUPPORT/TB_SPG_SUPPORT_PEX.parquet\""
   ]
  },
  {
   "cell_type": "code",
   "execution_count": null,
   "metadata": {},
   "outputs": [],
   "source": [
    "# Alçada\n",
    "SPG_INPUT_BUCKET_VERGE = \"SPG_GLOBAL/SUPPORT/tb_SPG_SUPPORT_ALCADA.parquet\""
   ]
  },
  {
   "cell_type": "code",
   "execution_count": null,
   "metadata": {},
   "outputs": [],
   "source": [
    "QUERY_WALLET = \"SELECT * FROM \"+ATHENA_HANA+\".tb_o2c_backlogopsales_rpt_en_full_parquet inner join (SELECT DISTINCT max(dt_load) AS max_date FROM \"+ATHENA_HANA+\".tb_o2c_backlogopsales_rpt_en_full_parquet WHERE CustCountry LIKE '%Brazil%') ON dt_load = max_date WHERE CustCountry LIKE '%Brazil%'\""
   ]
  },
  {
   "cell_type": "markdown",
   "metadata": {},
   "source": [
    "## Output Paths"
   ]
  },
  {
   "cell_type": "code",
   "execution_count": null,
   "metadata": {},
   "outputs": [],
   "source": [
    "SPG_OUTPUT_BUCKET_VOLUME = \"SPG_VOLUME/tb_SPG_VL_CURRENT.parquet\""
   ]
  },
  {
   "cell_type": "code",
   "execution_count": null,
   "metadata": {},
   "outputs": [],
   "source": [
    "SPG_OUTPUT_BUCKET_SALES_PREV_HEAD = \"SPG_VOLUME/SPG_PV/tb_SPG_VL_PV_HEAD.parquet\""
   ]
  },
  {
   "cell_type": "code",
   "execution_count": null,
   "metadata": {},
   "outputs": [],
   "source": [
    "SPG_OUTPUT_BUCKET_FILTER = \"SPG_VOLUME/tb_SPG_VL_FILTER.parquet\""
   ]
  },
  {
   "cell_type": "markdown",
   "metadata": {},
   "source": [
    "## Boto3 Variables"
   ]
  },
  {
   "cell_type": "code",
   "execution_count": null,
   "metadata": {},
   "outputs": [],
   "source": [
    "#S3 Configuration\n",
    "S3_ATHENA_INPUT =  's3://'+SPG_QUERY_BUCKET+'/'+SPG_QUERY_BUCKET_ATHENA"
   ]
  },
  {
   "cell_type": "code",
   "execution_count": null,
   "metadata": {},
   "outputs": [],
   "source": [
    "S3_ATHENA_OUTPUT = 's3://'+SPG_QUERY_BUCKET+'/'+SPG_QUERY_BUCKET_ATHENA"
   ]
  },
  {
   "cell_type": "code",
   "execution_count": null,
   "metadata": {},
   "outputs": [],
   "source": [
    "region_name = os.environ['AWS_REGION']"
   ]
  },
  {
   "cell_type": "code",
   "execution_count": null,
   "metadata": {},
   "outputs": [],
   "source": [
    "aws_access_key_id = os.environ['AWS_ACCESS_KEY']"
   ]
  },
  {
   "cell_type": "code",
   "execution_count": null,
   "metadata": {},
   "outputs": [],
   "source": [
    "aws_secret_access_key = os.environ['AWS_SECRET_KEY']"
   ]
  },
  {
   "cell_type": "markdown",
   "metadata": {},
   "source": [
    "----------------"
   ]
  },
  {
   "cell_type": "markdown",
   "metadata": {},
   "source": [
    "# Creating Defined Functions"
   ]
  },
  {
   "cell_type": "code",
   "execution_count": null,
   "metadata": {},
   "outputs": [],
   "source": [
    "# Run Query\n",
    "\n",
    "def run_query(query, database, s3_output):\n",
    "    response = client.start_query_execution(\n",
    "        QueryString=query,\n",
    "        QueryExecutionContext={\n",
    "            'Database': database\n",
    "            },\n",
    "        ResultConfiguration={\n",
    "            'OutputLocation': s3_output,\n",
    "            }\n",
    "        )\n",
    "    return response"
   ]
  },
  {
   "cell_type": "code",
   "execution_count": null,
   "metadata": {},
   "outputs": [],
   "source": [
    "def get_aws_path(query,database,s3_output):\n",
    "    response = run_query(query, database, s3_output)\n",
    "    file_query = response['QueryExecutionId']\n",
    "    file_metadata = response['QueryExecutionId'] + '.metadata'\n",
    "    return file_query"
   ]
  },
  {
   "cell_type": "code",
   "execution_count": null,
   "metadata": {},
   "outputs": [],
   "source": [
    "# Wating for 300 seconds until the end of the upload\n",
    "\n",
    "def wait_athena_load(Bucket, Key):\n",
    "    time_to_wait = 300\n",
    "    time_counter = 0\n",
    "\n",
    "    while True:\n",
    "        try:\n",
    "            s3.meta.client.head_object(Bucket=Bucket,Key=Key)\n",
    "        except ClientError:\n",
    "            time.sleep(1)\n",
    "            time_counter += 1\n",
    "            if time_counter > time_to_wait:\n",
    "                break\n",
    "        else:\n",
    "            break"
   ]
  },
  {
   "cell_type": "code",
   "execution_count": 3,
   "metadata": {},
   "outputs": [
    {
     "data": {
      "application/vnd.jupyter.widget-view+json": {
       "model_id": "8fda2c3caea44a3fa368d8fc111e0f1e",
       "version_major": 2,
       "version_minor": 0
      },
      "text/plain": [
       "VBox()"
      ]
     },
     "metadata": {},
     "output_type": "display_data"
    },
    {
     "data": {
      "application/vnd.jupyter.widget-view+json": {
       "model_id": "",
       "version_major": 2,
       "version_minor": 0
      },
      "text/plain": [
       "FloatProgress(value=0.0, bar_style='info', description='Progress:', layout=Layout(height='25px', width='50%'),…"
      ]
     },
     "metadata": {},
     "output_type": "display_data"
    }
   ],
   "source": [
    "# Replacing hifens by /\n",
    "def remove_some_hifen(col_name):\n",
    "    removed_chars = (\"-\")\n",
    "    regexp = \"|\".join('\\{0}'.format(i) for i in removed_chars)\n",
    "    return regexp_replace(col_name, regexp, \"/\")"
   ]
  },
  {
   "cell_type": "code",
   "execution_count": 4,
   "metadata": {},
   "outputs": [
    {
     "data": {
      "application/vnd.jupyter.widget-view+json": {
       "model_id": "a7858fda5e5f4c2790b5853018c161fa",
       "version_major": 2,
       "version_minor": 0
      },
      "text/plain": [
       "VBox()"
      ]
     },
     "metadata": {},
     "output_type": "display_data"
    },
    {
     "data": {
      "application/vnd.jupyter.widget-view+json": {
       "model_id": "",
       "version_major": 2,
       "version_minor": 0
      },
      "text/plain": [
       "FloatProgress(value=0.0, bar_style='info', description='Progress:', layout=Layout(height='25px', width='50%'),…"
      ]
     },
     "metadata": {},
     "output_type": "display_data"
    }
   ],
   "source": [
    "# Replacing dots by /\n",
    "def remove_some_dots(col_name):\n",
    "    removed_chars = (\".\")\n",
    "    regexp = \"|\".join('\\{0}'.format(i) for i in removed_chars)\n",
    "    return regexp_replace(col_name, regexp, \"/\")"
   ]
  },
  {
   "cell_type": "code",
   "execution_count": 5,
   "metadata": {},
   "outputs": [
    {
     "data": {
      "application/vnd.jupyter.widget-view+json": {
       "model_id": "dd0ce599ac0a41cdb8aaf774112a6db5",
       "version_major": 2,
       "version_minor": 0
      },
      "text/plain": [
       "VBox()"
      ]
     },
     "metadata": {},
     "output_type": "display_data"
    },
    {
     "data": {
      "application/vnd.jupyter.widget-view+json": {
       "model_id": "",
       "version_major": 2,
       "version_minor": 0
      },
      "text/plain": [
       "FloatProgress(value=0.0, bar_style='info', description='Progress:', layout=Layout(height='25px', width='50%'),…"
      ]
     },
     "metadata": {},
     "output_type": "display_data"
    }
   ],
   "source": [
    "# Removing hifens\n",
    "def replace_some_hifen(col_name):\n",
    "    removed_chars = (\"-\")\n",
    "    regexp = \"|\".join('\\{0}'.format(i) for i in removed_chars)\n",
    "    return regexp_replace(col_name, regexp, \"\")"
   ]
  },
  {
   "cell_type": "code",
   "execution_count": 6,
   "metadata": {},
   "outputs": [
    {
     "data": {
      "application/vnd.jupyter.widget-view+json": {
       "model_id": "3434ccbf848e44f88e5bbbfc58df119e",
       "version_major": 2,
       "version_minor": 0
      },
      "text/plain": [
       "VBox()"
      ]
     },
     "metadata": {},
     "output_type": "display_data"
    },
    {
     "data": {
      "application/vnd.jupyter.widget-view+json": {
       "model_id": "",
       "version_major": 2,
       "version_minor": 0
      },
      "text/plain": [
       "FloatProgress(value=0.0, bar_style='info', description='Progress:', layout=Layout(height='25px', width='50%'),…"
      ]
     },
     "metadata": {},
     "output_type": "display_data"
    }
   ],
   "source": [
    "# Removing spaces\n",
    "def replace_some_space(col_name):\n",
    "    removed_chars = (\" \")\n",
    "    regexp = \"|\".join('\\{0}'.format(i) for i in removed_chars)\n",
    "    return regexp_replace(col_name, regexp, \"\")"
   ]
  },
  {
   "cell_type": "code",
   "execution_count": 7,
   "metadata": {},
   "outputs": [
    {
     "data": {
      "application/vnd.jupyter.widget-view+json": {
       "model_id": "41df61f509d14d48bf91b949af5027bb",
       "version_major": 2,
       "version_minor": 0
      },
      "text/plain": [
       "VBox()"
      ]
     },
     "metadata": {},
     "output_type": "display_data"
    },
    {
     "data": {
      "application/vnd.jupyter.widget-view+json": {
       "model_id": "",
       "version_major": 2,
       "version_minor": 0
      },
      "text/plain": [
       "FloatProgress(value=0.0, bar_style='info', description='Progress:', layout=Layout(height='25px', width='50%'),…"
      ]
     },
     "metadata": {},
     "output_type": "display_data"
    }
   ],
   "source": [
    "# Removing apostrophes\n",
    "def replace_some_apostrophe(col_name):\n",
    "    removed_chars = (\"'\")\n",
    "    regexp = \"|\".join('\\{0}'.format(i) for i in removed_chars)\n",
    "    return regexp_replace(col_name, regexp, \"\")"
   ]
  },
  {
   "cell_type": "markdown",
   "metadata": {},
   "source": [
    "--------------"
   ]
  },
  {
   "cell_type": "markdown",
   "metadata": {},
   "source": [
    "# Configuring Boto3"
   ]
  },
  {
   "cell_type": "code",
   "execution_count": null,
   "metadata": {},
   "outputs": [],
   "source": [
    "#Athena Client Configuration\n",
    "\n",
    "client = boto3.client('athena', \n",
    "    aws_access_key_id = aws_access_key_id, \n",
    "    aws_secret_access_key = aws_secret_access_key, \n",
    "    region_name = region_name )"
   ]
  },
  {
   "cell_type": "code",
   "execution_count": null,
   "metadata": {},
   "outputs": [],
   "source": [
    "#S3 Resource Configuration\n",
    "\n",
    "s3 = boto3.resource('s3',\n",
    "    aws_access_key_id = aws_access_key_id,\n",
    "    aws_secret_access_key = aws_secret_access_key,\n",
    "    region_name = region_name)"
   ]
  },
  {
   "cell_type": "markdown",
   "metadata": {},
   "source": [
    "-----"
   ]
  },
  {
   "cell_type": "markdown",
   "metadata": {},
   "source": [
    "# Importing Tables"
   ]
  },
  {
   "cell_type": "code",
   "execution_count": 8,
   "metadata": {},
   "outputs": [
    {
     "data": {
      "application/vnd.jupyter.widget-view+json": {
       "model_id": "9e409c6d21d54a8e9132431099ab4969",
       "version_major": 2,
       "version_minor": 0
      },
      "text/plain": [
       "VBox()"
      ]
     },
     "metadata": {},
     "output_type": "display_data"
    },
    {
     "data": {
      "application/vnd.jupyter.widget-view+json": {
       "model_id": "",
       "version_major": 2,
       "version_minor": 0
      },
      "text/plain": [
       "FloatProgress(value=0.0, bar_style='info', description='Progress:', layout=Layout(height='25px', width='50%'),…"
      ]
     },
     "metadata": {},
     "output_type": "display_data"
    }
   ],
   "source": [
    "# Vbap\n",
    "df_vbap = spark.read.parquet(\"s3a://\"+GERDAU_BUCKET+\"/\"+GERDAU_BUCKET_VBAP_INPUT_PATH)"
   ]
  },
  {
   "cell_type": "code",
   "execution_count": 9,
   "metadata": {
    "scrolled": true
   },
   "outputs": [
    {
     "data": {
      "application/vnd.jupyter.widget-view+json": {
       "model_id": "a4923f7adb3845e3882221d76c604523",
       "version_major": 2,
       "version_minor": 0
      },
      "text/plain": [
       "VBox()"
      ]
     },
     "metadata": {},
     "output_type": "display_data"
    },
    {
     "data": {
      "application/vnd.jupyter.widget-view+json": {
       "model_id": "",
       "version_major": 2,
       "version_minor": 0
      },
      "text/plain": [
       "FloatProgress(value=0.0, bar_style='info', description='Progress:', layout=Layout(height='25px', width='50%'),…"
      ]
     },
     "metadata": {},
     "output_type": "display_data"
    },
    {
     "name": "stdout",
     "output_type": "stream",
     "text": [
      "DataFrame[ABCCustomerClassification: string, BilDocNumber: string, BilDocItem: string, BILDOCDATE: string, BillingType: string, BillingTypeText: string, BusinessDivision: string, BusinessDivisionText: string, ShipToCity: string, SoldToCity: string, CompanyCode: string, CompanyCodeText: string, Conv33: string, SalesDoc_CorpGroup: string, CorporateGroupName: string, ShipToCountry: string, SoldToCountry: string, CustomerGroup: string, CustomerGroupName: string, CustomerGroup3: string, CustomerGroup3BRName: string, DateMonth: string, DateQuarter: string, DateWeek: string, DateYearMonth: string, DateYear: string, DistributionChannel: string, DistributionChannelName: string, MaterialDivision: string, MaterialDivisionName: string, Division: string, DivisionName: string, DocumentCurrency: string, EndMarket: string, GDD: string, GPD: string, GPDName: string, GPM: string, GPP: string, SoldToGrupoNISEBR: string, SalesDoc_InsideRep: string, SalesOrderInsideRepName: string, ShipToInsideRep: string, ShipToInsideRepName: string, Material: string, MaterialName: string, MaterialGroup: string, MaterialGroup3: string, MaterialGroup3Name: string, MaterialPriceGroup: string, MaterialPriceGroupName: string, MaterialGroup5: string, MaterialGroup5Name: string, NotaFiscal: string, NCM_BR: string, SalesOrderDate: string, SalesDoc_OutsideRep: string, SalesOrderOutsideRepName: string, ShipToOutsideRep: string, ShipToOutsideRepName: string, PaymentTermsAditDays: string, PaymentTermsFixedDate: string, PaymentTerms: string, PaymentTermsDescription: string, Plant: string, PlantText: string, PlantType: string, PriceGroup: string, PricingDate: string, ProductHierarchyLvl1: string, ProductHierachyLvl1Text: string, ProductHierarchyLvl2: string, ProductHierachyLvl2Text: string, ProductHierarchyLvl3: string, ProductHierachyLvl3Text: string, ProductHierarchyLvl4: string, ProductHierachyLvl4Text: string, ProductHierarchyLvl5: string, ProductHierachyLvl5Text: string, ProductHierarchyLvl6: string, ProductHierachyLvl6Text: string, ProductHierarchyLvl7: string, ProductHierachyLvl7Text: string, ProductHierarchy: string, ProductHierarchyNodeName: string, RegionalBR: string, RegionalBRName: string, SalesDoc_SalesDirector: string, ShipToSalesDirector: string, SalesDocCategory: string, SalesDocType: string, SalesDocTypeText: string, SalesDocNumber: string, SalesDocItem: string, ShipToSalesGroup: string, ShipToSalesGroupName: string, SalesGroup: string, SalesGroupName: string, ShipToSalesManager: string, SalesDoc_SalesManager: string, ShipToSalesOffice: string, ShipToSalesOfficeName: string, SalesOffice: string, SalesOfficeName: string, SalesOrg: string, SalesOrgName: string, ShippingCondition: string, ShippingConditionName: string, ShippingDate: string, ShipToCustomer: string, ShipToCustomerName: string, SizeForQualityCertificate: string, SoldToCustomerShortName: string, SoldToCustomer: string, SoldToCustomerName: string, ShipFromRegion: string, ShipToState: string, SoldToState: string, BillDocNetWeight_UOM: string, PricingProcedure: string, ShipToCustomerShortName: string, ShipToGrupoNISEBR: string, MatDimension: string, MatQuality: string, ProductPlanning: string, ProductPlanningName: string, ROUTE: string, RouteName: string, PlateLength1mm: string, PlateThickness1mm: string, PlateWidth_mm: string, PLANNING_MAT: string, INTERNAL_STANDARD_PRICING: string, SalesOrdMaterialTxt: string, EDGE: string, COIL_WEIGHT_MAX: string, COIL_WEIGHT_MIN: string, VFSI_ERDAT: string, KDKG2: string, Created_by: string, PO_Number: string, MA_BillingAmount_P: double, MA_BillingQuantity_P: double, MA_CM_PRECOLISTA_UNIT_P: double, MA_CM_PRECOLISTA_D: double, ZS_CM_CD_ZS23_UNIT_P: double, ZS_CM_CD_ZS23_D: double, MA_OUTROS_UNIT_P: double, MA_OUTROS_D: double, MA_CC_BLANK18_P: string, MA_CM_CD_TTDCAU_LP_UNIT_P: double, MA_CM_CD_TTDCAU_LP_D: double, DA_CM_CD_ZD01_UNIT_P: double, DA_CM_CD_ZD01_D: double, DA_CM_CD_ZD02_UNIT_P: double, DA_CM_CD_ZD02_D: double, DA_CM_CD_ZD03_UNIT_P: double, DA_CM_CD_ZD03_D: double, DA_CM_CD_ZD04_UNIT_P: double, DA_CM_CD_ZD04_D: double, DA_CM_CD_ZD05_UNIT_P: double, DA_CM_CD_ZD05_D: double, DA_CM_CD_ZD06_UNIT_P: double, DA_CM_CD_ZD06_D: double, MA_CC_BLANK19_P: string, MA_CM_CD_TTACAU_LP_UNIT_P: double, MA_CM_CD_TTACAU_LP_D: double, AA_CM_CD_ZEB1_UNIT_P: double, AA_CM_CD_ZEB1_D: double, AA_CM_CD_ZEB2_UNIT_P: double, AA_CM_CD_ZEB2_D: double, AA_CM_CD_ZEAF_UNIT_P: double, AA_CM_CD_ZEAF_D: double, AA_OUTROS_UNIT_P: double, AA_OUTROS_D: double, MA_CC_BLANK20_P: string, MA_CM_CD_TTDCMN_LP_UNIT_P: double, MA_CM_CD_TTDCMN_LP_D: double, DM_CM_CD_ZD13_UNIT_P: double, DM_CM_CD_ZD13_D: double, DM_CM_CD_ZD14_UNIT_P: double, DM_CM_CD_ZD14_D: double, DM_CM_CD_ZP30_UNIT_P: double, DM_CM_CD_ZP30_D: double, DM_OUTROS_DESC_UNIT_P: double, DM_OUTROS_DESC_D: double, MA_CC_BLANK2_P: string, MA_CM_CD_TTACMN_LP_UNIT_P: double, MA_CM_CD_TTACMN_LP_D: double, AM_CM_CD_ZSU2_UNIT_P: double, AM_CM_CD_ZSU2_D: double, AM_OUTROS_ACRES_UNIT_P: double, AM_OUTROS_ACRES_D: double, MA_CC_BLANK1_P: string, MA_CM_CD_ZP20_UNIT_P: double, MA_CM_CD_ZP20_D: double, MA_CC_BLANK_P: string, IC_CM_ICMSFRETEZFT4_P: double, IC_CM_ICMSSEMFRETE_P: double, IC_CM_ICMSSEMFRETES_E_ACRFIN_P: double, IC_CM_ICMSSEMFRETE_E_SEMACRFINAUT_P: double, IC_CC_BLANK3_P: string, MA_CM_PRECOBASECLIENTE_BQ_LP_UNIT_P: double, MA_CM_PRECOBASECLIENTEBQ_D: double, MA_CM_PRECOPRATICADOCLIENTE_UNIT_P: double, MA_CM_PRECOPRATICADOCLIENTE_D: double, MA_CC_BLANK4_P: string, MA_CM_RBV_UNIT_P: double, MA_CM_RBV_D: double, MA_CM_CD_IPI_UNIT_P: double, MA_CM_CD_IPI_D: double, MA_CM_RBVIPI_UNIT_P: double, MA_CM_RBVIPI_D: double, MA_CC_BLANK11_P: string, MA_CM_TOTAL_IMP_UNIT_P: double, MA_CM_TOTAL_IMP_D: double, IM_CM_CD_ICMS_UNIT_P: double, IM_CM_CD_ICMS_D: double, IM_CM_CD_ICMS_ZF_UNIT_P: double, IM_CM_CD_ICMS_ZF_D: double, IM_CD_CM_BX94_UNIT_P: double, IM_CM_CD_BX94_D: double, IM_CM_CD_BX95_UNIT_P: double, IM_CM_CD_BX95_D: double, IM_CD_CM_BX96_UNIT_P: double, IM_CM_CD_BX96_D: double, IM_CM_CD_IPI_IMP_UNIT_P: double, IM_CM_CD_IPI_IMP_D: double, IM_CM_CD_BX51_UNIT_P: double, IM_CM_CD_BX51_D: double, IM_CM_CD_COFINS_UNIT_P: double, IM_CM_CD_COFINS_D: double, IM_CM_CD_PIS_UNIT_P: double, IM_CM_CD_PIS_D: double, IM_OUTROS_UNIT_P: double, IM_OUTROS_D: double, MA_CC_BLANK12_P: string, MA_CM_RLV_UNIT_P: double, MA_CM_RLV_D: double, MA_CC_BLANK13_P: string, MA_CM_PRECOBASE_ALCADA_P: double, MA_CM_PRECOPOLITICA_ALCADA_UNIT_P: double, MA_CM_PRECOPOLITICA_ALCADA_D: double, MA_CM_DESVIOPOLITICAALCADA_UNIT_P: double, MA_CM_DESVIOPOLITICAALCADA_D: double, MA_CC_BLANK14_P: string, DP_CM_PRECOPOLITICA_UNIT_P: double, DP_CM_PRECOPOLITICA_D: double, DP_CM_PRECOPRATICADO_UNIT_P: double, DP_CM_PRECOPRATICADO_D: double, DP_CM_DESVIOPOLITICA_UNIT_P: double, DP_CM_DESVIOPOLITICA_D: double, DP_CC_BLANK15_P: string, MA_CM_SHIPMENTCOST_UNIT_P: double, MA_ShipmentCost_D: double, MA_CC_BLANK16_P: string, MA_CM_CD_ZFT1_UNIT_P: double, MA_CM_CD_ZFT1_D: double, MA_CM_CD_ZEFB_UNIT_P: double, MA_CM_CD_ZEFB_D: double, MA_CM_CD_ZDFB_UNIT_P: double, MA_CM_CD_ZDFB_D: double, MA_CM_CD_ZFT4_UNIT_P: double, MA_CM_CD_ZFT4_D: double, MA_CM_OUTROS_FRETES_UNIT_P: double, MA_CM_OUTROS_FRETES_D: double, MA_CC_BLANK17_P: string, MA_CM_CD_BX41_UNIT_P: double, MA_CM_CD_BX41_D: double, CM_CD_ZP28: double, DATA_LOAD_TIMESTAMP_PARQUET: string, DATA_LOAD_TIMESTAMP_RAW: string, HANA_KEY: string, ADRNR: string, BRANCH_REGION: string]"
     ]
    }
   ],
   "source": [
    "df_vbap.write.partitionBy(144);\n",
    "df_vbap = df_vbap.repartition(144);\n",
    "df_vbap.persist(pyspark.StorageLevel.MEMORY_ONLY)"
   ]
  },
  {
   "cell_type": "code",
   "execution_count": 10,
   "metadata": {},
   "outputs": [
    {
     "data": {
      "application/vnd.jupyter.widget-view+json": {
       "model_id": "ac64938225cf470091c1476667ecabca",
       "version_major": 2,
       "version_minor": 0
      },
      "text/plain": [
       "VBox()"
      ]
     },
     "metadata": {},
     "output_type": "display_data"
    },
    {
     "data": {
      "application/vnd.jupyter.widget-view+json": {
       "model_id": "",
       "version_major": 2,
       "version_minor": 0
      },
      "text/plain": [
       "FloatProgress(value=0.0, bar_style='info', description='Progress:', layout=Layout(height='25px', width='50%'),…"
      ]
     },
     "metadata": {},
     "output_type": "display_data"
    }
   ],
   "source": [
    "# Tvakt\n",
    "df_tvakt = spark.read.parquet(\"s3://\"+GERDAU_BUCKET+\"/\"+GERDAU_BUCKET_TVAKT_INPUT_PATH)"
   ]
  },
  {
   "cell_type": "code",
   "execution_count": 11,
   "metadata": {},
   "outputs": [
    {
     "data": {
      "application/vnd.jupyter.widget-view+json": {
       "model_id": "273b9ca90c504481bc9717585a4f5a06",
       "version_major": 2,
       "version_minor": 0
      },
      "text/plain": [
       "VBox()"
      ]
     },
     "metadata": {},
     "output_type": "display_data"
    },
    {
     "data": {
      "application/vnd.jupyter.widget-view+json": {
       "model_id": "",
       "version_major": 2,
       "version_minor": 0
      },
      "text/plain": [
       "FloatProgress(value=0.0, bar_style='info', description='Progress:', layout=Layout(height='25px', width='50%'),…"
      ]
     },
     "metadata": {},
     "output_type": "display_data"
    },
    {
     "name": "stdout",
     "output_type": "stream",
     "text": [
      "DataFrame[IBGE_CITY_ID: bigint, IBGE_MICRO_ID: bigint, IBGE_UF_ID: bigint, IBGE_UF_NAME: string, IBGE_REGION_ID: bigint, IBGE_REGION_NAME: string, IBGE_REGION_ACRONYMS: string, IBGE_UF_ACRONYMS: string, IBGE_MESO_ID: bigint, IBGE_MESO_NAME: string, IBGE_MICRO_NAME: string, IBGE_CITY_NAME: string, SAP_COD: string, SAP_NAME: string, COUNTRY: string, CITY_ZF: int, RG_COD_IBGE: string, RG_REG_SAP: string, IBGE_SAP_CITY_ID: string, IBGE_SAP_CITY_NAME: string, BRANCH: string]"
     ]
    }
   ],
   "source": [
    "df_tvakt.write.partitionBy(144);\n",
    "df_tvakt = df_tvakt.repartition(144);\n",
    "df_tvakt.persist(pyspark.StorageLevel.MEMORY_ONLY)"
   ]
  },
  {
   "cell_type": "code",
   "execution_count": 12,
   "metadata": {},
   "outputs": [
    {
     "data": {
      "application/vnd.jupyter.widget-view+json": {
       "model_id": "dece11acf0754ce78d42bf7f44761e76",
       "version_major": 2,
       "version_minor": 0
      },
      "text/plain": [
       "VBox()"
      ]
     },
     "metadata": {},
     "output_type": "display_data"
    },
    {
     "data": {
      "application/vnd.jupyter.widget-view+json": {
       "model_id": "",
       "version_major": 2,
       "version_minor": 0
      },
      "text/plain": [
       "FloatProgress(value=0.0, bar_style='info', description='Progress:', layout=Layout(height='25px', width='50%'),…"
      ]
     },
     "metadata": {},
     "output_type": "display_data"
    }
   ],
   "source": [
    "# Conditions\n",
    "df_zeb1 = spark.read.parquet(\"s3a://\"+GERDAU_BUCKET+\"/\"+GERDAU_BUCKET_OPEN_ORDER_INPUT_PATH)"
   ]
  },
  {
   "cell_type": "code",
   "execution_count": 13,
   "metadata": {},
   "outputs": [
    {
     "data": {
      "application/vnd.jupyter.widget-view+json": {
       "model_id": "05f3f3d7c8ec4044835b28d4bd4d7c0a",
       "version_major": 2,
       "version_minor": 0
      },
      "text/plain": [
       "VBox()"
      ]
     },
     "metadata": {},
     "output_type": "display_data"
    },
    {
     "data": {
      "application/vnd.jupyter.widget-view+json": {
       "model_id": "",
       "version_major": 2,
       "version_minor": 0
      },
      "text/plain": [
       "FloatProgress(value=0.0, bar_style='info', description='Progress:', layout=Layout(height='25px', width='50%'),…"
      ]
     },
     "metadata": {},
     "output_type": "display_data"
    },
    {
     "name": "stdout",
     "output_type": "stream",
     "text": [
      "DataFrame[COD_MATERIAL: string, COD_ACTIVITY_SECTOR: string, MARKED_DELETION: string, DESC_MATERIAL: string, DESC_ACTIVITY_SECTOR: string, COD_GPD: string, SALES_ORG_COD: string, DESC_GPD: string, BAG: double, BAR: double, CS: double, DR: double, EA: double, FT: double, FT2: double, GLL: double, KAR: double, KG: double, KI: double, KWH: double, LB: double, LBF: double, M: double, M2: double, M3: double, MWH: double, PAA: double, PAK: double, QT: double, ROL: double, ST: double, TO: double, TON: double, YD2: double, YD3: double, ZBA: double, ZCJ: double, ZCT: double, ZFX: double, ZHT: double, ZSV: double, ZSW: double, ZUN: double, COD_HIERARCHY_1: string, DESC_HIERARCHY_1: string, COD_HIERARCHY_2: string, DESC_HIERARCHY_2: string, COD_HIERARCHY_3: string, DESC_HIERARCHY_3: string, COD_HIERARCHY_4: string, DESC_HIERARCHY_4: string, COD_HIERARCHY_5: string, DESC_HIERARCHY_5: string, COD_HIERARCHY_6: string, DESC_HIERARCHY_6: string, COD_HIERARCHY_7: string, DESC_HIERARCHY_7: string, COD_GPM: string, DESC_GPM: string, COD_GDD: string, DESC_GDD: string]"
     ]
    }
   ],
   "source": [
    "df_zeb1.write.partitionBy(144);\n",
    "df_zeb1 = df_zeb1.repartition(144);\n",
    "df_zeb1.persist(pyspark.StorageLevel.MEMORY_ONLY)"
   ]
  },
  {
   "cell_type": "code",
   "execution_count": 14,
   "metadata": {},
   "outputs": [
    {
     "data": {
      "application/vnd.jupyter.widget-view+json": {
       "model_id": "c0c87147275c48868d24f06c04a79231",
       "version_major": 2,
       "version_minor": 0
      },
      "text/plain": [
       "VBox()"
      ]
     },
     "metadata": {},
     "output_type": "display_data"
    },
    {
     "data": {
      "application/vnd.jupyter.widget-view+json": {
       "model_id": "",
       "version_major": 2,
       "version_minor": 0
      },
      "text/plain": [
       "FloatProgress(value=0.0, bar_style='info', description='Progress:', layout=Layout(height='25px', width='50%'),…"
      ]
     },
     "metadata": {},
     "output_type": "display_data"
    }
   ],
   "source": [
    "# SPG SAP Hana\n",
    "df_hana = spark.read.parquet(\"s3a://\"+SPG_INTEGRATION_INPUT_BUCKET+\"/\"+SPG_INTEGRATION_INPUT_BUCKET_HANA)"
   ]
  },
  {
   "cell_type": "code",
   "execution_count": 15,
   "metadata": {},
   "outputs": [
    {
     "data": {
      "application/vnd.jupyter.widget-view+json": {
       "model_id": "ba97445add1142f383fb39a7ff139243",
       "version_major": 2,
       "version_minor": 0
      },
      "text/plain": [
       "VBox()"
      ]
     },
     "metadata": {},
     "output_type": "display_data"
    },
    {
     "data": {
      "application/vnd.jupyter.widget-view+json": {
       "model_id": "",
       "version_major": 2,
       "version_minor": 0
      },
      "text/plain": [
       "FloatProgress(value=0.0, bar_style='info', description='Progress:', layout=Layout(height='25px', width='50%'),…"
      ]
     },
     "metadata": {},
     "output_type": "display_data"
    }
   ],
   "source": [
    "df_hana.write.partitionBy(144);\n",
    "df_hana = df_hana.repartition(144);\n",
    "df_hana.persist(pyspark.StorageLevel.MEMORY_ONLY)"
   ]
  },
  {
   "cell_type": "code",
   "execution_count": 16,
   "metadata": {},
   "outputs": [
    {
     "data": {
      "application/vnd.jupyter.widget-view+json": {
       "model_id": "727d49ff28774425bbc1a15a416cc093",
       "version_major": 2,
       "version_minor": 0
      },
      "text/plain": [
       "VBox()"
      ]
     },
     "metadata": {},
     "output_type": "display_data"
    },
    {
     "data": {
      "application/vnd.jupyter.widget-view+json": {
       "model_id": "",
       "version_major": 2,
       "version_minor": 0
      },
      "text/plain": [
       "FloatProgress(value=0.0, bar_style='info', description='Progress:', layout=Layout(height='25px', width='50%'),…"
      ]
     },
     "metadata": {},
     "output_type": "display_data"
    }
   ],
   "source": [
    "# SPG Regions\n",
    "df_region = spark.read.parquet(\"s3a://\"+SPG_INTEGRATION_INPUT_BUCKET+\"/\"+SPG_INTEGRATION_INPUT_BUCKET_REGION)"
   ]
  },
  {
   "cell_type": "code",
   "execution_count": 17,
   "metadata": {},
   "outputs": [
    {
     "data": {
      "application/vnd.jupyter.widget-view+json": {
       "model_id": "ca731ba6f6c94029b036753ef0d83e71",
       "version_major": 2,
       "version_minor": 0
      },
      "text/plain": [
       "VBox()"
      ]
     },
     "metadata": {},
     "output_type": "display_data"
    },
    {
     "data": {
      "application/vnd.jupyter.widget-view+json": {
       "model_id": "",
       "version_major": 2,
       "version_minor": 0
      },
      "text/plain": [
       "FloatProgress(value=0.0, bar_style='info', description='Progress:', layout=Layout(height='25px', width='50%'),…"
      ]
     },
     "metadata": {},
     "output_type": "display_data"
    }
   ],
   "source": [
    "df_region.write.partitionBy(144);\n",
    "df_region = df_region.repartition(144);\n",
    "df_region.persist(pyspark.StorageLevel.MEMORY_ONLY)"
   ]
  },
  {
   "cell_type": "code",
   "execution_count": 18,
   "metadata": {},
   "outputs": [
    {
     "data": {
      "application/vnd.jupyter.widget-view+json": {
       "model_id": "b2806b2c96f1444d822af074f71b3a2a",
       "version_major": 2,
       "version_minor": 0
      },
      "text/plain": [
       "VBox()"
      ]
     },
     "metadata": {},
     "output_type": "display_data"
    },
    {
     "data": {
      "application/vnd.jupyter.widget-view+json": {
       "model_id": "",
       "version_major": 2,
       "version_minor": 0
      },
      "text/plain": [
       "FloatProgress(value=0.0, bar_style='info', description='Progress:', layout=Layout(height='25px', width='50%'),…"
      ]
     },
     "metadata": {},
     "output_type": "display_data"
    }
   ],
   "source": [
    "# SPG Products\n",
    "df_products = spark.read.parquet(\"s3a://\"+SPG_INTEGRATION_INPUT_BUCKET+\"/\"+SPG_INTEGRATION_INPUT_BUCKET_PRODUCTS)"
   ]
  },
  {
   "cell_type": "code",
   "execution_count": 19,
   "metadata": {},
   "outputs": [
    {
     "data": {
      "application/vnd.jupyter.widget-view+json": {
       "model_id": "2a25d96a998c45db91f004845288acf6",
       "version_major": 2,
       "version_minor": 0
      },
      "text/plain": [
       "VBox()"
      ]
     },
     "metadata": {},
     "output_type": "display_data"
    },
    {
     "data": {
      "application/vnd.jupyter.widget-view+json": {
       "model_id": "",
       "version_major": 2,
       "version_minor": 0
      },
      "text/plain": [
       "FloatProgress(value=0.0, bar_style='info', description='Progress:', layout=Layout(height='25px', width='50%'),…"
      ]
     },
     "metadata": {},
     "output_type": "display_data"
    },
    {
     "name": "stdout",
     "output_type": "stream",
     "text": [
      "{u'AcceptRanges': 'bytes', u'ContentType': 'binary/octet-stream', 'ResponseMetadata': {'HTTPStatusCode': 200, 'RetryAttempts': 0, 'HostId': 'npLUgQZmAmfsd4dPVHESH5ZRimrurWrVIx3S0g8WkZW2pcEcfLVbxjhq9BVVUvlh2z7HIK5A2Qc=', 'RequestId': '43463A232B5C9907', 'HTTPHeaders': {'content-length': '792716903', 'x-amz-id-2': 'npLUgQZmAmfsd4dPVHESH5ZRimrurWrVIx3S0g8WkZW2pcEcfLVbxjhq9BVVUvlh2z7HIK5A2Qc=', 'accept-ranges': 'bytes', 'server': 'AmazonS3', 'last-modified': 'Fri, 06 Dec 2019 13:31:37 GMT', 'x-amz-request-id': '43463A232B5C9907', 'etag': '\"83b8d0f7123dd467836ef4b7d8d48039-6\"', 'date': 'Fri, 06 Dec 2019 13:32:28 GMT', 'content-type': 'binary/octet-stream'}}, u'LastModified': datetime.datetime(2019, 12, 6, 13, 31, 37, tzinfo=tzutc()), u'ContentLength': 792716903, u'ETag': '\"83b8d0f7123dd467836ef4b7d8d48039-6\"', u'Metadata': {}}"
     ]
    }
   ],
   "source": [
    "df_products.write.partitionBy(144);\n",
    "df_products = df_products.repartition(144);\n",
    "df_products.persist(pyspark.StorageLevel.MEMORY_ONLY)"
   ]
  },
  {
   "cell_type": "code",
   "execution_count": 20,
   "metadata": {},
   "outputs": [
    {
     "data": {
      "application/vnd.jupyter.widget-view+json": {
       "model_id": "8c3fe7be71c44935aa5e28b3f1dc9dac",
       "version_major": 2,
       "version_minor": 0
      },
      "text/plain": [
       "VBox()"
      ]
     },
     "metadata": {},
     "output_type": "display_data"
    },
    {
     "data": {
      "application/vnd.jupyter.widget-view+json": {
       "model_id": "",
       "version_major": 2,
       "version_minor": 0
      },
      "text/plain": [
       "FloatProgress(value=0.0, bar_style='info', description='Progress:', layout=Layout(height='25px', width='50%'),…"
      ]
     },
     "metadata": {},
     "output_type": "display_data"
    }
   ],
   "source": [
    "# SPG Calendar\n",
    "df_calendar = spark.read.parquet(\"s3a://\"+SPG_INPUT_BUCKET+\"/\"+SPG_INPUT_BUCKET_CALENDAR)"
   ]
  },
  {
   "cell_type": "code",
   "execution_count": 21,
   "metadata": {},
   "outputs": [
    {
     "data": {
      "application/vnd.jupyter.widget-view+json": {
       "model_id": "6b3a136d007340e3a49ad18d5069ca2f",
       "version_major": 2,
       "version_minor": 0
      },
      "text/plain": [
       "VBox()"
      ]
     },
     "metadata": {},
     "output_type": "display_data"
    },
    {
     "data": {
      "application/vnd.jupyter.widget-view+json": {
       "model_id": "",
       "version_major": 2,
       "version_minor": 0
      },
      "text/plain": [
       "FloatProgress(value=0.0, bar_style='info', description='Progress:', layout=Layout(height='25px', width='50%'),…"
      ]
     },
     "metadata": {},
     "output_type": "display_data"
    }
   ],
   "source": [
    "df_calendar.write.partitionBy(144);\n",
    "df_calendar = df_calendar.repartition(144);\n",
    "df_calendar.persist(pyspark.StorageLevel.MEMORY_ONLY)"
   ]
  },
  {
   "cell_type": "code",
   "execution_count": 22,
   "metadata": {
    "scrolled": true
   },
   "outputs": [
    {
     "data": {
      "application/vnd.jupyter.widget-view+json": {
       "model_id": "0bdf117fb8ed4299ad5d843604ea5dc7",
       "version_major": 2,
       "version_minor": 0
      },
      "text/plain": [
       "VBox()"
      ]
     },
     "metadata": {},
     "output_type": "display_data"
    },
    {
     "data": {
      "application/vnd.jupyter.widget-view+json": {
       "model_id": "",
       "version_major": 2,
       "version_minor": 0
      },
      "text/plain": [
       "FloatProgress(value=0.0, bar_style='info', description='Progress:', layout=Layout(height='25px', width='50%'),…"
      ]
     },
     "metadata": {},
     "output_type": "display_data"
    },
    {
     "name": "stdout",
     "output_type": "stream",
     "text": [
      "DataFrame[addvaldays: string, agreementid: string, blockresource: string, cgfinalcdesc: string, custcitynameship: string, confirmeddate: string, confirmedweek: string, contract: string, convertedunit: string, corporategroup: string, custcountry: string, createdby: string, creditissue: string, currency: string, custrollnumber: string, custcondgroup1: string, custcondgroup2: string, custcondgroup3: string, custcondgroup4: string, custcondgroup5: string, customergrp5: string, customerhier: string, custmatnumb: string, customer: string, customerpodate: string, cycleletter: string, dealcodejboss: string, dealname: string, deliverycalendar: string, deliverycalendardesc: string, deliverygrp: string, corporategroupname: string, custnameship: string, descdeliverybh: string, descdeliverybi: string, materialname: string, distchannel: string, division: string, divisiondesc: string, endmarket: string, finalapplication: string, fixedvaldate: string, goodsissuedate: string, grade: string, incoterms: string, innerrace: string, insiderepname: string, internalgrade: string, item: string, length: string, manualdiscblocked: string, market: string, material: string, materialgroup1: string, materialavaildate: string, custname: string, oem: string, order: string, ordercreationdate: string, ordertype: string, outsiderepname: string, statusoverall: string, poitemnumber: string, ponumber: string, payer: string, payername: string, paymentcondition: string, planningmat: string, plant: string, plantname: string, pricedate: string, pricegroup: string, prodstandard: string, prodhierarchy: string, quoteid: string, custregion: string, custregionship: string, requesteddate: string, rings: string, rollnumber: string, route: string, saesteelclass: string, salesdirectorname: string, salesgroup: string, salesgroupdesc: string, salesins: string, salesmanagername: string, salesoffice: string, salesorg: string, salesunit: string, custrship: string, shippingconditionname: string, shipppoint: string, shipppointdesc: string, steel: string, system: string, thick: string, tier1: string, width: string, pricedateover: string, allocationextra: string, balanceqtt: string, cgfinalc: string, comissionamt: string, comissionperc: string, kbetr__kschl31: string, kbetr__kschl32: string, kbetr__kschl33: string, kbetr__kschl34: string, kbetr__kschl35: string, kbetr__kschl60: string, confirmedqtt: string, crsurcharge: string, creditlimitutilization: string, customercreditlimit: string, destmktdisc: string, disamount: string, dispercent: string, extraamt: string, extraperc: string, finalappdisc: string, pricetax: string, finalprice: string, finshextraamount: string, finshextrapercent: string, foreigncosts: string, freightmnt: string, freightperc: string, freightcharge: string, fuelsurcharge: string, gradeextra: string, heattreatextra: string, inlandfreight: string, insurancemnt: string, insuranceperc: string, intlogextra: string, maritimefreight: string, lenghtextra: string, adicmanual: string, manualprice: string, mnsurcharge: string, mosurcharge: string, netbaseprice: string, netweight: string, nisurcharge: string, oemdisc: string, portexpenses: string, prdtypeextra: string, pricegrpdisc: string, pricegrpextra: string, pricebasedcust: string, pricepractcust: string, priceproduct: string, pricewtaxes: string, qttinport: string, qttinstock: string, quantitywdelivery: string, qttwshipment: string, reqqttconv: string, requestedqtt: string, scrapsurch: string, segmktdisc: string, deliveredquantity: string, stdcost: string, surchargeamt: string, surchargeperc: string, systemdisc: string, taxes: string, tier1disc: string, totalinvoicevalue: string, vsurcharge: string, warehousecharge: string, zd01: string, zd02: string, zd03: string, zd04: string, zd05: string, zd06: string, zd07: string, zd08: string, zd09: string, zd10: string, zd11: string, zd12: string, zd13: string, zd14: string, zd17: string, zd18: string, kbetr__kschl54: string, kbetr__kschl56: string, kbetr__kschl58: string, kbetr__kschl39: string, kbetr__kschl57: string, kbetr__kschl59: string, kbetr__kschl55: string, kbetr__kschl61: string, kbetr__kschl1: string, kbetr__kschl2: string, kbetr__kschl3: string, kbetr__kschl4: string, kbetr__kschl6: string, kbetr__kschl8: string, kbetr__kschl10: string, kbetr__kschl11: string, kbetr__kschl12: string, kbetr__kschl13: string, kbetr__kschl14: string, kbetr__kschl15: string, kbetr__kschl16: string, kbetr__kschl17: string, kbetr__kschl18: string, kbetr__kschl19: string, kbetr__kschl20: string, kbetr__kschl21: string, kbetr__kschl22: string, kbetr__kschl23: string, kbetr__kschl24: string, kbetr__kschl25: string, kbetr__kschl26: string, kbetr__kschl27: string, kbetr__kschl28: string, kbetr__kschl29: string, kbetr__kschl30: string, kbetr__kschl36: string, kbetr__kschl37: string, kbetr__kschl49: string, kbetr__kschl50: string, kbetr__kschl52: string, kbetr__kschl38: string, kbetr__kschl40: string, kbetr__kschl41: string, kbetr__kschl42: string, kbetr__kschl43: string, kbetr__kschl44: string, kbetr__kschl45: string, kbetr__kschl46: string, kbetr__kschl47: string, kbetr__kschl48: string, brfinanceextra: string, zft4: string, zft7: string, zft8: string, kbetr__kschl5: string, kbetr__kschl7: string, kbetr__kschl9: string, kbetr__kschl51: string, kbetr__kschl53: string, zp01baseprice: string, manualextra: string, orderreason: string, dt_load: string, data_load_timestamp_parquet: string, data_load_timestamp_raw: string, max_date: string]"
     ]
    }
   ],
   "source": [
    "# pv\n",
    "df_pv = spark.read.parquet(\"s3a://\"+SPG_INPUT_BUCKET+\"/\"+SPG_INPUT_BUCKET_SALES_PREVISION)"
   ]
  },
  {
   "cell_type": "code",
   "execution_count": 23,
   "metadata": {},
   "outputs": [
    {
     "data": {
      "application/vnd.jupyter.widget-view+json": {
       "model_id": "0d132f446603425c9e680a6bfd612949",
       "version_major": 2,
       "version_minor": 0
      },
      "text/plain": [
       "VBox()"
      ]
     },
     "metadata": {},
     "output_type": "display_data"
    },
    {
     "data": {
      "application/vnd.jupyter.widget-view+json": {
       "model_id": "",
       "version_major": 2,
       "version_minor": 0
      },
      "text/plain": [
       "FloatProgress(value=0.0, bar_style='info', description='Progress:', layout=Layout(height='25px', width='50%'),…"
      ]
     },
     "metadata": {},
     "output_type": "display_data"
    }
   ],
   "source": [
    "df_pv.write.partitionBy(144);\n",
    "df_pv = df_pv.repartition(144);\n",
    "df_pv.persist(pyspark.StorageLevel.MEMORY_ONLY)"
   ]
  },
  {
   "cell_type": "code",
   "execution_count": 24,
   "metadata": {},
   "outputs": [
    {
     "data": {
      "application/vnd.jupyter.widget-view+json": {
       "model_id": "ab6bb678109f4d7ca496e123087aa95d",
       "version_major": 2,
       "version_minor": 0
      },
      "text/plain": [
       "VBox()"
      ]
     },
     "metadata": {},
     "output_type": "display_data"
    },
    {
     "data": {
      "application/vnd.jupyter.widget-view+json": {
       "model_id": "",
       "version_major": 2,
       "version_minor": 0
      },
      "text/plain": [
       "FloatProgress(value=0.0, bar_style='info', description='Progress:', layout=Layout(height='25px', width='50%'),…"
      ]
     },
     "metadata": {},
     "output_type": "display_data"
    },
    {
     "name": "stdout",
     "output_type": "stream",
     "text": [
      "DataFrame[NUMERIC_DATE: string, CURRENT_DATE: string, CURRENT_WEEK_NUMBER: string, CURRENT_MONTH: string, CURRENT_WEEK_NUMBER_MONTH: string, CURRENT_WEEKEND: string, LMONTH_DATE: string, LMONTH_WEEK_NUMBER: string, LAST_MONTH: string, LMONTH_WEEK_NUMBER_MONTH: string, LMONTH_WEEKEND: string, L2MONTHS_DATE: string, L2MONTHS_WEEK_NUMBER: string, LAST_2_MONTHS: string, L2MONTHS_WEEK_NUMBER_MONTH: string, L2MONTHS_WEEKEND: string, LYEAR_DATE: string, LYEAR_WEEK_NUMBER: string, LYEAR_MONTH: string, LYEAR_WEEK_NUMBER_MONTH: string, LYEAR_WEEKEND: string]"
     ]
    }
   ],
   "source": [
    "# pex\n",
    "df_pex = spark.read.parquet(\"s3a://\"+SPG_INPUT_BUCKET+\"/\"+SPG_INPUT_BUCKET_PEX)"
   ]
  },
  {
   "cell_type": "code",
   "execution_count": 25,
   "metadata": {},
   "outputs": [
    {
     "data": {
      "application/vnd.jupyter.widget-view+json": {
       "model_id": "3dad92afb7274fd4a3f6485e6d39fde1",
       "version_major": 2,
       "version_minor": 0
      },
      "text/plain": [
       "VBox()"
      ]
     },
     "metadata": {},
     "output_type": "display_data"
    },
    {
     "data": {
      "application/vnd.jupyter.widget-view+json": {
       "model_id": "",
       "version_major": 2,
       "version_minor": 0
      },
      "text/plain": [
       "FloatProgress(value=0.0, bar_style='info', description='Progress:', layout=Layout(height='25px', width='50%'),…"
      ]
     },
     "metadata": {},
     "output_type": "display_data"
    }
   ],
   "source": [
    "df_pex.write.partitionBy(144);\n",
    "df_pex = df_pex.repartition(144);\n",
    "df_pex.persist(pyspark.StorageLevel.MEMORY_ONLY)"
   ]
  },
  {
   "cell_type": "code",
   "execution_count": 26,
   "metadata": {
    "scrolled": true
   },
   "outputs": [
    {
     "data": {
      "application/vnd.jupyter.widget-view+json": {
       "model_id": "d89db554be0a43bc9cb78128099928f3",
       "version_major": 2,
       "version_minor": 0
      },
      "text/plain": [
       "VBox()"
      ]
     },
     "metadata": {},
     "output_type": "display_data"
    },
    {
     "data": {
      "application/vnd.jupyter.widget-view+json": {
       "model_id": "",
       "version_major": 2,
       "version_minor": 0
      },
      "text/plain": [
       "FloatProgress(value=0.0, bar_style='info', description='Progress:', layout=Layout(height='25px', width='50%'),…"
      ]
     },
     "metadata": {},
     "output_type": "display_data"
    },
    {
     "name": "stdout",
     "output_type": "stream",
     "text": [
      "DataFrame[MANDT: int, VBELN: string, POSNR: int, MATNR: string, MATWA: string, PMATN: string, CHARG: string, MATKL: string, ARKTX: string, PSTYV: string, POSAR: string, LFREL: string, FKREL: string, UEPOS: int, GRPOS: int, ABGRU: string, PRODH: string, ZWERT: double, ZMENG: double, ZIEME: string, UMZIZ: double, UMZIN: double, MEINS: string, SMENG: double, ABLFZ: double, ABDAT: string, ABSFZ: double, POSEX: string, KDMAT: string, KBVER: double, KEVER: double, VKGRU: string, VKAUS: string, GRKOR: int, FMENG: string, UEBTK: string, UEBTO: double, UNTTO: double, FAKSP: string, ATPKZ: string, RKFKF: string, SPART: string, GSBER: string, NETWR: double, WAERK: string, ANTLF: double, KZTLF: string, CHSPL: string, KWMENG: double, LSMENG: double, KBMENG: double, KLMENG: double, VRKME: string, UMVKZ: double, UMVKN: double, BRGEW: double, NTGEW: double, GEWEI: string, VOLUM: double, VOLEH: string, VBELV: string, POSNV: int, VGBEL: string, VGPOS: int, VOREF: string, UPFLU: string, ERLRE: string, LPRIO: int, WERKS: string, LGORT: string, VSTEL: string, ROUTE: string, STKEY: string, STDAT: string, STLNR: string, STPOS: double, AWAHR: int, ERDAT: string, ERNAM: string, ERZET: string, TAXM1: string, TAXM2: string, TAXM3: string, TAXM4: string, TAXM5: string, TAXM6: string, TAXM7: string, TAXM8: string, TAXM9: string, VBEAF: double, VBEAV: double, VGREF: string, NETPR: double, KPEIN: double, KMEIN: string, SHKZG: string, SKTOF: string, MTVFP: string, SUMBD: string, KONDM: string, KTGRM: string, BONUS: string, PROVG: string, EANNR: string, PRSOK: string, BWTAR: string, BWTEX: string, XCHPF: string, XCHAR: string, LFMNG: double, STAFO: string, WAVWR: double, KZWI1: double, KZWI2: double, KZWI3: double, KZWI4: double, KZWI5: double, KZWI6: double, STCUR: double, AEDAT: string, EAN11: string, FIXMG: string, PRCTR: string, MVGR1: string, MVGR2: string, MVGR3: string, MVGR4: string, MVGR5: string, KMPMG: double, SUGRD: string, SOBKZ: string, VPZUO: string, PAOBJNR: int, PS_PSP_PNR: int, AUFNR: string, VPMAT: string, VPWRK: string, PRBME: string, UMREF: double, KNTTP: string, KZVBR: string, SERNR: string, OBJNR: string, ABGRS: string, BEDAE: string, CMPRE: double, CMTFG: string, CMPNT: string, CMKUA: double, CUOBJ: int, CUOBJ_CH: int, CEPOK: string, KOUPD: string, SERAIL: string, ANZSN: int, NACHL: string, MAGRV: string, MPROK: string, VGTYP: string, PROSA: string, UEPVW: string, KALNR: int, KLVAR: string, SPOSN: string, KOWRR: string, STADAT: string, EXART: string, PREFE: string, KNUMH: string, CLINT: int, CHMVS: int, STLTY: string, STLKN: int, STPOZ: int, STMAN: string, ZSCHL_K: string, KALSM_K: string, KALVAR: string, KOSCH: string, UPMAT: string, UKONM: string, MFRGR: string, PLAVO: string, KANNR: string, CMPRE_FLT: double, ABFOR: string, ABGES: double, J_1BCFOP: string, J_1BTAXLW1: string, J_1BTAXLW2: string, J_1BTXSDC: string, WKTNR: string, WKTPS: int, SKOPF: string, KZBWS: string, WGRU1: string, WGRU2: string, KNUMA_PI: string, KNUMA_AG: string, KZFME: string, LSTANR: string, TECHS: string, MWSBP: double, BERID: string, PCTRF: string, LOGSYS_EXT: string, J_1BTAXLW3: string, J_1BTAXLW4: string, J_1BTAXLW5: string, STOCKLOC: string, SLOCTYPE: string, MSR_RET_REASON: string, MSR_REFUND_CODE: string, MSR_APPROV_BLOCK: string, NRAB_KNUMH: string, TRMRISK_RELEVANT: string, SGT_RCAT: string, HANDOVERLOC: string, HANDOVERDATE: string, HANDOVERTIME: string, TC_AUT_DET: string, MANUAL_TC_REASON: string, FISCAL_INCENTIVE: string, TAX_SUBJECT_ST: string, FISCAL_INCENTIVE_ID: string, SPCSTO: int, /BEV1/SRFUND: string, AUFPL_OLC: int, APLZL_OLC: int, PLAUFZ: int, PLAUEZ: string, CONTNBR: string, CONTITM: int, AUDAT: string, AD01PROFNR: string, ADMOI: string, ADICC: int, ADPRI: string, SEL: int, CCI: string, SEN: int, PSEL: int, PCCI: string, PSEN: int, CAN: string, ICY: string, ITY: string, KWD: string, AGE: string, SPQ: int, PLT: int, DMC: string, MSQ: int, PCA: string, UDC: string, SHM: string, CAR: string, SHF: string, COP: string, IPP: string, SIN: string, TRU: string, AMN: string, ECC: string, DNO: string, STATUS: string, LABSG: string, FABSG: string, PR_L_L: string, PR_F_F: string, PR_F_L: string, FERC_IND: string, KOSTL: string, FONDS: string, FISTL: string, FKBER: string, GRANT_NBR: string, BUDGET_PD: string, FITLIST: string, RULECHECK: string, IUID_RELEVANT: string, EQUNR: string, EQART: string, J_3GLVART: string, J_3GDATVO: string, J_3GDATBI: string, J_3GBELNRI: string, J_3GPOSNRI: int, MILL_SE_GPOSN: int, MILL_BATCH_SEL_F: string, OID_EXTBOL: string, OID_MISCDL: string, OIPLANTD: string, OIBYPASS: string, OIEDOK: string, CMETH: string, OITAXFROM: string, OIHANTYP: string, OITAXGRP: string, OITAXTO: string, OICERTF1: string, OIOILCON: double, OIEDBAL: string, OIPRICIE: string, OIINEX: string, OIEDBALM: string, OIDRC: string, OIC_DRCTRY: string, OIC_DRCREG: string, OIMETIND: string, OIWAP: string, OISLF: string, OIPSDRC: string, OIPIPEVAL: string, OIC_LIFNR: string, OIC_DCITYC: string, OIC_DCOUNC: string, OIC_DREGIO: string, OIC_DLAND1: string, OIC_OCITYC: string, OIC_OCOUNC: string, OIC_OREGIO: string, OIC_OLAND1: string, OIC_PORGIN: string, OIC_PDESTN: string, OIC_PTRIP: string, OIC_PBATCH: string, OIC_MOT: string, OIC_AORGIN: string, OIC_ADESTN: string, OIC_TRUCKN: string, OIA_BASELO: string, OIEXGNUM: string, OIEXGTYP: string, OIFEETOT: double, OIFEEDT: string, OINETCYC: string, OICONTNR: string, OIC_KMPOS: int, OIFEECH: string, OIH_LICTP: string, OIH_LICIN: string, OIH_LCFOL: string, OIH_FOLQTY: double, OISBREL: int, OIBASPROD: string, OIDMSG_PRD: string, OIDMSG_QTY: string, OIDMSG_UOM: string, OIDMSG_DAT: string, OIDMSG_TRM: string, OIDMSG_SHP: string, OIGNRULE: int, OID_SHIP: string, OIBWTAR_IM: string, OIHANTYP_IM: string, OITAXGRP_IM: string, OITAXFROM_IM: string, OITAXTO_IM: string, OIEDBAL_IM: string, OIEDBALM_IM: string, OIPRICIE_IM: string, OIBWTAR_EX: string, OIHANTYP_EX: string, OITAXGRP_EX: string, OITAXFROM_EX: string, OITAXTO_EX: string, OIEDBAL_EX: string, OIEDBALM_EX: string, OIPRICIE_EX: string, OIINEX_EX: string, OICERTF1_EX: string, OIH_LICTP_EX: string, OIH_LICIN_EX: string, OIH_LCFOL_EX: string, OIH_FOLQTY_EX: double, OIHTAXRCP_EX: string, OIHNOTWERKS: string, OIHNOTLGORT: string, OIHCOTDISCH: string, PRS_OBJNR: string, PRS_SD_SPSNR: int, PRS_WORK_PERIOD: int, TAS: string, BETC: string, MOD_ALLOW: string, CANCEL_ALLOW: string, PAY_METHOD: string, BPN: string, REP_FREQ: string, FMFGUS_KEY: string, PARGB: string, AUFPL_OAA: int, APLZL_OAA: int, SCNBR: string, SCITEM: int, SCMATNR: string, PROFILE: string, VARIANT: string, VLCENDCU: string, ARSNUM: int, ARSPOS: int, WTYSC_CLMITEM: string, ZZCONFIG_ID: string, WEEKNO: int, ZZDATCUST: string, ZZDATMILL: string, ZZMINDELTOL: double, ZZMAXDELTOL: double, ZZMARK: string, ZZMINCOIL: double, ZZMAXCOIL: double, ZZINCOILDIAMIN: int, ZZINCOILDIAMAX: int, ZZEXCOILDIAMIN: int, ZZEXCOILDIAMAX: int, ZZPOSCOILAX: string, ORI_VBELN: string, ORI_POSNR: int, ZZICMS_UNIT: double, ZZICMS_IPI_UNIT: double, ZZICMS_IPI_T: double, ZZFABKL: string, ZZDSCAL: string, ZZDEAL_CODE: string, ZZRANDOM_LENGTH: string, ZZERROR_CODE: string, ZZID_NUMBER: string, ZZMGRD: string, ZZPRICING: string, ZZINITPRD: string, ZZCHGORDNO: string, ZZORGQTY: double, ZZORGQTYUOM: string, ZZORGVAL: double, ZZCURR: string, ZZORGBILUN: double, ZZORGBILUOM: string, ZZVENDNAME: string, ZZPURAGRNO: string, ZZWTREV50: string, ZZWTREV75: string, ZZWTREV90: string, ZZWTREV100: string, ZZWACT50: double, ZZWACT75: double, ZZWACT90: double, ZZWACT100: double, ZZWTUN50: double, ZZWTUN75: double, ZZWTUN90: double, ZZWTUN100: double, ZZQUOTE_ID: string, ZZAGREE_ID: string, ZZRESN_CD: string, ZZBAR_STMP: string, ZZCLR_CD: string, ZZCUT_LEN: string, ZZMISC: string, ZZOFF_CY_ROL: string, ZZORD_CHG: string, ZZPK_BAGS: string, ZZPK_BAGS_PLT: string, ZZPK_DRM: string, ZZPK_DRM_PLT: string, ZZPK_EXT_PCNT: string, ZZPK_EXTR_BNDG: string, ZZSHP_EXP_DEL: string, ZZSHP_FRGT_PRC: string, ZZSHP_LTL: string, ZZSHP_MLT_DRP: string, ZZSHP_TRP: string, ZZSML_ORD_SIZE: string, ZZSPC_HAND: string, ZZSTOR_MNTH: string, ZZSTOR_TWO_MNTH: string, ZZSTOR_SIXTY_PLUS: string, ZZSTOR_INSIDE: string, ZZTEST: string, ZZCYCLE: string, ZZPRDCT_SPECIFI: string, ZZFE_TOTAL: double, ZZSIO2: double, ZZAL2O3: double, ZZMN_TOTAL: double, ZZP: double, ZZPPC: double, ZZMOISTURE: double, ZZGT_0_150_MM: double, ZZLT_0_150_MM: double, ZZLT_0_045_MM: double, ZZLT_6_3_MM: double, ZZGT_12_5_LT_31_5_MM: double, ZZGT_31_5_MM: double, ZZGT_6_3_LT_19_0_MM: double, ZZGT_19_0_MM: double, ZZGT_6_3_MM: double, ZZGT_1_0_MM: double, DATA_LOAD_TIMESTAMP_PARQUET: string, DATA_LOAD_TIMESTAMP_RAW: string]"
     ]
    }
   ],
   "source": [
    "# Alçada\n",
    "df_alcada = spark.read.parquet(\"s3a://\"+SPG_INPUT_BUCKET+\"/\"+SPG_INPUT_BUCKET_VERGE)"
   ]
  },
  {
   "cell_type": "code",
   "execution_count": 27,
   "metadata": {},
   "outputs": [
    {
     "data": {
      "application/vnd.jupyter.widget-view+json": {
       "model_id": "e00a9cf284874e8c8158bf32ff1c36a4",
       "version_major": 2,
       "version_minor": 0
      },
      "text/plain": [
       "VBox()"
      ]
     },
     "metadata": {},
     "output_type": "display_data"
    },
    {
     "data": {
      "application/vnd.jupyter.widget-view+json": {
       "model_id": "",
       "version_major": 2,
       "version_minor": 0
      },
      "text/plain": [
       "FloatProgress(value=0.0, bar_style='info', description='Progress:', layout=Layout(height='25px', width='50%'),…"
      ]
     },
     "metadata": {},
     "output_type": "display_data"
    }
   ],
   "source": [
    "df_alcada.write.partitionBy(144);\n",
    "df_alcada = df_alcada.repartition(144);\n",
    "df_alcada.persist(pyspark.StorageLevel.MEMORY_ONLY)"
   ]
  },
  {
   "cell_type": "code",
   "execution_count": 28,
   "metadata": {},
   "outputs": [
    {
     "data": {
      "application/vnd.jupyter.widget-view+json": {
       "model_id": "7a96f2720b4640458ca079328c1d5a61",
       "version_major": 2,
       "version_minor": 0
      },
      "text/plain": [
       "VBox()"
      ]
     },
     "metadata": {},
     "output_type": "display_data"
    },
    {
     "data": {
      "application/vnd.jupyter.widget-view+json": {
       "model_id": "",
       "version_major": 2,
       "version_minor": 0
      },
      "text/plain": [
       "FloatProgress(value=0.0, bar_style='info', description='Progress:', layout=Layout(height='25px', width='50%'),…"
      ]
     },
     "metadata": {},
     "output_type": "display_data"
    },
    {
     "name": "stdout",
     "output_type": "stream",
     "text": [
      "DataFrame[MANDT: int, SPRAS: string, AUART: string, BEZEI: string, TXT_BUTTON: string, DATA_LOAD_TIMESTAMP_PARQUET: string, DATA_LOAD_TIMESTAMP_RAW: string]"
     ]
    }
   ],
   "source": [
    "# Import CSV from View\n",
    "\n",
    "athena_response = get_aws_path(QUERY_WALLET,ATHENA_SPG,S3_ATHENA_OUTPUT)\n",
    "\n",
    "wait_athena_load(SPG_QUERY_BUCKET, SPG_QUERY_BUCKET_ATHENA+\"/\"+athena_response+\".csv\")"
   ]
  },
  {
   "cell_type": "code",
   "execution_count": 29,
   "metadata": {},
   "outputs": [
    {
     "data": {
      "application/vnd.jupyter.widget-view+json": {
       "model_id": "aa3d30e3e51547a1bd2eaa1ded00c80f",
       "version_major": 2,
       "version_minor": 0
      },
      "text/plain": [
       "VBox()"
      ]
     },
     "metadata": {},
     "output_type": "display_data"
    },
    {
     "data": {
      "application/vnd.jupyter.widget-view+json": {
       "model_id": "",
       "version_major": 2,
       "version_minor": 0
      },
      "text/plain": [
       "FloatProgress(value=0.0, bar_style='info', description='Progress:', layout=Layout(height='25px', width='50%'),…"
      ]
     },
     "metadata": {},
     "output_type": "display_data"
    }
   ],
   "source": [
    "df_wallet = spark.read.csv(\"s3a://\"+SPG_QUERY_BUCKET+\"/\"+SPG_QUERY_BUCKET_ATHENA+\"/\"+athena_response+\".csv\", header = 'true')"
   ]
  },
  {
   "cell_type": "code",
   "execution_count": 30,
   "metadata": {},
   "outputs": [
    {
     "data": {
      "application/vnd.jupyter.widget-view+json": {
       "model_id": "8a96ae87384d4ac1a1a90bbb7c5132c4",
       "version_major": 2,
       "version_minor": 0
      },
      "text/plain": [
       "VBox()"
      ]
     },
     "metadata": {},
     "output_type": "display_data"
    },
    {
     "data": {
      "application/vnd.jupyter.widget-view+json": {
       "model_id": "",
       "version_major": 2,
       "version_minor": 0
      },
      "text/plain": [
       "FloatProgress(value=0.0, bar_style='info', description='Progress:', layout=Layout(height='25px', width='50%'),…"
      ]
     },
     "metadata": {},
     "output_type": "display_data"
    },
    {
     "name": "stdout",
     "output_type": "stream",
     "text": [
      "DataFrame[GPD_COD: string, SALES_ORG_COD: string, MEASURE_UNIT: string, MONTH_YEAR: string, STATE: string, SALES_OFFICE: string, VOLUME: string, DESC_GPD: string, DESC_GPM: string]"
     ]
    }
   ],
   "source": [
    "# Import CSV from View\n",
    "\n",
    "df_wallet = spark.read.csv(\"s3a://\"+SPG_QUERY_BUCKET+\"/\"+SPG_QUERY_BUCKET_ATHENA+\"/\"+athena_response+\".csv\", header = 'true')"
   ]
  },
  {
   "cell_type": "code",
   "execution_count": 31,
   "metadata": {},
   "outputs": [
    {
     "data": {
      "application/vnd.jupyter.widget-view+json": {
       "model_id": "1ac1c9f3e7b84053adc8091a3c802090",
       "version_major": 2,
       "version_minor": 0
      },
      "text/plain": [
       "VBox()"
      ]
     },
     "metadata": {},
     "output_type": "display_data"
    },
    {
     "data": {
      "application/vnd.jupyter.widget-view+json": {
       "model_id": "",
       "version_major": 2,
       "version_minor": 0
      },
      "text/plain": [
       "FloatProgress(value=0.0, bar_style='info', description='Progress:', layout=Layout(height='25px', width='50%'),…"
      ]
     },
     "metadata": {},
     "output_type": "display_data"
    }
   ],
   "source": [
    "# Wallet (Sales Order Table)\n",
    "#df_wallet = spark.read.parquet(\"s3a://\"+GERDAU_BUCKET+\"/\"+GERDAU_BUCKET_WALLET_INPUT_PATH)"
   ]
  },
  {
   "cell_type": "code",
   "execution_count": 32,
   "metadata": {},
   "outputs": [
    {
     "data": {
      "application/vnd.jupyter.widget-view+json": {
       "model_id": "9e8cc33e49e147ecb9f4532632e02051",
       "version_major": 2,
       "version_minor": 0
      },
      "text/plain": [
       "VBox()"
      ]
     },
     "metadata": {},
     "output_type": "display_data"
    },
    {
     "data": {
      "application/vnd.jupyter.widget-view+json": {
       "model_id": "",
       "version_major": 2,
       "version_minor": 0
      },
      "text/plain": [
       "FloatProgress(value=0.0, bar_style='info', description='Progress:', layout=Layout(height='25px', width='50%'),…"
      ]
     },
     "metadata": {},
     "output_type": "display_data"
    },
    {
     "name": "stdout",
     "output_type": "stream",
     "text": [
      "DataFrame[GPD_COD: string, SALES_ORG_COD: string, VALUE_BRL: string, STATE: string, MONTH_YEAR: string, SALES_OFFICE: string, MEASURE_UNIT: string, VOLUME: string, DESC_GPD: string, DESC_GPM: string]"
     ]
    }
   ],
   "source": [
    "df_wallet.write.partitionBy(144);\n",
    "df_wallet = df_wallet.repartition(144);\n",
    "df_wallet.persist(pyspark.StorageLevel.MEMORY_ONLY)"
   ]
  },
  {
   "cell_type": "markdown",
   "metadata": {},
   "source": [
    "-------------"
   ]
  },
  {
   "cell_type": "markdown",
   "metadata": {},
   "source": [
    "# Preparing ZEB1 Table"
   ]
  },
  {
   "cell_type": "code",
   "execution_count": 37,
   "metadata": {},
   "outputs": [
    {
     "data": {
      "application/vnd.jupyter.widget-view+json": {
       "model_id": "c333c4529cd247b98ea99eb2bacbdafb",
       "version_major": 2,
       "version_minor": 0
      },
      "text/plain": [
       "VBox()"
      ]
     },
     "metadata": {},
     "output_type": "display_data"
    },
    {
     "data": {
      "application/vnd.jupyter.widget-view+json": {
       "model_id": "",
       "version_major": 2,
       "version_minor": 0
      },
      "text/plain": [
       "FloatProgress(value=0.0, bar_style='info', description='Progress:', layout=Layout(height='25px', width='50%'),…"
      ]
     },
     "metadata": {},
     "output_type": "display_data"
    }
   ],
   "source": [
    "df_zeb1=df_zeb1.select(df_zeb1.VBAK_VBELN.alias(\"SALES_ORDER_NUMBER_drop\")\n",
    "                      ,df_zeb1.VBAP_POSNR.alias(\"SALES_ORDER_ITEM_drop\")\n",
    "                      ,df_zeb1.ZEB1.alias(\"ZEB1\").cast(\"float\"))\\\n",
    "               .dropDuplicates()"
   ]
  },
  {
   "cell_type": "markdown",
   "metadata": {},
   "source": [
    "-------------"
   ]
  },
  {
   "cell_type": "markdown",
   "metadata": {},
   "source": [
    "# Preparing Regions Table"
   ]
  },
  {
   "cell_type": "code",
   "execution_count": 38,
   "metadata": {},
   "outputs": [
    {
     "data": {
      "application/vnd.jupyter.widget-view+json": {
       "model_id": "149e9a79f0644fb4a5f25cda66fadd3e",
       "version_major": 2,
       "version_minor": 0
      },
      "text/plain": [
       "VBox()"
      ]
     },
     "metadata": {},
     "output_type": "display_data"
    },
    {
     "data": {
      "application/vnd.jupyter.widget-view+json": {
       "model_id": "",
       "version_major": 2,
       "version_minor": 0
      },
      "text/plain": [
       "FloatProgress(value=0.0, bar_style='info', description='Progress:', layout=Layout(height='25px', width='50%'),…"
      ]
     },
     "metadata": {},
     "output_type": "display_data"
    }
   ],
   "source": [
    "# Normalizing the column IBGE_SAP_CITY_NAME\n",
    "df_region=df_region.withColumn(\"UPPER_NAME\", upper(replace_some_apostrophe(replace_some_space(replace_some_hifen(df_region[\"IBGE_SAP_CITY_NAME\"])))))"
   ]
  },
  {
   "cell_type": "code",
   "execution_count": 39,
   "metadata": {},
   "outputs": [
    {
     "data": {
      "application/vnd.jupyter.widget-view+json": {
       "model_id": "9a0532d8697d4db8a57e92102c058a39",
       "version_major": 2,
       "version_minor": 0
      },
      "text/plain": [
       "VBox()"
      ]
     },
     "metadata": {},
     "output_type": "display_data"
    },
    {
     "data": {
      "application/vnd.jupyter.widget-view+json": {
       "model_id": "",
       "version_major": 2,
       "version_minor": 0
      },
      "text/plain": [
       "FloatProgress(value=0.0, bar_style='info', description='Progress:', layout=Layout(height='25px', width='50%'),…"
      ]
     },
     "metadata": {},
     "output_type": "display_data"
    }
   ],
   "source": [
    "# Selecting Necessary Columns\n",
    "df_region=df_region.select(df_region.UPPER_NAME\n",
    "                          ,df_region.BRANCH\n",
    "                          ,df_region.IBGE_UF_ACRONYMS)"
   ]
  },
  {
   "cell_type": "code",
   "execution_count": 40,
   "metadata": {},
   "outputs": [
    {
     "data": {
      "application/vnd.jupyter.widget-view+json": {
       "model_id": "4cf72b184a2b41e285f00ed5dcadef86",
       "version_major": 2,
       "version_minor": 0
      },
      "text/plain": [
       "VBox()"
      ]
     },
     "metadata": {},
     "output_type": "display_data"
    },
    {
     "data": {
      "application/vnd.jupyter.widget-view+json": {
       "model_id": "",
       "version_major": 2,
       "version_minor": 0
      },
      "text/plain": [
       "FloatProgress(value=0.0, bar_style='info', description='Progress:', layout=Layout(height='25px', width='50%'),…"
      ]
     },
     "metadata": {},
     "output_type": "display_data"
    }
   ],
   "source": [
    "# Selecting necessary columns from Ragions DateFrame\n",
    "df_region2=df_region.select(df_region[\"IBGE_UF_ACRONYMS\"].alias(\"STATE_drop\")\n",
    "                           ,df_region[\"BRANCH\"]\n",
    "                           ,upper(df_region[\"UPPER_NAME\"]).alias(\"CITY_DROP\"))"
   ]
  },
  {
   "cell_type": "code",
   "execution_count": 41,
   "metadata": {},
   "outputs": [
    {
     "data": {
      "application/vnd.jupyter.widget-view+json": {
       "model_id": "a41a2195c96441b8bd8080f4aae769fd",
       "version_major": 2,
       "version_minor": 0
      },
      "text/plain": [
       "VBox()"
      ]
     },
     "metadata": {},
     "output_type": "display_data"
    },
    {
     "data": {
      "application/vnd.jupyter.widget-view+json": {
       "model_id": "",
       "version_major": 2,
       "version_minor": 0
      },
      "text/plain": [
       "FloatProgress(value=0.0, bar_style='info', description='Progress:', layout=Layout(height='25px', width='50%'),…"
      ]
     },
     "metadata": {},
     "output_type": "display_data"
    }
   ],
   "source": [
    "df_region3=df_region.select(df_region.IBGE_UF_ACRONYMS, df_region.BRANCH).filter(df_region.BRANCH.isNotNull()).dropDuplicates()"
   ]
  },
  {
   "cell_type": "markdown",
   "metadata": {},
   "source": [
    "----------------"
   ]
  },
  {
   "cell_type": "markdown",
   "metadata": {},
   "source": [
    "# Preparing Alcada Table"
   ]
  },
  {
   "cell_type": "code",
   "execution_count": 42,
   "metadata": {},
   "outputs": [
    {
     "data": {
      "application/vnd.jupyter.widget-view+json": {
       "model_id": "99c4f85eb0dd4f3fa76d92ccf70a9501",
       "version_major": 2,
       "version_minor": 0
      },
      "text/plain": [
       "VBox()"
      ]
     },
     "metadata": {},
     "output_type": "display_data"
    },
    {
     "data": {
      "application/vnd.jupyter.widget-view+json": {
       "model_id": "",
       "version_major": 2,
       "version_minor": 0
      },
      "text/plain": [
       "FloatProgress(value=0.0, bar_style='info', description='Progress:', layout=Layout(height='25px', width='50%'),…"
      ]
     },
     "metadata": {},
     "output_type": "display_data"
    }
   ],
   "source": [
    "df_alcada=df_alcada.select(df_alcada.sales_org_cod.alias(\"SALES_ORG_COD\")\n",
    "                          ,df_alcada.material_cod.alias(\"MATERIAL_COD\")\n",
    "                          ,df_alcada.ibge_uf_acronyms.alias(\"ISSUING_STATE\")\n",
    "                          ,df_alcada.ALCADA.cast(\"float\").alias(\"VERGE\"))\\\n",
    "                    .dropDuplicates()"
   ]
  },
  {
   "cell_type": "markdown",
   "metadata": {},
   "source": [
    "-----"
   ]
  },
  {
   "cell_type": "markdown",
   "metadata": {},
   "source": [
    "# Preparing Products Table"
   ]
  },
  {
   "cell_type": "code",
   "execution_count": 43,
   "metadata": {},
   "outputs": [
    {
     "data": {
      "application/vnd.jupyter.widget-view+json": {
       "model_id": "29f346cf56244caf934c19f9a829f22d",
       "version_major": 2,
       "version_minor": 0
      },
      "text/plain": [
       "VBox()"
      ]
     },
     "metadata": {},
     "output_type": "display_data"
    },
    {
     "data": {
      "application/vnd.jupyter.widget-view+json": {
       "model_id": "",
       "version_major": 2,
       "version_minor": 0
      },
      "text/plain": [
       "FloatProgress(value=0.0, bar_style='info', description='Progress:', layout=Layout(height='25px', width='50%'),…"
      ]
     },
     "metadata": {},
     "output_type": "display_data"
    }
   ],
   "source": [
    "# Selecting Necessary Columns\n",
    "df_products=df_products.select(df_products.DESC_GPD, df_products.COD_GPD\n",
    "                               ,df_products.DESC_GPM.alias(\"GPM_DESC\")\n",
    "                               ,df_products.COD_MATERIAL.alias(\"COD_MATERIAL_drop\")\n",
    "                               ,df_products.SALES_ORG_COD.alias(\"SALES_ORG_COD_drop\"))"
   ]
  },
  {
   "cell_type": "markdown",
   "metadata": {},
   "source": [
    "--------"
   ]
  },
  {
   "cell_type": "markdown",
   "metadata": {},
   "source": [
    "# Preparing Calendar Table"
   ]
  },
  {
   "cell_type": "code",
   "execution_count": 44,
   "metadata": {},
   "outputs": [
    {
     "data": {
      "application/vnd.jupyter.widget-view+json": {
       "model_id": "fc7c887cb01548ada563bbdf68908eed",
       "version_major": 2,
       "version_minor": 0
      },
      "text/plain": [
       "VBox()"
      ]
     },
     "metadata": {},
     "output_type": "display_data"
    },
    {
     "data": {
      "application/vnd.jupyter.widget-view+json": {
       "model_id": "",
       "version_major": 2,
       "version_minor": 0
      },
      "text/plain": [
       "FloatProgress(value=0.0, bar_style='info', description='Progress:', layout=Layout(height='25px', width='50%'),…"
      ]
     },
     "metadata": {},
     "output_type": "display_data"
    }
   ],
   "source": [
    "# Normalizing Date columns\n",
    "for col_name in [\"CURRENT_DATE\", \"LMONTH_DATE\", \"L2MONTHS_DATE\", \"LYEAR_DATE\"]:\n",
    "    df_calendar = df_calendar.withColumn(col_name, remove_some_hifen(col_name))"
   ]
  },
  {
   "cell_type": "code",
   "execution_count": 45,
   "metadata": {},
   "outputs": [
    {
     "data": {
      "application/vnd.jupyter.widget-view+json": {
       "model_id": "9f274e09fc9e497fb9108c3e5c5e39f2",
       "version_major": 2,
       "version_minor": 0
      },
      "text/plain": [
       "VBox()"
      ]
     },
     "metadata": {},
     "output_type": "display_data"
    },
    {
     "data": {
      "application/vnd.jupyter.widget-view+json": {
       "model_id": "",
       "version_major": 2,
       "version_minor": 0
      },
      "text/plain": [
       "FloatProgress(value=0.0, bar_style='info', description='Progress:', layout=Layout(height='25px', width='50%'),…"
      ]
     },
     "metadata": {},
     "output_type": "display_data"
    }
   ],
   "source": [
    "# Transforming string columns to DateTime\n",
    "for col_name in [\"CURRENT_DATE\", \"LMONTH_DATE\", \"L2MONTHS_DATE\", \"LYEAR_DATE\"]:\n",
    "    df_calendar = df_calendar.withColumn(col_name, from_unixtime(unix_timestamp(col_name, 'dd/MM/yyyy')))"
   ]
  },
  {
   "cell_type": "code",
   "execution_count": 46,
   "metadata": {},
   "outputs": [
    {
     "data": {
      "application/vnd.jupyter.widget-view+json": {
       "model_id": "453e54350e6f4bdebc6512ea1dec91d7",
       "version_major": 2,
       "version_minor": 0
      },
      "text/plain": [
       "VBox()"
      ]
     },
     "metadata": {},
     "output_type": "display_data"
    },
    {
     "data": {
      "application/vnd.jupyter.widget-view+json": {
       "model_id": "",
       "version_major": 2,
       "version_minor": 0
      },
      "text/plain": [
       "FloatProgress(value=0.0, bar_style='info', description='Progress:', layout=Layout(height='25px', width='50%'),…"
      ]
     },
     "metadata": {},
     "output_type": "display_data"
    }
   ],
   "source": [
    "# Filtering Time Horizon (possible variation - current: 6 months)\n",
    "df_calendar=df_calendar.filter(df_calendar['CURRENT_DATE']>=add_months(trunc(current_date(),\"month\"), -12)).filter(df_calendar['CURRENT_DATE']<=add_months(current_date(), 0)).distinct().dropDuplicates()"
   ]
  },
  {
   "cell_type": "markdown",
   "metadata": {},
   "source": [
    "----------------"
   ]
  },
  {
   "cell_type": "markdown",
   "metadata": {},
   "source": [
    "# Preparing Vbap Table"
   ]
  },
  {
   "cell_type": "code",
   "execution_count": 47,
   "metadata": {},
   "outputs": [
    {
     "data": {
      "application/vnd.jupyter.widget-view+json": {
       "model_id": "de5d880b40974be6968fec4a98767e9e",
       "version_major": 2,
       "version_minor": 0
      },
      "text/plain": [
       "VBox()"
      ]
     },
     "metadata": {},
     "output_type": "display_data"
    },
    {
     "data": {
      "application/vnd.jupyter.widget-view+json": {
       "model_id": "",
       "version_major": 2,
       "version_minor": 0
      },
      "text/plain": [
       "FloatProgress(value=0.0, bar_style='info', description='Progress:', layout=Layout(height='25px', width='50%'),…"
      ]
     },
     "metadata": {},
     "output_type": "display_data"
    }
   ],
   "source": [
    "df_vbap=df_vbap.select(df_vbap.VBELN.alias(\"SALES_ORDER_NUMBER_drop\")\n",
    "                     ,df_vbap.POSNR.alias(\"SALES_ORDER_ITEM_drop\")\n",
    "                     ,df_vbap.NETWR.alias(\"RLV\").cast(\"float\")\n",
    "                     ,df_vbap.ZZICMS_IPI_T.alias(\"RBV\").cast(\"float\")\n",
    "                     ,df_vbap.MWSBP.alias(\"TOTAL_TAXES\").cast(\"float\")\n",
    "                     ,df_vbap.KWMENG.cast(\"float\")\n",
    "                     ,df_vbap.UMVKZ.cast(\"float\")\n",
    "                     ,df_vbap.UMVKN.cast(\"float\"))\\\n",
    "              .distinct()"
   ]
  },
  {
   "cell_type": "code",
   "execution_count": 48,
   "metadata": {},
   "outputs": [
    {
     "data": {
      "application/vnd.jupyter.widget-view+json": {
       "model_id": "065c89671bb941b5be98f0ea0e7824ba",
       "version_major": 2,
       "version_minor": 0
      },
      "text/plain": [
       "VBox()"
      ]
     },
     "metadata": {},
     "output_type": "display_data"
    },
    {
     "data": {
      "application/vnd.jupyter.widget-view+json": {
       "model_id": "",
       "version_major": 2,
       "version_minor": 0
      },
      "text/plain": [
       "FloatProgress(value=0.0, bar_style='info', description='Progress:', layout=Layout(height='25px', width='50%'),…"
      ]
     },
     "metadata": {},
     "output_type": "display_data"
    }
   ],
   "source": [
    "df_vbap=df_vbap.withColumn(\"REQUESTED_QUANTITY\", ((col(\"KWMENG\")*col(\"UMVKZ\"))/col(\"UMVKN\")).cast(\"float\"))"
   ]
  },
  {
   "cell_type": "code",
   "execution_count": 49,
   "metadata": {},
   "outputs": [
    {
     "data": {
      "application/vnd.jupyter.widget-view+json": {
       "model_id": "6fdd5310f7d944dc91b096560e30f0b6",
       "version_major": 2,
       "version_minor": 0
      },
      "text/plain": [
       "VBox()"
      ]
     },
     "metadata": {},
     "output_type": "display_data"
    },
    {
     "data": {
      "application/vnd.jupyter.widget-view+json": {
       "model_id": "",
       "version_major": 2,
       "version_minor": 0
      },
      "text/plain": [
       "FloatProgress(value=0.0, bar_style='info', description='Progress:', layout=Layout(height='25px', width='50%'),…"
      ]
     },
     "metadata": {},
     "output_type": "display_data"
    }
   ],
   "source": [
    "df_vbap=df_vbap.withColumn(\"QUANTITY_TON\", col(\"REQUESTED_QUANTITY\").cast(\"float\"))"
   ]
  },
  {
   "cell_type": "code",
   "execution_count": 50,
   "metadata": {},
   "outputs": [
    {
     "data": {
      "application/vnd.jupyter.widget-view+json": {
       "model_id": "8d45ab7d4bb84a36b263de158f6e3b70",
       "version_major": 2,
       "version_minor": 0
      },
      "text/plain": [
       "VBox()"
      ]
     },
     "metadata": {},
     "output_type": "display_data"
    },
    {
     "data": {
      "application/vnd.jupyter.widget-view+json": {
       "model_id": "",
       "version_major": 2,
       "version_minor": 0
      },
      "text/plain": [
       "FloatProgress(value=0.0, bar_style='info', description='Progress:', layout=Layout(height='25px', width='50%'),…"
      ]
     },
     "metadata": {},
     "output_type": "display_data"
    }
   ],
   "source": [
    "df_vbap=df_vbap.drop(\"KWMENG\", \"UMVKZ\", \"UMVKN\")\\\n",
    "              .distinct()"
   ]
  },
  {
   "cell_type": "markdown",
   "metadata": {},
   "source": [
    "-------------"
   ]
  },
  {
   "cell_type": "markdown",
   "metadata": {},
   "source": [
    "# Preparing Wallet Table"
   ]
  },
  {
   "cell_type": "code",
   "execution_count": 51,
   "metadata": {},
   "outputs": [
    {
     "data": {
      "application/vnd.jupyter.widget-view+json": {
       "model_id": "92f5ebebb64744c58ff62cfaf04e921d",
       "version_major": 2,
       "version_minor": 0
      },
      "text/plain": [
       "VBox()"
      ]
     },
     "metadata": {},
     "output_type": "display_data"
    },
    {
     "data": {
      "application/vnd.jupyter.widget-view+json": {
       "model_id": "",
       "version_major": 2,
       "version_minor": 0
      },
      "text/plain": [
       "FloatProgress(value=0.0, bar_style='info', description='Progress:', layout=Layout(height='25px', width='50%'),…"
      ]
     },
     "metadata": {},
     "output_type": "display_data"
    }
   ],
   "source": [
    "# Filtering GAB Sales Organizations\n",
    "df_wallet=df_wallet.filter(df_wallet.salesorg.like('%BRIN%') |\n",
    "                           df_wallet.salesorg.like('%BRIO%') |\n",
    "                           df_wallet.salesorg.like('%BRDI%') |\n",
    "                           df_wallet.salesorg.like('%BRDO%') |\n",
    "                           df_wallet.salesorg.like('%BRCC%') |\n",
    "                           df_wallet.salesorg.like('%BRCO%') |\n",
    "                           df_wallet.salesorg.like('%BRCG%') |\n",
    "                           df_wallet.salesorg.like('%BRGO%'))\\"
   ]
  },
  {
   "cell_type": "code",
   "execution_count": 52,
   "metadata": {},
   "outputs": [
    {
     "data": {
      "application/vnd.jupyter.widget-view+json": {
       "model_id": "d9a92183efbd49269b9e256978f763c4",
       "version_major": 2,
       "version_minor": 0
      },
      "text/plain": [
       "VBox()"
      ]
     },
     "metadata": {},
     "output_type": "display_data"
    },
    {
     "data": {
      "application/vnd.jupyter.widget-view+json": {
       "model_id": "",
       "version_major": 2,
       "version_minor": 0
      },
      "text/plain": [
       "FloatProgress(value=0.0, bar_style='info', description='Progress:', layout=Layout(height='25px', width='50%'),…"
      ]
     },
     "metadata": {},
     "output_type": "display_data"
    }
   ],
   "source": [
    "# Filtering necessary types of orders\n",
    "df_wallet=df_wallet.filter(df_wallet.ordertype.like('%YORB%') |\n",
    "                             df_wallet.ordertype.like('%ZORB%') |\n",
    "                             df_wallet.ordertype.like('%ZVOI%') |\n",
    "                             df_wallet.ordertype.like('%YVOI%') |\n",
    "                             df_wallet.ordertype.like('%ZCNC%') |\n",
    "                             df_wallet.ordertype.like('%ZVOD%') |\n",
    "                             df_wallet.ordertype.like('%YCNC%') |\n",
    "                             df_wallet.ordertype.like('%ZNFC%') |\n",
    "                             df_wallet.ordertype.like('%ZNNC%') |\n",
    "                             df_wallet.ordertype.like('%ZNNL%') |\n",
    "                             df_wallet.ordertype.like('%ZRNP%') |\n",
    "                             df_wallet.ordertype.like('%ZRLC%') |\n",
    "                             df_wallet.ordertype.like('%ZDNC%') |\n",
    "                             df_wallet.ordertype.like('%ZDNM%') |\n",
    "                             df_wallet.ordertype.like('%ZNFD%') |\n",
    "                             df_wallet.ordertype.like('%B4%') |\n",
    "                             df_wallet.ordertype.like('%B3%') |\n",
    "                             df_wallet.ordertype.like('%ZCUP%') |\n",
    "                             df_wallet.ordertype.like('%#%') |\n",
    "                             df_wallet.ordertype.like('%YVOD%'))\\"
   ]
  },
  {
   "cell_type": "code",
   "execution_count": 53,
   "metadata": {},
   "outputs": [
    {
     "data": {
      "application/vnd.jupyter.widget-view+json": {
       "model_id": "e3066fe63d5348caaaf9c1366b374677",
       "version_major": 2,
       "version_minor": 0
      },
      "text/plain": [
       "VBox()"
      ]
     },
     "metadata": {},
     "output_type": "display_data"
    },
    {
     "data": {
      "application/vnd.jupyter.widget-view+json": {
       "model_id": "",
       "version_major": 2,
       "version_minor": 0
      },
      "text/plain": [
       "FloatProgress(value=0.0, bar_style='info', description='Progress:', layout=Layout(height='25px', width='50%'),…"
      ]
     },
     "metadata": {},
     "output_type": "display_data"
    }
   ],
   "source": [
    "# Normalizing Date columns\n",
    "for col_name in [\"dt_load\", \"ordercreationdate\", \"confirmeddate\"]:\n",
    "    df_wallet = df_wallet.withColumn(col_name, from_unixtime(unix_timestamp(remove_some_dots(col_name), 'yyyy/MM/dd')))"
   ]
  },
  {
   "cell_type": "code",
   "execution_count": 54,
   "metadata": {},
   "outputs": [
    {
     "data": {
      "application/vnd.jupyter.widget-view+json": {
       "model_id": "d895045f4979456a96c75d4755acb917",
       "version_major": 2,
       "version_minor": 0
      },
      "text/plain": [
       "VBox()"
      ]
     },
     "metadata": {},
     "output_type": "display_data"
    },
    {
     "data": {
      "application/vnd.jupyter.widget-view+json": {
       "model_id": "",
       "version_major": 2,
       "version_minor": 0
      },
      "text/plain": [
       "FloatProgress(value=0.0, bar_style='info', description='Progress:', layout=Layout(height='25px', width='50%'),…"
      ]
     },
     "metadata": {},
     "output_type": "display_data"
    }
   ],
   "source": [
    "# Renaming and selecting the columns\n",
    "df_wallet = df_wallet.select(col(\"salesorg\").alias(\"SALES_ORG_COD\"),\n",
    "                             col(\"custregionship\").alias(\"ISSUING_STATE\"),\n",
    "                             col(\"customer\").alias(\"CUSTOMER_COD\"),\n",
    "                             col(\"custname\").alias(\"CUSTOMER_DESC\"),\n",
    "                             col(\"corporategroupname\").alias(\"CUSTOMER_GROUP\"),\n",
    "                             col(\"item\").alias(\"BILLING_ITEM\"),\n",
    "                             col(\"custcitynameship\").alias(\"ISSUING_CITY\"),\n",
    "                             col(\"material\").alias(\"MATERIAL_COD\"),\n",
    "                             col(\"materialname\").alias(\"MATERIAL_DESC\"),\n",
    "                             col(\"salesoffice\").alias(\"SALES_OFFICE_COD\"),\n",
    "#                             col(\"confirmedqtt\").alias(\"QUANTITY_TON\"),\n",
    "                             col(\"materialgroup1\").alias(\"GPD\"),                    \n",
    "                             col(\"deliveredquantity\").alias(\"DELIVERED_QUANTITY\").cast(\"float\"),\n",
    "                             col(\"reqqttconv\").alias(\"REQ_QTT_CONV\"),\n",
    "                             col(\"zd06\"),\n",
    "                             col(\"zd13\"),\n",
    "                             col(\"zd14\"),\n",
    "                             col(\"manualextra\").alias(\"ZSU2\"),\n",
    "                             col(\"brFinanceextra\").alias(\"ZEAF\"),\n",
    "                             col(\"confirmeddate\").alias(\"CONFIRMED_ORDER_DATE\"),\n",
    "                             col(\"ordercreationdate\").alias(\"CREATED_ORDER_DATE\"),\n",
    "                             col(\"ordercreationdate\").alias(\"SALES_ORDER_DATE\"),\n",
    "                             col(\"goodsissuedate\").alias(\"ISSUING_DATE\"),\n",
    "                             col(\"statusoverall\").alias(\"ORDER_STATUS\"),\n",
    "                             col(\"order\").alias(\"BILLING_NUMBER\"),\n",
    "                             col(\"salesgroupdesc\").alias(\"SALES_GROUP_DESC\"),\n",
    "                             col(\"ordertype\").alias(\"ORDER_TYPE\"))"
   ]
  },
  {
   "cell_type": "code",
   "execution_count": 55,
   "metadata": {},
   "outputs": [
    {
     "data": {
      "application/vnd.jupyter.widget-view+json": {
       "model_id": "0e85db52a23a4e2798edb2eafd43ee01",
       "version_major": 2,
       "version_minor": 0
      },
      "text/plain": [
       "VBox()"
      ]
     },
     "metadata": {},
     "output_type": "display_data"
    },
    {
     "data": {
      "application/vnd.jupyter.widget-view+json": {
       "model_id": "",
       "version_major": 2,
       "version_minor": 0
      },
      "text/plain": [
       "FloatProgress(value=0.0, bar_style='info', description='Progress:', layout=Layout(height='25px', width='50%'),…"
      ]
     },
     "metadata": {},
     "output_type": "display_data"
    }
   ],
   "source": [
    "# Creating \"ZEB1\" Column\n",
    "df_wallet = df_wallet.join(df_zeb1, (df_wallet[\"BILLING_NUMBER\"].cast(\"int\")==df_zeb1[\"SALES_ORDER_NUMBER_drop\"].cast(\"int\"))&\n",
    "                                    (df_wallet[\"ORDER_TYPE\"].cast(\"int\")==df_zeb1[\"SALES_ORDER_ITEM_drop\"].cast(\"int\")), how='left')\\"
   ]
  },
  {
   "cell_type": "code",
   "execution_count": 56,
   "metadata": {},
   "outputs": [
    {
     "data": {
      "application/vnd.jupyter.widget-view+json": {
       "model_id": "c8ccadd479b94d6eab89d281bb3a6b40",
       "version_major": 2,
       "version_minor": 0
      },
      "text/plain": [
       "VBox()"
      ]
     },
     "metadata": {},
     "output_type": "display_data"
    },
    {
     "data": {
      "application/vnd.jupyter.widget-view+json": {
       "model_id": "",
       "version_major": 2,
       "version_minor": 0
      },
      "text/plain": [
       "FloatProgress(value=0.0, bar_style='info', description='Progress:', layout=Layout(height='25px', width='50%'),…"
      ]
     },
     "metadata": {},
     "output_type": "display_data"
    },
    {
     "name": "stdout",
     "output_type": "stream",
     "text": [
      "DataFrame[SALES_ORG_COD: string, ISSUING_STATE: string, CUSTOMER_COD: string, CUSTOMER_DESC: string, CUSTOMER_GROUP: string, BILLING_ITEM: string, ISSUING_CITY: string, MATERIAL_COD: string, MATERIAL_DESC: string, SALES_OFFICE_COD: string, GPD: string, DELIVERED_QUANTITY: float, REQ_QTT_CONV: string, zd06: string, zd13: string, zd14: string, ZSU2: string, ZEAF: string, CONFIRMED_ORDER_DATE: string, CREATED_ORDER_DATE: string, SALES_ORDER_DATE: string, ISSUING_DATE: string, ORDER_STATUS: string, BILLING_NUMBER: string, SALES_GROUP_DESC: string, ORDER_TYPE: string, SALES_ORDER_NUMBER_drop: string, SALES_ORDER_ITEM_drop: string, ZEB1: float]"
     ]
    }
   ],
   "source": [
    "df_wallet.persist(pyspark.StorageLevel.MEMORY_ONLY)"
   ]
  },
  {
   "cell_type": "code",
   "execution_count": 57,
   "metadata": {},
   "outputs": [
    {
     "data": {
      "application/vnd.jupyter.widget-view+json": {
       "model_id": "6f14e0faadc24021b358eb06a4522b46",
       "version_major": 2,
       "version_minor": 0
      },
      "text/plain": [
       "VBox()"
      ]
     },
     "metadata": {},
     "output_type": "display_data"
    },
    {
     "data": {
      "application/vnd.jupyter.widget-view+json": {
       "model_id": "",
       "version_major": 2,
       "version_minor": 0
      },
      "text/plain": [
       "FloatProgress(value=0.0, bar_style='info', description='Progress:', layout=Layout(height='25px', width='50%'),…"
      ]
     },
     "metadata": {},
     "output_type": "display_data"
    }
   ],
   "source": [
    "df_wallet = df_wallet.drop(\"SALES_ORDER_NUMBER_drop\")\\\n",
    "                     .drop(\"SALES_ORDER_ITEM_drop\")\\"
   ]
  },
  {
   "cell_type": "code",
   "execution_count": 58,
   "metadata": {},
   "outputs": [
    {
     "data": {
      "application/vnd.jupyter.widget-view+json": {
       "model_id": "d9ed0194f5434649a130011b5224b6b2",
       "version_major": 2,
       "version_minor": 0
      },
      "text/plain": [
       "VBox()"
      ]
     },
     "metadata": {},
     "output_type": "display_data"
    },
    {
     "data": {
      "application/vnd.jupyter.widget-view+json": {
       "model_id": "",
       "version_major": 2,
       "version_minor": 0
      },
      "text/plain": [
       "FloatProgress(value=0.0, bar_style='info', description='Progress:', layout=Layout(height='25px', width='50%'),…"
      ]
     },
     "metadata": {},
     "output_type": "display_data"
    }
   ],
   "source": [
    "# Renaming and selecting the columns\n",
    "# Filtering Language\n",
    "df_tvakt = df_tvakt.select(col(\"spras\").alias(\"LANGUAGE\"),\n",
    "                             col(\"bezei\").alias(\"ORDER_TYPE_DESC\"),\n",
    "                             col(\"auart\").alias(\"ORDER_TYPE_COD\"))\n",
    "df_tvakt = df_tvakt.filter(df_tvakt.LANGUAGE==('P'))"
   ]
  },
  {
   "cell_type": "code",
   "execution_count": 59,
   "metadata": {},
   "outputs": [
    {
     "data": {
      "application/vnd.jupyter.widget-view+json": {
       "model_id": "b324a79822d94054a5e7db8265e27f98",
       "version_major": 2,
       "version_minor": 0
      },
      "text/plain": [
       "VBox()"
      ]
     },
     "metadata": {},
     "output_type": "display_data"
    },
    {
     "data": {
      "application/vnd.jupyter.widget-view+json": {
       "model_id": "",
       "version_major": 2,
       "version_minor": 0
      },
      "text/plain": [
       "FloatProgress(value=0.0, bar_style='info', description='Progress:', layout=Layout(height='25px', width='50%'),…"
      ]
     },
     "metadata": {},
     "output_type": "display_data"
    }
   ],
   "source": [
    "# Creating \"RLV\" and TOTAL_TAXES Columns\n",
    "df_wallet = df_wallet.join(df_vbap, (df_wallet[\"BILLING_NUMBER\"].cast(\"int\")==df_vbap[\"SALES_ORDER_NUMBER_drop\"].cast(\"int\"))&\n",
    "                                   (df_wallet[\"BILLING_ITEM\"].cast(\"int\")==df_vbap[\"SALES_ORDER_ITEM_drop\"].cast(\"int\")), how='inner')\\\n",
    "                    .drop(\"SALES_ORDER_NUMBER_drop\")\\\n",
    "                    .drop(\"SALES_ORDER_ITEM_drop\")\\"
   ]
  },
  {
   "cell_type": "code",
   "execution_count": 60,
   "metadata": {},
   "outputs": [
    {
     "data": {
      "application/vnd.jupyter.widget-view+json": {
       "model_id": "b2cee85afdec40599e6d96bc744f485c",
       "version_major": 2,
       "version_minor": 0
      },
      "text/plain": [
       "VBox()"
      ]
     },
     "metadata": {},
     "output_type": "display_data"
    },
    {
     "data": {
      "application/vnd.jupyter.widget-view+json": {
       "model_id": "",
       "version_major": 2,
       "version_minor": 0
      },
      "text/plain": [
       "FloatProgress(value=0.0, bar_style='info', description='Progress:', layout=Layout(height='25px', width='50%'),…"
      ]
     },
     "metadata": {},
     "output_type": "display_data"
    },
    {
     "name": "stdout",
     "output_type": "stream",
     "text": [
      "DataFrame[SALES_ORG_COD: string, ISSUING_STATE: string, CUSTOMER_COD: string, CUSTOMER_DESC: string, CUSTOMER_GROUP: string, BILLING_ITEM: string, ISSUING_CITY: string, MATERIAL_COD: string, MATERIAL_DESC: string, SALES_OFFICE_COD: string, GPD: string, DELIVERED_QUANTITY: float, REQ_QTT_CONV: string, zd06: string, zd13: string, zd14: string, ZSU2: string, ZEAF: string, CONFIRMED_ORDER_DATE: string, CREATED_ORDER_DATE: string, SALES_ORDER_DATE: string, ISSUING_DATE: string, ORDER_STATUS: string, BILLING_NUMBER: string, SALES_GROUP_DESC: string, ORDER_TYPE: string, ZEB1: float, RLV: float, RBV: float, TOTAL_TAXES: float, REQUESTED_QUANTITY: float, QUANTITY_TON: float]"
     ]
    }
   ],
   "source": [
    "df_wallet.persist(pyspark.StorageLevel.MEMORY_ONLY)"
   ]
  },
  {
   "cell_type": "code",
   "execution_count": 61,
   "metadata": {},
   "outputs": [
    {
     "data": {
      "application/vnd.jupyter.widget-view+json": {
       "model_id": "1e70b9adad2642dfa81f93c6c02137bd",
       "version_major": 2,
       "version_minor": 0
      },
      "text/plain": [
       "VBox()"
      ]
     },
     "metadata": {},
     "output_type": "display_data"
    },
    {
     "data": {
      "application/vnd.jupyter.widget-view+json": {
       "model_id": "",
       "version_major": 2,
       "version_minor": 0
      },
      "text/plain": [
       "FloatProgress(value=0.0, bar_style='info', description='Progress:', layout=Layout(height='25px', width='50%'),…"
      ]
     },
     "metadata": {},
     "output_type": "display_data"
    }
   ],
   "source": [
    "df_wallet=df_wallet.withColumn(\"PRACTICED_PRICE\", col(\"RBV\"))\\\n",
    "                   .withColumn(\"PRACTICED_PRICE_I\", col(\"RBV\"))\\"
   ]
  },
  {
   "cell_type": "code",
   "execution_count": 62,
   "metadata": {},
   "outputs": [
    {
     "data": {
      "application/vnd.jupyter.widget-view+json": {
       "model_id": "a0b2a813fc564b7cb5b9a823e6f5b93e",
       "version_major": 2,
       "version_minor": 0
      },
      "text/plain": [
       "VBox()"
      ]
     },
     "metadata": {},
     "output_type": "display_data"
    },
    {
     "data": {
      "application/vnd.jupyter.widget-view+json": {
       "model_id": "",
       "version_major": 2,
       "version_minor": 0
      },
      "text/plain": [
       "FloatProgress(value=0.0, bar_style='info', description='Progress:', layout=Layout(height='25px', width='50%'),…"
      ]
     },
     "metadata": {},
     "output_type": "display_data"
    }
   ],
   "source": [
    "# Correcting \"Ouro Branco\" Sales Org \n",
    "    # BRIO -> BRIN\n",
    "    # BRCO -> BRCC\n",
    "    # BRDO -> BRDI\n",
    "    # BRGO -> BRCG\n",
    "df_wallet=df_wallet.withColumn(\"SALES_ORG_COD\", when(df_wallet.SALES_ORG_COD.like(\"BRCO\"), \"BRCC\")\\\n",
    "                                                    .otherwise(when(df_wallet.SALES_ORG_COD.like(\"BRGO\"), \"BRCG\")\\\n",
    "                                                              .otherwise(when(df_wallet.SALES_ORG_COD.like(\"BRIO\"), \"BRIN\")\\\n",
    "                                                                        .otherwise(when(df_wallet.SALES_ORG_COD.like(\"BRDO\"), \"BRDI\")\n",
    "                                                                                  .otherwise(df_wallet.SALES_ORG_COD)))))\\\n",
    "                   .distinct()"
   ]
  },
  {
   "cell_type": "code",
   "execution_count": 63,
   "metadata": {},
   "outputs": [
    {
     "data": {
      "application/vnd.jupyter.widget-view+json": {
       "model_id": "7c5fe5b151704e5fa113f980232e75e3",
       "version_major": 2,
       "version_minor": 0
      },
      "text/plain": [
       "VBox()"
      ]
     },
     "metadata": {},
     "output_type": "display_data"
    },
    {
     "data": {
      "application/vnd.jupyter.widget-view+json": {
       "model_id": "",
       "version_major": 2,
       "version_minor": 0
      },
      "text/plain": [
       "FloatProgress(value=0.0, bar_style='info', description='Progress:', layout=Layout(height='25px', width='50%'),…"
      ]
     },
     "metadata": {},
     "output_type": "display_data"
    }
   ],
   "source": [
    "# Creating \"OV_Ajust\" support column \n",
    "df_wallet=df_wallet.withColumn(\"OV_AJUST\", df_wallet.SALES_ORG_COD)"
   ]
  },
  {
   "cell_type": "code",
   "execution_count": 64,
   "metadata": {},
   "outputs": [
    {
     "data": {
      "application/vnd.jupyter.widget-view+json": {
       "model_id": "74649f44f45a405787d042948bbdf6b0",
       "version_major": 2,
       "version_minor": 0
      },
      "text/plain": [
       "VBox()"
      ]
     },
     "metadata": {},
     "output_type": "display_data"
    },
    {
     "data": {
      "application/vnd.jupyter.widget-view+json": {
       "model_id": "",
       "version_major": 2,
       "version_minor": 0
      },
      "text/plain": [
       "FloatProgress(value=0.0, bar_style='info', description='Progress:', layout=Layout(height='25px', width='50%'),…"
      ]
     },
     "metadata": {},
     "output_type": "display_data"
    }
   ],
   "source": [
    "# Correcting Practiced Price Field\n",
    "df_wallet=df_wallet.withColumn(\"CUSTOMER_GROUP\", when(df_wallet.CUSTOMER_GROUP.isNull()|\n",
    "                                                  df_wallet.CUSTOMER_GROUP.like(\"GRUPO DE RENTABILIDADE GENÉRICO\")\n",
    "                                                  ,col(\"CUSTOMER_DESC\")).otherwise(col(\"CUSTOMER_GROUP\")))\\\n",
    "                    .withColumn(\"BILLING_DATE\",lit(\"\"))\\"
   ]
  },
  {
   "cell_type": "code",
   "execution_count": 65,
   "metadata": {},
   "outputs": [
    {
     "data": {
      "application/vnd.jupyter.widget-view+json": {
       "model_id": "70635e6caa694fa99c70b4a88c0e62e2",
       "version_major": 2,
       "version_minor": 0
      },
      "text/plain": [
       "VBox()"
      ]
     },
     "metadata": {},
     "output_type": "display_data"
    },
    {
     "data": {
      "application/vnd.jupyter.widget-view+json": {
       "model_id": "",
       "version_major": 2,
       "version_minor": 0
      },
      "text/plain": [
       "FloatProgress(value=0.0, bar_style='info', description='Progress:', layout=Layout(height='25px', width='50%'),…"
      ]
     },
     "metadata": {},
     "output_type": "display_data"
    }
   ],
   "source": [
    "# Converting numeric(and text) columns to float \n",
    "for col_name in [\"ZD06\",\n",
    "                 \"ZD13\",\n",
    "                 \"ZD14\",\n",
    "                 \"ZSU2\",\n",
    "                 \"ZEAF\"]:\n",
    "    df_wallet = df_wallet.withColumn(col_name, ((col(col_name).cast('float')*(abs(((col(\"REQUESTED_QUANTITY\"))/col(\"REQ_QTT_CONV\")))))/100).cast('float'))"
   ]
  },
  {
   "cell_type": "code",
   "execution_count": 66,
   "metadata": {},
   "outputs": [
    {
     "data": {
      "application/vnd.jupyter.widget-view+json": {
       "model_id": "e75f287aea8f4c0e8149010259dbc82e",
       "version_major": 2,
       "version_minor": 0
      },
      "text/plain": [
       "VBox()"
      ]
     },
     "metadata": {},
     "output_type": "display_data"
    },
    {
     "data": {
      "application/vnd.jupyter.widget-view+json": {
       "model_id": "",
       "version_major": 2,
       "version_minor": 0
      },
      "text/plain": [
       "FloatProgress(value=0.0, bar_style='info', description='Progress:', layout=Layout(height='25px', width='50%'),…"
      ]
     },
     "metadata": {},
     "output_type": "display_data"
    }
   ],
   "source": [
    "# Converting \"QUANTITY_TON\" from Kg to Tons\n",
    "df_wallet = df_wallet.withColumn(\"QUANTITY_TON\", (col(\"QUANTITY_TON\")/1000).cast(\"float\"))"
   ]
  },
  {
   "cell_type": "code",
   "execution_count": 67,
   "metadata": {},
   "outputs": [
    {
     "data": {
      "application/vnd.jupyter.widget-view+json": {
       "model_id": "e834706a9dd24dd184309e5e9830240a",
       "version_major": 2,
       "version_minor": 0
      },
      "text/plain": [
       "VBox()"
      ]
     },
     "metadata": {},
     "output_type": "display_data"
    },
    {
     "data": {
      "application/vnd.jupyter.widget-view+json": {
       "model_id": "",
       "version_major": 2,
       "version_minor": 0
      },
      "text/plain": [
       "FloatProgress(value=0.0, bar_style='info', description='Progress:', layout=Layout(height='25px', width='50%'),…"
      ]
     },
     "metadata": {},
     "output_type": "display_data"
    }
   ],
   "source": [
    "# Creating \"PO\" column\n",
    "df_wallet=df_wallet.withColumn(\"PO\", col(\"RBV\")\n",
    "                                     -abs(col(\"ZSU2\")) \n",
    "                                     +abs(col(\"ZD13\"))     \n",
    "                                     +abs(col(\"ZD06\"))\n",
    "                                     +abs(col(\"ZD14\")))"
   ]
  },
  {
   "cell_type": "code",
   "execution_count": 68,
   "metadata": {},
   "outputs": [
    {
     "data": {
      "application/vnd.jupyter.widget-view+json": {
       "model_id": "0f60e58e2a4545048e9da6da5a6854c4",
       "version_major": 2,
       "version_minor": 0
      },
      "text/plain": [
       "VBox()"
      ]
     },
     "metadata": {},
     "output_type": "display_data"
    },
    {
     "data": {
      "application/vnd.jupyter.widget-view+json": {
       "model_id": "",
       "version_major": 2,
       "version_minor": 0
      },
      "text/plain": [
       "FloatProgress(value=0.0, bar_style='info', description='Progress:', layout=Layout(height='25px', width='50%'),…"
      ]
     },
     "metadata": {},
     "output_type": "display_data"
    }
   ],
   "source": [
    "# Merge wallet and alcada tables\n",
    "df_wallet=df_wallet.join(df_alcada.select(df_alcada.SALES_ORG_COD.alias(\"SALES_ORG_COD_drop\")\n",
    "                                         ,df_alcada.MATERIAL_COD.alias(\"MATERIAL_COD_drop\")\n",
    "                                         ,df_alcada.ISSUING_STATE.alias(\"ISSUING_STATE_drop\")\n",
    "                                         ,df_alcada.VERGE)\n",
    "                         ,(trim(df_wallet.SALES_ORG_COD) == trim(col(\"SALES_ORG_COD_drop\"))) &\n",
    "                          (df_wallet.MATERIAL_COD.cast(\"int\") == col(\"MATERIAL_COD_drop\").cast(\"int\")) &\n",
    "                          (trim(df_wallet.ISSUING_STATE) == trim(col(\"ISSUING_STATE_drop\"))), how=\"left\")\\\n",
    "                    .drop(\"SALES_ORG_COD_drop\"\n",
    "                         ,\"MATERIAL_COD_drop\"\n",
    "                         ,\"ISSUING_STATE_drop\")"
   ]
  },
  {
   "cell_type": "code",
   "execution_count": 69,
   "metadata": {},
   "outputs": [
    {
     "data": {
      "application/vnd.jupyter.widget-view+json": {
       "model_id": "6b2105b19269412caed6e1310a3c98cc",
       "version_major": 2,
       "version_minor": 0
      },
      "text/plain": [
       "VBox()"
      ]
     },
     "metadata": {},
     "output_type": "display_data"
    },
    {
     "data": {
      "application/vnd.jupyter.widget-view+json": {
       "model_id": "",
       "version_major": 2,
       "version_minor": 0
      },
      "text/plain": [
       "FloatProgress(value=0.0, bar_style='info', description='Progress:', layout=Layout(height='25px', width='50%'),…"
      ]
     },
     "metadata": {},
     "output_type": "display_data"
    }
   ],
   "source": [
    "df_wallet = df_wallet.fillna({'VERGE':4})"
   ]
  },
  {
   "cell_type": "code",
   "execution_count": 70,
   "metadata": {},
   "outputs": [
    {
     "data": {
      "application/vnd.jupyter.widget-view+json": {
       "model_id": "beeac9a24dd64b8085b9eca445cc3239",
       "version_major": 2,
       "version_minor": 0
      },
      "text/plain": [
       "VBox()"
      ]
     },
     "metadata": {},
     "output_type": "display_data"
    },
    {
     "data": {
      "application/vnd.jupyter.widget-view+json": {
       "model_id": "",
       "version_major": 2,
       "version_minor": 0
      },
      "text/plain": [
       "FloatProgress(value=0.0, bar_style='info', description='Progress:', layout=Layout(height='25px', width='50%'),…"
      ]
     },
     "metadata": {},
     "output_type": "display_data"
    }
   ],
   "source": [
    "# Creating \"VERGE\" column\n",
    "df_wallet=df_wallet.withColumn(\"VERGE\", col(\"VERGE\").cast('float'))\\"
   ]
  },
  {
   "cell_type": "code",
   "execution_count": 71,
   "metadata": {},
   "outputs": [
    {
     "data": {
      "application/vnd.jupyter.widget-view+json": {
       "model_id": "7e08f3b60e754fe2bf2a28fbabc35167",
       "version_major": 2,
       "version_minor": 0
      },
      "text/plain": [
       "VBox()"
      ]
     },
     "metadata": {},
     "output_type": "display_data"
    },
    {
     "data": {
      "application/vnd.jupyter.widget-view+json": {
       "model_id": "",
       "version_major": 2,
       "version_minor": 0
      },
      "text/plain": [
       "FloatProgress(value=0.0, bar_style='info', description='Progress:', layout=Layout(height='25px', width='50%'),…"
      ]
     },
     "metadata": {},
     "output_type": "display_data"
    },
    {
     "name": "stdout",
     "output_type": "stream",
     "text": [
      "<pyspark.sql.readwriter.DataFrameWriter object at 0x7fa1a1c9a710>"
     ]
    }
   ],
   "source": [
    "df_wallet.write.partitionBy(\"SALES_ORG_COD\")"
   ]
  },
  {
   "cell_type": "code",
   "execution_count": 72,
   "metadata": {},
   "outputs": [
    {
     "data": {
      "application/vnd.jupyter.widget-view+json": {
       "model_id": "6e16548157074d86800f12ee30acbf07",
       "version_major": 2,
       "version_minor": 0
      },
      "text/plain": [
       "VBox()"
      ]
     },
     "metadata": {},
     "output_type": "display_data"
    },
    {
     "data": {
      "application/vnd.jupyter.widget-view+json": {
       "model_id": "",
       "version_major": 2,
       "version_minor": 0
      },
      "text/plain": [
       "FloatProgress(value=0.0, bar_style='info', description='Progress:', layout=Layout(height='25px', width='50%'),…"
      ]
     },
     "metadata": {},
     "output_type": "display_data"
    }
   ],
   "source": [
    "df_wallet = df_wallet.repartition(\"SALES_ORG_COD\")"
   ]
  },
  {
   "cell_type": "code",
   "execution_count": 73,
   "metadata": {},
   "outputs": [
    {
     "data": {
      "application/vnd.jupyter.widget-view+json": {
       "model_id": "5926bf3972b94c069f35fa3f17e29f33",
       "version_major": 2,
       "version_minor": 0
      },
      "text/plain": [
       "VBox()"
      ]
     },
     "metadata": {},
     "output_type": "display_data"
    },
    {
     "data": {
      "application/vnd.jupyter.widget-view+json": {
       "model_id": "",
       "version_major": 2,
       "version_minor": 0
      },
      "text/plain": [
       "FloatProgress(value=0.0, bar_style='info', description='Progress:', layout=Layout(height='25px', width='50%'),…"
      ]
     },
     "metadata": {},
     "output_type": "display_data"
    },
    {
     "name": "stdout",
     "output_type": "stream",
     "text": [
      "DataFrame[SALES_ORG_COD: string, ISSUING_STATE: string, CUSTOMER_COD: string, CUSTOMER_DESC: string, CUSTOMER_GROUP: string, BILLING_ITEM: string, ISSUING_CITY: string, MATERIAL_COD: string, MATERIAL_DESC: string, SALES_OFFICE_COD: string, GPD: string, DELIVERED_QUANTITY: float, REQ_QTT_CONV: string, ZD06: float, ZD13: float, ZD14: float, ZSU2: float, ZEAF: float, CONFIRMED_ORDER_DATE: string, CREATED_ORDER_DATE: string, SALES_ORDER_DATE: string, ISSUING_DATE: string, ORDER_STATUS: string, BILLING_NUMBER: string, SALES_GROUP_DESC: string, ORDER_TYPE: string, ZEB1: float, RLV: float, RBV: float, TOTAL_TAXES: float, REQUESTED_QUANTITY: float, QUANTITY_TON: float, PRACTICED_PRICE: float, PRACTICED_PRICE_I: float, OV_AJUST: string, BILLING_DATE: string, PO: float, ALCADA: float]"
     ]
    }
   ],
   "source": [
    "df_wallet.persist(pyspark.StorageLevel.MEMORY_ONLY)"
   ]
  },
  {
   "cell_type": "code",
   "execution_count": 74,
   "metadata": {},
   "outputs": [
    {
     "data": {
      "application/vnd.jupyter.widget-view+json": {
       "model_id": "2a764e9062ba4f51bd3d782f76a44997",
       "version_major": 2,
       "version_minor": 0
      },
      "text/plain": [
       "VBox()"
      ]
     },
     "metadata": {},
     "output_type": "display_data"
    },
    {
     "data": {
      "application/vnd.jupyter.widget-view+json": {
       "model_id": "",
       "version_major": 2,
       "version_minor": 0
      },
      "text/plain": [
       "FloatProgress(value=0.0, bar_style='info', description='Progress:', layout=Layout(height='25px', width='50%'),…"
      ]
     },
     "metadata": {},
     "output_type": "display_data"
    }
   ],
   "source": [
    "# Creating \"TOTAL_WALLET\" column\n",
    "df_wallet=df_wallet.withColumn(\"TOTAL_WALLET\", ((abs(col(\"REQUESTED_QUANTITY\")) - abs((col(\"DELIVERED_QUANTITY\")*col(\"REQUESTED_QUANTITY\"))/col(\"REQ_QTT_CONV\")))/1000).cast(\"float\"))"
   ]
  },
  {
   "cell_type": "code",
   "execution_count": 75,
   "metadata": {},
   "outputs": [
    {
     "data": {
      "application/vnd.jupyter.widget-view+json": {
       "model_id": "77b57c40f4ae49a38bbe2046809c7bbc",
       "version_major": 2,
       "version_minor": 0
      },
      "text/plain": [
       "VBox()"
      ]
     },
     "metadata": {},
     "output_type": "display_data"
    },
    {
     "data": {
      "application/vnd.jupyter.widget-view+json": {
       "model_id": "",
       "version_major": 2,
       "version_minor": 0
      },
      "text/plain": [
       "FloatProgress(value=0.0, bar_style='info', description='Progress:', layout=Layout(height='25px', width='50%'),…"
      ]
     },
     "metadata": {},
     "output_type": "display_data"
    }
   ],
   "source": [
    "df_wallet=df_wallet.drop(\"REQ_QTT_CONV\")"
   ]
  },
  {
   "cell_type": "code",
   "execution_count": 76,
   "metadata": {},
   "outputs": [
    {
     "data": {
      "application/vnd.jupyter.widget-view+json": {
       "model_id": "edb6c0c631eb4423bccee7f90e0dc1fe",
       "version_major": 2,
       "version_minor": 0
      },
      "text/plain": [
       "VBox()"
      ]
     },
     "metadata": {},
     "output_type": "display_data"
    },
    {
     "data": {
      "application/vnd.jupyter.widget-view+json": {
       "model_id": "",
       "version_major": 2,
       "version_minor": 0
      },
      "text/plain": [
       "FloatProgress(value=0.0, bar_style='info', description='Progress:', layout=Layout(height='25px', width='50%'),…"
      ]
     },
     "metadata": {},
     "output_type": "display_data"
    }
   ],
   "source": [
    "# Creating \"POLICY_DEVIATION\" column\n",
    "df_wallet = df_wallet.withColumn(\"POLICY_DEVIATION\", (when(abs((col(\"ZD06\")+col(\"ZD13\")+col(\"ZD14\")))>4,abs(col(\"ZD06\")+col(\"ZD13\")+col(\"ZD14\"))-col(\"VERGE\")).otherwise(0)).cast(\"float\"))\\"
   ]
  },
  {
   "cell_type": "code",
   "execution_count": 77,
   "metadata": {},
   "outputs": [
    {
     "data": {
      "application/vnd.jupyter.widget-view+json": {
       "model_id": "2896883ed0ca411d8e04f45da487a11f",
       "version_major": 2,
       "version_minor": 0
      },
      "text/plain": [
       "VBox()"
      ]
     },
     "metadata": {},
     "output_type": "display_data"
    },
    {
     "data": {
      "application/vnd.jupyter.widget-view+json": {
       "model_id": "",
       "version_major": 2,
       "version_minor": 0
      },
      "text/plain": [
       "FloatProgress(value=0.0, bar_style='info', description='Progress:', layout=Layout(height='25px', width='50%'),…"
      ]
     },
     "metadata": {},
     "output_type": "display_data"
    }
   ],
   "source": [
    "# Creating \"POLICY_DEVIATION_REAIS\" column\n",
    "df_wallet = df_wallet.withColumn(\"POLICY_DEVIATION_REAIS\", col(\"RBV\")*col(\"POLICY_DEVIATION\"))\\"
   ]
  },
  {
   "cell_type": "code",
   "execution_count": 78,
   "metadata": {},
   "outputs": [
    {
     "data": {
      "application/vnd.jupyter.widget-view+json": {
       "model_id": "b3137342dc774d04b54a0afe4bfa9ff2",
       "version_major": 2,
       "version_minor": 0
      },
      "text/plain": [
       "VBox()"
      ]
     },
     "metadata": {},
     "output_type": "display_data"
    },
    {
     "data": {
      "application/vnd.jupyter.widget-view+json": {
       "model_id": "",
       "version_major": 2,
       "version_minor": 0
      },
      "text/plain": [
       "FloatProgress(value=0.0, bar_style='info', description='Progress:', layout=Layout(height='25px', width='50%'),…"
      ]
     },
     "metadata": {},
     "output_type": "display_data"
    }
   ],
   "source": [
    "# Creating Support Columns\n",
    "df_wallet = df_wallet.withColumn(\"PERC_VOL\", lit(0).cast('double'))\\\n",
    "                     .withColumn(\"PV_BUDGET\", lit(0).cast('double'))\\\n",
    "                     .withColumn(\"PV_DONE\", lit(0).cast('double'))\\\n",
    "                     .withColumn(\"MANUFACTURER\", lit(\"Gerdau - Carteira\"))\\"
   ]
  },
  {
   "cell_type": "code",
   "execution_count": 79,
   "metadata": {},
   "outputs": [
    {
     "data": {
      "application/vnd.jupyter.widget-view+json": {
       "model_id": "0a5fbcf305a447b09acb828d0ee785ec",
       "version_major": 2,
       "version_minor": 0
      },
      "text/plain": [
       "VBox()"
      ]
     },
     "metadata": {},
     "output_type": "display_data"
    },
    {
     "data": {
      "application/vnd.jupyter.widget-view+json": {
       "model_id": "",
       "version_major": 2,
       "version_minor": 0
      },
      "text/plain": [
       "FloatProgress(value=0.0, bar_style='info', description='Progress:', layout=Layout(height='25px', width='50%'),…"
      ]
     },
     "metadata": {},
     "output_type": "display_data"
    }
   ],
   "source": [
    "# Getting GPM_DESC Field\n",
    "df_wallet=df_wallet.join(df_products, (trim(df_products.SALES_ORG_COD_drop)==trim(df_wallet.SALES_ORG_COD))&\n",
    "                                  (df_products.COD_MATERIAL_drop.cast(\"int\")==df_wallet.MATERIAL_COD.cast(\"int\")), how=\"left\")\\\n",
    "                   .withColumnRenamed(\"DESC_GPD\", \"GPD_DESC\")\\\n",
    "                   .withColumnRenamed(\"COD_GPD\", \"GPD_COD\")\\\n",
    "                   .drop(\"COD_MATERIAL_drop\")\\\n",
    "                   .drop(\"SALES_ORG_COD_drop\")\\"
   ]
  },
  {
   "cell_type": "code",
   "execution_count": 80,
   "metadata": {},
   "outputs": [
    {
     "data": {
      "application/vnd.jupyter.widget-view+json": {
       "model_id": "f39dd65443004f2095b2923992056155",
       "version_major": 2,
       "version_minor": 0
      },
      "text/plain": [
       "VBox()"
      ]
     },
     "metadata": {},
     "output_type": "display_data"
    },
    {
     "data": {
      "application/vnd.jupyter.widget-view+json": {
       "model_id": "",
       "version_major": 2,
       "version_minor": 0
      },
      "text/plain": [
       "FloatProgress(value=0.0, bar_style='info', description='Progress:', layout=Layout(height='25px', width='50%'),…"
      ]
     },
     "metadata": {},
     "output_type": "display_data"
    }
   ],
   "source": [
    "df_wallet=df_wallet.withColumn(\"GPD_COD\", when(df_wallet.GPD_COD.isNull(), col(\"GPD\"))\\\n",
    "                               .otherwise(df_wallet.GPD_COD))"
   ]
  },
  {
   "cell_type": "code",
   "execution_count": 81,
   "metadata": {},
   "outputs": [
    {
     "data": {
      "application/vnd.jupyter.widget-view+json": {
       "model_id": "6afa796eefd747d49df6d155f3b45d30",
       "version_major": 2,
       "version_minor": 0
      },
      "text/plain": [
       "VBox()"
      ]
     },
     "metadata": {},
     "output_type": "display_data"
    },
    {
     "data": {
      "application/vnd.jupyter.widget-view+json": {
       "model_id": "",
       "version_major": 2,
       "version_minor": 0
      },
      "text/plain": [
       "FloatProgress(value=0.0, bar_style='info', description='Progress:', layout=Layout(height='25px', width='50%'),…"
      ]
     },
     "metadata": {},
     "output_type": "display_data"
    }
   ],
   "source": [
    "df_wallet=df_wallet.drop(\"GPD\")"
   ]
  },
  {
   "cell_type": "code",
   "execution_count": 82,
   "metadata": {},
   "outputs": [
    {
     "data": {
      "application/vnd.jupyter.widget-view+json": {
       "model_id": "6d5b0c9251e14548aad036a86f53c69b",
       "version_major": 2,
       "version_minor": 0
      },
      "text/plain": [
       "VBox()"
      ]
     },
     "metadata": {},
     "output_type": "display_data"
    },
    {
     "data": {
      "application/vnd.jupyter.widget-view+json": {
       "model_id": "",
       "version_major": 2,
       "version_minor": 0
      },
      "text/plain": [
       "FloatProgress(value=0.0, bar_style='info', description='Progress:', layout=Layout(height='25px', width='50%'),…"
      ]
     },
     "metadata": {},
     "output_type": "display_data"
    }
   ],
   "source": [
    "df_wallet.write.partitionBy(144);\n",
    "df_wallet = df_wallet.repartition(144);"
   ]
  },
  {
   "cell_type": "code",
   "execution_count": 83,
   "metadata": {},
   "outputs": [
    {
     "data": {
      "application/vnd.jupyter.widget-view+json": {
       "model_id": "b755620ca96b4692b8c4679999637d17",
       "version_major": 2,
       "version_minor": 0
      },
      "text/plain": [
       "VBox()"
      ]
     },
     "metadata": {},
     "output_type": "display_data"
    },
    {
     "data": {
      "application/vnd.jupyter.widget-view+json": {
       "model_id": "",
       "version_major": 2,
       "version_minor": 0
      },
      "text/plain": [
       "FloatProgress(value=0.0, bar_style='info', description='Progress:', layout=Layout(height='25px', width='50%'),…"
      ]
     },
     "metadata": {},
     "output_type": "display_data"
    },
    {
     "name": "stdout",
     "output_type": "stream",
     "text": [
      "DataFrame[SALES_ORG_COD: string, ISSUING_STATE: string, CUSTOMER_COD: string, CUSTOMER_DESC: string, CUSTOMER_GROUP: string, BILLING_ITEM: string, ISSUING_CITY: string, MATERIAL_COD: string, MATERIAL_DESC: string, SALES_OFFICE_COD: string, DELIVERED_QUANTITY: float, ZD06: float, ZD13: float, ZD14: float, ZSU2: float, ZEAF: float, CONFIRMED_ORDER_DATE: string, CREATED_ORDER_DATE: string, SALES_ORDER_DATE: string, ISSUING_DATE: string, ORDER_STATUS: string, BILLING_NUMBER: string, SALES_GROUP_DESC: string, ORDER_TYPE: string, ZEB1: float, RLV: float, RBV: float, TOTAL_TAXES: float, REQUESTED_QUANTITY: float, QUANTITY_TON: float, PRACTICED_PRICE: float, PRACTICED_PRICE_I: float, OV_AJUST: string, BILLING_DATE: string, PO: float, ALCADA: float, TOTAL_WALLET: float, DESVIO_POL: float, DESVIO_POL_REAIS: float, PERC_VOL: double, PV_BUDGET: double, PV_DONE: double, FABRICANTE: string, GPD_DESC: string, GPD_COD: string, GPM_DESC: string]"
     ]
    }
   ],
   "source": [
    "df_wallet.persist(pyspark.StorageLevel.MEMORY_ONLY)"
   ]
  },
  {
   "cell_type": "code",
   "execution_count": 84,
   "metadata": {},
   "outputs": [
    {
     "data": {
      "application/vnd.jupyter.widget-view+json": {
       "model_id": "a854813c3dee4db6bdfa2227b10cade4",
       "version_major": 2,
       "version_minor": 0
      },
      "text/plain": [
       "VBox()"
      ]
     },
     "metadata": {},
     "output_type": "display_data"
    },
    {
     "data": {
      "application/vnd.jupyter.widget-view+json": {
       "model_id": "",
       "version_major": 2,
       "version_minor": 0
      },
      "text/plain": [
       "FloatProgress(value=0.0, bar_style='info', description='Progress:', layout=Layout(height='25px', width='50%'),…"
      ]
     },
     "metadata": {},
     "output_type": "display_data"
    }
   ],
   "source": [
    "# Creating \"BRANCH\" Column\n",
    "df_wallet = df_wallet.join(df_region2, (replace_some_hifen(replace_some_space(replace_some_apostrophe(df_wallet[\"ISSUING_CITY\"]))) == replace_some_hifen(replace_some_space(replace_some_apostrophe(df_region2[\"CITY_DROP\"])))) &\n",
    "                                      (trim(df_wallet[\"ISSUING_STATE\"]) == trim(df_region2[\"STATE_drop\"])), how='left')\\\n",
    "                     .drop(\"STATE_drop\")\\\n",
    "                     .drop(\"CITY_DROP\")\\\n",
    "                     .withColumn(\"KEY_brc\", concat('SALES_ORG_COD'\n",
    "                                                   ,'GPD_COD'\n",
    "                                                   ,'ISSUING_STATE'\n",
    "                                                   ,'BRANCH'))\\\n",
    "                     .withColumn(\"KEY_st\", concat('SALES_ORG_COD'\n",
    "                                                  ,'GPD_COD'\n",
    "                                                  ,'ISSUING_STATE'))\\"
   ]
  },
  {
   "cell_type": "code",
   "execution_count": 85,
   "metadata": {},
   "outputs": [
    {
     "data": {
      "application/vnd.jupyter.widget-view+json": {
       "model_id": "7d714329835c446ea4b713e939ba3b05",
       "version_major": 2,
       "version_minor": 0
      },
      "text/plain": [
       "VBox()"
      ]
     },
     "metadata": {},
     "output_type": "display_data"
    },
    {
     "data": {
      "application/vnd.jupyter.widget-view+json": {
       "model_id": "",
       "version_major": 2,
       "version_minor": 0
      },
      "text/plain": [
       "FloatProgress(value=0.0, bar_style='info', description='Progress:', layout=Layout(height='25px', width='50%'),…"
      ]
     },
     "metadata": {},
     "output_type": "display_data"
    }
   ],
   "source": [
    "df_wallet.write.partitionBy(144);\n",
    "df_wallet = df_wallet.repartition(144);"
   ]
  },
  {
   "cell_type": "code",
   "execution_count": 86,
   "metadata": {},
   "outputs": [
    {
     "data": {
      "application/vnd.jupyter.widget-view+json": {
       "model_id": "add5229faa0a44a1bc0f91f1b341759f",
       "version_major": 2,
       "version_minor": 0
      },
      "text/plain": [
       "VBox()"
      ]
     },
     "metadata": {},
     "output_type": "display_data"
    },
    {
     "data": {
      "application/vnd.jupyter.widget-view+json": {
       "model_id": "",
       "version_major": 2,
       "version_minor": 0
      },
      "text/plain": [
       "FloatProgress(value=0.0, bar_style='info', description='Progress:', layout=Layout(height='25px', width='50%'),…"
      ]
     },
     "metadata": {},
     "output_type": "display_data"
    },
    {
     "name": "stdout",
     "output_type": "stream",
     "text": [
      "DataFrame[SALES_ORG_COD: string, ISSUING_STATE: string, CUSTOMER_COD: string, CUSTOMER_DESC: string, CUSTOMER_GROUP: string, BILLING_ITEM: string, ISSUING_CITY: string, MATERIAL_COD: string, MATERIAL_DESC: string, SALES_OFFICE_COD: string, DELIVERED_QUANTITY: float, ZD06: float, ZD13: float, ZD14: float, ZSU2: float, ZEAF: float, CONFIRMED_ORDER_DATE: string, CREATED_ORDER_DATE: string, SALES_ORDER_DATE: string, ISSUING_DATE: string, ORDER_STATUS: string, BILLING_NUMBER: string, SALES_GROUP_DESC: string, ORDER_TYPE: string, ZEB1: float, RLV: float, RBV: float, TOTAL_TAXES: float, REQUESTED_QUANTITY: float, QUANTITY_TON: float, PRACTICED_PRICE: float, PRACTICED_PRICE_I: float, OV_AJUST: string, BILLING_DATE: string, PO: float, ALCADA: float, TOTAL_WALLET: float, DESVIO_POL: float, DESVIO_POL_REAIS: float, PERC_VOL: double, PV_BUDGET: double, PV_DONE: double, FABRICANTE: string, GPD_DESC: string, GPD_COD: string, GPM_DESC: string, BRANCH: string, KEY_brc: string, KEY_st: string]"
     ]
    }
   ],
   "source": [
    "df_wallet.persist(pyspark.StorageLevel.MEMORY_ONLY)"
   ]
  },
  {
   "cell_type": "code",
   "execution_count": 87,
   "metadata": {},
   "outputs": [
    {
     "data": {
      "application/vnd.jupyter.widget-view+json": {
       "model_id": "89e0a61078f143309ee3b542a9b340e3",
       "version_major": 2,
       "version_minor": 0
      },
      "text/plain": [
       "VBox()"
      ]
     },
     "metadata": {},
     "output_type": "display_data"
    },
    {
     "data": {
      "application/vnd.jupyter.widget-view+json": {
       "model_id": "",
       "version_major": 2,
       "version_minor": 0
      },
      "text/plain": [
       "FloatProgress(value=0.0, bar_style='info', description='Progress:', layout=Layout(height='25px', width='50%'),…"
      ]
     },
     "metadata": {},
     "output_type": "display_data"
    }
   ],
   "source": [
    "df_wallet = df_wallet.withColumn(\"BRANCH\", when(df_wallet.BRANCH.isNull(), lit(\"Filial Não Encontrada\")).otherwise(df_wallet.BRANCH))"
   ]
  },
  {
   "cell_type": "code",
   "execution_count": 88,
   "metadata": {},
   "outputs": [
    {
     "data": {
      "application/vnd.jupyter.widget-view+json": {
       "model_id": "f194971c8c53431093fc6a1ab9ecc5ef",
       "version_major": 2,
       "version_minor": 0
      },
      "text/plain": [
       "VBox()"
      ]
     },
     "metadata": {},
     "output_type": "display_data"
    },
    {
     "data": {
      "application/vnd.jupyter.widget-view+json": {
       "model_id": "",
       "version_major": 2,
       "version_minor": 0
      },
      "text/plain": [
       "FloatProgress(value=0.0, bar_style='info', description='Progress:', layout=Layout(height='25px', width='50%'),…"
      ]
     },
     "metadata": {},
     "output_type": "display_data"
    }
   ],
   "source": [
    "df_wallet_groupby1=df_wallet.groupby(\"SALES_ORG_COD\", \"GPD_COD\", \"ISSUING_STATE\", \"BRANCH\").sum(\"QUANTITY_TON\")\\\n",
    "                            .withColumnRenamed(\"sum(QUANTITY_TON)\", 'QUANTITY_TON_BRC')\\\n",
    "                            .withColumn(\"KEY_drop\", concat('SALES_ORG_COD'\n",
    "                                                           ,'GPD_COD'\n",
    "                                                           ,'ISSUING_STATE'\n",
    "                                                           ,'BRANCH'))\\\n",
    "                            .withColumnRenamed(\"SALES_ORG_COD\", 'SALES_ORG_COD_drop')\\\n",
    "                            .withColumnRenamed(\"GPD_COD\", 'GPD_COD_drop')\\\n",
    "                            .withColumnRenamed(\"ISSUING_STATE\", 'ISSUING_STATE_drop')\\\n",
    "                            .withColumnRenamed(\"BRANCH\", 'BRANCH_drop')\\"
   ]
  },
  {
   "cell_type": "code",
   "execution_count": 89,
   "metadata": {},
   "outputs": [
    {
     "data": {
      "application/vnd.jupyter.widget-view+json": {
       "model_id": "bc59c33f9c7e46538496ee643926c0d9",
       "version_major": 2,
       "version_minor": 0
      },
      "text/plain": [
       "VBox()"
      ]
     },
     "metadata": {},
     "output_type": "display_data"
    },
    {
     "data": {
      "application/vnd.jupyter.widget-view+json": {
       "model_id": "",
       "version_major": 2,
       "version_minor": 0
      },
      "text/plain": [
       "FloatProgress(value=0.0, bar_style='info', description='Progress:', layout=Layout(height='25px', width='50%'),…"
      ]
     },
     "metadata": {},
     "output_type": "display_data"
    }
   ],
   "source": [
    "df_wallet = df_wallet.join(df_wallet_groupby1,df_wallet.KEY_brc==df_wallet_groupby1.KEY_drop, how='inner')\\\n",
    "                     .drop(\"STATE_drop\")\\\n",
    "                     .drop(\"CITY_DROP\")\\\n",
    "                     .drop(\"KEY_drop\")\\\n",
    "                     .drop(\"ISSUING_STATE_drop\")\\\n",
    "                     .drop(\"GPD_COD_drop\")\\\n",
    "                     .drop(\"BRANCH_drop\")\\\n",
    "                     .drop(\"SALES_ORG_COD_drop\")\\"
   ]
  },
  {
   "cell_type": "code",
   "execution_count": 90,
   "metadata": {},
   "outputs": [
    {
     "data": {
      "application/vnd.jupyter.widget-view+json": {
       "model_id": "7d14406bf1974bf286b5c47758d31c51",
       "version_major": 2,
       "version_minor": 0
      },
      "text/plain": [
       "VBox()"
      ]
     },
     "metadata": {},
     "output_type": "display_data"
    },
    {
     "data": {
      "application/vnd.jupyter.widget-view+json": {
       "model_id": "",
       "version_major": 2,
       "version_minor": 0
      },
      "text/plain": [
       "FloatProgress(value=0.0, bar_style='info', description='Progress:', layout=Layout(height='25px', width='50%'),…"
      ]
     },
     "metadata": {},
     "output_type": "display_data"
    }
   ],
   "source": [
    "df_wallet.write.partitionBy(144);\n",
    "df_wallet = df_wallet.repartition(144);"
   ]
  },
  {
   "cell_type": "code",
   "execution_count": 91,
   "metadata": {},
   "outputs": [
    {
     "data": {
      "application/vnd.jupyter.widget-view+json": {
       "model_id": "8d56dab1cdf94c61b0dbb5b52cd3532f",
       "version_major": 2,
       "version_minor": 0
      },
      "text/plain": [
       "VBox()"
      ]
     },
     "metadata": {},
     "output_type": "display_data"
    },
    {
     "data": {
      "application/vnd.jupyter.widget-view+json": {
       "model_id": "",
       "version_major": 2,
       "version_minor": 0
      },
      "text/plain": [
       "FloatProgress(value=0.0, bar_style='info', description='Progress:', layout=Layout(height='25px', width='50%'),…"
      ]
     },
     "metadata": {},
     "output_type": "display_data"
    },
    {
     "name": "stdout",
     "output_type": "stream",
     "text": [
      "DataFrame[SALES_ORG_COD: string, ISSUING_STATE: string, CUSTOMER_COD: string, CUSTOMER_DESC: string, CUSTOMER_GROUP: string, BILLING_ITEM: string, ISSUING_CITY: string, MATERIAL_COD: string, MATERIAL_DESC: string, SALES_OFFICE_COD: string, DELIVERED_QUANTITY: float, ZD06: float, ZD13: float, ZD14: float, ZSU2: float, ZEAF: float, CONFIRMED_ORDER_DATE: string, CREATED_ORDER_DATE: string, SALES_ORDER_DATE: string, ISSUING_DATE: string, ORDER_STATUS: string, BILLING_NUMBER: string, SALES_GROUP_DESC: string, ORDER_TYPE: string, ZEB1: float, RLV: float, RBV: float, TOTAL_TAXES: float, REQUESTED_QUANTITY: float, QUANTITY_TON: float, PRACTICED_PRICE: float, PRACTICED_PRICE_I: float, OV_AJUST: string, BILLING_DATE: string, PO: float, ALCADA: float, TOTAL_WALLET: float, DESVIO_POL: float, DESVIO_POL_REAIS: float, PERC_VOL: double, PV_BUDGET: double, PV_DONE: double, FABRICANTE: string, GPD_DESC: string, GPD_COD: string, GPM_DESC: string, BRANCH: string, KEY_brc: string, KEY_st: string, QUANTITY_TON_BRC: double]"
     ]
    }
   ],
   "source": [
    "df_wallet.persist(pyspark.StorageLevel.MEMORY_ONLY)"
   ]
  },
  {
   "cell_type": "code",
   "execution_count": 92,
   "metadata": {},
   "outputs": [
    {
     "data": {
      "application/vnd.jupyter.widget-view+json": {
       "model_id": "e9ab677eb98c4734bc878660bd2ac385",
       "version_major": 2,
       "version_minor": 0
      },
      "text/plain": [
       "VBox()"
      ]
     },
     "metadata": {},
     "output_type": "display_data"
    },
    {
     "data": {
      "application/vnd.jupyter.widget-view+json": {
       "model_id": "",
       "version_major": 2,
       "version_minor": 0
      },
      "text/plain": [
       "FloatProgress(value=0.0, bar_style='info', description='Progress:', layout=Layout(height='25px', width='50%'),…"
      ]
     },
     "metadata": {},
     "output_type": "display_data"
    }
   ],
   "source": [
    "df_wallet_groupby2=df_wallet.groupby(\"SALES_ORG_COD\", \"GPD_COD\", \"ISSUING_STATE\").sum(\"QUANTITY_TON\")\\\n",
    "                            .withColumnRenamed(\"sum(QUANTITY_TON)\", 'QUANTITY_TON_ST')\\\n",
    "                            .withColumn(\"KEY_drop\", concat('SALES_ORG_COD'\n",
    "                                                           ,'GPD_COD'\n",
    "                                                           ,'ISSUING_STATE'))\\\n",
    "                            .withColumnRenamed(\"SALES_ORG_COD\", 'SALES_ORG_COD_drop')\\\n",
    "                            .withColumnRenamed(\"GPD_COD\", 'GPD_COD_drop')\\\n",
    "                            .withColumnRenamed(\"ISSUING_STATE\", 'ISSUING_STATE_drop')\\"
   ]
  },
  {
   "cell_type": "code",
   "execution_count": 93,
   "metadata": {},
   "outputs": [
    {
     "data": {
      "application/vnd.jupyter.widget-view+json": {
       "model_id": "15bb2cfdbc774eef8bdc80cba2f33321",
       "version_major": 2,
       "version_minor": 0
      },
      "text/plain": [
       "VBox()"
      ]
     },
     "metadata": {},
     "output_type": "display_data"
    },
    {
     "data": {
      "application/vnd.jupyter.widget-view+json": {
       "model_id": "",
       "version_major": 2,
       "version_minor": 0
      },
      "text/plain": [
       "FloatProgress(value=0.0, bar_style='info', description='Progress:', layout=Layout(height='25px', width='50%'),…"
      ]
     },
     "metadata": {},
     "output_type": "display_data"
    }
   ],
   "source": [
    "df_wallet = df_wallet.join(df_wallet_groupby2,df_wallet.KEY_st==df_wallet_groupby2.KEY_drop, how='inner')\\\n",
    "                     .drop(\"STATE_drop\")\\\n",
    "                     .drop(\"CITY_DROP\")\\\n",
    "                     .drop(\"KEY_drop\")\\\n",
    "                     .drop(\"KEY_brc\")\\\n",
    "                     .drop(\"KEY_st\")\\\n",
    "                     .drop(\"SALES_ORG_COD_drop\")\\\n",
    "                     .drop(\"GPD_COD_drop\")\\\n",
    "                     .drop(\"ISSUING_STATE_drop\")\\\n",
    "                     .drop(\"BRANCH_drop\")\\\n",
    "                     .drop(\"SALES_ORG_COD_drop\")\\\n",
    "                     .drop(\"REGION\")\\\n",
    "                     .drop(\"ZSU2\")\\\n",
    "                     .drop(\"ZEAF\")\\\n",
    "                     .drop(\"ZEB1\")\\\n",
    "                     .drop(\"REQUESTED_QUANTITY\")\\\n",
    "                     .drop(\"DELIVERED_QUANTITY\")\\\n",
    "                     .drop(\"TOTAL_TAXES\")\\"
   ]
  },
  {
   "cell_type": "code",
   "execution_count": 94,
   "metadata": {},
   "outputs": [
    {
     "data": {
      "application/vnd.jupyter.widget-view+json": {
       "model_id": "5b7e4af5eeb54831a3d0296c4a341d2d",
       "version_major": 2,
       "version_minor": 0
      },
      "text/plain": [
       "VBox()"
      ]
     },
     "metadata": {},
     "output_type": "display_data"
    },
    {
     "data": {
      "application/vnd.jupyter.widget-view+json": {
       "model_id": "",
       "version_major": 2,
       "version_minor": 0
      },
      "text/plain": [
       "FloatProgress(value=0.0, bar_style='info', description='Progress:', layout=Layout(height='25px', width='50%'),…"
      ]
     },
     "metadata": {},
     "output_type": "display_data"
    }
   ],
   "source": [
    "df_wallet.write.partitionBy(144);\n",
    "df_wallet = df_wallet.repartition(144);"
   ]
  },
  {
   "cell_type": "code",
   "execution_count": 95,
   "metadata": {},
   "outputs": [
    {
     "data": {
      "application/vnd.jupyter.widget-view+json": {
       "model_id": "70f508846527484886c893d3956771ad",
       "version_major": 2,
       "version_minor": 0
      },
      "text/plain": [
       "VBox()"
      ]
     },
     "metadata": {},
     "output_type": "display_data"
    },
    {
     "data": {
      "application/vnd.jupyter.widget-view+json": {
       "model_id": "",
       "version_major": 2,
       "version_minor": 0
      },
      "text/plain": [
       "FloatProgress(value=0.0, bar_style='info', description='Progress:', layout=Layout(height='25px', width='50%'),…"
      ]
     },
     "metadata": {},
     "output_type": "display_data"
    },
    {
     "name": "stdout",
     "output_type": "stream",
     "text": [
      "DataFrame[SALES_ORG_COD: string, ISSUING_STATE: string, CUSTOMER_COD: string, CUSTOMER_DESC: string, CUSTOMER_GROUP: string, BILLING_ITEM: string, ISSUING_CITY: string, MATERIAL_COD: string, MATERIAL_DESC: string, SALES_OFFICE_COD: string, ZD06: float, ZD13: float, ZD14: float, CONFIRMED_ORDER_DATE: string, CREATED_ORDER_DATE: string, SALES_ORDER_DATE: string, ISSUING_DATE: string, ORDER_STATUS: string, BILLING_NUMBER: string, SALES_GROUP_DESC: string, ORDER_TYPE: string, RLV: float, RBV: float, QUANTITY_TON: float, PRACTICED_PRICE: float, PRACTICED_PRICE_I: float, OV_AJUST: string, BILLING_DATE: string, PO: float, ALCADA: float, TOTAL_WALLET: float, DESVIO_POL: float, DESVIO_POL_REAIS: float, PERC_VOL: double, PV_BUDGET: double, PV_DONE: double, FABRICANTE: string, GPD_DESC: string, GPD_COD: string, GPM_DESC: string, BRANCH: string, QUANTITY_TON_BRC: double, QUANTITY_TON_ST: double]"
     ]
    }
   ],
   "source": [
    "df_wallet.persist(pyspark.StorageLevel.MEMORY_ONLY)"
   ]
  },
  {
   "cell_type": "markdown",
   "metadata": {},
   "source": [
    "-------------"
   ]
  },
  {
   "cell_type": "markdown",
   "metadata": {},
   "source": [
    "# Preparing SPG HANA"
   ]
  },
  {
   "cell_type": "code",
   "execution_count": 96,
   "metadata": {},
   "outputs": [
    {
     "data": {
      "application/vnd.jupyter.widget-view+json": {
       "model_id": "c00848dd035c455a83ccee8ef207f56f",
       "version_major": 2,
       "version_minor": 0
      },
      "text/plain": [
       "VBox()"
      ]
     },
     "metadata": {},
     "output_type": "display_data"
    },
    {
     "data": {
      "application/vnd.jupyter.widget-view+json": {
       "model_id": "",
       "version_major": 2,
       "version_minor": 0
      },
      "text/plain": [
       "FloatProgress(value=0.0, bar_style='info', description='Progress:', layout=Layout(height='25px', width='50%'),…"
      ]
     },
     "metadata": {},
     "output_type": "display_data"
    }
   ],
   "source": [
    "# Filtering Sales Org and Billing Type\n",
    "df_hana=df_hana.filter(df_hana.SalesOrg.like('%BRIN%') |\n",
    "                       df_hana.SalesOrg.like('%BRIO%') |\n",
    "                       df_hana.SalesOrg.like('%BRDI%') |\n",
    "                       df_hana.SalesOrg.like('%BRDO%') |\n",
    "                       df_hana.SalesOrg.like('%BRCC%') |\n",
    "                       df_hana.SalesOrg.like('%BRCO%') |\n",
    "                       df_hana.SalesOrg.like('%BRCG%') |\n",
    "                       df_hana.SalesOrg.like('%BRGO%'))\\\n",
    "               .filter(df_hana.BillingType.like('%ZF2B%'))"
   ]
  },
  {
   "cell_type": "code",
   "execution_count": 97,
   "metadata": {},
   "outputs": [
    {
     "data": {
      "application/vnd.jupyter.widget-view+json": {
       "model_id": "683af918ec4d4c1dab9790a8c081fce1",
       "version_major": 2,
       "version_minor": 0
      },
      "text/plain": [
       "VBox()"
      ]
     },
     "metadata": {},
     "output_type": "display_data"
    },
    {
     "data": {
      "application/vnd.jupyter.widget-view+json": {
       "model_id": "",
       "version_major": 2,
       "version_minor": 0
      },
      "text/plain": [
       "FloatProgress(value=0.0, bar_style='info', description='Progress:', layout=Layout(height='25px', width='50%'),…"
      ]
     },
     "metadata": {},
     "output_type": "display_data"
    }
   ],
   "source": [
    "# Correcting \"Ouro Fino\" Sales Org \n",
    "    # BRIO -> BRIN\n",
    "    # BRCO -> BRCC\n",
    "    # BRDO -> BRDI\n",
    "    # BRGO -> BRCG\n",
    "df_hana = df_hana.withColumn(\"SalesOrg\", when(df_hana.SalesOrg.like(\"BRCO\"), \"BRCC\")\\\n",
    "                                              .otherwise(when(df_hana.SalesOrg.like(\"BRGO\"), \"BRCG\")\\\n",
    "                                                        .otherwise(when(df_hana.SalesOrg.like(\"BRIO\"), \"BRIN\")\\\n",
    "                                                                  .otherwise(when(df_hana.SalesOrg.like(\"BRDO\"), \"BRDI\")\n",
    "                                                                            .otherwise(df_hana.SalesOrg)))))"
   ]
  },
  {
   "cell_type": "code",
   "execution_count": 98,
   "metadata": {},
   "outputs": [
    {
     "data": {
      "application/vnd.jupyter.widget-view+json": {
       "model_id": "a1a34b3536214dfca64fb18270cfe027",
       "version_major": 2,
       "version_minor": 0
      },
      "text/plain": [
       "VBox()"
      ]
     },
     "metadata": {},
     "output_type": "display_data"
    },
    {
     "data": {
      "application/vnd.jupyter.widget-view+json": {
       "model_id": "",
       "version_major": 2,
       "version_minor": 0
      },
      "text/plain": [
       "FloatProgress(value=0.0, bar_style='info', description='Progress:', layout=Layout(height='25px', width='50%'),…"
      ]
     },
     "metadata": {},
     "output_type": "display_data"
    }
   ],
   "source": [
    "# Creating OV_AJUST Field\n",
    "df_hana=df_hana.withColumn(\"OV_AJUST\", df_hana.SalesOrg)\\"
   ]
  },
  {
   "cell_type": "code",
   "execution_count": 99,
   "metadata": {},
   "outputs": [
    {
     "data": {
      "application/vnd.jupyter.widget-view+json": {
       "model_id": "030dfff64af14a28b0b04368423a9476",
       "version_major": 2,
       "version_minor": 0
      },
      "text/plain": [
       "VBox()"
      ]
     },
     "metadata": {},
     "output_type": "display_data"
    },
    {
     "data": {
      "application/vnd.jupyter.widget-view+json": {
       "model_id": "",
       "version_major": 2,
       "version_minor": 0
      },
      "text/plain": [
       "FloatProgress(value=0.0, bar_style='info', description='Progress:', layout=Layout(height='25px', width='50%'),…"
      ]
     },
     "metadata": {},
     "output_type": "display_data"
    }
   ],
   "source": [
    "# Getting GPM_DESC Field\n",
    "df_hana=df_hana.join(df_products, (trim(df_products.SALES_ORG_COD_drop)==trim(df_hana.SalesOrg))&\n",
    "                                  (df_products.COD_MATERIAL_drop.cast(\"int\")==df_hana.Material.cast(\"int\")), how=\"left\")\\\n",
    "               .drop(\"DESC_GPD\")\\\n",
    "               .drop(\"COD_GPD\")\\\n",
    "               .drop(\"COD_MATERIAL_drop\")\\\n",
    "               .drop(\"SALES_ORG_COD_drop\")\\\n",
    "               .distinct()"
   ]
  },
  {
   "cell_type": "code",
   "execution_count": 100,
   "metadata": {},
   "outputs": [
    {
     "data": {
      "application/vnd.jupyter.widget-view+json": {
       "model_id": "11d43107dbf74b23b4adc7ea182b6ea0",
       "version_major": 2,
       "version_minor": 0
      },
      "text/plain": [
       "VBox()"
      ]
     },
     "metadata": {},
     "output_type": "display_data"
    },
    {
     "data": {
      "application/vnd.jupyter.widget-view+json": {
       "model_id": "",
       "version_major": 2,
       "version_minor": 0
      },
      "text/plain": [
       "FloatProgress(value=0.0, bar_style='info', description='Progress:', layout=Layout(height='25px', width='50%'),…"
      ]
     },
     "metadata": {},
     "output_type": "display_data"
    },
    {
     "name": "stdout",
     "output_type": "stream",
     "text": [
      "DataFrame[ABCCustomerClassification: string, BilDocNumber: string, BilDocItem: string, BILDOCDATE: string, BillingType: string, BillingTypeText: string, BusinessDivision: string, BusinessDivisionText: string, ShipToCity: string, SoldToCity: string, CompanyCode: string, CompanyCodeText: string, Conv33: string, SalesDoc_CorpGroup: string, CorporateGroupName: string, ShipToCountry: string, SoldToCountry: string, CustomerGroup: string, CustomerGroupName: string, CustomerGroup3: string, CustomerGroup3BRName: string, DateMonth: string, DateQuarter: string, DateWeek: string, DateYearMonth: string, DateYear: string, DistributionChannel: string, DistributionChannelName: string, MaterialDivision: string, MaterialDivisionName: string, Division: string, DivisionName: string, DocumentCurrency: string, EndMarket: string, GDD: string, GPD: string, GPDName: string, GPM: string, GPP: string, SoldToGrupoNISEBR: string, SalesDoc_InsideRep: string, SalesOrderInsideRepName: string, ShipToInsideRep: string, ShipToInsideRepName: string, Material: string, MaterialName: string, MaterialGroup: string, MaterialGroup3: string, MaterialGroup3Name: string, MaterialPriceGroup: string, MaterialPriceGroupName: string, MaterialGroup5: string, MaterialGroup5Name: string, NotaFiscal: string, NCM_BR: string, SalesOrderDate: string, SalesDoc_OutsideRep: string, SalesOrderOutsideRepName: string, ShipToOutsideRep: string, ShipToOutsideRepName: string, PaymentTermsAditDays: string, PaymentTermsFixedDate: string, PaymentTerms: string, PaymentTermsDescription: string, Plant: string, PlantText: string, PlantType: string, PriceGroup: string, PricingDate: string, ProductHierarchyLvl1: string, ProductHierachyLvl1Text: string, ProductHierarchyLvl2: string, ProductHierachyLvl2Text: string, ProductHierarchyLvl3: string, ProductHierachyLvl3Text: string, ProductHierarchyLvl4: string, ProductHierachyLvl4Text: string, ProductHierarchyLvl5: string, ProductHierachyLvl5Text: string, ProductHierarchyLvl6: string, ProductHierachyLvl6Text: string, ProductHierarchyLvl7: string, ProductHierachyLvl7Text: string, ProductHierarchy: string, ProductHierarchyNodeName: string, RegionalBR: string, RegionalBRName: string, SalesDoc_SalesDirector: string, ShipToSalesDirector: string, SalesDocCategory: string, SalesDocType: string, SalesDocTypeText: string, SalesDocNumber: string, SalesDocItem: string, ShipToSalesGroup: string, ShipToSalesGroupName: string, SalesGroup: string, SalesGroupName: string, ShipToSalesManager: string, SalesDoc_SalesManager: string, ShipToSalesOffice: string, ShipToSalesOfficeName: string, SalesOffice: string, SalesOfficeName: string, SalesOrg: string, SalesOrgName: string, ShippingCondition: string, ShippingConditionName: string, ShippingDate: string, ShipToCustomer: string, ShipToCustomerName: string, SizeForQualityCertificate: string, SoldToCustomerShortName: string, SoldToCustomer: string, SoldToCustomerName: string, ShipFromRegion: string, ShipToState: string, SoldToState: string, BillDocNetWeight_UOM: string, PricingProcedure: string, ShipToCustomerShortName: string, ShipToGrupoNISEBR: string, MatDimension: string, MatQuality: string, ProductPlanning: string, ProductPlanningName: string, ROUTE: string, RouteName: string, PlateLength1mm: string, PlateThickness1mm: string, PlateWidth_mm: string, PLANNING_MAT: string, INTERNAL_STANDARD_PRICING: string, SalesOrdMaterialTxt: string, EDGE: string, COIL_WEIGHT_MAX: string, COIL_WEIGHT_MIN: string, VFSI_ERDAT: string, KDKG2: string, Created_by: string, PO_Number: string, MA_BillingAmount_P: double, MA_BillingQuantity_P: double, MA_CM_PRECOLISTA_UNIT_P: double, MA_CM_PRECOLISTA_D: double, ZS_CM_CD_ZS23_UNIT_P: double, ZS_CM_CD_ZS23_D: double, MA_OUTROS_UNIT_P: double, MA_OUTROS_D: double, MA_CC_BLANK18_P: string, MA_CM_CD_TTDCAU_LP_UNIT_P: double, MA_CM_CD_TTDCAU_LP_D: double, DA_CM_CD_ZD01_UNIT_P: double, DA_CM_CD_ZD01_D: double, DA_CM_CD_ZD02_UNIT_P: double, DA_CM_CD_ZD02_D: double, DA_CM_CD_ZD03_UNIT_P: double, DA_CM_CD_ZD03_D: double, DA_CM_CD_ZD04_UNIT_P: double, DA_CM_CD_ZD04_D: double, DA_CM_CD_ZD05_UNIT_P: double, DA_CM_CD_ZD05_D: double, DA_CM_CD_ZD06_UNIT_P: double, DA_CM_CD_ZD06_D: double, MA_CC_BLANK19_P: string, MA_CM_CD_TTACAU_LP_UNIT_P: double, MA_CM_CD_TTACAU_LP_D: double, AA_CM_CD_ZEB1_UNIT_P: double, AA_CM_CD_ZEB1_D: double, AA_CM_CD_ZEB2_UNIT_P: double, AA_CM_CD_ZEB2_D: double, AA_CM_CD_ZEAF_UNIT_P: double, AA_CM_CD_ZEAF_D: double, AA_OUTROS_UNIT_P: double, AA_OUTROS_D: double, MA_CC_BLANK20_P: string, MA_CM_CD_TTDCMN_LP_UNIT_P: double, MA_CM_CD_TTDCMN_LP_D: double, DM_CM_CD_ZD13_UNIT_P: double, DM_CM_CD_ZD13_D: double, DM_CM_CD_ZD14_UNIT_P: double, DM_CM_CD_ZD14_D: double, DM_CM_CD_ZP30_UNIT_P: double, DM_CM_CD_ZP30_D: double, DM_OUTROS_DESC_UNIT_P: double, DM_OUTROS_DESC_D: double, MA_CC_BLANK2_P: string, MA_CM_CD_TTACMN_LP_UNIT_P: double, MA_CM_CD_TTACMN_LP_D: double, AM_CM_CD_ZSU2_UNIT_P: double, AM_CM_CD_ZSU2_D: double, AM_OUTROS_ACRES_UNIT_P: double, AM_OUTROS_ACRES_D: double, MA_CC_BLANK1_P: string, MA_CM_CD_ZP20_UNIT_P: double, MA_CM_CD_ZP20_D: double, MA_CC_BLANK_P: string, IC_CM_ICMSFRETEZFT4_P: double, IC_CM_ICMSSEMFRETE_P: double, IC_CM_ICMSSEMFRETES_E_ACRFIN_P: double, IC_CM_ICMSSEMFRETE_E_SEMACRFINAUT_P: double, IC_CC_BLANK3_P: string, MA_CM_PRECOBASECLIENTE_BQ_LP_UNIT_P: double, MA_CM_PRECOBASECLIENTEBQ_D: double, MA_CM_PRECOPRATICADOCLIENTE_UNIT_P: double, MA_CM_PRECOPRATICADOCLIENTE_D: double, MA_CC_BLANK4_P: string, MA_CM_RBV_UNIT_P: double, MA_CM_RBV_D: double, MA_CM_CD_IPI_UNIT_P: double, MA_CM_CD_IPI_D: double, MA_CM_RBVIPI_UNIT_P: double, MA_CM_RBVIPI_D: double, MA_CC_BLANK11_P: string, MA_CM_TOTAL_IMP_UNIT_P: double, MA_CM_TOTAL_IMP_D: double, IM_CM_CD_ICMS_UNIT_P: double, IM_CM_CD_ICMS_D: double, IM_CM_CD_ICMS_ZF_UNIT_P: double, IM_CM_CD_ICMS_ZF_D: double, IM_CD_CM_BX94_UNIT_P: double, IM_CM_CD_BX94_D: double, IM_CM_CD_BX95_UNIT_P: double, IM_CM_CD_BX95_D: double, IM_CD_CM_BX96_UNIT_P: double, IM_CM_CD_BX96_D: double, IM_CM_CD_IPI_IMP_UNIT_P: double, IM_CM_CD_IPI_IMP_D: double, IM_CM_CD_BX51_UNIT_P: double, IM_CM_CD_BX51_D: double, IM_CM_CD_COFINS_UNIT_P: double, IM_CM_CD_COFINS_D: double, IM_CM_CD_PIS_UNIT_P: double, IM_CM_CD_PIS_D: double, IM_OUTROS_UNIT_P: double, IM_OUTROS_D: double, MA_CC_BLANK12_P: string, MA_CM_RLV_UNIT_P: double, MA_CM_RLV_D: double, MA_CC_BLANK13_P: string, MA_CM_PRECOBASE_ALCADA_P: double, MA_CM_PRECOPOLITICA_ALCADA_UNIT_P: double, MA_CM_PRECOPOLITICA_ALCADA_D: double, MA_CM_DESVIOPOLITICAALCADA_UNIT_P: double, MA_CM_DESVIOPOLITICAALCADA_D: double, MA_CC_BLANK14_P: string, DP_CM_PRECOPOLITICA_UNIT_P: double, DP_CM_PRECOPOLITICA_D: double, DP_CM_PRECOPRATICADO_UNIT_P: double, DP_CM_PRECOPRATICADO_D: double, DP_CM_DESVIOPOLITICA_UNIT_P: double, DP_CM_DESVIOPOLITICA_D: double, DP_CC_BLANK15_P: string, MA_CM_SHIPMENTCOST_UNIT_P: double, MA_ShipmentCost_D: double, MA_CC_BLANK16_P: string, MA_CM_CD_ZFT1_UNIT_P: double, MA_CM_CD_ZFT1_D: double, MA_CM_CD_ZEFB_UNIT_P: double, MA_CM_CD_ZEFB_D: double, MA_CM_CD_ZDFB_UNIT_P: double, MA_CM_CD_ZDFB_D: double, MA_CM_CD_ZFT4_UNIT_P: double, MA_CM_CD_ZFT4_D: double, MA_CM_OUTROS_FRETES_UNIT_P: double, MA_CM_OUTROS_FRETES_D: double, MA_CC_BLANK17_P: string, MA_CM_CD_BX41_UNIT_P: double, MA_CM_CD_BX41_D: double, CM_CD_ZP28: double, DATA_LOAD_TIMESTAMP_PARQUET: string, DATA_LOAD_TIMESTAMP_RAW: string, HANA_KEY: string, ADRNR: string, BRANCH_REGION: string, OV_AJUST: string, GPM_DESC: string]"
     ]
    }
   ],
   "source": [
    "df_hana.persist(pyspark.StorageLevel.MEMORY_ONLY)"
   ]
  },
  {
   "cell_type": "code",
   "execution_count": 101,
   "metadata": {},
   "outputs": [
    {
     "data": {
      "application/vnd.jupyter.widget-view+json": {
       "model_id": "c387a16fff354a478df4698769a2897e",
       "version_major": 2,
       "version_minor": 0
      },
      "text/plain": [
       "VBox()"
      ]
     },
     "metadata": {},
     "output_type": "display_data"
    },
    {
     "data": {
      "application/vnd.jupyter.widget-view+json": {
       "model_id": "",
       "version_major": 2,
       "version_minor": 0
      },
      "text/plain": [
       "FloatProgress(value=0.0, bar_style='info', description='Progress:', layout=Layout(height='25px', width='50%'),…"
      ]
     },
     "metadata": {},
     "output_type": "display_data"
    }
   ],
   "source": [
    "# Correcting GPM_DESC Column\n",
    "df_hana=df_hana.withColumn(\"GPM\", when(df_hana.GPM_DESC.isNull(), df_hana.GPM)\\\n",
    "                                           .otherwise(df_hana.GPM_DESC))\\\n",
    "               .drop(\"GPM_DESC\")"
   ]
  },
  {
   "cell_type": "code",
   "execution_count": 102,
   "metadata": {},
   "outputs": [
    {
     "data": {
      "application/vnd.jupyter.widget-view+json": {
       "model_id": "07bd99e3873d4801bb04c20a86ecf67b",
       "version_major": 2,
       "version_minor": 0
      },
      "text/plain": [
       "VBox()"
      ]
     },
     "metadata": {},
     "output_type": "display_data"
    },
    {
     "data": {
      "application/vnd.jupyter.widget-view+json": {
       "model_id": "",
       "version_major": 2,
       "version_minor": 0
      },
      "text/plain": [
       "FloatProgress(value=0.0, bar_style='info', description='Progress:', layout=Layout(height='25px', width='50%'),…"
      ]
     },
     "metadata": {},
     "output_type": "display_data"
    }
   ],
   "source": [
    "#choosing specifics GPD's (business call)\n",
    "df_hana = df_hana.filter(df_hana.GPDName.like('%BR-PERFIS ESTRUTURAIS%') |\n",
    "                        df_hana.GPDName.like('%BR-CA50%') |\n",
    "                        df_hana.GPDName.like('%BR-CA60%') |\n",
    "                        df_hana.GPDName.like('%BR-RECOZIDO%') |\n",
    "                        df_hana.GPDName.like('%BR-TEL TUBO%') |\n",
    "                        df_hana.GPDName.like('%BR-TELA P/ CONCRETO%') |\n",
    "                        df_hana.GPDName.like('%BR-CORTE E DOBR%') |\n",
    "                        df_hana.GPDName.like('%BR-CONSTRUCAO CIVIL%') |\n",
    "                        df_hana.GPDName.like('%BR-CA25%') |\n",
    "                        df_hana.GPDName.like('%BR-PERFIS COMERCIAIS%') |\n",
    "                        df_hana.GPDName.like('%BR-BTG%') |\n",
    "                        df_hana.GPDName.like('%BR-MALHA POP%') |\n",
    "                        df_hana.GPDName.like('%BR-TELA COLUNA%') |\n",
    "                        df_hana.GPDName.like('%BR-TRELIÇA%') |\n",
    "                        df_hana.GPDName.like('%BR-B.TREFILADA%') |\n",
    "                        df_hana.GPDName.like('%BR-OVALADO%') |\n",
    "                        df_hana.GPDName.like('%BR-GALVANIZADO%') |\n",
    "                        df_hana.GPDName.like('%BR-BARRAS COMERCIAIS%') |\n",
    "                        df_hana.GPDName.like('%BR-CAIXOTARIA%') |\n",
    "                        df_hana.GPDName.like('%BR-ARTEFATOS%') |\n",
    "                        df_hana.GPDName.like('%BR-FARPADO%') |\n",
    "                        df_hana.GPDName.like('%BR-ELETRODO%') |\n",
    "                        df_hana.GPDName.like('%BR-SOLDA - MIG%') |\n",
    "                        df_hana.GPDName.like('%BR-CANTON A572%') |\n",
    "                        df_hana.GPDName.like('%BR-GGS%') |\n",
    "                        df_hana.GPDName.like('%BR-ARMADO%') |\n",
    "                        df_hana.GPDName.like('%BR-CORDOALHA%') |\n",
    "                        df_hana.GPDName.like('%BR-ESTACA PRANCHA%') |\n",
    "                        df_hana.GPDName.like('%BR-ARAME PREGO%') |\n",
    "                        df_hana.GPDName.like('%BR-CABEÇA DUPLA%') |\n",
    "                        df_hana.GPDName.like('%BR-CORDOALHA AGRO%') |\n",
    "                        df_hana.GPDName.like('%BR-GRAMPO%') |\n",
    "                        df_hana.GPDName.like('%BR-COBREADOS%') |\n",
    "                        df_hana.GPDName.like('%BR-CHAPA LQ%') |\n",
    "                        df_hana.GPDName.like('%BR-UDC%') |\n",
    "                        df_hana.GPDName.like('%BR-CHAPA ZN%') |\n",
    "                        df_hana.GPDName.like('%BR-TELHA AZ%') |\n",
    "                        df_hana.GPDName.like('%BR-TUBO ZN%') |\n",
    "                        df_hana.GPDName.like('%BR-MARCENARIA%') |\n",
    "                        df_hana.GPDName.like('%BR-PREGOES%') |\n",
    "                        df_hana.GPDName.like('%BR-TELHEIRO%') |\n",
    "                        df_hana.GPDName.like('%BR-COLUNA%') |\n",
    "                        df_hana.GPDName.like('%BR-ESTRIBO%') |\n",
    "                        df_hana.GPDName.like('%BR-ACESSORIOS%') |\n",
    "                        df_hana.GPDName.like('%BR-CHAPA LCG%') |\n",
    "                        df_hana.GPDName.like('%BR-CHAPA LF%') |\n",
    "                        df_hana.GPDName.like('%BR-TUBO LF%') |\n",
    "                        df_hana.GPDName.like('%BR-CHAPA LQ PISO%') |\n",
    "                        df_hana.GPDName.like('%BR-BOBININHA%') |\n",
    "                        df_hana.GPDName.like('%BR-ESPECIAIS%') |\n",
    "                        df_hana.GPDName.like('%BR-BOBINA LQ%') |\n",
    "                        df_hana.GPDName.like('%BR-FITA LQ%') |\n",
    "                        df_hana.GPDName.like('%BR-BOBINA AZ%') |\n",
    "                        df_hana.GPDName.like('%BR-AÇOS ESPECIAIS%') |\n",
    "                        df_hana.GPDName.like('%BR-PARAFUSOS%') |\n",
    "                        df_hana.GPDName.like('%BR-CIMENTO%') |\n",
    "                        df_hana.GPDName.like('%BR-TUBO LQ%') |\n",
    "                        df_hana.GPDName.like('%BR-TELHA ZN%') |\n",
    "                        df_hana.GPDName.like('%BR-BTC GLV CP%') |\n",
    "                        df_hana.GPDName.like('%BR-BOBINA ZN%') |\n",
    "                        df_hana.GPDName.like('%BR-S-BARRA LAMINADA MÉDIA%') |\n",
    "                        df_hana.GPDName.like('%BR-S-BARRA LAMINADA PESADA%') |\n",
    "                        df_hana.GPDName.like('%BR-FITA LF%') |\n",
    "                        df_hana.GPDName.like('%BR-FITA AZ%') |\n",
    "                        df_hana.GPDName.like('%BR-S-BARRA LAMINADA LEVE%') |\n",
    "                        df_hana.GPDName.like('%BR-ALAMBRADO%') |\n",
    "                        df_hana.GPDName.like('%BR-SAPATA%') |\n",
    "                        df_hana.GPDName.like('%BR-MOURÃO%') |\n",
    "                        df_hana.GPDName.like('%BR-ATC CLARO IND%') |\n",
    "                        df_hana.GPDName.like('%BR-POLIDO%') |\n",
    "                        df_hana.GPDName.like('%BR-PERFIL BENEFICIADO%') |\n",
    "                        df_hana.GPDName.like('%BR-BOBINA LF%') |\n",
    "                        df_hana.GPDName.like('%BR-S-BARRA CTT%') |\n",
    "                        df_hana.GPDName.like('%BR-CHAPA AZ%') |\n",
    "                        df_hana.GPDName.like('%BR-FITA ZN%') |\n",
    "                        df_hana.GPDName.like('%BR-LDA%') |\n",
    "                        df_hana.GPDName.like('%BR-PIATINA CLARA%') |\n",
    "                        df_hana.GPDName.like('%BR-S-BARRA DESCASCADA%') |\n",
    "                        df_hana.GPDName.like('%BR-MESH%') |\n",
    "                        df_hana.GPDName.like('%BR-S-BARRA FORJADA FINA%') |\n",
    "                        df_hana.GPDName.like('%BR-S-BARRA RETIFICADA%') |\n",
    "                        df_hana.GPDName.like('%BR-S-BARRA TREFILADA%') |\n",
    "                        df_hana.GPDName.like('%BR-PLACA%') |\n",
    "                        df_hana.GPDName.like('%BR-COIL%') |\n",
    "                        df_hana.GPDName.like('%BR-S-FERRAMENTA%') |\n",
    "                        df_hana.GPDName.like('%BR-S-FIO MÁQUINA STT%') |\n",
    "                        df_hana.GPDName.like('%BR-ATC CLARO MOL COL%') |\n",
    "                        df_hana.GPDName.like('%BR-ATC GLV CP%') |\n",
    "                        df_hana.GPDName.like('%BR-B.CHATA LONGARINA%') |\n",
    "                        df_hana.GPDName.like('%BR-BT FORJARIA BLOCOS%') |\n",
    "                        df_hana.GPDName.like('%BR-TARUGO%') |\n",
    "                        df_hana.GPDName.like('%BR-DRAWING%') |\n",
    "                        df_hana.GPDName.like('%BR-ATC CLARO ENF ALG%') |\n",
    "                        df_hana.GPDName.like('%BR-PIATINA GLV%') |\n",
    "                        df_hana.GPDName.like('%BR-PERFIL DORMENTE%') |\n",
    "                        df_hana.GPDName.like('%BR-ATC%') |\n",
    "                        df_hana.GPDName.like('%BR-CHQ%') |\n",
    "                        df_hana.GPDName.like('%BR-ALMA DE ELETRODO%') |\n",
    "                        df_hana.GPDName.like('%BR-FIO MAQUINA%') |\n",
    "                        df_hana.GPDName.like('%BR-CHQ BORO%') |\n",
    "                        df_hana.GPDName.like('%BR-PERFIL GUIA ELEV%'))"
   ]
  },
  {
   "cell_type": "code",
   "execution_count": 103,
   "metadata": {},
   "outputs": [
    {
     "data": {
      "application/vnd.jupyter.widget-view+json": {
       "model_id": "8b463d34f71f4841904f974966bc49f7",
       "version_major": 2,
       "version_minor": 0
      },
      "text/plain": [
       "VBox()"
      ]
     },
     "metadata": {},
     "output_type": "display_data"
    },
    {
     "data": {
      "application/vnd.jupyter.widget-view+json": {
       "model_id": "",
       "version_major": 2,
       "version_minor": 0
      },
      "text/plain": [
       "FloatProgress(value=0.0, bar_style='info', description='Progress:', layout=Layout(height='25px', width='50%'),…"
      ]
     },
     "metadata": {},
     "output_type": "display_data"
    }
   ],
   "source": [
    "#choosiin\n",
    "df_hana = df_hana.filter(df_hana.GPM.like('%PERFIS_ESTRUTURAIS%') |\n",
    "                        df_hana.GPM.like('%VERGALHAO%') |\n",
    "                        df_hana.GPM.like('%AMPLIADOS%') |\n",
    "                        df_hana.GPM.like('%CORTE_DOBRA%') |\n",
    "                        df_hana.GPM.like('%PREGOS%') |\n",
    "                        df_hana.GPM.like('%B&P%') |\n",
    "                        df_hana.GPM.like('%ARAMES_AGRO%') |\n",
    "                        df_hana.GPM.like('%ARAMES_IND%') |\n",
    "                        df_hana.GPM.like('%PLANOS_LQ%') |\n",
    "                        df_hana.GPM.like('%PLANOS_REVESTIDOS%') |\n",
    "                        df_hana.GPM.like('%PLANOS_LF%') |\n",
    "                        df_hana.GPM.like('%PLANOS_LCG%') |\n",
    "                        df_hana.GPM.like('%FIO_MAQUINA%') |\n",
    "                        df_hana.GPM.like('%BT_FORJARIA%') |\n",
    "                        df_hana.GPM.like('%PLACAS%') |\n",
    "                        df_hana.GPM.like('%TARUGO%') | \n",
    "                        df_hana.GPM.isNull())"
   ]
  },
  {
   "cell_type": "code",
   "execution_count": 104,
   "metadata": {},
   "outputs": [
    {
     "data": {
      "application/vnd.jupyter.widget-view+json": {
       "model_id": "4656f552a21c4e1389dffd8af34d4c30",
       "version_major": 2,
       "version_minor": 0
      },
      "text/plain": [
       "VBox()"
      ]
     },
     "metadata": {},
     "output_type": "display_data"
    },
    {
     "data": {
      "application/vnd.jupyter.widget-view+json": {
       "model_id": "",
       "version_major": 2,
       "version_minor": 0
      },
      "text/plain": [
       "FloatProgress(value=0.0, bar_style='info', description='Progress:', layout=Layout(height='25px', width='50%'),…"
      ]
     },
     "metadata": {},
     "output_type": "display_data"
    }
   ],
   "source": [
    "# Selecting Necessary Columns\n",
    "df_hana=df_hana.select(df_hana.SoldToCustomer.alias(\"CUSTOMER_COD\")\n",
    "                       ,df_hana.SoldToCustomerName.alias(\"CUSTOMER_DESC\")\n",
    "                       ,df_hana.CorporateGroupName.alias(\"CUSTOMER_GROUP\")\n",
    "                       ,df_hana.BilDocNumber.alias(\"BILLING_NUMBER\")\n",
    "                       ,df_hana.BilDocItem.alias(\"BILLING_ITEM\")\n",
    "                       ,df_hana.BILDOCDATE.alias(\"BILLING_DATE\")\n",
    "                       ,df_hana.SalesOrg.alias(\"SALES_ORG_COD\")\n",
    "                       ,df_hana.OV_AJUST\n",
    "                       ,df_hana.SalesOrderDate.alias(\"SALES_ORDER_DATE\")\n",
    "                       ,df_hana.SalesGroupName.alias(\"SALES_GROUP_DESC\")\n",
    "                       ,df_hana.SoldToCity.alias(\"ISSUING_CITY\")\n",
    "                       ,df_hana.SoldToState.alias(\"ISSUING_STATE\")\n",
    "                       ,df_hana.GPD.alias(\"GPD_COD\")\n",
    "                       ,df_hana.GPM.alias(\"GPM_DESC\")\n",
    "                       ,df_hana.GPDName.alias(\"GPD_DESC\")\n",
    "                       ,df_hana.Material.alias(\"MATERIAL_COD\").cast(\"int\").cast(\"string\")\n",
    "                       ,df_hana.SalesOffice.alias(\"SALES_OFFICE_COD\")\n",
    "                       ,df_hana.MaterialName.alias(\"MATERIAL_DESC\")\n",
    "                       ,df_hana.SalesDocType.alias(\"ORDER_TYPE\")\n",
    "                       ,df_hana.MA_BillingQuantity_P.alias(\"QUANTITY_TON\")\n",
    "                       ,df_hana.DP_CM_PRECOPRATICADO_D.alias(\"PRACTICED_PRICE\")\n",
    "                       ,df_hana.DA_CM_CD_ZD05_D.alias(\"ZD05\")\n",
    "                       ,df_hana.AA_CM_CD_ZEAF_D.alias(\"ZEAF\")\n",
    "                       ,df_hana.MA_CM_CD_BX41_D.alias(\"BX41\")\n",
    "                       ,df_hana.MA_CM_RBV_D.alias(\"RBV\")                \n",
    "                       ,df_hana.MA_CM_RLV_D.alias(\"RLV\")\n",
    "                       ,df_hana.MA_CM_PRECOBASE_ALCADA_P.alias(\"VERGE\")                       \n",
    "                       ,df_hana.DA_CM_CD_ZD01_D.alias(\"ZD01\")\n",
    "                       ,df_hana.DA_CM_CD_ZD02_D.alias(\"ZD02\")\n",
    "                       ,df_hana.DA_CM_CD_ZD03_D.alias(\"ZD03\")\n",
    "                       ,df_hana.DA_CM_CD_ZD04_D.alias(\"ZD04\")                       \n",
    "                       ,df_hana.DA_CM_CD_ZD06_D.alias(\"ZD06\")\n",
    "                       ,df_hana.DM_CM_CD_ZD13_D.alias(\"ZD13\")\n",
    "                       ,df_hana.MA_CM_PRECOLISTA_D.alias(\"LIST_PRICE\")\n",
    "                       ,df_hana.AA_CM_CD_ZEB1_D.alias(\"ZEB1\")\n",
    "                       ,df_hana.AA_CM_CD_ZEB2_D.alias(\"ZEB2\")\n",
    "                       ,df_hana.AM_CM_CD_ZSU2_D.alias(\"ZSU2\")    \n",
    "                       ,df_hana.MA_CM_DESVIOPOLITICAALCADA_D.alias(\"POLICY_DEVIATION\")\n",
    "                       ,df_hana.MA_CM_DESVIOPOLITICAALCADA_D.alias(\"POLICY_DEVIATION_REAIS\")\n",
    "                       ,df_hana.DM_CM_CD_ZD14_D.alias(\"ZD14\"))\\\n",
    "                .distinct()"
   ]
  },
  {
   "cell_type": "code",
   "execution_count": 105,
   "metadata": {},
   "outputs": [
    {
     "data": {
      "application/vnd.jupyter.widget-view+json": {
       "model_id": "e8593c7a472d433fbcd96b4c74572c6d",
       "version_major": 2,
       "version_minor": 0
      },
      "text/plain": [
       "VBox()"
      ]
     },
     "metadata": {},
     "output_type": "display_data"
    },
    {
     "data": {
      "application/vnd.jupyter.widget-view+json": {
       "model_id": "",
       "version_major": 2,
       "version_minor": 0
      },
      "text/plain": [
       "FloatProgress(value=0.0, bar_style='info', description='Progress:', layout=Layout(height='25px', width='50%'),…"
      ]
     },
     "metadata": {},
     "output_type": "display_data"
    }
   ],
   "source": [
    "df_hana=df_hana.withColumn(\"SALES_ORDER_DATE\", concat(substring(\"SALES_ORDER_DATE\", 1, 4)\n",
    "                                                      ,lit(\"/\")\n",
    "                                                      ,substring(\"SALES_ORDER_DATE\", -4, 2)\n",
    "                                                      ,lit(\"/\")\n",
    "                                                      ,substring(\"SALES_ORDER_DATE\", 7, 8)))"
   ]
  },
  {
   "cell_type": "code",
   "execution_count": 106,
   "metadata": {},
   "outputs": [
    {
     "data": {
      "application/vnd.jupyter.widget-view+json": {
       "model_id": "efff29aa7dad43918cf7ed0c566154ca",
       "version_major": 2,
       "version_minor": 0
      },
      "text/plain": [
       "VBox()"
      ]
     },
     "metadata": {},
     "output_type": "display_data"
    },
    {
     "data": {
      "application/vnd.jupyter.widget-view+json": {
       "model_id": "",
       "version_major": 2,
       "version_minor": 0
      },
      "text/plain": [
       "FloatProgress(value=0.0, bar_style='info', description='Progress:', layout=Layout(height='25px', width='50%'),…"
      ]
     },
     "metadata": {},
     "output_type": "display_data"
    }
   ],
   "source": [
    "df_hana = df_hana.withColumn(\"SALES_ORDER_DATE\", from_unixtime(unix_timestamp(col(\"SALES_ORDER_DATE\"), 'yyyy/MM/dd')))"
   ]
  },
  {
   "cell_type": "code",
   "execution_count": 107,
   "metadata": {},
   "outputs": [
    {
     "data": {
      "application/vnd.jupyter.widget-view+json": {
       "model_id": "08b53fe98bd7440f9830445b190de333",
       "version_major": 2,
       "version_minor": 0
      },
      "text/plain": [
       "VBox()"
      ]
     },
     "metadata": {},
     "output_type": "display_data"
    },
    {
     "data": {
      "application/vnd.jupyter.widget-view+json": {
       "model_id": "",
       "version_major": 2,
       "version_minor": 0
      },
      "text/plain": [
       "FloatProgress(value=0.0, bar_style='info', description='Progress:', layout=Layout(height='25px', width='50%'),…"
      ]
     },
     "metadata": {},
     "output_type": "display_data"
    }
   ],
   "source": [
    "# Converting numeric values from \"Text\" (String) to Float \n",
    "for col_name in [\"QUANTITY_TON\"\n",
    "                 ,\"PRACTICED_PRICE\"\n",
    "                 ,\"ZD05\"\n",
    "                 ,\"ZEAF\"\n",
    "                 ,\"BX41\"\n",
    "                 ,\"RBV\"\n",
    "                 ,\"RLV\"\n",
    "                 ,\"VERGE\"                 \n",
    "                 ,\"ZD01\"\n",
    "                 ,\"ZD02\"\n",
    "                 ,\"ZD03\"\n",
    "                 ,\"ZD04\"\n",
    "                 ,\"ZD06\"\n",
    "                 ,\"ZD13\"\n",
    "                 ,\"PRICE_LIST\"\n",
    "                 ,\"ZEB1\"\n",
    "                 ,\"ZEB2\"\n",
    "                 ,\"ZSU2\"\n",
    "                 ,\"POLICY_DEVIATION\"\n",
    "                 ,\"ZD14\"]:\n",
    "    df_hana = df_hana.withColumn(col_name, col(col_name).cast('float'))"
   ]
  },
  {
   "cell_type": "code",
   "execution_count": 108,
   "metadata": {},
   "outputs": [
    {
     "data": {
      "application/vnd.jupyter.widget-view+json": {
       "model_id": "a46d3d77483046d1b3819cc83a3fe6b7",
       "version_major": 2,
       "version_minor": 0
      },
      "text/plain": [
       "VBox()"
      ]
     },
     "metadata": {},
     "output_type": "display_data"
    },
    {
     "data": {
      "application/vnd.jupyter.widget-view+json": {
       "model_id": "",
       "version_major": 2,
       "version_minor": 0
      },
      "text/plain": [
       "FloatProgress(value=0.0, bar_style='info', description='Progress:', layout=Layout(height='25px', width='50%'),…"
      ]
     },
     "metadata": {},
     "output_type": "display_data"
    }
   ],
   "source": [
    "# Filtering From Hana Table Rows with Positive Quantity \n",
    "df_hana = df_hana.filter(df_hana.QUANTITY_TON > 0)"
   ]
  },
  {
   "cell_type": "code",
   "execution_count": 109,
   "metadata": {},
   "outputs": [
    {
     "data": {
      "application/vnd.jupyter.widget-view+json": {
       "model_id": "e47fa1a0fba34b29afae3ab9af465edd",
       "version_major": 2,
       "version_minor": 0
      },
      "text/plain": [
       "VBox()"
      ]
     },
     "metadata": {},
     "output_type": "display_data"
    },
    {
     "data": {
      "application/vnd.jupyter.widget-view+json": {
       "model_id": "",
       "version_major": 2,
       "version_minor": 0
      },
      "text/plain": [
       "FloatProgress(value=0.0, bar_style='info', description='Progress:', layout=Layout(height='25px', width='50%'),…"
      ]
     },
     "metadata": {},
     "output_type": "display_data"
    }
   ],
   "source": [
    "# Correcting Practiced Price Field\n",
    "df_hana=df_hana.withColumn(\"PRACTICED_PRICE_I\", when((df_hana.SALES_ORG_COD.like(\"BRCG\")), \n",
    "                                                   col(\"PRACTICED_PRICE\")+abs(col(\"ZD05\"))-col(\"ZEAF\")+col(\"BX41\"))\\\n",
    "                                              .otherwise(col(\"PRACTICED_PRICE\")+abs(col(\"ZD05\"))-col(\"ZEAF\")+col(\"BX41\")))\\\n",
    "               .withColumn(\"PRACTICED_PRICE_I\", col(\"PRACTICED_PRICE_I\")/col(\"QUANTITY_TON\"))\\\n",
    "               .withColumn(\"PRACTICED_PRICE_I\", col(\"PRACTICED_PRICE_I\")/1000)\\\n",
    "               .withColumn(\"PRACTICED_PRICE\", when((df_hana.SALES_ORG_COD.like(\"BRCG\")), \n",
    "                                                   col(\"PRACTICED_PRICE\")+abs(col(\"ZD05\"))-col(\"ZEAF\")+col(\"BX41\"))\\\n",
    "                                              .otherwise(col(\"PRACTICED_PRICE\")+abs(col(\"ZD05\"))-col(\"ZEAF\")))\\\n",
    "               .withColumn(\"PRACTICED_PRICE\", col(\"PRACTICED_PRICE_I\")/col(\"QUANTITY_TON\"))\\\n",
    "               .withColumn(\"PRACTICED_PRICE\", col(\"PRACTICED_PRICE_I\")/1000)\\"
   ]
  },
  {
   "cell_type": "code",
   "execution_count": 110,
   "metadata": {},
   "outputs": [
    {
     "data": {
      "application/vnd.jupyter.widget-view+json": {
       "model_id": "037a563ae6784a52bc607bef5ee46271",
       "version_major": 2,
       "version_minor": 0
      },
      "text/plain": [
       "VBox()"
      ]
     },
     "metadata": {},
     "output_type": "display_data"
    },
    {
     "data": {
      "application/vnd.jupyter.widget-view+json": {
       "model_id": "",
       "version_major": 2,
       "version_minor": 0
      },
      "text/plain": [
       "FloatProgress(value=0.0, bar_style='info', description='Progress:', layout=Layout(height='25px', width='50%'),…"
      ]
     },
     "metadata": {},
     "output_type": "display_data"
    }
   ],
   "source": [
    "# Correcting Practiced Price Field\n",
    "df_hana=df_hana.withColumn(\"CUSTOMER_GROUP\", when(df_hana.CUSTOMER_GROUP.isNull()|\n",
    "                                                  df_hana.CUSTOMER_GROUP.like(\"GRUPO DE RENTABILIDADE GENÉRICO\")\n",
    "                                                  ,col(\"CUSTOMER_DESC\")).otherwise(col(\"CUSTOMER_GROUP\")))"
   ]
  },
  {
   "cell_type": "code",
   "execution_count": 111,
   "metadata": {},
   "outputs": [
    {
     "data": {
      "application/vnd.jupyter.widget-view+json": {
       "model_id": "0d37df21437b42c7bdcb42284d1cec32",
       "version_major": 2,
       "version_minor": 0
      },
      "text/plain": [
       "VBox()"
      ]
     },
     "metadata": {},
     "output_type": "display_data"
    },
    {
     "data": {
      "application/vnd.jupyter.widget-view+json": {
       "model_id": "",
       "version_major": 2,
       "version_minor": 0
      },
      "text/plain": [
       "FloatProgress(value=0.0, bar_style='info', description='Progress:', layout=Layout(height='25px', width='50%'),…"
      ]
     },
     "metadata": {},
     "output_type": "display_data"
    }
   ],
   "source": [
    "# Creating PO Field\n",
    "df_hana=df_hana.withColumn(\"PO\", when((col(\"ZD13\") < 0)|\n",
    "                                      (col(\"ZD14\") < 0), col(\"RBV\")\n",
    "                                                        -abs(col(\"ZSU2\")) \n",
    "                                                        +abs(col(\"ZD13\"))     \n",
    "                                                        +abs(col(\"ZD06\"))\n",
    "                                                        +abs(col(\"ZD14\")))\\\n",
    "                                       .otherwise(col(\"RBV\")\n",
    "                                                  -abs(col(\"ZSU2\")) \n",
    "                                                  -abs(col(\"ZEAF\")) \n",
    "                                                  -abs(col(\"ZEB1\")) \n",
    "                                                  +abs(col(\"ZD13\"))     \n",
    "                                                  +abs(col(\"ZD06\"))\n",
    "                                                  +abs(col(\"ZD14\"))))"
   ]
  },
  {
   "cell_type": "code",
   "execution_count": 112,
   "metadata": {},
   "outputs": [
    {
     "data": {
      "application/vnd.jupyter.widget-view+json": {
       "model_id": "a6a11df1fde44d9e9af5dbcc17191cda",
       "version_major": 2,
       "version_minor": 0
      },
      "text/plain": [
       "VBox()"
      ]
     },
     "metadata": {},
     "output_type": "display_data"
    },
    {
     "data": {
      "application/vnd.jupyter.widget-view+json": {
       "model_id": "",
       "version_major": 2,
       "version_minor": 0
      },
      "text/plain": [
       "FloatProgress(value=0.0, bar_style='info', description='Progress:', layout=Layout(height='25px', width='50%'),…"
      ]
     },
     "metadata": {},
     "output_type": "display_data"
    }
   ],
   "source": [
    "#Merge hana and alcada tables\n",
    "df_hana=df_hana.join(df_alcada.select(df_alcada.SALES_ORG_COD.alias(\"SALES_ORG_COD_drop\")\n",
    "                                     ,df_alcada.MATERIAL_COD.alias(\"MATERIAL_COD_drop\")\n",
    "                                     ,df_alcada.ISSUING_STATE.alias(\"ISSUING_STATE_drop\")\n",
    "                                     ,(df_alcada.VERGE/100).alias(\"NEW_VERGE\"))\n",
    "                     ,(trim(df_hana.SALES_ORG_COD) == trim(col(\"SALES_ORG_COD_drop\"))) &\n",
    "                     (df_hana.MATERIAL_COD.cast(\"int\") == col(\"MATERIAL_COD_drop\").cast(\"int\")) &\n",
    "                     (trim(df_hana.ISSUING_STATE) == trim(col(\"ISSUING_STATE_drop\"))), how=\"left\")\\\n",
    "                .drop(\"SALES_ORG_COD_drop\"\n",
    "                      ,\"MATERIAL_COD_drop\"\n",
    "                      ,\"ISSUING_STATE_drop\")"
   ]
  },
  {
   "cell_type": "code",
   "execution_count": 113,
   "metadata": {},
   "outputs": [
    {
     "data": {
      "application/vnd.jupyter.widget-view+json": {
       "model_id": "f5ee6559818c4df08e54a3199c8a8d8b",
       "version_major": 2,
       "version_minor": 0
      },
      "text/plain": [
       "VBox()"
      ]
     },
     "metadata": {},
     "output_type": "display_data"
    },
    {
     "data": {
      "application/vnd.jupyter.widget-view+json": {
       "model_id": "",
       "version_major": 2,
       "version_minor": 0
      },
      "text/plain": [
       "FloatProgress(value=0.0, bar_style='info', description='Progress:', layout=Layout(height='25px', width='50%'),…"
      ]
     },
     "metadata": {},
     "output_type": "display_data"
    }
   ],
   "source": [
    "df_hana = df_hana.fillna({'NEW_VERGE':0.04})"
   ]
  },
  {
   "cell_type": "code",
   "execution_count": 114,
   "metadata": {},
   "outputs": [
    {
     "data": {
      "application/vnd.jupyter.widget-view+json": {
       "model_id": "dac3b0daa0614600a4ec07958fc665f7",
       "version_major": 2,
       "version_minor": 0
      },
      "text/plain": [
       "VBox()"
      ]
     },
     "metadata": {},
     "output_type": "display_data"
    },
    {
     "data": {
      "application/vnd.jupyter.widget-view+json": {
       "model_id": "",
       "version_major": 2,
       "version_minor": 0
      },
      "text/plain": [
       "FloatProgress(value=0.0, bar_style='info', description='Progress:', layout=Layout(height='25px', width='50%'),…"
      ]
     },
     "metadata": {},
     "output_type": "display_data"
    }
   ],
   "source": [
    "# alcada treatment\n",
    "df_hana = df_hana.withColumn(\"VERGE\", when(df_hana.VERGE == 0,\n",
    "                                            col(\"PO\")*col(\"NEW_VERGE\")\n",
    "                                           ).otherwise(col(\"VERGE\")))"
   ]
  },
  {
   "cell_type": "code",
   "execution_count": 115,
   "metadata": {},
   "outputs": [
    {
     "data": {
      "application/vnd.jupyter.widget-view+json": {
       "model_id": "40dfb35e4fb24941b2e10fc4705eb3a3",
       "version_major": 2,
       "version_minor": 0
      },
      "text/plain": [
       "VBox()"
      ]
     },
     "metadata": {},
     "output_type": "display_data"
    },
    {
     "data": {
      "application/vnd.jupyter.widget-view+json": {
       "model_id": "",
       "version_major": 2,
       "version_minor": 0
      },
      "text/plain": [
       "FloatProgress(value=0.0, bar_style='info', description='Progress:', layout=Layout(height='25px', width='50%'),…"
      ]
     },
     "metadata": {},
     "output_type": "display_data"
    }
   ],
   "source": [
    "df_hana = df_hana.drop(\"NEW_VERGE\")"
   ]
  },
  {
   "cell_type": "code",
   "execution_count": 116,
   "metadata": {},
   "outputs": [
    {
     "data": {
      "application/vnd.jupyter.widget-view+json": {
       "model_id": "a5d0ad2a5f144a888b5a3f384f1441bb",
       "version_major": 2,
       "version_minor": 0
      },
      "text/plain": [
       "VBox()"
      ]
     },
     "metadata": {},
     "output_type": "display_data"
    },
    {
     "data": {
      "application/vnd.jupyter.widget-view+json": {
       "model_id": "",
       "version_major": 2,
       "version_minor": 0
      },
      "text/plain": [
       "FloatProgress(value=0.0, bar_style='info', description='Progress:', layout=Layout(height='25px', width='50%'),…"
      ]
     },
     "metadata": {},
     "output_type": "display_data"
    }
   ],
   "source": [
    "# Getting BRANCH Field\n",
    "df_hana = df_hana.join(df_region2, (replace_some_hifen(replace_some_space(replace_some_apostrophe(df_hana[\"ISSUING_CITY\"]))) == replace_some_hifen(replace_some_space(replace_some_apostrophe(df_region2[\"CITY_DROP\"]))))&\n",
    "                                   (trim(df_hana[\"ISSUING_STATE\"]) == trim(df_region2[\"STATE_drop\"])), how='left')\\\n",
    "                 .drop(\"CITY_DROP\")\\\n",
    "                 .drop(\"STATE_drop\")\\\n",
    "                 .distinct()"
   ]
  },
  {
   "cell_type": "code",
   "execution_count": 117,
   "metadata": {},
   "outputs": [
    {
     "data": {
      "application/vnd.jupyter.widget-view+json": {
       "model_id": "e472221e6bf04ffdac5ea338779bf759",
       "version_major": 2,
       "version_minor": 0
      },
      "text/plain": [
       "VBox()"
      ]
     },
     "metadata": {},
     "output_type": "display_data"
    },
    {
     "data": {
      "application/vnd.jupyter.widget-view+json": {
       "model_id": "",
       "version_major": 2,
       "version_minor": 0
      },
      "text/plain": [
       "FloatProgress(value=0.0, bar_style='info', description='Progress:', layout=Layout(height='25px', width='50%'),…"
      ]
     },
     "metadata": {},
     "output_type": "display_data"
    },
    {
     "name": "stdout",
     "output_type": "stream",
     "text": [
      "DataFrame[CUSTOMER_COD: string, CUSTOMER_DESC: string, CUSTOMER_GROUP: string, BILLING_NUMBER: string, BILLING_ITEM: string, BILLING_DATE: string, SALES_ORG_COD: string, OV_AJUST: string, SALES_ORDER_DATE: string, SALES_GROUP_DESC: string, ISSUING_CITY: string, ISSUING_STATE: string, GPD_COD: string, GPM_DESC: string, GPD_DESC: string, MATERIAL_COD: string, SALES_OFFICE_COD: string, MATERIAL_DESC: string, ORDER_TYPE: string, QUANTITY_TON: float, PRACTICED_PRICE: double, ZD05: float, ZEAF: float, BX41: float, RBV: float, RLV: float, ALCADA: double, ZD01: float, ZD02: float, ZD03: float, ZD04: float, ZD06: float, ZD13: float, PRECO_LISTA: float, ZEB1: float, ZEB2: float, ZSU2: float, DESVIO_POL: float, DESVIO_POL_REAIS: double, ZD14: float, PRACTICED_PRICE_I: double, PO: float, BRANCH: string]"
     ]
    }
   ],
   "source": [
    "df_hana.persist(pyspark.StorageLevel.MEMORY_ONLY)"
   ]
  },
  {
   "cell_type": "code",
   "execution_count": 118,
   "metadata": {},
   "outputs": [
    {
     "data": {
      "application/vnd.jupyter.widget-view+json": {
       "model_id": "7c3a0fbd7f3c4243b478e4acf6a0834c",
       "version_major": 2,
       "version_minor": 0
      },
      "text/plain": [
       "VBox()"
      ]
     },
     "metadata": {},
     "output_type": "display_data"
    },
    {
     "data": {
      "application/vnd.jupyter.widget-view+json": {
       "model_id": "",
       "version_major": 2,
       "version_minor": 0
      },
      "text/plain": [
       "FloatProgress(value=0.0, bar_style='info', description='Progress:', layout=Layout(height='25px', width='50%'),…"
      ]
     },
     "metadata": {},
     "output_type": "display_data"
    }
   ],
   "source": [
    "df_hana = df_hana.withColumn(\"BRANCH\", when(df_hana.BRANCH.isNull(), lit(\"Filial Não Encontrada\")).otherwise(df_hana.BRANCH))"
   ]
  },
  {
   "cell_type": "code",
   "execution_count": 119,
   "metadata": {},
   "outputs": [
    {
     "data": {
      "application/vnd.jupyter.widget-view+json": {
       "model_id": "1459ceba315047bf8b9711c0f1e05bf7",
       "version_major": 2,
       "version_minor": 0
      },
      "text/plain": [
       "VBox()"
      ]
     },
     "metadata": {},
     "output_type": "display_data"
    },
    {
     "data": {
      "application/vnd.jupyter.widget-view+json": {
       "model_id": "",
       "version_major": 2,
       "version_minor": 0
      },
      "text/plain": [
       "FloatProgress(value=0.0, bar_style='info', description='Progress:', layout=Layout(height='25px', width='50%'),…"
      ]
     },
     "metadata": {},
     "output_type": "display_data"
    }
   ],
   "source": [
    "# Filtering 6 Months of Time Horizon\n",
    "df_hana=df_calendar.join(df_hana, df_calendar.CURRENT_DATE==df_hana.BILLING_DATE, how=\"inner\").distinct()"
   ]
  },
  {
   "cell_type": "code",
   "execution_count": 120,
   "metadata": {},
   "outputs": [
    {
     "data": {
      "application/vnd.jupyter.widget-view+json": {
       "model_id": "1a4ea9cc306f4967b08a9d034af3cf47",
       "version_major": 2,
       "version_minor": 0
      },
      "text/plain": [
       "VBox()"
      ]
     },
     "metadata": {},
     "output_type": "display_data"
    },
    {
     "data": {
      "application/vnd.jupyter.widget-view+json": {
       "model_id": "",
       "version_major": 2,
       "version_minor": 0
      },
      "text/plain": [
       "FloatProgress(value=0.0, bar_style='info', description='Progress:', layout=Layout(height='25px', width='50%'),…"
      ]
     },
     "metadata": {},
     "output_type": "display_data"
    },
    {
     "name": "stdout",
     "output_type": "stream",
     "text": [
      "DataFrame[NUMERIC_DATE: string, CURRENT_DATE: string, CURRENT_WEEK_NUMBER: string, CURRENT_MONTH: string, CURRENT_WEEK_NUMBER_MONTH: string, CURRENT_WEEKEND: string, LMONTH_DATE: string, LMONTH_WEEK_NUMBER: string, LAST_MONTH: string, LMONTH_WEEK_NUMBER_MONTH: string, LMONTH_WEEKEND: string, L2MONTHS_DATE: string, L2MONTHS_WEEK_NUMBER: string, LAST_2_MONTHS: string, L2MONTHS_WEEK_NUMBER_MONTH: string, L2MONTHS_WEEKEND: string, LYEAR_DATE: string, LYEAR_WEEK_NUMBER: string, LYEAR_MONTH: string, LYEAR_WEEK_NUMBER_MONTH: string, LYEAR_WEEKEND: string, CUSTOMER_COD: string, CUSTOMER_DESC: string, CUSTOMER_GROUP: string, BILLING_NUMBER: string, BILLING_ITEM: string, BILLING_DATE: string, SALES_ORG_COD: string, OV_AJUST: string, SALES_ORDER_DATE: string, SALES_GROUP_DESC: string, ISSUING_CITY: string, ISSUING_STATE: string, GPD_COD: string, GPM_DESC: string, GPD_DESC: string, MATERIAL_COD: string, SALES_OFFICE_COD: string, MATERIAL_DESC: string, ORDER_TYPE: string, QUANTITY_TON: float, PRACTICED_PRICE: double, ZD05: float, ZEAF: float, BX41: float, RBV: float, RLV: float, ALCADA: double, ZD01: float, ZD02: float, ZD03: float, ZD04: float, ZD06: float, ZD13: float, PRECO_LISTA: float, ZEB1: float, ZEB2: float, ZSU2: float, DESVIO_POL: float, DESVIO_POL_REAIS: double, ZD14: float, PRACTICED_PRICE_I: double, PO: float, BRANCH: string]"
     ]
    }
   ],
   "source": [
    "df_hana.persist(pyspark.StorageLevel.MEMORY_ONLY)"
   ]
  },
  {
   "cell_type": "code",
   "execution_count": 121,
   "metadata": {},
   "outputs": [
    {
     "data": {
      "application/vnd.jupyter.widget-view+json": {
       "model_id": "67ed4d71340f4d4e94434ab7edfcb5ed",
       "version_major": 2,
       "version_minor": 0
      },
      "text/plain": [
       "VBox()"
      ]
     },
     "metadata": {},
     "output_type": "display_data"
    },
    {
     "data": {
      "application/vnd.jupyter.widget-view+json": {
       "model_id": "",
       "version_major": 2,
       "version_minor": 0
      },
      "text/plain": [
       "FloatProgress(value=0.0, bar_style='info', description='Progress:', layout=Layout(height='25px', width='50%'),…"
      ]
     },
     "metadata": {},
     "output_type": "display_data"
    }
   ],
   "source": [
    "df_hana=df_hana.drop(\"NUMERIC_DATE\",\"CURRENT_DATE\",\"CURRENT_WEEK_NUMBER\"\n",
    "                    ,\"CURRENT_MONTH\",\"CURRENT_WEEK_NUMBER_MONTH\",\"CURRENT_WEEKEND\"\n",
    "                    ,\"LMONTH_DATE\",\"LMONTH_WEEK_NUMBER\",\"LAST_MONTH\",\"LMONTH_WEEK_NUMBER_MONTH\"\n",
    "                    ,\"LMONTH_WEEKEND\",\"L2MONTHS_DATE\",\"L2MONTHS_WEEK_NUMBER\",\"LAST_2_MONTHS\"\n",
    "                    ,\"L2MONTHS_WEEK_NUMBER_MONTH\",\"L2MONTHS_WEEKEND\",\"LYEAR_DATE\",\"LYEAR_WEEK_NUMBER\"\n",
    "                    ,\"LYEAR_MONTH\",\"LYEAR_WEEK_NUMBER_MONTH\",\"LYEAR_WEEKEND\")"
   ]
  },
  {
   "cell_type": "code",
   "execution_count": 122,
   "metadata": {},
   "outputs": [
    {
     "data": {
      "application/vnd.jupyter.widget-view+json": {
       "model_id": "ffa763557cbc45bb8bad1b448660a7c5",
       "version_major": 2,
       "version_minor": 0
      },
      "text/plain": [
       "VBox()"
      ]
     },
     "metadata": {},
     "output_type": "display_data"
    },
    {
     "data": {
      "application/vnd.jupyter.widget-view+json": {
       "model_id": "",
       "version_major": 2,
       "version_minor": 0
      },
      "text/plain": [
       "FloatProgress(value=0.0, bar_style='info', description='Progress:', layout=Layout(height='25px', width='50%'),…"
      ]
     },
     "metadata": {},
     "output_type": "display_data"
    }
   ],
   "source": [
    "# Putting ZD01, ZD13 and ZD14 on Absoluty \n",
    "df_hana = df_hana.withColumn(\"ZD06\",lit(abs(col(\"ZD06\"))))\\\n",
    "                 .withColumn(\"ZD13\",lit(abs(col(\"ZD13\"))))\\\n",
    "                 .withColumn(\"ZD14\",lit(abs(col(\"ZD14\"))))\\"
   ]
  },
  {
   "cell_type": "code",
   "execution_count": 123,
   "metadata": {},
   "outputs": [
    {
     "data": {
      "application/vnd.jupyter.widget-view+json": {
       "model_id": "060294feb09c40f69bbfd08ff7e6a4c0",
       "version_major": 2,
       "version_minor": 0
      },
      "text/plain": [
       "VBox()"
      ]
     },
     "metadata": {},
     "output_type": "display_data"
    },
    {
     "data": {
      "application/vnd.jupyter.widget-view+json": {
       "model_id": "",
       "version_major": 2,
       "version_minor": 0
      },
      "text/plain": [
       "FloatProgress(value=0.0, bar_style='info', description='Progress:', layout=Layout(height='25px', width='50%'),…"
      ]
     },
     "metadata": {},
     "output_type": "display_data"
    }
   ],
   "source": [
    "df_hana = df_hana.drop(\"ZD05\",\"ZEAF\",\"BX41\",\"ZD01\",\"ZD02\"\n",
    "                       ,\"ZD03\",\"ZD04\",\"RPP\",\"ZEB1\",\"ZEB2\"\n",
    "                       ,\"ZSU2\",\"LIST_PRICE\",\"PERC_ZD13\"\n",
    "                       ,\"PERC_ZD06\",\"FATOR_ZD06\",\"FATOR_ZD13\")\\"
   ]
  },
  {
   "cell_type": "code",
   "execution_count": 124,
   "metadata": {},
   "outputs": [
    {
     "data": {
      "application/vnd.jupyter.widget-view+json": {
       "model_id": "d0076d5cad4e442191055cb23aacb063",
       "version_major": 2,
       "version_minor": 0
      },
      "text/plain": [
       "VBox()"
      ]
     },
     "metadata": {},
     "output_type": "display_data"
    },
    {
     "data": {
      "application/vnd.jupyter.widget-view+json": {
       "model_id": "",
       "version_major": 2,
       "version_minor": 0
      },
      "text/plain": [
       "FloatProgress(value=0.0, bar_style='info', description='Progress:', layout=Layout(height='25px', width='50%'),…"
      ]
     },
     "metadata": {},
     "output_type": "display_data"
    }
   ],
   "source": [
    "df_hana = df_hana.drop(\"ZD05\")\\\n",
    "                 .drop(\"ZEAF\")\\\n",
    "                 .drop(\"BX41\")\\\n",
    "                 .drop(\"ZD01\")\\\n",
    "                 .drop(\"ZD02\")\\\n",
    "                 .drop(\"ZD03\")\\\n",
    "                 .drop(\"ZD04\")\\\n",
    "                 .drop(\"ZEB1\")\\\n",
    "                 .drop(\"ZEB2\")\\\n",
    "                 .drop(\"ZSU2\")\\\n",
    "                 .drop(\"LIST_PRICE\")\\"
   ]
  },
  {
   "cell_type": "code",
   "execution_count": 125,
   "metadata": {},
   "outputs": [
    {
     "data": {
      "application/vnd.jupyter.widget-view+json": {
       "model_id": "32b6b8eed9cf42038e428b8efcb74516",
       "version_major": 2,
       "version_minor": 0
      },
      "text/plain": [
       "VBox()"
      ]
     },
     "metadata": {},
     "output_type": "display_data"
    },
    {
     "data": {
      "application/vnd.jupyter.widget-view+json": {
       "model_id": "",
       "version_major": 2,
       "version_minor": 0
      },
      "text/plain": [
       "FloatProgress(value=0.0, bar_style='info', description='Progress:', layout=Layout(height='25px', width='50%'),…"
      ]
     },
     "metadata": {},
     "output_type": "display_data"
    }
   ],
   "source": [
    "df_hana = df_hana.withColumn(\"YEAR_MONTH\", concat(year(df_hana.SALES_ORDER_DATE)\n",
    "                                                      ,when(month(df_hana.SALES_ORDER_DATE) >= \"10\", month(df_hana.SALES_ORDER_DATE))\n",
    "                                                                         .otherwise(concat(lit(\"0\"), month(df_hana.SALES_ORDER_DATE)))))\\"
   ]
  },
  {
   "cell_type": "markdown",
   "metadata": {},
   "source": [
    "-----------"
   ]
  },
  {
   "cell_type": "markdown",
   "metadata": {},
   "source": [
    "# Creating PV"
   ]
  },
  {
   "cell_type": "code",
   "execution_count": 126,
   "metadata": {},
   "outputs": [
    {
     "data": {
      "application/vnd.jupyter.widget-view+json": {
       "model_id": "6e01806c62914353bcc5cb8a411b375d",
       "version_major": 2,
       "version_minor": 0
      },
      "text/plain": [
       "VBox()"
      ]
     },
     "metadata": {},
     "output_type": "display_data"
    },
    {
     "data": {
      "application/vnd.jupyter.widget-view+json": {
       "model_id": "",
       "version_major": 2,
       "version_minor": 0
      },
      "text/plain": [
       "FloatProgress(value=0.0, bar_style='info', description='Progress:', layout=Layout(height='25px', width='50%'),…"
      ]
     },
     "metadata": {},
     "output_type": "display_data"
    }
   ],
   "source": [
    "df_pv=df_pv.withColumnRenamed(\"GPD_COD\", \"GPD_COD\")\\\n",
    "           .withColumnRenamed(\"DESC_GPD\", \"GPD_DESC\")\\\n",
    "           .withColumnRenamed(\"DESC_GPM\", \"GPM_DESC\")\\\n",
    "           .withColumnRenamed(\"SALES_OFFICE\", \"SALES_OFFICE_COD\")\\\n",
    "           .withColumn(\"YEAR\", substring(col(\"MONTH_YEAR\"),1,4))\\\n",
    "           .withColumn(\"MONTH\",substring(col(\"MONTH_YEAR\"),5,6))\\\n",
    "           .withColumnRenamed(\"VOLUME\", \"PV_BUDGET\")"
   ]
  },
  {
   "cell_type": "code",
   "execution_count": 127,
   "metadata": {},
   "outputs": [
    {
     "data": {
      "application/vnd.jupyter.widget-view+json": {
       "model_id": "9283da0963334a53b70816418d98bf2d",
       "version_major": 2,
       "version_minor": 0
      },
      "text/plain": [
       "VBox()"
      ]
     },
     "metadata": {},
     "output_type": "display_data"
    },
    {
     "data": {
      "application/vnd.jupyter.widget-view+json": {
       "model_id": "",
       "version_major": 2,
       "version_minor": 0
      },
      "text/plain": [
       "FloatProgress(value=0.0, bar_style='info', description='Progress:', layout=Layout(height='25px', width='50%'),…"
      ]
     },
     "metadata": {},
     "output_type": "display_data"
    }
   ],
   "source": [
    "df_pv = df_pv.withColumn(\"SALES_ORG_COD\", when(df_pv.SALES_ORG_COD.like(\"BRCO\"), \"BRCC\")\\\n",
    "                                              .otherwise(when(df_pv.SALES_ORG_COD.like(\"BRGO\"), \"BRCG\")\\\n",
    "                                                        .otherwise(when(df_pv.SALES_ORG_COD.like(\"BRIO\"), \"BRIN\")\\\n",
    "                                                                  .otherwise(when(df_pv.SALES_ORG_COD.like(\"BRDO\"), \"BRDI\")\n",
    "                                                                            .otherwise(df_pv.SALES_ORG_COD)))))"
   ]
  },
  {
   "cell_type": "code",
   "execution_count": 128,
   "metadata": {},
   "outputs": [
    {
     "data": {
      "application/vnd.jupyter.widget-view+json": {
       "model_id": "329039f6db154ac38f09a25bdef61f4a",
       "version_major": 2,
       "version_minor": 0
      },
      "text/plain": [
       "VBox()"
      ]
     },
     "metadata": {},
     "output_type": "display_data"
    },
    {
     "data": {
      "application/vnd.jupyter.widget-view+json": {
       "model_id": "",
       "version_major": 2,
       "version_minor": 0
      },
      "text/plain": [
       "FloatProgress(value=0.0, bar_style='info', description='Progress:', layout=Layout(height='25px', width='50%'),…"
      ]
     },
     "metadata": {},
     "output_type": "display_data"
    }
   ],
   "source": [
    "df_pv = df_pv.filter((df_pv.MONTH == month_ref) & (df_pv.YEAR == year_ref))"
   ]
  },
  {
   "cell_type": "code",
   "execution_count": 129,
   "metadata": {},
   "outputs": [
    {
     "data": {
      "application/vnd.jupyter.widget-view+json": {
       "model_id": "95e265fa240a44e78ac4c16ab402be50",
       "version_major": 2,
       "version_minor": 0
      },
      "text/plain": [
       "VBox()"
      ]
     },
     "metadata": {},
     "output_type": "display_data"
    },
    {
     "data": {
      "application/vnd.jupyter.widget-view+json": {
       "model_id": "",
       "version_major": 2,
       "version_minor": 0
      },
      "text/plain": [
       "FloatProgress(value=0.0, bar_style='info', description='Progress:', layout=Layout(height='25px', width='50%'),…"
      ]
     },
     "metadata": {},
     "output_type": "display_data"
    }
   ],
   "source": [
    "df_pv = df_pv.withColumn(\"PV_BUDGET\", translate(col(\"PV_BUDGET\"),\" \",\"\").cast(\"double\"))"
   ]
  },
  {
   "cell_type": "code",
   "execution_count": 130,
   "metadata": {},
   "outputs": [
    {
     "data": {
      "application/vnd.jupyter.widget-view+json": {
       "model_id": "4643ca481f3b4d07986717dce44a08c3",
       "version_major": 2,
       "version_minor": 0
      },
      "text/plain": [
       "VBox()"
      ]
     },
     "metadata": {},
     "output_type": "display_data"
    },
    {
     "data": {
      "application/vnd.jupyter.widget-view+json": {
       "model_id": "",
       "version_major": 2,
       "version_minor": 0
      },
      "text/plain": [
       "FloatProgress(value=0.0, bar_style='info', description='Progress:', layout=Layout(height='25px', width='50%'),…"
      ]
     },
     "metadata": {},
     "output_type": "display_data"
    }
   ],
   "source": [
    "df_pv_new_filter=df_pv"
   ]
  },
  {
   "cell_type": "code",
   "execution_count": 131,
   "metadata": {},
   "outputs": [
    {
     "data": {
      "application/vnd.jupyter.widget-view+json": {
       "model_id": "22ef3a9a12524999b9a671c4fcc3c1e2",
       "version_major": 2,
       "version_minor": 0
      },
      "text/plain": [
       "VBox()"
      ]
     },
     "metadata": {},
     "output_type": "display_data"
    },
    {
     "data": {
      "application/vnd.jupyter.widget-view+json": {
       "model_id": "",
       "version_major": 2,
       "version_minor": 0
      },
      "text/plain": [
       "FloatProgress(value=0.0, bar_style='info', description='Progress:', layout=Layout(height='25px', width='50%'),…"
      ]
     },
     "metadata": {},
     "output_type": "display_data"
    }
   ],
   "source": [
    "df_pv_new_filter = df_pv_new_filter.join(df_region3,(upper(trim(df_pv_new_filter[\"STATE\"])) == upper(trim(df_region3[\"IBGE_UF_ACRONYMS\"]))), how='inner')\\\n",
    "                                 .drop(\"IBGE_UF_ACRONYMS\")\\\n",
    "                                 .distinct()"
   ]
  },
  {
   "cell_type": "code",
   "execution_count": 132,
   "metadata": {},
   "outputs": [
    {
     "data": {
      "application/vnd.jupyter.widget-view+json": {
       "model_id": "3a884f20bf1f4c0e9084b5877105835e",
       "version_major": 2,
       "version_minor": 0
      },
      "text/plain": [
       "VBox()"
      ]
     },
     "metadata": {},
     "output_type": "display_data"
    },
    {
     "data": {
      "application/vnd.jupyter.widget-view+json": {
       "model_id": "",
       "version_major": 2,
       "version_minor": 0
      },
      "text/plain": [
       "FloatProgress(value=0.0, bar_style='info', description='Progress:', layout=Layout(height='25px', width='50%'),…"
      ]
     },
     "metadata": {},
     "output_type": "display_data"
    }
   ],
   "source": [
    "df_pv = df_pv.groupby(\"SALES_ORG_COD\", \"STATE\", \"GPD_COD\", \"GPD_DESC\",\"GPM_DESC\")\\\n",
    "             .sum(\"PV_BUDGET\")\\\n",
    "             .withColumnRenamed(\"sum(PV_BUDGET)\", \"PV_BUDGET\")"
   ]
  },
  {
   "cell_type": "code",
   "execution_count": 133,
   "metadata": {},
   "outputs": [
    {
     "data": {
      "application/vnd.jupyter.widget-view+json": {
       "model_id": "8c16865528784382807185a860838e4f",
       "version_major": 2,
       "version_minor": 0
      },
      "text/plain": [
       "VBox()"
      ]
     },
     "metadata": {},
     "output_type": "display_data"
    },
    {
     "data": {
      "application/vnd.jupyter.widget-view+json": {
       "model_id": "",
       "version_major": 2,
       "version_minor": 0
      },
      "text/plain": [
       "FloatProgress(value=0.0, bar_style='info', description='Progress:', layout=Layout(height='25px', width='50%'),…"
      ]
     },
     "metadata": {},
     "output_type": "display_data"
    }
   ],
   "source": [
    "df_pv = df_pv.join(df_region3,(upper(trim(df_pv[\"STATE\"])) == upper(trim(df_region3[\"IBGE_UF_ACRONYMS\"]))), how='inner')\\\n",
    "                 .drop(\"IBGE_UF_ACRONYMS\")\\\n",
    "                 .distinct()"
   ]
  },
  {
   "cell_type": "code",
   "execution_count": 134,
   "metadata": {},
   "outputs": [
    {
     "data": {
      "application/vnd.jupyter.widget-view+json": {
       "model_id": "a99d3c81b5484abf95f5bfbe4b210c02",
       "version_major": 2,
       "version_minor": 0
      },
      "text/plain": [
       "VBox()"
      ]
     },
     "metadata": {},
     "output_type": "display_data"
    },
    {
     "data": {
      "application/vnd.jupyter.widget-view+json": {
       "model_id": "",
       "version_major": 2,
       "version_minor": 0
      },
      "text/plain": [
       "FloatProgress(value=0.0, bar_style='info', description='Progress:', layout=Layout(height='25px', width='50%'),…"
      ]
     },
     "metadata": {},
     "output_type": "display_data"
    },
    {
     "name": "stdout",
     "output_type": "stream",
     "text": [
      "DataFrame[SALES_ORG_COD: string, STATE: string, GPD_COD: string, GPD_DESC: string, GPM_DESC: string, PV_BUDGET: double, BRANCH: string]"
     ]
    }
   ],
   "source": [
    "df_pv.persist(pyspark.StorageLevel.MEMORY_ONLY)"
   ]
  },
  {
   "cell_type": "code",
   "execution_count": 135,
   "metadata": {},
   "outputs": [
    {
     "data": {
      "application/vnd.jupyter.widget-view+json": {
       "model_id": "dee9a2d9a9854d92a6d1b7191b9cffb6",
       "version_major": 2,
       "version_minor": 0
      },
      "text/plain": [
       "VBox()"
      ]
     },
     "metadata": {},
     "output_type": "display_data"
    },
    {
     "data": {
      "application/vnd.jupyter.widget-view+json": {
       "model_id": "",
       "version_major": 2,
       "version_minor": 0
      },
      "text/plain": [
       "FloatProgress(value=0.0, bar_style='info', description='Progress:', layout=Layout(height='25px', width='50%'),…"
      ]
     },
     "metadata": {},
     "output_type": "display_data"
    }
   ],
   "source": [
    "df_pv=df_pv.withColumn(\"KEY\", concat(col(\"SALES_ORG_COD\"),\n",
    "                                     col(\"STATE\"),\n",
    "                                     col(\"BRANCH\"),\n",
    "                                     col(\"GPD_COD\"),\n",
    "                                     col(\"GPM_DESC\")))\\\n",
    "          .withColumn(\"KEY_ST\", concat(col(\"SALES_ORG_COD\"),\n",
    "                                     col(\"STATE\"),\n",
    "                                     col(\"GPD_COD\"),\n",
    "                                     col(\"GPM_DESC\")))\\"
   ]
  },
  {
   "cell_type": "code",
   "execution_count": 136,
   "metadata": {},
   "outputs": [
    {
     "data": {
      "application/vnd.jupyter.widget-view+json": {
       "model_id": "2ed99dfd0aca4d6b9a34b1c4ffbf3137",
       "version_major": 2,
       "version_minor": 0
      },
      "text/plain": [
       "VBox()"
      ]
     },
     "metadata": {},
     "output_type": "display_data"
    },
    {
     "data": {
      "application/vnd.jupyter.widget-view+json": {
       "model_id": "",
       "version_major": 2,
       "version_minor": 0
      },
      "text/plain": [
       "FloatProgress(value=0.0, bar_style='info', description='Progress:', layout=Layout(height='25px', width='50%'),…"
      ]
     },
     "metadata": {},
     "output_type": "display_data"
    }
   ],
   "source": [
    "df_pv_new=df_pv"
   ]
  },
  {
   "cell_type": "markdown",
   "metadata": {},
   "source": [
    "# Creating PV"
   ]
  },
  {
   "cell_type": "markdown",
   "metadata": {},
   "source": [
    "# 1 Scenery and 2 Scenery"
   ]
  },
  {
   "cell_type": "code",
   "execution_count": 137,
   "metadata": {},
   "outputs": [
    {
     "data": {
      "application/vnd.jupyter.widget-view+json": {
       "model_id": "b995d81453d946b298f296c5e7620ca6",
       "version_major": 2,
       "version_minor": 0
      },
      "text/plain": [
       "VBox()"
      ]
     },
     "metadata": {},
     "output_type": "display_data"
    },
    {
     "data": {
      "application/vnd.jupyter.widget-view+json": {
       "model_id": "",
       "version_major": 2,
       "version_minor": 0
      },
      "text/plain": [
       "FloatProgress(value=0.0, bar_style='info', description='Progress:', layout=Layout(height='25px', width='50%'),…"
      ]
     },
     "metadata": {},
     "output_type": "display_data"
    }
   ],
   "source": [
    "# Filtering 6 Months of Time Horizon\n",
    "df_hana_6Months=df_hana"
   ]
  },
  {
   "cell_type": "code",
   "execution_count": 138,
   "metadata": {},
   "outputs": [
    {
     "data": {
      "application/vnd.jupyter.widget-view+json": {
       "model_id": "3df6afdb431a43a893707533c5b4d8df",
       "version_major": 2,
       "version_minor": 0
      },
      "text/plain": [
       "VBox()"
      ]
     },
     "metadata": {},
     "output_type": "display_data"
    },
    {
     "data": {
      "application/vnd.jupyter.widget-view+json": {
       "model_id": "",
       "version_major": 2,
       "version_minor": 0
      },
      "text/plain": [
       "FloatProgress(value=0.0, bar_style='info', description='Progress:', layout=Layout(height='25px', width='50%'),…"
      ]
     },
     "metadata": {},
     "output_type": "display_data"
    },
    {
     "name": "stdout",
     "output_type": "stream",
     "text": [
      "DataFrame[CUSTOMER_COD: string, CUSTOMER_DESC: string, CUSTOMER_GROUP: string, BILLING_NUMBER: string, BILLING_ITEM: string, BILLING_DATE: string, SALES_ORG_COD: string, OV_AJUST: string, SALES_ORDER_DATE: string, SALES_GROUP_DESC: string, ISSUING_CITY: string, ISSUING_STATE: string, GPD_COD: string, GPM_DESC: string, GPD_DESC: string, MATERIAL_COD: string, SALES_OFFICE_COD: string, MATERIAL_DESC: string, ORDER_TYPE: string, QUANTITY_TON: float, PRACTICED_PRICE: double, RBV: float, RLV: float, ALCADA: double, ZD06: float, ZD13: float, DESVIO_POL: float, DESVIO_POL_REAIS: double, ZD14: float, PRACTICED_PRICE_I: double, PO: float, BRANCH: string, YEAR_MONTH: string]"
     ]
    }
   ],
   "source": [
    "df_hana_6Months.persist(pyspark.StorageLevel.MEMORY_ONLY)"
   ]
  },
  {
   "cell_type": "code",
   "execution_count": 139,
   "metadata": {},
   "outputs": [
    {
     "data": {
      "application/vnd.jupyter.widget-view+json": {
       "model_id": "08abed3718ba4cef96e0a6d9444799db",
       "version_major": 2,
       "version_minor": 0
      },
      "text/plain": [
       "VBox()"
      ]
     },
     "metadata": {},
     "output_type": "display_data"
    },
    {
     "data": {
      "application/vnd.jupyter.widget-view+json": {
       "model_id": "",
       "version_major": 2,
       "version_minor": 0
      },
      "text/plain": [
       "FloatProgress(value=0.0, bar_style='info', description='Progress:', layout=Layout(height='25px', width='50%'),…"
      ]
     },
     "metadata": {},
     "output_type": "display_data"
    }
   ],
   "source": [
    "df_hana_6Months=df_hana_6Months.drop(\"NUMERIC_DATE\",\"CURRENT_DATE\",\"CURRENT_WEEK_NUMBER\"\n",
    "                                    ,\"CURRENT_MONTH\",\"CURRENT_WEEK_NUMBER_MONTH\",\"CURRENT_WEEKEND\"\n",
    "                                    ,\"LMONTH_DATE\",\"LMONTH_WEEK_NUMBER\",\"LAST_MONTH\",\"LMONTH_WEEK_NUMBER_MONTH\"\n",
    "                                    ,\"LMONTH_WEEKEND\",\"L2MONTHS_DATE\",\"L2MONTHS_WEEK_NUMBER\",\"LAST_2_MONTHS\"\n",
    "                                    ,\"L2MONTHS_WEEK_NUMBER_MONTH\",\"L2MONTHS_WEEKEND\",\"LYEAR_DATE\",\"LYEAR_WEEK_NUMBER\"\n",
    "                                    ,\"LYEAR_MONTH\",\"LYEAR_WEEK_NUMBER_MONTH\",\"LYEAR_WEEKEND\",\"YEAR_MONTH\", \"RLV\")"
   ]
  },
  {
   "cell_type": "code",
   "execution_count": 140,
   "metadata": {},
   "outputs": [
    {
     "data": {
      "application/vnd.jupyter.widget-view+json": {
       "model_id": "23f47bdb5fcb4ec1b37b3ca9c2dec59c",
       "version_major": 2,
       "version_minor": 0
      },
      "text/plain": [
       "VBox()"
      ]
     },
     "metadata": {},
     "output_type": "display_data"
    },
    {
     "data": {
      "application/vnd.jupyter.widget-view+json": {
       "model_id": "",
       "version_major": 2,
       "version_minor": 0
      },
      "text/plain": [
       "FloatProgress(value=0.0, bar_style='info', description='Progress:', layout=Layout(height='25px', width='50%'),…"
      ]
     },
     "metadata": {},
     "output_type": "display_data"
    }
   ],
   "source": [
    "df_hana_Filial_NDA=df_hana_6Months.filter(df_hana_6Months.BRANCH.like('Filial Não Encontrada'))"
   ]
  },
  {
   "cell_type": "code",
   "execution_count": 141,
   "metadata": {},
   "outputs": [
    {
     "data": {
      "application/vnd.jupyter.widget-view+json": {
       "model_id": "e134bf72d60545309e7fc904bffc8a2e",
       "version_major": 2,
       "version_minor": 0
      },
      "text/plain": [
       "VBox()"
      ]
     },
     "metadata": {},
     "output_type": "display_data"
    },
    {
     "data": {
      "application/vnd.jupyter.widget-view+json": {
       "model_id": "",
       "version_major": 2,
       "version_minor": 0
      },
      "text/plain": [
       "FloatProgress(value=0.0, bar_style='info', description='Progress:', layout=Layout(height='25px', width='50%'),…"
      ]
     },
     "metadata": {},
     "output_type": "display_data"
    }
   ],
   "source": [
    "df_hana_6Months = df_hana_6Months.filter(~df_hana_6Months.BRANCH.like('Filial Não Encontrada'))"
   ]
  },
  {
   "cell_type": "code",
   "execution_count": 142,
   "metadata": {
    "scrolled": true
   },
   "outputs": [
    {
     "data": {
      "application/vnd.jupyter.widget-view+json": {
       "model_id": "0f8fccce889a4418adffcd76dc8f1e97",
       "version_major": 2,
       "version_minor": 0
      },
      "text/plain": [
       "VBox()"
      ]
     },
     "metadata": {},
     "output_type": "display_data"
    },
    {
     "data": {
      "application/vnd.jupyter.widget-view+json": {
       "model_id": "",
       "version_major": 2,
       "version_minor": 0
      },
      "text/plain": [
       "FloatProgress(value=0.0, bar_style='info', description='Progress:', layout=Layout(height='25px', width='50%'),…"
      ]
     },
     "metadata": {},
     "output_type": "display_data"
    }
   ],
   "source": [
    "df_hana_6Months_branch=df_hana_6Months.groupby(\"SALES_ORG_COD\", \"GPD_COD\", \"ISSUING_STATE\", \"BRANCH\", \"GPD_DESC\", \"GPM_DESC\")\\\n",
    "                                     .sum(\"QUANTITY_TON\")\\\n",
    "                                     .withColumnRenamed(\"sum(QUANTITY_TON)\", \"QUANTITY_TON_BRC\")\\\n",
    "                                     .withColumnRenamed(\"SALES_ORG_COD\", \"SALES_ORG_COD_drop\")\\\n",
    "                                     .withColumnRenamed(\"GPD_COD\", \"GPD_COD_drop\")\\\n",
    "                                     .withColumnRenamed(\"ISSUING_STATE\", \"ISSUING_STATE_drop\")\\\n",
    "                                     .withColumnRenamed(\"GPM_DESC\", \"GPM_DESC_drop\")\\\n",
    "                                     .withColumn(\"KEY\", concat(col(\"SALES_ORG_COD_drop\")\n",
    "                                                               ,col(\"GPD_COD_drop\")\n",
    "                                                               ,col(\"ISSUING_STATE_drop\")\n",
    "                                                               ,col(\"GPM_DESC_drop\")))"
   ]
  },
  {
   "cell_type": "code",
   "execution_count": 143,
   "metadata": {},
   "outputs": [
    {
     "data": {
      "application/vnd.jupyter.widget-view+json": {
       "model_id": "f495382680df4d599f2cdbf8f50e7d75",
       "version_major": 2,
       "version_minor": 0
      },
      "text/plain": [
       "VBox()"
      ]
     },
     "metadata": {},
     "output_type": "display_data"
    },
    {
     "data": {
      "application/vnd.jupyter.widget-view+json": {
       "model_id": "",
       "version_major": 2,
       "version_minor": 0
      },
      "text/plain": [
       "FloatProgress(value=0.0, bar_style='info', description='Progress:', layout=Layout(height='25px', width='50%'),…"
      ]
     },
     "metadata": {},
     "output_type": "display_data"
    }
   ],
   "source": [
    "df_hana_6Months_state=df_hana_6Months.groupby(\"SALES_ORG_COD\", \"GPD_COD\", \"ISSUING_STATE\", \"GPM_DESC\")\\\n",
    "                                     .sum(\"QUANTITY_TON\")\\\n",
    "                                     .withColumnRenamed(\"sum(QUANTITY_TON)\", \"QUANTITY_TON_ST\")\\\n",
    "                                     .withColumn(\"KEY_drop\", concat(col(\"SALES_ORG_COD\")\n",
    "                                                                    ,col(\"GPD_COD\")\n",
    "                                                                    ,col(\"ISSUING_STATE\")\n",
    "                                                                    ,col(\"GPM_DESC\")))"
   ]
  },
  {
   "cell_type": "code",
   "execution_count": 144,
   "metadata": {},
   "outputs": [
    {
     "data": {
      "application/vnd.jupyter.widget-view+json": {
       "model_id": "c4ff09362c2444ea964923d990959318",
       "version_major": 2,
       "version_minor": 0
      },
      "text/plain": [
       "VBox()"
      ]
     },
     "metadata": {},
     "output_type": "display_data"
    },
    {
     "data": {
      "application/vnd.jupyter.widget-view+json": {
       "model_id": "",
       "version_major": 2,
       "version_minor": 0
      },
      "text/plain": [
       "FloatProgress(value=0.0, bar_style='info', description='Progress:', layout=Layout(height='25px', width='50%'),…"
      ]
     },
     "metadata": {},
     "output_type": "display_data"
    }
   ],
   "source": [
    "df_hana_6Months_branch=df_hana_6Months_branch.join(df_hana_6Months_state,df_hana_6Months_state.KEY_drop==df_hana_6Months_branch.KEY,how=\"inner\")\\\n",
    "                                             .drop(\"KEY_drop\"\n",
    "                                                   ,\"KEY\"\n",
    "                                                   ,\"SALES_ORG_COD_drop\"\n",
    "                                                   ,\"GPD_COD_drop\"\n",
    "                                                   ,\"ISSUING_STATE_drop\"\n",
    "                                                   ,\"GPM_DESC_drop\")"
   ]
  },
  {
   "cell_type": "code",
   "execution_count": 145,
   "metadata": {},
   "outputs": [
    {
     "data": {
      "application/vnd.jupyter.widget-view+json": {
       "model_id": "b25f3192d208436fbf09b45084d823c9",
       "version_major": 2,
       "version_minor": 0
      },
      "text/plain": [
       "VBox()"
      ]
     },
     "metadata": {},
     "output_type": "display_data"
    },
    {
     "data": {
      "application/vnd.jupyter.widget-view+json": {
       "model_id": "",
       "version_major": 2,
       "version_minor": 0
      },
      "text/plain": [
       "FloatProgress(value=0.0, bar_style='info', description='Progress:', layout=Layout(height='25px', width='50%'),…"
      ]
     },
     "metadata": {},
     "output_type": "display_data"
    },
    {
     "name": "stdout",
     "output_type": "stream",
     "text": [
      "DataFrame[BRANCH: string, GPD_DESC: string, QUANTITY_TON_BRC: double, SALES_ORG_COD: string, GPD_COD: string, ISSUING_STATE: string, GPM_DESC: string, QUANTITY_TON_ST: double]"
     ]
    }
   ],
   "source": [
    "df_hana_6Months_branch.persist(pyspark.StorageLevel.MEMORY_ONLY)"
   ]
  },
  {
   "cell_type": "code",
   "execution_count": 146,
   "metadata": {},
   "outputs": [
    {
     "data": {
      "application/vnd.jupyter.widget-view+json": {
       "model_id": "eb1078a9d6f940ecae8dbad9339d86e7",
       "version_major": 2,
       "version_minor": 0
      },
      "text/plain": [
       "VBox()"
      ]
     },
     "metadata": {},
     "output_type": "display_data"
    },
    {
     "data": {
      "application/vnd.jupyter.widget-view+json": {
       "model_id": "",
       "version_major": 2,
       "version_minor": 0
      },
      "text/plain": [
       "FloatProgress(value=0.0, bar_style='info', description='Progress:', layout=Layout(height='25px', width='50%'),…"
      ]
     },
     "metadata": {},
     "output_type": "display_data"
    }
   ],
   "source": [
    "df_hana_6Months_branch=df_hana_6Months_branch.withColumn(\"PERC_VOL\",col(\"QUANTITY_TON_BRC\")/col(\"QUANTITY_TON_ST\"))\\\n",
    "                                             .withColumn(\"KEY\", concat(col(\"SALES_ORG_COD\")\n",
    "                                                                       ,col(\"ISSUING_STATE\")\n",
    "                                                                       ,col(\"BRANCH\")\n",
    "                                                                       ,col(\"GPD_COD\")\n",
    "                                                                       ,col(\"GPM_DESC\")\n",
    "                                                                      ))\\"
   ]
  },
  {
   "cell_type": "code",
   "execution_count": 147,
   "metadata": {},
   "outputs": [
    {
     "data": {
      "application/vnd.jupyter.widget-view+json": {
       "model_id": "254833c3f3bb4fd7a8c21870d9c5b3af",
       "version_major": 2,
       "version_minor": 0
      },
      "text/plain": [
       "VBox()"
      ]
     },
     "metadata": {},
     "output_type": "display_data"
    },
    {
     "data": {
      "application/vnd.jupyter.widget-view+json": {
       "model_id": "",
       "version_major": 2,
       "version_minor": 0
      },
      "text/plain": [
       "FloatProgress(value=0.0, bar_style='info', description='Progress:', layout=Layout(height='25px', width='50%'),…"
      ]
     },
     "metadata": {},
     "output_type": "display_data"
    }
   ],
   "source": [
    "df_hana_6Months_branch_ready=df_hana_6Months_branch.join(df_pv.select(\"KEY\"\n",
    "                                                                      ,\"PV_BUDGET\"),on=\"KEY\", how='left_outer')"
   ]
  },
  {
   "cell_type": "code",
   "execution_count": 148,
   "metadata": {},
   "outputs": [
    {
     "data": {
      "application/vnd.jupyter.widget-view+json": {
       "model_id": "27fe82112b044bf8b6fee60cf1518582",
       "version_major": 2,
       "version_minor": 0
      },
      "text/plain": [
       "VBox()"
      ]
     },
     "metadata": {},
     "output_type": "display_data"
    },
    {
     "data": {
      "application/vnd.jupyter.widget-view+json": {
       "model_id": "",
       "version_major": 2,
       "version_minor": 0
      },
      "text/plain": [
       "FloatProgress(value=0.0, bar_style='info', description='Progress:', layout=Layout(height='25px', width='50%'),…"
      ]
     },
     "metadata": {},
     "output_type": "display_data"
    },
    {
     "name": "stdout",
     "output_type": "stream",
     "text": [
      "DataFrame[KEY: string, BRANCH: string, GPD_DESC: string, QUANTITY_TON_BRC: double, SALES_ORG_COD: string, GPD_COD: string, ISSUING_STATE: string, GPM_DESC: string, QUANTITY_TON_ST: double, PERC_VOL: double, PV_BUDGET: double]"
     ]
    }
   ],
   "source": [
    "df_hana_6Months_branch_ready.persist(pyspark.StorageLevel.MEMORY_ONLY)"
   ]
  },
  {
   "cell_type": "code",
   "execution_count": 149,
   "metadata": {},
   "outputs": [
    {
     "data": {
      "application/vnd.jupyter.widget-view+json": {
       "model_id": "a71aec91c069423c975c6a02814432a3",
       "version_major": 2,
       "version_minor": 0
      },
      "text/plain": [
       "VBox()"
      ]
     },
     "metadata": {},
     "output_type": "display_data"
    },
    {
     "data": {
      "application/vnd.jupyter.widget-view+json": {
       "model_id": "",
       "version_major": 2,
       "version_minor": 0
      },
      "text/plain": [
       "FloatProgress(value=0.0, bar_style='info', description='Progress:', layout=Layout(height='25px', width='50%'),…"
      ]
     },
     "metadata": {},
     "output_type": "display_data"
    }
   ],
   "source": [
    "df_hana_6Months_branch_ready=df_hana_6Months_branch_ready.fillna(0, subset=['PV_BUDGET'\n",
    "                                                                            ,'QUANTITY_TON_BRC'\n",
    "                                                                            ,'QUANTITY_TON_ST'])"
   ]
  },
  {
   "cell_type": "code",
   "execution_count": 150,
   "metadata": {},
   "outputs": [
    {
     "data": {
      "application/vnd.jupyter.widget-view+json": {
       "model_id": "d668e021946f4b85a1111d786948fd18",
       "version_major": 2,
       "version_minor": 0
      },
      "text/plain": [
       "VBox()"
      ]
     },
     "metadata": {},
     "output_type": "display_data"
    },
    {
     "data": {
      "application/vnd.jupyter.widget-view+json": {
       "model_id": "",
       "version_major": 2,
       "version_minor": 0
      },
      "text/plain": [
       "FloatProgress(value=0.0, bar_style='info', description='Progress:', layout=Layout(height='25px', width='50%'),…"
      ]
     },
     "metadata": {},
     "output_type": "display_data"
    }
   ],
   "source": [
    "df_pv_ready = df_pv.join(df_hana_6Months_branch.select(\"KEY\"\n",
    "                                                       ,\"QUANTITY_TON_BRC\"\n",
    "                                                       ,\"QUANTITY_TON_ST\"\n",
    "                                                       ,\"PERC_VOL\"\n",
    "                                                       ,\"ISSUING_STATE\"), on=\"KEY\", how='left_outer')\\\n",
    "                   .drop(\"STATE\")"
   ]
  },
  {
   "cell_type": "code",
   "execution_count": 151,
   "metadata": {},
   "outputs": [
    {
     "data": {
      "application/vnd.jupyter.widget-view+json": {
       "model_id": "fbfeb5fac3374307a891fab09090bf85",
       "version_major": 2,
       "version_minor": 0
      },
      "text/plain": [
       "VBox()"
      ]
     },
     "metadata": {},
     "output_type": "display_data"
    },
    {
     "data": {
      "application/vnd.jupyter.widget-view+json": {
       "model_id": "",
       "version_major": 2,
       "version_minor": 0
      },
      "text/plain": [
       "FloatProgress(value=0.0, bar_style='info', description='Progress:', layout=Layout(height='25px', width='50%'),…"
      ]
     },
     "metadata": {},
     "output_type": "display_data"
    },
    {
     "name": "stdout",
     "output_type": "stream",
     "text": [
      "DataFrame[KEY: string, SALES_ORG_COD: string, GPD_COD: string, GPD_DESC: string, GPM_DESC: string, PV_BUDGET: double, BRANCH: string, KEY_ST: string, QUANTITY_TON_BRC: double, QUANTITY_TON_ST: double, PERC_VOL: double, ISSUING_STATE: string]"
     ]
    }
   ],
   "source": [
    "df_pv_ready.persist(pyspark.StorageLevel.MEMORY_ONLY)"
   ]
  },
  {
   "cell_type": "code",
   "execution_count": 152,
   "metadata": {},
   "outputs": [
    {
     "data": {
      "application/vnd.jupyter.widget-view+json": {
       "model_id": "c7171b76b68348d5bfb79095f6022f2e",
       "version_major": 2,
       "version_minor": 0
      },
      "text/plain": [
       "VBox()"
      ]
     },
     "metadata": {},
     "output_type": "display_data"
    },
    {
     "data": {
      "application/vnd.jupyter.widget-view+json": {
       "model_id": "",
       "version_major": 2,
       "version_minor": 0
      },
      "text/plain": [
       "FloatProgress(value=0.0, bar_style='info', description='Progress:', layout=Layout(height='25px', width='50%'),…"
      ]
     },
     "metadata": {},
     "output_type": "display_data"
    }
   ],
   "source": [
    "df_pv_ready = df_pv_ready.select(col(\"SALES_ORG_COD\")\n",
    "                                 ,col(\"ISSUING_STATE\")\n",
    "                                 ,col(\"GPD_COD\")\n",
    "                                 ,col(\"GPD_DESC\")\n",
    "                                 ,col(\"GPM_DESC\")\n",
    "                                 ,col(\"BRANCH\")\n",
    "                                 ,col(\"PV_BUDGET\")\n",
    "                                 ,col(\"QUANTITY_TON_BRC\")\n",
    "                                 ,col(\"QUANTITY_TON_ST\")\n",
    "                                 ,col(\"PERC_VOL\"))\\\n",
    "                        .filter(df_pv_ready.QUANTITY_TON_BRC.isNull())\\\n",
    "                        .withColumn(\"PV_BUDGET\",lit(0))\\\n",
    "                        .fillna({'PV_BUDGET':0\n",
    "                                 ,'PERC_VOL':0\n",
    "                                 ,'QUANTITY_TON_BRC':0\n",
    "                                 ,\"QUANTITY_TON_ST\":0})"
   ]
  },
  {
   "cell_type": "code",
   "execution_count": 153,
   "metadata": {},
   "outputs": [
    {
     "data": {
      "application/vnd.jupyter.widget-view+json": {
       "model_id": "999560747ca144b58049427f37ce5772",
       "version_major": 2,
       "version_minor": 0
      },
      "text/plain": [
       "VBox()"
      ]
     },
     "metadata": {},
     "output_type": "display_data"
    },
    {
     "data": {
      "application/vnd.jupyter.widget-view+json": {
       "model_id": "",
       "version_major": 2,
       "version_minor": 0
      },
      "text/plain": [
       "FloatProgress(value=0.0, bar_style='info', description='Progress:', layout=Layout(height='25px', width='50%'),…"
      ]
     },
     "metadata": {},
     "output_type": "display_data"
    }
   ],
   "source": [
    "df_hana_6Months_branch_ready = df_hana_6Months_branch_ready.select(\"SALES_ORG_COD\"\n",
    "                                                                   ,\"GPD_COD\"\n",
    "                                                                   ,\"GPD_DESC\"\n",
    "                                                                   ,\"GPM_DESC\"\n",
    "                                                                   ,\"ISSUING_STATE\"\n",
    "                                                                   ,\"BRANCH\"\n",
    "                                                                   ,\"QUANTITY_TON_BRC\"\n",
    "                                                                   ,\"QUANTITY_TON_ST\"\n",
    "                                                                   ,\"PERC_VOL\"\n",
    "                                                                   ,\"PV_BUDGET\")\\\n",
    "                                                            .unionByName(df_pv_ready)"
   ]
  },
  {
   "cell_type": "code",
   "execution_count": 154,
   "metadata": {},
   "outputs": [
    {
     "data": {
      "application/vnd.jupyter.widget-view+json": {
       "model_id": "7e74f39c03684f82b2b0fa476a80539e",
       "version_major": 2,
       "version_minor": 0
      },
      "text/plain": [
       "VBox()"
      ]
     },
     "metadata": {},
     "output_type": "display_data"
    },
    {
     "data": {
      "application/vnd.jupyter.widget-view+json": {
       "model_id": "",
       "version_major": 2,
       "version_minor": 0
      },
      "text/plain": [
       "FloatProgress(value=0.0, bar_style='info', description='Progress:', layout=Layout(height='25px', width='50%'),…"
      ]
     },
     "metadata": {},
     "output_type": "display_data"
    }
   ],
   "source": [
    "df_hana_6Months_branch_ready = df_hana_6Months_branch_ready.withColumn(\"PV_DONE\",col(\"PV_BUDGET\") * col(\"PERC_VOL\"))\\\n",
    "                                                           .fillna({'PV_BUDGET':0\n",
    "                                                                    ,'PERC_VOL':0\n",
    "                                                                    ,'QUANTITY_TON_BRC':0\n",
    "                                                                    ,\"QUANTITY_TON_ST\":0})"
   ]
  },
  {
   "cell_type": "code",
   "execution_count": 155,
   "metadata": {},
   "outputs": [
    {
     "data": {
      "application/vnd.jupyter.widget-view+json": {
       "model_id": "9406804392944ddbbc1e8cd7024a5b5e",
       "version_major": 2,
       "version_minor": 0
      },
      "text/plain": [
       "VBox()"
      ]
     },
     "metadata": {},
     "output_type": "display_data"
    },
    {
     "data": {
      "application/vnd.jupyter.widget-view+json": {
       "model_id": "",
       "version_major": 2,
       "version_minor": 0
      },
      "text/plain": [
       "FloatProgress(value=0.0, bar_style='info', description='Progress:', layout=Layout(height='25px', width='50%'),…"
      ]
     },
     "metadata": {},
     "output_type": "display_data"
    }
   ],
   "source": [
    "var_year_month=str(year_ref)+str(month_ref).zfill(2)\n",
    "df_hana_6Months_branch_ready = df_hana_6Months_branch_ready.withColumn(\"YEAR_MONTH\", lit(var_year_month))"
   ]
  },
  {
   "cell_type": "markdown",
   "metadata": {},
   "source": [
    "## 3 Scenery"
   ]
  },
  {
   "cell_type": "code",
   "execution_count": 156,
   "metadata": {},
   "outputs": [
    {
     "data": {
      "application/vnd.jupyter.widget-view+json": {
       "model_id": "4fcdcba87720419ea06c17c19ebb22a7",
       "version_major": 2,
       "version_minor": 0
      },
      "text/plain": [
       "VBox()"
      ]
     },
     "metadata": {},
     "output_type": "display_data"
    },
    {
     "data": {
      "application/vnd.jupyter.widget-view+json": {
       "model_id": "",
       "version_major": 2,
       "version_minor": 0
      },
      "text/plain": [
       "FloatProgress(value=0.0, bar_style='info', description='Progress:', layout=Layout(height='25px', width='50%'),…"
      ]
     },
     "metadata": {},
     "output_type": "display_data"
    }
   ],
   "source": [
    "df_hana_6Months_state=df_hana_6Months_state.withColumn(\"KEY_ST\",concat(col(\"SALES_ORG_COD\"),col(\"ISSUING_STATE\"),col(\"GPD_COD\"), col(\"GPM_DESC\")))"
   ]
  },
  {
   "cell_type": "code",
   "execution_count": 157,
   "metadata": {},
   "outputs": [
    {
     "data": {
      "application/vnd.jupyter.widget-view+json": {
       "model_id": "520bfaa8bb8c44e7970c47d55f27c364",
       "version_major": 2,
       "version_minor": 0
      },
      "text/plain": [
       "VBox()"
      ]
     },
     "metadata": {},
     "output_type": "display_data"
    },
    {
     "data": {
      "application/vnd.jupyter.widget-view+json": {
       "model_id": "",
       "version_major": 2,
       "version_minor": 0
      },
      "text/plain": [
       "FloatProgress(value=0.0, bar_style='info', description='Progress:', layout=Layout(height='25px', width='50%'),…"
      ]
     },
     "metadata": {},
     "output_type": "display_data"
    }
   ],
   "source": [
    "df_pv_state = df_pv_new.join(df_hana_6Months_state,\"KEY_ST\",how='left_anti')"
   ]
  },
  {
   "cell_type": "code",
   "execution_count": 158,
   "metadata": {},
   "outputs": [
    {
     "data": {
      "application/vnd.jupyter.widget-view+json": {
       "model_id": "e76447f39fd54e5b9a64edbeb2d52e0a",
       "version_major": 2,
       "version_minor": 0
      },
      "text/plain": [
       "VBox()"
      ]
     },
     "metadata": {},
     "output_type": "display_data"
    },
    {
     "data": {
      "application/vnd.jupyter.widget-view+json": {
       "model_id": "",
       "version_major": 2,
       "version_minor": 0
      },
      "text/plain": [
       "FloatProgress(value=0.0, bar_style='info', description='Progress:', layout=Layout(height='25px', width='50%'),…"
      ]
     },
     "metadata": {},
     "output_type": "display_data"
    },
    {
     "name": "stdout",
     "output_type": "stream",
     "text": [
      "DataFrame[KEY_ST: string, SALES_ORG_COD: string, STATE: string, GPD_COD: string, GPD_DESC: string, GPM_DESC: string, PV_BUDGET: double, BRANCH: string, KEY: string]"
     ]
    }
   ],
   "source": [
    "df_pv_state.persist(pyspark.StorageLevel.MEMORY_ONLY)"
   ]
  },
  {
   "cell_type": "code",
   "execution_count": 159,
   "metadata": {},
   "outputs": [
    {
     "data": {
      "application/vnd.jupyter.widget-view+json": {
       "model_id": "488d549e7bb1438cae39649b3e38fb59",
       "version_major": 2,
       "version_minor": 0
      },
      "text/plain": [
       "VBox()"
      ]
     },
     "metadata": {},
     "output_type": "display_data"
    },
    {
     "data": {
      "application/vnd.jupyter.widget-view+json": {
       "model_id": "",
       "version_major": 2,
       "version_minor": 0
      },
      "text/plain": [
       "FloatProgress(value=0.0, bar_style='info', description='Progress:', layout=Layout(height='25px', width='50%'),…"
      ]
     },
     "metadata": {},
     "output_type": "display_data"
    }
   ],
   "source": [
    "df_pv_excential = df_pv_state.select(\"KEY_ST\",\"GPD_COD\",\"GPD_DESC\",\"GPM_DESC\",\"SALES_ORG_COD\",\"STATE\",\"PV_BUDGET\").distinct()"
   ]
  },
  {
   "cell_type": "code",
   "execution_count": 160,
   "metadata": {},
   "outputs": [
    {
     "data": {
      "application/vnd.jupyter.widget-view+json": {
       "model_id": "41c1fe5f226046d2a153ccc1837a079a",
       "version_major": 2,
       "version_minor": 0
      },
      "text/plain": [
       "VBox()"
      ]
     },
     "metadata": {},
     "output_type": "display_data"
    },
    {
     "data": {
      "application/vnd.jupyter.widget-view+json": {
       "model_id": "",
       "version_major": 2,
       "version_minor": 0
      },
      "text/plain": [
       "FloatProgress(value=0.0, bar_style='info', description='Progress:', layout=Layout(height='25px', width='50%'),…"
      ]
     },
     "metadata": {},
     "output_type": "display_data"
    }
   ],
   "source": [
    "df_branch_state_agg = df_region3.groupby(\"IBGE_UF_ACRONYMS\").agg(countDistinct(\"BRANCH\")\\\n",
    "                                                                .alias(\"BRANCH_PER_STATE\"))\\\n",
    "                                .withColumnRenamed(\"IBGE_UF_ACRONYMS\", \"ISSUING_STATE\")"
   ]
  },
  {
   "cell_type": "code",
   "execution_count": 161,
   "metadata": {},
   "outputs": [
    {
     "data": {
      "application/vnd.jupyter.widget-view+json": {
       "model_id": "2bf3f889ad5e4ec18df272a37287fb34",
       "version_major": 2,
       "version_minor": 0
      },
      "text/plain": [
       "VBox()"
      ]
     },
     "metadata": {},
     "output_type": "display_data"
    },
    {
     "data": {
      "application/vnd.jupyter.widget-view+json": {
       "model_id": "",
       "version_major": 2,
       "version_minor": 0
      },
      "text/plain": [
       "FloatProgress(value=0.0, bar_style='info', description='Progress:', layout=Layout(height='25px', width='50%'),…"
      ]
     },
     "metadata": {},
     "output_type": "display_data"
    }
   ],
   "source": [
    "df_pv_branch = df_pv_excential.join(df_branch_state_agg, df_pv_excential.STATE == df_branch_state_agg.ISSUING_STATE, how=\"inner\")"
   ]
  },
  {
   "cell_type": "code",
   "execution_count": 162,
   "metadata": {},
   "outputs": [
    {
     "data": {
      "application/vnd.jupyter.widget-view+json": {
       "model_id": "90f5345f2e7c41a7ab53f536902f7338",
       "version_major": 2,
       "version_minor": 0
      },
      "text/plain": [
       "VBox()"
      ]
     },
     "metadata": {},
     "output_type": "display_data"
    },
    {
     "data": {
      "application/vnd.jupyter.widget-view+json": {
       "model_id": "",
       "version_major": 2,
       "version_minor": 0
      },
      "text/plain": [
       "FloatProgress(value=0.0, bar_style='info', description='Progress:', layout=Layout(height='25px', width='50%'),…"
      ]
     },
     "metadata": {},
     "output_type": "display_data"
    },
    {
     "name": "stdout",
     "output_type": "stream",
     "text": [
      "DataFrame[KEY_ST: string, GPD_COD: string, GPD_DESC: string, GPM_DESC: string, SALES_ORG_COD: string, STATE: string, PV_BUDGET: double, ISSUING_STATE: string, BRANCH_PER_STATE: bigint]"
     ]
    }
   ],
   "source": [
    "df_pv_branch.persist(pyspark.StorageLevel.MEMORY_ONLY)"
   ]
  },
  {
   "cell_type": "code",
   "execution_count": 163,
   "metadata": {},
   "outputs": [
    {
     "data": {
      "application/vnd.jupyter.widget-view+json": {
       "model_id": "3863dff4c52a471a9f4d7a4e4c5d9b84",
       "version_major": 2,
       "version_minor": 0
      },
      "text/plain": [
       "VBox()"
      ]
     },
     "metadata": {},
     "output_type": "display_data"
    },
    {
     "data": {
      "application/vnd.jupyter.widget-view+json": {
       "model_id": "",
       "version_major": 2,
       "version_minor": 0
      },
      "text/plain": [
       "FloatProgress(value=0.0, bar_style='info', description='Progress:', layout=Layout(height='25px', width='50%'),…"
      ]
     },
     "metadata": {},
     "output_type": "display_data"
    }
   ],
   "source": [
    "df_pv_branch = df_pv_branch.withColumn(\"PV_DONE\", col(\"PV_BUDGET\")/col(\"BRANCH_PER_STATE\"))\\\n",
    "                           .drop(\"BRANCH_PER_STATE\")"
   ]
  },
  {
   "cell_type": "code",
   "execution_count": 164,
   "metadata": {},
   "outputs": [
    {
     "data": {
      "application/vnd.jupyter.widget-view+json": {
       "model_id": "1a2a608f3f7f4d808e3b2b95eed22bb4",
       "version_major": 2,
       "version_minor": 0
      },
      "text/plain": [
       "VBox()"
      ]
     },
     "metadata": {},
     "output_type": "display_data"
    },
    {
     "data": {
      "application/vnd.jupyter.widget-view+json": {
       "model_id": "",
       "version_major": 2,
       "version_minor": 0
      },
      "text/plain": [
       "FloatProgress(value=0.0, bar_style='info', description='Progress:', layout=Layout(height='25px', width='50%'),…"
      ]
     },
     "metadata": {},
     "output_type": "display_data"
    }
   ],
   "source": [
    "df_pv_branch = df_pv_branch.select(col(\"GPD_COD\")\n",
    "                                   ,col(\"GPD_DESC\")\n",
    "                                   ,col(\"GPM_DESC\")\n",
    "                                   ,col(\"SALES_ORG_COD\")\n",
    "                                   ,col(\"ISSUING_STATE\")\n",
    "                                   ,col(\"PV_BUDGET\")\n",
    "                                   ,col(\"PV_DONE\"))"
   ]
  },
  {
   "cell_type": "code",
   "execution_count": 165,
   "metadata": {},
   "outputs": [
    {
     "data": {
      "application/vnd.jupyter.widget-view+json": {
       "model_id": "18ca6fb1bf4e45b0b7b8022ce3ce61f4",
       "version_major": 2,
       "version_minor": 0
      },
      "text/plain": [
       "VBox()"
      ]
     },
     "metadata": {},
     "output_type": "display_data"
    },
    {
     "data": {
      "application/vnd.jupyter.widget-view+json": {
       "model_id": "",
       "version_major": 2,
       "version_minor": 0
      },
      "text/plain": [
       "FloatProgress(value=0.0, bar_style='info', description='Progress:', layout=Layout(height='25px', width='50%'),…"
      ]
     },
     "metadata": {},
     "output_type": "display_data"
    }
   ],
   "source": [
    "df_pv_branch =  df_pv_branch.join(df_region3, upper(trim(df_pv_branch.ISSUING_STATE))==upper(trim(df_region3.IBGE_UF_ACRONYMS)),how='inner')\\\n",
    "                            .withColumn(\"KEY\",concat(col(\"SALES_ORG_COD\")\n",
    "                                                     ,col(\"ISSUING_STATE\")\n",
    "                                                     ,col(\"GPD_COD\")\n",
    "                                                     ,col(\"BRANCH\")\n",
    "                                                     ,col(\"GPM_DESC\")\n",
    "                                                    ))\\\n",
    "                            .drop(\"IBGE_UF_ACRONYMS\")\\"
   ]
  },
  {
   "cell_type": "code",
   "execution_count": 166,
   "metadata": {},
   "outputs": [
    {
     "data": {
      "application/vnd.jupyter.widget-view+json": {
       "model_id": "abeb21043842431eb2d26e399fc2a16d",
       "version_major": 2,
       "version_minor": 0
      },
      "text/plain": [
       "VBox()"
      ]
     },
     "metadata": {},
     "output_type": "display_data"
    },
    {
     "data": {
      "application/vnd.jupyter.widget-view+json": {
       "model_id": "",
       "version_major": 2,
       "version_minor": 0
      },
      "text/plain": [
       "FloatProgress(value=0.0, bar_style='info', description='Progress:', layout=Layout(height='25px', width='50%'),…"
      ]
     },
     "metadata": {},
     "output_type": "display_data"
    },
    {
     "name": "stdout",
     "output_type": "stream",
     "text": [
      "DataFrame[GPD_COD: string, GPD_DESC: string, GPM_DESC: string, SALES_ORG_COD: string, ISSUING_STATE: string, PV_BUDGET: double, PV_DONE: double, BRANCH: string, KEY: string]"
     ]
    }
   ],
   "source": [
    "df_pv_branch.persist(pyspark.StorageLevel.MEMORY_ONLY)"
   ]
  },
  {
   "cell_type": "code",
   "execution_count": 167,
   "metadata": {},
   "outputs": [
    {
     "data": {
      "application/vnd.jupyter.widget-view+json": {
       "model_id": "df42322e7d0d4b42bd56129be45c26ef",
       "version_major": 2,
       "version_minor": 0
      },
      "text/plain": [
       "VBox()"
      ]
     },
     "metadata": {},
     "output_type": "display_data"
    },
    {
     "data": {
      "application/vnd.jupyter.widget-view+json": {
       "model_id": "",
       "version_major": 2,
       "version_minor": 0
      },
      "text/plain": [
       "FloatProgress(value=0.0, bar_style='info', description='Progress:', layout=Layout(height='25px', width='50%'),…"
      ]
     },
     "metadata": {},
     "output_type": "display_data"
    }
   ],
   "source": [
    "df_hana_6Months_branch_ready = df_hana_6Months_branch_ready.withColumn(\"KEY\",concat(col(\"SALES_ORG_COD\")\n",
    "                                                                                    ,col(\"ISSUING_STATE\")\n",
    "                                                                                    ,col(\"GPD_COD\")\n",
    "                                                                                    ,col(\"BRANCH\")\n",
    "                                                                                    ,col(\"GPM_DESC\")))"
   ]
  },
  {
   "cell_type": "code",
   "execution_count": 168,
   "metadata": {},
   "outputs": [
    {
     "data": {
      "application/vnd.jupyter.widget-view+json": {
       "model_id": "e169167d9e274bf1b7ad722f0dbef07f",
       "version_major": 2,
       "version_minor": 0
      },
      "text/plain": [
       "VBox()"
      ]
     },
     "metadata": {},
     "output_type": "display_data"
    },
    {
     "data": {
      "application/vnd.jupyter.widget-view+json": {
       "model_id": "",
       "version_major": 2,
       "version_minor": 0
      },
      "text/plain": [
       "FloatProgress(value=0.0, bar_style='info', description='Progress:', layout=Layout(height='25px', width='50%'),…"
      ]
     },
     "metadata": {},
     "output_type": "display_data"
    }
   ],
   "source": [
    "df_hana_6Months = df_hana_6Months.withColumn(\"KEY\",concat(col(\"SALES_ORG_COD\")\n",
    "                                                          ,col(\"ISSUING_STATE\")\n",
    "                                                          ,col(\"GPD_COD\")\n",
    "                                                          ,col(\"BRANCH\")\n",
    "                                                          ,col(\"GPM_DESC\")))"
   ]
  },
  {
   "cell_type": "code",
   "execution_count": 169,
   "metadata": {},
   "outputs": [
    {
     "data": {
      "application/vnd.jupyter.widget-view+json": {
       "model_id": "cb00cecdf8024f7bb5710a89d0d9c09a",
       "version_major": 2,
       "version_minor": 0
      },
      "text/plain": [
       "VBox()"
      ]
     },
     "metadata": {},
     "output_type": "display_data"
    },
    {
     "data": {
      "application/vnd.jupyter.widget-view+json": {
       "model_id": "",
       "version_major": 2,
       "version_minor": 0
      },
      "text/plain": [
       "FloatProgress(value=0.0, bar_style='info', description='Progress:', layout=Layout(height='25px', width='50%'),…"
      ]
     },
     "metadata": {},
     "output_type": "display_data"
    }
   ],
   "source": [
    "df_pv_branch_ready = df_pv_branch.join(df_hana_6Months,\"KEY\",how=\"left_anti\")"
   ]
  },
  {
   "cell_type": "code",
   "execution_count": 170,
   "metadata": {},
   "outputs": [
    {
     "data": {
      "application/vnd.jupyter.widget-view+json": {
       "model_id": "2f5e03f43fe74516b92379f79c88e079",
       "version_major": 2,
       "version_minor": 0
      },
      "text/plain": [
       "VBox()"
      ]
     },
     "metadata": {},
     "output_type": "display_data"
    },
    {
     "data": {
      "application/vnd.jupyter.widget-view+json": {
       "model_id": "",
       "version_major": 2,
       "version_minor": 0
      },
      "text/plain": [
       "FloatProgress(value=0.0, bar_style='info', description='Progress:', layout=Layout(height='25px', width='50%'),…"
      ]
     },
     "metadata": {},
     "output_type": "display_data"
    },
    {
     "name": "stdout",
     "output_type": "stream",
     "text": [
      "DataFrame[KEY: string, GPD_COD: string, GPD_DESC: string, GPM_DESC: string, SALES_ORG_COD: string, ISSUING_STATE: string, PV_BUDGET: double, PV_DONE: double, BRANCH: string]"
     ]
    }
   ],
   "source": [
    "df_pv_branch_ready.persist(pyspark.StorageLevel.MEMORY_ONLY)"
   ]
  },
  {
   "cell_type": "code",
   "execution_count": 171,
   "metadata": {},
   "outputs": [
    {
     "data": {
      "application/vnd.jupyter.widget-view+json": {
       "model_id": "451a6344d86a4c91bdafabc368a6eddd",
       "version_major": 2,
       "version_minor": 0
      },
      "text/plain": [
       "VBox()"
      ]
     },
     "metadata": {},
     "output_type": "display_data"
    },
    {
     "data": {
      "application/vnd.jupyter.widget-view+json": {
       "model_id": "",
       "version_major": 2,
       "version_minor": 0
      },
      "text/plain": [
       "FloatProgress(value=0.0, bar_style='info', description='Progress:', layout=Layout(height='25px', width='50%'),…"
      ]
     },
     "metadata": {},
     "output_type": "display_data"
    }
   ],
   "source": [
    "df_pv_branch_ready = df_pv_branch_ready.select(\"SALES_ORG_COD\",\"GPD_COD\", \"GPD_DESC\", \"GPM_DESC\", \"ISSUING_STATE\",\"BRANCH\",\"PV_BUDGET\",\"PV_DONE\")\\\n",
    "                                       .withColumn(\"QUANTITY_TON_BRC\",lit(0))\\\n",
    "                                       .withColumn(\"QUANTITY_TON_ST\",lit(0))\\\n",
    "                                       .withColumn(\"PERC_VOL\",lit(0))\\\n",
    "                                       .withColumn(\"YEAR_MONTH\",lit(var_year_month))\\\n",
    "                                       .distinct()"
   ]
  },
  {
   "cell_type": "code",
   "execution_count": 172,
   "metadata": {},
   "outputs": [
    {
     "data": {
      "application/vnd.jupyter.widget-view+json": {
       "model_id": "71936cff801541ab8637742214eab20b",
       "version_major": 2,
       "version_minor": 0
      },
      "text/plain": [
       "VBox()"
      ]
     },
     "metadata": {},
     "output_type": "display_data"
    },
    {
     "data": {
      "application/vnd.jupyter.widget-view+json": {
       "model_id": "",
       "version_major": 2,
       "version_minor": 0
      },
      "text/plain": [
       "FloatProgress(value=0.0, bar_style='info', description='Progress:', layout=Layout(height='25px', width='50%'),…"
      ]
     },
     "metadata": {},
     "output_type": "display_data"
    }
   ],
   "source": [
    "df_hana_6Months_branch_ready = df_hana_6Months_branch_ready.select(\"GPD_COD\"\n",
    "                                                                   ,\"GPD_DESC\"\n",
    "                                                                   ,\"GPM_DESC\"\n",
    "                                                                   ,\"SALES_ORG_COD\"\n",
    "                                                                   ,\"ISSUING_STATE\"\n",
    "                                                                   ,\"BRANCH\"\n",
    "                                                                   ,\"QUANTITY_TON_BRC\"\n",
    "                                                                   ,\"QUANTITY_TON_ST\"\n",
    "                                                                   ,\"PERC_VOL\"\n",
    "                                                                   ,\"PV_BUDGET\"\n",
    "                                                                   ,\"PV_DONE\"\n",
    "                                                                   ,\"YEAR_MONTH\")\\\n",
    "                                                            .unionByName(df_pv_branch_ready).distinct()"
   ]
  },
  {
   "cell_type": "code",
   "execution_count": 173,
   "metadata": {},
   "outputs": [
    {
     "data": {
      "application/vnd.jupyter.widget-view+json": {
       "model_id": "18da22f8b67f4195ae74fdf6b3e4852d",
       "version_major": 2,
       "version_minor": 0
      },
      "text/plain": [
       "VBox()"
      ]
     },
     "metadata": {},
     "output_type": "display_data"
    },
    {
     "data": {
      "application/vnd.jupyter.widget-view+json": {
       "model_id": "",
       "version_major": 2,
       "version_minor": 0
      },
      "text/plain": [
       "FloatProgress(value=0.0, bar_style='info', description='Progress:', layout=Layout(height='25px', width='50%'),…"
      ]
     },
     "metadata": {},
     "output_type": "display_data"
    }
   ],
   "source": [
    "df_hana = df_hana.join(df_hana_6Months_branch_ready, on=[\"SALES_ORG_COD\", \"GPD_COD\", \"ISSUING_STATE\", \"BRANCH\", \"YEAR_MONTH\", \"GPD_DESC\", \"GPM_DESC\"], how=\"left_outer\")\\\n",
    "                 .drop(\"YEAR_MONTH\")\\\n",
    "                 .fillna({'PV_BUDGET':0\n",
    "                          ,'PERC_VOL':0\n",
    "                          ,'PV_DONE':0})\\"
   ]
  },
  {
   "cell_type": "code",
   "execution_count": 174,
   "metadata": {},
   "outputs": [
    {
     "data": {
      "application/vnd.jupyter.widget-view+json": {
       "model_id": "d98c8590696c493a8489c6a8fe380b82",
       "version_major": 2,
       "version_minor": 0
      },
      "text/plain": [
       "VBox()"
      ]
     },
     "metadata": {},
     "output_type": "display_data"
    },
    {
     "data": {
      "application/vnd.jupyter.widget-view+json": {
       "model_id": "",
       "version_major": 2,
       "version_minor": 0
      },
      "text/plain": [
       "FloatProgress(value=0.0, bar_style='info', description='Progress:', layout=Layout(height='25px', width='50%'),…"
      ]
     },
     "metadata": {},
     "output_type": "display_data"
    },
    {
     "name": "stdout",
     "output_type": "stream",
     "text": [
      "DataFrame[SALES_ORG_COD: string, GPD_COD: string, ISSUING_STATE: string, BRANCH: string, GPD_DESC: string, GPM_DESC: string, CUSTOMER_COD: string, CUSTOMER_DESC: string, CUSTOMER_GROUP: string, BILLING_NUMBER: string, BILLING_ITEM: string, BILLING_DATE: string, OV_AJUST: string, SALES_ORDER_DATE: string, SALES_GROUP_DESC: string, ISSUING_CITY: string, MATERIAL_COD: string, SALES_OFFICE_COD: string, MATERIAL_DESC: string, ORDER_TYPE: string, QUANTITY_TON: float, PRACTICED_PRICE: double, RBV: float, RLV: float, ALCADA: double, ZD06: float, ZD13: float, DESVIO_POL: float, DESVIO_POL_REAIS: double, ZD14: float, PRACTICED_PRICE_I: double, PO: float, QUANTITY_TON_BRC: double, QUANTITY_TON_ST: double, PERC_VOL: double, PV_BUDGET: double, PV_DONE: double]"
     ]
    }
   ],
   "source": [
    "df_hana.persist(pyspark.StorageLevel.MEMORY_ONLY)"
   ]
  },
  {
   "cell_type": "code",
   "execution_count": 175,
   "metadata": {},
   "outputs": [
    {
     "data": {
      "application/vnd.jupyter.widget-view+json": {
       "model_id": "194b7fff75674969a4e992dd80c5c53c",
       "version_major": 2,
       "version_minor": 0
      },
      "text/plain": [
       "VBox()"
      ]
     },
     "metadata": {},
     "output_type": "display_data"
    },
    {
     "data": {
      "application/vnd.jupyter.widget-view+json": {
       "model_id": "",
       "version_major": 2,
       "version_minor": 0
      },
      "text/plain": [
       "FloatProgress(value=0.0, bar_style='info', description='Progress:', layout=Layout(height='25px', width='50%'),…"
      ]
     },
     "metadata": {},
     "output_type": "display_data"
    }
   ],
   "source": [
    "df_hana_6Months_branch_ready = df_hana_6Months_branch_ready.withColumnRenamed(\"SALES_ORG_COD\",\"OV_AJUST\")"
   ]
  },
  {
   "cell_type": "code",
   "execution_count": 176,
   "metadata": {},
   "outputs": [
    {
     "data": {
      "application/vnd.jupyter.widget-view+json": {
       "model_id": "62d0d4459e9e4b7e865cb4597bbe16a0",
       "version_major": 2,
       "version_minor": 0
      },
      "text/plain": [
       "VBox()"
      ]
     },
     "metadata": {},
     "output_type": "display_data"
    },
    {
     "data": {
      "application/vnd.jupyter.widget-view+json": {
       "model_id": "",
       "version_major": 2,
       "version_minor": 0
      },
      "text/plain": [
       "FloatProgress(value=0.0, bar_style='info', description='Progress:', layout=Layout(height='25px', width='50%'),…"
      ]
     },
     "metadata": {},
     "output_type": "display_data"
    }
   ],
   "source": [
    "df_hana_6Months_branch_ready=df_hana_6Months_branch_ready.groupBy(\"OV_AJUST\",\"GPD_COD\",\"BRANCH\",\"YEAR_MONTH\", \"ISSUING_STATE\", \"GPD_DESC\",\"GPM_DESC\")\\\n",
    "                                                         .agg(sum(\"PV_BUDGET\"),\n",
    "                                                              sum(\"PV_DONE\"),\n",
    "                                                              sum(\"QUANTITY_TON_BRC\"),\n",
    "                                                              sum(\"QUANTITY_TON_ST\"),\n",
    "                                                              sum(\"PERC_VOL\"))\\\n",
    "                                                    .withColumnRenamed(\"sum(PV_DONE)\",\"PV_DONE\")\\\n",
    "                                                    .withColumnRenamed(\"sum(PV_BUDGET)\",\"PV_BUDGET\")\\\n",
    "                                                    .withColumnRenamed(\"sum(QUANTITY_TON_BRC)\",\"QUANTITY_TON_BRC\")\\\n",
    "                                                    .withColumnRenamed(\"sum(QUANTITY_TON_ST)\",\"QUANTITY_TON_ST\")\\\n",
    "                                                    .withColumnRenamed(\"sum(PERC_VOL)\",\"PERC_VOL\")\\\n",
    "                                                    .distinct()"
   ]
  },
  {
   "cell_type": "code",
   "execution_count": 177,
   "metadata": {},
   "outputs": [
    {
     "data": {
      "application/vnd.jupyter.widget-view+json": {
       "model_id": "f69ce119fd1745aea349663c67b48abb",
       "version_major": 2,
       "version_minor": 0
      },
      "text/plain": [
       "VBox()"
      ]
     },
     "metadata": {},
     "output_type": "display_data"
    },
    {
     "data": {
      "application/vnd.jupyter.widget-view+json": {
       "model_id": "",
       "version_major": 2,
       "version_minor": 0
      },
      "text/plain": [
       "FloatProgress(value=0.0, bar_style='info', description='Progress:', layout=Layout(height='25px', width='50%'),…"
      ]
     },
     "metadata": {},
     "output_type": "display_data"
    }
   ],
   "source": [
    "df_hana_Filial_NDA=df_hana_Filial_NDA.drop(\"CUSTOMER_COD\")\\\n",
    "                                    .drop(\"CUSTOMER_DESC\")\\\n",
    "                                    .drop(\"CUSTOMER_GROUP\")\\\n",
    "                                    .drop(\"BILLING_NUMBER\")\\\n",
    "                                    .drop(\"BILLING_ITEM\")\\\n",
    "                                    .drop(\"BILLING_DATE\")\\\n",
    "                                    .drop(\"SALES_ORG_COD\")\\\n",
    "                                    .drop(\"SALES_ORDER_DATE\")\\\n",
    "                                    .drop(\"SALES_GROUP_DESC\")\\\n",
    "                                    .drop(\"ISSUING_CITY\")\\\n",
    "                                    .drop(\"MATERIAL_COD\")\\\n",
    "                                    .drop(\"MATERIAL_DESC\")\\\n",
    "                                    .drop(\"ORDER_TYPE\")\\\n",
    "                                    .drop(\"PRACTICED_PRICE\")\\\n",
    "                                    .drop(\"RBV\")\\\n",
    "                                    .drop(\"VERGE\")\\\n",
    "                                    .drop(\"ZD06\")\\\n",
    "                                    .drop(\"ZD13\")\\\n",
    "                                    .drop(\"POLICY_DEVIATION\")\\\n",
    "                                    .drop(\"POLICY_DEVIATION_REAIS\")\\\n",
    "                                    .drop(\"ZD14\")\\\n",
    "                                    .drop(\"PRACTICED_PRICE_I\")\\\n",
    "                                    .drop(\"PO\")\\\n",
    "                                    .drop(\"QUANTITY_TON\")\\\n",
    "                                    .drop(\"SALES_OFFICE_COD\")\\"
   ]
  },
  {
   "cell_type": "code",
   "execution_count": 178,
   "metadata": {},
   "outputs": [
    {
     "data": {
      "application/vnd.jupyter.widget-view+json": {
       "model_id": "1963731e6ee44aa5bb9c84f3ae812b3a",
       "version_major": 2,
       "version_minor": 0
      },
      "text/plain": [
       "VBox()"
      ]
     },
     "metadata": {},
     "output_type": "display_data"
    },
    {
     "data": {
      "application/vnd.jupyter.widget-view+json": {
       "model_id": "",
       "version_major": 2,
       "version_minor": 0
      },
      "text/plain": [
       "FloatProgress(value=0.0, bar_style='info', description='Progress:', layout=Layout(height='25px', width='50%'),…"
      ]
     },
     "metadata": {},
     "output_type": "display_data"
    }
   ],
   "source": [
    "df_hana_Filial_NDA=df_hana_Filial_NDA.withColumn(\"PV_BUDGET\", lit(0))\\\n",
    "                                      .withColumn(\"PV_DONE\", lit(0))\\\n",
    "                                      .withColumn(\"QUANTITY_TON_BRC\", lit(0))\\\n",
    "                                      .withColumn(\"QUANTITY_TON_ST\", lit(0))\\\n",
    "                                      .withColumn(\"PERC_VOL\", lit(0))\\"
   ]
  },
  {
   "cell_type": "code",
   "execution_count": 179,
   "metadata": {},
   "outputs": [
    {
     "data": {
      "application/vnd.jupyter.widget-view+json": {
       "model_id": "29add921184b4895b665b8e52625590d",
       "version_major": 2,
       "version_minor": 0
      },
      "text/plain": [
       "VBox()"
      ]
     },
     "metadata": {},
     "output_type": "display_data"
    },
    {
     "data": {
      "application/vnd.jupyter.widget-view+json": {
       "model_id": "",
       "version_major": 2,
       "version_minor": 0
      },
      "text/plain": [
       "FloatProgress(value=0.0, bar_style='info', description='Progress:', layout=Layout(height='25px', width='50%'),…"
      ]
     },
     "metadata": {},
     "output_type": "display_data"
    }
   ],
   "source": [
    "df_hana_Filial_NDA = df_hana_Filial_NDA.withColumn(\"YEAR_MONTH\", lit(var_year_month))"
   ]
  },
  {
   "cell_type": "code",
   "execution_count": 180,
   "metadata": {},
   "outputs": [
    {
     "data": {
      "application/vnd.jupyter.widget-view+json": {
       "model_id": "507b76f43a2b44138868cb6fbe62c121",
       "version_major": 2,
       "version_minor": 0
      },
      "text/plain": [
       "VBox()"
      ]
     },
     "metadata": {},
     "output_type": "display_data"
    },
    {
     "data": {
      "application/vnd.jupyter.widget-view+json": {
       "model_id": "",
       "version_major": 2,
       "version_minor": 0
      },
      "text/plain": [
       "FloatProgress(value=0.0, bar_style='info', description='Progress:', layout=Layout(height='25px', width='50%'),…"
      ]
     },
     "metadata": {},
     "output_type": "display_data"
    }
   ],
   "source": [
    "df_hana_6Months_branch_ready = df_hana_6Months_branch_ready.unionByName(df_hana_Filial_NDA)"
   ]
  },
  {
   "cell_type": "code",
   "execution_count": 181,
   "metadata": {},
   "outputs": [
    {
     "data": {
      "application/vnd.jupyter.widget-view+json": {
       "model_id": "9d82f5557c3a483890dfec69501e242d",
       "version_major": 2,
       "version_minor": 0
      },
      "text/plain": [
       "VBox()"
      ]
     },
     "metadata": {},
     "output_type": "display_data"
    },
    {
     "data": {
      "application/vnd.jupyter.widget-view+json": {
       "model_id": "",
       "version_major": 2,
       "version_minor": 0
      },
      "text/plain": [
       "FloatProgress(value=0.0, bar_style='info', description='Progress:', layout=Layout(height='25px', width='50%'),…"
      ]
     },
     "metadata": {},
     "output_type": "display_data"
    }
   ],
   "source": [
    "### Correcting GPM_DESC with blank values\n",
    "df_hana_6Months_branch_ready=df_hana_6Months_branch_ready.withColumn(\"GPM_DESC\", when(df_hana_6Months_branch_ready.GPM_DESC.isNull(), lit('NÃO INFORMADO'))\\\n",
    "                                                         .otherwise(df_hana_6Months_branch_ready.GPM_DESC))\\"
   ]
  },
  {
   "cell_type": "code",
   "execution_count": 182,
   "metadata": {},
   "outputs": [
    {
     "data": {
      "application/vnd.jupyter.widget-view+json": {
       "model_id": "7e88d297d43e4d1685a77af77fe62a79",
       "version_major": 2,
       "version_minor": 0
      },
      "text/plain": [
       "VBox()"
      ]
     },
     "metadata": {},
     "output_type": "display_data"
    },
    {
     "data": {
      "application/vnd.jupyter.widget-view+json": {
       "model_id": "",
       "version_major": 2,
       "version_minor": 0
      },
      "text/plain": [
       "FloatProgress(value=0.0, bar_style='info', description='Progress:', layout=Layout(height='25px', width='50%'),…"
      ]
     },
     "metadata": {},
     "output_type": "display_data"
    }
   ],
   "source": [
    "df_hana_6Months_branch_ready = df_hana_6Months_branch_ready.withColumn(\"COUNTRY\", lit(\"Brazil\"))"
   ]
  },
  {
   "cell_type": "markdown",
   "metadata": {},
   "source": [
    "# Creating Volume"
   ]
  },
  {
   "cell_type": "markdown",
   "metadata": {},
   "source": [
    "## Current Calendar"
   ]
  },
  {
   "cell_type": "code",
   "execution_count": 183,
   "metadata": {},
   "outputs": [
    {
     "data": {
      "application/vnd.jupyter.widget-view+json": {
       "model_id": "f1042c207a464c198d09454257b344d1",
       "version_major": 2,
       "version_minor": 0
      },
      "text/plain": [
       "VBox()"
      ]
     },
     "metadata": {},
     "output_type": "display_data"
    },
    {
     "data": {
      "application/vnd.jupyter.widget-view+json": {
       "model_id": "",
       "version_major": 2,
       "version_minor": 0
      },
      "text/plain": [
       "FloatProgress(value=0.0, bar_style='info', description='Progress:', layout=Layout(height='25px', width='50%'),…"
      ]
     },
     "metadata": {},
     "output_type": "display_data"
    }
   ],
   "source": [
    "df_final=df_hana.dropDuplicates()"
   ]
  },
  {
   "cell_type": "code",
   "execution_count": 184,
   "metadata": {},
   "outputs": [
    {
     "data": {
      "application/vnd.jupyter.widget-view+json": {
       "model_id": "b959e4b3c3674fab8642b60723fb091d",
       "version_major": 2,
       "version_minor": 0
      },
      "text/plain": [
       "VBox()"
      ]
     },
     "metadata": {},
     "output_type": "display_data"
    },
    {
     "data": {
      "application/vnd.jupyter.widget-view+json": {
       "model_id": "",
       "version_major": 2,
       "version_minor": 0
      },
      "text/plain": [
       "FloatProgress(value=0.0, bar_style='info', description='Progress:', layout=Layout(height='25px', width='50%'),…"
      ]
     },
     "metadata": {},
     "output_type": "display_data"
    }
   ],
   "source": [
    "df_final = df_final.withColumn(\"MANUFACTURER\",lit(\"Gerdau - Praticado\"))\\\n",
    "                   .withColumn(\"CONFIRMED_ORDER_DATE\",lit(\"\"))\\\n",
    "                   .withColumn(\"CREATED_ORDER_DATE\",lit(\"\"))\\\n",
    "                   .withColumn(\"ISSUING_DATE\",lit(\"\"))\\\n",
    "                   .withColumn(\"ORDER_STATUS\",lit(\"Completed\"))\\\n",
    "                   .withColumn(\"TOTAL_WALLET\",lit(0).cast(\"float\"))\\"
   ]
  },
  {
   "cell_type": "code",
   "execution_count": 185,
   "metadata": {},
   "outputs": [
    {
     "data": {
      "application/vnd.jupyter.widget-view+json": {
       "model_id": "455d7f0cb2af4b699e753be0b552121b",
       "version_major": 2,
       "version_minor": 0
      },
      "text/plain": [
       "VBox()"
      ]
     },
     "metadata": {},
     "output_type": "display_data"
    },
    {
     "data": {
      "application/vnd.jupyter.widget-view+json": {
       "model_id": "",
       "version_major": 2,
       "version_minor": 0
      },
      "text/plain": [
       "FloatProgress(value=0.0, bar_style='info', description='Progress:', layout=Layout(height='25px', width='50%'),…"
      ]
     },
     "metadata": {},
     "output_type": "display_data"
    }
   ],
   "source": [
    "df_final=df_final.unionByName(df_wallet)"
   ]
  },
  {
   "cell_type": "code",
   "execution_count": 186,
   "metadata": {},
   "outputs": [
    {
     "data": {
      "application/vnd.jupyter.widget-view+json": {
       "model_id": "9ece2b7805eb41679db1eb6b11dadbc9",
       "version_major": 2,
       "version_minor": 0
      },
      "text/plain": [
       "VBox()"
      ]
     },
     "metadata": {},
     "output_type": "display_data"
    },
    {
     "data": {
      "application/vnd.jupyter.widget-view+json": {
       "model_id": "",
       "version_major": 2,
       "version_minor": 0
      },
      "text/plain": [
       "FloatProgress(value=0.0, bar_style='info', description='Progress:', layout=Layout(height='25px', width='50%'),…"
      ]
     },
     "metadata": {},
     "output_type": "display_data"
    }
   ],
   "source": [
    "df_final = df_final.withColumn(\"COUNTRY\", lit(\"Brazil\"))\\"
   ]
  },
  {
   "cell_type": "code",
   "execution_count": 187,
   "metadata": {},
   "outputs": [
    {
     "data": {
      "application/vnd.jupyter.widget-view+json": {
       "model_id": "8b39137b648341fbbfc0436b950d98b6",
       "version_major": 2,
       "version_minor": 0
      },
      "text/plain": [
       "VBox()"
      ]
     },
     "metadata": {},
     "output_type": "display_data"
    },
    {
     "data": {
      "application/vnd.jupyter.widget-view+json": {
       "model_id": "",
       "version_major": 2,
       "version_minor": 0
      },
      "text/plain": [
       "FloatProgress(value=0.0, bar_style='info', description='Progress:', layout=Layout(height='25px', width='50%'),…"
      ]
     },
     "metadata": {},
     "output_type": "display_data"
    }
   ],
   "source": [
    "### Correcting GPM_DESC with blank values\n",
    "df_final=df_final.withColumn(\"GPM_DESC\", when(df_final.GPM_DESC.isNull(), lit('NÃO INFORMADO'))\\\n",
    "                                                         .otherwise(df_final.GPM_DESC))\\"
   ]
  },
  {
   "cell_type": "code",
   "execution_count": 188,
   "metadata": {},
   "outputs": [
    {
     "data": {
      "application/vnd.jupyter.widget-view+json": {
       "model_id": "71317844591a42909034da4cb7e03807",
       "version_major": 2,
       "version_minor": 0
      },
      "text/plain": [
       "VBox()"
      ]
     },
     "metadata": {},
     "output_type": "display_data"
    },
    {
     "data": {
      "application/vnd.jupyter.widget-view+json": {
       "model_id": "",
       "version_major": 2,
       "version_minor": 0
      },
      "text/plain": [
       "FloatProgress(value=0.0, bar_style='info', description='Progress:', layout=Layout(height='25px', width='50%'),…"
      ]
     },
     "metadata": {},
     "output_type": "display_data"
    }
   ],
   "source": [
    "df_final = df_final.join(df_tvakt, df_final.ORDER_TYPE==df_tvakt.ORDER_TYPE_COD, how='left')"
   ]
  },
  {
   "cell_type": "code",
   "execution_count": 189,
   "metadata": {},
   "outputs": [
    {
     "data": {
      "application/vnd.jupyter.widget-view+json": {
       "model_id": "514a92831ff54ff49f41722f99be38db",
       "version_major": 2,
       "version_minor": 0
      },
      "text/plain": [
       "VBox()"
      ]
     },
     "metadata": {},
     "output_type": "display_data"
    },
    {
     "data": {
      "application/vnd.jupyter.widget-view+json": {
       "model_id": "",
       "version_major": 2,
       "version_minor": 0
      },
      "text/plain": [
       "FloatProgress(value=0.0, bar_style='info', description='Progress:', layout=Layout(height='25px', width='50%'),…"
      ]
     },
     "metadata": {},
     "output_type": "display_data"
    },
    {
     "name": "stdout",
     "output_type": "stream",
     "text": [
      "DataFrame[SALES_ORG_COD: string, GPD_COD: string, ISSUING_STATE: string, BRANCH: string, GPD_DESC: string, GPM_DESC: string, CUSTOMER_COD: string, CUSTOMER_DESC: string, CUSTOMER_GROUP: string, BILLING_NUMBER: string, BILLING_ITEM: string, BILLING_DATE: string, OV_AJUST: string, SALES_ORDER_DATE: string, SALES_GROUP_DESC: string, ISSUING_CITY: string, MATERIAL_COD: string, SALES_OFFICE_COD: string, MATERIAL_DESC: string, ORDER_TYPE: string, QUANTITY_TON: float, PRACTICED_PRICE: double, RBV: float, RLV: float, ALCADA: double, ZD06: float, ZD13: float, DESVIO_POL: float, DESVIO_POL_REAIS: double, ZD14: float, PRACTICED_PRICE_I: double, PO: float, QUANTITY_TON_BRC: double, QUANTITY_TON_ST: double, PERC_VOL: double, PV_BUDGET: double, PV_DONE: double, FABRICANTE: string, CONFIRMED_ORDER_DATE: string, CREATED_ORDER_DATE: string, ISSUING_DATE: string, ORDER_STATUS: string, TOTAL_WALLET: float, COUNTRY: string, LANGUAGE: string, ORDER_TYPE_DESC: string, ORDER_TYPE_COD: string]"
     ]
    }
   ],
   "source": [
    "df_final.persist(pyspark.StorageLevel.MEMORY_ONLY)"
   ]
  },
  {
   "cell_type": "code",
   "execution_count": 190,
   "metadata": {},
   "outputs": [
    {
     "data": {
      "application/vnd.jupyter.widget-view+json": {
       "model_id": "c87e75727ea34346a11a9d3c3c7e2137",
       "version_major": 2,
       "version_minor": 0
      },
      "text/plain": [
       "VBox()"
      ]
     },
     "metadata": {},
     "output_type": "display_data"
    },
    {
     "data": {
      "application/vnd.jupyter.widget-view+json": {
       "model_id": "",
       "version_major": 2,
       "version_minor": 0
      },
      "text/plain": [
       "FloatProgress(value=0.0, bar_style='info', description='Progress:', layout=Layout(height='25px', width='50%'),…"
      ]
     },
     "metadata": {},
     "output_type": "display_data"
    }
   ],
   "source": [
    "df_final = df_final.drop(\"ORDER_TYPE_COD\"\n",
    "                         ,\"LANGUAGE\")"
   ]
  },
  {
   "cell_type": "code",
   "execution_count": 191,
   "metadata": {},
   "outputs": [
    {
     "data": {
      "application/vnd.jupyter.widget-view+json": {
       "model_id": "0a3670673f494b9f9918641b198b6411",
       "version_major": 2,
       "version_minor": 0
      },
      "text/plain": [
       "VBox()"
      ]
     },
     "metadata": {},
     "output_type": "display_data"
    },
    {
     "data": {
      "application/vnd.jupyter.widget-view+json": {
       "model_id": "",
       "version_major": 2,
       "version_minor": 0
      },
      "text/plain": [
       "FloatProgress(value=0.0, bar_style='info', description='Progress:', layout=Layout(height='25px', width='50%'),…"
      ]
     },
     "metadata": {},
     "output_type": "display_data"
    },
    {
     "name": "stdout",
     "output_type": "stream",
     "text": [
      "<pyspark.sql.readwriter.DataFrameWriter object at 0x7fa20fdb9810>"
     ]
    }
   ],
   "source": [
    "df_final.write.partitionBy(\"GPD_COD\")"
   ]
  },
  {
   "cell_type": "code",
   "execution_count": 192,
   "metadata": {},
   "outputs": [
    {
     "data": {
      "application/vnd.jupyter.widget-view+json": {
       "model_id": "5dcd2aa1297949e2bd69df12d3fa099d",
       "version_major": 2,
       "version_minor": 0
      },
      "text/plain": [
       "VBox()"
      ]
     },
     "metadata": {},
     "output_type": "display_data"
    },
    {
     "data": {
      "application/vnd.jupyter.widget-view+json": {
       "model_id": "",
       "version_major": 2,
       "version_minor": 0
      },
      "text/plain": [
       "FloatProgress(value=0.0, bar_style='info', description='Progress:', layout=Layout(height='25px', width='50%'),…"
      ]
     },
     "metadata": {},
     "output_type": "display_data"
    }
   ],
   "source": [
    "df_final = df_final.repartition(\"GPD_COD\")"
   ]
  },
  {
   "cell_type": "code",
   "execution_count": 193,
   "metadata": {},
   "outputs": [
    {
     "data": {
      "application/vnd.jupyter.widget-view+json": {
       "model_id": "ec95109b1e434eddbe23da12402af0a6",
       "version_major": 2,
       "version_minor": 0
      },
      "text/plain": [
       "VBox()"
      ]
     },
     "metadata": {},
     "output_type": "display_data"
    },
    {
     "data": {
      "application/vnd.jupyter.widget-view+json": {
       "model_id": "",
       "version_major": 2,
       "version_minor": 0
      },
      "text/plain": [
       "FloatProgress(value=0.0, bar_style='info', description='Progress:', layout=Layout(height='25px', width='50%'),…"
      ]
     },
     "metadata": {},
     "output_type": "display_data"
    },
    {
     "name": "stdout",
     "output_type": "stream",
     "text": [
      "DataFrame[SALES_ORG_COD: string, GPD_COD: string, ISSUING_STATE: string, BRANCH: string, GPD_DESC: string, GPM_DESC: string, CUSTOMER_COD: string, CUSTOMER_DESC: string, CUSTOMER_GROUP: string, BILLING_NUMBER: string, BILLING_ITEM: string, BILLING_DATE: string, OV_AJUST: string, SALES_ORDER_DATE: string, SALES_GROUP_DESC: string, ISSUING_CITY: string, MATERIAL_COD: string, SALES_OFFICE_COD: string, MATERIAL_DESC: string, ORDER_TYPE: string, QUANTITY_TON: float, PRACTICED_PRICE: double, RBV: float, RLV: float, ALCADA: double, ZD06: float, ZD13: float, DESVIO_POL: float, DESVIO_POL_REAIS: double, ZD14: float, PRACTICED_PRICE_I: double, PO: float, QUANTITY_TON_BRC: double, QUANTITY_TON_ST: double, PERC_VOL: double, PV_BUDGET: double, PV_DONE: double, FABRICANTE: string, CONFIRMED_ORDER_DATE: string, CREATED_ORDER_DATE: string, ISSUING_DATE: string, ORDER_STATUS: string, TOTAL_WALLET: float, COUNTRY: string, ORDER_TYPE_DESC: string]"
     ]
    }
   ],
   "source": [
    "df_final.persist(pyspark.StorageLevel.MEMORY_ONLY)"
   ]
  },
  {
   "cell_type": "markdown",
   "metadata": {},
   "source": [
    "-------------"
   ]
  },
  {
   "cell_type": "markdown",
   "metadata": {},
   "source": [
    "# Creating Filter table"
   ]
  },
  {
   "cell_type": "code",
   "execution_count": 194,
   "metadata": {},
   "outputs": [
    {
     "data": {
      "application/vnd.jupyter.widget-view+json": {
       "model_id": "ab65d9c77bb3424faf249190074044f7",
       "version_major": 2,
       "version_minor": 0
      },
      "text/plain": [
       "VBox()"
      ]
     },
     "metadata": {},
     "output_type": "display_data"
    },
    {
     "data": {
      "application/vnd.jupyter.widget-view+json": {
       "model_id": "",
       "version_major": 2,
       "version_minor": 0
      },
      "text/plain": [
       "FloatProgress(value=0.0, bar_style='info', description='Progress:', layout=Layout(height='25px', width='50%'),…"
      ]
     },
     "metadata": {},
     "output_type": "display_data"
    }
   ],
   "source": [
    "df_pv_new_filter=df_pv_new_filter.withColumn(\"COUNTRY\", lit(\"Brazil\"))"
   ]
  },
  {
   "cell_type": "code",
   "execution_count": 195,
   "metadata": {},
   "outputs": [
    {
     "data": {
      "application/vnd.jupyter.widget-view+json": {
       "model_id": "55b9dfaddebe45df9963d94572bbfd57",
       "version_major": 2,
       "version_minor": 0
      },
      "text/plain": [
       "VBox()"
      ]
     },
     "metadata": {},
     "output_type": "display_data"
    },
    {
     "data": {
      "application/vnd.jupyter.widget-view+json": {
       "model_id": "",
       "version_major": 2,
       "version_minor": 0
      },
      "text/plain": [
       "FloatProgress(value=0.0, bar_style='info', description='Progress:', layout=Layout(height='25px', width='50%'),…"
      ]
     },
     "metadata": {},
     "output_type": "display_data"
    }
   ],
   "source": [
    "df_filter= df_final.select(df_final.SALES_ORG_COD.alias(\"OV_AJUST\")\n",
    "                           ,df_final.ISSUING_STATE\n",
    "                           ,df_final.BRANCH\n",
    "                           ,df_final.GPD_COD\n",
    "                           ,df_final.COUNTRY\n",
    "                           ,df_final.GPD_DESC\n",
    "                           ,df_final.GPM_DESC\n",
    "                           ,df_final.SALES_OFFICE_COD).unionByName(df_pv_new_filter.select(df_pv_new_filter.SALES_ORG_COD.alias(\"OV_AJUST\")\n",
    "                                                         ,df_pv_new_filter.STATE.alias(\"ISSUING_STATE\")\n",
    "                                                         ,df_pv_new_filter.BRANCH\n",
    "                                                         ,df_pv_new_filter.GPD_COD\n",
    "                                                         ,df_pv_new_filter.GPD_DESC\n",
    "                                                         ,df_pv_new_filter.COUNTRY\n",
    "                                                         ,df_pv_new_filter.GPM_DESC\n",
    "                                                         ,df_pv_new_filter.SALES_OFFICE_COD)).dropDuplicates()"
   ]
  },
  {
   "cell_type": "code",
   "execution_count": 196,
   "metadata": {},
   "outputs": [
    {
     "data": {
      "application/vnd.jupyter.widget-view+json": {
       "model_id": "afa39367694143188e051cb6009555ec",
       "version_major": 2,
       "version_minor": 0
      },
      "text/plain": [
       "VBox()"
      ]
     },
     "metadata": {},
     "output_type": "display_data"
    },
    {
     "data": {
      "application/vnd.jupyter.widget-view+json": {
       "model_id": "",
       "version_major": 2,
       "version_minor": 0
      },
      "text/plain": [
       "FloatProgress(value=0.0, bar_style='info', description='Progress:', layout=Layout(height='25px', width='50%'),…"
      ]
     },
     "metadata": {},
     "output_type": "display_data"
    }
   ],
   "source": [
    "df_pex=df_pex.withColumn(\"COUNTRY\", lit(\"Brazil\"))\\\n",
    "             .withColumn(\"BRANCH\", lit(\"\"))"
   ]
  },
  {
   "cell_type": "code",
   "execution_count": 197,
   "metadata": {},
   "outputs": [
    {
     "data": {
      "application/vnd.jupyter.widget-view+json": {
       "model_id": "c58050a8fbdc4d2fbf97d3ec8ad86e31",
       "version_major": 2,
       "version_minor": 0
      },
      "text/plain": [
       "VBox()"
      ]
     },
     "metadata": {},
     "output_type": "display_data"
    },
    {
     "data": {
      "application/vnd.jupyter.widget-view+json": {
       "model_id": "",
       "version_major": 2,
       "version_minor": 0
      },
      "text/plain": [
       "FloatProgress(value=0.0, bar_style='info', description='Progress:', layout=Layout(height='25px', width='50%'),…"
      ]
     },
     "metadata": {},
     "output_type": "display_data"
    }
   ],
   "source": [
    "df_filter=df_filter.unionByName(df_pex.select(df_pex.SALES_ORG_COD.alias(\"OV_AJUST\")\n",
    "                                              ,df_pex.STATE.alias(\"ISSUING_STATE\")\n",
    "                                              ,df_pex.BRANCH\n",
    "                                              ,df_pex.GPD_COD\n",
    "                                              ,df_pex.DESC_GPD.alias(\"GPD_DESC\")\n",
    "                                              ,df_pex.COUNTRY\n",
    "                                              ,df_pex.DESC_GPM.alias(\"GPM_DESC\")\n",
    "                                              ,df_pex.SALES_OFFICE.alias(\"SALES_OFFICE_COD\"))).dropDuplicates()"
   ]
  },
  {
   "cell_type": "code",
   "execution_count": 198,
   "metadata": {},
   "outputs": [
    {
     "data": {
      "application/vnd.jupyter.widget-view+json": {
       "model_id": "308b65d76e1641bea742d410818b6476",
       "version_major": 2,
       "version_minor": 0
      },
      "text/plain": [
       "VBox()"
      ]
     },
     "metadata": {},
     "output_type": "display_data"
    },
    {
     "data": {
      "application/vnd.jupyter.widget-view+json": {
       "model_id": "",
       "version_major": 2,
       "version_minor": 0
      },
      "text/plain": [
       "FloatProgress(value=0.0, bar_style='info', description='Progress:', layout=Layout(height='25px', width='50%'),…"
      ]
     },
     "metadata": {},
     "output_type": "display_data"
    },
    {
     "name": "stdout",
     "output_type": "stream",
     "text": [
      "DataFrame[OV_AJUST: string, ISSUING_STATE: string, BRANCH: string, GPD_COD: string, COUNTRY: string, GPD_DESC: string, GPM_DESC: string, SALES_OFFICE_COD: string]"
     ]
    }
   ],
   "source": [
    "df_filter.persist(pyspark.StorageLevel.MEMORY_ONLY)"
   ]
  },
  {
   "cell_type": "markdown",
   "metadata": {},
   "source": [
    "# Uploading Table"
   ]
  },
  {
   "cell_type": "code",
   "execution_count": 199,
   "metadata": {},
   "outputs": [
    {
     "data": {
      "application/vnd.jupyter.widget-view+json": {
       "model_id": "0a839efccfee41f7bae775d18b608f9c",
       "version_major": 2,
       "version_minor": 0
      },
      "text/plain": [
       "VBox()"
      ]
     },
     "metadata": {},
     "output_type": "display_data"
    },
    {
     "data": {
      "application/vnd.jupyter.widget-view+json": {
       "model_id": "",
       "version_major": 2,
       "version_minor": 0
      },
      "text/plain": [
       "FloatProgress(value=0.0, bar_style='info', description='Progress:', layout=Layout(height='25px', width='50%'),…"
      ]
     },
     "metadata": {},
     "output_type": "display_data"
    }
   ],
   "source": [
    "df_filter.write.parquet(\"s3a://\"+SPG_OUTPUT_BUCKET+\"/\"+SPG_OUTPUT_BUCKET_FILTER, mode = \"overwrite\")"
   ]
  },
  {
   "cell_type": "code",
   "execution_count": 200,
   "metadata": {},
   "outputs": [
    {
     "data": {
      "application/vnd.jupyter.widget-view+json": {
       "model_id": "2dcfca6b366a4c9794a07b423d107cd7",
       "version_major": 2,
       "version_minor": 0
      },
      "text/plain": [
       "VBox()"
      ]
     },
     "metadata": {},
     "output_type": "display_data"
    },
    {
     "data": {
      "application/vnd.jupyter.widget-view+json": {
       "model_id": "",
       "version_major": 2,
       "version_minor": 0
      },
      "text/plain": [
       "FloatProgress(value=0.0, bar_style='info', description='Progress:', layout=Layout(height='25px', width='50%'),…"
      ]
     },
     "metadata": {},
     "output_type": "display_data"
    },
    {
     "name": "stdout",
     "output_type": "stream",
     "text": [
      "<pyspark.sql.readwriter.DataFrameWriter object at 0x7fa208005e50>"
     ]
    }
   ],
   "source": [
    "df_hana_6Months_branch_ready.write.partitionBy(\"GPD_COD\")"
   ]
  },
  {
   "cell_type": "code",
   "execution_count": 201,
   "metadata": {},
   "outputs": [
    {
     "data": {
      "application/vnd.jupyter.widget-view+json": {
       "model_id": "64ed6762c17b45049bf84541cec6f6a9",
       "version_major": 2,
       "version_minor": 0
      },
      "text/plain": [
       "VBox()"
      ]
     },
     "metadata": {},
     "output_type": "display_data"
    },
    {
     "data": {
      "application/vnd.jupyter.widget-view+json": {
       "model_id": "",
       "version_major": 2,
       "version_minor": 0
      },
      "text/plain": [
       "FloatProgress(value=0.0, bar_style='info', description='Progress:', layout=Layout(height='25px', width='50%'),…"
      ]
     },
     "metadata": {},
     "output_type": "display_data"
    }
   ],
   "source": [
    "df_hana_6Months_branch_ready = df_hana_6Months_branch_ready.repartition(\"GPD_COD\")"
   ]
  },
  {
   "cell_type": "code",
   "execution_count": 202,
   "metadata": {},
   "outputs": [
    {
     "data": {
      "application/vnd.jupyter.widget-view+json": {
       "model_id": "ca748b870072453883bc4b290a55bdb4",
       "version_major": 2,
       "version_minor": 0
      },
      "text/plain": [
       "VBox()"
      ]
     },
     "metadata": {},
     "output_type": "display_data"
    },
    {
     "data": {
      "application/vnd.jupyter.widget-view+json": {
       "model_id": "",
       "version_major": 2,
       "version_minor": 0
      },
      "text/plain": [
       "FloatProgress(value=0.0, bar_style='info', description='Progress:', layout=Layout(height='25px', width='50%'),…"
      ]
     },
     "metadata": {},
     "output_type": "display_data"
    },
    {
     "name": "stdout",
     "output_type": "stream",
     "text": [
      "DataFrame[OV_AJUST: string, GPD_COD: string, BRANCH: string, YEAR_MONTH: string, ISSUING_STATE: string, GPD_DESC: string, GPM_DESC: string, PV_BUDGET: double, PV_DONE: double, QUANTITY_TON_BRC: double, QUANTITY_TON_ST: double, PERC_VOL: double, COUNTRY: string]"
     ]
    }
   ],
   "source": [
    "df_hana_6Months_branch_ready.persist(pyspark.StorageLevel.MEMORY_ONLY)"
   ]
  },
  {
   "cell_type": "code",
   "execution_count": 203,
   "metadata": {},
   "outputs": [
    {
     "data": {
      "application/vnd.jupyter.widget-view+json": {
       "model_id": "2c6663cc1d864da881d08a8fc92200ad",
       "version_major": 2,
       "version_minor": 0
      },
      "text/plain": [
       "VBox()"
      ]
     },
     "metadata": {},
     "output_type": "display_data"
    },
    {
     "data": {
      "application/vnd.jupyter.widget-view+json": {
       "model_id": "",
       "version_major": 2,
       "version_minor": 0
      },
      "text/plain": [
       "FloatProgress(value=0.0, bar_style='info', description='Progress:', layout=Layout(height='25px', width='50%'),…"
      ]
     },
     "metadata": {},
     "output_type": "display_data"
    }
   ],
   "source": [
    "df_hana_6Months_branch_ready.write.parquet(\"s3a://\"+SPG_OUTPUT_BUCKET+\"/\"+SPG_OUTPUT_BUCKET_SALES_PREV_HEAD, mode = \"overwrite\")"
   ]
  },
  {
   "cell_type": "code",
   "execution_count": 204,
   "metadata": {},
   "outputs": [
    {
     "data": {
      "application/vnd.jupyter.widget-view+json": {
       "model_id": "1f88a607be8e452c814c32864eb1bac6",
       "version_major": 2,
       "version_minor": 0
      },
      "text/plain": [
       "VBox()"
      ]
     },
     "metadata": {},
     "output_type": "display_data"
    },
    {
     "data": {
      "application/vnd.jupyter.widget-view+json": {
       "model_id": "",
       "version_major": 2,
       "version_minor": 0
      },
      "text/plain": [
       "FloatProgress(value=0.0, bar_style='info', description='Progress:', layout=Layout(height='25px', width='50%'),…"
      ]
     },
     "metadata": {},
     "output_type": "display_data"
    }
   ],
   "source": [
    "# Volume\n",
    "df_final.write.parquet(\"s3a://\"+SPG_OUTPUT_BUCKET+\"/\"+SPG_OUTPUT_BUCKET_VOLUME, mode = \"overwrite\")"
   ]
  },
  {
   "cell_type": "code",
   "execution_count": null,
   "metadata": {},
   "outputs": [],
   "source": []
  }
 ],
 "metadata": {
  "kernelspec": {
   "display_name": "Python 3 (ipykernel)",
   "language": "python",
   "name": "python3"
  },
  "language_info": {
   "codemirror_mode": {
    "name": "ipython",
    "version": 3
   },
   "file_extension": ".py",
   "mimetype": "text/x-python",
   "name": "python",
   "nbconvert_exporter": "python",
   "pygments_lexer": "ipython3",
   "version": "3.9.12"
  }
 },
 "nbformat": 4,
 "nbformat_minor": 4
}
