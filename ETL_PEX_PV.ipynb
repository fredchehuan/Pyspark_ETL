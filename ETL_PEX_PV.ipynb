{
 "cells": [
  {
   "cell_type": "markdown",
   "metadata": {},
   "source": [
    "# Importing Libraries"
   ]
  },
  {
   "cell_type": "code",
   "execution_count": 108,
   "metadata": {},
   "outputs": [
    {
     "data": {
      "application/vnd.jupyter.widget-view+json": {
       "model_id": "d7afc183fb3546c291fb4ea098dddb2c",
       "version_major": 2,
       "version_minor": 0
      },
      "text/plain": [
       "VBox()"
      ]
     },
     "metadata": {},
     "output_type": "display_data"
    },
    {
     "data": {
      "application/vnd.jupyter.widget-view+json": {
       "model_id": "",
       "version_major": 2,
       "version_minor": 0
      },
      "text/plain": [
       "FloatProgress(value=0.0, bar_style='info', description='Progress:', layout=Layout(height='25px', width='50%'),…"
      ]
     },
     "metadata": {},
     "output_type": "display_data"
    }
   ],
   "source": [
    "#imports Libs\n",
    "\n",
    "import os\n",
    "import pandas as pd\n",
    "import boto3\n",
    "import time\n",
    "from botocore.client import ClientError\n",
    "\n",
    "import pyarrow.parquet as pq\n",
    "import s3fs\n",
    "import calendar\n",
    "\n",
    "import findspark                                              #Import library to Search for Spark Installation  \n",
    "\n",
    "findspark.init()                                              #Search Spark Installation\n",
    "\n",
    "import pyspark                                                #Only run after findspark.init()\n",
    "\n",
    "from pyspark.sql import SparkSession                          #Import of Spark Session\n",
    "from pyspark import SparkContext as spark                     #Import the Regular Spark Contex \n",
    "from pyspark.sql import SQLContext                            #Import the SQL Spark Contex\n",
    "from pyspark.sql.functions import *\n",
    "from pyspark.sql.types import *\n",
    "spark = SparkSession.builder.getOrCreate()\n",
    "\n",
    "sc = spark.sparkContext                                       #Initialize Spark"
   ]
  },
  {
   "cell_type": "markdown",
   "metadata": {},
   "source": [
    "----------------"
   ]
  },
  {
   "cell_type": "markdown",
   "metadata": {},
   "source": [
    "# Creating Variables"
   ]
  },
  {
   "cell_type": "markdown",
   "metadata": {},
   "source": [
    "## Database"
   ]
  },
  {
   "cell_type": "code",
   "execution_count": null,
   "metadata": {},
   "outputs": [],
   "source": [
    "ATHENA_SPG = os.environ['SPG_DATABASE']"
   ]
  },
  {
   "cell_type": "code",
   "execution_count": null,
   "metadata": {},
   "outputs": [],
   "source": [
    "ATHENA_BW = os.environ['GERDAU_BW_DATABASE']"
   ]
  },
  {
   "cell_type": "markdown",
   "metadata": {},
   "source": [
    "## Buckets"
   ]
  },
  {
   "cell_type": "code",
   "execution_count": null,
   "metadata": {},
   "outputs": [],
   "source": [
    "SPG_MANUAL_INPUT_BUCKET = os.environ['MANUAL_INPUT_BUCKET']"
   ]
  },
  {
   "cell_type": "code",
   "execution_count": null,
   "metadata": {},
   "outputs": [],
   "source": [
    "SPG_INTEGRATION_INPUT_BUCKET = os.environ['INTEGRATION_INPUT_BUCKET']"
   ]
  },
  {
   "cell_type": "code",
   "execution_count": null,
   "metadata": {},
   "outputs": [],
   "source": [
    "SPG_QUERY_BUCKET = os.environ['QUERY_BUCKET']"
   ]
  },
  {
   "cell_type": "code",
   "execution_count": null,
   "metadata": {},
   "outputs": [],
   "source": [
    "GERDAU_BUCKET = os.environ['GERDAU_BUCKET']"
   ]
  },
  {
   "cell_type": "code",
   "execution_count": null,
   "metadata": {},
   "outputs": [],
   "source": [
    "SPG_OUTPUT_BUCKET = os.environ['OUTPUT_BUCKET']"
   ]
  },
  {
   "cell_type": "code",
   "execution_count": null,
   "metadata": {},
   "outputs": [],
   "source": [
    "SPG_INPUT_BUCKET = os.environ['INPUT_BUCKET_FROM_OUTPUT']"
   ]
  },
  {
   "cell_type": "markdown",
   "metadata": {},
   "source": [
    "## Input Paths"
   ]
  },
  {
   "cell_type": "code",
   "execution_count": null,
   "metadata": {},
   "outputs": [],
   "source": [
    "# Reading temporary CSV file from the SandBox Data Lake\n",
    "SPG_MANUAL_INPUT_BUCKET_PV = \"SPG_GLOBAL/INPUT/tb_spg_support_pv_all_next.csv\""
   ]
  },
  {
   "cell_type": "code",
   "execution_count": null,
   "metadata": {},
   "outputs": [],
   "source": [
    "# Reading temporary CSV file from the SandBox Data Lake\n",
    "SPG_MANUAL_INPUT_BUCKET_PEX = \"SPG_GLOBAL/SUPPORT/tb_spg_support_pex.csv\""
   ]
  },
  {
   "cell_type": "code",
   "execution_count": null,
   "metadata": {},
   "outputs": [],
   "source": [
    "SPG_INPUT_BUCKET_TEMP = \"SPG_TEMP/tb_SPG_TEMP.parquet\""
   ]
  },
  {
   "cell_type": "code",
   "execution_count": null,
   "metadata": {},
   "outputs": [],
   "source": [
    "# SPG Products\n",
    "SPG_INTEGRATION_INPUT_BUCKET_PRODUCTS = \"SPG_DIMENSIONS/SPG_PRODUTOS/SPG_PD_PRODUTOS.parquet\""
   ]
  },
  {
   "cell_type": "code",
   "execution_count": null,
   "metadata": {},
   "outputs": [],
   "source": [
    "# Query View\n",
    "\n",
    "QUERY_PEX_PV = \"SELECT * FROM db_bw.tb_global_pv_pex_parquet\""
   ]
  },
  {
   "cell_type": "markdown",
   "metadata": {},
   "source": [
    "## Output Paths"
   ]
  },
  {
   "cell_type": "code",
   "execution_count": null,
   "metadata": {},
   "outputs": [],
   "source": [
    "SPG_OUTPUT_BUCKET_TEMP = \"SPG_TEMP/tb_SPG_TEMP.parquet\""
   ]
  },
  {
   "cell_type": "code",
   "execution_count": null,
   "metadata": {},
   "outputs": [],
   "source": [
    "SPG_OUTPUT_BUCKET_PV = \"SPG_GLOBAL/SUPPORT/TB_SPG_SUPPORT_PV.parquet\""
   ]
  },
  {
   "cell_type": "code",
   "execution_count": null,
   "metadata": {},
   "outputs": [],
   "source": [
    "SPG_OUTPUT_BUCKET_PEX = \"SPG_GLOBAL/SUPPORT/TB_SPG_SUPPORT_PEX.parquet\""
   ]
  },
  {
   "cell_type": "markdown",
   "metadata": {},
   "source": [
    "## Bato3 Variables"
   ]
  },
  {
   "cell_type": "code",
   "execution_count": null,
   "metadata": {},
   "outputs": [],
   "source": [
    "#S3 Configuration\n",
    "S3_ATHENA_INPUT =  's3://'+SPG_QUERY_BUCKET+'/'+SPG_QUERY_BUCKET_ATHENA"
   ]
  },
  {
   "cell_type": "code",
   "execution_count": null,
   "metadata": {},
   "outputs": [],
   "source": [
    "S3_ATHENA_OUTPUT = 's3://'+SPG_QUERY_BUCKET+'/'+SPG_QUERY_BUCKET_ATHENA"
   ]
  },
  {
   "cell_type": "code",
   "execution_count": null,
   "metadata": {},
   "outputs": [],
   "source": [
    "region_name = os.environ['AWS_REGION']"
   ]
  },
  {
   "cell_type": "code",
   "execution_count": null,
   "metadata": {},
   "outputs": [],
   "source": [
    "aws_access_key_id = os.environ['AWS_ACCESS_KEY']"
   ]
  },
  {
   "cell_type": "code",
   "execution_count": null,
   "metadata": {},
   "outputs": [],
   "source": [
    "aws_secret_access_key = os.environ['AWS_SECRET_KEY']"
   ]
  },
  {
   "cell_type": "code",
   "execution_count": null,
   "metadata": {},
   "outputs": [],
   "source": []
  },
  {
   "cell_type": "markdown",
   "metadata": {},
   "source": [
    "-------------"
   ]
  },
  {
   "cell_type": "markdown",
   "metadata": {},
   "source": [
    "# Creating Defined Functions"
   ]
  },
  {
   "cell_type": "code",
   "execution_count": null,
   "metadata": {},
   "outputs": [],
   "source": [
    "# Run Query\n",
    "\n",
    "def run_query(query, database, s3_output):\n",
    "    response = client.start_query_execution(\n",
    "        QueryString=query,\n",
    "        QueryExecutionContext={\n",
    "            'Database': database\n",
    "            },\n",
    "        ResultConfiguration={\n",
    "            'OutputLocation': s3_output,\n",
    "            }\n",
    "        )\n",
    "    return response"
   ]
  },
  {
   "cell_type": "code",
   "execution_count": null,
   "metadata": {},
   "outputs": [],
   "source": [
    "def get_aws_path(query,database,s3_output):\n",
    "    response = run_query(query, database, s3_output)\n",
    "    file_query = response['QueryExecutionId']\n",
    "    file_metadata = response['QueryExecutionId'] + '.metadata'\n",
    "    return file_query"
   ]
  },
  {
   "cell_type": "code",
   "execution_count": null,
   "metadata": {},
   "outputs": [],
   "source": [
    "# Wating for 300 seconds until the end of the upload\n",
    "\n",
    "def wait_athena_load(Bucket, Key):\n",
    "    time_to_wait = 300\n",
    "    time_counter = 0\n",
    "\n",
    "    while True:\n",
    "        try:\n",
    "            s3.meta.client.head_object(Bucket=Bucket,Key=Key)\n",
    "        except ClientError:\n",
    "            time.sleep(1)\n",
    "            time_counter += 1\n",
    "            if time_counter > time_to_wait:\n",
    "                break\n",
    "        else:\n",
    "            break"
   ]
  },
  {
   "cell_type": "code",
   "execution_count": 145,
   "metadata": {},
   "outputs": [
    {
     "data": {
      "application/vnd.jupyter.widget-view+json": {
       "model_id": "3c328aa1b68349e29d02121d17ffa9e2",
       "version_major": 2,
       "version_minor": 0
      },
      "text/plain": [
       "VBox()"
      ]
     },
     "metadata": {},
     "output_type": "display_data"
    },
    {
     "data": {
      "application/vnd.jupyter.widget-view+json": {
       "model_id": "",
       "version_major": 2,
       "version_minor": 0
      },
      "text/plain": [
       "FloatProgress(value=0.0, bar_style='info', description='Progress:', layout=Layout(height='25px', width='50%'),…"
      ]
     },
     "metadata": {},
     "output_type": "display_data"
    }
   ],
   "source": [
    "# Replacing Characters\n",
    "\n",
    "def normalizing_characters(col_name):\n",
    "    removed_array = [(',', '.')]\n",
    "    r = col_name\n",
    "    for a, b in removed_array:\n",
    "        r = regexp_replace(r, a, b)\n",
    "    return r"
   ]
  },
  {
   "cell_type": "code",
   "execution_count": 146,
   "metadata": {},
   "outputs": [
    {
     "data": {
      "application/vnd.jupyter.widget-view+json": {
       "model_id": "b036164a61754e83a135991b8f2357d2",
       "version_major": 2,
       "version_minor": 0
      },
      "text/plain": [
       "VBox()"
      ]
     },
     "metadata": {},
     "output_type": "display_data"
    },
    {
     "data": {
      "application/vnd.jupyter.widget-view+json": {
       "model_id": "",
       "version_major": 2,
       "version_minor": 0
      },
      "text/plain": [
       "FloatProgress(value=0.0, bar_style='info', description='Progress:', layout=Layout(height='25px', width='50%'),…"
      ]
     },
     "metadata": {},
     "output_type": "display_data"
    }
   ],
   "source": [
    "# Replacing Characters\n",
    "\n",
    "def normalizing_characters_2(col_name):\n",
    "    removed_array = [(' ', '')]\n",
    "    r = col_name\n",
    "    for a, b in removed_array:\n",
    "        r = regexp_replace(r, a, b)\n",
    "    return r"
   ]
  },
  {
   "cell_type": "markdown",
   "metadata": {},
   "source": [
    "-----------"
   ]
  },
  {
   "cell_type": "markdown",
   "metadata": {},
   "source": [
    "# Configuring Boto3 Connection"
   ]
  },
  {
   "cell_type": "code",
   "execution_count": 141,
   "metadata": {},
   "outputs": [
    {
     "data": {
      "application/vnd.jupyter.widget-view+json": {
       "model_id": "6e3d5775c6b24df5b48739fc8355a627",
       "version_major": 2,
       "version_minor": 0
      },
      "text/plain": [
       "VBox()"
      ]
     },
     "metadata": {},
     "output_type": "display_data"
    },
    {
     "data": {
      "application/vnd.jupyter.widget-view+json": {
       "model_id": "",
       "version_major": 2,
       "version_minor": 0
      },
      "text/plain": [
       "FloatProgress(value=0.0, bar_style='info', description='Progress:', layout=Layout(height='25px', width='50%'),…"
      ]
     },
     "metadata": {},
     "output_type": "display_data"
    }
   ],
   "source": [
    "#Athena Client Configuration\n",
    "\n",
    "client = boto3.client('athena', \n",
    "    aws_access_key_id = aws_access_key_id, \n",
    "    aws_secret_access_key = aws_secret_access_key, \n",
    "    region_name = region_name )"
   ]
  },
  {
   "cell_type": "code",
   "execution_count": 142,
   "metadata": {},
   "outputs": [
    {
     "data": {
      "application/vnd.jupyter.widget-view+json": {
       "model_id": "f9f4b3396cbc4d3b8afb89d50bad9248",
       "version_major": 2,
       "version_minor": 0
      },
      "text/plain": [
       "VBox()"
      ]
     },
     "metadata": {},
     "output_type": "display_data"
    },
    {
     "data": {
      "application/vnd.jupyter.widget-view+json": {
       "model_id": "",
       "version_major": 2,
       "version_minor": 0
      },
      "text/plain": [
       "FloatProgress(value=0.0, bar_style='info', description='Progress:', layout=Layout(height='25px', width='50%'),…"
      ]
     },
     "metadata": {},
     "output_type": "display_data"
    }
   ],
   "source": [
    "#S3 Resource Configuration\n",
    "\n",
    "s3 = boto3.resource('s3',\n",
    "    aws_access_key_id = aws_access_key_id,\n",
    "    aws_secret_access_key = aws_secret_access_key,\n",
    "    region_name = region_name)"
   ]
  },
  {
   "cell_type": "markdown",
   "metadata": {},
   "source": [
    "------------------"
   ]
  },
  {
   "cell_type": "markdown",
   "metadata": {},
   "source": [
    "# Importing Tables "
   ]
  },
  {
   "cell_type": "code",
   "execution_count": null,
   "metadata": {},
   "outputs": [],
   "source": [
    "# Reading temporary CSV file from the SandBox Data Lake\n",
    "df_pv_futuro = spark.read.format(\"csv\").option(\"header\",\"true\").option(\"sep\",\";\").option(\"encoding\", \"ISO-8859-1\").load(\"s3a://\"+SPG_MANUAL_INPUT_BUCKET+\"/\"+SPG_MANUAL_INPUT_BUCKET_PV)"
   ]
  },
  {
   "cell_type": "code",
   "execution_count": null,
   "metadata": {},
   "outputs": [],
   "source": [
    "df_pv_futuro.write.partitionBy(144);\n",
    "df_pv_futuro = df_pv_futuro.repartition(144);\n",
    "df_pv_futuro.persist(pyspark.StorageLevel.MEMORY_ONLY)"
   ]
  },
  {
   "cell_type": "code",
   "execution_count": null,
   "metadata": {},
   "outputs": [],
   "source": [
    "# Reading temporary CSV file from the SandBox Data Lake\n",
    "df_pex = spark.read.format(\"csv\").option(\"header\",\"true\").option(\"sep\",\";\").option(\"encoding\", \"ISO-8859-1\").load(\"s3a://\"+SPG_MANUAL_INPUT_BUCKET+\"/\"+SPG_MANUAL_INPUT_BUCKET_PEX)"
   ]
  },
  {
   "cell_type": "code",
   "execution_count": null,
   "metadata": {},
   "outputs": [],
   "source": [
    "df_pex.write.partitionBy(144);\n",
    "df_pex = df_pex.repartition(144);\n",
    "df_pex.persist(pyspark.StorageLevel.MEMORY_ONLY)"
   ]
  },
  {
   "cell_type": "code",
   "execution_count": null,
   "metadata": {},
   "outputs": [],
   "source": [
    "# SPG Products\n",
    "df_products = spark.read.parquet(\"s3a://\"+SPG_INTEGRATION_INPUT_BUCKET+\"/\"+SPG_INTEGRATION_INPUT_BUCKET_PRODUCTS)"
   ]
  },
  {
   "cell_type": "code",
   "execution_count": null,
   "metadata": {},
   "outputs": [],
   "source": [
    "df_products.write.partitionBy(144);\n",
    "df_products = df_products.repartition(144);\n",
    "df_products.persist(pyspark.StorageLevel.MEMORY_ONLY)"
   ]
  },
  {
   "cell_type": "code",
   "execution_count": null,
   "metadata": {},
   "outputs": [],
   "source": [
    "# Import CSV from View\n",
    "\n",
    "athena_response = get_aws_path(QUERY_PEX_PV,ATHENA_SPG,S3_ATHENA_OUTPUT)\n",
    "\n",
    "wait_athena_load(SPG_QUERY_BUCKET, SPG_QUERY_BUCKET_ATHENA+\"/\"+athena_response+\".csv\")"
   ]
  },
  {
   "cell_type": "code",
   "execution_count": null,
   "metadata": {},
   "outputs": [],
   "source": [
    "# Import CSV from View\n",
    "\n",
    "df_view = spark.read.csv(view_path, header = 'true')"
   ]
  },
  {
   "cell_type": "code",
   "execution_count": null,
   "metadata": {},
   "outputs": [],
   "source": [
    "df_view.write.partitionBy(144);\n",
    "df_view = df_view.repartition(144);\n",
    "df_view.persist(pyspark.StorageLevel.MEMORY_ONLY)"
   ]
  },
  {
   "cell_type": "markdown",
   "metadata": {},
   "source": [
    "----------------"
   ]
  },
  {
   "cell_type": "markdown",
   "metadata": {},
   "source": [
    "# Preparing SPG PV"
   ]
  },
  {
   "cell_type": "code",
   "execution_count": 151,
   "metadata": {
    "scrolled": true
   },
   "outputs": [
    {
     "data": {
      "application/vnd.jupyter.widget-view+json": {
       "model_id": "1b2fa32fb1c442329b4793450b96950c",
       "version_major": 2,
       "version_minor": 0
      },
      "text/plain": [
       "VBox()"
      ]
     },
     "metadata": {},
     "output_type": "display_data"
    },
    {
     "data": {
      "application/vnd.jupyter.widget-view+json": {
       "model_id": "",
       "version_major": 2,
       "version_minor": 0
      },
      "text/plain": [
       "FloatProgress(value=0.0, bar_style='info', description='Progress:', layout=Layout(height='25px', width='50%'),…"
      ]
     },
     "metadata": {},
     "output_type": "display_data"
    }
   ],
   "source": [
    "df_pv_futuro = df_pv_futuro.withColumn(\"VOLUME\", normalizing_characters_2(normalizing_characters(col(\"VOLUME\"))))"
   ]
  },
  {
   "cell_type": "code",
   "execution_count": 152,
   "metadata": {},
   "outputs": [
    {
     "data": {
      "application/vnd.jupyter.widget-view+json": {
       "model_id": "48bf214b5b304f12911c5c69c7f0c170",
       "version_major": 2,
       "version_minor": 0
      },
      "text/plain": [
       "VBox()"
      ]
     },
     "metadata": {},
     "output_type": "display_data"
    },
    {
     "data": {
      "application/vnd.jupyter.widget-view+json": {
       "model_id": "",
       "version_major": 2,
       "version_minor": 0
      },
      "text/plain": [
       "FloatProgress(value=0.0, bar_style='info', description='Progress:', layout=Layout(height='25px', width='50%'),…"
      ]
     },
     "metadata": {},
     "output_type": "display_data"
    }
   ],
   "source": [
    "df_pv_futuro=df_pv_futuro.withColumn(\"CURRENT_DATE\", concat(year(date_add(current_timestamp(),-1))\n",
    "                                                          ,when(month(date_add(current_timestamp(),-1)) >= \"10\", month(date_add(current_timestamp(),-1)))\n",
    "                                                               .otherwise(concat(lit(\"0\")\n",
    "                                                                                ,month(date_add(current_timestamp(),-1))))))\\"
   ]
  },
  {
   "cell_type": "code",
   "execution_count": 153,
   "metadata": {},
   "outputs": [
    {
     "data": {
      "application/vnd.jupyter.widget-view+json": {
       "model_id": "68f0d5bdc2ad4edbad72fba67764cd1a",
       "version_major": 2,
       "version_minor": 0
      },
      "text/plain": [
       "VBox()"
      ]
     },
     "metadata": {},
     "output_type": "display_data"
    },
    {
     "data": {
      "application/vnd.jupyter.widget-view+json": {
       "model_id": "",
       "version_major": 2,
       "version_minor": 0
      },
      "text/plain": [
       "FloatProgress(value=0.0, bar_style='info', description='Progress:', layout=Layout(height='25px', width='50%'),…"
      ]
     },
     "metadata": {},
     "output_type": "display_data"
    }
   ],
   "source": [
    "df_pv_futuro=df_pv_futuro.filter((df_pv_futuro[\"MONTH_YEAR\"] > df_pv_futuro[\"CURRENT_DATE\"]))\\\n",
    "                          .drop(\"CURRENT_DATE\")"
   ]
  },
  {
   "cell_type": "code",
   "execution_count": 154,
   "metadata": {},
   "outputs": [
    {
     "data": {
      "application/vnd.jupyter.widget-view+json": {
       "model_id": "e8e28c6ec1ca4f66b3396ccc62ec4fb9",
       "version_major": 2,
       "version_minor": 0
      },
      "text/plain": [
       "VBox()"
      ]
     },
     "metadata": {},
     "output_type": "display_data"
    },
    {
     "data": {
      "application/vnd.jupyter.widget-view+json": {
       "model_id": "",
       "version_major": 2,
       "version_minor": 0
      },
      "text/plain": [
       "FloatProgress(value=0.0, bar_style='info', description='Progress:', layout=Layout(height='25px', width='50%'),…"
      ]
     },
     "metadata": {},
     "output_type": "display_data"
    }
   ],
   "source": [
    "# SPG Support PV\n",
    "df_pv = spark.read.parquet(\"s3a://smartpricinggerdaubucket/SPG_GLOBAL/SUPPORT/TB_SPG_SUPPORT_PV.parquet\")"
   ]
  },
  {
   "cell_type": "code",
   "execution_count": 155,
   "metadata": {},
   "outputs": [
    {
     "data": {
      "application/vnd.jupyter.widget-view+json": {
       "model_id": "a63d99c0daa942cc9fd857627ca1e218",
       "version_major": 2,
       "version_minor": 0
      },
      "text/plain": [
       "VBox()"
      ]
     },
     "metadata": {},
     "output_type": "display_data"
    },
    {
     "data": {
      "application/vnd.jupyter.widget-view+json": {
       "model_id": "",
       "version_major": 2,
       "version_minor": 0
      },
      "text/plain": [
       "FloatProgress(value=0.0, bar_style='info', description='Progress:', layout=Layout(height='25px', width='50%'),…"
      ]
     },
     "metadata": {},
     "output_type": "display_data"
    }
   ],
   "source": [
    "df_pv=df_pv.withColumn(\"CURRENT_DATE\", concat(year(date_add(current_timestamp(),-1))\n",
    "                                              ,when(month(date_add(current_timestamp(),-1)) >= \"10\", month(date_add(current_timestamp(),-1)))\n",
    "                                                   .otherwise(concat(lit(\"0\")\n",
    "                                                                    ,month(date_add(current_timestamp(),-1))))))\\"
   ]
  },
  {
   "cell_type": "code",
   "execution_count": 156,
   "metadata": {},
   "outputs": [
    {
     "data": {
      "application/vnd.jupyter.widget-view+json": {
       "model_id": "9a311fe9c70d4398af426288cb676a64",
       "version_major": 2,
       "version_minor": 0
      },
      "text/plain": [
       "VBox()"
      ]
     },
     "metadata": {},
     "output_type": "display_data"
    },
    {
     "data": {
      "application/vnd.jupyter.widget-view+json": {
       "model_id": "",
       "version_major": 2,
       "version_minor": 0
      },
      "text/plain": [
       "FloatProgress(value=0.0, bar_style='info', description='Progress:', layout=Layout(height='25px', width='50%'),…"
      ]
     },
     "metadata": {},
     "output_type": "display_data"
    }
   ],
   "source": [
    "df_pv=df_pv.filter((df_pv[\"MONTH_YEAR\"] < df_pv[\"CURRENT_DATE\"]))\\\n",
    "                  .drop(\"CURRENT_DATE\")"
   ]
  },
  {
   "cell_type": "code",
   "execution_count": 157,
   "metadata": {},
   "outputs": [
    {
     "data": {
      "application/vnd.jupyter.widget-view+json": {
       "model_id": "34138e31c9b44d6d8f2adc73ccca6369",
       "version_major": 2,
       "version_minor": 0
      },
      "text/plain": [
       "VBox()"
      ]
     },
     "metadata": {},
     "output_type": "display_data"
    },
    {
     "data": {
      "application/vnd.jupyter.widget-view+json": {
       "model_id": "",
       "version_major": 2,
       "version_minor": 0
      },
      "text/plain": [
       "FloatProgress(value=0.0, bar_style='info', description='Progress:', layout=Layout(height='25px', width='50%'),…"
      ]
     },
     "metadata": {},
     "output_type": "display_data"
    }
   ],
   "source": [
    "df_pv = df_pv.select(\"MEASURE_UNIT\", \"MONTH_YEAR\", \"STATE\", \"GPD_COD\", \"SALES_ORG_COD\", \"SALES_OFFICE\", \"VOLUME\")\\"
   ]
  },
  {
   "cell_type": "code",
   "execution_count": 158,
   "metadata": {},
   "outputs": [
    {
     "data": {
      "application/vnd.jupyter.widget-view+json": {
       "model_id": "7360df35e1184032bccaef200d3b754c",
       "version_major": 2,
       "version_minor": 0
      },
      "text/plain": [
       "VBox()"
      ]
     },
     "metadata": {},
     "output_type": "display_data"
    },
    {
     "data": {
      "application/vnd.jupyter.widget-view+json": {
       "model_id": "",
       "version_major": 2,
       "version_minor": 0
      },
      "text/plain": [
       "FloatProgress(value=0.0, bar_style='info', description='Progress:', layout=Layout(height='25px', width='50%'),…"
      ]
     },
     "metadata": {},
     "output_type": "display_data"
    }
   ],
   "source": [
    "df_pv = df_pv.withColumn(\"VOLUME\", normalizing_characters_2(normalizing_characters(col(\"VOLUME\"))))"
   ]
  },
  {
   "cell_type": "code",
   "execution_count": 159,
   "metadata": {},
   "outputs": [
    {
     "data": {
      "application/vnd.jupyter.widget-view+json": {
       "model_id": "3f8bfe5dcf924eb195e58a2a0038b3b1",
       "version_major": 2,
       "version_minor": 0
      },
      "text/plain": [
       "VBox()"
      ]
     },
     "metadata": {},
     "output_type": "display_data"
    },
    {
     "data": {
      "application/vnd.jupyter.widget-view+json": {
       "model_id": "",
       "version_major": 2,
       "version_minor": 0
      },
      "text/plain": [
       "FloatProgress(value=0.0, bar_style='info', description='Progress:', layout=Layout(height='25px', width='50%'),…"
      ]
     },
     "metadata": {},
     "output_type": "display_data"
    }
   ],
   "source": [
    "df_pv=df_pv.unionByName(df_pv_futuro).dropDuplicates()"
   ]
  },
  {
   "cell_type": "markdown",
   "metadata": {},
   "source": [
    "--------------"
   ]
  },
  {
   "cell_type": "markdown",
   "metadata": {},
   "source": [
    "# Preparing Products"
   ]
  },
  {
   "cell_type": "code",
   "execution_count": 161,
   "metadata": {
    "scrolled": true
   },
   "outputs": [
    {
     "data": {
      "application/vnd.jupyter.widget-view+json": {
       "model_id": "2b96a0b89a7f48bd8847f92a91e589d7",
       "version_major": 2,
       "version_minor": 0
      },
      "text/plain": [
       "VBox()"
      ]
     },
     "metadata": {},
     "output_type": "display_data"
    },
    {
     "data": {
      "application/vnd.jupyter.widget-view+json": {
       "model_id": "",
       "version_major": 2,
       "version_minor": 0
      },
      "text/plain": [
       "FloatProgress(value=0.0, bar_style='info', description='Progress:', layout=Layout(height='25px', width='50%'),…"
      ]
     },
     "metadata": {},
     "output_type": "display_data"
    }
   ],
   "source": [
    "df_products = df_products.select(\"COD_GPD\", \"DESC_GPD\", \"DESC_GPM\", \"SALES_ORG_COD\")\\\n",
    "                         .filter(~df_products.DESC_GPD.isNull())\\\n",
    "                         .filter(~df_products.DESC_GPM.isNull())\\\n",
    "                         .dropDuplicates([\"COD_GPD\",\"SALES_ORG_COD\"])"
   ]
  },
  {
   "cell_type": "code",
   "execution_count": 162,
   "metadata": {},
   "outputs": [
    {
     "data": {
      "application/vnd.jupyter.widget-view+json": {
       "model_id": "021006ee1733494891eaae325b275ea7",
       "version_major": 2,
       "version_minor": 0
      },
      "text/plain": [
       "VBox()"
      ]
     },
     "metadata": {},
     "output_type": "display_data"
    },
    {
     "data": {
      "application/vnd.jupyter.widget-view+json": {
       "model_id": "",
       "version_major": 2,
       "version_minor": 0
      },
      "text/plain": [
       "FloatProgress(value=0.0, bar_style='info', description='Progress:', layout=Layout(height='25px', width='50%'),…"
      ]
     },
     "metadata": {},
     "output_type": "display_data"
    }
   ],
   "source": [
    "#choosing specifics GPD's (business call)\n",
    "df_products = df_products.filter(df_products.DESC_GPD.like('%BR-PERFIS ESTRUTURAIS%') |\n",
    "                        df_products.DESC_GPD.like('%BR-CA50%') |\n",
    "                        df_products.DESC_GPD.like('%BR-CA60%') |\n",
    "                        df_products.DESC_GPD.like('%BR-RECOZIDO%') |\n",
    "                        df_products.DESC_GPD.like('%BR-TEL TUBO%') |\n",
    "                        df_products.DESC_GPD.like('%BR-TELA P/ CONCRETO%') |\n",
    "                        df_products.DESC_GPD.like('%BR-CORTE E DOBR%') |\n",
    "                        df_products.DESC_GPD.like('%BR-CONSTRUCAO CIVIL%') |\n",
    "                        df_products.DESC_GPD.like('%BR-CA25%') |\n",
    "                        df_products.DESC_GPD.like('%BR-PERFIS COMERCIAIS%') |\n",
    "                        df_products.DESC_GPD.like('%BR-BTG%') |\n",
    "                        df_products.DESC_GPD.like('%BR-MALHA POP%') |\n",
    "                        df_products.DESC_GPD.like('%BR-TELA COLUNA%') |\n",
    "                        df_products.DESC_GPD.like('%BR-TRELIÇA%') |\n",
    "                        df_products.DESC_GPD.like('%BR-B.TREFILADA%') |\n",
    "                        df_products.DESC_GPD.like('%BR-OVALADO%') |\n",
    "                        df_products.DESC_GPD.like('%BR-GALVANIZADO%') |\n",
    "                        df_products.DESC_GPD.like('%BR-BARRAS COMERCIAIS%') |\n",
    "                        df_products.DESC_GPD.like('%BR-CAIXOTARIA%') |\n",
    "                        df_products.DESC_GPD.like('%BR-ARTEFATOS%') |\n",
    "                        df_products.DESC_GPD.like('%BR-FARPADO%') |\n",
    "                        df_products.DESC_GPD.like('%BR-ELETRODO%') |\n",
    "                        df_products.DESC_GPD.like('%BR-SOLDA - MIG%') |\n",
    "                        df_products.DESC_GPD.like('%BR-CANTON A572%') |\n",
    "                        df_products.DESC_GPD.like('%BR-GGS%') |\n",
    "                        df_products.DESC_GPD.like('%BR-ARMADO%') |\n",
    "                        df_products.DESC_GPD.like('%BR-CORDOALHA%') |\n",
    "                        df_products.DESC_GPD.like('%BR-ESTACA PRANCHA%') |\n",
    "                        df_products.DESC_GPD.like('%BR-ARAME PREGO%') |\n",
    "                        df_products.DESC_GPD.like('%BR-CABEÇA DUPLA%') |\n",
    "                        df_products.DESC_GPD.like('%BR-CORDOALHA AGRO%') |\n",
    "                        df_products.DESC_GPD.like('%BR-GRAMPO%') |\n",
    "                        df_products.DESC_GPD.like('%BR-COBREADOS%') |\n",
    "                        df_products.DESC_GPD.like('%BR-CHAPA LQ%') |\n",
    "                        df_products.DESC_GPD.like('%BR-UDC%') |\n",
    "                        df_products.DESC_GPD.like('%BR-CHAPA ZN%') |\n",
    "                        df_products.DESC_GPD.like('%BR-TELHA AZ%') |\n",
    "                        df_products.DESC_GPD.like('%BR-TUBO ZN%') |\n",
    "                        df_products.DESC_GPD.like('%BR-MARCENARIA%') |\n",
    "                        df_products.DESC_GPD.like('%BR-PREGOES%') |\n",
    "                        df_products.DESC_GPD.like('%BR-TELHEIRO%') |\n",
    "                        df_products.DESC_GPD.like('%BR-COLUNA%') |\n",
    "                        df_products.DESC_GPD.like('%BR-ESTRIBO%') |\n",
    "                        df_products.DESC_GPD.like('%BR-ACESSORIOS%') |\n",
    "                        df_products.DESC_GPD.like('%BR-CHAPA LCG%') |\n",
    "                        df_products.DESC_GPD.like('%BR-CHAPA LF%') |\n",
    "                        df_products.DESC_GPD.like('%BR-TUBO LF%') |\n",
    "                        df_products.DESC_GPD.like('%BR-CHAPA LQ PISO%') |\n",
    "                        df_products.DESC_GPD.like('%BR-BOBININHA%') |\n",
    "                        df_products.DESC_GPD.like('%BR-ESPECIAIS%') |\n",
    "                        df_products.DESC_GPD.like('%BR-BOBINA LQ%') |\n",
    "                        df_products.DESC_GPD.like('%BR-FITA LQ%') |\n",
    "                        df_products.DESC_GPD.like('%BR-BOBINA AZ%') |\n",
    "                        df_products.DESC_GPD.like('%BR-AÇOS ESPECIAIS%') |\n",
    "                        df_products.DESC_GPD.like('%BR-PARAFUSOS%') |\n",
    "                        df_products.DESC_GPD.like('%BR-CIMENTO%') |\n",
    "                        df_products.DESC_GPD.like('%BR-TUBO LQ%') |\n",
    "                        df_products.DESC_GPD.like('%BR-TELHA ZN%') |\n",
    "                        df_products.DESC_GPD.like('%BR-BTC GLV CP%') |\n",
    "                        df_products.DESC_GPD.like('%BR-BOBINA ZN%') |\n",
    "                        df_products.DESC_GPD.like('%BR-S-BARRA LAMINADA MÉDIA%') |\n",
    "                        df_products.DESC_GPD.like('%BR-S-BARRA LAMINADA PESADA%') |\n",
    "                        df_products.DESC_GPD.like('%BR-FITA LF%') |\n",
    "                        df_products.DESC_GPD.like('%BR-FITA AZ%') |\n",
    "                        df_products.DESC_GPD.like('%BR-S-BARRA LAMINADA LEVE%') |\n",
    "                        df_products.DESC_GPD.like('%BR-ALAMBRADO%') |\n",
    "                        df_products.DESC_GPD.like('%BR-SAPATA%') |\n",
    "                        df_products.DESC_GPD.like('%BR-MOURÃO%') |\n",
    "                        df_products.DESC_GPD.like('%BR-ATC CLARO IND%') |\n",
    "                        df_products.DESC_GPD.like('%BR-POLIDO%') |\n",
    "                        df_products.DESC_GPD.like('%BR-PERFIL BENEFICIADO%') |\n",
    "                        df_products.DESC_GPD.like('%BR-BOBINA LF%') |\n",
    "                        df_products.DESC_GPD.like('%BR-S-BARRA CTT%') |\n",
    "                        df_products.DESC_GPD.like('%BR-CHAPA AZ%') |\n",
    "                        df_products.DESC_GPD.like('%BR-FITA ZN%') |\n",
    "                        df_products.DESC_GPD.like('%BR-LDA%') |\n",
    "                        df_products.DESC_GPD.like('%BR-PIATINA CLARA%') |\n",
    "                        df_products.DESC_GPD.like('%BR-S-BARRA DESCASCADA%') |\n",
    "                        df_products.DESC_GPD.like('%BR-MESH%') |\n",
    "                        df_products.DESC_GPD.like('%BR-S-BARRA FORJADA FINA%') |\n",
    "                        df_products.DESC_GPD.like('%BR-S-BARRA RETIFICADA%') |\n",
    "                        df_products.DESC_GPD.like('%BR-S-BARRA TREFILADA%') |\n",
    "                        df_products.DESC_GPD.like('%BR-PLACA%') |\n",
    "                        df_products.DESC_GPD.like('%BR-COIL%') |\n",
    "                        df_products.DESC_GPD.like('%BR-S-FERRAMENTA%') |\n",
    "                        df_products.DESC_GPD.like('%BR-S-FIO MÁQUINA STT%') |\n",
    "                        df_products.DESC_GPD.like('%BR-ATC CLARO MOL COL%') |\n",
    "                        df_products.DESC_GPD.like('%BR-ATC GLV CP%') |\n",
    "                        df_products.DESC_GPD.like('%BR-B.CHATA LONGARINA%') |\n",
    "                        df_products.DESC_GPD.like('%BR-BT FORJARIA BLOCOS%') |\n",
    "                        df_products.DESC_GPD.like('%BR-TARUGO%') |\n",
    "                        df_products.DESC_GPD.like('%BR-DRAWING%') |\n",
    "                        df_products.DESC_GPD.like('%BR-ATC CLARO ENF ALG%') |\n",
    "                        df_products.DESC_GPD.like('%BR-PIATINA GLV%') |\n",
    "                        df_products.DESC_GPD.like('%BR-PERFIL DORMENTE%') |\n",
    "                        df_products.DESC_GPD.like('%BR-ATC%') |\n",
    "                        df_products.DESC_GPD.like('%BR-CHQ%') |\n",
    "                        df_products.DESC_GPD.like('%BR-ALMA DE ELETRODO%') |\n",
    "                        df_products.DESC_GPD.like('%BR-FIO MAQUINA%') |\n",
    "                        df_products.DESC_GPD.like('%BR-CHQ BORO%') |\n",
    "                        df_products.DESC_GPD.like('%BR-PERFIL GUIA ELEV%'))"
   ]
  },
  {
   "cell_type": "code",
   "execution_count": 163,
   "metadata": {},
   "outputs": [
    {
     "data": {
      "application/vnd.jupyter.widget-view+json": {
       "model_id": "2ee36ed0ac7443689469ed39b9848140",
       "version_major": 2,
       "version_minor": 0
      },
      "text/plain": [
       "VBox()"
      ]
     },
     "metadata": {},
     "output_type": "display_data"
    },
    {
     "data": {
      "application/vnd.jupyter.widget-view+json": {
       "model_id": "",
       "version_major": 2,
       "version_minor": 0
      },
      "text/plain": [
       "FloatProgress(value=0.0, bar_style='info', description='Progress:', layout=Layout(height='25px', width='50%'),…"
      ]
     },
     "metadata": {},
     "output_type": "display_data"
    }
   ],
   "source": [
    "# Filter the GPM within Smart Pricing scope\n",
    "df_products = df_products.filter(df_products.DESC_GPM.like('%PERFIS_ESTRUTURAIS%') |\n",
    "                        df_products.DESC_GPM.like('%VERGALHAO%') |\n",
    "                        df_products.DESC_GPM.like('%AMPLIADOS%') |\n",
    "                        df_products.DESC_GPM.like('%CORTE_DOBRA%') |\n",
    "                        df_products.DESC_GPM.like('%PREGOS%') |\n",
    "                        df_products.DESC_GPM.like('%B&P%') |\n",
    "                        df_products.DESC_GPM.like('%ARAMES_AGRO%') |\n",
    "                        df_products.DESC_GPM.like('%ARAMES_IND%') |\n",
    "                        df_products.DESC_GPM.like('%PLANOS_LQ%') |\n",
    "                        df_products.DESC_GPM.like('%PLANOS_REVESTIDOS%') |\n",
    "                        df_products.DESC_GPM.like('%PLANOS_LF%') |\n",
    "                        df_products.DESC_GPM.like('%PLANOS_LCG%') |\n",
    "                        df_products.DESC_GPM.like('%FIO_MAQUINA%') |\n",
    "                        df_products.DESC_GPM.like('%BT_FORJARIA%') |\n",
    "                        df_products.DESC_GPM.like('%PLACAS%') |\n",
    "                        df_products.DESC_GPM.like('%TARUGO%') | \n",
    "                        df_products.DESC_GPM.isNull())"
   ]
  },
  {
   "cell_type": "code",
   "execution_count": 164,
   "metadata": {},
   "outputs": [
    {
     "data": {
      "application/vnd.jupyter.widget-view+json": {
       "model_id": "1ca3650162fe4135ab9c3c1749c1cf38",
       "version_major": 2,
       "version_minor": 0
      },
      "text/plain": [
       "VBox()"
      ]
     },
     "metadata": {},
     "output_type": "display_data"
    },
    {
     "data": {
      "application/vnd.jupyter.widget-view+json": {
       "model_id": "",
       "version_major": 2,
       "version_minor": 0
      },
      "text/plain": [
       "FloatProgress(value=0.0, bar_style='info', description='Progress:', layout=Layout(height='25px', width='50%'),…"
      ]
     },
     "metadata": {},
     "output_type": "display_data"
    }
   ],
   "source": [
    "df_products = df_products.withColumnRenamed(\"COD_GPD\",\"GPD_COD\")"
   ]
  },
  {
   "cell_type": "markdown",
   "metadata": {},
   "source": [
    "---------------"
   ]
  },
  {
   "cell_type": "markdown",
   "metadata": {},
   "source": [
    "# Preparing SPG PEX"
   ]
  },
  {
   "cell_type": "code",
   "execution_count": 166,
   "metadata": {},
   "outputs": [
    {
     "data": {
      "application/vnd.jupyter.widget-view+json": {
       "model_id": "0e3ac39f6d9c48c3a0d25ff4500cf696",
       "version_major": 2,
       "version_minor": 0
      },
      "text/plain": [
       "VBox()"
      ]
     },
     "metadata": {},
     "output_type": "display_data"
    },
    {
     "data": {
      "application/vnd.jupyter.widget-view+json": {
       "model_id": "",
       "version_major": 2,
       "version_minor": 0
      },
      "text/plain": [
       "FloatProgress(value=0.0, bar_style='info', description='Progress:', layout=Layout(height='25px', width='50%'),…"
      ]
     },
     "metadata": {},
     "output_type": "display_data"
    }
   ],
   "source": [
    "df_pex = df_pex.withColumn(\"VOLUME\", normalizing_characters_2(normalizing_characters(col(\"VOLUME\"))))\\\n",
    "               .withColumn(\"VALUE_BRL\", normalizing_characters_2(normalizing_characters(col(\"VALUE_BRL\"))))"
   ]
  },
  {
   "cell_type": "code",
   "execution_count": 167,
   "metadata": {},
   "outputs": [
    {
     "data": {
      "application/vnd.jupyter.widget-view+json": {
       "model_id": "40204bc28eac4a078cc3cf473685ec1e",
       "version_major": 2,
       "version_minor": 0
      },
      "text/plain": [
       "VBox()"
      ]
     },
     "metadata": {},
     "output_type": "display_data"
    },
    {
     "data": {
      "application/vnd.jupyter.widget-view+json": {
       "model_id": "",
       "version_major": 2,
       "version_minor": 0
      },
      "text/plain": [
       "FloatProgress(value=0.0, bar_style='info', description='Progress:', layout=Layout(height='25px', width='50%'),…"
      ]
     },
     "metadata": {},
     "output_type": "display_data"
    }
   ],
   "source": [
    "# Creating a new column with the most recent date\n",
    "df_pex=df_pex.join(df_products, on=[\"GPD_COD\",\"SALES_ORG_COD\"], how=\"left\")\\"
   ]
  },
  {
   "cell_type": "code",
   "execution_count": 168,
   "metadata": {},
   "outputs": [
    {
     "data": {
      "application/vnd.jupyter.widget-view+json": {
       "model_id": "eb14015b4303480b84c3dd06cb9ac524",
       "version_major": 2,
       "version_minor": 0
      },
      "text/plain": [
       "VBox()"
      ]
     },
     "metadata": {},
     "output_type": "display_data"
    },
    {
     "data": {
      "application/vnd.jupyter.widget-view+json": {
       "model_id": "",
       "version_major": 2,
       "version_minor": 0
      },
      "text/plain": [
       "FloatProgress(value=0.0, bar_style='info', description='Progress:', layout=Layout(height='25px', width='50%'),…"
      ]
     },
     "metadata": {},
     "output_type": "display_data"
    },
    {
     "name": "stdout",
     "output_type": "stream",
     "text": [
      "DataFrame[GPD_COD: string, SALES_ORG_COD: string, VALUE_BRL: string, STATE: string, MONTH_YEAR: string, SALES_OFFICE: string, MEASURE_UNIT: string, VOLUME: string, DESC_GPD: string, DESC_GPM: string]"
     ]
    }
   ],
   "source": [
    "df_pex.persist(pyspark.StorageLevel.MEMORY_ONLY)"
   ]
  },
  {
   "cell_type": "code",
   "execution_count": 169,
   "metadata": {},
   "outputs": [
    {
     "data": {
      "application/vnd.jupyter.widget-view+json": {
       "model_id": "095eb66f68de4337983a90ed0fcc2095",
       "version_major": 2,
       "version_minor": 0
      },
      "text/plain": [
       "VBox()"
      ]
     },
     "metadata": {},
     "output_type": "display_data"
    },
    {
     "data": {
      "application/vnd.jupyter.widget-view+json": {
       "model_id": "",
       "version_major": 2,
       "version_minor": 0
      },
      "text/plain": [
       "FloatProgress(value=0.0, bar_style='info', description='Progress:', layout=Layout(height='25px', width='50%'),…"
      ]
     },
     "metadata": {},
     "output_type": "display_data"
    },
    {
     "name": "stdout",
     "output_type": "stream",
     "text": [
      "<pyspark.sql.readwriter.DataFrameWriter object at 0x7f122c3bb290>"
     ]
    }
   ],
   "source": [
    "# Creating partition with GPD\n",
    "\n",
    "df_pex.write.partitionBy(\"GPD_COD\")"
   ]
  },
  {
   "cell_type": "code",
   "execution_count": 170,
   "metadata": {},
   "outputs": [
    {
     "data": {
      "application/vnd.jupyter.widget-view+json": {
       "model_id": "300e3b751982411b947b9a7de1d03ba4",
       "version_major": 2,
       "version_minor": 0
      },
      "text/plain": [
       "VBox()"
      ]
     },
     "metadata": {},
     "output_type": "display_data"
    },
    {
     "data": {
      "application/vnd.jupyter.widget-view+json": {
       "model_id": "",
       "version_major": 2,
       "version_minor": 0
      },
      "text/plain": [
       "FloatProgress(value=0.0, bar_style='info', description='Progress:', layout=Layout(height='25px', width='50%'),…"
      ]
     },
     "metadata": {},
     "output_type": "display_data"
    }
   ],
   "source": [
    "# Repartitioning by GPD\n",
    "\n",
    "df_pex = df_pex.repartition(\"GPD_COD\")"
   ]
  },
  {
   "cell_type": "code",
   "execution_count": 171,
   "metadata": {},
   "outputs": [
    {
     "data": {
      "application/vnd.jupyter.widget-view+json": {
       "model_id": "b13991e31bc949ccb38d6da6281a479f",
       "version_major": 2,
       "version_minor": 0
      },
      "text/plain": [
       "VBox()"
      ]
     },
     "metadata": {},
     "output_type": "display_data"
    },
    {
     "data": {
      "application/vnd.jupyter.widget-view+json": {
       "model_id": "",
       "version_major": 2,
       "version_minor": 0
      },
      "text/plain": [
       "FloatProgress(value=0.0, bar_style='info', description='Progress:', layout=Layout(height='25px', width='50%'),…"
      ]
     },
     "metadata": {},
     "output_type": "display_data"
    },
    {
     "name": "stdout",
     "output_type": "stream",
     "text": [
      "DataFrame[GPD_COD: string, SALES_ORG_COD: string, VALUE_BRL: string, STATE: string, MONTH_YEAR: string, SALES_OFFICE: string, MEASURE_UNIT: string, VOLUME: string, DESC_GPD: string, DESC_GPM: string]"
     ]
    }
   ],
   "source": [
    "df_pex.persist(pyspark.StorageLevel.MEMORY_ONLY)"
   ]
  },
  {
   "cell_type": "markdown",
   "metadata": {},
   "source": [
    "-----------"
   ]
  },
  {
   "cell_type": "markdown",
   "metadata": {},
   "source": [
    "# Preparing PV Table"
   ]
  },
  {
   "cell_type": "code",
   "execution_count": 172,
   "metadata": {},
   "outputs": [
    {
     "data": {
      "application/vnd.jupyter.widget-view+json": {
       "model_id": "98d24ba03273429d933761986ebcb1e9",
       "version_major": 2,
       "version_minor": 0
      },
      "text/plain": [
       "VBox()"
      ]
     },
     "metadata": {},
     "output_type": "display_data"
    },
    {
     "data": {
      "application/vnd.jupyter.widget-view+json": {
       "model_id": "",
       "version_major": 2,
       "version_minor": 0
      },
      "text/plain": [
       "FloatProgress(value=0.0, bar_style='info', description='Progress:', layout=Layout(height='25px', width='50%'),…"
      ]
     },
     "metadata": {},
     "output_type": "display_data"
    }
   ],
   "source": [
    "df_view = df_view.withColumnRenamed(\"0unit\",\"MEASURE_UNIT\")\\\n",
    "                 .withColumnRenamed(\"0calmonth\",\"MONTH_YEAR\")\\\n",
    "                 .withColumnRenamed(\"gtc100208\",\"STATE\")\\\n",
    "                 .withColumnRenamed(\"gtc100362\",\"GPD_COD\")\\\n",
    "                 .withColumnRenamed(\"gtc100511\",\"SALES_ORG_COD\")\\\n",
    "                 .withColumnRenamed(\"gtc100507\",\"SALES_OFFICE\")\\\n",
    "                 .withColumnRenamed(\"gtk100312\",\"VOLUME\")\\"
   ]
  },
  {
   "cell_type": "code",
   "execution_count": 173,
   "metadata": {},
   "outputs": [
    {
     "data": {
      "application/vnd.jupyter.widget-view+json": {
       "model_id": "ad1ad84b6e6f45cebed18fc480590423",
       "version_major": 2,
       "version_minor": 0
      },
      "text/plain": [
       "VBox()"
      ]
     },
     "metadata": {},
     "output_type": "display_data"
    },
    {
     "data": {
      "application/vnd.jupyter.widget-view+json": {
       "model_id": "",
       "version_major": 2,
       "version_minor": 0
      },
      "text/plain": [
       "FloatProgress(value=0.0, bar_style='info', description='Progress:', layout=Layout(height='25px', width='50%'),…"
      ]
     },
     "metadata": {},
     "output_type": "display_data"
    }
   ],
   "source": [
    "df_view=df_view.fillna({'STATE':'NA'})"
   ]
  },
  {
   "cell_type": "code",
   "execution_count": 174,
   "metadata": {},
   "outputs": [
    {
     "data": {
      "application/vnd.jupyter.widget-view+json": {
       "model_id": "25a55912d9634193953506a107b40d9e",
       "version_major": 2,
       "version_minor": 0
      },
      "text/plain": [
       "VBox()"
      ]
     },
     "metadata": {},
     "output_type": "display_data"
    },
    {
     "data": {
      "application/vnd.jupyter.widget-view+json": {
       "model_id": "",
       "version_major": 2,
       "version_minor": 0
      },
      "text/plain": [
       "FloatProgress(value=0.0, bar_style='info', description='Progress:', layout=Layout(height='25px', width='50%'),…"
      ]
     },
     "metadata": {},
     "output_type": "display_data"
    }
   ],
   "source": [
    "df_view=df_view.withColumn(\"CURRENT_DATE\", concat(year(date_add(current_timestamp(),-1))\n",
    "                                              ,when(month(date_add(current_timestamp(),-1)) >= \"10\", month(date_add(current_timestamp(),-1)))\n",
    "                                                   .otherwise(concat(lit(\"0\")\n",
    "                                                                    ,month(date_add(current_timestamp(),-1))))))\\"
   ]
  },
  {
   "cell_type": "code",
   "execution_count": 175,
   "metadata": {},
   "outputs": [
    {
     "data": {
      "application/vnd.jupyter.widget-view+json": {
       "model_id": "06db414178e141258ab3c060aa24dab1",
       "version_major": 2,
       "version_minor": 0
      },
      "text/plain": [
       "VBox()"
      ]
     },
     "metadata": {},
     "output_type": "display_data"
    },
    {
     "data": {
      "application/vnd.jupyter.widget-view+json": {
       "model_id": "",
       "version_major": 2,
       "version_minor": 0
      },
      "text/plain": [
       "FloatProgress(value=0.0, bar_style='info', description='Progress:', layout=Layout(height='25px', width='50%'),…"
      ]
     },
     "metadata": {},
     "output_type": "display_data"
    }
   ],
   "source": [
    "df_view=df_view.filter((df_view[\"MONTH_YEAR\"] >= df_view[\"CURRENT_DATE\"]))\\\n",
    "                  .drop(\"CURRENT_DATE\")"
   ]
  },
  {
   "cell_type": "code",
   "execution_count": 176,
   "metadata": {},
   "outputs": [
    {
     "data": {
      "application/vnd.jupyter.widget-view+json": {
       "model_id": "fcc0d1246ece466cbbd0c2202f9652cf",
       "version_major": 2,
       "version_minor": 0
      },
      "text/plain": [
       "VBox()"
      ]
     },
     "metadata": {},
     "output_type": "display_data"
    },
    {
     "data": {
      "application/vnd.jupyter.widget-view+json": {
       "model_id": "",
       "version_major": 2,
       "version_minor": 0
      },
      "text/plain": [
       "FloatProgress(value=0.0, bar_style='info', description='Progress:', layout=Layout(height='25px', width='50%'),…"
      ]
     },
     "metadata": {},
     "output_type": "display_data"
    }
   ],
   "source": [
    "df_view = df_view.select(\"MEASURE_UNIT\", \"MONTH_YEAR\", \"STATE\", \"GPD_COD\", \"SALES_ORG_COD\", \"SALES_OFFICE\", \"VOLUME\")\\"
   ]
  },
  {
   "cell_type": "code",
   "execution_count": 177,
   "metadata": {},
   "outputs": [
    {
     "data": {
      "application/vnd.jupyter.widget-view+json": {
       "model_id": "6490de0c9c274c43bf0b439a12345496",
       "version_major": 2,
       "version_minor": 0
      },
      "text/plain": [
       "VBox()"
      ]
     },
     "metadata": {},
     "output_type": "display_data"
    },
    {
     "data": {
      "application/vnd.jupyter.widget-view+json": {
       "model_id": "",
       "version_major": 2,
       "version_minor": 0
      },
      "text/plain": [
       "FloatProgress(value=0.0, bar_style='info', description='Progress:', layout=Layout(height='25px', width='50%'),…"
      ]
     },
     "metadata": {},
     "output_type": "display_data"
    }
   ],
   "source": [
    "df_view = df_view.withColumn(\"VOLUME\", normalizing_characters_2(normalizing_characters(col(\"VOLUME\"))))"
   ]
  },
  {
   "cell_type": "code",
   "execution_count": 178,
   "metadata": {},
   "outputs": [
    {
     "data": {
      "application/vnd.jupyter.widget-view+json": {
       "model_id": "6ff05a0ab4454f8daed6a27081b3a6dd",
       "version_major": 2,
       "version_minor": 0
      },
      "text/plain": [
       "VBox()"
      ]
     },
     "metadata": {},
     "output_type": "display_data"
    },
    {
     "data": {
      "application/vnd.jupyter.widget-view+json": {
       "model_id": "",
       "version_major": 2,
       "version_minor": 0
      },
      "text/plain": [
       "FloatProgress(value=0.0, bar_style='info', description='Progress:', layout=Layout(height='25px', width='50%'),…"
      ]
     },
     "metadata": {},
     "output_type": "display_data"
    }
   ],
   "source": [
    "df_pv=df_pv.unionByName(df_view).dropDuplicates()"
   ]
  },
  {
   "cell_type": "code",
   "execution_count": 179,
   "metadata": {},
   "outputs": [
    {
     "data": {
      "application/vnd.jupyter.widget-view+json": {
       "model_id": "b135273382004df7a710171f4a03668f",
       "version_major": 2,
       "version_minor": 0
      },
      "text/plain": [
       "VBox()"
      ]
     },
     "metadata": {},
     "output_type": "display_data"
    },
    {
     "data": {
      "application/vnd.jupyter.widget-view+json": {
       "model_id": "",
       "version_major": 2,
       "version_minor": 0
      },
      "text/plain": [
       "FloatProgress(value=0.0, bar_style='info', description='Progress:', layout=Layout(height='25px', width='50%'),…"
      ]
     },
     "metadata": {},
     "output_type": "display_data"
    }
   ],
   "source": [
    "# Creating a new column with the most recent date\n",
    "df_pv=df_pv.join(df_products, on=[\"GPD_COD\",\"SALES_ORG_COD\"], how=\"left\")\\\n",
    "            .dropDuplicates()"
   ]
  },
  {
   "cell_type": "code",
   "execution_count": 180,
   "metadata": {},
   "outputs": [
    {
     "data": {
      "application/vnd.jupyter.widget-view+json": {
       "model_id": "baa3191e6569438faca3f62313477943",
       "version_major": 2,
       "version_minor": 0
      },
      "text/plain": [
       "VBox()"
      ]
     },
     "metadata": {},
     "output_type": "display_data"
    },
    {
     "data": {
      "application/vnd.jupyter.widget-view+json": {
       "model_id": "",
       "version_major": 2,
       "version_minor": 0
      },
      "text/plain": [
       "FloatProgress(value=0.0, bar_style='info', description='Progress:', layout=Layout(height='25px', width='50%'),…"
      ]
     },
     "metadata": {},
     "output_type": "display_data"
    },
    {
     "name": "stdout",
     "output_type": "stream",
     "text": [
      "<pyspark.sql.readwriter.DataFrameWriter object at 0x7f122c3bb290>"
     ]
    }
   ],
   "source": [
    "# Creating partition with GPD\n",
    "\n",
    "df_pv.write.partitionBy(\"GPD_COD\")"
   ]
  },
  {
   "cell_type": "code",
   "execution_count": 181,
   "metadata": {},
   "outputs": [
    {
     "data": {
      "application/vnd.jupyter.widget-view+json": {
       "model_id": "b1ce4398e88e4286a6c6bf1a310de7cb",
       "version_major": 2,
       "version_minor": 0
      },
      "text/plain": [
       "VBox()"
      ]
     },
     "metadata": {},
     "output_type": "display_data"
    },
    {
     "data": {
      "application/vnd.jupyter.widget-view+json": {
       "model_id": "",
       "version_major": 2,
       "version_minor": 0
      },
      "text/plain": [
       "FloatProgress(value=0.0, bar_style='info', description='Progress:', layout=Layout(height='25px', width='50%'),…"
      ]
     },
     "metadata": {},
     "output_type": "display_data"
    }
   ],
   "source": [
    "# Repartitioning by GPD\n",
    "\n",
    "df_pv = df_pv.repartition(\"GPD_COD\")"
   ]
  },
  {
   "cell_type": "code",
   "execution_count": 182,
   "metadata": {
    "scrolled": false
   },
   "outputs": [
    {
     "data": {
      "application/vnd.jupyter.widget-view+json": {
       "model_id": "bb0253e06f254361a1cb9bfbdede5bb0",
       "version_major": 2,
       "version_minor": 0
      },
      "text/plain": [
       "VBox()"
      ]
     },
     "metadata": {},
     "output_type": "display_data"
    },
    {
     "data": {
      "application/vnd.jupyter.widget-view+json": {
       "model_id": "",
       "version_major": 2,
       "version_minor": 0
      },
      "text/plain": [
       "FloatProgress(value=0.0, bar_style='info', description='Progress:', layout=Layout(height='25px', width='50%'),…"
      ]
     },
     "metadata": {},
     "output_type": "display_data"
    },
    {
     "name": "stdout",
     "output_type": "stream",
     "text": [
      "DataFrame[GPD_COD: string, SALES_ORG_COD: string, MEASURE_UNIT: string, MONTH_YEAR: string, STATE: string, SALES_OFFICE: string, VOLUME: string, DESC_GPD: string, DESC_GPM: string]"
     ]
    }
   ],
   "source": [
    "df_pv.persist(pyspark.StorageLevel.MEMORY_ONLY)"
   ]
  },
  {
   "cell_type": "markdown",
   "metadata": {},
   "source": [
    "---------------"
   ]
  },
  {
   "cell_type": "markdown",
   "metadata": {},
   "source": [
    "# Uploading Tables"
   ]
  },
  {
   "cell_type": "code",
   "execution_count": 183,
   "metadata": {},
   "outputs": [
    {
     "data": {
      "application/vnd.jupyter.widget-view+json": {
       "model_id": "5e2c434979d04de99a567fb506a63deb",
       "version_major": 2,
       "version_minor": 0
      },
      "text/plain": [
       "VBox()"
      ]
     },
     "metadata": {},
     "output_type": "display_data"
    },
    {
     "data": {
      "application/vnd.jupyter.widget-view+json": {
       "model_id": "",
       "version_major": 2,
       "version_minor": 0
      },
      "text/plain": [
       "FloatProgress(value=0.0, bar_style='info', description='Progress:', layout=Layout(height='25px', width='50%'),…"
      ]
     },
     "metadata": {},
     "output_type": "display_data"
    }
   ],
   "source": [
    "df_pv.write.parquet(\"s3a://\"+SPG_OUTPUT_BUCKET+\"/\"+SPG_OUTPUT_BUCKET_TEMP, mode = \"overwrite\")"
   ]
  },
  {
   "cell_type": "code",
   "execution_count": 184,
   "metadata": {},
   "outputs": [
    {
     "data": {
      "application/vnd.jupyter.widget-view+json": {
       "model_id": "58b24b0715614b5b9ce25c91eb27b191",
       "version_major": 2,
       "version_minor": 0
      },
      "text/plain": [
       "VBox()"
      ]
     },
     "metadata": {},
     "output_type": "display_data"
    },
    {
     "data": {
      "application/vnd.jupyter.widget-view+json": {
       "model_id": "",
       "version_major": 2,
       "version_minor": 0
      },
      "text/plain": [
       "FloatProgress(value=0.0, bar_style='info', description='Progress:', layout=Layout(height='25px', width='50%'),…"
      ]
     },
     "metadata": {},
     "output_type": "display_data"
    }
   ],
   "source": [
    "df_temp = spark.read.parquet(\"s3a://\"+SPG_INPUT_BUCKET+\"/\"+SPG_INPUT_BUCKET_TEMP).dropDuplicates().cache()"
   ]
  },
  {
   "cell_type": "code",
   "execution_count": 185,
   "metadata": {},
   "outputs": [
    {
     "data": {
      "application/vnd.jupyter.widget-view+json": {
       "model_id": "9daa3d96a96f4ab68419e0fccb27548f",
       "version_major": 2,
       "version_minor": 0
      },
      "text/plain": [
       "VBox()"
      ]
     },
     "metadata": {},
     "output_type": "display_data"
    },
    {
     "data": {
      "application/vnd.jupyter.widget-view+json": {
       "model_id": "",
       "version_major": 2,
       "version_minor": 0
      },
      "text/plain": [
       "FloatProgress(value=0.0, bar_style='info', description='Progress:', layout=Layout(height='25px', width='50%'),…"
      ]
     },
     "metadata": {},
     "output_type": "display_data"
    }
   ],
   "source": [
    "df_temp.write.parquet(\"s3a://\"+SPG_OUTPUT_BUCKET+\"/\"+SPG_OUTPUT_BUCKET_PV, mode = \"overwrite\")"
   ]
  },
  {
   "cell_type": "code",
   "execution_count": 107,
   "metadata": {},
   "outputs": [
    {
     "data": {
      "application/vnd.jupyter.widget-view+json": {
       "model_id": "e8b1e9a4e9194f699309564e17009278",
       "version_major": 2,
       "version_minor": 0
      },
      "text/plain": [
       "VBox()"
      ]
     },
     "metadata": {},
     "output_type": "display_data"
    },
    {
     "data": {
      "application/vnd.jupyter.widget-view+json": {
       "model_id": "",
       "version_major": 2,
       "version_minor": 0
      },
      "text/plain": [
       "FloatProgress(value=0.0, bar_style='info', description='Progress:', layout=Layout(height='25px', width='50%'),…"
      ]
     },
     "metadata": {},
     "output_type": "display_data"
    }
   ],
   "source": [
    "df_pex.write.parquet(\"s3a://\"+SPG_OUTPUT_BUCKET+\"/\"+SPG_OUTPUT_BUCKET_PEX, mode = \"overwrite\")"
   ]
  },
  {
   "cell_type": "code",
   "execution_count": null,
   "metadata": {},
   "outputs": [],
   "source": []
  }
 ],
 "metadata": {
  "kernelspec": {
   "display_name": "Python 3",
   "language": "python",
   "name": "python3"
  },
  "language_info": {
   "codemirror_mode": {
    "name": "ipython",
    "version": 3
   },
   "file_extension": ".py",
   "mimetype": "text/x-python",
   "name": "python",
   "nbconvert_exporter": "python",
   "pygments_lexer": "ipython3",
   "version": "3.7.5"
  }
 },
 "nbformat": 4,
 "nbformat_minor": 2
}
