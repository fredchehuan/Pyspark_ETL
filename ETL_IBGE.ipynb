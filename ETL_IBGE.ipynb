{
 "cells": [
  {
   "cell_type": "markdown",
   "metadata": {},
   "source": [
    "# Import Libraries "
   ]
  },
  {
   "cell_type": "code",
   "execution_count": 2,
   "metadata": {},
   "outputs": [
    {
     "data": {
      "application/vnd.jupyter.widget-view+json": {
       "model_id": "61fcbb9d390f488ab04f0368fe1b4507",
       "version_major": 2,
       "version_minor": 0
      },
      "text/plain": [
       "VBox()"
      ]
     },
     "metadata": {},
     "output_type": "display_data"
    },
    {
     "name": "stdout",
     "output_type": "stream",
     "text": [
      "Starting Spark application\n"
     ]
    },
    {
     "data": {
      "text/html": [
       "<table>\n",
       "<tr><th>ID</th><th>YARN Application ID</th><th>Kind</th><th>State</th><th>Spark UI</th><th>Driver log</th><th>Current session?</th></tr><tr><td>0</td><td>application_1576061099095_0001</td><td>pyspark</td><td>idle</td><td><a target=\"_blank\" href=\"http://ip-172-31-25-62.us-east-2.compute.internal:20888/proxy/application_1576061099095_0001/\">Link</a></td><td><a target=\"_blank\" href=\"http://ip-172-31-16-102.us-east-2.compute.internal:8042/node/containerlogs/container_1576061099095_0001_01_000001/livy\">Link</a></td><td>✔</td></tr></table>"
      ],
      "text/plain": [
       "<IPython.core.display.HTML object>"
      ]
     },
     "metadata": {},
     "output_type": "display_data"
    },
    {
     "data": {
      "application/vnd.jupyter.widget-view+json": {
       "model_id": "",
       "version_major": 2,
       "version_minor": 0
      },
      "text/plain": [
       "FloatProgress(value=0.0, bar_style='info', description='Progress:', layout=Layout(height='25px', width='50%'),…"
      ]
     },
     "metadata": {},
     "output_type": "display_data"
    },
    {
     "name": "stdout",
     "output_type": "stream",
     "text": [
      "SparkSession available as 'spark'.\n"
     ]
    },
    {
     "data": {
      "application/vnd.jupyter.widget-view+json": {
       "model_id": "",
       "version_major": 2,
       "version_minor": 0
      },
      "text/plain": [
       "FloatProgress(value=0.0, bar_style='info', description='Progress:', layout=Layout(height='25px', width='50%'),…"
      ]
     },
     "metadata": {},
     "output_type": "display_data"
    }
   ],
   "source": [
    "import findspark                                      #Import library to Search for Spark Installation  \n",
    "\n",
    "findspark.init()                                      #Search Spark Installation\n",
    "\n",
    "import pandas as pd                                   #Import Pandas\n",
    "import requests\n",
    "from pandas.io.json import json_normalize             #Import JSON normalizer \n",
    "import json\n",
    "\n",
    "from pyspark.sql import SparkSession                  # Import of Spark Session\n",
    "from pyspark import SparkContext as spark             # Import the Regular Spark Contex\n",
    "from pyspark.sql.functions import *\n",
    "from pyspark.sql.types import *\n",
    "spark = SparkSession.builder.getOrCreate()\n",
    "import os\n",
    "\n",
    "import pyarrow.parquet as pq                          #Create Parquet File\n",
    "\n",
    "sc = spark.sparkContext                               #Initialize Spark"
   ]
  },
  {
   "cell_type": "markdown",
   "metadata": {},
   "source": [
    "----------"
   ]
  },
  {
   "cell_type": "markdown",
   "metadata": {},
   "source": [
    "# Creating Variables"
   ]
  },
  {
   "cell_type": "markdown",
   "metadata": {},
   "source": [
    "## Buckets"
   ]
  },
  {
   "cell_type": "code",
   "execution_count": null,
   "metadata": {},
   "outputs": [],
   "source": [
    "SPG_OUTPUT_BUCKET = os.environ['INTEGRATION_INPUT_BUCKET']"
   ]
  },
  {
   "cell_type": "markdown",
   "metadata": {},
   "source": [
    "## Output Paths"
   ]
  },
  {
   "cell_type": "code",
   "execution_count": null,
   "metadata": {},
   "outputs": [],
   "source": [
    "SPG_BUCKET_IBGE_OUTPUT_PATH = \"SPG_DIMENSIONS/SPG_REGIOES/SPG_RG_IBGE/SPG_RG_IBGE.parquet\""
   ]
  },
  {
   "cell_type": "markdown",
   "metadata": {},
   "source": [
    "## Creating Global Variables"
   ]
  },
  {
   "cell_type": "code",
   "execution_count": 3,
   "metadata": {},
   "outputs": [
    {
     "data": {
      "application/vnd.jupyter.widget-view+json": {
       "model_id": "5141e128f4934a66aa3f829834741525",
       "version_major": 2,
       "version_minor": 0
      },
      "text/plain": [
       "VBox()"
      ]
     },
     "metadata": {},
     "output_type": "display_data"
    },
    {
     "data": {
      "application/vnd.jupyter.widget-view+json": {
       "model_id": "",
       "version_major": 2,
       "version_minor": 0
      },
      "text/plain": [
       "FloatProgress(value=0.0, bar_style='info', description='Progress:', layout=Layout(height='25px', width='50%'),…"
      ]
     },
     "metadata": {},
     "output_type": "display_data"
    }
   ],
   "source": [
    "state_list_text = []       #Array with States as Text\n",
    "state_list_json = []       #Array with States as JSON \n",
    "cities_list_text = []      #Array with Cities as Text\n",
    "cities_list_json = []      #Array with Cities as JSON\n",
    "df_cities = pd.DataFrame() #Dataframe with Cities"
   ]
  },
  {
   "cell_type": "code",
   "execution_count": 4,
   "metadata": {},
   "outputs": [
    {
     "data": {
      "application/vnd.jupyter.widget-view+json": {
       "model_id": "e5e16fcb34b54e7c98900f4e889e61a8",
       "version_major": 2,
       "version_minor": 0
      },
      "text/plain": [
       "VBox()"
      ]
     },
     "metadata": {},
     "output_type": "display_data"
    },
    {
     "data": {
      "application/vnd.jupyter.widget-view+json": {
       "model_id": "",
       "version_major": 2,
       "version_minor": 0
      },
      "text/plain": [
       "FloatProgress(value=0.0, bar_style='info', description='Progress:', layout=Layout(height='25px', width='50%'),…"
      ]
     },
     "metadata": {},
     "output_type": "display_data"
    }
   ],
   "source": [
    "states_URL = \"https://servicodados.ibge.gov.br/api/v1/localidades/estados\"\n",
    "cities_main_URL = \"https://servicodados.ibge.gov.br/api/v1/localidades/estados/\"\n",
    "cities_URL_complement = \"/municipios\"\n",
    "\n",
    "headers = {\n",
    "            'User-Agent': 'Mozilla/5.0 (X11; Linux x86_64) AppleWebKit/537.36 (KHTML, like Gecko) Chrome/51.0.2704.103 Safari/537.36'\n",
    "          }           #Header Configuration"
   ]
  },
  {
   "cell_type": "markdown",
   "metadata": {},
   "source": [
    "# Call State API And Transform to Pandas DF"
   ]
  },
  {
   "cell_type": "code",
   "execution_count": 5,
   "metadata": {},
   "outputs": [
    {
     "data": {
      "application/vnd.jupyter.widget-view+json": {
       "model_id": "a75f09c7ec0646f5b17b6f6d3404418a",
       "version_major": 2,
       "version_minor": 0
      },
      "text/plain": [
       "VBox()"
      ]
     },
     "metadata": {},
     "output_type": "display_data"
    },
    {
     "data": {
      "application/vnd.jupyter.widget-view+json": {
       "model_id": "",
       "version_major": 2,
       "version_minor": 0
      },
      "text/plain": [
       "FloatProgress(value=0.0, bar_style='info', description='Progress:', layout=Layout(height='25px', width='50%'),…"
      ]
     },
     "metadata": {},
     "output_type": "display_data"
    }
   ],
   "source": [
    "state_list_text = requests.get(states_URL, headers=headers).text  #Getting the total number of states and there IDs as Text\n",
    "state_list_json = json.loads(state_list_text)                        #Converting the \"state_list_text\" as JSON\n",
    "states_normalized = json_normalize(state_list_json)                  #Normalizing the JSON\n",
    "df_state = pd.DataFrame(states_normalized)                           #Creating a Pandas DF with the Normalized JSON"
   ]
  },
  {
   "cell_type": "markdown",
   "metadata": {},
   "source": [
    "# For Loop that Call the Cities API, Load, Normalize and Insert into a DataFrame"
   ]
  },
  {
   "cell_type": "code",
   "execution_count": 6,
   "metadata": {},
   "outputs": [
    {
     "data": {
      "application/vnd.jupyter.widget-view+json": {
       "model_id": "7cbc805f472445ad843ce7dc84d391e8",
       "version_major": 2,
       "version_minor": 0
      },
      "text/plain": [
       "VBox()"
      ]
     },
     "metadata": {},
     "output_type": "display_data"
    },
    {
     "data": {
      "application/vnd.jupyter.widget-view+json": {
       "model_id": "",
       "version_major": 2,
       "version_minor": 0
      },
      "text/plain": [
       "FloatProgress(value=0.0, bar_style='info', description='Progress:', layout=Layout(height='25px', width='50%'),…"
      ]
     },
     "metadata": {},
     "output_type": "display_data"
    }
   ],
   "source": [
    "for i, row in df_state.iterrows():                                                          #Getting all the cities per states\n",
    "    cities_list_text = requests.get(cities_main_URL\n",
    "                                    + str(df_state.id[i])\n",
    "                                    + cities_URL_complement\n",
    "                                    , headers=headers).text                                 # Call the city API\n",
    "    cities_list_json = json.loads(cities_list_text)                                         # Load the cities_list_text as JSON                  \n",
    "    cities_normalized = json_normalize(cities_list_json)                                    # Normalize the JSON as Table \n",
    "    df_cities = df_cities.append(cities_normalized, ignore_index=True)                      # Append to df_cities DataFrame"
   ]
  },
  {
   "cell_type": "markdown",
   "metadata": {},
   "source": [
    "# Change the Columns Name"
   ]
  },
  {
   "cell_type": "code",
   "execution_count": 7,
   "metadata": {},
   "outputs": [
    {
     "data": {
      "application/vnd.jupyter.widget-view+json": {
       "model_id": "060700b4565b421498601abc3bedcc5b",
       "version_major": 2,
       "version_minor": 0
      },
      "text/plain": [
       "VBox()"
      ]
     },
     "metadata": {},
     "output_type": "display_data"
    },
    {
     "data": {
      "application/vnd.jupyter.widget-view+json": {
       "model_id": "",
       "version_major": 2,
       "version_minor": 0
      },
      "text/plain": [
       "FloatProgress(value=0.0, bar_style='info', description='Progress:', layout=Layout(height='25px', width='50%'),…"
      ]
     },
     "metadata": {},
     "output_type": "display_data"
    }
   ],
   "source": [
    "df_cities = df_cities.rename(index=str, columns={\"id\": \"IBGE_ID\"\n",
    "                                                 ,\"nome\":\"IBGE_NAME\"\n",
    "                                                 ,\"microrregiao.id\": \"IBGE_MICRO_ID\"\n",
    "                                                 ,\"microrregiao.nome\":\"IBGE_MICRO_NAME\"\n",
    "                                                 ,\"microrregiao.mesorregiao.UF.id\": \"IBGE_UF_ID\"\n",
    "                                                 ,\"microrregiao.mesorregiao.UF.nome\": \"IBGE_UF_NAME\"\n",
    "                                                 ,\"microrregiao.mesorregiao.UF.regiao.id\": \"IBGE_REGION_ID\"\n",
    "                                                 ,\"microrregiao.mesorregiao.UF.regiao.nome\": \"IBGE_REGION_NAME\"\n",
    "                                                 ,\"microrregiao.mesorregiao.UF.regiao.sigla\": \"IBGE_REGION_ACRONYMS\"\n",
    "                                                 ,\"microrregiao.mesorregiao.UF.sigla\":\"IBGE_UF_ACRONYMS\"\n",
    "                                                 ,\"microrregiao.mesorregiao.id\":\"IBGE_MESO_ID\"\n",
    "                                                 ,\"microrregiao.mesorregiao.nome\":\"IBGE_MESO_NAME\"})                 #Chaging the name of the columns"
   ]
  },
  {
   "cell_type": "code",
   "execution_count": null,
   "metadata": {},
   "outputs": [],
   "source": [
    "spark_df_IBGE_cities = spark.createDataFrame(df_cities)                                   #Converting the df_cities (Pandas Df) to a Spark DF\n",
    "spark_df_IBGE_cities = spark_df_IBGE_cities.repartition(144)                  #Repartitioning the Spark DF"
   ]
  },
  {
   "cell_type": "code",
   "execution_count": null,
   "metadata": {},
   "outputs": [],
   "source": [
    "spark_df_IBGE_cities.write.parquet(\"s3a://\"+SPG_OUTPUT_BUCKET+\"/\"+SPG_BUCKET_IBGE_OUTPUT_PATH, mode = \"overwrite\")"
   ]
  }
 ],
 "metadata": {
  "kernelspec": {
   "display_name": "Python 3",
   "language": "python",
   "name": "python3"
  },
  "language_info": {
   "codemirror_mode": {
    "name": "ipython",
    "version": 3
   },
   "file_extension": ".py",
   "mimetype": "text/x-python",
   "name": "python",
   "nbconvert_exporter": "python",
   "pygments_lexer": "ipython3",
   "version": "3.7.5"
  }
 },
 "nbformat": 4,
 "nbformat_minor": 2
}
